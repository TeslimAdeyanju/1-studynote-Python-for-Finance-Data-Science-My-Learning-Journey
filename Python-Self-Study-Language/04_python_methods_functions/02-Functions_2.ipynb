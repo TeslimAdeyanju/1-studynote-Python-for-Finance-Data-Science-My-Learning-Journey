{
 "cells": [
  {
   "cell_type": "markdown",
   "metadata": {},
   "source": [
    "# FUNCTION (2)"
   ]
  },
  {
   "cell_type": "markdown",
   "metadata": {},
   "source": [
    "## Introduction\n",
    "___"
   ]
  },
  {
   "cell_type": "markdown",
   "metadata": {},
   "source": [
    "A function is a block of code which only runs when it is called. You can pass data, known as parameters, into a function.\n",
    "A function can return data as a result.\n",
    "\n",
    "There are different types of function:\n",
    "- Python user-defined functions\n",
    "- Python lambda function\n",
    "- Python recursion function\n",
    "- Python built-in functions "
   ]
  },
  {
   "cell_type": "markdown",
   "metadata": {},
   "source": [
    "## 1. Python user-defined functions\n",
    "____"
   ]
  },
  {
   "cell_type": "markdown",
   "metadata": {},
   "source": [
    "#### Introduction\n",
    "___"
   ]
  },
  {
   "cell_type": "markdown",
   "metadata": {},
   "source": [
    " Python lets us group a sequence of statements into a single entity, called a function. A Python function may or may not have a name. \n",
    "\n",
    " Advantages of User-defined Functions in Python\n",
    "\n",
    "- This Python Function help divide a program into modules. \n",
    "- This makes the code easier to manage, debug, and scale.\n",
    "- It implements code reuse. Every time you need to execute a sequence of statements, all you need to do is to call the function.\n",
    "- This Python Function allow us to change functionality easily, and different programmers can work on different functions.\n",
    "\n",
    "**Defining a Function in Python**\n",
    "- To define your own Python function, you use the `def` keyword before its name. And its name is to be followed by parentheses, before a colon(:).\n",
    "\n",
    "- The contents inside the body of the function must be equally indented.\n",
    "\n",
    "We can use a `docstring` right under the first line of a function declaration. This is a documentation string, and it explains what the function does."
   ]
  },
  {
   "cell_type": "code",
   "execution_count": 6,
   "metadata": {},
   "outputs": [],
   "source": [
    "def func1():\n",
    "    \"\"\"\n",
    "    This is the docstring\n",
    "    \"\"\"\n",
    "    print(\"Hello\")"
   ]
  },
  {
   "cell_type": "markdown",
   "metadata": {},
   "source": [
    "You can access this docstring using the `__doc__` attribute of the function."
   ]
  },
  {
   "cell_type": "code",
   "execution_count": 2,
   "metadata": {},
   "outputs": [
    {
     "name": "stdout",
     "output_type": "stream",
     "text": [
      "\n",
      "           This is the docstring\n",
      "           \n"
     ]
    }
   ],
   "source": [
    "print(func1.__doc__)"
   ]
  },
  {
   "cell_type": "markdown",
   "metadata": {},
   "source": [
    "If you don’t yet know what to put in the function, then you should put the `pass` statement in its body. If you leave its body empty, you get an error “Expected an indented block”."
   ]
  },
  {
   "cell_type": "code",
   "execution_count": 7,
   "metadata": {},
   "outputs": [],
   "source": [
    "def hello1():\n",
    "       pass\n",
    "hello1()"
   ]
  },
  {
   "cell_type": "markdown",
   "metadata": {},
   "source": [
    "### Rules for naming python function (identifier)\n",
    "____"
   ]
  },
  {
   "cell_type": "markdown",
   "metadata": {},
   "source": [
    "We follow the same rules when naming a function as we do when naming a variable.\n",
    "\n",
    "- It can begin with either of the following: A-Z, a-z, and underscore(_).\n",
    "- The rest of it can contain either of the following: A-Z, a-z, digits(0-9), and underscore(_).\n",
    "- A reserved keyword may not be chosen as an identifier.\n",
    "- It is good practice to name a Python function according to what it does."
   ]
  },
  {
   "cell_type": "markdown",
   "metadata": {},
   "source": [
    "### Scope and Lifetime of Variables in Python\n",
    "___"
   ]
  },
  {
   "cell_type": "markdown",
   "metadata": {},
   "source": [
    "A variable can be declare inside or outside a function, and with this concept, we have local and global declaration of variable in function. \n",
    "\n",
    "In Python, a variable declared inside a function is known as a local variable. This variable is present in the local space, not in the global space, which means it can only be accessed inside the function in which it is declared. Once the function call is over, the local variable is destroyed and cannot be accessed outside the function.\n",
    "\n",
    "On the other hand, a variable declared outside a function or in global space is known as a global variable. This variable can be accessed anywhere in the program, both inside and outside of functions."
   ]
  },
  {
   "cell_type": "markdown",
   "metadata": {},
   "source": [
    "**Local Scope**\n",
    "\n",
    "A variable that’s declared inside a function has a local scope. In other words, it is local to that function. Variables defined within a function have local scope. They are only accessible within the function in which they are defined."
   ]
  },
  {
   "cell_type": "code",
   "execution_count": 8,
   "metadata": {},
   "outputs": [
    {
     "name": "stdout",
     "output_type": "stream",
     "text": [
      "Inside the function, variable is: 10\n"
     ]
    }
   ],
   "source": [
    "def my_function(): \n",
    "    m = 10  # This is a local variable\n",
    "    print(\"Inside the function, variable is:\", m)\n",
    "\n",
    "# Call the function\n",
    "my_function()"
   ]
  },
  {
   "cell_type": "code",
   "execution_count": 9,
   "metadata": {},
   "outputs": [],
   "source": [
    "# print (\"Outside the function, x is:\", m) # This will give an error"
   ]
  },
  {
   "cell_type": "markdown",
   "metadata": {},
   "source": [
    "In this example, m is a local variable defined within the my_function() function. It can only be accessed within the function. Attempting to access m outside the function will result in a NameError because m is not defined in the global scope."
   ]
  },
  {
   "cell_type": "markdown",
   "metadata": {},
   "source": [
    "**Global Scope** \n",
    "\n",
    "When you declare a variable outside python function, or anything else, it has global scope. It means that it is visible everywhere within the program."
   ]
  },
  {
   "cell_type": "code",
   "execution_count": null,
   "metadata": {},
   "outputs": [
    {
     "name": "stdout",
     "output_type": "stream",
     "text": [
      "Inside the function, y is: 20\n"
     ]
    }
   ],
   "source": [
    "y = 20  # This is a global variable\n",
    "\n",
    "def my_function():\n",
    "    print(\"Inside the function, y is:\", y)\n",
    "\n",
    "# Call the function\n",
    "my_function()"
   ]
  },
  {
   "cell_type": "code",
   "execution_count": null,
   "metadata": {},
   "outputs": [
    {
     "name": "stdout",
     "output_type": "stream",
     "text": [
      "Outside the function, y is: 20\n"
     ]
    }
   ],
   "source": [
    "# calling a global variable outside the function\n",
    "print(\"Outside the function, y is:\", y)"
   ]
  },
  {
   "cell_type": "markdown",
   "metadata": {},
   "source": [
    "In this example, y is a global variable defined outside of any function. It can be accessed both inside and outside the my_function() function because it has global scope.\n"
   ]
  },
  {
   "cell_type": "markdown",
   "metadata": {},
   "source": [
    "#### Using Global Variables Inside a Function:\n",
    "___"
   ]
  },
  {
   "cell_type": "markdown",
   "metadata": {},
   "source": [
    "Using <font color = red>global variables inside a function</font> refers to the ability to access and modify variables that are defined in the global scope from within a function. Normally, variables defined inside a function are local to that function and cannot be accessed from outside or other functions. However, by using the `global` keyword, you can specify that a variable inside a function should refer to the global variable with the same name.\n",
    "\n",
    "Here's an example to illustrate this concept:\n",
    "\n"
   ]
  },
  {
   "cell_type": "code",
   "execution_count": 11,
   "metadata": {},
   "outputs": [
    {
     "name": "stdout",
     "output_type": "stream",
     "text": [
      "Inside the function, x is: 15\n"
     ]
    }
   ],
   "source": [
    "x = 10  # Global variable\n",
    "\n",
    "def modify_global():\n",
    "    global x\n",
    "    x = x + 5\n",
    "    print(\"Inside the function, x is:\", x)\n",
    "\n",
    "# Call the function\n",
    "modify_global()"
   ]
  },
  {
   "cell_type": "code",
   "execution_count": 12,
   "metadata": {},
   "outputs": [
    {
     "name": "stdout",
     "output_type": "stream",
     "text": [
      "Outside the function, x is: 15\n"
     ]
    }
   ],
   "source": [
    "# Print x (outside the function)\n",
    "print(\"Outside the function, x is:\", x)"
   ]
  },
  {
   "cell_type": "markdown",
   "metadata": {},
   "source": [
    "\n",
    "In this example, x is a global variable initially set to 10. The function modify_global() modifies the global variable x by adding 5 to it. The global keyword inside the function indicates that x refers to the global variable x, not a local variable. As a result, the changes made to x inside the function are reflected globally, and when we print x outside the function, its value has been updated to 15.\n",
    "\n",
    "It's important to use global variables cautiously because they can make the code harder to understand and debug, especially in larger programs. It's generally considered better practice to pass variables as parameters to functions or to use return values to communicate between functions and the main program rather than relying heavily on global variables. However, there are situations where using global variables may be appropriate or necessary."
   ]
  },
  {
   "cell_type": "markdown",
   "metadata": {},
   "source": [
    "#### Lifetime of a variable in function \n",
    "___"
   ]
  },
  {
   "cell_type": "markdown",
   "metadata": {},
   "source": [
    "A variable’s lifetime is the period of time for which it resides in the memory.\n",
    "\n",
    "A variable that’s declared inside python function is destroyed after the function stops executing. So the next time the function is called, it does not remember the previous value of that variable."
   ]
  },
  {
   "cell_type": "code",
   "execution_count": null,
   "metadata": {},
   "outputs": [
    {
     "name": "stdout",
     "output_type": "stream",
     "text": [
      "I'm a local variable\n"
     ]
    }
   ],
   "source": [
    "# This is a local variable\n",
    "def my_function():\n",
    "    local_var = \"I'm a local variable\"\n",
    "    print(local_var)\n",
    "\n",
    "my_function()"
   ]
  },
  {
   "cell_type": "code",
   "execution_count": 13,
   "metadata": {},
   "outputs": [],
   "source": [
    "# Try to access local_var outside the function\n",
    "# print(local_var) # This will give an error"
   ]
  },
  {
   "cell_type": "markdown",
   "metadata": {},
   "source": [
    "In this example, `local_var` is a local variable defined inside `my_function`.   \n",
    "When you call `my_function()`, it prints the value of local_var. However, after the function call, if you try to print local_var outside the function, you'll get a NameError because local_var is not defined in that scope.   \n",
    "\n",
    "Its lifetime was limited to the my_function execution and it was destroyed after the function finished executing."
   ]
  },
  {
   "cell_type": "code",
   "execution_count": 14,
   "metadata": {},
   "outputs": [
    {
     "name": "stdout",
     "output_type": "stream",
     "text": [
      "1\n"
     ]
    }
   ],
   "source": [
    "# Another example\n",
    "def func1():\n",
    "    counter = 0\n",
    "    counter = counter + 1\n",
    "    print(counter)\n",
    "\n",
    "# Call the function\n",
    "func1()"
   ]
  },
  {
   "cell_type": "code",
   "execution_count": 15,
   "metadata": {},
   "outputs": [
    {
     "name": "stdout",
     "output_type": "stream",
     "text": [
      "1\n"
     ]
    }
   ],
   "source": [
    "func1()"
   ]
  },
  {
   "cell_type": "markdown",
   "metadata": {},
   "source": [
    "As you can see here, the function func1() doesn’t print 2 the second time."
   ]
  },
  {
   "cell_type": "markdown",
   "metadata": {},
   "source": [
    "#### Deleting a function \n",
    "___"
   ]
  },
  {
   "cell_type": "markdown",
   "metadata": {},
   "source": [
    "In Python, you can delete a function using the `del` keyword. Here's how you can do it:\n",
    "\n"
   ]
  },
  {
   "cell_type": "code",
   "execution_count": 17,
   "metadata": {},
   "outputs": [
    {
     "name": "stdout",
     "output_type": "stream",
     "text": [
      "Hello, World!\n"
     ]
    }
   ],
   "source": [
    "def my_function():\n",
    "    print(\"Hello, World!\")\n",
    "\n",
    "my_function()  # This will print \"Hello, World!\"\n",
    "\n",
    "del my_function  # This will delete the function\n",
    "\n",
    "# my_function()  # This will raise an error because the function no longer exists"
   ]
  },
  {
   "cell_type": "markdown",
   "metadata": {},
   "source": [
    "\n",
    "\n",
    "In this example, after the `del my_function` statement, `my_function` is deleted and trying to call it will result in a `NameError` because the function no longer exists."
   ]
  },
  {
   "cell_type": "markdown",
   "metadata": {},
   "source": [
    "## 2. Python Lambda Expressions\n",
    "____"
   ]
  },
  {
   "cell_type": "markdown",
   "metadata": {},
   "source": [
    "- In Python, a lambda function is a small, anonymous function defined using the `lambda` keyword. \n",
    "- Lambda functions can have any number of parameters but can only have one expression. \n",
    "- They are particularly useful in situations where you need a simple function for a short period of time, often as an argument to higher-order functions (functions that take other functions as arguments).\n",
    "\n",
    "The syntax for a lambda function is:\n",
    "\n",
    "```python\n",
    "lambda parameters1, parameters2 : expression\n",
    "\n",
    "```\n",
    "____\n",
    "lambda x , y : x + y\n",
    "\n",
    "-  x , y are the parameters \n",
    "- (x + y) indicates the expression \n",
    "\n",
    "____"
   ]
  },
  {
   "cell_type": "code",
   "execution_count": 18,
   "metadata": {},
   "outputs": [
    {
     "name": "stdout",
     "output_type": "stream",
     "text": [
      "8\n"
     ]
    }
   ],
   "source": [
    "# Define a lambda function that adds two numbers\n",
    "info_1 = lambda x, y: (x + y)\n",
    "\n",
    "# Call the lambda function\n",
    "result = info_1(3, 5)\n",
    "print(result) "
   ]
  },
  {
   "cell_type": "markdown",
   "metadata": {},
   "source": [
    "In this example, lambda x, y: x + y creates a lambda function that takes two parameters x and y and returns their sum. The add variable then refers to this lambda function. Finally, we call the add function with arguments 3 and 5, resulting in 8.\n",
    "\n"
   ]
  },
  {
   "cell_type": "code",
   "execution_count": 15,
   "metadata": {},
   "outputs": [
    {
     "data": {
      "text/plain": [
       "-2"
      ]
     },
     "execution_count": 15,
     "metadata": {},
     "output_type": "execute_result"
    }
   ],
   "source": [
    "# Define a lambda function that adds two numbers and subtracts 8\n",
    "info = lambda a, b, c: a + b - 8\n",
    "\n",
    "# Call the lambda function\n",
    "info(2,4,9)"
   ]
  },
  {
   "cell_type": "markdown",
   "metadata": {},
   "source": [
    "This Python code snippet demonstrates the use of a lambda function. A lambda function is a small anonymous function that is defined with the `lambda` keyword, and can take any number of arguments but can only have one expression.\n",
    "\n",
    "The lambda function is defined with the line `info = lambda a, b, c: a + b - 8`. Here, `info` is the name given to the lambda function. This function takes three arguments `a`, `b`, and `c`. However, it seems there's a small mistake in the code: the argument `c` is not used in the function's expression. The expression for this function is `a + b - 8`, which adds the arguments `a` and `b` together and then subtracts 8.\n",
    "\n",
    "The lambda function is then called with the line `info(2,4,9)`. This passes the numbers 2, 4, and 9 as arguments to the `info` function. The function adds 2 and 4 to get 6, then subtracts 8 to get -2. So, the call to `info(2,4,9)` will return -2. However, the argument `9` is not used in the function, so it doesn't affect the result."
   ]
  },
  {
   "cell_type": "markdown",
   "metadata": {},
   "source": [
    "Lambda functions are often used in conjunction with functions like `map()`, `filter()`, and `sorted()` for concise, one-line expressions. For example:"
   ]
  },
  {
   "cell_type": "markdown",
   "metadata": {},
   "source": [
    "####  The use of Map () function with Lambda\n",
    "___"
   ]
  },
  {
   "cell_type": "markdown",
   "metadata": {},
   "source": [
    "\n",
    "In Python, the map() function is a built-in function that applies a given function to each item of an iterable (such as a list, tuple, or set) and returns a new iterable with the results. It essentially performs a transformation on each element of the iterable.\n",
    "\n",
    "The syntax for the map() function is as follows:\n",
    "\n",
    "```python\n",
    "map(function, iterable)\n",
    "```\n",
    "\n",
    "- Here, `function` is the action to be applied to each element of the iterable, and iterable is the sequence or collection of elements to be processed.\n",
    "\n",
    "- The map() function returns a map object, which is an iterator, so you typically need to convert it to a list, tuple, or another iterable type to see the results.\n",
    "\n",
    "- Here's a simple example to illustrate how map() works:"
   ]
  },
  {
   "cell_type": "code",
   "execution_count": 13,
   "metadata": {},
   "outputs": [
    {
     "name": "stdout",
     "output_type": "stream",
     "text": [
      "[1, 4, 9, 16, 25]\n"
     ]
    }
   ],
   "source": [
    "# Define a function to square a number\n",
    "def square(x):\n",
    "    return x * x\n",
    "\n",
    "# Create a list of numbers\n",
    "numbers = [1, 2, 3, 4, 5]\n",
    "\n",
    "# Apply the square function to each element of the list using map\n",
    "squared_numbers = map(square, numbers)\n",
    "\n",
    "# Convert the map object to a list to see the results\n",
    "print(list(squared_numbers))  \n"
   ]
  },
  {
   "cell_type": "markdown",
   "metadata": {},
   "source": [
    "This Python code snippet demonstrates the use of the [`map()`](command:_github.copilot.openSymbolInFile?%5B%22..%2F..%2F..%2F..%2F.vscode%2Fextensions%2Fms-python.vscode-pylance-2024.4.1%2Fdist%2Ftypeshed-fallback%2Fstdlib%2Fbuiltins.pyi%22%2C%22map()%22%5D \"../../../../.vscode/extensions/ms-python.vscode-pylance-2024.4.1/dist/typeshed-fallback/stdlib/builtins.pyi\") function to apply a function to each element of a list.\n",
    "\n",
    "First, a function named `square` is defined. This function takes one argument [`x`](command:_github.copilot.openSymbolInFile?%5B%22..%2F..%2F..%2F..%2F.vscode%2Fextensions%2Fms-python.vscode-pylance-2024.4.1%2Fdist%2Ftypeshed-fallback%2Fstdlib%2Fbuiltins.pyi%22%2C%22x%22%5D \"../../../../.vscode/extensions/ms-python.vscode-pylance-2024.4.1/dist/typeshed-fallback/stdlib/builtins.pyi\") and returns the square of [`x`](command:_github.copilot.openSymbolInFile?%5B%22..%2F..%2F..%2F..%2F.vscode%2Fextensions%2Fms-python.vscode-pylance-2024.4.1%2Fdist%2Ftypeshed-fallback%2Fstdlib%2Fbuiltins.pyi%22%2C%22x%22%5D \"../../../../.vscode/extensions/ms-python.vscode-pylance-2024.4.1/dist/typeshed-fallback/stdlib/builtins.pyi\") (i.e., `x * x`).\n",
    "\n",
    "Next, a list named `numbers` is created with the elements 1, 2, 3, 4, and 5.\n",
    "\n",
    "The [`map()`](command:_github.copilot.openSymbolInFile?%5B%22..%2F..%2F..%2F..%2F.vscode%2Fextensions%2Fms-python.vscode-pylance-2024.4.1%2Fdist%2Ftypeshed-fallback%2Fstdlib%2Fbuiltins.pyi%22%2C%22map()%22%5D \"../../../../.vscode/extensions/ms-python.vscode-pylance-2024.4.1/dist/typeshed-fallback/stdlib/builtins.pyi\") function is then used to apply the `square` function to each element of the `numbers` list. The [`map()`](command:_github.copilot.openSymbolInFile?%5B%22..%2F..%2F..%2F..%2F.vscode%2Fextensions%2Fms-python.vscode-pylance-2024.4.1%2Fdist%2Ftypeshed-fallback%2Fstdlib%2Fbuiltins.pyi%22%2C%22map()%22%5D \"../../../../.vscode/extensions/ms-python.vscode-pylance-2024.4.1/dist/typeshed-fallback/stdlib/builtins.pyi\") function takes two arguments: a function and an iterable. It applies the function to each element of the iterable and returns a map object.\n",
    "\n",
    "The map object `squared_numbers` is not directly readable, so it is converted to a list using the [`list()`](command:_github.copilot.openSymbolInFile?%5B%22..%2F..%2F..%2F..%2F.vscode%2Fextensions%2Fms-python.vscode-pylance-2024.4.1%2Fdist%2Ftypeshed-fallback%2Fstdlib%2Fbuiltins.pyi%22%2C%22list()%22%5D \"../../../../.vscode/extensions/ms-python.vscode-pylance-2024.4.1/dist/typeshed-fallback/stdlib/builtins.pyi\") function. This new list contains the squares of the numbers in the original list.\n",
    "\n",
    "Finally, the [`print()`](command:_github.copilot.openSymbolInFile?%5B%22..%2F..%2F..%2F..%2F.vscode%2Fextensions%2Fms-python.vscode-pylance-2024.4.1%2Fdist%2Ftypeshed-fallback%2Fstdlib%2Fbuiltins.pyi%22%2C%22print()%22%5D \"../../../../.vscode/extensions/ms-python.vscode-pylance-2024.4.1/dist/typeshed-fallback/stdlib/builtins.pyi\") function is used to print the list of squared numbers to the console. The output of this code will be `[1, 4, 9, 16, 25]`, which are the squares of the numbers in the original list."
   ]
  },
  {
   "cell_type": "code",
   "execution_count": 16,
   "metadata": {},
   "outputs": [
    {
     "name": "stdout",
     "output_type": "stream",
     "text": [
      "[3, 6, 9, 12]\n"
     ]
    }
   ],
   "source": [
    "def mulplication(x): \n",
    "    return x * 3\n",
    "\n",
    "number = [1,2,3,4]\n",
    "\n",
    "result = map(mulplication, number)\n",
    "\n",
    "print(list(result))"
   ]
  },
  {
   "cell_type": "markdown",
   "metadata": {},
   "source": [
    "This Python code snippet defines a function, creates a list of numbers, applies the function to each number in the list using the [`map`](command:_github.copilot.openSymbolInFile?%5B%22..%2F..%2F..%2F..%2F.vscode%2Fextensions%2Fms-python.vscode-pylance-2024.4.1%2Fdist%2Ftypeshed-fallback%2Fstdlib%2Fbuiltins.pyi%22%2C%22map%22%5D \"../../../../.vscode/extensions/ms-python.vscode-pylance-2024.4.1/dist/typeshed-fallback/stdlib/builtins.pyi\") function, and then prints the results.\n",
    "\n",
    "The function `mulplication(x)` is defined at the beginning. It takes one argument [`x`](command:_github.copilot.openSymbolInFile?%5B%22..%2F..%2F..%2F..%2F.vscode%2Fextensions%2Fms-python.vscode-pylance-2024.4.1%2Fdist%2Ftypeshed-fallback%2Fstdlib%2Fbuiltins.pyi%22%2C%22x%22%5D \"../../../../.vscode/extensions/ms-python.vscode-pylance-2024.4.1/dist/typeshed-fallback/stdlib/builtins.pyi\") and returns the result of `x * 3`. This function, when called with a number, will return the number multiplied by 3.\n",
    "\n",
    "Next, a list of numbers `[1,2,3,4]` is created and assigned to the variable [`number`](command:_github.copilot.openSymbolInFile?%5B%22..%2F..%2F..%2F..%2F.vscode%2Fextensions%2Fms-python.vscode-pylance-2024.4.1%2Fdist%2Ftypeshed-fallback%2Fstdlib%2Fbuiltins.pyi%22%2C%22number%22%5D \"../../../../.vscode/extensions/ms-python.vscode-pylance-2024.4.1/dist/typeshed-fallback/stdlib/builtins.pyi\").\n",
    "\n",
    "The [`map`](command:_github.copilot.openSymbolInFile?%5B%22..%2F..%2F..%2F..%2F.vscode%2Fextensions%2Fms-python.vscode-pylance-2024.4.1%2Fdist%2Ftypeshed-fallback%2Fstdlib%2Fbuiltins.pyi%22%2C%22map%22%5D \"../../../../.vscode/extensions/ms-python.vscode-pylance-2024.4.1/dist/typeshed-fallback/stdlib/builtins.pyi\") function is then used to apply the `mulplication` function to each element in the [`number`](command:_github.copilot.openSymbolInFile?%5B%22..%2F..%2F..%2F..%2F.vscode%2Fextensions%2Fms-python.vscode-pylance-2024.4.1%2Fdist%2Ftypeshed-fallback%2Fstdlib%2Fbuiltins.pyi%22%2C%22number%22%5D \"../../../../.vscode/extensions/ms-python.vscode-pylance-2024.4.1/dist/typeshed-fallback/stdlib/builtins.pyi\") list. The [`map`](command:_github.copilot.openSymbolInFile?%5B%22..%2F..%2F..%2F..%2F.vscode%2Fextensions%2Fms-python.vscode-pylance-2024.4.1%2Fdist%2Ftypeshed-fallback%2Fstdlib%2Fbuiltins.pyi%22%2C%22map%22%5D \"../../../../.vscode/extensions/ms-python.vscode-pylance-2024.4.1/dist/typeshed-fallback/stdlib/builtins.pyi\") function takes two arguments: a function and an iterable (like a list). It applies the function to each element in the iterable and returns a map object.\n",
    "\n",
    "The map object is not directly printable in a human-readable format, so it is converted to a list using the [`list()`](command:_github.copilot.openSymbolInFile?%5B%22..%2F..%2F..%2F..%2F.vscode%2Fextensions%2Fms-python.vscode-pylance-2024.4.1%2Fdist%2Ftypeshed-fallback%2Fstdlib%2Fbuiltins.pyi%22%2C%22list()%22%5D \"../../../../.vscode/extensions/ms-python.vscode-pylance-2024.4.1/dist/typeshed-fallback/stdlib/builtins.pyi\") function. This list is then printed to the console using the [`print()`](command:_github.copilot.openSymbolInFile?%5B%22..%2F..%2F..%2F..%2F.vscode%2Fextensions%2Fms-python.vscode-pylance-2024.4.1%2Fdist%2Ftypeshed-fallback%2Fstdlib%2Fbuiltins.pyi%22%2C%22print()%22%5D \"../../../../.vscode/extensions/ms-python.vscode-pylance-2024.4.1/dist/typeshed-fallback/stdlib/builtins.pyi\") function.\n",
    "\n",
    "The final output of this code will be `[3, 6, 9, 12]`, which is the result of multiplying each of the numbers in the original list by 3."
   ]
  },
  {
   "cell_type": "code",
   "execution_count": 10,
   "metadata": {},
   "outputs": [
    {
     "name": "stdout",
     "output_type": "stream",
     "text": [
      "[1, 4, 9, 16, 25]\n"
     ]
    }
   ],
   "source": [
    "# Use lambda with map()\n",
    "numbers = [1, 2, 3, 4, 5]\n",
    "squared_numbers = list(map(lambda x: x**2, numbers)) # note that the list is used to convert the map object to a list\n",
    "\n",
    "print(squared_numbers)  "
   ]
  },
  {
   "cell_type": "markdown",
   "metadata": {},
   "source": [
    "The active selection is a Python script that uses the [`map()`](command:_github.copilot.openSymbolInFile?%5B%22..%2F..%2F..%2F..%2F.vscode%2Fextensions%2Fms-python.vscode-pylance-2024.4.1%2Fdist%2Ftypeshed-fallback%2Fstdlib%2Fbuiltins.pyi%22%2C%22map()%22%5D \"../../../../.vscode/extensions/ms-python.vscode-pylance-2024.4.1/dist/typeshed-fallback/stdlib/builtins.pyi\") function in combination with a lambda function to square each number in a list.\n",
    "\n",
    "The `numbers` list is defined with five integers: 1, 2, 3, 4, and 5.\n",
    "\n",
    "The [`map()`](command:_github.copilot.openSymbolInFile?%5B%22..%2F..%2F..%2F..%2F.vscode%2Fextensions%2Fms-python.vscode-pylance-2024.4.1%2Fdist%2Ftypeshed-fallback%2Fstdlib%2Fbuiltins.pyi%22%2C%22map()%22%5D \"../../../../.vscode/extensions/ms-python.vscode-pylance-2024.4.1/dist/typeshed-fallback/stdlib/builtins.pyi\") function is then used to apply a function to each item in the `numbers` list. The function to be applied is defined using a lambda function, which is a small anonymous function that is not bound to a name at runtime. This lambda function takes one argument [`x`](command:_github.copilot.openSymbolInFile?%5B%22..%2F..%2F..%2F..%2F.vscode%2Fextensions%2Fms-python.vscode-pylance-2024.4.1%2Fdist%2Ftypeshed-fallback%2Fstdlib%2Fbuiltins.pyi%22%2C%22x%22%5D \"../../../../.vscode/extensions/ms-python.vscode-pylance-2024.4.1/dist/typeshed-fallback/stdlib/builtins.pyi\") and returns [`x**2`](command:_github.copilot.openSymbolInFile?%5B%22..%2F..%2F..%2F..%2F.vscode%2Fextensions%2Fms-python.vscode-pylance-2024.4.1%2Fdist%2Ftypeshed-fallback%2Fstdlib%2Fbuiltins.pyi%22%2C%22x**2%22%5D \"../../../../.vscode/extensions/ms-python.vscode-pylance-2024.4.1/dist/typeshed-fallback/stdlib/builtins.pyi\"), which is the square of [`x`](command:_github.copilot.openSymbolInFile?%5B%22..%2F..%2F..%2F..%2F.vscode%2Fextensions%2Fms-python.vscode-pylance-2024.4.1%2Fdist%2Ftypeshed-fallback%2Fstdlib%2Fbuiltins.pyi%22%2C%22x%22%5D \"../../../../.vscode/extensions/ms-python.vscode-pylance-2024.4.1/dist/typeshed-fallback/stdlib/builtins.pyi\").\n",
    "\n",
    "The [`map()`](command:_github.copilot.openSymbolInFile?%5B%22..%2F..%2F..%2F..%2F.vscode%2Fextensions%2Fms-python.vscode-pylance-2024.4.1%2Fdist%2Ftypeshed-fallback%2Fstdlib%2Fbuiltins.pyi%22%2C%22map()%22%5D \"../../../../.vscode/extensions/ms-python.vscode-pylance-2024.4.1/dist/typeshed-fallback/stdlib/builtins.pyi\") function returns a map object, which is an iterator that yields the results on demand. To get a list of all the results immediately, the map object is passed to the [`list()`](command:_github.copilot.openSymbolInFile?%5B%22..%2F..%2F..%2F..%2F.vscode%2Fextensions%2Fms-python.vscode-pylance-2024.4.1%2Fdist%2Ftypeshed-fallback%2Fstdlib%2Fbuiltins.pyi%22%2C%22list()%22%5D \"../../../../.vscode/extensions/ms-python.vscode-pylance-2024.4.1/dist/typeshed-fallback/stdlib/builtins.pyi\") function, which converts the iterable into a list.\n",
    "\n",
    "The resulting list `squared_numbers` contains the squares of each number in the original `numbers` list. This list is then printed to the console. The output of this script is `[1, 4, 9, 16, 25]`, which are the squares of the numbers 1 through 5."
   ]
  },
  {
   "cell_type": "code",
   "execution_count": 20,
   "metadata": {},
   "outputs": [
    {
     "name": "stdout",
     "output_type": "stream",
     "text": [
      "(6, 8, 10, 12)\n"
     ]
    }
   ],
   "source": [
    "number1 = [1,2,3,4]\n",
    "number2 = [5,6,7,8]\n",
    "\n",
    "result = tuple(map(lambda x,y: x+y, number1, number2)) # note that the tuple is used to convert the map object to a list\n",
    "print(result)"
   ]
  },
  {
   "cell_type": "markdown",
   "metadata": {},
   "source": [
    "####  The use of filter ( ) function with Lambda\n",
    "___"
   ]
  },
  {
   "cell_type": "markdown",
   "metadata": {},
   "source": [
    "\n",
    "In Python, the filter() function is used to filter elements from an iterable (such as a list) based on a function (or lambda function) that returns either True or False for each element. It takes two arguments: the filtering function and the iterable to be filtered. The syntax for the filter() function in Python is as follows:\n",
    "\n",
    "``` python \n",
    "filter(function, iterable)\n",
    "```\n",
    "\n",
    "Where:\n",
    "\n",
    "- function: This is the function that tests if each element of the iterable is true or not. It must return either True or False.\n",
    "\n",
    "- iterable: This is the iterable (such as a list, tuple, set, etc.) whose elements are tested by the function.\n",
    "\n",
    "The filter() function returns an iterator yielding those items of the iterable for which function(item) is true. To get the filtered items as a list, you can use the list() function to convert the returned iterator.\n",
    "\n",
    "Here's a simple example:"
   ]
  },
  {
   "cell_type": "code",
   "execution_count": 23,
   "metadata": {},
   "outputs": [
    {
     "name": "stdout",
     "output_type": "stream",
     "text": [
      "[3]\n"
     ]
    }
   ],
   "source": [
    "# Use lambda with filter()\n",
    "numbers = [1,2,3,4,5,6]\n",
    "\n",
    "result1 = list(filter(lambda x: x*2 == 6, numbers))\n",
    "print(result1)\n",
    "\n"
   ]
  },
  {
   "cell_type": "code",
   "execution_count": 26,
   "metadata": {},
   "outputs": [
    {
     "name": "stdout",
     "output_type": "stream",
     "text": [
      "[2, 4, 6, 8, 10]\n"
     ]
    }
   ],
   "source": [
    "# Define a list of numbers\n",
    "numbers = [1, 2, 3, 4, 5, 6, 7, 8, 9, 10]\n",
    "\n",
    "# Define a filtering function to filter even numbers\n",
    "def is_even(num):\n",
    "    return num % 2 == 0\n",
    "\n",
    "# Use filter() to filter even numbers from the list\n",
    "filtered_numbers = filter(is_even, numbers)\n",
    "\n",
    "# Convert the filtered result to a list\n",
    "even_numbers = list(filtered_numbers)\n",
    "\n",
    "print(even_numbers) \n"
   ]
  },
  {
   "cell_type": "markdown",
   "metadata": {},
   "source": [
    "Alternatively, you can use a lambda function for a more concise syntax:"
   ]
  },
  {
   "cell_type": "code",
   "execution_count": 27,
   "metadata": {},
   "outputs": [
    {
     "name": "stdout",
     "output_type": "stream",
     "text": [
      "[2, 4, 6, 8, 10]\n"
     ]
    }
   ],
   "source": [
    "# Use lambda with filter() to filter even numbers\n",
    "even_numbers = list(filter(lambda x: x % 2 == 0, numbers))\n",
    "\n",
    "print(even_numbers)\n"
   ]
  },
  {
   "cell_type": "code",
   "execution_count": 28,
   "metadata": {},
   "outputs": [
    {
     "name": "stdout",
     "output_type": "stream",
     "text": [
      "['apple']\n"
     ]
    }
   ],
   "source": [
    "# Define a list of strings\n",
    "words = [\"apple\", \"banana\", \"orange\", \"grape\", \"pineapple\"]\n",
    "\n",
    "# Use lambda with filter() to filter words starting with 'a'\n",
    "a_words = list(filter(lambda x: x.startswith('a'), words))\n",
    "print(a_words)\n"
   ]
  },
  {
   "cell_type": "markdown",
   "metadata": {},
   "source": [
    "This Python script creates a list of words and then uses a combination of the [`filter()`](command:_github.copilot.openSymbolInFile?%5B%22..%2F..%2F..%2F..%2F.vscode%2Fextensions%2Fms-python.vscode-pylance-2024.4.1%2Fdist%2Ftypeshed-fallback%2Fstdlib%2Fbuiltins.pyi%22%2C%22filter()%22%5D \"../../../../.vscode/extensions/ms-python.vscode-pylance-2024.4.1/dist/typeshed-fallback/stdlib/builtins.pyi\") function and a lambda function to create a new list that only includes the words that start with the letter 'a'. \n",
    "\n",
    "Here's a breakdown of the script:\n",
    "\n",
    "- A list named `words` is defined with five string elements: \"apple\", \"banana\", \"orange\", \"grape\", and \"pineapple\".\n",
    "\n",
    "- The [`filter()`](command:_github.copilot.openSymbolInFile?%5B%22..%2F..%2F..%2F..%2F.vscode%2Fextensions%2Fms-python.vscode-pylance-2024.4.1%2Fdist%2Ftypeshed-fallback%2Fstdlib%2Fbuiltins.pyi%22%2C%22filter()%22%5D \"../../../../.vscode/extensions/ms-python.vscode-pylance-2024.4.1/dist/typeshed-fallback/stdlib/builtins.pyi\") function is used to create a new iterable that includes only the elements of `words` for which the provided function returns `True`. The provided function is a lambda function `lambda x: x.startswith('a')`, which takes a string [`x`](command:_github.copilot.openSymbolInFile?%5B%22..%2F..%2F..%2F..%2F.vscode%2Fextensions%2Fms-python.vscode-pylance-2024.4.1%2Fdist%2Ftypeshed-fallback%2Fstdlib%2Fbuiltins.pyi%22%2C%22x%22%5D \"../../../../.vscode/extensions/ms-python.vscode-pylance-2024.4.1/dist/typeshed-fallback/stdlib/builtins.pyi\") and returns `True` if [`x`](command:_github.copilot.openSymbolInFile?%5B%22..%2F..%2F..%2F..%2F.vscode%2Fextensions%2Fms-python.vscode-pylance-2024.4.1%2Fdist%2Ftypeshed-fallback%2Fstdlib%2Fbuiltins.pyi%22%2C%22x%22%5D \"../../../../.vscode/extensions/ms-python.vscode-pylance-2024.4.1/dist/typeshed-fallback/stdlib/builtins.pyi\") starts with the letter 'a' and `False` otherwise. \n",
    "\n",
    "- The [`filter()`](command:_github.copilot.openSymbolInFile?%5B%22..%2F..%2F..%2F..%2F.vscode%2Fextensions%2Fms-python.vscode-pylance-2024.4.1%2Fdist%2Ftypeshed-fallback%2Fstdlib%2Fbuiltins.pyi%22%2C%22filter()%22%5D \"../../../../.vscode/extensions/ms-python.vscode-pylance-2024.4.1/dist/typeshed-fallback/stdlib/builtins.pyi\") function returns an iterable, so the [`list()`](command:_github.copilot.openSymbolInFile?%5B%22..%2F..%2F..%2F..%2F.vscode%2Fextensions%2Fms-python.vscode-pylance-2024.4.1%2Fdist%2Ftypeshed-fallback%2Fstdlib%2Fbuiltins.pyi%22%2C%22list()%22%5D \"../../../../.vscode/extensions/ms-python.vscode-pylance-2024.4.1/dist/typeshed-fallback/stdlib/builtins.pyi\") function is used to convert this iterable into a list. This list is assigned to the variable `a_words`.\n",
    "\n",
    "- Finally, the [`print()`](command:_github.copilot.openSymbolInFile?%5B%22..%2F..%2F..%2F..%2F.vscode%2Fextensions%2Fms-python.vscode-pylance-2024.4.1%2Fdist%2Ftypeshed-fallback%2Fstdlib%2Fbuiltins.pyi%22%2C%22print()%22%5D \"../../../../.vscode/extensions/ms-python.vscode-pylance-2024.4.1/dist/typeshed-fallback/stdlib/builtins.pyi\") function is used to print the `a_words` list to the console. This will output `['apple']`, as \"apple\" is the only word in the `words` list that starts with the letter 'a'. \n",
    "\n",
    "In summary, this script demonstrates how to use the [`filter()`](command:_github.copilot.openSymbolInFile?%5B%22..%2F..%2F..%2F..%2F.vscode%2Fextensions%2Fms-python.vscode-pylance-2024.4.1%2Fdist%2Ftypeshed-fallback%2Fstdlib%2Fbuiltins.pyi%22%2C%22filter()%22%5D \"../../../../.vscode/extensions/ms-python.vscode-pylance-2024.4.1/dist/typeshed-fallback/stdlib/builtins.pyi\") function with a lambda function to filter the elements of a list based on a specific condition."
   ]
  },
  {
   "cell_type": "code",
   "execution_count": 29,
   "metadata": {},
   "outputs": [
    {
     "name": "stdout",
     "output_type": "stream",
     "text": [
      "['apple', 'orange', 'grape', 'pineapple']\n"
     ]
    }
   ],
   "source": [
    "# Use lambda with filter() to filter words containing 'e'\n",
    "e_words = list(filter(lambda y: 'e' in y, words))\n",
    "print(e_words)"
   ]
  },
  {
   "cell_type": "markdown",
   "metadata": {},
   "source": [
    "####  The use of sorted () function with Lambda\n",
    "___"
   ]
  },
  {
   "cell_type": "markdown",
   "metadata": {},
   "source": [
    "\n",
    "In Python, `sorted()` is a built-in function used to sort iterables like lists, tuples, sets, and other iterable objects. It returns a new sorted list while leaving the original iterable unchanged.\n",
    "\n",
    "The sorted() function has the following syntax:\n",
    "```python\n",
    "sorted(iterable, key = None, reverse = False)\n",
    "```\n",
    "\n",
    "Where:\n",
    "\n",
    "- `iterable`: This is the iterable (e.g., list, tuple, set) to be sorted.\n",
    "\n",
    "- `key`(optional): This parameter specifies a `function` of one argument that is used to extract a comparison key from each element of the iterable. It customizes the sorting behavior based on the result of applying the key function to each element. If not provided, elements are sorted based on their natural ordering.\n",
    "\n",
    "- `reverse` (optional): If set to True, the sorted list is returned in reverse order (descending). By default, it's False, indicating ascending order.\n",
    "Here's a simple example demonstrating the basic usage of the sorted() function:"
   ]
  },
  {
   "cell_type": "code",
   "execution_count": 33,
   "metadata": {},
   "outputs": [
    {
     "name": "stdout",
     "output_type": "stream",
     "text": [
      "[1, 2, 5, 7, 9]\n"
     ]
    }
   ],
   "source": [
    "# Define an unsorted list in ascending order\n",
    "numbers = [5, 2, 7, 1, 9]\n",
    "\n",
    "# Sort the list in ascending order\n",
    "sorted_numbers = sorted(numbers)\n",
    "\n",
    "print(sorted_numbers)  # Output: [1, 2, 5, 7, 9]\n"
   ]
  },
  {
   "cell_type": "code",
   "execution_count": 30,
   "metadata": {},
   "outputs": [
    {
     "name": "stdout",
     "output_type": "stream",
     "text": [
      "[9, 7, 5, 2, 1]\n"
     ]
    }
   ],
   "source": [
    "# Define an unsorted list in descindin order\n",
    "numbers = [5, 2, 7, 1, 9]\n",
    "\n",
    "# Sort the list in ascending order\n",
    "sorted_numbers = sorted(numbers, reverse = True)\n",
    "\n",
    "print(sorted_numbers)  # Output: [1, 2, 5, 7, 9]"
   ]
  },
  {
   "cell_type": "markdown",
   "metadata": {},
   "source": [
    "You can also use sorted() with custom sorting criteria using the key parameter, as shown in the previous response."
   ]
  },
  {
   "cell_type": "code",
   "execution_count": 76,
   "metadata": {},
   "outputs": [
    {
     "name": "stdout",
     "output_type": "stream",
     "text": [
      "[('Charlie', 20), ('Alice', 25), ('Bob', 30), ('David', 35)]\n"
     ]
    }
   ],
   "source": [
    "# Define a list of tuples with names and ages\n",
    "people = [('Alice', 25), ('Bob', 30), ('Charlie', 20), ('David', 35)]\n",
    "\n",
    "# Sort the list of tuples based on age\n",
    "sorted_people = sorted(people, key = lambda x: x[1])\n",
    "\n",
    "print(sorted_people)\n"
   ]
  },
  {
   "cell_type": "markdown",
   "metadata": {},
   "source": [
    "This Python code snippet is about sorting a list of tuples. Each tuple in the list represents a person and contains two elements: a name (a string) and an age (an integer).\n",
    "\n",
    "First, a list of tuples is defined with the variable name `people`. Each tuple in the list represents a person and contains two elements: the person's name and age.\n",
    "\n",
    "Next, the [`sorted()`](command:_github.copilot.openSymbolInFile?%5B%22..%2F..%2F..%2F..%2F.vscode%2Fextensions%2Fms-python.vscode-pylance-2024.4.1%2Fdist%2Ftypeshed-fallback%2Fstdlib%2Fbuiltins.pyi%22%2C%22sorted()%22%5D \"../../../../.vscode/extensions/ms-python.vscode-pylance-2024.4.1/dist/typeshed-fallback/stdlib/builtins.pyi\") function is used to sort the `people` list. The [`sorted()`](command:_github.copilot.openSymbolInFile?%5B%22..%2F..%2F..%2F..%2F.vscode%2Fextensions%2Fms-python.vscode-pylance-2024.4.1%2Fdist%2Ftypeshed-fallback%2Fstdlib%2Fbuiltins.pyi%22%2C%22sorted()%22%5D \"../../../../.vscode/extensions/ms-python.vscode-pylance-2024.4.1/dist/typeshed-fallback/stdlib/builtins.pyi\") function takes two arguments: the iterable to be sorted and a [`key`](command:_github.copilot.openSymbolInFile?%5B%22..%2F..%2F..%2F..%2F.vscode%2Fextensions%2Fms-python.vscode-pylance-2024.4.1%2Fdist%2Ftypeshed-fallback%2Fstdlib%2Fbuiltins.pyi%22%2C%22key%22%5D \"../../../../.vscode/extensions/ms-python.vscode-pylance-2024.4.1/dist/typeshed-fallback/stdlib/builtins.pyi\") function that defines the sorting criteria. In this case, the iterable is the `people` list and the [`key`](command:_github.copilot.openSymbolInFile?%5B%22..%2F..%2F..%2F..%2F.vscode%2Fextensions%2Fms-python.vscode-pylance-2024.4.1%2Fdist%2Ftypeshed-fallback%2Fstdlib%2Fbuiltins.pyi%22%2C%22key%22%5D \"../../../../.vscode/extensions/ms-python.vscode-pylance-2024.4.1/dist/typeshed-fallback/stdlib/builtins.pyi\") function is a lambda function that returns the second element of each tuple (i.e., the age). This means that the `people` list will be sorted based on the age of each person.\n",
    "\n",
    "The [`sorted()`](command:_github.copilot.openSymbolInFile?%5B%22..%2F..%2F..%2F..%2F.vscode%2Fextensions%2Fms-python.vscode-pylance-2024.4.1%2Fdist%2Ftypeshed-fallback%2Fstdlib%2Fbuiltins.pyi%22%2C%22sorted()%22%5D \"../../../../.vscode/extensions/ms-python.vscode-pylance-2024.4.1/dist/typeshed-fallback/stdlib/builtins.pyi\") function returns a new list that contains the elements of the original list sorted in ascending order. This new list is stored in the variable `sorted_people`.\n",
    "\n",
    "Finally, the [`print()`](command:_github.copilot.openSymbolInFile?%5B%22..%2F..%2F..%2F..%2F.vscode%2Fextensions%2Fms-python.vscode-pylance-2024.4.1%2Fdist%2Ftypeshed-fallback%2Fstdlib%2Fbuiltins.pyi%22%2C%22print()%22%5D \"../../../../.vscode/extensions/ms-python.vscode-pylance-2024.4.1/dist/typeshed-fallback/stdlib/builtins.pyi\") function is used to print the `sorted_people` list to the console. This will display the list of people sorted by age. The output of this code will be: `[('Charlie', 20), ('Alice', 25), ('Bob', 30), ('David', 35)]`. This shows that the list has been sorted by age in ascending order, as expected."
   ]
  },
  {
   "cell_type": "code",
   "execution_count": 34,
   "metadata": {},
   "outputs": [
    {
     "name": "stdout",
     "output_type": "stream",
     "text": [
      "['apple', 'grape', 'banana', 'orange', 'pineapple']\n"
     ]
    }
   ],
   "source": [
    "# Use lambda with sorted()\n",
    "words = [\"apple\", \"banana\", \"orange\", \"grape\", \"pineapple\"]\n",
    "\n",
    "# Sort the list of words based on the length of the words\n",
    "sorted_words = sorted(words, key = lambda x: len(x))\n",
    "\n",
    "print(sorted_words)  \n"
   ]
  },
  {
   "cell_type": "markdown",
   "metadata": {},
   "source": [
    "This Python code snippet demonstrates how to sort a list of strings by their length using the `sorted()` function and a lambda function as the key.\n",
    "\n",
    "First, a list of words is defined with the variable name `words`. This list contains four strings: \"apple\", \"banana\", \"orange\", and \"grape\".\n",
    "\n",
    "Next, the [`sorted()`](command:_github.copilot.openSymbolInFile?%5B%22..%2F..%2F..%2F..%2F.vscode%2Fextensions%2Fms-python.vscode-pylance-2024.4.1%2Fdist%2Ftypeshed-fallback%2Fstdlib%2Fbuiltins.pyi%22%2C%22sorted()%22%5D \"../../../../.vscode/extensions/ms-python.vscode-pylance-2024.4.1/dist/typeshed-fallback/stdlib/builtins.pyi\") function is used to sort the `words` list. The [`sorted()`](command:_github.copilot.openSymbolInFile?%5B%22..%2F..%2F..%2F..%2F.vscode%2Fextensions%2Fms-python.vscode-pylance-2024.4.1%2Fdist%2Ftypeshed-fallback%2Fstdlib%2Fbuiltins.pyi%22%2C%22sorted()%22%5D \"../../../../.vscode/extensions/ms-python.vscode-pylance-2024.4.1/dist/typeshed-fallback/stdlib/builtins.pyi\") function takes two arguments: the iterable to be sorted and a [`key`](command:_github.copilot.openSymbolInFile?%5B%22..%2F..%2F..%2F..%2F.vscode%2Fextensions%2Fms-python.vscode-pylance-2024.4.1%2Fdist%2Ftypeshed-fallback%2Fstdlib%2Fbuiltins.pyi%22%2C%22key%22%5D \"../../../../.vscode/extensions/ms-python.vscode-pylance-2024.4.1/dist/typeshed-fallback/stdlib/builtins.pyi\") function that defines the sorting criteria. In this case, the iterable is the `words` list and the [`key`](command:_github.copilot.openSymbolInFile?%5B%22..%2F..%2F..%2F..%2F.vscode%2Fextensions%2Fms-python.vscode-pylance-2024.4.1%2Fdist%2Ftypeshed-fallback%2Fstdlib%2Fbuiltins.pyi%22%2C%22key%22%5D \"../../../../.vscode/extensions/ms-python.vscode-pylance-2024.4.1/dist/typeshed-fallback/stdlib/builtins.pyi\") function is a lambda function that returns the length of each word. This means that the `words` list will be sorted based on the length of each word.\n",
    "\n",
    "A lambda function is a small anonymous function that is defined with the `lambda` keyword. In this case, the lambda function takes one argument [`x`](command:_github.copilot.openSymbolInFile?%5B%22..%2F..%2F..%2F..%2F.vscode%2Fextensions%2Fms-python.vscode-pylance-2024.4.1%2Fdist%2Ftypeshed-fallback%2Fstdlib%2Fbuiltins.pyi%22%2C%22x%22%5D \"../../../../.vscode/extensions/ms-python.vscode-pylance-2024.4.1/dist/typeshed-fallback/stdlib/builtins.pyi\") and returns the length of [`x`](command:_github.copilot.openSymbolInFile?%5B%22..%2F..%2F..%2F..%2F.vscode%2Fextensions%2Fms-python.vscode-pylance-2024.4.1%2Fdist%2Ftypeshed-fallback%2Fstdlib%2Fbuiltins.pyi%22%2C%22x%22%5D \"../../../../.vscode/extensions/ms-python.vscode-pylance-2024.4.1/dist/typeshed-fallback/stdlib/builtins.pyi\") using the [`len()`](command:_github.copilot.openSymbolInFile?%5B%22..%2F..%2F..%2F..%2F.vscode%2Fextensions%2Fms-python.vscode-pylance-2024.4.1%2Fdist%2Ftypeshed-fallback%2Fstdlib%2Fbuiltins.pyi%22%2C%22len()%22%5D \"../../../../.vscode/extensions/ms-python.vscode-pylance-2024.4.1/dist/typeshed-fallback/stdlib/builtins.pyi\") function. When this lambda function is used as the [`key`](command:_github.copilot.openSymbolInFile?%5B%22..%2F..%2F..%2F..%2F.vscode%2Fextensions%2Fms-python.vscode-pylance-2024.4.1%2Fdist%2Ftypeshed-fallback%2Fstdlib%2Fbuiltins.pyi%22%2C%22key%22%5D \"../../../../.vscode/extensions/ms-python.vscode-pylance-2024.4.1/dist/typeshed-fallback/stdlib/builtins.pyi\") function in the [`sorted()`](command:_github.copilot.openSymbolInFile?%5B%22..%2F..%2F..%2F..%2F.vscode%2Fextensions%2Fms-python.vscode-pylance-2024.4.1%2Fdist%2Ftypeshed-fallback%2Fstdlib%2Fbuiltins.pyi%22%2C%22sorted()%22%5D \"../../../../.vscode/extensions/ms-python.vscode-pylance-2024.4.1/dist/typeshed-fallback/stdlib/builtins.pyi\") function, it causes the `words` list to be sorted by word length.\n",
    "\n",
    "The [`sorted()`](command:_github.copilot.openSymbolInFile?%5B%22..%2F..%2F..%2F..%2F.vscode%2Fextensions%2Fms-python.vscode-pylance-2024.4.1%2Fdist%2Ftypeshed-fallback%2Fstdlib%2Fbuiltins.pyi%22%2C%22sorted()%22%5D \"../../../../.vscode/extensions/ms-python.vscode-pylance-2024.4.1/dist/typeshed-fallback/stdlib/builtins.pyi\") function returns a new list that contains the elements of the original list sorted in ascending order according to the [`key`](command:_github.copilot.openSymbolInFile?%5B%22..%2F..%2F..%2F..%2F.vscode%2Fextensions%2Fms-python.vscode-pylance-2024.4.1%2Fdist%2Ftypeshed-fallback%2Fstdlib%2Fbuiltins.pyi%22%2C%22key%22%5D \"../../../../.vscode/extensions/ms-python.vscode-pylance-2024.4.1/dist/typeshed-fallback/stdlib/builtins.pyi\") function. This new list is stored in the variable `sorted_words`.\n",
    "\n",
    "Finally, the [`print()`](command:_github.copilot.openSymbolInFile?%5B%22..%2F..%2F..%2F..%2F.vscode%2Fextensions%2Fms-python.vscode-pylance-2024.4.1%2Fdist%2Ftypeshed-fallback%2Fstdlib%2Fbuiltins.pyi%22%2C%22print()%22%5D \"../../../../.vscode/extensions/ms-python.vscode-pylance-2024.4.1/dist/typeshed-fallback/stdlib/builtins.pyi\") function is used to print the `sorted_words` list to the console. This will display the list of words sorted by length. The output of this code will be: `['apple', 'grape', 'banana', 'orange']`. This shows that the list has been sorted by word length in ascending order, as expected."
   ]
  },
  {
   "cell_type": "markdown",
   "metadata": {},
   "source": [
    "**Another Example**  \n",
    "___\n",
    "In the `sorted` function, the `key` parameter is like giving the sorting process specific instructions. By default, sorted sorts things based on their inherent order, like numbers from least to greatest or letters alphabetically. But with key, you can tell it to sort based on something else entirely.\n",
    "\n",
    "Think of it like sorting a box of books. Normally, you might sort them alphabetically by title. But with key, you could sort them by:\n",
    "\n",
    "- Author: You'd provide a function that extracts the author's name from each book title, and sorted would use those names to sort the books.\n",
    "\n",
    "- Publication year: A function could grab the year from each title, and sorted would organize the books by year, oldest to newest.\n",
    "\n",
    "- Word count: Your function could determine the number of words in each book, and sorted would sort them by length, shortest to longest.\n",
    "\n",
    "The key parameter lets you define a custom way to sort your data, going beyond the default sorting behavior."
   ]
  },
  {
   "cell_type": "code",
   "execution_count": 140,
   "metadata": {},
   "outputs": [
    {
     "name": "stdout",
     "output_type": "stream",
     "text": [
      "[{'title': 'Pride and Prejudice', 'author': 'Jane Austen', 'published': 1813}, {'title': 'The Lord of the Rings', 'author': 'J.R.R. Tolkien', 'published': 1954}, {'title': 'To Kill a Mockingbird', 'author': 'Harper Lee', 'published': 1960}, {'title': \"The Hitchhiker's Guide to the Galaxy\", 'author': 'Douglas Adams', 'published': 1979}]\n"
     ]
    }
   ],
   "source": [
    "books = [\n",
    "    {\"title\": \"The Lord of the Rings\", \"author\": \"J.R.R. Tolkien\", \"published\": 1954},\n",
    "    {\"title\": \"To Kill a Mockingbird\", \"author\": \"Harper Lee\", \"published\": 1960},\n",
    "    {\"title\": \"Pride and Prejudice\", \"author\": \"Jane Austen\",  \"published\": 1813},\n",
    "    {\"title\": \"The Hitchhiker's Guide to the Galaxy\", \"author\": \"Douglas Adams\", \"published\": 1979}\n",
    "]\n",
    "def get_author(book):\n",
    "  return book[\"published\"]\n",
    "sorted_by_author = (sorted(books, key = get_author))\n",
    "print(sorted_by_author)"
   ]
  },
  {
   "cell_type": "code",
   "execution_count": 36,
   "metadata": {},
   "outputs": [
    {
     "name": "stdout",
     "output_type": "stream",
     "text": [
      "[{'title': 'Pride and Prejudice', 'author': 'Jane Austen', 'published': 1813}, {'title': 'The Lord of the Rings', 'author': 'J.R.R. Tolkien', 'published': 1954}, {'title': 'To Kill a Mockingbird', 'author': 'Harper Lee', 'published': 1960}, {'title': \"The Hitchhiker's Guide to the Galaxy\", 'author': 'Douglas Adams', 'published': 1979}]\n"
     ]
    }
   ],
   "source": [
    "books = [\n",
    "    {\"title\": \"The Lord of the Rings\", \"author\": \"J.R.R. Tolkien\", \"published\": 1954},\n",
    "    {\"title\": \"To Kill a Mockingbird\", \"author\": \"Harper Lee\", \"published\": 1960},\n",
    "    {\"title\": \"Pride and Prejudice\", \"author\": \"Jane Austen\",  \"published\": 1813},\n",
    "    {\"title\": \"The Hitchhiker's Guide to the Galaxy\", \"author\": \"Douglas Adams\", \"published\": 1979}\n",
    "]\n",
    "\n",
    "result = sorted(books, key = lambda x: x[\"published\"])\n",
    "print(result)"
   ]
  },
  {
   "cell_type": "markdown",
   "metadata": {},
   "source": [
    "This Python code snippet is about sorting a list of dictionaries. Each dictionary represents a book and contains three keys: \"title\", \"author\", and \"published\". The \"published\" key represents the year the book was published.\n",
    "\n",
    "First, a list of dictionaries is defined with the variable name `books`. Each dictionary in the list represents a book and contains information about the book's title, author, and the year it was published.\n",
    "\n",
    "Next, a function named `get_author` is defined. This function takes one argument, `book`, which is expected to be a dictionary representing a book. The function returns the value associated with the \"published\" key in the `book` dictionary. This function is used to extract the year of publication from each book dictionary.\n",
    "\n",
    "Then, the [`sorted()`](command:_github.copilot.openSymbolInFile?%5B%22..%2F..%2F..%2F..%2F.vscode%2Fextensions%2Fms-python.vscode-pylance-2024.4.1%2Fdist%2Ftypeshed-fallback%2Fstdlib%2Fbuiltins.pyi%22%2C%22sorted()%22%5D \"../../../../.vscode/extensions/ms-python.vscode-pylance-2024.4.1/dist/typeshed-fallback/stdlib/builtins.pyi\") function is used to sort the `books` list. The [`sorted()`](command:_github.copilot.openSymbolInFile?%5B%22..%2F..%2F..%2F..%2F.vscode%2Fextensions%2Fms-python.vscode-pylance-2024.4.1%2Fdist%2Ftypeshed-fallback%2Fstdlib%2Fbuiltins.pyi%22%2C%22sorted()%22%5D \"../../../../.vscode/extensions/ms-python.vscode-pylance-2024.4.1/dist/typeshed-fallback/stdlib/builtins.pyi\") function takes two arguments: the iterable to be sorted and a [`key`](command:_github.copilot.openSymbolInFile?%5B%22..%2F..%2F..%2F..%2F.vscode%2Fextensions%2Fms-python.vscode-pylance-2024.4.1%2Fdist%2Ftypeshed-fallback%2Fstdlib%2Fbuiltins.pyi%22%2C%22key%22%5D \"../../../../.vscode/extensions/ms-python.vscode-pylance-2024.4.1/dist/typeshed-fallback/stdlib/builtins.pyi\") function that defines the sorting criteria. In this case, the iterable is the `books` list and the [`key`](command:_github.copilot.openSymbolInFile?%5B%22..%2F..%2F..%2F..%2F.vscode%2Fextensions%2Fms-python.vscode-pylance-2024.4.1%2Fdist%2Ftypeshed-fallback%2Fstdlib%2Fbuiltins.pyi%22%2C%22key%22%5D \"../../../../.vscode/extensions/ms-python.vscode-pylance-2024.4.1/dist/typeshed-fallback/stdlib/builtins.pyi\") function is the `get_author` function. This means that the `books` list will be sorted based on the year of publication of each book.\n",
    "\n",
    "The [`sorted()`](command:_github.copilot.openSymbolInFile?%5B%22..%2F..%2F..%2F..%2F.vscode%2Fextensions%2Fms-python.vscode-pylance-2024.4.1%2Fdist%2Ftypeshed-fallback%2Fstdlib%2Fbuiltins.pyi%22%2C%22sorted()%22%5D \"../../../../.vscode/extensions/ms-python.vscode-pylance-2024.4.1/dist/typeshed-fallback/stdlib/builtins.pyi\") function returns a new list that contains the elements of the original list sorted in ascending order. This new list is stored in the variable `sorted_by_author`. Despite the variable name, the books are actually sorted by their year of publication, not by their author.\n",
    "\n",
    "Finally, the [`print()`](command:_github.copilot.openSymbolInFile?%5B%22..%2F..%2F..%2F..%2F.vscode%2Fextensions%2Fms-python.vscode-pylance-2024.4.1%2Fdist%2Ftypeshed-fallback%2Fstdlib%2Fbuiltins.pyi%22%2C%22print()%22%5D \"../../../../.vscode/extensions/ms-python.vscode-pylance-2024.4.1/dist/typeshed-fallback/stdlib/builtins.pyi\") function is used to print the `sorted_by_author` list to the console. This will display the list of books sorted by the year of publication."
   ]
  },
  {
   "cell_type": "code",
   "execution_count": 37,
   "metadata": {},
   "outputs": [
    {
     "name": "stdout",
     "output_type": "stream",
     "text": [
      "Help on built-in function sorted in module builtins:\n",
      "\n",
      "sorted(iterable, /, *, key=None, reverse=False)\n",
      "    Return a new list containing all items from the iterable in ascending order.\n",
      "    \n",
      "    A custom key function can be supplied to customize the sort order, and the\n",
      "    reverse flag can be set to request the result in descending order.\n",
      "\n"
     ]
    }
   ],
   "source": [
    "help(sorted)"
   ]
  },
  {
   "cell_type": "markdown",
   "metadata": {},
   "source": [
    "####  How to delete Python function\n",
    "___"
   ]
  },
  {
   "cell_type": "markdown",
   "metadata": {},
   "source": [
    "Till now, we have seen how to delete a variable. Similarly, you can delete a function with the `del` keyword.\n",
    "When deleting a function, you don’t need to put parentheses after its name."
   ]
  },
  {
   "cell_type": "code",
   "execution_count": 38,
   "metadata": {},
   "outputs": [
    {
     "name": "stdout",
     "output_type": "stream",
     "text": [
      "6\n"
     ]
    }
   ],
   "source": [
    "def detail_info(a,b,c):\n",
    "    return a+b+c\n",
    "\n",
    "print(detail_info(1,2,3))"
   ]
  },
  {
   "cell_type": "code",
   "execution_count": 42,
   "metadata": {},
   "outputs": [],
   "source": [
    "# del detail_info # delete the function"
   ]
  },
  {
   "cell_type": "markdown",
   "metadata": {},
   "source": [
    "## 3. Python Built-in Function\n",
    "___"
   ]
  },
  {
   "cell_type": "markdown",
   "metadata": {},
   "source": [
    "The built-in Python functions are pre-defined by the python interpreter. There are 67 built-in python functions. These functions perform a specific task and can be used in any program, depending on the requirement of the user.\n",
    "\n",
    "* Click here for quick summary of use [Python has a set of built-in functions](https://www.w3schools.com/python/python_ref_functions.asp)\n",
    "\n",
    "* Another useful sources for [Python Built-In Functions with Syntax and Examples] (https://data-flair.training/blogs/python-built-in-functions/)\n",
    "\n",
    "\n",
    "\n",
    "#### Python Built-In Functions\n",
    "____\n",
    "\n",
    "1.\t`abs()`\tReturns the absolute value of a number\n",
    "\n",
    "2.\t`all()`\tReturns True if all items in an iterable object are true\n",
    "\n",
    "3.\t`any()`\tReturns True if any item in an iterable object is true\n",
    "\n",
    "4.\t`ascii()`\tReturns a readable version of an object. Replaces none-ascii characters with escape character\n",
    "\n",
    "5.\t`bin()`\tReturns the binary version of a number\n",
    "\n",
    "6.\t`bool()`\tReturns the boolean value of the specified object\n",
    "\n",
    "7.\t`bytearray()`\tReturns an array of bytes\n",
    "\n",
    "8.\t`bytes()`\tReturns a bytes object\n",
    "\n",
    "9.\t`callable()`\tReturns True if the specified object is callable, otherwise False\n",
    "\n",
    "10.\t`chr()`\tReturns a character from the specified Unicode code.\n",
    "\n",
    "11.\t`classmethod()`\tConverts a method into a class method\n",
    "\n",
    "12.\t`compile()`\tReturns the specified source as an object, ready to be executed\n",
    "\n",
    "13.\t`complex()`\tReturns a complex number\n",
    "\n",
    "14.\t`delattr()`\tDeletes the specified attribute (property or method) from the specified object\n",
    "\n",
    "15.\t`dict()`\tReturns a dictionary (Array)\n",
    "\n",
    "16.\t`dir()`\tReturns a list of the specified object's properties and methods\n",
    "\n",
    "17.\t`divmod()`\tReturns the quotient and the remainder when argument1 is divided by argument2\n",
    "\n",
    "18.\t`enumerate()`\tTakes a collection (e.g. a tuple) and returns it as an enumerate object\n",
    "\n",
    "19.\t`eval()`\tEvaluates and executes an expression\n",
    "\n",
    "20.\t`exec()`\tExecutes the specified code (or object)\n",
    "\n",
    "21.\t`filter()`\tUse a filter function to exclude items in an iterable object\n",
    "\n",
    "22.\t`float()`\tReturns a floating point number\n",
    "\n",
    "23.\t`format()`\tFormats a specified value\n",
    "\n",
    "24.\t`frozenset()`\tReturns a frozenset object\n",
    "\n",
    "25.\t`getattr()`\tReturns the value of the specified attribute (property or method)\n",
    "\n",
    "26.\t`globals()`\tReturns the current global symbol table as a dictionary\n",
    "\n",
    "27.\t`hasattr()`\tReturns True if the specified object has the specified attribute (property/method)\n",
    "\n",
    "28.\t`hash()`\tReturns the hash value of a specified object\n",
    "\n",
    "29.\t`help()`\tExecutes the built-in help system\n",
    "\n",
    "30.\t`hex()`\tConverts a number into a hexadecimal value\n",
    "\n",
    "31.\t`id()`\tReturns the id of an object\n",
    "\n",
    "32.\t`input()`\tAllowing user input\n",
    "\n",
    "33.\t`int()`\tReturns an integer number\n",
    "\n",
    "34.\t`isinstance()`\tReturns True if a specified object is an instance of a specified object\n",
    "\n",
    "35.\t`issubclass()`\tReturns True if a specified class is a subclass of a specified object\n",
    "\n",
    "36.\t`iter()`\tReturns an iterator object\n",
    "\n",
    "37.\t`len()`\tReturns the length of an object\n",
    "\n",
    "38.\t`list()`\tReturns a list\n",
    "\n",
    "39.\t`locals()`\tReturns an updated dictionary of the current local symbol table\n",
    "\n",
    "40.\t`map()`\tReturns the specified iterator with the specified function applied to each item\n",
    "\n",
    "41.\t`max()`\tReturns the largest item in an iterable\n",
    "\n",
    "42.\t`memoryview()`\tReturns a memory view object\n",
    "\n",
    "43.\t`min()`\tReturns the smallest item in an iterable\n",
    "\n",
    "44.\t`next()`\tReturns the next item in an iterable\n",
    "\n",
    "45.\t`object()`\tReturns a new object\n",
    "\n",
    "46.\t`oct()`\tConverts a number into an octal\n",
    "\n",
    "47.\t`open()`\tOpens a file and returns a file object\n",
    "\n",
    "48.\t`ord()`\tConvert an integer representing the Unicode of the specified character\n",
    "\n",
    "49.\t`pow()`\tReturns the value of x to the power of y\n",
    "\n",
    "50.\t`print()`\tPrints to the standard output device\n",
    "\n",
    "51.\t`property()`\tGets, sets, deletes a property\n",
    "\n",
    "52.\t`range()`\tReturns a sequence of numbers, starting from 0 and increments by 1 (by default)\n",
    "\n",
    "53.\t`repr()`\tReturns a readable version of an object\n",
    "\n",
    "54.\t`reversed()`\tReturns a reversed iterator\n",
    "\n",
    "55.\t`round()`\tRounds a numbers\n",
    "\n",
    "56.\t`set()`\tReturns a new set object\n",
    "\n",
    "57.\t`setattr()`\tSets an attribute (property/method) of an object\n",
    "\n",
    "58.\t`slice()`\tReturns a slice object\n",
    "\n",
    "59.\t`sorted()`\tReturns a sorted list\n",
    "\n",
    "60.\t`staticmethod()`\tConverts a method into a static method\n",
    "\n",
    "61.\t`str()`\tReturns a string object\n",
    "\n",
    "62.\t`sum()`\tSums the items of an iterator\n",
    "\n",
    "63.\t`super()`\tReturns an object that represents the parent class\n",
    "\n",
    "64.\t`tuple()`\tReturns a tuple\n",
    "\n",
    "65.\t`type()`\tReturns the type of an object\n",
    "\n",
    "66.\t`vars()`\tReturns the __dict__ property of an object\n",
    "\n",
    "67.\t`zip()`\tReturns an iterator, from two or more iterators\n"
   ]
  },
  {
   "cell_type": "markdown",
   "metadata": {},
   "source": []
  },
  {
   "cell_type": "markdown",
   "metadata": {},
   "source": [
    "## 4. Python Recursion Function\n",
    "___"
   ]
  },
  {
   "cell_type": "markdown",
   "metadata": {},
   "source": [
    "Recursion can be a bit mind-bending, but it's basically a function that calls itself! Imagine you're looking into a hallway with mirrors facing each other. You see an endless reflection of yourself. That's kind of how recursion works.\n",
    "\n",
    "Here's a fun example to break it down:\n",
    "\n",
    "Counting down from a number: Let's say you want to write a function to count down from any number (like a countdown timer). Here's how it might work with recursion:\n",
    "\n",
    "- Base Case (the end): If the number you're given is 0, then that's it! You simply say \"0\" and the function stops. This is like reaching the end of the mirrored hallway.\n",
    "\n",
    "- Recursive Case (the call): If the number is anything higher than 0, the function says the current number, then calls itself again with one less than the current number. It's like seeing yourself in the first mirror, then looking deeper into the next mirror (which has a slightly smaller you because you're one number closer to 0).\n",
    "\n",
    "This keeps happening until you reach the base case (0) and the function stops calling itself.\n",
    "\n",
    "Here's another way to think about it: those nesting dolls you can open up to reveal a smaller doll inside, and a smaller one inside that... that's kind of like recursion! Each doll calls for the next smaller one until you get to the tiniest one.\n",
    "\n",
    "Recursion is a powerful tool for solving problems that can be broken down into smaller and smaller steps, like counting down or solving mazes. It might seem tricky at first, but with practice, it can become a fun way to write code!\n"
   ]
  },
  {
   "cell_type": "markdown",
   "metadata": {},
   "source": [
    "#### countdown Example \n",
    "____"
   ]
  },
  {
   "cell_type": "code",
   "execution_count": 4,
   "metadata": {},
   "outputs": [
    {
     "name": "stdout",
     "output_type": "stream",
     "text": [
      "5\n",
      "4\n",
      "3\n",
      "2\n",
      "1\n",
      "0\n"
     ]
    }
   ],
   "source": [
    "def countdown(n):\n",
    "  \"\"\"\n",
    "  This function counts down from a given number (n) using recursion.\n",
    "  \"\"\"\n",
    "  # Base case: If n is 0, print it and stop the recursion\n",
    "  if n == 0:\n",
    "    print(n)\n",
    "  # Recursive case: Print n and call the function again with n-1\n",
    "  else:\n",
    "    print(n)\n",
    "    countdown(n-1)\n",
    "\n",
    "# Example usage: Countdown from 5\n",
    "countdown(5)\n"
   ]
  },
  {
   "cell_type": "code",
   "execution_count": 8,
   "metadata": {},
   "outputs": [
    {
     "name": "stdout",
     "output_type": "stream",
     "text": [
      "5\n",
      "4\n",
      "3\n",
      "2\n",
      "1\n",
      "Blastoff!\n"
     ]
    }
   ],
   "source": [
    "def count_down(n):\n",
    "    if n <= 0:  # Base case: stop when n is 0 or negative\n",
    "        print(\"Blastoff!\")\n",
    "    else:\n",
    "        print(n)\n",
    "        count_down(n - 1)  # Recursively call count_down with n-1\n",
    "\n",
    "count_down(5)"
   ]
  },
  {
   "cell_type": "markdown",
   "metadata": {},
   "source": [
    "Let's break it down:\n",
    "\n",
    "1. Define the Function: We create a function called count_down that takes a number n as input.\n",
    "\n",
    "2. Base Case: We check if n is less than or equal to 0. If it is, we print \"Blastoff!\" and stop. This is important because without a base case, the function would keep calling itself forever (like opening dolls endlessly).\n",
    "\n",
    "3. Recursive Step: If n is not 0 or negative, we print n and then call the count_down function again, but this time with n-1. This is the recursive part – calling the function from within itself.\n",
    "\n",
    "4. Calling the Function: Finally, we call the count_down function with an initial value of 5.\n",
    "\n",
    "So, when you run this code, it starts with 5, then calls itself with 4, then with 3, and so on until it reaches 0. Each time it calls itself with a smaller number until it hits the base case and stops.\n",
    "\n",
    "Recursion can be a bit mind-bending at first, but it's a powerful concept used in many areas of programming!"
   ]
  },
  {
   "cell_type": "markdown",
   "metadata": {},
   "source": [
    "#### Factoria Example \n",
    "___"
   ]
  },
  {
   "cell_type": "code",
   "execution_count": 7,
   "metadata": {},
   "outputs": [
    {
     "name": "stdout",
     "output_type": "stream",
     "text": [
      "120\n"
     ]
    }
   ],
   "source": [
    "# Factorial using recursion\n",
    "def factorial(n):\n",
    "    if n == 0:\n",
    "        return 1\n",
    "    else:\n",
    "        return n * factorial(n - 1)\n",
    "\n",
    "# Call the factorial function\n",
    "result = factorial(5)\n",
    "print(result)"
   ]
  },
  {
   "cell_type": "code",
   "execution_count": 8,
   "metadata": {},
   "outputs": [
    {
     "name": "stdout",
     "output_type": "stream",
     "text": [
      "24\n"
     ]
    }
   ],
   "source": [
    "# Factorial using recursion\n",
    "def factorial(n):\n",
    "  if n == 0:  # Base Case: Factorial of 0 is 1\n",
    "    return 1\n",
    "  else:\n",
    "    return n * factorial(n-1)  # Recursive Case: n! = n * (n-1)!\n",
    "\n",
    "print(factorial(4))  "
   ]
  },
  {
   "cell_type": "code",
   "execution_count": 9,
   "metadata": {},
   "outputs": [
    {
     "name": "stdout",
     "output_type": "stream",
     "text": [
      "1\n"
     ]
    }
   ],
   "source": [
    "print(factorial(0))"
   ]
  },
  {
   "cell_type": "markdown",
   "metadata": {},
   "source": [
    "This function calculates the factorial of a number (n). The factorial of a number is the product of all positive integers less than or equal to that number. The base case is when n is 0, where the factorial is 1. In the recursive case, the function returns n multiplied by the factorial of n-1, effectively breaking down the problem into smaller multiplications.\n",
    "\n",
    "Important points to remember about recursion:\n",
    "\n",
    "- Be cautious: If not implemented carefully, recursion can lead to infinite loops if the base case is not defined properly.\n",
    "\n",
    "- Alternative solutions: Sometimes, problems can be solved iteratively (using loops) instead of recursively. Choose the approach that makes your code more readable and efficient."
   ]
  },
  {
   "cell_type": "markdown",
   "metadata": {},
   "source": [
    "#### Recursion vs Loops\n",
    "___"
   ]
  },
  {
   "cell_type": "markdown",
   "metadata": {},
   "source": [
    "Both recursion and loops are fundamental techniques in Python for repetitive tasks. However, they achieve this repetition in fundamentally different ways:\n",
    "\n",
    "**Recursion:**\n",
    "\n",
    "- Self-similar problems: Recursion shines when a problem can be broken down into smaller versions of itself that are similar to the original problem. The function calls itself with a smaller input until a base case is reached, where the recursion stops.\n",
    "\n",
    "- Conceptual elegance: Recursive code can sometimes be more concise and elegant, reflecting the structure of the problem itself.\n",
    "\n",
    "- Overhead: Recursive calls involve creating new function call stack frames, which can consume more memory and be slower for larger problems compared to loops.\n",
    "\n",
    "**Loop:**\n",
    "\n",
    "- Iterative approach: Loops use explicit control flow statements like for or while to repeat a block of code a specific number of times or until a condition is met.\n",
    "\n",
    "- Clear control: Loops offer more explicit control over the number of iterations and termination conditions.\n",
    "Efficiency: Loops are generally more memory-efficient and faster than recursion for repetitive tasks, especially for larger datasets.\n",
    "\n",
    "Here's a table summarizing the key differences:\n",
    "[ Here's a table summarizing the key differences:](https://docs.google.com/spreadsheets/d/1j-ZlliANdg7SQFdgiW5U4nalSHE9swK6BCnx0PtrlNQ/edit#gid=959533331)\n",
    "\n",
    "\n",
    "In essence, choose recursion when the problem naturally breaks down into smaller, similar subproblems. Use loops for general repetitive tasks where you have a clear idea of how many times you need to repeat a block of code."
   ]
  }
 ],
 "metadata": {
  "kernelspec": {
   "display_name": "base",
   "language": "python",
   "name": "python3"
  },
  "language_info": {
   "codemirror_mode": {
    "name": "ipython",
    "version": 3
   },
   "file_extension": ".py",
   "mimetype": "text/x-python",
   "name": "python",
   "nbconvert_exporter": "python",
   "pygments_lexer": "ipython3",
   "version": "3.11.5"
  }
 },
 "nbformat": 4,
 "nbformat_minor": 2
}
