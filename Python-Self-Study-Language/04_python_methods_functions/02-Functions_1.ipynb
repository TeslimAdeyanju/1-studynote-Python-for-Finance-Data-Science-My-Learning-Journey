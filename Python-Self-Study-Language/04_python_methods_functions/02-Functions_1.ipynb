{
 "cells": [
  {
   "cell_type": "markdown",
   "metadata": {},
   "source": [
    "# FUNCTIONS(1)"
   ]
  },
  {
   "cell_type": "markdown",
   "metadata": {},
   "source": [
    "## Introduction\n",
    "___"
   ]
  },
  {
   "cell_type": "markdown",
   "metadata": {},
   "source": [
    "* Formally, a `function` is a useful device that groups together a set of statements so they can be run more than once. They can also let us specify parameters that can serve as inputs to the functions.\n",
    "\n",
    "* Functions allow us to not have to repeatedly write the same code again and again\n",
    "\n",
    "**Why even use functions?**\n",
    "\n",
    "Put simply, you should use functions when you plan on using a block of code multiple times. The function will allow you to call the same block of code without having to write it multiple times. This in turn will allow us to create more complex Python scripts. \n",
    "\n",
    "function in Python have several features that make them powerful and versatile. Here are some of the key features:\n",
    "\n",
    "1. Modularity: Functions allow you to break down your code into smaller, manageable pieces. This promotes code reusability and makes your code easier to understand and maintain.\n",
    "   \n",
    "1. Code Reusability: Once defined, functions can be called multiple times from different parts of your program, reducing redundancy and promoting cleaner code. \n",
    "\n",
    "1. Parameter Passing: Functions can accept parameters (also called arguments), which are values passed to the function when it is called. These parameters can be used within the function's body.\n",
    "\n",
    "1. Return Values: Functions can return values using the return statement. This allows functions to compute a result and pass it back to the caller.\n",
    "\n",
    "1. Scope: Variables defined within a function have local scope, meaning they only exist within the function. This helps prevent naming conflicts and promotes encapsulation.\n",
    "   \n",
    "1. Global Variables: Functions can access variables defined in the global scope, but they cannot modify them by default unless explicitly stated using the global keyword.\n",
    "\n",
    "1. Anonymous Functions (Lambda Functions): Python supports the creation of anonymous functions using the lambda keyword. These functions are defined inline and are often used for short, one-time operations.\n",
    "\n",
    "1. First-Class Citizens: In Python, functions are first-class citizens, which means they can be passed as arguments to other functions, returned from functions, and assigned to variables.\n",
    "\n",
    "1. Nested Functions: Python allows you to define functions inside other functions. These nested functions have access to variables from the outer (enclosing) scope, which can be useful for encapsulation and reducing namespace pollution.\n",
    "\n",
    "1. Decorators: Decorators are a powerful feature in Python that allow you to modify or extend the behavior of functions or methods. They provide a clean and concise way to add functionality to existing functions without modifying their code directly.\n",
    "\n",
    "1. Documentation Strings (Docstring): Functions can have documentation strings, also known as docstring, which are string literals used to describe the purpose and usage of the function. Docstring can be accessed via the __doc__ attribute of the function object.\n",
    "\n",
    "These features make functions a fundamental building block of Python programming, enabling developers to write modular, reusable, and maintainable code."
   ]
  },
  {
   "cell_type": "markdown",
   "metadata": {},
   "source": [
    "####  Creating a Function:\n",
    "____ "
   ]
  },
  {
   "cell_type": "markdown",
   "metadata": {},
   "source": [
    "\n",
    "In Python a function is defined using the `def` keyword: Herein is the format of a function"
   ]
  },
  {
   "cell_type": "markdown",
   "metadata": {},
   "source": [
    "```python\n",
    "def my_function_name():\n",
    "  print(\"Hello from a function\")"
   ]
  },
  {
   "cell_type": "markdown",
   "metadata": {},
   "source": [
    "#### Calling a Function\n",
    "____\n"
   ]
  },
  {
   "cell_type": "markdown",
   "metadata": {},
   "source": [
    "To call a function, use the function name followed by parenthesis:"
   ]
  },
  {
   "cell_type": "markdown",
   "metadata": {},
   "source": [
    "```python\n",
    "def my_function_name():\n",
    "  print(\"Hello from a function\")\n",
    "\n",
    "my_function_name()"
   ]
  },
  {
   "cell_type": "markdown",
   "metadata": {},
   "source": [
    "#### Inputting Argument and parameters into a Function\n",
    "____"
   ]
  },
  {
   "cell_type": "markdown",
   "metadata": {},
   "source": [
    "Information can be passed into functions as parameters and arguments.  \n",
    "`Parameters` is what is pass into a `function` definition, and `arguments` is what is pass into the call function: Arguments are specified after the function name, inside the parentheses. You can add as many arguments as you want, just separate them with a comma.\n",
    "Example:"
   ]
  },
  {
   "cell_type": "markdown",
   "metadata": {},
   "source": [
    "```python\n",
    "def my_function_name(parameters1, parameters2,..):\n",
    "  print(\"Hello from a function\")\n",
    "\n",
    "my_function_name(arg1, arg2, ...)\n",
    "```\n",
    "\n",
    "By default, a function must be called with the correct number of arguments. Meaning that if your function expects 2 arguments, you have to call the function with 2 arguments, not more, and not less."
   ]
  },
  {
   "cell_type": "markdown",
   "metadata": {},
   "source": [
    "#### Arbitrary Arguments, *args\n",
    "___"
   ]
  },
  {
   "cell_type": "markdown",
   "metadata": {},
   "source": [
    "If you do not know how many arguments that will be passed into your function, add a `*` before the parameter name in the function definition.\n",
    "\n",
    "The `*` part indicates it can take any number of arguments. You can call it like this:\n",
    "\n",
    "```python\n",
    "def my_function(*info):\n",
    "    print(\" This is a sample of\" + info[0])\n",
    "    \n",
    "\n",
    "# Calling the function \n",
    " my_function(\"argument1\", \"argument2\", \"argument3\")\n",
    " ```\n",
    " Here, \"argument1\" will be assigned to info[0], \"argument2\" to info[1], and so on within the function."
   ]
  },
  {
   "cell_type": "code",
   "execution_count": 4,
   "metadata": {},
   "outputs": [
    {
     "name": "stdout",
     "output_type": "stream",
     "text": [
      "The eldest son is Fahrid\n"
     ]
    }
   ],
   "source": [
    "# If the number of arguments is unknown, add a * before the parameter name:\n",
    "def my_function(*kids):\n",
    "  print(\"The eldest son is \" + kids[1])\n",
    "\n",
    "my_function(\"Faizah\", \"Fahrid\", \"Teslim\")"
   ]
  },
  {
   "cell_type": "markdown",
   "metadata": {},
   "source": [
    "Here, the function my_function also takes variable-length arguments using *kids. When you call my_function(\"Faizah\", \"Fahrid\", \"Teslim\"), it packs all arguments into a tuple named kids. When you print kids[1], you concatenate it with a string using the + operator, which works fine in Python."
   ]
  },
  {
   "cell_type": "code",
   "execution_count": 5,
   "metadata": {},
   "outputs": [
    {
     "name": "stdout",
     "output_type": "stream",
     "text": [
      "information  Jine\n"
     ]
    }
   ],
   "source": [
    "def my_function(*info):\n",
    "  print(\"information \", info[1])\n",
    "\n",
    "# calling the function \n",
    "my_function(\"Olu\", \"Jine\", \"Kim\")"
   ]
  },
  {
   "cell_type": "markdown",
   "metadata": {},
   "source": [
    "#### Keyword Arguments\n",
    "___"
   ]
  },
  {
   "cell_type": "markdown",
   "metadata": {},
   "source": [
    "You can also call arguments with the key `=` value syntax.\n",
    "\n",
    "This way the order of the arguments  arrangement does not matter if the `=` is used as part of argument or parameters "
   ]
  },
  {
   "cell_type": "code",
   "execution_count": 8,
   "metadata": {},
   "outputs": [
    {
     "name": "stdout",
     "output_type": "stream",
     "text": [
      "The youngest child is Linus\n"
     ]
    }
   ],
   "source": [
    "def my_function(child1, child3, child2):\n",
    "  print(\"The youngest child is \" + child3)\n",
    "\n",
    "my_function(child1 = \"Emil\", child2 = \"Tobias\", child3 = \"Linus\")"
   ]
  },
  {
   "cell_type": "markdown",
   "metadata": {},
   "source": [
    "#### Arbitrary Keyword Arguments, **kwargs\n",
    "___"
   ]
  },
  {
   "cell_type": "markdown",
   "metadata": {},
   "source": [
    "Arbitrary Kword Arguments are often shortened to **kwargs in Python documentations\n",
    "If you do not know how many `keyword` arguments that will be passed into your function, add two asterisk: `**` before the parameter name in the function definition.\n",
    "\n",
    "This way the function will receive a dictionary of arguments, `parameter[\"key\"]` and can access the items accordingly:"
   ]
  },
  {
   "cell_type": "code",
   "execution_count": 15,
   "metadata": {},
   "outputs": [
    {
     "name": "stdout",
     "output_type": "stream",
     "text": [
      "The youngest child is Linus\n"
     ]
    }
   ],
   "source": [
    "# Example 1\n",
    "def my_function(**child):\n",
    "  print(\"The youngest child is \" + child[\"child3\"]) # this is access as a dictionary \n",
    "\n",
    "my_function(child1 = \"Emil\", child2 = \"Tobias\", child3 = \"Linus\")"
   ]
  },
  {
   "cell_type": "code",
   "execution_count": 16,
   "metadata": {},
   "outputs": [
    {
     "name": "stdout",
     "output_type": "stream",
     "text": [
      "Kindly idenifify which table we are using, your reply Black\n"
     ]
    }
   ],
   "source": [
    "# Example 2\n",
    "def list_books(**books):\n",
    "    print(\"Kindly idenifify which table we are using, your reply \" + books [\"Table1\"])\n",
    "\n",
    "list_books(Table1 = \"Black\", Table2 = \"white\")"
   ]
  },
  {
   "cell_type": "markdown",
   "metadata": {},
   "source": [
    "#### Default Parameter Value\n",
    "___"
   ]
  },
  {
   "cell_type": "markdown",
   "metadata": {},
   "source": [
    "The following example shows how to use a default parameter value that we have define in our function. \n",
    "\n",
    "If we call the function without argument, it uses the default parameters that we set in in the definition. "
   ]
  },
  {
   "cell_type": "code",
   "execution_count": 34,
   "metadata": {},
   "outputs": [
    {
     "name": "stdout",
     "output_type": "stream",
     "text": [
      "I am from Sweden\n",
      "I am from India\n",
      "I am from Norway\n",
      "I am from Brazil\n"
     ]
    }
   ],
   "source": [
    "def my_function(country = \"Norway\"):\n",
    "  print(\"I am from \" + country)\n",
    "\n",
    "my_function(\"Sweden\")\n",
    "my_function(\"India\")\n",
    "my_function()\n",
    "my_function(\"Brazil\")"
   ]
  },
  {
   "cell_type": "code",
   "execution_count": 20,
   "metadata": {},
   "outputs": [
    {
     "name": "stdout",
     "output_type": "stream",
     "text": [
      "5\n",
      "None\n",
      "10\n",
      "None\n",
      "13\n",
      "None\n"
     ]
    }
   ],
   "source": [
    "def summation(a = 5, b =8 ):\n",
    "    print(a + b)\n",
    "\n",
    "print(summation(2, 3))\n",
    "print(summation(2))\n",
    "print(summation())"
   ]
  },
  {
   "cell_type": "markdown",
   "metadata": {},
   "source": [
    "#### Passing a List as an Argument\n",
    "___"
   ]
  },
  {
   "cell_type": "markdown",
   "metadata": {},
   "source": [
    "You can send any data types of argument to a function (string, number, list, dictionary etc.), and it will be treated as the same data type inside the function.\n",
    "\n",
    "E.g. if you send a List as an argument, it will still be a List when it reaches the function:"
   ]
  },
  {
   "cell_type": "code",
   "execution_count": 23,
   "metadata": {},
   "outputs": [
    {
     "name": "stdout",
     "output_type": "stream",
     "text": [
      "Hello, Alice!\n"
     ]
    }
   ],
   "source": [
    "# String Argument:\n",
    "def greet(name):\n",
    "    return f\"Hello, {name}!\"\n",
    "\n",
    "result = greet(\"Alice\")\n",
    "print(result)  "
   ]
  },
  {
   "cell_type": "code",
   "execution_count": 24,
   "metadata": {},
   "outputs": [
    {
     "name": "stdout",
     "output_type": "stream",
     "text": [
      "25\n"
     ]
    }
   ],
   "source": [
    "# Number Argument:\n",
    "def square(num):\n",
    "    return num ** 2\n",
    "\n",
    "result = square(5)\n",
    "print(result)"
   ]
  },
  {
   "cell_type": "code",
   "execution_count": 27,
   "metadata": {},
   "outputs": [
    {
     "name": "stdout",
     "output_type": "stream",
     "text": [
      "5\n"
     ]
    }
   ],
   "source": [
    "# List Argument:\n",
    "def sum_list(numbers):\n",
    "    return max(numbers)\n",
    "\n",
    "result = sum_list([1, 2, 3, 4, 5])\n",
    "print(result) "
   ]
  },
  {
   "cell_type": "code",
   "execution_count": 28,
   "metadata": {},
   "outputs": [
    {
     "name": "stdout",
     "output_type": "stream",
     "text": [
      "2\n"
     ]
    }
   ],
   "source": [
    "# Dictionary Argument:\n",
    "def get_value(dictionary, key):\n",
    "    return dictionary.get(key)\n",
    "\n",
    "my_dict = {'a': 1, 'b': 2, 'c': 3}\n",
    "result = get_value(my_dict, 'b')\n",
    "print(result) "
   ]
  },
  {
   "cell_type": "markdown",
   "metadata": {},
   "source": [
    "This Python script defines a function `get_value` and uses it to retrieve a value from a dictionary.\n",
    "\n",
    "Here's a breakdown of the script:\n",
    "\n",
    "- The `get_value` function is defined with two parameters: `dictionary` and [`key`](command:_github.copilot.openSymbolInFile?%5B%22..%2F..%2F..%2F..%2F.vscode%2Fextensions%2Fms-python.vscode-pylance-2024.4.1%2Fdist%2Ftypeshed-fallback%2Fstdlib%2Fbuiltins.pyi%22%2C%22key%22%5D \"../../../../.vscode/extensions/ms-python.vscode-pylance-2024.4.1/dist/typeshed-fallback/stdlib/builtins.pyi\"). This function uses the [`get`](command:_github.copilot.openSymbolInFile?%5B%22..%2F..%2F..%2F..%2F.vscode%2Fextensions%2Fms-python.vscode-pylance-2024.4.1%2Fdist%2Ftypeshed-fallback%2Fstdlib%2Fbuiltins.pyi%22%2C%22get%22%5D \"../../../../.vscode/extensions/ms-python.vscode-pylance-2024.4.1/dist/typeshed-fallback/stdlib/builtins.pyi\") method of the dictionary to return the value associated with the provided key. If the key is not found in the dictionary, the [`get`](command:_github.copilot.openSymbolInFile?%5B%22..%2F..%2F..%2F..%2F.vscode%2Fextensions%2Fms-python.vscode-pylance-2024.4.1%2Fdist%2Ftypeshed-fallback%2Fstdlib%2Fbuiltins.pyi%22%2C%22get%22%5D \"../../../../.vscode/extensions/ms-python.vscode-pylance-2024.4.1/dist/typeshed-fallback/stdlib/builtins.pyi\") method returns `None`.\n",
    "\n",
    "- A dictionary `my_dict` is created with three key-value pairs: `'a': 1`, `'b': 2`, and `'c': 3`.\n",
    "\n",
    "- The `get_value` function is called with `my_dict` and `'b'` as arguments, and the result is stored in the variable `result`. This retrieves the value associated with the key `'b'` in `my_dict`, which is `2`.\n",
    "\n",
    "- The [`print`](command:_github.copilot.openSymbolInFile?%5B%22..%2F..%2F..%2F..%2F.vscode%2Fextensions%2Fms-python.vscode-pylance-2024.4.1%2Fdist%2Ftypeshed-fallback%2Fstdlib%2Fbuiltins.pyi%22%2C%22print%22%5D \"../../../../.vscode/extensions/ms-python.vscode-pylance-2024.4.1/dist/typeshed-fallback/stdlib/builtins.pyi\") function is called with `result` as an argument to display the result. This prints `2` to the console.\n",
    "\n",
    "So, in summary, this script defines a function to retrieve a value from a dictionary using a key, creates a dictionary, uses the function to get a value from the dictionary, and prints the result."
   ]
  },
  {
   "cell_type": "markdown",
   "metadata": {},
   "source": [
    "#### The pass Statement\n",
    "___"
   ]
  },
  {
   "cell_type": "markdown",
   "metadata": {},
   "source": [
    "function definitions cannot be empty, but if you for some reason have a function definition with no content, put in the pass statement to avoid getting an error."
   ]
  },
  {
   "cell_type": "code",
   "execution_count": 29,
   "metadata": {},
   "outputs": [],
   "source": [
    "def myfunction():\n",
    "  pass"
   ]
  },
  {
   "cell_type": "markdown",
   "metadata": {},
   "source": [
    "#### Positional-Only Arguments & Keyword-Only Arguments\n",
    "___"
   ]
  },
  {
   "cell_type": "markdown",
   "metadata": {},
   "source": [
    "Positional-only arguments are a feature in Python introduced in version 3.8. They allow you to specify arguments in a function definition that can only be passed positionally and cannot be <font color = red > specified by keyword.</font>\n",
    "\n",
    "To declare positional-only arguments, you use a forward slash `/` in the function definition. \n",
    "\n",
    "- Any parameter listed before the `/` can only be passed by position, while parameters listed after the `/` can be passed by either position or keyword.\n",
    "\n",
    "Here's a simple example to illustrate the concept:"
   ]
  },
  {
   "cell_type": "markdown",
   "metadata": {},
   "source": [
    "Positional-Only Arguments\n",
    "___"
   ]
  },
  {
   "cell_type": "code",
   "execution_count": 84,
   "metadata": {},
   "outputs": [
    {
     "name": "stdout",
     "output_type": "stream",
     "text": [
      "3\n"
     ]
    }
   ],
   "source": [
    "# Example 1: Positional-only Arguments\n",
    "def my_function(x, /):\n",
    "  print(x)\n",
    "\n",
    "my_function(3)"
   ]
  },
  {
   "cell_type": "markdown",
   "metadata": {},
   "source": [
    "With the `, / `, you cannot pass a keyword argument into the function because the function state that x is a position only  argument. Attemtpt to pass  the keyword argument to the function will result into error. "
   ]
  },
  {
   "cell_type": "code",
   "execution_count": 82,
   "metadata": {},
   "outputs": [],
   "source": [
    "# Attempting to pass a position argument (x = 3) which will raise an error\n",
    "def my_function(x, /):\n",
    "  print(x)\n",
    "\n",
    "# my_function(x = 3) this will raise an error"
   ]
  },
  {
   "cell_type": "markdown",
   "metadata": {},
   "source": [
    "Keyword-Only Arguments\n",
    "___"
   ]
  },
  {
   "cell_type": "markdown",
   "metadata": {},
   "source": [
    "Aside from the position argument above, we can specify that a function can have only keyword arguments, by adding `*`, before the arguments:"
   ]
  },
  {
   "cell_type": "code",
   "execution_count": 83,
   "metadata": {},
   "outputs": [
    {
     "name": "stdout",
     "output_type": "stream",
     "text": [
      "3\n"
     ]
    }
   ],
   "source": [
    "def my_function(*, x):\n",
    "  print(x)\n",
    "\n",
    "my_function(x = 3)"
   ]
  },
  {
   "cell_type": "code",
   "execution_count": 86,
   "metadata": {},
   "outputs": [],
   "source": [
    "# Attempting to pass a keyword argument (3) which will raise an error\n",
    "def my_function(*, x):\n",
    "  print(x)\n",
    "\n",
    "# my_function(3) "
   ]
  },
  {
   "cell_type": "markdown",
   "metadata": {},
   "source": [
    "Combine Positional-Only and Keyword-Only\n",
    "___"
   ]
  },
  {
   "cell_type": "code",
   "execution_count": 30,
   "metadata": {},
   "outputs": [
    {
     "name": "stdout",
     "output_type": "stream",
     "text": [
      "26\n"
     ]
    }
   ],
   "source": [
    "# Example 1: combining positional-only, keyword-only, and variadic arguments\n",
    "def my_function(a, b, /, *, c, d):\n",
    "  print(a + b + c + d)\n",
    "\n",
    "my_function(5, 6, c = 7, d = 8)"
   ]
  },
  {
   "cell_type": "markdown",
   "metadata": {},
   "source": [
    "This Python code defines a function `my_function` that takes four arguments and prints their sum. The function uses a special syntax for specifying how arguments should be passed when the function is called.\n",
    "\n",
    "The function definition `def my_function(a, b, /, *, c, d):` uses both the [``/``](command:_github.copilot.openRelativePath?%5B%7B%22scheme%22%3A%22file%22%2C%22authority%22%3A%22%22%2C%22path%22%3A%22%2FUsers%2Fteslim%2FLibrary%2FCloudStorage%2FOneDrive-TeslimUthmanAdeyanju%2FTeSlim_Data_Scientist%2F%22%2C%22query%22%3A%22%22%2C%22fragment%22%3A%22%22%7D%5D \"/Users/teslim/Library/CloudStorage/OneDrive-TeslimUthmanAdeyanju/TeSlim_Data_Scientist/\") and `*` symbols to control how arguments can be passed to the function. \n",
    "\n",
    "The [``/``](command:_github.copilot.openRelativePath?%5B%7B%22scheme%22%3A%22file%22%2C%22authority%22%3A%22%22%2C%22path%22%3A%22%2FUsers%2Fteslim%2FLibrary%2FCloudStorage%2FOneDrive-TeslimUthmanAdeyanju%2FTeSlim_Data_Scientist%2F%22%2C%22query%22%3A%22%22%2C%22fragment%22%3A%22%22%7D%5D \"/Users/teslim/Library/CloudStorage/OneDrive-TeslimUthmanAdeyanju/TeSlim_Data_Scientist/\") symbol indicates that the parameters before it (`a` and `b`) are positional-only parameters. This means that they can only be passed to the function based on their position in the function call, not by their names.\n",
    "\n",
    "The `*` symbol indicates that the parameters after it ([`c`](command:_github.copilot.openSymbolInFile?%5B%22..%2F..%2F..%2F..%2F.vscode%2Fextensions%2Fms-python.vscode-pylance-2024.4.1%2Fdist%2Ftypeshed-fallback%2Fstdlib%2Fbuiltins.pyi%22%2C%22c%22%5D \"../../../../.vscode/extensions/ms-python.vscode-pylance-2024.4.1/dist/typeshed-fallback/stdlib/builtins.pyi\") and `d`) are keyword-only parameters. This means that they can only be passed to the function by their names, not based on their position in the function call.\n",
    "\n",
    "Inside the function, the [`print`](command:_github.copilot.openSymbolInFile?%5B%22..%2F..%2F..%2F..%2F.vscode%2Fextensions%2Fms-python.vscode-pylance-2024.4.1%2Fdist%2Ftypeshed-fallback%2Fstdlib%2Fbuiltins.pyi%22%2C%22print%22%5D \"../../../../.vscode/extensions/ms-python.vscode-pylance-2024.4.1/dist/typeshed-fallback/stdlib/builtins.pyi\") statement adds up the values of `a`, `b`, [`c`](command:_github.copilot.openSymbolInFile?%5B%22..%2F..%2F..%2F..%2F.vscode%2Fextensions%2Fms-python.vscode-pylance-2024.4.1%2Fdist%2Ftypeshed-fallback%2Fstdlib%2Fbuiltins.pyi%22%2C%22c%22%5D \"../../../../.vscode/extensions/ms-python.vscode-pylance-2024.4.1/dist/typeshed-fallback/stdlib/builtins.pyi\"), and `d` and prints the result.\n",
    "\n",
    "The function is then called with `my_function(5, 6, c = 7, d = 8)`. Here, `5` and `6` are passed as positional arguments to `a` and `b`, and [`c`](command:_github.copilot.openSymbolInFile?%5B%22..%2F..%2F..%2F..%2F.vscode%2Fextensions%2Fms-python.vscode-pylance-2024.4.1%2Fdist%2Ftypeshed-fallback%2Fstdlib%2Fbuiltins.pyi%22%2C%22c%22%5D \"../../../../.vscode/extensions/ms-python.vscode-pylance-2024.4.1/dist/typeshed-fallback/stdlib/builtins.pyi\") and `d` are specified as keyword arguments with values `7` and `8` respectively. The function then prints the sum of these values, which is `26`."
   ]
  },
  {
   "cell_type": "code",
   "execution_count": 38,
   "metadata": {},
   "outputs": [
    {
     "name": "stdout",
     "output_type": "stream",
     "text": [
      "1 2 3 4\n",
      "1 2 3 4\n",
      "1 2 3 4\n"
     ]
    }
   ],
   "source": [
    "# Example 2: Positional-only parameters\n",
    "def example_func(a, b, /, c, d):\n",
    "    print(a, b, c, d)\n",
    "\n",
    "example_func(1, 2, 3, 4) \n",
    "example_func(1, 2, c = 3, d = 4)  \n",
    "example_func(1, 2, 3, d=4)\n",
    "# example_func(1, b = 2, c = 3, d = 4) # this will raise an error"
   ]
  },
  {
   "cell_type": "markdown",
   "metadata": {},
   "source": [
    "#### Example of Full Function \n",
    "___"
   ]
  },
  {
   "cell_type": "code",
   "execution_count": 31,
   "metadata": {},
   "outputs": [
    {
     "name": "stdout",
     "output_type": "stream",
     "text": [
      "Hello, Teslim. Good morning!\n"
     ]
    }
   ],
   "source": [
    "def detail(name):\n",
    "    \"\"\"\n",
    "    This is a detail about Teslim\n",
    "    \"\"\"\n",
    "    print(\"Hello, \" + name + \". Good morning!\") # Note that it is the parameters from the def that is printed\n",
    "\n",
    "# Call the function\n",
    "detail(\"Teslim\") # The arguments (str) has inverted commas"
   ]
  },
  {
   "cell_type": "markdown",
   "metadata": {},
   "source": [
    "The active selection is a simple Python function definition and function call.\n",
    "\n",
    "The function is defined using the `def` keyword, followed by the function name `detail`, and a parameter [`name`](command:_github.copilot.openSymbolInFile?%5B%22..%2F..%2F..%2F..%2F.vscode%2Fextensions%2Fms-python.vscode-pylance-2024.3.2%2Fdist%2Ftypeshed-fallback%2Fstdlib%2Fbuiltins.pyi%22%2C%22name%22%5D \"../../../../.vscode/extensions/ms-python.vscode-pylance-2024.3.2/dist/typeshed-fallback/stdlib/builtins.pyi\") enclosed in parentheses. The colon at the end of this line signifies the start of the function body, which is indented.\n",
    "\n",
    "Inside the function, there's a docstring, which is a type of comment used to explain the purpose of the function. In this case, the docstring says \"This is a detail about Teslim\". Docstrings are optional but are considered good practice, especially for complex functions.\n",
    "\n",
    "The function body contains a single statement, a [`print`](command:_github.copilot.openSymbolInFile?%5B%22..%2F..%2F..%2F..%2F.vscode%2Fextensions%2Fms-python.vscode-pylance-2024.3.2%2Fdist%2Ftypeshed-fallback%2Fstdlib%2Fbuiltins.pyi%22%2C%22print%22%5D \"../../../../.vscode/extensions/ms-python.vscode-pylance-2024.3.2/dist/typeshed-fallback/stdlib/builtins.pyi\") function call. This [`print`](command:_github.copilot.openSymbolInFile?%5B%22..%2F..%2F..%2F..%2F.vscode%2Fextensions%2Fms-python.vscode-pylance-2024.3.2%2Fdist%2Ftypeshed-fallback%2Fstdlib%2Fbuiltins.pyi%22%2C%22print%22%5D \"../../../../.vscode/extensions/ms-python.vscode-pylance-2024.3.2/dist/typeshed-fallback/stdlib/builtins.pyi\") function takes a string, which is a concatenation of \"Hello, \", the [`name`](command:_github.copilot.openSymbolInFile?%5B%22..%2F..%2F..%2F..%2F.vscode%2Fextensions%2Fms-python.vscode-pylance-2024.3.2%2Fdist%2Ftypeshed-fallback%2Fstdlib%2Fbuiltins.pyi%22%2C%22name%22%5D \"../../../../.vscode/extensions/ms-python.vscode-pylance-2024.3.2/dist/typeshed-fallback/stdlib/builtins.pyi\") parameter, and \". Good morning!\". The `+` operator is used to concatenate, or join together, these strings.\n",
    "\n",
    "Finally, outside the function definition, the `detail` function is called with the argument \"Teslim\". When this line is executed, it calls the `detail` function, passing \"Teslim\" as the [`name`](command:_github.copilot.openSymbolInFile?%5B%22..%2F..%2F..%2F..%2F.vscode%2Fextensions%2Fms-python.vscode-pylance-2024.3.2%2Fdist%2Ftypeshed-fallback%2Fstdlib%2Fbuiltins.pyi%22%2C%22name%22%5D \"../../../../.vscode/extensions/ms-python.vscode-pylance-2024.3.2/dist/typeshed-fallback/stdlib/builtins.pyi\"). The function then prints \"Hello, Teslim. Good morning!\" to the console.\n",
    "\n",
    "If you forget the parenthesis () in the function calling, it will simply display the fact that `detail` is a function. "
   ]
  },
  {
   "cell_type": "code",
   "execution_count": 32,
   "metadata": {},
   "outputs": [
    {
     "data": {
      "text/plain": [
       "<function __main__.detail(name)>"
      ]
     },
     "execution_count": 32,
     "metadata": {},
     "output_type": "execute_result"
    }
   ],
   "source": [
    "detail"
   ]
  },
  {
   "cell_type": "code",
   "execution_count": 33,
   "metadata": {},
   "outputs": [
    {
     "name": "stdout",
     "output_type": "stream",
     "text": [
      "Adeyanju Teslim\n"
     ]
    }
   ],
   "source": [
    "def my_function(fname, lname):\n",
    "  print(fname + \" \" + lname)\n",
    "\n",
    "my_function(\"Adeyanju\", \"Teslim\") # The arguments (str) has inverted commas"
   ]
  },
  {
   "cell_type": "markdown",
   "metadata": {},
   "source": [
    "#### Using `return` in function\n",
    "___"
   ]
  },
  {
   "cell_type": "markdown",
   "metadata": {},
   "source": [
    "In simple terms, the purpose of return in a function is to send back a value from the function to where the function was called. When you call a function, you often want it to perform some operations and then give you back some result or information. The return statement allows the function to do just that.\n",
    "\n",
    "Think of it like this: you send some data into the function (the arguments), it processes that data, and then it sends back a result using return. This result can then be used in your program for further computation, printing, or any other desired action.\n",
    "\n",
    "Here's a simple example:"
   ]
  },
  {
   "cell_type": "code",
   "execution_count": 44,
   "metadata": {},
   "outputs": [
    {
     "name": "stdout",
     "output_type": "stream",
     "text": [
      "3\n"
     ]
    }
   ],
   "source": [
    "def info(a, b, c):\n",
    "    return a + b + c\n",
    "\n",
    "# Call the function\n",
    "info(1,1,1)\n",
    "\n",
    "# Re-assigned the function to a variable\n",
    "result = info(1,1,1)\n",
    "\n",
    "# print the variable\n",
    "print(result)"
   ]
  },
  {
   "cell_type": "markdown",
   "metadata": {},
   "source": [
    "The above code can be simplify as thus "
   ]
  },
  {
   "cell_type": "code",
   "execution_count": 45,
   "metadata": {},
   "outputs": [
    {
     "name": "stdout",
     "output_type": "stream",
     "text": [
      "3\n"
     ]
    }
   ],
   "source": [
    "def info(a, b, c):\n",
    "    return a + b + c\n",
    "\n",
    "result = info(1,1,1)\n",
    "print(result)"
   ]
  },
  {
   "cell_type": "code",
   "execution_count": 37,
   "metadata": {},
   "outputs": [
    {
     "name": "stdout",
     "output_type": "stream",
     "text": [
      "2.5\n"
     ]
    }
   ],
   "source": [
    "def detail_info(a,b):\n",
    "    return(a/b)\n",
    "\n",
    "info = detail_info(5,2)\n",
    "print(info)"
   ]
  },
  {
   "cell_type": "markdown",
   "metadata": {},
   "source": [
    "#### What is the difference between `return` and `print`?\n",
    "____"
   ]
  },
  {
   "cell_type": "markdown",
   "metadata": {},
   "source": [
    "In Python, `print` and `return` are used for different purposes within a function.\n",
    "\n",
    "The `return` keyword allows you to actually save the result of the output of a function as a variable. The `print()` function simply displays the output to you, but doesn't save it for future use."
   ]
  },
  {
   "cell_type": "code",
   "execution_count": 39,
   "metadata": {},
   "outputs": [
    {
     "name": "stdout",
     "output_type": "stream",
     "text": [
      "15\n"
     ]
    }
   ],
   "source": [
    "# function with print\n",
    "def print_result(a,b):\n",
    "    print(a+b)\n",
    "    \n",
    "print_result(10,5)"
   ]
  },
  {
   "cell_type": "code",
   "execution_count": 40,
   "metadata": {},
   "outputs": [
    {
     "name": "stdout",
     "output_type": "stream",
     "text": [
      "15\n"
     ]
    }
   ],
   "source": [
    "# function with return\n",
    "def return_result(a,b):\n",
    "    return a + b\n",
    "\n",
    "result = return_result(10,5)\n",
    "print(result)"
   ]
  },
  {
   "cell_type": "markdown",
   "metadata": {},
   "source": [
    "The different between the two code becomes apparent when we save the two code for the purpose of re-use: "
   ]
  },
  {
   "cell_type": "markdown",
   "metadata": {},
   "source": [
    "**`Print` function:**"
   ]
  },
  {
   "cell_type": "code",
   "execution_count": 41,
   "metadata": {},
   "outputs": [
    {
     "name": "stdout",
     "output_type": "stream",
     "text": [
      "40\n"
     ]
    }
   ],
   "source": [
    "# this is intended to re-assigned the print function result to a variable Test_1:\n",
    "Test_1 = print_result(20,20)"
   ]
  },
  {
   "cell_type": "markdown",
   "metadata": {},
   "source": [
    "Be careful! Notice how print_result() doesn't let you actually save the result to a variable! It only prints it out, with print() returning None for the assignment!"
   ]
  },
  {
   "cell_type": "code",
   "execution_count": 42,
   "metadata": {},
   "outputs": [
    {
     "name": "stdout",
     "output_type": "stream",
     "text": [
      "None\n"
     ]
    }
   ],
   "source": [
    "# if we call on the variable Test_1 again, the output will print `none` because the variable is not re-assigned\n",
    "print(Test_1)"
   ]
  },
  {
   "cell_type": "code",
   "execution_count": 43,
   "metadata": {},
   "outputs": [
    {
     "data": {
      "text/plain": [
       "NoneType"
      ]
     },
     "execution_count": 43,
     "metadata": {},
     "output_type": "execute_result"
    }
   ],
   "source": [
    "type(Test_1)"
   ]
  },
  {
   "cell_type": "code",
   "execution_count": 52,
   "metadata": {},
   "outputs": [],
   "source": [
    "# Equally, we cannot add the variable together. We will encounter an error because we are trying to add a variable that is not none, and undefined\n",
    "# Test_1 + Test_1"
   ]
  },
  {
   "cell_type": "markdown",
   "metadata": {},
   "source": [
    "**`return` function**"
   ]
  },
  {
   "cell_type": "code",
   "execution_count": 53,
   "metadata": {},
   "outputs": [],
   "source": [
    "# this is intended to re-assigned the RETURN function result to a variable Test_2:\n",
    "Test_2 = return_result(20,20)"
   ]
  },
  {
   "cell_type": "code",
   "execution_count": 54,
   "metadata": {},
   "outputs": [
    {
     "name": "stdout",
     "output_type": "stream",
     "text": [
      "40\n"
     ]
    }
   ],
   "source": [
    "# if we call on the variable Test_2 again, the output will print the result of the function\n",
    "print(Test_2)"
   ]
  },
  {
   "cell_type": "code",
   "execution_count": 55,
   "metadata": {},
   "outputs": [
    {
     "data": {
      "text/plain": [
       "80"
      ]
     },
     "execution_count": 55,
     "metadata": {},
     "output_type": "execute_result"
    }
   ],
   "source": [
    "# We can add the result from return function because the variable is defined\n",
    "Test_2 + Test_2"
   ]
  },
  {
   "cell_type": "markdown",
   "metadata": {},
   "source": [
    "## Adding Logic to Internal Function Operations\n",
    "___"
   ]
  },
  {
   "cell_type": "markdown",
   "metadata": {},
   "source": [
    "We can add additional information to the working of a function with the logical statements of Python, such as if/else/elif statements, for and while loops, checking if an item is in a list or not in a list: "
   ]
  },
  {
   "cell_type": "markdown",
   "metadata": {},
   "source": [
    "#### Very Technical Issues in the construction of function 1\n",
    "___ "
   ]
  },
  {
   "cell_type": "code",
   "execution_count": 2,
   "metadata": {},
   "outputs": [
    {
     "name": "stdout",
     "output_type": "stream",
     "text": [
      "not applicable\n",
      "not applicable\n",
      "not applicable\n",
      "not applicable\n"
     ]
    },
    {
     "data": {
      "text/plain": [
       "True"
      ]
     },
     "execution_count": 2,
     "metadata": {},
     "output_type": "execute_result"
    }
   ],
   "source": [
    "def multple_3(list):\n",
    "    for number in list:\n",
    "        if number / 3 == 2:\n",
    "            return True\n",
    "        else:\n",
    "            print(\"not applicable\")\n",
    "\n",
    "# call the function\n",
    "multple_3([1,3,4,5,6,7,8,9,10])"
   ]
  },
  {
   "cell_type": "markdown",
   "metadata": {},
   "source": [
    "The active selection is a Python function named `multple_3` that takes a list of numbers as an argument. This function iterates over each number in the list and checks if the number divided by 3 equals 2. If this condition is met, the function immediately returns `True` and stops further execution. If the condition is not met, it prints \"not applicable\" to the console.\n",
    "\n",
    "After the function definition, the function is called with a list of numbers from 1 to 10 as an argument. \n",
    "\n",
    "The condition `number / 3 == 2` will only be true for the number 6. If the list does not contain the number 6, the function will print \"not applicable\" for each number in the list. If the list does contain the number 6, the function will return `True` as soon as it encounters 6, <font color = red > without checking the remaining numbers in the list. </font>\n",
    "\n",
    "\n"
   ]
  },
  {
   "cell_type": "code",
   "execution_count": 58,
   "metadata": {},
   "outputs": [
    {
     "data": {
      "text/plain": [
       "True"
      ]
     },
     "execution_count": 58,
     "metadata": {},
     "output_type": "execute_result"
    }
   ],
   "source": [
    "def multple_3(list):\n",
    "    for number in list:\n",
    "        if number / 2 == 2:\n",
    "            return True\n",
    "        else:\n",
    "            print(\"not applicable\")\n",
    "\n",
    "# calling the function\n",
    "multple_3([4,2,1])"
   ]
  },
  {
   "cell_type": "markdown",
   "metadata": {},
   "source": [
    "The active selection is a Python function named `multple_3` that takes a list of numbers as an argument. This function iterates over each number in the list and checks if the number divided by 2 equals 2. If this condition is met, the function immediately returns `True` and stops further execution. If the condition is not met, it prints \"not applicable\" to the console.\n",
    "\n",
    "After the function definition, the function is called with a list of numbers [4,2,1] as an argument. \n",
    "\n",
    "The condition `number / 2 == 2` will only be true for the number 4. If the list does not contain the number 4, the function will print \"not applicable\" for each number in the list. If the list does contain the number 4, the function will return `True` as soon as it encounters 4, without checking the remaining numbers in the list. \n",
    "\n",
    "If the intention is to check if any number in the list is a multiple of 2, the condition should be `number % 2 == 0`. The modulus operator `%` gives the remainder of the division of the number by 2. If the remainder is 0, the number is a multiple of 2."
   ]
  },
  {
   "cell_type": "markdown",
   "metadata": {},
   "source": [
    "#### Positioning of the code and indent\n",
    "___"
   ]
  },
  {
   "cell_type": "markdown",
   "metadata": {},
   "source": [
    "The positioning of the code inside the indent means alot in the function, and this can be explained with the example below: "
   ]
  },
  {
   "cell_type": "code",
   "execution_count": 59,
   "metadata": {},
   "outputs": [
    {
     "data": {
      "text/plain": [
       "False"
      ]
     },
     "execution_count": 59,
     "metadata": {},
     "output_type": "execute_result"
    }
   ],
   "source": [
    "# calling the function to check if the numbers in the list are even\n",
    "def check_even_list(num_list):\n",
    "    for number in num_list:\n",
    "        if number % 2 == 0:\n",
    "            return True\n",
    "        else:\n",
    "            return False\n",
    "\n",
    "# calling the function to check if the numbers in the list are even\n",
    "check_even_list([1,2,3])"
   ]
  },
  {
   "cell_type": "markdown",
   "metadata": {},
   "source": [
    "Explanation of the code \n",
    "\n",
    "- `def` check_even_list(num_list):: This line defines a function called check_even_list that takes one parameter num_list, which is a list of numbers.\n",
    "\n",
    "- `for` number in num_list:: This line initiates a loop that iterates through each element in the `num_list` provided as an argument to the function.\n",
    "\n",
    "- if number % 2 == 0:: This line checks if the current number in the loop is even. The % operator is the modulo operator, which returns the remainder of the division. If the remainder is 0 when dividing by 2, it means the number is even.\n",
    "\n",
    "- `return` True: If the number is even, the function immediately returns True, indicating that at least one even number is found in the list.\n",
    "\n",
    "- `else`: return False: If the number is not even, meaning it's odd, the function immediately returns False, indicating that no even numbers are found in the list.   \n",
    "\n",
    "Now, let's analyze how the function behaves when called with the list [1, 2, 3]:\n",
    "\n",
    "1. The function is called with the list [1, 2, 3].\n",
    "2. The loop starts iterating through the list.\n",
    "3. It first encounters the number 1. Since 1 % 2 != 0, it returns False immediately without checking the rest of the numbers.\n",
    "4. The function returns False\n",
    "\n",
    "\n",
    "The problem with this implementation is that it returns False as soon as it encounters the first odd number. It doesn't continue checking the rest of the numbers in the list. Thus, it will not accurately determine if all the numbers are even or not. \n",
    "\n",
    "<font color = red > To fix this issue, you need to move the `return` False statement outside the loop </font> so that it only returns False if none of the numbers are even after checking all of them."
   ]
  },
  {
   "cell_type": "markdown",
   "metadata": {},
   "source": [
    "> To fix the code above, Here's the fixed version of the code with the return False statement moved outside the loop:"
   ]
  },
  {
   "cell_type": "code",
   "execution_count": 60,
   "metadata": {},
   "outputs": [
    {
     "data": {
      "text/plain": [
       "True"
      ]
     },
     "execution_count": 60,
     "metadata": {},
     "output_type": "execute_result"
    }
   ],
   "source": [
    "# calling the function to check if the numbers in the list are even\n",
    "def check_even_list(num_list):\n",
    "    for number in num_list:\n",
    "        if number % 2 == 0:\n",
    "            return True\n",
    "        else:\n",
    "            pass\n",
    "    return False\n",
    "\n",
    "# calling the function to check if the numbers in the list are even\n",
    "check_even_list([1,2,3])"
   ]
  },
  {
   "cell_type": "markdown",
   "metadata": {},
   "source": [
    "In this modified version:\n",
    "\n",
    "- The loop iterates through each number in the num_list.\n",
    "- If any of the numbers are even (number % 2 == 0), it returns True immediately.\n",
    "- If none of the numbers are even, it will reach the return False statement after the loop has finished iterating through all the numbers, indicating that no even numbers were found in the list."
   ]
  },
  {
   "cell_type": "markdown",
   "metadata": {},
   "source": [
    "#### Another Example of code indent \n",
    "___"
   ]
  },
  {
   "cell_type": "code",
   "execution_count": 61,
   "metadata": {},
   "outputs": [
    {
     "data": {
      "text/plain": [
       "False"
      ]
     },
     "execution_count": 61,
     "metadata": {},
     "output_type": "execute_result"
    }
   ],
   "source": [
    "def check_even_list(num_list):\n",
    "    for number in num_list:\n",
    "        if number * 2 == 10:\n",
    "            return True\n",
    "        return False\n",
    "\n",
    "# calling the function to check if the numbers in the list are even\n",
    "check_even_list([1,5,3])"
   ]
  },
  {
   "cell_type": "markdown",
   "metadata": {},
   "source": [
    "The active selection is a Python function named check_even_list that takes a list of numbers as an argument. This function iterates over each number in the list and checks if the number multiplied by 2 equals 10. If this condition is met, the function immediately returns True and stops further execution. If the condition is not met, it returns False.\n",
    "\n",
    "After the function definition, the function is called with a list of numbers [1,5,3] as an argument.\n",
    "\n",
    "However, there's a potential issue with this function. The condition number * 2 == 10 will only be true for the number 5. If the list does not contain the number 5, the function will return False after checking the first number in the list. If the list does contain the number 5, the function will return True as soon as it encounters 5, without checking the remaining numbers in the list.\n",
    "\n",
    "If the intention is to check if any number in the list is even, the condition should be number % 2 == 0. The modulus operator % gives the remainder of the division of the number by 2. If the remainder is 0, the number is even. Also, the return False statement should be outside the for loop to ensure that all numbers in the list are checked before returning False.\n",
    "\n",
    "To modify the code, we will add the else `pass` statement, and move the `return` outside the loop. Thius means that \"move on to the next number, untill all the number is check if it is even\". This is to ensure that all the number in the list  is being check. Example: "
   ]
  },
  {
   "cell_type": "code",
   "execution_count": 62,
   "metadata": {},
   "outputs": [
    {
     "data": {
      "text/plain": [
       "True"
      ]
     },
     "execution_count": 62,
     "metadata": {},
     "output_type": "execute_result"
    }
   ],
   "source": [
    "def check_even_list(num_list):\n",
    "    for number in num_list:\n",
    "        if number * 2 == 10:\n",
    "            return True\n",
    "        else:\n",
    "            pass\n",
    "    return False\n",
    "\n",
    "# calling the function to check if the numbers in the list are even\n",
    "check_even_list([1,5,3])"
   ]
  },
  {
   "cell_type": "code",
   "execution_count": 44,
   "metadata": {},
   "outputs": [
    {
     "data": {
      "text/plain": [
       "True"
      ]
     },
     "execution_count": 44,
     "metadata": {},
     "output_type": "execute_result"
    }
   ],
   "source": [
    "def check_multiple_of_3(numb_list):\n",
    "    for number in numb_list:\n",
    "        if number * 3 == 9:\n",
    "            return True\n",
    "        else:\n",
    "            pass\n",
    "    return False\n",
    "\n",
    "check_multiple_of_3([1,7,3])"
   ]
  },
  {
   "cell_type": "markdown",
   "metadata": {},
   "source": [
    "#### Return all even numbers in a list\n",
    "___ "
   ]
  },
  {
   "cell_type": "code",
   "execution_count": 64,
   "metadata": {},
   "outputs": [
    {
     "data": {
      "text/plain": [
       "[2, 4, 6]"
      ]
     },
     "execution_count": 64,
     "metadata": {},
     "output_type": "execute_result"
    }
   ],
   "source": [
    "def check_even_list(num_list):\n",
    "\n",
    "    even_numbers = []\n",
    "\n",
    "    # Go through each number\n",
    "    for number in num_list:\n",
    "        # Once we get a \"hit\" on an even number, we append the even number\n",
    "        if number % 2 == 0:\n",
    "            even_numbers.append(number)\n",
    "        # Don't do anything if its not even\n",
    "        else:\n",
    "            pass\n",
    "    # Notice the indentation! This ensures we run through the entire for loop\n",
    "    return even_numbers\n",
    "\n",
    "# calling the function to check if the numbers in the list are even\n",
    "check_even_list([1,2,3,4,5,6])"
   ]
  },
  {
   "cell_type": "markdown",
   "metadata": {},
   "source": [
    "The provided Python code defines a function named `check_even_list` that identifies all the even numbers in a given list and returns them in a new list.\n",
    "\n",
    "The function `check_even_list` takes one parameter, `num_list`, which is expected to be a list of numbers. At the start of the function, an empty list `even_numbers` is initialized to store the even numbers found in `num_list`.\n",
    "\n",
    "Inside the function, a `for` loop is used to iterate over the `num_list`. For each [`number`](command:_github.copilot.openSymbolInFile?%5B%22..%2F..%2F..%2F..%2F.vscode%2Fextensions%2Fms-python.vscode-pylance-2024.3.2%2Fdist%2Ftypeshed-fallback%2Fstdlib%2Fbuiltins.pyi%22%2C%22number%22%5D \"../../../../.vscode/extensions/ms-python.vscode-pylance-2024.3.2/dist/typeshed-fallback/stdlib/builtins.pyi\") in `num_list`, the function checks if [`number`](command:_github.copilot.openSymbolInFile?%5B%22..%2F..%2F..%2F..%2F.vscode%2Fextensions%2Fms-python.vscode-pylance-2024.3.2%2Fdist%2Ftypeshed-fallback%2Fstdlib%2Fbuiltins.pyi%22%2C%22number%22%5D \"../../../../.vscode/extensions/ms-python.vscode-pylance-2024.3.2/dist/typeshed-fallback/stdlib/builtins.pyi\") is even by using the modulus operator `%`. If `number % 2` equals `0`, then [`number`](command:_github.copilot.openSymbolInFile?%5B%22..%2F..%2F..%2F..%2F.vscode%2Fextensions%2Fms-python.vscode-pylance-2024.3.2%2Fdist%2Ftypeshed-fallback%2Fstdlib%2Fbuiltins.pyi%22%2C%22number%22%5D \"../../../../.vscode/extensions/ms-python.vscode-pylance-2024.3.2/dist/typeshed-fallback/stdlib/builtins.pyi\") is even, and the function appends [`number`](command:_github.copilot.openSymbolInFile?%5B%22..%2F..%2F..%2F..%2F.vscode%2Fextensions%2Fms-python.vscode-pylance-2024.3.2%2Fdist%2Ftypeshed-fallback%2Fstdlib%2Fbuiltins.pyi%22%2C%22number%22%5D \"../../../../.vscode/extensions/ms-python.vscode-pylance-2024.3.2/dist/typeshed-fallback/stdlib/builtins.pyi\") to the `even_numbers` list using the [`append`](command:_github.copilot.openSymbolInFile?%5B%22..%2F..%2F..%2F..%2F.vscode%2Fextensions%2Fms-python.vscode-pylance-2024.3.2%2Fdist%2Ftypeshed-fallback%2Fstdlib%2Fbuiltins.pyi%22%2C%22append%22%5D \"../../../../.vscode/extensions/ms-python.vscode-pylance-2024.3.2/dist/typeshed-fallback/stdlib/builtins.pyi\") method. If [`number`](command:_github.copilot.openSymbolInFile?%5B%22..%2F..%2F..%2F..%2F.vscode%2Fextensions%2Fms-python.vscode-pylance-2024.3.2%2Fdist%2Ftypeshed-fallback%2Fstdlib%2Fbuiltins.pyi%22%2C%22number%22%5D \"../../../../.vscode/extensions/ms-python.vscode-pylance-2024.3.2/dist/typeshed-fallback/stdlib/builtins.pyi\") is not even (i.e., it's odd), the function does nothing and continues to the next number in the list, thanks to the `pass` statement in the `else` clause.\n",
    "\n",
    "After the `for` loop has finished running, the function returns the `even_numbers` list. This list contains all the even numbers from `num_list`, in the order they appeared. The `return` statement is outside the `for` loop, which ensures that the function checks all the numbers in the list before returning.\n",
    "\n",
    "After the function is defined, it is called with the list `[1,2,3,4,5,6]` as the argument. This means the function checks the numbers `1` through `6` in order. The even numbers in this list are `2`, `4`, and `6`, so the function returns the list `[2,4,6]`."
   ]
  },
  {
   "cell_type": "markdown",
   "metadata": {},
   "source": [
    "#### Returning Tuples for Unpacking\n",
    "___"
   ]
  },
  {
   "cell_type": "markdown",
   "metadata": {},
   "source": [
    " Recall we can loop through a list of tuples and \"unpack\" the values within them"
   ]
  },
  {
   "cell_type": "code",
   "execution_count": 46,
   "metadata": {},
   "outputs": [
    {
     "name": "stdout",
     "output_type": "stream",
     "text": [
      "('AAPL', 200)\n",
      "('GOOG', 300)\n",
      "('MSFT', 400)\n"
     ]
    }
   ],
   "source": [
    "stock_prices = [('AAPL',200),('GOOG',300),('MSFT',400)]\n",
    "\n",
    "for item in stock_prices:\n",
    "    print(item)"
   ]
  },
  {
   "cell_type": "code",
   "execution_count": 47,
   "metadata": {},
   "outputs": [
    {
     "name": "stdout",
     "output_type": "stream",
     "text": [
      "AAPL\n",
      "GOOG\n",
      "MSFT\n"
     ]
    }
   ],
   "source": [
    "# This is a tuple unpacking. We define the variable stock and price to unpack the tuple stock. \n",
    "\n",
    "for stock , price in stock_prices: \n",
    "    print(stock)"
   ]
  },
  {
   "cell_type": "code",
   "execution_count": 48,
   "metadata": {},
   "outputs": [
    {
     "name": "stdout",
     "output_type": "stream",
     "text": [
      "200\n",
      "300\n",
      "400\n"
     ]
    }
   ],
   "source": [
    "# This is a tuple unpacking. We define the variable stock and price to unpack the tuple price. \n",
    "\n",
    "for stock , price in stock_prices:\n",
    "    print(price)"
   ]
  },
  {
   "cell_type": "markdown",
   "metadata": {},
   "source": [
    "Let us examine the tuple with a function example: \n",
    "\n",
    "The employee of the month function will return both the name and number of hours worked for the top performer (judged by number of hours worked)."
   ]
  },
  {
   "cell_type": "code",
   "execution_count": 68,
   "metadata": {},
   "outputs": [
    {
     "data": {
      "text/plain": [
       "('Cassie', 800)"
      ]
     },
     "execution_count": 68,
     "metadata": {},
     "output_type": "execute_result"
    }
   ],
   "source": [
    "work_hours = [('Abby',100),('Billy',400),('Cassie',800)]\n",
    "\n",
    "def employee_check(work_hours):\n",
    "    \n",
    "    # Set some max value to intially beat, like zero hours\n",
    "    current_max = 0\n",
    "    # Set some empty value before the loop\n",
    "    employee_of_month = ''\n",
    "    \n",
    "    for employee , hours in work_hours:\n",
    "        if hours > current_max:\n",
    "            current_max = hours\n",
    "            employee_of_month = employee\n",
    "        else:\n",
    "            pass\n",
    "    \n",
    "    # Notice the indentation here\n",
    "    return (employee_of_month,current_max)\n",
    "\n",
    "# calling the function\n",
    "employee_check(work_hours)"
   ]
  },
  {
   "cell_type": "markdown",
   "metadata": {},
   "source": [
    "The active selection is a Python script that includes a function definition and a function call. The function, named `employee_check`, takes a list of tuples `work_hours` as an argument. Each tuple in the list represents an employee and their corresponding work hours.\n",
    "\n",
    "At the start of the function, two variables are initialized: `current_max` is set to 0 and `employee_of_month` is set to an empty string. These variables are used to keep track of the employee with the most work hours.\n",
    "\n",
    "The function then iterates over the `work_hours` list. For each tuple, it checks if the number of work hours (`hours`) is greater than the current maximum (`current_max`). If it is, `current_max` is updated to this higher number of hours, and `employee_of_month` is updated to the name of this employee (`employee`).\n",
    "\n",
    "If the number of work hours is not greater than `current_max`, the function does nothing for that iteration (indicated by the `pass` statement) and moves on to the next tuple in the list.\n",
    "\n",
    "After checking all the tuples in the list, the function returns a tuple containing the name of the employee with the most work hours and the number of hours they worked.\n",
    "\n",
    "Before the function call, a list of tuples `work_hours` is defined. This list is then passed as an argument to the `employee_check` function. The function call will return the employee with the most work hours and their corresponding hours."
   ]
  },
  {
   "cell_type": "code",
   "execution_count": 69,
   "metadata": {},
   "outputs": [
    {
     "data": {
      "text/plain": [
       "('Apple', 578)"
      ]
     },
     "execution_count": 69,
     "metadata": {},
     "output_type": "execute_result"
    }
   ],
   "source": [
    "stock_market = [(\"Nokia\", 208), (\"Microsoft\", 145), (\"Apple\", 578)]\n",
    "\n",
    "def stock_selection(stock_market):\n",
    "    \"\"\"\n",
    "    Selects the stock with the highest price from the given stock market data.\n",
    "\n",
    "    Parameters:\n",
    "    stock_market (list): A list of tuples containing stock names and their corresponding prices.\n",
    "\n",
    "    Returns:\n",
    "    tuple: A tuple containing the name and price of the stock with the highest price.\n",
    "    \"\"\"\n",
    "\n",
    "    selected_stock_price = 0\n",
    "    selected_stock_name = \" \"\n",
    "\n",
    "    for stock, price in stock_market:\n",
    "        if price > selected_stock_price:\n",
    "            selected_stock_price = price\n",
    "            selected_stock_name = stock\n",
    "        else:\n",
    "            pass\n",
    "    return (selected_stock_name, selected_stock_price)\n",
    "\n",
    "# calling the function \n",
    "stock_selection(stock_market)"
   ]
  },
  {
   "cell_type": "markdown",
   "metadata": {},
   "source": [
    "The active selection is a Python script that includes a function definition and a function call. The function, named `stock_selection`, takes a list of tuples `stock_market` as an argument. Each tuple in the list represents a stock and its corresponding price.\n",
    "\n",
    "At the start of the function, two variables are initialized: `selected_stock_price` is set to 0 and `selected_stock_name` is set to a single space. These variables are used to keep track of the stock with the highest price.\n",
    "\n",
    "The function then iterates over the `stock_market` list. For each tuple, it checks if the price (`price`) is greater than the current highest price (`selected_stock_price`). If it is, `selected_stock_price` is updated to this higher price, and `selected_stock_name` is updated to the name of this stock (`stock`).\n",
    "\n",
    "If the price is not greater than `selected_stock_price`, the function does nothing for that iteration (indicated by the `pass` statement) and moves on to the next tuple in the list.\n",
    "\n",
    "After checking all the tuples in the list, the function returns a tuple containing the name of the stock with the highest price and the highest price itself.\n",
    "\n",
    "Before the function call, a list of tuples `stock_market` is defined. This list is then passed as an argument to the `stock_selection` function. The function call will return the stock with the highest price and its corresponding price."
   ]
  },
  {
   "cell_type": "code",
   "execution_count": 70,
   "metadata": {},
   "outputs": [
    {
     "data": {
      "text/plain": [
       "('Tunde', 90)"
      ]
     },
     "execution_count": 70,
     "metadata": {},
     "output_type": "execute_result"
    }
   ],
   "source": [
    "student = (['Teslim', 70], ['Tolu', 80], ['Tunde', 90])\n",
    "\n",
    "def student_roll(student):\n",
    "\n",
    "   pass_student_name = ''\n",
    "   pass_student_mark = 0\n",
    "\n",
    "   for stud, mark in student:\n",
    "       if mark > pass_student_mark:\n",
    "           pass_student_mark = mark\n",
    "           pass_student_name = stud\n",
    "       else:\n",
    "           pass\n",
    "       \n",
    "   return (pass_student_name, pass_student_mark)\n",
    "\n",
    "# calling the function\n",
    "student_roll(student)\n"
   ]
  },
  {
   "cell_type": "markdown",
   "metadata": {},
   "source": [
    "#### illustrating Examples:\n",
    "____"
   ]
  },
  {
   "cell_type": "code",
   "execution_count": 71,
   "metadata": {},
   "outputs": [
    {
     "data": {
      "text/plain": [
       "True"
      ]
     },
     "execution_count": 71,
     "metadata": {},
     "output_type": "execute_result"
    }
   ],
   "source": [
    "# Using the return function to check if a number is even, and return a boolean value\n",
    "def even_check(number):\n",
    "    return number % 2 == 0\n",
    "\n",
    "# calling the function to check if 20 is even\n",
    "even_check(20)"
   ]
  },
  {
   "cell_type": "code",
   "execution_count": 72,
   "metadata": {},
   "outputs": [
    {
     "data": {
      "text/plain": [
       "False"
      ]
     },
     "execution_count": 72,
     "metadata": {},
     "output_type": "execute_result"
    }
   ],
   "source": [
    "# Using the return function to check if a number is even, and return a boolean value\n",
    "def even_check(number):\n",
    "    return number % 2 == 0\n",
    "\n",
    "# calling the function to check if 21 is even\n",
    "even_check(21)"
   ]
  },
  {
   "cell_type": "code",
   "execution_count": 73,
   "metadata": {},
   "outputs": [
    {
     "name": "stdout",
     "output_type": "stream",
     "text": [
      "True\n"
     ]
    }
   ],
   "source": [
    "# if/else statement:\n",
    "def is_positive(number):\n",
    "    if number > 0:\n",
    "        return True\n",
    "    else:\n",
    "        return False\n",
    "\n",
    "# calling the function to check if 5 is positive with the print function\n",
    "result = is_positive(5)\n",
    "print(result)\n"
   ]
  },
  {
   "cell_type": "code",
   "execution_count": 74,
   "metadata": {},
   "outputs": [
    {
     "name": "stdout",
     "output_type": "stream",
     "text": [
      "Negative\n"
     ]
    }
   ],
   "source": [
    "# elif statement:\n",
    "def check_number(number):\n",
    "    if number > 0:\n",
    "        return \"Positive\"\n",
    "    elif number < 0:\n",
    "        return \"Negative\"\n",
    "    else:\n",
    "        return \"Zero\"\n",
    "\n",
    "\n",
    "# calling the function to check if -3 is negative with the print function\n",
    "result = check_number(-3)\n",
    "print(result)\n"
   ]
  },
  {
   "cell_type": "code",
   "execution_count": 49,
   "metadata": {},
   "outputs": [
    {
     "name": "stdout",
     "output_type": "stream",
     "text": [
      "(2, 'Even')\n"
     ]
    }
   ],
   "source": [
    "# REVIEW EXERCISES //TODO: CHECK \n",
    "def info(numbers):\n",
    "    for num in numbers:\n",
    "        if num % 2 == 0:\n",
    "            return (num, \"Even\")\n",
    "        elif num % 2 != 0:\n",
    "            return (num, \"Odd\")\n",
    "        else:\n",
    "            return \"Invalid\"\n",
    "\n",
    "# calling the function to check if the numbers in the list are even or odd\n",
    "num = ([2, 4, 4, 5, 6, 7, 8, 9, 10, 11, 12, 13, 14, 15])\n",
    "result = info(num)\n",
    "print(result)"
   ]
  },
  {
   "cell_type": "code",
   "execution_count": 52,
   "metadata": {},
   "outputs": [
    {
     "name": "stdout",
     "output_type": "stream",
     "text": [
      "True\n"
     ]
    }
   ],
   "source": [
    "# Checking if an item is in a list:\n",
    "def is_in_list(item, my_list):\n",
    "    if item in my_list:\n",
    "        return True\n",
    "    else:\n",
    "        return False\n",
    "\n",
    "result = is_in_list(3, [1, 2, 3, 4, 5])\n",
    "print(result)  # Output will be True\n"
   ]
  }
 ],
 "metadata": {
  "kernelspec": {
   "display_name": "data-science-env",
   "language": "python",
   "name": "python3"
  },
  "language_info": {
   "codemirror_mode": {
    "name": "ipython",
    "version": 3
   },
   "file_extension": ".py",
   "mimetype": "text/x-python",
   "name": "python",
   "nbconvert_exporter": "python",
   "pygments_lexer": "ipython3",
   "version": "3.12.6"
  }
 },
 "nbformat": 4,
 "nbformat_minor": 2
}
