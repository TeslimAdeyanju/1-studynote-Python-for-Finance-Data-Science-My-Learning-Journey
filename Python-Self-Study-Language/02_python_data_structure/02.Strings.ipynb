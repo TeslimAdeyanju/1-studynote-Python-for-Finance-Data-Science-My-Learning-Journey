{
 "cells": [
  {
   "cell_type": "markdown",
   "metadata": {},
   "source": [
    "# STRING"
   ]
  },
  {
   "cell_type": "markdown",
   "metadata": {},
   "source": [
    "## Introduction\n",
    "___"
   ]
  },
  {
   "cell_type": "markdown",
   "metadata": {},
   "source": [
    "In Python, a string is a sequence of characters. For example, \"hello\" is a string containing a sequence of characters 'h', 'e', 'l', 'l', and 'o'. We use single quotes or double quotes to represent a string in Python.  It's important to note that strings have an important property known as immutability. This means that once a string is created, the elements within it can not be changed or replaced. We use a function called <code>len()</code> to check the length of a string!"
   ]
  },
  {
   "cell_type": "code",
   "execution_count": 1,
   "metadata": {},
   "outputs": [
    {
     "name": "stdout",
     "output_type": "stream",
     "text": [
      "Hello\n"
     ]
    },
    {
     "data": {
      "text/plain": [
       "11"
      ]
     },
     "execution_count": 1,
     "metadata": {},
     "output_type": "execute_result"
    }
   ],
   "source": [
    "# To create a string in Python you need to use either single quotes or double quotes. For example:\n",
    "print(\"Hello\")\n",
    "\n",
    "# Python's built-in len() function counts all of the characters in the string, including spaces and punctuation.\n",
    "len(\"Hello World\")"
   ]
  },
  {
   "cell_type": "markdown",
   "metadata": {},
   "source": [
    "## String Index\n",
    "___"
   ]
  },
  {
   "cell_type": "markdown",
   "metadata": {},
   "source": [
    "- String are sequence in python, and we can use index to call each element of the string with the bracket [] after an objects to call its index. \n",
    "- index start at zero for python"
   ]
  },
  {
   "cell_type": "code",
   "execution_count": 12,
   "metadata": {},
   "outputs": [
    {
     "name": "stdout",
     "output_type": "stream",
     "text": [
      "teslimadeyanju\n"
     ]
    }
   ],
   "source": [
    "# Show first element (in this case a letter)\n",
    "name8 = 'teslimadeyanju'\n",
    "print(name8)"
   ]
  },
  {
   "cell_type": "code",
   "execution_count": 13,
   "metadata": {},
   "outputs": [
    {
     "data": {
      "text/plain": [
       "'t'"
      ]
     },
     "execution_count": 13,
     "metadata": {},
     "output_type": "execute_result"
    }
   ],
   "source": [
    "name8[0]"
   ]
  },
  {
   "cell_type": "markdown",
   "metadata": {},
   "source": [
    "We can use a <code>:</code> to perform a slicing which grabs everything's from the zero to the identified number, which is often less then one. \n"
   ]
  },
  {
   "cell_type": "code",
   "execution_count": 14,
   "metadata": {},
   "outputs": [
    {
     "data": {
      "text/plain": [
       "'teslim'"
      ]
     },
     "execution_count": 14,
     "metadata": {},
     "output_type": "execute_result"
    }
   ],
   "source": [
    "name8[0:6]"
   ]
  },
  {
   "cell_type": "code",
   "execution_count": 15,
   "metadata": {},
   "outputs": [
    {
     "data": {
      "text/plain": [
       "'teslim'"
      ]
     },
     "execution_count": 15,
     "metadata": {},
     "output_type": "execute_result"
    }
   ],
   "source": [
    "# slice from the start\n",
    "name8[:6]"
   ]
  },
  {
   "cell_type": "code",
   "execution_count": 16,
   "metadata": {},
   "outputs": [
    {
     "data": {
      "text/plain": [
       "'teslimadeyanju'"
      ]
     },
     "execution_count": 16,
     "metadata": {},
     "output_type": "execute_result"
    }
   ],
   "source": [
    "# Slice to the end\n",
    "name8[0:]"
   ]
  },
  {
   "cell_type": "code",
   "execution_count": 17,
   "metadata": {},
   "outputs": [
    {
     "data": {
      "text/plain": [
       "'teslimadeyanju'"
      ]
     },
     "execution_count": 17,
     "metadata": {},
     "output_type": "execute_result"
    }
   ],
   "source": [
    "# Index evertthing\n",
    "name8[:]"
   ]
  },
  {
   "cell_type": "markdown",
   "metadata": {},
   "source": [
    "We can also use negative indexing to go backwards."
   ]
  },
  {
   "cell_type": "code",
   "execution_count": 18,
   "metadata": {},
   "outputs": [
    {
     "data": {
      "text/plain": [
       "'u'"
      ]
     },
     "execution_count": 18,
     "metadata": {},
     "output_type": "execute_result"
    }
   ],
   "source": [
    "# Last letter (one index behind 0 so it loops back around)\n",
    "name8[-1]"
   ]
  },
  {
   "cell_type": "code",
   "execution_count": 19,
   "metadata": {},
   "outputs": [
    {
     "data": {
      "text/plain": [
       "'teslimadeyanj'"
      ]
     },
     "execution_count": 19,
     "metadata": {},
     "output_type": "execute_result"
    }
   ],
   "source": [
    "# Grab everything but the last letter\n",
    "name8[:-1]"
   ]
  },
  {
   "cell_type": "code",
   "execution_count": 20,
   "metadata": {},
   "outputs": [
    {
     "data": {
      "text/plain": [
       "'teslimadeyanju'"
      ]
     },
     "execution_count": 20,
     "metadata": {},
     "output_type": "execute_result"
    }
   ],
   "source": [
    "# Grab everything, but go in steps size of 1\n",
    "name8[::1]"
   ]
  },
  {
   "cell_type": "code",
   "execution_count": 21,
   "metadata": {},
   "outputs": [
    {
     "data": {
      "text/plain": [
       "'tsiaeaj'"
      ]
     },
     "execution_count": 21,
     "metadata": {},
     "output_type": "execute_result"
    }
   ],
   "source": [
    "# Grab everything, but go in steps size of 2\n",
    "name8[::2]"
   ]
  },
  {
   "cell_type": "code",
   "execution_count": 42,
   "metadata": {},
   "outputs": [
    {
     "data": {
      "text/plain": [
       "'ujnayedamilset'"
      ]
     },
     "execution_count": 42,
     "metadata": {},
     "output_type": "execute_result"
    }
   ],
   "source": [
    "# We can use this to print a string backwards\n",
    "name8[::-1]"
   ]
  },
  {
   "cell_type": "markdown",
   "metadata": {},
   "source": [
    "## Built-in String methods\n",
    "___"
   ]
  },
  {
   "cell_type": "markdown",
   "metadata": {},
   "source": [
    "String methods in Python are built-in functions that are used to perform various operations on strings. These methods allow you to manipulate strings in different ways, such as searching for substrings, converting case, splitting, joining, and more. We usually call a method with a period `.` and then the <code>method name</code> in this form: \n",
    "```python\n",
    "Object.method(parameters)\n",
    "```\n",
    "\n",
    "\n",
    "- Where parameters are extra arguments we can pass into the method. \n",
    "- There are various string methods available in python. \n",
    "\n",
    "For a full comprehension of all the string method, read [Python String Methods](https://www.w3schools.com/python/python_ref_string.asp)"
   ]
  },
  {
   "cell_type": "markdown",
   "metadata": {},
   "source": [
    "1.\t`capitalize()`\tConverts the first character to upper case\n",
    "\n",
    "2.\t`casefold()`\tConverts string into lower case\n",
    "\n",
    "3.\t`center()`\tReturns a centered string\n",
    "\n",
    "4.\t`count()`\tReturns the number of times a specified value occurs in a string\n",
    "\n",
    "5.\t`encode()`\tReturns an encoded version of the string\n",
    "\n",
    "6.\t`endswith()`\tReturns true if the string ends with the specified value\n",
    "\n",
    "7.\t`expandtabs()`\tSets the tab size of the string\n",
    "\n",
    "8.\t`find()`\tSearches the string for a specified value and returns the position of where it was found\n",
    "\n",
    "9.\t`format()`\tFormats specified values in a string\n",
    "\n",
    "10.\t`format_map()`\tFormats specified values in a string\n",
    "\n",
    "11.\t`index()`\tSearches the string for a specified value and returns the position of where it was found\n",
    "\n",
    "12.\t`isalnum()`\tReturns True if all characters in the string are alphanumeric\n",
    "\n",
    "13.\t`isalpha()`\tReturns True if all characters in the string are in the alphabet\n",
    "\n",
    "14.\t`isascii()`\tReturns True if all characters in the string are ascii characters\n",
    "\n",
    "15.\t`isdecimal()`\tReturns True if all characters in the string are decimals\n",
    "\n",
    "16.\t`isdigit()`\tReturns True if all characters in the string are digits\n",
    "\n",
    "17.\t`isidentifier()`\tReturns True if the string is an identifier\n",
    "\n",
    "18.\t`islower()`\tReturns True if all characters in the string are lower case\n",
    "\n",
    "19.\t`isnumeric()`\tReturns True if all characters in the string are numeric\n",
    "\n",
    "20.\t`isprintable()`\tReturns True if all characters in the string are printable\n",
    "\n",
    "21.\t`isspace()`\tReturns True if all characters in the string are whitespaces\n",
    "\n",
    "22.\t`istitle()`\tReturns True if the string follows the rules of a title\n",
    "\n",
    "23.\t`isupper()`\tReturns True if all characters in the string are upper case\n",
    "\n",
    "24.\t`join()`\tConverts the elements of an iterable into a string\n",
    "\n",
    "25.\t`ljust()`\tReturns a left justified version of the string\n",
    "\n",
    "26.\t`lower()`\tConverts a string into lower case\n",
    "\n",
    "27.\t`lstrip()`\tReturns a left trim version of the string\n",
    "\n",
    "28.\t`maketrans()`\tReturns a translation table to be used in translations\n",
    "\n",
    "29.\t`partition()`\tReturns a tuple where the string is parted into three parts\n",
    "\n",
    "30.\t`replace()`\tReturns a string where a specified value is replaced with a specified value\n",
    "\n",
    "31.\t`rfind()`\tSearches the string for a specified value and returns the last position of where it was found\n",
    "\n",
    "32.\t`rindex()`\tSearches the string for a specified value and returns the last position of where it was found\n",
    "\n",
    "33.\t`rjust()`\tReturns a right justified version of the string\n",
    "\n",
    "34.\t`rpartition()`\tReturns a tuple where the string is parted into three parts\n",
    "\n",
    "35.\t`rsplit()`\tSplits the string at the specified separator, and returns a list\n",
    "\n",
    "36.\t`rstrip()`\tReturns a right trim version of the string\n",
    "\n",
    "37.\t`split()`\tSplits the string at the specified separator, and returns a list\n",
    "\n",
    "38.\t`splitlines()`\tSplits the string at line breaks and returns a list\n",
    "\n",
    "39.\t`startswith()`\tReturns true if the string starts with the specified value\n",
    "\n",
    "40.\t`strip()`\tReturns a trimmed version of the string\n",
    "\n",
    "41.\t`swapcase()`\tSwaps cases, lower case becomes upper case and vice versa\n",
    "\n",
    "42.\t`title()`\tConverts the first character of each word to upper case\n",
    "\n",
    "43.\t`translate()`\tReturns a translated string\n",
    "\n",
    "44.\t`upper()`\tConverts a string into upper case\n",
    "\n",
    "45.\t`zfill()`\tFills the string with a specified number of 0 values at the beginning\n"
   ]
  },
  {
   "cell_type": "markdown",
   "metadata": {},
   "source": [
    "## Python String Operations\n",
    "____"
   ]
  },
  {
   "cell_type": "markdown",
   "metadata": {},
   "source": [
    "### Python Multiline String"
   ]
  },
  {
   "cell_type": "markdown",
   "metadata": {},
   "source": [
    "We can also create a multiline string in Python. For this, we use triple double quotes \"\"\" or triple single quotes '''. For example,"
   ]
  },
  {
   "cell_type": "code",
   "execution_count": 1,
   "metadata": {},
   "outputs": [
    {
     "name": "stdout",
     "output_type": "stream",
     "text": [
      "\n",
      "Never gonna give you up\n",
      "Never gonna let you down\n",
      "\n"
     ]
    }
   ],
   "source": [
    "# multiline string\n",
    "message = \"\"\"\n",
    "Never gonna give you up\n",
    "Never gonna let you down\n",
    "\"\"\"\n",
    "print(message)\n",
    "\n",
    "# In the above example, anything inside the enclosing triple quotes is one multiline string."
   ]
  },
  {
   "cell_type": "markdown",
   "metadata": {},
   "source": [
    "### Join Two or More Strings"
   ]
  },
  {
   "cell_type": "markdown",
   "metadata": {},
   "source": [
    "In Python, we can join (concatenate) two or more strings using the + operator."
   ]
  },
  {
   "cell_type": "code",
   "execution_count": 3,
   "metadata": {},
   "outputs": [
    {
     "name": "stdout",
     "output_type": "stream",
     "text": [
      "Hello, Jack\n"
     ]
    }
   ],
   "source": [
    "greet = \"Hello, \"\n",
    "name = \"Jack\"\n",
    "\n",
    "# using + operator\n",
    "result = greet + name\n",
    "print(result)"
   ]
  },
  {
   "cell_type": "markdown",
   "metadata": {},
   "source": [
    "### Repeating String"
   ]
  },
  {
   "cell_type": "markdown",
   "metadata": {},
   "source": [
    "We can use the multiplication symbol to create repetition!"
   ]
  },
  {
   "cell_type": "code",
   "execution_count": 17,
   "metadata": {},
   "outputs": [
    {
     "data": {
      "text/plain": [
       "'teslimadeyanjuteslimadeyanju'"
      ]
     },
     "execution_count": 17,
     "metadata": {},
     "output_type": "execute_result"
    }
   ],
   "source": [
    "name*2"
   ]
  },
  {
   "cell_type": "markdown",
   "metadata": {},
   "source": [
    "## String Formatting\n",
    "____"
   ]
  },
  {
   "cell_type": "markdown",
   "metadata": {},
   "source": [
    "String formatting lets you inject items into a string rather than trying to chain items together using commas or string concatenation.\n",
    "\n",
    "There are three ways to perform string formatting.\n",
    "* The oldest method involves placeholders using the modulo `%` character.\n",
    "* An improved technique uses the `.format()` string method.\n",
    "* The newest method, introduced with Python 3.6, uses formatted string literals, called *f-strings*."
   ]
  },
  {
   "cell_type": "markdown",
   "metadata": {},
   "source": [
    "### Formatting with placeholders (%s)"
   ]
  },
  {
   "cell_type": "markdown",
   "metadata": {},
   "source": [
    "You can use <code>%s</code> to inject strings into your print statements. The modulo `%` is referred to as a \"string formatting operator\"."
   ]
  },
  {
   "cell_type": "code",
   "execution_count": 2,
   "metadata": {},
   "outputs": [
    {
     "name": "stdout",
     "output_type": "stream",
     "text": [
      "The first name is: Teslim.\n"
     ]
    }
   ],
   "source": [
    "print(\"The first name is: %s.\"% 'Teslim')"
   ]
  },
  {
   "cell_type": "markdown",
   "metadata": {},
   "source": [
    "You can pass multiple items by placing them inside a tuple after the % operator."
   ]
  },
  {
   "cell_type": "code",
   "execution_count": 11,
   "metadata": {},
   "outputs": [
    {
     "name": "stdout",
     "output_type": "stream",
     "text": [
      "I am going to the market and school\n"
     ]
    }
   ],
   "source": [
    "print(\"I am going to the %s and %s\"% ('market', 'school'))"
   ]
  },
  {
   "cell_type": "markdown",
   "metadata": {},
   "source": [
    "You can also pass variable names:"
   ]
  },
  {
   "cell_type": "code",
   "execution_count": 7,
   "metadata": {},
   "outputs": [
    {
     "name": "stdout",
     "output_type": "stream",
     "text": [
      "What is my first_name : teslim adeyanju uthman and text my address:  57 Draper Close text here.\n"
     ]
    }
   ],
   "source": [
    "first_name, address = 'teslim adeyanju uthman', '57 Draper Close'\n",
    "print(\"What is my first_name : %s and text my address:  %s text here.\"%(first_name,address))"
   ]
  },
  {
   "cell_type": "markdown",
   "metadata": {},
   "source": [
    "### Formatting with the <code>.format ()</code>"
   ]
  },
  {
   "cell_type": "markdown",
   "metadata": {},
   "source": [
    "- Aside from the placeholders method, .format() is much simplier way to combine string using the format below: \n",
    "- Statement { }, and statement { }. format('input 1', 'input 2')"
   ]
  },
  {
   "cell_type": "code",
   "execution_count": 14,
   "metadata": {},
   "outputs": [
    {
     "name": "stdout",
     "output_type": "stream",
     "text": [
      "This is very challenging: topic\n"
     ]
    }
   ],
   "source": [
    "print('This is very challenging: {}'.format('topic'))"
   ]
  },
  {
   "cell_type": "markdown",
   "metadata": {},
   "source": [
    "The .format() method has several advantages over the %s placeholder method:"
   ]
  },
  {
   "cell_type": "code",
   "execution_count": 15,
   "metadata": {},
   "outputs": [
    {
     "name": "stdout",
     "output_type": "stream",
     "text": [
      "The quick brown fox\n"
     ]
    }
   ],
   "source": [
    "# 1. Inserted objects can be called by index position:\n",
    "print('The {2} {1} {0}'.format('fox','brown','quick'))"
   ]
  },
  {
   "cell_type": "code",
   "execution_count": 19,
   "metadata": {},
   "outputs": [
    {
     "name": "stdout",
     "output_type": "stream",
     "text": [
      "First Object: 1, Second Object: Two, Third Object: 12.3\n"
     ]
    }
   ],
   "source": [
    "#  Inserted objects can be assigned keywords:\n",
    "print('First Object: {a}, Second Object: {b}, Third Object: {c}'.format(a = 1, b ='Two', c = 12.3))"
   ]
  },
  {
   "cell_type": "code",
   "execution_count": 20,
   "metadata": {},
   "outputs": [
    {
     "name": "stdout",
     "output_type": "stream",
     "text": [
      "A penny saved is a penny earned.\n",
      "A penny saved is a penny earned.\n"
     ]
    }
   ],
   "source": [
    "# Inserted objects can be reused, avoiding duplication:\n",
    "print('A %s saved is a %s earned.' %('penny','penny'))\n",
    "# vs.\n",
    "print('A {p} saved is a {p} earned.'.format(p='penny'))"
   ]
  },
  {
   "cell_type": "markdown",
   "metadata": {},
   "source": [
    "### Formatted String Literals (f-strings)"
   ]
  },
  {
   "cell_type": "markdown",
   "metadata": {},
   "source": [
    "Introduced in Python 3.6, f-strings offer several benefits over the older .format() string method described above. For one, you can bring outside variables immediately into to the string rather than pass them as arguments through .format(var)."
   ]
  },
  {
   "cell_type": "code",
   "execution_count": 21,
   "metadata": {},
   "outputs": [
    {
     "name": "stdout",
     "output_type": "stream",
     "text": [
      "He said his name is Teslim.\n"
     ]
    }
   ],
   "source": [
    "name = 'Teslim'\n",
    "print(f\"He said his name is {name}.\")"
   ]
  },
  {
   "cell_type": "markdown",
   "metadata": {},
   "source": [
    "Pass !r to get the string representation:"
   ]
  },
  {
   "cell_type": "code",
   "execution_count": 22,
   "metadata": {},
   "outputs": [
    {
     "name": "stdout",
     "output_type": "stream",
     "text": [
      "He said his name is 'Teslim'\n"
     ]
    }
   ],
   "source": [
    "print(f\"He said his name is {name!r}\")"
   ]
  }
 ],
 "metadata": {
  "kernelspec": {
   "display_name": "base",
   "language": "python",
   "name": "python3"
  },
  "language_info": {
   "codemirror_mode": {
    "name": "ipython",
    "version": 3
   },
   "file_extension": ".py",
   "mimetype": "text/x-python",
   "name": "python",
   "nbconvert_exporter": "python",
   "pygments_lexer": "ipython3",
   "version": "3.11.5"
  }
 },
 "nbformat": 4,
 "nbformat_minor": 2
}
