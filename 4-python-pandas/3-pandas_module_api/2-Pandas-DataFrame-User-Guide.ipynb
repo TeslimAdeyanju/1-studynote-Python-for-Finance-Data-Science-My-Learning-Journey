{
 "cells": [
  {
   "cell_type": "markdown",
   "id": "0edd7d24",
   "metadata": {},
   "source": [
    "# DATAFRAME"
   ]
  },
  {
   "cell_type": "code",
   "execution_count": 5,
   "id": "37caeb4c",
   "metadata": {},
   "outputs": [],
   "source": [
    "import pandas as pd"
   ]
  },
  {
   "cell_type": "code",
   "execution_count": 7,
   "id": "14045efe",
   "metadata": {},
   "outputs": [],
   "source": [
    "df = pd.read_csv('pokemon.csv')"
   ]
  },
  {
   "cell_type": "code",
   "execution_count": 8,
   "id": "3aff917f",
   "metadata": {},
   "outputs": [
    {
     "data": {
      "application/vnd.microsoft.datawrangler.viewer.v0+json": {
       "columns": [
        {
         "name": "index",
         "rawType": "int64",
         "type": "integer"
        },
        {
         "name": "Name",
         "rawType": "object",
         "type": "string"
        },
        {
         "name": "Type",
         "rawType": "object",
         "type": "string"
        }
       ],
       "ref": "7ca1057c-7c01-4722-9855-9be13b5a8c7a",
       "rows": [
        [
         "0",
         "Bulbasaur",
         "Grass, Poison"
        ],
        [
         "1",
         "Ivysaur",
         "Grass, Poison"
        ],
        [
         "2",
         "Venusaur",
         "Grass, Poison"
        ],
        [
         "3",
         "Charmander",
         "Fire"
        ],
        [
         "4",
         "Charmeleon",
         "Fire"
        ],
        [
         "5",
         "Charizard",
         "Fire, Flying"
        ],
        [
         "6",
         "Squirtle",
         "Water"
        ],
        [
         "7",
         "Wartortle",
         "Water"
        ],
        [
         "8",
         "Blastoise",
         "Water"
        ],
        [
         "9",
         "Caterpie",
         "Bug"
        ],
        [
         "10",
         "Metapod",
         "Bug"
        ],
        [
         "11",
         "Butterfree",
         "Bug, Flying"
        ],
        [
         "12",
         "Weedle",
         "Bug, Poison"
        ],
        [
         "13",
         "Kakuna",
         "Bug, Poison"
        ],
        [
         "14",
         "Beedrill",
         "Bug, Poison"
        ],
        [
         "15",
         "Pidgey",
         "Normal, Flying"
        ],
        [
         "16",
         "Pidgeotto",
         "Normal, Flying"
        ],
        [
         "17",
         "Pidgeot",
         "Normal, Flying"
        ],
        [
         "18",
         "Rattata",
         "Normal"
        ],
        [
         "19",
         "Raticate",
         "Normal"
        ],
        [
         "20",
         "Spearow",
         "Normal, Flying"
        ],
        [
         "21",
         "Fearow",
         "Normal, Flying"
        ],
        [
         "22",
         "Ekans",
         "Poison"
        ],
        [
         "23",
         "Arbok",
         "Poison"
        ],
        [
         "24",
         "Pikachu",
         "Electric"
        ],
        [
         "25",
         "Raichu",
         "Electric"
        ],
        [
         "26",
         "Sandshrew",
         "Ground"
        ],
        [
         "27",
         "Sandslash",
         "Ground"
        ],
        [
         "28",
         "Nidoran♀",
         "Poison"
        ],
        [
         "29",
         "Nidorina",
         "Poison"
        ],
        [
         "30",
         "Nidoqueen",
         "Poison, Ground"
        ],
        [
         "31",
         "Nidoran♂",
         "Poison"
        ],
        [
         "32",
         "Nidorino",
         "Poison"
        ],
        [
         "33",
         "Nidoking",
         "Poison, Ground"
        ],
        [
         "34",
         "Clefairy",
         "Fairy"
        ],
        [
         "35",
         "Clefable",
         "Fairy"
        ],
        [
         "36",
         "Vulpix",
         "Fire"
        ],
        [
         "37",
         "Ninetales",
         "Fire"
        ],
        [
         "38",
         "Jigglypuff",
         "Normal, Fairy"
        ],
        [
         "39",
         "Wigglytuff",
         "Normal, Fairy"
        ],
        [
         "40",
         "Zubat",
         "Poison, Flying"
        ],
        [
         "41",
         "Golbat",
         "Poison, Flying"
        ],
        [
         "42",
         "Oddish",
         "Grass, Poison"
        ],
        [
         "43",
         "Gloom",
         "Grass, Poison"
        ],
        [
         "44",
         "Vileplume",
         "Grass, Poison"
        ],
        [
         "45",
         "Paras",
         "Bug, Grass"
        ],
        [
         "46",
         "Parasect",
         "Bug, Grass"
        ],
        [
         "47",
         "Venonat",
         "Bug, Poison"
        ],
        [
         "48",
         "Venomoth",
         "Bug, Poison"
        ],
        [
         "49",
         "Diglett",
         "Ground"
        ]
       ],
       "shape": {
        "columns": 2,
        "rows": 1010
       }
      },
      "text/html": [
       "<div>\n",
       "<style scoped>\n",
       "    .dataframe tbody tr th:only-of-type {\n",
       "        vertical-align: middle;\n",
       "    }\n",
       "\n",
       "    .dataframe tbody tr th {\n",
       "        vertical-align: top;\n",
       "    }\n",
       "\n",
       "    .dataframe thead th {\n",
       "        text-align: right;\n",
       "    }\n",
       "</style>\n",
       "<table border=\"1\" class=\"dataframe\">\n",
       "  <thead>\n",
       "    <tr style=\"text-align: right;\">\n",
       "      <th></th>\n",
       "      <th>Name</th>\n",
       "      <th>Type</th>\n",
       "    </tr>\n",
       "  </thead>\n",
       "  <tbody>\n",
       "    <tr>\n",
       "      <th>0</th>\n",
       "      <td>Bulbasaur</td>\n",
       "      <td>Grass, Poison</td>\n",
       "    </tr>\n",
       "    <tr>\n",
       "      <th>1</th>\n",
       "      <td>Ivysaur</td>\n",
       "      <td>Grass, Poison</td>\n",
       "    </tr>\n",
       "    <tr>\n",
       "      <th>2</th>\n",
       "      <td>Venusaur</td>\n",
       "      <td>Grass, Poison</td>\n",
       "    </tr>\n",
       "    <tr>\n",
       "      <th>3</th>\n",
       "      <td>Charmander</td>\n",
       "      <td>Fire</td>\n",
       "    </tr>\n",
       "    <tr>\n",
       "      <th>4</th>\n",
       "      <td>Charmeleon</td>\n",
       "      <td>Fire</td>\n",
       "    </tr>\n",
       "    <tr>\n",
       "      <th>...</th>\n",
       "      <td>...</td>\n",
       "      <td>...</td>\n",
       "    </tr>\n",
       "    <tr>\n",
       "      <th>1005</th>\n",
       "      <td>Iron Valiant</td>\n",
       "      <td>Fairy, Fighting</td>\n",
       "    </tr>\n",
       "    <tr>\n",
       "      <th>1006</th>\n",
       "      <td>Koraidon</td>\n",
       "      <td>Fighting, Dragon</td>\n",
       "    </tr>\n",
       "    <tr>\n",
       "      <th>1007</th>\n",
       "      <td>Miraidon</td>\n",
       "      <td>Electric, Dragon</td>\n",
       "    </tr>\n",
       "    <tr>\n",
       "      <th>1008</th>\n",
       "      <td>Walking Wake</td>\n",
       "      <td>Water, Dragon</td>\n",
       "    </tr>\n",
       "    <tr>\n",
       "      <th>1009</th>\n",
       "      <td>Iron Leaves</td>\n",
       "      <td>Grass, Psychic</td>\n",
       "    </tr>\n",
       "  </tbody>\n",
       "</table>\n",
       "<p>1010 rows × 2 columns</p>\n",
       "</div>"
      ],
      "text/plain": [
       "              Name              Type\n",
       "0        Bulbasaur     Grass, Poison\n",
       "1          Ivysaur     Grass, Poison\n",
       "2         Venusaur     Grass, Poison\n",
       "3       Charmander              Fire\n",
       "4       Charmeleon              Fire\n",
       "...            ...               ...\n",
       "1005  Iron Valiant   Fairy, Fighting\n",
       "1006      Koraidon  Fighting, Dragon\n",
       "1007      Miraidon  Electric, Dragon\n",
       "1008  Walking Wake     Water, Dragon\n",
       "1009   Iron Leaves    Grass, Psychic\n",
       "\n",
       "[1010 rows x 2 columns]"
      ]
     },
     "execution_count": 8,
     "metadata": {},
     "output_type": "execute_result"
    }
   ],
   "source": [
    "df"
   ]
  },
  {
   "cell_type": "markdown",
   "id": "5c98a543",
   "metadata": {},
   "source": [
    "## 2. DataFrame: Data Type & Object Management"
   ]
  },
  {
   "cell_type": "code",
   "execution_count": 10,
   "id": "e9e18b15",
   "metadata": {},
   "outputs": [
    {
     "name": "stdout",
     "output_type": "stream",
     "text": [
      "<class 'pandas.core.frame.DataFrame'>\n",
      "RangeIndex: 1010 entries, 0 to 1009\n",
      "Data columns (total 2 columns):\n",
      " #   Column  Non-Null Count  Dtype \n",
      "---  ------  --------------  ----- \n",
      " 0   Name    1010 non-null   object\n",
      " 1   Type    1010 non-null   object\n",
      "dtypes: object(2)\n",
      "memory usage: 15.9+ KB\n"
     ]
    }
   ],
   "source": [
    "df.info()"
   ]
  },
  {
   "cell_type": "code",
   "execution_count": 11,
   "id": "c6486939",
   "metadata": {},
   "outputs": [
    {
     "data": {
      "application/vnd.microsoft.datawrangler.viewer.v0+json": {
       "columns": [
        {
         "name": "index",
         "rawType": "int64",
         "type": "integer"
        },
        {
         "name": "Name",
         "rawType": "string",
         "type": "string"
        },
        {
         "name": "Type",
         "rawType": "string",
         "type": "string"
        }
       ],
       "ref": "2e66c436-56f3-4cbc-ba7f-ca57ba34cc8a",
       "rows": [
        [
         "0",
         "Bulbasaur",
         "Grass, Poison"
        ],
        [
         "1",
         "Ivysaur",
         "Grass, Poison"
        ],
        [
         "2",
         "Venusaur",
         "Grass, Poison"
        ],
        [
         "3",
         "Charmander",
         "Fire"
        ],
        [
         "4",
         "Charmeleon",
         "Fire"
        ],
        [
         "5",
         "Charizard",
         "Fire, Flying"
        ],
        [
         "6",
         "Squirtle",
         "Water"
        ],
        [
         "7",
         "Wartortle",
         "Water"
        ],
        [
         "8",
         "Blastoise",
         "Water"
        ],
        [
         "9",
         "Caterpie",
         "Bug"
        ],
        [
         "10",
         "Metapod",
         "Bug"
        ],
        [
         "11",
         "Butterfree",
         "Bug, Flying"
        ],
        [
         "12",
         "Weedle",
         "Bug, Poison"
        ],
        [
         "13",
         "Kakuna",
         "Bug, Poison"
        ],
        [
         "14",
         "Beedrill",
         "Bug, Poison"
        ],
        [
         "15",
         "Pidgey",
         "Normal, Flying"
        ],
        [
         "16",
         "Pidgeotto",
         "Normal, Flying"
        ],
        [
         "17",
         "Pidgeot",
         "Normal, Flying"
        ],
        [
         "18",
         "Rattata",
         "Normal"
        ],
        [
         "19",
         "Raticate",
         "Normal"
        ],
        [
         "20",
         "Spearow",
         "Normal, Flying"
        ],
        [
         "21",
         "Fearow",
         "Normal, Flying"
        ],
        [
         "22",
         "Ekans",
         "Poison"
        ],
        [
         "23",
         "Arbok",
         "Poison"
        ],
        [
         "24",
         "Pikachu",
         "Electric"
        ],
        [
         "25",
         "Raichu",
         "Electric"
        ],
        [
         "26",
         "Sandshrew",
         "Ground"
        ],
        [
         "27",
         "Sandslash",
         "Ground"
        ],
        [
         "28",
         "Nidoran♀",
         "Poison"
        ],
        [
         "29",
         "Nidorina",
         "Poison"
        ],
        [
         "30",
         "Nidoqueen",
         "Poison, Ground"
        ],
        [
         "31",
         "Nidoran♂",
         "Poison"
        ],
        [
         "32",
         "Nidorino",
         "Poison"
        ],
        [
         "33",
         "Nidoking",
         "Poison, Ground"
        ],
        [
         "34",
         "Clefairy",
         "Fairy"
        ],
        [
         "35",
         "Clefable",
         "Fairy"
        ],
        [
         "36",
         "Vulpix",
         "Fire"
        ],
        [
         "37",
         "Ninetales",
         "Fire"
        ],
        [
         "38",
         "Jigglypuff",
         "Normal, Fairy"
        ],
        [
         "39",
         "Wigglytuff",
         "Normal, Fairy"
        ],
        [
         "40",
         "Zubat",
         "Poison, Flying"
        ],
        [
         "41",
         "Golbat",
         "Poison, Flying"
        ],
        [
         "42",
         "Oddish",
         "Grass, Poison"
        ],
        [
         "43",
         "Gloom",
         "Grass, Poison"
        ],
        [
         "44",
         "Vileplume",
         "Grass, Poison"
        ],
        [
         "45",
         "Paras",
         "Bug, Grass"
        ],
        [
         "46",
         "Parasect",
         "Bug, Grass"
        ],
        [
         "47",
         "Venonat",
         "Bug, Poison"
        ],
        [
         "48",
         "Venomoth",
         "Bug, Poison"
        ],
        [
         "49",
         "Diglett",
         "Ground"
        ]
       ],
       "shape": {
        "columns": 2,
        "rows": 1010
       }
      },
      "text/html": [
       "<div>\n",
       "<style scoped>\n",
       "    .dataframe tbody tr th:only-of-type {\n",
       "        vertical-align: middle;\n",
       "    }\n",
       "\n",
       "    .dataframe tbody tr th {\n",
       "        vertical-align: top;\n",
       "    }\n",
       "\n",
       "    .dataframe thead th {\n",
       "        text-align: right;\n",
       "    }\n",
       "</style>\n",
       "<table border=\"1\" class=\"dataframe\">\n",
       "  <thead>\n",
       "    <tr style=\"text-align: right;\">\n",
       "      <th></th>\n",
       "      <th>Name</th>\n",
       "      <th>Type</th>\n",
       "    </tr>\n",
       "  </thead>\n",
       "  <tbody>\n",
       "    <tr>\n",
       "      <th>0</th>\n",
       "      <td>Bulbasaur</td>\n",
       "      <td>Grass, Poison</td>\n",
       "    </tr>\n",
       "    <tr>\n",
       "      <th>1</th>\n",
       "      <td>Ivysaur</td>\n",
       "      <td>Grass, Poison</td>\n",
       "    </tr>\n",
       "    <tr>\n",
       "      <th>2</th>\n",
       "      <td>Venusaur</td>\n",
       "      <td>Grass, Poison</td>\n",
       "    </tr>\n",
       "    <tr>\n",
       "      <th>3</th>\n",
       "      <td>Charmander</td>\n",
       "      <td>Fire</td>\n",
       "    </tr>\n",
       "    <tr>\n",
       "      <th>4</th>\n",
       "      <td>Charmeleon</td>\n",
       "      <td>Fire</td>\n",
       "    </tr>\n",
       "    <tr>\n",
       "      <th>...</th>\n",
       "      <td>...</td>\n",
       "      <td>...</td>\n",
       "    </tr>\n",
       "    <tr>\n",
       "      <th>1005</th>\n",
       "      <td>Iron Valiant</td>\n",
       "      <td>Fairy, Fighting</td>\n",
       "    </tr>\n",
       "    <tr>\n",
       "      <th>1006</th>\n",
       "      <td>Koraidon</td>\n",
       "      <td>Fighting, Dragon</td>\n",
       "    </tr>\n",
       "    <tr>\n",
       "      <th>1007</th>\n",
       "      <td>Miraidon</td>\n",
       "      <td>Electric, Dragon</td>\n",
       "    </tr>\n",
       "    <tr>\n",
       "      <th>1008</th>\n",
       "      <td>Walking Wake</td>\n",
       "      <td>Water, Dragon</td>\n",
       "    </tr>\n",
       "    <tr>\n",
       "      <th>1009</th>\n",
       "      <td>Iron Leaves</td>\n",
       "      <td>Grass, Psychic</td>\n",
       "    </tr>\n",
       "  </tbody>\n",
       "</table>\n",
       "<p>1010 rows × 2 columns</p>\n",
       "</div>"
      ],
      "text/plain": [
       "              Name              Type\n",
       "0        Bulbasaur     Grass, Poison\n",
       "1          Ivysaur     Grass, Poison\n",
       "2         Venusaur     Grass, Poison\n",
       "3       Charmander              Fire\n",
       "4       Charmeleon              Fire\n",
       "...            ...               ...\n",
       "1005  Iron Valiant   Fairy, Fighting\n",
       "1006      Koraidon  Fighting, Dragon\n",
       "1007      Miraidon  Electric, Dragon\n",
       "1008  Walking Wake     Water, Dragon\n",
       "1009   Iron Leaves    Grass, Psychic\n",
       "\n",
       "[1010 rows x 2 columns]"
      ]
     },
     "execution_count": 11,
     "metadata": {},
     "output_type": "execute_result"
    }
   ],
   "source": [
    "df.convert_dtypes()"
   ]
  },
  {
   "cell_type": "code",
   "execution_count": 13,
   "id": "6497dbf5",
   "metadata": {},
   "outputs": [
    {
     "name": "stdout",
     "output_type": "stream",
     "text": [
      "<class 'pandas.core.frame.DataFrame'>\n",
      "RangeIndex: 1010 entries, 0 to 1009\n",
      "Data columns (total 2 columns):\n",
      " #   Column  Non-Null Count  Dtype \n",
      "---  ------  --------------  ----- \n",
      " 0   Name    1010 non-null   object\n",
      " 1   Type    1010 non-null   object\n",
      "dtypes: object(2)\n",
      "memory usage: 15.9+ KB\n"
     ]
    }
   ],
   "source": [
    "df.info()"
   ]
  }
 ],
 "metadata": {
  "kernelspec": {
   "display_name": "machine-learning-env",
   "language": "python",
   "name": "python3"
  },
  "language_info": {
   "codemirror_mode": {
    "name": "ipython",
    "version": 3
   },
   "file_extension": ".py",
   "mimetype": "text/x-python",
   "name": "python",
   "nbconvert_exporter": "python",
   "pygments_lexer": "ipython3",
   "version": "3.10.13"
  }
 },
 "nbformat": 4,
 "nbformat_minor": 5
}
