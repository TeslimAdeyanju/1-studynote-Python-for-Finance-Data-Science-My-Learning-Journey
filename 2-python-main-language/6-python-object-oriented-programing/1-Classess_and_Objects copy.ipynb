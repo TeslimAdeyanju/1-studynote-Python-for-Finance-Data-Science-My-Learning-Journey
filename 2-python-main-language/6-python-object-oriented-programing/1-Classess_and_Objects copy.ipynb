{
 "cells": [
  {
   "cell_type": "markdown",
   "metadata": {},
   "source": [
    "# CLASSES AND OBJECT IN PYTHON"
   ]
  },
  {
   "cell_type": "markdown",
   "metadata": {},
   "source": [
    "## Classes and Objects in Python\n",
    "___"
   ]
  },
  {
   "cell_type": "markdown",
   "metadata": {},
   "source": [
    "\n",
    "Python is an object-oriented programming language. This means that almost all the code is implemented using a special construct called `classes`. A class is a code template for creating objects."
   ]
  },
  {
   "cell_type": "markdown",
   "metadata": {},
   "source": [
    "#### What is a Class and Objects in Python?\n",
    "___\n"
   ]
  },
  {
   "cell_type": "markdown",
   "metadata": {},
   "source": [
    "* Class:  \n",
    "The class is a user-defined data structure that binds the data members and methods into a single unit. Class is a blueprint or code template for object creation. Using a class, you can create as many objects as you want.\n",
    "\n",
    "* Object:   \n",
    "An object is an instance of a class. It is a collection of attributes (variables) and methods. We use the object of a class to perform actions.\n",
    "\n",
    "\n"
   ]
  },
  {
   "cell_type": "markdown",
   "metadata": {},
   "source": [
    "#### Charateristics of Objects\n",
    "___"
   ]
  },
  {
   "cell_type": "markdown",
   "metadata": {},
   "source": [
    "Objects have two characteristics: \n",
    "\n",
    "1. They have states \n",
    "2. They have behaviors \n",
    "\n",
    "This can be indicated to mean that an object has attributes (states) and methods(behaviours) attached to it. \n",
    "\n",
    "Thus, `Attributes` represent its state, and `Methods` represent its behavior. Using its methods, we can modify its state.\n",
    "\n",
    "\n",
    "In short, Every object has the following properties.\n",
    "\n",
    "- Identity: Every object must be uniquely identified.\n",
    "\n",
    "- State: An object has an attribute that represents a state of an object, and it also reflects the property of an object.\n",
    "\n",
    "- Behavior: An object has methods that represent its behavior.\n",
    "\n",
    "\n",
    "Python is an Object-Oriented Programming language, so everything in Python is treated as an object. An object is a real-life entity. It is the collection of various data and functions that operate on those data.\n",
    "\n",
    "* Example   \n",
    "For example, If we design a `class` based on the `states` and `behaviors` of a Person, then States can be represented as instance variables and behaviors as class methods.\n"
   ]
  },
  {
   "cell_type": "markdown",
   "metadata": {},
   "source": [
    "![alt text](../../../Teslim_python_png/Class_Object_1.png)"
   ]
  },
  {
   "cell_type": "markdown",
   "metadata": {},
   "source": [
    "![alt text](../../../Teslim_python_png/Class_Object_2.png)"
   ]
  },
  {
   "cell_type": "markdown",
   "metadata": {},
   "source": [
    "#### Create a Class in Python\n",
    "___"
   ]
  },
  {
   "cell_type": "markdown",
   "metadata": {},
   "source": [
    "In Python, class is defined by using the `class` keyword. The syntax to create a class is given below.\n",
    "\n",
    "```Python\n",
    "class ClassName:\n",
    "    # Class attributes and methods go here\n",
    "\n",
    "```\n",
    "___\n",
    "\n",
    "Now, let's explain each part:\n",
    "\n",
    "1. `class`: This keyword is used to define a new class in Python.\n",
    "\n",
    "2. `ClassName`: This is the name you give to your class. It follows the same naming rules as variable names.\n",
    "\n",
    "3. `:` (colon): This marks the beginning of the class body. Everything indented under this line belongs to the class.\n",
    "Inside the class body, you can define attributes and methods:\n",
    "\n",
    "Attributes are like variables that belong to the class. They store data related to the class.\n",
    "Methods are like functions that belong to the class. They perform operations on the data stored in the class.\n"
   ]
  },
  {
   "cell_type": "markdown",
   "metadata": {},
   "source": []
  },
  {
   "cell_type": "markdown",
   "metadata": {},
   "source": [
    "#### Class Naming Convention\n",
    "___"
   ]
  },
  {
   "cell_type": "markdown",
   "metadata": {},
   "source": [
    "Naming conventions are essential in any programming language for better readability. If we give a sensible name, it will save our time and energy later. Writing readable code is one of the guiding principles of the Python language.\n",
    "\n",
    "We should follow specific rules while we are deciding a name for the class in Python.\n",
    "\n",
    "1. Rule-1: Class names should follow the UpperCaseCamelCase convention\n",
    "2. Rule-2: Exception classes should end in “Error“.\n",
    "3. Rule-3: If a class is callable (Calling the class from somewhere), in that case, we can give a class name like a function.\n",
    "4. Rule-4: Python’s built-in classes are typically lowercase words"
   ]
  },
  {
   "cell_type": "markdown",
   "metadata": {},
   "source": [
    "#### Create a Attributes \n",
    "___"
   ]
  },
  {
   "cell_type": "markdown",
   "metadata": {},
   "source": [
    "\n",
    "Attributes in a class are like variables that store data specific to the class. They define the characteristics or properties of the objects created from the class. Attributes can be accessed and modified by the methods of the class or directly by the code that uses the class.\n",
    "\n",
    "\n",
    "\n",
    "In Python, there are two types of attributes: class attributes and instance attributes.\n",
    "\n",
    "1. Class Attributes:  \n",
    "These attributes are <font color = red> shared by all instances of the class </font>. They are defined directly within (inside) the class but outside of any methods or or `__init__()` method. \n",
    "\n",
    "2. Instance Attributes:  \n",
    "These attributes are specific (attached) to each instance of the class. They are defined inside methods ( the `__init__()` method of a class) using the self keyword and can vary from one instance to another.\n",
    "\n",
    "To put it simply, class attributes are like the general rules that all things made from a blueprint follow, while instance attributes are like the specific details that make each thing unique."
   ]
  },
  {
   "cell_type": "markdown",
   "metadata": {},
   "source": [
    "Imagine a clothing store. In Python, you can use classes and attributes to represent different types of clothes (like shirts or pants) and individual items of clothing (like a specific blue T-shirt).\n",
    "\n",
    "**Class Attributes: The Store's Defaults**\n",
    "\n",
    "* Think of a class attribute as something that applies to all clothes of a certain type in the store.\n",
    "\n",
    "* For example, a class named `Shirt` might have a class attribute called `material` set to `\"cotton\"` by default. This means all shirts in the store are assumed to be `cotton` unless specified otherwise.\n",
    "\n",
    "* Other class attributes could be things like `category` (e.g., \"casual\" or \"dressy\") or a default `price`.\n",
    "\n",
    "\n",
    "**Instance Attributes: Making Each Item Unique**\n",
    "* An instance attribute is like a specific item of clothing on the shelf. It has its own unique details that set it apart from others of the same type.\n",
    "\n",
    "* So, you might have a blue T-shirt that's a size medium, while another T-shirt is red and large. These are instance attributes defined for each specific shirt.\n",
    "\n",
    "* Other instance attributes for clothes could be things like `color`, `size`, `brand`, or even a unique `discount` for a particular item.\n",
    "\n",
    "\n",
    "Why Use Them?\n",
    "\n",
    "- Reusability: Define class attributes for things that are common to all clothes of a type (like \"cotton\" material for shirts).\n",
    "\n",
    "- Uniqueness: Use instance attributes to give each item its own details (like the size and color of a specific shirt).\n",
    "\n",
    "- Flexibility: You can choose to define some instance attributes directly in the class (like a default size) or set them for each item individually.\n",
    "\n",
    "\n",
    "____\n",
    "\n",
    "```python \n",
    "class ClassName:\n",
    "    # Class attribute\n",
    "    class_attribute = `value`\n",
    "\n",
    "    # Constructor method (initializer) to define instance attributes\n",
    "    def __init__(self, attribute1, attribute2):\n",
    "        \n",
    "        # Instance attributes\n",
    "        self.attribute1 = attribute1\n",
    "        self.attribute2 = attribute2\n",
    "        \n",
    "```"
   ]
  },
  {
   "cell_type": "markdown",
   "metadata": {},
   "source": [
    "This code defines a blueprint for creating objects in Python, kind of like a recipe for making cookies. Let's break it down:\n",
    "\n",
    "1. **Class - The Recipe Name:**\n",
    "\n",
    "`class ClassName:` - This line defines a class, which is like a recipe name. You can replace ClassName with any name that describes what kind of objects this class will create (like Dog, Car, or Player). As part of convention, you usually capitalised the first letter of a ClassName. \n",
    "\n",
    "2. **Class Attribute - The Shared Ingredient (Optional):**\n",
    "\n",
    "`class_attribute = value` - This line defines a class attribute, which is like a shared ingredient in your recipe. It applies to all objects created from this class. For example, if ClassName is Dog, a class attribute could be species = \"Canis familiaris\" (scientific name for dogs), which would be the same for all dog objects. Not all classes need a class attribute.\n",
    "\n",
    "3. Constructor Method (Initializer) - The Mixing Bowl:\n",
    "\n",
    "`def __init__(self, attribute1, attribute2):` - This line defines a special method called the constructor (often called initializer in other languages). It acts like your mixing bowl where you'll combine specific ingredients for each object. The self argument refers to the current object being created. attribute1 and attribute2 are placeholders for the unique ingredients you'll provide when creating each object. <font color = red>  Note that constructor end with colon `:`  </font>\n",
    "\n",
    "\n",
    "\n",
    "4. Instance Attributes - The Unique Ingredients:\n",
    "\n",
    "`self.attribute1 = attribute1`  \n",
    "`self.attribute2 = attribute2` - These lines define instance attributes, which are like the unique ingredients you'll add for each object. The self.attribute1 and self.attribute2 parts assign the provided values (attribute1 and attribute2) to the current object's attributes. So, if you're creating a Dog object, attribute1 could be its name (\"Fido\") and attribute2 its age (4)."
   ]
  },
  {
   "cell_type": "code",
   "execution_count": 2,
   "metadata": {},
   "outputs": [],
   "source": [
    "class Student:\n",
    "    # class attribute\n",
    "    school_name = 'ABC School' # Note the inverted commas around the string\n",
    "\n",
    "    # constructor\n",
    "    def __init__(self, name, age):\n",
    "        # instance attributes\n",
    "        self.name = name\n",
    "        self.age = age"
   ]
  },
  {
   "cell_type": "markdown",
   "metadata": {},
   "source": [
    "The provided Python code defines a class named `Student`. In object-oriented programming, a class is a blueprint for creating objects. It defines a set of attributes and methods that characterize any object that is instantiated from the class.\n",
    "\n",
    "In this `Student` class, there is one class attribute and two instance attributes:\n",
    "\n",
    "1. `school_name`: This is a class attribute, also known as a static attribute. Class attributes are attributes that have the same value for all class instances. They are defined directly beneath the class header. In this case, the `school_name` attribute is set to 'ABC School', and this value will be the same for all instances of the `Student` class unless it's explicitly changed.\n",
    "\n",
    "2. `name` and `age`: These are instance attributes. Instance attributes are attributes that are specific to each instance of the class. They are defined within methods, and typically within the special `__init__` method. In this case, `name` and `age` are instance attributes, and their values are set when a new `Student` object is created.\n",
    "\n",
    "The `__init__` method is a special method in Python, known as a constructor. This method is automatically called when an object is instantiated from a class. The `self` parameter is a reference to the current instance of the class and is used to access variables and methods associated with the class.\n",
    "\n",
    "In this `Student` class, the `__init__` method takes three parameters: `self`, `name`, and `age`. The `name` and `age` parameters are used to initialize the `name` and `age` instance attributes, respectively. When a new `Student` object is created, the `name` and `age` of the student must be provided, and these values will be specific to that `Student` object."
   ]
  },
  {
   "cell_type": "markdown",
   "metadata": {},
   "source": [
    "![alt text](../../../Teslim_python_png/Class_Object_4.png)"
   ]
  },
  {
   "cell_type": "markdown",
   "metadata": {},
   "source": []
  },
  {
   "cell_type": "markdown",
   "metadata": {},
   "source": [
    "## Classes Attributes  in Python\n",
    "___"
   ]
  },
  {
   "cell_type": "markdown",
   "metadata": {},
   "source": [
    "#### What is a Class Attribute in Python?\n",
    "___"
   ]
  },
  {
   "cell_type": "markdown",
   "metadata": {},
   "source": [
    "class attributes are attributes that are set at the class-level, rather than the instance-level. They are shared by all instances of the class. They are defined directly beneath the class header and are typically assigned a value. If the value of a variable is not varied from object to object, such types of variables are called class or static variables. All instances of a class share class variables. Unlike instance variable, the value of a class variable is not varied from object to object."
   ]
  },
  {
   "cell_type": "markdown",
   "metadata": {},
   "source": [
    "#### Create a Class Variable\n",
    "___"
   ]
  },
  {
   "cell_type": "markdown",
   "metadata": {},
   "source": [
    "A class variable is declared inside of a class, but outside of any instance method or `__init__()` method.\n",
    "\n",
    "You can use the class name or the instance to access a class variable.\n",
    "\n",
    "By convention, typically, it is placed right below the class header and before the constructor method and other methods."
   ]
  },
  {
   "cell_type": "code",
   "execution_count": 2,
   "metadata": {},
   "outputs": [
    {
     "name": "stdout",
     "output_type": "stream",
     "text": [
      "Emma 10 ABC School \n",
      "Jessa 20 ABC School \n"
     ]
    }
   ],
   "source": [
    "class Student:\n",
    "    # Class variable\n",
    "    school_name = 'ABC School '\n",
    "    \n",
    "    def __init__(self, name, roll_no):\n",
    "        self.name = name\n",
    "        self.roll_no = roll_no\n",
    "\n",
    "# create first object\n",
    "s1 = Student('Emma', 10)\n",
    "\n",
    "# access class variable\n",
    "print(s1.name, s1.roll_no, Student.school_name)\n",
    "\n",
    "\n",
    "# create second object\n",
    "s2 = Student('Jessa', 20)\n",
    "\n",
    "# access class variable\n",
    "print(s2.name, s2.roll_no, Student.school_name)\n"
   ]
  },
  {
   "cell_type": "markdown",
   "metadata": {},
   "source": [
    "#### Accessing Class Variables\n",
    "___"
   ]
  },
  {
   "cell_type": "markdown",
   "metadata": {},
   "source": [
    "We can access class variables by class name or object reference, but it is recommended to use the class name.\n",
    "\n",
    "In Python, we can access the class variable in the following places\n",
    "\n",
    "1. Access inside the constructor by using either self parameter or class name.\n",
    "2. Access class variable inside instance method by using either self of class name\n",
    "3. Access from outside of class by using either object reference or class nam"
   ]
  },
  {
   "cell_type": "code",
   "execution_count": 3,
   "metadata": {},
   "outputs": [
    {
     "name": "stdout",
     "output_type": "stream",
     "text": [
      "ABC School \n",
      "ABC School \n"
     ]
    }
   ],
   "source": [
    "# Example 1: Access Class Variable in the constructor\n",
    "class Student:\n",
    "    # Class variable\n",
    "    school_name = 'ABC School '\n",
    "\n",
    "    # constructor\n",
    "    def __init__(self, name):\n",
    "        self.name = name\n",
    "\n",
    "        # Method 1: access class variable inside constructor using self\n",
    "        print(self.school_name)\n",
    "\n",
    "        # method 2: access using class name\n",
    "        print(Student.school_name)\n",
    "\n",
    "# create Object\n",
    "s1 = Student('Emma')"
   ]
  },
  {
   "cell_type": "markdown",
   "metadata": {},
   "source": [
    "The above code defines a class named `Student` with a class attribute `school_name`. The `school_name` attribute is shared by all instances of the `Student` class. It is accessed using the class name `Student.school_name`, and self.school_name inside the `__init__` method."
   ]
  },
  {
   "cell_type": "code",
   "execution_count": 7,
   "metadata": {},
   "outputs": [
    {
     "name": "stdout",
     "output_type": "stream",
     "text": [
      "Inside instance method\n",
      "Emma 10 ABC School \n",
      "ABC School \n",
      "Outside class\n",
      "ABC School \n",
      "ABC School \n"
     ]
    }
   ],
   "source": [
    "# Example 2: Access Class Variable in Instance method and outside class\n",
    "class Student:\n",
    "    # Class variable\n",
    "    school_name = 'ABC School '\n",
    "\n",
    "    # constructor\n",
    "    def __init__(self, name, roll_no):\n",
    "        self.name = name\n",
    "        self.roll_no = roll_no\n",
    "\n",
    "    # Instance method\n",
    "    def show(self):\n",
    "        print('Inside instance method')\n",
    "        # access using self\n",
    "        print(self.name, self.roll_no, self.school_name)\n",
    "        # access using class name\n",
    "        print(Student.school_name)\n",
    "\n",
    "# create Object\n",
    "s1 = Student('Emma', 10)\n",
    "s1.show()\n",
    "\n",
    "print('Outside class')\n",
    "# access class variable outside class\n",
    "# access using object reference\n",
    "print(s1.school_name)\n",
    "\n",
    "# access using class name\n",
    "print(Student.school_name)\n",
    "\n"
   ]
  },
  {
   "cell_type": "markdown",
   "metadata": {},
   "source": [
    "#### Modify Class Variables\n",
    "___"
   ]
  },
  {
   "cell_type": "markdown",
   "metadata": {},
   "source": [
    "Generally, we assign value to a class variable inside the class declaration. However, we can change the value of the class variable either in the class or outside of class. Note: It is recommended to change the class variable’s value using the class name.\n",
    "\n",
    "If you modify a class variable using an instance, it doesn’t change the class variable itself. Instead, it creates an instance variable with the same name that shadows (or hides) the class variable for that instance."
   ]
  },
  {
   "cell_type": "code",
   "execution_count": 8,
   "metadata": {},
   "outputs": [
    {
     "name": "stdout",
     "output_type": "stream",
     "text": [
      "Before\n",
      "Emma 10 ABC School \n",
      "After\n",
      "Emma 10 XYZ School\n"
     ]
    }
   ],
   "source": [
    "class Student:\n",
    "    # Class variable\n",
    "    school_name = 'ABC School '\n",
    "\n",
    "    # constructor\n",
    "    def __init__(self, name, roll_no):\n",
    "        self.name = name\n",
    "        self.roll_no = roll_no\n",
    "\n",
    "    # Instance method\n",
    "    def show(self):\n",
    "        print(self.name, self.roll_no, Student.school_name)\n",
    "\n",
    "# create Object\n",
    "s1 = Student('Emma', 10)\n",
    "print('Before')\n",
    "s1.show()\n",
    "\n",
    "# Modify class variable\n",
    "Student.school_name = 'XYZ School'\n",
    "print('After')\n",
    "s1.show()"
   ]
  },
  {
   "cell_type": "markdown",
   "metadata": {},
   "source": [
    "Note:\n",
    "\n",
    "> It is best practice to use a class name to change the value of a class variable. Because if we try to change the class variable’s value by using an object, a new instance variable is created for that particular object, which shadows the class variables."
   ]
  },
  {
   "cell_type": "code",
   "execution_count": 9,
   "metadata": {},
   "outputs": [
    {
     "name": "stdout",
     "output_type": "stream",
     "text": [
      "Before\n",
      "Emma 10 ABC School \n",
      "Jessa 20 ABC School \n",
      "After\n",
      "Emma 10 PQR School\n",
      "Jessa 20 ABC School \n"
     ]
    }
   ],
   "source": [
    "class Student:\n",
    "    # Class variable\n",
    "    school_name = 'ABC School '\n",
    "\n",
    "    # constructor\n",
    "    def __init__(self, name, roll_no):\n",
    "        self.name = name\n",
    "        self.roll_no = roll_no\n",
    "\n",
    "# create Objects\n",
    "s1 = Student('Emma', 10)\n",
    "s2 = Student('Jessa', 20)\n",
    "\n",
    "print('Before')\n",
    "print(s1.name, s1.roll_no, s1.school_name)\n",
    "print(s2.name, s2.roll_no, s2.school_name)\n",
    "\n",
    "# Modify class variable using object reference\n",
    "s1.school_name = 'PQR School'\n",
    "print('After')\n",
    "print(s1.name, s1.roll_no, s1.school_name)\n",
    "print(s2.name, s2.roll_no, s2.school_name)"
   ]
  },
  {
   "cell_type": "markdown",
   "metadata": {},
   "source": [
    "A new instance variable is created for the s1 object, which shadows the class variables. So, always use the class name to modify the class variable."
   ]
  },
  {
   "cell_type": "markdown",
   "metadata": {},
   "source": [
    "#### Wrong Use of Class Variables\n",
    "___"
   ]
  },
  {
   "cell_type": "markdown",
   "metadata": {},
   "source": [
    "We should use the class variable carefully in Python because all objects share the exact copy. Thus, if one of the objects modifies the value of a class variable, then all objects start referring to the fresh copy."
   ]
  },
  {
   "cell_type": "code",
   "execution_count": 10,
   "metadata": {},
   "outputs": [
    {
     "name": "stdout",
     "output_type": "stream",
     "text": [
      "Player : Name: John Club: FC Sports: Football\n",
      "Player : Name: Emma Club: Chelsea Sports: Tennis\n",
      "Club: Chelsea Sport: Football\n"
     ]
    }
   ],
   "source": [
    "class Player:\n",
    "    # class variables\n",
    "    club = 'Chelsea'\n",
    "    sport = 'Football'\n",
    "\n",
    "    def __init__(self, name):\n",
    "        # Instance variable\n",
    "        self.name = name\n",
    "\n",
    "    def show(self):\n",
    "        print(\"Player :\", 'Name:', self.name, 'Club:', self.club, 'Sports:', self.sport)\n",
    "\n",
    "p1 = Player('John')\n",
    "\n",
    "# wrong use of class variable\n",
    "p1.club = 'FC'\n",
    "p1.show()\n",
    "\n",
    "p2 = Player('Emma')\n",
    "p2.sport = 'Tennis'\n",
    "p2.show()\n",
    "\n",
    "# actual class variable value\n",
    "print('Club:', Player.club, 'Sport:', Player.sport)"
   ]
  },
  {
   "cell_type": "markdown",
   "metadata": {},
   "source": [
    "In the above example, the instance variable name is unique for each player. The class variable team and sport can be accessed and modified by any object.\n",
    "\n",
    "Because both objects modified the class variable, a new instance variable is created for that particular object with the same name as the class variable, which shadows the class variables.\n",
    "\n",
    "In our case, for object p1 new instance variable club gets created, and for object p2 new instance variable sport gets created.\n",
    "\n",
    "So when you try to access the class variable using the p1 or p2 object, it will not return the actual class variable value.\n",
    "\n",
    "\n",
    "To avoid this, always modify the class variable value using the class name so that all objects gets the updated value. Like this"
   ]
  },
  {
   "cell_type": "code",
   "execution_count": 11,
   "metadata": {},
   "outputs": [],
   "source": [
    "Player.club = 'FC'\n",
    "Player.sport = 'Tennis'"
   ]
  },
  {
   "cell_type": "markdown",
   "metadata": {},
   "source": [
    "## Instance Attributes  in Python\n",
    "___"
   ]
  },
  {
   "cell_type": "markdown",
   "metadata": {},
   "source": [
    "#### What is an Instance Variable in Python\n",
    "___\n"
   ]
  },
  {
   "cell_type": "markdown",
   "metadata": {},
   "source": [
    "Instance variables are variables that are unique to each instance of a class. They are defined within methods and are assigned using the self parameter. Instance variables are specific to each object, and they are not shared between objects.\n",
    "\n",
    "When we create classes in Python, instance methods are used regularly. we need to create an object to execute the block of code or action defined in the instance method.\n",
    "\n",
    "Instance variables are used within the instance method. We use the instance method to perform a set of actions on the data/value provided by the instance variable.\n",
    "\n",
    "We can access the instance variable using the object and dot (.) operator.\n",
    "\n",
    "In Python, to work with an instance variable and method, we use the self keyword. We use the self keyword as the first parameter to a method. The self refers to the current object in the class."
   ]
  },
  {
   "cell_type": "markdown",
   "metadata": {},
   "source": [
    "#### Create an Instance Variable\n",
    "___"
   ]
  },
  {
   "cell_type": "markdown",
   "metadata": {},
   "source": [
    "create an instance variable inside the class method. We can create an instance variable inside the class method by using the self keyword.\n",
    "The self keyword is used to access the instance variable inside the class method.\n",
    "The sytnax to create an instance variable is given below.\n",
    "\n",
    "```python\n",
    "class ClassName:\n",
    "    def __init__(self):\n",
    "        self.instance_variable = value\n",
    "```\n",
    "\n",
    "In the above code, we have created an instance variable `instance_variable` inside the `__init__` method. The `__init__` method is a constructor method in Python. It is automatically called when an object is created from the class. The `self` parameter is a reference to the current instance of the class. We use the self parameter to access the instance variable inside the class method. In the following example, we are creating two instance variable name and age in the Student class."
   ]
  },
  {
   "cell_type": "code",
   "execution_count": 1,
   "metadata": {},
   "outputs": [
    {
     "name": "stdout",
     "output_type": "stream",
     "text": [
      "Object 1\n",
      "Name: Jessa\n",
      "Age: 20\n",
      "Object 2\n",
      "Name: Kelly\n",
      "Age: 10\n"
     ]
    }
   ],
   "source": [
    "class Student:\n",
    "    # constructor\n",
    "    def __init__(self, name, age):\n",
    "        # Instance variable\n",
    "        self.name = name\n",
    "        self.age = age\n",
    "\n",
    "# create first object\n",
    "s1 = Student(\"Jessa\", 20)\n",
    "\n",
    "# access instance variable\n",
    "print('Object 1')\n",
    "print('Name:', s1.name)\n",
    "print('Age:', s1.age)\n",
    "\n",
    "# create second object\n",
    "s2= Student(\"Kelly\", 10)\n",
    "\n",
    "# access instance variable\n",
    "print('Object 2')\n",
    "print('Name:', s2.name)\n",
    "print('Age:', s2.age)\n"
   ]
  },
  {
   "cell_type": "markdown",
   "metadata": {},
   "source": [
    "#### Modify Instance Variable\n"
   ]
  },
  {
   "cell_type": "markdown",
   "metadata": {},
   "source": [
    "We can modify the value of the instance variable and assign a new value to it using the object reference.\n",
    "\n",
    "Note: When you change the instance variable’s values of one object, the changes will not be reflected in the remaining objects because every object maintains a separate copy of the instance variable"
   ]
  },
  {
   "cell_type": "code",
   "execution_count": 2,
   "metadata": {},
   "outputs": [
    {
     "name": "stdout",
     "output_type": "stream",
     "text": [
      "Before\n",
      "Name: Jessa Age: 20\n",
      "After\n",
      "Name: Emma Age: 15\n"
     ]
    }
   ],
   "source": [
    "class Student:\n",
    "    # constructor\n",
    "    def __init__(self, name, age):\n",
    "        # Instance variable\n",
    "        self.name = name\n",
    "        self.age = age\n",
    "\n",
    "# create object\n",
    "stud = Student(\"Jessa\", 20)\n",
    "\n",
    "print('Before')\n",
    "print('Name:', stud.name, 'Age:', stud.age)\n",
    "\n",
    "# modify instance variable\n",
    "stud.name = 'Emma'\n",
    "stud.age = 15\n",
    "\n",
    "print('After')\n",
    "print('Name:', stud.name, 'Age:', stud.age)"
   ]
  },
  {
   "cell_type": "markdown",
   "metadata": {},
   "source": [
    "#### Accessing Instance Variable\n",
    "___"
   ]
  },
  {
   "cell_type": "markdown",
   "metadata": {},
   "source": [
    "There are two ways to access the instance variable of class:\n",
    "\n",
    "1. Within the class in instance method by using the object reference (self)\n",
    "\n",
    "2. Using `getattr()` method"
   ]
  },
  {
   "cell_type": "markdown",
   "metadata": {},
   "source": [
    "1. Using the Object Reference (self):\n",
    "\n",
    "This is the most common and recommended approach. When you define instance methods (methods that operate on specific object instances), you can access the instance's variables using the self parameter."
   ]
  },
  {
   "cell_type": "code",
   "execution_count": 4,
   "metadata": {},
   "outputs": [
    {
     "name": "stdout",
     "output_type": "stream",
     "text": [
      "Hello, my name is Alice and I am 30 years old.\n"
     ]
    }
   ],
   "source": [
    "# Example 1: Access instance variable in the instance method\n",
    "class Person:\n",
    "    def __init__(self, name, age):\n",
    "        self.name = name\n",
    "        self.age = age\n",
    "\n",
    "    def introduce(self):\n",
    "        print(f\"Hello, my name is {self.name} and I am {self.age} years old.\")\n",
    "\n",
    "# Create a Person object\n",
    "person1 = Person(\"Alice\", 30)\n",
    "\n",
    "# Call the instance method\n",
    "person1.introduce()  # Output: Hello, my name is Alice and I am 30 years old.\n"
   ]
  },
  {
   "cell_type": "markdown",
   "metadata": {},
   "source": [
    "In this example:\n",
    "\n",
    "The `__init__` method (constructor) assigns the provided arguments (name and age) to the instance variables `self.name` and `self.age`.\n",
    "\n",
    "The introduce method uses `self.name` and `self.age` to access the specific person's information within the object `person1`."
   ]
  },
  {
   "cell_type": "markdown",
   "metadata": {},
   "source": [
    "2. Using the getattr() Method:\n",
    "\n",
    "The `getattr()` method is a more general way to access attributes (variables) of an object. It takes two arguments:\n",
    "\n",
    "* The object instance\n",
    "* The name of the attribute as a string.   \n",
    "\n",
    "> While less common for instance variables, `getattr()` can be useful in certain scenarios, like dynamically accessing an attribute based on user input.\n"
   ]
  },
  {
   "cell_type": "code",
   "execution_count": 5,
   "metadata": {},
   "outputs": [
    {
     "name": "stdout",
     "output_type": "stream",
     "text": [
      "Product Name: T-Shirt\n",
      "Product Color: blue\n"
     ]
    }
   ],
   "source": [
    "# Example 2: Access instance variable using getattr()\n",
    "class Product:\n",
    "    def __init__(self, name, price, color):\n",
    "        self.name = name\n",
    "        self.price = price\n",
    "        self.color = color\n",
    "\n",
    "    def get_attribute(self, attribute_name):\n",
    "        return getattr(self, attribute_name)\n",
    "\n",
    "# Create a Product object\n",
    "product1 = Product(\"T-Shirt\", 20.00, \"blue\")\n",
    "\n",
    "# Accessing attributes using self\n",
    "print(f\"Product Name: {product1.name}\")  # Recommended\n",
    "\n",
    "# Accessing attributes using getattr()\n",
    "color = getattr(product1, \"color\")\n",
    "print(f\"Product Color: {color}\")\n"
   ]
  },
  {
   "cell_type": "code",
   "execution_count": 1,
   "metadata": {},
   "outputs": [
    {
     "name": "stdout",
     "output_type": "stream",
     "text": [
      "Name: Jessa\n",
      "Age: 20\n"
     ]
    }
   ],
   "source": [
    "class Student:\n",
    "    # constructor\n",
    "    def __init__(self, name, age):\n",
    "        # Instance variable\n",
    "        self.name = name\n",
    "        self.age = age\n",
    "\n",
    "# create object\n",
    "stud = Student(\"Jessa\", 20)\n",
    "\n",
    "# Use getattr instead of stud.name\n",
    "print('Name:', getattr(stud, 'name'))\n",
    "print('Age:', getattr(stud, 'age'))"
   ]
  },
  {
   "cell_type": "markdown",
   "metadata": {},
   "source": [
    "#### Instance Variables Naming Conventions\n",
    "___"
   ]
  },
  {
   "cell_type": "markdown",
   "metadata": {},
   "source": [
    "* Instance variable names should be all lower case. For example, `identification`\n",
    "* If an instance variable name consists of multiple words, they should be separated by an underscore. For example, store_name\n",
    "* If an instance variable name needs to be mangled, two underscores may begin its name\n",
    "* Non-public instance variables should begin with a single underscore\n",
    "* If an instance name needs to be mangled, two underscores may begin its name\n"
   ]
  },
  {
   "cell_type": "markdown",
   "metadata": {},
   "source": [
    "#### Dynamically Add Instance Variable to a Object\n",
    "___"
   ]
  },
  {
   "cell_type": "markdown",
   "metadata": {},
   "source": [
    "We can add instance variables from the outside of class to a particular object. Use the following syntax to add the new instance variable to the object.\n",
    "\n",
    "```python\n",
    "object_name.new_instance_variable = value\n",
    "```"
   ]
  },
  {
   "cell_type": "code",
   "execution_count": 2,
   "metadata": {},
   "outputs": [
    {
     "name": "stdout",
     "output_type": "stream",
     "text": [
      "Before\n",
      "Name: Jessa Age: 20\n",
      "After\n",
      "Name: Jessa Age: 20 Marks: 75\n"
     ]
    }
   ],
   "source": [
    "class Student:\n",
    "    def __init__(self, name, age):\n",
    "        # Instance variable\n",
    "        self.name = name\n",
    "        self.age = age\n",
    "\n",
    "# create object\n",
    "stud = Student(\"Jessa\", 20)\n",
    "\n",
    "print('Before')\n",
    "print('Name:', stud.name, 'Age:', stud.age)\n",
    "\n",
    "# add new instance variable 'marks' to stud\n",
    "stud.marks = 75\n",
    "print('After')\n",
    "print('Name:', stud.name, 'Age:', stud.age, 'Marks:', stud.marks)\n"
   ]
  },
  {
   "cell_type": "markdown",
   "metadata": {},
   "source": [
    "Note:\n",
    "\n",
    "* We cannot add an instance variable to a class from outside because instance variables belong to objects.  \n",
    "\n",
    "* Adding an instance variable to one object will not be reflected the remaining objects because every object has a separate copy of the instance variable."
   ]
  },
  {
   "cell_type": "markdown",
   "metadata": {},
   "source": [
    "#### Dynamically Delete Instance Variable\n",
    "___"
   ]
  },
  {
   "cell_type": "markdown",
   "metadata": {},
   "source": [
    "In Python, we use the `del` statement and `delattr()` function to delete the attribute of an object. Both of them do the same thing.\n",
    "\n",
    "1. `del` statement: The `del` keyword is used to delete objects. In Python, everything is an object, so the `del` keyword can also be used to delete variables, lists, or parts of a list, etc.\n",
    "\n",
    "2. `delattr()` function: Used to delete an instance variable dynamically.\n",
    "\n",
    "Note: When we try to access the deleted attribute, it raises an attribute error."
   ]
  },
  {
   "cell_type": "code",
   "execution_count": 4,
   "metadata": {},
   "outputs": [],
   "source": [
    "# Example 1: Using the del statement\n",
    "class Person:\n",
    "    def __init__(self, name, age):\n",
    "        self.name = name\n",
    "        self.age = age\n",
    "    \n",
    "# Create a Person object\n",
    "person1 = Person(\"Alice\", 30)\n",
    "\n",
    "# Delete the 'age' attribute\n",
    "del person1.age\n",
    "\n",
    "# Accessing the 'age' attribute will raise an AttributeError\n",
    "# print(person1.age)  # AttributeError: 'Person' object has no attribute 'age'"
   ]
  },
  {
   "cell_type": "code",
   "execution_count": 5,
   "metadata": {},
   "outputs": [],
   "source": [
    "# Example 2: Using the delattr() function\n",
    "class Person:\n",
    "    def __init__(self, name, age):\n",
    "        self.name = name\n",
    "        self.age = age\n",
    "\n",
    "# Create a Person object\n",
    "person1 = Person(\"Alice\", 30)\n",
    "\n",
    "# Delete the 'age' attribute\n",
    "delattr(person1, \"age\")\n",
    "\n",
    "# Accessing the 'age' attribute will raise an AttributeError\n",
    "# print(person1.age)  # AttributeError: 'Person' object has no attribute 'age'"
   ]
  },
  {
   "cell_type": "markdown",
   "metadata": {},
   "source": [
    "#### List all Instance Variables of a Object\n",
    "___\n"
   ]
  },
  {
   "cell_type": "markdown",
   "metadata": {},
   "source": [
    "We can get the list of all the instance variables the object has. Use the `__dict__` function of an object to get all instance variables along with their value.\n",
    "\n",
    "The `__dict__` function returns a dictionary that contains variable name as a key and variable value as a value"
   ]
  },
  {
   "cell_type": "code",
   "execution_count": 8,
   "metadata": {},
   "outputs": [
    {
     "name": "stdout",
     "output_type": "stream",
     "text": [
      "Instance variable object has\n",
      "{'roll_no': 10, 'name': 'Jessa'}\n",
      "\n",
      "roll_no = 10\n",
      "name = Jessa\n"
     ]
    }
   ],
   "source": [
    "class Student:\n",
    "    def __init__(self, roll_no, name):\n",
    "        # Instance variable\n",
    "        self.roll_no = roll_no\n",
    "        self.name = name\n",
    "\n",
    "s1 = Student(10, 'Jessa')\n",
    "print('Instance variable object has')\n",
    "print(s1.__dict__)\n",
    "\n",
    "print()\n",
    "\n",
    "# Get each instance variable\n",
    "for key_value in s1.__dict__.items():\n",
    "    print(key_value[0], '=', key_value[1])\n"
   ]
  },
  {
   "cell_type": "markdown",
   "metadata": {},
   "source": [
    "#### `pass` Statement in Class\n",
    "___"
   ]
  },
  {
   "cell_type": "markdown",
   "metadata": {},
   "source": [
    "In Python, the pass is a null statement. Therefore, nothing happens when the pass statement is executed.\n",
    "\n",
    "The pass statement is used to have an empty block in a code because the empty code is not allowed in loops, function definition, class definition. Thus, the pass statement will results in no operation (NOP). Generally, we use it as a placeholder when we do not know what code to write or add code in a future release. For example, suppose we have a class that is not implemented yet, but we want to implement it in the future, and they cannot have an empty body because the interpreter gives an error. So use the pass statement to construct a body that does nothing.\n",
    "\n"
   ]
  },
  {
   "cell_type": "code",
   "execution_count": 1,
   "metadata": {},
   "outputs": [],
   "source": [
    "class Demo:\n",
    "  pass"
   ]
  },
  {
   "cell_type": "markdown",
   "metadata": {},
   "source": [
    "#### Create an Object from the class \n",
    "____"
   ]
  },
  {
   "cell_type": "markdown",
   "metadata": {},
   "source": [
    "An object is essential to work with the class attributes. The object is created using the class name. When we create an object of the class, it is called instantiation. The object is also called the instance of a class.\n",
    "\n",
    "The syntax for creating object is thus: \n",
    "\n",
    "```python\n",
    "\n",
    "object_name = ClassName(  )\n",
    "\n",
    "```\n",
    "\n",
    "\n",
    "Let's break it down:\n",
    "\n",
    "- `object_name` - This is the name you choose for your object. It's like giving a name to something you create based on the blueprint (class). You can choose any valid variable name.\n",
    "\n",
    "- `ClassName` - This is the name of the class from which you want to create the object. It follows the same naming rules as variable names.\n",
    "\n",
    "- `()` - These parentheses are important. They indicate that you're calling the class to create a new object. They can be empty if the class doesn't require any parameters during  initialization, or they can contain parameters to pass to the class's constructor (if it has one)."
   ]
  },
  {
   "cell_type": "code",
   "execution_count": 13,
   "metadata": {},
   "outputs": [],
   "source": [
    "\n",
    "class Student:\n",
    "    # class attribute\n",
    "    school_name = 'ABC School'\n",
    "\n",
    "    # constructor\n",
    "    def __init__(self, name, age):\n",
    "        # instance attributes\n",
    "        self.name = name\n",
    "        self.age = age\n",
    "\n",
    "\n",
    "# create object of Student class\n",
    "s1 = Student(\"Harry\", 12)\n"
   ]
  },
  {
   "cell_type": "markdown",
   "metadata": {},
   "source": [
    "The provided Python code creates an instance of the `Student` class, which is referred to as an object.\n",
    "\n",
    "The `Student` class requires two parameters to be instantiated, `name` and `age`. These parameters are defined in the `__init__` method of the `Student` class. When creating a new `Student` object, you need to provide these parameters.\n",
    "\n",
    "In the code `s1 = Student(\"Harry\", 12)`, a new `Student` object is being created with the name \"Harry\" and the age 12. This new object is assigned to the variable `s1`.\n",
    "\n",
    "Now, `s1` is an object of the `Student` class, and it has its own `name` and `age` attributes. You can access these attributes as `s1.name` and `s1.age`, respectively. The `school_name` attribute can be accessed as `Student.school_name` or `s1.school_name`.\n",
    "\n",
    "Remember, even though `s1` has access to the `school_name` attribute, it's not an instance attribute. It's a class attribute, which means its value is shared across all instances of the `Student` class unless explicitly overridden."
   ]
  },
  {
   "cell_type": "markdown",
   "metadata": {},
   "source": [
    "Another Example ... In this case, there is no class attributes that is common to all the class. "
   ]
  },
  {
   "cell_type": "code",
   "execution_count": 14,
   "metadata": {},
   "outputs": [
    {
     "name": "stdout",
     "output_type": "stream",
     "text": [
      "Jessa\n",
      "male\n",
      "Nurse\n"
     ]
    }
   ],
   "source": [
    "class Person:\n",
    "    def __init__(self, name, sex, profession):\n",
    "        # data members (instance variables)\n",
    "        self.name = name\n",
    "        self.sex = sex\n",
    "        self.profession = profession\n",
    "\n",
    "# create object of a class\n",
    "member1 = Person('Jessa', 'Female', 'Software Engineer')\n",
    "member2 = Person( 'John', 'male', 'Doctor')\n",
    "member3 = Person('Jenny', 'male', 'Nurse')\n",
    "\n",
    "# access the data members\n",
    "print(member1.name)\n",
    "print(member2.sex)\n",
    "print(member3.profession)\n"
   ]
  },
  {
   "cell_type": "markdown",
   "metadata": {},
   "source": [
    "The provided Python code defines a class named `Person` and creates three instances (or objects) of this class. It then accesses and prints certain attributes of these objects.\n",
    "\n",
    "The `Person` class is defined with three instance variables: `name` `sex`, and `profession`. These variables are initialized through the [`__init__`] method, which is a special method in Python known as a constructor. This method is called when an object is created from a class and it allows the class to initialize the attributes of the class.\n",
    "\n",
    "Three objects of the `Person` class are created: `member1`, `member2`, and `member3`. Each of these objects is initialized with specific values for the `name` `sex`, and `profession` attributes. For example, `member1` is initialized with the name 'Jessa', the sex 'Female', and the profession 'Software Engineer'.\n",
    "\n",
    "The `print` statements at the end of the code access and print the `name` attribute of `member1`, the `sex` attribute of `member2`, and the `profession` attribute of `member3`. This is done using dot notation, which is used in Python to access attributes and methods of an object."
   ]
  },
  {
   "cell_type": "markdown",
   "metadata": {},
   "source": [
    "#### Accessing Information (Instance and Class Variables):\n",
    "____"
   ]
  },
  {
   "cell_type": "markdown",
   "metadata": {},
   "source": [
    "\n",
    "To access instance and class attributes in Python, you typically use dot notation `(.)`. Here's the syntax:"
   ]
  },
  {
   "cell_type": "markdown",
   "metadata": {},
   "source": [
    "Accessing Class Attributes:\n",
    "____\n",
    "\n",
    "Class attributes are accessed using the class name followed by a dot (.) and the attribute name.\n",
    "\n",
    "``` Python \n",
    "\n",
    "print(ClassName.class_attribute)\n",
    "\n",
    "```"
   ]
  },
  {
   "cell_type": "markdown",
   "metadata": {},
   "source": [
    "Accessing Instance Attributes:  \n",
    "___\n",
    "Instance attributes are accessed using the instance name followed by a dot (.) and the attribute name.\n",
    "\n",
    "``` python \n",
    "print(object_name.attribute_name)\n",
    "\n",
    "```"
   ]
  },
  {
   "cell_type": "code",
   "execution_count": 4,
   "metadata": {},
   "outputs": [
    {
     "name": "stdout",
     "output_type": "stream",
     "text": [
      "My Old Student School is: Isolo Secondary School\n",
      "Max students allowed: 82\n",
      "The Unprofiled students: 18\n",
      "Name: Alice\n",
      "Age: 15\n"
     ]
    }
   ],
   "source": [
    "class Student:\n",
    "\n",
    "    # Class variable\n",
    "    school_name = \"Isolo Secondary School\"\n",
    "    Register_students = 82\n",
    "    Unprofile_students = 18\n",
    "\n",
    "\n",
    "    def __init__(self, name, age):\n",
    "        self.name = name\n",
    "        self.age = age\n",
    "\n",
    "# Creating a student object\n",
    "std_1 = Student(\"Alice\", 15)\n",
    "\n",
    "# Accessing class variable\n",
    "print(\"My Old Student School is:\", Student.school_name)\n",
    "print(\"Max students allowed:\", Student.Register_students)\n",
    "print(\"The Unprofiled students:\", Student.Unprofile_students)\n",
    "\n",
    "\n",
    "# Accessing instance variables\n",
    "print(\"Name:\", std_1.name)\n",
    "print(\"Age:\", std_1.age)\n"
   ]
  },
  {
   "cell_type": "code",
   "execution_count": 20,
   "metadata": {},
   "outputs": [
    {
     "name": "stdout",
     "output_type": "stream",
     "text": [
      "Species: Canine\n",
      "Name: Buddy\n",
      "Age: 3\n"
     ]
    }
   ],
   "source": [
    "class Dog:\n",
    "    species = \"Canine\"\n",
    "\n",
    "    def __init__(self, name, age):\n",
    "        self.name = name\n",
    "        self.age = age\n",
    "\n",
    "# Creating an object of the Dog class\n",
    "my_dog = Dog(\"Buddy\", 3)\n",
    "\n",
    "# Accessing class attributes       \n",
    "print(\"Species:\", Dog.species)  \n",
    "\n",
    "\n",
    "# Accessing instance attributes\n",
    "print(\"Name:\", my_dog.name)\n",
    "print(\"Age:\", my_dog.age)\n"
   ]
  },
  {
   "cell_type": "code",
   "execution_count": 21,
   "metadata": {},
   "outputs": [
    {
     "name": "stdout",
     "output_type": "stream",
     "text": [
      "Species: Human\n",
      "Name: Alice\n",
      "Age: 30\n"
     ]
    }
   ],
   "source": [
    "class Person:\n",
    "    # Class attribute\n",
    "    species = \"Human\"\n",
    "\n",
    "    # Constructor method to define instance attributes\n",
    "    def __init__(self, name, age):\n",
    "        # Instance attributes\n",
    "        self.name = name\n",
    "        self.age = age\n",
    "\n",
    "# Creating an object of the Person class\n",
    "person1 = Person(\"Alice\", 30)\n",
    "\n",
    "# Accessing class attribute\n",
    "print(\"Species:\", Person.species)\n",
    "\n",
    "# Accessing instance attributes\n",
    "print(\"Name:\", person1.name)\n",
    "print(\"Age:\", person1.age)\n"
   ]
  },
  {
   "cell_type": "markdown",
   "metadata": {},
   "source": [
    "#### Modifying Information (Instances and Class Variables):\n",
    "___"
   ]
  },
  {
   "cell_type": "markdown",
   "metadata": {},
   "source": [
    "Modifying information, both instance and class variables, involves changing the values associated with those variables. Let's discuss how to do that with examples."
   ]
  },
  {
   "cell_type": "markdown",
   "metadata": {},
   "source": [
    "**1. Modifying Instance Variables:**   \n",
    "\n",
    "Instance variables are specific to each object (instance) of a class. You can modify instance variables by accessing them through the object and assigning new values. The sythax for modifying the object is thus:\n",
    "\n",
    "```Python \n",
    "\n",
    "Obj.attributes = 'new_attribute'\n",
    "\n",
    "```"
   ]
  },
  {
   "cell_type": "code",
   "execution_count": 23,
   "metadata": {},
   "outputs": [
    {
     "name": "stdout",
     "output_type": "stream",
     "text": [
      "My car is now red\n"
     ]
    }
   ],
   "source": [
    "# Define a class\n",
    "class Car:\n",
    "\n",
    "    # constructor\n",
    "    def __init__(self, brand, color):\n",
    "        # instance variables\n",
    "        self.brand = brand\n",
    "        self.color = color\n",
    "\n",
    "# Create a car object\n",
    "my_car = Car(\"Toyota\", \"blue\")\n",
    "\n",
    "# Access and modify instance variables\n",
    "my_car.color = \"red\"\n",
    "\n",
    "# Print the updated value\n",
    "print(\"My car is now\", my_car.color)\n"
   ]
  },
  {
   "cell_type": "code",
   "execution_count": 2,
   "metadata": {},
   "outputs": [
    {
     "name": "stdout",
     "output_type": "stream",
     "text": [
      "Fruit is strawberry and Color is red\n"
     ]
    }
   ],
   "source": [
    "class Fruit:\n",
    "    def __init__(self, name, color):\n",
    "        self.name = name\n",
    "        self.color = color\n",
    "\n",
    "    def show(self):\n",
    "        print(\"Fruit is\", self.name, \"and Color is\", self.color)\n",
    "\n",
    "# creating object of the class\n",
    "obj = Fruit(\"Apple\", \"red\")\n",
    "\n",
    "# Modifying Object Properties\n",
    "obj.name = \"strawberry\"\n",
    "\n",
    "# calling the instance method using the object obj\n",
    "obj.show()\n",
    "# Output Fruit is strawberry and Color is red"
   ]
  },
  {
   "cell_type": "markdown",
   "metadata": {},
   "source": [
    "**2. Modifying Class Variables:** \n",
    "\n",
    "Class variables are shared by all instances of a class. You can modify class variables by accessing them through the class itself and assigning new values. The syntax for modifying class is thus:\n",
    "\n",
    "```Python \n",
    "class.attribute = \"new_attribute\"\n",
    "```"
   ]
  },
  {
   "cell_type": "code",
   "execution_count": 2,
   "metadata": {},
   "outputs": [
    {
     "name": "stdout",
     "output_type": "stream",
     "text": [
      "A car typically has 3 wheels\n"
     ]
    }
   ],
   "source": [
    "# Define a class\n",
    "class Car:\n",
    "    # Class variable\n",
    "    wheels = 4\n",
    "\n",
    "    # construct intance attributes\n",
    "    def __init__(self, brand):\n",
    "        self.brand = brand\n",
    "\n",
    "# Access and modify class variable\n",
    "Car.wheels = 3\n",
    "\n",
    "# Print the updated value\n",
    "print(\"A car typically has\", Car.wheels, \"wheels\")\n"
   ]
  },
  {
   "cell_type": "markdown",
   "metadata": {},
   "source": [
    "çomprehensive Example... "
   ]
  },
  {
   "cell_type": "code",
   "execution_count": 4,
   "metadata": {},
   "outputs": [
    {
     "name": "stdout",
     "output_type": "stream",
     "text": [
      "School name: ABC School\n",
      "Name: Harry\n",
      "Age: 12\n"
     ]
    }
   ],
   "source": [
    "class Student:\n",
    "    # Class variable\n",
    "    school_name = 'ABC School'\n",
    "\n",
    "    # Constructor\n",
    "    def __init__(self, name, age):\n",
    "        # Instance variables\n",
    "        self.name = name\n",
    "        self.age = age\n",
    "\n",
    "# Create an object of the Student class\n",
    "s12 = Student(\"Harry\", 12)\n",
    "\n",
    "# Access class variable\n",
    "print(\"School name:\", Student.school_name)\n",
    "\n",
    "# Access instance variables\n",
    "print(\"Name:\", s12.name)\n",
    "print(\"Age:\", s12.age)"
   ]
  },
  {
   "cell_type": "code",
   "execution_count": 26,
   "metadata": {},
   "outputs": [
    {
     "name": "stdout",
     "output_type": "stream",
     "text": [
      "Student: Jessa 14\n",
      "School name: XYZ School\n"
     ]
    }
   ],
   "source": [
    "# Modify instance variables\n",
    "s1.name = 'Jessa'\n",
    "s1.age = 14\n",
    "print('Student:', s1.name, s1.age)  # Output: Student: Jessa 14\n",
    "\n",
    "# Modify class variable (Affects all students)\n",
    "Student.school_name = 'XYZ School'\n",
    "print('School name:', Student.school_name)  # Output: School name: XYZ School\n"
   ]
  },
  {
   "cell_type": "markdown",
   "metadata": {},
   "source": [
    "#### Delete object properties\n",
    "___"
   ]
  },
  {
   "cell_type": "markdown",
   "metadata": {},
   "source": [
    "We can delete the object property by using the del keyword. After deleting it, if we try to access it, we will get an error"
   ]
  },
  {
   "cell_type": "code",
   "execution_count": 3,
   "metadata": {},
   "outputs": [
    {
     "ename": "AttributeError",
     "evalue": "'Fruit' object has no attribute 'name'",
     "output_type": "error",
     "traceback": [
      "\u001b[0;31m---------------------------------------------------------------------------\u001b[0m",
      "\u001b[0;31mAttributeError\u001b[0m                            Traceback (most recent call last)",
      "Cell \u001b[0;32mIn[3], line 16\u001b[0m\n\u001b[1;32m     13\u001b[0m \u001b[38;5;28;01mdel\u001b[39;00m obj\u001b[38;5;241m.\u001b[39mname\n\u001b[1;32m     15\u001b[0m \u001b[38;5;66;03m# Accessing object properties after deleting\u001b[39;00m\n\u001b[0;32m---> 16\u001b[0m \u001b[38;5;28mprint\u001b[39m(obj\u001b[38;5;241m.\u001b[39mname)\n",
      "\u001b[0;31mAttributeError\u001b[0m: 'Fruit' object has no attribute 'name'"
     ]
    }
   ],
   "source": [
    "class Fruit:\n",
    "    def __init__(self, name, color):\n",
    "        self.name = name\n",
    "        self.color = color\n",
    "\n",
    "    def show(self):\n",
    "        print(\"Fruit is\", self.name, \"and Color is\", self.color)\n",
    "\n",
    "# creating object of the class\n",
    "obj = Fruit(\"Apple\", \"red\")\n",
    "\n",
    "# Deleting Object Properties\n",
    "del obj.name\n",
    "\n",
    "# Accessing object properties after deleting\n",
    "print(obj.name)\n",
    "# Output: AttributeError: 'Fruit' object has no attribute 'name'"
   ]
  },
  {
   "cell_type": "markdown",
   "metadata": {},
   "source": [
    "### Delete Objects\n",
    "___"
   ]
  },
  {
   "cell_type": "markdown",
   "metadata": {},
   "source": [
    "In Python, we can also delete the object by using a `del` keyword. An object can be anything like, class object, `list`, `tuple`, `set`, etc. The syntax is thus:\n",
    "\n",
    "```Python \n",
    " del object_name\n",
    "```"
   ]
  },
  {
   "cell_type": "code",
   "execution_count": 4,
   "metadata": {},
   "outputs": [
    {
     "name": "stdout",
     "output_type": "stream",
     "text": [
      "Department is  IT\n"
     ]
    },
    {
     "ename": "NameError",
     "evalue": "name 'emp' is not defined",
     "output_type": "error",
     "traceback": [
      "\u001b[0;31m---------------------------------------------------------------------------\u001b[0m",
      "\u001b[0;31mNameError\u001b[0m                                 Traceback (most recent call last)",
      "Cell \u001b[0;32mIn[4], line 14\u001b[0m\n\u001b[1;32m     11\u001b[0m \u001b[38;5;28;01mdel\u001b[39;00m emp\n\u001b[1;32m     13\u001b[0m \u001b[38;5;66;03m# Accessing after delete object\u001b[39;00m\n\u001b[0;32m---> 14\u001b[0m emp\u001b[38;5;241m.\u001b[39mshow()\n",
      "\u001b[0;31mNameError\u001b[0m: name 'emp' is not defined"
     ]
    }
   ],
   "source": [
    "class Employee:\n",
    "    depatment = \"IT\"\n",
    "\n",
    "    def show(self):\n",
    "        print(\"Department is \", self.depatment)\n",
    "\n",
    "emp = Employee()\n",
    "emp.show()\n",
    "\n",
    "# delete object\n",
    "del emp\n",
    "\n",
    "# Accessing after delete object\n",
    "emp.show()\n",
    "# Output : NameError: name 'emp' is not defined "
   ]
  },
  {
   "cell_type": "markdown",
   "metadata": {},
   "source": [
    "In the above example, we create the object emp of the class Employee. After that, using the del keyword, we deleted that object."
   ]
  },
  {
   "cell_type": "markdown",
   "metadata": {},
   "source": [
    "## Method Classification\n",
    "___"
   ]
  },
  {
   "cell_type": "markdown",
   "metadata": {},
   "source": [
    "In Object-oriented programming, Inside a Class, we can define the following three types of methods.\n",
    "\n",
    "1. Class method \n",
    "2. Instance method \n",
    "3. Static method \n",
    "\n",
    "\n",
    "`Instance Method`: Imagine you have a blueprint for a car, and you build a specific car from that blueprint. Now, if you want to do something with that specific car, like turn on its headlights or change its speed, you'd use an instance method. These methods are tied to a particular instance (or object) of a class, so they can access and modify the unique characteristics, or \"state,\" of that instance.\n",
    "\n",
    "`Class Method`: Going back to the car example, let's say you have a piece of information that applies to all cars built from the same blueprint, like the maximum speed limit for that model. A class method would be like a rule or operation that applies to all cars of that type. You'd use this method to access or modify characteristics that are shared among all instances of the class, rather than specific to one instance.\n",
    "\n",
    "`Static Method`: Now, imagine you have a tool in your garage that can be used for any car, regardless of its make or model. It doesn't need to know anything about specific cars; it just performs a task independently. This is similar to a static method, which is a standalone function inside a class that doesn't rely on any specific instance or class variables. It's like a utility function that can be used for general tasks within the class, but it doesn't have access to specific instance or class information."
   ]
  },
  {
   "cell_type": "markdown",
   "metadata": {},
   "source": [
    "![alt text](../../../Teslim_python_png/Class_Object_3.png)"
   ]
  },
  {
   "cell_type": "code",
   "execution_count": 2,
   "metadata": {},
   "outputs": [],
   "source": [
    "class Product:\n",
    "    # Class attribute - shared by all products\n",
    "    company = \"Beverage Corporation Inc.\"\n",
    "    \n",
    "    # Constructor - called when creating a new product instance\n",
    "    def __init__(self, name, product_id, price, stock_quantity):\n",
    "        # Instance attributes - unique to each product\n",
    "        self.name = name\n",
    "        self.product_id = product_id\n",
    "        self.price = price\n",
    "        self.stock_quantity = stock_quantity\n",
    "        self.is_available = True if stock_quantity > 0 else False\n",
    "    \n",
    "    # Method to display product information\n",
    "    def display_info(self):\n",
    "        print(f\"Product: {self.name}\")\n",
    "        print(f\"ID: {self.product_id}\")\n",
    "        print(f\"Price: ${self.price:.2f}\")\n",
    "        print(f\"In Stock: {self.stock_quantity} units\")\n",
    "        print(f\"Availability: {'Available' if self.is_available else 'Out of stock'}\")\n",
    "        print(f\"Manufacturer: {self.company}\")"
   ]
  },
  {
   "cell_type": "code",
   "execution_count": 3,
   "metadata": {},
   "outputs": [
    {
     "name": "stdout",
     "output_type": "stream",
     "text": [
      "Product: Coca-Cola\n",
      "ID: CC123\n",
      "Price: $1.50\n",
      "In Stock: 100 units\n",
      "Availability: Available\n",
      "Manufacturer: Beverage Corporation Inc.\n"
     ]
    }
   ],
   "source": [
    "display_info = Product(\"Coca-Cola\", \"CC123\", 1.50, 100)\n",
    "display_info.display_info()"
   ]
  }
 ],
 "metadata": {
  "kernelspec": {
   "display_name": "data-science-env",
   "language": "python",
   "name": "python3"
  },
  "language_info": {
   "codemirror_mode": {
    "name": "ipython",
    "version": 3
   },
   "file_extension": ".py",
   "mimetype": "text/x-python",
   "name": "python",
   "nbconvert_exporter": "python",
   "pygments_lexer": "ipython3",
   "version": "3.12.6"
  }
 },
 "nbformat": 4,
 "nbformat_minor": 2
}
