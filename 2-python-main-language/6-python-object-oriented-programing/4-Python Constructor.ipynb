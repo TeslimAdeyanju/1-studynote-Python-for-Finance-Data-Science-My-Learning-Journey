{
 "cells": [
  {
   "cell_type": "markdown",
   "metadata": {},
   "source": [
    "# CONSTRUCTOR in Python"
   ]
  },
  {
   "cell_type": "markdown",
   "metadata": {},
   "source": [
    "#### Introduction "
   ]
  },
  {
   "cell_type": "markdown",
   "metadata": {},
   "source": [
    "\n",
    "Constructor is a special type of method in Python. It is used to initialize the object of a class. It is called when the class is instantiated. It is defined with the `__init__()` method with double underscores before and after `init`. \n",
    "\n",
    "The `__init__()` method is called the constructor in Python. It is run as soon as an object of a class is instantiated. The method is useful to do any initialization you want to do with your object.\n",
    "\n",
    "The syntax of the constructor is:       \n",
    "\n",
    "```python\n",
    "class ClassName:\n",
    "    def __init__(self, arg1, arg2, ...):\n",
    "        # body of the constructor\n",
    "```"
   ]
  },
  {
   "cell_type": "markdown",
   "metadata": {},
   "source": [
    "The `__init__()` method is not required to return anything, and in fact, it should not return any value other than None.\n",
    "\n",
    "Additional Points\n",
    "\n",
    "* Default Values: You can provide default values for constructor parameters:"
   ]
  },
  {
   "cell_type": "code",
   "execution_count": 3,
   "metadata": {},
   "outputs": [
    {
     "name": "stdout",
     "output_type": "stream",
     "text": [
      "Name: John Doe, Age: 25\n"
     ]
    }
   ],
   "source": [
    "class Person:\n",
    "    def __init__(self, name=\"John Doe\", age=25):\n",
    "        self.name = name\n",
    "        self.age = age\n",
    "\n",
    "    def display_info(self):\n",
    "        print(f\"Name: {self.name}, Age: {self.age}\")\n",
    "\n",
    "person2 = Person()  # Uses default values\n",
    "person2.display_info()  # Output: Name: John Doe, Age: 25\n"
   ]
  },
  {
   "cell_type": "markdown",
   "metadata": {},
   "source": [
    "Note:\n",
    "\n",
    "1. For every object, the constructor will be executed only once. For example, if we create four objects, the constructor is called four times.\n",
    "\n",
    "2. In Python, every class has a constructor, <font color = red > but it’s not required to define it explicitly. Defining constructors in class is optional.</ font >\n",
    "\n",
    "3. Python will provide a default constructor if no constructor is defined."
   ]
  },
  {
   "cell_type": "markdown",
   "metadata": {},
   "source": [
    "#### Types of Constructors\n",
    "___"
   ]
  },
  {
   "cell_type": "markdown",
   "metadata": {},
   "source": [
    "In Python, there are 3 types of constructors:\n",
    "1. Default Constructor\n",
    "2. Parameterized Constructor\n",
    "3. Non-Parameterized Constructor\n"
   ]
  },
  {
   "cell_type": "markdown",
   "metadata": {},
   "source": [
    "![alt text](../../../Teslim_python_cheat/Class_object_10.png)"
   ]
  },
  {
   "cell_type": "markdown",
   "metadata": {},
   "source": [
    "1. Default Constructor: \n",
    "___\n",
    "\n",
    "Python will provide a default constructor if no constructor is defined. Python adds a default constructor when we do not include the constructor in the class or forget to declare it. It does not perform any task but initializes the objects. It is an empty constructor without a body.\n",
    "\n",
    "If you do not implement any constructor in your class or forget to declare it, the Python inserts a default constructor into your code on your behalf. This constructor is known as the default constructor.\n",
    "\n",
    "It does not perform any task but initializes the objects. It is an empty constructor without a body.\n",
    "\n",
    "Note:\n",
    "\n",
    "* The default constructor is not present in the source py file. It is inserted into the code during compilation if not exists. See the below image.\n",
    "* If you implement your constructor, then the default constructor will not be added."
   ]
  },
  {
   "cell_type": "code",
   "execution_count": 4,
   "metadata": {},
   "outputs": [
    {
     "name": "stdout",
     "output_type": "stream",
     "text": [
      "Inside Display\n"
     ]
    }
   ],
   "source": [
    "class Employee:\n",
    "\n",
    "    def display(self):\n",
    "        print('Inside Display')\n",
    "\n",
    "emp = Employee()\n",
    "emp.display()\n"
   ]
  },
  {
   "cell_type": "markdown",
   "metadata": {},
   "source": [
    "As you can see in the example, we do not have a constructor, but we can still create an object for the class because Python added the default constructor during a program compilation."
   ]
  },
  {
   "cell_type": "markdown",
   "metadata": {},
   "source": [
    "2. Non-Parameterized Constructor:\n",
    "___\n",
    "\n",
    "A constructor without any parameter is known as a non-parameterized constructor. It is also known as a default constructor. The non-parameterized constructor uses when we do not want to manipulate the value or do not have any value to pass.\n",
    "\n",
    "In the below example, we have created a constructor without any parameter. We have printed a message inside the constructor.\n"
   ]
  },
  {
   "cell_type": "code",
   "execution_count": 5,
   "metadata": {},
   "outputs": [
    {
     "name": "stdout",
     "output_type": "stream",
     "text": [
      "Name: PYnative Address: ABC Street\n"
     ]
    }
   ],
   "source": [
    "class Company:\n",
    "\n",
    "    # no-argument constructor\n",
    "    def __init__(self):\n",
    "        self.name = \"PYnative\"\n",
    "        self.address = \"ABC Street\"\n",
    "\n",
    "    # a method for printing data members\n",
    "    def show(self):\n",
    "        print('Name:', self.name, 'Address:', self.address)\n",
    "\n",
    "# creating object of the class\n",
    "cmp = Company()\n",
    "\n",
    "# calling the instance method using the object\n",
    "cmp.show()"
   ]
  },
  {
   "cell_type": "markdown",
   "metadata": {},
   "source": [
    "3. Parameterized Constructor:\n",
    "___\n",
    "\n",
    "A constructor with parameters is known as a parameterized constructor. The parameterized constructor takes a parameter and assigns it to the instance variables. The parameterized constructor is used when we want to manipulate the value or initialize the instance variables with some value.\n",
    "\n",
    "The first parameter to constructor is `self` that is a reference to the being constructed, and the rest of the arguments are provided by the programmer. A parameterized constructor can have any number of arguments.\n",
    "\n",
    "For example, consider a company that contains thousands of employees. In this case, while creating each employee object, we need to pass a different name, age, and salary. In such cases, use the parameterized constructor.\n",
    "\n"
   ]
  },
  {
   "cell_type": "code",
   "execution_count": 6,
   "metadata": {},
   "outputs": [
    {
     "name": "stdout",
     "output_type": "stream",
     "text": [
      "Emma 23 7500\n",
      "Kelly 25 8500\n"
     ]
    }
   ],
   "source": [
    "class Employee:\n",
    "    # parameterized constructor\n",
    "    def __init__(self, name, age, salary):\n",
    "        self.name = name\n",
    "        self.age = age\n",
    "        self.salary = salary\n",
    "\n",
    "    # display object\n",
    "    def show(self):\n",
    "        print(self.name, self.age, self.salary)\n",
    "\n",
    "# creating object of the Employee class\n",
    "emma = Employee('Emma', 23, 7500)\n",
    "emma.show()\n",
    "\n",
    "kelly = Employee('Kelly', 25, 8500)\n",
    "kelly.show()\n"
   ]
  },
  {
   "cell_type": "markdown",
   "metadata": {},
   "source": [
    "####  Constructor With Default Values\n",
    "___"
   ]
  },
  {
   "cell_type": "markdown",
   "metadata": {},
   "source": [
    "Python allows us to define a constructor with default values. The default value will be used if we do not pass arguments to the constructor at the time of object creation.\n",
    "\n",
    "The following example shows how to use the default values with the constructor."
   ]
  },
  {
   "cell_type": "code",
   "execution_count": 8,
   "metadata": {},
   "outputs": [
    {
     "name": "stdout",
     "output_type": "stream",
     "text": [
      "Emma 12 7th\n",
      "Kelly 13 7th\n"
     ]
    }
   ],
   "source": [
    "class Student:\n",
    "    # constructor with default values age and classroom\n",
    "    def __init__(self, name, age = 12, classroom = '7th'):\n",
    "        self.name = name\n",
    "        self.age = age\n",
    "        self.classroom = classroom\n",
    "\n",
    "    # display Student\n",
    "    def show(self):\n",
    "        print(self.name, self.age, self.classroom)\n",
    "\n",
    "# creating object of the Student class\n",
    "emma = Student('Emma')\n",
    "emma.show()\n",
    "\n",
    "kelly = Student('Kelly', 13)\n",
    "kelly.show()\n"
   ]
  },
  {
   "cell_type": "markdown",
   "metadata": {},
   "source": [
    "As you can see, we didn’t pass the age and classroom value at the time of object creation, so default values are used."
   ]
  },
  {
   "cell_type": "markdown",
   "metadata": {},
   "source": [
    "#### `Self` Keyword in Constructor`\n",
    "___"
   ]
  },
  {
   "cell_type": "markdown",
   "metadata": {},
   "source": [
    "The `self` keyword in Python is used within a class to refer to the instance of the class. It allows to access the attributes and methods of the class in object-oriented programming.  The `self` keyword is used to represent an instance (object) of the class. With the help of the `self` keyword, we can access the attributes and methods of the class in python.\n",
    "\n",
    "When defining a method, including the constructor __init__, self must be the first parameter. This parameter does not need to be explicitly passed when calling the method; Python automatically passes it.\n",
    "\n",
    "> It is not mandatory to name the first parameter as a self. We can give any name whatever we like, but it has to be the first parameter of an instance method."
   ]
  },
  {
   "cell_type": "code",
   "execution_count": 10,
   "metadata": {},
   "outputs": [
    {
     "name": "stdout",
     "output_type": "stream",
     "text": [
      "Emma 12\n",
      "Kelly 13\n"
     ]
    }
   ],
   "source": [
    "# Using 'info' instead of 'self'\n",
    "\n",
    "class Student:\n",
    "    # constructor\n",
    "    def __init__(info, name, age):\n",
    "        info.name = name\n",
    "        info.age = age\n",
    "\n",
    "    # self points to the current object\n",
    "    def show(info):\n",
    "        # access instance variable using self\n",
    "        print(info.name, info.age)\n",
    "\n",
    "# creating first object\n",
    "emma = Student('Emma', 12)\n",
    "emma.show()\n",
    "\n",
    "# creating Second object\n",
    "kelly = Student('Kelly', 13)\n",
    "kelly.show()\n"
   ]
  },
  {
   "cell_type": "markdown",
   "metadata": {},
   "source": [
    "#### Constructor Overloading\n",
    "___"
   ]
  },
  {
   "cell_type": "markdown",
   "metadata": {},
   "source": [
    "Constructor overloading is a concept of having more than one constructor with a <font color = green > different parameters list in such a way so that each constructor can perform different tasks. </font >\n",
    "\n",
    "For example, we can create a three constructor which accepts a different set of parameters\n",
    "\n",
    "Python does not support constructor overloading. If we define multiple constructors then, the interpreter will considers only the last constructor and throws an error if the sequence of the arguments doesn’t match as per the last constructor. The following example shows the same."
   ]
  },
  {
   "cell_type": "code",
   "execution_count": 11,
   "metadata": {},
   "outputs": [
    {
     "ename": "TypeError",
     "evalue": "Student.__init__() missing 1 required positional argument: 'age'",
     "output_type": "error",
     "traceback": [
      "\u001b[0;31m---------------------------------------------------------------------------\u001b[0m",
      "\u001b[0;31mTypeError\u001b[0m                                 Traceback (most recent call last)",
      "Cell \u001b[0;32mIn[11], line 14\u001b[0m\n\u001b[1;32m     11\u001b[0m         \u001b[38;5;28mself\u001b[39m\u001b[38;5;241m.\u001b[39mage \u001b[38;5;241m=\u001b[39m age\n\u001b[1;32m     13\u001b[0m \u001b[38;5;66;03m# creating first object\u001b[39;00m\n\u001b[0;32m---> 14\u001b[0m emma \u001b[38;5;241m=\u001b[39m Student(\u001b[38;5;124m'\u001b[39m\u001b[38;5;124mEmma\u001b[39m\u001b[38;5;124m'\u001b[39m)\n\u001b[1;32m     16\u001b[0m \u001b[38;5;66;03m# creating Second object\u001b[39;00m\n\u001b[1;32m     17\u001b[0m kelly \u001b[38;5;241m=\u001b[39m Student(\u001b[38;5;124m'\u001b[39m\u001b[38;5;124mKelly\u001b[39m\u001b[38;5;124m'\u001b[39m, \u001b[38;5;241m13\u001b[39m)\n",
      "\u001b[0;31mTypeError\u001b[0m: Student.__init__() missing 1 required positional argument: 'age'"
     ]
    }
   ],
   "source": [
    "class Student:\n",
    "    # one argument constructor\n",
    "    def __init__(self, name):\n",
    "        print(\"One arguments constructor\")\n",
    "        self.name = name\n",
    "\n",
    "    # two argument constructor\n",
    "    def __init__(self, name, age):\n",
    "        print(\"Two arguments constructor\")\n",
    "        self.name = name\n",
    "        self.age = age\n",
    "\n",
    "# creating first object\n",
    "emma = Student('Emma')\n",
    "\n",
    "# creating Second object\n",
    "kelly = Student('Kelly', 13)\n"
   ]
  },
  {
   "cell_type": "markdown",
   "metadata": {},
   "source": [
    "* As you can see in the above example, we defined multiple constructors with different arguments.\n",
    "\n",
    "* At the time of object creation, the interpreter executed the second constructor because Python always considers the last constructor.\n",
    "\n",
    "* Internally, the object of the class will always call the last constructor, even if the class has multiple constructors.\n",
    "\n",
    "In the example when we called a constructor only with one argument, we got a type error."
   ]
  },
  {
   "cell_type": "markdown",
   "metadata": {},
   "source": [
    "#### Constructor Chaining\n",
    "___"
   ]
  },
  {
   "cell_type": "markdown",
   "metadata": {},
   "source": [
    "Constructor chaining is the process of calling one constructor from another constructor with respect to the current object. Constructor chaining is possible only through the use of the `super()` function.\n",
    "\n",
    "The `super()` function is used to call the constructor of the parent class and to access the parent class methods and properties. This is useful when you want to inherit the properties of the parent class.\n"
   ]
  },
  {
   "cell_type": "code",
   "execution_count": 12,
   "metadata": {},
   "outputs": [
    {
     "name": "stdout",
     "output_type": "stream",
     "text": [
      "Inside Vehicle Constructor\n",
      "Inside Car Constructor\n",
      "Inside Electric Car Constructor\n",
      "Engine=1500cc, Max Speed=240, Km range=750\n"
     ]
    }
   ],
   "source": [
    "class Vehicle:\n",
    "    # Constructor of Vehicle\n",
    "    def __init__(self, engine):\n",
    "        print('Inside Vehicle Constructor')\n",
    "        self.engine = engine\n",
    "\n",
    "class Car(Vehicle):\n",
    "    # Constructor of Car\n",
    "    def __init__(self, engine, max_speed):\n",
    "        super().__init__(engine)\n",
    "        print('Inside Car Constructor')\n",
    "        self.max_speed = max_speed\n",
    "\n",
    "class Electric_Car(Car):\n",
    "    # Constructor of Electric Car\n",
    "    def __init__(self, engine, max_speed, km_range):\n",
    "        super().__init__(engine, max_speed)\n",
    "        print('Inside Electric Car Constructor')\n",
    "        self.km_range = km_range\n",
    "\n",
    "# Object of electric car\n",
    "ev = Electric_Car('1500cc', 240, 750)\n",
    "print(f'Engine={ev.engine}, Max Speed={ev.max_speed}, Km range={ev.km_range}')\n"
   ]
  },
  {
   "cell_type": "markdown",
   "metadata": {},
   "source": [
    "#### Counting the Number of objects of a Class\n",
    "___"
   ]
  },
  {
   "cell_type": "markdown",
   "metadata": {},
   "source": [
    "Counting the number of objects of a class in Python can be achieved by using a class variable that keeps track of the count. A class variable is shared among all instances of the class, which makes it ideal for this purpose.Here’s a simple example to illustrate how to count the number of objects created for a class:\n",
    "\n",
    "Syntax:\n",
    "\n",
    "```python\n",
    "class ClassName:\n",
    "    count = 0\n",
    "    def __init__(self):\n",
    "        ClassName.count += 1\n",
    "```"
   ]
  },
  {
   "cell_type": "code",
   "execution_count": 18,
   "metadata": {},
   "outputs": [
    {
     "name": "stdout",
     "output_type": "stream",
     "text": [
      "The number of Employee: 4\n"
     ]
    }
   ],
   "source": [
    "class Employee:\n",
    "    # class variable to store the number of employees\n",
    "    count = 0\n",
    "\n",
    "    # constructor\n",
    "    def __init__(self, name, age):\n",
    "        self.name = name\n",
    "        self.age = age\n",
    "        # increment the count each time a new employee object is created using the constructor \n",
    "        Employee.count = Employee.count + 1\n",
    "\n",
    "\n",
    "# creating objects\n",
    "e1 = Employee(\"Anle\", 25)\n",
    "e2 = Employee(\"Olu\", 30)\n",
    "e2 = Employee(\"Ade\", 60)\n",
    "e4 = Employee(\"Tolu\", 40)\n",
    "print(\"The number of Employee:\", Employee.count)\n"
   ]
  },
  {
   "cell_type": "code",
   "execution_count": 19,
   "metadata": {},
   "outputs": [
    {
     "name": "stdout",
     "output_type": "stream",
     "text": [
      "Name: Alice, Age: 30\n",
      "Name: Bob, Age: 25\n",
      "Name: Charlie, Age: 40\n",
      "Number of Person instances created: 3\n"
     ]
    }
   ],
   "source": [
    "class Person:\n",
    "    # Class variable to keep track of the number of instances\n",
    "    count = 0\n",
    "\n",
    "    def __init__(self, name, age):\n",
    "        self.name = name\n",
    "        self.age = age\n",
    "        # Increment the count each time a new object is created\n",
    "        Person.count += 1\n",
    "\n",
    "    @classmethod\n",
    "    def get_count(cls):\n",
    "        return cls.count\n",
    "\n",
    "    def display_info(self):\n",
    "        print(f\"Name: {self.name}, Age: {self.age}\")\n",
    "\n",
    "# Creating instances of the Person class\n",
    "person1 = Person(\"Alice\", 30)\n",
    "person2 = Person(\"Bob\", 25)\n",
    "person3 = Person(\"Charlie\", 40)\n",
    "\n",
    "# Displaying the information of each person\n",
    "person1.display_info()  # Output: Name: Alice, Age: 30\n",
    "person2.display_info()  # Output: Name: Bob, Age: 25\n",
    "person3.display_info()  # Output: Name: Charlie, Age: 40\n",
    "\n",
    "# Getting the count of Person objects created\n",
    "print(f\"Number of Person instances created: {Person.get_count()}\")\n",
    "# Output: Number of Person instances created: 3\n",
    "\n"
   ]
  },
  {
   "cell_type": "markdown",
   "metadata": {},
   "source": [
    "#### Constructor Return Value\n",
    "___"
   ]
  },
  {
   "cell_type": "markdown",
   "metadata": {},
   "source": [
    "In Python, the constructor does not return any value. Therefore, while declaring a constructor, we don’t have anything like return type. Instead, a constructor is implicitly called at the time of object instantiation. Thus, it has the sole purpose of initializing the instance variables.\n",
    "\n",
    "The __init__() is required to return None. We can not return something else. If we try to return a non-None value from the __init__() method, it will raise TypeError.\n",
    "\n"
   ]
  },
  {
   "cell_type": "markdown",
   "metadata": {},
   "source": [
    "#### `__new__()` Method vs `__init__()` Method\n",
    "___"
   ]
  },
  {
   "cell_type": "markdown",
   "metadata": {},
   "source": [
    "In Python, the process of creating an object is divided into two distinct phases: \n",
    "1. object creation \n",
    "2. object initialization. \n",
    "\n",
    "This division allows for a clear and structured way of handling how objects are instantiated and initialized. Here’s an explanation of both phases, focusing on the roles of the `__new__` and `__init__` methods."
   ]
  },
  {
   "cell_type": "markdown",
   "metadata": {},
   "source": [
    "##### Object Creation \n",
    "___\n",
    "1. The `__new__` method is called when an object is created. It is responsible for creating the object and returning it to the caller.\n",
    "\n",
    "2. The first parameter of `__new__` is the class itself. The remaining parameters are the arguments that are passed to the class constructor.\n",
    "\n",
    "3. The `__new__` method is a static method, which means that it does not take the `self` parameter. It is called before the `__init__` method.\n",
    "\n",
    "4. The `__new__` method returns an instance of the class. This instance is then passed to the `__init__` method for initialization.\n",
    "\n",
    "5. If the `__new__` method does not return an instance of the class, the `__init__` method will not be called.\n",
    "\n",
    "6. The `__new__` method is rarely overridden in practice. It is typically used in cases where you need to control how instances of a class are created.\n",
    "\n",
    "7. The `__new__` method is called automatically when an object is created using the class name followed by parentheses.\n",
    "\n",
    "8. Python automatically calls the `__new__` method when you create an object using the class name followed by parentheses. so, you don’t need to call it explicitly."
   ]
  },
  {
   "cell_type": "code",
   "execution_count": 20,
   "metadata": {},
   "outputs": [
    {
     "name": "stdout",
     "output_type": "stream",
     "text": [
      "Creating instance (inside __new__)\n",
      "Initializing instance (inside __init__)\n",
      "10\n"
     ]
    }
   ],
   "source": [
    "class MyClass:\n",
    "    def __new__(cls, *args, **kwargs):\n",
    "        print(\"Creating instance (inside __new__)\")\n",
    "        instance = super().__new__(cls)\n",
    "        return instance\n",
    "\n",
    "    def __init__(self, value):\n",
    "        print(\"Initializing instance (inside __init__)\")\n",
    "        self.value = value\n",
    "\n",
    "# Creating an instance of MyClass\n",
    "obj = MyClass(10)\n",
    "\n",
    "# Output:\n",
    "# Creating instance (inside __new__)\n",
    "# Initializing instance (inside __init__)\n",
    "\n",
    "print(obj.value)  # Output: 10\n"
   ]
  },
  {
   "cell_type": "markdown",
   "metadata": {},
   "source": [
    "This Python code defines a class [`MyClass`](command:_github.copilot.openSymbolFromReferences?%5B%7B%22%24mid%22%3A1%2C%22fsPath%22%3A%22%2FUsers%2Fteslim%2FLibrary%2FCloudStorage%2FOneDrive-TeslimUthmanAdeyanju%2FTeSlim_Data_Scientist%2F03_Python%2FTeslim_python_study_note%2FTeslim_Python_Bootcamp%2F06-Object%20Oriented%20Programing%2F4-Constructor.ipynb%22%2C%22path%22%3A%22%2FUsers%2Fteslim%2FLibrary%2FCloudStorage%2FOneDrive-TeslimUthmanAdeyanju%2FTeSlim_Data_Scientist%2F03_Python%2FTeslim_python_study_note%2FTeslim_Python_Bootcamp%2F06-Object%20Oriented%20Programing%2F4-Constructor.ipynb%22%2C%22scheme%22%3A%22vscode-notebook-cell%22%2C%22fragment%22%3A%22X54sZmlsZQ%3D%3D%22%7D%2C%7B%22line%22%3A0%2C%22character%22%3A6%7D%5D \"/Users/teslim/Library/CloudStorage/OneDrive-TeslimUthmanAdeyanju/TeSlim_Data_Scientist/03_Python/Teslim_python_study_note/Teslim_Python_Bootcamp/06-Object Oriented Programing/4-Constructor.ipynb\") with two special methods: [`__new__`](command:_github.copilot.openSymbolFromReferences?%5B%7B%22%24mid%22%3A1%2C%22path%22%3A%22%2FUsers%2Fteslim%2F.vscode%2Fextensions%2Fms-python.vscode-pylance-2024.5.1%2Fdist%2Ftypeshed-fallback%2Fstdlib%2Fbuiltins.pyi%22%2C%22scheme%22%3A%22file%22%7D%2C%7B%22line%22%3A103%2C%22character%22%3A8%7D%5D \"../../../../.vscode/extensions/ms-python.vscode-pylance-2024.5.1/dist/typeshed-fallback/stdlib/builtins.pyi\") and [`__init__`](command:_github.copilot.openSymbolFromReferences?%5B%7B%22%24mid%22%3A1%2C%22fsPath%22%3A%22%2FUsers%2Fteslim%2FLibrary%2FCloudStorage%2FOneDrive-TeslimUthmanAdeyanju%2FTeSlim_Data_Scientist%2F03_Python%2FTeslim_python_study_note%2FTeslim_Python_Bootcamp%2F06-Object%20Oriented%20Programing%2F4-Constructor.ipynb%22%2C%22path%22%3A%22%2FUsers%2Fteslim%2FLibrary%2FCloudStorage%2FOneDrive-TeslimUthmanAdeyanju%2FTeSlim_Data_Scientist%2F03_Python%2FTeslim_python_study_note%2FTeslim_Python_Bootcamp%2F06-Object%20Oriented%20Programing%2F4-Constructor.ipynb%22%2C%22scheme%22%3A%22vscode-notebook-cell%22%2C%22fragment%22%3A%22X54sZmlsZQ%3D%3D%22%7D%2C%7B%22line%22%3A6%2C%22character%22%3A8%7D%5D \"/Users/teslim/Library/CloudStorage/OneDrive-TeslimUthmanAdeyanju/TeSlim_Data_Scientist/03_Python/Teslim_python_study_note/Teslim_Python_Bootcamp/06-Object Oriented Programing/4-Constructor.ipynb\").\n",
    "\n",
    "The [`__new__`](command:_github.copilot.openSymbolFromReferences?%5B%7B%22%24mid%22%3A1%2C%22path%22%3A%22%2FUsers%2Fteslim%2F.vscode%2Fextensions%2Fms-python.vscode-pylance-2024.5.1%2Fdist%2Ftypeshed-fallback%2Fstdlib%2Fbuiltins.pyi%22%2C%22scheme%22%3A%22file%22%7D%2C%7B%22line%22%3A103%2C%22character%22%3A8%7D%5D \"../../../../.vscode/extensions/ms-python.vscode-pylance-2024.5.1/dist/typeshed-fallback/stdlib/builtins.pyi\") method is a special method in Python that's called when an instance of the class is created, before [`__init__`](command:_github.copilot.openSymbolFromReferences?%5B%7B%22%24mid%22%3A1%2C%22fsPath%22%3A%22%2FUsers%2Fteslim%2FLibrary%2FCloudStorage%2FOneDrive-TeslimUthmanAdeyanju%2FTeSlim_Data_Scientist%2F03_Python%2FTeslim_python_study_note%2FTeslim_Python_Bootcamp%2F06-Object%20Oriented%20Programing%2F4-Constructor.ipynb%22%2C%22path%22%3A%22%2FUsers%2Fteslim%2FLibrary%2FCloudStorage%2FOneDrive-TeslimUthmanAdeyanju%2FTeSlim_Data_Scientist%2F03_Python%2FTeslim_python_study_note%2FTeslim_Python_Bootcamp%2F06-Object%20Oriented%20Programing%2F4-Constructor.ipynb%22%2C%22scheme%22%3A%22vscode-notebook-cell%22%2C%22fragment%22%3A%22X54sZmlsZQ%3D%3D%22%7D%2C%7B%22line%22%3A6%2C%22character%22%3A8%7D%5D \"/Users/teslim/Library/CloudStorage/OneDrive-TeslimUthmanAdeyanju/TeSlim_Data_Scientist/03_Python/Teslim_python_study_note/Teslim_Python_Bootcamp/06-Object Oriented Programing/4-Constructor.ipynb\"). It's responsible for returning a new instance of the class. In this method, we first print a message \"Creating instance (inside __new__)\" to indicate that we're in the [`__new__`](command:_github.copilot.openSymbolFromReferences?%5B%7B%22%24mid%22%3A1%2C%22path%22%3A%22%2FUsers%2Fteslim%2F.vscode%2Fextensions%2Fms-python.vscode-pylance-2024.5.1%2Fdist%2Ftypeshed-fallback%2Fstdlib%2Fbuiltins.pyi%22%2C%22scheme%22%3A%22file%22%7D%2C%7B%22line%22%3A103%2C%22character%22%3A8%7D%5D \"../../../../.vscode/extensions/ms-python.vscode-pylance-2024.5.1/dist/typeshed-fallback/stdlib/builtins.pyi\") method. Then, we call [`super().__new__(cls)`](command:_github.copilot.openSymbolFromReferences?%5B%7B%22%24mid%22%3A1%2C%22path%22%3A%22%2FUsers%2Fteslim%2F.vscode%2Fextensions%2Fms-python.vscode-pylance-2024.5.1%2Fdist%2Ftypeshed-fallback%2Fstdlib%2Fbuiltins.pyi%22%2C%22scheme%22%3A%22file%22%7D%2C%7B%22line%22%3A210%2C%22character%22%3A6%7D%5D \"../../../../.vscode/extensions/ms-python.vscode-pylance-2024.5.1/dist/typeshed-fallback/stdlib/builtins.pyi\") to create the instance. The [`super()`](command:_github.copilot.openSymbolFromReferences?%5B%7B%22%24mid%22%3A1%2C%22path%22%3A%22%2FUsers%2Fteslim%2F.vscode%2Fextensions%2Fms-python.vscode-pylance-2024.5.1%2Fdist%2Ftypeshed-fallback%2Fstdlib%2Fbuiltins.pyi%22%2C%22scheme%22%3A%22file%22%7D%2C%7B%22line%22%3A210%2C%22character%22%3A6%7D%5D \"../../../../.vscode/extensions/ms-python.vscode-pylance-2024.5.1/dist/typeshed-fallback/stdlib/builtins.pyi\") function is used to call a method from a parent class, in this case, the [`__new__`](command:_github.copilot.openSymbolFromReferences?%5B%7B%22%24mid%22%3A1%2C%22path%22%3A%22%2FUsers%2Fteslim%2F.vscode%2Fextensions%2Fms-python.vscode-pylance-2024.5.1%2Fdist%2Ftypeshed-fallback%2Fstdlib%2Fbuiltins.pyi%22%2C%22scheme%22%3A%22file%22%7D%2C%7B%22line%22%3A103%2C%22character%22%3A8%7D%5D \"../../../../.vscode/extensions/ms-python.vscode-pylance-2024.5.1/dist/typeshed-fallback/stdlib/builtins.pyi\") method from the base `object` class. The [`cls`](command:_github.copilot.openSymbolFromReferences?%5B%7B%22%24mid%22%3A1%2C%22fsPath%22%3A%22%2FUsers%2Fteslim%2FLibrary%2FCloudStorage%2FOneDrive-TeslimUthmanAdeyanju%2FTeSlim_Data_Scientist%2F03_Python%2FTeslim_python_study_note%2FTeslim_Python_Bootcamp%2F06-Object%20Oriented%20Programing%2F4-Constructor.ipynb%22%2C%22path%22%3A%22%2FUsers%2Fteslim%2FLibrary%2FCloudStorage%2FOneDrive-TeslimUthmanAdeyanju%2FTeSlim_Data_Scientist%2F03_Python%2FTeslim_python_study_note%2FTeslim_Python_Bootcamp%2F06-Object%20Oriented%20Programing%2F4-Constructor.ipynb%22%2C%22scheme%22%3A%22vscode-notebook-cell%22%2C%22fragment%22%3A%22X54sZmlsZQ%3D%3D%22%7D%2C%7B%22line%22%3A1%2C%22character%22%3A16%7D%5D \"/Users/teslim/Library/CloudStorage/OneDrive-TeslimUthmanAdeyanju/TeSlim_Data_Scientist/03_Python/Teslim_python_study_note/Teslim_Python_Bootcamp/06-Object Oriented Programing/4-Constructor.ipynb\") argument is a reference to the class that the instance should be created for.\n",
    "\n",
    "The [`__init__`](command:_github.copilot.openSymbolFromReferences?%5B%7B%22%24mid%22%3A1%2C%22fsPath%22%3A%22%2FUsers%2Fteslim%2FLibrary%2FCloudStorage%2FOneDrive-TeslimUthmanAdeyanju%2FTeSlim_Data_Scientist%2F03_Python%2FTeslim_python_study_note%2FTeslim_Python_Bootcamp%2F06-Object%20Oriented%20Programing%2F4-Constructor.ipynb%22%2C%22path%22%3A%22%2FUsers%2Fteslim%2FLibrary%2FCloudStorage%2FOneDrive-TeslimUthmanAdeyanju%2FTeSlim_Data_Scientist%2F03_Python%2FTeslim_python_study_note%2FTeslim_Python_Bootcamp%2F06-Object%20Oriented%20Programing%2F4-Constructor.ipynb%22%2C%22scheme%22%3A%22vscode-notebook-cell%22%2C%22fragment%22%3A%22X54sZmlsZQ%3D%3D%22%7D%2C%7B%22line%22%3A6%2C%22character%22%3A8%7D%5D \"/Users/teslim/Library/CloudStorage/OneDrive-TeslimUthmanAdeyanju/TeSlim_Data_Scientist/03_Python/Teslim_python_study_note/Teslim_Python_Bootcamp/06-Object Oriented Programing/4-Constructor.ipynb\") method is another special method in Python that's called after [`__new__`](command:_github.copilot.openSymbolFromReferences?%5B%7B%22%24mid%22%3A1%2C%22path%22%3A%22%2FUsers%2Fteslim%2F.vscode%2Fextensions%2Fms-python.vscode-pylance-2024.5.1%2Fdist%2Ftypeshed-fallback%2Fstdlib%2Fbuiltins.pyi%22%2C%22scheme%22%3A%22file%22%7D%2C%7B%22line%22%3A103%2C%22character%22%3A8%7D%5D \"../../../../.vscode/extensions/ms-python.vscode-pylance-2024.5.1/dist/typeshed-fallback/stdlib/builtins.pyi\"), to initialize the instance. In this method, we print a message \"Initializing instance (inside __init__)\" to indicate that we're in the [`__init__`](command:_github.copilot.openSymbolFromReferences?%5B%7B%22%24mid%22%3A1%2C%22fsPath%22%3A%22%2FUsers%2Fteslim%2FLibrary%2FCloudStorage%2FOneDrive-TeslimUthmanAdeyanju%2FTeSlim_Data_Scientist%2F03_Python%2FTeslim_python_study_note%2FTeslim_Python_Bootcamp%2F06-Object%20Oriented%20Programing%2F4-Constructor.ipynb%22%2C%22path%22%3A%22%2FUsers%2Fteslim%2FLibrary%2FCloudStorage%2FOneDrive-TeslimUthmanAdeyanju%2FTeSlim_Data_Scientist%2F03_Python%2FTeslim_python_study_note%2FTeslim_Python_Bootcamp%2F06-Object%20Oriented%20Programing%2F4-Constructor.ipynb%22%2C%22scheme%22%3A%22vscode-notebook-cell%22%2C%22fragment%22%3A%22X54sZmlsZQ%3D%3D%22%7D%2C%7B%22line%22%3A6%2C%22character%22%3A8%7D%5D \"/Users/teslim/Library/CloudStorage/OneDrive-TeslimUthmanAdeyanju/TeSlim_Data_Scientist/03_Python/Teslim_python_study_note/Teslim_Python_Bootcamp/06-Object Oriented Programing/4-Constructor.ipynb\") method. Then, we set the [`value`](command:_github.copilot.openSymbolFromReferences?%5B%7B%22%24mid%22%3A1%2C%22fsPath%22%3A%22%2FUsers%2Fteslim%2FLibrary%2FCloudStorage%2FOneDrive-TeslimUthmanAdeyanju%2FTeSlim_Data_Scientist%2F03_Python%2FTeslim_python_study_note%2FTeslim_Python_Bootcamp%2F06-Object%20Oriented%20Programing%2F4-Constructor.ipynb%22%2C%22path%22%3A%22%2FUsers%2Fteslim%2FLibrary%2FCloudStorage%2FOneDrive-TeslimUthmanAdeyanju%2FTeSlim_Data_Scientist%2F03_Python%2FTeslim_python_study_note%2FTeslim_Python_Bootcamp%2F06-Object%20Oriented%20Programing%2F4-Constructor.ipynb%22%2C%22scheme%22%3A%22vscode-notebook-cell%22%2C%22fragment%22%3A%22X54sZmlsZQ%3D%3D%22%7D%2C%7B%22line%22%3A6%2C%22character%22%3A23%7D%5D \"/Users/teslim/Library/CloudStorage/OneDrive-TeslimUthmanAdeyanju/TeSlim_Data_Scientist/03_Python/Teslim_python_study_note/Teslim_Python_Bootcamp/06-Object Oriented Programing/4-Constructor.ipynb\") attribute of the instance to the [`value`](command:_github.copilot.openSymbolFromReferences?%5B%7B%22%24mid%22%3A1%2C%22fsPath%22%3A%22%2FUsers%2Fteslim%2FLibrary%2FCloudStorage%2FOneDrive-TeslimUthmanAdeyanju%2FTeSlim_Data_Scientist%2F03_Python%2FTeslim_python_study_note%2FTeslim_Python_Bootcamp%2F06-Object%20Oriented%20Programing%2F4-Constructor.ipynb%22%2C%22path%22%3A%22%2FUsers%2Fteslim%2FLibrary%2FCloudStorage%2FOneDrive-TeslimUthmanAdeyanju%2FTeSlim_Data_Scientist%2F03_Python%2FTeslim_python_study_note%2FTeslim_Python_Bootcamp%2F06-Object%20Oriented%20Programing%2F4-Constructor.ipynb%22%2C%22scheme%22%3A%22vscode-notebook-cell%22%2C%22fragment%22%3A%22X54sZmlsZQ%3D%3D%22%7D%2C%7B%22line%22%3A6%2C%22character%22%3A23%7D%5D \"/Users/teslim/Library/CloudStorage/OneDrive-TeslimUthmanAdeyanju/TeSlim_Data_Scientist/03_Python/Teslim_python_study_note/Teslim_Python_Bootcamp/06-Object Oriented Programing/4-Constructor.ipynb\") argument passed to the method.\n",
    "\n",
    "After defining the class, we create an instance of [`MyClass`](command:_github.copilot.openSymbolFromReferences?%5B%7B%22%24mid%22%3A1%2C%22fsPath%22%3A%22%2FUsers%2Fteslim%2FLibrary%2FCloudStorage%2FOneDrive-TeslimUthmanAdeyanju%2FTeSlim_Data_Scientist%2F03_Python%2FTeslim_python_study_note%2FTeslim_Python_Bootcamp%2F06-Object%20Oriented%20Programing%2F4-Constructor.ipynb%22%2C%22path%22%3A%22%2FUsers%2Fteslim%2FLibrary%2FCloudStorage%2FOneDrive-TeslimUthmanAdeyanju%2FTeSlim_Data_Scientist%2F03_Python%2FTeslim_python_study_note%2FTeslim_Python_Bootcamp%2F06-Object%20Oriented%20Programing%2F4-Constructor.ipynb%22%2C%22scheme%22%3A%22vscode-notebook-cell%22%2C%22fragment%22%3A%22X54sZmlsZQ%3D%3D%22%7D%2C%7B%22line%22%3A0%2C%22character%22%3A6%7D%5D \"/Users/teslim/Library/CloudStorage/OneDrive-TeslimUthmanAdeyanju/TeSlim_Data_Scientist/03_Python/Teslim_python_study_note/Teslim_Python_Bootcamp/06-Object Oriented Programing/4-Constructor.ipynb\") with the value `10`. This triggers the [`__new__`](command:_github.copilot.openSymbolFromReferences?%5B%7B%22%24mid%22%3A1%2C%22path%22%3A%22%2FUsers%2Fteslim%2F.vscode%2Fextensions%2Fms-python.vscode-pylance-2024.5.1%2Fdist%2Ftypeshed-fallback%2Fstdlib%2Fbuiltins.pyi%22%2C%22scheme%22%3A%22file%22%7D%2C%7B%22line%22%3A103%2C%22character%22%3A8%7D%5D \"../../../../.vscode/extensions/ms-python.vscode-pylance-2024.5.1/dist/typeshed-fallback/stdlib/builtins.pyi\") and [`__init__`](command:_github.copilot.openSymbolFromReferences?%5B%7B%22%24mid%22%3A1%2C%22fsPath%22%3A%22%2FUsers%2Fteslim%2FLibrary%2FCloudStorage%2FOneDrive-TeslimUthmanAdeyanju%2FTeSlim_Data_Scientist%2F03_Python%2FTeslim_python_study_note%2FTeslim_Python_Bootcamp%2F06-Object%20Oriented%20Programing%2F4-Constructor.ipynb%22%2C%22path%22%3A%22%2FUsers%2Fteslim%2FLibrary%2FCloudStorage%2FOneDrive-TeslimUthmanAdeyanju%2FTeSlim_Data_Scientist%2F03_Python%2FTeslim_python_study_note%2FTeslim_Python_Bootcamp%2F06-Object%20Oriented%20Programing%2F4-Constructor.ipynb%22%2C%22scheme%22%3A%22vscode-notebook-cell%22%2C%22fragment%22%3A%22X54sZmlsZQ%3D%3D%22%7D%2C%7B%22line%22%3A6%2C%22character%22%3A8%7D%5D \"/Users/teslim/Library/CloudStorage/OneDrive-TeslimUthmanAdeyanju/TeSlim_Data_Scientist/03_Python/Teslim_python_study_note/Teslim_Python_Bootcamp/06-Object Oriented Programing/4-Constructor.ipynb\") methods, and we see the print statements from these methods in the output. Finally, we print the [`value`](command:_github.copilot.openSymbolFromReferences?%5B%7B%22%24mid%22%3A1%2C%22fsPath%22%3A%22%2FUsers%2Fteslim%2FLibrary%2FCloudStorage%2FOneDrive-TeslimUthmanAdeyanju%2FTeSlim_Data_Scientist%2F03_Python%2FTeslim_python_study_note%2FTeslim_Python_Bootcamp%2F06-Object%20Oriented%20Programing%2F4-Constructor.ipynb%22%2C%22path%22%3A%22%2FUsers%2Fteslim%2FLibrary%2FCloudStorage%2FOneDrive-TeslimUthmanAdeyanju%2FTeSlim_Data_Scientist%2F03_Python%2FTeslim_python_study_note%2FTeslim_Python_Bootcamp%2F06-Object%20Oriented%20Programing%2F4-Constructor.ipynb%22%2C%22scheme%22%3A%22vscode-notebook-cell%22%2C%22fragment%22%3A%22X54sZmlsZQ%3D%3D%22%7D%2C%7B%22line%22%3A6%2C%22character%22%3A23%7D%5D \"/Users/teslim/Library/CloudStorage/OneDrive-TeslimUthmanAdeyanju/TeSlim_Data_Scientist/03_Python/Teslim_python_study_note/Teslim_Python_Bootcamp/06-Object Oriented Programing/4-Constructor.ipynb\") attribute of the [`obj`](command:_github.copilot.openSymbolFromReferences?%5B%7B%22%24mid%22%3A1%2C%22fsPath%22%3A%22%2FUsers%2Fteslim%2FLibrary%2FCloudStorage%2FOneDrive-TeslimUthmanAdeyanju%2FTeSlim_Data_Scientist%2F03_Python%2FTeslim_python_study_note%2FTeslim_Python_Bootcamp%2F06-Object%20Oriented%20Programing%2F4-Constructor.ipynb%22%2C%22path%22%3A%22%2FUsers%2Fteslim%2FLibrary%2FCloudStorage%2FOneDrive-TeslimUthmanAdeyanju%2FTeSlim_Data_Scientist%2F03_Python%2FTeslim_python_study_note%2FTeslim_Python_Bootcamp%2F06-Object%20Oriented%20Programing%2F4-Constructor.ipynb%22%2C%22scheme%22%3A%22vscode-notebook-cell%22%2C%22fragment%22%3A%22X54sZmlsZQ%3D%3D%22%7D%2C%7B%22line%22%3A11%2C%22character%22%3A0%7D%5D \"/Users/teslim/Library/CloudStorage/OneDrive-TeslimUthmanAdeyanju/TeSlim_Data_Scientist/03_Python/Teslim_python_study_note/Teslim_Python_Bootcamp/06-Object Oriented Programing/4-Constructor.ipynb\") instance, which is `10`."
   ]
  },
  {
   "cell_type": "markdown",
   "metadata": {},
   "source": [
    "#### Summary \n",
    "___"
   ]
  },
  {
   "cell_type": "markdown",
   "metadata": {},
   "source": [
    "constructor is a special type of method that is used to initialize the object. It is called when the object is created. The constructor is defined using the `__init__` method. The `__init__` method is a special method in Python that is called when an instance of a class is created.\n",
    "\n",
    "1. A constructor is a unique method used to initialize an object of the class.\n",
    "1. Python will provide a default constructor if no constructor is defined.\n",
    "1. Constructor is not a method and doesn’t return anything. it returns None\n",
    "1. In Python, we have three types of constructor default, Non-parametrized, and parameterized constructor.\n",
    "1. Using self, we can access the instance variable and instance method of the object. The first argument self refers to the current object.\n",
    "1. Constructor overloading is not possible in Python.\n",
    "1. If the parent class doesn’t have a default constructor, then the compiler would not insert a default constructor in the child class.\n",
    "1. A child class constructor can also invoke the parent class constructor using the super() method."
   ]
  }
 ],
 "metadata": {
  "kernelspec": {
   "display_name": "teslim_env",
   "language": "python",
   "name": "python3"
  },
  "language_info": {
   "codemirror_mode": {
    "name": "ipython",
    "version": 3
   },
   "file_extension": ".py",
   "mimetype": "text/x-python",
   "name": "python",
   "nbconvert_exporter": "python",
   "pygments_lexer": "ipython3",
   "version": "3.11.5"
  }
 },
 "nbformat": 4,
 "nbformat_minor": 2
}
