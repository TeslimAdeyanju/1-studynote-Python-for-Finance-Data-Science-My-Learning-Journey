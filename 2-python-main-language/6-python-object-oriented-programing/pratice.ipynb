{
 "cells": [
  {
   "cell_type": "code",
   "execution_count": null,
   "id": "38f79c6a",
   "metadata": {},
   "outputs": [
    {
     "name": "stdout",
     "output_type": "stream",
     "text": [
      "================================================================================\n",
      "DEMONSTRATION: THREE METHODS OF ACCESSING INSTANCE VARIABLES\n",
      "================================================================================\n",
      "\n",
      "🔧 CREATING PRODUCT OBJECTS\n",
      "--------------------------------------------------\n",
      "✅ Created 3 products for TechCorp Solutions\n"
     ]
    }
   ],
   "source": [
    "class Product:\n",
    "    \"\"\"\n",
    "    A class to represent company products with comprehensive instance variable examples\n",
    "    \"\"\"\n",
    "    \n",
    "    # Class variable (shared by all instances)\n",
    "    company_name = \"TechCorp Solutions\"\n",
    "    total_products = 0\n",
    "    \n",
    "    def __init__(self, product_id, name, category, price, stock_quantity, manufacturer):\n",
    "        # Instance variables - unique to each object\n",
    "        self.product_id = product_id\n",
    "        self.name = name\n",
    "        self.category = category\n",
    "        self.price = price\n",
    "        self.stock_quantity = stock_quantity\n",
    "        self.manufacturer = manufacturer\n",
    "        self.discount_percentage = 0  # Default discount\n",
    "        \n",
    "        # Increment total products count\n",
    "        Product.total_products += 1\n",
    "    \n",
    "    # Method 1: Accessing instance variables using 'self' within the class\n",
    "    def display_product_info(self):\n",
    "        \"\"\"Display product information using self to access instance variables\"\"\"\n",
    "        print(f\"Product ID: {self.product_id}\")\n",
    "        print(f\"Name: {self.name}\")\n",
    "        print(f\"Category: {self.category}\")\n",
    "        print(f\"Price: ${self.price:.2f}\")\n",
    "        print(f\"Stock: {self.stock_quantity} units\")\n",
    "        print(f\"Manufacturer: {self.manufacturer}\")\n",
    "        print(f\"Discount: {self.discount_percentage}%\")\n",
    "        print(\"-\" * 40)\n",
    "    \n",
    "    def calculate_discounted_price(self):\n",
    "        \"\"\"Calculate discounted price using self to access instance variables\"\"\"\n",
    "        if self.discount_percentage > 0:\n",
    "            discounted_price = self.price * (1 - self.discount_percentage / 100)\n",
    "            return round(discounted_price, 2)\n",
    "        return self.price\n",
    "    \n",
    "    def apply_discount(self, discount_percent):\n",
    "        \"\"\"Apply discount to the product\"\"\"\n",
    "        self.discount_percentage = discount_percent\n",
    "        print(f\"Applied {discount_percent}% discount to {self.name}\")\n",
    "    \n",
    "    def update_stock(self, quantity_sold):\n",
    "        \"\"\"Update stock quantity after sale\"\"\"\n",
    "        if self.stock_quantity >= quantity_sold:\n",
    "            self.stock_quantity -= quantity_sold\n",
    "            print(f\"Sold {quantity_sold} units of {self.name}\")\n",
    "            print(f\"Remaining stock: {self.stock_quantity} units\")\n",
    "        else:\n",
    "            print(f\"Insufficient stock! Only {self.stock_quantity} units available\")\n",
    "    \n",
    "    def is_in_stock(self):\n",
    "        \"\"\"Check if product is in stock using self\"\"\"\n",
    "        return self.stock_quantity > 0\n",
    "    \n",
    "    def get_total_value(self):\n",
    "        \"\"\"Calculate total inventory value for this product\"\"\"\n",
    "        return self.price * self.stock_quantity\n",
    "\n",
    "print(\"=\" * 80)\n",
    "print(\"DEMONSTRATION: THREE METHODS OF ACCESSING INSTANCE VARIABLES\")\n",
    "print(\"=\" * 80)\n",
    "\n",
    "# Creating 3 different products\n",
    "print(\"\\n🔧 CREATING PRODUCT OBJECTS\")\n",
    "print(\"-\" * 50)\n",
    "\n",
    "# Product 1: Laptop\n",
    "laptop = Product(\n",
    "    product_id=\"TECH001\",\n",
    "    name=\"UltraBook Pro 15\",\n",
    "    category=\"Electronics\",\n",
    "    price=1299.99,\n",
    "    stock_quantity=25,\n",
    "    manufacturer=\"Dell\"\n",
    ")\n",
    "\n",
    "# Product 2: Smartphone\n",
    "smartphone = Product(\n",
    "    product_id=\"TECH002\", \n",
    "    name=\"Galaxy X Pro\",\n",
    "    category=\"Electronics\",\n",
    "    price=899.99,\n",
    "    stock_quantity=50,\n",
    "    manufacturer=\"Samsung\"\n",
    ")\n",
    "\n",
    "# Product 3: Headphones\n",
    "headphones = Product(\n",
    "    product_id=\"TECH003\",\n",
    "    name=\"Noise Cancelling Headphones\",\n",
    "    category=\"Audio\",\n",
    "    price=249.99,\n",
    "    stock_quantity=100,\n",
    "    manufacturer=\"Sony\"\n",
    ")\n"
   ]
  },
  {
   "cell_type": "code",
   "execution_count": 4,
   "id": "1018c626",
   "metadata": {},
   "outputs": [
    {
     "name": "stdout",
     "output_type": "stream",
     "text": [
      "✅ Created 3 products for TechCorp Solutions\n",
      "\n",
      "================================================================================\n",
      "METHOD 1: ACCESSING INSTANCE VARIABLES USING 'self' (WITHIN CLASS METHODS)\n",
      "================================================================================\n",
      "🔍 This method uses 'self' parameter inside class methods to access instance variables\n",
      "📝 Format: self.variable_name (used within class methods)\n",
      "--------------------------------------------------------------------------------\n",
      "📊 DISPLAYING PRODUCT INFORMATION USING CLASS METHODS:\n",
      "\n",
      "🖥️  LAPTOP DETAILS (using self.attribute):\n",
      "Product ID: TECH001\n",
      "Name: UltraBook Pro 15\n",
      "Category: Electronics\n",
      "Price: $1299.99\n",
      "Stock: 25 units\n",
      "Manufacturer: Dell\n",
      "Discount: 10%\n",
      "----------------------------------------\n",
      "📱 SMARTPHONE DETAILS (using self.attribute):\n",
      "Product ID: TECH002\n",
      "Name: Galaxy X Pro\n",
      "Category: Electronics\n",
      "Price: $899.99\n",
      "Stock: 50 units\n",
      "Manufacturer: Samsung\n",
      "Discount: 15%\n",
      "----------------------------------------\n",
      "🎧 HEADPHONES DETAILS (using self.attribute):\n",
      "Product ID: TECH003\n",
      "Name: Noise Cancelling Headphones\n",
      "Category: Audio\n",
      "Price: $249.99\n",
      "Stock: 100 units\n",
      "Manufacturer: Sony\n",
      "Discount: 5%\n",
      "----------------------------------------\n"
     ]
    }
   ],
   "source": [
    "print(f\"✅ Created {Product.total_products} products for {Product.company_name}\")\n",
    "\n",
    "print(\"\\n\" + \"=\" * 80)\n",
    "print(\"METHOD 1: ACCESSING INSTANCE VARIABLES USING 'self' (WITHIN CLASS METHODS)\")\n",
    "print(\"=\" * 80)\n",
    "print(\"🔍 This method uses 'self' parameter inside class methods to access instance variables\")\n",
    "print(\"📝 Format: self.variable_name (used within class methods)\")\n",
    "print(\"-\" * 80)\n",
    "\n",
    "# Using instance methods that access variables with 'self'\n",
    "print(\"📊 DISPLAYING PRODUCT INFORMATION USING CLASS METHODS:\")\n",
    "print()\n",
    "\n",
    "print(\"🖥️  LAPTOP DETAILS (using self.attribute):\")\n",
    "laptop.display_product_info()\n",
    "\n",
    "print(\"📱 SMARTPHONE DETAILS (using self.attribute):\")\n",
    "smartphone.display_product_info()\n",
    "\n",
    "print(\"🎧 HEADPHONES DETAILS (using self.attribute):\")\n",
    "headphones.display_product_info()\n",
    "\n"
   ]
  },
  {
   "cell_type": "code",
   "execution_count": 3,
   "id": "9eabf34e",
   "metadata": {},
   "outputs": [
    {
     "name": "stdout",
     "output_type": "stream",
     "text": [
      "💰 APPLYING DISCOUNTS USING CLASS METHODS:\n",
      "Applied 10% discount to UltraBook Pro 15\n",
      "Applied 15% discount to Galaxy X Pro\n",
      "Applied 5% discount to Noise Cancelling Headphones\n",
      "\n",
      "📈 CALCULATING DISCOUNTED PRICES (methods using 'self'):\n",
      "Laptop discounted price: $1169.99\n",
      "Smartphone discounted price: $764.99\n",
      "Headphones discounted price: $237.49\n"
     ]
    }
   ],
   "source": [
    "print(\"💰 APPLYING DISCOUNTS USING CLASS METHODS:\")\n",
    "laptop.apply_discount(10)\n",
    "smartphone.apply_discount(15)\n",
    "headphones.apply_discount(5)\n",
    "\n",
    "print(\"\\n📈 CALCULATING DISCOUNTED PRICES (methods using 'self'):\")\n",
    "print(f\"Laptop discounted price: ${laptop.calculate_discounted_price()}\")\n",
    "print(f\"Smartphone discounted price: ${smartphone.calculate_discounted_price()}\")\n",
    "print(f\"Headphones discounted price: ${headphones.calculate_discounted_price()}\")"
   ]
  },
  {
   "cell_type": "code",
   "execution_count": 9,
   "id": "bae0e2c2",
   "metadata": {},
   "outputs": [],
   "source": [
    "class Student:\n",
    "    # constructor\n",
    "    def __init__(self, name, age):\n",
    "        # Instance variable\n",
    "        self.name = name\n",
    "        self.age = age\n",
    "\n",
    "# create object\n",
    "stud1 = Student(\"Jessa\", 20)\n",
    "stud2 = Student(\"Kelly\", 10)\n",
    "stud3 = Student(\"Emma\", 15)"
   ]
  },
  {
   "cell_type": "code",
   "execution_count": 10,
   "id": "673c3b2b",
   "metadata": {},
   "outputs": [
    {
     "name": "stdout",
     "output_type": "stream",
     "text": [
      "Before\n",
      "Name: Jessa Age: 20\n"
     ]
    }
   ],
   "source": [
    "print('Before')\n",
    "print('Name:', stud1.name, 'Age:', stud1.age)"
   ]
  },
  {
   "cell_type": "code",
   "execution_count": 6,
   "id": "05e069fa",
   "metadata": {},
   "outputs": [],
   "source": [
    "# modify instance variable for student 1 only \n",
    "stud1.name = 'Teslim'\n",
    "stud1.age = 48"
   ]
  },
  {
   "cell_type": "code",
   "execution_count": 7,
   "id": "ab59a00a",
   "metadata": {},
   "outputs": [
    {
     "name": "stdout",
     "output_type": "stream",
     "text": [
      "After\n",
      "Name: Teslim Age: 48\n"
     ]
    }
   ],
   "source": [
    "\n",
    "\n",
    "print('After')\n",
    "print('Name:', stud1.name, 'Age:', stud1.age)"
   ]
  },
  {
   "cell_type": "code",
   "execution_count": 11,
   "id": "98bd96ec",
   "metadata": {},
   "outputs": [],
   "source": [
    "class Product:\n",
    "    def __init__(self, name, price):\n",
    "        self.name = name        # Creating instance variables\n",
    "        self.price = price\n",
    "\n",
    "    def display_info(self):     # Instance method\n",
    "        print(f\"Product: {self.name}, Price: ${self.price}\")\n",
    "        \n",
    "   \n",
    "# Create a product object\n",
    "laptop = Product(\"UltraBook Pro 15\", 1299.99)"
   ]
  },
  {
   "cell_type": "code",
   "execution_count": 12,
   "id": "f5c8569f",
   "metadata": {},
   "outputs": [
    {
     "name": "stdout",
     "output_type": "stream",
     "text": [
      "Product: UltraBook Pro 15, Price: $1299.99\n"
     ]
    }
   ],
   "source": [
    "laptop.display_info()"
   ]
  },
  {
   "cell_type": "code",
   "execution_count": null,
   "id": "f54c5b03",
   "metadata": {},
   "outputs": [],
   "source": [
    "class state_nigeria:\n",
    "    def __init__(self, name, population):\n",
    "        self.name = name\n",
    "        self.population = population\n",
    "\n",
    "    def display_info(self):\n",
    "        print(f\"City: {self.name}, Population: {self.population}\")\n",
    "        print(f\"For any one living in {self.name}, you musst have the density of {self.population / 1000} people per square kilometer.\")\n",
    "        \n",
    "# Create a Lagos object\n",
    "lagos_city = state_nigeria(\"Lagos\", 14000000)\n",
    "Abuja_city = state_nigeria(\"Abuja\", 5000000)\n",
    "Ogun_city = state_nigeria(\"Ogun\", 3000000)\n",
    "\n",
    "\n",
    "\n",
    "lagos_city.display_info()"
   ]
  },
  {
   "cell_type": "code",
   "execution_count": 18,
   "id": "242a3b9d",
   "metadata": {},
   "outputs": [
    {
     "name": "stdout",
     "output_type": "stream",
     "text": [
      "City: Lagos, Population: 14000000\n",
      "For any one living in Lagos, you musst have the density of 14000.0 people per square kilometer.\n"
     ]
    }
   ],
   "source": [
    "lagos_city.display_info()"
   ]
  },
  {
   "cell_type": "code",
   "execution_count": 19,
   "id": "760b464b",
   "metadata": {},
   "outputs": [
    {
     "name": "stdout",
     "output_type": "stream",
     "text": [
      "City: Ogun, Population: 3000000\n",
      "For any one living in Ogun, you musst have the density of 3000.0 people per square kilometer.\n"
     ]
    }
   ],
   "source": [
    "Ogun_city.display_info()"
   ]
  },
  {
   "cell_type": "code",
   "execution_count": 20,
   "id": "3d5e8583",
   "metadata": {},
   "outputs": [
    {
     "name": "stdout",
     "output_type": "stream",
     "text": [
      "Nigerian State Information:\n",
      "========================================\n",
      "State: Lagos, Population: 14,000,000\n",
      "For anyone living in Lagos, you must have the density of 14,000 people per thousand residents.\n",
      "\n",
      "State: Abuja, Population: 5,000,000\n",
      "For anyone living in Abuja, you must have the density of 5,000 people per thousand residents.\n",
      "\n",
      "State: Ogun, Population: 3,000,000\n",
      "For anyone living in Ogun, you must have the density of 3,000 people per thousand residents.\n",
      "\n",
      "========================================\n",
      "Actual Population Density Examples:\n",
      "Lagos actual density: 3914 people per sq km\n"
     ]
    }
   ],
   "source": [
    "class StateNigeria:  # Changed to PascalCase naming convention\n",
    "    def __init__(self, name, population):\n",
    "        self.name = name\n",
    "        self.population = population\n",
    "\n",
    "    def display_info(self):\n",
    "        print(f\"State: {self.name}, Population: {self.population:,}\")  # Changed \"City\" to \"State\" and added comma formatting\n",
    "        print(f\"For anyone living in {self.name}, you must have the density of {self.population / 1000:,.0f} people per thousand residents.\")  # Fixed \"musst\" to \"must\" and clarified calculation\n",
    "        \n",
    "    def calculate_actual_density(self, area_sq_km):\n",
    "        \"\"\"Calculate actual population density given area\"\"\"\n",
    "        return self.population / area_sq_km\n",
    "        \n",
    "# Create state objects\n",
    "lagos_state = StateNigeria(\"Lagos\", 14000000)  # Changed variable names to reflect states\n",
    "abuja_state = StateNigeria(\"Abuja\", 5000000)\n",
    "ogun_state = StateNigeria(\"Ogun\", 3000000)\n",
    "\n",
    "# Display information for all states\n",
    "print(\"Nigerian State Information:\")\n",
    "print(\"=\" * 40)\n",
    "lagos_state.display_info()\n",
    "print()\n",
    "abuja_state.display_info()\n",
    "print()\n",
    "ogun_state.display_info()\n",
    "\n",
    "# Example of actual density calculation (optional)\n",
    "print(\"\\n\" + \"=\" * 40)\n",
    "print(\"Actual Population Density Examples:\")\n",
    "print(f\"Lagos actual density: {lagos_state.calculate_actual_density(3577):.0f} people per sq km\")  # Lagos area ≈ 3,577 km²"
   ]
  },
  {
   "cell_type": "code",
   "execution_count": 2,
   "id": "83689588",
   "metadata": {},
   "outputs": [],
   "source": [
    "class Product:\n",
    "    def __init__(self, name, price, stock):\n",
    "        self.name = name      # instance variable for product name\n",
    "        self.price = price    # instance variable for product price\n",
    "        self.stock = stock    # instance variable for product stock\n",
    "\n",
    "\n",
    "# Create product objects\n",
    "laptop = Product(\"UltraBook Pro 15\", 1299.99, 10)\n",
    "smartphone = Product(\"Galaxy X Pro\", 899.99, 25)\n",
    "headphones = Product(\"Noise Cancelling Headphones\", 249.99, 50)"
   ]
  },
  {
   "cell_type": "code",
   "execution_count": 3,
   "id": "5a4c0e20",
   "metadata": {},
   "outputs": [
    {
     "name": "stdout",
     "output_type": "stream",
     "text": [
      "=== Initial Inventory (Direct Access) ===\n",
      "UltraBook Pro 15: $1299.99, Stock: 10\n",
      "Galaxy X Pro: $899.99, Stock: 25\n",
      "Noise Cancelling Headphones: $249.99, Stock: 50\n"
     ]
    }
   ],
   "source": [
    "# Step 3: Access attributes directly using dot notation\n",
    "print(\"=== Initial Inventory (Direct Access) ===\")\n",
    "print(f\"{laptop.name}: ${laptop.price}, Stock: {laptop.stock}\")\n",
    "print(f\"{smartphone.name}: ${smartphone.price}, Stock: {smartphone.stock}\")\n",
    "print(f\"{headphones.name}: ${headphones.price}, Stock: {headphones.stock}\")"
   ]
  },
  {
   "cell_type": "code",
   "execution_count": 4,
   "id": "4a32c864",
   "metadata": {},
   "outputs": [],
   "source": [
    "# Step 4: Modify attributes directly\n",
    "laptop.price = 1199.99    # reducing laptop price\n",
    "smartphone.stock = 20     # reducing stock after some sales\n",
    "headphones.name = \"Premium Noise Cancelling Headphones\"  # updating product name"
   ]
  },
  {
   "cell_type": "code",
   "execution_count": 5,
   "id": "d7090ecc",
   "metadata": {},
   "outputs": [
    {
     "name": "stdout",
     "output_type": "stream",
     "text": [
      "\n",
      "=== Updated Inventory (After Direct Modification) ===\n",
      "UltraBook Pro 15: $1199.99, Stock: 10\n",
      "Galaxy X Pro: $899.99, Stock: 20\n",
      "Premium Noise Cancelling Headphones: $249.99, Stock: 50\n"
     ]
    }
   ],
   "source": [
    "# Step 5: Display updates directly\n",
    "print(\"\\n=== Updated Inventory (After Direct Modification) ===\")\n",
    "print(f\"{laptop.name}: ${laptop.price}, Stock: {laptop.stock}\")\n",
    "print(f\"{smartphone.name}: ${smartphone.price}, Stock: {smartphone.stock}\")\n",
    "print(f\"{headphones.name}: ${headphones.price}, Stock: {headphones.stock}\")"
   ]
  },
  {
   "cell_type": "code",
   "execution_count": 6,
   "id": "87ba2309",
   "metadata": {},
   "outputs": [
    {
     "name": "stdout",
     "output_type": "stream",
     "text": [
      "\n",
      "Total Inventory Value: $42,499.20\n"
     ]
    }
   ],
   "source": [
    "# Step 6: Use direct access in calculations\n",
    "total_value = (laptop.price * laptop.stock) + \\\n",
    "              (smartphone.price * smartphone.stock) + \\\n",
    "              (headphones.price * headphones.stock)\n",
    "\n",
    "print(f\"\\nTotal Inventory Value: ${total_value:,.2f}\")"
   ]
  },
  {
   "cell_type": "code",
   "execution_count": 9,
   "id": "7809889a",
   "metadata": {},
   "outputs": [
    {
     "name": "stdout",
     "output_type": "stream",
     "text": [
      "UltraBook Pro 15\n",
      "1199.99\n",
      "10\n"
     ]
    }
   ],
   "source": [
    "print(laptop.name)\n",
    "print(laptop.price)\n",
    "print(laptop.stock)"
   ]
  },
  {
   "cell_type": "code",
   "execution_count": 15,
   "id": "0a9be1c5",
   "metadata": {},
   "outputs": [],
   "source": [
    "class Student:\n",
    "    def __init__(self, name, age, grade, major=None):\n",
    "        self.name = name\n",
    "        self.age = age\n",
    "        self.grade = grade\n",
    "        if major:\n",
    "            self.major = major\n",
    "        # Note: Some students might not have major, email, or phone\n",
    "\n",
    "# Create different students with varying attributes\n",
    "students = [\n",
    "    Student(\"Alice\", 20, \"A\", \"Computer Science\"),\n",
    "    Student(\"Bob\", 19, \"B+\"),\n",
    "    Student(\"Carol\", 21, \"A-\", \"Mathematics\")\n",
    "]\n"
   ]
  },
  {
   "cell_type": "code",
   "execution_count": 16,
   "id": "95f5a01c",
   "metadata": {},
   "outputs": [
    {
     "name": "stdout",
     "output_type": "stream",
     "text": [
      "=== Student Management System Using getattr() ===\n"
     ]
    }
   ],
   "source": [
    "# Add some optional attributes to specific students\n",
    "students[0].email = \"alice@university.edu\"\n",
    "students[0].phone = \"555-1234\"\n",
    "students[2].scholarship = True\n",
    "\n",
    "print(\"=== Student Management System Using getattr() ===\")"
   ]
  },
  {
   "cell_type": "code",
   "execution_count": 20,
   "id": "83e7b2b3",
   "metadata": {},
   "outputs": [
    {
     "data": {
      "text/plain": [
       "'alice@university.edu'"
      ]
     },
     "execution_count": 20,
     "metadata": {},
     "output_type": "execute_result"
    }
   ],
   "source": [
    "students[0].email"
   ]
  },
  {
   "cell_type": "code",
   "execution_count": 21,
   "id": "4a1349d0",
   "metadata": {},
   "outputs": [],
   "source": [
    "def display_student_info(student):\n",
    "    \"\"\"Display comprehensive student information using getattr()\"\"\"\n",
    "    \n",
    "    # Required attributes (we know these exist)\n",
    "    name = getattr(student, 'name')\n",
    "    age = getattr(student, 'age')\n",
    "    grade = getattr(student, 'grade')\n",
    "    \n",
    "    # Optional attributes with meaningful defaults\n",
    "    major = getattr(student, 'major', 'Undeclared')\n",
    "    email = getattr(student, 'email', 'Not provided')\n",
    "    phone = getattr(student, 'phone', 'Not provided')\n",
    "    scholarship = getattr(student, 'scholarship', False)\n",
    "    gpa = getattr(student, 'gpa', 'Not calculated')\n",
    "    \n",
    "    print(f\"Student: {name}\")\n",
    "    print(f\"  Age: {age}\")\n",
    "    print(f\"  Grade: {grade}\")\n",
    "    print(f\"  Major: {major}\")\n",
    "    print(f\"  Email: {email}\")\n",
    "    print(f\"  Phone: {phone}\")\n",
    "    print(f\"  Scholarship: {'Yes' if scholarship else 'No'}\")\n",
    "    print(f\"  GPA: {gpa}\")\n",
    "    print(\"-\" * 40)"
   ]
  },
  {
   "cell_type": "code",
   "execution_count": 22,
   "id": "bdb8ce45",
   "metadata": {},
   "outputs": [
    {
     "name": "stdout",
     "output_type": "stream",
     "text": [
      "Student: Alice\n",
      "  Age: 20\n",
      "  Grade: A\n",
      "  Major: Computer Science\n",
      "  Email: alice@university.edu\n",
      "  Phone: 555-1234\n",
      "  Scholarship: No\n",
      "  GPA: Not calculated\n",
      "----------------------------------------\n",
      "Student: Bob\n",
      "  Age: 19\n",
      "  Grade: B+\n",
      "  Major: Undeclared\n",
      "  Email: Not provided\n",
      "  Phone: Not provided\n",
      "  Scholarship: No\n",
      "  GPA: Not calculated\n",
      "----------------------------------------\n",
      "Student: Carol\n",
      "  Age: 21\n",
      "  Grade: A-\n",
      "  Major: Mathematics\n",
      "  Email: Not provided\n",
      "  Phone: Not provided\n",
      "  Scholarship: Yes\n",
      "  GPA: Not calculated\n",
      "----------------------------------------\n",
      "\n",
      "==================================================\n",
      "\n"
     ]
    }
   ],
   "source": [
    "# Display all students\n",
    "for student in students:\n",
    "    display_student_info(student)\n",
    "\n",
    "print(\"\\n\" + \"=\"*50 + \"\\n\")"
   ]
  },
  {
   "cell_type": "code",
   "execution_count": 23,
   "id": "7cf97858",
   "metadata": {},
   "outputs": [
    {
     "name": "stdout",
     "output_type": "stream",
     "text": [
      "=== Dynamic Attribute Access ===\n",
      "Checking Alice's attributes dynamically:\n",
      "Name: Alice\n",
      "Age: 20\n",
      "Major: Computer Science\n",
      "Email: alice@university.edu\n",
      "Gpa: 'gpa' not found\n",
      "Hometown: 'hometown' not found\n",
      "\n",
      "==================================================\n",
      "\n"
     ]
    }
   ],
   "source": [
    "print(\"=== Dynamic Attribute Access ===\")\n",
    "\n",
    "def get_student_attribute(student, attribute_name):\n",
    "    \"\"\"Dynamically get any attribute from a student\"\"\"\n",
    "    return getattr(student, attribute_name, f\"'{attribute_name}' not found\")\n",
    "\n",
    "# List of attributes we want to check\n",
    "attributes_to_check = ['name', 'age', 'major', 'email', 'gpa', 'hometown']\n",
    "\n",
    "print(\"Checking Alice's attributes dynamically:\")\n",
    "alice = students[0]\n",
    "\n",
    "for attr in attributes_to_check:\n",
    "    value = get_student_attribute(alice, attr)\n",
    "    print(f\"{attr.capitalize()}: {value}\")\n",
    "\n",
    "print(\"\\n\" + \"=\"*50 + \"\\n\")"
   ]
  },
  {
   "cell_type": "code",
   "execution_count": 24,
   "id": "3807e031",
   "metadata": {},
   "outputs": [
    {
     "name": "stdout",
     "output_type": "stream",
     "text": [
      "=== Practical Example: Configuration System ===\n",
      "Configuration Settings:\n",
      "Debug Mode: True\n",
      "Database URL: localhost:5432\n",
      "Max Connections: 100\n",
      "API Key: API key not configured\n",
      "Timeout: 30\n",
      "\n",
      "==================================================\n",
      "\n"
     ]
    }
   ],
   "source": [
    "# ============================================================================\n",
    "# 7. PRACTICAL EXAMPLE - Configuration System\n",
    "# ============================================================================\n",
    "\n",
    "print(\"=== Practical Example: Configuration System ===\")\n",
    "\n",
    "class AppConfig:\n",
    "    def __init__(self):\n",
    "        self.debug = True\n",
    "        self.database_url = \"localhost:5432\"\n",
    "        self.max_connections = 100\n",
    "\n",
    "config = AppConfig()\n",
    "\n",
    "def get_config_value(setting_name, default=None):\n",
    "    \"\"\"Get configuration value with fallback\"\"\"\n",
    "    return getattr(config, setting_name, default)\n",
    "\n",
    "# Get configuration values safely\n",
    "debug_mode = get_config_value('debug', False)\n",
    "db_url = get_config_value('database_url', 'sqlite://memory')\n",
    "max_conn = get_config_value('max_connections', 50)\n",
    "api_key = get_config_value('api_key', 'API key not configured')\n",
    "timeout = get_config_value('timeout', 30)\n",
    "\n",
    "print(\"Configuration Settings:\")\n",
    "print(f\"Debug Mode: {debug_mode}\")\n",
    "print(f\"Database URL: {db_url}\")\n",
    "print(f\"Max Connections: {max_conn}\")\n",
    "print(f\"API Key: {api_key}\")\n",
    "print(f\"Timeout: {timeout}\")\n",
    "\n",
    "print(\"\\n\" + \"=\"*50 + \"\\n\")"
   ]
  },
  {
   "cell_type": "code",
   "execution_count": 1,
   "id": "5c546876",
   "metadata": {},
   "outputs": [],
   "source": [
    "class Student:\n",
    "    # constructor\n",
    "    def __init__(self, name, age):\n",
    "        # Instance variable\n",
    "        self.name = name\n",
    "        self.age = age\n",
    "\n",
    "# create object\n",
    "stud1 = Student(\"Jessa\", 20)\n",
    "stud2 = Student(\"Kelly\", 10)\n",
    "stud3 = Student(\"Emma\", 15)"
   ]
  },
  {
   "cell_type": "code",
   "execution_count": 1,
   "id": "09796a74",
   "metadata": {},
   "outputs": [
    {
     "name": "stdout",
     "output_type": "stream",
     "text": [
      "print(value, ..., sep=' ', end='\\n', file=sys.stdout, flush=False)\n",
      "\n",
      "Prints the values to a stream, or to sys.stdout by default.\n",
      "Optional keyword arguments:\n",
      "file:  a file-like object (stream); defaults to the current sys.stdout.\n",
      "sep:   string inserted between values, default a space.\n",
      "end:   string appended after the last value, default a newline.\n",
      "flush: whether to forcibly flush the stream.\n",
      "print(value, ..., sep=' ', end='\\n', file=sys.stdout, flush=False)\n",
      "\n",
      "Prints the values to a stream, or to sys.stdout by default.\n",
      "Optional keyword arguments:\n",
      "file:  a file-like object (stream); defaults to the current sys.stdout.\n",
      "sep:   string inserted between values, default a space.\n",
      "end:   string appended after the last value, default a newline.\n",
      "flush: whether to forcibly flush the stream.\n"
     ]
    }
   ],
   "source": [
    "print(print.__doc__)"
   ]
  },
  {
   "cell_type": "code",
   "execution_count": 1,
   "id": "1c6d490c",
   "metadata": {},
   "outputs": [],
   "source": [
    "class Student:\n",
    "    # Class variable - List\n",
    "    subjects = ['Mathematics', 'Physics', 'Chemistry', 'Biology']\n",
    "    \n",
    "    # Class variable - Tuple\n",
    "    grade_levels = ('Grade 9', 'Grade 10', 'Grade 11', 'Grade 12')\n",
    "    \n",
    "    # Class variable - Dictionary\n",
    "    fee_structure = {\n",
    "        'Grade 9': 5000,\n",
    "        'Grade 10': 5500,\n",
    "        'Grade 11': 6000,\n",
    "        'Grade 12': 6500\n",
    "    }\n",
    "    \n",
    "     # Constructor: defines instance attributes\n",
    "    def __init__(self, name, roll_no, grade):\n",
    "        # Instance attributes:(unique per state)\n",
    "        self.name = name\n",
    "        self.roll_no = roll_no\n",
    "        self.grade = grade\n",
    "\n",
    "# Create objects\n",
    "s1 = Student('Teslim Adeyanju', 25610789, 'Grade 10')\n",
    "s2 = Student('Kate Itamah', 25696335, 'Grade 11')\n",
    "s3 = Student('Iyabo Adeyanju', 10010789, 'Grade 9')"
   ]
  },
  {
   "cell_type": "code",
   "execution_count": 19,
   "id": "5270c270",
   "metadata": {},
   "outputs": [
    {
     "name": "stdout",
     "output_type": "stream",
     "text": [
      "Available subjects: ['Mathematics', 'Physics', 'Chemistry', 'Biology', 'Computer Science']\n",
      "Available subjects: ['Chemistry']\n",
      "Available subjects: Computer Science\n",
      "Available subjects: ['Physics', 'Chemistry', 'Biology', 'Computer Science']\n",
      "Grade levels: ('Grade 9', 'Grade 10', 'Grade 11', 'Grade 12')\n",
      "Grade levels: Grade 11\n",
      "Grade levels: Grade 9\n",
      "Fee for Grade 10: 5500\n",
      "Available subjects: ['Mathematics', 'Physics', 'Chemistry', 'Biology', 'Computer Science']\n",
      "Available subjects: ['Chemistry']\n",
      "Available subjects: Computer Science\n",
      "Available subjects: ['Physics', 'Chemistry', 'Biology', 'Computer Science']\n",
      "Grade levels: ('Grade 9', 'Grade 10', 'Grade 11', 'Grade 12')\n",
      "Grade levels: Grade 11\n",
      "Grade levels: Grade 9\n",
      "Fee for Grade 10: 5500\n"
     ]
    }
   ],
   "source": [
    "# Accessing class variables using objects\n",
    "print(\"Available subjects:\", s1.subjects)\n",
    "print(\"Available subjects:\", s1.subjects[2:3])\n",
    "print(\"Available subjects:\", s2.subjects[4])\n",
    "print(\"Available subjects:\", s3.subjects[1:])\n",
    "print(\"Grade levels:\", s1.grade_levels)\n",
    "print(\"Grade levels:\", s2.grade_levels[2])\n",
    "print(\"Grade levels:\", s3.grade_levels[0])\n",
    "print(\"Fee for Grade 10:\", s1.fee_structure['Grade 10'])"
   ]
  },
  {
   "cell_type": "code",
   "execution_count": 20,
   "id": "ebfd7d3e",
   "metadata": {},
   "outputs": [
    {
     "name": "stdout",
     "output_type": "stream",
     "text": [
      "All subjects: ['Mathematics', 'Physics', 'Chemistry', 'Biology', 'Computer Science']\n",
      "All grade levels: ('Grade 9', 'Grade 10', 'Grade 11', 'Grade 12')\n",
      "Complete fee structure: {'Grade 9': 5000, 'Grade 10': 5500, 'Grade 11': 6000, 'Grade 12': 6500}\n",
      "All subjects: ['Mathematics', 'Physics', 'Chemistry', 'Biology', 'Computer Science']\n",
      "All grade levels: ('Grade 9', 'Grade 10', 'Grade 11', 'Grade 12')\n",
      "Complete fee structure: {'Grade 9': 5000, 'Grade 10': 5500, 'Grade 11': 6000, 'Grade 12': 6500}\n"
     ]
    }
   ],
   "source": [
    "# Accessing class variables using class name\n",
    "print(\"All subjects:\", Student.subjects)\n",
    "print(\"All grade levels:\", Student.grade_levels)\n",
    "print(\"Complete fee structure:\", Student.fee_structure)"
   ]
  },
  {
   "cell_type": "code",
   "execution_count": 4,
   "id": "db4ed5df",
   "metadata": {},
   "outputs": [
    {
     "name": "stdout",
     "output_type": "stream",
     "text": [
      "Teslim Adeyanju is in Grade 10 and pays $5500\n",
      "Kate Itamah is in Grade 11 and pays $6000\n",
      "Iyabo Adeyanju is in Grade 9 and pays $5000\n",
      "Teslim Adeyanju is in Grade 10 and pays $5500\n",
      "Kate Itamah is in Grade 11 and pays $6000\n",
      "Iyabo Adeyanju is in Grade 9 and pays $5000\n"
     ]
    }
   ],
   "source": [
    "# Example of using class variables in instance methods\n",
    "print(f\"{s1.name} is in {s1.grade} and pays ${Student.fee_structure[s1.grade]}\")\n",
    "print(f\"{s2.name} is in {s2.grade} and pays ${Student.fee_structure[s2.grade]}\")\n",
    "print(f\"{s3.name} is in {s3.grade} and pays ${Student.fee_structure[s3.grade]}\")"
   ]
  },
  {
   "cell_type": "code",
   "execution_count": 5,
   "id": "a899fb59",
   "metadata": {},
   "outputs": [
    {
     "name": "stdout",
     "output_type": "stream",
     "text": [
      "Before adding new subject:\n",
      "s1 subjects: ['Mathematics', 'Physics', 'Chemistry', 'Biology']\n",
      "s2 subjects: ['Mathematics', 'Physics', 'Chemistry', 'Biology']\n",
      "Before adding new subject:\n",
      "s1 subjects: ['Mathematics', 'Physics', 'Chemistry', 'Biology']\n",
      "s2 subjects: ['Mathematics', 'Physics', 'Chemistry', 'Biology']\n"
     ]
    }
   ],
   "source": [
    "# Modifying class variables affects all instances\n",
    "print(\"Before adding new subject:\")\n",
    "print(\"s1 subjects:\", s1.subjects)\n",
    "print(\"s2 subjects:\", s2.subjects)"
   ]
  },
  {
   "cell_type": "code",
   "execution_count": 6,
   "id": "80754b37",
   "metadata": {},
   "outputs": [
    {
     "name": "stdout",
     "output_type": "stream",
     "text": [
      "\n",
      "After adding Computer Science:\n",
      "s1 subjects: ['Mathematics', 'Physics', 'Chemistry', 'Biology', 'Computer Science']\n",
      "s2 subjects: ['Mathematics', 'Physics', 'Chemistry', 'Biology', 'Computer Science']\n",
      "Class subjects: ['Mathematics', 'Physics', 'Chemistry', 'Biology', 'Computer Science']\n",
      "\n",
      "\n",
      "After adding Computer Science:\n",
      "s1 subjects: ['Mathematics', 'Physics', 'Chemistry', 'Biology', 'Computer Science']\n",
      "s2 subjects: ['Mathematics', 'Physics', 'Chemistry', 'Biology', 'Computer Science']\n",
      "Class subjects: ['Mathematics', 'Physics', 'Chemistry', 'Biology', 'Computer Science']\n"
     ]
    }
   ],
   "source": [
    "Student.subjects.append('Computer Science')\n",
    "print(\"\\nAfter adding Computer Science:\")\n",
    "print(\"s1 subjects:\", s1.subjects)\n",
    "print(\"s2 subjects:\", s2.subjects)\n",
    "print(\"Class subjects:\", Student.subjects)"
   ]
  },
  {
   "cell_type": "code",
   "execution_count": null,
   "id": "79665b29",
   "metadata": {},
   "outputs": [],
   "source": [
    "# Accessing class variables using objects\n",
    "print(\"Available subjects:\", s1.subjects)\n",
    "print(\"Grade levels:\", s2.grade_levels)\n",
    "print(\"Fee for Grade 10:\", s1.fee_structure['Grade 10'])\n",
    "\n",
    "\n",
    "\n",
    "# Accessing class variables using class name\n",
    "print(\"All subjects:\", Student.subjects)\n",
    "print(\"All grade levels:\", Student.grade_levels)\n",
    "print(\"Complete fee structure:\", Student.fee_structure)\n",
    "\n",
    "\n",
    "\n",
    "# Example of using class variables in instance methods\n",
    "print(f\"{s1.name} is in {s1.grade} and pays ${Student.fee_structure[s1.grade]}\")\n",
    "print(f\"{s2.name} is in {s2.grade} and pays ${Student.fee_structure[s2.grade]}\")\n",
    "print(f\"{s3.name} is in {s3.grade} and pays ${Student.fee_structure[s3.grade]}\")\n",
    "\n",
    "print(\"\\n\" + \"=\"*50)\n",
    "\n",
    "# Modifying class variables affects all instances\n",
    "print(\"Before adding new subject:\")\n",
    "print(\"s1 subjects:\", s1.subjects)\n",
    "print(\"s2 subjects:\", s2.subjects)\n",
    "\n",
    "Student.subjects.append('Computer Science')\n",
    "print(\"\\nAfter adding Computer Science:\")\n",
    "print(\"s1 subjects:\", s1.subjects)\n",
    "print(\"s2 subjects:\", s2.subjects)\n",
    "print(\"Class subjects:\", Student.subjects)"
   ]
  },
  {
   "cell_type": "code",
   "execution_count": 21,
   "id": "397846c2",
   "metadata": {},
   "outputs": [
    {
     "name": "stdout",
     "output_type": "stream",
     "text": [
      "Creating first product:\n",
      "Store: TechMart Store\n",
      "Tax Rate: 0.08\n",
      "Store (using class name): TechMart Store\n",
      "Tax Rate (using class name): 0.08\n",
      "------------------------------\n",
      "\n",
      "Creating second product:\n",
      "Store: TechMart Store\n",
      "Tax Rate: 0.08\n",
      "Store (using class name): TechMart Store\n",
      "Tax Rate (using class name): 0.08\n",
      "------------------------------\n",
      "Creating first product:\n",
      "Store: TechMart Store\n",
      "Tax Rate: 0.08\n",
      "Store (using class name): TechMart Store\n",
      "Tax Rate (using class name): 0.08\n",
      "------------------------------\n",
      "\n",
      "Creating second product:\n",
      "Store: TechMart Store\n",
      "Tax Rate: 0.08\n",
      "Store (using class name): TechMart Store\n",
      "Tax Rate (using class name): 0.08\n",
      "------------------------------\n"
     ]
    }
   ],
   "source": [
    "class Product:\n",
    "    # Class variables\n",
    "    store_name = 'TechMart Store'\n",
    "    tax_rate = 0.08\n",
    "    \n",
    "    # Constructor: defines instance attributes\n",
    "    def __init__(self, name, price):\n",
    "        # Instance attributes: (unique per state)\n",
    "        self.name = name\n",
    "        self.price = price\n",
    "        \n",
    "        # Access class variables inside constructor using 'self'\n",
    "        print(f\"Store: {self.store_name}\")\n",
    "        print(f\"Tax Rate: {self.tax_rate}\")\n",
    "        \n",
    "        # Access class variables inside constructor using class name\n",
    "        print(f\"Store (using class name): {Product.store_name}\")\n",
    "        print(f\"Tax Rate (using class name): {Product.tax_rate}\")\n",
    "        \n",
    "        print(\"-\" * 30)\n",
    "\n",
    "# Create objects\n",
    "print(\"Creating first product:\")\n",
    "p1 = Product('Laptop', 1000)\n",
    "\n",
    "print(\"\\nCreating second product:\")\n",
    "p2 = Product('Mouse', 25)"
   ]
  },
  {
   "cell_type": "code",
   "execution_count": 22,
   "id": "8b24d1f3",
   "metadata": {},
   "outputs": [
    {
     "name": "stdout",
     "output_type": "stream",
     "text": [
      "population detail: 120 millon\n",
      "state detail: 36 states\n",
      "President Name: Bola Ahmed Tinubu\n",
      "------------------------------\n",
      "population information: 120 millon\n",
      "Number of states: 36 states\n",
      "Current President: Bola Ahmed Tinubu\n",
      "------------------------------\n",
      "population detail: 120 millon\n",
      "state detail: 36 states\n",
      "President Name: Bola Ahmed Tinubu\n",
      "------------------------------\n",
      "population information: 120 millon\n",
      "Number of states: 36 states\n",
      "Current President: Bola Ahmed Tinubu\n",
      "------------------------------\n"
     ]
    }
   ],
   "source": [
    "class Nigeria:\n",
    "    # class variable \n",
    "    population = '120 millon'\n",
    "    state = '36 states'\n",
    "    president = 'Bola Ahmed Tinubu'\n",
    "\n",
    "     # Constructor: defines instance attributes\n",
    "    def __init__(self, tribe, langauge):\n",
    "        # Instance attributes: (unique per state)\n",
    "        self.tribe = tribe\n",
    "        self.language = langauge \n",
    "\n",
    "        # access class variables inside constrictor using self \n",
    "        print(f'population detail: {self.population}')\n",
    "        print(f\"state detail: {self.state}\")\n",
    "        print(f\"President Name: {self.president}\")\n",
    "        \n",
    "        print(\"-\" * 30)\n",
    "\n",
    "\n",
    "        # Access class variables inside constructor using class name\n",
    "        print(f\"population information: {Nigeria.population}\")\n",
    "        print(f\"Number of states: {Nigeria.state}\")\n",
    "        print(f\"Current President: {Nigeria.president}\")\n",
    "\n",
    "        print(\"-\" * 30)\n",
    "\n",
    "# create an object\n",
    "citizen1 = Nigeria('South West', 'Yoruba')"
   ]
  },
  {
   "cell_type": "code",
   "execution_count": 36,
   "id": "8bded888",
   "metadata": {},
   "outputs": [],
   "source": [
    "class Employee:\n",
    "    # Class variable\n",
    "    company_name = 'Tech Solutions'  \n",
    "\n",
    "    # Constructor: defines instance attributes\n",
    "    def __init__(self, name, position):\n",
    "        # Instance attributes: (unique per state)\n",
    "        self.name = name\n",
    "        self.position = position\n",
    "\n",
    "    # Instance method: shows details\n",
    "    def display_info(self):\n",
    "        # Access using 'self' parameter\n",
    "        print(f\"Company from self parameter: {self.company_name}\")\n",
    "\n",
    "        # Access using class name\n",
    "        print(f\"Company from class name : {Employee.company_name}\")\n",
    "\n",
    "        print(f\"Employee: {self.name}\")\n",
    "        print(f\"Position: {self.position}\")\n",
    "\n",
    "# Create object and call instance method\n",
    "emp1 = Employee('Teslim', 'Finance Data Scientist')\n",
    "emp2 = Employee('Faizah', 'Data Engineer')\n",
    "emp3 = Employee('Fahrid', 'Data and ai Engineer')\n",
    "\n",
    "\n"
   ]
  },
  {
   "cell_type": "code",
   "execution_count": 37,
   "id": "927f48ee",
   "metadata": {},
   "outputs": [
    {
     "name": "stdout",
     "output_type": "stream",
     "text": [
      "Company from self parameter: Tech Solutions\n",
      "Company from class name : Tech Solutions\n",
      "Employee: Teslim\n",
      "Position: Finance Data Scientist\n",
      "____________________\n",
      "Company from self parameter: Tech Solutions\n",
      "Company from class name : Tech Solutions\n",
      "Employee: Faizah\n",
      "Position: Data Engineer\n",
      "____________________\n",
      "Company from self parameter: Tech Solutions\n",
      "Company from class name : Tech Solutions\n",
      "Employee: Fahrid\n",
      "Position: Data and ai Engineer\n",
      "Company from self parameter: Tech Solutions\n",
      "Company from class name : Tech Solutions\n",
      "Employee: Teslim\n",
      "Position: Finance Data Scientist\n",
      "____________________\n",
      "Company from self parameter: Tech Solutions\n",
      "Company from class name : Tech Solutions\n",
      "Employee: Faizah\n",
      "Position: Data Engineer\n",
      "____________________\n",
      "Company from self parameter: Tech Solutions\n",
      "Company from class name : Tech Solutions\n",
      "Employee: Fahrid\n",
      "Position: Data and ai Engineer\n"
     ]
    }
   ],
   "source": [
    "emp1.display_info()\n",
    "print('__'*10)\n",
    "emp2.display_info()\n",
    "print('__'*10)\n",
    "emp3.display_info()"
   ]
  },
  {
   "cell_type": "code",
   "execution_count": 38,
   "id": "0bf2450a",
   "metadata": {},
   "outputs": [],
   "source": [
    "class Book:\n",
    "    # Class variables\n",
    "    library_name = 'Central Library'\n",
    "    late_fee = 2.50\n",
    "\n",
    "    # Constructor: defines instance attributes\n",
    "    def __init__(self, title, author):\n",
    "        # Instance attributes: (unique per state)\n",
    "        self.title = title\n",
    "        self.author = author\n",
    "\n",
    "     # Instance method: shows details\n",
    "    def show_book_details(self):\n",
    "        # Access class variables inside instance method using 'self'\n",
    "        print(f\"Library: {self.library_name}\")\n",
    "        print(f\"Late Fee: ${self.late_fee}\")\n",
    "        print(\"-\" * 30)\n",
    "\n",
    "        # Access class variables inside instance method using class name\n",
    "        print(f\"Library (using class name): {Book.library_name}\")\n",
    "        print(f\"Late Fee (using class name): ${Book.late_fee}\")\n",
    "\n",
    "        print(\"-\" * 30)\n",
    "        print(f\"Title: {self.title}\")\n",
    "        print(f\"Author: {self.author}\")\n",
    "\n",
    "# Create objects\n",
    "book1 = Book('Python Programming', 'John Smith')\n",
    "book2 = Book('Data Science', 'Jane Doe')\n"
   ]
  },
  {
   "cell_type": "code",
   "execution_count": 39,
   "id": "fefd41c1",
   "metadata": {},
   "outputs": [
    {
     "name": "stdout",
     "output_type": "stream",
     "text": [
      "Book 1 information as contained:\n",
      "Library: Central Library\n",
      "Late Fee: $2.5\n",
      "------------------------------\n",
      "Library (using class name): Central Library\n",
      "Late Fee (using class name): $2.5\n",
      "------------------------------\n",
      "Title: Python Programming\n",
      "Author: John Smith\n",
      "Book 1 information as contained:\n",
      "Library: Central Library\n",
      "Late Fee: $2.5\n",
      "------------------------------\n",
      "Library (using class name): Central Library\n",
      "Late Fee (using class name): $2.5\n",
      "------------------------------\n",
      "Title: Python Programming\n",
      "Author: John Smith\n"
     ]
    }
   ],
   "source": [
    "# call instance methods\n",
    "print(\"Book 1 information as contained:\")\n",
    "book1.show_book_details()"
   ]
  },
  {
   "cell_type": "code",
   "execution_count": 40,
   "id": "f694c233",
   "metadata": {},
   "outputs": [
    {
     "name": "stdout",
     "output_type": "stream",
     "text": [
      "\n",
      "Book 2 information as contained:\n",
      "Library: Central Library\n",
      "Late Fee: $2.5\n",
      "------------------------------\n",
      "Library (using class name): Central Library\n",
      "Late Fee (using class name): $2.5\n",
      "------------------------------\n",
      "Title: Data Science\n",
      "Author: Jane Doe\n",
      "\n",
      "\n",
      "Book 2 information as contained:\n",
      "Library: Central Library\n",
      "Late Fee: $2.5\n",
      "------------------------------\n",
      "Library (using class name): Central Library\n",
      "Late Fee (using class name): $2.5\n",
      "------------------------------\n",
      "Title: Data Science\n",
      "Author: Jane Doe\n"
     ]
    }
   ],
   "source": [
    "print(\"\\nBook 2 information as contained:\")\n",
    "book2.show_book_details()"
   ]
  },
  {
   "cell_type": "code",
   "execution_count": 57,
   "id": "2fa7af80",
   "metadata": {},
   "outputs": [],
   "source": [
    "class University:\n",
    "    # Class variables\n",
    "    university_name = 'University of Hertfordshire'\n",
    "    total_campuses = 5\n",
    "    motto = 'Excellence in Education'\n",
    "\n",
    "    # Constructor: defines instance attributes\n",
    "    def __init__(self, student_name, major):\n",
    "        # Instance attributes: (unique per state)\n",
    "        self.student_name = student_name\n",
    "        self.major = major\n",
    "\n",
    "    # Instance method: shows details\n",
    "    def student_info(self):\n",
    "        # Access class variables inside instance method using self\n",
    "        print(\"Access class variables inside instance method using 'self'\")\n",
    "        print(f'University: {self.university_name}')\n",
    "        print(f\"Total Campuses: {self.total_campuses}\")\n",
    "        print(f\"Motto: {self.motto}\")\n",
    "\n",
    "        print(\"-\" * 30)\n",
    "\n",
    "        # Access class variables inside instance method using class name\n",
    "        print(\"Access class variables inside instance method using 'class name'\")\n",
    "        print(f\"University Name: {University.university_name}\")\n",
    "        print(f\"Campus Count: {University.total_campuses}\")\n",
    "        print(f\"University Motto: {University.motto}\")\n",
    "\n",
    "        print(\"-\" * 30)\n",
    "        print(f\"Student: {self.student_name}\")\n",
    "        print(f\"Major: {self.major}\")\n",
    "\n",
    "    # Instance method: shows details\n",
    "    def academic_info(self):\n",
    "        # Another instance method accessing class variables\n",
    "        print(f\"Welcome to {self.university_name}!\")\n",
    "        print(f\"We have {University.total_campuses} campuses nationwide\")\n",
    "\n",
    "# Create objects \n",
    "student1 = University('Teslim Adeyanju', 'Finance and Investment Banking')"
   ]
  },
  {
   "cell_type": "code",
   "execution_count": 58,
   "id": "a9043a77",
   "metadata": {},
   "outputs": [
    {
     "name": "stdout",
     "output_type": "stream",
     "text": [
      "Access class variables inside instance method using 'self'\n",
      "University: University of Hertfordshire\n",
      "Total Campuses: 5\n",
      "Motto: Excellence in Education\n",
      "------------------------------\n",
      "Access class variables inside instance method using 'class name'\n",
      "University Name: University of Hertfordshire\n",
      "Campus Count: 5\n",
      "University Motto: Excellence in Education\n",
      "------------------------------\n",
      "Student: Teslim Adeyanju\n",
      "Major: Finance and Investment Banking\n",
      "Access class variables inside instance method using 'self'\n",
      "University: University of Hertfordshire\n",
      "Total Campuses: 5\n",
      "Motto: Excellence in Education\n",
      "------------------------------\n",
      "Access class variables inside instance method using 'class name'\n",
      "University Name: University of Hertfordshire\n",
      "Campus Count: 5\n",
      "University Motto: Excellence in Education\n",
      "------------------------------\n",
      "Student: Teslim Adeyanju\n",
      "Major: Finance and Investment Banking\n"
     ]
    }
   ],
   "source": [
    "student1.student_info()"
   ]
  },
  {
   "cell_type": "code",
   "execution_count": 59,
   "id": "95ddaa4a",
   "metadata": {},
   "outputs": [
    {
     "name": "stdout",
     "output_type": "stream",
     "text": [
      "Welcome to University of Hertfordshire!\n",
      "We have 5 campuses nationwide\n",
      "Welcome to University of Hertfordshire!\n",
      "We have 5 campuses nationwide\n"
     ]
    }
   ],
   "source": [
    "# call different instance methods\n",
    "student1.academic_info()"
   ]
  },
  {
   "cell_type": "code",
   "execution_count": 60,
   "id": "3e100de5",
   "metadata": {},
   "outputs": [
    {
     "name": "stdout",
     "output_type": "stream",
     "text": [
      "Access class variables inside instance method using 'self'\n",
      "University: University of Hertfordshire\n",
      "Total Campuses: 5\n",
      "Motto: Excellence in Education\n",
      "------------------------------\n",
      "Access class variables inside instance method using 'class name'\n",
      "University Name: University of Hertfordshire\n",
      "Campus Count: 5\n",
      "University Motto: Excellence in Education\n",
      "------------------------------\n",
      "Student: Bob Wilson\n",
      "Major: Business Administration\n",
      "Access class variables inside instance method using 'self'\n",
      "University: University of Hertfordshire\n",
      "Total Campuses: 5\n",
      "Motto: Excellence in Education\n",
      "------------------------------\n",
      "Access class variables inside instance method using 'class name'\n",
      "University Name: University of Hertfordshire\n",
      "Campus Count: 5\n",
      "University Motto: Excellence in Education\n",
      "------------------------------\n",
      "Student: Bob Wilson\n",
      "Major: Business Administration\n"
     ]
    }
   ],
   "source": [
    "# Create objects \n",
    "student2 = University('Bob Wilson', 'Business Administration')\n",
    "\n",
    "# call instance methods\n",
    "student2.student_info()\n"
   ]
  },
  {
   "cell_type": "code",
   "execution_count": 20,
   "id": "ff2e19d0",
   "metadata": {},
   "outputs": [],
   "source": [
    "class Student:\n",
    "    # Class variable\n",
    "    school_name = 'Lagos State University, Nigeria'\n",
    "\n",
    "    # constructor\n",
    "    def __init__(self, name, roll_no):\n",
    "        self.name = name\n",
    "        self.roll_no = roll_no\n",
    "\n",
    "    # Instance method\n",
    "    def show(self):\n",
    "        print(self.name, self.roll_no, Student.school_name)\n",
    "\n",
    "# create Object\n",
    "s1 = Student('Teslim Adeyanju', 1010001)\n"
   ]
  },
  {
   "cell_type": "code",
   "execution_count": 21,
   "id": "3ee88b89",
   "metadata": {},
   "outputs": [
    {
     "name": "stdout",
     "output_type": "stream",
     "text": [
      "Before\n",
      "------------------------------------------------------------\n",
      "Teslim Adeyanju 1010001 Lagos State University, Nigeria\n",
      "Before\n",
      "------------------------------------------------------------\n",
      "Teslim Adeyanju 1010001 Lagos State University, Nigeria\n"
     ]
    }
   ],
   "source": [
    "print('Before')\n",
    "print('--'*30)\n",
    "s1.show()\n",
    "\n"
   ]
  },
  {
   "cell_type": "code",
   "execution_count": 22,
   "id": "69c6a8ce",
   "metadata": {},
   "outputs": [],
   "source": [
    "# Modify class variable\n",
    "Student.school_name = 'Univeristy of Hertfordshire'\n"
   ]
  },
  {
   "cell_type": "code",
   "execution_count": 23,
   "id": "2cca97ea",
   "metadata": {},
   "outputs": [
    {
     "name": "stdout",
     "output_type": "stream",
     "text": [
      "After\n",
      "------------------------------------------------------------\n",
      "Teslim Adeyanju 1010001 Univeristy of Hertfordshire\n",
      "After\n",
      "------------------------------------------------------------\n",
      "Teslim Adeyanju 1010001 Univeristy of Hertfordshire\n"
     ]
    }
   ],
   "source": [
    "print('After')\n",
    "print('--'*30)\n",
    "s1.show()"
   ]
  },
  {
   "cell_type": "code",
   "execution_count": 26,
   "id": "030c0fc7",
   "metadata": {},
   "outputs": [
    {
     "name": "stdout",
     "output_type": "stream",
     "text": [
      "Before\n",
      "Faizah 10 Alzah Arabic School \n",
      "Fahrid 20 Alzah Arabic School \n",
      "____________________________________________________________\n",
      "After\n",
      "Faizah 10 Wintom Commnunity School\n",
      "Fahrid 20 Alzah Arabic School \n",
      "Before\n",
      "Faizah 10 Alzah Arabic School \n",
      "Fahrid 20 Alzah Arabic School \n",
      "____________________________________________________________\n",
      "After\n",
      "Faizah 10 Wintom Commnunity School\n",
      "Fahrid 20 Alzah Arabic School \n"
     ]
    }
   ],
   "source": [
    "class Student:\n",
    "    # Class variable\n",
    "    school_name = 'Alzah Arabic School '\n",
    "\n",
    "    # constructor\n",
    "    def __init__(self, name, roll_no):\n",
    "        self.name = name\n",
    "        self.roll_no = roll_no\n",
    "\n",
    "# create Objects\n",
    "s1 = Student('Faizah', 10)\n",
    "s2 = Student('Fahrid', 20)\n",
    "\n",
    "# printing before \n",
    "print('Before')\n",
    "print(s1.name, s1.roll_no, s1.school_name)\n",
    "print(s2.name, s2.roll_no, s2.school_name)\n",
    "print('__'*30)\n",
    "\n",
    "\n",
    "# Modify class variable using object reference\n",
    "s1.school_name = 'Wintom Commnunity School'\n",
    "\n",
    "# printing after\n",
    "print('After')\n",
    "print(s1.name, s1.roll_no, s1.school_name)\n",
    "print(s2.name, s2.roll_no, s2.school_name)"
   ]
  }
 ],
 "metadata": {
  "kernelspec": {
   "display_name": "machine-learning-env",
   "language": "python",
   "name": "python3"
  },
  "language_info": {
   "codemirror_mode": {
    "name": "ipython",
    "version": 3
   },
   "file_extension": ".py",
   "mimetype": "text/x-python",
   "name": "python",
   "nbconvert_exporter": "python",
   "pygments_lexer": "ipython3",
   "version": "3.10.13"
  }
 },
 "nbformat": 4,
 "nbformat_minor": 5
}
