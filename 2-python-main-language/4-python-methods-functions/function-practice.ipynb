{
 "cells": [
  {
   "cell_type": "code",
   "execution_count": 1,
   "id": "7cbf3b7c",
   "metadata": {},
   "outputs": [],
   "source": [
    "name = 'Teslim'\n",
    "\n",
    "def greet():\n",
    "    print(f'Hello, {name}!')\n",
    "\n",
    "\n",
    "def farewell():\n",
    "    print(f'Goodbye, {name}!')"
   ]
  },
  {
   "cell_type": "code",
   "execution_count": 2,
   "id": "d7669f43",
   "metadata": {},
   "outputs": [
    {
     "name": "stdout",
     "output_type": "stream",
     "text": [
      "Hello, Teslim!\n",
      "Goodbye, Teslim!\n"
     ]
    }
   ],
   "source": [
    "greet()\n",
    "farewell()"
   ]
  },
  {
   "cell_type": "code",
   "execution_count": 4,
   "id": "5e16dae1",
   "metadata": {},
   "outputs": [
    {
     "name": "stdout",
     "output_type": "stream",
     "text": [
      "Value in 1st function: 100\n",
      "Value in 2nd function: 555\n",
      "Value in 3rd function: 555\n"
     ]
    }
   ],
   "source": [
    "\n",
    "# Global variable\n",
    "x = 100\n",
    "\n",
    "def function1():\n",
    "    print(\"Value in 1st function:\", x)\n",
    "\n",
    "def function2():\n",
    "    global x  # Tells Python to use the global variable x\n",
    "    x = 555\n",
    "    print(\"Value in 2nd function:\", x)\n",
    "\n",
    "def function3():\n",
    "    print(\"Value in 3rd function:\", x)\n",
    "\n",
    "function1()\n",
    "function2()\n",
    "function3()"
   ]
  }
 ],
 "metadata": {
  "kernelspec": {
   "display_name": "machine-learning-env",
   "language": "python",
   "name": "python3"
  },
  "language_info": {
   "codemirror_mode": {
    "name": "ipython",
    "version": 3
   },
   "file_extension": ".py",
   "mimetype": "text/x-python",
   "name": "python",
   "nbconvert_exporter": "python",
   "pygments_lexer": "ipython3",
   "version": "3.10.13"
  }
 },
 "nbformat": 4,
 "nbformat_minor": 5
}
