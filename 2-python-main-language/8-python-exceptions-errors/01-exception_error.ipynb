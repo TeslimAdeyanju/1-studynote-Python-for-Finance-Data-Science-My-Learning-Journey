{
 "cells": [
  {
   "cell_type": "markdown",
   "metadata": {},
   "source": [
    "# EXCEPTIONS AND ERROR HANDLING"
   ]
  },
  {
   "cell_type": "markdown",
   "metadata": {},
   "source": [
    "#### 1.0 Introduction\n",
    "___"
   ]
  },
  {
   "cell_type": "markdown",
   "metadata": {},
   "source": [
    "The exception and error handling is a very important concept in programming. It is a way to handle the runtime errors so that the program does not crash. In Python, exceptions are raised when the program encounters an error during its execution. The error can be due to various reasons like invalid input, file not found, etc.\n",
    "\n",
    "The focus of this notebook is to understand the exceptions and error handling in Python. We will learn about the different types of exceptions, how to handle them, and how to raise them."
   ]
  },
  {
   "cell_type": "markdown",
   "metadata": {},
   "source": [
    "#### 2.0 What is an Exception?\n",
    "___"
   ]
  },
  {
   "cell_type": "markdown",
   "metadata": {},
   "source": [
    "Exception is an event that disrupts the normal flow of the program. When an exception occurs, the program stops executing and Python raises an exception. If the exception is not handled properly, the program will crash.\n",
    "\n",
    "An exception is a Python object that represents an error..In Python, an exception is an object derives from the BaseException class that contains information about an error event that occurred within a method. Exception object contains:\n",
    "\n",
    "* Error type (exception name)\n",
    "* The state of the program when the error occurred\n",
    "* An error message describes the error event.\n",
    "\n",
    "Exception are useful to indicate different types of possible failure condition.\n",
    "\n",
    "For example, bellow are the few standard exceptions\n",
    "\n",
    "1. FileNotFoundException\n",
    "1. ImportError\n",
    "1. RuntimeError\n",
    "1. NameError\n",
    "1. TypeError\n",
    "\n",
    "> In Python, we can throw an exception in the try block and catch it in except block.\n",
    "\n",
    "Why use Exception\n",
    "\n",
    "1. Standardized error handling: Using built-in exceptions or creating a custom exception with a more precise name and description, you can adequately define the error event, which helps you debug the error event.\n",
    "\n",
    "1. Cleaner code: Exceptions separate the error-handling code from regular code, which helps us to maintain large code easily.\n",
    "\n",
    "1. Robust application: With the help of exceptions, we can develop a solid application, which can handle error event efficiently\n",
    "\n",
    "1. Exceptions propagation: By default, the exception propagates the call stack if you don’t catch it. For example, if any error event occurred in a nested function, you do not have to explicitly catch-and-forward it; automatically, it gets forwarded to the calling function where you can handle it.\n",
    "\n",
    "1. Different error types: Either you can use built-in exception or create your custom exception and group them by their generalized parent class, or Differentiate errors by their actual class"
   ]
  },
  {
   "cell_type": "markdown",
   "metadata": {},
   "source": [
    "#### 3.0 What are Errors?\n",
    "___"
   ]
  },
  {
   "cell_type": "markdown",
   "metadata": {},
   "source": [
    "Errors are problems in a program that typically occur because of mistakes in the code. They can prevent the program from running at all.Usuallly, errors are caused by syntax errors, type errors, or runtime errors.\n",
    "\n",
    "The errors can be broadly classified into two types:\n",
    "\n",
    "1. Syntax errors\n",
    "1. Logical errors\n",
    "\n",
    "\n",
    "\n",
    "**1.0 Syntax errors** \n",
    "\n",
    "The syntax error occurs when we are not following the proper structure or syntax of the language. A syntax error is also known as a parsing error. \n",
    "\n",
    "A parsing error in Python generally refers to a SyntaxError that occurs when the Python interpreter is unable to understand the source code. This happens when the code doesn't follow the correct syntax rules of the Python language.\n",
    "\n",
    "When Python parses the program and finds an incorrect statement it is known as a syntax error. When the parser found a syntax error it exits with an error message without running anything.\n",
    "\n",
    "Common Python Syntax errors:\n",
    "\n",
    "1. Missing colon\n",
    "```python\n",
    "if x > 10\n",
    "    print(\"x is greater than 10\")\n",
    "```\n",
    "Error: Missing colon (:) after if statement.\n",
    "\n",
    "2. Unmatched parentheses:\n",
    "```python\n",
    "print(\"Hello World\"\n",
    "```\n",
    "Error: Missing closing parentheses.\n",
    "\n",
    "3. Missing indentation:\n",
    "```python\n",
    "if x > 10:\n",
    "print(\"x is greater than 10\")\n",
    "```\n",
    "Error: Missing indentation.\n",
    "\n",
    "4. Missing quotes:\n",
    "```python\n",
    "print(Hello World)\n",
    "```\n",
    "Error: Missing quotes.\n",
    "\n",
    "\n",
    "**2.0 Logical errors**\n",
    "\n",
    "Logical errors occur when the program runs without any error but it does not produce the expected output. Logical errors are also known as bugs. Logical errors are the most difficult to find and fix because they are not detected by the compiler or interpreter.\n",
    "\n",
    "Common Python Logical errors:\n",
    "\n",
    "1. Incorrect output:\n",
    "```python\n",
    "def add(x, y):\n",
    "    return x - y\n",
    "\n",
    "result = add(10, 5)\n",
    "print(result)\n",
    "```\n",
    "\n",
    "Error: The function should return the sum of x and y, but it returns the difference.\n",
    "\n",
    "2. Infinite loop:\n",
    "```python\n",
    "x = 1\n",
    "while x > 0:\n",
    "    print(x)\n",
    "```\n",
    "Error: The loop will run infinitely because the condition is always true.\n",
    "\n",
    "\n",
    "**Handling Parsing Errors**  \n",
    "Parsing errors must be fixed in the source code because they prevent the program from being interpreted or compiled. The Python interpreter typically points out the location of the error and provides a message indicating what went wrong, which helps in diagnosing and fixing the issue.\n",
    "\n",
    "Key Points  \n",
    "1. Parsing errors in Python are called SyntaxError.\n",
    "1. They occur when the code does not conform to Python's syntax rules.\n",
    "1. Common causes include missing colons, unmatched parentheses, incorrect indentation, misplaced keywords, and improper string quotes.\n",
    "1. The Python interpreter provides error messages to help locate and fix these errors.\n",
    "Understanding and correcting parsing errors is crucial for writing syntactically correct Python code.\n",
    "\n",
    "**Handling Logical Errors**  \n",
    "Logical errors are more challenging to identify and fix because they do not cause the program to crash or produce error messages. Instead, they result in incorrect output or behavior that may not be immediately apparent.\n",
    "\n",
    "Key Points  \n",
    "1. Logical errors occur when the program runs without crashing but produces incorrect results.\n",
    "1. They are caused by mistakes in the program's logic or algorithm.\n",
    "1. Common examples include incorrect calculations, wrong conditional statements, and infinite loops.\n",
    "1. Debugging logical errors requires careful analysis of the code and its expected behavior.\n",
    "1. Techniques such as print statements, debugging tools, and code reviews can help identify and correct logical errors.\n",
    "\n"
   ]
  },
  {
   "cell_type": "markdown",
   "metadata": {},
   "source": [
    "#### 4.0 Built-in Exceptions\n",
    "___"
   ]
  },
  {
   "cell_type": "markdown",
   "metadata": {},
   "source": [
    "Built-in exceptions are the exceptions that are already defined in Python. Python has a set of built-in exceptions that are raised when an error occurs during the execution of the program. These exceptions are defined in the Python standard library and are used to handle common error conditions.\n",
    "\n",
    "The below table shows different built-in exceptionsn in Python:\n",
    "\n",
    "it is classify into three categories:\n",
    "\n",
    "1. Base Exceptions: These exceptions are the base class for all built-in exceptions. They are defined in the `BaseException` class.\n",
    "\n",
    "1. System-exit Exceptions: These exceptions are raised when the program exits. They are defined in the `SystemExit` class.\n",
    "\n",
    "1. Warning Exceptions: These exceptions are raised when a warning occurs. They are defined in the `Warning` class.\n",
    "\n",
    "1. standard error exceptions: These exceptions are raised when an error occurs during the execution of the program. They are defined in the `StandardError` class."
   ]
  },
  {
   "cell_type": "markdown",
   "metadata": {},
   "source": [
    "![alt text](../../../Teslim_pytho/exception_list.png)"
   ]
  },
  {
   "cell_type": "markdown",
   "metadata": {},
   "source": []
  },
  {
   "cell_type": "markdown",
   "metadata": {},
   "source": [
    "#### 5.0 Exception Handling\n",
    "___"
   ]
  },
  {
   "cell_type": "markdown",
   "metadata": {},
   "source": [
    "When an exception occurs, Python stops the program execution and generates an exception message. It is highly recommended to handle exceptions. Exception handling is a way to deal with exceptions so that the program does not crash.\n",
    "\n",
    "To handle exceptions we need to use `try` and `except` block. Define risky code that can raise an exception inside the `try` block and corresponding handling code inside the `except` block.\n",
    "\n",
    "The syntax of the try-except block is as follows:\n",
    "\n",
    "```python\n",
    "try:\n",
    "    # Code that might cause an exception\n",
    "    risky_code()\n",
    "except SomeException:\n",
    "    # Code that runs if the exception occurs\n",
    "    handle_exception()\n",
    "```"
   ]
  },
  {
   "cell_type": "markdown",
   "metadata": {},
   "source": [
    "![alt text](<../../../Teslim_python_cheat/try-except block.png>)"
   ]
  },
  {
   "cell_type": "markdown",
   "metadata": {},
   "source": [
    "The try block is for risky code that can raise an exception and the except block to handle error raised in a try block. For example, if we divide any number by zero, try block will throw ZeroDivisionError, so we should handle that exception in the except block.\n",
    "\n",
    "When we do not use try…except block in the program, the program terminates abnormally, or it will be nongraceful termination of the program.\n",
    "\n",
    "We can use the knowledge of the exception to handle the error event efficiently. We can use the exception object to get the error message, error type, and the state of the program when the error occurred, thus helping us to debug the error event. We can also use the exception object to log the error event in a log file or database.\n",
    "\n",
    "1. We can specifically catch the exception by specifying the exception name in the except block. If we do not specify the exception name, it will catch all exceptions.\n",
    "\n",
    "1. We can catch multiple exceptions by specifying multiple exception names in the except block.\n",
    "\n"
   ]
  },
  {
   "cell_type": "markdown",
   "metadata": {},
   "source": [
    "##### (a) Catching Specific Exceptions\n",
    "___\n",
    "\n",
    "We can catch specific exceptions by specifying the exception name in the except block. If we do not specify the exception name, it will catch all exceptions.Catch all the exceptions and handle every exception is not good programming practice.\n",
    "\n",
    "it is good practice to specify an exact exception that the except clause should catch. For example, to catch an exception that occurs when the user enters a non-numerical value instead of a number, we can catch only the built-in ValueError exception that will handle such an event properly.\n",
    "    \n",
    "```python\n",
    "try:\n",
    "x = int(input(\"Enter a number: \"))\n",
    "except ValueError:\n",
    "        print(\"Invalid input. Please enter a number.\")\n",
    "```\n",
    "\n",
    "As shown above, the except block catches only the ValueError exception, which occurs when the user enters a non-numeric value. If any other exception occurs, it will not be caught by the except block, and the program will terminate abnormally.\n",
    "\n",
    "A `try` block can be followed by multiple numbers of except blocks to handle the different exceptions. But only one exception will be executed when an exception occurs.\n",
    "\n",
    "1. Example\n",
    "\n",
    "* In this example, we will ask the user for the denominator value. If the user enters a number, the program will evaluate and produce the result. \n",
    "\n",
    "* If the user enters a non-numeric value then, the `try` block will throw a `ValueError` exception, and we can catch that using a first catch block ‘except ValueError’ by printing the message ‘Entered value is wrong’. \n",
    "\n",
    "* And suppose the user enters the denominator as zero. In that case, the try block will throw a ZeroDivisionError, and we can catch that using a second catch block by printing the message ‘Can’t divide by zero’."
   ]
  },
  {
   "cell_type": "code",
   "execution_count": 1,
   "metadata": {},
   "outputs": [
    {
     "name": "stdout",
     "output_type": "stream",
     "text": [
      "Entered value is wrong\n"
     ]
    }
   ],
   "source": [
    "try:\n",
    "    a = int(input(\"Enter value of a:\"))\n",
    "    b = int(input(\"Enter value of b:\"))\n",
    "    c = a/b\n",
    "    print(\"The answer of a divide by b:\", c)\n",
    "\n",
    "except ValueError:\n",
    "    print(\"Entered value is wrong\")\n",
    "    \n",
    "except ZeroDivisionError:\n",
    "    print(\"Can't divide by zero\")"
   ]
  },
  {
   "cell_type": "markdown",
   "metadata": {},
   "source": [
    "##### (b) Handle multiple exceptions with a single except clause\n",
    "___\n",
    "\n",
    "We can catch multiple exceptions by specifying multiple exception names in the except block. We can use a tuple to catch multiple exceptions in a single except block.\n",
    "\n",
    "```python\n",
    "try:\n",
    "    risky_code()\n",
    "except (ValueError, ZeroDivisionError, TypeError, NameError):\n",
    "    handle_exception()\n",
    "```\n",
    "This code will catch any of the exceptions specified in the tuple. If any of the exceptions occur, the handle_exception() function will be called."
   ]
  },
  {
   "cell_type": "code",
   "execution_count": 1,
   "metadata": {},
   "outputs": [],
   "source": [
    "try:\n",
    "    a = int(input(\"Enter value of a:\"))\n",
    "    b = int(input(\"Enter value of b:\"))\n",
    "    c = a / b\n",
    "    print(\"The answer of a divide by b:\", c)\n",
    "    \n",
    "except(ValueError, ZeroDivisionError):\n",
    "    print(\"Please enter a valid value\")"
   ]
  },
  {
   "cell_type": "markdown",
   "metadata": {},
   "source": [
    "##### 5.1 Using `try` with `finally` to handle exceptions\n",
    "___"
   ]
  },
  {
   "cell_type": "markdown",
   "metadata": {},
   "source": [
    "The `finally` block in Python is an integral part of the exception handling mechanism, which ensures that a specific block of code will be executed no matter what happens in the preceding `try` or `except` blocks. This is particularly useful for cleaning up resources such as closing files or releasing network connections, ensuring that these operations occur regardless of whether an exception was raised.\n",
    "\n",
    "How finally Works \n",
    "  \n",
    "* Try Block: This block contains code that might throw an exception.\n",
    "\n",
    "* Except Block: This block contains code that handles exceptions thrown by the try block.\n",
    "\n",
    "* Finally Block: This block contains code that will always execute after the try block, whether an exception was raised or not.\n",
    "\n",
    "\n",
    "> Summarly: The finally block is used to write a block of code that must execute, whether the try block raises an error or not.\n",
    "\n"
   ]
  },
  {
   "cell_type": "markdown",
   "metadata": {},
   "source": [
    "![alt text](../../../Teslim_python_cheat/try-except-finally.png)"
   ]
  },
  {
   "cell_type": "markdown",
   "metadata": {},
   "source": [
    "**Clean-up actions using finally**\n",
    "\n",
    "Sometimes we want to execute some action at any cost, even if an error occurred in a program. In Python, we can perform such actions using a finally statement with a try and except statement.\n",
    "\n",
    "The block of code written in the finally block will always execute even there is an exception in the try and except block.\n",
    "\n",
    "If an exception is not handled by except clause, then finally block executes first, then the exception is thrown. This process is known as clean-up action. The syntax of the finally block is as follows:\n",
    "\n",
    "```python\n",
    "try:\n",
    "    # Code that might cause an exception\n",
    "    risky_code()\n",
    "except SomeException:\n",
    "    # Code that runs if the exception occurs\n",
    "    handle_exception()\n",
    "finally:\n",
    "    # Code that always runs\n",
    "    cleanup()\n",
    "```"
   ]
  },
  {
   "cell_type": "code",
   "execution_count": 1,
   "metadata": {},
   "outputs": [
    {
     "name": "stdout",
     "output_type": "stream",
     "text": [
      "Can't divide with zero\n",
      "Inside a finally block\n"
     ]
    }
   ],
   "source": [
    "# Using the try, except and finally block\n",
    "try:\n",
    "    a = int(input(\"Enter value of a:\"))\n",
    "    b = int(input(\"Enter value of b:\"))\n",
    "    c = a / b\n",
    "    print(\"The answer of a divide by b:\", c)\n",
    "\n",
    "except ZeroDivisionError:\n",
    "    print(\"Can't divide with zero\")\n",
    "finally:\n",
    "    print(\"Inside a finally block\")"
   ]
  },
  {
   "cell_type": "markdown",
   "metadata": {},
   "source": [
    "In the above example, we can see we divide a number by 0 and get an error, and the program terminates normally. In this case, the finally block was also executed.\n",
    "\n"
   ]
  },
  {
   "cell_type": "code",
   "execution_count": 2,
   "metadata": {},
   "outputs": [
    {
     "name": "stdout",
     "output_type": "stream",
     "text": [
      "Database error: no such table: some_table\n",
      "Closing database connection.\n"
     ]
    }
   ],
   "source": [
    "import sqlite3\n",
    "\n",
    "def read_from_database():\n",
    "    conn = sqlite3.connect('example.db')\n",
    "    try:\n",
    "        cursor = conn.cursor()\n",
    "        cursor.execute(\"SELECT * FROM some_table\")\n",
    "        results = cursor.fetchall()\n",
    "        for row in results:\n",
    "            print(row)\n",
    "    except sqlite3.DatabaseError as e:\n",
    "        print(f\"Database error: {e}\")\n",
    "    finally:\n",
    "        print(\"Closing database connection.\")\n",
    "        conn.close()\n",
    "\n",
    "read_from_database()\n"
   ]
  },
  {
   "cell_type": "markdown",
   "metadata": {},
   "source": [
    "Why Use finally  \n",
    "\n",
    "* Resource Management: Ensures resources like files, network connections, and database connections are properly released.\n",
    "\n",
    "* Guaranteed Execution: Ensures that clean-up code runs even if an unexpected error occurs.\n",
    "\n",
    "* Reliability: Improves the reliability and maintainability of code by clearly defining cleanup actions.\n",
    "\n",
    "Key Points\n",
    "\n",
    "* The finally block will execute no matter what, even if the try block or except block contains a return statement.\n",
    "\n",
    "* If the program exits via a sys.exit() call or a similar termination function, the finally block will still be executed.\n",
    "\n",
    "By using the finally block, you can write more robust and error-resistant code that properly manages resources and ensures necessary cleanup actions are always performed."
   ]
  },
  {
   "cell_type": "markdown",
   "metadata": {},
   "source": [
    "##### 5.2 Using `try` with `else` to handle exceptions\n",
    "___"
   ]
  },
  {
   "cell_type": "markdown",
   "metadata": {},
   "source": [
    "The else block in a try-except construct in Python provides a way to execute a block of code only if no exceptions are raised in the try block. This can be particularly useful when you have certain code that should run only when the try block is successful and does not raise any exceptions.\n",
    "\n",
    "How else Works  \n",
    "* `Try Block`: This block contains the code that might raise an exception.\n",
    "\n",
    "* `Except Block`: This block contains the code that handles exceptions raised by the try block.\n",
    "\n",
    "* `Else Block`: This block contains the code that should run only if the try block did not raise any exceptions.\n",
    "\n",
    "* `Finally Block`: (Optional) This block contains the code that will always execute after the try, except, and else blocks."
   ]
  },
  {
   "cell_type": "markdown",
   "metadata": {},
   "source": [
    "![alt text](../../../Teslim_python_cheat/try-else.png)\n",
    "\n",
    "\n",
    "> Summarly: The else block is used to write a block of code that must execute only if the try block does not raise an exception.\n",
    "\n",
    "The syntax of the else block is as follows:\n",
    "\n",
    "```python\n",
    "try:\n",
    "    # Code that might cause an exception\n",
    "    risky_code()\n",
    "except SomeException:\n",
    "    # Code that runs if the exception occurs\n",
    "    handle_exception()\n",
    "else:\n",
    "    # Code that runs if no exception occurs\n",
    "    no_exception()\n",
    "```"
   ]
  },
  {
   "cell_type": "code",
   "execution_count": 4,
   "metadata": {},
   "outputs": [
    {
     "name": "stdout",
     "output_type": "stream",
     "text": [
      "Can't divide by zero\n"
     ]
    }
   ],
   "source": [
    "# Using the try, except, else and finally block\n",
    "try:\n",
    "    a = int(input(\"Enter value of a:\"))\n",
    "    b = int(input(\"Enter value of b:\"))\n",
    "    c = a / b\n",
    "    print(\"a/b = %d\" % c)\n",
    "\n",
    "except ZeroDivisionError:\n",
    "    print(\"Can't divide by zero\")\n",
    "else:\n",
    "    print(\"We are in else block \")"
   ]
  },
  {
   "cell_type": "code",
   "execution_count": 5,
   "metadata": {},
   "outputs": [
    {
     "name": "stdout",
     "output_type": "stream",
     "text": [
      "Trying to open and read the file...\n",
      "File not found!\n",
      "File was never opened.\n"
     ]
    }
   ],
   "source": [
    "# Using the try, except, else and finally block\n",
    "\n",
    "try:\n",
    "    print(\"Trying to open and read the file...\")\n",
    "    file = open('example.txt', 'r')\n",
    "    content = file.read()\n",
    "except FileNotFoundError:\n",
    "    print(\"File not found!\")\n",
    "except IOError:\n",
    "    print(\"An error occurred while reading the file.\")\n",
    "else:\n",
    "    print(\"File read successfully.\")\n",
    "    lines = content.splitlines()\n",
    "    print(f\"The file contains {len(lines)} lines.\")\n",
    "finally:\n",
    "    try:\n",
    "        file.close()\n",
    "    except NameError:\n",
    "        print(\"File was never opened.\")\n",
    "    except IOError:\n",
    "        print(\"An error occurred while closing the file.\")\n"
   ]
  },
  {
   "cell_type": "markdown",
   "metadata": {},
   "source": [
    "This Python code is designed to open a file, read its content, and handle any potential errors that might occur during these operations.\n",
    "\n",
    "The `try` block is where the code attempts to execute instructions that might raise exceptions. Here, it tries to open a file named 'example.txt' in read mode (`'r'`). If the file is successfully opened, it reads the content of the file into the [`content`](command:_github.copilot.openSymbolFromReferences?%5B%7B%22%24mid%22%3A1%2C%22fsPath%22%3A%22%2FUsers%2Fteslim%2FLibrary%2FCloudStorage%2FOneDrive-TeslimUthmanAdeyanju%2FTeSlim_Data_Scientist%2F03_Python%2FTeslim_python_study_note%2FTeslim_python_bootcamp%2F08_python_exceptions_errors%2F01-exception_error.ipynb%22%2C%22path%22%3A%22%2FUsers%2Fteslim%2FLibrary%2FCloudStorage%2FOneDrive-TeslimUthmanAdeyanju%2FTeSlim_Data_Scientist%2F03_Python%2FTeslim_python_study_note%2FTeslim_python_bootcamp%2F08_python_exceptions_errors%2F01-exception_error.ipynb%22%2C%22scheme%22%3A%22vscode-notebook-cell%22%2C%22fragment%22%3A%22X45sZmlsZQ%3D%3D%22%7D%2C%7B%22line%22%3A5%2C%22character%22%3A4%7D%5D \"/Users/teslim/Library/CloudStorage/OneDrive-TeslimUthmanAdeyanju/TeSlim_Data_Scientist/03_Python/Teslim_python_study_note/Teslim_python_bootcamp/08_python_exceptions_errors/01-exception_error.ipynb\") variable.\n",
    "\n",
    "If the file does not exist, a [`FileNotFoundError`](command:_github.copilot.openSymbolFromReferences?%5B%7B%22%24mid%22%3A1%2C%22path%22%3A%22%2FUsers%2Fteslim%2F.vscode%2Fextensions%2Fms-python.vscode-pylance-2024.5.1%2Fdist%2Ftypeshed-fallback%2Fstdlib%2Fbuiltins.pyi%22%2C%22scheme%22%3A%22file%22%7D%2C%7B%22line%22%3A1907%2C%22character%22%3A6%7D%5D \"../../../../.vscode/extensions/ms-python.vscode-pylance-2024.5.1/dist/typeshed-fallback/stdlib/builtins.pyi\") is raised. The [`except FileNotFoundError`](command:_github.copilot.openSymbolFromReferences?%5B%7B%22%24mid%22%3A1%2C%22path%22%3A%22%2FUsers%2Fteslim%2F.vscode%2Fextensions%2Fms-python.vscode-pylance-2024.5.1%2Fdist%2Ftypeshed-fallback%2Fstdlib%2Fbuiltins.pyi%22%2C%22scheme%22%3A%22file%22%7D%2C%7B%22line%22%3A1907%2C%22character%22%3A6%7D%5D \"../../../../.vscode/extensions/ms-python.vscode-pylance-2024.5.1/dist/typeshed-fallback/stdlib/builtins.pyi\") block catches this exception and prints \"File not found!\" to the console.\n",
    "\n",
    "If an error occurs while reading the file, an [`IOError`](command:_github.copilot.openSymbolFromReferences?%5B%7B%22%24mid%22%3A1%2C%22path%22%3A%22%2FUsers%2Fteslim%2F.vscode%2Fextensions%2Fms-python.vscode-pylance-2024.5.1%2Fdist%2Ftypeshed-fallback%2Fstdlib%2Fbuiltins.pyi%22%2C%22scheme%22%3A%22file%22%7D%2C%7B%22line%22%3A1838%2C%22character%22%3A0%7D%5D \"../../../../.vscode/extensions/ms-python.vscode-pylance-2024.5.1/dist/typeshed-fallback/stdlib/builtins.pyi\") is raised. The [`except IOError`](command:_github.copilot.openSymbolFromReferences?%5B%7B%22%24mid%22%3A1%2C%22path%22%3A%22%2FUsers%2Fteslim%2F.vscode%2Fextensions%2Fms-python.vscode-pylance-2024.5.1%2Fdist%2Ftypeshed-fallback%2Fstdlib%2Fbuiltins.pyi%22%2C%22scheme%22%3A%22file%22%7D%2C%7B%22line%22%3A1838%2C%22character%22%3A0%7D%5D \"../../../../.vscode/extensions/ms-python.vscode-pylance-2024.5.1/dist/typeshed-fallback/stdlib/builtins.pyi\") block catches this exception and prints \"An error occurred while reading the file.\" to the console.\n",
    "\n",
    "The `else` block executes if the `try` block does not raise any exceptions. It prints \"File read successfully.\" to the console, splits the content of the file into lines, and prints the number of lines in the file.\n",
    "\n",
    "The `finally` block executes no matter what, even if an exception is raised in the `try` or `else` blocks. It attempts to close the file. If the file was never opened (and thus the [`file`](command:_github.copilot.openSymbolFromReferences?%5B%7B%22%24mid%22%3A1%2C%22fsPath%22%3A%22%2FUsers%2Fteslim%2FLibrary%2FCloudStorage%2FOneDrive-TeslimUthmanAdeyanju%2FTeSlim_Data_Scientist%2F03_Python%2FTeslim_python_study_note%2FTeslim_python_bootcamp%2F08_python_exceptions_errors%2F01-exception_error.ipynb%22%2C%22path%22%3A%22%2FUsers%2Fteslim%2FLibrary%2FCloudStorage%2FOneDrive-TeslimUthmanAdeyanju%2FTeSlim_Data_Scientist%2F03_Python%2FTeslim_python_study_note%2FTeslim_python_bootcamp%2F08_python_exceptions_errors%2F01-exception_error.ipynb%22%2C%22scheme%22%3A%22vscode-notebook-cell%22%2C%22fragment%22%3A%22X45sZmlsZQ%3D%3D%22%7D%2C%7B%22line%22%3A4%2C%22character%22%3A4%7D%5D \"/Users/teslim/Library/CloudStorage/OneDrive-TeslimUthmanAdeyanju/TeSlim_Data_Scientist/03_Python/Teslim_python_study_note/Teslim_python_bootcamp/08_python_exceptions_errors/01-exception_error.ipynb\") variable is not defined), a [`NameError`](command:_github.copilot.openSymbolFromReferences?%5B%7B%22%24mid%22%3A1%2C%22path%22%3A%22%2FUsers%2Fteslim%2F.vscode%2Fextensions%2Fms-python.vscode-pylance-2024.5.1%2Fdist%2Ftypeshed-fallback%2Fstdlib%2Fbuiltins.pyi%22%2C%22scheme%22%3A%22file%22%7D%2C%7B%22line%22%3A1865%2C%22character%22%3A6%7D%5D \"../../../../.vscode/extensions/ms-python.vscode-pylance-2024.5.1/dist/typeshed-fallback/stdlib/builtins.pyi\") is raised. The nested [`except NameError`](command:_github.copilot.openSymbolFromReferences?%5B%7B%22%24mid%22%3A1%2C%22path%22%3A%22%2FUsers%2Fteslim%2F.vscode%2Fextensions%2Fms-python.vscode-pylance-2024.5.1%2Fdist%2Ftypeshed-fallback%2Fstdlib%2Fbuiltins.pyi%22%2C%22scheme%22%3A%22file%22%7D%2C%7B%22line%22%3A1865%2C%22character%22%3A6%7D%5D \"../../../../.vscode/extensions/ms-python.vscode-pylance-2024.5.1/dist/typeshed-fallback/stdlib/builtins.pyi\") block catches this exception and prints \"File was never opened.\" to the console. If an error occurs while closing the file, an [`IOError`](command:_github.copilot.openSymbolFromReferences?%5B%7B%22%24mid%22%3A1%2C%22path%22%3A%22%2FUsers%2Fteslim%2F.vscode%2Fextensions%2Fms-python.vscode-pylance-2024.5.1%2Fdist%2Ftypeshed-fallback%2Fstdlib%2Fbuiltins.pyi%22%2C%22scheme%22%3A%22file%22%7D%2C%7B%22line%22%3A1838%2C%22character%22%3A0%7D%5D \"../../../../.vscode/extensions/ms-python.vscode-pylance-2024.5.1/dist/typeshed-fallback/stdlib/builtins.pyi\") is raised. The nested [`except IOError`](command:_github.copilot.openSymbolFromReferences?%5B%7B%22%24mid%22%3A1%2C%22path%22%3A%22%2FUsers%2Fteslim%2F.vscode%2Fextensions%2Fms-python.vscode-pylance-2024.5.1%2Fdist%2Ftypeshed-fallback%2Fstdlib%2Fbuiltins.pyi%22%2C%22scheme%22%3A%22file%22%7D%2C%7B%22line%22%3A1838%2C%22character%22%3A0%7D%5D \"../../../../.vscode/extensions/ms-python.vscode-pylance-2024.5.1/dist/typeshed-fallback/stdlib/builtins.pyi\") block catches this exception and prints \"An error occurred while closing the file.\" to the console."
   ]
  },
  {
   "cell_type": "markdown",
   "metadata": {},
   "source": [
    "Key Points.  \n",
    "* The else block is executed only if the try block does not raise an exception.  \n",
    "* It is useful for separating the normal flow of code from the error-handling logic.\n",
    "* The else block is useful for code that should run only when no exceptions occur, keeping the flow of logic clear.\n",
    "* The finally block, if present, will always execute, providing a place for cleanup code.\n",
    "\n",
    "Using the else block appropriately can help improve the clarity and maintainability of your error handling logic by separating the normal flow of code execution from the error handling logic."
   ]
  },
  {
   "cell_type": "markdown",
   "metadata": {},
   "source": [
    "##### 5.3 Using `e` in the except block \n",
    "___\n"
   ]
  },
  {
   "cell_type": "markdown",
   "metadata": {},
   "source": [
    "\n",
    "When an exception is caught in the except block, we can access the exception object using the variable `e`. The exception object contains information about the error event that occurred within a method. The exception object contains: \n",
    "\n",
    "* Error type (exception name)\n",
    "* The state of the program when the error occurred\n",
    "* An error message describes the error event.\n",
    "\n",
    "We can use the exception object to get the error message, error type, and the state of the program when the error occurred, thus helping us to debug the error event. We can also use the exception object to log the error event in a log file or database.\n",
    "\n",
    "In Python, the e in the except block is a variable that stores the exception instance. This allows you to access details about the exception, such as its message and type. Here’s a detailed explanation:\n",
    "\n",
    "**Explanation of e in Exception Handling**  \n",
    "When an exception is caught using an except block, you can optionally specify a variable to store the exception instance. This variable is typically named e (short for \"exception\"), but you can name it anything you like. The syntax is as follows:\n",
    "\n",
    "```python\n",
    "try:\n",
    "    # Code that might raise an exception\n",
    "    pass\n",
    "except ExceptionType as e:\n",
    "    # Code to handle the exception\n",
    "    # `e` is the exception instance\n",
    "    pass\n"
   ]
  },
  {
   "cell_type": "code",
   "execution_count": 32,
   "metadata": {},
   "outputs": [
    {
     "name": "stdout",
     "output_type": "stream",
     "text": [
      "Error: division by zero\n"
     ]
    }
   ],
   "source": [
    "def divide(a, b):\n",
    "    try:\n",
    "        result = a / b\n",
    "    except ZeroDivisionError as e:\n",
    "        print(f\"Error: {e}\")\n",
    "    else:\n",
    "        print(f\"Result: {result}\")\n",
    "\n",
    "divide(10, 0)\n"
   ]
  },
  {
   "cell_type": "markdown",
   "metadata": {},
   "source": [
    "![alt text](<../../../Teslim_python_cheat/The e except block.png>)"
   ]
  },
  {
   "cell_type": "markdown",
   "metadata": {},
   "source": [
    "**Accessing Exception Attributes**\n",
    "The exception instance e can have various attributes that provide more information about the error. Common attributes include:\n",
    "\n",
    "* e.args: A tuple of arguments passed to the exception. For example, the error message is usually the first element.\n",
    "* e.message: The error message associated with the exception.\n",
    "* e.__class__: The class of the exception, which tells you the type of exception.\n",
    "* e.__cause__: The cause of the exception, if any.\n",
    "\n"
   ]
  },
  {
   "cell_type": "code",
   "execution_count": 38,
   "metadata": {},
   "outputs": [
    {
     "name": "stdout",
     "output_type": "stream",
     "text": [
      "Error: [Errno 2] No such file or directory: 'non_existent_file.txt'\n",
      "Error message: 2\n",
      "Exception type: FileNotFoundError\n"
     ]
    }
   ],
   "source": [
    "def read_file(file_path):\n",
    "    try:\n",
    "        with open(file_path, 'r') as file:\n",
    "            data = file.read()\n",
    "    except FileNotFoundError as e:\n",
    "        print(f\"Error: {e}\")\n",
    "        print(f\"Error message: {e.args[0]}\")\n",
    "        print(f\"Exception type: {e.__class__.__name__}\")\n",
    "    else:\n",
    "        print(f\"File content:\\n{data}\")\n",
    "\n",
    "read_file('non_existent_file.txt')\n",
    "\n"
   ]
  },
  {
   "cell_type": "markdown",
   "metadata": {},
   "source": [
    "![alt text](<../../../Teslim_python_cheat/e except note.png>)"
   ]
  },
  {
   "cell_type": "markdown",
   "metadata": {},
   "source": [
    "##### 5.4 Using `raise` statement handle exceptions\n",
    "___"
   ]
  },
  {
   "cell_type": "markdown",
   "metadata": {},
   "source": [
    "The raise statement in Python is used to explicitly trigger an exception. This is useful in scenarios where you want to signal that an error condition has occurred, and it should be handled by the calling code or an appropriate exception handler.\n",
    "\n",
    "**Steps to Raise an Exception**\n",
    "1. Create an Exception: You can use built-in exceptions or create your own custom exceptions.\n",
    "\n",
    "1. Pass Data to the Exception: When raising an exception, you can pass relevant data (like error messages) to it.\n",
    "\n",
    "1. Use the raise Statement: Trigger the exception by using the raise statement.\n",
    "\n",
    "\n",
    "> Summarly: The raise statement is used to explicitly trigger an exception in Python.\n",
    "\n",
    "The syntax of the raise statement is as follows:\n",
    "\n",
    "```python\n",
    "raise Exception_class(\"Error message\")\n",
    "```\n",
    "\n",
    "Note that raise is usually indent with the except block, and it is used to raise an exception when a specific condition occurs. The raise statement can be used to raise a built-in exception or a custom exception.\n",
    "\n",
    "Example 1: Raising a Built-In Exception  \n",
    "\n",
    "Here is a simple example of raising a built-in exception:"
   ]
  },
  {
   "cell_type": "code",
   "execution_count": 8,
   "metadata": {},
   "outputs": [
    {
     "name": "stdout",
     "output_type": "stream",
     "text": [
      "Error: Cannot divide by zero\n"
     ]
    }
   ],
   "source": [
    "def divide(a, b):\n",
    "    if b == 0:\n",
    "        raise ValueError(\"Cannot divide by zero\")\n",
    "    return a / b\n",
    "\n",
    "try:\n",
    "    result = divide(10, 0)\n",
    "except ValueError as e:\n",
    "    print(f\"Error: {e}\")\n"
   ]
  },
  {
   "cell_type": "markdown",
   "metadata": {},
   "source": [
    "Example 2: Creating and Raising a Custom Exception  \n",
    "\n",
    "You can create your own exception classes by inheriting from the Exception class or one of its subclasses."
   ]
  },
  {
   "cell_type": "code",
   "execution_count": 11,
   "metadata": {},
   "outputs": [
    {
     "name": "stdout",
     "output_type": "stream",
     "text": [
      "InvalidAgeError: 11 - Age must be between 18 and 99\n"
     ]
    }
   ],
   "source": [
    "class InvalidAgeError(Exception):\n",
    "    def __init__(self, age, message = \"Age must be between 18 and 99\"):\n",
    "        self.age = age\n",
    "        self.message = message\n",
    "        super().__init__(self.message)\n",
    "\n",
    "def validate_age(age):\n",
    "    if age < 18 or age > 99:\n",
    "        raise InvalidAgeError(age)\n",
    "    print(\"Age is valid\")\n",
    "\n",
    "try:\n",
    "    validate_age(11)\n",
    "except InvalidAgeError as e:\n",
    "    print(f\"InvalidAgeError: {e.age} - {e.message}\")\n"
   ]
  },
  {
   "cell_type": "markdown",
   "metadata": {},
   "source": [
    "Example 3: Re-Raising Exceptions  \n",
    "\n",
    "You might want to catch an exception, perform some actions (like logging), and then re-raise the same exception."
   ]
  },
  {
   "cell_type": "code",
   "execution_count": 12,
   "metadata": {},
   "outputs": [
    {
     "name": "stdout",
     "output_type": "stream",
     "text": [
      "Logging error: Data must be an integer\n",
      "Error caught in main: Data must be an integer\n"
     ]
    }
   ],
   "source": [
    "def process_data(data):\n",
    "    try:\n",
    "        # Simulate processing data\n",
    "        if not isinstance(data, int):\n",
    "            raise TypeError(\"Data must be an integer\")\n",
    "    except TypeError as e:\n",
    "        print(f\"Logging error: {e}\")\n",
    "        raise  # Re-raise the same exception\n",
    "\n",
    "try:\n",
    "    process_data(\"string\")\n",
    "except TypeError as e:\n",
    "    print(f\"Error caught in main: {e}\")\n"
   ]
  },
  {
   "cell_type": "code",
   "execution_count": 14,
   "metadata": {},
   "outputs": [
    {
     "name": "stdout",
     "output_type": "stream",
     "text": [
      "Case 1\n",
      "The Simple Interest is 384.0\n",
      "\n",
      "Case 2\n",
      "interest rate is out of range 800\n"
     ]
    }
   ],
   "source": [
    "def simple_interest(amount, year, rate):\n",
    "    try:\n",
    "        if rate > 100:\n",
    "            raise ValueError(rate)\n",
    "        interest = (amount * year * rate) / 100\n",
    "        print('The Simple Interest is', interest)\n",
    "        return interest\n",
    "    except ValueError:\n",
    "        print('interest rate is out of range', rate)\n",
    "\n",
    "print('Case 1')\n",
    "simple_interest(800, 6, 8)\n",
    "print( )\n",
    "\n",
    "print('Case 2')\n",
    "simple_interest(800, 6, 800)"
   ]
  },
  {
   "cell_type": "markdown",
   "metadata": {},
   "source": [
    "Key Points  \n",
    "* Built-In Exceptions: Use built-in exceptions like ValueError, TypeError, etc., when they are appropriate for the error condition.\n",
    "\n",
    "* Custom Exceptions: Create custom exception classes when you need more specific error handling.  \n",
    "\n",
    "* Passing Data: Provide relevant data when raising exceptions to give more context to the error.  \n",
    "\n",
    "* Re-Raising: Use the raise statement without arguments in an except block to re-raise the caught exception.\n",
    "\n",
    "By using the raise statement appropriately, you can create robust error handling mechanisms in your Python programs, making it easier to identify, debug, and handle error conditions effectively.\n",
    "\n",
    "\n",
    "\n",
    "\n"
   ]
  },
  {
   "cell_type": "markdown",
   "metadata": {},
   "source": [
    "The raise statement should be placed at the point in your code where you detect an error condition that should be signaled to the calling code or an exception handler. Typically, this is within a conditional check where you validate inputs or states.\n",
    "\n",
    "Here's a step-by-step guide and examples to illustrate where to place the raise statement in your code:\n",
    "\n",
    "**Step-by-Step Guide**  \n",
    "\n",
    "1. Identify the Condition: Determine the condition under which an exception should be raised. \n",
    "1. Conditional Check: Place a conditional check (if statement) to test for the error condition.\n",
    "1. Raise the Exception: Inside the conditional block, use the raise statement to trigger the exception with an appropriate message or error object.\n"
   ]
  },
  {
   "cell_type": "markdown",
   "metadata": {},
   "source": [
    "1. Conditional Check  \n",
    "\n",
    "The raise statement should be placed inside conditional checks where you validate inputs or states. This ensures that exceptions are raised precisely when an error condition is detected.\n",
    "\n",
    "Example: Validating Function Inputs  "
   ]
  },
  {
   "cell_type": "code",
   "execution_count": 15,
   "metadata": {},
   "outputs": [
    {
     "name": "stdout",
     "output_type": "stream",
     "text": [
      "Error: The number must be non-negative\n"
     ]
    }
   ],
   "source": [
    "def process_number(n):\n",
    "    if n < 0:\n",
    "        raise ValueError(\"The number must be non-negative\")\n",
    "    print(f\"Processing {n}\")\n",
    "\n",
    "try:\n",
    "    process_number(-5)\n",
    "except ValueError as e:\n",
    "    print(f\"Error: {e}\")\n"
   ]
  },
  {
   "cell_type": "markdown",
   "metadata": {},
   "source": [
    "2. Error Context  \n",
    "\n",
    "When raising an exception, provide an informative error message or object. This helps the caller understand what went wrong and why.  \n",
    "\n",
    "Example: Custom Exception with Detailed Error Message  "
   ]
  },
  {
   "cell_type": "code",
   "execution_count": 18,
   "metadata": {},
   "outputs": [
    {
     "name": "stdout",
     "output_type": "stream",
     "text": [
      "InvalidAgeError: 120 - Age must be between 18 and 99\n"
     ]
    }
   ],
   "source": [
    "class InvalidAgeError(Exception):\n",
    "    def __init__(self, age, message=\"Age must be between 18 and 99\"):\n",
    "        self.age = age\n",
    "        self.message = message\n",
    "        super().__init__(self.message)\n",
    "\n",
    "def check_age(age):\n",
    "    if age < 18 or age > 99:\n",
    "        raise InvalidAgeError(age)\n",
    "    print(f\"Age {age} is valid\")\n",
    "\n",
    "try:\n",
    "    check_age(120)\n",
    "except InvalidAgeError as e:\n",
    "    print(f\"InvalidAgeError: {e.age} - {e.message}\")\n"
   ]
  },
  {
   "cell_type": "markdown",
   "metadata": {},
   "source": [
    "3. Higher-Level Handling\n",
    "\n",
    "You can catch and optionally re-raise exceptions at higher levels in your program. This allows for additional processing or logging before the exception is handled further up the call stack.\n",
    "\n",
    "Example: Nested Function Calls with Re-Raising.   "
   ]
  },
  {
   "cell_type": "code",
   "execution_count": 17,
   "metadata": {},
   "outputs": [
    {
     "name": "stdout",
     "output_type": "stream",
     "text": [
      "Error in reading file: Only .txt files are supported\n",
      "Caught in main: Only .txt files are supported\n"
     ]
    }
   ],
   "source": [
    "def read_file(file_path):\n",
    "    if not file_path.endswith('.txt'):\n",
    "        raise TypeError(\"Only .txt files are supported\")\n",
    "    # Simulate file reading\n",
    "    return \"File content\"\n",
    "\n",
    "def process_file(file_path):\n",
    "    try:\n",
    "        content = read_file(file_path)\n",
    "        print(content)\n",
    "    except TypeError as e:\n",
    "        print(f\"Error in reading file: {e}\")\n",
    "        raise\n",
    "\n",
    "try:\n",
    "    process_file(\"example.pdf\")\n",
    "except TypeError as e:\n",
    "    print(f\"Caught in main: {e}\")\n"
   ]
  },
  {
   "cell_type": "markdown",
   "metadata": {},
   "source": [
    "Summary  \n",
    "1. Conditional Check: Place the raise statement inside conditional checks where you validate inputs or states. \n",
    "\n",
    "1. Error Context: Provide an informative error message or object when raising the exception to give context about the error.\n",
    "\n",
    "1. Higher-Level Handling: Optionally catch and re-raise exceptions at higher levels for additional processing or logging.\n",
    "\n",
    "By strategically placing the raise statement in your code, you can ensure that errors are detected early and handled appropriately, improving the robustness and maintainability of your programs.\n",
    "\n",
    "\n",
    "\n",
    "\n"
   ]
  },
  {
   "cell_type": "markdown",
   "metadata": {},
   "source": [
    "#### 6.0 Exception Chaining in Python 3.3+\n",
    "___"
   ]
  },
  {
   "cell_type": "markdown",
   "metadata": {},
   "source": [
    "Exception chaining in Python 3 allows you to raise a new exception while preserving the original exception, providing more context about the error. This is done using the raise ... from ... syntax. By chaining exceptions, you can indicate that a new exception was caused by another exception, which can be particularly useful for debugging and error handling.\n",
    "\n",
    "- **Automatic Exception Chaining**  \n",
    "When an exception is raised inside an except or finally block, Python automatically chains the exceptions unless explicitly disabled.\n",
    "\n",
    "- **Manual Exception Chaining**  \n",
    "You can explicitly chain exceptions using the raise ... from ... syntax to provide more context about the cause of the exception.\n",
    "\n",
    "- **Disabling Exception Chaining**  \n",
    "You can disable exception chaining by using from None to indicate that the new exception is not directly caused by a previous exception.\n",
    "\n"
   ]
  },
  {
   "cell_type": "code",
   "execution_count": 19,
   "metadata": {},
   "outputs": [
    {
     "name": "stdout",
     "output_type": "stream",
     "text": [
      "Caught ValueError, re-raising as RuntimeError\n",
      "Caught RuntimeError: New exception\n",
      "Original exception: Initial exception\n"
     ]
    }
   ],
   "source": [
    "# Automatic Exception Chaining.\n",
    "\n",
    "def function_that_raises():\n",
    "    raise ValueError(\"Initial exception\")\n",
    "\n",
    "def wrapper_function():\n",
    "    try:\n",
    "        function_that_raises()\n",
    "    except ValueError as e:\n",
    "        print(\"Caught ValueError, re-raising as RuntimeError\")\n",
    "        raise RuntimeError(\"New exception\") from e\n",
    "\n",
    "try:\n",
    "    wrapper_function()\n",
    "except RuntimeError as e:\n",
    "    print(f\"Caught RuntimeError: {e}\")\n",
    "    print(f\"Original exception: {e.__cause__}\")\n"
   ]
  },
  {
   "cell_type": "markdown",
   "metadata": {},
   "source": [
    "This Python code demonstrates the concept of automatic exception chaining, which is a way to track and handle exceptions that occur within exception handling code itself.\n",
    "\n",
    "The [`function_that_raises()`](command:_github.copilot.openSymbolFromReferences?%5B%7B%22%24mid%22%3A1%2C%22fsPath%22%3A%22%2FUsers%2Fteslim%2FLibrary%2FCloudStorage%2FOneDrive-TeslimUthmanAdeyanju%2FTeSlim_Data_Scientist%2F03_Python%2FTeslim_python_study_note%2FTeslim_python_bootcamp%2F08_python_exceptions_errors%2F01-exception_error.ipynb%22%2C%22path%22%3A%22%2FUsers%2Fteslim%2FLibrary%2FCloudStorage%2FOneDrive-TeslimUthmanAdeyanju%2FTeSlim_Data_Scientist%2F03_Python%2FTeslim_python_study_note%2FTeslim_python_bootcamp%2F08_python_exceptions_errors%2F01-exception_error.ipynb%22%2C%22scheme%22%3A%22vscode-notebook-cell%22%2C%22fragment%22%3A%22Y114sZmlsZQ%3D%3D%22%7D%2C%7B%22line%22%3A2%2C%22character%22%3A4%7D%5D \"/Users/teslim/Library/CloudStorage/OneDrive-TeslimUthmanAdeyanju/TeSlim_Data_Scientist/03_Python/Teslim_python_study_note/Teslim_python_bootcamp/08_python_exceptions_errors/01-exception_error.ipynb\") function is defined to simply raise a [`ValueError`](command:_github.copilot.openSymbolFromReferences?%5B%7B%22%24mid%22%3A1%2C%22path%22%3A%22%2FUsers%2Fteslim%2F.vscode%2Fextensions%2Fms-python.vscode-pylance-2024.5.1%2Fdist%2Ftypeshed-fallback%2Fstdlib%2Fbuiltins.pyi%22%2C%22scheme%22%3A%22file%22%7D%2C%7B%22line%22%3A1888%2C%22character%22%3A6%7D%5D \"../../../../.vscode/extensions/ms-python.vscode-pylance-2024.5.1/dist/typeshed-fallback/stdlib/builtins.pyi\") with the message \"Initial exception\". This function is used to simulate a piece of code that might raise an exception during normal execution.\n",
    "\n",
    "The [`wrapper_function()`](command:_github.copilot.openSymbolFromReferences?%5B%7B%22%24mid%22%3A1%2C%22fsPath%22%3A%22%2FUsers%2Fteslim%2FLibrary%2FCloudStorage%2FOneDrive-TeslimUthmanAdeyanju%2FTeSlim_Data_Scientist%2F03_Python%2FTeslim_python_study_note%2FTeslim_python_bootcamp%2F08_python_exceptions_errors%2F01-exception_error.ipynb%22%2C%22path%22%3A%22%2FUsers%2Fteslim%2FLibrary%2FCloudStorage%2FOneDrive-TeslimUthmanAdeyanju%2FTeSlim_Data_Scientist%2F03_Python%2FTeslim_python_study_note%2FTeslim_python_bootcamp%2F08_python_exceptions_errors%2F01-exception_error.ipynb%22%2C%22scheme%22%3A%22vscode-notebook-cell%22%2C%22fragment%22%3A%22Y114sZmlsZQ%3D%3D%22%7D%2C%7B%22line%22%3A5%2C%22character%22%3A4%7D%5D \"/Users/teslim/Library/CloudStorage/OneDrive-TeslimUthmanAdeyanju/TeSlim_Data_Scientist/03_Python/Teslim_python_study_note/Teslim_python_bootcamp/08_python_exceptions_errors/01-exception_error.ipynb\") function is where exception handling is demonstrated. It calls [`function_that_raises()`](command:_github.copilot.openSymbolFromReferences?%5B%7B%22%24mid%22%3A1%2C%22fsPath%22%3A%22%2FUsers%2Fteslim%2FLibrary%2FCloudStorage%2FOneDrive-TeslimUthmanAdeyanju%2FTeSlim_Data_Scientist%2F03_Python%2FTeslim_python_study_note%2FTeslim_python_bootcamp%2F08_python_exceptions_errors%2F01-exception_error.ipynb%22%2C%22path%22%3A%22%2FUsers%2Fteslim%2FLibrary%2FCloudStorage%2FOneDrive-TeslimUthmanAdeyanju%2FTeSlim_Data_Scientist%2F03_Python%2FTeslim_python_study_note%2FTeslim_python_bootcamp%2F08_python_exceptions_errors%2F01-exception_error.ipynb%22%2C%22scheme%22%3A%22vscode-notebook-cell%22%2C%22fragment%22%3A%22Y114sZmlsZQ%3D%3D%22%7D%2C%7B%22line%22%3A2%2C%22character%22%3A4%7D%5D \"/Users/teslim/Library/CloudStorage/OneDrive-TeslimUthmanAdeyanju/TeSlim_Data_Scientist/03_Python/Teslim_python_study_note/Teslim_python_bootcamp/08_python_exceptions_errors/01-exception_error.ipynb\") inside a `try` block, which means it's prepared to handle any exceptions that [`function_that_raises()`](command:_github.copilot.openSymbolFromReferences?%5B%7B%22%24mid%22%3A1%2C%22fsPath%22%3A%22%2FUsers%2Fteslim%2FLibrary%2FCloudStorage%2FOneDrive-TeslimUthmanAdeyanju%2FTeSlim_Data_Scientist%2F03_Python%2FTeslim_python_study_note%2FTeslim_python_bootcamp%2F08_python_exceptions_errors%2F01-exception_error.ipynb%22%2C%22path%22%3A%22%2FUsers%2Fteslim%2FLibrary%2FCloudStorage%2FOneDrive-TeslimUthmanAdeyanju%2FTeSlim_Data_Scientist%2F03_Python%2FTeslim_python_study_note%2FTeslim_python_bootcamp%2F08_python_exceptions_errors%2F01-exception_error.ipynb%22%2C%22scheme%22%3A%22vscode-notebook-cell%22%2C%22fragment%22%3A%22Y114sZmlsZQ%3D%3D%22%7D%2C%7B%22line%22%3A2%2C%22character%22%3A4%7D%5D \"/Users/teslim/Library/CloudStorage/OneDrive-TeslimUthmanAdeyanju/TeSlim_Data_Scientist/03_Python/Teslim_python_study_note/Teslim_python_bootcamp/08_python_exceptions_errors/01-exception_error.ipynb\") might raise. In this case, it's specifically looking to catch [`ValueError`](command:_github.copilot.openSymbolFromReferences?%5B%7B%22%24mid%22%3A1%2C%22path%22%3A%22%2FUsers%2Fteslim%2F.vscode%2Fextensions%2Fms-python.vscode-pylance-2024.5.1%2Fdist%2Ftypeshed-fallback%2Fstdlib%2Fbuiltins.pyi%22%2C%22scheme%22%3A%22file%22%7D%2C%7B%22line%22%3A1888%2C%22character%22%3A6%7D%5D \"../../../../.vscode/extensions/ms-python.vscode-pylance-2024.5.1/dist/typeshed-fallback/stdlib/builtins.pyi\") exceptions.\n",
    "\n",
    "When a [`ValueError`](command:_github.copilot.openSymbolFromReferences?%5B%7B%22%24mid%22%3A1%2C%22path%22%3A%22%2FUsers%2Fteslim%2F.vscode%2Fextensions%2Fms-python.vscode-pylance-2024.5.1%2Fdist%2Ftypeshed-fallback%2Fstdlib%2Fbuiltins.pyi%22%2C%22scheme%22%3A%22file%22%7D%2C%7B%22line%22%3A1888%2C%22character%22%3A6%7D%5D \"../../../../.vscode/extensions/ms-python.vscode-pylance-2024.5.1/dist/typeshed-fallback/stdlib/builtins.pyi\") is caught, it prints a message to indicate this, and then raises a new [`RuntimeError`](command:_github.copilot.openSymbolFromReferences?%5B%7B%22%24mid%22%3A1%2C%22path%22%3A%22%2FUsers%2Fteslim%2F.vscode%2Fextensions%2Fms-python.vscode-pylance-2024.5.1%2Fdist%2Ftypeshed-fallback%2Fstdlib%2Fbuiltins.pyi%22%2C%22scheme%22%3A%22file%22%7D%2C%7B%22line%22%3A1871%2C%22character%22%3A6%7D%5D \"../../../../.vscode/extensions/ms-python.vscode-pylance-2024.5.1/dist/typeshed-fallback/stdlib/builtins.pyi\") with the message \"New exception\". The [`from e`](command:_github.copilot.openSymbolFromReferences?%5B%7B%22%24mid%22%3A1%2C%22fsPath%22%3A%22%2FUsers%2Fteslim%2FLibrary%2FCloudStorage%2FOneDrive-TeslimUthmanAdeyanju%2FTeSlim_Data_Scientist%2F03_Python%2FTeslim_python_study_note%2FTeslim_python_bootcamp%2F08_python_exceptions_errors%2F01-exception_error.ipynb%22%2C%22path%22%3A%22%2FUsers%2Fteslim%2FLibrary%2FCloudStorage%2FOneDrive-TeslimUthmanAdeyanju%2FTeSlim_Data_Scientist%2F03_Python%2FTeslim_python_study_note%2FTeslim_python_bootcamp%2F08_python_exceptions_errors%2F01-exception_error.ipynb%22%2C%22scheme%22%3A%22vscode-notebook-cell%22%2C%22fragment%22%3A%22Y114sZmlsZQ%3D%3D%22%7D%2C%7B%22line%22%3A8%2C%22character%22%3A25%7D%5D \"/Users/teslim/Library/CloudStorage/OneDrive-TeslimUthmanAdeyanju/TeSlim_Data_Scientist/03_Python/Teslim_python_study_note/Teslim_python_bootcamp/08_python_exceptions_errors/01-exception_error.ipynb\") part of the `raise` statement is where exception chaining comes into play. It associates the original [`ValueError`](command:_github.copilot.openSymbolFromReferences?%5B%7B%22%24mid%22%3A1%2C%22path%22%3A%22%2FUsers%2Fteslim%2F.vscode%2Fextensions%2Fms-python.vscode-pylance-2024.5.1%2Fdist%2Ftypeshed-fallback%2Fstdlib%2Fbuiltins.pyi%22%2C%22scheme%22%3A%22file%22%7D%2C%7B%22line%22%3A1888%2C%22character%22%3A6%7D%5D \"../../../../.vscode/extensions/ms-python.vscode-pylance-2024.5.1/dist/typeshed-fallback/stdlib/builtins.pyi\") (referred to by [`e`](command:_github.copilot.openSymbolFromReferences?%5B%7B%22%24mid%22%3A1%2C%22fsPath%22%3A%22%2FUsers%2Fteslim%2FLibrary%2FCloudStorage%2FOneDrive-TeslimUthmanAdeyanju%2FTeSlim_Data_Scientist%2F03_Python%2FTeslim_python_study_note%2FTeslim_python_bootcamp%2F08_python_exceptions_errors%2F01-exception_error.ipynb%22%2C%22path%22%3A%22%2FUsers%2Fteslim%2FLibrary%2FCloudStorage%2FOneDrive-TeslimUthmanAdeyanju%2FTeSlim_Data_Scientist%2F03_Python%2FTeslim_python_study_note%2FTeslim_python_bootcamp%2F08_python_exceptions_errors%2F01-exception_error.ipynb%22%2C%22scheme%22%3A%22vscode-notebook-cell%22%2C%22fragment%22%3A%22Y114sZmlsZQ%3D%3D%22%7D%2C%7B%22line%22%3A8%2C%22character%22%3A25%7D%5D \"/Users/teslim/Library/CloudStorage/OneDrive-TeslimUthmanAdeyanju/TeSlim_Data_Scientist/03_Python/Teslim_python_study_note/Teslim_python_bootcamp/08_python_exceptions_errors/01-exception_error.ipynb\")) with the new [`RuntimeError`](command:_github.copilot.openSymbolFromReferences?%5B%7B%22%24mid%22%3A1%2C%22path%22%3A%22%2FUsers%2Fteslim%2F.vscode%2Fextensions%2Fms-python.vscode-pylance-2024.5.1%2Fdist%2Ftypeshed-fallback%2Fstdlib%2Fbuiltins.pyi%22%2C%22scheme%22%3A%22file%22%7D%2C%7B%22line%22%3A1871%2C%22character%22%3A6%7D%5D \"../../../../.vscode/extensions/ms-python.vscode-pylance-2024.5.1/dist/typeshed-fallback/stdlib/builtins.pyi\"). This allows the original exception to be accessed later if needed.\n",
    "\n",
    "The `try` block around the call to [`wrapper_function()`](command:_github.copilot.openSymbolFromReferences?%5B%7B%22%24mid%22%3A1%2C%22fsPath%22%3A%22%2FUsers%2Fteslim%2FLibrary%2FCloudStorage%2FOneDrive-TeslimUthmanAdeyanju%2FTeSlim_Data_Scientist%2F03_Python%2FTeslim_python_study_note%2FTeslim_python_bootcamp%2F08_python_exceptions_errors%2F01-exception_error.ipynb%22%2C%22path%22%3A%22%2FUsers%2Fteslim%2FLibrary%2FCloudStorage%2FOneDrive-TeslimUthmanAdeyanju%2FTeSlim_Data_Scientist%2F03_Python%2FTeslim_python_study_note%2FTeslim_python_bootcamp%2F08_python_exceptions_errors%2F01-exception_error.ipynb%22%2C%22scheme%22%3A%22vscode-notebook-cell%22%2C%22fragment%22%3A%22Y114sZmlsZQ%3D%3D%22%7D%2C%7B%22line%22%3A5%2C%22character%22%3A4%7D%5D \"/Users/teslim/Library/CloudStorage/OneDrive-TeslimUthmanAdeyanju/TeSlim_Data_Scientist/03_Python/Teslim_python_study_note/Teslim_python_bootcamp/08_python_exceptions_errors/01-exception_error.ipynb\") is looking to catch [`RuntimeError`](command:_github.copilot.openSymbolFromReferences?%5B%7B%22%24mid%22%3A1%2C%22path%22%3A%22%2FUsers%2Fteslim%2F.vscode%2Fextensions%2Fms-python.vscode-pylance-2024.5.1%2Fdist%2Ftypeshed-fallback%2Fstdlib%2Fbuiltins.pyi%22%2C%22scheme%22%3A%22file%22%7D%2C%7B%22line%22%3A1871%2C%22character%22%3A6%7D%5D \"../../../../.vscode/extensions/ms-python.vscode-pylance-2024.5.1/dist/typeshed-fallback/stdlib/builtins.pyi\") exceptions. When it catches one, it prints the [`RuntimeError`](command:_github.copilot.openSymbolFromReferences?%5B%7B%22%24mid%22%3A1%2C%22path%22%3A%22%2FUsers%2Fteslim%2F.vscode%2Fextensions%2Fms-python.vscode-pylance-2024.5.1%2Fdist%2Ftypeshed-fallback%2Fstdlib%2Fbuiltins.pyi%22%2C%22scheme%22%3A%22file%22%7D%2C%7B%22line%22%3A1871%2C%22character%22%3A6%7D%5D \"../../../../.vscode/extensions/ms-python.vscode-pylance-2024.5.1/dist/typeshed-fallback/stdlib/builtins.pyi\") message, and then also prints the original [`ValueError`](command:_github.copilot.openSymbolFromReferences?%5B%7B%22%24mid%22%3A1%2C%22path%22%3A%22%2FUsers%2Fteslim%2F.vscode%2Fextensions%2Fms-python.vscode-pylance-2024.5.1%2Fdist%2Ftypeshed-fallback%2Fstdlib%2Fbuiltins.pyi%22%2C%22scheme%22%3A%22file%22%7D%2C%7B%22line%22%3A1888%2C%22character%22%3A6%7D%5D \"../../../../.vscode/extensions/ms-python.vscode-pylance-2024.5.1/dist/typeshed-fallback/stdlib/builtins.pyi\") message. The original exception is accessed via the [`__cause__`](command:_github.copilot.openSymbolFromReferences?%5B%7B%22%24mid%22%3A1%2C%22path%22%3A%22%2FUsers%2Fteslim%2F.vscode%2Fextensions%2Fms-python.vscode-pylance-2024.5.1%2Fdist%2Ftypeshed-fallback%2Fstdlib%2Fbuiltins.pyi%22%2C%22scheme%22%3A%22file%22%7D%2C%7B%22line%22%3A1805%2C%22character%22%3A4%7D%5D \"../../../../.vscode/extensions/ms-python.vscode-pylance-2024.5.1/dist/typeshed-fallback/stdlib/builtins.pyi\") attribute of the caught exception.\n",
    "\n",
    "This code is a good demonstration of how you can handle exceptions in Python, and how you can use exception chaining to keep track of the original cause of an exception even when you're raising a new one in your exception handling code."
   ]
  },
  {
   "cell_type": "code",
   "execution_count": 20,
   "metadata": {},
   "outputs": [
    {
     "name": "stdout",
     "output_type": "stream",
     "text": [
      "Caught ValueError, raising RuntimeError without chaining\n",
      "Caught RuntimeError: New exception\n",
      "Original exception: None\n"
     ]
    }
   ],
   "source": [
    "# Disabling Exception Chaining.\n",
    "\n",
    "def function_that_raises():\n",
    "    raise ValueError(\"Initial exception\")\n",
    "\n",
    "def wrapper_function():\n",
    "    try:\n",
    "        function_that_raises()\n",
    "    except ValueError as e:\n",
    "        print(\"Caught ValueError, raising RuntimeError without chaining\")\n",
    "        raise RuntimeError(\"New exception\") from None\n",
    "\n",
    "try:\n",
    "    wrapper_function()\n",
    "except RuntimeError as e:\n",
    "    print(f\"Caught RuntimeError: {e}\")\n",
    "    print(f\"Original exception: {e.__cause__}\")  # This will be None\n"
   ]
  },
  {
   "cell_type": "markdown",
   "metadata": {},
   "source": [
    "This Python code demonstrates how to disable exception chaining, a feature introduced in Python 3. When an exception is raised while handling another exception (i.e., in an `except` block), Python by default \"chains\" the exceptions, meaning it keeps track of the original exception and the new one.\n",
    "\n",
    "The [`function_that_raises`](command:_github.copilot.openSymbolFromReferences?%5B%7B%22%24mid%22%3A1%2C%22fsPath%22%3A%22%2FUsers%2Fteslim%2FLibrary%2FCloudStorage%2FOneDrive-TeslimUthmanAdeyanju%2FTeSlim_Data_Scientist%2F03_Python%2FTeslim_python_study_note%2FTeslim_python_bootcamp%2F08_python_exceptions_errors%2F01-exception_error.ipynb%22%2C%22path%22%3A%22%2FUsers%2Fteslim%2FLibrary%2FCloudStorage%2FOneDrive-TeslimUthmanAdeyanju%2FTeSlim_Data_Scientist%2F03_Python%2FTeslim_python_study_note%2FTeslim_python_bootcamp%2F08_python_exceptions_errors%2F01-exception_error.ipynb%22%2C%22scheme%22%3A%22vscode-notebook-cell%22%2C%22fragment%22%3A%22Y115sZmlsZQ%3D%3D%22%7D%2C%7B%22line%22%3A2%2C%22character%22%3A4%7D%5D \"/Users/teslim/Library/CloudStorage/OneDrive-TeslimUthmanAdeyanju/TeSlim_Data_Scientist/03_Python/Teslim_python_study_note/Teslim_python_bootcamp/08_python_exceptions_errors/01-exception_error.ipynb\") function is defined to simply raise a [`ValueError`](command:_github.copilot.openSymbolFromReferences?%5B%7B%22%24mid%22%3A1%2C%22path%22%3A%22%2FUsers%2Fteslim%2F.vscode%2Fextensions%2Fms-python.vscode-pylance-2024.5.1%2Fdist%2Ftypeshed-fallback%2Fstdlib%2Fbuiltins.pyi%22%2C%22scheme%22%3A%22file%22%7D%2C%7B%22line%22%3A1888%2C%22character%22%3A6%7D%5D \"../../../../.vscode/extensions/ms-python.vscode-pylance-2024.5.1/dist/typeshed-fallback/stdlib/builtins.pyi\") with the message \"Initial exception\". This function is called within a `try` block in the [`wrapper_function`](command:_github.copilot.openSymbolFromReferences?%5B%7B%22%24mid%22%3A1%2C%22fsPath%22%3A%22%2FUsers%2Fteslim%2FLibrary%2FCloudStorage%2FOneDrive-TeslimUthmanAdeyanju%2FTeSlim_Data_Scientist%2F03_Python%2FTeslim_python_study_note%2FTeslim_python_bootcamp%2F08_python_exceptions_errors%2F01-exception_error.ipynb%22%2C%22path%22%3A%22%2FUsers%2Fteslim%2FLibrary%2FCloudStorage%2FOneDrive-TeslimUthmanAdeyanju%2FTeSlim_Data_Scientist%2F03_Python%2FTeslim_python_study_note%2FTeslim_python_bootcamp%2F08_python_exceptions_errors%2F01-exception_error.ipynb%22%2C%22scheme%22%3A%22vscode-notebook-cell%22%2C%22fragment%22%3A%22Y115sZmlsZQ%3D%3D%22%7D%2C%7B%22line%22%3A5%2C%22character%22%3A4%7D%5D \"/Users/teslim/Library/CloudStorage/OneDrive-TeslimUthmanAdeyanju/TeSlim_Data_Scientist/03_Python/Teslim_python_study_note/Teslim_python_bootcamp/08_python_exceptions_errors/01-exception_error.ipynb\"). If a [`ValueError`](command:_github.copilot.openSymbolFromReferences?%5B%7B%22%24mid%22%3A1%2C%22path%22%3A%22%2FUsers%2Fteslim%2F.vscode%2Fextensions%2Fms-python.vscode-pylance-2024.5.1%2Fdist%2Ftypeshed-fallback%2Fstdlib%2Fbuiltins.pyi%22%2C%22scheme%22%3A%22file%22%7D%2C%7B%22line%22%3A1888%2C%22character%22%3A6%7D%5D \"../../../../.vscode/extensions/ms-python.vscode-pylance-2024.5.1/dist/typeshed-fallback/stdlib/builtins.pyi\") is raised, the code in the `except` block is executed. Here, a message is printed to indicate that a [`ValueError`](command:_github.copilot.openSymbolFromReferences?%5B%7B%22%24mid%22%3A1%2C%22path%22%3A%22%2FUsers%2Fteslim%2F.vscode%2Fextensions%2Fms-python.vscode-pylance-2024.5.1%2Fdist%2Ftypeshed-fallback%2Fstdlib%2Fbuiltins.pyi%22%2C%22scheme%22%3A%22file%22%7D%2C%7B%22line%22%3A1888%2C%22character%22%3A6%7D%5D \"../../../../.vscode/extensions/ms-python.vscode-pylance-2024.5.1/dist/typeshed-fallback/stdlib/builtins.pyi\") was caught and a [`RuntimeError`](command:_github.copilot.openSymbolFromReferences?%5B%7B%22%24mid%22%3A1%2C%22path%22%3A%22%2FUsers%2Fteslim%2F.vscode%2Fextensions%2Fms-python.vscode-pylance-2024.5.1%2Fdist%2Ftypeshed-fallback%2Fstdlib%2Fbuiltins.pyi%22%2C%22scheme%22%3A%22file%22%7D%2C%7B%22line%22%3A1871%2C%22character%22%3A6%7D%5D \"../../../../.vscode/extensions/ms-python.vscode-pylance-2024.5.1/dist/typeshed-fallback/stdlib/builtins.pyi\") is about to be raised. \n",
    "\n",
    "The `raise` statement includes `from None` at the end, which is the key to disabling exception chaining. This tells Python to not associate the [`RuntimeError`](command:_github.copilot.openSymbolFromReferences?%5B%7B%22%24mid%22%3A1%2C%22path%22%3A%22%2FUsers%2Fteslim%2F.vscode%2Fextensions%2Fms-python.vscode-pylance-2024.5.1%2Fdist%2Ftypeshed-fallback%2Fstdlib%2Fbuiltins.pyi%22%2C%22scheme%22%3A%22file%22%7D%2C%7B%22line%22%3A1871%2C%22character%22%3A6%7D%5D \"../../../../.vscode/extensions/ms-python.vscode-pylance-2024.5.1/dist/typeshed-fallback/stdlib/builtins.pyi\") with the [`ValueError`](command:_github.copilot.openSymbolFromReferences?%5B%7B%22%24mid%22%3A1%2C%22path%22%3A%22%2FUsers%2Fteslim%2F.vscode%2Fextensions%2Fms-python.vscode-pylance-2024.5.1%2Fdist%2Ftypeshed-fallback%2Fstdlib%2Fbuiltins.pyi%22%2C%22scheme%22%3A%22file%22%7D%2C%7B%22line%22%3A1888%2C%22character%22%3A6%7D%5D \"../../../../.vscode/extensions/ms-python.vscode-pylance-2024.5.1/dist/typeshed-fallback/stdlib/builtins.pyi\") that was just caught. \n",
    "\n",
    "Finally, the [`wrapper_function`](command:_github.copilot.openSymbolFromReferences?%5B%7B%22%24mid%22%3A1%2C%22fsPath%22%3A%22%2FUsers%2Fteslim%2FLibrary%2FCloudStorage%2FOneDrive-TeslimUthmanAdeyanju%2FTeSlim_Data_Scientist%2F03_Python%2FTeslim_python_study_note%2FTeslim_python_bootcamp%2F08_python_exceptions_errors%2F01-exception_error.ipynb%22%2C%22path%22%3A%22%2FUsers%2Fteslim%2FLibrary%2FCloudStorage%2FOneDrive-TeslimUthmanAdeyanju%2FTeSlim_Data_Scientist%2F03_Python%2FTeslim_python_study_note%2FTeslim_python_bootcamp%2F08_python_exceptions_errors%2F01-exception_error.ipynb%22%2C%22scheme%22%3A%22vscode-notebook-cell%22%2C%22fragment%22%3A%22Y115sZmlsZQ%3D%3D%22%7D%2C%7B%22line%22%3A5%2C%22character%22%3A4%7D%5D \"/Users/teslim/Library/CloudStorage/OneDrive-TeslimUthmanAdeyanju/TeSlim_Data_Scientist/03_Python/Teslim_python_study_note/Teslim_python_bootcamp/08_python_exceptions_errors/01-exception_error.ipynb\") is called within another `try` block. If a [`RuntimeError`](command:_github.copilot.openSymbolFromReferences?%5B%7B%22%24mid%22%3A1%2C%22path%22%3A%22%2FUsers%2Fteslim%2F.vscode%2Fextensions%2Fms-python.vscode-pylance-2024.5.1%2Fdist%2Ftypeshed-fallback%2Fstdlib%2Fbuiltins.pyi%22%2C%22scheme%22%3A%22file%22%7D%2C%7B%22line%22%3A1871%2C%22character%22%3A6%7D%5D \"../../../../.vscode/extensions/ms-python.vscode-pylance-2024.5.1/dist/typeshed-fallback/stdlib/builtins.pyi\") is raised, a message is printed to indicate this, and an attempt is made to print the original exception (the [`__cause__`](command:_github.copilot.openSymbolFromReferences?%5B%7B%22%24mid%22%3A1%2C%22path%22%3A%22%2FUsers%2Fteslim%2F.vscode%2Fextensions%2Fms-python.vscode-pylance-2024.5.1%2Fdist%2Ftypeshed-fallback%2Fstdlib%2Fbuiltins.pyi%22%2C%22scheme%22%3A%22file%22%7D%2C%7B%22line%22%3A1805%2C%22character%22%3A4%7D%5D \"../../../../.vscode/extensions/ms-python.vscode-pylance-2024.5.1/dist/typeshed-fallback/stdlib/builtins.pyi\") of the [`RuntimeError`](command:_github.copilot.openSymbolFromReferences?%5B%7B%22%24mid%22%3A1%2C%22path%22%3A%22%2FUsers%2Fteslim%2F.vscode%2Fextensions%2Fms-python.vscode-pylance-2024.5.1%2Fdist%2Ftypeshed-fallback%2Fstdlib%2Fbuiltins.pyi%22%2C%22scheme%22%3A%22file%22%7D%2C%7B%22line%22%3A1871%2C%22character%22%3A6%7D%5D \"../../../../.vscode/extensions/ms-python.vscode-pylance-2024.5.1/dist/typeshed-fallback/stdlib/builtins.pyi\")). However, because exception chaining was disabled, [`e.__cause__`](command:_github.copilot.openSymbolFromReferences?%5B%7B%22%24mid%22%3A1%2C%22fsPath%22%3A%22%2FUsers%2Fteslim%2FLibrary%2FCloudStorage%2FOneDrive-TeslimUthmanAdeyanju%2FTeSlim_Data_Scientist%2F03_Python%2FTeslim_python_study_note%2FTeslim_python_bootcamp%2F08_python_exceptions_errors%2F01-exception_error.ipynb%22%2C%22path%22%3A%22%2FUsers%2Fteslim%2FLibrary%2FCloudStorage%2FOneDrive-TeslimUthmanAdeyanju%2FTeSlim_Data_Scientist%2F03_Python%2FTeslim_python_study_note%2FTeslim_python_bootcamp%2F08_python_exceptions_errors%2F01-exception_error.ipynb%22%2C%22scheme%22%3A%22vscode-notebook-cell%22%2C%22fragment%22%3A%22Y115sZmlsZQ%3D%3D%22%7D%2C%7B%22line%22%3A8%2C%22character%22%3A25%7D%5D \"/Users/teslim/Library/CloudStorage/OneDrive-TeslimUthmanAdeyanju/TeSlim_Data_Scientist/03_Python/Teslim_python_study_note/Teslim_python_bootcamp/08_python_exceptions_errors/01-exception_error.ipynb\") is `None`, so \"Original exception: None\" is printed. \n",
    "\n",
    "If exception chaining was not disabled (i.e., if `from None` was removed from the `raise` statement), [`e.__cause__`](command:_github.copilot.openSymbolFromReferences?%5B%7B%22%24mid%22%3A1%2C%22fsPath%22%3A%22%2FUsers%2Fteslim%2FLibrary%2FCloudStorage%2FOneDrive-TeslimUthmanAdeyanju%2FTeSlim_Data_Scientist%2F03_Python%2FTeslim_python_study_note%2FTeslim_python_bootcamp%2F08_python_exceptions_errors%2F01-exception_error.ipynb%22%2C%22path%22%3A%22%2FUsers%2Fteslim%2FLibrary%2FCloudStorage%2FOneDrive-TeslimUthmanAdeyanju%2FTeSlim_Data_Scientist%2F03_Python%2FTeslim_python_study_note%2FTeslim_python_bootcamp%2F08_python_exceptions_errors%2F01-exception_error.ipynb%22%2C%22scheme%22%3A%22vscode-notebook-cell%22%2C%22fragment%22%3A%22Y115sZmlsZQ%3D%3D%22%7D%2C%7B%22line%22%3A8%2C%22character%22%3A25%7D%5D \"/Users/teslim/Library/CloudStorage/OneDrive-TeslimUthmanAdeyanju/TeSlim_Data_Scientist/03_Python/Teslim_python_study_note/Teslim_python_bootcamp/08_python_exceptions_errors/01-exception_error.ipynb\") would be the [`ValueError`](command:_github.copilot.openSymbolFromReferences?%5B%7B%22%24mid%22%3A1%2C%22path%22%3A%22%2FUsers%2Fteslim%2F.vscode%2Fextensions%2Fms-python.vscode-pylance-2024.5.1%2Fdist%2Ftypeshed-fallback%2Fstdlib%2Fbuiltins.pyi%22%2C%22scheme%22%3A%22file%22%7D%2C%7B%22line%22%3A1888%2C%22character%22%3A6%7D%5D \"../../../../.vscode/extensions/ms-python.vscode-pylance-2024.5.1/dist/typeshed-fallback/stdlib/builtins.pyi\") that was caught in [`wrapper_function`](command:_github.copilot.openSymbolFromReferences?%5B%7B%22%24mid%22%3A1%2C%22fsPath%22%3A%22%2FUsers%2Fteslim%2FLibrary%2FCloudStorage%2FOneDrive-TeslimUthmanAdeyanju%2FTeSlim_Data_Scientist%2F03_Python%2FTeslim_python_study_note%2FTeslim_python_bootcamp%2F08_python_exceptions_errors%2F01-exception_error.ipynb%22%2C%22path%22%3A%22%2FUsers%2Fteslim%2FLibrary%2FCloudStorage%2FOneDrive-TeslimUthmanAdeyanju%2FTeSlim_Data_Scientist%2F03_Python%2FTeslim_python_study_note%2FTeslim_python_bootcamp%2F08_python_exceptions_errors%2F01-exception_error.ipynb%22%2C%22scheme%22%3A%22vscode-notebook-cell%22%2C%22fragment%22%3A%22Y115sZmlsZQ%3D%3D%22%7D%2C%7B%22line%22%3A5%2C%22character%22%3A4%7D%5D \"/Users/teslim/Library/CloudStorage/OneDrive-TeslimUthmanAdeyanju/TeSlim_Data_Scientist/03_Python/Teslim_python_study_note/Teslim_python_bootcamp/08_python_exceptions_errors/01-exception_error.ipynb\"), and \"Original exception: Initial exception\" would be printed."
   ]
  },
  {
   "cell_type": "markdown",
   "metadata": {},
   "source": [
    "Example: Using Exception Chaining for More Context  \n",
    "Consider a scenario where a low-level function encounters an error, and a higher-level function needs to provide more context about this error."
   ]
  },
  {
   "cell_type": "code",
   "execution_count": 24,
   "metadata": {},
   "outputs": [
    {
     "name": "stdout",
     "output_type": "stream",
     "text": [
      "Caught RuntimeError: Product processing failed due to missing product\n",
      "Original exception: Product with ID 0 not found\n",
      "Caught RuntimeError: Product processing failed due to database issues\n",
      "Original exception: Failed to connect to the database\n",
      "Processing product: {'id': 1, 'name': 'Sample Product'}\n"
     ]
    }
   ],
   "source": [
    "class ProductNotFoundError(Exception):\n",
    "    \"\"\"Exception raised when the product is not found in the database.\"\"\"\n",
    "    pass\n",
    "\n",
    "class DatabaseConnectionError(Exception):\n",
    "    \"\"\"Exception raised when there is a failure in database connection.\"\"\"\n",
    "    pass\n",
    "\n",
    "def fetch_product_details(product_id):\n",
    "    # Simulate product not found condition\n",
    "    if product_id == 0:\n",
    "        raise ProductNotFoundError(f\"Product with ID {product_id} not found\")\n",
    "    # Simulate database connection failure\n",
    "    if product_id == -1:\n",
    "        raise DatabaseConnectionError(\"Failed to connect to the database\")\n",
    "    # Simulate successful fetch\n",
    "    return {\"id\": product_id, \"name\": \"Sample Product\"}\n",
    "\n",
    "def process_product(product_id):\n",
    "    try:\n",
    "        product_details = fetch_product_details(product_id)\n",
    "        print(f\"Processing product: {product_details}\")\n",
    "        # Further processing logic...\n",
    "    except ProductNotFoundError as e:\n",
    "        raise RuntimeError(\"Product processing failed due to missing product\") from e\n",
    "    except DatabaseConnectionError as e:\n",
    "        raise RuntimeError(\"Product processing failed due to database issues\") from e\n",
    "\n",
    "# Test the implementation\n",
    "try:\n",
    "    process_product(0)  # This will raise ProductNotFoundError\n",
    "except RuntimeError as e:\n",
    "    print(f\"Caught RuntimeError: {e}\")\n",
    "    print(f\"Original exception: {e.__cause__}\")\n",
    "\n",
    "try:\n",
    "    process_product(-1)  # This will raise DatabaseConnectionError\n",
    "except RuntimeError as e:\n",
    "    print(f\"Caught RuntimeError: {e}\")\n",
    "    print(f\"Original exception: {e.__cause__}\")\n",
    "\n",
    "try:\n",
    "    process_product(1)  # This will successfully process the product\n",
    "except RuntimeError as e:\n",
    "    print(f\"Caught RuntimeError: {e}\")\n",
    "    print(f\"Original exception: {e.__cause__}\")\n"
   ]
  },
  {
   "cell_type": "markdown",
   "metadata": {},
   "source": [
    "**Summary**  \n",
    "\n",
    "1. Automatic Exception Chaining: Python automatically chains exceptions when a new exception is raised inside an except or finally block.\n",
    "\n",
    "1. Manual Exception Chaining: Use raise ... from ... to explicitly chain exceptions, providing more context about the error.  \n",
    "1. Disabling Exception Chaining: Use from None to disable automatic chaining, indicating that the new exception is not caused by a previous one.\n",
    "\n",
    "By using exception chaining effectively, you can create more informative error messages and improve the debugging process, as it provides a clear path of how an error propagates through your code."
   ]
  },
  {
   "cell_type": "markdown",
   "metadata": {},
   "source": [
    "#### 7.0 Custom and User-defined Exceptions\n",
    "___"
   ]
  },
  {
   "cell_type": "markdown",
   "metadata": {},
   "source": [
    "User-defined exceptions, also known as custom exceptions, allow you to create specific error conditions that are relevant to your application's domain. By creating custom exceptions, you can make your code more readable and provide more meaningful error messages.\n",
    "\n",
    "To create a custom exception, you define a new class that inherits from the built-in Exception class (or any other built-in exception class).\n",
    "\n",
    "**Steps to Create and Use Custom Exceptions**\n",
    "\n",
    "1. Define the Custom Exception Class: Create a new class that inherits from Exception.\n",
    "1. Raise the Custom Exception: Use the raise statement to trigger the custom exception.\n",
    "1. Handle the Custom Exception: Use try and except blocks to catch and handle the custom exception."
   ]
  },
  {
   "cell_type": "markdown",
   "metadata": {},
   "source": [
    "Example: Custom Exceptions for Product Management   \n",
    "\n",
    "\n",
    "Step 1: Define Custom Exception Classes"
   ]
  },
  {
   "cell_type": "code",
   "execution_count": 25,
   "metadata": {},
   "outputs": [],
   "source": [
    "class ProductError(Exception):\n",
    "    \"\"\"Base class for other exceptions related to products.\"\"\"\n",
    "    pass\n",
    "\n",
    "class ProductNotFoundError(ProductError):\n",
    "    \"\"\"Exception raised when the product is not found in the database.\"\"\"\n",
    "    def __init__(self, product_id, message=\"Product not found\"):\n",
    "        self.product_id = product_id\n",
    "        self.message = message\n",
    "        super().__init__(self.message)\n",
    "\n",
    "class InvalidProductError(ProductError):\n",
    "    \"\"\"Exception raised when the product data is invalid.\"\"\"\n",
    "    def __init__(self, product_id, message=\"Invalid product data\"):\n",
    "        self.product_id = product_id\n",
    "        self.message = message\n",
    "        super().__init__(self.message)\n"
   ]
  },
  {
   "cell_type": "markdown",
   "metadata": {},
   "source": [
    "Step 2: Use Custom Exceptions in Functions"
   ]
  },
  {
   "cell_type": "code",
   "execution_count": 26,
   "metadata": {},
   "outputs": [],
   "source": [
    "def fetch_product(product_id):\n",
    "    # Simulate product not found condition\n",
    "    if product_id == 0:\n",
    "        raise ProductNotFoundError(product_id)\n",
    "    # Simulate invalid product data\n",
    "    if product_id == -1:\n",
    "        raise InvalidProductError(product_id)\n",
    "    # Simulate successful fetch\n",
    "    return {\"id\": product_id, \"name\": \"Sample Product\"}\n",
    "\n",
    "def process_product(product_id):\n",
    "    try:\n",
    "        product_details = fetch_product(product_id)\n",
    "        print(f\"Processing product: {product_details}\")\n",
    "        # Further processing logic...\n",
    "    except ProductNotFoundError as e:\n",
    "        print(f\"Error: {e.message} (Product ID: {e.product_id})\")\n",
    "    except InvalidProductError as e:\n",
    "        print(f\"Error: {e.message} (Product ID: {e.product_id})\")\n"
   ]
  },
  {
   "cell_type": "markdown",
   "metadata": {},
   "source": [
    "Step 3: Handle Custom Exceptions"
   ]
  },
  {
   "cell_type": "code",
   "execution_count": 27,
   "metadata": {},
   "outputs": [
    {
     "name": "stdout",
     "output_type": "stream",
     "text": [
      "Error: Product not found (Product ID: 0)\n",
      "Error: Invalid product data (Product ID: -1)\n",
      "Processing product: {'id': 1, 'name': 'Sample Product'}\n"
     ]
    }
   ],
   "source": [
    "# Test the implementation\n",
    "try:\n",
    "    process_product(0)  # This will raise ProductNotFoundError\n",
    "except ProductError as e:\n",
    "    print(f\"Caught a product-related error: {e}\")\n",
    "\n",
    "try:\n",
    "    process_product(-1)  # This will raise InvalidProductError\n",
    "except ProductError as e:\n",
    "    print(f\"Caught a product-related error: {e}\")\n",
    "\n",
    "try:\n",
    "    process_product(1)  # This will successfully process the product\n",
    "except ProductError as e:\n",
    "    print(f\"Caught a product-related error: {e}\")\n"
   ]
  },
  {
   "cell_type": "markdown",
   "metadata": {},
   "source": [
    "![alt text](../../../Teslim_python_cheat/Exception_custombase.png)"
   ]
  },
  {
   "cell_type": "markdown",
   "metadata": {},
   "source": [
    "Another Example "
   ]
  },
  {
   "cell_type": "code",
   "execution_count": 28,
   "metadata": {},
   "outputs": [
    {
     "name": "stdout",
     "output_type": "stream",
     "text": [
      "Great! value in correct range.\n"
     ]
    }
   ],
   "source": [
    "class Error(Exception):\n",
    "    \"\"\"Base class for other exceptions\"\"\"\n",
    "    pass\n",
    "\n",
    "class ValueTooSmallError(Error):\n",
    "    \"\"\"Raised when the input value is small\"\"\"\n",
    "    pass\n",
    "\n",
    "class ValueTooLargeError(Error):\n",
    "    \"\"\"Raised when the input value is large\"\"\"\n",
    "    pass\n",
    "\n",
    "while(True):\n",
    "    try:\n",
    "        num = int(input(\"Enter any value in 10 to 50 range: \"))\n",
    "        if num < 10:\n",
    "            raise ValueTooSmallError\n",
    "        elif num > 50:\n",
    "            raise ValueTooLargeError\n",
    "        break\n",
    "    except ValueTooSmallError:\n",
    "            print(\"Value is below range..try again\")\n",
    "\n",
    "    except ValueTooLargeError:\n",
    "            print(\"value out of range...try again\")\n",
    "\n",
    "print(\"Great! value in correct range.\")"
   ]
  },
  {
   "cell_type": "markdown",
   "metadata": {},
   "source": [
    "In the above example, we create two custom classes or user-defined classes with names, ValueTooSmallError and ValueTooLargeError.When the entered value is below the range, it will raise ValueTooSmallError and if the value is out of then, it will raise ValueTooLargeError."
   ]
  },
  {
   "cell_type": "markdown",
   "metadata": {},
   "source": [
    "This Python code is a simple example of exception handling. It defines a custom base exception class [`Error`](command:_github.copilot.openSymbolFromReferences?%5B%7B%22%24mid%22%3A1%2C%22fsPath%22%3A%22%2FUsers%2Fteslim%2FLibrary%2FCloudStorage%2FOneDrive-TeslimUthmanAdeyanju%2FTeSlim_Data_Scientist%2F03_Python%2FTeslim_python_study_note%2FTeslim_python_bootcamp%2F08_python_exceptions_errors%2F01-exception_error.ipynb%22%2C%22path%22%3A%22%2FUsers%2Fteslim%2FLibrary%2FCloudStorage%2FOneDrive-TeslimUthmanAdeyanju%2FTeSlim_Data_Scientist%2F03_Python%2FTeslim_python_study_note%2FTeslim_python_bootcamp%2F08_python_exceptions_errors%2F01-exception_error.ipynb%22%2C%22scheme%22%3A%22vscode-notebook-cell%22%2C%22fragment%22%3A%22Y143sZmlsZQ%3D%3D%22%7D%2C%7B%22line%22%3A0%2C%22character%22%3A6%7D%5D \"/Users/teslim/Library/CloudStorage/OneDrive-TeslimUthmanAdeyanju/TeSlim_Data_Scientist/03_Python/Teslim_python_study_note/Teslim_python_bootcamp/08_python_exceptions_errors/01-exception_error.ipynb\") and two specific exceptions [`ValueTooSmallError`](command:_github.copilot.openSymbolFromReferences?%5B%7B%22%24mid%22%3A1%2C%22fsPath%22%3A%22%2FUsers%2Fteslim%2FLibrary%2FCloudStorage%2FOneDrive-TeslimUthmanAdeyanju%2FTeSlim_Data_Scientist%2F03_Python%2FTeslim_python_study_note%2FTeslim_python_bootcamp%2F08_python_exceptions_errors%2F01-exception_error.ipynb%22%2C%22path%22%3A%22%2FUsers%2Fteslim%2FLibrary%2FCloudStorage%2FOneDrive-TeslimUthmanAdeyanju%2FTeSlim_Data_Scientist%2F03_Python%2FTeslim_python_study_note%2FTeslim_python_bootcamp%2F08_python_exceptions_errors%2F01-exception_error.ipynb%22%2C%22scheme%22%3A%22vscode-notebook-cell%22%2C%22fragment%22%3A%22Y143sZmlsZQ%3D%3D%22%7D%2C%7B%22line%22%3A4%2C%22character%22%3A6%7D%5D \"/Users/teslim/Library/CloudStorage/OneDrive-TeslimUthmanAdeyanju/TeSlim_Data_Scientist/03_Python/Teslim_python_study_note/Teslim_python_bootcamp/08_python_exceptions_errors/01-exception_error.ipynb\") and [`ValueTooLargeError`](command:_github.copilot.openSymbolFromReferences?%5B%7B%22%24mid%22%3A1%2C%22fsPath%22%3A%22%2FUsers%2Fteslim%2FLibrary%2FCloudStorage%2FOneDrive-TeslimUthmanAdeyanju%2FTeSlim_Data_Scientist%2F03_Python%2FTeslim_python_study_note%2FTeslim_python_bootcamp%2F08_python_exceptions_errors%2F01-exception_error.ipynb%22%2C%22path%22%3A%22%2FUsers%2Fteslim%2FLibrary%2FCloudStorage%2FOneDrive-TeslimUthmanAdeyanju%2FTeSlim_Data_Scientist%2F03_Python%2FTeslim_python_study_note%2FTeslim_python_bootcamp%2F08_python_exceptions_errors%2F01-exception_error.ipynb%22%2C%22scheme%22%3A%22vscode-notebook-cell%22%2C%22fragment%22%3A%22Y143sZmlsZQ%3D%3D%22%7D%2C%7B%22line%22%3A8%2C%22character%22%3A6%7D%5D \"/Users/teslim/Library/CloudStorage/OneDrive-TeslimUthmanAdeyanju/TeSlim_Data_Scientist/03_Python/Teslim_python_study_note/Teslim_python_bootcamp/08_python_exceptions_errors/01-exception_error.ipynb\") that inherit from [`Error`](command:_github.copilot.openSymbolFromReferences?%5B%7B%22%24mid%22%3A1%2C%22fsPath%22%3A%22%2FUsers%2Fteslim%2FLibrary%2FCloudStorage%2FOneDrive-TeslimUthmanAdeyanju%2FTeSlim_Data_Scientist%2F03_Python%2FTeslim_python_study_note%2FTeslim_python_bootcamp%2F08_python_exceptions_errors%2F01-exception_error.ipynb%22%2C%22path%22%3A%22%2FUsers%2Fteslim%2FLibrary%2FCloudStorage%2FOneDrive-TeslimUthmanAdeyanju%2FTeSlim_Data_Scientist%2F03_Python%2FTeslim_python_study_note%2FTeslim_python_bootcamp%2F08_python_exceptions_errors%2F01-exception_error.ipynb%22%2C%22scheme%22%3A%22vscode-notebook-cell%22%2C%22fragment%22%3A%22Y143sZmlsZQ%3D%3D%22%7D%2C%7B%22line%22%3A0%2C%22character%22%3A6%7D%5D \"/Users/teslim/Library/CloudStorage/OneDrive-TeslimUthmanAdeyanju/TeSlim_Data_Scientist/03_Python/Teslim_python_study_note/Teslim_python_bootcamp/08_python_exceptions_errors/01-exception_error.ipynb\"). These exceptions are used to handle specific error conditions when a user inputs a number.\n",
    "\n",
    "The `while(True)` loop runs indefinitely until a `break` statement is encountered. Inside the loop, the `try` block attempts to execute its code. It asks the user to input a number and converts it to an integer. If the number is less than 10, it raises a [`ValueTooSmallError`](command:_github.copilot.openSymbolFromReferences?%5B%7B%22%24mid%22%3A1%2C%22fsPath%22%3A%22%2FUsers%2Fteslim%2FLibrary%2FCloudStorage%2FOneDrive-TeslimUthmanAdeyanju%2FTeSlim_Data_Scientist%2F03_Python%2FTeslim_python_study_note%2FTeslim_python_bootcamp%2F08_python_exceptions_errors%2F01-exception_error.ipynb%22%2C%22path%22%3A%22%2FUsers%2Fteslim%2FLibrary%2FCloudStorage%2FOneDrive-TeslimUthmanAdeyanju%2FTeSlim_Data_Scientist%2F03_Python%2FTeslim_python_study_note%2FTeslim_python_bootcamp%2F08_python_exceptions_errors%2F01-exception_error.ipynb%22%2C%22scheme%22%3A%22vscode-notebook-cell%22%2C%22fragment%22%3A%22Y143sZmlsZQ%3D%3D%22%7D%2C%7B%22line%22%3A4%2C%22character%22%3A6%7D%5D \"/Users/teslim/Library/CloudStorage/OneDrive-TeslimUthmanAdeyanju/TeSlim_Data_Scientist/03_Python/Teslim_python_study_note/Teslim_python_bootcamp/08_python_exceptions_errors/01-exception_error.ipynb\"), and if the number is greater than 50, it raises a [`ValueTooLargeError`](command:_github.copilot.openSymbolFromReferences?%5B%7B%22%24mid%22%3A1%2C%22fsPath%22%3A%22%2FUsers%2Fteslim%2FLibrary%2FCloudStorage%2FOneDrive-TeslimUthmanAdeyanju%2FTeSlim_Data_Scientist%2F03_Python%2FTeslim_python_study_note%2FTeslim_python_bootcamp%2F08_python_exceptions_errors%2F01-exception_error.ipynb%22%2C%22path%22%3A%22%2FUsers%2Fteslim%2FLibrary%2FCloudStorage%2FOneDrive-TeslimUthmanAdeyanju%2FTeSlim_Data_Scientist%2F03_Python%2FTeslim_python_study_note%2FTeslim_python_bootcamp%2F08_python_exceptions_errors%2F01-exception_error.ipynb%22%2C%22scheme%22%3A%22vscode-notebook-cell%22%2C%22fragment%22%3A%22Y143sZmlsZQ%3D%3D%22%7D%2C%7B%22line%22%3A8%2C%22character%22%3A6%7D%5D \"/Users/teslim/Library/CloudStorage/OneDrive-TeslimUthmanAdeyanju/TeSlim_Data_Scientist/03_Python/Teslim_python_study_note/Teslim_python_bootcamp/08_python_exceptions_errors/01-exception_error.ipynb\").\n",
    "\n",
    "If an exception is raised, the execution moves to the `except` block that matches the exception. If a [`ValueTooSmallError`](command:_github.copilot.openSymbolFromReferences?%5B%7B%22%24mid%22%3A1%2C%22fsPath%22%3A%22%2FUsers%2Fteslim%2FLibrary%2FCloudStorage%2FOneDrive-TeslimUthmanAdeyanju%2FTeSlim_Data_Scientist%2F03_Python%2FTeslim_python_study_note%2FTeslim_python_bootcamp%2F08_python_exceptions_errors%2F01-exception_error.ipynb%22%2C%22path%22%3A%22%2FUsers%2Fteslim%2FLibrary%2FCloudStorage%2FOneDrive-TeslimUthmanAdeyanju%2FTeSlim_Data_Scientist%2F03_Python%2FTeslim_python_study_note%2FTeslim_python_bootcamp%2F08_python_exceptions_errors%2F01-exception_error.ipynb%22%2C%22scheme%22%3A%22vscode-notebook-cell%22%2C%22fragment%22%3A%22Y143sZmlsZQ%3D%3D%22%7D%2C%7B%22line%22%3A4%2C%22character%22%3A6%7D%5D \"/Users/teslim/Library/CloudStorage/OneDrive-TeslimUthmanAdeyanju/TeSlim_Data_Scientist/03_Python/Teslim_python_study_note/Teslim_python_bootcamp/08_python_exceptions_errors/01-exception_error.ipynb\") is raised, it prints \"Value is below range..try again\". If a [`ValueTooLargeError`](command:_github.copilot.openSymbolFromReferences?%5B%7B%22%24mid%22%3A1%2C%22fsPath%22%3A%22%2FUsers%2Fteslim%2FLibrary%2FCloudStorage%2FOneDrive-TeslimUthmanAdeyanju%2FTeSlim_Data_Scientist%2F03_Python%2FTeslim_python_study_note%2FTeslim_python_bootcamp%2F08_python_exceptions_errors%2F01-exception_error.ipynb%22%2C%22path%22%3A%22%2FUsers%2Fteslim%2FLibrary%2FCloudStorage%2FOneDrive-TeslimUthmanAdeyanju%2FTeSlim_Data_Scientist%2F03_Python%2FTeslim_python_study_note%2FTeslim_python_bootcamp%2F08_python_exceptions_errors%2F01-exception_error.ipynb%22%2C%22scheme%22%3A%22vscode-notebook-cell%22%2C%22fragment%22%3A%22Y143sZmlsZQ%3D%3D%22%7D%2C%7B%22line%22%3A8%2C%22character%22%3A6%7D%5D \"/Users/teslim/Library/CloudStorage/OneDrive-TeslimUthmanAdeyanju/TeSlim_Data_Scientist/03_Python/Teslim_python_study_note/Teslim_python_bootcamp/08_python_exceptions_errors/01-exception_error.ipynb\") is raised, it prints \"value out of range...try again\". After handling the exception, the execution goes back to the start of the `while` loop.\n",
    "\n",
    "If the input number is within the range 10 to 50, no exception is raised, and the `break` statement is executed. This breaks the loop, and the program prints \"Great! value in correct range.\" and ends."
   ]
  },
  {
   "cell_type": "markdown",
   "metadata": {},
   "source": [
    "**Customizing Exception Classes**\n",
    "\n",
    "We can customize the classes by accepting arguments as per our requirements. Any custom exception class must be Extending from `BaseException` class or subclass of `BaseException`.\n",
    "\n",
    "In the above example, we create a custom class that is inherited from the base class `Exception`. This class takes one argument age. When entered age is negative, it will raise `NegativeAgeError`."
   ]
  },
  {
   "cell_type": "code",
   "execution_count": 30,
   "metadata": {},
   "outputs": [],
   "source": [
    "class NegativeAgeError(Exception):\n",
    "\n",
    "    def __init__(self, age, ):\n",
    "        message = \"Age should not be negative\"\n",
    "        self.age = age\n",
    "        self.message = message\n",
    "\n",
    "age = int(input(\"Enter age: \"))\n",
    "if age < 0:\n",
    "    raise NegativeAgeError(age)\n",
    "# Output:\n",
    "# raise NegativeAgeError(age)\n",
    "# __main__.NegativeAgeError: -9\n"
   ]
  },
  {
   "cell_type": "markdown",
   "metadata": {},
   "source": [
    "#### 8.0 Exception Lifecycle in Python\n",
    "___"
   ]
  },
  {
   "cell_type": "markdown",
   "metadata": {},
   "source": [
    "When an exception is raised in a Python program, the runtime system undertakes a series of steps to manage this exception. This process involves searching for an appropriate handler that can deal with the exception. The sequence of these steps is often referred to as the exception lifecycle.\n",
    "\n",
    "**Steps in the Exception Lifecycle**\n",
    "\n",
    "1. Raising the Exception: An exception is triggered (raised) either by the Python runtime or explicitly in the code using the raise statement.\n",
    "\n",
    "1. Searching for an Exception Handler: The runtime system starts searching for an appropriate exception handler. This search follows the call stack, which is the ordered list of method calls that led to the point where the exception was raised.\n",
    "\n",
    "1. Backtracking the Call Stack: The runtime system moves up the call stack, from the most recent method call to the earlier ones, looking for an except block that can handle the raised exception.\n",
    "\n",
    "1. Handling the Exception:\n",
    "\n",
    "* Found a Handler: If a suitable handler is found, the exception can be either:  \n",
    "   - Handled: The code within the except block executes, addressing the exception (e.g., logging the error, providing an alternative execution path, etc.).\n",
    "\n",
    "   - Re-raised: The exception can be re-thrown using the raise statement, either as the same exception or a different one, to be handled at a higher level in the call stack.\n",
    "\n",
    "* Handler Not Found: If no appropriate handler is found by the time the runtime system reaches the beginning of the call stack, the exception is considered unhandled.\n",
    "\n",
    "5. Unhandled Exception: If the exception remains unhandled, the runtime system prints a traceback to the standard error console, detailing the call stack and the exception that occurred. This usually results in the program's termination.\n",
    "\n"
   ]
  },
  {
   "cell_type": "code",
   "execution_count": 31,
   "metadata": {},
   "outputs": [
    {
     "name": "stdout",
     "output_type": "stream",
     "text": [
      "Entering level one\n",
      "Entering level two\n",
      "Entering level three\n",
      "Caught ValueError in level two: An error occurred in level three\n",
      "Caught ValueError in level one: An error occurred in level three\n",
      "Exiting level one\n"
     ]
    }
   ],
   "source": [
    "def level_three():\n",
    "    print(\"Entering level three\")\n",
    "    raise ValueError(\"An error occurred in level three\")\n",
    "    print(\"Exiting level three\")\n",
    "\n",
    "def level_two():\n",
    "    print(\"Entering level two\")\n",
    "    try:\n",
    "        level_three()\n",
    "    except ValueError as e:\n",
    "        print(f\"Caught ValueError in level two: {e}\")\n",
    "        # Re-raise the exception to propagate it further up\n",
    "        raise\n",
    "    print(\"Exiting level two\")\n",
    "\n",
    "def level_one():\n",
    "    print(\"Entering level one\")\n",
    "    try:\n",
    "        level_two()\n",
    "    except ValueError as e:\n",
    "        print(f\"Caught ValueError in level one: {e}\")\n",
    "    print(\"Exiting level one\")\n",
    "\n",
    "try:\n",
    "    level_one()\n",
    "except ValueError as e:\n",
    "    print(f\"Caught ValueError in main: {e}\")\n"
   ]
  },
  {
   "cell_type": "markdown",
   "metadata": {},
   "source": [
    "![alt text](<../../../Teslim_python_cheat/Exception Life Cycle.png>)"
   ]
  },
  {
   "cell_type": "markdown",
   "metadata": {},
   "source": [
    "This Python code demonstrates the concept of exception handling and propagation in a multi-level function call stack. There are three functions: [`level_one`](command:_github.copilot.openSymbolFromReferences?%5B%7B%22%24mid%22%3A1%2C%22fsPath%22%3A%22%2FUsers%2Fteslim%2FLibrary%2FCloudStorage%2FOneDrive-TeslimUthmanAdeyanju%2FTeSlim_Data_Scientist%2F03_Python%2FTeslim_python_study_note%2FTeslim_python_bootcamp%2F08_python_exceptions_errors%2F01-exception_error.ipynb%22%2C%22path%22%3A%22%2FUsers%2Fteslim%2FLibrary%2FCloudStorage%2FOneDrive-TeslimUthmanAdeyanju%2FTeSlim_Data_Scientist%2F03_Python%2FTeslim_python_study_note%2FTeslim_python_bootcamp%2F08_python_exceptions_errors%2F01-exception_error.ipynb%22%2C%22scheme%22%3A%22vscode-notebook-cell%22%2C%22fragment%22%3A%22Y156sZmlsZQ%3D%3D%22%7D%2C%7B%22line%22%3A15%2C%22character%22%3A4%7D%5D \"/Users/teslim/Library/CloudStorage/OneDrive-TeslimUthmanAdeyanju/TeSlim_Data_Scientist/03_Python/Teslim_python_study_note/Teslim_python_bootcamp/08_python_exceptions_errors/01-exception_error.ipynb\"), [`level_two`](command:_github.copilot.openSymbolFromReferences?%5B%7B%22%24mid%22%3A1%2C%22fsPath%22%3A%22%2FUsers%2Fteslim%2FLibrary%2FCloudStorage%2FOneDrive-TeslimUthmanAdeyanju%2FTeSlim_Data_Scientist%2F03_Python%2FTeslim_python_study_note%2FTeslim_python_bootcamp%2F08_python_exceptions_errors%2F01-exception_error.ipynb%22%2C%22path%22%3A%22%2FUsers%2Fteslim%2FLibrary%2FCloudStorage%2FOneDrive-TeslimUthmanAdeyanju%2FTeSlim_Data_Scientist%2F03_Python%2FTeslim_python_study_note%2FTeslim_python_bootcamp%2F08_python_exceptions_errors%2F01-exception_error.ipynb%22%2C%22scheme%22%3A%22vscode-notebook-cell%22%2C%22fragment%22%3A%22Y156sZmlsZQ%3D%3D%22%7D%2C%7B%22line%22%3A5%2C%22character%22%3A4%7D%5D \"/Users/teslim/Library/CloudStorage/OneDrive-TeslimUthmanAdeyanju/TeSlim_Data_Scientist/03_Python/Teslim_python_study_note/Teslim_python_bootcamp/08_python_exceptions_errors/01-exception_error.ipynb\"), and [`level_three`](command:_github.copilot.openSymbolFromReferences?%5B%7B%22%24mid%22%3A1%2C%22fsPath%22%3A%22%2FUsers%2Fteslim%2FLibrary%2FCloudStorage%2FOneDrive-TeslimUthmanAdeyanju%2FTeSlim_Data_Scientist%2F03_Python%2FTeslim_python_study_note%2FTeslim_python_bootcamp%2F08_python_exceptions_errors%2F01-exception_error.ipynb%22%2C%22path%22%3A%22%2FUsers%2Fteslim%2FLibrary%2FCloudStorage%2FOneDrive-TeslimUthmanAdeyanju%2FTeSlim_Data_Scientist%2F03_Python%2FTeslim_python_study_note%2FTeslim_python_bootcamp%2F08_python_exceptions_errors%2F01-exception_error.ipynb%22%2C%22scheme%22%3A%22vscode-notebook-cell%22%2C%22fragment%22%3A%22Y156sZmlsZQ%3D%3D%22%7D%2C%7B%22line%22%3A0%2C%22character%22%3A4%7D%5D \"/Users/teslim/Library/CloudStorage/OneDrive-TeslimUthmanAdeyanju/TeSlim_Data_Scientist/03_Python/Teslim_python_study_note/Teslim_python_bootcamp/08_python_exceptions_errors/01-exception_error.ipynb\"). Each function represents a level in the call stack.\n",
    "\n",
    "The function [`level_three`](command:_github.copilot.openSymbolFromReferences?%5B%7B%22%24mid%22%3A1%2C%22fsPath%22%3A%22%2FUsers%2Fteslim%2FLibrary%2FCloudStorage%2FOneDrive-TeslimUthmanAdeyanju%2FTeSlim_Data_Scientist%2F03_Python%2FTeslim_python_study_note%2FTeslim_python_bootcamp%2F08_python_exceptions_errors%2F01-exception_error.ipynb%22%2C%22path%22%3A%22%2FUsers%2Fteslim%2FLibrary%2FCloudStorage%2FOneDrive-TeslimUthmanAdeyanju%2FTeSlim_Data_Scientist%2F03_Python%2FTeslim_python_study_note%2FTeslim_python_bootcamp%2F08_python_exceptions_errors%2F01-exception_error.ipynb%22%2C%22scheme%22%3A%22vscode-notebook-cell%22%2C%22fragment%22%3A%22Y156sZmlsZQ%3D%3D%22%7D%2C%7B%22line%22%3A0%2C%22character%22%3A4%7D%5D \"/Users/teslim/Library/CloudStorage/OneDrive-TeslimUthmanAdeyanju/TeSlim_Data_Scientist/03_Python/Teslim_python_study_note/Teslim_python_bootcamp/08_python_exceptions_errors/01-exception_error.ipynb\") is the lowest level in the call stack. It prints a message \"Entering level three\", then raises a [`ValueError`](command:_github.copilot.openSymbolFromReferences?%5B%7B%22%24mid%22%3A1%2C%22path%22%3A%22%2FUsers%2Fteslim%2F.vscode%2Fextensions%2Fms-python.vscode-pylance-2024.5.1%2Fdist%2Ftypeshed-fallback%2Fstdlib%2Fbuiltins.pyi%22%2C%22scheme%22%3A%22file%22%7D%2C%7B%22line%22%3A1888%2C%22character%22%3A6%7D%5D \"../../../../.vscode/extensions/ms-python.vscode-pylance-2024.5.1/dist/typeshed-fallback/stdlib/builtins.pyi\") exception with the message \"An error occurred in level three\". The line \"Exiting level three\" is never executed because the exception is raised before it.\n",
    "\n",
    "The function [`level_two`](command:_github.copilot.openSymbolFromReferences?%5B%7B%22%24mid%22%3A1%2C%22fsPath%22%3A%22%2FUsers%2Fteslim%2FLibrary%2FCloudStorage%2FOneDrive-TeslimUthmanAdeyanju%2FTeSlim_Data_Scientist%2F03_Python%2FTeslim_python_study_note%2FTeslim_python_bootcamp%2F08_python_exceptions_errors%2F01-exception_error.ipynb%22%2C%22path%22%3A%22%2FUsers%2Fteslim%2FLibrary%2FCloudStorage%2FOneDrive-TeslimUthmanAdeyanju%2FTeSlim_Data_Scientist%2F03_Python%2FTeslim_python_study_note%2FTeslim_python_bootcamp%2F08_python_exceptions_errors%2F01-exception_error.ipynb%22%2C%22scheme%22%3A%22vscode-notebook-cell%22%2C%22fragment%22%3A%22Y156sZmlsZQ%3D%3D%22%7D%2C%7B%22line%22%3A5%2C%22character%22%3A4%7D%5D \"/Users/teslim/Library/CloudStorage/OneDrive-TeslimUthmanAdeyanju/TeSlim_Data_Scientist/03_Python/Teslim_python_study_note/Teslim_python_bootcamp/08_python_exceptions_errors/01-exception_error.ipynb\") calls [`level_three`](command:_github.copilot.openSymbolFromReferences?%5B%7B%22%24mid%22%3A1%2C%22fsPath%22%3A%22%2FUsers%2Fteslim%2FLibrary%2FCloudStorage%2FOneDrive-TeslimUthmanAdeyanju%2FTeSlim_Data_Scientist%2F03_Python%2FTeslim_python_study_note%2FTeslim_python_bootcamp%2F08_python_exceptions_errors%2F01-exception_error.ipynb%22%2C%22path%22%3A%22%2FUsers%2Fteslim%2FLibrary%2FCloudStorage%2FOneDrive-TeslimUthmanAdeyanju%2FTeSlim_Data_Scientist%2F03_Python%2FTeslim_python_study_note%2FTeslim_python_bootcamp%2F08_python_exceptions_errors%2F01-exception_error.ipynb%22%2C%22scheme%22%3A%22vscode-notebook-cell%22%2C%22fragment%22%3A%22Y156sZmlsZQ%3D%3D%22%7D%2C%7B%22line%22%3A0%2C%22character%22%3A4%7D%5D \"/Users/teslim/Library/CloudStorage/OneDrive-TeslimUthmanAdeyanju/TeSlim_Data_Scientist/03_Python/Teslim_python_study_note/Teslim_python_bootcamp/08_python_exceptions_errors/01-exception_error.ipynb\") inside a `try` block. If [`level_three`](command:_github.copilot.openSymbolFromReferences?%5B%7B%22%24mid%22%3A1%2C%22fsPath%22%3A%22%2FUsers%2Fteslim%2FLibrary%2FCloudStorage%2FOneDrive-TeslimUthmanAdeyanju%2FTeSlim_Data_Scientist%2F03_Python%2FTeslim_python_study_note%2FTeslim_python_bootcamp%2F08_python_exceptions_errors%2F01-exception_error.ipynb%22%2C%22path%22%3A%22%2FUsers%2Fteslim%2FLibrary%2FCloudStorage%2FOneDrive-TeslimUthmanAdeyanju%2FTeSlim_Data_Scientist%2F03_Python%2FTeslim_python_study_note%2FTeslim_python_bootcamp%2F08_python_exceptions_errors%2F01-exception_error.ipynb%22%2C%22scheme%22%3A%22vscode-notebook-cell%22%2C%22fragment%22%3A%22Y156sZmlsZQ%3D%3D%22%7D%2C%7B%22line%22%3A0%2C%22character%22%3A4%7D%5D \"/Users/teslim/Library/CloudStorage/OneDrive-TeslimUthmanAdeyanju/TeSlim_Data_Scientist/03_Python/Teslim_python_study_note/Teslim_python_bootcamp/08_python_exceptions_errors/01-exception_error.ipynb\") raises a [`ValueError`](command:_github.copilot.openSymbolFromReferences?%5B%7B%22%24mid%22%3A1%2C%22path%22%3A%22%2FUsers%2Fteslim%2F.vscode%2Fextensions%2Fms-python.vscode-pylance-2024.5.1%2Fdist%2Ftypeshed-fallback%2Fstdlib%2Fbuiltins.pyi%22%2C%22scheme%22%3A%22file%22%7D%2C%7B%22line%22%3A1888%2C%22character%22%3A6%7D%5D \"../../../../.vscode/extensions/ms-python.vscode-pylance-2024.5.1/dist/typeshed-fallback/stdlib/builtins.pyi\"), [`level_two`](command:_github.copilot.openSymbolFromReferences?%5B%7B%22%24mid%22%3A1%2C%22fsPath%22%3A%22%2FUsers%2Fteslim%2FLibrary%2FCloudStorage%2FOneDrive-TeslimUthmanAdeyanju%2FTeSlim_Data_Scientist%2F03_Python%2FTeslim_python_study_note%2FTeslim_python_bootcamp%2F08_python_exceptions_errors%2F01-exception_error.ipynb%22%2C%22path%22%3A%22%2FUsers%2Fteslim%2FLibrary%2FCloudStorage%2FOneDrive-TeslimUthmanAdeyanju%2FTeSlim_Data_Scientist%2F03_Python%2FTeslim_python_study_note%2FTeslim_python_bootcamp%2F08_python_exceptions_errors%2F01-exception_error.ipynb%22%2C%22scheme%22%3A%22vscode-notebook-cell%22%2C%22fragment%22%3A%22Y156sZmlsZQ%3D%3D%22%7D%2C%7B%22line%22%3A5%2C%22character%22%3A4%7D%5D \"/Users/teslim/Library/CloudStorage/OneDrive-TeslimUthmanAdeyanju/TeSlim_Data_Scientist/03_Python/Teslim_python_study_note/Teslim_python_bootcamp/08_python_exceptions_errors/01-exception_error.ipynb\") catches it, prints a message including the error's message, and then re-raises the exception with the `raise` statement. This allows the exception to be propagated up the call stack. If no exception is raised, it would print \"Exiting level two\", but in this case, this line is also never executed due to the exception.\n",
    "\n",
    "The function [`level_one`](command:_github.copilot.openSymbolFromReferences?%5B%7B%22%24mid%22%3A1%2C%22fsPath%22%3A%22%2FUsers%2Fteslim%2FLibrary%2FCloudStorage%2FOneDrive-TeslimUthmanAdeyanju%2FTeSlim_Data_Scientist%2F03_Python%2FTeslim_python_study_note%2FTeslim_python_bootcamp%2F08_python_exceptions_errors%2F01-exception_error.ipynb%22%2C%22path%22%3A%22%2FUsers%2Fteslim%2FLibrary%2FCloudStorage%2FOneDrive-TeslimUthmanAdeyanju%2FTeSlim_Data_Scientist%2F03_Python%2FTeslim_python_study_note%2FTeslim_python_bootcamp%2F08_python_exceptions_errors%2F01-exception_error.ipynb%22%2C%22scheme%22%3A%22vscode-notebook-cell%22%2C%22fragment%22%3A%22Y156sZmlsZQ%3D%3D%22%7D%2C%7B%22line%22%3A15%2C%22character%22%3A4%7D%5D \"/Users/teslim/Library/CloudStorage/OneDrive-TeslimUthmanAdeyanju/TeSlim_Data_Scientist/03_Python/Teslim_python_study_note/Teslim_python_bootcamp/08_python_exceptions_errors/01-exception_error.ipynb\") works similarly to [`level_two`](command:_github.copilot.openSymbolFromReferences?%5B%7B%22%24mid%22%3A1%2C%22fsPath%22%3A%22%2FUsers%2Fteslim%2FLibrary%2FCloudStorage%2FOneDrive-TeslimUthmanAdeyanju%2FTeSlim_Data_Scientist%2F03_Python%2FTeslim_python_study_note%2FTeslim_python_bootcamp%2F08_python_exceptions_errors%2F01-exception_error.ipynb%22%2C%22path%22%3A%22%2FUsers%2Fteslim%2FLibrary%2FCloudStorage%2FOneDrive-TeslimUthmanAdeyanju%2FTeSlim_Data_Scientist%2F03_Python%2FTeslim_python_study_note%2FTeslim_python_bootcamp%2F08_python_exceptions_errors%2F01-exception_error.ipynb%22%2C%22scheme%22%3A%22vscode-notebook-cell%22%2C%22fragment%22%3A%22Y156sZmlsZQ%3D%3D%22%7D%2C%7B%22line%22%3A5%2C%22character%22%3A4%7D%5D \"/Users/teslim/Library/CloudStorage/OneDrive-TeslimUthmanAdeyanju/TeSlim_Data_Scientist/03_Python/Teslim_python_study_note/Teslim_python_bootcamp/08_python_exceptions_errors/01-exception_error.ipynb\"). It calls [`level_two`](command:_github.copilot.openSymbolFromReferences?%5B%7B%22%24mid%22%3A1%2C%22fsPath%22%3A%22%2FUsers%2Fteslim%2FLibrary%2FCloudStorage%2FOneDrive-TeslimUthmanAdeyanju%2FTeSlim_Data_Scientist%2F03_Python%2FTeslim_python_study_note%2FTeslim_python_bootcamp%2F08_python_exceptions_errors%2F01-exception_error.ipynb%22%2C%22path%22%3A%22%2FUsers%2Fteslim%2FLibrary%2FCloudStorage%2FOneDrive-TeslimUthmanAdeyanju%2FTeSlim_Data_Scientist%2F03_Python%2FTeslim_python_study_note%2FTeslim_python_bootcamp%2F08_python_exceptions_errors%2F01-exception_error.ipynb%22%2C%22scheme%22%3A%22vscode-notebook-cell%22%2C%22fragment%22%3A%22Y156sZmlsZQ%3D%3D%22%7D%2C%7B%22line%22%3A5%2C%22character%22%3A4%7D%5D \"/Users/teslim/Library/CloudStorage/OneDrive-TeslimUthmanAdeyanju/TeSlim_Data_Scientist/03_Python/Teslim_python_study_note/Teslim_python_bootcamp/08_python_exceptions_errors/01-exception_error.ipynb\") inside a `try` block and catches any [`ValueError`](command:_github.copilot.openSymbolFromReferences?%5B%7B%22%24mid%22%3A1%2C%22path%22%3A%22%2FUsers%2Fteslim%2F.vscode%2Fextensions%2Fms-python.vscode-pylance-2024.5.1%2Fdist%2Ftypeshed-fallback%2Fstdlib%2Fbuiltins.pyi%22%2C%22scheme%22%3A%22file%22%7D%2C%7B%22line%22%3A1888%2C%22character%22%3A6%7D%5D \"../../../../.vscode/extensions/ms-python.vscode-pylance-2024.5.1/dist/typeshed-fallback/stdlib/builtins.pyi\") that is raised. If such an exception is caught, it prints a message and then exits normally, because it does not re-raise the exception.\n",
    "\n",
    "Finally, the [`level_one`](command:_github.copilot.openSymbolFromReferences?%5B%7B%22%24mid%22%3A1%2C%22fsPath%22%3A%22%2FUsers%2Fteslim%2FLibrary%2FCloudStorage%2FOneDrive-TeslimUthmanAdeyanju%2FTeSlim_Data_Scientist%2F03_Python%2FTeslim_python_study_note%2FTeslim_python_bootcamp%2F08_python_exceptions_errors%2F01-exception_error.ipynb%22%2C%22path%22%3A%22%2FUsers%2Fteslim%2FLibrary%2FCloudStorage%2FOneDrive-TeslimUthmanAdeyanju%2FTeSlim_Data_Scientist%2F03_Python%2FTeslim_python_study_note%2FTeslim_python_bootcamp%2F08_python_exceptions_errors%2F01-exception_error.ipynb%22%2C%22scheme%22%3A%22vscode-notebook-cell%22%2C%22fragment%22%3A%22Y156sZmlsZQ%3D%3D%22%7D%2C%7B%22line%22%3A15%2C%22character%22%3A4%7D%5D \"/Users/teslim/Library/CloudStorage/OneDrive-TeslimUthmanAdeyanju/TeSlim_Data_Scientist/03_Python/Teslim_python_study_note/Teslim_python_bootcamp/08_python_exceptions_errors/01-exception_error.ipynb\") function is called inside a `try` block in the main part of the code. If a [`ValueError`](command:_github.copilot.openSymbolFromReferences?%5B%7B%22%24mid%22%3A1%2C%22path%22%3A%22%2FUsers%2Fteslim%2F.vscode%2Fextensions%2Fms-python.vscode-pylance-2024.5.1%2Fdist%2Ftypeshed-fallback%2Fstdlib%2Fbuiltins.pyi%22%2C%22scheme%22%3A%22file%22%7D%2C%7B%22line%22%3A1888%2C%22character%22%3A6%7D%5D \"../../../../.vscode/extensions/ms-python.vscode-pylance-2024.5.1/dist/typeshed-fallback/stdlib/builtins.pyi\") is raised, it is caught and a message is printed. In this case, because [`level_one`](command:_github.copilot.openSymbolFromReferences?%5B%7B%22%24mid%22%3A1%2C%22fsPath%22%3A%22%2FUsers%2Fteslim%2FLibrary%2FCloudStorage%2FOneDrive-TeslimUthmanAdeyanju%2FTeSlim_Data_Scientist%2F03_Python%2FTeslim_python_study_note%2FTeslim_python_bootcamp%2F08_python_exceptions_errors%2F01-exception_error.ipynb%22%2C%22path%22%3A%22%2FUsers%2Fteslim%2FLibrary%2FCloudStorage%2FOneDrive-TeslimUthmanAdeyanju%2FTeSlim_Data_Scientist%2F03_Python%2FTeslim_python_study_note%2FTeslim_python_bootcamp%2F08_python_exceptions_errors%2F01-exception_error.ipynb%22%2C%22scheme%22%3A%22vscode-notebook-cell%22%2C%22fragment%22%3A%22Y156sZmlsZQ%3D%3D%22%7D%2C%7B%22line%22%3A15%2C%22character%22%3A4%7D%5D \"/Users/teslim/Library/CloudStorage/OneDrive-TeslimUthmanAdeyanju/TeSlim_Data_Scientist/03_Python/Teslim_python_study_note/Teslim_python_bootcamp/08_python_exceptions_errors/01-exception_error.ipynb\") does not re-raise the exception, no exception is caught here.\n",
    "\n",
    "This code is a good demonstration of how exceptions propagate up the call stack and how they can be caught and handled at different levels. It also shows how the `raise` statement can be used to re-raise exceptions, allowing them to be caught and handled at a higher level."
   ]
  },
  {
   "cell_type": "markdown",
   "metadata": {},
   "source": [
    "**Unhandled Exception Example**\n",
    "\n",
    "If level_one did not have an except block for ValueError:"
   ]
  },
  {
   "cell_type": "code",
   "execution_count": 39,
   "metadata": {},
   "outputs": [
    {
     "name": "stdout",
     "output_type": "stream",
     "text": [
      "Entering level one\n",
      "Entering level two\n",
      "Entering level three\n",
      "Caught ValueError in level two: An error occurred in level three\n",
      "Caught ValueError in main: An error occurred in level three\n"
     ]
    }
   ],
   "source": [
    "def level_one():\n",
    "    print(\"Entering level one\")\n",
    "    level_two()  # No try-except block here\n",
    "    print(\"Exiting level one\")\n",
    "\n",
    "try:\n",
    "    level_one()\n",
    "except ValueError as e:\n",
    "    print(f\"Caught ValueError in main: {e}\")\n"
   ]
  },
  {
   "cell_type": "markdown",
   "metadata": {},
   "source": [
    "In this scenario:  \n",
    "\n",
    "1. The ValueError re-raised from level_two is not caught in level_one.  \n",
    "1. The exception is caught by the outer try-except block in the main code.  \n",
    "\n",
    "If the main code also did not have an except block:  \n",
    "\n",
    "1. The ValueError would go unhandled.\n",
    "1. Python would print the traceback to the standard error console, and the program would terminate.\n",
    "\n",
    "**Summary**\n",
    "1. Raising the Exception: Triggered by runtime or explicitly in code.\n",
    "1. Searching for Handler: The runtime searches up the call stack.\n",
    "1. Handling or Re-throwing: Found handlers manage or re-throw the exception.\n",
    "1. Unhandled Exceptions: Lead to a traceback printout and program termination.\n",
    "\n",
    "Understanding the exception lifecycle is crucial for effective error handling and debugging in Python applications. By knowing how exceptions propagate through the call stack and how they can be caught and handled, you can write more robust and reliable code.\n"
   ]
  },
  {
   "cell_type": "markdown",
   "metadata": {},
   "source": [
    "#### 9.0 Warning in Python\n",
    "___"
   ]
  },
  {
   "cell_type": "markdown",
   "metadata": {},
   "source": [
    "Several built-in exceptions represent warning categories. This categorization is helpful to be able to filter out groups of warnings.\n",
    "\n",
    "The warning doesn’t stop the execution of a program it indicates the possible improvement\n",
    "\n",
    "Below is the list of warning exception"
   ]
  },
  {
   "cell_type": "markdown",
   "metadata": {},
   "source": [
    "![alt text](<../../../Teslim_python_cheat/python exception warning.png>)"
   ]
  }
 ],
 "metadata": {
  "kernelspec": {
   "display_name": "teslim_env",
   "language": "python",
   "name": "python3"
  },
  "language_info": {
   "codemirror_mode": {
    "name": "ipython",
    "version": 3
   },
   "file_extension": ".py",
   "mimetype": "text/x-python",
   "name": "python",
   "nbconvert_exporter": "python",
   "pygments_lexer": "ipython3",
   "version": "3.1.undefined"
  }
 },
 "nbformat": 4,
 "nbformat_minor": 2
}
