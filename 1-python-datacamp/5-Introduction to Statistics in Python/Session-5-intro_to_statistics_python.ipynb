{
 "cells": [
  {
   "cell_type": "markdown",
   "metadata": {},
   "source": [
    "### Data Cleaning and Preparation"
   ]
  },
  {
   "cell_type": "code",
   "execution_count": 4,
   "metadata": {},
   "outputs": [],
   "source": [
    "import pandas as pd\n",
    "import numpy as np\n",
    "import seaborn as sns\n",
    "import matplotlib.pyplot as plt"
   ]
  },
  {
   "cell_type": "code",
   "execution_count": 3,
   "metadata": {},
   "outputs": [
    {
     "data": {
      "text/html": [
       "<div>\n",
       "<style scoped>\n",
       "    .dataframe tbody tr th:only-of-type {\n",
       "        vertical-align: middle;\n",
       "    }\n",
       "\n",
       "    .dataframe tbody tr th {\n",
       "        vertical-align: top;\n",
       "    }\n",
       "\n",
       "    .dataframe thead th {\n",
       "        text-align: right;\n",
       "    }\n",
       "</style>\n",
       "<table border=\"1\" class=\"dataframe\">\n",
       "  <thead>\n",
       "    <tr style=\"text-align: right;\">\n",
       "      <th></th>\n",
       "      <th>CONSTITUENCY</th>\n",
       "      <th>REGION</th>\n",
       "      <th>2019</th>\n",
       "      <th>2024</th>\n",
       "      <th>TURNOUT %</th>\n",
       "      <th>SHARE %</th>\n",
       "    </tr>\n",
       "  </thead>\n",
       "  <tbody>\n",
       "    <tr>\n",
       "      <th>0</th>\n",
       "      <td>Amber Valley</td>\n",
       "      <td>East Midlands</td>\n",
       "      <td>Conservative</td>\n",
       "      <td>Labour</td>\n",
       "      <td>60.3</td>\n",
       "      <td>37.0</td>\n",
       "    </tr>\n",
       "    <tr>\n",
       "      <th>1</th>\n",
       "      <td>Ashfield</td>\n",
       "      <td>East Midlands</td>\n",
       "      <td>Conservative</td>\n",
       "      <td>Reform UK</td>\n",
       "      <td>58.6</td>\n",
       "      <td>42.8</td>\n",
       "    </tr>\n",
       "    <tr>\n",
       "      <th>2</th>\n",
       "      <td>Bassetlaw</td>\n",
       "      <td>East Midlands</td>\n",
       "      <td>Conservative</td>\n",
       "      <td>Labour</td>\n",
       "      <td>57.4</td>\n",
       "      <td>41.2</td>\n",
       "    </tr>\n",
       "    <tr>\n",
       "      <th>3</th>\n",
       "      <td>Bolsover</td>\n",
       "      <td>East Midlands</td>\n",
       "      <td>Conservative</td>\n",
       "      <td>Labour</td>\n",
       "      <td>56.5</td>\n",
       "      <td>40.5</td>\n",
       "    </tr>\n",
       "    <tr>\n",
       "      <th>4</th>\n",
       "      <td>Boston &amp; Skegness</td>\n",
       "      <td>East Midlands</td>\n",
       "      <td>Conservative</td>\n",
       "      <td>Reform UK</td>\n",
       "      <td>53.4</td>\n",
       "      <td>38.4</td>\n",
       "    </tr>\n",
       "    <tr>\n",
       "      <th>...</th>\n",
       "      <td>...</td>\n",
       "      <td>...</td>\n",
       "      <td>...</td>\n",
       "      <td>...</td>\n",
       "      <td>...</td>\n",
       "      <td>...</td>\n",
       "    </tr>\n",
       "    <tr>\n",
       "      <th>645</th>\n",
       "      <td>Thirsk &amp; Malton</td>\n",
       "      <td>Yorkshire and the Humber</td>\n",
       "      <td>Conservative</td>\n",
       "      <td>Conservative</td>\n",
       "      <td>63.5</td>\n",
       "      <td>39.3</td>\n",
       "    </tr>\n",
       "    <tr>\n",
       "      <th>646</th>\n",
       "      <td>Wakefield &amp; Rothwell</td>\n",
       "      <td>Yorkshire and the Humber</td>\n",
       "      <td>Conservative</td>\n",
       "      <td>Labour</td>\n",
       "      <td>54.2</td>\n",
       "      <td>43.7</td>\n",
       "    </tr>\n",
       "    <tr>\n",
       "      <th>647</th>\n",
       "      <td>Wetherby &amp; Easingwold</td>\n",
       "      <td>Yorkshire and the Humber</td>\n",
       "      <td>Conservative</td>\n",
       "      <td>Conservative</td>\n",
       "      <td>70.3</td>\n",
       "      <td>39.4</td>\n",
       "    </tr>\n",
       "    <tr>\n",
       "      <th>648</th>\n",
       "      <td>York Central</td>\n",
       "      <td>Yorkshire and the Humber</td>\n",
       "      <td>Labour</td>\n",
       "      <td>Labour</td>\n",
       "      <td>54.5</td>\n",
       "      <td>56.6</td>\n",
       "    </tr>\n",
       "    <tr>\n",
       "      <th>649</th>\n",
       "      <td>York Outer</td>\n",
       "      <td>Yorkshire and the Humber</td>\n",
       "      <td>Conservative</td>\n",
       "      <td>Labour</td>\n",
       "      <td>67.0</td>\n",
       "      <td>45.3</td>\n",
       "    </tr>\n",
       "  </tbody>\n",
       "</table>\n",
       "<p>650 rows × 6 columns</p>\n",
       "</div>"
      ],
      "text/plain": [
       "              CONSTITUENCY                    REGION          2019  \\\n",
       "0             Amber Valley             East Midlands  Conservative   \n",
       "1                 Ashfield             East Midlands  Conservative   \n",
       "2                Bassetlaw             East Midlands  Conservative   \n",
       "3                 Bolsover             East Midlands  Conservative   \n",
       "4        Boston & Skegness             East Midlands  Conservative   \n",
       "..                     ...                       ...           ...   \n",
       "645        Thirsk & Malton  Yorkshire and the Humber  Conservative   \n",
       "646   Wakefield & Rothwell  Yorkshire and the Humber  Conservative   \n",
       "647  Wetherby & Easingwold  Yorkshire and the Humber  Conservative   \n",
       "648           York Central  Yorkshire and the Humber        Labour   \n",
       "649             York Outer  Yorkshire and the Humber  Conservative   \n",
       "\n",
       "             2024  TURNOUT %  SHARE %  \n",
       "0          Labour       60.3     37.0  \n",
       "1       Reform UK       58.6     42.8  \n",
       "2          Labour       57.4     41.2  \n",
       "3          Labour       56.5     40.5  \n",
       "4       Reform UK       53.4     38.4  \n",
       "..            ...        ...      ...  \n",
       "645  Conservative       63.5     39.3  \n",
       "646        Labour       54.2     43.7  \n",
       "647  Conservative       70.3     39.4  \n",
       "648        Labour       54.5     56.6  \n",
       "649        Labour       67.0     45.3  \n",
       "\n",
       "[650 rows x 6 columns]"
      ]
     },
     "execution_count": 3,
     "metadata": {},
     "output_type": "execute_result"
    }
   ],
   "source": [
    "uk_election_result = pd.read_excel(r'/Users/teslim/OneDrive/generaldata/1_uk_2024_election.xlsx', sheet_name=5)\n",
    "\n",
    "uk_election_result"
   ]
  },
  {
   "cell_type": "code",
   "execution_count": 86,
   "metadata": {},
   "outputs": [
    {
     "data": {
      "text/html": [
       "<div>\n",
       "<style scoped>\n",
       "    .dataframe tbody tr th:only-of-type {\n",
       "        vertical-align: middle;\n",
       "    }\n",
       "\n",
       "    .dataframe tbody tr th {\n",
       "        vertical-align: top;\n",
       "    }\n",
       "\n",
       "    .dataframe thead th {\n",
       "        text-align: right;\n",
       "    }\n",
       "</style>\n",
       "<table border=\"1\" class=\"dataframe\">\n",
       "  <thead>\n",
       "    <tr style=\"text-align: right;\">\n",
       "      <th></th>\n",
       "      <th>constituency</th>\n",
       "      <th>region</th>\n",
       "      <th>NaN</th>\n",
       "      <th>NaN</th>\n",
       "      <th>turnout %</th>\n",
       "      <th>share %</th>\n",
       "    </tr>\n",
       "  </thead>\n",
       "  <tbody>\n",
       "    <tr>\n",
       "      <th>0</th>\n",
       "      <td>Amber Valley</td>\n",
       "      <td>East Midlands</td>\n",
       "      <td>Conservative</td>\n",
       "      <td>Labour</td>\n",
       "      <td>60.3</td>\n",
       "      <td>37.0</td>\n",
       "    </tr>\n",
       "    <tr>\n",
       "      <th>1</th>\n",
       "      <td>Ashfield</td>\n",
       "      <td>East Midlands</td>\n",
       "      <td>Conservative</td>\n",
       "      <td>Reform UK</td>\n",
       "      <td>58.6</td>\n",
       "      <td>42.8</td>\n",
       "    </tr>\n",
       "    <tr>\n",
       "      <th>2</th>\n",
       "      <td>Bassetlaw</td>\n",
       "      <td>East Midlands</td>\n",
       "      <td>Conservative</td>\n",
       "      <td>Labour</td>\n",
       "      <td>57.4</td>\n",
       "      <td>41.2</td>\n",
       "    </tr>\n",
       "    <tr>\n",
       "      <th>3</th>\n",
       "      <td>Bolsover</td>\n",
       "      <td>East Midlands</td>\n",
       "      <td>Conservative</td>\n",
       "      <td>Labour</td>\n",
       "      <td>56.5</td>\n",
       "      <td>40.5</td>\n",
       "    </tr>\n",
       "    <tr>\n",
       "      <th>4</th>\n",
       "      <td>Boston &amp; Skegness</td>\n",
       "      <td>East Midlands</td>\n",
       "      <td>Conservative</td>\n",
       "      <td>Reform UK</td>\n",
       "      <td>53.4</td>\n",
       "      <td>38.4</td>\n",
       "    </tr>\n",
       "    <tr>\n",
       "      <th>...</th>\n",
       "      <td>...</td>\n",
       "      <td>...</td>\n",
       "      <td>...</td>\n",
       "      <td>...</td>\n",
       "      <td>...</td>\n",
       "      <td>...</td>\n",
       "    </tr>\n",
       "    <tr>\n",
       "      <th>645</th>\n",
       "      <td>Thirsk &amp; Malton</td>\n",
       "      <td>Yorkshire and the Humber</td>\n",
       "      <td>Conservative</td>\n",
       "      <td>Conservative</td>\n",
       "      <td>63.5</td>\n",
       "      <td>39.3</td>\n",
       "    </tr>\n",
       "    <tr>\n",
       "      <th>646</th>\n",
       "      <td>Wakefield &amp; Rothwell</td>\n",
       "      <td>Yorkshire and the Humber</td>\n",
       "      <td>Conservative</td>\n",
       "      <td>Labour</td>\n",
       "      <td>54.2</td>\n",
       "      <td>43.7</td>\n",
       "    </tr>\n",
       "    <tr>\n",
       "      <th>647</th>\n",
       "      <td>Wetherby &amp; Easingwold</td>\n",
       "      <td>Yorkshire and the Humber</td>\n",
       "      <td>Conservative</td>\n",
       "      <td>Conservative</td>\n",
       "      <td>70.3</td>\n",
       "      <td>39.4</td>\n",
       "    </tr>\n",
       "    <tr>\n",
       "      <th>648</th>\n",
       "      <td>York Central</td>\n",
       "      <td>Yorkshire and the Humber</td>\n",
       "      <td>Labour</td>\n",
       "      <td>Labour</td>\n",
       "      <td>54.5</td>\n",
       "      <td>56.6</td>\n",
       "    </tr>\n",
       "    <tr>\n",
       "      <th>649</th>\n",
       "      <td>York Outer</td>\n",
       "      <td>Yorkshire and the Humber</td>\n",
       "      <td>Conservative</td>\n",
       "      <td>Labour</td>\n",
       "      <td>67.0</td>\n",
       "      <td>45.3</td>\n",
       "    </tr>\n",
       "  </tbody>\n",
       "</table>\n",
       "<p>650 rows × 6 columns</p>\n",
       "</div>"
      ],
      "text/plain": [
       "              constituency                    region           NaN  \\\n",
       "0             Amber Valley             East Midlands  Conservative   \n",
       "1                 Ashfield             East Midlands  Conservative   \n",
       "2                Bassetlaw             East Midlands  Conservative   \n",
       "3                 Bolsover             East Midlands  Conservative   \n",
       "4        Boston & Skegness             East Midlands  Conservative   \n",
       "..                     ...                       ...           ...   \n",
       "645        Thirsk & Malton  Yorkshire and the Humber  Conservative   \n",
       "646   Wakefield & Rothwell  Yorkshire and the Humber  Conservative   \n",
       "647  Wetherby & Easingwold  Yorkshire and the Humber  Conservative   \n",
       "648           York Central  Yorkshire and the Humber        Labour   \n",
       "649             York Outer  Yorkshire and the Humber  Conservative   \n",
       "\n",
       "              NaN  turnout %  share %  \n",
       "0          Labour       60.3     37.0  \n",
       "1       Reform UK       58.6     42.8  \n",
       "2          Labour       57.4     41.2  \n",
       "3          Labour       56.5     40.5  \n",
       "4       Reform UK       53.4     38.4  \n",
       "..            ...        ...      ...  \n",
       "645  Conservative       63.5     39.3  \n",
       "646        Labour       54.2     43.7  \n",
       "647  Conservative       70.3     39.4  \n",
       "648        Labour       54.5     56.6  \n",
       "649        Labour       67.0     45.3  \n",
       "\n",
       "[650 rows x 6 columns]"
      ]
     },
     "execution_count": 86,
     "metadata": {},
     "output_type": "execute_result"
    }
   ],
   "source": [
    "# convert all the columns header to lower case \n",
    "uk_election_result.columns = uk_election_result.columns.str.lower()\n",
    "uk_election_result\n"
   ]
  },
  {
   "cell_type": "code",
   "execution_count": 87,
   "metadata": {},
   "outputs": [
    {
     "data": {
      "text/html": [
       "<div>\n",
       "<style scoped>\n",
       "    .dataframe tbody tr th:only-of-type {\n",
       "        vertical-align: middle;\n",
       "    }\n",
       "\n",
       "    .dataframe tbody tr th {\n",
       "        vertical-align: top;\n",
       "    }\n",
       "\n",
       "    .dataframe thead th {\n",
       "        text-align: right;\n",
       "    }\n",
       "</style>\n",
       "<table border=\"1\" class=\"dataframe\">\n",
       "  <thead>\n",
       "    <tr style=\"text-align: right;\">\n",
       "      <th></th>\n",
       "      <th>constituency</th>\n",
       "      <th>region</th>\n",
       "      <th>votes_2019</th>\n",
       "      <th>votes_2024</th>\n",
       "      <th>outcome</th>\n",
       "      <th>share</th>\n",
       "    </tr>\n",
       "  </thead>\n",
       "  <tbody>\n",
       "    <tr>\n",
       "      <th>0</th>\n",
       "      <td>Amber Valley</td>\n",
       "      <td>East Midlands</td>\n",
       "      <td>Conservative</td>\n",
       "      <td>Labour</td>\n",
       "      <td>60.3</td>\n",
       "      <td>37.0</td>\n",
       "    </tr>\n",
       "    <tr>\n",
       "      <th>1</th>\n",
       "      <td>Ashfield</td>\n",
       "      <td>East Midlands</td>\n",
       "      <td>Conservative</td>\n",
       "      <td>Reform UK</td>\n",
       "      <td>58.6</td>\n",
       "      <td>42.8</td>\n",
       "    </tr>\n",
       "    <tr>\n",
       "      <th>2</th>\n",
       "      <td>Bassetlaw</td>\n",
       "      <td>East Midlands</td>\n",
       "      <td>Conservative</td>\n",
       "      <td>Labour</td>\n",
       "      <td>57.4</td>\n",
       "      <td>41.2</td>\n",
       "    </tr>\n",
       "    <tr>\n",
       "      <th>3</th>\n",
       "      <td>Bolsover</td>\n",
       "      <td>East Midlands</td>\n",
       "      <td>Conservative</td>\n",
       "      <td>Labour</td>\n",
       "      <td>56.5</td>\n",
       "      <td>40.5</td>\n",
       "    </tr>\n",
       "    <tr>\n",
       "      <th>4</th>\n",
       "      <td>Boston &amp; Skegness</td>\n",
       "      <td>East Midlands</td>\n",
       "      <td>Conservative</td>\n",
       "      <td>Reform UK</td>\n",
       "      <td>53.4</td>\n",
       "      <td>38.4</td>\n",
       "    </tr>\n",
       "    <tr>\n",
       "      <th>...</th>\n",
       "      <td>...</td>\n",
       "      <td>...</td>\n",
       "      <td>...</td>\n",
       "      <td>...</td>\n",
       "      <td>...</td>\n",
       "      <td>...</td>\n",
       "    </tr>\n",
       "    <tr>\n",
       "      <th>645</th>\n",
       "      <td>Thirsk &amp; Malton</td>\n",
       "      <td>Yorkshire and the Humber</td>\n",
       "      <td>Conservative</td>\n",
       "      <td>Conservative</td>\n",
       "      <td>63.5</td>\n",
       "      <td>39.3</td>\n",
       "    </tr>\n",
       "    <tr>\n",
       "      <th>646</th>\n",
       "      <td>Wakefield &amp; Rothwell</td>\n",
       "      <td>Yorkshire and the Humber</td>\n",
       "      <td>Conservative</td>\n",
       "      <td>Labour</td>\n",
       "      <td>54.2</td>\n",
       "      <td>43.7</td>\n",
       "    </tr>\n",
       "    <tr>\n",
       "      <th>647</th>\n",
       "      <td>Wetherby &amp; Easingwold</td>\n",
       "      <td>Yorkshire and the Humber</td>\n",
       "      <td>Conservative</td>\n",
       "      <td>Conservative</td>\n",
       "      <td>70.3</td>\n",
       "      <td>39.4</td>\n",
       "    </tr>\n",
       "    <tr>\n",
       "      <th>648</th>\n",
       "      <td>York Central</td>\n",
       "      <td>Yorkshire and the Humber</td>\n",
       "      <td>Labour</td>\n",
       "      <td>Labour</td>\n",
       "      <td>54.5</td>\n",
       "      <td>56.6</td>\n",
       "    </tr>\n",
       "    <tr>\n",
       "      <th>649</th>\n",
       "      <td>York Outer</td>\n",
       "      <td>Yorkshire and the Humber</td>\n",
       "      <td>Conservative</td>\n",
       "      <td>Labour</td>\n",
       "      <td>67.0</td>\n",
       "      <td>45.3</td>\n",
       "    </tr>\n",
       "  </tbody>\n",
       "</table>\n",
       "<p>650 rows × 6 columns</p>\n",
       "</div>"
      ],
      "text/plain": [
       "              constituency                    region    votes_2019  \\\n",
       "0             Amber Valley             East Midlands  Conservative   \n",
       "1                 Ashfield             East Midlands  Conservative   \n",
       "2                Bassetlaw             East Midlands  Conservative   \n",
       "3                 Bolsover             East Midlands  Conservative   \n",
       "4        Boston & Skegness             East Midlands  Conservative   \n",
       "..                     ...                       ...           ...   \n",
       "645        Thirsk & Malton  Yorkshire and the Humber  Conservative   \n",
       "646   Wakefield & Rothwell  Yorkshire and the Humber  Conservative   \n",
       "647  Wetherby & Easingwold  Yorkshire and the Humber  Conservative   \n",
       "648           York Central  Yorkshire and the Humber        Labour   \n",
       "649             York Outer  Yorkshire and the Humber  Conservative   \n",
       "\n",
       "       votes_2024  outcome  share  \n",
       "0          Labour     60.3   37.0  \n",
       "1       Reform UK     58.6   42.8  \n",
       "2          Labour     57.4   41.2  \n",
       "3          Labour     56.5   40.5  \n",
       "4       Reform UK     53.4   38.4  \n",
       "..            ...      ...    ...  \n",
       "645  Conservative     63.5   39.3  \n",
       "646        Labour     54.2   43.7  \n",
       "647  Conservative     70.3   39.4  \n",
       "648        Labour     54.5   56.6  \n",
       "649        Labour     67.0   45.3  \n",
       "\n",
       "[650 rows x 6 columns]"
      ]
     },
     "execution_count": 87,
     "metadata": {},
     "output_type": "execute_result"
    }
   ],
   "source": [
    "# renaming the columns header\n",
    "uk_election_result.columns.values[2] = 'votes_2019'\n",
    "uk_election_result.columns.values[3] = 'votes_2024'\n",
    "uk_election_result.columns.values[-1] = 'share'\n",
    "uk_election_result.columns.values[-2] = 'outcome'\n",
    "uk_election_result"
   ]
  },
  {
   "cell_type": "code",
   "execution_count": 88,
   "metadata": {},
   "outputs": [
    {
     "data": {
      "text/plain": [
       "constituency    0\n",
       "region          0\n",
       "votes_2019      0\n",
       "votes_2024      0\n",
       "outcome         1\n",
       "share           1\n",
       "dtype: int64"
      ]
     },
     "execution_count": 88,
     "metadata": {},
     "output_type": "execute_result"
    }
   ],
   "source": [
    "# checking for missing values\n",
    "uk_election_result.isnull().sum()"
   ]
  },
  {
   "cell_type": "code",
   "execution_count": 89,
   "metadata": {},
   "outputs": [],
   "source": [
    "# fill missing values with 0\n",
    "mean_uk_election = uk_election_result['outcome'].mean()\n",
    "\n",
    "# fill missing values in the turnout with the median\n",
    "uk_election_result['outcome'] = uk_election_result['outcome'].fillna(mean_uk_election)\n",
    "\n",
    "# fill missing values in the share with the median\n",
    "uk_election_result['share'] = uk_election_result['share'].fillna(mean_uk_election)\n"
   ]
  },
  {
   "cell_type": "code",
   "execution_count": 90,
   "metadata": {},
   "outputs": [
    {
     "data": {
      "text/plain": [
       "constituency    0\n",
       "region          0\n",
       "votes_2019      0\n",
       "votes_2024      0\n",
       "outcome         0\n",
       "share           0\n",
       "dtype: int64"
      ]
     },
     "execution_count": 90,
     "metadata": {},
     "output_type": "execute_result"
    }
   ],
   "source": [
    "# checking for missing values\n",
    "uk_election_result.isnull().sum()"
   ]
  },
  {
   "cell_type": "markdown",
   "metadata": {},
   "source": [
    "# Module 1: Summary Statistics\n",
    "Summary statistics gives you the tools you need to boil down massive datasets to reveal the highlights. In this chapter, you'll explore summary statistics including mean, median, and standard deviation, and learn how to accurately interpret them. You'll also develop your critical thinking skills, allowing you to choose the best summary statistics for your data."
   ]
  },
  {
   "cell_type": "markdown",
   "metadata": {},
   "source": [
    "### Data type classification\n",
    "_____\n"
   ]
  },
  {
   "cell_type": "markdown",
   "metadata": {},
   "source": [
    "In the video, you learned about two main types of data: numeric and categorical. Numeric variables can be classified as either discrete or continuous, and categorical variables can be classified as either nominal or ordinal. These characteristics of a variable determine which ways of summarizing your data will work best."
   ]
  },
  {
   "cell_type": "markdown",
   "metadata": {},
   "source": [
    "### Measures of center\n",
    "____"
   ]
  },
  {
   "cell_type": "code",
   "execution_count": 91,
   "metadata": {},
   "outputs": [
    {
     "data": {
      "text/plain": [
       "<Axes: >"
      ]
     },
     "execution_count": 91,
     "metadata": {},
     "output_type": "execute_result"
    },
    {
     "data": {
      "image/png": "[encoded data removed]",
      "text/plain": [
       "<Figure size 640x480 with 1 Axes>"
      ]
     },
     "metadata": {},
     "output_type": "display_data"
    }
   ],
   "source": [
    "# visualizing the share column\n",
    "uk_election_result['share'].hist()"
   ]
  },
  {
   "cell_type": "code",
   "execution_count": 92,
   "metadata": {},
   "outputs": [
    {
     "data": {
      "text/plain": [
       "<Axes: >"
      ]
     },
     "execution_count": 92,
     "metadata": {},
     "output_type": "execute_result"
    },
    {
     "data": {
      "image/png": "[encoded data removed]",
      "text/plain": [
       "<Figure size 640x480 with 1 Axes>"
      ]
     },
     "metadata": {},
     "output_type": "display_data"
    }
   ],
   "source": [
    "uk_election_result['outcome'].hist()"
   ]
  },
  {
   "cell_type": "code",
   "execution_count": 93,
   "metadata": {},
   "outputs": [
    {
     "name": "stdout",
     "output_type": "stream",
     "text": [
      "42.486726561574024\n",
      "59.87226502311248\n"
     ]
    }
   ],
   "source": [
    "# measure the central tendency of the data\n",
    "print(np.mean(uk_election_result['share']))\n",
    "print(np.mean(uk_election_result['outcome']))"
   ]
  },
  {
   "cell_type": "code",
   "execution_count": 94,
   "metadata": {},
   "outputs": [
    {
     "name": "stdout",
     "output_type": "stream",
     "text": [
      "41.5\n",
      "60.2\n"
     ]
    }
   ],
   "source": [
    "# measure the median of the data\n",
    "print(np.median(uk_election_result['share']))\n",
    "print(np.median(uk_election_result['outcome']))"
   ]
  },
  {
   "cell_type": "markdown",
   "metadata": {},
   "source": [
    "To calculate the mode using NumPy, you can use the statisitcs function from the NumPy library. The mode function returns the most common value in an array. If there are multiple modes, it returns the smallest one. \n",
    "\n"
   ]
  },
  {
   "cell_type": "code",
   "execution_count": 95,
   "metadata": {},
   "outputs": [
    {
     "name": "stdout",
     "output_type": "stream",
     "text": [
      "35.6\n",
      "59.9\n"
     ]
    }
   ],
   "source": [
    "import statistics\n",
    "print(statistics.mode(uk_election_result['share']))\n",
    "print(statistics.mode(uk_election_result['outcome']))"
   ]
  },
  {
   "cell_type": "code",
   "execution_count": 96,
   "metadata": {},
   "outputs": [
    {
     "name": "stdout",
     "output_type": "stream",
     "text": [
      "0    35.6\n",
      "Name: share, dtype: float64\n",
      "0    59.9\n",
      "Name: outcome, dtype: float64\n"
     ]
    }
   ],
   "source": [
    "# measure the mode of the data\n",
    "print(uk_election_result['share'].mode())\n",
    "print(uk_election_result['outcome'].mode())"
   ]
  },
  {
   "cell_type": "code",
   "execution_count": 97,
   "metadata": {},
   "outputs": [
    {
     "data": {
      "text/plain": [
       "count    650.00\n",
       "mean      42.49\n",
       "std        7.38\n",
       "min       26.50\n",
       "25%       36.70\n",
       "50%       41.50\n",
       "75%       47.28\n",
       "max       74.30\n",
       "Name: share, dtype: float64"
      ]
     },
     "execution_count": 97,
     "metadata": {},
     "output_type": "execute_result"
    }
   ],
   "source": [
    "uk_election_result['share'].describe().round(2)"
   ]
  },
  {
   "cell_type": "code",
   "execution_count": 98,
   "metadata": {},
   "outputs": [
    {
     "data": {
      "text/plain": [
       "count    650.00\n",
       "mean      59.87\n",
       "std        6.99\n",
       "min       40.00\n",
       "25%       55.12\n",
       "50%       60.20\n",
       "75%       65.30\n",
       "max       76.50\n",
       "Name: outcome, dtype: float64"
      ]
     },
     "execution_count": 98,
     "metadata": {},
     "output_type": "execute_result"
    }
   ],
   "source": [
    "uk_election_result['outcome'].describe().round(2)"
   ]
  },
  {
   "cell_type": "markdown",
   "metadata": {},
   "source": [
    "### Measures of spread\n",
    "____"
   ]
  },
  {
   "cell_type": "markdown",
   "metadata": {},
   "source": [
    "### Variance and standard deviation"
   ]
  },
  {
   "cell_type": "code",
   "execution_count": 99,
   "metadata": {},
   "outputs": [
    {
     "data": {
      "text/plain": [
       "54.430617034345104"
      ]
     },
     "execution_count": 99,
     "metadata": {},
     "output_type": "execute_result"
    }
   ],
   "source": [
    "# measure the variance of the data\n",
    "population_variance = np.var(uk_election_result['share'])\n",
    "population_variance\n",
    "\n",
    "\n",
    "# Without ddof=1 , population variance is calculated instead of sample variance:"
   ]
  },
  {
   "cell_type": "code",
   "execution_count": 100,
   "metadata": {},
   "outputs": [
    {
     "data": {
      "text/plain": [
       "54.51448547353516"
      ]
     },
     "execution_count": 100,
     "metadata": {},
     "output_type": "execute_result"
    }
   ],
   "source": [
    "# measure the variance of the data with ddof=1 (sample variance)\n",
    "sample_variance = np.var(uk_election_result['share'], ddof=1)\n",
    "sample_variance"
   ]
  },
  {
   "cell_type": "code",
   "execution_count": 101,
   "metadata": {},
   "outputs": [
    {
     "data": {
      "text/plain": [
       "7.377710826153672"
      ]
     },
     "execution_count": 101,
     "metadata": {},
     "output_type": "execute_result"
    }
   ],
   "source": [
    "# measure the standard deviation of the data\n",
    "population_std = np.std(uk_election_result['share'])\n",
    "population_std"
   ]
  },
  {
   "cell_type": "code",
   "execution_count": 102,
   "metadata": {},
   "outputs": [
    {
     "data": {
      "text/plain": [
       "7.383392544998211"
      ]
     },
     "execution_count": 102,
     "metadata": {},
     "output_type": "execute_result"
    }
   ],
   "source": [
    "# measure the standard deviation of the data\n",
    "sample_std = np.std(uk_election_result['share'], ddof=1)\n",
    "sample_std"
   ]
  },
  {
   "cell_type": "markdown",
   "metadata": {},
   "source": [
    "### Absolute Mean Deviation"
   ]
  },
  {
   "cell_type": "code",
   "execution_count": 103,
   "metadata": {},
   "outputs": [
    {
     "data": {
      "text/plain": [
       "0      22.872265\n",
       "1      17.072265\n",
       "2      18.672265\n",
       "3      19.372265\n",
       "4      21.472265\n",
       "         ...    \n",
       "645    20.572265\n",
       "646    16.172265\n",
       "647    20.472265\n",
       "648     3.272265\n",
       "649    14.572265\n",
       "Name: share, Length: 650, dtype: float64"
      ]
     },
     "execution_count": 103,
     "metadata": {},
     "output_type": "execute_result"
    }
   ],
   "source": [
    "# measures of abslute mean deviation\n",
    "\n",
    "# Step 1: Calculate the mean of the data\n",
    "mean_uk_election\n",
    "\n",
    "# Step 2: Calculate the absolute deviations from the mean\n",
    "absolute_deviations = np.abs( (uk_election_result['share'] - mean_uk_election))\n",
    "absolute_deviations"
   ]
  },
  {
   "cell_type": "code",
   "execution_count": 104,
   "metadata": {},
   "outputs": [
    {
     "data": {
      "text/plain": [
       "17.555537276283033"
      ]
     },
     "execution_count": 104,
     "metadata": {},
     "output_type": "execute_result"
    }
   ],
   "source": [
    "# Step 3: Calculate the mean of these absolute deviations\n",
    "mean_absolute_deviation = np.mean(absolute_deviations)\n",
    "mean_absolute_deviation"
   ]
  },
  {
   "cell_type": "markdown",
   "metadata": {},
   "source": [
    "####  Quantiles"
   ]
  },
  {
   "cell_type": "markdown",
   "metadata": {},
   "source": [
    "The quantile function represent dividing the data into equal parts. The quantile function can be used to calculate the median, quartiles, and percentiles. The median is the 50th percentile, the first quartile is the 25th percentile, and the third quartile is the 75th percentile.\n",
    "The syntax for the quantile function is `np.quantile(data, q)`, where data is the array and q is the quantile you want to calculate. For example, to calculate the median, you would use np.quantile(data, 0.5)."
   ]
  },
  {
   "cell_type": "code",
   "execution_count": 105,
   "metadata": {},
   "outputs": [
    {
     "data": {
      "text/plain": [
       "41.5"
      ]
     },
     "execution_count": 105,
     "metadata": {},
     "output_type": "execute_result"
    }
   ],
   "source": [
    "# measure the quantiles of the data\n",
    "np.quantile(uk_election_result['share'], 0.50)\n",
    "\n",
    "# this is the same as the median"
   ]
  },
  {
   "cell_type": "code",
   "execution_count": 106,
   "metadata": {},
   "outputs": [
    {
     "data": {
      "text/plain": [
       "41.5"
      ]
     },
     "execution_count": 106,
     "metadata": {},
     "output_type": "execute_result"
    }
   ],
   "source": [
    "# we can also calculate the quantiles using the quantile method\n",
    "uk_election_result['share'].quantile(0.50)"
   ]
  },
  {
   "cell_type": "code",
   "execution_count": 107,
   "metadata": {},
   "outputs": [
    {
     "data": {
      "text/plain": [
       "array([26.5  , 36.7  , 47.275, 41.5  , 33.9  ])"
      ]
     },
     "execution_count": 107,
     "metadata": {},
     "output_type": "execute_result"
    }
   ],
   "source": [
    "# Multiple quantiles can be calculated at once by passing a list\n",
    "np.quantile(uk_election_result['share'], [0, 0.25, 0.75, 0.5, 0.1])"
   ]
  },
  {
   "cell_type": "markdown",
   "metadata": {},
   "source": [
    "Aside the above, we can calculate the quantitles with the `np.linspace()` function.\n",
    "\n",
    "\n",
    "The `np.linspace()` function is used to create an array of evenly spaced values over a specified range. The function takes three arguments: the start of the range, the end of the range, and the number of values to generate. For example, to generate 10 evenly spaced values between 1 and 10, you can use the following code:\n",
    "\n",
    "```python\n",
    "np.linspace(1, 10, 10)\n",
    "```\n",
    "\n",
    "Combining the `np.quantile()` and `np.linspace()` functions allows you to calculate the quantiles for a dataset and visualize them on a box plot. The box plot is a standardized way of displaying the distribution of data based on a five-number summary: the minimum, first quartile, median, third quartile, and maximum. The box plot is a useful tool for identifying outliers and comparing distributions.\n",
    "\n",
    "```python\n",
    "import matplotlib.pyplot as plt\n",
    "\n",
    "data = np.array([1, 2, 3, 4, 5, 6, 7, 8, 9, 10])\n",
    "\n",
    "quantiles = np.linspace(0, 1, 5)\n",
    "quantile_values = np.quantile(data, quantiles)\n",
    "\n",
    "plt.boxplot(data)\n",
    "plt.xticks([1], ['Data'])\n",
    "plt.scatter([1] * len(data), data, alpha=0.5)\n",
    "plt.scatter([1] * len(quantile_values), quantile_values, color='red')\n",
    "plt.show()\n",
    "```\n",
    "\n",
    "\n"
   ]
  },
  {
   "cell_type": "code",
   "execution_count": 108,
   "metadata": {},
   "outputs": [
    {
     "data": {
      "image/png": "[encoded data removed]",
      "text/plain": [
       "<Figure size 640x480 with 1 Axes>"
      ]
     },
     "metadata": {},
     "output_type": "display_data"
    }
   ],
   "source": [
    "data = np.array([1, 2, 3, 4, 5, 6, 7, 8, 9, 10])\n",
    "\n",
    "quantiles = np.linspace(0, 1, 5)\n",
    "quantile_values = np.quantile(data, quantiles)\n",
    "\n",
    "plt.boxplot(data)\n",
    "plt.xticks([1], ['Data'])\n",
    "plt.scatter([1] * len(data), data, alpha=0.5)\n",
    "plt.scatter([1] * len(quantile_values), quantile_values, color='red')\n",
    "plt.show()"
   ]
  },
  {
   "cell_type": "code",
   "execution_count": 109,
   "metadata": {},
   "outputs": [
    {
     "data": {
      "image/png": "[encoded data removed]",
      "text/plain": [
       "<Figure size 640x480 with 1 Axes>"
      ]
     },
     "metadata": {},
     "output_type": "display_data"
    }
   ],
   "source": [
    "# boxplot use of quantiles\n",
    "plt.boxplot(uk_election_result['share'])    \n",
    "plt.show()"
   ]
  },
  {
   "cell_type": "code",
   "execution_count": 110,
   "metadata": {},
   "outputs": [
    {
     "data": {
      "image/png": "[encoded data removed]",
      "text/plain": [
       "<Figure size 640x480 with 1 Axes>"
      ]
     },
     "metadata": {},
     "output_type": "display_data"
    }
   ],
   "source": [
    "# boxplot use of quantiles\n",
    "plt.boxplot(uk_election_result['outcome'])\n",
    "plt.show()    "
   ]
  },
  {
   "cell_type": "code",
   "execution_count": 111,
   "metadata": {},
   "outputs": [
    {
     "data": {
      "text/plain": [
       "10.574999999999996"
      ]
     },
     "execution_count": 111,
     "metadata": {},
     "output_type": "execute_result"
    }
   ],
   "source": [
    "# interquartile range\n",
    "q3, q1 = np.percentile(uk_election_result['share'], [75 ,25])\n",
    "\n",
    "q1 \n",
    "q3\n",
    "\n",
    "# this can be represented as any variable and can be used to calculate the interquartile range\n",
    "iqr = q3 - q1\n",
    "iqr"
   ]
  },
  {
   "cell_type": "code",
   "execution_count": 112,
   "metadata": {},
   "outputs": [
    {
     "data": {
      "text/plain": [
       "10.574999999999996"
      ]
     },
     "execution_count": 112,
     "metadata": {},
     "output_type": "execute_result"
    }
   ],
   "source": [
    "# another way to calculate the interquartile range, is using the iqr method from scipy.stats\n",
    "from scipy.stats import iqr\n",
    "iqr(uk_election_result['share'])"
   ]
  },
  {
   "cell_type": "markdown",
   "metadata": {},
   "source": [
    "### Measuaring an outlier\n",
    "____"
   ]
  },
  {
   "cell_type": "code",
   "execution_count": 113,
   "metadata": {},
   "outputs": [
    {
     "ename": "FileNotFoundError",
     "evalue": "[Errno 2] No such file or directory: '/Users/teslim/OneDrive - Teslim Uthman Adeyanju/Teslim_data_science_study/note_3_python_language//Teslim_python_png/outliiers.png'",
     "output_type": "error",
     "traceback": [
      "\u001b[0;31m---------------------------------------------------------------------------\u001b[0m",
      "\u001b[0;31mFileNotFoundError\u001b[0m                         Traceback (most recent call last)",
      "Cell \u001b[0;32mIn[113], line 4\u001b[0m\n\u001b[1;32m      1\u001b[0m \u001b[38;5;28;01mfrom\u001b[39;00m \u001b[38;5;21;01mIPython\u001b[39;00m\u001b[38;5;21;01m.\u001b[39;00m\u001b[38;5;21;01mdisplay\u001b[39;00m \u001b[38;5;28;01mimport\u001b[39;00m Image\n\u001b[1;32m      3\u001b[0m \u001b[38;5;66;03m# Display an image from a file\u001b[39;00m\n\u001b[0;32m----> 4\u001b[0m \u001b[43mImage\u001b[49m\u001b[43m(\u001b[49m\u001b[43mfilename\u001b[49m\u001b[38;5;241;43m=\u001b[39;49m\u001b[38;5;124;43m'\u001b[39;49m\u001b[38;5;124;43m/Users/teslim/OneDrive - Teslim Uthman Adeyanju/Teslim_data_science_study/note_3_python_language/\u001b[39;49m\u001b[38;5;124;43m'\u001b[39;49m\n\u001b[1;32m      5\u001b[0m \u001b[43m      \u001b[49m\u001b[38;5;124;43m'\u001b[39;49m\u001b[38;5;124;43m/Teslim_python_png/outliiers.png\u001b[39;49m\u001b[38;5;124;43m'\u001b[39;49m\u001b[43m,\u001b[49m\u001b[43m \u001b[49m\u001b[43mwidth\u001b[49m\u001b[38;5;241;43m=\u001b[39;49m\u001b[38;5;241;43m500\u001b[39;49m\u001b[43m,\u001b[49m\u001b[43m \u001b[49m\u001b[43mheight\u001b[49m\u001b[38;5;241;43m=\u001b[39;49m\u001b[38;5;241;43m800\u001b[39;49m\u001b[43m)\u001b[49m\n",
      "File \u001b[0;32m~/anaconda3/envs/data-science-env/lib/python3.12/site-packages/IPython/core/display.py:970\u001b[0m, in \u001b[0;36mImage.__init__\u001b[0;34m(self, data, url, filename, format, embed, width, height, retina, unconfined, metadata, alt)\u001b[0m\n\u001b[1;32m    968\u001b[0m \u001b[38;5;28mself\u001b[39m\u001b[38;5;241m.\u001b[39munconfined \u001b[38;5;241m=\u001b[39m unconfined\n\u001b[1;32m    969\u001b[0m \u001b[38;5;28mself\u001b[39m\u001b[38;5;241m.\u001b[39malt \u001b[38;5;241m=\u001b[39m alt\n\u001b[0;32m--> 970\u001b[0m \u001b[38;5;28;43msuper\u001b[39;49m\u001b[43m(\u001b[49m\u001b[43mImage\u001b[49m\u001b[43m,\u001b[49m\u001b[43m \u001b[49m\u001b[38;5;28;43mself\u001b[39;49m\u001b[43m)\u001b[49m\u001b[38;5;241;43m.\u001b[39;49m\u001b[38;5;21;43m__init__\u001b[39;49m\u001b[43m(\u001b[49m\u001b[43mdata\u001b[49m\u001b[38;5;241;43m=\u001b[39;49m\u001b[43mdata\u001b[49m\u001b[43m,\u001b[49m\u001b[43m \u001b[49m\u001b[43murl\u001b[49m\u001b[38;5;241;43m=\u001b[39;49m\u001b[43murl\u001b[49m\u001b[43m,\u001b[49m\u001b[43m \u001b[49m\u001b[43mfilename\u001b[49m\u001b[38;5;241;43m=\u001b[39;49m\u001b[43mfilename\u001b[49m\u001b[43m,\u001b[49m\n\u001b[1;32m    971\u001b[0m \u001b[43m        \u001b[49m\u001b[43mmetadata\u001b[49m\u001b[38;5;241;43m=\u001b[39;49m\u001b[43mmetadata\u001b[49m\u001b[43m)\u001b[49m\n\u001b[1;32m    973\u001b[0m \u001b[38;5;28;01mif\u001b[39;00m \u001b[38;5;28mself\u001b[39m\u001b[38;5;241m.\u001b[39mwidth \u001b[38;5;129;01mis\u001b[39;00m \u001b[38;5;28;01mNone\u001b[39;00m \u001b[38;5;129;01mand\u001b[39;00m \u001b[38;5;28mself\u001b[39m\u001b[38;5;241m.\u001b[39mmetadata\u001b[38;5;241m.\u001b[39mget(\u001b[38;5;124m'\u001b[39m\u001b[38;5;124mwidth\u001b[39m\u001b[38;5;124m'\u001b[39m, {}):\n\u001b[1;32m    974\u001b[0m     \u001b[38;5;28mself\u001b[39m\u001b[38;5;241m.\u001b[39mwidth \u001b[38;5;241m=\u001b[39m metadata[\u001b[38;5;124m'\u001b[39m\u001b[38;5;124mwidth\u001b[39m\u001b[38;5;124m'\u001b[39m]\n",
      "File \u001b[0;32m~/anaconda3/envs/data-science-env/lib/python3.12/site-packages/IPython/core/display.py:327\u001b[0m, in \u001b[0;36mDisplayObject.__init__\u001b[0;34m(self, data, url, filename, metadata)\u001b[0m\n\u001b[1;32m    324\u001b[0m \u001b[38;5;28;01melif\u001b[39;00m \u001b[38;5;28mself\u001b[39m\u001b[38;5;241m.\u001b[39mmetadata \u001b[38;5;129;01mis\u001b[39;00m \u001b[38;5;28;01mNone\u001b[39;00m:\n\u001b[1;32m    325\u001b[0m     \u001b[38;5;28mself\u001b[39m\u001b[38;5;241m.\u001b[39mmetadata \u001b[38;5;241m=\u001b[39m {}\n\u001b[0;32m--> 327\u001b[0m \u001b[38;5;28;43mself\u001b[39;49m\u001b[38;5;241;43m.\u001b[39;49m\u001b[43mreload\u001b[49m\u001b[43m(\u001b[49m\u001b[43m)\u001b[49m\n\u001b[1;32m    328\u001b[0m \u001b[38;5;28mself\u001b[39m\u001b[38;5;241m.\u001b[39m_check_data()\n",
      "File \u001b[0;32m~/anaconda3/envs/data-science-env/lib/python3.12/site-packages/IPython/core/display.py:1005\u001b[0m, in \u001b[0;36mImage.reload\u001b[0;34m(self)\u001b[0m\n\u001b[1;32m   1003\u001b[0m \u001b[38;5;250m\u001b[39m\u001b[38;5;124;03m\"\"\"Reload the raw data from file or URL.\"\"\"\u001b[39;00m\n\u001b[1;32m   1004\u001b[0m \u001b[38;5;28;01mif\u001b[39;00m \u001b[38;5;28mself\u001b[39m\u001b[38;5;241m.\u001b[39membed:\n\u001b[0;32m-> 1005\u001b[0m     \u001b[38;5;28;43msuper\u001b[39;49m\u001b[43m(\u001b[49m\u001b[43mImage\u001b[49m\u001b[43m,\u001b[49m\u001b[38;5;28;43mself\u001b[39;49m\u001b[43m)\u001b[49m\u001b[38;5;241;43m.\u001b[39;49m\u001b[43mreload\u001b[49m\u001b[43m(\u001b[49m\u001b[43m)\u001b[49m\n\u001b[1;32m   1006\u001b[0m     \u001b[38;5;28;01mif\u001b[39;00m \u001b[38;5;28mself\u001b[39m\u001b[38;5;241m.\u001b[39mretina:\n\u001b[1;32m   1007\u001b[0m         \u001b[38;5;28mself\u001b[39m\u001b[38;5;241m.\u001b[39m_retina_shape()\n",
      "File \u001b[0;32m~/anaconda3/envs/data-science-env/lib/python3.12/site-packages/IPython/core/display.py:353\u001b[0m, in \u001b[0;36mDisplayObject.reload\u001b[0;34m(self)\u001b[0m\n\u001b[1;32m    351\u001b[0m \u001b[38;5;28;01mif\u001b[39;00m \u001b[38;5;28mself\u001b[39m\u001b[38;5;241m.\u001b[39mfilename \u001b[38;5;129;01mis\u001b[39;00m \u001b[38;5;129;01mnot\u001b[39;00m \u001b[38;5;28;01mNone\u001b[39;00m:\n\u001b[1;32m    352\u001b[0m     encoding \u001b[38;5;241m=\u001b[39m \u001b[38;5;28;01mNone\u001b[39;00m \u001b[38;5;28;01mif\u001b[39;00m \u001b[38;5;124m\"\u001b[39m\u001b[38;5;124mb\u001b[39m\u001b[38;5;124m\"\u001b[39m \u001b[38;5;129;01min\u001b[39;00m \u001b[38;5;28mself\u001b[39m\u001b[38;5;241m.\u001b[39m_read_flags \u001b[38;5;28;01melse\u001b[39;00m \u001b[38;5;124m\"\u001b[39m\u001b[38;5;124mutf-8\u001b[39m\u001b[38;5;124m\"\u001b[39m\n\u001b[0;32m--> 353\u001b[0m     \u001b[38;5;28;01mwith\u001b[39;00m \u001b[38;5;28;43mopen\u001b[39;49m\u001b[43m(\u001b[49m\u001b[38;5;28;43mself\u001b[39;49m\u001b[38;5;241;43m.\u001b[39;49m\u001b[43mfilename\u001b[49m\u001b[43m,\u001b[49m\u001b[43m \u001b[49m\u001b[38;5;28;43mself\u001b[39;49m\u001b[38;5;241;43m.\u001b[39;49m\u001b[43m_read_flags\u001b[49m\u001b[43m,\u001b[49m\u001b[43m \u001b[49m\u001b[43mencoding\u001b[49m\u001b[38;5;241;43m=\u001b[39;49m\u001b[43mencoding\u001b[49m\u001b[43m)\u001b[49m \u001b[38;5;28;01mas\u001b[39;00m f:\n\u001b[1;32m    354\u001b[0m         \u001b[38;5;28mself\u001b[39m\u001b[38;5;241m.\u001b[39mdata \u001b[38;5;241m=\u001b[39m f\u001b[38;5;241m.\u001b[39mread()\n\u001b[1;32m    355\u001b[0m \u001b[38;5;28;01melif\u001b[39;00m \u001b[38;5;28mself\u001b[39m\u001b[38;5;241m.\u001b[39murl \u001b[38;5;129;01mis\u001b[39;00m \u001b[38;5;129;01mnot\u001b[39;00m \u001b[38;5;28;01mNone\u001b[39;00m:\n\u001b[1;32m    356\u001b[0m     \u001b[38;5;66;03m# Deferred import\u001b[39;00m\n",
      "\u001b[0;31mFileNotFoundError\u001b[0m: [Errno 2] No such file or directory: '/Users/teslim/OneDrive - Teslim Uthman Adeyanju/Teslim_data_science_study/note_3_python_language//Teslim_python_png/outliiers.png'"
     ]
    }
   ],
   "source": [
    "from IPython.display import Image\n",
    "\n",
    "# Display an image from a file\n",
    "Image(filename='/Users/teslim/OneDrive - Teslim Uthman Adeyanju/Teslim_data_science_study/note_3_python_language/'\n",
    "      '/Teslim_python_png/outliiers.png', width=500, height=800)"
   ]
  },
  {
   "cell_type": "code",
   "execution_count": 33,
   "metadata": {},
   "outputs": [
    {
     "ename": "NameError",
     "evalue": "name 'q1' is not defined",
     "output_type": "error",
     "traceback": [
      "\u001b[0;31m---------------------------------------------------------------------------\u001b[0m",
      "\u001b[0;31mNameError\u001b[0m                                 Traceback (most recent call last)",
      "Cell \u001b[0;32mIn[33], line 6\u001b[0m\n\u001b[1;32m      2\u001b[0m \u001b[38;5;28;01mfrom\u001b[39;00m \u001b[38;5;21;01mscipy\u001b[39;00m\u001b[38;5;21;01m.\u001b[39;00m\u001b[38;5;21;01mstats\u001b[39;00m \u001b[38;5;28;01mimport\u001b[39;00m iqr\n\u001b[1;32m      4\u001b[0m iqr \u001b[38;5;241m=\u001b[39m iqr(uk_election_result[\u001b[38;5;124m'\u001b[39m\u001b[38;5;124mshare\u001b[39m\u001b[38;5;124m'\u001b[39m])\n\u001b[0;32m----> 6\u001b[0m lower_bound \u001b[38;5;241m=\u001b[39m \u001b[43mq1\u001b[49m \u001b[38;5;241m-\u001b[39m \u001b[38;5;241m1.5\u001b[39m \u001b[38;5;241m*\u001b[39m iqr\n\u001b[1;32m      7\u001b[0m upper_bound \u001b[38;5;241m=\u001b[39m q3 \u001b[38;5;241m+\u001b[39m \u001b[38;5;241m1.5\u001b[39m \u001b[38;5;241m*\u001b[39m iqr\n\u001b[1;32m      9\u001b[0m lower_bound\n",
      "\u001b[0;31mNameError\u001b[0m: name 'q1' is not defined"
     ]
    }
   ],
   "source": [
    "# finding the outliers in the data\n",
    "from scipy.stats import iqr\n",
    "\n",
    "iqr = iqr(uk_election_result['share'])\n",
    "\n",
    "lower_bound = q1 - 1.5 * iqr\n",
    "upper_bound = q3 + 1.5 * iqr\n",
    "\n",
    "lower_bound"
   ]
  },
  {
   "cell_type": "code",
   "execution_count": 36,
   "metadata": {},
   "outputs": [],
   "source": [
    "a = uk_election_result[uk_election_result['share'] < lower_bound]\n",
    "b = uk_election_result[uk_election_result['share'] > upper_bound]\n"
   ]
  },
  {
   "cell_type": "code",
   "execution_count": 37,
   "metadata": {},
   "outputs": [],
   "source": [
    "outlier = uk_election_result[a & b]"
   ]
  },
  {
   "cell_type": "code",
   "execution_count": 38,
   "metadata": {},
   "outputs": [
    {
     "data": {
      "text/html": [
       "<div>\n",
       "<style scoped>\n",
       "    .dataframe tbody tr th:only-of-type {\n",
       "        vertical-align: middle;\n",
       "    }\n",
       "\n",
       "    .dataframe tbody tr th {\n",
       "        vertical-align: top;\n",
       "    }\n",
       "\n",
       "    .dataframe thead th {\n",
       "        text-align: right;\n",
       "    }\n",
       "</style>\n",
       "<table border=\"1\" class=\"dataframe\">\n",
       "  <thead>\n",
       "    <tr style=\"text-align: right;\">\n",
       "      <th></th>\n",
       "      <th>constituency</th>\n",
       "      <th>region</th>\n",
       "      <th>votes_2019</th>\n",
       "      <th>votes_2024</th>\n",
       "      <th>outcome</th>\n",
       "      <th>share</th>\n",
       "    </tr>\n",
       "  </thead>\n",
       "  <tbody>\n",
       "    <tr>\n",
       "      <th>0</th>\n",
       "      <td>Amber Valley</td>\n",
       "      <td>East Midlands</td>\n",
       "      <td>Conservative</td>\n",
       "      <td>Labour</td>\n",
       "      <td>60.3</td>\n",
       "      <td>37.0</td>\n",
       "    </tr>\n",
       "    <tr>\n",
       "      <th>1</th>\n",
       "      <td>Ashfield</td>\n",
       "      <td>East Midlands</td>\n",
       "      <td>Conservative</td>\n",
       "      <td>Reform UK</td>\n",
       "      <td>58.6</td>\n",
       "      <td>42.8</td>\n",
       "    </tr>\n",
       "    <tr>\n",
       "      <th>2</th>\n",
       "      <td>Bassetlaw</td>\n",
       "      <td>East Midlands</td>\n",
       "      <td>Conservative</td>\n",
       "      <td>Labour</td>\n",
       "      <td>57.4</td>\n",
       "      <td>41.2</td>\n",
       "    </tr>\n",
       "    <tr>\n",
       "      <th>3</th>\n",
       "      <td>Bolsover</td>\n",
       "      <td>East Midlands</td>\n",
       "      <td>Conservative</td>\n",
       "      <td>Labour</td>\n",
       "      <td>56.5</td>\n",
       "      <td>40.5</td>\n",
       "    </tr>\n",
       "    <tr>\n",
       "      <th>4</th>\n",
       "      <td>Boston &amp; Skegness</td>\n",
       "      <td>East Midlands</td>\n",
       "      <td>Conservative</td>\n",
       "      <td>Reform UK</td>\n",
       "      <td>53.4</td>\n",
       "      <td>38.4</td>\n",
       "    </tr>\n",
       "    <tr>\n",
       "      <th>...</th>\n",
       "      <td>...</td>\n",
       "      <td>...</td>\n",
       "      <td>...</td>\n",
       "      <td>...</td>\n",
       "      <td>...</td>\n",
       "      <td>...</td>\n",
       "    </tr>\n",
       "    <tr>\n",
       "      <th>645</th>\n",
       "      <td>Thirsk &amp; Malton</td>\n",
       "      <td>Yorkshire and the Humber</td>\n",
       "      <td>Conservative</td>\n",
       "      <td>Conservative</td>\n",
       "      <td>63.5</td>\n",
       "      <td>39.3</td>\n",
       "    </tr>\n",
       "    <tr>\n",
       "      <th>646</th>\n",
       "      <td>Wakefield &amp; Rothwell</td>\n",
       "      <td>Yorkshire and the Humber</td>\n",
       "      <td>Conservative</td>\n",
       "      <td>Labour</td>\n",
       "      <td>54.2</td>\n",
       "      <td>43.7</td>\n",
       "    </tr>\n",
       "    <tr>\n",
       "      <th>647</th>\n",
       "      <td>Wetherby &amp; Easingwold</td>\n",
       "      <td>Yorkshire and the Humber</td>\n",
       "      <td>Conservative</td>\n",
       "      <td>Conservative</td>\n",
       "      <td>70.3</td>\n",
       "      <td>39.4</td>\n",
       "    </tr>\n",
       "    <tr>\n",
       "      <th>648</th>\n",
       "      <td>York Central</td>\n",
       "      <td>Yorkshire and the Humber</td>\n",
       "      <td>Labour</td>\n",
       "      <td>Labour</td>\n",
       "      <td>54.5</td>\n",
       "      <td>56.6</td>\n",
       "    </tr>\n",
       "    <tr>\n",
       "      <th>649</th>\n",
       "      <td>York Outer</td>\n",
       "      <td>Yorkshire and the Humber</td>\n",
       "      <td>Conservative</td>\n",
       "      <td>Labour</td>\n",
       "      <td>67.0</td>\n",
       "      <td>45.3</td>\n",
       "    </tr>\n",
       "  </tbody>\n",
       "</table>\n",
       "<p>650 rows × 6 columns</p>\n",
       "</div>"
      ],
      "text/plain": [
       "              constituency                    region    votes_2019  \\\n",
       "0             Amber Valley             East Midlands  Conservative   \n",
       "1                 Ashfield             East Midlands  Conservative   \n",
       "2                Bassetlaw             East Midlands  Conservative   \n",
       "3                 Bolsover             East Midlands  Conservative   \n",
       "4        Boston & Skegness             East Midlands  Conservative   \n",
       "..                     ...                       ...           ...   \n",
       "645        Thirsk & Malton  Yorkshire and the Humber  Conservative   \n",
       "646   Wakefield & Rothwell  Yorkshire and the Humber  Conservative   \n",
       "647  Wetherby & Easingwold  Yorkshire and the Humber  Conservative   \n",
       "648           York Central  Yorkshire and the Humber        Labour   \n",
       "649             York Outer  Yorkshire and the Humber  Conservative   \n",
       "\n",
       "       votes_2024  outcome  share  \n",
       "0          Labour     60.3   37.0  \n",
       "1       Reform UK     58.6   42.8  \n",
       "2          Labour     57.4   41.2  \n",
       "3          Labour     56.5   40.5  \n",
       "4       Reform UK     53.4   38.4  \n",
       "..            ...      ...    ...  \n",
       "645  Conservative     63.5   39.3  \n",
       "646        Labour     54.2   43.7  \n",
       "647  Conservative     70.3   39.4  \n",
       "648        Labour     54.5   56.6  \n",
       "649        Labour     67.0   45.3  \n",
       "\n",
       "[650 rows x 6 columns]"
      ]
     },
     "execution_count": 38,
     "metadata": {},
     "output_type": "execute_result"
    }
   ],
   "source": [
    "uk_election_result"
   ]
  },
  {
   "cell_type": "code",
   "execution_count": 40,
   "metadata": {},
   "outputs": [
    {
     "data": {
      "text/html": [
       "<div>\n",
       "<style scoped>\n",
       "    .dataframe tbody tr th:only-of-type {\n",
       "        vertical-align: middle;\n",
       "    }\n",
       "\n",
       "    .dataframe tbody tr th {\n",
       "        vertical-align: top;\n",
       "    }\n",
       "\n",
       "    .dataframe thead th {\n",
       "        text-align: right;\n",
       "    }\n",
       "</style>\n",
       "<table border=\"1\" class=\"dataframe\">\n",
       "  <thead>\n",
       "    <tr style=\"text-align: right;\">\n",
       "      <th></th>\n",
       "      <th>mean</th>\n",
       "      <th>median</th>\n",
       "      <th>std</th>\n",
       "      <th>var</th>\n",
       "      <th>count</th>\n",
       "    </tr>\n",
       "    <tr>\n",
       "      <th>votes_2019</th>\n",
       "      <th></th>\n",
       "      <th></th>\n",
       "      <th></th>\n",
       "      <th></th>\n",
       "      <th></th>\n",
       "    </tr>\n",
       "  </thead>\n",
       "  <tbody>\n",
       "    <tr>\n",
       "      <th>Alliance</th>\n",
       "      <td>48.300000</td>\n",
       "      <td>48.30</td>\n",
       "      <td>NaN</td>\n",
       "      <td>NaN</td>\n",
       "      <td>1</td>\n",
       "    </tr>\n",
       "    <tr>\n",
       "      <th>Conservative</th>\n",
       "      <td>39.190349</td>\n",
       "      <td>38.70</td>\n",
       "      <td>5.175689</td>\n",
       "      <td>26.787756</td>\n",
       "      <td>373</td>\n",
       "    </tr>\n",
       "    <tr>\n",
       "      <th>Democratic Unionist Party</th>\n",
       "      <td>36.662500</td>\n",
       "      <td>37.95</td>\n",
       "      <td>7.576833</td>\n",
       "      <td>57.408393</td>\n",
       "      <td>8</td>\n",
       "    </tr>\n",
       "    <tr>\n",
       "      <th>Green</th>\n",
       "      <td>55.000000</td>\n",
       "      <td>55.00</td>\n",
       "      <td>NaN</td>\n",
       "      <td>NaN</td>\n",
       "      <td>1</td>\n",
       "    </tr>\n",
       "    <tr>\n",
       "      <th>Independent</th>\n",
       "      <td>50.433333</td>\n",
       "      <td>49.50</td>\n",
       "      <td>1.882374</td>\n",
       "      <td>3.543333</td>\n",
       "      <td>3</td>\n",
       "    </tr>\n",
       "    <tr>\n",
       "      <th>Labour</th>\n",
       "      <td>47.497462</td>\n",
       "      <td>47.70</td>\n",
       "      <td>7.550567</td>\n",
       "      <td>57.011065</td>\n",
       "      <td>197</td>\n",
       "    </tr>\n",
       "    <tr>\n",
       "      <th>Liberal Democrat</th>\n",
       "      <td>52.187500</td>\n",
       "      <td>53.10</td>\n",
       "      <td>5.049593</td>\n",
       "      <td>25.498393</td>\n",
       "      <td>8</td>\n",
       "    </tr>\n",
       "    <tr>\n",
       "      <th>Plaid Cymru</th>\n",
       "      <td>50.450000</td>\n",
       "      <td>50.45</td>\n",
       "      <td>4.879037</td>\n",
       "      <td>23.805000</td>\n",
       "      <td>2</td>\n",
       "    </tr>\n",
       "    <tr>\n",
       "      <th>Scottish National Party</th>\n",
       "      <td>44.014304</td>\n",
       "      <td>44.30</td>\n",
       "      <td>5.796399</td>\n",
       "      <td>33.598243</td>\n",
       "      <td>47</td>\n",
       "    </tr>\n",
       "    <tr>\n",
       "      <th>Sinn Féin</th>\n",
       "      <td>48.885714</td>\n",
       "      <td>48.60</td>\n",
       "      <td>4.059322</td>\n",
       "      <td>16.478095</td>\n",
       "      <td>7</td>\n",
       "    </tr>\n",
       "    <tr>\n",
       "      <th>Social Democratic and Labour Party</th>\n",
       "      <td>44.950000</td>\n",
       "      <td>44.95</td>\n",
       "      <td>5.868986</td>\n",
       "      <td>34.445000</td>\n",
       "      <td>2</td>\n",
       "    </tr>\n",
       "    <tr>\n",
       "      <th>The Speaker</th>\n",
       "      <td>74.300000</td>\n",
       "      <td>74.30</td>\n",
       "      <td>NaN</td>\n",
       "      <td>NaN</td>\n",
       "      <td>1</td>\n",
       "    </tr>\n",
       "  </tbody>\n",
       "</table>\n",
       "</div>"
      ],
      "text/plain": [
       "                                         mean  median       std        var  \\\n",
       "votes_2019                                                                   \n",
       "Alliance                            48.300000   48.30       NaN        NaN   \n",
       "Conservative                        39.190349   38.70  5.175689  26.787756   \n",
       "Democratic Unionist Party           36.662500   37.95  7.576833  57.408393   \n",
       "Green                               55.000000   55.00       NaN        NaN   \n",
       "Independent                         50.433333   49.50  1.882374   3.543333   \n",
       "Labour                              47.497462   47.70  7.550567  57.011065   \n",
       "Liberal Democrat                    52.187500   53.10  5.049593  25.498393   \n",
       "Plaid Cymru                         50.450000   50.45  4.879037  23.805000   \n",
       "Scottish National Party             44.014304   44.30  5.796399  33.598243   \n",
       "Sinn Féin                           48.885714   48.60  4.059322  16.478095   \n",
       "Social Democratic and Labour Party  44.950000   44.95  5.868986  34.445000   \n",
       "The Speaker                         74.300000   74.30       NaN        NaN   \n",
       "\n",
       "                                    count  \n",
       "votes_2019                                 \n",
       "Alliance                                1  \n",
       "Conservative                          373  \n",
       "Democratic Unionist Party               8  \n",
       "Green                                   1  \n",
       "Independent                             3  \n",
       "Labour                                197  \n",
       "Liberal Democrat                        8  \n",
       "Plaid Cymru                             2  \n",
       "Scottish National Party                47  \n",
       "Sinn Féin                               7  \n",
       "Social Democratic and Labour Party      2  \n",
       "The Speaker                             1  "
      ]
     },
     "execution_count": 40,
     "metadata": {},
     "output_type": "execute_result"
    }
   ],
   "source": [
    "# using the groupby method to calculate the mean, median, standard deviation, variance and count of the share column\n",
    "uk_election_result.groupby('votes_2019')['share'].agg(['mean', 'median', 'std', 'var', 'count'])"
   ]
  },
  {
   "cell_type": "code",
   "execution_count": 42,
   "metadata": {},
   "outputs": [
    {
     "data": {
      "text/html": [
       "<div>\n",
       "<style scoped>\n",
       "    .dataframe tbody tr th:only-of-type {\n",
       "        vertical-align: middle;\n",
       "    }\n",
       "\n",
       "    .dataframe tbody tr th {\n",
       "        vertical-align: top;\n",
       "    }\n",
       "\n",
       "    .dataframe thead th {\n",
       "        text-align: right;\n",
       "    }\n",
       "</style>\n",
       "<table border=\"1\" class=\"dataframe\">\n",
       "  <thead>\n",
       "    <tr style=\"text-align: right;\">\n",
       "      <th></th>\n",
       "      <th>constituency</th>\n",
       "      <th>region</th>\n",
       "      <th>votes_2019</th>\n",
       "      <th>votes_2024</th>\n",
       "      <th>outcome</th>\n",
       "      <th>share</th>\n",
       "    </tr>\n",
       "  </thead>\n",
       "  <tbody>\n",
       "    <tr>\n",
       "      <th>0</th>\n",
       "      <td>Amber Valley</td>\n",
       "      <td>East Midlands</td>\n",
       "      <td>Conservative</td>\n",
       "      <td>Labour</td>\n",
       "      <td>60.3</td>\n",
       "      <td>37.0</td>\n",
       "    </tr>\n",
       "    <tr>\n",
       "      <th>1</th>\n",
       "      <td>Ashfield</td>\n",
       "      <td>East Midlands</td>\n",
       "      <td>Conservative</td>\n",
       "      <td>Reform UK</td>\n",
       "      <td>58.6</td>\n",
       "      <td>42.8</td>\n",
       "    </tr>\n",
       "    <tr>\n",
       "      <th>2</th>\n",
       "      <td>Bassetlaw</td>\n",
       "      <td>East Midlands</td>\n",
       "      <td>Conservative</td>\n",
       "      <td>Labour</td>\n",
       "      <td>57.4</td>\n",
       "      <td>41.2</td>\n",
       "    </tr>\n",
       "    <tr>\n",
       "      <th>3</th>\n",
       "      <td>Bolsover</td>\n",
       "      <td>East Midlands</td>\n",
       "      <td>Conservative</td>\n",
       "      <td>Labour</td>\n",
       "      <td>56.5</td>\n",
       "      <td>40.5</td>\n",
       "    </tr>\n",
       "    <tr>\n",
       "      <th>4</th>\n",
       "      <td>Boston &amp; Skegness</td>\n",
       "      <td>East Midlands</td>\n",
       "      <td>Conservative</td>\n",
       "      <td>Reform UK</td>\n",
       "      <td>53.4</td>\n",
       "      <td>38.4</td>\n",
       "    </tr>\n",
       "    <tr>\n",
       "      <th>...</th>\n",
       "      <td>...</td>\n",
       "      <td>...</td>\n",
       "      <td>...</td>\n",
       "      <td>...</td>\n",
       "      <td>...</td>\n",
       "      <td>...</td>\n",
       "    </tr>\n",
       "    <tr>\n",
       "      <th>644</th>\n",
       "      <td>Spen Valley</td>\n",
       "      <td>Yorkshire and the Humber</td>\n",
       "      <td>Conservative</td>\n",
       "      <td>Labour</td>\n",
       "      <td>56.5</td>\n",
       "      <td>39.2</td>\n",
       "    </tr>\n",
       "    <tr>\n",
       "      <th>645</th>\n",
       "      <td>Thirsk &amp; Malton</td>\n",
       "      <td>Yorkshire and the Humber</td>\n",
       "      <td>Conservative</td>\n",
       "      <td>Conservative</td>\n",
       "      <td>63.5</td>\n",
       "      <td>39.3</td>\n",
       "    </tr>\n",
       "    <tr>\n",
       "      <th>646</th>\n",
       "      <td>Wakefield &amp; Rothwell</td>\n",
       "      <td>Yorkshire and the Humber</td>\n",
       "      <td>Conservative</td>\n",
       "      <td>Labour</td>\n",
       "      <td>54.2</td>\n",
       "      <td>43.7</td>\n",
       "    </tr>\n",
       "    <tr>\n",
       "      <th>647</th>\n",
       "      <td>Wetherby &amp; Easingwold</td>\n",
       "      <td>Yorkshire and the Humber</td>\n",
       "      <td>Conservative</td>\n",
       "      <td>Conservative</td>\n",
       "      <td>70.3</td>\n",
       "      <td>39.4</td>\n",
       "    </tr>\n",
       "    <tr>\n",
       "      <th>649</th>\n",
       "      <td>York Outer</td>\n",
       "      <td>Yorkshire and the Humber</td>\n",
       "      <td>Conservative</td>\n",
       "      <td>Labour</td>\n",
       "      <td>67.0</td>\n",
       "      <td>45.3</td>\n",
       "    </tr>\n",
       "  </tbody>\n",
       "</table>\n",
       "<p>373 rows × 6 columns</p>\n",
       "</div>"
      ],
      "text/plain": [
       "              constituency                    region    votes_2019  \\\n",
       "0             Amber Valley             East Midlands  Conservative   \n",
       "1                 Ashfield             East Midlands  Conservative   \n",
       "2                Bassetlaw             East Midlands  Conservative   \n",
       "3                 Bolsover             East Midlands  Conservative   \n",
       "4        Boston & Skegness             East Midlands  Conservative   \n",
       "..                     ...                       ...           ...   \n",
       "644            Spen Valley  Yorkshire and the Humber  Conservative   \n",
       "645        Thirsk & Malton  Yorkshire and the Humber  Conservative   \n",
       "646   Wakefield & Rothwell  Yorkshire and the Humber  Conservative   \n",
       "647  Wetherby & Easingwold  Yorkshire and the Humber  Conservative   \n",
       "649             York Outer  Yorkshire and the Humber  Conservative   \n",
       "\n",
       "       votes_2024  outcome  share  \n",
       "0          Labour     60.3   37.0  \n",
       "1       Reform UK     58.6   42.8  \n",
       "2          Labour     57.4   41.2  \n",
       "3          Labour     56.5   40.5  \n",
       "4       Reform UK     53.4   38.4  \n",
       "..            ...      ...    ...  \n",
       "644        Labour     56.5   39.2  \n",
       "645  Conservative     63.5   39.3  \n",
       "646        Labour     54.2   43.7  \n",
       "647  Conservative     70.3   39.4  \n",
       "649        Labour     67.0   45.3  \n",
       "\n",
       "[373 rows x 6 columns]"
      ]
     },
     "execution_count": 42,
     "metadata": {},
     "output_type": "execute_result"
    }
   ],
   "source": [
    "# filtering the data to get the conservative party\n",
    "uk_election_result[uk_election_result['votes_2019'] == 'Conservative']"
   ]
  },
  {
   "cell_type": "code",
   "execution_count": 46,
   "metadata": {},
   "outputs": [
    {
     "data": {
      "text/plain": [
       "<Axes: >"
      ]
     },
     "execution_count": 46,
     "metadata": {},
     "output_type": "execute_result"
    },
    {
     "data": {
      "image/png": "[encoded data removed]",
      "text/plain": [
       "<Figure size 640x480 with 1 Axes>"
      ]
     },
     "metadata": {},
     "output_type": "display_data"
    }
   ],
   "source": [
    "# visualizing the share of the labour party for share column\n",
    "uk_election_result[uk_election_result['votes_2019'] == 'Labour']['share'].hist()"
   ]
  },
  {
   "cell_type": "code",
   "execution_count": 47,
   "metadata": {},
   "outputs": [
    {
     "data": {
      "text/plain": [
       "<Axes: >"
      ]
     },
     "execution_count": 47,
     "metadata": {},
     "output_type": "execute_result"
    },
    {
     "data": {
      "image/png": "[encoded data removed]",
      "text/plain": [
       "<Figure size 640x480 with 1 Axes>"
      ]
     },
     "metadata": {},
     "output_type": "display_data"
    }
   ],
   "source": [
    "# visualizing the share of the conservative party for share column\n",
    "uk_election_result[uk_election_result['votes_2019'] == 'Conservative']['share'].hist()"
   ]
  },
  {
   "cell_type": "markdown",
   "metadata": {},
   "source": [
    "# Module 2: Random Numbers and Probability\n",
    "\n",
    "In this chapter, you'll learn how to generate random samples and measure chance using probability. You'll work with real-world sales data to calculate the probability of a salesperson being successful. Finally, you’ll use the binomial distribution to model events with binary outcomes.\n"
   ]
  },
  {
   "cell_type": "markdown",
   "metadata": {},
   "source": [
    "### Selecting random samples with replacement"
   ]
  },
  {
   "cell_type": "code",
   "execution_count": 32,
   "metadata": {},
   "outputs": [
    {
     "data": {
      "text/html": [
       "<div>\n",
       "<style scoped>\n",
       "    .dataframe tbody tr th:only-of-type {\n",
       "        vertical-align: middle;\n",
       "    }\n",
       "\n",
       "    .dataframe tbody tr th {\n",
       "        vertical-align: top;\n",
       "    }\n",
       "\n",
       "    .dataframe thead th {\n",
       "        text-align: right;\n",
       "    }\n",
       "</style>\n",
       "<table border=\"1\" class=\"dataframe\">\n",
       "  <thead>\n",
       "    <tr style=\"text-align: right;\">\n",
       "      <th></th>\n",
       "      <th>name</th>\n",
       "      <th>sales</th>\n",
       "    </tr>\n",
       "  </thead>\n",
       "  <tbody>\n",
       "    <tr>\n",
       "      <th>0</th>\n",
       "      <td>Alice</td>\n",
       "      <td>100</td>\n",
       "    </tr>\n",
       "    <tr>\n",
       "      <th>1</th>\n",
       "      <td>Bob</td>\n",
       "      <td>200</td>\n",
       "    </tr>\n",
       "    <tr>\n",
       "      <th>2</th>\n",
       "      <td>Charlie</td>\n",
       "      <td>150</td>\n",
       "    </tr>\n",
       "    <tr>\n",
       "      <th>3</th>\n",
       "      <td>Diana</td>\n",
       "      <td>300</td>\n",
       "    </tr>\n",
       "    <tr>\n",
       "      <th>4</th>\n",
       "      <td>Elisa</td>\n",
       "      <td>250</td>\n",
       "    </tr>\n",
       "  </tbody>\n",
       "</table>\n",
       "</div>"
      ],
      "text/plain": [
       "      name  sales\n",
       "0    Alice    100\n",
       "1      Bob    200\n",
       "2  Charlie    150\n",
       "3    Diana    300\n",
       "4    Elisa    250"
      ]
     },
     "execution_count": 32,
     "metadata": {},
     "output_type": "execute_result"
    }
   ],
   "source": [
    "data = [{'name': 'Alice', 'sales': 100}, {'name': 'Bob', 'sales': 200}, \\\n",
    "    {'name': 'Charlie', 'sales': 150}, \\\n",
    "    {'name': 'Diana', 'sales': 300}, {'name': 'Elisa', 'sales': 250}]\n",
    "\n",
    "sales = pd.DataFrame(data)\n",
    "sales\n"
   ]
  },
  {
   "cell_type": "code",
   "execution_count": 4,
   "metadata": {},
   "outputs": [
    {
     "data": {
      "text/html": [
       "<div>\n",
       "<style scoped>\n",
       "    .dataframe tbody tr th:only-of-type {\n",
       "        vertical-align: middle;\n",
       "    }\n",
       "\n",
       "    .dataframe tbody tr th {\n",
       "        vertical-align: top;\n",
       "    }\n",
       "\n",
       "    .dataframe thead th {\n",
       "        text-align: right;\n",
       "    }\n",
       "</style>\n",
       "<table border=\"1\" class=\"dataframe\">\n",
       "  <thead>\n",
       "    <tr style=\"text-align: right;\">\n",
       "      <th></th>\n",
       "      <th>name</th>\n",
       "      <th>sales</th>\n",
       "    </tr>\n",
       "  </thead>\n",
       "  <tbody>\n",
       "    <tr>\n",
       "      <th>3</th>\n",
       "      <td>Diana</td>\n",
       "      <td>300</td>\n",
       "    </tr>\n",
       "    <tr>\n",
       "      <th>2</th>\n",
       "      <td>Charlie</td>\n",
       "      <td>150</td>\n",
       "    </tr>\n",
       "    <tr>\n",
       "      <th>4</th>\n",
       "      <td>Elisa</td>\n",
       "      <td>250</td>\n",
       "    </tr>\n",
       "  </tbody>\n",
       "</table>\n",
       "</div>"
      ],
      "text/plain": [
       "      name  sales\n",
       "3    Diana    300\n",
       "2  Charlie    150\n",
       "4    Elisa    250"
      ]
     },
     "execution_count": 4,
     "metadata": {},
     "output_type": "execute_result"
    }
   ],
   "source": [
    "# selecting random samples\n",
    "# this changes the data every time it is run\n",
    "sales.sample(n=3)"
   ]
  },
  {
   "cell_type": "code",
   "execution_count": 5,
   "metadata": {},
   "outputs": [
    {
     "data": {
      "text/html": [
       "<div>\n",
       "<style scoped>\n",
       "    .dataframe tbody tr th:only-of-type {\n",
       "        vertical-align: middle;\n",
       "    }\n",
       "\n",
       "    .dataframe tbody tr th {\n",
       "        vertical-align: top;\n",
       "    }\n",
       "\n",
       "    .dataframe thead th {\n",
       "        text-align: right;\n",
       "    }\n",
       "</style>\n",
       "<table border=\"1\" class=\"dataframe\">\n",
       "  <thead>\n",
       "    <tr style=\"text-align: right;\">\n",
       "      <th></th>\n",
       "      <th>name</th>\n",
       "      <th>sales</th>\n",
       "    </tr>\n",
       "  </thead>\n",
       "  <tbody>\n",
       "    <tr>\n",
       "      <th>2</th>\n",
       "      <td>Charlie</td>\n",
       "      <td>150</td>\n",
       "    </tr>\n",
       "  </tbody>\n",
       "</table>\n",
       "</div>"
      ],
      "text/plain": [
       "      name  sales\n",
       "2  Charlie    150"
      ]
     },
     "execution_count": 5,
     "metadata": {},
     "output_type": "execute_result"
    }
   ],
   "source": [
    "# We can run the sample without number of samples\n",
    "# this changes the data every time it is run, and it selects a random sample of 1\n",
    "sales.sample()"
   ]
  },
  {
   "cell_type": "markdown",
   "metadata": {},
   "source": [
    "### Selecting random samples without replacement"
   ]
  },
  {
   "cell_type": "markdown",
   "metadata": {},
   "source": [
    "To represent sample without replacement, we can use the replace paramenetr in the funtion as thus:\n",
    "\n",
    "```python\n",
    "data.sample(number, replace=True)\n",
    "```\n",
    "\n",
    "where \n",
    "- data is the dataset\n",
    "- number is the number of samples to select\n",
    "- replace is a boolean value that determines whether to sample with replacement. If replace=True, the sample is selected with replacement. If replace=False, the sample is selected without replacement."
   ]
  },
  {
   "cell_type": "code",
   "execution_count": 7,
   "metadata": {},
   "outputs": [
    {
     "data": {
      "text/html": [
       "<div>\n",
       "<style scoped>\n",
       "    .dataframe tbody tr th:only-of-type {\n",
       "        vertical-align: middle;\n",
       "    }\n",
       "\n",
       "    .dataframe tbody tr th {\n",
       "        vertical-align: top;\n",
       "    }\n",
       "\n",
       "    .dataframe thead th {\n",
       "        text-align: right;\n",
       "    }\n",
       "</style>\n",
       "<table border=\"1\" class=\"dataframe\">\n",
       "  <thead>\n",
       "    <tr style=\"text-align: right;\">\n",
       "      <th></th>\n",
       "      <th>name</th>\n",
       "      <th>sales</th>\n",
       "    </tr>\n",
       "  </thead>\n",
       "  <tbody>\n",
       "    <tr>\n",
       "      <th>0</th>\n",
       "      <td>Alice</td>\n",
       "      <td>100</td>\n",
       "    </tr>\n",
       "    <tr>\n",
       "      <th>1</th>\n",
       "      <td>Bob</td>\n",
       "      <td>200</td>\n",
       "    </tr>\n",
       "    <tr>\n",
       "      <th>3</th>\n",
       "      <td>Diana</td>\n",
       "      <td>300</td>\n",
       "    </tr>\n",
       "    <tr>\n",
       "      <th>4</th>\n",
       "      <td>Elisa</td>\n",
       "      <td>250</td>\n",
       "    </tr>\n",
       "    <tr>\n",
       "      <th>1</th>\n",
       "      <td>Bob</td>\n",
       "      <td>200</td>\n",
       "    </tr>\n",
       "  </tbody>\n",
       "</table>\n",
       "</div>"
      ],
      "text/plain": [
       "    name  sales\n",
       "0  Alice    100\n",
       "1    Bob    200\n",
       "3  Diana    300\n",
       "4  Elisa    250\n",
       "1    Bob    200"
      ]
     },
     "execution_count": 7,
     "metadata": {},
     "output_type": "execute_result"
    }
   ],
   "source": [
    "sales.sample(5, replace=True)"
   ]
  },
  {
   "cell_type": "code",
   "execution_count": 8,
   "metadata": {},
   "outputs": [
    {
     "data": {
      "text/html": [
       "<div>\n",
       "<style scoped>\n",
       "    .dataframe tbody tr th:only-of-type {\n",
       "        vertical-align: middle;\n",
       "    }\n",
       "\n",
       "    .dataframe tbody tr th {\n",
       "        vertical-align: top;\n",
       "    }\n",
       "\n",
       "    .dataframe thead th {\n",
       "        text-align: right;\n",
       "    }\n",
       "</style>\n",
       "<table border=\"1\" class=\"dataframe\">\n",
       "  <thead>\n",
       "    <tr style=\"text-align: right;\">\n",
       "      <th></th>\n",
       "      <th>name</th>\n",
       "      <th>sales</th>\n",
       "    </tr>\n",
       "  </thead>\n",
       "  <tbody>\n",
       "    <tr>\n",
       "      <th>0</th>\n",
       "      <td>Alice</td>\n",
       "      <td>100</td>\n",
       "    </tr>\n",
       "    <tr>\n",
       "      <th>1</th>\n",
       "      <td>Bob</td>\n",
       "      <td>200</td>\n",
       "    </tr>\n",
       "    <tr>\n",
       "      <th>2</th>\n",
       "      <td>Charlie</td>\n",
       "      <td>150</td>\n",
       "    </tr>\n",
       "    <tr>\n",
       "      <th>0</th>\n",
       "      <td>Alice</td>\n",
       "      <td>100</td>\n",
       "    </tr>\n",
       "    <tr>\n",
       "      <th>1</th>\n",
       "      <td>Bob</td>\n",
       "      <td>200</td>\n",
       "    </tr>\n",
       "  </tbody>\n",
       "</table>\n",
       "</div>"
      ],
      "text/plain": [
       "      name  sales\n",
       "0    Alice    100\n",
       "1      Bob    200\n",
       "2  Charlie    150\n",
       "0    Alice    100\n",
       "1      Bob    200"
      ]
     },
     "execution_count": 8,
     "metadata": {},
     "output_type": "execute_result"
    }
   ],
   "source": [
    "sales.sample(5, replace=True)"
   ]
  },
  {
   "cell_type": "markdown",
   "metadata": {},
   "source": [
    "### Setting a random seed\n",
    "\n",
    "Seed is a number used to initialize a pseudorandom number generator. The seed is used to generate a sequence of random numbers. If you set the seed to the same value, you will get the same sequence of random numbers. This is useful for debugging and testing, as it allows you to reproduce the same sequence of random numbers."
   ]
  },
  {
   "cell_type": "code",
   "execution_count": 6,
   "metadata": {},
   "outputs": [
    {
     "data": {
      "text/html": [
       "<div>\n",
       "<style scoped>\n",
       "    .dataframe tbody tr th:only-of-type {\n",
       "        vertical-align: middle;\n",
       "    }\n",
       "\n",
       "    .dataframe tbody tr th {\n",
       "        vertical-align: top;\n",
       "    }\n",
       "\n",
       "    .dataframe thead th {\n",
       "        text-align: right;\n",
       "    }\n",
       "</style>\n",
       "<table border=\"1\" class=\"dataframe\">\n",
       "  <thead>\n",
       "    <tr style=\"text-align: right;\">\n",
       "      <th></th>\n",
       "      <th>name</th>\n",
       "      <th>sales</th>\n",
       "    </tr>\n",
       "  </thead>\n",
       "  <tbody>\n",
       "    <tr>\n",
       "      <th>2</th>\n",
       "      <td>Charlie</td>\n",
       "      <td>150</td>\n",
       "    </tr>\n",
       "    <tr>\n",
       "      <th>3</th>\n",
       "      <td>Diana</td>\n",
       "      <td>300</td>\n",
       "    </tr>\n",
       "    <tr>\n",
       "      <th>0</th>\n",
       "      <td>Alice</td>\n",
       "      <td>100</td>\n",
       "    </tr>\n",
       "    <tr>\n",
       "      <th>4</th>\n",
       "      <td>Elisa</td>\n",
       "      <td>250</td>\n",
       "    </tr>\n",
       "  </tbody>\n",
       "</table>\n",
       "</div>"
      ],
      "text/plain": [
       "      name  sales\n",
       "2  Charlie    150\n",
       "3    Diana    300\n",
       "0    Alice    100\n",
       "4    Elisa    250"
      ]
     },
     "execution_count": 6,
     "metadata": {},
     "output_type": "execute_result"
    }
   ],
   "source": [
    "# we can also set the random seed to get the same random sample every time\n",
    "# this will return the same random sample every time\n",
    "np.random.seed(10)\n",
    "sales.sample(4)"
   ]
  },
  {
   "cell_type": "markdown",
   "metadata": {},
   "source": [
    "#### Sampling with/without replacement in Python"
   ]
  },
  {
   "cell_type": "markdown",
   "metadata": {},
   "source": [
    "it is a common pratice to have a sample of data from a population. The sample can be with or without replacement.\n",
    "\n",
    "For a sample with replacement, you set the replace parameter to True. This means that each element in the population can be selected more than once. For a sample without replacement, you set the replace parameter to False. This means that each element in the population can be selected only once."
   ]
  },
  {
   "cell_type": "code",
   "execution_count": 75,
   "metadata": {},
   "outputs": [
    {
     "data": {
      "text/html": [
       "<div>\n",
       "<style scoped>\n",
       "    .dataframe tbody tr th:only-of-type {\n",
       "        vertical-align: middle;\n",
       "    }\n",
       "\n",
       "    .dataframe tbody tr th {\n",
       "        vertical-align: top;\n",
       "    }\n",
       "\n",
       "    .dataframe thead th {\n",
       "        text-align: right;\n",
       "    }\n",
       "</style>\n",
       "<table border=\"1\" class=\"dataframe\">\n",
       "  <thead>\n",
       "    <tr style=\"text-align: right;\">\n",
       "      <th></th>\n",
       "      <th>name</th>\n",
       "      <th>sales</th>\n",
       "    </tr>\n",
       "  </thead>\n",
       "  <tbody>\n",
       "    <tr>\n",
       "      <th>0</th>\n",
       "      <td>Alice</td>\n",
       "      <td>100</td>\n",
       "    </tr>\n",
       "    <tr>\n",
       "      <th>0</th>\n",
       "      <td>Alice</td>\n",
       "      <td>100</td>\n",
       "    </tr>\n",
       "    <tr>\n",
       "      <th>3</th>\n",
       "      <td>Diana</td>\n",
       "      <td>300</td>\n",
       "    </tr>\n",
       "    <tr>\n",
       "      <th>2</th>\n",
       "      <td>Charlie</td>\n",
       "      <td>150</td>\n",
       "    </tr>\n",
       "    <tr>\n",
       "      <th>3</th>\n",
       "      <td>Diana</td>\n",
       "      <td>300</td>\n",
       "    </tr>\n",
       "  </tbody>\n",
       "</table>\n",
       "</div>"
      ],
      "text/plain": [
       "      name  sales\n",
       "0    Alice    100\n",
       "0    Alice    100\n",
       "3    Diana    300\n",
       "2  Charlie    150\n",
       "3    Diana    300"
      ]
     },
     "execution_count": 75,
     "metadata": {},
     "output_type": "execute_result"
    }
   ],
   "source": [
    "# Sampling with replacement\n",
    "np.random.seed(2)\n",
    "sales.sample(5, replace = True)"
   ]
  },
  {
   "cell_type": "code",
   "execution_count": 79,
   "metadata": {},
   "outputs": [
    {
     "data": {
      "text/html": [
       "<div>\n",
       "<style scoped>\n",
       "    .dataframe tbody tr th:only-of-type {\n",
       "        vertical-align: middle;\n",
       "    }\n",
       "\n",
       "    .dataframe tbody tr th {\n",
       "        vertical-align: top;\n",
       "    }\n",
       "\n",
       "    .dataframe thead th {\n",
       "        text-align: right;\n",
       "    }\n",
       "</style>\n",
       "<table border=\"1\" class=\"dataframe\">\n",
       "  <thead>\n",
       "    <tr style=\"text-align: right;\">\n",
       "      <th></th>\n",
       "      <th>name</th>\n",
       "      <th>sales</th>\n",
       "    </tr>\n",
       "  </thead>\n",
       "  <tbody>\n",
       "    <tr>\n",
       "      <th>3</th>\n",
       "      <td>Diana</td>\n",
       "      <td>300</td>\n",
       "    </tr>\n",
       "    <tr>\n",
       "      <th>4</th>\n",
       "      <td>Elisa</td>\n",
       "      <td>250</td>\n",
       "    </tr>\n",
       "    <tr>\n",
       "      <th>0</th>\n",
       "      <td>Alice</td>\n",
       "      <td>100</td>\n",
       "    </tr>\n",
       "    <tr>\n",
       "      <th>1</th>\n",
       "      <td>Bob</td>\n",
       "      <td>200</td>\n",
       "    </tr>\n",
       "    <tr>\n",
       "      <th>2</th>\n",
       "      <td>Charlie</td>\n",
       "      <td>150</td>\n",
       "    </tr>\n",
       "  </tbody>\n",
       "</table>\n",
       "</div>"
      ],
      "text/plain": [
       "      name  sales\n",
       "3    Diana    300\n",
       "4    Elisa    250\n",
       "0    Alice    100\n",
       "1      Bob    200\n",
       "2  Charlie    150"
      ]
     },
     "execution_count": 79,
     "metadata": {},
     "output_type": "execute_result"
    }
   ],
   "source": [
    "# sample without replacement\n",
    "np.random.seed(6)\n",
    "sales.sample(5, replace = False)"
   ]
  },
  {
   "cell_type": "code",
   "execution_count": 33,
   "metadata": {},
   "outputs": [
    {
     "name": "stdout",
     "output_type": "stream",
     "text": [
      "Rolled a die and got: 3\n"
     ]
    }
   ],
   "source": [
    "def roll_die():\n",
    "    return np.random.randint(1, 7)\n",
    "\n",
    "# Example usage:\n",
    "result = roll_die()\n",
    "print(f\"Rolled a die and got: {result}\")\n"
   ]
  },
  {
   "cell_type": "code",
   "execution_count": 37,
   "metadata": {},
   "outputs": [
    {
     "data": {
      "text/plain": [
       "0    1\n",
       "2    3\n",
       "4    5\n",
       "4    5\n",
       "3    4\n",
       "2    3\n",
       "5    6\n",
       "5    6\n",
       "2    3\n",
       "1    2\n",
       "dtype: int64"
      ]
     },
     "execution_count": 37,
     "metadata": {},
     "output_type": "execute_result"
    }
   ],
   "source": [
    "die = pd.Series([1, 2, 3, 4, 5, 6])\n",
    "rolls_10 = die.sample(10, replace = True)\n",
    "rolls_10"
   ]
  },
  {
   "cell_type": "markdown",
   "metadata": {},
   "source": [
    "### discrete Probability"
   ]
  },
  {
   "cell_type": "code",
   "execution_count": 74,
   "metadata": {},
   "outputs": [
    {
     "data": {
      "text/html": [
       "<div>\n",
       "<style scoped>\n",
       "    .dataframe tbody tr th:only-of-type {\n",
       "        vertical-align: middle;\n",
       "    }\n",
       "\n",
       "    .dataframe tbody tr th {\n",
       "        vertical-align: top;\n",
       "    }\n",
       "\n",
       "    .dataframe thead th {\n",
       "        text-align: right;\n",
       "    }\n",
       "</style>\n",
       "<table border=\"1\" class=\"dataframe\">\n",
       "  <thead>\n",
       "    <tr style=\"text-align: right;\">\n",
       "      <th></th>\n",
       "      <th>constituency</th>\n",
       "      <th>region</th>\n",
       "      <th>votes_2019</th>\n",
       "      <th>votes_2024</th>\n",
       "      <th>outcome</th>\n",
       "      <th>share</th>\n",
       "    </tr>\n",
       "  </thead>\n",
       "  <tbody>\n",
       "    <tr>\n",
       "      <th>0</th>\n",
       "      <td>Amber Valley</td>\n",
       "      <td>East Midlands</td>\n",
       "      <td>Conservative</td>\n",
       "      <td>Labour</td>\n",
       "      <td>60.3</td>\n",
       "      <td>37.0</td>\n",
       "    </tr>\n",
       "    <tr>\n",
       "      <th>1</th>\n",
       "      <td>Ashfield</td>\n",
       "      <td>East Midlands</td>\n",
       "      <td>Conservative</td>\n",
       "      <td>Reform UK</td>\n",
       "      <td>58.6</td>\n",
       "      <td>42.8</td>\n",
       "    </tr>\n",
       "    <tr>\n",
       "      <th>2</th>\n",
       "      <td>Bassetlaw</td>\n",
       "      <td>East Midlands</td>\n",
       "      <td>Conservative</td>\n",
       "      <td>Labour</td>\n",
       "      <td>57.4</td>\n",
       "      <td>41.2</td>\n",
       "    </tr>\n",
       "    <tr>\n",
       "      <th>3</th>\n",
       "      <td>Bolsover</td>\n",
       "      <td>East Midlands</td>\n",
       "      <td>Conservative</td>\n",
       "      <td>Labour</td>\n",
       "      <td>56.5</td>\n",
       "      <td>40.5</td>\n",
       "    </tr>\n",
       "    <tr>\n",
       "      <th>4</th>\n",
       "      <td>Boston &amp; Skegness</td>\n",
       "      <td>East Midlands</td>\n",
       "      <td>Conservative</td>\n",
       "      <td>Reform UK</td>\n",
       "      <td>53.4</td>\n",
       "      <td>38.4</td>\n",
       "    </tr>\n",
       "    <tr>\n",
       "      <th>...</th>\n",
       "      <td>...</td>\n",
       "      <td>...</td>\n",
       "      <td>...</td>\n",
       "      <td>...</td>\n",
       "      <td>...</td>\n",
       "      <td>...</td>\n",
       "    </tr>\n",
       "    <tr>\n",
       "      <th>645</th>\n",
       "      <td>Thirsk &amp; Malton</td>\n",
       "      <td>Yorkshire and the Humber</td>\n",
       "      <td>Conservative</td>\n",
       "      <td>Conservative</td>\n",
       "      <td>63.5</td>\n",
       "      <td>39.3</td>\n",
       "    </tr>\n",
       "    <tr>\n",
       "      <th>646</th>\n",
       "      <td>Wakefield &amp; Rothwell</td>\n",
       "      <td>Yorkshire and the Humber</td>\n",
       "      <td>Conservative</td>\n",
       "      <td>Labour</td>\n",
       "      <td>54.2</td>\n",
       "      <td>43.7</td>\n",
       "    </tr>\n",
       "    <tr>\n",
       "      <th>647</th>\n",
       "      <td>Wetherby &amp; Easingwold</td>\n",
       "      <td>Yorkshire and the Humber</td>\n",
       "      <td>Conservative</td>\n",
       "      <td>Conservative</td>\n",
       "      <td>70.3</td>\n",
       "      <td>39.4</td>\n",
       "    </tr>\n",
       "    <tr>\n",
       "      <th>648</th>\n",
       "      <td>York Central</td>\n",
       "      <td>Yorkshire and the Humber</td>\n",
       "      <td>Labour</td>\n",
       "      <td>Labour</td>\n",
       "      <td>54.5</td>\n",
       "      <td>56.6</td>\n",
       "    </tr>\n",
       "    <tr>\n",
       "      <th>649</th>\n",
       "      <td>York Outer</td>\n",
       "      <td>Yorkshire and the Humber</td>\n",
       "      <td>Conservative</td>\n",
       "      <td>Labour</td>\n",
       "      <td>67.0</td>\n",
       "      <td>45.3</td>\n",
       "    </tr>\n",
       "  </tbody>\n",
       "</table>\n",
       "<p>650 rows × 6 columns</p>\n",
       "</div>"
      ],
      "text/plain": [
       "              constituency                    region    votes_2019  \\\n",
       "0             Amber Valley             East Midlands  Conservative   \n",
       "1                 Ashfield             East Midlands  Conservative   \n",
       "2                Bassetlaw             East Midlands  Conservative   \n",
       "3                 Bolsover             East Midlands  Conservative   \n",
       "4        Boston & Skegness             East Midlands  Conservative   \n",
       "..                     ...                       ...           ...   \n",
       "645        Thirsk & Malton  Yorkshire and the Humber  Conservative   \n",
       "646   Wakefield & Rothwell  Yorkshire and the Humber  Conservative   \n",
       "647  Wetherby & Easingwold  Yorkshire and the Humber  Conservative   \n",
       "648           York Central  Yorkshire and the Humber        Labour   \n",
       "649             York Outer  Yorkshire and the Humber  Conservative   \n",
       "\n",
       "       votes_2024  outcome  share  \n",
       "0          Labour     60.3   37.0  \n",
       "1       Reform UK     58.6   42.8  \n",
       "2          Labour     57.4   41.2  \n",
       "3          Labour     56.5   40.5  \n",
       "4       Reform UK     53.4   38.4  \n",
       "..            ...      ...    ...  \n",
       "645  Conservative     63.5   39.3  \n",
       "646        Labour     54.2   43.7  \n",
       "647  Conservative     70.3   39.4  \n",
       "648        Labour     54.5   56.6  \n",
       "649        Labour     67.0   45.3  \n",
       "\n",
       "[650 rows x 6 columns]"
      ]
     },
     "execution_count": 74,
     "metadata": {},
     "output_type": "execute_result"
    }
   ],
   "source": [
    "uk_election_result"
   ]
  },
  {
   "cell_type": "code",
   "execution_count": 39,
   "metadata": {},
   "outputs": [
    {
     "data": {
      "text/plain": [
       "0      0.002183\n",
       "1      0.002122\n",
       "2      0.002078\n",
       "3      0.002046\n",
       "4      0.001934\n",
       "         ...   \n",
       "645    0.002299\n",
       "646    0.001963\n",
       "647    0.002546\n",
       "648    0.001973\n",
       "649    0.002426\n",
       "Name: outcome, Length: 650, dtype: float64"
      ]
     },
     "execution_count": 39,
     "metadata": {},
     "output_type": "execute_result"
    }
   ],
   "source": [
    "uk_election_result['outcome'] / uk_election_result['share'].sum()"
   ]
  },
  {
   "cell_type": "markdown",
   "metadata": {},
   "source": [
    "#### Continuous distributions"
   ]
  },
  {
   "cell_type": "code",
   "execution_count": 35,
   "metadata": {},
   "outputs": [
    {
     "data": {
      "text/plain": [
       "np.float64(0.25)"
      ]
     },
     "execution_count": 35,
     "metadata": {},
     "output_type": "execute_result"
    }
   ],
   "source": [
    "# probability of a picking a 7 from a uniform distribution between 4 and 16 ()\n",
    "from scipy.stats import uniform \n",
    "uniform.cdf(7, 4, 12)"
   ]
  },
  {
   "cell_type": "code",
   "execution_count": 36,
   "metadata": {},
   "outputs": [
    {
     "data": {
      "text/plain": [
       "np.float64(0.5833333333333334)"
      ]
     },
     "execution_count": 36,
     "metadata": {},
     "output_type": "execute_result"
    }
   ],
   "source": [
    "# probability of a picking a 7 from a uniform distribution between 0 and 12\n",
    "# probability of less than \n",
    "uniform.cdf(7, 0, 12)"
   ]
  },
  {
   "cell_type": "code",
   "execution_count": 37,
   "metadata": {},
   "outputs": [
    {
     "data": {
      "text/plain": [
       "np.float64(0.41666666666666663)"
      ]
     },
     "execution_count": 37,
     "metadata": {},
     "output_type": "execute_result"
    }
   ],
   "source": [
    "# \"Greater than\" probabilities\n",
    "1- uniform.cdf(7, 0, 12)"
   ]
  },
  {
   "cell_type": "code",
   "execution_count": 38,
   "metadata": {},
   "outputs": [
    {
     "data": {
      "text/plain": [
       "np.float64(0.25000000000000006)"
      ]
     },
     "execution_count": 38,
     "metadata": {},
     "output_type": "execute_result"
    }
   ],
   "source": [
    "uniform.cdf(7, 0, 12) - uniform.cdf(4, 0, 12)"
   ]
  },
  {
   "cell_type": "code",
   "execution_count": 43,
   "metadata": {},
   "outputs": [
    {
     "data": {
      "text/plain": [
       "array([0.25857804, 1.55928636, 0.2720045 , 2.89092127, 0.9484037 ,\n",
       "       2.7732406 , 3.8073895 , 1.25275605, 1.61622496, 0.64334304])"
      ]
     },
     "execution_count": 43,
     "metadata": {},
     "output_type": "execute_result"
    }
   ],
   "source": [
    "uniform.rvs(0, 5, size=10)"
   ]
  },
  {
   "cell_type": "code",
   "execution_count": 44,
   "metadata": {},
   "outputs": [
    {
     "data": {
      "text/plain": [
       "np.float64(0.0)"
      ]
     },
     "execution_count": 44,
     "metadata": {},
     "output_type": "execute_result"
    }
   ],
   "source": [
    "uniform.cdf(0,30)"
   ]
  },
  {
   "cell_type": "code",
   "execution_count": 45,
   "metadata": {},
   "outputs": [
    {
     "name": "stdout",
     "output_type": "stream",
     "text": [
      "[ 7.144097    0.97455866  3.72802787  5.11644319  8.70602482 24.69140099\n",
      " 23.98012075  3.19592668 25.1985306  17.89048629 24.68695356 18.27160808\n",
      " 22.85829011  0.12929581 15.67789664  2.3262095  15.79151771 21.90473557\n",
      " 18.25817257 15.78657023 28.74328434  9.38971275 17.0010565   0.95433991\n",
      " 15.96917606  2.16395679  8.903302   19.24982156  6.52414731 14.10185677\n",
      " 27.86973455 14.38121016 28.59233824 13.17550521 22.96382405  2.52904371\n",
      "  6.2163781   8.40217036  4.48079914 28.16365298 19.73302715  3.63959282\n",
      "  1.74002295  1.5324219  26.97096908 29.37490861  4.71379092  6.44990488\n",
      "  6.81999564 22.81302458 12.41563042 11.14591581  8.08043184 29.60574053\n",
      "  3.24571518 19.66709277 13.38939302 29.56433707 24.84697258  6.249684\n",
      " 15.07668579  5.27474477 27.27430815  2.42084219 27.88317515  0.81231424\n",
      "  3.48564273 19.80738592  6.11128124 19.10323692  9.12156821 28.31696467\n",
      " 20.80158047 17.0840986  26.59969632 28.38502685 20.75398728 11.73610958\n",
      " 20.55950389 18.20349931  4.68857179 17.67638417 29.99091109 18.67756789\n",
      " 11.16391438  3.53028943 14.93882748 24.89203249 17.47310051 20.8740314\n",
      " 16.6070177  19.19564265  8.96414904  5.28451257  1.05350993 21.77737031\n",
      " 23.61684528 22.72809506 24.8322021  14.36218169  8.6091251  25.13656432\n",
      " 11.45898163 19.92575672 25.12266034  7.63273768  5.0240165  20.92435348\n",
      " 13.23933607  0.6401269  15.6813087  13.98669465  5.00961969 26.55407346\n",
      " 15.6478544   5.36392254 22.2807534  22.95452053 12.09657902 15.33347354\n",
      " 29.36367996 27.32761079 16.57775534 13.28054948 17.09693671 27.45768651\n",
      "  2.59501602  9.41004409  9.14688319 19.72368555  0.8399502   1.36535784\n",
      "  8.24745591 10.2650512  29.95498509 20.64562623  5.93986334 11.17818273\n",
      " 26.32817252  8.07638083  6.6348515  16.29376148 29.99092275 25.71567927\n",
      " 11.55546768 21.91960495 11.23343293 12.37874514 15.0825809  28.02838931\n",
      " 22.8535862   8.8911682  27.94808637 18.59880054 19.31673054  4.78414772\n",
      " 24.68245155  4.61858339  4.34185585  9.86285797 22.64196176 20.70638537\n",
      "  2.07610021 16.5432359   0.83932634 26.55708037 11.96557209  8.07255521\n",
      " 10.80342781 23.29099616 22.86574237 14.34997804  5.88657148 13.93691899\n",
      "  3.85622609 15.39470306 21.25310818 18.36870054  8.06383855 27.35806466\n",
      "  8.24616015 21.22703251 17.37235409  4.83719581 17.84253763  3.31270513\n",
      " 28.05979944 28.42309918  8.73094692 25.71299775  2.22366188  4.30187426\n",
      " 21.89436597 29.49072021 15.30664125 22.3802789   0.08102944 14.78896917\n",
      " 16.40399119  7.68390804  2.10437223  6.68794817 10.19108918 22.31258787\n",
      "  5.8189225  27.60781938 19.51339944 21.33124269  1.6294243  15.51174843\n",
      " 13.47212795 16.24027513 22.10266715  5.52406499  7.22056009  7.36829948\n",
      " 18.91081125 19.80927487 12.80401324  2.70031211 26.86102574 22.01951095\n",
      " 17.17665123 18.81827876  3.67837051 15.46293386 29.51597515 15.89595847\n",
      " 17.41855781 25.55857784 25.65737763 16.4151132   5.00323267 11.63197386\n",
      " 17.66808546 25.466024   15.18486451  0.85940046 27.00984537 14.42468181\n",
      " 27.4812224   9.47231537  2.05988889 17.30621667 24.95053845  5.57417231\n",
      " 16.0357139  13.26420998 29.46815429  1.16904392  4.53575356 10.65537707\n",
      " 11.26270564  6.0214732  27.64202445 10.29940068 28.54836132 22.22931556\n",
      " 17.55762098 28.31703818  3.20547158  6.51317017  9.60103128 11.55504752\n",
      "  1.10769737 25.19601111 26.41265999  3.17669809 29.03461951 23.78452941\n",
      " 22.35394515 18.03280452 11.23378656 25.18138124 23.9597556  10.58566727\n",
      "  2.56203807 16.32353266  8.34705721 21.65497161 27.82670318  3.24006097\n",
      "  9.48180202  1.48689026 12.89086955  0.84704402 21.10201173  9.14793573\n",
      " 27.17361576 18.45069642 14.49691685  3.98370201  0.44134824  5.05259221\n",
      " 18.47816542  8.11334339 19.95136747  7.1754582  20.10018729  4.97982617\n",
      "  8.81527565  5.76132824 15.72125645  4.76049255  4.76730185  4.54755451\n",
      " 11.99610604 22.19271804  7.0054561   0.9554475  12.72622458  5.10178612\n",
      "  3.46974455  7.75842307 13.13578589  3.8451399  11.02848319  5.77758805\n",
      " 16.19423275 23.15484726 20.1239129   8.50840771 10.91441361  7.11704929\n",
      " 20.25016912 28.69395694 20.42004446 24.35824921 24.56208344 18.70863082\n",
      "  1.55698104 27.49671811  2.57368945 23.03303579  2.38875615 13.98131955\n",
      " 21.8838685   8.44024292 25.05019036 21.95993093  8.76034493 22.85418651\n",
      " 26.07063198  5.46361622 25.58172855 15.67874872 17.81956733 26.81841668\n",
      " 13.19033546 23.19910687 23.62718492 13.15663104 23.41668296  1.87489683\n",
      " 25.2484807   8.4845543   4.92042842 22.73961665 20.2466653  19.58723259\n",
      "  2.03270822 22.9895573   7.3372969  17.54273192 21.09771191 16.96192787\n",
      "  3.48948107 16.15590988 17.70440831  1.60420151 19.81559878 25.80086106\n",
      " 15.68959678 18.83009183 23.19198615 12.66930187  7.00118096  6.64600958\n",
      " 19.87400439 19.55842619 25.54278522 14.27653959 12.0734572  22.78237983\n",
      " 17.15165279 24.08463516 28.59624819 28.16152099  5.93891699 16.94105605\n",
      " 20.80665928  9.99890108  8.79730012  7.05110922  3.8104523   5.62610024\n",
      "  5.58639014 18.78260685  9.95891585 20.62479473 28.77797774 25.81469814\n",
      "  2.25609181 13.65905187 21.1528068   8.01290913  7.73848867 26.88193447\n",
      " 21.44953343 10.12615075 19.75731318  4.27872352 20.30849315 26.77882578\n",
      "  1.351449   20.8075843   0.46173517 19.80997905  9.7624355  17.37924972\n",
      "  1.43062491 22.20157066 25.1824487  28.8357933  16.09702531 24.73842767\n",
      "  0.2308042   6.13048075 29.614561    8.33629603 16.12795224 29.21240454\n",
      " 13.45025092 28.92901674 28.68113999 18.76015795  8.85400148  0.72177506\n",
      " 18.5678127   1.5946721   6.51114298  0.14954964  8.40759558 15.3456776\n",
      " 18.16257912 21.48146244 19.35734786  6.69307887 11.14786018  5.19542535\n",
      " 20.11979092 15.36643858  1.75976538  1.88235419 14.67047828 17.87206607\n",
      " 23.89728101 11.53568193 19.55519337 12.9925055   3.75560435  8.84921298\n",
      " 10.41509647 10.05015649  2.08203941 13.95507535 18.69687686  3.65394569\n",
      " 16.73715719 25.9668531  19.90170356 10.66486523 27.98606183 19.33610382\n",
      " 27.37475735 24.1411498  28.39648506 10.56397635 17.67065935 19.81446104\n",
      "  5.08556252 21.61589418  4.91334443 10.25571404 13.86547777 28.5015485\n",
      " 19.52083861 22.05488912  9.17148377  1.11732389 18.30445657 13.80853\n",
      "  2.00270834 26.65687785  8.33324258 16.37203881 24.89846207  8.62610704\n",
      " 29.82242843 16.81338141 17.33734435  1.0612399  29.2449401   6.66842773\n",
      " 14.65276829 11.46127532  5.94042969  8.51718703 19.16192131 27.77484802\n",
      " 26.80478414 18.46459441 14.64021886 10.41881806  5.05273386 22.93123257\n",
      " 12.32037453 29.07333784 19.8933068  19.33393445 23.75624561 27.41576612\n",
      "  4.89400728 27.97022569  5.46431449 26.39553105 23.10148492  5.59326106\n",
      "  5.43438053 12.80881651 22.58136604  6.81522341  1.29891598  8.92824717\n",
      "  0.06222649  0.31415758  1.49504525 14.46068646 17.65853438  7.4496374\n",
      " 17.22446855 21.84287476 21.60599421 28.86047834 28.24253893  7.10948381\n",
      " 26.95417677 22.69920835 14.85402627  8.3681587  29.58708806 13.78486659\n",
      " 17.35864925 26.46297136 21.22739031 28.53046947  8.93805023  7.02914326\n",
      " 11.80133052 18.99940059 14.08892962  3.85612353 13.56279119 20.12274586\n",
      " 16.74078625 29.53044614  5.18316362 11.53812907 27.43654492  0.42476924\n",
      " 29.87062735  5.50874294  3.8568494   6.41204685 20.30702925  3.32308882\n",
      "  3.94770677  6.87059867  3.93014852 21.98204107  0.86507581 20.56982783\n",
      " 10.47517828  5.51681714 28.14377379 29.45286026 11.06512511 16.61676719\n",
      "  1.98579434  5.54260989  1.07592481  2.31764882  8.88290412 21.4881271\n",
      " 22.64224754  7.27994039  9.37643238 10.83908073  0.69663121 21.23717882\n",
      "  9.66027816 16.97956524 14.81638878 16.5534871   9.75601043  5.93087217\n",
      " 28.36797115 21.09462207 13.03173376  0.7983171   3.50516639 19.00649926\n",
      "  5.82081691  5.81833671 20.61983383 28.71056507  6.91237663 12.4619051\n",
      " 12.30761644 19.84040954  4.64447622  0.64917761 19.86567877  5.99418851\n",
      "  1.35794716 27.48067897 29.73644518 28.6065078   8.5299145   4.12152041\n",
      "  0.5607774  18.57081877 22.17373158  7.58966957 18.2784296  10.70211771\n",
      " 11.13177466 29.30678999  1.2423198  14.35713294 17.35500663 17.14866592\n",
      " 10.3789623  24.17742423 14.94162775  2.59992154 11.85508506 27.4947809\n",
      " 22.37927752 16.63597764  2.18654009 27.58998237 24.9960839  18.97091648\n",
      " 19.87097998 29.71143066 18.15641786  8.02594757 12.34873726  6.39950324\n",
      " 26.71285573  5.72013105 27.25611587 11.11118651 13.14563054 24.3161132\n",
      "  9.12227066  6.09164062  7.61512695 15.27894726  1.55172543 16.11462964\n",
      " 20.01927489  0.36023495 22.18975204 10.68017381 26.67207213 18.49390616\n",
      " 14.12316947 12.30157185 24.46937392  2.94349773  2.71721257 19.89328934\n",
      " 11.60564868 20.99716418  6.83938153  3.15126472 21.18057782 23.04084254\n",
      " 29.52319489 13.41468779  8.36540008  1.17474372 16.52320975 16.29079038\n",
      " 23.68058086  9.73990339 21.21125025 11.64009223  8.27581985 25.34508281\n",
      " 27.14020237 20.99498767 26.36379634 22.12460919 14.38182874 12.83843751\n",
      "  2.4921115   3.30654254 15.38775096  9.47486316 16.53719202 12.18243936\n",
      "  6.94896378  5.99117553 16.06222869  5.82268307 10.69273715  8.58678605\n",
      " 27.77414396  6.29565658 22.85039389 22.68722007  0.43084526 19.12501901\n",
      " 23.05647004  6.23804663 16.49611786 10.854354   12.4620608  26.2548841\n",
      " 19.76816626  6.54492209 28.71514653  7.80202629 16.96751571 11.15377563\n",
      " 22.80092952  5.09403519 24.00001246  8.21769557 13.53560859  2.94076629\n",
      "  4.02757203  8.96659938  6.86912639 12.0326642  27.15751025 15.4782868\n",
      "  7.22781653 17.19415714 10.47116023 21.49491811  5.4747806  26.51862933\n",
      " 26.16289208 29.74722369 26.5735013  16.7792301  15.31299374  5.97510684\n",
      " 14.539767    5.34494067  8.90650139 13.70810391  0.63137974  9.78624106\n",
      " 22.98898991 21.52163702  5.36747243  2.08048168  7.42243152 25.8369847\n",
      " 25.40242175 13.07497422 28.66966768 24.04491316 21.29637332  7.42492739\n",
      "  2.11604443 29.49179095  4.27645773  8.61358603 17.16555207 26.59803794\n",
      " 13.78944191 15.62067191  9.21670849 12.14562662 10.52617782 25.98579879\n",
      " 14.39787573  8.08763319 16.78552727 22.79597812  8.7695133  17.27072338\n",
      " 24.43151203 16.88485001 24.44534146 16.21756467 13.61941002 19.87394843\n",
      " 12.63576776 14.50185412 26.83264391  3.00081583 16.48057545  2.45212633\n",
      " 18.83439311 13.19865842  9.40766691 15.60923545  1.63933761 23.76828936\n",
      " 10.15252566  0.40447879 24.59292978  1.3675066   9.71814934 12.16659686\n",
      " 23.04867235 20.03414656  8.5168254  19.59414161  6.77825259  8.8070403\n",
      "  5.87152425  2.5970591   4.93086037 21.00689143 10.53794997  4.50059669\n",
      "  4.80161712 19.86587841 13.82231035 25.92370876 16.76861995 19.88191792\n",
      "  5.11770677 29.00105159 25.65446515  6.84179709 22.57233685  8.15577205\n",
      " 24.13735729  4.03149435  4.13231282 16.12464321 22.48533776 20.282976\n",
      "  5.74012718 22.43342651  2.60477234  3.21766129  5.65283575 28.84370986\n",
      " 23.65634284 21.7798963  16.85637734  0.61478999  4.53882038  4.65444933\n",
      "  9.04857098 19.63428333 15.00766938 17.76592972 21.46082362 25.77459268\n",
      " 19.85548771  8.20584755  8.47650143 21.69630957  3.13097349 10.20447772\n",
      " 29.66564838 23.56946713 26.2778947  23.81853285 10.81655255  6.05639951\n",
      "  2.85441413 19.56517693 23.71136826 20.36624573  6.59131157 23.74895849\n",
      " 22.42574624 10.31297875  6.60447634  5.37750477 29.10394928 12.33961909\n",
      " 14.61065264 27.83726115  5.16829978 19.01401557  5.2640168  10.30361904\n",
      " 24.32169445  3.18704573 25.06890427 26.01541021 13.94792952 21.25266832\n",
      " 25.93658805 16.80375076  1.50816509  2.64600638 13.47500562 15.08548187\n",
      " 14.90796765 20.88436957 22.53457433 15.84915157  8.86204958 27.73245412\n",
      " 11.22385246 15.78749796 15.91197569 22.37113884  3.19226887  4.65976517\n",
      "  9.30923397 10.77526643  3.97151627 29.28059273 29.27602822 20.71976894\n",
      " 18.60895651  4.29611269 23.93608872 22.58290622  4.47426371  7.2489746\n",
      " 15.22674952 27.63320022  8.78304562 28.40607909 17.1539386   2.61718331\n",
      " 10.65596075 29.8980006  29.91966885 27.34174997  0.61629001 15.17716754\n",
      "  9.90825324 16.72368794 12.96779625 10.46723235  1.79071474  4.91140186\n",
      "  0.71891742 27.83882355 26.95599526 19.63276655 25.02837667  6.70120501\n",
      " 27.8039181   3.93032514 29.20218039 20.45922096 18.39870488  6.64103042\n",
      " 15.9427296  29.26956198 29.75236465  6.24029179 10.9032813  25.74945237\n",
      " 19.34538144 16.31296664 10.93219849 10.70922385 21.19432171 10.39189311\n",
      "  1.8610141  24.11741202 25.59864155  0.68627027 15.7876837   1.10010957\n",
      "  3.47094738 27.61646738 10.07577678 19.84021078 27.29452887  8.52034156\n",
      "  5.181769   12.92311547 14.25423041 26.70151037 27.44545754 24.06119139\n",
      " 14.00076717  8.56031135 25.99043117 20.11722212]\n"
     ]
    }
   ],
   "source": [
    "\n",
    "# Set random seed to 334\n",
    "np.random.seed(334)\n",
    "\n",
    "# Import uniform\n",
    "from scipy.stats import uniform\n",
    "\n",
    "# Generate 1000 wait times between 0 and 30 mins\n",
    "wait_times = uniform.rvs(0,30,size=1000)\n",
    "\n",
    "print(wait_times)"
   ]
  },
  {
   "cell_type": "code",
   "execution_count": 83,
   "metadata": {},
   "outputs": [
    {
     "ename": "NameError",
     "evalue": "name 'wait_times' is not defined",
     "output_type": "error",
     "traceback": [
      "\u001b[0;31m---------------------------------------------------------------------------\u001b[0m",
      "\u001b[0;31mNameError\u001b[0m                                 Traceback (most recent call last)",
      "Cell \u001b[0;32mIn[83], line 2\u001b[0m\n\u001b[1;32m      1\u001b[0m \u001b[38;5;28;01mimport\u001b[39;00m \u001b[38;5;21;01mmatplotlib\u001b[39;00m\u001b[38;5;21;01m.\u001b[39;00m\u001b[38;5;21;01mpyplot\u001b[39;00m\n\u001b[0;32m----> 2\u001b[0m plt\u001b[38;5;241m.\u001b[39mhist(\u001b[43mwait_times\u001b[49m, bins\u001b[38;5;241m=\u001b[39m\u001b[38;5;241m100\u001b[39m)\n\u001b[1;32m      3\u001b[0m plt\u001b[38;5;241m.\u001b[39mshow()\n",
      "\u001b[0;31mNameError\u001b[0m: name 'wait_times' is not defined"
     ]
    }
   ],
   "source": [
    "import matplotlib.pyplot\n",
    "plt.hist(wait_times, bins=100)\n",
    "plt.show()"
   ]
  },
  {
   "cell_type": "markdown",
   "metadata": {},
   "source": [
    "#### Binomial Distribution"
   ]
  },
  {
   "cell_type": "markdown",
   "metadata": {},
   "source": [
    "The binomial distribution is a discrete probability distribution that models the number of successes in a fixed number of independent Bernoulli trials. A Bernoulli trial is an experiment with two possible outcomes: success or failure. The binomial distribution is characterized by two parameters: the number of trials and the probability of success on each trial. \n",
    "\n",
    "From the scipy library, we can use the `binom.rvs()` function to generate random samples from a binomial distribution. The function takes three arguments: \n",
    "- the number of trials, (count of coin)\n",
    "- the probability of success, and \n",
    "- the number of samples to generate. (How many times to flip the coin)\n",
    "\n",
    "For example, to generate 10 random samples from a binomial distribution with 10 trials and a success probability of 0.5, you can use the following code:\n",
    "\n",
    "```python\n",
    "from scipy.stats import binom\n",
    "\n",
    "data = binom.rvs(n=10, p=0.5, size=10)\n",
    "```\n"
   ]
  },
  {
   "cell_type": "code",
   "execution_count": 10,
   "metadata": {},
   "outputs": [
    {
     "data": {
      "text/plain": [
       "array([1])"
      ]
     },
     "execution_count": 10,
     "metadata": {},
     "output_type": "execute_result"
    }
   ],
   "source": [
    "from  scipy.stats import binom\n",
    "\n",
    "# a single flip of a coin\n",
    "binom.rvs(1, 0.5, size=1)"
   ]
  },
  {
   "cell_type": "code",
   "execution_count": 11,
   "metadata": {},
   "outputs": [
    {
     "data": {
      "text/plain": [
       "array([1, 1, 1, 0, 1, 1, 1, 1, 1, 0])"
      ]
     },
     "execution_count": 11,
     "metadata": {},
     "output_type": "execute_result"
    }
   ],
   "source": [
    "# single coin flip many times (10 times)\n",
    "binom.rvs(1, 0.5, size=10)"
   ]
  },
  {
   "cell_type": "code",
   "execution_count": 13,
   "metadata": {},
   "outputs": [
    {
     "data": {
      "text/plain": [
       "array([4, 4, 3, 3, 5, 5, 7, 7, 5, 5])"
      ]
     },
     "execution_count": 13,
     "metadata": {},
     "output_type": "execute_result"
    }
   ],
   "source": [
    "# flip 8 coins  with 50% probability of getting a head  10 times\n",
    "binom.rvs(8, 0.5, size=10)"
   ]
  },
  {
   "cell_type": "code",
   "execution_count": 14,
   "metadata": {},
   "outputs": [
    {
     "data": {
      "text/plain": [
       "array([1, 1, 0, 0, 0, 1, 1, 3, 1, 0])"
      ]
     },
     "execution_count": 14,
     "metadata": {},
     "output_type": "execute_result"
    }
   ],
   "source": [
    "\n",
    "# Generate 10 random numbers from a binomial distribution with n=3 and p=0.5\n",
    "binom.rvs(n=3,p=0.5, size=10)\n"
   ]
  },
  {
   "cell_type": "code",
   "execution_count": 21,
   "metadata": {},
   "outputs": [
    {
     "data": {
      "text/plain": [
       "array([3])"
      ]
     },
     "execution_count": 21,
     "metadata": {},
     "output_type": "execute_result"
    }
   ],
   "source": [
    "# Generate 1 random number from a binomial distribution with n=8 and p=0.5\n",
    "binom.rvs(n=8,p=0.5, size=1)"
   ]
  },
  {
   "cell_type": "code",
   "execution_count": 22,
   "metadata": {},
   "outputs": [
    {
     "data": {
      "text/plain": [
       "array([0, 1, 0, 0, 0, 2, 1, 0, 3, 1])"
      ]
     },
     "execution_count": 22,
     "metadata": {},
     "output_type": "execute_result"
    }
   ],
   "source": [
    "# Generate 10 random numbers from a binomial distribution with n=3 and p=0.25\n",
    "binom.rvs(3, 0.25, size=10)"
   ]
  },
  {
   "cell_type": "code",
   "execution_count": 23,
   "metadata": {},
   "outputs": [
    {
     "data": {
      "text/plain": [
       "np.float64(0.11718750000000004)"
      ]
     },
     "execution_count": 23,
     "metadata": {},
     "output_type": "execute_result"
    }
   ],
   "source": [
    "binom.pmf(7, 10, 0.5)"
   ]
  },
  {
   "cell_type": "markdown",
   "metadata": {},
   "source": [
    "### Binomia Probabiltiies in Python"
   ]
  },
  {
   "cell_type": "markdown",
   "metadata": {},
   "source": [
    "We use the binom.pmf() function to calculate the probability mass function (PMF) of a binomial distribution. The PMF gives the probability of observing a specific number of successes in a fixed number of trials. The function takes three arguments: the number of successes, the number of trials, and the probability of success. For example, to calculate the probability of observing 5 successes in 10 trials with a success probability of 0.5, you can use the following code:\n",
    "\n",
    "```python\n",
    "from scipy.stats import binom\n",
    "\n",
    "p = binom.pmf(k=5, n=10, p=0.5)\n",
    "```\n",
    "where \n",
    "- k is the number of successes,\n",
    "- n is the number of trials, and\n",
    "- p is the probability of success."
   ]
  },
  {
   "cell_type": "code",
   "execution_count": 15,
   "metadata": {},
   "outputs": [
    {
     "data": {
      "text/plain": [
       "np.float64(0.11718750000000004)"
      ]
     },
     "execution_count": 15,
     "metadata": {},
     "output_type": "execute_result"
    }
   ],
   "source": [
    "# probability of getting 7 heads in 10 coin flips\n",
    "# p(x = 7)\n",
    "binom.pmf(7, 10, 0.5)"
   ]
  },
  {
   "cell_type": "code",
   "execution_count": 16,
   "metadata": {},
   "outputs": [
    {
     "data": {
      "text/plain": [
       "np.float64(0.9453125)"
      ]
     },
     "execution_count": 16,
     "metadata": {},
     "output_type": "execute_result"
    }
   ],
   "source": [
    "# what is the probability of getting 7 or less heads in 10 coin flips\n",
    "# p(x <= 7)\n",
    "binom.cdf(7, 10, 0.5)"
   ]
  },
  {
   "cell_type": "code",
   "execution_count": 17,
   "metadata": {},
   "outputs": [
    {
     "data": {
      "text/plain": [
       "np.float64(0.0546875)"
      ]
     },
     "execution_count": 17,
     "metadata": {},
     "output_type": "execute_result"
    }
   ],
   "source": [
    "# what is the probability of getting more than 7 heads in 10 coin flips\n",
    "# p(x > 7)\n",
    "1 - binom.cdf(7, 10, 0.5)"
   ]
  },
  {
   "cell_type": "markdown",
   "metadata": {},
   "source": [
    "#### Expected value of a binomial distribution"
   ]
  },
  {
   "cell_type": "markdown",
   "metadata": {},
   "source": [
    "The expected value of a binomial distribution is the average number of successes in a fixed number of trials. The expected value is calculated as the product of the number of trials and the probability of success. You can use the following formula to calculate the expected value of a binomial distribution:\n",
    "\n",
    "```python\n",
    "expected_value = n * p\n",
    "```\n",
    "\n",
    "where\n",
    "- n is the number of trials, and\n",
    "- p is the probability of success.\n"
   ]
  },
  {
   "cell_type": "markdown",
   "metadata": {},
   "source": [
    "# Module 3: More Distributions and the Central Limit Theorem\n",
    "\n",
    "It’s time to explore one of the most important probability distributions in statistics, normal distribution. You’ll create histograms to plot normal distributions and gain an understanding of the central limit theorem, before expanding your knowledge of statistical functions by adding the Poisson, exponential, and t-distributions to your repertoire"
   ]
  },
  {
   "cell_type": "markdown",
   "metadata": {},
   "source": [
    "### Normal Distribution\n",
    "___"
   ]
  },
  {
   "cell_type": "markdown",
   "metadata": {},
   "source": [
    "The normal distribution is a continuous probability distribution that is symmetric around the mean. The normal distribution is characterized by two parameters: the mean and the standard deviation. \n",
    "\n",
    "The mean determines the center of the distribution, while the standard deviation determines the spread of the distribution. The normal distribution is also known as the Gaussian distribution.\n",
    "\n",
    "The syntax for the normal distribution is `scipy.stats.norm(loc, scale)`, \n",
    "\n",
    "where\n",
    "- loc is the mean of the distribution, and\n",
    "- scale is the standard deviation of the distribution.\n",
    "\n",
    "To generate random samples from a normal distribution, you can use the rvs() function from the scipy.stats.norm module. The rvs() function takes three arguments: the mean, the standard deviation, and the number of samples to generate. For example, to generate 10 random samples from a normal distribution with a mean of 0 and a standard deviation of 1, you can use the following code:\n",
    "\n",
    "```python\n",
    "from scipy.stats import norm\n",
    "\n",
    "data = norm.rvs(loc=0, scale=1, size=10)\n",
    "```\n",
    "\n",
    "Normal Distribution in Python\n",
    "\n",
    "The normal distribution is a continuous probability distribution that is symmetric around the mean. The normal distribution is characterized by two parameters: the mean and the standard deviation. The mean determines the center of the distribution, while the standard deviation determines the spread of the distribution. The normal distribution is also known as the Gaussian distribution."
   ]
  },
  {
   "cell_type": "code",
   "execution_count": 32,
   "metadata": {},
   "outputs": [
    {
     "data": {
      "text/plain": [
       "np.float64(0.15865525393145707)"
      ]
     },
     "execution_count": 32,
     "metadata": {},
     "output_type": "execute_result"
    }
   ],
   "source": [
    "# probability of woman are shortedn than 154 cm\n",
    "from scipy.stats import norm\n",
    "norm.cdf(154, 161, 7)"
   ]
  },
  {
   "cell_type": "code",
   "execution_count": 36,
   "metadata": {},
   "outputs": [
    {
     "data": {
      "text/plain": [
       "np.float64(0.047790352272814696)"
      ]
     },
     "execution_count": 36,
     "metadata": {},
     "output_type": "execute_result"
    }
   ],
   "source": [
    "norm.cdf(65, 70, 3)"
   ]
  },
  {
   "cell_type": "code",
   "execution_count": 33,
   "metadata": {},
   "outputs": [
    {
     "data": {
      "text/plain": [
       "np.float64(0.8413447460685429)"
      ]
     },
     "execution_count": 33,
     "metadata": {},
     "output_type": "execute_result"
    }
   ],
   "source": [
    "# probability of woman are taller than 154 cm\n",
    "1 - norm.cdf(154, 161, 7)"
   ]
  },
  {
   "cell_type": "code",
   "execution_count": 35,
   "metadata": {},
   "outputs": [
    {
     "data": {
      "text/plain": [
       "np.float64(0.6826894921370859)"
      ]
     },
     "execution_count": 35,
     "metadata": {},
     "output_type": "execute_result"
    }
   ],
   "source": [
    "# probability pf woman are between 154 and 168 cm\n",
    "norm.cdf(168, 161, 7) - norm.cdf(154, 161, 7)"
   ]
  },
  {
   "cell_type": "markdown",
   "metadata": {},
   "source": [
    "The norm.ppf is the inverse of the cumulative distribution function (CDF). The CDF gives the probability that a random variable is less than or equal to a certain value. The inverse CDF gives the value of the random variable that corresponds to a certain probability. The norm.ppf function takes two arguments: the probability and the mean and standard deviation of the distribution. For example, to calculate the value of a random variable that corresponds to a probability of 0.5 in a normal distribution with a mean of 0 and a standard deviation of 1, you can use the following code:\n",
    "\n",
    "```python\n",
    "from scipy.stats import norm\n",
    "\n",
    "value = norm.ppf(0.5, loc=0, scale=1)\n",
    "```\n",
    "\n"
   ]
  },
  {
   "cell_type": "code",
   "execution_count": 38,
   "metadata": {},
   "outputs": [
    {
     "name": "stdout",
     "output_type": "stream",
     "text": [
      "167.96120518246826\n"
     ]
    }
   ],
   "source": [
    "from scipy.stats import norm\n",
    "\n",
    "top_5_percent_score = norm.ppf(0.84, loc=161, scale=7)\n",
    "print(top_5_percent_score)  # Output: ~86.45\n"
   ]
  },
  {
   "cell_type": "markdown",
   "metadata": {},
   "source": [
    "The syntax for `norm.rvs()` function is \n",
    "    \n",
    "```python\n",
    "    from scipy.stats import norm\n",
    "\n",
    "    data = norm.rvs(loc=0, scale=1, size=10)\n",
    "```\n",
    "\n",
    "where\n",
    "- loc is the mean of the distribution,\n",
    "- scale is the standard deviation of the distribution, and\n",
    "- size is the number of samples to generate."
   ]
  },
  {
   "cell_type": "code",
   "execution_count": 39,
   "metadata": {},
   "outputs": [
    {
     "data": {
      "text/plain": [
       "array([156.89967098, 153.62592946, 163.39821926, 152.84887605,\n",
       "       162.79723432, 160.8736302 , 164.80754166, 169.7895792 ,\n",
       "       155.22831867, 153.812441  ])"
      ]
     },
     "execution_count": 39,
     "metadata": {},
     "output_type": "execute_result"
    }
   ],
   "source": [
    "# genrating random numbers from a normal distribution\n",
    "norm.rvs(loc=161, scale=7, size=10)"
   ]
  },
  {
   "cell_type": "markdown",
   "metadata": {},
   "source": [
    "### Central Limit Theorem\n",
    "____"
   ]
  },
  {
   "cell_type": "markdown",
   "metadata": {},
   "source": [
    "The central theorem states that the sampling distribution of the sample mean approaches a normal distribution as the sample size increases, regardless of the shape of the population distribution. This is known as the central limit theorem. The central limit theorem is a fundamental concept in statistics and is used to make inferences about a population based on a sample."
   ]
  },
  {
   "cell_type": "code",
   "execution_count": 18,
   "metadata": {},
   "outputs": [
    {
     "name": "stdout",
     "output_type": "stream",
     "text": [
      "3    4\n",
      "5    6\n",
      "2    3\n",
      "5    6\n",
      "4    5\n",
      "dtype: int64\n",
      "4.8\n"
     ]
    }
   ],
   "source": [
    "import pandas as pd\n",
    "import matplotlib.pyplot as plt\n",
    "die = pd.Series([1, 2, 3, 4, 5, 6])\n",
    "\n",
    "# roll a die 5 times\n",
    "sample = die.sample(5, replace=True)   \n",
    "\n",
    "print(sample)\n",
    "\n",
    "# mean of the sample\n",
    "print(sample.mean())\n"
   ]
  },
  {
   "cell_type": "code",
   "execution_count": 27,
   "metadata": {},
   "outputs": [
    {
     "name": "stdout",
     "output_type": "stream",
     "text": [
      "[4.4, 2.4, 3.2, 3.6, 3.0, 4.8, 3.6, 3.8, 2.8, 2.4]\n"
     ]
    },
    {
     "data": {
      "text/plain": [
       "(array([2., 1., 1., 1., 0., 3., 0., 0., 1., 1.]),\n",
       " array([2.4 , 2.64, 2.88, 3.12, 3.36, 3.6 , 3.84, 4.08, 4.32, 4.56, 4.8 ]),\n",
       " <BarContainer object of 10 artists>)"
      ]
     },
     "execution_count": 27,
     "metadata": {},
     "output_type": "execute_result"
    },
    {
     "data": {
      "image/png": "[encoded data removed]",
      "text/plain": [
       "<Figure size 640x480 with 1 Axes>"
      ]
     },
     "metadata": {},
     "output_type": "display_data"
    }
   ],
   "source": [
    "# Rolling the die 5 times at 10 different occasions\n",
    "sample_means = []\n",
    "\n",
    "\n",
    "for i in range(10):\n",
    "    sample = die.sample(5, replace=True)\n",
    "    sample_means.append(sample.mean())\n",
    "\n",
    "print(sample_means)\n",
    "\n",
    "plt.hist(sample_means)"
   ]
  },
  {
   "cell_type": "code",
   "execution_count": 42,
   "metadata": {},
   "outputs": [
    {
     "name": "stdout",
     "output_type": "stream",
     "text": [
      "[4.0, 3.4, 2.6, 3.8, 3.0, 4.0, 3.0, 4.0, 3.2, 2.8, 3.6, 3.6, 4.2, 4.4, 2.8, 3.4, 3.4, 3.0, 4.6, 3.6, 3.0, 4.6, 2.4, 3.8, 3.8, 2.8, 4.8, 4.0, 2.8, 4.6, 4.2, 3.2, 3.6, 3.6, 2.6, 4.4, 3.4, 2.8, 4.0, 3.8, 3.6, 5.0, 3.2, 3.2, 4.8, 3.6, 3.6, 2.6, 3.0, 2.8, 2.6, 3.4, 2.8, 4.2, 3.6, 4.2, 3.0, 3.4, 2.6, 4.2, 3.0, 3.2, 2.0, 4.2, 3.2, 4.4, 3.6, 3.2, 3.6, 3.4, 4.2, 2.8, 3.6, 3.8, 3.0, 3.8, 4.2, 2.8, 3.2, 3.6, 4.6, 2.8, 3.8, 2.0, 3.4, 3.4, 3.4, 2.0, 3.6, 3.8, 3.8, 2.8, 3.0, 3.4, 4.0, 4.0, 2.6, 4.0, 2.8, 3.8, 3.8, 3.2, 4.2, 3.0, 5.0, 3.6, 2.2, 3.8, 3.4, 3.0, 3.0, 2.6, 2.0, 3.6, 4.4, 2.8, 2.2, 3.2, 3.8, 3.2, 4.4, 4.4, 4.0, 4.6, 2.8, 3.6, 2.2, 5.2, 3.6, 3.8, 3.6, 4.2, 3.4, 3.6, 3.4, 2.2, 3.0, 4.2, 4.4, 4.4, 3.4, 3.6, 4.0, 3.0, 4.8, 3.0, 4.2, 2.8, 2.8, 3.2, 3.6, 3.6, 3.6, 2.4, 4.4, 4.4, 1.6, 3.8, 3.2, 3.2, 3.0, 2.8, 2.6, 3.4, 3.2, 3.0, 3.8, 2.0, 3.6, 2.2, 3.8, 3.2, 4.8, 3.2, 2.4, 3.0, 3.6, 3.6, 2.0, 3.4, 2.4, 4.0, 2.8, 3.6, 3.0, 3.4, 3.6, 2.6, 2.4, 4.8, 3.8, 3.4, 3.0, 4.0, 3.4, 3.8, 4.6, 2.8, 2.8, 4.6, 3.4, 3.0, 2.8, 4.4, 4.4, 4.0, 3.8, 3.2, 4.6, 2.2, 2.8, 3.0, 3.4, 4.4, 4.4, 3.4, 3.8, 2.6, 3.6, 4.6, 3.4, 2.6, 2.8, 4.6, 1.8, 3.4, 4.0, 2.6, 3.4, 4.8, 3.6, 4.6, 3.6, 3.8, 3.2, 3.6, 5.2, 2.4, 5.6, 3.6, 3.4, 2.4, 2.2, 5.4, 2.2, 4.6, 3.0, 3.2, 4.4, 4.0, 4.0, 2.2, 4.0, 3.0, 4.4, 2.6, 3.0, 3.6, 3.2, 4.2, 3.4, 3.2, 3.8, 3.0, 2.2, 3.2, 4.2, 4.0, 1.6, 2.4, 2.6, 3.2, 4.0, 4.0, 3.4, 3.4, 3.2, 3.6, 4.0, 5.0, 2.8, 3.0, 3.8, 5.0, 4.4, 3.2, 3.2, 2.8, 2.4, 4.0, 3.0, 3.8, 3.4, 5.4, 3.4, 3.2, 2.0, 3.8, 2.8, 3.6, 4.4, 4.4, 2.6, 2.2, 3.6, 4.2, 4.6, 4.0, 4.6, 3.2, 2.8, 4.0, 4.2, 3.2, 3.6, 3.8, 3.6, 4.6, 3.4, 3.0, 4.4, 3.0, 3.4, 3.6, 3.4, 3.6, 3.2, 4.4, 2.0, 3.6, 3.4, 3.4, 2.8, 4.4, 2.8, 2.8, 3.8, 3.0, 2.6, 5.2, 1.8, 3.0, 3.4, 3.4, 4.2, 3.8, 4.0, 3.0, 4.2, 3.6, 3.4, 4.0, 3.4, 4.4, 3.2, 4.6, 3.0, 2.0, 2.6, 4.8, 3.2, 4.4, 4.4, 5.2, 2.8, 3.8, 3.8, 4.4, 1.8, 3.8, 3.4, 3.8, 3.6, 3.8, 3.4, 3.8, 2.6, 3.4, 3.4, 2.6, 3.0, 3.6, 3.6, 4.0, 3.8, 2.8, 4.6, 3.6, 4.4, 3.6, 3.6, 3.6, 2.2, 5.0, 1.6, 3.6, 3.8, 3.6, 3.6, 3.6, 5.2, 2.6, 2.6, 3.4, 3.4, 4.4, 3.4, 4.8, 2.8, 2.8, 2.8, 4.6, 4.2, 2.0, 3.8, 3.8, 3.6, 4.2, 3.8, 3.0, 3.2, 3.4, 3.4, 3.4, 3.8, 4.6, 3.0, 4.4, 2.0, 3.4, 3.2, 2.8, 3.8, 5.6, 4.2, 4.2, 2.8, 2.4, 4.0, 2.4, 3.0, 4.2, 4.8, 4.6, 3.6, 3.6, 3.6, 5.0, 3.4, 3.8, 3.8, 3.8, 4.2, 4.4, 1.8, 2.6, 3.8, 3.2, 3.4, 4.6, 3.4, 3.4, 2.8, 5.4, 4.0, 4.2, 3.4, 2.4, 3.4, 3.6, 3.4, 3.4, 3.0, 4.0, 3.6, 3.8, 2.6, 3.8, 4.2, 3.0, 3.6, 2.6, 2.8, 3.0, 3.0, 3.4, 4.0, 3.6, 2.6, 2.8, 4.0, 3.2, 3.2, 4.2, 2.2, 3.2, 1.4, 3.6, 4.6, 3.6, 4.2, 3.2, 4.6, 4.0, 3.2, 4.0, 3.2, 3.0, 3.8, 3.6, 4.4, 3.8, 2.0, 3.0, 4.6, 3.8, 2.6, 2.6, 3.4, 3.4, 2.8, 3.6, 5.0, 4.8, 4.2, 4.0, 3.0, 2.6, 3.2, 4.6, 3.4, 3.6, 4.0, 1.6, 3.2, 3.4, 3.0, 2.8, 3.4, 3.8, 3.4, 3.2, 1.6, 4.8, 3.8, 4.0, 2.6, 3.6, 3.4, 4.6, 3.8, 3.0, 4.0, 4.4, 3.0, 3.4, 3.2, 2.6, 1.6, 3.8, 3.6, 4.0, 3.8, 4.0, 2.0, 3.8, 2.6, 2.2, 4.0, 4.2, 3.6, 3.8, 4.4, 3.2, 3.2, 4.4, 2.6, 4.6, 4.6, 4.0, 3.6, 3.6, 3.2, 4.0, 3.2, 3.2, 3.6, 4.0, 4.2, 3.8, 2.0, 3.2, 3.6, 3.0, 2.8, 2.2, 3.8, 4.6, 3.2, 4.6, 4.4, 3.4, 4.0, 2.4, 3.6, 3.0, 2.8, 4.4, 3.6, 3.2, 3.4, 4.4, 5.0, 3.6, 3.4, 3.2, 2.8, 2.8, 4.0, 3.6, 2.6, 3.6, 2.4, 5.8, 3.2, 4.0, 3.0, 2.4, 4.6, 2.2, 2.8, 3.4, 2.8, 3.6, 4.0, 4.0, 3.2, 3.8, 1.6, 4.0, 4.2, 2.6, 4.8, 4.4, 3.8, 4.4, 4.8, 3.8, 2.6, 3.8, 2.4, 4.6, 3.6, 4.0, 2.8, 4.6, 3.4, 3.0, 2.8, 4.6, 2.4, 1.8, 3.2, 3.6, 2.8, 3.6, 2.6, 2.8, 5.2, 4.2, 2.4, 1.8, 3.0, 3.6, 3.8, 3.2, 3.2, 3.2, 3.4, 4.0, 3.2, 2.4, 5.2, 3.6, 2.4, 4.4, 3.0, 3.8, 4.0, 2.4, 4.4, 3.2, 5.0, 2.2, 3.0, 2.4, 3.0, 2.6, 4.0, 3.4, 2.6, 3.0, 3.8, 4.0, 3.6, 3.0, 2.8, 3.0, 3.2, 4.4, 2.0, 3.0, 2.6, 5.0, 2.2, 3.8, 2.2, 4.0, 3.8, 2.8, 4.2, 3.2, 3.6, 3.2, 4.0, 2.6, 4.8, 3.6, 4.4, 2.4, 3.6, 1.6, 4.0, 4.2, 2.4, 4.0, 2.8, 3.0, 4.4, 2.0, 3.4, 4.2, 2.0, 3.2, 4.6, 2.0, 3.4, 4.4, 3.8, 4.0, 3.6, 3.8, 3.4, 3.8, 4.4, 2.4, 3.0, 4.2, 3.2, 3.6, 3.4, 3.8, 3.8, 3.4, 4.0, 3.0, 4.6, 3.8, 2.4, 4.4, 3.4, 3.2, 4.6, 3.2, 4.0, 2.8, 4.4, 3.4, 2.8, 4.0, 4.8, 2.4, 4.0, 3.6, 2.8, 3.2, 3.8, 3.8, 2.8, 2.6, 3.8, 3.0, 2.8, 3.6, 3.0, 3.4, 3.6, 3.6, 2.2, 3.8, 3.2, 3.6, 4.8, 3.8, 3.0, 3.2, 2.8, 3.8, 3.6, 5.4, 4.2, 3.6, 3.0, 4.0, 4.4, 4.2, 3.8, 3.8, 2.8, 5.6, 4.4, 3.6, 3.0, 3.8, 2.8, 3.6, 3.0, 4.6, 3.2, 3.6, 4.6, 3.8, 4.2, 3.8, 3.4, 4.0, 3.6, 3.0, 3.4, 4.2, 3.4, 1.8, 3.2, 3.0, 2.8, 3.2, 4.8, 4.2, 4.2, 2.8, 2.4, 4.4, 2.6, 2.6, 4.0, 3.2, 1.4, 2.8, 4.0, 3.0, 4.4, 2.0, 2.8, 4.4, 3.2, 3.8, 3.0, 4.0, 2.4, 3.4, 4.0, 4.0, 3.8, 3.2, 3.6, 4.6, 3.0, 3.4, 2.6, 2.6, 3.6, 2.2, 3.6, 3.4, 4.2, 4.2, 3.8, 3.8, 3.2, 4.0, 3.0, 3.4, 3.8, 2.6, 2.8, 3.4, 4.6, 3.6, 4.0, 4.4, 4.0, 2.6, 3.6, 4.4, 4.0, 2.8, 4.6, 3.2, 3.6, 2.0, 2.4, 3.4, 3.2, 3.6, 4.0, 3.4, 4.4, 3.4, 3.6, 3.4, 3.0, 2.4, 2.6, 2.6, 4.4, 4.2, 3.4, 3.6, 4.2, 3.2, 4.0, 4.4, 2.6, 4.2, 3.0, 3.6, 4.2, 2.0, 4.0, 2.4, 4.8, 3.4, 4.0, 4.0, 3.6, 3.8, 4.4, 2.8, 3.4, 4.0, 2.6, 3.4, 3.2, 4.4, 5.2, 3.2, 2.8, 4.0, 4.2, 4.6, 4.6, 4.4, 3.0, 3.4, 4.0, 3.4, 2.2, 4.6, 2.0, 2.6, 3.4, 2.0, 4.0, 4.6, 4.2, 3.2, 4.6, 3.2, 2.6, 3.4, 3.2, 3.4, 3.6, 3.6, 2.6, 3.6, 2.6, 4.4, 3.6, 3.6, 2.0, 3.4, 2.4, 2.6, 3.8, 2.4, 3.0, 3.4, 3.0, 4.0]\n"
     ]
    },
    {
     "data": {
      "text/plain": [
       "(array([ 17.,  46.,  90., 151., 195., 297., 113.,  65.,  18.,   8.]),\n",
       " array([1.4 , 1.84, 2.28, 2.72, 3.16, 3.6 , 4.04, 4.48, 4.92, 5.36, 5.8 ]),\n",
       " <BarContainer object of 10 artists>)"
      ]
     },
     "execution_count": 42,
     "metadata": {},
     "output_type": "execute_result"
    },
    {
     "data": {
      "image/png": "[encoded data removed]",
      "text/plain": [
       "<Figure size 640x480 with 1 Axes>"
      ]
     },
     "metadata": {},
     "output_type": "display_data"
    }
   ],
   "source": [
    "# Rolling the die 5 times at 10 different occasions\n",
    "sample_means = []\n",
    "\n",
    "\n",
    "for i in range(1000):\n",
    "    sample = die.sample(5, replace=True)\n",
    "    sample_means.append(sample.mean())\n",
    "\n",
    "print(sample_means)\n",
    "\n",
    "plt.hist(sample_means)"
   ]
  },
  {
   "cell_type": "code",
   "execution_count": 77,
   "metadata": {},
   "outputs": [
    {
     "data": {
      "text/html": [
       "<div>\n",
       "<style scoped>\n",
       "    .dataframe tbody tr th:only-of-type {\n",
       "        vertical-align: middle;\n",
       "    }\n",
       "\n",
       "    .dataframe tbody tr th {\n",
       "        vertical-align: top;\n",
       "    }\n",
       "\n",
       "    .dataframe thead th {\n",
       "        text-align: right;\n",
       "    }\n",
       "</style>\n",
       "<table border=\"1\" class=\"dataframe\">\n",
       "  <thead>\n",
       "    <tr style=\"text-align: right;\">\n",
       "      <th></th>\n",
       "      <th>constituency</th>\n",
       "      <th>region</th>\n",
       "      <th>votes_2019</th>\n",
       "      <th>votes_2024</th>\n",
       "      <th>outcome</th>\n",
       "      <th>share</th>\n",
       "    </tr>\n",
       "  </thead>\n",
       "  <tbody>\n",
       "    <tr>\n",
       "      <th>0</th>\n",
       "      <td>Amber Valley</td>\n",
       "      <td>East Midlands</td>\n",
       "      <td>Conservative</td>\n",
       "      <td>Labour</td>\n",
       "      <td>60.3</td>\n",
       "      <td>37.0</td>\n",
       "    </tr>\n",
       "    <tr>\n",
       "      <th>1</th>\n",
       "      <td>Ashfield</td>\n",
       "      <td>East Midlands</td>\n",
       "      <td>Conservative</td>\n",
       "      <td>Reform UK</td>\n",
       "      <td>58.6</td>\n",
       "      <td>42.8</td>\n",
       "    </tr>\n",
       "    <tr>\n",
       "      <th>2</th>\n",
       "      <td>Bassetlaw</td>\n",
       "      <td>East Midlands</td>\n",
       "      <td>Conservative</td>\n",
       "      <td>Labour</td>\n",
       "      <td>57.4</td>\n",
       "      <td>41.2</td>\n",
       "    </tr>\n",
       "    <tr>\n",
       "      <th>3</th>\n",
       "      <td>Bolsover</td>\n",
       "      <td>East Midlands</td>\n",
       "      <td>Conservative</td>\n",
       "      <td>Labour</td>\n",
       "      <td>56.5</td>\n",
       "      <td>40.5</td>\n",
       "    </tr>\n",
       "    <tr>\n",
       "      <th>4</th>\n",
       "      <td>Boston &amp; Skegness</td>\n",
       "      <td>East Midlands</td>\n",
       "      <td>Conservative</td>\n",
       "      <td>Reform UK</td>\n",
       "      <td>53.4</td>\n",
       "      <td>38.4</td>\n",
       "    </tr>\n",
       "    <tr>\n",
       "      <th>...</th>\n",
       "      <td>...</td>\n",
       "      <td>...</td>\n",
       "      <td>...</td>\n",
       "      <td>...</td>\n",
       "      <td>...</td>\n",
       "      <td>...</td>\n",
       "    </tr>\n",
       "    <tr>\n",
       "      <th>645</th>\n",
       "      <td>Thirsk &amp; Malton</td>\n",
       "      <td>Yorkshire and the Humber</td>\n",
       "      <td>Conservative</td>\n",
       "      <td>Conservative</td>\n",
       "      <td>63.5</td>\n",
       "      <td>39.3</td>\n",
       "    </tr>\n",
       "    <tr>\n",
       "      <th>646</th>\n",
       "      <td>Wakefield &amp; Rothwell</td>\n",
       "      <td>Yorkshire and the Humber</td>\n",
       "      <td>Conservative</td>\n",
       "      <td>Labour</td>\n",
       "      <td>54.2</td>\n",
       "      <td>43.7</td>\n",
       "    </tr>\n",
       "    <tr>\n",
       "      <th>647</th>\n",
       "      <td>Wetherby &amp; Easingwold</td>\n",
       "      <td>Yorkshire and the Humber</td>\n",
       "      <td>Conservative</td>\n",
       "      <td>Conservative</td>\n",
       "      <td>70.3</td>\n",
       "      <td>39.4</td>\n",
       "    </tr>\n",
       "    <tr>\n",
       "      <th>648</th>\n",
       "      <td>York Central</td>\n",
       "      <td>Yorkshire and the Humber</td>\n",
       "      <td>Labour</td>\n",
       "      <td>Labour</td>\n",
       "      <td>54.5</td>\n",
       "      <td>56.6</td>\n",
       "    </tr>\n",
       "    <tr>\n",
       "      <th>649</th>\n",
       "      <td>York Outer</td>\n",
       "      <td>Yorkshire and the Humber</td>\n",
       "      <td>Conservative</td>\n",
       "      <td>Labour</td>\n",
       "      <td>67.0</td>\n",
       "      <td>45.3</td>\n",
       "    </tr>\n",
       "  </tbody>\n",
       "</table>\n",
       "<p>650 rows × 6 columns</p>\n",
       "</div>"
      ],
      "text/plain": [
       "              constituency                    region    votes_2019  \\\n",
       "0             Amber Valley             East Midlands  Conservative   \n",
       "1                 Ashfield             East Midlands  Conservative   \n",
       "2                Bassetlaw             East Midlands  Conservative   \n",
       "3                 Bolsover             East Midlands  Conservative   \n",
       "4        Boston & Skegness             East Midlands  Conservative   \n",
       "..                     ...                       ...           ...   \n",
       "645        Thirsk & Malton  Yorkshire and the Humber  Conservative   \n",
       "646   Wakefield & Rothwell  Yorkshire and the Humber  Conservative   \n",
       "647  Wetherby & Easingwold  Yorkshire and the Humber  Conservative   \n",
       "648           York Central  Yorkshire and the Humber        Labour   \n",
       "649             York Outer  Yorkshire and the Humber  Conservative   \n",
       "\n",
       "       votes_2024  outcome  share  \n",
       "0          Labour     60.3   37.0  \n",
       "1       Reform UK     58.6   42.8  \n",
       "2          Labour     57.4   41.2  \n",
       "3          Labour     56.5   40.5  \n",
       "4       Reform UK     53.4   38.4  \n",
       "..            ...      ...    ...  \n",
       "645  Conservative     63.5   39.3  \n",
       "646        Labour     54.2   43.7  \n",
       "647  Conservative     70.3   39.4  \n",
       "648        Labour     54.5   56.6  \n",
       "649        Labour     67.0   45.3  \n",
       "\n",
       "[650 rows x 6 columns]"
      ]
     },
     "execution_count": 77,
     "metadata": {},
     "output_type": "execute_result"
    }
   ],
   "source": [
    "uk = uk_election_result\n",
    "uk"
   ]
  },
  {
   "cell_type": "code",
   "execution_count": 82,
   "metadata": {},
   "outputs": [
    {
     "name": "stdout",
     "output_type": "stream",
     "text": [
      "[[4.0, 3.4, 2.6, 3.8, 3.0, 4.0, 3.0, 4.0, 3.2, 2.8, 3.6, 3.6, 4.2, 4.4, 2.8, 3.4, 3.4, 3.0, 4.6, 3.6, 3.0, 4.6, 2.4, 3.8, 3.8, 2.8, 4.8, 4.0, 2.8, 4.6, 4.2, 3.2, 3.6, 3.6, 2.6, 4.4, 3.4, 2.8, 4.0, 3.8, 3.6, 5.0, 3.2, 3.2, 4.8, 3.6, 3.6, 2.6, 3.0, 2.8, 2.6, 3.4, 2.8, 4.2, 3.6, 4.2, 3.0, 3.4, 2.6, 4.2, 3.0, 3.2, 2.0, 4.2, 3.2, 4.4, 3.6, 3.2, 3.6, 3.4, 4.2, 2.8, 3.6, 3.8, 3.0, 3.8, 4.2, 2.8, 3.2, 3.6, 4.6, 2.8, 3.8, 2.0, 3.4, 3.4, 3.4, 2.0, 3.6, 3.8, 3.8, 2.8, 3.0, 3.4, 4.0, 4.0, 2.6, 4.0, 2.8, 3.8, 3.8, 3.2, 4.2, 3.0, 5.0, 3.6, 2.2, 3.8, 3.4, 3.0, 3.0, 2.6, 2.0, 3.6, 4.4, 2.8, 2.2, 3.2, 3.8, 3.2, 4.4, 4.4, 4.0, 4.6, 2.8, 3.6, 2.2, 5.2, 3.6, 3.8, 3.6, 4.2, 3.4, 3.6, 3.4, 2.2, 3.0, 4.2, 4.4, 4.4, 3.4, 3.6, 4.0, 3.0, 4.8, 3.0, 4.2, 2.8, 2.8, 3.2, 3.6, 3.6, 3.6, 2.4, 4.4, 4.4, 1.6, 3.8, 3.2, 3.2, 3.0, 2.8, 2.6, 3.4, 3.2, 3.0, 3.8, 2.0, 3.6, 2.2, 3.8, 3.2, 4.8, 3.2, 2.4, 3.0, 3.6, 3.6, 2.0, 3.4, 2.4, 4.0, 2.8, 3.6, 3.0, 3.4, 3.6, 2.6, 2.4, 4.8, 3.8, 3.4, 3.0, 4.0, 3.4, 3.8, 4.6, 2.8, 2.8, 4.6, 3.4, 3.0, 2.8, 4.4, 4.4, 4.0, 3.8, 3.2, 4.6, 2.2, 2.8, 3.0, 3.4, 4.4, 4.4, 3.4, 3.8, 2.6, 3.6, 4.6, 3.4, 2.6, 2.8, 4.6, 1.8, 3.4, 4.0, 2.6, 3.4, 4.8, 3.6, 4.6, 3.6, 3.8, 3.2, 3.6, 5.2, 2.4, 5.6, 3.6, 3.4, 2.4, 2.2, 5.4, 2.2, 4.6, 3.0, 3.2, 4.4, 4.0, 4.0, 2.2, 4.0, 3.0, 4.4, 2.6, 3.0, 3.6, 3.2, 4.2, 3.4, 3.2, 3.8, 3.0, 2.2, 3.2, 4.2, 4.0, 1.6, 2.4, 2.6, 3.2, 4.0, 4.0, 3.4, 3.4, 3.2, 3.6, 4.0, 5.0, 2.8, 3.0, 3.8, 5.0, 4.4, 3.2, 3.2, 2.8, 2.4, 4.0, 3.0, 3.8, 3.4, 5.4, 3.4, 3.2, 2.0, 3.8, 2.8, 3.6, 4.4, 4.4, 2.6, 2.2, 3.6, 4.2, 4.6, 4.0, 4.6, 3.2, 2.8, 4.0, 4.2, 3.2, 3.6, 3.8, 3.6, 4.6, 3.4, 3.0, 4.4, 3.0, 3.4, 3.6, 3.4, 3.6, 3.2, 4.4, 2.0, 3.6, 3.4, 3.4, 2.8, 4.4, 2.8, 2.8, 3.8, 3.0, 2.6, 5.2, 1.8, 3.0, 3.4, 3.4, 4.2, 3.8, 4.0, 3.0, 4.2, 3.6, 3.4, 4.0, 3.4, 4.4, 3.2, 4.6, 3.0, 2.0, 2.6, 4.8, 3.2, 4.4, 4.4, 5.2, 2.8, 3.8, 3.8, 4.4, 1.8, 3.8, 3.4, 3.8, 3.6, 3.8, 3.4, 3.8, 2.6, 3.4, 3.4, 2.6, 3.0, 3.6, 3.6, 4.0, 3.8, 2.8, 4.6, 3.6, 4.4, 3.6, 3.6, 3.6, 2.2, 5.0, 1.6, 3.6, 3.8, 3.6, 3.6, 3.6, 5.2, 2.6, 2.6, 3.4, 3.4, 4.4, 3.4, 4.8, 2.8, 2.8, 2.8, 4.6, 4.2, 2.0, 3.8, 3.8, 3.6, 4.2, 3.8, 3.0, 3.2, 3.4, 3.4, 3.4, 3.8, 4.6, 3.0, 4.4, 2.0, 3.4, 3.2, 2.8, 3.8, 5.6, 4.2, 4.2, 2.8, 2.4, 4.0, 2.4, 3.0, 4.2, 4.8, 4.6, 3.6, 3.6, 3.6, 5.0, 3.4, 3.8, 3.8, 3.8, 4.2, 4.4, 1.8, 2.6, 3.8, 3.2, 3.4, 4.6, 3.4, 3.4, 2.8, 5.4, 4.0, 4.2, 3.4, 2.4, 3.4, 3.6, 3.4, 3.4, 3.0, 4.0, 3.6, 3.8, 2.6, 3.8, 4.2, 3.0, 3.6, 2.6, 2.8, 3.0, 3.0, 3.4, 4.0, 3.6, 2.6, 2.8, 4.0, 3.2, 3.2, 4.2, 2.2, 3.2, 1.4, 3.6, 4.6, 3.6, 4.2, 3.2, 4.6, 4.0, 3.2, 4.0, 3.2, 3.0, 3.8, 3.6, 4.4, 3.8, 2.0, 3.0, 4.6, 3.8, 2.6, 2.6, 3.4, 3.4, 2.8, 3.6, 5.0, 4.8, 4.2, 4.0, 3.0, 2.6, 3.2, 4.6, 3.4, 3.6, 4.0, 1.6, 3.2, 3.4, 3.0, 2.8, 3.4, 3.8, 3.4, 3.2, 1.6, 4.8, 3.8, 4.0, 2.6, 3.6, 3.4, 4.6, 3.8, 3.0, 4.0, 4.4, 3.0, 3.4, 3.2, 2.6, 1.6, 3.8, 3.6, 4.0, 3.8, 4.0, 2.0, 3.8, 2.6, 2.2, 4.0, 4.2, 3.6, 3.8, 4.4, 3.2, 3.2, 4.4, 2.6, 4.6, 4.6, 4.0, 3.6, 3.6, 3.2, 4.0, 3.2, 3.2, 3.6, 4.0, 4.2, 3.8, 2.0, 3.2, 3.6, 3.0, 2.8, 2.2, 3.8, 4.6, 3.2, 4.6, 4.4, 3.4, 4.0, 2.4, 3.6, 3.0, 2.8, 4.4, 3.6, 3.2, 3.4, 4.4, 5.0, 3.6, 3.4, 3.2, 2.8, 2.8, 4.0, 3.6, 2.6, 3.6, 2.4, 5.8, 3.2, 4.0, 3.0, 2.4, 4.6, 2.2, 2.8, 3.4, 2.8, 3.6, 4.0, 4.0, 3.2, 3.8, 1.6, 4.0, 4.2, 2.6, 4.8, 4.4, 3.8, 4.4, 4.8, 3.8, 2.6, 3.8, 2.4, 4.6, 3.6, 4.0, 2.8, 4.6, 3.4, 3.0, 2.8, 4.6, 2.4, 1.8, 3.2, 3.6, 2.8, 3.6, 2.6, 2.8, 5.2, 4.2, 2.4, 1.8, 3.0, 3.6, 3.8, 3.2, 3.2, 3.2, 3.4, 4.0, 3.2, 2.4, 5.2, 3.6, 2.4, 4.4, 3.0, 3.8, 4.0, 2.4, 4.4, 3.2, 5.0, 2.2, 3.0, 2.4, 3.0, 2.6, 4.0, 3.4, 2.6, 3.0, 3.8, 4.0, 3.6, 3.0, 2.8, 3.0, 3.2, 4.4, 2.0, 3.0, 2.6, 5.0, 2.2, 3.8, 2.2, 4.0, 3.8, 2.8, 4.2, 3.2, 3.6, 3.2, 4.0, 2.6, 4.8, 3.6, 4.4, 2.4, 3.6, 1.6, 4.0, 4.2, 2.4, 4.0, 2.8, 3.0, 4.4, 2.0, 3.4, 4.2, 2.0, 3.2, 4.6, 2.0, 3.4, 4.4, 3.8, 4.0, 3.6, 3.8, 3.4, 3.8, 4.4, 2.4, 3.0, 4.2, 3.2, 3.6, 3.4, 3.8, 3.8, 3.4, 4.0, 3.0, 4.6, 3.8, 2.4, 4.4, 3.4, 3.2, 4.6, 3.2, 4.0, 2.8, 4.4, 3.4, 2.8, 4.0, 4.8, 2.4, 4.0, 3.6, 2.8, 3.2, 3.8, 3.8, 2.8, 2.6, 3.8, 3.0, 2.8, 3.6, 3.0, 3.4, 3.6, 3.6, 2.2, 3.8, 3.2, 3.6, 4.8, 3.8, 3.0, 3.2, 2.8, 3.8, 3.6, 5.4, 4.2, 3.6, 3.0, 4.0, 4.4, 4.2, 3.8, 3.8, 2.8, 5.6, 4.4, 3.6, 3.0, 3.8, 2.8, 3.6, 3.0, 4.6, 3.2, 3.6, 4.6, 3.8, 4.2, 3.8, 3.4, 4.0, 3.6, 3.0, 3.4, 4.2, 3.4, 1.8, 3.2, 3.0, 2.8, 3.2, 4.8, 4.2, 4.2, 2.8, 2.4, 4.4, 2.6, 2.6, 4.0, 3.2, 1.4, 2.8, 4.0, 3.0, 4.4, 2.0, 2.8, 4.4, 3.2, 3.8, 3.0, 4.0, 2.4, 3.4, 4.0, 4.0, 3.8, 3.2, 3.6, 4.6, 3.0, 3.4, 2.6, 2.6, 3.6, 2.2, 3.6, 3.4, 4.2, 4.2, 3.8, 3.8, 3.2, 4.0, 3.0, 3.4, 3.8, 2.6, 2.8, 3.4, 4.6, 3.6, 4.0, 4.4, 4.0, 2.6, 3.6, 4.4, 4.0, 2.8, 4.6, 3.2, 3.6, 2.0, 2.4, 3.4, 3.2, 3.6, 4.0, 3.4, 4.4, 3.4, 3.6, 3.4, 3.0, 2.4, 2.6, 2.6, 4.4, 4.2, 3.4, 3.6, 4.2, 3.2, 4.0, 4.4, 2.6, 4.2, 3.0, 3.6, 4.2, 2.0, 4.0, 2.4, 4.8, 3.4, 4.0, 4.0, 3.6, 3.8, 4.4, 2.8, 3.4, 4.0, 2.6, 3.4, 3.2, 4.4, 5.2, 3.2, 2.8, 4.0, 4.2, 4.6, 4.6, 4.4, 3.0, 3.4, 4.0, 3.4, 2.2, 4.6, 2.0, 2.6, 3.4, 2.0, 4.0, 4.6, 4.2, 3.2, 4.6, 3.2, 2.6, 3.4, 3.2, 3.4, 3.6, 3.6, 2.6, 3.6, 2.6, 4.4, 3.6, 3.6, 2.0, 3.4, 2.4, 2.6, 3.8, 2.4, 3.0, 3.4, 3.0, 4.0, 37.96, 44.44, 42.28, 47.04, 39.00000000000001, 44.86, 40.42, 36.2, 43.04, 39.8, 37.96, 44.44, 42.28, 47.04, 39.00000000000001, 44.86, 40.42, 36.2, 43.04, 39.8, 37.96, 44.44, 42.28, 47.04, 39.00000000000001, 44.86, 40.42, 36.2, 43.04, 39.8, 37.96, 44.44, 42.28, 47.04, 39.00000000000001, 44.86, 40.42, 36.2, 43.04, 39.8]]\n"
     ]
    }
   ],
   "source": [
    "import re\n",
    "\n",
    "\n",
    "np.random.seed(10)\n",
    "\n",
    "result =[]\n",
    "for i in range(10):\n",
    "    sample = uk.share.sample(5, replace=True)\n",
    "    sample_means.append(sample.mean())\n",
    "    \n",
    "result.append(sample_means)\n",
    "\n",
    "print(result)\n",
    "    "
   ]
  },
  {
   "cell_type": "markdown",
   "metadata": {},
   "source": [
    "### Poisson Distribution\n",
    "____"
   ]
  },
  {
   "cell_type": "markdown",
   "metadata": {},
   "source": [
    "The Poisson distribution is a discrete probability distribution that models the number of events that occur in a fixed interval of time or space. \n",
    "\n",
    "The Poisson distribution is characterized by one parameter: the rate of occurrence of events. The rate of occurrence is the average number of events that occur in a fixed interval of time or space. The Poisson distribution is used to model rare events that occur independently of each other.\n",
    "\n",
    "The python code to generate random samples from a Poisson distribution is as follows:\n",
    "\n",
    "```python\n",
    "from scipy.stats import poisson\n",
    "\n",
    "data = poisson.rvs(mu=2, size=10)\n",
    "```\n",
    "\n",
    "where\n",
    "- mu is the rate of occurrence of events, and \n",
    "- size is the number of samples to generate.\n",
    "\n",
    "The probability mass function (PMF) of a Poisson distribution gives the probability of observing a specific number of events in a fixed interval of time or space. The PMF is calculated using the poisson.pmf() function from the scipy.stats.poisson module. The poisson.pmf() function takes two arguments: the number of events and the rate of occurrence. For example, to calculate the probability of observing 2 events in a Poisson distribution with a rate of occurrence of 2, you can use the following code:\n",
    "\n",
    "```python\n",
    "from scipy.stats import poisson\n",
    "\n",
    "p = poisson.pmf(k=2, mu=2)\n",
    "```\n",
    "\n",
    "where\n",
    "- k is the number of events, and\n",
    "- mu is the rate of occurrence.\n",
    "\n",
    "The cmf function is used to calculate the cumulative distribution function (CDF) of a Poisson distribution. The CDF gives the probability of observing a number of events less than or equal to a certain value. The poisson.cdf() function takes two arguments: the number of events and the rate of occurrence. For example, to calculate the probability of observing 2 or fewer events in a Poisson distribution with a rate of occurrence of 2, you can use the following code:\n",
    "\n",
    "```python\n",
    "from scipy.stats import poisson\n",
    "\n",
    "p = poisson.cdf(k=2, mu=2)\n",
    "```\n",
    "\n",
    "where\n",
    "- k is the number of events, and\n",
    "- mu is the rate of occurrence."
   ]
  },
  {
   "cell_type": "code",
   "execution_count": 114,
   "metadata": {},
   "outputs": [
    {
     "data": {
      "text/plain": [
       "0.09160366159257921"
      ]
     },
     "execution_count": 114,
     "metadata": {},
     "output_type": "execute_result"
    }
   ],
   "source": [
    "# probability of a single event\n",
    "from scipy.stats import poisson\n",
    "\n",
    "poisson.pmf(5, 8)"
   ]
  },
  {
   "cell_type": "code",
   "execution_count": 115,
   "metadata": {},
   "outputs": [
    {
     "data": {
      "text/plain": [
       "0.1912360620796254"
      ]
     },
     "execution_count": 115,
     "metadata": {},
     "output_type": "execute_result"
    }
   ],
   "source": [
    "# probability of 5 or less events\n",
    "poisson.cdf(5, 8)"
   ]
  },
  {
   "cell_type": "code",
   "execution_count": 116,
   "metadata": {},
   "outputs": [
    {
     "data": {
      "text/plain": [
       "0.8087639379203746"
      ]
     },
     "execution_count": 116,
     "metadata": {},
     "output_type": "execute_result"
    }
   ],
   "source": [
    "# probability of more than 5 events\n",
    "1 - poisson.cdf(5, 8)"
   ]
  },
  {
   "cell_type": "code",
   "execution_count": 121,
   "metadata": {},
   "outputs": [
    {
     "data": {
      "text/plain": [
       "array([ 4,  6, 10, 11,  7,  8,  5,  8,  6, 12])"
      ]
     },
     "execution_count": 121,
     "metadata": {},
     "output_type": "execute_result"
    }
   ],
   "source": [
    "# sampling from a poisson distribution\n",
    "poisson.rvs(8, size=10)"
   ]
  },
  {
   "cell_type": "markdown",
   "metadata": {},
   "source": [
    "### Exponential Distribution\n",
    "____"
   ]
  },
  {
   "cell_type": "markdown",
   "metadata": {},
   "source": [
    "The exponential distribution is a continuous probability distribution that models the time between events in a Poisson process. The exponential distribution is characterized by one parameter: the rate of occurrence of events. \n",
    "\n",
    "The rate of occurrence is the average number of events that occur in a fixed interval of time or space. The exponential distribution is used to model the time between events in a Poisson process.\n",
    "\n",
    "The pyhton code to generate random samples from an exponential distribution is as follows:\n",
    "\n",
    "```python\n",
    "from scipy.stats import expon\n",
    "\n",
    "data = expon.rvs(scale=2, size=10)\n",
    "```\n",
    "\n",
    "where\n",
    "- scale is the rate of occurrence of events, and\n",
    "- size is the number of samples to generate.\n",
    "\n",
    "\n",
    "The probability density function (PDF) of an exponential distribution gives the probability density of observing a specific time between events. The PDF is calculated using the expon.pdf() function from the scipy.stats.expon module. The expon.pdf() function takes two arguments: the time between events and the rate of occurrence. For example, to calculate the probability density of observing a time between events of 2 in an exponential distribution with a rate of occurrence of 2, you can use the following code:\n",
    "\n",
    "```python\n",
    "from scipy.stats import expon\n",
    "\n",
    "p = expon.pdf(x=2, scale=2)\n",
    "```\n",
    "\n",
    "where\n",
    "- x is the time between events, and\n",
    "- scale is the rate of occurrence.\n",
    "\n",
    "The cumulative distribution function (CDF) of an exponential distribution gives the probability of observing a time between events less than or equal to a certain value. The CDF is calculated using the expon.cdf() function from the scipy.stats.expon module. The expon.cdf() function takes two arguments: the time between events and the rate of occurrence. For example, to calculate the probability of observing a time between events of 2 or fewer in an exponential distribution with a rate of occurrence of 2, you can use the following code:\n",
    "\n",
    "```python\n",
    "from scipy.stats import expon\n",
    "\n",
    "p = expon.cdf(x=2, scale=2)\n",
    "```\n",
    "\n",
    "where\n",
    "- x is the time between events, and\n",
    "- scale is the rate of occurrence."
   ]
  },
  {
   "cell_type": "code",
   "execution_count": 130,
   "metadata": {},
   "outputs": [
    {
     "data": {
      "text/plain": [
       "0.3934693402873666"
      ]
     },
     "execution_count": 130,
     "metadata": {},
     "output_type": "execute_result"
    }
   ],
   "source": [
    "from scipy.stats import expon\n",
    "\n",
    "# probabbility of 1 or less\n",
    "# if the mean is 0.5, then the scale is 1/0.5\n",
    "\n",
    "expon.cdf(1, scale=2)"
   ]
  },
  {
   "cell_type": "code",
   "execution_count": 131,
   "metadata": {},
   "outputs": [
    {
     "data": {
      "text/plain": [
       "0.1353352832366127"
      ]
     },
     "execution_count": 131,
     "metadata": {},
     "output_type": "execute_result"
    }
   ],
   "source": [
    "from scipy.stats import expon\n",
    "\n",
    "# probabbility of greater than 4\n",
    "# if the mean is 0.5, then the scale is 1/0.5\n",
    "\n",
    "1- expon.cdf(4, scale=2)"
   ]
  },
  {
   "cell_type": "code",
   "execution_count": 132,
   "metadata": {},
   "outputs": [
    {
     "data": {
      "text/plain": [
       "0.4711953764760207"
      ]
     },
     "execution_count": 132,
     "metadata": {},
     "output_type": "execute_result"
    }
   ],
   "source": [
    "# probabbility of between 1 and 4\n",
    "\n",
    "expon.cdf(4, scale=2) - expon.cdf(1, scale=2)"
   ]
  },
  {
   "cell_type": "markdown",
   "metadata": {},
   "source": [
    "# Module 4: Correlation and Experimental Design\n",
    "\n",
    "In this chapter, you'll learn how to quantify the strength of a linear relationship between two variables, and explore how confounding variables can affect the relationship between two other variables. You'll also see how a study’s design can influence its results, change how the data should be analyzed, and potentially affect the reliability of your conclusions.\n"
   ]
  },
  {
   "cell_type": "code",
   "execution_count": 6,
   "metadata": {},
   "outputs": [
    {
     "data": {
      "text/html": [
       "<div>\n",
       "<style scoped>\n",
       "    .dataframe tbody tr th:only-of-type {\n",
       "        vertical-align: middle;\n",
       "    }\n",
       "\n",
       "    .dataframe tbody tr th {\n",
       "        vertical-align: top;\n",
       "    }\n",
       "\n",
       "    .dataframe thead th {\n",
       "        text-align: right;\n",
       "    }\n",
       "</style>\n",
       "<table border=\"1\" class=\"dataframe\">\n",
       "  <thead>\n",
       "    <tr style=\"text-align: right;\">\n",
       "      <th></th>\n",
       "      <th>CONSTITUENCY</th>\n",
       "      <th>REGION</th>\n",
       "      <th>2019</th>\n",
       "      <th>2024</th>\n",
       "      <th>TURNOUT %</th>\n",
       "      <th>SHARE %</th>\n",
       "    </tr>\n",
       "  </thead>\n",
       "  <tbody>\n",
       "    <tr>\n",
       "      <th>0</th>\n",
       "      <td>Amber Valley</td>\n",
       "      <td>East Midlands</td>\n",
       "      <td>Conservative</td>\n",
       "      <td>Labour</td>\n",
       "      <td>60.3</td>\n",
       "      <td>37.0</td>\n",
       "    </tr>\n",
       "    <tr>\n",
       "      <th>1</th>\n",
       "      <td>Ashfield</td>\n",
       "      <td>East Midlands</td>\n",
       "      <td>Conservative</td>\n",
       "      <td>Reform UK</td>\n",
       "      <td>58.6</td>\n",
       "      <td>42.8</td>\n",
       "    </tr>\n",
       "    <tr>\n",
       "      <th>2</th>\n",
       "      <td>Bassetlaw</td>\n",
       "      <td>East Midlands</td>\n",
       "      <td>Conservative</td>\n",
       "      <td>Labour</td>\n",
       "      <td>57.4</td>\n",
       "      <td>41.2</td>\n",
       "    </tr>\n",
       "    <tr>\n",
       "      <th>3</th>\n",
       "      <td>Bolsover</td>\n",
       "      <td>East Midlands</td>\n",
       "      <td>Conservative</td>\n",
       "      <td>Labour</td>\n",
       "      <td>56.5</td>\n",
       "      <td>40.5</td>\n",
       "    </tr>\n",
       "    <tr>\n",
       "      <th>4</th>\n",
       "      <td>Boston &amp; Skegness</td>\n",
       "      <td>East Midlands</td>\n",
       "      <td>Conservative</td>\n",
       "      <td>Reform UK</td>\n",
       "      <td>53.4</td>\n",
       "      <td>38.4</td>\n",
       "    </tr>\n",
       "    <tr>\n",
       "      <th>...</th>\n",
       "      <td>...</td>\n",
       "      <td>...</td>\n",
       "      <td>...</td>\n",
       "      <td>...</td>\n",
       "      <td>...</td>\n",
       "      <td>...</td>\n",
       "    </tr>\n",
       "    <tr>\n",
       "      <th>645</th>\n",
       "      <td>Thirsk &amp; Malton</td>\n",
       "      <td>Yorkshire and the Humber</td>\n",
       "      <td>Conservative</td>\n",
       "      <td>Conservative</td>\n",
       "      <td>63.5</td>\n",
       "      <td>39.3</td>\n",
       "    </tr>\n",
       "    <tr>\n",
       "      <th>646</th>\n",
       "      <td>Wakefield &amp; Rothwell</td>\n",
       "      <td>Yorkshire and the Humber</td>\n",
       "      <td>Conservative</td>\n",
       "      <td>Labour</td>\n",
       "      <td>54.2</td>\n",
       "      <td>43.7</td>\n",
       "    </tr>\n",
       "    <tr>\n",
       "      <th>647</th>\n",
       "      <td>Wetherby &amp; Easingwold</td>\n",
       "      <td>Yorkshire and the Humber</td>\n",
       "      <td>Conservative</td>\n",
       "      <td>Conservative</td>\n",
       "      <td>70.3</td>\n",
       "      <td>39.4</td>\n",
       "    </tr>\n",
       "    <tr>\n",
       "      <th>648</th>\n",
       "      <td>York Central</td>\n",
       "      <td>Yorkshire and the Humber</td>\n",
       "      <td>Labour</td>\n",
       "      <td>Labour</td>\n",
       "      <td>54.5</td>\n",
       "      <td>56.6</td>\n",
       "    </tr>\n",
       "    <tr>\n",
       "      <th>649</th>\n",
       "      <td>York Outer</td>\n",
       "      <td>Yorkshire and the Humber</td>\n",
       "      <td>Conservative</td>\n",
       "      <td>Labour</td>\n",
       "      <td>67.0</td>\n",
       "      <td>45.3</td>\n",
       "    </tr>\n",
       "  </tbody>\n",
       "</table>\n",
       "<p>650 rows × 6 columns</p>\n",
       "</div>"
      ],
      "text/plain": [
       "              CONSTITUENCY                    REGION          2019  \\\n",
       "0             Amber Valley             East Midlands  Conservative   \n",
       "1                 Ashfield             East Midlands  Conservative   \n",
       "2                Bassetlaw             East Midlands  Conservative   \n",
       "3                 Bolsover             East Midlands  Conservative   \n",
       "4        Boston & Skegness             East Midlands  Conservative   \n",
       "..                     ...                       ...           ...   \n",
       "645        Thirsk & Malton  Yorkshire and the Humber  Conservative   \n",
       "646   Wakefield & Rothwell  Yorkshire and the Humber  Conservative   \n",
       "647  Wetherby & Easingwold  Yorkshire and the Humber  Conservative   \n",
       "648           York Central  Yorkshire and the Humber        Labour   \n",
       "649             York Outer  Yorkshire and the Humber  Conservative   \n",
       "\n",
       "             2024  TURNOUT %  SHARE %  \n",
       "0          Labour       60.3     37.0  \n",
       "1       Reform UK       58.6     42.8  \n",
       "2          Labour       57.4     41.2  \n",
       "3          Labour       56.5     40.5  \n",
       "4       Reform UK       53.4     38.4  \n",
       "..            ...        ...      ...  \n",
       "645  Conservative       63.5     39.3  \n",
       "646        Labour       54.2     43.7  \n",
       "647  Conservative       70.3     39.4  \n",
       "648        Labour       54.5     56.6  \n",
       "649        Labour       67.0     45.3  \n",
       "\n",
       "[650 rows x 6 columns]"
      ]
     },
     "execution_count": 6,
     "metadata": {},
     "output_type": "execute_result"
    }
   ],
   "source": [
    "uk_election_result "
   ]
  },
  {
   "cell_type": "code",
   "execution_count": 14,
   "metadata": {},
   "outputs": [
    {
     "data": {
      "text/html": [
       "<div>\n",
       "<style scoped>\n",
       "    .dataframe tbody tr th:only-of-type {\n",
       "        vertical-align: middle;\n",
       "    }\n",
       "\n",
       "    .dataframe tbody tr th {\n",
       "        vertical-align: top;\n",
       "    }\n",
       "\n",
       "    .dataframe thead th {\n",
       "        text-align: right;\n",
       "    }\n",
       "</style>\n",
       "<table border=\"1\" class=\"dataframe\">\n",
       "  <thead>\n",
       "    <tr style=\"text-align: right;\">\n",
       "      <th></th>\n",
       "      <th>constituency</th>\n",
       "      <th>region</th>\n",
       "      <th>votes_2019</th>\n",
       "      <th>votes_2024</th>\n",
       "      <th>share</th>\n",
       "      <th>outcome</th>\n",
       "    </tr>\n",
       "  </thead>\n",
       "  <tbody>\n",
       "    <tr>\n",
       "      <th>0</th>\n",
       "      <td>Amber Valley</td>\n",
       "      <td>East Midlands</td>\n",
       "      <td>Conservative</td>\n",
       "      <td>Labour</td>\n",
       "      <td>60.3</td>\n",
       "      <td>37.0</td>\n",
       "    </tr>\n",
       "    <tr>\n",
       "      <th>1</th>\n",
       "      <td>Ashfield</td>\n",
       "      <td>East Midlands</td>\n",
       "      <td>Conservative</td>\n",
       "      <td>Reform UK</td>\n",
       "      <td>58.6</td>\n",
       "      <td>42.8</td>\n",
       "    </tr>\n",
       "    <tr>\n",
       "      <th>2</th>\n",
       "      <td>Bassetlaw</td>\n",
       "      <td>East Midlands</td>\n",
       "      <td>Conservative</td>\n",
       "      <td>Labour</td>\n",
       "      <td>57.4</td>\n",
       "      <td>41.2</td>\n",
       "    </tr>\n",
       "    <tr>\n",
       "      <th>3</th>\n",
       "      <td>Bolsover</td>\n",
       "      <td>East Midlands</td>\n",
       "      <td>Conservative</td>\n",
       "      <td>Labour</td>\n",
       "      <td>56.5</td>\n",
       "      <td>40.5</td>\n",
       "    </tr>\n",
       "    <tr>\n",
       "      <th>4</th>\n",
       "      <td>Boston &amp; Skegness</td>\n",
       "      <td>East Midlands</td>\n",
       "      <td>Conservative</td>\n",
       "      <td>Reform UK</td>\n",
       "      <td>53.4</td>\n",
       "      <td>38.4</td>\n",
       "    </tr>\n",
       "    <tr>\n",
       "      <th>...</th>\n",
       "      <td>...</td>\n",
       "      <td>...</td>\n",
       "      <td>...</td>\n",
       "      <td>...</td>\n",
       "      <td>...</td>\n",
       "      <td>...</td>\n",
       "    </tr>\n",
       "    <tr>\n",
       "      <th>645</th>\n",
       "      <td>Thirsk &amp; Malton</td>\n",
       "      <td>Yorkshire and the Humber</td>\n",
       "      <td>Conservative</td>\n",
       "      <td>Conservative</td>\n",
       "      <td>63.5</td>\n",
       "      <td>39.3</td>\n",
       "    </tr>\n",
       "    <tr>\n",
       "      <th>646</th>\n",
       "      <td>Wakefield &amp; Rothwell</td>\n",
       "      <td>Yorkshire and the Humber</td>\n",
       "      <td>Conservative</td>\n",
       "      <td>Labour</td>\n",
       "      <td>54.2</td>\n",
       "      <td>43.7</td>\n",
       "    </tr>\n",
       "    <tr>\n",
       "      <th>647</th>\n",
       "      <td>Wetherby &amp; Easingwold</td>\n",
       "      <td>Yorkshire and the Humber</td>\n",
       "      <td>Conservative</td>\n",
       "      <td>Conservative</td>\n",
       "      <td>70.3</td>\n",
       "      <td>39.4</td>\n",
       "    </tr>\n",
       "    <tr>\n",
       "      <th>648</th>\n",
       "      <td>York Central</td>\n",
       "      <td>Yorkshire and the Humber</td>\n",
       "      <td>Labour</td>\n",
       "      <td>Labour</td>\n",
       "      <td>54.5</td>\n",
       "      <td>56.6</td>\n",
       "    </tr>\n",
       "    <tr>\n",
       "      <th>649</th>\n",
       "      <td>York Outer</td>\n",
       "      <td>Yorkshire and the Humber</td>\n",
       "      <td>Conservative</td>\n",
       "      <td>Labour</td>\n",
       "      <td>67.0</td>\n",
       "      <td>45.3</td>\n",
       "    </tr>\n",
       "  </tbody>\n",
       "</table>\n",
       "<p>650 rows × 6 columns</p>\n",
       "</div>"
      ],
      "text/plain": [
       "              constituency                    region    votes_2019  \\\n",
       "0             Amber Valley             East Midlands  Conservative   \n",
       "1                 Ashfield             East Midlands  Conservative   \n",
       "2                Bassetlaw             East Midlands  Conservative   \n",
       "3                 Bolsover             East Midlands  Conservative   \n",
       "4        Boston & Skegness             East Midlands  Conservative   \n",
       "..                     ...                       ...           ...   \n",
       "645        Thirsk & Malton  Yorkshire and the Humber  Conservative   \n",
       "646   Wakefield & Rothwell  Yorkshire and the Humber  Conservative   \n",
       "647  Wetherby & Easingwold  Yorkshire and the Humber  Conservative   \n",
       "648           York Central  Yorkshire and the Humber        Labour   \n",
       "649             York Outer  Yorkshire and the Humber  Conservative   \n",
       "\n",
       "       votes_2024  share  outcome  \n",
       "0          Labour   60.3     37.0  \n",
       "1       Reform UK   58.6     42.8  \n",
       "2          Labour   57.4     41.2  \n",
       "3          Labour   56.5     40.5  \n",
       "4       Reform UK   53.4     38.4  \n",
       "..            ...    ...      ...  \n",
       "645  Conservative   63.5     39.3  \n",
       "646        Labour   54.2     43.7  \n",
       "647  Conservative   70.3     39.4  \n",
       "648        Labour   54.5     56.6  \n",
       "649        Labour   67.0     45.3  \n",
       "\n",
       "[650 rows x 6 columns]"
      ]
     },
     "execution_count": 14,
     "metadata": {},
     "output_type": "execute_result"
    }
   ],
   "source": [
    "uk_election_result.columns = ['constituency', 'region', 'votes_2019', 'votes_2024', 'share', 'outcome']\n",
    "uk = uk_election_result\n",
    "uk"
   ]
  },
  {
   "cell_type": "code",
   "execution_count": 18,
   "metadata": {},
   "outputs": [
    {
     "data": {
      "image/png": "[encoded data removed]",
      "text/plain": [
       "<Figure size 640x480 with 1 Axes>"
      ]
     },
     "metadata": {},
     "output_type": "display_data"
    }
   ],
   "source": [
    "sns.scatterplot(data=uk, x='share', y='outcome')\n",
    "plt.show()"
   ]
  },
  {
   "cell_type": "code",
   "execution_count": 21,
   "metadata": {},
   "outputs": [
    {
     "data": {
      "image/png": "[encoded data removed]",
      "text/plain": [
       "<Figure size 500x500 with 1 Axes>"
      ]
     },
     "metadata": {},
     "output_type": "display_data"
    }
   ],
   "source": [
    "sns.lmplot(data=uk, x='share', y='outcome', ci=None)\n",
    "plt.show()"
   ]
  },
  {
   "cell_type": "code",
   "execution_count": 22,
   "metadata": {},
   "outputs": [
    {
     "data": {
      "text/html": [
       "<div>\n",
       "<style scoped>\n",
       "    .dataframe tbody tr th:only-of-type {\n",
       "        vertical-align: middle;\n",
       "    }\n",
       "\n",
       "    .dataframe tbody tr th {\n",
       "        vertical-align: top;\n",
       "    }\n",
       "\n",
       "    .dataframe thead th {\n",
       "        text-align: right;\n",
       "    }\n",
       "</style>\n",
       "<table border=\"1\" class=\"dataframe\">\n",
       "  <thead>\n",
       "    <tr style=\"text-align: right;\">\n",
       "      <th></th>\n",
       "      <th>constituency</th>\n",
       "      <th>region</th>\n",
       "      <th>votes_2019</th>\n",
       "      <th>votes_2024</th>\n",
       "      <th>share</th>\n",
       "      <th>outcome</th>\n",
       "    </tr>\n",
       "  </thead>\n",
       "  <tbody>\n",
       "    <tr>\n",
       "      <th>0</th>\n",
       "      <td>Amber Valley</td>\n",
       "      <td>East Midlands</td>\n",
       "      <td>Conservative</td>\n",
       "      <td>Labour</td>\n",
       "      <td>60.3</td>\n",
       "      <td>37.0</td>\n",
       "    </tr>\n",
       "    <tr>\n",
       "      <th>1</th>\n",
       "      <td>Ashfield</td>\n",
       "      <td>East Midlands</td>\n",
       "      <td>Conservative</td>\n",
       "      <td>Reform UK</td>\n",
       "      <td>58.6</td>\n",
       "      <td>42.8</td>\n",
       "    </tr>\n",
       "    <tr>\n",
       "      <th>2</th>\n",
       "      <td>Bassetlaw</td>\n",
       "      <td>East Midlands</td>\n",
       "      <td>Conservative</td>\n",
       "      <td>Labour</td>\n",
       "      <td>57.4</td>\n",
       "      <td>41.2</td>\n",
       "    </tr>\n",
       "    <tr>\n",
       "      <th>3</th>\n",
       "      <td>Bolsover</td>\n",
       "      <td>East Midlands</td>\n",
       "      <td>Conservative</td>\n",
       "      <td>Labour</td>\n",
       "      <td>56.5</td>\n",
       "      <td>40.5</td>\n",
       "    </tr>\n",
       "    <tr>\n",
       "      <th>4</th>\n",
       "      <td>Boston &amp; Skegness</td>\n",
       "      <td>East Midlands</td>\n",
       "      <td>Conservative</td>\n",
       "      <td>Reform UK</td>\n",
       "      <td>53.4</td>\n",
       "      <td>38.4</td>\n",
       "    </tr>\n",
       "    <tr>\n",
       "      <th>...</th>\n",
       "      <td>...</td>\n",
       "      <td>...</td>\n",
       "      <td>...</td>\n",
       "      <td>...</td>\n",
       "      <td>...</td>\n",
       "      <td>...</td>\n",
       "    </tr>\n",
       "    <tr>\n",
       "      <th>645</th>\n",
       "      <td>Thirsk &amp; Malton</td>\n",
       "      <td>Yorkshire and the Humber</td>\n",
       "      <td>Conservative</td>\n",
       "      <td>Conservative</td>\n",
       "      <td>63.5</td>\n",
       "      <td>39.3</td>\n",
       "    </tr>\n",
       "    <tr>\n",
       "      <th>646</th>\n",
       "      <td>Wakefield &amp; Rothwell</td>\n",
       "      <td>Yorkshire and the Humber</td>\n",
       "      <td>Conservative</td>\n",
       "      <td>Labour</td>\n",
       "      <td>54.2</td>\n",
       "      <td>43.7</td>\n",
       "    </tr>\n",
       "    <tr>\n",
       "      <th>647</th>\n",
       "      <td>Wetherby &amp; Easingwold</td>\n",
       "      <td>Yorkshire and the Humber</td>\n",
       "      <td>Conservative</td>\n",
       "      <td>Conservative</td>\n",
       "      <td>70.3</td>\n",
       "      <td>39.4</td>\n",
       "    </tr>\n",
       "    <tr>\n",
       "      <th>648</th>\n",
       "      <td>York Central</td>\n",
       "      <td>Yorkshire and the Humber</td>\n",
       "      <td>Labour</td>\n",
       "      <td>Labour</td>\n",
       "      <td>54.5</td>\n",
       "      <td>56.6</td>\n",
       "    </tr>\n",
       "    <tr>\n",
       "      <th>649</th>\n",
       "      <td>York Outer</td>\n",
       "      <td>Yorkshire and the Humber</td>\n",
       "      <td>Conservative</td>\n",
       "      <td>Labour</td>\n",
       "      <td>67.0</td>\n",
       "      <td>45.3</td>\n",
       "    </tr>\n",
       "  </tbody>\n",
       "</table>\n",
       "<p>650 rows × 6 columns</p>\n",
       "</div>"
      ],
      "text/plain": [
       "              constituency                    region    votes_2019  \\\n",
       "0             Amber Valley             East Midlands  Conservative   \n",
       "1                 Ashfield             East Midlands  Conservative   \n",
       "2                Bassetlaw             East Midlands  Conservative   \n",
       "3                 Bolsover             East Midlands  Conservative   \n",
       "4        Boston & Skegness             East Midlands  Conservative   \n",
       "..                     ...                       ...           ...   \n",
       "645        Thirsk & Malton  Yorkshire and the Humber  Conservative   \n",
       "646   Wakefield & Rothwell  Yorkshire and the Humber  Conservative   \n",
       "647  Wetherby & Easingwold  Yorkshire and the Humber  Conservative   \n",
       "648           York Central  Yorkshire and the Humber        Labour   \n",
       "649             York Outer  Yorkshire and the Humber  Conservative   \n",
       "\n",
       "       votes_2024  share  outcome  \n",
       "0          Labour   60.3     37.0  \n",
       "1       Reform UK   58.6     42.8  \n",
       "2          Labour   57.4     41.2  \n",
       "3          Labour   56.5     40.5  \n",
       "4       Reform UK   53.4     38.4  \n",
       "..            ...    ...      ...  \n",
       "645  Conservative   63.5     39.3  \n",
       "646        Labour   54.2     43.7  \n",
       "647  Conservative   70.3     39.4  \n",
       "648        Labour   54.5     56.6  \n",
       "649        Labour   67.0     45.3  \n",
       "\n",
       "[650 rows x 6 columns]"
      ]
     },
     "execution_count": 22,
     "metadata": {},
     "output_type": "execute_result"
    }
   ],
   "source": [
    "uk"
   ]
  },
  {
   "cell_type": "code",
   "execution_count": 23,
   "metadata": {},
   "outputs": [
    {
     "data": {
      "text/plain": [
       "-0.20218093483801833"
      ]
     },
     "execution_count": 23,
     "metadata": {},
     "output_type": "execute_result"
    }
   ],
   "source": [
    "uk['outcome'].corr(uk['share'])"
   ]
  },
  {
   "cell_type": "code",
   "execution_count": 26,
   "metadata": {},
   "outputs": [
    {
     "data": {
      "text/plain": [
       "-0.20218093483801836"
      ]
     },
     "execution_count": 26,
     "metadata": {},
     "output_type": "execute_result"
    }
   ],
   "source": [
    "uk['share'].corr(uk['outcome'])"
   ]
  },
  {
   "cell_type": "code",
   "execution_count": 28,
   "metadata": {},
   "outputs": [
    {
     "data": {
      "text/html": [
       "<div>\n",
       "<style scoped>\n",
       "    .dataframe tbody tr th:only-of-type {\n",
       "        vertical-align: middle;\n",
       "    }\n",
       "\n",
       "    .dataframe tbody tr th {\n",
       "        vertical-align: top;\n",
       "    }\n",
       "\n",
       "    .dataframe thead th {\n",
       "        text-align: right;\n",
       "    }\n",
       "</style>\n",
       "<table border=\"1\" class=\"dataframe\">\n",
       "  <thead>\n",
       "    <tr style=\"text-align: right;\">\n",
       "      <th></th>\n",
       "      <th>Country name</th>\n",
       "      <th>year</th>\n",
       "      <th>Life Ladder</th>\n",
       "      <th>Log GDP per capita</th>\n",
       "      <th>Social support</th>\n",
       "      <th>Healthy life expectancy at birth</th>\n",
       "      <th>Freedom to make life choices</th>\n",
       "      <th>Generosity</th>\n",
       "      <th>Perceptions of corruption</th>\n",
       "      <th>Positive affect</th>\n",
       "      <th>Negative affect</th>\n",
       "    </tr>\n",
       "  </thead>\n",
       "  <tbody>\n",
       "    <tr>\n",
       "      <th>0</th>\n",
       "      <td>Afghanistan</td>\n",
       "      <td>2008</td>\n",
       "      <td>3.723590</td>\n",
       "      <td>7.350416</td>\n",
       "      <td>0.450662</td>\n",
       "      <td>50.500000</td>\n",
       "      <td>0.718114</td>\n",
       "      <td>0.164055</td>\n",
       "      <td>0.881686</td>\n",
       "      <td>0.414297</td>\n",
       "      <td>0.258195</td>\n",
       "    </tr>\n",
       "    <tr>\n",
       "      <th>1</th>\n",
       "      <td>Afghanistan</td>\n",
       "      <td>2009</td>\n",
       "      <td>4.401778</td>\n",
       "      <td>7.508646</td>\n",
       "      <td>0.552308</td>\n",
       "      <td>50.799999</td>\n",
       "      <td>0.678896</td>\n",
       "      <td>0.187297</td>\n",
       "      <td>0.850035</td>\n",
       "      <td>0.481421</td>\n",
       "      <td>0.237092</td>\n",
       "    </tr>\n",
       "    <tr>\n",
       "      <th>2</th>\n",
       "      <td>Afghanistan</td>\n",
       "      <td>2010</td>\n",
       "      <td>4.758381</td>\n",
       "      <td>7.613900</td>\n",
       "      <td>0.539075</td>\n",
       "      <td>51.099998</td>\n",
       "      <td>0.600127</td>\n",
       "      <td>0.117861</td>\n",
       "      <td>0.706766</td>\n",
       "      <td>0.516907</td>\n",
       "      <td>0.275324</td>\n",
       "    </tr>\n",
       "    <tr>\n",
       "      <th>3</th>\n",
       "      <td>Afghanistan</td>\n",
       "      <td>2011</td>\n",
       "      <td>3.831719</td>\n",
       "      <td>7.581259</td>\n",
       "      <td>0.521104</td>\n",
       "      <td>51.400002</td>\n",
       "      <td>0.495901</td>\n",
       "      <td>0.160098</td>\n",
       "      <td>0.731109</td>\n",
       "      <td>0.479835</td>\n",
       "      <td>0.267175</td>\n",
       "    </tr>\n",
       "    <tr>\n",
       "      <th>4</th>\n",
       "      <td>Afghanistan</td>\n",
       "      <td>2012</td>\n",
       "      <td>3.782938</td>\n",
       "      <td>7.660506</td>\n",
       "      <td>0.520637</td>\n",
       "      <td>51.700001</td>\n",
       "      <td>0.530935</td>\n",
       "      <td>0.234157</td>\n",
       "      <td>0.775620</td>\n",
       "      <td>0.613513</td>\n",
       "      <td>0.267919</td>\n",
       "    </tr>\n",
       "    <tr>\n",
       "      <th>...</th>\n",
       "      <td>...</td>\n",
       "      <td>...</td>\n",
       "      <td>...</td>\n",
       "      <td>...</td>\n",
       "      <td>...</td>\n",
       "      <td>...</td>\n",
       "      <td>...</td>\n",
       "      <td>...</td>\n",
       "      <td>...</td>\n",
       "      <td>...</td>\n",
       "      <td>...</td>\n",
       "    </tr>\n",
       "    <tr>\n",
       "      <th>2358</th>\n",
       "      <td>Zimbabwe</td>\n",
       "      <td>2019</td>\n",
       "      <td>2.693523</td>\n",
       "      <td>7.697755</td>\n",
       "      <td>0.759162</td>\n",
       "      <td>53.099998</td>\n",
       "      <td>0.631908</td>\n",
       "      <td>-0.050874</td>\n",
       "      <td>0.830652</td>\n",
       "      <td>0.658434</td>\n",
       "      <td>0.235354</td>\n",
       "    </tr>\n",
       "    <tr>\n",
       "      <th>2359</th>\n",
       "      <td>Zimbabwe</td>\n",
       "      <td>2020</td>\n",
       "      <td>3.159802</td>\n",
       "      <td>7.596050</td>\n",
       "      <td>0.717243</td>\n",
       "      <td>53.575001</td>\n",
       "      <td>0.643303</td>\n",
       "      <td>0.002848</td>\n",
       "      <td>0.788523</td>\n",
       "      <td>0.660658</td>\n",
       "      <td>0.345736</td>\n",
       "    </tr>\n",
       "    <tr>\n",
       "      <th>2360</th>\n",
       "      <td>Zimbabwe</td>\n",
       "      <td>2021</td>\n",
       "      <td>3.154578</td>\n",
       "      <td>7.656878</td>\n",
       "      <td>0.685151</td>\n",
       "      <td>54.049999</td>\n",
       "      <td>0.667636</td>\n",
       "      <td>-0.079007</td>\n",
       "      <td>0.756945</td>\n",
       "      <td>0.609917</td>\n",
       "      <td>0.241682</td>\n",
       "    </tr>\n",
       "    <tr>\n",
       "      <th>2361</th>\n",
       "      <td>Zimbabwe</td>\n",
       "      <td>2022</td>\n",
       "      <td>3.296220</td>\n",
       "      <td>7.670073</td>\n",
       "      <td>0.666172</td>\n",
       "      <td>54.525002</td>\n",
       "      <td>0.651987</td>\n",
       "      <td>-0.072935</td>\n",
       "      <td>0.752632</td>\n",
       "      <td>0.640609</td>\n",
       "      <td>0.191350</td>\n",
       "    </tr>\n",
       "    <tr>\n",
       "      <th>2362</th>\n",
       "      <td>Zimbabwe</td>\n",
       "      <td>2023</td>\n",
       "      <td>3.572386</td>\n",
       "      <td>7.678590</td>\n",
       "      <td>0.693817</td>\n",
       "      <td>55.000000</td>\n",
       "      <td>0.734613</td>\n",
       "      <td>-0.068837</td>\n",
       "      <td>0.757494</td>\n",
       "      <td>0.609752</td>\n",
       "      <td>0.178953</td>\n",
       "    </tr>\n",
       "  </tbody>\n",
       "</table>\n",
       "<p>2363 rows × 11 columns</p>\n",
       "</div>"
      ],
      "text/plain": [
       "     Country name  year  Life Ladder  Log GDP per capita  Social support  \\\n",
       "0     Afghanistan  2008     3.723590            7.350416        0.450662   \n",
       "1     Afghanistan  2009     4.401778            7.508646        0.552308   \n",
       "2     Afghanistan  2010     4.758381            7.613900        0.539075   \n",
       "3     Afghanistan  2011     3.831719            7.581259        0.521104   \n",
       "4     Afghanistan  2012     3.782938            7.660506        0.520637   \n",
       "...           ...   ...          ...                 ...             ...   \n",
       "2358     Zimbabwe  2019     2.693523            7.697755        0.759162   \n",
       "2359     Zimbabwe  2020     3.159802            7.596050        0.717243   \n",
       "2360     Zimbabwe  2021     3.154578            7.656878        0.685151   \n",
       "2361     Zimbabwe  2022     3.296220            7.670073        0.666172   \n",
       "2362     Zimbabwe  2023     3.572386            7.678590        0.693817   \n",
       "\n",
       "      Healthy life expectancy at birth  Freedom to make life choices  \\\n",
       "0                            50.500000                      0.718114   \n",
       "1                            50.799999                      0.678896   \n",
       "2                            51.099998                      0.600127   \n",
       "3                            51.400002                      0.495901   \n",
       "4                            51.700001                      0.530935   \n",
       "...                                ...                           ...   \n",
       "2358                         53.099998                      0.631908   \n",
       "2359                         53.575001                      0.643303   \n",
       "2360                         54.049999                      0.667636   \n",
       "2361                         54.525002                      0.651987   \n",
       "2362                         55.000000                      0.734613   \n",
       "\n",
       "      Generosity  Perceptions of corruption  Positive affect  Negative affect  \n",
       "0       0.164055                   0.881686         0.414297         0.258195  \n",
       "1       0.187297                   0.850035         0.481421         0.237092  \n",
       "2       0.117861                   0.706766         0.516907         0.275324  \n",
       "3       0.160098                   0.731109         0.479835         0.267175  \n",
       "4       0.234157                   0.775620         0.613513         0.267919  \n",
       "...          ...                        ...              ...              ...  \n",
       "2358   -0.050874                   0.830652         0.658434         0.235354  \n",
       "2359    0.002848                   0.788523         0.660658         0.345736  \n",
       "2360   -0.079007                   0.756945         0.609917         0.241682  \n",
       "2361   -0.072935                   0.752632         0.640609         0.191350  \n",
       "2362   -0.068837                   0.757494         0.609752         0.178953  \n",
       "\n",
       "[2363 rows x 11 columns]"
      ]
     },
     "execution_count": 28,
     "metadata": {},
     "output_type": "execute_result"
    }
   ],
   "source": [
    "data = pd.read_csv('/Users/teslim/OneDrive/generaldata/2-World_Happiness_Report_2024.csv')\n",
    "data"
   ]
  },
  {
   "cell_type": "code",
   "execution_count": 31,
   "metadata": {},
   "outputs": [
    {
     "data": {
      "text/html": [
       "<div>\n",
       "<style scoped>\n",
       "    .dataframe tbody tr th:only-of-type {\n",
       "        vertical-align: middle;\n",
       "    }\n",
       "\n",
       "    .dataframe tbody tr th {\n",
       "        vertical-align: top;\n",
       "    }\n",
       "\n",
       "    .dataframe thead th {\n",
       "        text-align: right;\n",
       "    }\n",
       "</style>\n",
       "<table border=\"1\" class=\"dataframe\">\n",
       "  <thead>\n",
       "    <tr style=\"text-align: right;\">\n",
       "      <th></th>\n",
       "      <th>country_name</th>\n",
       "      <th>year</th>\n",
       "      <th>life_ladder</th>\n",
       "      <th>log_gdp_per_capita</th>\n",
       "      <th>social_support</th>\n",
       "      <th>healthy_life_expectancy_at_birth</th>\n",
       "      <th>freedom_to_make_life_choices</th>\n",
       "      <th>generosity</th>\n",
       "      <th>perceptions_of_corruption</th>\n",
       "      <th>positive_affect</th>\n",
       "      <th>negative_affect</th>\n",
       "    </tr>\n",
       "  </thead>\n",
       "  <tbody>\n",
       "    <tr>\n",
       "      <th>0</th>\n",
       "      <td>Afghanistan</td>\n",
       "      <td>2008</td>\n",
       "      <td>3.723590</td>\n",
       "      <td>7.350416</td>\n",
       "      <td>0.450662</td>\n",
       "      <td>50.500000</td>\n",
       "      <td>0.718114</td>\n",
       "      <td>0.164055</td>\n",
       "      <td>0.881686</td>\n",
       "      <td>0.414297</td>\n",
       "      <td>0.258195</td>\n",
       "    </tr>\n",
       "    <tr>\n",
       "      <th>1</th>\n",
       "      <td>Afghanistan</td>\n",
       "      <td>2009</td>\n",
       "      <td>4.401778</td>\n",
       "      <td>7.508646</td>\n",
       "      <td>0.552308</td>\n",
       "      <td>50.799999</td>\n",
       "      <td>0.678896</td>\n",
       "      <td>0.187297</td>\n",
       "      <td>0.850035</td>\n",
       "      <td>0.481421</td>\n",
       "      <td>0.237092</td>\n",
       "    </tr>\n",
       "    <tr>\n",
       "      <th>2</th>\n",
       "      <td>Afghanistan</td>\n",
       "      <td>2010</td>\n",
       "      <td>4.758381</td>\n",
       "      <td>7.613900</td>\n",
       "      <td>0.539075</td>\n",
       "      <td>51.099998</td>\n",
       "      <td>0.600127</td>\n",
       "      <td>0.117861</td>\n",
       "      <td>0.706766</td>\n",
       "      <td>0.516907</td>\n",
       "      <td>0.275324</td>\n",
       "    </tr>\n",
       "    <tr>\n",
       "      <th>3</th>\n",
       "      <td>Afghanistan</td>\n",
       "      <td>2011</td>\n",
       "      <td>3.831719</td>\n",
       "      <td>7.581259</td>\n",
       "      <td>0.521104</td>\n",
       "      <td>51.400002</td>\n",
       "      <td>0.495901</td>\n",
       "      <td>0.160098</td>\n",
       "      <td>0.731109</td>\n",
       "      <td>0.479835</td>\n",
       "      <td>0.267175</td>\n",
       "    </tr>\n",
       "    <tr>\n",
       "      <th>4</th>\n",
       "      <td>Afghanistan</td>\n",
       "      <td>2012</td>\n",
       "      <td>3.782938</td>\n",
       "      <td>7.660506</td>\n",
       "      <td>0.520637</td>\n",
       "      <td>51.700001</td>\n",
       "      <td>0.530935</td>\n",
       "      <td>0.234157</td>\n",
       "      <td>0.775620</td>\n",
       "      <td>0.613513</td>\n",
       "      <td>0.267919</td>\n",
       "    </tr>\n",
       "    <tr>\n",
       "      <th>...</th>\n",
       "      <td>...</td>\n",
       "      <td>...</td>\n",
       "      <td>...</td>\n",
       "      <td>...</td>\n",
       "      <td>...</td>\n",
       "      <td>...</td>\n",
       "      <td>...</td>\n",
       "      <td>...</td>\n",
       "      <td>...</td>\n",
       "      <td>...</td>\n",
       "      <td>...</td>\n",
       "    </tr>\n",
       "    <tr>\n",
       "      <th>2358</th>\n",
       "      <td>Zimbabwe</td>\n",
       "      <td>2019</td>\n",
       "      <td>2.693523</td>\n",
       "      <td>7.697755</td>\n",
       "      <td>0.759162</td>\n",
       "      <td>53.099998</td>\n",
       "      <td>0.631908</td>\n",
       "      <td>-0.050874</td>\n",
       "      <td>0.830652</td>\n",
       "      <td>0.658434</td>\n",
       "      <td>0.235354</td>\n",
       "    </tr>\n",
       "    <tr>\n",
       "      <th>2359</th>\n",
       "      <td>Zimbabwe</td>\n",
       "      <td>2020</td>\n",
       "      <td>3.159802</td>\n",
       "      <td>7.596050</td>\n",
       "      <td>0.717243</td>\n",
       "      <td>53.575001</td>\n",
       "      <td>0.643303</td>\n",
       "      <td>0.002848</td>\n",
       "      <td>0.788523</td>\n",
       "      <td>0.660658</td>\n",
       "      <td>0.345736</td>\n",
       "    </tr>\n",
       "    <tr>\n",
       "      <th>2360</th>\n",
       "      <td>Zimbabwe</td>\n",
       "      <td>2021</td>\n",
       "      <td>3.154578</td>\n",
       "      <td>7.656878</td>\n",
       "      <td>0.685151</td>\n",
       "      <td>54.049999</td>\n",
       "      <td>0.667636</td>\n",
       "      <td>-0.079007</td>\n",
       "      <td>0.756945</td>\n",
       "      <td>0.609917</td>\n",
       "      <td>0.241682</td>\n",
       "    </tr>\n",
       "    <tr>\n",
       "      <th>2361</th>\n",
       "      <td>Zimbabwe</td>\n",
       "      <td>2022</td>\n",
       "      <td>3.296220</td>\n",
       "      <td>7.670073</td>\n",
       "      <td>0.666172</td>\n",
       "      <td>54.525002</td>\n",
       "      <td>0.651987</td>\n",
       "      <td>-0.072935</td>\n",
       "      <td>0.752632</td>\n",
       "      <td>0.640609</td>\n",
       "      <td>0.191350</td>\n",
       "    </tr>\n",
       "    <tr>\n",
       "      <th>2362</th>\n",
       "      <td>Zimbabwe</td>\n",
       "      <td>2023</td>\n",
       "      <td>3.572386</td>\n",
       "      <td>7.678590</td>\n",
       "      <td>0.693817</td>\n",
       "      <td>55.000000</td>\n",
       "      <td>0.734613</td>\n",
       "      <td>-0.068837</td>\n",
       "      <td>0.757494</td>\n",
       "      <td>0.609752</td>\n",
       "      <td>0.178953</td>\n",
       "    </tr>\n",
       "  </tbody>\n",
       "</table>\n",
       "<p>2363 rows × 11 columns</p>\n",
       "</div>"
      ],
      "text/plain": [
       "     country_name  year  life_ladder  log_gdp_per_capita  social_support  \\\n",
       "0     Afghanistan  2008     3.723590            7.350416        0.450662   \n",
       "1     Afghanistan  2009     4.401778            7.508646        0.552308   \n",
       "2     Afghanistan  2010     4.758381            7.613900        0.539075   \n",
       "3     Afghanistan  2011     3.831719            7.581259        0.521104   \n",
       "4     Afghanistan  2012     3.782938            7.660506        0.520637   \n",
       "...           ...   ...          ...                 ...             ...   \n",
       "2358     Zimbabwe  2019     2.693523            7.697755        0.759162   \n",
       "2359     Zimbabwe  2020     3.159802            7.596050        0.717243   \n",
       "2360     Zimbabwe  2021     3.154578            7.656878        0.685151   \n",
       "2361     Zimbabwe  2022     3.296220            7.670073        0.666172   \n",
       "2362     Zimbabwe  2023     3.572386            7.678590        0.693817   \n",
       "\n",
       "      healthy_life_expectancy_at_birth  freedom_to_make_life_choices  \\\n",
       "0                            50.500000                      0.718114   \n",
       "1                            50.799999                      0.678896   \n",
       "2                            51.099998                      0.600127   \n",
       "3                            51.400002                      0.495901   \n",
       "4                            51.700001                      0.530935   \n",
       "...                                ...                           ...   \n",
       "2358                         53.099998                      0.631908   \n",
       "2359                         53.575001                      0.643303   \n",
       "2360                         54.049999                      0.667636   \n",
       "2361                         54.525002                      0.651987   \n",
       "2362                         55.000000                      0.734613   \n",
       "\n",
       "      generosity  perceptions_of_corruption  positive_affect  negative_affect  \n",
       "0       0.164055                   0.881686         0.414297         0.258195  \n",
       "1       0.187297                   0.850035         0.481421         0.237092  \n",
       "2       0.117861                   0.706766         0.516907         0.275324  \n",
       "3       0.160098                   0.731109         0.479835         0.267175  \n",
       "4       0.234157                   0.775620         0.613513         0.267919  \n",
       "...          ...                        ...              ...              ...  \n",
       "2358   -0.050874                   0.830652         0.658434         0.235354  \n",
       "2359    0.002848                   0.788523         0.660658         0.345736  \n",
       "2360   -0.079007                   0.756945         0.609917         0.241682  \n",
       "2361   -0.072935                   0.752632         0.640609         0.191350  \n",
       "2362   -0.068837                   0.757494         0.609752         0.178953  \n",
       "\n",
       "[2363 rows x 11 columns]"
      ]
     },
     "execution_count": 31,
     "metadata": {},
     "output_type": "execute_result"
    }
   ],
   "source": [
    "data.columns = data.columns.str.lower().str.replace(' ', '_')\n",
    "data"
   ]
  },
  {
   "cell_type": "code",
   "execution_count": 32,
   "metadata": {},
   "outputs": [
    {
     "data": {
      "text/plain": [
       "<Axes: ylabel='Frequency'>"
      ]
     },
     "execution_count": 32,
     "metadata": {},
     "output_type": "execute_result"
    },
    {
     "data": {
      "image/png": "[encoded data removed]",
      "text/plain": [
       "<Figure size 640x480 with 1 Axes>"
      ]
     },
     "metadata": {},
     "output_type": "display_data"
    }
   ],
   "source": [
    "data['healthy_life_expectancy_at_birth'].plot(kind='hist')"
   ]
  },
  {
   "cell_type": "code",
   "execution_count": null,
   "metadata": {},
   "outputs": [],
   "source": [
    "data['healthy_life_expectancy_at_birth'] = np.log(data['healthy_life_expectancy_at_birth'])\n"
   ]
  },
  {
   "cell_type": "code",
   "execution_count": 34,
   "metadata": {},
   "outputs": [
    {
     "data": {
      "text/plain": [
       "<Axes: ylabel='Frequency'>"
      ]
     },
     "execution_count": 34,
     "metadata": {},
     "output_type": "execute_result"
    },
    {
     "data": {
      "image/png": "[encoded data removed]",
      "text/plain": [
       "<Figure size 640x480 with 1 Axes>"
      ]
     },
     "metadata": {},
     "output_type": "display_data"
    }
   ],
   "source": [
    "data['healthy_life_expectancy_at_birth'].plot(kind='hist')"
   ]
  }
 ],
 "metadata": {
  "kernelspec": {
   "display_name": "data-science-env",
   "language": "python",
   "name": "python3"
  },
  "language_info": {
   "codemirror_mode": {
    "name": "ipython",
    "version": 3
   },
   "file_extension": ".py",
   "mimetype": "text/x-python",
   "name": "python",
   "nbconvert_exporter": "python",
   "pygments_lexer": "ipython3",
   "version": "3.12.6"
  }
 },
 "nbformat": 4,
 "nbformat_minor": 2
}
