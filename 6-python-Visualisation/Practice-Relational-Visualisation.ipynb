{
 "cells": [
  {
   "cell_type": "markdown",
   "id": "edbba1f1",
   "metadata": {},
   "source": [
    "# Relational Visualization Practice"
   ]
  },
  {
   "cell_type": "code",
   "execution_count": 40,
   "id": "d96d8b1d",
   "metadata": {},
   "outputs": [],
   "source": [
    "import pandas as pd\n",
    "import seaborn as sns\n",
    "import matplotlib.pyplot as plt"
   ]
  },
  {
   "cell_type": "code",
   "execution_count": 41,
   "id": "c9ef6003",
   "metadata": {},
   "outputs": [],
   "source": [
    "df = pd.read_csv('https://raw.githubusercontent.com/plotly/datasets/master/gapminderDataFiveYear.csv')"
   ]
  },
  {
   "cell_type": "code",
   "execution_count": 53,
   "id": "0780a37e",
   "metadata": {},
   "outputs": [],
   "source": [
    "uk = pd.read_excel('uk_election.xlsx', sheet_name=3)"
   ]
  },
  {
   "cell_type": "code",
   "execution_count": 54,
   "id": "5a2cf33b",
   "metadata": {},
   "outputs": [
    {
     "name": "stdout",
     "output_type": "stream",
     "text": [
      "Sheet names: ['0', '1', 'House of common', '3', '4', '5']\n",
      "Number of sheets: 6\n",
      "Sheet 0: 0\n",
      "Sheet 1: 1\n",
      "Sheet 2: House of common\n",
      "Sheet 3: 3\n",
      "Sheet 4: 4\n",
      "Sheet 5: 5\n"
     ]
    }
   ],
   "source": [
    "# Create an ExcelFile object\n",
    "excel_file = pd.ExcelFile('uk_election.xlsx')\n",
    "\n",
    "# Get all sheet names\n",
    "sheet_names = excel_file.sheet_names\n",
    "print(\"Sheet names:\", sheet_names)\n",
    "\n",
    "# Get number of sheets\n",
    "num_sheets = len(sheet_names)\n",
    "print(f\"Number of sheets: {num_sheets}\")\n",
    "\n",
    "# Display sheet names with index numbers\n",
    "for i, sheet in enumerate(sheet_names):\n",
    "    print(f\"Sheet {i}: {sheet}\")"
   ]
  },
  {
   "cell_type": "code",
   "execution_count": 60,
   "id": "4d115361",
   "metadata": {},
   "outputs": [
    {
     "data": {
      "application/vnd.microsoft.datawrangler.viewer.v0+json": {
       "columns": [
        {
         "name": "index",
         "rawType": "int64",
         "type": "integer"
        },
        {
         "name": "country",
         "rawType": "object",
         "type": "string"
        },
        {
         "name": "year",
         "rawType": "int64",
         "type": "integer"
        },
        {
         "name": "pop",
         "rawType": "float64",
         "type": "float"
        },
        {
         "name": "continent",
         "rawType": "object",
         "type": "string"
        },
        {
         "name": "lifeExp",
         "rawType": "float64",
         "type": "float"
        },
        {
         "name": "gdpPercap",
         "rawType": "float64",
         "type": "float"
        }
       ],
       "ref": "c5f89467-27f5-4dff-ae41-f5dcf8f92913",
       "rows": [
        [
         "0",
         "Afghanistan",
         "1952",
         "8425333.0",
         "Asia",
         "28.801",
         "779.4453145"
        ],
        [
         "1",
         "Afghanistan",
         "1957",
         "9240934.0",
         "Asia",
         "30.332",
         "820.8530296"
        ],
        [
         "2",
         "Afghanistan",
         "1962",
         "10267083.0",
         "Asia",
         "31.997",
         "853.10071"
        ],
        [
         "3",
         "Afghanistan",
         "1967",
         "11537966.0",
         "Asia",
         "34.02",
         "836.1971382"
        ],
        [
         "4",
         "Afghanistan",
         "1972",
         "13079460.0",
         "Asia",
         "36.088",
         "739.9811058"
        ],
        [
         "5",
         "Afghanistan",
         "1977",
         "14880372.0",
         "Asia",
         "38.438",
         "786.11336"
        ],
        [
         "6",
         "Afghanistan",
         "1982",
         "12881816.0",
         "Asia",
         "39.854",
         "978.0114388"
        ],
        [
         "7",
         "Afghanistan",
         "1987",
         "13867957.0",
         "Asia",
         "40.822",
         "852.3959448"
        ],
        [
         "8",
         "Afghanistan",
         "1992",
         "16317921.0",
         "Asia",
         "41.674",
         "649.3413952"
        ],
        [
         "9",
         "Afghanistan",
         "1997",
         "22227415.0",
         "Asia",
         "41.763",
         "635.341351"
        ],
        [
         "10",
         "Afghanistan",
         "2002",
         "25268405.0",
         "Asia",
         "42.129",
         "726.7340548"
        ],
        [
         "11",
         "Afghanistan",
         "2007",
         "31889923.0",
         "Asia",
         "43.828",
         "974.5803384"
        ],
        [
         "12",
         "Albania",
         "1952",
         "1282697.0",
         "Europe",
         "55.23",
         "1601.056136"
        ],
        [
         "13",
         "Albania",
         "1957",
         "1476505.0",
         "Europe",
         "59.28",
         "1942.284244"
        ],
        [
         "14",
         "Albania",
         "1962",
         "1728137.0",
         "Europe",
         "64.82",
         "2312.888958"
        ],
        [
         "15",
         "Albania",
         "1967",
         "1984060.0",
         "Europe",
         "66.22",
         "2760.196931"
        ],
        [
         "16",
         "Albania",
         "1972",
         "2263554.0",
         "Europe",
         "67.69",
         "3313.422188"
        ],
        [
         "17",
         "Albania",
         "1977",
         "2509048.0",
         "Europe",
         "68.93",
         "3533.00391"
        ],
        [
         "18",
         "Albania",
         "1982",
         "2780097.0",
         "Europe",
         "70.42",
         "3630.880722"
        ],
        [
         "19",
         "Albania",
         "1987",
         "3075321.0",
         "Europe",
         "72.0",
         "3738.932735"
        ],
        [
         "20",
         "Albania",
         "1992",
         "3326498.0",
         "Europe",
         "71.581",
         "2497.437901"
        ],
        [
         "21",
         "Albania",
         "1997",
         "3428038.0",
         "Europe",
         "72.95",
         "3193.054604"
        ],
        [
         "22",
         "Albania",
         "2002",
         "3508512.0",
         "Europe",
         "75.651",
         "4604.211737"
        ],
        [
         "23",
         "Albania",
         "2007",
         "3600523.0",
         "Europe",
         "76.423",
         "5937.029526"
        ],
        [
         "24",
         "Algeria",
         "1952",
         "9279525.0",
         "Africa",
         "43.077",
         "2449.008185"
        ],
        [
         "25",
         "Algeria",
         "1957",
         "10270856.0",
         "Africa",
         "45.685",
         "3013.976023"
        ],
        [
         "26",
         "Algeria",
         "1962",
         "11000948.0",
         "Africa",
         "48.303",
         "2550.81688"
        ],
        [
         "27",
         "Algeria",
         "1967",
         "12760499.0",
         "Africa",
         "51.407",
         "3246.991771"
        ],
        [
         "28",
         "Algeria",
         "1972",
         "14760787.0",
         "Africa",
         "54.518",
         "4182.663766"
        ],
        [
         "29",
         "Algeria",
         "1977",
         "17152804.0",
         "Africa",
         "58.014",
         "4910.416756"
        ],
        [
         "30",
         "Algeria",
         "1982",
         "20033753.0",
         "Africa",
         "61.368",
         "5745.160213"
        ],
        [
         "31",
         "Algeria",
         "1987",
         "23254956.0",
         "Africa",
         "65.799",
         "5681.358539"
        ],
        [
         "32",
         "Algeria",
         "1992",
         "26298373.0",
         "Africa",
         "67.744",
         "5023.216647"
        ],
        [
         "33",
         "Algeria",
         "1997",
         "29072015.0",
         "Africa",
         "69.152",
         "4797.295051"
        ],
        [
         "34",
         "Algeria",
         "2002",
         "31287142.0",
         "Africa",
         "70.994",
         "5288.040382"
        ],
        [
         "35",
         "Algeria",
         "2007",
         "33333216.0",
         "Africa",
         "72.301",
         "6223.367465"
        ],
        [
         "36",
         "Angola",
         "1952",
         "4232095.0",
         "Africa",
         "30.015",
         "3520.610273"
        ],
        [
         "37",
         "Angola",
         "1957",
         "4561361.0",
         "Africa",
         "31.999",
         "3827.940465"
        ],
        [
         "38",
         "Angola",
         "1962",
         "4826015.0",
         "Africa",
         "34.0",
         "4269.276742"
        ],
        [
         "39",
         "Angola",
         "1967",
         "5247469.0",
         "Africa",
         "35.985",
         "5522.776375"
        ],
        [
         "40",
         "Angola",
         "1972",
         "5894858.0",
         "Africa",
         "37.928",
         "5473.288005"
        ],
        [
         "41",
         "Angola",
         "1977",
         "6162675.0",
         "Africa",
         "39.483",
         "3008.647355"
        ],
        [
         "42",
         "Angola",
         "1982",
         "7016384.0",
         "Africa",
         "39.942",
         "2756.953672"
        ],
        [
         "43",
         "Angola",
         "1987",
         "7874230.0",
         "Africa",
         "39.906",
         "2430.208311"
        ],
        [
         "44",
         "Angola",
         "1992",
         "8735988.0",
         "Africa",
         "40.647",
         "2627.845685"
        ],
        [
         "45",
         "Angola",
         "1997",
         "9875024.0",
         "Africa",
         "40.963",
         "2277.140884"
        ],
        [
         "46",
         "Angola",
         "2002",
         "10866106.0",
         "Africa",
         "41.003",
         "2773.287312"
        ],
        [
         "47",
         "Angola",
         "2007",
         "12420476.0",
         "Africa",
         "42.731",
         "4797.231267"
        ],
        [
         "48",
         "Argentina",
         "1952",
         "17876956.0",
         "Americas",
         "62.485",
         "5911.315053"
        ],
        [
         "49",
         "Argentina",
         "1957",
         "19610538.0",
         "Americas",
         "64.399",
         "6856.856212"
        ]
       ],
       "shape": {
        "columns": 6,
        "rows": 1704
       }
      },
      "text/html": [
       "<div>\n",
       "<style scoped>\n",
       "    .dataframe tbody tr th:only-of-type {\n",
       "        vertical-align: middle;\n",
       "    }\n",
       "\n",
       "    .dataframe tbody tr th {\n",
       "        vertical-align: top;\n",
       "    }\n",
       "\n",
       "    .dataframe thead th {\n",
       "        text-align: right;\n",
       "    }\n",
       "</style>\n",
       "<table border=\"1\" class=\"dataframe\">\n",
       "  <thead>\n",
       "    <tr style=\"text-align: right;\">\n",
       "      <th></th>\n",
       "      <th>country</th>\n",
       "      <th>year</th>\n",
       "      <th>pop</th>\n",
       "      <th>continent</th>\n",
       "      <th>lifeExp</th>\n",
       "      <th>gdpPercap</th>\n",
       "    </tr>\n",
       "  </thead>\n",
       "  <tbody>\n",
       "    <tr>\n",
       "      <th>0</th>\n",
       "      <td>Afghanistan</td>\n",
       "      <td>1952</td>\n",
       "      <td>8425333.0</td>\n",
       "      <td>Asia</td>\n",
       "      <td>28.801</td>\n",
       "      <td>779.445314</td>\n",
       "    </tr>\n",
       "    <tr>\n",
       "      <th>1</th>\n",
       "      <td>Afghanistan</td>\n",
       "      <td>1957</td>\n",
       "      <td>9240934.0</td>\n",
       "      <td>Asia</td>\n",
       "      <td>30.332</td>\n",
       "      <td>820.853030</td>\n",
       "    </tr>\n",
       "    <tr>\n",
       "      <th>2</th>\n",
       "      <td>Afghanistan</td>\n",
       "      <td>1962</td>\n",
       "      <td>10267083.0</td>\n",
       "      <td>Asia</td>\n",
       "      <td>31.997</td>\n",
       "      <td>853.100710</td>\n",
       "    </tr>\n",
       "    <tr>\n",
       "      <th>3</th>\n",
       "      <td>Afghanistan</td>\n",
       "      <td>1967</td>\n",
       "      <td>11537966.0</td>\n",
       "      <td>Asia</td>\n",
       "      <td>34.020</td>\n",
       "      <td>836.197138</td>\n",
       "    </tr>\n",
       "    <tr>\n",
       "      <th>4</th>\n",
       "      <td>Afghanistan</td>\n",
       "      <td>1972</td>\n",
       "      <td>13079460.0</td>\n",
       "      <td>Asia</td>\n",
       "      <td>36.088</td>\n",
       "      <td>739.981106</td>\n",
       "    </tr>\n",
       "    <tr>\n",
       "      <th>...</th>\n",
       "      <td>...</td>\n",
       "      <td>...</td>\n",
       "      <td>...</td>\n",
       "      <td>...</td>\n",
       "      <td>...</td>\n",
       "      <td>...</td>\n",
       "    </tr>\n",
       "    <tr>\n",
       "      <th>1699</th>\n",
       "      <td>Zimbabwe</td>\n",
       "      <td>1987</td>\n",
       "      <td>9216418.0</td>\n",
       "      <td>Africa</td>\n",
       "      <td>62.351</td>\n",
       "      <td>706.157306</td>\n",
       "    </tr>\n",
       "    <tr>\n",
       "      <th>1700</th>\n",
       "      <td>Zimbabwe</td>\n",
       "      <td>1992</td>\n",
       "      <td>10704340.0</td>\n",
       "      <td>Africa</td>\n",
       "      <td>60.377</td>\n",
       "      <td>693.420786</td>\n",
       "    </tr>\n",
       "    <tr>\n",
       "      <th>1701</th>\n",
       "      <td>Zimbabwe</td>\n",
       "      <td>1997</td>\n",
       "      <td>11404948.0</td>\n",
       "      <td>Africa</td>\n",
       "      <td>46.809</td>\n",
       "      <td>792.449960</td>\n",
       "    </tr>\n",
       "    <tr>\n",
       "      <th>1702</th>\n",
       "      <td>Zimbabwe</td>\n",
       "      <td>2002</td>\n",
       "      <td>11926563.0</td>\n",
       "      <td>Africa</td>\n",
       "      <td>39.989</td>\n",
       "      <td>672.038623</td>\n",
       "    </tr>\n",
       "    <tr>\n",
       "      <th>1703</th>\n",
       "      <td>Zimbabwe</td>\n",
       "      <td>2007</td>\n",
       "      <td>12311143.0</td>\n",
       "      <td>Africa</td>\n",
       "      <td>43.487</td>\n",
       "      <td>469.709298</td>\n",
       "    </tr>\n",
       "  </tbody>\n",
       "</table>\n",
       "<p>1704 rows × 6 columns</p>\n",
       "</div>"
      ],
      "text/plain": [
       "          country  year         pop continent  lifeExp   gdpPercap\n",
       "0     Afghanistan  1952   8425333.0      Asia   28.801  779.445314\n",
       "1     Afghanistan  1957   9240934.0      Asia   30.332  820.853030\n",
       "2     Afghanistan  1962  10267083.0      Asia   31.997  853.100710\n",
       "3     Afghanistan  1967  11537966.0      Asia   34.020  836.197138\n",
       "4     Afghanistan  1972  13079460.0      Asia   36.088  739.981106\n",
       "...           ...   ...         ...       ...      ...         ...\n",
       "1699     Zimbabwe  1987   9216418.0    Africa   62.351  706.157306\n",
       "1700     Zimbabwe  1992  10704340.0    Africa   60.377  693.420786\n",
       "1701     Zimbabwe  1997  11404948.0    Africa   46.809  792.449960\n",
       "1702     Zimbabwe  2002  11926563.0    Africa   39.989  672.038623\n",
       "1703     Zimbabwe  2007  12311143.0    Africa   43.487  469.709298\n",
       "\n",
       "[1704 rows x 6 columns]"
      ]
     },
     "execution_count": 60,
     "metadata": {},
     "output_type": "execute_result"
    }
   ],
   "source": [
    "df"
   ]
  },
  {
   "cell_type": "code",
   "execution_count": 61,
   "id": "9827eeef",
   "metadata": {},
   "outputs": [
    {
     "data": {
      "text/plain": [
       "['country', 'year', 'pop', 'continent', 'lifeExp', 'gdpPercap']"
      ]
     },
     "execution_count": 61,
     "metadata": {},
     "output_type": "execute_result"
    }
   ],
   "source": [
    "df.columns.to_list()"
   ]
  },
  {
   "cell_type": "code",
   "execution_count": 62,
   "id": "8007d897",
   "metadata": {},
   "outputs": [
    {
     "data": {
      "image/png": "[encoded data removed]",
      "text/plain": [
       "<Figure size 500x500 with 1 Axes>"
      ]
     },
     "metadata": {},
     "output_type": "display_data"
    }
   ],
   "source": [
    "sns.relplot(data = df, x='lifeExp', y = 'gdpPercap', kind='scatter')\n",
    "plt.title(\"Life Exp vs GDP\")\n",
    "plt.show()"
   ]
  },
  {
   "cell_type": "code",
   "execution_count": 63,
   "id": "ffebc7dd",
   "metadata": {},
   "outputs": [
    {
     "data": {
      "image/png": "[encoded data removed]",
      "text/plain": [
       "<Figure size 500x500 with 1 Axes>"
      ]
     },
     "metadata": {},
     "output_type": "display_data"
    }
   ],
   "source": [
    "sns.relplot(data = df, x = 'year', y = 'pop', kind='line')\n",
    "plt.title('Pop vs Year')\n",
    "plt.show()"
   ]
  },
  {
   "cell_type": "code",
   "execution_count": 64,
   "id": "0d7f609e",
   "metadata": {},
   "outputs": [
    {
     "data": {
      "image/png": "[encoded data removed]",
      "text/plain": [
       "<Figure size 500x500 with 1 Axes>"
      ]
     },
     "metadata": {},
     "output_type": "display_data"
    }
   ],
   "source": [
    "sns.relplot(data=df, x='year', y = 'gdpPercap', kind='line')\n",
    "\n",
    "plt.title(\"Relationship of gdp and year \")\n",
    "plt.show()"
   ]
  },
  {
   "cell_type": "code",
   "execution_count": null,
   "id": "1f387e2f",
   "metadata": {},
   "outputs": [],
   "source": []
  }
 ],
 "metadata": {
  "kernelspec": {
   "display_name": "data-science-env",
   "language": "python",
   "name": "python3"
  },
  "language_info": {
   "codemirror_mode": {
    "name": "ipython",
    "version": 3
   },
   "file_extension": ".py",
   "mimetype": "text/x-python",
   "name": "python",
   "nbconvert_exporter": "python",
   "pygments_lexer": "ipython3",
   "version": "3.12.6"
  }
 },
 "nbformat": 4,
 "nbformat_minor": 5
}
