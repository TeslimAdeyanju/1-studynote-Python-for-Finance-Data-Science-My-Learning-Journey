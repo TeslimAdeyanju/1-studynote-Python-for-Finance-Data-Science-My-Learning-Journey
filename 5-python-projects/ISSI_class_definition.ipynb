{
 "cells": [
  {
   "cell_type": "code",
   "execution_count": 9,
   "metadata": {},
   "outputs": [
    {
     "name": "stdout",
     "output_type": "stream",
     "text": [
      "Isolo Senior Secondary School\n",
      "Isolo, Lagos\n",
      "Knowledge is Power\n"
     ]
    }
   ],
   "source": [
    "class ISSI:\n",
    "    # class attributes\n",
    "    school = \"Isolo Senior Secondary School\"\n",
    "    location = \"Isolo, Lagos\"\n",
    "    motto = \"Knowledge is Power\"\n",
    "\n",
    "    # constructor\n",
    "    def __init__(self, member_no, mobile, name, day, month, location, profession):\n",
    "        self.member_no = member_no\n",
    "        self.mobile = mobile\n",
    "        self.name = name\n",
    "        self.day = day\n",
    "        self.month = month\n",
    "        self.location = location\n",
    "        self.profession = profession\n",
    "\n",
    "    # instance method\n",
    "def get_member_no(self):\n",
    "        return self.member_no + 1000\n",
    "        # Create an instance of ISSI\n",
    "        issi_instance1 = ISSI(1, \"+2347067087878\", \"Teslim Adeyanju\", 26, 10, \"UK\", \"Accountant\")\n",
    "        issi_instance2 = ISSI(2, \"+2348037540757\", \"Teniola Oluwakemi Kafayat\", 26, 5, \"Lagos\", \"Accountant\")\n",
    "\n",
    "        # Accessing class attributes\n",
    "print(ISSI.school)\n",
    "print(ISSI.location)\n",
    "print(ISSI.motto)\n",
    "        \n",
    "\n",
    "\n",
    "\n"
   ]
  },
  {
   "cell_type": "code",
   "execution_count": 2,
   "metadata": {},
   "outputs": [],
   "source": [
    "class Person:\n",
    "    \n",
    "   # class attributes \n",
    "    population = 'working_class'\n",
    "    \n",
    "    def __init__(self, name, sex, profession):\n",
    "        # Instance variables to store unique data for each person\n",
    "        self.name = name\n",
    "        self.sex = sex\n",
    "        self.profession = profession\n",
    "\n",
    "    def show(self):\n",
    "        # Instance method to display person details\n",
    "        print('Name:', self.name, 'Sex:', self.sex, 'Profession:', self.profession)\n",
    "\n",
    "    def work(self):\n",
    "        # Instance method to describe work\n",
    "        print(self.name, 'working as a', self.profession)\n",
    "\n",
    "# Creating an object (instance) of the Person class\n",
    "jessa = Person('Jessa', 'Female', 'Software Engineer')"
   ]
  },
  {
   "cell_type": "code",
   "execution_count": 3,
   "metadata": {},
   "outputs": [
    {
     "name": "stdout",
     "output_type": "stream",
     "text": [
      "Name: Jessa Sex: Female Profession: Software Engineer\n",
      "Jessa working as a Software Engineer\n"
     ]
    }
   ],
   "source": [
    "# Calling methods on the object\n",
    "jessa.show()\n",
    "jessa.work()"
   ]
  },
  {
   "cell_type": "code",
   "execution_count": 10,
   "metadata": {},
   "outputs": [
    {
     "name": "stdout",
     "output_type": "stream",
     "text": [
      "Product: Laptop, Price: $1200, Stock: 10\n"
     ]
    }
   ],
   "source": [
    "\n",
    "class Product:\n",
    "    def __init__(self, name, price, stock):\n",
    "        self.name = name\n",
    "        self.price = price\n",
    "        self.stock = stock\n",
    "\n",
    "    def display(self):\n",
    "        print(f\"Product: {self.name}, Price: ${self.price}, Stock: {self.stock}\")\n",
    "\n",
    "# Creating an instance of Product\n",
    "product1 = Product(\"Laptop\", 1200, 10)\n",
    "\n",
    "# Using the object\n",
    "product1.display()\n",
    "\n"
   ]
  },
  {
   "cell_type": "code",
   "execution_count": 12,
   "metadata": {},
   "outputs": [
    {
     "name": "stdout",
     "output_type": "stream",
     "text": [
      "State: California, Capital: Sacramento, Population: 39538223\n",
      "State: Texas, Capital: Austin, Population: 29145505\n"
     ]
    }
   ],
   "source": [
    "class States:\n",
    "    # states attributes \n",
    "    def __init__(self, name, capital, population):\n",
    "        self.name = name\n",
    "        self.capital = capital\n",
    "        self.population = population\n",
    "\n",
    "    def display_info(self):\n",
    "        print(f\"State: {self.name}, Capital: {self.capital}, Population: {self.population}\")\n",
    "\n",
    "# Creating instances of States\n",
    "state1 = States(\"California\", \"Sacramento\", 39538223)\n",
    "state2 = States(\"Texas\", \"Austin\", 29145505)\n",
    "\n",
    "# Using the objects\n",
    "state1.display_info()\n",
    "state2.display_info()"
   ]
  }
 ],
 "metadata": {
  "kernelspec": {
   "display_name": "data-science-env",
   "language": "python",
   "name": "python3"
  },
  "language_info": {
   "codemirror_mode": {
    "name": "ipython",
    "version": 3
   },
   "file_extension": ".py",
   "mimetype": "text/x-python",
   "name": "python",
   "nbconvert_exporter": "python",
   "pygments_lexer": "ipython3",
   "version": "3.12.6"
  }
 },
 "nbformat": 4,
 "nbformat_minor": 2
}
