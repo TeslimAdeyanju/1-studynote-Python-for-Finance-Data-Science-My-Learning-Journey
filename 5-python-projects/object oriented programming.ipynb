{
 "cells": [
  {
   "cell_type": "code",
   "execution_count": 1,
   "metadata": {},
   "outputs": [
    {
     "name": "stdout",
     "output_type": "stream",
     "text": [
      "School Name: Hertfordshire High School\n",
      "Student 1: Alice Roll Number: 101\n",
      "Student 2: Bob Roll Number: 102\n",
      "School Name: Hertfordshire High School\n",
      "Student 1: Alice Roll Number: 101\n",
      "Student 2: Bob Roll Number: 102\n"
     ]
    }
   ],
   "source": [
    "class Student:\n",
    "    # Class Variable (same for all students)\n",
    "    school_name = \"Hertfordshire High School\"\n",
    "    \n",
    "    def __init__(self, name, roll_number):\n",
    "        # Instance Variables (unique per student)\n",
    "        self.name = name\n",
    "        self.roll_number = roll_number\n",
    "        \n",
    "# Creating student objects\n",
    "student1 = Student(\"Alice\", 101)\n",
    "student2 = Student(\"Bob\", 102)\n",
    "\n",
    "\n",
    "# Accessing class variable\n",
    "print(\"School Name:\", Student.school_name)\n",
    "\n",
    "# Accessing instance variables\n",
    "print(\"Student 1:\", student1.name, \"Roll Number:\", student1.roll_number)\n",
    "print(\"Student 2:\", student2.name, \"Roll Number:\", student2.roll_number)\n"
   ]
  },
  {
   "cell_type": "code",
   "execution_count": 11,
   "metadata": {},
   "outputs": [],
   "source": [
    "class Student:\n",
    "    # Class variable\n",
    "    school_name = 'ABC School '\n",
    "    \n",
    "    def __init__(self, name, roll_no):\n",
    "        self.name = name\n",
    "        self.roll_no = roll_no"
   ]
  },
  {
   "cell_type": "code",
   "execution_count": 16,
   "metadata": {},
   "outputs": [],
   "source": [
    "# create object\n",
    "s1 = Student('Teslim Adeyanju', 25610789)\n",
    "s2 = Student('kate Itamah', 25696335)\n",
    "s3 = Student('Iyabo Adeyanju', 10010789)"
   ]
  },
  {
   "cell_type": "code",
   "execution_count": 17,
   "metadata": {},
   "outputs": [
    {
     "name": "stdout",
     "output_type": "stream",
     "text": [
      "Teslim Adeyanju 25610789 ABC School \n",
      "kate Itamah 25696335 ABC School \n",
      "Iyabo Adeyanju 10010789 ABC School \n",
      "Teslim Adeyanju 25610789 ABC School \n",
      "kate Itamah 25696335 ABC School \n",
      "Iyabo Adeyanju 10010789 ABC School \n"
     ]
    }
   ],
   "source": [
    "# access class variable\n",
    "print(s1.name, s1.roll_no, Student.school_name)\n",
    "print(s2.name, s2.roll_no, Student.school_name)\n",
    "print(s3.name, s3.roll_no, Student.school_name)"
   ]
  },
  {
   "cell_type": "code",
   "execution_count": 18,
   "metadata": {},
   "outputs": [
    {
     "name": "stdout",
     "output_type": "stream",
     "text": [
      "Available subjects: ['Mathematics', 'Physics', 'Chemistry', 'Biology']\n",
      "Grade levels: ('Grade 9', 'Grade 10', 'Grade 11', 'Grade 12')\n",
      "Fee for Grade 10: 5500\n",
      "\n",
      "==================================================\n",
      "All subjects: ['Mathematics', 'Physics', 'Chemistry', 'Biology']\n",
      "All grade levels: ('Grade 9', 'Grade 10', 'Grade 11', 'Grade 12')\n",
      "Complete fee structure: {'Grade 9': 5000, 'Grade 10': 5500, 'Grade 11': 6000, 'Grade 12': 6500}\n",
      "\n",
      "==================================================\n",
      "Teslim Adeyanju is in Grade 10 and pays $5500\n",
      "Kate Itamah is in Grade 11 and pays $6000\n",
      "Iyabo Adeyanju is in Grade 9 and pays $5000\n",
      "\n",
      "==================================================\n",
      "Before adding new subject:\n",
      "s1 subjects: ['Mathematics', 'Physics', 'Chemistry', 'Biology']\n",
      "s2 subjects: ['Mathematics', 'Physics', 'Chemistry', 'Biology']\n",
      "\n",
      "After adding Computer Science:\n",
      "s1 subjects: ['Mathematics', 'Physics', 'Chemistry', 'Biology', 'Computer Science']\n",
      "s2 subjects: ['Mathematics', 'Physics', 'Chemistry', 'Biology', 'Computer Science']\n",
      "Class subjects: ['Mathematics', 'Physics', 'Chemistry', 'Biology', 'Computer Science']\n",
      "Available subjects: ['Mathematics', 'Physics', 'Chemistry', 'Biology']\n",
      "Grade levels: ('Grade 9', 'Grade 10', 'Grade 11', 'Grade 12')\n",
      "Fee for Grade 10: 5500\n",
      "\n",
      "==================================================\n",
      "All subjects: ['Mathematics', 'Physics', 'Chemistry', 'Biology']\n",
      "All grade levels: ('Grade 9', 'Grade 10', 'Grade 11', 'Grade 12')\n",
      "Complete fee structure: {'Grade 9': 5000, 'Grade 10': 5500, 'Grade 11': 6000, 'Grade 12': 6500}\n",
      "\n",
      "==================================================\n",
      "Teslim Adeyanju is in Grade 10 and pays $5500\n",
      "Kate Itamah is in Grade 11 and pays $6000\n",
      "Iyabo Adeyanju is in Grade 9 and pays $5000\n",
      "\n",
      "==================================================\n",
      "Before adding new subject:\n",
      "s1 subjects: ['Mathematics', 'Physics', 'Chemistry', 'Biology']\n",
      "s2 subjects: ['Mathematics', 'Physics', 'Chemistry', 'Biology']\n",
      "\n",
      "After adding Computer Science:\n",
      "s1 subjects: ['Mathematics', 'Physics', 'Chemistry', 'Biology', 'Computer Science']\n",
      "s2 subjects: ['Mathematics', 'Physics', 'Chemistry', 'Biology', 'Computer Science']\n",
      "Class subjects: ['Mathematics', 'Physics', 'Chemistry', 'Biology', 'Computer Science']\n"
     ]
    }
   ],
   "source": [
    "class Student:\n",
    "    # Class variable - List\n",
    "    subjects = ['Mathematics', 'Physics', 'Chemistry', 'Biology']\n",
    "    \n",
    "    # Class variable - Tuple\n",
    "    grade_levels = ('Grade 9', 'Grade 10', 'Grade 11', 'Grade 12')\n",
    "    \n",
    "    # Class variable - Dictionary\n",
    "    fee_structure = {\n",
    "        'Grade 9': 5000,\n",
    "        'Grade 10': 5500,\n",
    "        'Grade 11': 6000,\n",
    "        'Grade 12': 6500\n",
    "    }\n",
    "    \n",
    "    def __init__(self, name, roll_no, grade):\n",
    "        self.name = name\n",
    "        self.roll_no = roll_no\n",
    "        self.grade = grade\n",
    "\n",
    "# Create objects\n",
    "s1 = Student('Teslim Adeyanju', 25610789, 'Grade 10')\n",
    "s2 = Student('Kate Itamah', 25696335, 'Grade 11')\n",
    "s3 = Student('Iyabo Adeyanju', 10010789, 'Grade 9')\n",
    "\n",
    "# Accessing class variables using objects\n",
    "print(\"Available subjects:\", s1.subjects)\n",
    "print(\"Grade levels:\", s2.grade_levels)\n",
    "print(\"Fee for Grade 10:\", s1.fee_structure['Grade 10'])\n",
    "\n",
    "print(\"\\n\" + \"=\"*50)\n",
    "\n",
    "# Accessing class variables using class name\n",
    "print(\"All subjects:\", Student.subjects)\n",
    "print(\"All grade levels:\", Student.grade_levels)\n",
    "print(\"Complete fee structure:\", Student.fee_structure)\n",
    "\n",
    "print(\"\\n\" + \"=\"*50)\n",
    "\n",
    "# Example of using class variables in instance methods\n",
    "print(f\"{s1.name} is in {s1.grade} and pays ${Student.fee_structure[s1.grade]}\")\n",
    "print(f\"{s2.name} is in {s2.grade} and pays ${Student.fee_structure[s2.grade]}\")\n",
    "print(f\"{s3.name} is in {s3.grade} and pays ${Student.fee_structure[s3.grade]}\")\n",
    "\n",
    "print(\"\\n\" + \"=\"*50)\n",
    "\n",
    "# Modifying class variables affects all instances\n",
    "print(\"Before adding new subject:\")\n",
    "print(\"s1 subjects:\", s1.subjects)\n",
    "print(\"s2 subjects:\", s2.subjects)\n",
    "\n",
    "Student.subjects.append('Computer Science')\n",
    "print(\"\\nAfter adding Computer Science:\")\n",
    "print(\"s1 subjects:\", s1.subjects)\n",
    "print(\"s2 subjects:\", s2.subjects)\n",
    "print(\"Class subjects:\", Student.subjects)"
   ]
  },
  {
   "cell_type": "code",
   "execution_count": 36,
   "metadata": {},
   "outputs": [
    {
     "name": "stdout",
     "output_type": "stream",
     "text": [
      "ABC School\n",
      "ABC School\n",
      "ABC School\n",
      "ABC School\n"
     ]
    }
   ],
   "source": [
    "class Student1:\n",
    "    school_name = 'ABC School'\n",
    "\n",
    "    def __init__(self, name):\n",
    "        self.name = name\n",
    "        print(self.school_name)\n",
    "        print(Student.school_name)\n",
    "\n",
    "# create object \n",
    "s1 = Student1('Teslim')"
   ]
  },
  {
   "cell_type": "code",
   "execution_count": 37,
   "metadata": {},
   "outputs": [
    {
     "name": "stdout",
     "output_type": "stream",
     "text": [
      "Creating first product:\n",
      "Store: TechMart Store\n",
      "Tax Rate: 0.08\n",
      "Store (using class name): TechMart Store\n",
      "Tax Rate (using class name): 0.08\n",
      "------------------------------\n",
      "\n",
      "Creating second product:\n",
      "Store: TechMart Store\n",
      "Tax Rate: 0.08\n",
      "Store (using class name): TechMart Store\n",
      "Tax Rate (using class name): 0.08\n",
      "------------------------------\n",
      "Creating first product:\n",
      "Store: TechMart Store\n",
      "Tax Rate: 0.08\n",
      "Store (using class name): TechMart Store\n",
      "Tax Rate (using class name): 0.08\n",
      "------------------------------\n",
      "\n",
      "Creating second product:\n",
      "Store: TechMart Store\n",
      "Tax Rate: 0.08\n",
      "Store (using class name): TechMart Store\n",
      "Tax Rate (using class name): 0.08\n",
      "------------------------------\n"
     ]
    }
   ],
   "source": [
    "class Product:\n",
    "    # Class variables\n",
    "    store_name = 'TechMart Store'\n",
    "    tax_rate = 0.08\n",
    "    \n",
    "    def __init__(self, name, price):\n",
    "        self.name = name\n",
    "        self.price = price\n",
    "        \n",
    "        # Access class variables inside constructor using 'self'\n",
    "        print(f\"Store: {self.store_name}\")\n",
    "        print(f\"Tax Rate: {self.tax_rate}\")\n",
    "        \n",
    "        # Access class variables inside constructor using class name\n",
    "        print(f\"Store (using class name): {Product.store_name}\")\n",
    "        print(f\"Tax Rate (using class name): {Product.tax_rate}\")\n",
    "        \n",
    "        print(\"-\" * 30)\n",
    "\n",
    "# Create objects\n",
    "print(\"Creating first product:\")\n",
    "p1 = Product('Laptop', 1000)\n",
    "\n",
    "print(\"\\nCreating second product:\")\n",
    "p2 = Product('Mouse', 25)"
   ]
  },
  {
   "cell_type": "code",
   "execution_count": 44,
   "metadata": {},
   "outputs": [
    {
     "name": "stdout",
     "output_type": "stream",
     "text": [
      "population detail: 120 millon\n",
      "state detail: 36 states\n",
      "President Name: Bola Ahmed Tinubu\n",
      "------------------------------\n",
      "population information: 120 millon\n",
      "Number of states: 36 states\n",
      "Current President: Bola Ahmed Tinubu\n",
      "------------------------------\n",
      "population detail: 120 millon\n",
      "state detail: 36 states\n",
      "President Name: Bola Ahmed Tinubu\n",
      "------------------------------\n",
      "population information: 120 millon\n",
      "Number of states: 36 states\n",
      "Current President: Bola Ahmed Tinubu\n",
      "------------------------------\n"
     ]
    }
   ],
   "source": [
    "class Nigeria:\n",
    "    # class variable \n",
    "    population = '120 millon'\n",
    "    state = '36 states'\n",
    "    president = 'Bola Ahmed Tinubu'\n",
    "\n",
    "    def __init__(self, tribe, langauge):\n",
    "        self.tribe = tribe\n",
    "        self.language = langauge \n",
    "\n",
    "        # access class variables inside constrictor using self \n",
    "        print(f'population detail: {self.population}')\n",
    "        print(f\"state detail: {self.state}\")\n",
    "        print(f\"President Name: {self.president}\")\n",
    "        \n",
    "        print(\"-\" * 30)\n",
    "\n",
    "\n",
    "        # Access class variables inside constructor using class name\n",
    "        print(f\"population information: {Nigeria.population}\")\n",
    "        print(f\"Number of states: {Nigeria.state}\")\n",
    "        print(f\"Current President: {Nigeria.president}\")\n",
    "\n",
    "        print(\"-\" * 30)\n",
    "\n",
    "# create an object\n",
    "citizen1 = Nigeria('South West', 'Yoruba')"
   ]
  },
  {
   "cell_type": "code",
   "execution_count": 45,
   "metadata": {},
   "outputs": [
    {
     "name": "stdout",
     "output_type": "stream",
     "text": [
      "population detail: 120 millon\n",
      "state detail: 36 states\n",
      "President Name: Bola Ahmed Tinubu\n",
      "------------------------------\n",
      "population information: 120 millon\n",
      "Number of states: 36 states\n",
      "Current President: Bola Ahmed Tinubu\n",
      "------------------------------\n",
      "population detail: 120 millon\n",
      "state detail: 36 states\n",
      "President Name: Bola Ahmed Tinubu\n",
      "------------------------------\n",
      "population information: 120 millon\n",
      "Number of states: 36 states\n",
      "Current President: Bola Ahmed Tinubu\n",
      "------------------------------\n"
     ]
    }
   ],
   "source": [
    "citizen2 = Nigeria('South East', 'Igbo')"
   ]
  }
 ],
 "metadata": {
  "language_info": {
   "name": "python"
  }
 },
 "nbformat": 4,
 "nbformat_minor": 2
}
