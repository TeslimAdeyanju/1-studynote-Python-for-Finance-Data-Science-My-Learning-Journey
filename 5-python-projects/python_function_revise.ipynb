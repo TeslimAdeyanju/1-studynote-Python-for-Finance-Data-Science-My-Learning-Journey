{
 "cells": [
  {
   "cell_type": "code",
   "execution_count": 1,
   "id": "d7decc92",
   "metadata": {},
   "outputs": [],
   "source": [
    "def calculate_final_price(item_price, tax_rate):\n",
    "    \"\"\"Calculate final price including tax\"\"\"\n",
    "    tax_amount = item_price * (tax_rate / 100)\n",
    "    final_price = item_price + tax_amount\n",
    "    return final_price"
   ]
  },
  {
   "cell_type": "code",
   "execution_count": 2,
   "id": "49d94301",
   "metadata": {},
   "outputs": [
    {
     "name": "stdout",
     "output_type": "stream",
     "text": [
      "Phone with tax: $325.49\n"
     ]
    }
   ],
   "source": [
    "# Store final price\n",
    "phone_final = calculate_final_price(299.99, 8.5)\n",
    "print(f\"Phone with tax: ${phone_final:.2f}\")"
   ]
  },
  {
   "cell_type": "code",
   "execution_count": 5,
   "id": "19e082cc",
   "metadata": {},
   "outputs": [
    {
     "name": "stdout",
     "output_type": "stream",
     "text": [
      "Phone with tax: $325.49\n",
      "====================\n",
      "Receipt:\n",
      "Shirt: $27.12\n",
      "Shoes: $97.64\n",
      "Hat: $16.82\n",
      "Total: $141.58\n",
      "$542.50 is over budget!\n"
     ]
    }
   ],
   "source": [
    "def calculate_final_price(item_price, tax_rate):\n",
    "    \"\"\"Calculate final price including tax\"\"\"\n",
    "    tax_amount = item_price * (tax_rate / 100)\n",
    "    final_price = item_price + tax_amount\n",
    "    return final_price\n",
    "\n",
    "# Store final price\n",
    "phone_final = calculate_final_price(299.99, 8.5)\n",
    "print(f\"Phone with tax: ${phone_final:.2f}\")\n",
    "\n",
    "# Calculate multiple items\n",
    "items = [(\"Shirt\", 25.00), (\"Shoes\", 89.99), (\"Hat\", 15.50)]\n",
    "total_with_tax = 0\n",
    "print(\"=\" * 20)\n",
    "print(\"Receipt:\")\n",
    "for item_name, price in items:\n",
    "    final = calculate_final_price(price, 8.5)\n",
    "    total_with_tax += final\n",
    "    print(f\"{item_name}: ${final:.2f}\")\n",
    "\n",
    "print(f\"Total: ${total_with_tax:.2f}\")\n",
    "\n",
    "# Check if expensive\n",
    "expensive_item = calculate_final_price(500, 8.5)\n",
    "if expensive_item > 500:\n",
    "    print(f\"${expensive_item:.2f} is over budget!\")"
   ]
  },
  {
   "cell_type": "code",
   "execution_count": 1,
   "id": "81382077",
   "metadata": {},
   "outputs": [],
   "source": [
    "def total_salary_computation(hours, rate, tax):\n",
    "    salary = hours * rate \n",
    "    net_salary = salary * (tax / 100)\n",
    "    return net_salary"
   ]
  },
  {
   "cell_type": "code",
   "execution_count": 5,
   "id": "6f68c87a",
   "metadata": {},
   "outputs": [
    {
     "data": {
      "text/plain": [
       "268.84000000000003"
      ]
     },
     "execution_count": null,
     "metadata": {},
     "output_type": "execute_result"
    }
   ],
   "source": [
    "total_salary_computation(22, 12.22, 100)"
   ]
  },
  {
   "cell_type": "code",
   "execution_count": 6,
   "id": "2e2ba843",
   "metadata": {},
   "outputs": [
    {
     "data": {
      "text/plain": [
       "100.0"
      ]
     },
     "execution_count": null,
     "metadata": {},
     "output_type": "execute_result"
    }
   ],
   "source": [
    "def calculate_tax(amount, rate):\n",
    "    return amount * rate / 100\n",
    "\n",
    "# Wrong - result is lost\n",
    "calculate_tax(1000, 10)"
   ]
  }
 ],
 "metadata": {
  "kernelspec": {
   "display_name": "financial-ml-env",
   "language": "python",
   "name": "python3"
  },
  "language_info": {
   "codemirror_mode": {
    "name": "ipython",
    "version": 3
   },
   "file_extension": ".py",
   "mimetype": "text/x-python",
   "name": "python",
   "nbconvert_exporter": "python",
   "pygments_lexer": "ipython3",
   "version": "3.11.10"
  }
 },
 "nbformat": 4,
 "nbformat_minor": 5
}
