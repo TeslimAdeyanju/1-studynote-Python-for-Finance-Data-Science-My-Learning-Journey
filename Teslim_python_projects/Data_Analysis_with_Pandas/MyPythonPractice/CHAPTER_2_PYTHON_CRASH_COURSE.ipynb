{
 "cells": [
  {
   "cell_type": "code",
   "execution_count": null,
   "id": "9acd1b62",
   "metadata": {},
   "outputs": [],
   "source": [
    "#Numeric Data Types in Python"
   ]
  },
  {
   "cell_type": "code",
   "execution_count": 1,
   "id": "d0a7043f",
   "metadata": {},
   "outputs": [],
   "source": [
    "a = 5"
   ]
  },
  {
   "cell_type": "code",
   "execution_count": 18,
   "id": "5ddebdc7",
   "metadata": {},
   "outputs": [
    {
     "name": "stdout",
     "output_type": "stream",
     "text": [
      "<class 'int'>\n"
     ]
    }
   ],
   "source": [
    "print(type(a))"
   ]
  },
  {
   "cell_type": "code",
   "execution_count": 5,
   "id": "8e69a7f4",
   "metadata": {},
   "outputs": [],
   "source": [
    "b = 5.0"
   ]
  },
  {
   "cell_type": "code",
   "execution_count": 19,
   "id": "1a295b50",
   "metadata": {},
   "outputs": [
    {
     "name": "stdout",
     "output_type": "stream",
     "text": [
      "<class 'float'>\n"
     ]
    }
   ],
   "source": [
    "print(type(b))"
   ]
  },
  {
   "cell_type": "code",
   "execution_count": 7,
   "id": "45159262",
   "metadata": {},
   "outputs": [],
   "source": [
    "c = 2+5j"
   ]
  },
  {
   "cell_type": "code",
   "execution_count": 23,
   "id": "d1075184",
   "metadata": {},
   "outputs": [
    {
     "name": "stdout",
     "output_type": "stream",
     "text": [
      "<class 'complex'>\n"
     ]
    }
   ],
   "source": [
    "print(type(c))"
   ]
  },
  {
   "cell_type": "code",
   "execution_count": null,
   "id": "ac0e59fd",
   "metadata": {},
   "outputs": [],
   "source": []
  },
  {
   "cell_type": "code",
   "execution_count": null,
   "id": "6f951e91",
   "metadata": {},
   "outputs": [],
   "source": []
  },
  {
   "cell_type": "code",
   "execution_count": null,
   "id": "3bd80b24",
   "metadata": {},
   "outputs": [],
   "source": [
    "##String Data Type"
   ]
  },
  {
   "cell_type": "code",
   "execution_count": 25,
   "id": "730a5f65",
   "metadata": {},
   "outputs": [],
   "source": [
    "A = 'Welcome to the Coding World'"
   ]
  },
  {
   "cell_type": "code",
   "execution_count": 26,
   "id": "6c276a8f",
   "metadata": {},
   "outputs": [
    {
     "name": "stdout",
     "output_type": "stream",
     "text": [
      "Welcome to the Coding World\n"
     ]
    }
   ],
   "source": [
    "print(A)"
   ]
  },
  {
   "cell_type": "code",
   "execution_count": 17,
   "id": "d0e30c18",
   "metadata": {},
   "outputs": [
    {
     "name": "stdout",
     "output_type": "stream",
     "text": [
      "<class 'str'>\n"
     ]
    }
   ],
   "source": [
    "print(type(A))"
   ]
  },
  {
   "cell_type": "code",
   "execution_count": null,
   "id": "acc0ceb6",
   "metadata": {},
   "outputs": [],
   "source": []
  },
  {
   "cell_type": "code",
   "execution_count": null,
   "id": "2d87847d",
   "metadata": {},
   "outputs": [],
   "source": [
    "#Accessing elements of String"
   ]
  },
  {
   "cell_type": "code",
   "execution_count": null,
   "id": "c256c1b2",
   "metadata": {},
   "outputs": [],
   "source": [
    "A = 'Welcome to the Coding World'"
   ]
  },
  {
   "cell_type": "code",
   "execution_count": 28,
   "id": "d4022ae3",
   "metadata": {
    "scrolled": true
   },
   "outputs": [
    {
     "name": "stdout",
     "output_type": "stream",
     "text": [
      "d\n"
     ]
    }
   ],
   "source": [
    "print(A[-1])"
   ]
  },
  {
   "cell_type": "code",
   "execution_count": 29,
   "id": "1b6cdef0",
   "metadata": {
    "scrolled": true
   },
   "outputs": [
    {
     "name": "stdout",
     "output_type": "stream",
     "text": [
      "W\n"
     ]
    }
   ],
   "source": [
    "print(A[0])"
   ]
  },
  {
   "cell_type": "code",
   "execution_count": null,
   "id": "fda751a9",
   "metadata": {},
   "outputs": [],
   "source": [
    "#Creating a List in Python"
   ]
  },
  {
   "cell_type": "code",
   "execution_count": 50,
   "id": "2efd28a8",
   "metadata": {
    "scrolled": false
   },
   "outputs": [
    {
     "name": "stdout",
     "output_type": "stream",
     "text": [
      "['GeeksForGeeks']\n"
     ]
    }
   ],
   "source": [
    "List_1 = ['GeeksForGeeks']\n",
    "\n",
    "print(List_1)"
   ]
  },
  {
   "cell_type": "code",
   "execution_count": null,
   "id": "0639fb6d",
   "metadata": {},
   "outputs": [],
   "source": []
  },
  {
   "cell_type": "code",
   "execution_count": null,
   "id": "5d8890c9",
   "metadata": {},
   "outputs": [],
   "source": [
    "#This creates a list with multiple string elements"
   ]
  },
  {
   "cell_type": "code",
   "execution_count": 1,
   "id": "7a137977",
   "metadata": {},
   "outputs": [],
   "source": [
    "List_2 = [\"Teslim\", \"is\", \"Great\", 2, 1.5] "
   ]
  },
  {
   "cell_type": "code",
   "execution_count": 6,
   "id": "76180fc0",
   "metadata": {},
   "outputs": [
    {
     "name": "stdout",
     "output_type": "stream",
     "text": [
      "['Teslim', 'is', 'Great', 2, 1.5]\n"
     ]
    }
   ],
   "source": [
    "print(List_2)"
   ]
  },
  {
   "cell_type": "code",
   "execution_count": 7,
   "id": "e4c21376",
   "metadata": {},
   "outputs": [
    {
     "name": "stdout",
     "output_type": "stream",
     "text": [
      "<class 'list'>\n"
     ]
    }
   ],
   "source": [
    "print(type(List_2))"
   ]
  },
  {
   "cell_type": "code",
   "execution_count": 8,
   "id": "7145f912",
   "metadata": {},
   "outputs": [
    {
     "name": "stdout",
     "output_type": "stream",
     "text": [
      "Great\n"
     ]
    }
   ],
   "source": [
    "print(List_2 [2])"
   ]
  },
  {
   "cell_type": "code",
   "execution_count": 9,
   "id": "4e82bf37",
   "metadata": {},
   "outputs": [
    {
     "name": "stdout",
     "output_type": "stream",
     "text": [
      "1.5\n"
     ]
    }
   ],
   "source": [
    "print(List_2 [-1])"
   ]
  },
  {
   "cell_type": "code",
   "execution_count": null,
   "id": "0ed26ee0",
   "metadata": {},
   "outputs": [],
   "source": []
  },
  {
   "cell_type": "code",
   "execution_count": null,
   "id": "965fbc50",
   "metadata": {},
   "outputs": [],
   "source": [
    "#This creates a multi-dimensional list (a list of lists)"
   ]
  },
  {
   "cell_type": "code",
   "execution_count": 10,
   "id": "31b5239a",
   "metadata": {},
   "outputs": [],
   "source": [
    "List_3 = [['Success', 'For'], ['Teslim']] "
   ]
  },
  {
   "cell_type": "code",
   "execution_count": 11,
   "id": "9f1383bd",
   "metadata": {},
   "outputs": [
    {
     "name": "stdout",
     "output_type": "stream",
     "text": [
      "[['Success', 'For'], ['Teslim']]\n"
     ]
    }
   ],
   "source": [
    "print(List_3)"
   ]
  },
  {
   "cell_type": "code",
   "execution_count": 70,
   "id": "dc8e6591",
   "metadata": {},
   "outputs": [
    {
     "name": "stdout",
     "output_type": "stream",
     "text": [
      "['Teslim']\n"
     ]
    }
   ],
   "source": [
    "print(List_3 [-1])"
   ]
  },
  {
   "cell_type": "code",
   "execution_count": 71,
   "id": "879c2ca7",
   "metadata": {},
   "outputs": [
    {
     "name": "stdout",
     "output_type": "stream",
     "text": [
      "['Success', 'For']\n"
     ]
    }
   ],
   "source": [
    "print(List_3 [0])"
   ]
  },
  {
   "cell_type": "code",
   "execution_count": 72,
   "id": "7441bb43",
   "metadata": {},
   "outputs": [
    {
     "name": "stdout",
     "output_type": "stream",
     "text": [
      "<class 'list'>\n"
     ]
    }
   ],
   "source": [
    "print(type(List_3))"
   ]
  },
  {
   "cell_type": "code",
   "execution_count": null,
   "id": "0a34d55a",
   "metadata": {},
   "outputs": [],
   "source": []
  },
  {
   "cell_type": "code",
   "execution_count": null,
   "id": "666fa356",
   "metadata": {},
   "outputs": [],
   "source": [
    "#Slicing of a List"
   ]
  },
  {
   "cell_type": "code",
   "execution_count": 13,
   "id": "f109334f",
   "metadata": {},
   "outputs": [],
   "source": [
    "my_list = ['p','r','o','g','r','a','m','i','z']"
   ]
  },
  {
   "cell_type": "code",
   "execution_count": 14,
   "id": "c4395b0a",
   "metadata": {},
   "outputs": [
    {
     "name": "stdout",
     "output_type": "stream",
     "text": [
      "['o', 'g', 'r']\n"
     ]
    }
   ],
   "source": [
    "# items from index 2 to index 4\n",
    "print(my_list[2:5])"
   ]
  },
  {
   "cell_type": "code",
   "execution_count": 15,
   "id": "8226d483",
   "metadata": {},
   "outputs": [
    {
     "name": "stdout",
     "output_type": "stream",
     "text": [
      "['a', 'm', 'i', 'z']\n"
     ]
    }
   ],
   "source": [
    "# items from index 5 to end\n",
    "print(my_list[5:])\n"
   ]
  },
  {
   "cell_type": "code",
   "execution_count": 16,
   "id": "0b274a41",
   "metadata": {},
   "outputs": [
    {
     "name": "stdout",
     "output_type": "stream",
     "text": [
      "['p', 'r', 'o', 'g', 'r', 'a', 'm', 'i', 'z']\n"
     ]
    }
   ],
   "source": [
    "# items beginning to end\n",
    "print(my_list[:])"
   ]
  },
  {
   "cell_type": "code",
   "execution_count": null,
   "id": "006c2a54",
   "metadata": {},
   "outputs": [],
   "source": []
  },
  {
   "cell_type": "code",
   "execution_count": null,
   "id": "342d7610",
   "metadata": {},
   "outputs": [],
   "source": [
    "### Add Elements to a List:  Using append()"
   ]
  },
  {
   "cell_type": "code",
   "execution_count": 1,
   "id": "43a21f4b",
   "metadata": {},
   "outputs": [],
   "source": [
    "numbers = [21, 34, 54, 12]"
   ]
  },
  {
   "cell_type": "code",
   "execution_count": 2,
   "id": "3d3359fd",
   "metadata": {},
   "outputs": [],
   "source": [
    "numbers.append(8)"
   ]
  },
  {
   "cell_type": "code",
   "execution_count": 3,
   "id": "b2229373",
   "metadata": {},
   "outputs": [
    {
     "name": "stdout",
     "output_type": "stream",
     "text": [
      "[21, 34, 54, 12, 8]\n"
     ]
    }
   ],
   "source": [
    "print(numbers)"
   ]
  },
  {
   "cell_type": "code",
   "execution_count": null,
   "id": "770e03b8",
   "metadata": {},
   "outputs": [],
   "source": []
  },
  {
   "cell_type": "code",
   "execution_count": null,
   "id": "777418e7",
   "metadata": {},
   "outputs": [],
   "source": [
    "### Add Elements to a List:  Using extend()"
   ]
  },
  {
   "cell_type": "code",
   "execution_count": 9,
   "id": "d652a121",
   "metadata": {},
   "outputs": [],
   "source": [
    "Even_numbers = [2, 6, 8]"
   ]
  },
  {
   "cell_type": "code",
   "execution_count": 10,
   "id": "f7e04509",
   "metadata": {},
   "outputs": [],
   "source": [
    "Fruit = ['Mango', 'Orange']"
   ]
  },
  {
   "cell_type": "code",
   "execution_count": 11,
   "id": "781ca0b8",
   "metadata": {},
   "outputs": [],
   "source": [
    "Even_numbers.extend(Fruit)"
   ]
  },
  {
   "cell_type": "code",
   "execution_count": 12,
   "id": "b1db3d1a",
   "metadata": {},
   "outputs": [
    {
     "name": "stdout",
     "output_type": "stream",
     "text": [
      "[2, 6, 8, 'Mango', 'Orange']\n"
     ]
    }
   ],
   "source": [
    "print(Even_numbers)"
   ]
  },
  {
   "cell_type": "code",
   "execution_count": 13,
   "id": "0fbbdd38",
   "metadata": {},
   "outputs": [],
   "source": [
    "Even_numbers.append(7)"
   ]
  },
  {
   "cell_type": "code",
   "execution_count": 14,
   "id": "9b40c75e",
   "metadata": {},
   "outputs": [
    {
     "name": "stdout",
     "output_type": "stream",
     "text": [
      "[2, 6, 8, 'Mango', 'Orange', 7]\n"
     ]
    }
   ],
   "source": [
    "print(Even_numbers)"
   ]
  },
  {
   "cell_type": "code",
   "execution_count": null,
   "id": "1c25f829",
   "metadata": {},
   "outputs": [],
   "source": []
  },
  {
   "cell_type": "code",
   "execution_count": null,
   "id": "fce89978",
   "metadata": {},
   "outputs": [],
   "source": [
    "### Add Elements to a List:  Using insert()"
   ]
  },
  {
   "cell_type": "code",
   "execution_count": 28,
   "id": "876b2d38",
   "metadata": {},
   "outputs": [],
   "source": [
    "Year = [1997, 1998, 1999]"
   ]
  },
  {
   "cell_type": "code",
   "execution_count": 29,
   "id": "17fd1752",
   "metadata": {},
   "outputs": [
    {
     "name": "stdout",
     "output_type": "stream",
     "text": [
      "[1997, 1998, 1999]\n"
     ]
    }
   ],
   "source": [
    "print(Year)"
   ]
  },
  {
   "cell_type": "code",
   "execution_count": 31,
   "id": "4627c688",
   "metadata": {},
   "outputs": [
    {
     "name": "stdout",
     "output_type": "stream",
     "text": [
      "<class 'list'>\n"
     ]
    }
   ],
   "source": [
    "print(type(Year))"
   ]
  },
  {
   "cell_type": "code",
   "execution_count": 32,
   "id": "931a0432",
   "metadata": {},
   "outputs": [],
   "source": [
    "Year.insert(0,1996)"
   ]
  },
  {
   "cell_type": "code",
   "execution_count": 33,
   "id": "adb19a96",
   "metadata": {},
   "outputs": [
    {
     "name": "stdout",
     "output_type": "stream",
     "text": [
      "[1996, 1997, 1998, 1999]\n"
     ]
    }
   ],
   "source": [
    "print(Year)"
   ]
  },
  {
   "cell_type": "code",
   "execution_count": null,
   "id": "490909d1",
   "metadata": {},
   "outputs": [],
   "source": []
  },
  {
   "cell_type": "code",
   "execution_count": null,
   "id": "d1b8252a",
   "metadata": {},
   "outputs": [],
   "source": [
    "### Change List Items"
   ]
  },
  {
   "cell_type": "code",
   "execution_count": 34,
   "id": "cd5ab783",
   "metadata": {},
   "outputs": [],
   "source": [
    "languages = ['Python', 'Swift', 'C++']"
   ]
  },
  {
   "cell_type": "code",
   "execution_count": 35,
   "id": "7bb54de9",
   "metadata": {},
   "outputs": [],
   "source": [
    "languages [2] = 'PowerBi'"
   ]
  },
  {
   "cell_type": "code",
   "execution_count": 36,
   "id": "34b47029",
   "metadata": {},
   "outputs": [
    {
     "name": "stdout",
     "output_type": "stream",
     "text": [
      "['Python', 'Swift', 'PowerBi']\n"
     ]
    }
   ],
   "source": [
    "print(languages)"
   ]
  },
  {
   "cell_type": "code",
   "execution_count": 37,
   "id": "4a074e31",
   "metadata": {},
   "outputs": [
    {
     "name": "stdout",
     "output_type": "stream",
     "text": [
      "<class 'list'>\n"
     ]
    }
   ],
   "source": [
    "print(type(languages))"
   ]
  },
  {
   "cell_type": "code",
   "execution_count": null,
   "id": "9588d089",
   "metadata": {},
   "outputs": [],
   "source": []
  },
  {
   "cell_type": "code",
   "execution_count": null,
   "id": "6bd05260",
   "metadata": {},
   "outputs": [],
   "source": [
    "### Remove an Item From a List: Using del Statement"
   ]
  },
  {
   "cell_type": "code",
   "execution_count": 60,
   "id": "daf2a83f",
   "metadata": {},
   "outputs": [],
   "source": [
    "States = ['Abuja', 'Lagos', 'Ondo', 'Calaba', 'Jalingo']\n"
   ]
  },
  {
   "cell_type": "code",
   "execution_count": 62,
   "id": "a6d3ac48",
   "metadata": {},
   "outputs": [],
   "source": [
    "del States[1]"
   ]
  },
  {
   "cell_type": "code",
   "execution_count": 63,
   "id": "ccd2655b",
   "metadata": {},
   "outputs": [
    {
     "name": "stdout",
     "output_type": "stream",
     "text": [
      "['Abuja', 'Ondo', 'Calaba', 'Jalingo']\n"
     ]
    }
   ],
   "source": [
    "print(States)\n"
   ]
  },
  {
   "cell_type": "code",
   "execution_count": null,
   "id": "5b72c30b",
   "metadata": {},
   "outputs": [],
   "source": []
  },
  {
   "cell_type": "code",
   "execution_count": null,
   "id": "4026d135",
   "metadata": {},
   "outputs": [],
   "source": [
    "### Remove an Item From a List: Using remove()"
   ]
  },
  {
   "cell_type": "code",
   "execution_count": 71,
   "id": "30cf8be6",
   "metadata": {},
   "outputs": [],
   "source": [
    "lang = ['Python', 'Swift', 'C++', 'C', 'Java', 'Rust', 'R']"
   ]
  },
  {
   "cell_type": "code",
   "execution_count": 72,
   "id": "b1350831",
   "metadata": {},
   "outputs": [
    {
     "name": "stdout",
     "output_type": "stream",
     "text": [
      "['Python', 'Swift', 'C++', 'C', 'Java', 'Rust', 'R']\n"
     ]
    }
   ],
   "source": [
    "print(languages)"
   ]
  },
  {
   "cell_type": "code",
   "execution_count": 73,
   "id": "c4d909a4",
   "metadata": {},
   "outputs": [],
   "source": [
    "languages.remove('Python')"
   ]
  },
  {
   "cell_type": "code",
   "execution_count": 74,
   "id": "596a80e1",
   "metadata": {},
   "outputs": [
    {
     "name": "stdout",
     "output_type": "stream",
     "text": [
      "['Swift', 'C++', 'C', 'Java', 'Rust', 'R']\n"
     ]
    }
   ],
   "source": [
    "print(languages)"
   ]
  },
  {
   "cell_type": "code",
   "execution_count": null,
   "id": "ca5bb3a2",
   "metadata": {},
   "outputs": [],
   "source": []
  },
  {
   "cell_type": "code",
   "execution_count": null,
   "id": "8a472492",
   "metadata": {},
   "outputs": [],
   "source": [
    "### Check if an Element Exists in a List"
   ]
  },
  {
   "cell_type": "code",
   "execution_count": 5,
   "id": "d0580fd1",
   "metadata": {},
   "outputs": [],
   "source": [
    "languages = ['Python', 'Swift', 'C++', 5, 'Teslim']\n"
   ]
  },
  {
   "cell_type": "code",
   "execution_count": 6,
   "id": "9b71aa7f",
   "metadata": {},
   "outputs": [
    {
     "name": "stdout",
     "output_type": "stream",
     "text": [
      "False\n"
     ]
    }
   ],
   "source": [
    "print('C' in languages)"
   ]
  },
  {
   "cell_type": "code",
   "execution_count": 7,
   "id": "72d51715",
   "metadata": {},
   "outputs": [
    {
     "name": "stdout",
     "output_type": "stream",
     "text": [
      "True\n"
     ]
    }
   ],
   "source": [
    "print(5 in languages)"
   ]
  },
  {
   "cell_type": "code",
   "execution_count": 8,
   "id": "37eef5f7",
   "metadata": {},
   "outputs": [
    {
     "name": "stdout",
     "output_type": "stream",
     "text": [
      "True\n"
     ]
    }
   ],
   "source": [
    "print('Teslim' in languages)"
   ]
  },
  {
   "cell_type": "code",
   "execution_count": null,
   "id": "7d1c3295",
   "metadata": {},
   "outputs": [],
   "source": []
  },
  {
   "cell_type": "code",
   "execution_count": null,
   "id": "91f86bde",
   "metadata": {},
   "outputs": [],
   "source": [
    "#### List Length"
   ]
  },
  {
   "cell_type": "code",
   "execution_count": 9,
   "id": "e7f6dfa1",
   "metadata": {},
   "outputs": [],
   "source": [
    "Name = ['Ade', 'Olu', 'Teslim']"
   ]
  },
  {
   "cell_type": "code",
   "execution_count": 12,
   "id": "6b90104d",
   "metadata": {},
   "outputs": [
    {
     "data": {
      "text/plain": [
       "3"
      ]
     },
     "execution_count": 12,
     "metadata": {},
     "output_type": "execute_result"
    }
   ],
   "source": [
    "len(Name)"
   ]
  },
  {
   "cell_type": "code",
   "execution_count": 10,
   "id": "fcd2c095",
   "metadata": {},
   "outputs": [
    {
     "name": "stdout",
     "output_type": "stream",
     "text": [
      "Above: ['Ade', 'Olu', 'Teslim']\n"
     ]
    }
   ],
   "source": [
    "print('Above:', Name )"
   ]
  },
  {
   "cell_type": "code",
   "execution_count": 11,
   "id": "f1b31079",
   "metadata": {},
   "outputs": [
    {
     "name": "stdout",
     "output_type": "stream",
     "text": [
      "Total Element: 3\n"
     ]
    }
   ],
   "source": [
    "print('Total Element:', len(Name))"
   ]
  },
  {
   "cell_type": "code",
   "execution_count": null,
   "id": "dd0c8454",
   "metadata": {},
   "outputs": [],
   "source": []
  },
  {
   "cell_type": "code",
   "execution_count": null,
   "id": "cfbb5c09",
   "metadata": {},
   "outputs": [],
   "source": []
  },
  {
   "cell_type": "code",
   "execution_count": null,
   "id": "4da241e2",
   "metadata": {},
   "outputs": [],
   "source": [
    "### List Comprehension"
   ]
  },
  {
   "cell_type": "code",
   "execution_count": 13,
   "id": "75b1ff54",
   "metadata": {},
   "outputs": [],
   "source": [
    "numbers = [n**2 for n in range(1, 6)]"
   ]
  },
  {
   "cell_type": "code",
   "execution_count": 14,
   "id": "75bafad0",
   "metadata": {},
   "outputs": [
    {
     "name": "stdout",
     "output_type": "stream",
     "text": [
      "[1, 4, 9, 16, 25]\n"
     ]
    }
   ],
   "source": [
    "print(numbers)"
   ]
  },
  {
   "cell_type": "code",
   "execution_count": null,
   "id": "a16f20e0",
   "metadata": {},
   "outputs": [],
   "source": []
  },
  {
   "cell_type": "code",
   "execution_count": null,
   "id": "af2336cc",
   "metadata": {},
   "outputs": [],
   "source": []
  },
  {
   "cell_type": "code",
   "execution_count": null,
   "id": "720dad2c",
   "metadata": {},
   "outputs": [],
   "source": []
  },
  {
   "cell_type": "code",
   "execution_count": null,
   "id": "31f3f857",
   "metadata": {},
   "outputs": [],
   "source": []
  },
  {
   "cell_type": "code",
   "execution_count": null,
   "id": "96a57c7a",
   "metadata": {},
   "outputs": [],
   "source": []
  },
  {
   "cell_type": "code",
   "execution_count": null,
   "id": "5771dc17",
   "metadata": {},
   "outputs": [],
   "source": []
  },
  {
   "cell_type": "code",
   "execution_count": null,
   "id": "40205d69",
   "metadata": {},
   "outputs": [],
   "source": []
  },
  {
   "cell_type": "code",
   "execution_count": null,
   "id": "e44b8f38",
   "metadata": {},
   "outputs": [],
   "source": []
  },
  {
   "cell_type": "code",
   "execution_count": null,
   "id": "470e8eba",
   "metadata": {},
   "outputs": [],
   "source": []
  },
  {
   "cell_type": "code",
   "execution_count": null,
   "id": "84ed0256",
   "metadata": {},
   "outputs": [],
   "source": []
  },
  {
   "cell_type": "code",
   "execution_count": null,
   "id": "4a63816f",
   "metadata": {},
   "outputs": [],
   "source": []
  },
  {
   "cell_type": "code",
   "execution_count": null,
   "id": "b1565af0",
   "metadata": {},
   "outputs": [],
   "source": []
  },
  {
   "cell_type": "code",
   "execution_count": null,
   "id": "36673ce0",
   "metadata": {},
   "outputs": [],
   "source": []
  },
  {
   "cell_type": "code",
   "execution_count": null,
   "id": "ec901934",
   "metadata": {},
   "outputs": [],
   "source": []
  },
  {
   "cell_type": "code",
   "execution_count": null,
   "id": "5190625e",
   "metadata": {},
   "outputs": [],
   "source": []
  },
  {
   "cell_type": "code",
   "execution_count": null,
   "id": "1e7403ab",
   "metadata": {},
   "outputs": [],
   "source": []
  },
  {
   "cell_type": "code",
   "execution_count": null,
   "id": "a01c635d",
   "metadata": {},
   "outputs": [],
   "source": []
  },
  {
   "cell_type": "code",
   "execution_count": null,
   "id": "2606fad4",
   "metadata": {},
   "outputs": [],
   "source": []
  },
  {
   "cell_type": "code",
   "execution_count": null,
   "id": "0b4bae34",
   "metadata": {},
   "outputs": [],
   "source": []
  },
  {
   "cell_type": "code",
   "execution_count": null,
   "id": "91852ad4",
   "metadata": {},
   "outputs": [],
   "source": []
  },
  {
   "cell_type": "code",
   "execution_count": null,
   "id": "9afe33ea",
   "metadata": {},
   "outputs": [],
   "source": []
  },
  {
   "cell_type": "code",
   "execution_count": null,
   "id": "6272e522",
   "metadata": {},
   "outputs": [],
   "source": []
  },
  {
   "cell_type": "code",
   "execution_count": null,
   "id": "60534711",
   "metadata": {},
   "outputs": [],
   "source": []
  },
  {
   "cell_type": "code",
   "execution_count": null,
   "id": "f8af7376",
   "metadata": {},
   "outputs": [],
   "source": []
  },
  {
   "cell_type": "code",
   "execution_count": null,
   "id": "0dac5215",
   "metadata": {},
   "outputs": [],
   "source": []
  },
  {
   "cell_type": "code",
   "execution_count": null,
   "id": "facb02ba",
   "metadata": {},
   "outputs": [],
   "source": []
  },
  {
   "cell_type": "code",
   "execution_count": null,
   "id": "04f4f6ec",
   "metadata": {},
   "outputs": [],
   "source": []
  },
  {
   "cell_type": "code",
   "execution_count": null,
   "id": "c6ef81a7",
   "metadata": {},
   "outputs": [],
   "source": []
  },
  {
   "cell_type": "code",
   "execution_count": null,
   "id": "cd8156ce",
   "metadata": {},
   "outputs": [],
   "source": []
  },
  {
   "cell_type": "code",
   "execution_count": null,
   "id": "6f48faec",
   "metadata": {},
   "outputs": [],
   "source": []
  },
  {
   "cell_type": "code",
   "execution_count": null,
   "id": "cfb8c65d",
   "metadata": {},
   "outputs": [],
   "source": []
  },
  {
   "cell_type": "code",
   "execution_count": null,
   "id": "26f9473f",
   "metadata": {},
   "outputs": [],
   "source": []
  },
  {
   "cell_type": "code",
   "execution_count": null,
   "id": "91fb8c7b",
   "metadata": {},
   "outputs": [],
   "source": []
  },
  {
   "cell_type": "code",
   "execution_count": null,
   "id": "dde21798",
   "metadata": {},
   "outputs": [],
   "source": []
  },
  {
   "cell_type": "code",
   "execution_count": null,
   "id": "41e18a8f",
   "metadata": {},
   "outputs": [],
   "source": []
  }
 ],
 "metadata": {
  "kernelspec": {
   "display_name": "Python 3 (ipykernel)",
   "language": "python",
   "name": "python3"
  },
  "language_info": {
   "codemirror_mode": {
    "name": "ipython",
    "version": 3
   },
   "file_extension": ".py",
   "mimetype": "text/x-python",
   "name": "python",
   "nbconvert_exporter": "python",
   "pygments_lexer": "ipython3",
   "version": "3.10.13"
  }
 },
 "nbformat": 4,
 "nbformat_minor": 5
}
