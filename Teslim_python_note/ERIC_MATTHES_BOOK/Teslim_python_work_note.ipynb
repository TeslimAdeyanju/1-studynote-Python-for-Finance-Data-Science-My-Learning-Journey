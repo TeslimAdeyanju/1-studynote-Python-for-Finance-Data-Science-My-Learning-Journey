{
 "cells": [
  {
   "cell_type": "code",
   "execution_count": 2,
   "id": "c0c17805",
   "metadata": {},
   "outputs": [],
   "source": [
    "state ='I am happy every time'\n",
    "\n",
    "reason = 'because I am making progress'"
   ]
  },
  {
   "cell_type": "code",
   "execution_count": 3,
   "id": "d8e5cb3f",
   "metadata": {},
   "outputs": [],
   "source": [
    "conclusion = f\"I am glad, {state} {reason}\"\n"
   ]
  },
  {
   "cell_type": "code",
   "execution_count": 13,
   "id": "977650fc",
   "metadata": {},
   "outputs": [
    {
     "name": "stdout",
     "output_type": "stream",
     "text": [
      "I am glad, I am happy every time because I am making progress\n"
     ]
    }
   ],
   "source": [
    "print(conclusion)"
   ]
  },
  {
   "cell_type": "code",
   "execution_count": 15,
   "id": "673801df",
   "metadata": {},
   "outputs": [
    {
     "name": "stdout",
     "output_type": "stream",
     "text": [
      "\tconclusion\n"
     ]
    }
   ],
   "source": [
    "print(\"\\tconclusion\")"
   ]
  },
  {
   "cell_type": "code",
   "execution_count": 17,
   "id": "5ce3b535",
   "metadata": {},
   "outputs": [
    {
     "name": "stdout",
     "output_type": "stream",
     "text": [
      "\tI am happy every time\n"
     ]
    }
   ],
   "source": [
    "print(\"\\tI am happy every time\")"
   ]
  },
  {
   "cell_type": "code",
   "execution_count": 6,
   "id": "69534c4d",
   "metadata": {},
   "outputs": [
    {
     "data": {
      "text/plain": [
       "' am '"
      ]
     },
     "execution_count": 6,
     "metadata": {},
     "output_type": "execute_result"
    }
   ],
   "source": [
    "state[1:5]"
   ]
  },
  {
   "cell_type": "code",
   "execution_count": 38,
   "id": "a984bcad",
   "metadata": {},
   "outputs": [
    {
     "data": {
      "text/plain": [
       "['I', 'am', 'happy', 'every', 'time']"
      ]
     },
     "execution_count": 38,
     "metadata": {},
     "output_type": "execute_result"
    }
   ],
   "source": [
    "state.split()"
   ]
  },
  {
   "cell_type": "code",
   "execution_count": 43,
   "id": "7740187e",
   "metadata": {},
   "outputs": [
    {
     "data": {
      "text/plain": [
       "['I am happy ', 'v', 'ry tim', '']"
      ]
     },
     "execution_count": 43,
     "metadata": {},
     "output_type": "execute_result"
    }
   ],
   "source": [
    "state.split('e')"
   ]
  },
  {
   "cell_type": "code",
   "execution_count": 44,
   "id": "b98dd3e3",
   "metadata": {},
   "outputs": [],
   "source": [
    "Congraulation_mail = 'This is inform {name} that you have been successful as a {Data Science}, and you are resume fully at {date}.'"
   ]
  },
  {
   "cell_type": "code",
   "execution_count": null,
   "id": "9f269385",
   "metadata": {},
   "outputs": [],
   "source": [
    "Congraulation_mail.format "
   ]
  },
  {
   "cell_type": "code",
   "execution_count": null,
   "id": "cc5f81b3",
   "metadata": {},
   "outputs": [],
   "source": []
  },
  {
   "cell_type": "code",
   "execution_count": null,
   "id": "53f02a9d",
   "metadata": {},
   "outputs": [],
   "source": []
  },
  {
   "cell_type": "code",
   "execution_count": null,
   "id": "2a8e33c5",
   "metadata": {},
   "outputs": [],
   "source": []
  }
 ],
 "metadata": {
  "kernelspec": {
   "display_name": "Python 3 (ipykernel)",
   "language": "python",
   "name": "python3"
  },
  "language_info": {
   "codemirror_mode": {
    "name": "ipython",
    "version": 3
   },
   "file_extension": ".py",
   "mimetype": "text/x-python",
   "name": "python",
   "nbconvert_exporter": "python",
   "pygments_lexer": "ipython3",
   "version": "3.10.13"
  }
 },
 "nbformat": 4,
 "nbformat_minor": 5
}
