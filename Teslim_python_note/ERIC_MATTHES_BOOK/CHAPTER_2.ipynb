{
 "cells": [
  {
   "cell_type": "markdown",
   "metadata": {},
   "source": [
    "# VARIABLE\n"
   ]
  },
  {
   "cell_type": "markdown",
   "metadata": {},
   "source": [
    "NOTE 1\n",
    "\n",
    "When using variable in Python, you will need to adhere to a few rules. Variable names can only contains letters, numbers and underscores. They can either start with any of the above but not with numbers. Example: 1_hello but rather hello_1. Space inbetween variable are not allow but underscore can be use. Python reserve some key words, thus, something like print cannot be use as variable. Note that variable name should be short and descriptive. Ensure to stick with lower case variable as upper in variable has another meaning. "
   ]
  },
  {
   "cell_type": "code",
   "execution_count": 14,
   "metadata": {},
   "outputs": [
    {
     "name": "stdout",
     "output_type": "stream",
     "text": [
      "teslim adeyanju uthman\n"
     ]
    }
   ],
   "source": [
    "first_name = 'teslim adeyanju uthman'\n",
    "print(first_name)"
   ]
  },
  {
   "cell_type": "markdown",
   "metadata": {},
   "source": [
    "# STRING"
   ]
  },
  {
   "cell_type": "markdown",
   "metadata": {},
   "source": [
    "NOTE 1\n",
    "\n",
    "__What is a string:__\n",
    "A String is a series of character which is intiated by a quotes \" \". Anythings inside a quotes is considered a string. Note that you can use single or double quotes "
   ]
  },
  {
   "cell_type": "code",
   "execution_count": 15,
   "metadata": {},
   "outputs": [
    {
     "name": "stdout",
     "output_type": "stream",
     "text": [
      "Teslim Adeyanju Uthman\n"
     ]
    }
   ],
   "source": [
    "first_name = 'teslim adeyanju uthman'\n",
    "print(first_name.title())"
   ]
  },
  {
   "cell_type": "markdown",
   "metadata": {},
   "source": []
  },
  {
   "cell_type": "markdown",
   "metadata": {
    "notebookRunGroups": {
     "groupValue": ""
    }
   },
   "source": [
    "NOTE 2\n",
    "\n",
    "__Changing Case in a String with Methods:__\n",
    "A method is an action that py can perform on a peiece of data. it is usually follow by dot after the the name of the method. Example: first_name.title(). The code will make the method act on the variable: first_name. Note that every method is followed by a set of a parentheses because often times, method need additional information to do their works. However, the title() method which changes each word to a title case with a capital letter did not require additional information in the parentheses. There are various other methods of string as well, for example, you can change a string to all uppercase or all lowercase letter. Example We often use the lower() for storing data as most time the capitalisation from the provider of the data might not be compatible with the system of the coding, and we can now use the upper(), lower() or the title() to change to our desirable need "
   ]
  },
  {
   "cell_type": "code",
   "execution_count": 16,
   "metadata": {},
   "outputs": [
    {
     "name": "stdout",
     "output_type": "stream",
     "text": [
      "TESLIM ADEYANJU UTHMAN\n"
     ]
    }
   ],
   "source": [
    "# Example 1\n",
    "first_name = 'teslim adeyanju uthman'\n",
    "print(first_name.upper())"
   ]
  },
  {
   "cell_type": "code",
   "execution_count": 27,
   "metadata": {},
   "outputs": [
    {
     "name": "stdout",
     "output_type": "stream",
     "text": [
      "bintu ajoke\n"
     ]
    }
   ],
   "source": [
    "# Example 2\n",
    "mother = 'BINTU ajoke'\n",
    "print(mother.lower())"
   ]
  },
  {
   "cell_type": "markdown",
   "metadata": {},
   "source": []
  },
  {
   "cell_type": "markdown",
   "metadata": {},
   "source": [
    "NOTE 3\n",
    "\n",
    "__Using Variables in String:__\n",
    "To use a variable in a string,example, we might want to use two variables which are have been define separately to represent an information, eg, first and mother name. To insert a variable’s value into a string, we place the letter f immediately before the opening quotation mark and close the last word with closing quotation also. The f -string stands for format because py format the string by repalcing the name of any variable in bracket with its value."
   ]
  },
  {
   "cell_type": "code",
   "execution_count": 32,
   "metadata": {},
   "outputs": [],
   "source": [
    "# Example 1\n",
    "first_name = 'teslim adeyanju uthman'\n",
    "mother = 'bintu ajoke'"
   ]
  },
  {
   "cell_type": "code",
   "execution_count": 30,
   "metadata": {},
   "outputs": [
    {
     "name": "stdout",
     "output_type": "stream",
     "text": [
      "teslim adeyanju uthman bintu ajoke\n"
     ]
    }
   ],
   "source": [
    "# Example 2\n",
    "full_name = f\"{first_name} {mother}\"\n",
    "print(full_name)"
   ]
  },
  {
   "cell_type": "code",
   "execution_count": 21,
   "metadata": {},
   "outputs": [
    {
     "name": "stdout",
     "output_type": "stream",
     "text": [
      "teslim adeyanju uthman 57 Draper Close\n"
     ]
    }
   ],
   "source": [
    "# Example 3\n",
    "first_name = 'teslim adeyanju uthman'\n",
    "address = '57 Draper Close'\n",
    "My_details = f\"{first_name} {address}\"\n",
    "print(My_details)"
   ]
  },
  {
   "cell_type": "code",
   "execution_count": 31,
   "metadata": {},
   "outputs": [
    {
     "name": "stdout",
     "output_type": "stream",
     "text": [
      "My name is: Teslim Adeyanju Uthman, residing 57 Draper Close\n"
     ]
    }
   ],
   "source": [
    "# Example 4\n",
    "info = f\"My name is: {first_name.title()}, residing {address.title()}\"\n",
    "print(info)"
   ]
  },
  {
   "cell_type": "markdown",
   "metadata": {},
   "source": []
  },
  {
   "cell_type": "markdown",
   "metadata": {},
   "source": [
    "NOTE 4\n",
    "\n",
    "__Adding Whitespace to Strings with Tabs or Newlines:__\n",
    "White space refers to a non-printing characters that are use to organise a code for ease of readability. "
   ]
  },
  {
   "cell_type": "code",
   "execution_count": 23,
   "metadata": {},
   "outputs": [
    {
     "name": "stdout",
     "output_type": "stream",
     "text": [
      "Teslim\n"
     ]
    }
   ],
   "source": [
    "# This is a usual code withou the forward slash. \n",
    "print(\"Teslim\")"
   ]
  },
  {
   "cell_type": "code",
   "execution_count": 33,
   "metadata": {},
   "outputs": [
    {
     "name": "stdout",
     "output_type": "stream",
     "text": [
      "\tTeslim\n"
     ]
    }
   ],
   "source": [
    "# If we use the character and a combination (\\t:), it changes the output by an indent. \n",
    "print(\"\\tTeslim\")"
   ]
  },
  {
   "cell_type": "code",
   "execution_count": 34,
   "metadata": {},
   "outputs": [
    {
     "name": "stdout",
     "output_type": "stream",
     "text": [
      "My children:\n",
      "Faiza\n",
      "Fahrid\n",
      "Teslim\n"
     ]
    }
   ],
   "source": [
    "# To add a newline in a string, use the character combination \\n:\n",
    "print(\"My children:\\nFaiza\\nFahrid\\nTeslim\")"
   ]
  },
  {
   "cell_type": "code",
   "execution_count": 26,
   "metadata": {},
   "outputs": [
    {
     "name": "stdout",
     "output_type": "stream",
     "text": [
      "My children:\n",
      "\tFaiza\n",
      "\tFahrid\n",
      "\tTeslim\n"
     ]
    }
   ],
   "source": [
    "# We can combine both the tabs and newlines in a single string. The string \"\\n\\t\" tells Python to move to a new line, and start the next line with a tab.\n",
    "print(\"My children:\\n\\tFaiza\\n\\tFahrid\\n\\tTeslim\")"
   ]
  },
  {
   "cell_type": "code",
   "execution_count": null,
   "metadata": {},
   "outputs": [],
   "source": []
  }
 ],
 "metadata": {
  "kernelspec": {
   "display_name": "Python 3",
   "language": "python",
   "name": "python3"
  },
  "language_info": {
   "codemirror_mode": {
    "name": "ipython",
    "version": 3
   },
   "file_extension": ".py",
   "mimetype": "text/x-python",
   "name": "python",
   "nbconvert_exporter": "python",
   "pygments_lexer": "ipython3",
   "version": "3.11.5"
  }
 },
 "nbformat": 4,
 "nbformat_minor": 2
}
