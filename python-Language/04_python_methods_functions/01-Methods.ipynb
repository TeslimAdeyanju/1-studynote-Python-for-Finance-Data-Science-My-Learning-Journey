{
 "cells": [
  {
   "cell_type": "markdown",
   "metadata": {},
   "source": [
    "# METHODS "
   ]
  },
  {
   "cell_type": "markdown",
   "metadata": {},
   "source": [
    "In Python, methods are functions that are associated with an object and can manipulate its data or perform actions on it. They are called using `dot notation`, with the `object name` followed by a parathesis (). Methods are an important part of object-oriented programming in Python. Methods perform specific actions on an object and can also take arguments, just like a function.\n",
    "\n",
    "Methods are in the form:\n",
    "\n",
    "`object.method(arg1,arg2,etc...)` \n",
    "\n",
    "Note that after the method name, it is square bracket ( )\n",
    "\n",
    "The following under-listed are the various `method` that a list has:"
   ]
  },
  {
   "cell_type": "markdown",
   "metadata": {},
   "source": [
    "> __Method\tDescription__\n",
    "* <code>append()</code>: Adds an element at the end of the list  \n",
    "  \n",
    "* <code>clear()</code>:\tRemoves all the elements from the list\n",
    "  \n",
    "* <code>copy()</code>:\tReturns a copy of the list\n",
    "  \n",
    "* <code>count()</code>:\tReturns the number of elements with the specified value\n",
    "  \n",
    "* <code>extend()</code>:\tAdd the elements of a list (or any iterable), to the end of the current list\n",
    "  \n",
    "* <code>index()</code>:\tReturns the index of the first element with the specified value\n",
    "  \n",
    "* <code>insert()</code>:\tAdds an element at the specified position\n",
    "  \n",
    "* <code>pop()</code>:\tRemoves the element at the specified position\n",
    "  \n",
    "* <code>remove()</code>:\tRemoves the item with the specified value\n",
    "  \n",
    "* <code>reverse()</code>:\tReverses the order of the list\n",
    "  \n",
    "* <code>sort()</code>:\tSorts the list"
   ]
  },
  {
   "cell_type": "code",
   "execution_count": 1,
   "metadata": {},
   "outputs": [
    {
     "name": "stdout",
     "output_type": "stream",
     "text": [
      "['apple', 'banana', 'cherry']\n",
      "[]\n",
      "['apple', 'banana']\n",
      "2\n",
      "['apple', 'banana', 'cherry', 'date']\n",
      "1\n",
      "['apple', 'cherry', 'banana']\n",
      "['apple', 'cherry']\n",
      "['apple', 'cherry']\n",
      "['cherry', 'banana', 'apple']\n",
      "['apple', 'banana', 'cherry']\n"
     ]
    }
   ],
   "source": [
    "# append()\n",
    "fruits = ['apple', 'banana']\n",
    "fruits.append('cherry')\n",
    "print(fruits)  # Output: ['apple', 'banana', 'cherry']\n",
    "\n",
    "# clear()\n",
    "fruits.clear()\n",
    "print(fruits)  # Output: []\n",
    "\n",
    "# copy()\n",
    "fruits = ['apple', 'banana']\n",
    "new_fruits = fruits.copy()\n",
    "print(new_fruits)  # Output: ['apple', 'banana']\n",
    "\n",
    "# count()\n",
    "fruits = ['apple', 'banana', 'apple']\n",
    "print(fruits.count('apple'))  # Output: 2\n",
    "\n",
    "# extend()\n",
    "fruits1 = ['apple', 'banana']\n",
    "fruits2 = ['cherry', 'date']\n",
    "fruits1.extend(fruits2)\n",
    "print(fruits1)  # Output: ['apple', 'banana', 'cherry', 'date']\n",
    "\n",
    "# index()\n",
    "fruits = ['apple', 'banana', 'cherry']\n",
    "print(fruits.index('banana'))  # Output: 1\n",
    "\n",
    "# insert()\n",
    "fruits = ['apple', 'banana']\n",
    "fruits.insert(1, 'cherry')\n",
    "print(fruits)  # Output: ['apple', 'cherry', 'banana']\n",
    "\n",
    "# pop()\n",
    "fruits = ['apple', 'banana', 'cherry']\n",
    "fruits.pop(1)\n",
    "print(fruits)  # Output: ['apple', 'cherry']\n",
    "\n",
    "# remove()\n",
    "fruits = ['apple', 'banana', 'cherry']\n",
    "fruits.remove('banana')\n",
    "print(fruits)  # Output: ['apple', 'cherry']\n",
    "\n",
    "# reverse()\n",
    "fruits = ['apple', 'banana', 'cherry']\n",
    "fruits.reverse()\n",
    "print(fruits)  # Output: ['cherry', 'banana', 'apple']\n",
    "\n",
    "# sort()\n",
    "fruits = ['cherry', 'banana', 'apple']\n",
    "fruits.sort()\n",
    "print(fruits)  # Output: ['apple', 'banana', 'cherry']"
   ]
  },
  {
   "cell_type": "markdown",
   "metadata": {},
   "source": [
    "You can always use Shift+Tab in the Jupyter Notebook to get more help about the method. In general Python you can use the help() function:"
   ]
  },
  {
   "cell_type": "code",
   "execution_count": 4,
   "metadata": {},
   "outputs": [
    {
     "name": "stdout",
     "output_type": "stream",
     "text": [
      "Help on built-in function sort:\n",
      "\n",
      "sort(*, key=None, reverse=False) method of builtins.list instance\n",
      "    Sort the list in ascending order and return None.\n",
      "    \n",
      "    The sort is in-place (i.e. the list itself is modified) and stable (i.e. the\n",
      "    order of two equal elements is maintained).\n",
      "    \n",
      "    If a key function is given, apply it once to each list item and sort them,\n",
      "    ascending or descending, according to their function values.\n",
      "    \n",
      "    The reverse flag can be set to sort in descending order.\n",
      "\n"
     ]
    }
   ],
   "source": [
    "help(fruits.sort)"
   ]
  },
  {
   "cell_type": "markdown",
   "metadata": {},
   "source": [
    "Python has a large number of built-in methods for various data types. Here are examples for some of the most commonly used methods for different data types:\n",
    "\n",
    "**String Methods:**\n",
    "\n"
   ]
  },
  {
   "cell_type": "code",
   "execution_count": null,
   "metadata": {},
   "outputs": [],
   "source": [
    "# capitalize()\n",
    "text = \"hello world\"\n",
    "print(text.capitalize())  # Output: \"Hello world\"\n",
    "\n",
    "# replace()\n",
    "text = \"hello world\"\n",
    "print(text.replace(\"world\", \"python\"))  # Output: \"hello python\"\n",
    "\n",
    "# upper()\n",
    "text = \"hello world\"\n",
    "print(text.upper())  # Output: \"HELLO WORLD\""
   ]
  },
  {
   "cell_type": "markdown",
   "metadata": {},
   "source": [
    "\n",
    "\n",
    "**List Methods:**\n",
    "\n"
   ]
  },
  {
   "cell_type": "code",
   "execution_count": null,
   "metadata": {},
   "outputs": [],
   "source": [
    "# append()\n",
    "fruits = ['apple', 'banana']\n",
    "fruits.append('cherry')\n",
    "print(fruits)  # Output: ['apple', 'banana', 'cherry']\n",
    "\n",
    "# remove()\n",
    "fruits = ['apple', 'banana', 'cherry']\n",
    "fruits.remove('banana')\n",
    "print(fruits)  # Output: ['apple', 'cherry']\n",
    "\n",
    "# sort()\n",
    "fruits = ['cherry', 'banana', 'apple']\n",
    "fruits.sort()\n",
    "print(fruits)  # Output: ['apple', 'banana', 'cherry']"
   ]
  },
  {
   "cell_type": "markdown",
   "metadata": {},
   "source": [
    "\n",
    "\n",
    "**Dictionary Methods:**\n",
    "\n"
   ]
  },
  {
   "cell_type": "code",
   "execution_count": null,
   "metadata": {},
   "outputs": [],
   "source": [
    "# keys()\n",
    "person = {\"name\": \"John\", \"age\": 30}\n",
    "print(person.keys())  # Output: dict_keys(['name', 'age'])\n",
    "\n",
    "# values()\n",
    "person = {\"name\": \"John\", \"age\": 30}\n",
    "print(person.values())  # Output: dict_values(['John', 30])\n",
    "\n",
    "# get()\n",
    "person = {\"name\": \"John\", \"age\": 30}\n",
    "print(person.get(\"name\"))  # Output: \"John\""
   ]
  },
  {
   "cell_type": "markdown",
   "metadata": {},
   "source": [
    "\n",
    "\n",
    "**Set Methods:**\n",
    "\n"
   ]
  },
  {
   "cell_type": "code",
   "execution_count": null,
   "metadata": {},
   "outputs": [],
   "source": [
    "# add()\n",
    "fruits = {\"apple\", \"banana\"}\n",
    "fruits.add(\"cherry\")\n",
    "print(fruits)  # Output: {'cherry', 'apple', 'banana'}\n",
    "\n",
    "# remove()\n",
    "fruits = {\"apple\", \"banana\", \"cherry\"}\n",
    "fruits.remove(\"banana\")\n",
    "print(fruits)  # Output: {'cherry', 'apple'}\n",
    "\n",
    "# union()\n",
    "set1 = {\"apple\", \"banana\"}\n",
    "set2 = {\"cherry\", \"date\"}\n",
    "print(set1.union(set2))  # Output: {'cherry', 'apple', 'banana', 'date'}"
   ]
  },
  {
   "cell_type": "markdown",
   "metadata": {},
   "source": [
    "\n",
    "\n",
    "These are just a few examples. Each data type in Python has its own set of methods. You can use the `dir()` function to see all the methods available for a particular object. For example, `dir(str)` will show all the string methods."
   ]
  }
 ],
 "metadata": {
  "kernelspec": {
   "display_name": "base",
   "language": "python",
   "name": "python3"
  },
  "language_info": {
   "codemirror_mode": {
    "name": "ipython",
    "version": 3
   },
   "file_extension": ".py",
   "mimetype": "text/x-python",
   "name": "python",
   "nbconvert_exporter": "python",
   "pygments_lexer": "ipython3",
   "version": "3.10.13"
  }
 },
 "nbformat": 4,
 "nbformat_minor": 2
}
