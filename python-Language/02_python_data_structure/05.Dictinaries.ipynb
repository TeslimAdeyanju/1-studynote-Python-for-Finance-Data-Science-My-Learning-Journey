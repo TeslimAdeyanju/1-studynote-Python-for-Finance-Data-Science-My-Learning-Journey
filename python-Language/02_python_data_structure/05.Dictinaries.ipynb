{
 "cells": [
  {
   "cell_type": "markdown",
   "metadata": {},
   "source": [
    "# DICTIONARY"
   ]
  },
  {
   "cell_type": "markdown",
   "metadata": {},
   "source": [
    "## Introduction\n",
    "___"
   ]
  },
  {
   "cell_type": "markdown",
   "metadata": {},
   "source": [
    "* Dictionaries are used to store data values in <code> key: value pairs</code>\n",
    "* Dictionary is consider as a mappings, which are a collection of objects that are stored by a *key*, unlike a sequence that stored objects by their relative position. This is an important distinction, since mappings won't retain order since they have objects defined by a key.\n",
    "* Dictionaries are written with curly brackets, and have keys and values: <code> {}</code>\n",
    "* Dictionary items are ordered, changeable, and do not allow duplicates.\n",
    "* Dictionaries are changeable, meaning that we can change, add or remove items after the dictionary has been created.\n",
    "* To determine how many items a dictionary has, use the len() function:\n",
    "* We can use the dict() method to make a dictionary:"
   ]
  },
  {
   "cell_type": "raw",
   "metadata": {},
   "source": [
    "The dictionary syntax is thus:\n",
    " info = {\n",
    "    'key1': 'value1',\n",
    "    'key2': 'value2'\n",
    "    'key3': 'value3'...\n",
    "    }"
   ]
  },
  {
   "cell_type": "code",
   "execution_count": 1,
   "metadata": {},
   "outputs": [
    {
     "name": "stdout",
     "output_type": "stream",
     "text": [
      "{'name': 'teslim', 'age': 25, 'address': '57 Draper Close', 'occupation': 'software developer', 'number': [2, 3, 4, 5, 6, 6]}\n"
     ]
    }
   ],
   "source": [
    "details = {\n",
    "    'name': 'teslim',\n",
    "    'age': 25,\n",
    "    'address': '57 Draper Close',\n",
    "    'occupation': 'software developer',\n",
    "    'number': [2,3,4,5,6,6,]\n",
    "    }\n",
    "print(details)"
   ]
  },
  {
   "cell_type": "code",
   "execution_count": 2,
   "metadata": {},
   "outputs": [
    {
     "name": "stdout",
     "output_type": "stream",
     "text": [
      "teslim\n"
     ]
    }
   ],
   "source": [
    "print(details['name'])"
   ]
  },
  {
   "cell_type": "code",
   "execution_count": 70,
   "metadata": {},
   "outputs": [
    {
     "name": "stdout",
     "output_type": "stream",
     "text": [
      "{'name': 'John', 'age': 36, 'country': 'Norway'}\n"
     ]
    }
   ],
   "source": [
    "# Using the dict() constructor to create a dictionary\n",
    "this_dict = dict(\n",
    "    name = \"John\", # take note of the key word with no quotes\n",
    "    age = 36,\n",
    "    country = \"Norway\"\n",
    "    )\n",
    "print(this_dict)"
   ]
  },
  {
   "cell_type": "code",
   "execution_count": 45,
   "metadata": {},
   "outputs": [
    {
     "name": "stdout",
     "output_type": "stream",
     "text": [
      "{'name': 'Teslim', 'age': 25, 'address': '57 Draper Close', 'occupation': 'software developer', 'number': [2, 3, 4, 5, 6, 6]}\n"
     ]
    }
   ],
   "source": [
    "# Using the dict() constructor to create a dictionary\n",
    "info = dict(\n",
    "    name = 'Teslim',\n",
    "    age = 25,\n",
    "    address = '57 Draper Close',\n",
    "    occupation = 'software developer',\n",
    "    number = [2,3,4,5,6,6,]\n",
    "    )\n",
    "print(info)"
   ]
  },
  {
   "cell_type": "markdown",
   "metadata": {},
   "source": [
    "## Python - Access Dictionary Items\n",
    "___"
   ]
  },
  {
   "cell_type": "markdown",
   "metadata": {},
   "source": [
    "* __Accessing Items :__  You can access the items of a dictionary by referring to its key name, inside square brackets:"
   ]
  },
  {
   "cell_type": "code",
   "execution_count": 78,
   "metadata": {},
   "outputs": [
    {
     "name": "stdout",
     "output_type": "stream",
     "text": [
      "software developer\n"
     ]
    }
   ],
   "source": [
    "# access the items in the dictionary\n",
    "info = dict(\n",
    "    name = 'Teslim',\n",
    "    age = 25,\n",
    "    address = '57 Draper Close',\n",
    "    occupation = 'software developer',\n",
    "    number = [2,3,4,5,6,6,]\n",
    "    )\n",
    "\n",
    "print(info[\"occupation\"]) # take note of the inverted commas, and the square brackets"
   ]
  },
  {
   "cell_type": "code",
   "execution_count": 47,
   "metadata": {},
   "outputs": [
    {
     "data": {
      "text/plain": [
       "[2, 3, 4, 5, 6, 6]"
      ]
     },
     "execution_count": 47,
     "metadata": {},
     "output_type": "execute_result"
    }
   ],
   "source": [
    "# access the items in the dictionary without print\n",
    "info['number']"
   ]
  },
  {
   "cell_type": "markdown",
   "metadata": {},
   "source": [
    "* There is also a method called <code>get()</code> that will give you the same result: "
   ]
  },
  {
   "cell_type": "code",
   "execution_count": 48,
   "metadata": {},
   "outputs": [
    {
     "name": "stdout",
     "output_type": "stream",
     "text": [
      "57 Draper Close\n"
     ]
    }
   ],
   "source": [
    "# access the items in the dictionary using the get() method\n",
    "x = info.get('address')\n",
    "print(x)"
   ]
  },
  {
   "cell_type": "code",
   "execution_count": 49,
   "metadata": {},
   "outputs": [
    {
     "data": {
      "text/plain": [
       "[2, 3, 4, 5, 6, 6]"
      ]
     },
     "execution_count": 49,
     "metadata": {},
     "output_type": "execute_result"
    }
   ],
   "source": [
    "# access the items in the dictionary using the get() method without print\n",
    "info.get('number')"
   ]
  },
  {
   "cell_type": "markdown",
   "metadata": {},
   "source": [
    "* Get Keys: The <code>keys()</code> will return a list of all the keys in the dictionary."
   ]
  },
  {
   "cell_type": "code",
   "execution_count": 50,
   "metadata": {},
   "outputs": [
    {
     "data": {
      "text/plain": [
       "dict_keys(['name', 'age', 'address', 'occupation', 'number'])"
      ]
     },
     "execution_count": 50,
     "metadata": {},
     "output_type": "execute_result"
    }
   ],
   "source": [
    "# change the value of a specific item in the dictionary\n",
    "info.keys()"
   ]
  },
  {
   "cell_type": "code",
   "execution_count": 79,
   "metadata": {},
   "outputs": [
    {
     "data": {
      "text/plain": [
       "2"
      ]
     },
     "execution_count": 79,
     "metadata": {},
     "output_type": "execute_result"
    }
   ],
   "source": [
    "# Access the index of the dictionary\n",
    "info[\"number\"][0]"
   ]
  },
  {
   "cell_type": "markdown",
   "metadata": {},
   "source": [
    "* We use the <code>values ()</code> to grap the all values in a dictionary "
   ]
  },
  {
   "cell_type": "code",
   "execution_count": 88,
   "metadata": {},
   "outputs": [
    {
     "data": {
      "text/plain": [
       "dict_values(['Teslim', 25, '57 Draper Close', 'software developer', [2, 3, 4, 5, 6, 6]])"
      ]
     },
     "execution_count": 88,
     "metadata": {},
     "output_type": "execute_result"
    }
   ],
   "source": [
    "info.values()"
   ]
  },
  {
   "cell_type": "markdown",
   "metadata": {},
   "source": [
    "## Python - Change Dictionary Items\n",
    "___"
   ]
  },
  {
   "cell_type": "markdown",
   "metadata": {},
   "source": [
    "* __Change Values:__ You can change the value of a specific item by referring to its key name:"
   ]
  },
  {
   "cell_type": "code",
   "execution_count": 51,
   "metadata": {},
   "outputs": [],
   "source": [
    "# Updating the value of a specific item in the dictionary\n",
    "info = dict(name = 'Teslim', age = 25, address = '57 Draper Close', occupation = 'software developer', number = [2,3,4,5,6,6,])\n",
    "info['number'] = ['07776717154']"
   ]
  },
  {
   "cell_type": "code",
   "execution_count": 24,
   "metadata": {},
   "outputs": [
    {
     "name": "stdout",
     "output_type": "stream",
     "text": [
      "{'name': 'Teslim', 'age': 25, 'address': '57 Draper Close', 'occupation': 'software developer', 'number': ['07776717154']}\n"
     ]
    }
   ],
   "source": [
    "print(info)"
   ]
  },
  {
   "cell_type": "markdown",
   "metadata": {},
   "source": [
    "* __Update Dictionary:__ The <code>update()</code> method will update the dictionary with the items from the given argument. The argument must be a dictionary, or an iterable object with key:value pairs."
   ]
  },
  {
   "cell_type": "code",
   "execution_count": 52,
   "metadata": {},
   "outputs": [],
   "source": [
    "# update the value of a specific item in the dictionary using the update() method\n",
    "info.update({'name': \"Uthman\"}) # take note of the inverted commas, and the curly brackets"
   ]
  },
  {
   "cell_type": "code",
   "execution_count": 53,
   "metadata": {},
   "outputs": [
    {
     "name": "stdout",
     "output_type": "stream",
     "text": [
      "{'name': 'Uthman', 'age': 25, 'address': '57 Draper Close', 'occupation': 'software developer', 'number': ['07776717154']}\n"
     ]
    }
   ],
   "source": [
    "print(info)"
   ]
  },
  {
   "cell_type": "code",
   "execution_count": 54,
   "metadata": {},
   "outputs": [
    {
     "name": "stdout",
     "output_type": "stream",
     "text": [
      "{'fruit': 'banana', 'vegetable': 'cabbage', 'flower': 'lily'}\n"
     ]
    }
   ],
   "source": [
    "# update the value of a specific item in the dictionary using the update() method without print\n",
    "list = {\"fruit\": \"apple\", \"vegetable\": \"carrot\", \"flower\": \"rose\"}\n",
    "list.update({\"fruit\": \"banana\", \"vegetable\": \"cabbage\", \"flower\": \"lily\"})\n",
    "print(list)"
   ]
  },
  {
   "cell_type": "markdown",
   "metadata": {},
   "source": [
    "## Python - Remove Dictionary Items\n",
    "___"
   ]
  },
  {
   "cell_type": "markdown",
   "metadata": {},
   "source": [
    "* Removing items using the <code>pop ()</code>. This remove items with the specified key name. "
   ]
  },
  {
   "cell_type": "code",
   "execution_count": 55,
   "metadata": {},
   "outputs": [
    {
     "name": "stdout",
     "output_type": "stream",
     "text": [
      "{'name': 'Uthman', 'age': 25, 'address': '57 Draper Close', 'occupation': 'software developer'}\n"
     ]
    }
   ],
   "source": [
    "#  Removing items from the dictionary\n",
    "info.pop('number') # take note of the inverted commas, and the round brackets\n",
    "print(info)"
   ]
  },
  {
   "cell_type": "markdown",
   "metadata": {},
   "source": [
    "* The <code>popitem()</code> method removes the last inserted item"
   ]
  },
  {
   "cell_type": "code",
   "execution_count": 56,
   "metadata": {},
   "outputs": [
    {
     "data": {
      "text/plain": [
       "('occupation', 'software developer')"
      ]
     },
     "execution_count": 56,
     "metadata": {},
     "output_type": "execute_result"
    }
   ],
   "source": [
    "# Removing last items from the dictionary using the popitem() method without print\n",
    "info.popitem()"
   ]
  },
  {
   "cell_type": "markdown",
   "metadata": {},
   "source": [
    "* We use <code>del</code> keyword to remove the items with the specified key name. "
   ]
  },
  {
   "cell_type": "code",
   "execution_count": 57,
   "metadata": {},
   "outputs": [
    {
     "name": "stdout",
     "output_type": "stream",
     "text": [
      "{'brand': 'Ford', 'year': 1964}\n"
     ]
    }
   ],
   "source": [
    "this_dict = {\n",
    "  \"brand\": \"Ford\",\n",
    "  \"model\": \"Mustang\",\n",
    "  \"year\": 1964\n",
    "}\n",
    "del this_dict[\"model\"]\n",
    "print(this_dict)"
   ]
  },
  {
   "cell_type": "markdown",
   "metadata": {},
   "source": [
    "* The <code>clear</code> method is used to empty the dictionary. The print output will return empty curly bracket "
   ]
  },
  {
   "cell_type": "code",
   "execution_count": 60,
   "metadata": {},
   "outputs": [
    {
     "name": "stdout",
     "output_type": "stream",
     "text": [
      "{}\n"
     ]
    }
   ],
   "source": [
    "this_dict = {\n",
    "    \"brand\": \"Ford\",\n",
    "    \"model\": \"Mustang\",\n",
    "    \"year\": 1964\n",
    "    }\n",
    "this_dict.clear()\n",
    "print(this_dict)"
   ]
  },
  {
   "cell_type": "markdown",
   "metadata": {},
   "source": [
    "* The <code>del </code> will delete the dictionary completely. "
   ]
  },
  {
   "cell_type": "code",
   "execution_count": 2,
   "metadata": {},
   "outputs": [],
   "source": [
    "this_dict = {\n",
    "    \"brand\": \"Ford\",\n",
    "    \"model\": \"Mustang\",\n",
    "    \"year\": 1964\n",
    "    }\n",
    "del this_dict\n",
    "# print(this_dict) # this will cause an error because \"thisdict\" no longer exists.\n"
   ]
  },
  {
   "cell_type": "markdown",
   "metadata": {},
   "source": [
    "## Python - Copy Dictionaries\n",
    "___"
   ]
  },
  {
   "cell_type": "markdown",
   "metadata": {},
   "source": [
    "* We use the <code>copy ()</code> to imitate one Dictionaries to another. This is useful instead of typing the whole dic from the beginning.    "
   ]
  },
  {
   "cell_type": "code",
   "execution_count": 63,
   "metadata": {},
   "outputs": [
    {
     "name": "stdout",
     "output_type": "stream",
     "text": [
      "{'name': 'Teslim', 'age': 25, 'address': '57 Draper Close', 'occupation': 'software developer', 'number': [2, 3, 4, 5, 6, 6]}\n"
     ]
    }
   ],
   "source": [
    "List = dict(\n",
    "    name = 'Teslim',\n",
    "    age = 25,\n",
    "    address = '57 Draper Close',\n",
    "    occupation = 'software developer',\n",
    "    number = [2,3,4,5,6,6,]\n",
    "            )\n",
    "my_detail = List.copy()\n",
    "print(my_detail)"
   ]
  },
  {
   "cell_type": "markdown",
   "metadata": {},
   "source": [
    "* Another useful shortcut is to use <code>dict ()</code> function inside each other. "
   ]
  },
  {
   "cell_type": "code",
   "execution_count": 72,
   "metadata": {},
   "outputs": [
    {
     "name": "stdout",
     "output_type": "stream",
     "text": [
      "{'color': 'red', 'shape': 'round', 'size': 'big'}\n"
     ]
    }
   ],
   "source": [
    "list= dict(\n",
    "    color = 'red',\n",
    "    shape = 'round',\n",
    "    size = 'big',\n",
    "    )\n",
    "new_list = dict(list) # take note of the round brackets\n",
    "print(new_list)"
   ]
  },
  {
   "cell_type": "markdown",
   "metadata": {},
   "source": [
    "## Python - Nested Dictionaries \n",
    "___"
   ]
  },
  {
   "cell_type": "markdown",
   "metadata": {},
   "source": [
    "* A dictionary can contain dictionary inside a dictionary. This is called a nested dictionary\n",
    "* This is usually done by creating a one dictionary that will hold the detail dictionary"
   ]
  },
  {
   "cell_type": "code",
   "execution_count": 75,
   "metadata": {},
   "outputs": [
    {
     "name": "stdout",
     "output_type": "stream",
     "text": [
      "{'child1': {'name': 'My Though', 'Birthday': 'Feb 4th'}, 'child2': {'name': 'Faizah', 'Birthday': 'Feb 15th'}, 'child3': {'name': 'Fahrid', 'Birthday': 'Feb 12th'}}\n"
     ]
    }
   ],
   "source": [
    "child1 = {\n",
    "    \"name\" : \"My Though\",\n",
    "    \"Birthday\" : \"Feb 4th\"\n",
    "}\n",
    "child2 = {\n",
    "    \"name\" : \"Faizah\",\n",
    "    \"Birthday\" : \"Feb 15th\"\n",
    "}\n",
    "child3 = {\n",
    "    \"name\" : \"Fahrid\",\n",
    "    \"Birthday\" : \"Feb 12th\"\n",
    "}\n",
    "\n",
    "myfamily = {\n",
    "    \"child1\" : child1,\n",
    "    \"child2\" : child2,\n",
    "    \"child3\" : child3\n",
    "}\n",
    "\n",
    "print(myfamily)"
   ]
  },
  {
   "cell_type": "markdown",
   "metadata": {},
   "source": [
    "* Access items in the nested dictionary is by using the name of the dictionary, and we will start with the outer dictionary name. "
   ]
  },
  {
   "cell_type": "code",
   "execution_count": 76,
   "metadata": {},
   "outputs": [
    {
     "name": "stdout",
     "output_type": "stream",
     "text": [
      "My Though\n"
     ]
    }
   ],
   "source": [
    "print(myfamily[\"child1\"]['name'])"
   ]
  },
  {
   "cell_type": "markdown",
   "metadata": {},
   "source": [
    "## Operators with dictionary\n",
    "___"
   ]
  },
  {
   "cell_type": "code",
   "execution_count": 87,
   "metadata": {},
   "outputs": [
    {
     "name": "stdout",
     "output_type": "stream",
     "text": [
      "{'combined': [2, 3, 4, 5, 6, 7, 8, 9]}\n"
     ]
    }
   ],
   "source": [
    "# We can perform addition, subtraction, multiplication, division, and modulus operations on the dictionary\n",
    "# Addition\n",
    "my_dict1 = {\"num\": [2,3,4,5]}\n",
    "my_dict2 = {\"list\": [6,7,8,9]}\n",
    "my_dict3 = {\"combined\": my_dict1[\"num\"] + my_dict2[\"list\"]}\n",
    "print(my_dict3)"
   ]
  },
  {
   "cell_type": "markdown",
   "metadata": {},
   "source": [
    "## Python Dictionary Methods\n",
    "___"
   ]
  },
  {
   "cell_type": "markdown",
   "metadata": {},
   "source": [
    "Python has a set of 11 built-in methods that you can use on dictionaries. To learn about each of them, visit [Python Dictionary Methods](https://www.w3schools.com/python/python_ref_dictionary.asp)\n",
    "\n",
    "\n",
    "1. `clear()` : Removes all the elements from the dictionary\n",
    "   \n",
    "1. `copy()`: Returns a copy of the dictionary\n",
    "   \n",
    "1. fromkeys(): Returns a dictionary with the specified keys and value\n",
    "   \n",
    "1. `get()`: Returns the value of the specified key\n",
    "\n",
    "1. `items()`: Returns a list containing a tuple for each key value pair\n",
    "\n",
    "1. `keys()`: Returns a list containing the dictionary's keys\n",
    "\n",
    "1. `pop()`: Removes the element with the specified key\n",
    "\n",
    "1. `popitem()`: Removes the last inserted key-value pair\n",
    "\n",
    "1. `setdefault()`: Returns the value of the specified key. If the key does not exist: insert the key, with the specified value\n",
    "\n",
    "1. `update()`: Updates the dictionary with the specified key-value pairs\n",
    "\n",
    "1. `values()`: Returns a list of all the values in the dictionary"
   ]
  },
  {
   "cell_type": "markdown",
   "metadata": {},
   "source": [
    "#### 1. Get ( )\n",
    "____"
   ]
  },
  {
   "cell_type": "markdown",
   "metadata": {},
   "source": [
    "\n",
    "\n",
    "``` python\n",
    "dict.get(key, default = None):\n",
    "```\n",
    "\n",
    "- Returns the value associated with the specified key in the dictionary. If the key is not found, it returns the default value (None by default).\n",
    "\n",
    "- This method is useful when you want to retrieve a value from a dictionary without raising a KeyError if the key is not present."
   ]
  },
  {
   "cell_type": "code",
   "execution_count": 15,
   "metadata": {},
   "outputs": [
    {
     "name": "stdout",
     "output_type": "stream",
     "text": [
      "2\n",
      "-1\n"
     ]
    }
   ],
   "source": [
    "my_dict = {\"a\": 1, \"b\": 2, \"c\": 3}\n",
    "\n",
    "print(my_dict.get(\"b\"))        \n",
    "print(my_dict.get(\"z\", -1)) "
   ]
  },
  {
   "cell_type": "markdown",
   "metadata": {},
   "source": [
    "#### 2. Key ( )\n",
    "____\n"
   ]
  },
  {
   "cell_type": "markdown",
   "metadata": {},
   "source": [
    "\n",
    "``` python\n",
    "dict.keys():\n",
    "\n",
    "```\n",
    "\n",
    "- Returns a view object that displays a list of all the keys in the dictionary.\n",
    "\n",
    "- Useful when you need to iterate over or access only the keys of a dictionary."
   ]
  },
  {
   "cell_type": "code",
   "execution_count": 4,
   "metadata": {},
   "outputs": [
    {
     "name": "stdout",
     "output_type": "stream",
     "text": [
      "dict_keys(['a', 'b', 'c'])\n"
     ]
    }
   ],
   "source": [
    "my_dict = {\"a\": 1, \"b\": 2, \"c\": 3}\n",
    "print(my_dict.keys())"
   ]
  },
  {
   "cell_type": "markdown",
   "metadata": {},
   "source": [
    "####  3. pop( )\n",
    "____"
   ]
  },
  {
   "cell_type": "markdown",
   "metadata": {},
   "source": [
    "\n",
    "\n",
    "``` python\n",
    "dict.pop(key[, default]):\n",
    "\n",
    "```\n",
    "- Removes the item with the specified key from the dictionary and returns its value. If the key is not found, it returns the default value (or raises a KeyError if no default is specified).\n",
    "\n",
    "- Useful when you want to remove an item from the dictionary and get its value at the same time."
   ]
  },
  {
   "cell_type": "code",
   "execution_count": 7,
   "metadata": {},
   "outputs": [
    {
     "name": "stdout",
     "output_type": "stream",
     "text": [
      "2\n",
      "{'a': 1, 'c': 3}\n"
     ]
    }
   ],
   "source": [
    "my_dict = {\"a\": 1, \"b\": 2, \"c\": 3}\n",
    "removed_value = my_dict.pop(\"b\")\n",
    "print(removed_value)  # Output: 2\n",
    "print(my_dict)        # Output: {'a': 1, 'c': 3}\n"
   ]
  },
  {
   "cell_type": "markdown",
   "metadata": {},
   "source": [
    "#### 4. Value ( )\n",
    "____"
   ]
  },
  {
   "cell_type": "markdown",
   "metadata": {},
   "source": [
    "\n",
    "\n",
    "``` python\n",
    "dict.values():\n",
    "\n",
    "```\n",
    "- Returns a view object that displays a list of all the values in the dictionary.\n",
    "\n",
    "- Useful when you need to iterate over or access only the values of a dictionary.\n"
   ]
  },
  {
   "cell_type": "code",
   "execution_count": 5,
   "metadata": {},
   "outputs": [
    {
     "name": "stdout",
     "output_type": "stream",
     "text": [
      "dict_values([1, 2, 3])\n"
     ]
    }
   ],
   "source": [
    "my_dict = {\"a\": 1, \"b\": 2, \"c\": 3}\n",
    "print(my_dict.values())  # Output: dict_values([1, 2, 3])\n"
   ]
  },
  {
   "cell_type": "markdown",
   "metadata": {},
   "source": [
    "#### 5. item ( )\n",
    "____"
   ]
  },
  {
   "cell_type": "markdown",
   "metadata": {},
   "source": [
    "\n",
    "\n",
    "``` python\n",
    "dict.items():\n",
    "\n",
    "```\n",
    "- Returns a view object that displays a list of tuples, where each tuple represents a key-value pair in the dictionary.\n",
    "\n",
    "- Useful when you need to iterate over or access both keys and values of a dictionary."
   ]
  },
  {
   "cell_type": "code",
   "execution_count": 6,
   "metadata": {},
   "outputs": [
    {
     "name": "stdout",
     "output_type": "stream",
     "text": [
      "dict_items([('a', 1), ('b', 2), ('c', 3)])\n"
     ]
    }
   ],
   "source": [
    "my_dict = {\"a\": 1, \"b\": 2, \"c\": 3}\n",
    "print(my_dict.items())  # Output: dict_items([('a', 1), ('b', 2), ('c', 3)])"
   ]
  },
  {
   "cell_type": "markdown",
   "metadata": {},
   "source": [
    "####  6. clear ( )\n",
    "____"
   ]
  },
  {
   "cell_type": "markdown",
   "metadata": {},
   "source": [
    "\n",
    "\n",
    "``` python\n",
    "dict.clear():\n",
    "\n",
    "```\n",
    "- Removes all items from the dictionary, making it empty.\n",
    "- Useful when you want to clear the contents of a dictionary."
   ]
  },
  {
   "cell_type": "code",
   "execution_count": 8,
   "metadata": {},
   "outputs": [
    {
     "name": "stdout",
     "output_type": "stream",
     "text": [
      "{}\n"
     ]
    }
   ],
   "source": [
    "my_dict = {\"a\": 1, \"b\": 2, \"c\": 3}\n",
    "my_dict.clear()\n",
    "print(my_dict)  # Output: {}\n"
   ]
  },
  {
   "cell_type": "markdown",
   "metadata": {},
   "source": [
    "####  7. update( )\n",
    "____"
   ]
  },
  {
   "cell_type": "markdown",
   "metadata": {},
   "source": [
    "\n",
    "\n",
    "``` python\n",
    "dict.update(iterable):\n",
    "\n",
    "```\n",
    "- updates the dictionary with key-value pairs from the specified iterable (such as another dictionary or a list of tuples).\n",
    "\n",
    "- Useful when you want to merge or update the contents of one dictionary with another."
   ]
  },
  {
   "cell_type": "code",
   "execution_count": 9,
   "metadata": {},
   "outputs": [
    {
     "name": "stdout",
     "output_type": "stream",
     "text": [
      "{'a': 1, 'b': 3, 'c': 4}\n"
     ]
    }
   ],
   "source": [
    "my_dict = {\"a\": 1, \"b\": 2}\n",
    "update_dict = {\"b\": 3, \"c\": 4}\n",
    "my_dict.update(update_dict)\n",
    "print(my_dict)  # Output: {'a': 1, 'b': 3, 'c': 4}\n"
   ]
  },
  {
   "cell_type": "markdown",
   "metadata": {},
   "source": [
    "####  8.setdefault ( )\n",
    "____\n"
   ]
  },
  {
   "cell_type": "markdown",
   "metadata": {},
   "source": [
    "\n",
    "``` python\n",
    "dict.setdefault(key, default=None):\n",
    "\n",
    "```\n",
    "- Returns the value associated with the specified key in the dictionary. If the key is not found, it inserts the key with the specified default value (None by default) and returns the default value.\n",
    "\n",
    "- Useful when you want to ensure a key exists in a dictionary and provide a default value if it doesn't."
   ]
  },
  {
   "cell_type": "code",
   "execution_count": 10,
   "metadata": {},
   "outputs": [
    {
     "name": "stdout",
     "output_type": "stream",
     "text": [
      "{'a': 1, 'b': 2, 'c': 3}\n",
      "3\n"
     ]
    }
   ],
   "source": [
    "my_dict = {\"a\": 1, \"b\": 2}\n",
    "value = my_dict.setdefault(\"c\", 3)\n",
    "print(my_dict)  # Output: {'a': 1, 'b': 2, 'c': 3}\n",
    "print(value)    # Output: 3\n"
   ]
  },
  {
   "cell_type": "markdown",
   "metadata": {},
   "source": [
    "####  9. copy( )\n",
    "____"
   ]
  },
  {
   "cell_type": "markdown",
   "metadata": {},
   "source": [
    "\n",
    "\n",
    "``` python\n",
    "dict.copy()\n",
    "\n",
    "```\n",
    "The copy() method in Python returns a shallow copy of the dictionary. This means that it creates a new dictionary object containing the same key-value pairs as the original dictionary. However, if the values themselves are mutable objects (e.g., lists or dictionaries), only the references to those objects are copied, not the objects themselves. Therefore, changes made to the values in the original dictionary may also affect the values in the copied dictionary if they are mutable.\n",
    "\n",
    "Here's an example to illustrate the usage of the copy() method:"
   ]
  },
  {
   "cell_type": "code",
   "execution_count": 11,
   "metadata": {},
   "outputs": [
    {
     "name": "stdout",
     "output_type": "stream",
     "text": [
      "Original Dictionary: {'a': 100, 'b': 2, 'c': [3, 4, 5, 6]}\n",
      "Copied Dictionary: {'a': 1, 'b': 2, 'c': [3, 4, 5, 6]}\n"
     ]
    }
   ],
   "source": [
    "original_dict = {\"a\": 1, \"b\": 2, \"c\": [3, 4, 5]}\n",
    "copied_dict = original_dict.copy()\n",
    "\n",
    "# Modify a value in the original dictionary\n",
    "original_dict[\"a\"] = 100\n",
    "# Modify a value in the list within the original dictionary\n",
    "original_dict[\"c\"].append(6)\n",
    "\n",
    "print(\"Original Dictionary:\", original_dict)\n",
    "print(\"Copied Dictionary:\", copied_dict)\n"
   ]
  },
  {
   "cell_type": "markdown",
   "metadata": {},
   "source": [
    "As you can see, when we modify a value in the original dictionary (\"a\": 100) and append an element to the list within the original dictionary (\"c\": [3, 4, 5, 6]), these changes are reflected only in the original dictionary, not in the copied dictionary. This behavior demonstrates that the copy() method creates a separate copy of the dictionary. However, changes made to mutable objects within the original dictionary (like the list in this example) will affect both the original and copied dictionaries, as they reference the same mutable objects."
   ]
  },
  {
   "cell_type": "markdown",
   "metadata": {},
   "source": [
    "####  10. fromkeys( )\n",
    "____"
   ]
  },
  {
   "cell_type": "markdown",
   "metadata": {},
   "source": [
    "\n",
    "\n",
    "``` python\n",
    "new_dict = dict.fromkeys(iterable, value)\n",
    "\n",
    "```\n",
    "The fromkeys() method in Python is used to create a new dictionary with the specified keys and an optional default value for all keys. It takes two parameters: an iterable (such as a list, tuple, or range) containing the keys of the new dictionary, and an optional value that will be assigned to each key. If the optional value is not provided, None will be used as the default value for all keys.\n",
    "\n",
    "\n",
    "- iterable: An iterable containing the keys of the new dictionary.\n",
    "\n",
    "- value (optional): The value to be assigned to each key in the new dictionary. If not provided.\n",
    "\n",
    "- None will be used as the default value."
   ]
  },
  {
   "cell_type": "code",
   "execution_count": 12,
   "metadata": {},
   "outputs": [
    {
     "name": "stdout",
     "output_type": "stream",
     "text": [
      "{'a': 0, 'b': 0, 'c': 0}\n"
     ]
    }
   ],
   "source": [
    "keys = ['a', 'b', 'c']\n",
    "default_value = 0\n",
    "\n",
    "new_dict = dict.fromkeys(keys, default_value)\n",
    "\n",
    "print(new_dict)\n"
   ]
  },
  {
   "cell_type": "markdown",
   "metadata": {},
   "source": [
    "In this example, we use the fromkeys() method to create a new dictionary called new_dict. We pass the list keys as the iterable containing the keys of the new dictionary. Additionally, we specify default_value as the optional value to be assigned to each key. As a result, the new dictionary contains keys 'a', 'b', and 'c', with each key assigned the value 0.\n",
    "\n",
    "If the value parameter is not provided, None will be used as the default value for all keys:"
   ]
  },
  {
   "cell_type": "code",
   "execution_count": 13,
   "metadata": {},
   "outputs": [
    {
     "name": "stdout",
     "output_type": "stream",
     "text": [
      "{'a': None, 'b': None, 'c': None}\n"
     ]
    }
   ],
   "source": [
    "keys = ['a', 'b', 'c']\n",
    "\n",
    "new_dict = dict.fromkeys(keys)\n",
    "\n",
    "print(new_dict)\n"
   ]
  },
  {
   "cell_type": "markdown",
   "metadata": {},
   "source": [
    "In this example, since the value parameter is not provided, None is used as the default value for all keys in the new dictionary."
   ]
  },
  {
   "cell_type": "markdown",
   "metadata": {},
   "source": [
    "####  11. popitem( )\n",
    "____"
   ]
  },
  {
   "cell_type": "markdown",
   "metadata": {},
   "source": [
    "\n",
    "\n",
    "``` python\n",
    "dict.popitem()\n",
    "\n",
    "```\n",
    "The popitem() method in Python removes and returns an arbitrary key-value pair from the dictionary. This method is useful when you want to remove and process items in an arbitrary order.\n",
    "\n",
    "Quick note:\n",
    "\n",
    "- Syntax: dict.popitem()\n",
    "- Parameters: None\n",
    "- Returns: A tuple representing an arbitrary key-value pair removed from the dictionary.\n",
    "Example:"
   ]
  },
  {
   "cell_type": "code",
   "execution_count": 14,
   "metadata": {},
   "outputs": [
    {
     "name": "stdout",
     "output_type": "stream",
     "text": [
      "Removed Item: ('c', 3)\n",
      "Updated Dictionary: {'a': 1, 'b': 2}\n"
     ]
    }
   ],
   "source": [
    "my_dict = {\"a\": 1, \"b\": 2, \"c\": 3}\n",
    "\n",
    "removed_item = my_dict.popitem()\n",
    "print(\"Removed Item:\", removed_item)  # Output: Removed Item: ('c', 3)\n",
    "\n",
    "print(\"Updated Dictionary:\", my_dict)  # Output: Updated Dictionary: {'a': 1, 'b': 2}\n"
   ]
  },
  {
   "cell_type": "markdown",
   "metadata": {},
   "source": [
    "In this example, popitem() removes an arbitrary key-value pair from the dictionary my_dict and returns it as a tuple. The removed item is then printed, along with the updated dictionary after the removal."
   ]
  }
 ],
 "metadata": {
  "kernelspec": {
   "display_name": "base",
   "language": "python",
   "name": "python3"
  },
  "language_info": {
   "codemirror_mode": {
    "name": "ipython",
    "version": 3
   },
   "file_extension": ".py",
   "mimetype": "text/x-python",
   "name": "python",
   "nbconvert_exporter": "python",
   "pygments_lexer": "ipython3",
   "version": "3.11.5"
  }
 },
 "nbformat": 4,
 "nbformat_minor": 2
}
