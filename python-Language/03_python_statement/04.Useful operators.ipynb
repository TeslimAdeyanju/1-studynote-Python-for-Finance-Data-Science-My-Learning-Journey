{
 "cells": [
  {
   "cell_type": "markdown",
   "metadata": {},
   "source": [
    "# USEFUL OPERATOR\n"
   ]
  },
  {
   "cell_type": "markdown",
   "metadata": {},
   "source": [
    "The following are useful operator:\n",
    "- `range`\n",
    "- `enumerate`\n",
    "- `zip`\n",
    "- `in`\n",
    "- `random`\n",
    "- `in`"
   ]
  },
  {
   "cell_type": "markdown",
   "metadata": {},
   "source": [
    "## The range ( ) function\n",
    "___"
   ]
  },
  {
   "cell_type": "markdown",
   "metadata": {},
   "source": [
    "In Python, the range() function is used to generate a sequence of numbers. It is commonly used in loops to iterate over a sequence of numbers. The range() function can take one, two, or three parameters:\n",
    "\n",
    "- Start number (optional): This parameter specifies the starting value of the sequence. If omitted, it defaults to 0.\n",
    "  \n",
    "- Stop number (required): This parameter specifies the end value of the sequence. The sequence will include all numbers up to, but not including, this value.\n",
    "  \n",
    "- Step size (optional): This parameter specifies the step or increment between each number in the sequence. If omitted, it defaults to 1.\n",
    "  \n",
    "Here's the general syntax of the range() function: "
   ]
  },
  {
   "cell_type": "raw",
   "metadata": {},
   "source": [
    "range (start, stop, step)"
   ]
  },
  {
   "cell_type": "code",
   "execution_count": 4,
   "metadata": {},
   "outputs": [
    {
     "name": "stdout",
     "output_type": "stream",
     "text": [
      "0\n",
      "1\n",
      "2\n",
      "3\n",
      "4\n"
     ]
    }
   ],
   "source": [
    "# Generating a sequence of numbers from 0 to 5:\n",
    "for i in range(5):\n",
    "    print(i)"
   ]
  },
  {
   "cell_type": "code",
   "execution_count": 5,
   "metadata": {},
   "outputs": [
    {
     "name": "stdout",
     "output_type": "stream",
     "text": [
      "2\n",
      "4\n",
      "6\n",
      "8\n"
     ]
    }
   ],
   "source": [
    "# Generating a sequence of numbers from 2 to 10 (exclusive), with a step size of 2:\n",
    "for i in range(2, 10, 2):\n",
    "    print(i)"
   ]
  },
  {
   "cell_type": "code",
   "execution_count": 7,
   "metadata": {},
   "outputs": [
    {
     "name": "stdout",
     "output_type": "stream",
     "text": [
      "5\n",
      "4\n",
      "3\n",
      "2\n"
     ]
    }
   ],
   "source": [
    "# Generating a sequence of numbers from 5 to 1 (exclusive), with a step size of -1 (to count down):\n",
    "for i in range(5, 1, -1):\n",
    "    print(i)"
   ]
  },
  {
   "cell_type": "markdown",
   "metadata": {},
   "source": [
    "Note that `range` is a **generator function**, which is a special type of function that will generate information and not need to save it to memory. So to actually get a `list` out of range, we need to cast it to a `list` with list().    "
   ]
  },
  {
   "cell_type": "code",
   "execution_count": 8,
   "metadata": {},
   "outputs": [
    {
     "name": "stdout",
     "output_type": "stream",
     "text": [
      "[0, 1, 2, 3, 4]\n"
     ]
    }
   ],
   "source": [
    "my_list = list(range(5))\n",
    "print(my_list)  # Output: [0, 1, 2, 3, 4]\n"
   ]
  },
  {
   "cell_type": "code",
   "execution_count": 9,
   "metadata": {},
   "outputs": [
    {
     "data": {
      "text/plain": [
       "[0, 10, 20, 30, 40, 50, 60, 70, 80, 90, 100]"
      ]
     },
     "execution_count": 9,
     "metadata": {},
     "output_type": "execute_result"
    }
   ],
   "source": [
    "list(range(0,101,10))"
   ]
  },
  {
   "cell_type": "markdown",
   "metadata": {},
   "source": [
    "* One parameters: if one parameters is provide in the range function, the function returns integer values from o to n - 1. Example: range (stop)"
   ]
  },
  {
   "cell_type": "code",
   "execution_count": 10,
   "metadata": {},
   "outputs": [
    {
     "data": {
      "text/plain": [
       "[0, 1, 2]"
      ]
     },
     "execution_count": 10,
     "metadata": {},
     "output_type": "execute_result"
    }
   ],
   "source": [
    "list(range(3))"
   ]
  },
  {
   "cell_type": "markdown",
   "metadata": {},
   "source": [
    "What happens if you provide a negative value?"
   ]
  },
  {
   "cell_type": "code",
   "execution_count": 11,
   "metadata": {},
   "outputs": [
    {
     "data": {
      "text/plain": [
       "[]"
      ]
     },
     "execution_count": 11,
     "metadata": {},
     "output_type": "execute_result"
    }
   ],
   "source": [
    "list(range(-3))"
   ]
  },
  {
   "cell_type": "markdown",
   "metadata": {},
   "source": [
    "The fact that it returned an empty list tells us that range() is internally coded to traverse to the right.\n",
    "\n",
    "And there are no integers from 0 to the right -3, because -3 falls to the left of 0. Check list(range(0))"
   ]
  },
  {
   "cell_type": "code",
   "execution_count": 12,
   "metadata": {},
   "outputs": [
    {
     "data": {
      "text/plain": [
       "[]"
      ]
     },
     "execution_count": 12,
     "metadata": {},
     "output_type": "execute_result"
    }
   ],
   "source": [
    "list(range(0))"
   ]
  },
  {
   "cell_type": "markdown",
   "metadata": {},
   "source": [
    "* Two parameters: The format for two parameters arguments is range(start, stop):"
   ]
  },
  {
   "cell_type": "code",
   "execution_count": 13,
   "metadata": {},
   "outputs": [
    {
     "data": {
      "text/plain": [
       "[1, 2, 3, 4, 5, 6]"
      ]
     },
     "execution_count": 13,
     "metadata": {},
     "output_type": "execute_result"
    }
   ],
   "source": [
    "list(range(1,7))"
   ]
  },
  {
   "cell_type": "markdown",
   "metadata": {},
   "source": [
    "Here, both arguments are positive. Also, 7 falls to the right of 1. So, it prints integers from 1 to 6 (7-1).\n",
    "\n",
    "Hence, we conclude that it prints integers from the first number to one from the second.\n",
    "\n",
    "Now we try passing arguments where the first is greater than the second."
   ]
  },
  {
   "cell_type": "code",
   "execution_count": 14,
   "metadata": {},
   "outputs": [
    {
     "data": {
      "text/plain": [
       "[]"
      ]
     },
     "execution_count": 14,
     "metadata": {},
     "output_type": "execute_result"
    }
   ],
   "source": [
    "list(range(7,1))"
   ]
  },
  {
   "cell_type": "markdown",
   "metadata": {},
   "source": [
    "To back what we just said, it returns an empty list because 7 falls to the right of 1, and it traverses to the right from 7. Therefore, it never reaches 1.\n",
    "\n",
    "In section a, we saw that we can’t pass a negative argument to range(). But it is indeed possible to pass a negative value or two when you pass two or more arguments.\n",
    "\n",
    "Let’s see how."
   ]
  },
  {
   "cell_type": "code",
   "execution_count": 16,
   "metadata": {},
   "outputs": [
    {
     "data": {
      "text/plain": [
       "[-7, -6, -5, -4, -3, -2, -1, 0, 1, 2]"
      ]
     },
     "execution_count": 16,
     "metadata": {},
     "output_type": "execute_result"
    }
   ],
   "source": [
    "list(range(-7,3))"
   ]
  },
  {
   "cell_type": "code",
   "execution_count": 22,
   "metadata": {},
   "outputs": [
    {
     "data": {
      "text/plain": [
       "[]"
      ]
     },
     "execution_count": 22,
     "metadata": {},
     "output_type": "execute_result"
    }
   ],
   "source": [
    "list(range(-3,-7))"
   ]
  },
  {
   "cell_type": "markdown",
   "metadata": {},
   "source": [
    "This, again, returns an empty list, for -3 lies to the right of -7."
   ]
  },
  {
   "cell_type": "markdown",
   "metadata": {},
   "source": [
    "* Three parameters: After bragging about how you can’t have the second argument smaller than the first one, now we tell you that you can. But on one condition- you must specify a negative interval. Example "
   ]
  },
  {
   "cell_type": "code",
   "execution_count": 23,
   "metadata": {},
   "outputs": [
    {
     "data": {
      "text/plain": [
       "[7, 5, 3]"
      ]
     },
     "execution_count": 23,
     "metadata": {},
     "output_type": "execute_result"
    }
   ],
   "source": [
    "list(range(7,1,-2))"
   ]
  },
  {
   "cell_type": "code",
   "execution_count": 24,
   "metadata": {},
   "outputs": [
    {
     "data": {
      "text/plain": [
       "[7, 5, 3, 1]"
      ]
     },
     "execution_count": 24,
     "metadata": {},
     "output_type": "execute_result"
    }
   ],
   "source": [
    "list(range(7,0,-2))"
   ]
  },
  {
   "cell_type": "code",
   "execution_count": 25,
   "metadata": {},
   "outputs": [
    {
     "data": {
      "text/plain": [
       "[7]"
      ]
     },
     "execution_count": 25,
     "metadata": {},
     "output_type": "execute_result"
    }
   ],
   "source": [
    "list(range(7,1,-8))"
   ]
  },
  {
   "cell_type": "markdown",
   "metadata": {},
   "source": [
    "- Note that all the three arguments must always be an integers only. Any attempt to use other data datatype will return an error. Example:"
   ]
  },
  {
   "cell_type": "code",
   "execution_count": 1,
   "metadata": {},
   "outputs": [
    {
     "ename": "TypeError",
     "evalue": "'float' object cannot be interpreted as an integer",
     "output_type": "error",
     "traceback": [
      "\u001b[0;31m---------------------------------------------------------------------------\u001b[0m",
      "\u001b[0;31mTypeError\u001b[0m                                 Traceback (most recent call last)",
      "Cell \u001b[0;32mIn[1], line 1\u001b[0m\n\u001b[0;32m----> 1\u001b[0m \u001b[38;5;28mlist\u001b[39m(\u001b[38;5;28mrange\u001b[39m(\u001b[38;5;241m7\u001b[39m,\u001b[38;5;241m1\u001b[39m,\u001b[38;5;241m1.5\u001b[39m))\n",
      "\u001b[0;31mTypeError\u001b[0m: 'float' object cannot be interpreted as an integer"
     ]
    }
   ],
   "source": [
    "list(range(7,1,1.5))"
   ]
  },
  {
   "cell_type": "markdown",
   "metadata": {},
   "source": [
    "Again, an interval cannot be zero because you need to go from one number to another. Example "
   ]
  },
  {
   "cell_type": "code",
   "execution_count": 27,
   "metadata": {},
   "outputs": [
    {
     "ename": "ValueError",
     "evalue": "range() arg 3 must not be zero",
     "output_type": "error",
     "traceback": [
      "\u001b[0;31m---------------------------------------------------------------------------\u001b[0m",
      "\u001b[0;31mValueError\u001b[0m                                Traceback (most recent call last)",
      "Cell \u001b[0;32mIn[27], line 1\u001b[0m\n\u001b[0;32m----> 1\u001b[0m \u001b[38;5;28mlist\u001b[39m(\u001b[38;5;28mrange\u001b[39m(\u001b[38;5;241m7\u001b[39m,\u001b[38;5;241m1\u001b[39m,\u001b[38;5;241m0\u001b[39m))\n",
      "\u001b[0;31mValueError\u001b[0m: range() arg 3 must not be zero"
     ]
    }
   ],
   "source": [
    "list(range(7,1,0))"
   ]
  },
  {
   "cell_type": "markdown",
   "metadata": {},
   "source": [
    "## The enumerate ( ) function \n",
    "___"
   ]
  },
  {
   "cell_type": "markdown",
   "metadata": {},
   "source": [
    "The enumerate function in Python is a built-in function that allows you to loop over a list, tuple, string, or other iterable object and have access to both the **index** and the item in each iteration.\n",
    "\n",
    "When you call enumerate on an iterable, it returns an enumerate object which generates pairs containing the index and the corresponding item from the iterable.\n",
    "\n",
    "\n",
    "\n",
    "The syntax of the enumerate() function is as follows:"
   ]
  },
  {
   "cell_type": "raw",
   "metadata": {},
   "source": [
    "enumerate(iterable, start = 0)"
   ]
  },
  {
   "cell_type": "markdown",
   "metadata": {},
   "source": [
    "- iterable: This is the iterable (e.g., list, tuple, string) that you want to enumerate.\n",
    "  \n",
    "- start (optional): This parameter specifies the starting index for the enumeration. By default, it is set to 0, but you can specify a different value if needed.\n",
    "Here's an example of how you can use the enumerate() function:\n",
    "\n",
    "Let imagine the following example:"
   ]
  },
  {
   "cell_type": "code",
   "execution_count": 32,
   "metadata": {},
   "outputs": [
    {
     "name": "stdout",
     "output_type": "stream",
     "text": [
      "At index 0 the letter is a\n",
      "At index 1 the letter is b\n",
      "At index 2 the letter is c\n",
      "At index 3 the letter is d\n",
      "At index 4 the letter is e\n"
     ]
    }
   ],
   "source": [
    "\n",
    "index = 0\n",
    "\n",
    "for letter in 'abcde':\n",
    "    print(\"At index {} the letter is {}\".format(index,letter))\n",
    "    index =  index + 1"
   ]
  },
  {
   "cell_type": "markdown",
   "metadata": {},
   "source": [
    "The provided Python code is a simple loop that iterates over each character in the string 'abcde', while manually keeping track of the index of each character.\n",
    "\n",
    "The variable [`index`](command:_github.copilot.openSymbolInFile?%5B%22..%2F..%2F..%2F..%2F.vscode%2Fextensions%2Fms-python.vscode-pylance-2024.3.1%2Fdist%2Ftypeshed-fallback%2Fstdlib%2Fbuiltins.pyi%22%2C%22index%22%5D \"../../../../.vscode/extensions/ms-python.vscode-pylance-2024.3.1/dist/typeshed-fallback/stdlib/builtins.pyi\") is initialized to 0. This variable is used to keep track of the current index of the character being processed.\n",
    "\n",
    "The `for` loop then iterates over each character (`letter`) in the string 'abcde'. For each character, it executes the body of the loop, which consists of a [`print`](command:_github.copilot.openSymbolInFile?%5B%22..%2F..%2F..%2F..%2F.vscode%2Fextensions%2Fms-python.vscode-pylance-2024.3.1%2Fdist%2Ftypeshed-fallback%2Fstdlib%2Fbuiltins.pyi%22%2C%22print%22%5D \"../../../../.vscode/extensions/ms-python.vscode-pylance-2024.3.1/dist/typeshed-fallback/stdlib/builtins.pyi\") statement and an increment operation.\n",
    "\n",
    "The [`print`](command:_github.copilot.openSymbolInFile?%5B%22..%2F..%2F..%2F..%2F.vscode%2Fextensions%2Fms-python.vscode-pylance-2024.3.1%2Fdist%2Ftypeshed-fallback%2Fstdlib%2Fbuiltins.pyi%22%2C%22print%22%5D \"../../../../.vscode/extensions/ms-python.vscode-pylance-2024.3.1/dist/typeshed-fallback/stdlib/builtins.pyi\") statement uses the [`format`](command:_github.copilot.openSymbolInFile?%5B%22..%2F..%2F..%2F..%2F.vscode%2Fextensions%2Fms-python.vscode-pylance-2024.3.1%2Fdist%2Ftypeshed-fallback%2Fstdlib%2Fbuiltins.pyi%22%2C%22format%22%5D \"../../../../.vscode/extensions/ms-python.vscode-pylance-2024.3.1/dist/typeshed-fallback/stdlib/builtins.pyi\") method of the string to insert the current values of [`index`](command:_github.copilot.openSymbolInFile?%5B%22..%2F..%2F..%2F..%2F.vscode%2Fextensions%2Fms-python.vscode-pylance-2024.3.1%2Fdist%2Ftypeshed-fallback%2Fstdlib%2Fbuiltins.pyi%22%2C%22index%22%5D \"../../../../.vscode/extensions/ms-python.vscode-pylance-2024.3.1/dist/typeshed-fallback/stdlib/builtins.pyi\") and `letter` into the string. The `{}` placeholders in the string \"At index {} the letter is {}\" are replaced by [`index`](command:_github.copilot.openSymbolInFile?%5B%22..%2F..%2F..%2F..%2F.vscode%2Fextensions%2Fms-python.vscode-pylance-2024.3.1%2Fdist%2Ftypeshed-fallback%2Fstdlib%2Fbuiltins.pyi%22%2C%22index%22%5D \"../../../../.vscode/extensions/ms-python.vscode-pylance-2024.3.1/dist/typeshed-fallback/stdlib/builtins.pyi\") and `letter`, respectively. So, for each iteration, it prints a line like \"At index 0 the letter is a\".\n",
    "\n",
    "After the [`print`](command:_github.copilot.openSymbolInFile?%5B%22..%2F..%2F..%2F..%2F.vscode%2Fextensions%2Fms-python.vscode-pylance-2024.3.1%2Fdist%2Ftypeshed-fallback%2Fstdlib%2Fbuiltins.pyi%22%2C%22print%22%5D \"../../../../.vscode/extensions/ms-python.vscode-pylance-2024.3.1/dist/typeshed-fallback/stdlib/builtins.pyi\") statement, the [`index`](command:_github.copilot.openSymbolInFile?%5B%22..%2F..%2F..%2F..%2F.vscode%2Fextensions%2Fms-python.vscode-pylance-2024.3.1%2Fdist%2Ftypeshed-fallback%2Fstdlib%2Fbuiltins.pyi%22%2C%22index%22%5D \"../../../../.vscode/extensions/ms-python.vscode-pylance-2024.3.1/dist/typeshed-fallback/stdlib/builtins.pyi\") variable is incremented by 1 (`index = index + 1`). This prepares [`index`](command:_github.copilot.openSymbolInFile?%5B%22..%2F..%2F..%2F..%2F.vscode%2Fextensions%2Fms-python.vscode-pylance-2024.3.1%2Fdist%2Ftypeshed-fallback%2Fstdlib%2Fbuiltins.pyi%22%2C%22index%22%5D \"../../../../.vscode/extensions/ms-python.vscode-pylance-2024.3.1/dist/typeshed-fallback/stdlib/builtins.pyi\") for the next iteration, where it will correctly represent the index of the next character.\n",
    "\n",
    "This loop continues until all characters in the string 'abcde' have been processed. The result is a printout of the index and value of each character in the string."
   ]
  },
  {
   "cell_type": "markdown",
   "metadata": {},
   "source": [
    "Keeping track of how many loops you've gone through is so common, that enumerate was created so you don't need to worry about creating and updating this index_count or loop_count variable"
   ]
  },
  {
   "cell_type": "code",
   "execution_count": 36,
   "metadata": {},
   "outputs": [
    {
     "name": "stdout",
     "output_type": "stream",
     "text": [
      "(100, 'a')\n",
      "(101, 'b')\n",
      "(102, 'c')\n",
      "(103, 'd')\n",
      "(104, 'e')\n"
     ]
    }
   ],
   "source": [
    "# Notice the tuple unpacking!\n",
    "for item in enumerate('abcde', start= 100):\n",
    "    print(item)"
   ]
  },
  {
   "cell_type": "markdown",
   "metadata": {},
   "source": [
    "The provided Python code is a loop that iterates over each character in the string 'abcde', using the built-in [`enumerate`](command:_github.copilot.openSymbolInFile?%5B%22..%2F..%2F..%2F..%2F.vscode%2Fextensions%2Fms-python.vscode-pylance-2024.3.1%2Fdist%2Ftypeshed-fallback%2Fstdlib%2Fbuiltins.pyi%22%2C%22enumerate%22%5D \"../../../../.vscode/extensions/ms-python.vscode-pylance-2024.3.1/dist/typeshed-fallback/stdlib/builtins.pyi\") function to keep track of the index of each character. However, in this case, the [`enumerate`](command:_github.copilot.openSymbolInFile?%5B%22..%2F..%2F..%2F..%2F.vscode%2Fextensions%2Fms-python.vscode-pylance-2024.3.1%2Fdist%2Ftypeshed-fallback%2Fstdlib%2Fbuiltins.pyi%22%2C%22enumerate%22%5D \"../../../../.vscode/extensions/ms-python.vscode-pylance-2024.3.1/dist/typeshed-fallback/stdlib/builtins.pyi\") function is given a second argument, [`start=100`](command:_github.copilot.openSymbolInFile?%5B%22..%2F..%2F..%2F..%2F.vscode%2Fextensions%2Fms-python.vscode-pylance-2024.3.1%2Fdist%2Ftypeshed-fallback%2Fstdlib%2Fbuiltins.pyi%22%2C%22start%3D100%22%5D \"../../../../.vscode/extensions/ms-python.vscode-pylance-2024.3.1/dist/typeshed-fallback/stdlib/builtins.pyi\"), which sets the starting value of the index.\n",
    "\n",
    "The [`enumerate`](command:_github.copilot.openSymbolInFile?%5B%22..%2F..%2F..%2F..%2F.vscode%2Fextensions%2Fms-python.vscode-pylance-2024.3.1%2Fdist%2Ftypeshed-fallback%2Fstdlib%2Fbuiltins.pyi%22%2C%22enumerate%22%5D \"../../../../.vscode/extensions/ms-python.vscode-pylance-2024.3.1/dist/typeshed-fallback/stdlib/builtins.pyi\") function is a built-in Python function that takes an iterable (like a string, list, or tuple) and returns an iterator that produces tuples. Each tuple contains two elements: the index of the current item and the item itself. By default, [`enumerate`](command:_github.copilot.openSymbolInFile?%5B%22..%2F..%2F..%2F..%2F.vscode%2Fextensions%2Fms-python.vscode-pylance-2024.3.1%2Fdist%2Ftypeshed-fallback%2Fstdlib%2Fbuiltins.pyi%22%2C%22enumerate%22%5D \"../../../../.vscode/extensions/ms-python.vscode-pylance-2024.3.1/dist/typeshed-fallback/stdlib/builtins.pyi\") starts counting the index from 0. However, you can change the starting index by providing a second argument to [`enumerate`](command:_github.copilot.openSymbolInFile?%5B%22..%2F..%2F..%2F..%2F.vscode%2Fextensions%2Fms-python.vscode-pylance-2024.3.1%2Fdist%2Ftypeshed-fallback%2Fstdlib%2Fbuiltins.pyi%22%2C%22enumerate%22%5D \"../../../../.vscode/extensions/ms-python.vscode-pylance-2024.3.1/dist/typeshed-fallback/stdlib/builtins.pyi\"), as is done in this code. Here, the iterable is the string 'abcde', and the starting index is set to 100.\n",
    "\n",
    "The `for` loop then iterates over these tuples. Unlike the previous example, this code does not unpack the tuple into separate variables. Instead, it assigns the entire tuple to the variable `item`.\n",
    "\n",
    "Inside the loop, a [`print`](command:_github.copilot.openSymbolInFile?%5B%22..%2F..%2F..%2F..%2F.vscode%2Fextensions%2Fms-python.vscode-pylance-2024.3.1%2Fdist%2Ftypeshed-fallback%2Fstdlib%2Fbuiltins.pyi%22%2C%22print%22%5D \"../../../../.vscode/extensions/ms-python.vscode-pylance-2024.3.1/dist/typeshed-fallback/stdlib/builtins.pyi\") statement is executed. This statement prints the current value of `item`, which is a tuple containing the index and value of the current character. So, for each iteration, it prints a line like \"(100, 'a')\", with the index starting at 100 and incrementing by 1 for each subsequent character.\n",
    "\n",
    "This loop continues until all characters in the string 'abcde' have been processed. The result is a printout of the index and value of each character in the string as tuples, with the index starting at 100. The use of `enumerate` here simplifies the code by automatically handling the tracking of the current index."
   ]
  },
  {
   "cell_type": "code",
   "execution_count": 34,
   "metadata": {},
   "outputs": [
    {
     "name": "stdout",
     "output_type": "stream",
     "text": [
      "At index 0 the letter is a\n",
      "At index 1 the letter is b\n",
      "At index 2 the letter is c\n",
      "At index 3 the letter is d\n",
      "At index 4 the letter is e\n"
     ]
    }
   ],
   "source": [
    "for x,letter in enumerate('abcde'):\n",
    "    print(\"At index {} the letter is {}\".format(x,letter))"
   ]
  },
  {
   "cell_type": "markdown",
   "metadata": {},
   "source": [
    "The provided Python code is a loop that iterates over each character in the string 'abcde', while using the built-in [`enumerate`](command:_github.copilot.openSymbolInFile?%5B%22..%2F..%2F..%2F..%2F.vscode%2Fextensions%2Fms-python.vscode-pylance-2024.3.1%2Fdist%2Ftypeshed-fallback%2Fstdlib%2Fbuiltins.pyi%22%2C%22enumerate%22%5D \"../../../../.vscode/extensions/ms-python.vscode-pylance-2024.3.1/dist/typeshed-fallback/stdlib/builtins.pyi\") function to keep track of the index of each character.\n",
    "\n",
    "The [`enumerate`](command:_github.copilot.openSymbolInFile?%5B%22..%2F..%2F..%2F..%2F.vscode%2Fextensions%2Fms-python.vscode-pylance-2024.3.1%2Fdist%2Ftypeshed-fallback%2Fstdlib%2Fbuiltins.pyi%22%2C%22enumerate%22%5D \"../../../../.vscode/extensions/ms-python.vscode-pylance-2024.3.1/dist/typeshed-fallback/stdlib/builtins.pyi\") function is a built-in Python function that takes an iterable (like a string, list, or tuple) and returns an iterator that produces tuples. Each tuple contains two elements: the index of the current item and the item itself. In this case, the iterable is the string 'abcde'.\n",
    "\n",
    "The `for` loop then iterates over these tuples. The tuple is unpacked into two variables, [`x`](command:_github.copilot.openSymbolInFile?%5B%22..%2F..%2F..%2F..%2F.vscode%2Fextensions%2Fms-python.vscode-pylance-2024.3.1%2Fdist%2Ftypeshed-fallback%2Fstdlib%2Fbuiltins.pyi%22%2C%22x%22%5D \"../../../../.vscode/extensions/ms-python.vscode-pylance-2024.3.1/dist/typeshed-fallback/stdlib/builtins.pyi\") and `letter`, using Python's tuple unpacking feature. [`x`](command:_github.copilot.openSymbolInFile?%5B%22..%2F..%2F..%2F..%2F.vscode%2Fextensions%2Fms-python.vscode-pylance-2024.3.1%2Fdist%2Ftypeshed-fallback%2Fstdlib%2Fbuiltins.pyi%22%2C%22x%22%5D \"../../../../.vscode/extensions/ms-python.vscode-pylance-2024.3.1/dist/typeshed-fallback/stdlib/builtins.pyi\") will hold the index of the current character, and `letter` will hold the character itself.\n",
    "\n",
    "Inside the loop, a [`print`](command:_github.copilot.openSymbolInFile?%5B%22..%2F..%2F..%2F..%2F.vscode%2Fextensions%2Fms-python.vscode-pylance-2024.3.1%2Fdist%2Ftypeshed-fallback%2Fstdlib%2Fbuiltins.pyi%22%2C%22print%22%5D \"../../../../.vscode/extensions/ms-python.vscode-pylance-2024.3.1/dist/typeshed-fallback/stdlib/builtins.pyi\") statement is executed. This statement uses the [`format`](command:_github.copilot.openSymbolInFile?%5B%22..%2F..%2F..%2F..%2F.vscode%2Fextensions%2Fms-python.vscode-pylance-2024.3.1%2Fdist%2Ftypeshed-fallback%2Fstdlib%2Fbuiltins.pyi%22%2C%22format%22%5D \"../../../../.vscode/extensions/ms-python.vscode-pylance-2024.3.1/dist/typeshed-fallback/stdlib/builtins.pyi\") method of the string to insert the current values of [`x`](command:_github.copilot.openSymbolInFile?%5B%22..%2F..%2F..%2F..%2F.vscode%2Fextensions%2Fms-python.vscode-pylance-2024.3.1%2Fdist%2Ftypeshed-fallback%2Fstdlib%2Fbuiltins.pyi%22%2C%22x%22%5D \"../../../../.vscode/extensions/ms-python.vscode-pylance-2024.3.1/dist/typeshed-fallback/stdlib/builtins.pyi\") and `letter` into the string. The `{}` placeholders in the string \"At index {} the letter is {}\" are replaced by [`x`](command:_github.copilot.openSymbolInFile?%5B%22..%2F..%2F..%2F..%2F.vscode%2Fextensions%2Fms-python.vscode-pylance-2024.3.1%2Fdist%2Ftypeshed-fallback%2Fstdlib%2Fbuiltins.pyi%22%2C%22x%22%5D \"../../../../.vscode/extensions/ms-python.vscode-pylance-2024.3.1/dist/typeshed-fallback/stdlib/builtins.pyi\") and `letter`, respectively. So, for each iteration, it prints a line like \"At index 0 the letter is a\".\n",
    "\n",
    "This loop continues until all characters in the string 'abcde' have been processed. The result is a printout of the index and value of each character in the string. The use of [`enumerate`](command:_github.copilot.openSymbolInFile?%5B%22..%2F..%2F..%2F..%2F.vscode%2Fextensions%2Fms-python.vscode-pylance-2024.3.1%2Fdist%2Ftypeshed-fallback%2Fstdlib%2Fbuiltins.pyi%22%2C%22enumerate%22%5D \"../../../../.vscode/extensions/ms-python.vscode-pylance-2024.3.1/dist/typeshed-fallback/stdlib/builtins.pyi\") here simplifies the code by automatically handling the tracking of the current index."
   ]
  },
  {
   "cell_type": "code",
   "execution_count": 28,
   "metadata": {},
   "outputs": [
    {
     "name": "stdout",
     "output_type": "stream",
     "text": [
      "0 apple\n",
      "1 banana\n",
      "2 cherry\n"
     ]
    }
   ],
   "source": [
    "my_list = ['apple', 'banana', 'cherry']\n",
    "for index, fruit in enumerate(my_list):\n",
    "    print(index, fruit)\n"
   ]
  },
  {
   "cell_type": "markdown",
   "metadata": {},
   "source": [
    "Thus, the format for the use of enumerate is: "
   ]
  },
  {
   "cell_type": "raw",
   "metadata": {},
   "source": [
    "for index, value in enumerate(iterable, start = 0):\n",
    "    print(index, value)"
   ]
  },
  {
   "cell_type": "markdown",
   "metadata": {},
   "source": [
    "## The Zip function \n",
    "___"
   ]
  },
  {
   "cell_type": "markdown",
   "metadata": {},
   "source": [
    "The zip() function in Python is a built-in function that is used to combine corresponding elements from multiple iterable objects (like lists, tuples, etc.). The result is an iterator of tuples, where the first item in each passed iterator is paired together, then the second item in each passed iterator are paired together, and so on.\n",
    "\n",
    "If the passed iterators have different lengths, the iterator with the least items decides the length of the new iterator.\n",
    "Here's the syntax of the zip() function:\n",
    "\n"
   ]
  },
  {
   "cell_type": "raw",
   "metadata": {},
   "source": [
    "zip(iterable1, iterable2, ...)"
   ]
  },
  {
   "cell_type": "code",
   "execution_count": 10,
   "metadata": {},
   "outputs": [
    {
     "name": "stdout",
     "output_type": "stream",
     "text": [
      "[(1, 'a'), (2, 'b'), (3, 'c')]\n"
     ]
    }
   ],
   "source": [
    "list1 = [1, 2, 3]\n",
    "list2 = ['a', 'b', 'c']\n",
    "result = zip(list1, list2)\n",
    "\n",
    "# Convert the iterator to a list to print it out\n",
    "print(list(result))"
   ]
  },
  {
   "cell_type": "markdown",
   "metadata": {},
   "source": [
    "This Python code snippet demonstrates the use of the built-in [`zip()`](command:_github.copilot.openSymbolInFile?%5B%22..%2F..%2F..%2F..%2F.vscode%2Fextensions%2Fms-python.vscode-pylance-2024.3.2%2Fdist%2Ftypeshed-fallback%2Fstdlib%2Fbuiltins.pyi%22%2C%22zip()%22%5D \"../../../../.vscode/extensions/ms-python.vscode-pylance-2024.3.2/dist/typeshed-fallback/stdlib/builtins.pyi\") function. \n",
    "\n",
    "The [`zip()`](command:_github.copilot.openSymbolInFile?%5B%22..%2F..%2F..%2F..%2F.vscode%2Fextensions%2Fms-python.vscode-pylance-2024.3.2%2Fdist%2Ftypeshed-fallback%2Fstdlib%2Fbuiltins.pyi%22%2C%22zip()%22%5D \"../../../../.vscode/extensions/ms-python.vscode-pylance-2024.3.2/dist/typeshed-fallback/stdlib/builtins.pyi\") function takes in iterables as arguments and returns an iterator. This iterator generates a series of tuples containing elements from the input iterables. The first element in each input iterable is paired together, then the second element in each input iterable is paired together, and so on. If the input iterables are not of the same length, [`zip()`](command:_github.copilot.openSymbolInFile?%5B%22..%2F..%2F..%2F..%2F.vscode%2Fextensions%2Fms-python.vscode-pylance-2024.3.2%2Fdist%2Ftypeshed-fallback%2Fstdlib%2Fbuiltins.pyi%22%2C%22zip()%22%5D \"../../../../.vscode/extensions/ms-python.vscode-pylance-2024.3.2/dist/typeshed-fallback/stdlib/builtins.pyi\") stops creating tuples when the shortest iterable is exhausted.\n",
    "\n",
    "In the code, `list1` and `list2` are two lists that are passed as arguments to the [`zip()`](command:_github.copilot.openSymbolInFile?%5B%22..%2F..%2F..%2F..%2F.vscode%2Fextensions%2Fms-python.vscode-pylance-2024.3.2%2Fdist%2Ftypeshed-fallback%2Fstdlib%2Fbuiltins.pyi%22%2C%22zip()%22%5D \"../../../../.vscode/extensions/ms-python.vscode-pylance-2024.3.2/dist/typeshed-fallback/stdlib/builtins.pyi\") function. The [`zip()`](command:_github.copilot.openSymbolInFile?%5B%22..%2F..%2F..%2F..%2F.vscode%2Fextensions%2Fms-python.vscode-pylance-2024.3.2%2Fdist%2Ftypeshed-fallback%2Fstdlib%2Fbuiltins.pyi%22%2C%22zip()%22%5D \"../../../../.vscode/extensions/ms-python.vscode-pylance-2024.3.2/dist/typeshed-fallback/stdlib/builtins.pyi\") function pairs the corresponding elements from `list1` and `list2` together, creating a new iterator of tuples. This iterator is stored in the `result` variable.\n",
    "\n",
    "The [`print()`](command:_github.copilot.openSymbolInFile?%5B%22..%2F..%2F..%2F..%2F.vscode%2Fextensions%2Fms-python.vscode-pylance-2024.3.2%2Fdist%2Ftypeshed-fallback%2Fstdlib%2Fbuiltins.pyi%22%2C%22print()%22%5D \"../../../../.vscode/extensions/ms-python.vscode-pylance-2024.3.2/dist/typeshed-fallback/stdlib/builtins.pyi\") function is then used to print out the contents of the `result` iterator. However, since `result` is an iterator and not a list, it needs to be converted to a list first. This is done using the [`list()`](command:_github.copilot.openSymbolInFile?%5B%22..%2F..%2F..%2F..%2F.vscode%2Fextensions%2Fms-python.vscode-pylance-2024.3.2%2Fdist%2Ftypeshed-fallback%2Fstdlib%2Fbuiltins.pyi%22%2C%22list()%22%5D \"../../../../.vscode/extensions/ms-python.vscode-pylance-2024.3.2/dist/typeshed-fallback/stdlib/builtins.pyi\") function. The [`list()`](command:_github.copilot.openSymbolInFile?%5B%22..%2F..%2F..%2F..%2F.vscode%2Fextensions%2Fms-python.vscode-pylance-2024.3.2%2Fdist%2Ftypeshed-fallback%2Fstdlib%2Fbuiltins.pyi%22%2C%22list()%22%5D \"../../../../.vscode/extensions/ms-python.vscode-pylance-2024.3.2/dist/typeshed-fallback/stdlib/builtins.pyi\") function takes an iterable as an argument and returns a new list containing the elements of the iterable.\n",
    "\n",
    "So, the [`print(list(result))`](command:_github.copilot.openSymbolInFile?%5B%22..%2F..%2F..%2F..%2F.vscode%2Fextensions%2Fms-python.vscode-pylance-2024.3.2%2Fdist%2Ftypeshed-fallback%2Fstdlib%2Fbuiltins.pyi%22%2C%22print(list(result))%22%5D \"../../../../.vscode/extensions/ms-python.vscode-pylance-2024.3.2/dist/typeshed-fallback/stdlib/builtins.pyi\") line converts the `result` iterator to a list and then prints out this list. The output of this code will be `[(1, 'a'), (2, 'b'), (3, 'c')]`, which is a list of tuples where each tuple contains one element from `list1` and the corresponding element from `list2`."
   ]
  },
  {
   "cell_type": "markdown",
   "metadata": {},
   "source": [
    "- if we did not convert the result in the above example to a list before printing, the result will only be zip file object as a file. See Example: "
   ]
  },
  {
   "cell_type": "code",
   "execution_count": 11,
   "metadata": {},
   "outputs": [
    {
     "name": "stdout",
     "output_type": "stream",
     "text": [
      "<zip object at 0x109130980>\n"
     ]
    }
   ],
   "source": [
    "# example of zip file object\n",
    "mylist1 = [1,2,3,4,5]\n",
    "mylist2 = ['a','b','c','d','e']\n",
    "print(zip(mylist1,mylist2))"
   ]
  },
  {
   "cell_type": "markdown",
   "metadata": {},
   "source": [
    "Note that instead of `list` function, we can equally use the `set`, `dict`, or `tuple`. Example "
   ]
  },
  {
   "cell_type": "code",
   "execution_count": 56,
   "metadata": {},
   "outputs": [
    {
     "name": "stdout",
     "output_type": "stream",
     "text": [
      "{(3, 'c'), (4, 'd'), (5, 'e'), (1, 'a'), (2, 'b')}\n"
     ]
    }
   ],
   "source": [
    "# example of zip file object with set\n",
    "mylist1 = [1,2,3,4,5]\n",
    "mylist2 = ['a','b','c','d','e']\n",
    "print(set(zip(mylist1,mylist2)))"
   ]
  },
  {
   "cell_type": "code",
   "execution_count": 57,
   "metadata": {},
   "outputs": [
    {
     "name": "stdout",
     "output_type": "stream",
     "text": [
      "{1: 'a', 2: 'b', 3: 'c', 4: 'd', 5: 'e'}\n"
     ]
    }
   ],
   "source": [
    "# example of zip file object with dict\n",
    "mylist1 = [1,2,3,4,5]\n",
    "mylist2 = ['a','b','c','d','e']\n",
    "print(dict(zip(mylist1,mylist2)))"
   ]
  },
  {
   "cell_type": "code",
   "execution_count": 59,
   "metadata": {},
   "outputs": [
    {
     "name": "stdout",
     "output_type": "stream",
     "text": [
      "((1, 'a'), (2, 'b'), (3, 'c'), (4, 'd'), (5, 'e'))\n"
     ]
    }
   ],
   "source": [
    "# example of zip file object with tuple\n",
    "mylist1 = [1,2,3,4,5]\n",
    "mylist2 = ['a','b','c','d','e']\n",
    "print(tuple(zip(mylist1,mylist2)))"
   ]
  },
  {
   "cell_type": "code",
   "execution_count": 13,
   "metadata": {},
   "outputs": [
    {
     "name": "stdout",
     "output_type": "stream",
     "text": [
      "Alice is 30 years old and lives in New York\n",
      "Bob is 25 years old and lives in Los Angeles\n",
      "Charlie is 35 years old and lives in Chicago\n"
     ]
    }
   ],
   "source": [
    "# Another example of zip file object\n",
    "\n",
    "names = ['Alice', 'Bob', 'Charlie']\n",
    "ages = [30, 25, 35]\n",
    "cities = ['New York', 'Los Angeles', 'Chicago']\n",
    "zip(names, ages, cities)\n",
    "\n",
    "# Convert the iterator to a list to print it out\n",
    "for name, age, city in zip(names, ages, cities):\n",
    "    print(name, 'is', age, 'years old and lives in', city)\n"
   ]
  },
  {
   "cell_type": "markdown",
   "metadata": {},
   "source": [
    "The active selection is a simple Python script that demonstrates the use of the [`zip()`](command:_github.copilot.openSymbolInFile?%5B%22..%2F..%2F..%2F..%2F.vscode%2Fextensions%2Fms-python.vscode-pylance-2024.3.2%2Fdist%2Ftypeshed-fallback%2Fstdlib%2Fbuiltins.pyi%22%2C%22zip()%22%5D \"../../../../.vscode/extensions/ms-python.vscode-pylance-2024.3.2/dist/typeshed-fallback/stdlib/builtins.pyi\") function. \n",
    "\n",
    "The [`zip()`](command:_github.copilot.openSymbolInFile?%5B%22..%2F..%2F..%2F..%2F.vscode%2Fextensions%2Fms-python.vscode-pylance-2024.3.2%2Fdist%2Ftypeshed-fallback%2Fstdlib%2Fbuiltins.pyi%22%2C%22zip()%22%5D \"../../../../.vscode/extensions/ms-python.vscode-pylance-2024.3.2/dist/typeshed-fallback/stdlib/builtins.pyi\") function is a built-in Python function that allows you to combine corresponding elements from multiple lists (or other iterable objects) into a single iterable. In this case, it's being used to combine three lists: `names`, `ages`, and `cities`.\n",
    "\n",
    "The `names`, `ages`, and `cities` lists are defined at the beginning of the script. Each list contains three elements, and each element in a list corresponds to the same-indexed elements in the other lists. For example, 'Alice' in the `names` list corresponds to '30' in the `ages` list and 'New York' in the `cities` list.\n",
    "\n",
    "The `zip(names, ages, cities)` line creates a zip object that pairs up the corresponding elements from the `names`, `ages`, and `cities` lists. This zip object is an iterator, which means it's a type of object that you can loop over.\n",
    "\n",
    "The `for` loop at the end of the script demonstrates how to iterate over the zip object. In each iteration of the loop, the [`zip()`](command:_github.copilot.openSymbolInFile?%5B%22..%2F..%2F..%2F..%2F.vscode%2Fextensions%2Fms-python.vscode-pylance-2024.3.2%2Fdist%2Ftypeshed-fallback%2Fstdlib%2Fbuiltins.pyi%22%2C%22zip()%22%5D \"../../../../.vscode/extensions/ms-python.vscode-pylance-2024.3.2/dist/typeshed-fallback/stdlib/builtins.pyi\") function returns a tuple containing the next set of corresponding elements from the `names`, `ages`, and `cities` lists. These elements are unpacked into the [`name`](command:_github.copilot.openSymbolInFile?%5B%22..%2F..%2F..%2F..%2F.vscode%2Fextensions%2Fms-python.vscode-pylance-2024.3.2%2Fdist%2Ftypeshed-fallback%2Fstdlib%2Fbuiltins.pyi%22%2C%22name%22%5D \"../../../../.vscode/extensions/ms-python.vscode-pylance-2024.3.2/dist/typeshed-fallback/stdlib/builtins.pyi\"), `age`, and `city` variables, which are then printed out.\n",
    "\n",
    "The [`print()`](command:_github.copilot.openSymbolInFile?%5B%22..%2F..%2F..%2F..%2F.vscode%2Fextensions%2Fms-python.vscode-pylance-2024.3.2%2Fdist%2Ftypeshed-fallback%2Fstdlib%2Fbuiltins.pyi%22%2C%22print()%22%5D \"../../../../.vscode/extensions/ms-python.vscode-pylance-2024.3.2/dist/typeshed-fallback/stdlib/builtins.pyi\") function is used to print out a string that includes the [`name`](command:_github.copilot.openSymbolInFile?%5B%22..%2F..%2F..%2F..%2F.vscode%2Fextensions%2Fms-python.vscode-pylance-2024.3.2%2Fdist%2Ftypeshed-fallback%2Fstdlib%2Fbuiltins.pyi%22%2C%22name%22%5D \"../../../../.vscode/extensions/ms-python.vscode-pylance-2024.3.2/dist/typeshed-fallback/stdlib/builtins.pyi\"), `age`, and `city` variables. The string is constructed using string concatenation, which is a way of joining together multiple strings into one. In this case, it's being used to join together the [`name`](command:_github.copilot.openSymbolInFile?%5B%22..%2F..%2F..%2F..%2F.vscode%2Fextensions%2Fms-python.vscode-pylance-2024.3.2%2Fdist%2Ftypeshed-fallback%2Fstdlib%2Fbuiltins.pyi%22%2C%22name%22%5D \"../../../../.vscode/extensions/ms-python.vscode-pylance-2024.3.2/dist/typeshed-fallback/stdlib/builtins.pyi\"), `age`, and `city` variables with some additional text to create a sentence that describes each person."
   ]
  },
  {
   "cell_type": "markdown",
   "metadata": {},
   "source": [
    "If the input iterables are of different lengths, the resulting iterator will have the length of the shortest iterable. For instance:"
   ]
  },
  {
   "cell_type": "code",
   "execution_count": 14,
   "metadata": {},
   "outputs": [
    {
     "name": "stdout",
     "output_type": "stream",
     "text": [
      "1 a\n",
      "2 b\n"
     ]
    }
   ],
   "source": [
    "numbers = [1, 2, 3]\n",
    "letters = ['a', 'b']\n",
    "\n",
    "for num, letter in zip(numbers, letters):\n",
    "    print(num, letter)\n"
   ]
  },
  {
   "cell_type": "markdown",
   "metadata": {},
   "source": [
    "Here's an example of how you can use the `zip()` function to combine a list and a dictionary in Python:\n",
    "\n"
   ]
  },
  {
   "cell_type": "code",
   "execution_count": null,
   "metadata": {},
   "outputs": [],
   "source": [
    "# Define a list and a dictionary\n",
    "numbers = [1, 2, 3]\n",
    "letters_dict = {1: 'a', 2: 'b', 3: 'c'}\n",
    "\n",
    "# Use the zip() function to combine the list and the dictionary\n",
    "for num, letter in zip(numbers, letters_dict.values()):\n",
    "    print(num, letter)"
   ]
  },
  {
   "cell_type": "markdown",
   "metadata": {},
   "source": [
    "\n",
    "\n",
    "In this example, the `zip()` function is used to create an iterator that combines the `numbers` list and the values of the `letters_dict` dictionary. The `for` loop then iterates over this iterator, printing out each number and corresponding letter. Note that we use the `values()` method of the dictionary to get an iterable of its values, which can be used with `zip()`."
   ]
  },
  {
   "cell_type": "code",
   "execution_count": 28,
   "metadata": {},
   "outputs": [
    {
     "name": "stdout",
     "output_type": "stream",
     "text": [
      "1 name\n",
      "2 age\n",
      "3 address\n",
      "4 occupation\n",
      "5 number\n"
     ]
    }
   ],
   "source": [
    "# Define a tuple and a dictionary\n",
    "info = dict(\n",
    "    name = 'Teslim',\n",
    "    age = 25,\n",
    "    address = '57 Draper Close',\n",
    "    occupation = 'software developer',\n",
    "    number = [2,3,4,5,6,6,]\n",
    "    ) # this is a dictionary\n",
    "\n",
    "number = (1,2,3,4,5,6,7,8,9,10) # this is a tuple\n",
    "\n",
    "for x, y in zip(number, info.keys()): # zip function is used to combine two or more iterable objects\n",
    "    print(x, y)"
   ]
  },
  {
   "cell_type": "markdown",
   "metadata": {},
   "source": [
    "The active selection of code is written in Python and it begins by defining a dictionary and a tuple. \n",
    "\n",
    "The dictionary is named `info` and it contains five key-value pairs. The keys are 'name', 'age', 'address', 'occupation', and 'number'. The corresponding values are 'Teslim', 25, '57 Draper Close', 'software developer', and a list of numbers [2,3,4,5,6,6], respectively. The [`dict()`](command:_github.copilot.openSymbolInFile?%5B%22..%2F..%2F..%2F..%2F.vscode%2Fextensions%2Fms-python.vscode-pylance-2024.3.2%2Fdist%2Ftypeshed-fallback%2Fstdlib%2Fbuiltins.pyi%22%2C%22dict()%22%5D \"../../../../.vscode/extensions/ms-python.vscode-pylance-2024.3.2/dist/typeshed-fallback/stdlib/builtins.pyi\") function is used to create this dictionary.\n",
    "\n",
    "Next, a tuple named [`number`](command:_github.copilot.openSymbolInFile?%5B%22..%2F..%2F..%2F..%2F.vscode%2Fextensions%2Fms-python.vscode-pylance-2024.3.2%2Fdist%2Ftypeshed-fallback%2Fstdlib%2Fbuiltins.pyi%22%2C%22number%22%5D \"../../../../.vscode/extensions/ms-python.vscode-pylance-2024.3.2/dist/typeshed-fallback/stdlib/builtins.pyi\") is defined. This tuple contains ten elements, which are the numbers from 1 to 10.\n",
    "\n",
    "The last line of the code begins a `for` loop that is intended to iterate over two iterables simultaneously using the [`zip()`](command:_github.copilot.openSymbolInFile?%5B%22..%2F..%2F..%2F..%2F.vscode%2Fextensions%2Fms-python.vscode-pylance-2024.3.2%2Fdist%2Ftypeshed-fallback%2Fstdlib%2Fbuiltins.pyi%22%2C%22zip()%22%5D \"../../../../.vscode/extensions/ms-python.vscode-pylance-2024.3.2/dist/typeshed-fallback/stdlib/builtins.pyi\") function. The [`zip()`](command:_github.copilot.openSymbolInFile?%5B%22..%2F..%2F..%2F..%2F.vscode%2Fextensions%2Fms-python.vscode-pylance-2024.3.2%2Fdist%2Ftypeshed-fallback%2Fstdlib%2Fbuiltins.pyi%22%2C%22zip()%22%5D \"../../../../.vscode/extensions/ms-python.vscode-pylance-2024.3.2/dist/typeshed-fallback/stdlib/builtins.pyi\") function takes two or more iterable objects, aggregates them in a tuple, and returns it. Here, [`number`](command:_github.copilot.openSymbolInFile?%5B%22..%2F..%2F..%2F..%2F.vscode%2Fextensions%2Fms-python.vscode-pylance-2024.3.2%2Fdist%2Ftypeshed-fallback%2Fstdlib%2Fbuiltins.pyi%22%2C%22number%22%5D \"../../../../.vscode/extensions/ms-python.vscode-pylance-2024.3.2/dist/typeshed-fallback/stdlib/builtins.pyi\") and another iterable (which is not fully defined in the code selection) are intended to be passed into [`zip()`](command:_github.copilot.openSymbolInFile?%5B%22..%2F..%2F..%2F..%2F.vscode%2Fextensions%2Fms-python.vscode-pylance-2024.3.2%2Fdist%2Ftypeshed-fallback%2Fstdlib%2Fbuiltins.pyi%22%2C%22zip()%22%5D \"../../../../.vscode/extensions/ms-python.vscode-pylance-2024.3.2/dist/typeshed-fallback/stdlib/builtins.pyi\"). The `for` loop would then iterate over these tuples, with [`x`](command:_github.copilot.openSymbolInFile?%5B%22..%2F..%2F..%2F..%2F.vscode%2Fextensions%2Fms-python.vscode-pylance-2024.3.2%2Fdist%2Ftypeshed-fallback%2Fstdlib%2Fbuiltins.pyi%22%2C%22x%22%5D \"../../../../.vscode/extensions/ms-python.vscode-pylance-2024.3.2/dist/typeshed-fallback/stdlib/builtins.pyi\") representing an element from [`number`](command:_github.copilot.openSymbolInFile?%5B%22..%2F..%2F..%2F..%2F.vscode%2Fextensions%2Fms-python.vscode-pylance-2024.3.2%2Fdist%2Ftypeshed-fallback%2Fstdlib%2Fbuiltins.pyi%22%2C%22number%22%5D \"../../../../.vscode/extensions/ms-python.vscode-pylance-2024.3.2/dist/typeshed-fallback/stdlib/builtins.pyi\") and `y` representing the corresponding element from the other iterable.\n",
    "\n",
    "However, the code is incomplete as the second iterable in the [`zip()`](command:_github.copilot.openSymbolInFile?%5B%22..%2F..%2F..%2F..%2F.vscode%2Fextensions%2Fms-python.vscode-pylance-2024.3.2%2Fdist%2Ftypeshed-fallback%2Fstdlib%2Fbuiltins.pyi%22%2C%22zip()%22%5D \"../../../../.vscode/extensions/ms-python.vscode-pylance-2024.3.2/dist/typeshed-fallback/stdlib/builtins.pyi\") function is not fully defined (it's just 'i'). This would result in a syntax error if you try to run it."
   ]
  },
  {
   "cell_type": "code",
   "execution_count": 55,
   "metadata": {},
   "outputs": [
    {
     "name": "stdout",
     "output_type": "stream",
     "text": [
      "Alice is a science student with ID number 1\n",
      "Bob is a commercial student with ID number 2\n",
      "Charlie is a Computer Science student with ID number 3\n"
     ]
    }
   ],
   "source": [
    "# Student Database with a dictionary\n",
    "# Define a dictionary with student names as keys and their information as values\n",
    "students = {\n",
    "    'Alice': {'age': 25, 'major': 'Mathematics'},\n",
    "    'Bob': {'age': 22, 'major': 'Engineering'},\n",
    "    'Charlie': {'age': 26, 'major': 'Computer Science'}\n",
    "}\n",
    "\n",
    "# Define a list of class names and a list of ID numbers\n",
    "class_name = ['science', 'commercial', 'Computer Science']\n",
    "id_card = [1,2,3]\n",
    "\n",
    "# Combine the dictionary and the lists using the zip() function\n",
    "zip(students.keys(), class_name, id_card)\n",
    "\n",
    "# loop through the zipped object\n",
    "for name, major, id in zip(students.keys(), class_name, id_card):\n",
    "    print(name, 'is a', major, 'student with ID number', id)"
   ]
  },
  {
   "cell_type": "markdown",
   "metadata": {},
   "source": [
    "## Unzipping Values in Python\n",
    "___"
   ]
  },
  {
   "cell_type": "markdown",
   "metadata": {},
   "source": [
    "Now we know how to zip values together. But how to unzip them? Well, we use the `*` character with the zip() function."
   ]
  },
  {
   "cell_type": "code",
   "execution_count": 29,
   "metadata": {},
   "outputs": [
    {
     "name": "stdout",
     "output_type": "stream",
     "text": [
      "(1, 'a', '#')\n",
      "(2, 'b', '*')\n",
      "(3, 'c', '$')\n"
     ]
    }
   ],
   "source": [
    "# Define a list and a dictionary, and zip it.\n",
    "for i in zip([1,2,3],['a','b','c'],['#','*','$']):\n",
    "    print(i)"
   ]
  },
  {
   "cell_type": "code",
   "execution_count": 38,
   "metadata": {},
   "outputs": [
    {
     "name": "stdout",
     "output_type": "stream",
     "text": [
      "(1, 2, 3)\n"
     ]
    }
   ],
   "source": [
    "# Define a list and a dictionary, and unzip it.\n",
    "t = zip([1,2,3],['a','b','c'],['#','*','$'])\n",
    "z, y, k = zip(*t)\n",
    "print(z)"
   ]
  },
  {
   "cell_type": "markdown",
   "metadata": {},
   "source": [
    "This Python code snippet demonstrates the use of the [`zip()`](command:_github.copilot.openSymbolInFile?%5B%22..%2F..%2F..%2F..%2F.vscode%2Fextensions%2Fms-python.vscode-pylance-2024.3.2%2Fdist%2Ftypeshed-fallback%2Fstdlib%2Fbuiltins.pyi%22%2C%22zip()%22%5D \"../../../../.vscode/extensions/ms-python.vscode-pylance-2024.3.2/dist/typeshed-fallback/stdlib/builtins.pyi\") function and the unpacking operator `*`.\n",
    "\n",
    "The [`zip()`](command:_github.copilot.openSymbolInFile?%5B%22..%2F..%2F..%2F..%2F.vscode%2Fextensions%2Fms-python.vscode-pylance-2024.3.2%2Fdist%2Ftypeshed-fallback%2Fstdlib%2Fbuiltins.pyi%22%2C%22zip()%22%5D \"../../../../.vscode/extensions/ms-python.vscode-pylance-2024.3.2/dist/typeshed-fallback/stdlib/builtins.pyi\") function is used to combine corresponding elements from multiple iterable objects (like lists or tuples) into tuples. In this case, [`zip()`](command:_github.copilot.openSymbolInFile?%5B%22..%2F..%2F..%2F..%2F.vscode%2Fextensions%2Fms-python.vscode-pylance-2024.3.2%2Fdist%2Ftypeshed-fallback%2Fstdlib%2Fbuiltins.pyi%22%2C%22zip()%22%5D \"../../../../.vscode/extensions/ms-python.vscode-pylance-2024.3.2/dist/typeshed-fallback/stdlib/builtins.pyi\") is called with three lists as arguments: `[1,2,3]`, `['a','b','c']`, and `['#','*','$']`. The [`zip()`](command:_github.copilot.openSymbolInFile?%5B%22..%2F..%2F..%2F..%2F.vscode%2Fextensions%2Fms-python.vscode-pylance-2024.3.2%2Fdist%2Ftypeshed-fallback%2Fstdlib%2Fbuiltins.pyi%22%2C%22zip()%22%5D \"../../../../.vscode/extensions/ms-python.vscode-pylance-2024.3.2/dist/typeshed-fallback/stdlib/builtins.pyi\") function pairs up the corresponding elements from each list into tuples and returns a zip object. This zip object is an iterator of tuples. Here, it's assigned to the variable `t`.\n",
    "\n",
    "The tuples in `t` are `(1, 'a', '#')`, `(2, 'b', '*')`, and `(3, 'c', '$')`. Each tuple contains one element from each of the input lists, in the order that they were passed to [`zip()`](command:_github.copilot.openSymbolInFile?%5B%22..%2F..%2F..%2F..%2F.vscode%2Fextensions%2Fms-python.vscode-pylance-2024.3.2%2Fdist%2Ftypeshed-fallback%2Fstdlib%2Fbuiltins.pyi%22%2C%22zip()%22%5D \"../../../../.vscode/extensions/ms-python.vscode-pylance-2024.3.2/dist/typeshed-fallback/stdlib/builtins.pyi\").\n",
    "\n",
    "Next, the [`zip(*t)`](command:_github.copilot.openSymbolInFile?%5B%22..%2F..%2F..%2F..%2F.vscode%2Fextensions%2Fms-python.vscode-pylance-2024.3.2%2Fdist%2Ftypeshed-fallback%2Fstdlib%2Fbuiltins.pyi%22%2C%22zip(*t)%22%5D \"../../../../.vscode/extensions/ms-python.vscode-pylance-2024.3.2/dist/typeshed-fallback/stdlib/builtins.pyi\") expression is used. The `*` operator is known as the unpacking operator. When used in a function call, it unpacks an iterable object into its individual elements. Here, it's used to unpack the tuples in `t` back into separate elements. The [`zip(*t)`](command:_github.copilot.openSymbolInFile?%5B%22..%2F..%2F..%2F..%2F.vscode%2Fextensions%2Fms-python.vscode-pylance-2024.3.2%2Fdist%2Ftypeshed-fallback%2Fstdlib%2Fbuiltins.pyi%22%2C%22zip(*t)%22%5D \"../../../../.vscode/extensions/ms-python.vscode-pylance-2024.3.2/dist/typeshed-fallback/stdlib/builtins.pyi\") expression effectively \"unzips\" the tuples, returning three tuples: `(1, 2, 3)`, `('a', 'b', 'c')`, and `('#', '*', '$')`.\n",
    "\n",
    "These three tuples are then unpacked into the variables `z`, `y`, and `k`, respectively. So `z` is assigned the tuple `(1, 2, 3)`, `y` is assigned the tuple `('a', 'b', 'c')`, and `k` is assigned the tuple `('#', '*', '$')`.\n",
    "\n",
    "Finally, the `print(z)` statement prints the tuple `(1, 2, 3)` to the console."
   ]
  },
  {
   "cell_type": "code",
   "execution_count": 39,
   "metadata": {},
   "outputs": [
    {
     "name": "stdout",
     "output_type": "stream",
     "text": [
      "('a', 'b', 'c')\n",
      "('#', '*', '$')\n"
     ]
    }
   ],
   "source": [
    "# printing the values of y and k\n",
    "print(y)\n",
    "print(k)"
   ]
  },
  {
   "cell_type": "code",
   "execution_count": 44,
   "metadata": {},
   "outputs": [
    {
     "name": "stdout",
     "output_type": "stream",
     "text": [
      "1 red\n",
      "2 blue\n",
      "3 green\n",
      "4 yellow\n",
      "5 black\n",
      "6 white\n",
      "7 purple\n",
      "8 pink\n",
      "9 orange\n",
      "10 brown\n"
     ]
    }
   ],
   "source": [
    "# Define a list and a dictionary, and zip it\n",
    "number = (1,2,3,4,5,6,7,8,9,10) # this is a tuple\n",
    "colour = ['red','blue','green','yellow','black','white','purple','pink','orange','brown'] # this is a list\n",
    "zip(number, colour)\n",
    "\n",
    "for x, y in zip(number, colour):\n",
    "    print(x, y)"
   ]
  },
  {
   "cell_type": "code",
   "execution_count": 45,
   "metadata": {},
   "outputs": [
    {
     "name": "stdout",
     "output_type": "stream",
     "text": [
      "(1, 2, 3, 4, 5, 6, 7, 8, 9, 10)\n"
     ]
    }
   ],
   "source": [
    "# unzip the zip file object\n",
    "detail_1, detail_2 = zip(*zip(number, colour))\n",
    "print(detail_1)"
   ]
  },
  {
   "cell_type": "code",
   "execution_count": 46,
   "metadata": {},
   "outputs": [
    {
     "data": {
      "text/plain": [
       "<zip at 0x10919ec80>"
      ]
     },
     "execution_count": 46,
     "metadata": {},
     "output_type": "execute_result"
    }
   ],
   "source": [
    "# Define a tuple and a dictionary\n",
    "info = dict(\n",
    "    name = 'Teslim',\n",
    "    age = 25,\n",
    "    address = '57 Draper Close',\n",
    "    occupation = 'software developer',\n",
    "    number = [2,3,4,5,6,6,]\n",
    "    ) # this is a dictionary\n",
    "\n",
    "number = (1,2,3,4,5,6,7,8,9,10) # this is a tuple\n",
    "\n",
    "zip(number, info.keys())"
   ]
  },
  {
   "cell_type": "code",
   "execution_count": 51,
   "metadata": {},
   "outputs": [
    {
     "name": "stdout",
     "output_type": "stream",
     "text": [
      "('name', 'age', 'address', 'occupation', 'number')\n"
     ]
    }
   ],
   "source": [
    "detail_m, detail_n = zip(*zip(number, info.keys()))\n",
    "print(detail_n)"
   ]
  },
  {
   "cell_type": "markdown",
   "metadata": {},
   "source": [
    "### Python Interview Questions on Zip Function\n",
    "- What is Python zip Function? Explain with example.\n",
    "- What does zip() do in Python?\n",
    "- How to get a zip file in Python?\n",
    "- How do you zip two lists in Python?\n",
    "- Can Python read zip files?"
   ]
  },
  {
   "cell_type": "markdown",
   "metadata": {},
   "source": [
    "## The \"in\" operator\n",
    "___"
   ]
  },
  {
   "cell_type": "markdown",
   "metadata": {},
   "source": [
    "The `in` operator in Python is used to check if a value exists in a sequence like a list, tuple, string, or dictionary. It's a membership operator, used to test membership in a sequence.\n",
    "\n",
    "In the case of a dictionary, it checks if the value is present among the dictionary's keys, not its values.\n",
    "\n",
    "Here are some examples:\n",
    "\n"
   ]
  },
  {
   "cell_type": "code",
   "execution_count": null,
   "metadata": {},
   "outputs": [],
   "source": [
    "# For string\n",
    "print('a' in 'abc')  # Output: True\n",
    "\n",
    "# For list\n",
    "print(1 in [1, 2, 3])  # Output: True\n",
    "\n",
    "# For tuple\n",
    "print('a' in ('a', 'b'))  # Output: True\n",
    "\n",
    "# For dictionary\n",
    "print('a' in {'a': 1, 'b': 2})  # Output: True"
   ]
  },
  {
   "cell_type": "markdown",
   "metadata": {},
   "source": [
    "\n",
    "\n",
    "In each case, the `in` operator returns `True` if the value is found in the sequence, and `False` otherwise.\n",
    "\n",
    "There's also a `not in` operator, which returns `True` if a value is not found in the sequence. For example, `print(4 not in [1, 2, 3])` would output `True`."
   ]
  },
  {
   "cell_type": "markdown",
   "metadata": {},
   "source": [
    "## The \"random\" function \n",
    "___"
   ]
  },
  {
   "cell_type": "markdown",
   "metadata": {},
   "source": [
    "The `random` function in Python is part of the `random` module and is used to generate pseudo-random numbers. Remember to import the `random` module before using these functions with `import random`.\n",
    "\n",
    "Here are some commonly used functions in the `random` module:"
   ]
  },
  {
   "cell_type": "markdown",
   "metadata": {},
   "source": [
    "1. `random.random()`: This function returns a random floating point number in the range [0.0, 1.0)."
   ]
  },
  {
   "cell_type": "code",
   "execution_count": 3,
   "metadata": {},
   "outputs": [
    {
     "name": "stdout",
     "output_type": "stream",
     "text": [
      "0.9481188330896668\n"
     ]
    }
   ],
   "source": [
    "import random\n",
    "print(random.random())"
   ]
  },
  {
   "cell_type": "markdown",
   "metadata": {},
   "source": [
    "2. `random.randint(a, b)`: This function returns a random integer between `a` and `b` (both inclusive)."
   ]
  },
  {
   "cell_type": "code",
   "execution_count": 15,
   "metadata": {},
   "outputs": [
    {
     "name": "stdout",
     "output_type": "stream",
     "text": [
      "6\n"
     ]
    }
   ],
   "source": [
    "import random\n",
    "print(random.randint(1, 18))"
   ]
  },
  {
   "cell_type": "markdown",
   "metadata": {},
   "source": [
    "3. `random.choice(seq)`: This function returns a random element from the non-empty sequence `seq`."
   ]
  },
  {
   "cell_type": "code",
   "execution_count": 23,
   "metadata": {},
   "outputs": [
    {
     "name": "stdout",
     "output_type": "stream",
     "text": [
      "banana\n"
     ]
    }
   ],
   "source": [
    "import random\n",
    "print(random.choice(['apple', 'banana', 'cherry']))  # Output: a random element from the list"
   ]
  },
  {
   "cell_type": "markdown",
   "metadata": {},
   "source": [
    "4. `random.shuffle(seq)`: This function shuffles the sequence `seq` in place."
   ]
  },
  {
   "cell_type": "code",
   "execution_count": 24,
   "metadata": {},
   "outputs": [
    {
     "name": "stdout",
     "output_type": "stream",
     "text": [
      "[3, 5, 1, 4, 2]\n"
     ]
    }
   ],
   "source": [
    "import random\n",
    "list = [1, 2, 3, 4, 5]\n",
    "random.shuffle(list)\n",
    "print(list)  # Output: the list with its elements shuffled"
   ]
  },
  {
   "cell_type": "markdown",
   "metadata": {},
   "source": [
    "5. `from random import shuffle`: This shuffles the list \"in-place\" meaning it won't return anything, instead it will effect the list passed"
   ]
  },
  {
   "cell_type": "markdown",
   "metadata": {},
   "source": [
    "The statement `from random import shuffle` is a way to import a specific function from a module in Python. In this case, it's importing the `shuffle` function from the `random` module.\n",
    "\n",
    "The `shuffle` function is used to randomize the items of a list in place, meaning that the list is changed directly, and no new list is created.\n",
    "\n",
    "Here's an example of how you might use it:"
   ]
  },
  {
   "cell_type": "code",
   "execution_count": 25,
   "metadata": {},
   "outputs": [
    {
     "name": "stdout",
     "output_type": "stream",
     "text": [
      "[3, 1, 4, 5, 2]\n"
     ]
    }
   ],
   "source": [
    "from random import shuffle\n",
    "my_list = [1, 2, 3, 4, 5]\n",
    "shuffle(my_list)\n",
    "\n",
    "print(my_list)  # Outputs my_list with its elements in a random order"
   ]
  },
  {
   "cell_type": "markdown",
   "metadata": {},
   "source": [
    "\n",
    "\n",
    "In this example, `shuffle(my_list)` rearranges the order of elements in `my_list` randomly. The `print(my_list)` statement will then print out this list with its elements in a new, random order.\n",
    "\n",
    "By using `from random import shuffle` instead of `import random`, you can call `shuffle(my_list)` directly instead of having to use `random.shuffle(my_list)`."
   ]
  },
  {
   "cell_type": "markdown",
   "metadata": {},
   "source": [
    "## The \"input\" function\n",
    "___"
   ]
  },
  {
   "cell_type": "markdown",
   "metadata": {},
   "source": [
    "In Python, the `input()` function is used to get input from the user. It reads a line from input, converts it to a string, and returns that string.\n",
    "\n",
    "Here's a basic example:\n",
    "\n"
   ]
  },
  {
   "cell_type": "code",
   "execution_count": 2,
   "metadata": {},
   "outputs": [
    {
     "name": "stdout",
     "output_type": "stream",
     "text": [
      "You entered:  1977\n"
     ]
    }
   ],
   "source": [
    "user_input = input(\"Please enter something: \")\n",
    "print(\"You entered: \", user_input)"
   ]
  },
  {
   "cell_type": "markdown",
   "metadata": {},
   "source": [
    "The provided Python code is a simple program that prompts the user for input and then prints that input to the console.\n",
    "\n",
    "The first line of code, `user_input = input(\"Please enter something: \")`, uses the built-in Python function [`input()`](command:_github.copilot.openSymbolInFile?%5B%22..%2F..%2F..%2F..%2F.vscode%2Fextensions%2Fms-python.vscode-pylance-2024.3.2%2Fdist%2Ftypeshed-fallback%2Fstdlib%2Fbuiltins.pyi%22%2C%22input()%22%5D \"../../../../.vscode/extensions/ms-python.vscode-pylance-2024.3.2/dist/typeshed-fallback/stdlib/builtins.pyi\") to get input from the user. The string inside the parentheses, \"Please enter something: \", is the prompt that will be displayed to the user. The [`input()`](command:_github.copilot.openSymbolInFile?%5B%22..%2F..%2F..%2F..%2F.vscode%2Fextensions%2Fms-python.vscode-pylance-2024.3.2%2Fdist%2Ftypeshed-fallback%2Fstdlib%2Fbuiltins.pyi%22%2C%22input()%22%5D \"../../../../.vscode/extensions/ms-python.vscode-pylance-2024.3.2/dist/typeshed-fallback/stdlib/builtins.pyi\") function waits for the user to type something and press enter. Whatever the user types is returned as a string by the [`input()`](command:_github.copilot.openSymbolInFile?%5B%22..%2F..%2F..%2F..%2F.vscode%2Fextensions%2Fms-python.vscode-pylance-2024.3.2%2Fdist%2Ftypeshed-fallback%2Fstdlib%2Fbuiltins.pyi%22%2C%22input()%22%5D \"../../../../.vscode/extensions/ms-python.vscode-pylance-2024.3.2/dist/typeshed-fallback/stdlib/builtins.pyi\") function and then stored in the `user_input` variable.\n",
    "\n",
    "The second line of code, `print(\"You entered: \", user_input)`, uses the built-in Python function [`print()`](command:_github.copilot.openSymbolInFile?%5B%22..%2F..%2F..%2F..%2F.vscode%2Fextensions%2Fms-python.vscode-pylance-2024.3.2%2Fdist%2Ftypeshed-fallback%2Fstdlib%2Fbuiltins.pyi%22%2C%22print()%22%5D \"../../../../.vscode/extensions/ms-python.vscode-pylance-2024.3.2/dist/typeshed-fallback/stdlib/builtins.pyi\") to display a message to the user. The [`print()`](command:_github.copilot.openSymbolInFile?%5B%22..%2F..%2F..%2F..%2F.vscode%2Fextensions%2Fms-python.vscode-pylance-2024.3.2%2Fdist%2Ftypeshed-fallback%2Fstdlib%2Fbuiltins.pyi%22%2C%22print()%22%5D \"../../../../.vscode/extensions/ms-python.vscode-pylance-2024.3.2/dist/typeshed-fallback/stdlib/builtins.pyi\") function takes one or more arguments and prints them to the console. In this case, it first prints the string \"You entered: \", then a space (because by default, [`print()`](command:_github.copilot.openSymbolInFile?%5B%22..%2F..%2F..%2F..%2F.vscode%2Fextensions%2Fms-python.vscode-pylance-2024.3.2%2Fdist%2Ftypeshed-fallback%2Fstdlib%2Fbuiltins.pyi%22%2C%22print()%22%5D \"../../../../.vscode/extensions/ms-python.vscode-pylance-2024.3.2/dist/typeshed-fallback/stdlib/builtins.pyi\") separates arguments with a space), and finally the value of the `user_input` variable, which is the string that the user entered.\n",
    "\n",
    "So, in summary, this code prompts the user to enter something, waits for the user to type something and press enter, and then prints \"You entered: \" followed by whatever the user typed."
   ]
  },
  {
   "cell_type": "markdown",
   "metadata": {},
   "source": [
    "In this example, the program will print \"Please enter something: \" and then wait for the user to provide input. Whatever the user types will be stored in the `user_input` variable as a string. The program will then print \"You entered: \" followed by whatever the user entered.\n",
    "\n",
    "It's important to note that the `input()` function always returns a string. If you want a number, you'll need to convert the string to the appropriate numeric type. For example:  "
   ]
  },
  {
   "cell_type": "code",
   "execution_count": null,
   "metadata": {},
   "outputs": [],
   "source": [
    "user_input = input(\"Please enter a number: \")\n",
    "number = int(user_input)\n",
    "print(\"You entered the number: \", number)"
   ]
  },
  {
   "cell_type": "markdown",
   "metadata": {},
   "source": [
    "\n",
    "\n",
    "In this example, the `int()` function is used to convert the user's input to an integer. If the user enters something that can't be converted to an integer, this will cause a `ValueError`."
   ]
  }
 ],
 "metadata": {
  "kernelspec": {
   "display_name": "teslim_env",
   "language": "python",
   "name": "python3"
  },
  "language_info": {
   "codemirror_mode": {
    "name": "ipython",
    "version": 3
   },
   "file_extension": ".py",
   "mimetype": "text/x-python",
   "name": "python",
   "nbconvert_exporter": "python",
   "pygments_lexer": "ipython3",
   "version": "3.11.5"
  }
 },
 "nbformat": 4,
 "nbformat_minor": 2
}
