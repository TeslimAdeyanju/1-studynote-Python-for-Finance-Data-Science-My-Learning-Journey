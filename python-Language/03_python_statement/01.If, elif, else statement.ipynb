{
 "cells": [
  {
   "cell_type": "markdown",
   "metadata": {},
   "source": [
    "# IF, ELIF, ELSE STATEMENT"
   ]
  },
  {
   "cell_type": "markdown",
   "metadata": {},
   "source": [
    "## Introduction\n",
    "___"
   ]
  },
  {
   "cell_type": "markdown",
   "metadata": {},
   "source": [
    "- The if...elif...else are the conditional statement in python that provides decision making for a line of coding. \n",
    "- It is important to keep a good understanding of how indentation works in Python to maintain the structure and order of your code. \n",
    "- Note that (==) indicates equality and a single (=) indicates assignment.\n",
    "\n",
    "\n",
    "Python supports the usual logical conditions from mathematics:\n",
    "\n",
    "- Equals: a == b\n",
    "- Not Equals: a != b\n",
    "- Less than: a < b\n",
    "- Less than or equal to: a <= b\n",
    "- Greater than: a > b\n",
    "- Greater than or equal to: a >= b\n",
    "\n",
    "These conditions can be used in several ways, most commonly in \"if statements\" and loops.\n",
    "\n",
    "An \"if statement\" is written by using the `if` keyword."
   ]
  },
  {
   "cell_type": "markdown",
   "metadata": {},
   "source": [
    "## \"if\" condition\n",
    "___"
   ]
  },
  {
   "cell_type": "markdown",
   "metadata": {},
   "source": [
    "The if condition is considered the simplest of the three and makes a decision based on whether the condition is true or not. If the condition is true, it prints out the indented expression. If the condition is false, it skips printing the indented expression. it is written in the following syntax: \n",
    "\n",
    "    if case 1:\n",
    "      perform action 1\n",
    "      \n",
    " Note the importance of the semi-colon at the end of the if statement condition. \n",
    "\n"
   ]
  },
  {
   "cell_type": "code",
   "execution_count": 3,
   "metadata": {},
   "outputs": [
    {
     "name": "stdout",
     "output_type": "stream",
     "text": [
      "The number is even\n"
     ]
    }
   ],
   "source": [
    "T = 4\n",
    "if T % 2 == 0:\n",
    "    print(\"The number is even\")"
   ]
  },
  {
   "cell_type": "code",
   "execution_count": 29,
   "metadata": {},
   "outputs": [
    {
     "name": "stdout",
     "output_type": "stream",
     "text": [
      "John is in the list\n"
     ]
    }
   ],
   "source": [
    "name = \"John\"\n",
    "if name == \"John\":\n",
    "    print(\"John is in the list\")"
   ]
  },
  {
   "cell_type": "markdown",
   "metadata": {},
   "source": [
    "- Example of multiple lines inside if statement\n",
    "\n",
    "It is perfectly fine to have more lines inside the `if` statement, as shown in the below example. The script will return two lines when you run it. If the condition is not passed, the expression is not executed.\n"
   ]
  },
  {
   "cell_type": "code",
   "execution_count": 38,
   "metadata": {},
   "outputs": [
    {
     "name": "stdout",
     "output_type": "stream",
     "text": [
      "checking 4\n",
      "z is even\n"
     ]
    }
   ],
   "source": [
    "z = 4\n",
    "\n",
    "if z % 2 == 0:\n",
    "    print(\"checking\" + \"\" , str (z))\n",
    "    print(\"z is even\")"
   ]
  },
  {
   "cell_type": "code",
   "execution_count": 39,
   "metadata": {},
   "outputs": [
    {
     "name": "stdout",
     "output_type": "stream",
     "text": [
      "The number is non-positive.\n",
      "The number is checking on the second line.\n",
      "The number is float.\n"
     ]
    }
   ],
   "source": [
    "\n",
    "num = - 5\n",
    "\n",
    "if num < 0:\n",
    "    print(\"The number is non-positive.\")\n",
    "    print(\"The number is checking on the second line.\")\n",
    "    print(\"The number is float.\")"
   ]
  },
  {
   "cell_type": "markdown",
   "metadata": {},
   "source": [
    "- Example of a False if statement:\n",
    "\n",
    "Let's change the value of z to be odd. You will notice that the code will not print anything since the condition will not be passed, i.e., False."
   ]
  },
  {
   "cell_type": "code",
   "execution_count": 4,
   "metadata": {},
   "outputs": [],
   "source": [
    "z = 5\n",
    "\n",
    "if z % 2 == 0:  # False\n",
    "    print(\"checking \" + str(z))\n",
    "    print(\"z is even\")"
   ]
  },
  {
   "cell_type": "markdown",
   "metadata": {},
   "source": [
    "## \"if\"  combined with \"else\" condition\n",
    "___\n"
   ]
  },
  {
   "cell_type": "markdown",
   "metadata": {},
   "source": [
    "The if-else condition adds an additional step in the decision-making process compared to the simple if statement. The beginning of an if-else statement operates similar to a simple if statement; however, if the condition is false, instead of printing nothing, the indented expression under else will be printed.\n",
    "\n",
    "\n",
    "    if case1:\n",
    "      perform action1 \n",
    "    else:\n",
    "     perform action2\n",
    "\n",
    "Take note of the colon at the end of the else statement also. "
   ]
  },
  {
   "cell_type": "code",
   "execution_count": 41,
   "metadata": {},
   "outputs": [
    {
     "name": "stdout",
     "output_type": "stream",
     "text": [
      "z is odd\n"
     ]
    }
   ],
   "source": [
    "z = 5\n",
    "\n",
    "if z % 2 == 0:\n",
    "    print(\"z is even\")\n",
    "else:\n",
    "    print(\"z is odd\")"
   ]
  },
  {
   "cell_type": "code",
   "execution_count": 6,
   "metadata": {},
   "outputs": [
    {
     "name": "stdout",
     "output_type": "stream",
     "text": [
      "Wihin the age\n"
     ]
    }
   ],
   "source": [
    "detail = 1977\n",
    "\n",
    "if detail <= 1980:\n",
    "    print(\"Within the age\")\n",
    "else:\n",
    "    print(\"Outside the age\")"
   ]
  },
  {
   "cell_type": "markdown",
   "metadata": {},
   "source": [
    "## \"if\" , \"elif\",  and \"else\" combined\n",
    "___"
   ]
  },
  {
   "cell_type": "markdown",
   "metadata": {},
   "source": [
    "The most complex of these conditions is the if-elif-else condition. When you run into a situation where you have several conditions, you can place as many elif conditions as necessary between the if condition and the else condition.\n",
    "\n",
    "\n",
    "    if case1:\n",
    "      perform action1 \n",
    "    elif case2:\n",
    "     perform action2\n",
    "    else:\n",
    "     perform action3\n",
    "\n",
    "\n",
    "This if-elif-else structure allows the program to evaluate multiple conditions and execute a different block of code for each one. It starts at the top with case1 and moves down, checking each condition in turn until it finds one that is True. If none of the conditions are True, it performs the action in the else block.\n",
    "\n",
    "Note that the if takes a colon after the statement case1, and same with elif also, but the else did not take a statement case but only the colon that is applied. "
   ]
  },
  {
   "cell_type": "code",
   "execution_count": 8,
   "metadata": {},
   "outputs": [
    {
     "name": "stdout",
     "output_type": "stream",
     "text": [
      "Where are you?\n"
     ]
    }
   ],
   "source": [
    "location = 'Ban'\n",
    "\n",
    "if location == 'Auto Shop':\n",
    "    print('Welcome to the Auto Shop!')\n",
    "elif location == 'Bank':\n",
    "    print('Welcome to the bank!')\n",
    "else:\n",
    "    print('Where are you?')"
   ]
  },
  {
   "cell_type": "code",
   "execution_count": 11,
   "metadata": {},
   "outputs": [
    {
     "name": "stdout",
     "output_type": "stream",
     "text": [
      "It's nice\n"
     ]
    }
   ],
   "source": [
    "temperature = 20\n",
    "\n",
    "if temperature < 0:\n",
    "    print(\"It's freezing\")\n",
    "elif 0 <= temperature < 20:\n",
    "    print(\"It's cold\")\n",
    "elif 20 <= temperature < 30:\n",
    "    print(\"It's nice\")\n",
    "else:\n",
    "    print(\"It's hot\")"
   ]
  },
  {
   "cell_type": "markdown",
   "metadata": {},
   "source": [
    "In this example, the program checks the value of the temperature variable and prints a different message depending on its value. If the temperature is less than 0, it prints \"It's freezing\". If the temperature is between 0 and 20 (inclusive), it prints \"It's cold\". If the temperature is between 20 and 30 (inclusive), it prints \"It's nice\". If the temperature is 30 or above, it prints \"It's hot\"."
   ]
  },
  {
   "cell_type": "code",
   "execution_count": 19,
   "metadata": {},
   "outputs": [
    {
     "name": "stdout",
     "output_type": "stream",
     "text": [
      "Looking around in the bedroom.\n",
      "Pretty small.\n"
     ]
    }
   ],
   "source": [
    "# Define variables\n",
    "room = \"bed\"\n",
    "area = 14.0\n",
    "\n",
    "# if-elif-else construct for room\n",
    "if room == \"kit\":\n",
    "    print(\"Looking around in the kitchen.\")\n",
    "elif room == \"bed\":\n",
    "    print(\"Looking around in the bedroom.\")\n",
    "else:\n",
    "    print(\"Looking around elsewhere.\")\n",
    "\n",
    "# if-elif-else construct for area\n",
    "if area > 15:\n",
    "    print(\"Big place!\")\n",
    "else:\n",
    "    print(\"Pretty small.\")"
   ]
  },
  {
   "cell_type": "markdown",
   "metadata": {},
   "source": [
    "## The use of \"and\", \"or\"  Operator \n",
    "___"
   ]
  },
  {
   "cell_type": "markdown",
   "metadata": {},
   "source": [
    "\n",
    "- The \"and\" keyword is a logical operator, and is used to combine conditional statements:\n",
    "  \n",
    "- The \"or\" keyword is a logical operator, and is used to combine conditional statements:\n",
    "\n",
    "- The \"not\" keyword is a logical operator, and is used to reverse the result of the conditional statement:\n",
    "\n",
    "- You can have if statements inside if statements, this is called nested if statements.\n",
    "\n",
    "- if statements cannot be empty, but if you for some reason have an if statement with no content, put in the pass statement to avoid getting an error."
   ]
  },
  {
   "cell_type": "code",
   "execution_count": 4,
   "metadata": {},
   "outputs": [
    {
     "name": "stdout",
     "output_type": "stream",
     "text": [
      "Both conditions are True\n"
     ]
    }
   ],
   "source": [
    "# Test if a is greater than b, AND if c is greater than a:\n",
    "\n",
    "a = 200\n",
    "b = 33\n",
    "c = 500\n",
    "\n",
    "if a > b and c > a:\n",
    "  print(\"Both conditions are True\")"
   ]
  },
  {
   "cell_type": "code",
   "execution_count": 5,
   "metadata": {},
   "outputs": [
    {
     "name": "stdout",
     "output_type": "stream",
     "text": [
      "At least one of the conditions is True\n"
     ]
    }
   ],
   "source": [
    "# Test if a is greater than b, OR if a is greater than c:\n",
    "\n",
    "a = 200\n",
    "b = 33\n",
    "c = 500\n",
    "\n",
    "if a > b or a > c:\n",
    "  print(\"At least one of the conditions is True\")\n"
   ]
  },
  {
   "cell_type": "code",
   "execution_count": 6,
   "metadata": {},
   "outputs": [
    {
     "name": "stdout",
     "output_type": "stream",
     "text": [
      "a is NOT greater than b\n"
     ]
    }
   ],
   "source": [
    "# Test if a is NOT greater than b:\n",
    "\n",
    "a = 33\n",
    "b = 200\n",
    "if not a > b:\n",
    "  print(\"a is NOT greater than b\")"
   ]
  },
  {
   "cell_type": "code",
   "execution_count": 7,
   "metadata": {},
   "outputs": [
    {
     "name": "stdout",
     "output_type": "stream",
     "text": [
      "Above ten,\n",
      "and also above 20!\n"
     ]
    }
   ],
   "source": [
    "# Nested if\n",
    "\n",
    "x = 41\n",
    "\n",
    "if x > 10:\n",
    "  print(\"Above ten,\")\n",
    "  if x > 20:\n",
    "    print(\"and also above 20!\")\n",
    "  else:\n",
    "    print(\"but not above 20.\")"
   ]
  },
  {
   "cell_type": "code",
   "execution_count": 3,
   "metadata": {},
   "outputs": [],
   "source": [
    "# Pass statement\n",
    "\n",
    "a = 33\n",
    "b = 200\n",
    "\n",
    "if b > a:\n",
    "  pass"
   ]
  }
 ],
 "metadata": {
  "kernelspec": {
   "display_name": "python-tutorial-env",
   "language": "python",
   "name": "python3"
  },
  "language_info": {
   "codemirror_mode": {
    "name": "ipython",
    "version": 3
   },
   "file_extension": ".py",
   "mimetype": "text/x-python",
   "name": "python",
   "nbconvert_exporter": "python",
   "pygments_lexer": "ipython3",
   "version": "3.13.0"
  }
 },
 "nbformat": 4,
 "nbformat_minor": 2
}
