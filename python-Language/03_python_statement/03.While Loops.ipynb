{
 "cells": [
  {
   "cell_type": "markdown",
   "metadata": {},
   "source": [
    "# WHILE LOOPS"
   ]
  },
  {
   "cell_type": "markdown",
   "metadata": {},
   "source": [
    "## Introduction\n",
    "___"
   ]
  },
  {
   "cell_type": "markdown",
   "metadata": {},
   "source": [
    "The `while` statement in Python is one of most general ways to perform iteration. A while statement will repeatedly execute a single statement or group of statements as long as the condition is true. The reason it is called a 'loop' is because the code statements are looped through over and over again until the condition is no longer met.\n",
    "\n",
    "The general format of a while loop is:"
   ]
  },
  {
   "cell_type": "raw",
   "metadata": {},
   "source": [
    "\n",
    "while condition:\n",
    "    print(\"code block to execute while the condition is True\")\n"
   ]
  },
  {
   "cell_type": "markdown",
   "metadata": {},
   "source": [
    "Here's how the while loop works:\n",
    "\n",
    "- Evaluate the `condition`. If the condition is True, the code block inside the loop is executed. If the condition is False, the loop is skipped entirely, and the program continues with the next statement after the loop.\n",
    "  \n",
    "- After executing the code block inside the loop, the condition is evaluated again. If it's still True, the code block is executed again. This process continues until the condition becomes False.\n",
    "\n",
    "- When the condition becomes False, the while loop terminates, and the program continues with the next statement after the loop."
   ]
  },
  {
   "cell_type": "markdown",
   "metadata": {},
   "source": [
    "The main difference between Python For Loop Versus Python While Loop is that Python for loop is usually used when the number of iterations is known, whereas Python while loop is used when the number of iterations is unknown"
   ]
  },
  {
   "cell_type": "code",
   "execution_count": null,
   "metadata": {},
   "outputs": [
    {
     "name": "stdout",
     "output_type": "stream",
     "text": [
      "1\n",
      "2\n",
      "3\n",
      "4\n",
      "5\n"
     ]
    }
   ],
   "source": [
    "counter = 1 #this is the initialization\n",
    "while counter <= 5: # this is the condition\n",
    "    print(counter)\n",
    "    counter = counter + 1 # this is the increment"
   ]
  },
  {
   "cell_type": "markdown",
   "metadata": {},
   "source": [
    "This Python code snippet is a simple demonstration of a `while` loop. The loop is controlled by the condition `counter <= 5`.\n",
    "\n",
    "The variable `counter` is initially set to 1. The `while` loop will continue to execute as long as the value of `counter` is less than or equal to 5. Inside the loop, two things happen:\n",
    "\n",
    "1. The current value of `counter` is printed to the console using the [`print`](command:_github.copilot.openSymbolInFile?%5B%22..%2F..%2F..%2F..%2F.vscode%2Fextensions%2Fms-python.vscode-pylance-2024.3.1%2Fdist%2Ftypeshed-fallback%2Fstdlib%2Fbuiltins.pyi%22%2C%22print%22%5D \"../../../../.vscode/extensions/ms-python.vscode-pylance-2024.3.1/dist/typeshed-fallback/stdlib/builtins.pyi\") function. This function outputs the value passed to it to the console. In this case, it's used to print the current value of `counter`.\n",
    "\n",
    "2. The `counter += 1` statement increments `counter` by 1. This is equivalent to `counter = counter + 1`. This operation is crucial as it ensures that the loop doesn't run indefinitely. Without it, `counter` would always remain 1, the `while` condition would always be true, and the loop would never exit.\n",
    "\n",
    "The loop will continue to execute, printing the value of `counter` and incrementing `counter` by 1 each time, until `counter` is no longer less than or equal to 5. At that point, the condition `counter <= 5` will be false, and the loop will terminate. The result of this code will be the numbers 1 through 5 printed on separate lines."
   ]
  },
  {
   "cell_type": "code",
   "execution_count": null,
   "metadata": {},
   "outputs": [
    {
     "name": "stdout",
     "output_type": "stream",
     "text": [
      "3\n",
      "4\n"
     ]
    }
   ],
   "source": [
    "# While loop example\n",
    "a = 3\n",
    "b = 5\n",
    "while a < b: # note the colon\n",
    "    print(a)\n",
    "    a = a + 1"
   ]
  },
  {
   "cell_type": "markdown",
   "metadata": {},
   "source": [
    "This Python code snippet demonstrates the use of a `while` loop to print out a sequence of numbers.\n",
    "\n",
    "Two variables, `a` and `b`, are initially set to 3 and 5 respectively. The `while` loop will continue to execute as long as the value of `a` is less than `b`. Inside the loop, two operations are performed:\n",
    "\n",
    "1. The current value of `a` is printed to the console using the [`print`](command:_github.copilot.openSymbolInFile?%5B%22..%2F..%2F..%2F..%2F.vscode%2Fextensions%2Fms-python.vscode-pylance-2024.3.1%2Fdist%2Ftypeshed-fallback%2Fstdlib%2Fbuiltins.pyi%22%2C%22print%22%5D \"../../../../.vscode/extensions/ms-python.vscode-pylance-2024.3.1/dist/typeshed-fallback/stdlib/builtins.pyi\") function. This function outputs the value passed to it to the console. In this case, it's used to print the current value of `a`.\n",
    "\n",
    "2. The `a += 1` statement increments `a` by 1. This is equivalent to `a = a + 1`. This operation is crucial as it ensures that the loop doesn't run indefinitely. Without it, `a` would always remain 3, the `while` condition would always be true, and the loop would never exit.\n",
    "\n",
    "The loop will continue to execute, printing the value of `a` and incrementing `a` by 1 each time, until `a` is no longer less than `b`. At that point, the condition `a < b` will be false, and the loop will terminate. The result of this code will be the numbers 3 and 4 printed on separate lines."
   ]
  },
  {
   "cell_type": "markdown",
   "metadata": {},
   "source": [
    "## Types of While loop\n",
    "___"
   ]
  },
  {
   "cell_type": "markdown",
   "metadata": {},
   "source": [
    "The `while` loop is divided into 3 part; \n",
    "- An Infinite Loop\n",
    "- The else statement for while loop\n",
    "- Single Statement while"
   ]
  },
  {
   "cell_type": "markdown",
   "metadata": {},
   "source": [
    "## An Infinite Loop\n",
    "___"
   ]
  },
  {
   "cell_type": "markdown",
   "metadata": {},
   "source": [
    "Be careful while using a while loop. Because if you forget to increment the counter variable in python, or write flawed logic, the condition may never become false.\n",
    "\n",
    "In such a case, the loop will run infinitely, and the conditions after the loop will starve. To stop execution, press Ctrl+C.\n",
    "\n",
    "However, an infinite loop may actually be useful. This in cases when a semaphore is needed, or for client/server programming.\n",
    "\n",
    "A semaphore is a variable used solely for synchronization in accessing shared resources.\n",
    "\n"
   ]
  },
  {
   "cell_type": "markdown",
   "metadata": {},
   "source": [
    "##  The \"else\" statement for while loop\n",
    "___"
   ]
  },
  {
   "cell_type": "markdown",
   "metadata": {},
   "source": [
    "A `while` loop may have an `else` statement after it. When the condition becomes false, the block under the else statement is executed.\n",
    "\n",
    "However, it doesn’t execute if you break out of the loop or if an exception is raised."
   ]
  },
  {
   "cell_type": "code",
   "execution_count": null,
   "metadata": {},
   "outputs": [
    {
     "name": "stdout",
     "output_type": "stream",
     "text": [
      "1\n",
      "2\n",
      "3\n",
      "4\n",
      "5\n",
      "The loop has ended\n"
     ]
    }
   ],
   "source": [
    "counter = 1\n",
    "while counter <= 5:\n",
    "    print(counter)\n",
    "    counter = counter + 1\n",
    "else:\n",
    "    print(\"The loop has ended\")"
   ]
  },
  {
   "cell_type": "markdown",
   "metadata": {},
   "source": [
    "In the following code, we put a `break` statement in the body of the `while` loop for a==1.So, when that happens, the statement in the else block is not executed."
   ]
  },
  {
   "cell_type": "code",
   "execution_count": null,
   "metadata": {},
   "outputs": [
    {
     "name": "stdout",
     "output_type": "stream",
     "text": [
      "1977\n",
      "1982\n",
      "1987\n",
      "1992\n",
      "1997\n",
      "2002\n",
      "2007\n",
      "2012\n",
      "2017\n",
      "2022\n",
      "multiple of age 2027\n"
     ]
    }
   ],
   "source": [
    "date_of_Birth = 1977\n",
    "while (date_of_Birth <= 2024):\n",
    "    print(date_of_Birth)\n",
    "    date_of_Birth =  date_of_Birth + 5\n",
    "else:\n",
    "    print('multiple of age', date_of_Birth)"
   ]
  },
  {
   "cell_type": "markdown",
   "metadata": {},
   "source": [
    "## Single Statement \"while\"\n",
    "___"
   ]
  },
  {
   "cell_type": "markdown",
   "metadata": {},
   "source": [
    "Like an if statement, if we have only one statement in while’s body, we can write it all in one line."
   ]
  },
  {
   "cell_type": "code",
   "execution_count": null,
   "metadata": {},
   "outputs": [
    {
     "name": "stdout",
     "output_type": "stream",
     "text": [
      "3\n",
      "2\n",
      "1\n"
     ]
    }
   ],
   "source": [
    "a = 3\n",
    "while a > 0: print(a); a-=1;"
   ]
  },
  {
   "cell_type": "markdown",
   "metadata": {},
   "source": [
    "> You can see that there were two statements in while’s body, but we used semicolons to separate them.Without the second statement, it would form an infinite loop"
   ]
  },
  {
   "cell_type": "markdown",
   "metadata": {},
   "source": [
    "This Python code snippet uses a `while` loop to print out a sequence of numbers in descending order, starting from 3 and ending at 1.\n",
    "\n",
    "The variable `a` is initially set to 3. The `while` loop will continue to execute as long as `a` is greater than 0. Inside the loop, two operations are performed:\n",
    "\n",
    "1. The current value of `a` is printed to the console using the [`print`](command:_github.copilot.openSymbolInFile?%5B%22..%2F..%2F..%2F..%2F.vscode%2Fextensions%2Fms-python.vscode-pylance-2024.3.1%2Fdist%2Ftypeshed-fallback%2Fstdlib%2Fbuiltins.pyi%22%2C%22print%22%5D \"../../../../.vscode/extensions/ms-python.vscode-pylance-2024.3.1/dist/typeshed-fallback/stdlib/builtins.pyi\") function. This function outputs the value passed to it to the console. In this case, it's used to print the current value of `a`.\n",
    "\n",
    "2. The `a -= 1` statement decrements `a` by 1. This is equivalent to `a = a - 1`. This operation is crucial as it ensures that the loop doesn't run indefinitely. Without it, `a` would always remain 3, the `while` condition would always be true, and the loop would never exit.\n",
    "\n",
    "The loop will continue to execute, printing the value of `a` and decrementing `a` by 1 each time, until `a` is no longer greater than 0. At that point, the condition `a > 0` will be false, and the loop will terminate. The result of this code will be the numbers 3, 2, and 1 printed on separate lines.\n",
    "\n",
    "Note that the operations inside the loop are written on the same line separated by semicolons. This is a way to write multiple statements on a single line, but it can make the code harder to read, especially for more complex operations. It's generally recommended to write each statement on a new line for better readability."
   ]
  },
  {
   "cell_type": "markdown",
   "metadata": {},
   "source": [
    "## Python while loop with a break statement\n",
    "___"
   ]
  },
  {
   "cell_type": "markdown",
   "metadata": {},
   "source": [
    "We can use a `break` statement inside a while loop to terminate the loop immediately without checking the test condition. For example,"
   ]
  },
  {
   "cell_type": "code",
   "execution_count": 1,
   "metadata": {},
   "outputs": [
    {
     "name": "stdout",
     "output_type": "stream",
     "text": [
      "Current variable value : 10\n",
      "Current variable value : 9\n",
      "Current variable value : 8\n",
      "Current variable value : 7\n",
      "Current variable value : 6\n",
      "Good bye!\n"
     ]
    }
   ],
   "source": [
    "number = 10\n",
    "while number > 0:\n",
    "   print ('Current variable value :', number)\n",
    "   number = number - 1\n",
    "   if number == 5:\n",
    "      break\n",
    "\n",
    "print (\"Good bye!\")"
   ]
  },
  {
   "cell_type": "markdown",
   "metadata": {},
   "source": [
    "## Python while loop with a continue statement\n",
    "___"
   ]
  },
  {
   "cell_type": "markdown",
   "metadata": {},
   "source": [
    "With the continue statement we can stop the current iteration, and continue with the next:"
   ]
  },
  {
   "cell_type": "code",
   "execution_count": 2,
   "metadata": {},
   "outputs": [
    {
     "name": "stdout",
     "output_type": "stream",
     "text": [
      "1\n",
      "2\n",
      "4\n",
      "5\n",
      "6\n"
     ]
    }
   ],
   "source": [
    "data = 0\n",
    "while data < 6:\n",
    "  data = data + 1\n",
    "  if data == 3:\n",
    "    continue\n",
    "  print(data)"
   ]
  },
  {
   "cell_type": "markdown",
   "metadata": {},
   "source": [
    "Thinking about break and continue statements, the general format of the while loop looks like this:"
   ]
  },
  {
   "cell_type": "raw",
   "metadata": {},
   "source": [
    "while test:\n",
    "    code statement\n",
    "    if test:\n",
    "        break\n",
    "    if test:\n",
    "        continue\n",
    "else:\n"
   ]
  },
  {
   "cell_type": "markdown",
   "metadata": {},
   "source": [
    "break and continue statements can appear anywhere inside the loop’s body, but we will usually put them further nested in conjunction with an if statement to perform an action based on some condition."
   ]
  },
  {
   "cell_type": "code",
   "execution_count": 10,
   "metadata": {},
   "outputs": [
    {
     "name": "stdout",
     "output_type": "stream",
     "text": [
      "x is currently:  0\n",
      "continuing...\n",
      "x is currently:  1\n",
      "continuing...\n",
      "x is currently:  2\n",
      "x==3\n",
      "x is currently:  3\n",
      "continuing...\n",
      "x is currently:  4\n",
      "continuing...\n",
      "x is currently:  5\n",
      "continuing...\n",
      "x is currently:  6\n",
      "continuing...\n",
      "x is currently:  7\n",
      "continuing...\n",
      "x is currently:  8\n",
      "continuing...\n",
      "x is currently:  9\n",
      "continuing...\n"
     ]
    }
   ],
   "source": [
    "x = 0\n",
    "\n",
    "while x < 10:\n",
    "    print('x is currently: ',x)\n",
    "    x = x+1\n",
    "    if x==3:\n",
    "        print('x==3')\n",
    "    else:\n",
    "        print('continuing...')\n",
    "        continue"
   ]
  },
  {
   "cell_type": "code",
   "execution_count": 8,
   "metadata": {},
   "outputs": [
    {
     "name": "stdout",
     "output_type": "stream",
     "text": [
      "x is currently:  0\n",
      "continuing...\n",
      "x is currently:  1\n",
      "continuing...\n",
      "x is currently:  2\n",
      "Breaking because x==3\n"
     ]
    }
   ],
   "source": [
    "x = 0\n",
    "\n",
    "while x < 10:\n",
    "    print('x is currently: ',x)\n",
    "    x = x+1\n",
    "    if x==3:\n",
    "        print('Breaking because x==3')\n",
    "        break\n",
    "    else:\n",
    "        print('continuing...')\n",
    "        continue"
   ]
  }
 ],
 "metadata": {
  "kernelspec": {
   "display_name": "teslim_env",
   "language": "python",
   "name": "python3"
  },
  "language_info": {
   "codemirror_mode": {
    "name": "ipython",
    "version": 3
   },
   "file_extension": ".py",
   "mimetype": "text/x-python",
   "name": "python",
   "nbconvert_exporter": "python",
   "pygments_lexer": "ipython3",
   "version": "3.11.5"
  }
 },
 "nbformat": 4,
 "nbformat_minor": 2
}
