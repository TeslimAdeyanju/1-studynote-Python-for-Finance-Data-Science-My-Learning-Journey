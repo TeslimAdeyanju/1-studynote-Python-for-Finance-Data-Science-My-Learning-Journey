{
 "cells": [
  {
   "cell_type": "markdown",
   "metadata": {},
   "source": [
    "# Python Input: Take Input from User"
   ]
  },
  {
   "cell_type": "markdown",
   "metadata": {},
   "source": [
    "## 1. Input Function in Python"
   ]
  },
  {
   "cell_type": "markdown",
   "metadata": {},
   "source": [
    "### Introduction\n",
    "___"
   ]
  },
  {
   "cell_type": "markdown",
   "metadata": {},
   "source": [
    "In Python, Using the input() function, we take input from a user, and using the print() function, we display output on the screen. Using the input() function, users can give any information to the application in the strings or numbers format.\n",
    "\n",
    "In Python 3, we have the following two built-in functions to handle input from a user and system.\n",
    "\n",
    "- `input(prompt)`: To accept input from a user.\n",
    "- `print()`: To display output on the console/screen.\n",
    "\n",
    "In Python 2,we can use the following two functions:\n",
    "\n",
    "- `input([prompt])`\n",
    "- `raw_input([prompt])`\n",
    "\n",
    "**How input() Function Works**\n",
    "___\n",
    "\n",
    "syntax: `input(prompt)`\n",
    "\n",
    "- The `prompt` argument is optional. The prompt argument is used to display a message to the user. For example, the prompt is, “Please enter your name.”\n",
    "\n",
    "- When the `input()` function executes, the program waits until a user enters some value.\n",
    "\n",
    "- Next, the user enters some value on the screen using a keyboard.\n",
    "\n",
    "Finally, The `input()` function reads a value from the screen, converts it into a string, and returns it to the calling program.\n",
    "\n",
    "Note: If you enter an integer or float number, still, it will convert it into a string. If you want to number input or input in other data types, you need to perform type conversion on the input value.\n",
    "\n",
    "\n",
    "Let’s see how to accept employee information from a user.\n",
    "\n",
    "- First, ask employee name, salary, and company name from the user\n",
    "- Next, we will assign the input provided by the user to the variables\n",
    "- Finally, we will use the print() function to display those variables on the screen.\n"
   ]
  },
  {
   "cell_type": "code",
   "execution_count": 1,
   "metadata": {},
   "outputs": [
    {
     "name": "stdout",
     "output_type": "stream",
     "text": [
      "\n",
      "\n",
      "Printing Employee Details\n",
      "Name Salary Company\n",
      "TESLIM 450000 APPLE\n"
     ]
    }
   ],
   "source": [
    "# take three values from user\n",
    "name = input(\"Enter Employee Name: \")\n",
    "salary = input(\"Enter salary: \")\n",
    "company = input(\"Enter Company name: \")\n",
    "\n",
    "# Display all values on screen\n",
    "print(\"\\n\")\n",
    "print(\"Printing Employee Details\")\n",
    "print(\"Name\", \"Salary\", \"Company\")\n",
    "print(name, salary, company)"
   ]
  },
  {
   "cell_type": "markdown",
   "metadata": {},
   "source": [
    "### Checking the type of data input \n",
    "___"
   ]
  },
  {
   "cell_type": "markdown",
   "metadata": {},
   "source": [
    "It should be noted that whatever that is enter as an input to the `input()` function is converted into a string. Example: "
   ]
  },
  {
   "cell_type": "code",
   "execution_count": 5,
   "metadata": {},
   "outputs": [
    {
     "name": "stdout",
     "output_type": "stream",
     "text": [
      "\n",
      "\n",
      "<class 'str'>\n",
      "<class 'str'>\n",
      "<class 'str'>\n"
     ]
    }
   ],
   "source": [
    "# Display data type of all values\n",
    "print(\"\\n\")\n",
    "print(type(name))\n",
    "print(type(salary))\n",
    "print(type(company))"
   ]
  },
  {
   "cell_type": "code",
   "execution_count": 7,
   "metadata": {},
   "outputs": [
    {
     "name": "stdout",
     "output_type": "stream",
     "text": [
      "\n",
      "\n",
      "Roll number: Teslim Name: 57\n",
      "\n",
      "Printing type of a input values\n",
      "type of number <class 'str'>\n",
      "type of name <class 'str'>\n"
     ]
    }
   ],
   "source": [
    "# Another example of input function and type casting\n",
    "number = input(\"Enter roll number \")\n",
    "name = input(\"Enter age \")\n",
    "\n",
    "# Display all values on screen\n",
    "print(\"\\n\")\n",
    "print('Roll number:', number, 'Name:', name)\n",
    "print()\n",
    "print(\"Printing type of a input values\")\n",
    "print(\"type of number\", type(number))\n",
    "print(\"type of name\", type(name))\n"
   ]
  },
  {
   "cell_type": "markdown",
   "metadata": {},
   "source": [
    "### Take an Integer Number as input from User\n",
    "___"
   ]
  },
  {
   "cell_type": "markdown",
   "metadata": {},
   "source": [
    "We can convert an input to an integer using the an `int()` function. Example "
   ]
  },
  {
   "cell_type": "code",
   "execution_count": 3,
   "metadata": {},
   "outputs": [
    {
     "name": "stdout",
     "output_type": "stream",
     "text": [
      "Mobile number is:  8067087878\n",
      "Type of mobile number is:  <class 'int'>\n"
     ]
    }
   ],
   "source": [
    "# Input your mobile number and convert it into integer\n",
    "mobile = int(input(\"Enter your mobile number: \"))\n",
    "\n",
    "# Display mobile number and its type\n",
    "print(\"Mobile number is: \", mobile)\n",
    "print(\"Type of mobile number is: \", type(mobile))\n"
   ]
  },
  {
   "cell_type": "code",
   "execution_count": 4,
   "metadata": {},
   "outputs": [
    {
     "name": "stdout",
     "output_type": "stream",
     "text": [
      "\n",
      "\n",
      "First Number: 10\n",
      "Second Number: 34\n",
      "Addition of two number is:  44\n"
     ]
    }
   ],
   "source": [
    "# program to calculate addition of two input integer numbers\n",
    "\n",
    "# convert inout into int\n",
    "first_number = int(input(\"Enter first number \"))\n",
    "second_number = int(input(\"Enter second number \"))\n",
    "\n",
    "print(\"\\n\")\n",
    "print(\"First Number:\", first_number)\n",
    "print(\"Second Number:\", second_number)\n",
    "\n",
    "# calculate sum of two numbers\n",
    "sum1 = first_number + second_number\n",
    "print(\"Addition of two number is: \", sum1)"
   ]
  },
  {
   "cell_type": "markdown",
   "metadata": {},
   "source": [
    "Note: As you can see, we explicitly added a cast of an integer type to an input function to convert an input value to the integer type.\n",
    "\n",
    "Now if you print the type of  first_number you should get integer type.  type(first_number ) will return `class 'int'>"
   ]
  },
  {
   "cell_type": "code",
   "execution_count": null,
   "metadata": {},
   "outputs": [
    {
     "name": "stdout",
     "output_type": "stream",
     "text": [
      "\n",
      "\n",
      "Type of first number is:  <class 'int'>\n",
      "Type of second number is:  <class 'int'>\n",
      "Type of sum is:  <class 'int'>\n"
     ]
    }
   ],
   "source": [
    "# checKing the type of data\n",
    "print(\"\\n\")\n",
    "print(\"Type of first number is: \", type(first_number))\n",
    "print(\"Type of second number is: \", type(second_number))\n",
    "print(\"Type of sum is: \", type(sum1))"
   ]
  },
  {
   "cell_type": "markdown",
   "metadata": {},
   "source": [
    "### Take Float Number as a Input from User\n",
    "___"
   ]
  },
  {
   "cell_type": "markdown",
   "metadata": {},
   "source": [
    "Same as integer, we need to convert user input to the float number using the `float()` function"
   ]
  },
  {
   "cell_type": "code",
   "execution_count": 6,
   "metadata": {},
   "outputs": [
    {
     "name": "stdout",
     "output_type": "stream",
     "text": [
      "\n",
      "\n",
      "Student marks is:  74.67\n",
      "type is: <class 'float'>\n"
     ]
    }
   ],
   "source": [
    "# input a float number and display its type\n",
    "marks = float(input(\"Enter marks \"))\n",
    "\n",
    "# Display marks and its type\n",
    "print(\"\\n\")\n",
    "print(\"Student marks is: \", marks)\n",
    "print(\"type is:\", type(marks))"
   ]
  },
  {
   "cell_type": "markdown",
   "metadata": {},
   "source": [
    "### Get Multiple inputs From a User in One Line\n",
    "___"
   ]
  },
  {
   "cell_type": "markdown",
   "metadata": {},
   "source": [
    "In Python, It is possible to get multiple values from the user in one line. We can accept two or three values from the user.\n",
    "\n",
    "For example, in a single execution of the `input()` function, we can ask the user his/her name, age, and phone number and store it in three different variables.\n",
    "\n",
    "Let’ see how to do this.\n",
    "\n",
    "- Take each input separated by space\n",
    "- Split input string method of `split()` get the value of individual input"
   ]
  },
  {
   "cell_type": "code",
   "execution_count": 10,
   "metadata": {},
   "outputs": [
    {
     "name": "stdout",
     "output_type": "stream",
     "text": [
      "\n",
      "\n",
      "User Details:  Teslim, 47, 88\n"
     ]
    }
   ],
   "source": [
    "name, age, marks = input(\"Enter your Name, Age, Percentage separated by space \").split()\n",
    "print(\"\\n\")\n",
    "print(\"User Details: \", name, age, marks)"
   ]
  },
  {
   "cell_type": "markdown",
   "metadata": {},
   "source": [
    "### Creating a Function for the input User\n",
    "___"
   ]
  },
  {
   "cell_type": "markdown",
   "metadata": {},
   "source": [
    "The input function can be use with the function calling as detail below:\n"
   ]
  },
  {
   "cell_type": "code",
   "execution_count": 2,
   "metadata": {},
   "outputs": [
    {
     "data": {
      "text/plain": [
       "8"
      ]
     },
     "execution_count": 2,
     "metadata": {},
     "output_type": "execute_result"
    }
   ],
   "source": [
    "def user_input():\n",
    "    \n",
    "    choice = input(\"Enter a number between 0-10: \")\n",
    "    return int(choice)\n",
    "\n",
    "# calling function\n",
    "user_input()\n"
   ]
  },
  {
   "cell_type": "code",
   "execution_count": null,
   "metadata": {},
   "outputs": [
    {
     "name": "stdout",
     "output_type": "stream",
     "text": [
      "\n",
      "\n",
      "User Details:  Adeyanju, 48, 78\n"
     ]
    }
   ],
   "source": [
    "def get_user_details():\n",
    "\n",
    "    name, age, marks = input(\"Enter your Name, Age, Percentage separated by space \").split()\n",
    "    print(\"\\n\")\n",
    "    print(\"User Details: \", name, age, marks)\n",
    "\n",
    "get_user_details()"
   ]
  },
  {
   "cell_type": "markdown",
   "metadata": {},
   "source": [
    "### Accept Multiline input From a User\n",
    "___"
   ]
  },
  {
   "cell_type": "markdown",
   "metadata": {},
   "source": [
    "If you're looking to receive multiline input from the user, you're correct that the input() function alone won't suffice since it only reads a single line of input. To handle multiline input, you can indeed use a loop.\n",
    "\n",
    "Here's a breakdown of how you could implement this:\n",
    "\n",
    "1. Using a Loop: You'll use a loop to repeatedly ask the user for input until they signal they're done. This could be achieved by asking them to enter a specific keyword or by pressing a certain key combination.\n",
    "\n",
    "2. Joining Input: Within each iteration of the loop, you'll read the input provided by the user and join it with the previously collected input. This ensures that all the input lines are concatenated together.\n",
    "\n",
    "3. Concatenating with Newlines: To maintain the structure of the multiline input, you'll concatenate each input string with a newline character `(\\n)`. This ensures that when the input is printed or processed later, it preserves the line breaks provided by the user."
   ]
  },
  {
   "cell_type": "code",
   "execution_count": 2,
   "metadata": {},
   "outputs": [
    {
     "name": "stdout",
     "output_type": "stream",
     "text": [
      "Multiline input received:\n",
      "This is mmes studying Python\n",
      "I am happy doing it \n",
      "More success ahead \n"
     ]
    }
   ],
   "source": [
    "def multiline_input():\n",
    "    lines = []  # Initialize an empty list to store input lines\n",
    "    \n",
    "    while True:\n",
    "        line = input(\"Enter a line (or type 'done' to finish): \")\n",
    "        \n",
    "        if line.lower() == 'done':\n",
    "            break  # Exit the loop if the user inputs 'done'\n",
    "        \n",
    "        lines.append(line)  # Add the input line to the list\n",
    "    \n",
    "    # Join all input lines into a single string with newline characters\n",
    "    multiline_input = '\\n'.join(lines)\n",
    "    \n",
    "    return multiline_input\n",
    "\n",
    "# Example usage:\n",
    "multiline_text = multiline_input()\n",
    "print(\"Multiline input received:\")\n",
    "print(multiline_text)\n"
   ]
  },
  {
   "cell_type": "code",
   "execution_count": null,
   "metadata": {},
   "outputs": [],
   "source": [
    "# list to store multi line input\n",
    "# press enter two times to exit\n",
    "data = []\n",
    "print(\"Tell me about yourself\")\n",
    "while True:\n",
    "    line = input()\n",
    "    if line:\n",
    "        data.append(line)\n",
    "    else:\n",
    "        break\n",
    "finalText = '\\n'.join(data)\n",
    "print(\"\\n\")\n",
    "print(\"Final text input\")\n",
    "print(finalText)"
   ]
  },
  {
   "cell_type": "markdown",
   "metadata": {},
   "source": []
  },
  {
   "cell_type": "markdown",
   "metadata": {},
   "source": [
    "### Validating User input\n",
    "___"
   ]
  },
  {
   "cell_type": "markdown",
   "metadata": {},
   "source": [
    "It is important that the users enter the correct details and it is important also that these details are validated. We can use the `isnumeric()` method which returns True if all the characters are numeric (0-9) to validate if the user input is numeric. \n",
    "\n",
    "Another commonly method use with input validation is the .`isdigit`() method. "
   ]
  },
  {
   "cell_type": "code",
   "execution_count": 13,
   "metadata": {},
   "outputs": [
    {
     "name": "stdout",
     "output_type": "stream",
     "text": [
      "True\n",
      "True\n"
     ]
    },
    {
     "data": {
      "text/plain": [
       "str"
      ]
     },
     "execution_count": 13,
     "metadata": {},
     "output_type": "execute_result"
    }
   ],
   "source": [
    "some_input = '10'\n",
    "\n",
    "print(some_input.isnumeric())\n",
    "print(some_input.isdigit())\n",
    "type(some_input)"
   ]
  },
  {
   "cell_type": "code",
   "execution_count": 27,
   "metadata": {},
   "outputs": [
    {
     "data": {
      "text/plain": [
       "6"
      ]
     },
     "execution_count": 27,
     "metadata": {},
     "output_type": "execute_result"
    }
   ],
   "source": [
    "def user_choice():\n",
    "    \n",
    "    # This original choice value can be anything that isn't an integer\n",
    "    choice = ''\n",
    "    \n",
    "    # While the choice is not a digit, keep asking for input.\n",
    "    while choice.isdigit() == False:\n",
    "        \n",
    "        # we shouldn't convert here, otherwise we get an error on a wrong input\n",
    "        choice = input(\"Choose a number: \")\n",
    "    \n",
    "    # We can convert once the while loop above has confirmed we have a digit.\n",
    "    return int(choice)\n",
    "\n",
    "# calling function\n",
    "user_choice()"
   ]
  },
  {
   "cell_type": "markdown",
   "metadata": {},
   "source": [
    "This Python code defines a function named `user_choice()`. The purpose of this function is to interactively ask the user to input a number and ensure that the input is a valid integer.\n",
    "\n",
    "The function starts by initializing a variable `choice` with the string `''`. This is a placeholder value that will be replaced by the user's input.\n",
    "\n",
    "The function then enters a `while` loop that continues as long as `choice.isdigit()` returns `False`. The [`isdigit()`](command:_github.copilot.openSymbolInFile?%5B%22..%2F..%2F..%2F..%2F.vscode%2Fextensions%2Fms-python.vscode-pylance-2024.4.1%2Fdist%2Ftypeshed-fallback%2Fstdlib%2Fbuiltins.pyi%22%2C%22isdigit()%22%5D \"../../../../.vscode/extensions/ms-python.vscode-pylance-2024.4.1/dist/typeshed-fallback/stdlib/builtins.pyi\") method is a built-in Python function that checks if a string consists only of digits. If the string contains anything other than digits (0-9), [`isdigit()`](command:_github.copilot.openSymbolInFile?%5B%22..%2F..%2F..%2F..%2F.vscode%2Fextensions%2Fms-python.vscode-pylance-2024.4.1%2Fdist%2Ftypeshed-fallback%2Fstdlib%2Fbuiltins.pyi%22%2C%22isdigit()%22%5D \"../../../../.vscode/extensions/ms-python.vscode-pylance-2024.4.1/dist/typeshed-fallback/stdlib/builtins.pyi\") returns `False`.\n",
    "\n",
    "Inside the loop, the function uses the built-in [`input()`](command:_github.copilot.openSymbolInFile?%5B%22..%2F..%2F..%2F..%2F.vscode%2Fextensions%2Fms-python.vscode-pylance-2024.4.1%2Fdist%2Ftypeshed-fallback%2Fstdlib%2Fbuiltins.pyi%22%2C%22input()%22%5D \"../../../../.vscode/extensions/ms-python.vscode-pylance-2024.4.1/dist/typeshed-fallback/stdlib/builtins.pyi\") function to prompt the user to \"Choose a number: \". The [`input()`](command:_github.copilot.openSymbolInFile?%5B%22..%2F..%2F..%2F..%2F.vscode%2Fextensions%2Fms-python.vscode-pylance-2024.4.1%2Fdist%2Ftypeshed-fallback%2Fstdlib%2Fbuiltins.pyi%22%2C%22input()%22%5D \"../../../../.vscode/extensions/ms-python.vscode-pylance-2024.4.1/dist/typeshed-fallback/stdlib/builtins.pyi\") function waits for the user to type something and press Enter. Whatever the user types is returned as a string and assigned to the `choice` variable.\n",
    "\n",
    "If the user enters a string that can be interpreted as an integer (i.e., it consists only of digits), `choice.isdigit()` will return `True`, and the `while` loop will exit. If the user enters anything else (like a string containing letters or special characters), `choice.isdigit()` will return `False`, and the `while` loop will continue to prompt the user for input.\n",
    "\n",
    "Once a valid integer input is received, the function converts the string to an integer using the [`int()`](command:_github.copilot.openSymbolInFile?%5B%22..%2F..%2F..%2F..%2F.vscode%2Fextensions%2Fms-python.vscode-pylance-2024.4.1%2Fdist%2Ftypeshed-fallback%2Fstdlib%2Fbuiltins.pyi%22%2C%22int()%22%5D \"../../../../.vscode/extensions/ms-python.vscode-pylance-2024.4.1/dist/typeshed-fallback/stdlib/builtins.pyi\") function and returns this integer.\n",
    "\n",
    "Finally, the function `user_choice()` is called to execute the code. The function will keep asking the user to \"Choose a number: \" until a valid integer is entered."
   ]
  },
  {
   "cell_type": "code",
   "execution_count": 19,
   "metadata": {},
   "outputs": [
    {
     "name": "stdout",
     "output_type": "stream",
     "text": [
      "Sorry, but you did not enter an integer. Please try again.\n",
      "Sorry, but you did not enter an integer. Please try again.\n"
     ]
    },
    {
     "data": {
      "text/plain": [
       "2"
      ]
     },
     "execution_count": 19,
     "metadata": {},
     "output_type": "execute_result"
    }
   ],
   "source": [
    "def user_choice():\n",
    "    \n",
    "    # This original choice value can be anything that isn't an integer\n",
    "    choice = 'wrong'\n",
    "    \n",
    "    # While the choice is not a digit, keep asking for input.\n",
    "    while choice.isdigit() == False:\n",
    "        \n",
    "        # we shouldn't convert here, otherwise we get an error on a wrong input\n",
    "        choice = input(\"Choose a number: \")\n",
    "        \n",
    "        # Error Message Check\n",
    "        if choice.isdigit() == False:\n",
    "            print(\"Sorry, but you did not enter an integer. Please try again.\")\n",
    "    \n",
    "    # We can convert once the while loop above has confirmed we have a digit.\n",
    "    return int(choice)\n",
    "\n",
    "# calling function\n",
    "user_choice()\n"
   ]
  },
  {
   "cell_type": "markdown",
   "metadata": {},
   "source": [
    "The provided Python code defines a function named `user_choice()`. This function is designed to interactively ask the user for an integer input and ensure that the input is indeed an integer.\n",
    "\n",
    "The function starts by initializing a variable `choice` with the string value 'wrong'. This variable is used to store the user's input.\n",
    "\n",
    "The function then enters a while loop that continues as long as `choice` is not a digit, which is checked using the [`isdigit()`](command:_github.copilot.openSymbolInFile?%5B%22..%2F..%2F..%2F..%2F.vscode%2Fextensions%2Fms-python.vscode-pylance-2024.4.1%2Fdist%2Ftypeshed-fallback%2Fstdlib%2Fbuiltins.pyi%22%2C%22isdigit()%22%5D \"../../../../.vscode/extensions/ms-python.vscode-pylance-2024.4.1/dist/typeshed-fallback/stdlib/builtins.pyi\") method. This method is a built-in Python function that checks if all the characters in a string are digits. If they are, it returns `True`; otherwise, it returns `False`.\n",
    "\n",
    "Inside the while loop, the function uses the built-in [`input()`](command:_github.copilot.openSymbolInFile?%5B%22..%2F..%2F..%2F..%2F.vscode%2Fextensions%2Fms-python.vscode-pylance-2024.4.1%2Fdist%2Ftypeshed-fallback%2Fstdlib%2Fbuiltins.pyi%22%2C%22input()%22%5D \"../../../../.vscode/extensions/ms-python.vscode-pylance-2024.4.1/dist/typeshed-fallback/stdlib/builtins.pyi\") function to ask the user to \"Choose a number:\". The user's input is then stored in the `choice` variable.\n",
    "\n",
    "Next, the function checks if `choice` is not a digit. If it's not, it prints an error message to the user saying \"Sorry, but you did not enter an integer. Please try again.\" This prompts the user to input a correct value in the next iteration of the while loop.\n",
    "\n",
    "Once the user enters a digit, the while loop condition becomes `False`, and the loop ends. The function then converts `choice` to an integer using the [`int()`](command:_github.copilot.openSymbolInFile?%5B%22..%2F..%2F..%2F..%2F.vscode%2Fextensions%2Fms-python.vscode-pylance-2024.4.1%2Fdist%2Ftypeshed-fallback%2Fstdlib%2Fbuiltins.pyi%22%2C%22int()%22%5D \"../../../../.vscode/extensions/ms-python.vscode-pylance-2024.4.1/dist/typeshed-fallback/stdlib/builtins.pyi\") function and returns this integer.\n",
    "\n",
    "Finally, the function `user_choice()` is called to execute the code. This will prompt the user to enter a number and will keep asking until an integer is entered."
   ]
  },
  {
   "cell_type": "markdown",
   "metadata": {},
   "source": [
    "**Now let's explore how to \"clear\" the output, that way we don't see the history of the \"Choose a number\" statements.**\n",
    "\n",
    "**NOTE: Jupyter Notebook users will use the IPython method shown here. Other IDE users (PyCharm, VS, etc..) will use **"
   ]
  },
  {
   "cell_type": "code",
   "execution_count": 1,
   "metadata": {},
   "outputs": [
    {
     "data": {
      "text/plain": [
       "6"
      ]
     },
     "execution_count": 1,
     "metadata": {},
     "output_type": "execute_result"
    }
   ],
   "source": [
    "from IPython.display import clear_output\n",
    "\n",
    "def user_choice():\n",
    "    \n",
    "    # This original choice value can be anything that isn't an integer\n",
    "    choice = 'wrong'\n",
    "    \n",
    "    # While the choice is not a digit, keep asking for input.\n",
    "    while choice.isdigit() == False:\n",
    "        \n",
    "        # we shouldn't convert here, otherwise we get an error on a wrong input\n",
    "        choice = input(\"Choose a number: \")\n",
    "        \n",
    "        if choice.isdigit() == False:\n",
    "            # THIS CLEARS THE CURRENT OUTPUT BELOW THE CELL\n",
    "            clear_output()\n",
    "            \n",
    "            print(\"Sorry, but you did not enter an integer. Please try again.\")\n",
    "            \n",
    "    \n",
    "    # Optionally you can clear everything after running the function\n",
    "    # clear_output()\n",
    "    \n",
    "    # We can convert once the while loop above has confirmed we have a digit.\n",
    "    return int(choice)\n",
    "\n",
    "# calling function\n",
    "user_choice()"
   ]
  },
  {
   "cell_type": "markdown",
   "metadata": {},
   "source": [
    "The provided Python code defines a function `user_choice()` that prompts the user to input a number and ensures that the input is a valid integer. If the input is not a valid integer, the function will continue to prompt the user until a valid integer is provided.\n",
    "\n",
    "The function begins by importing the [`clear_output`](command:_github.copilot.openSymbolInFile?%5B%22..%2F..%2F..%2F..%2Fanaconda3%2Fenvs%2Fteslim_env%2Flib%2Fpython3.11%2Fsite-packages%2FIPython%2Fcore%2Fdisplay_functions.py%22%2C%22clear_output%22%5D \"../../../../anaconda3/envs/teslim_env/lib/python3.11/site-packages/IPython/core/display_functions.py\") function from the `IPython.display` module. This function is used to clear the output of the current cell in an IPython environment, such as a Jupyter notebook.\n",
    "\n",
    "The `user_choice()` function initializes a variable `choice` with the string 'wrong'. This is a placeholder value that will be replaced by the user's input.\n",
    "\n",
    "The function then enters a while loop that continues as long as `choice` is not a digit, as determined by the [`isdigit()`](command:_github.copilot.openSymbolInFile?%5B%22..%2F..%2F..%2F..%2F.vscode%2Fextensions%2Fms-python.vscode-pylance-2024.4.1%2Fdist%2Ftypeshed-fallback%2Fstdlib%2Fbuiltins.pyi%22%2C%22isdigit()%22%5D \"../../../../.vscode/extensions/ms-python.vscode-pylance-2024.4.1/dist/typeshed-fallback/stdlib/builtins.pyi\") method. This method is a built-in Python function that checks if a string consists only of digits.\n",
    "\n",
    "Inside the loop, the function uses the [`input()`](command:_github.copilot.openSymbolInFile?%5B%22..%2F..%2F..%2F..%2F.vscode%2Fextensions%2Fms-python.vscode-pylance-2024.4.1%2Fdist%2Ftypeshed-fallback%2Fstdlib%2Fbuiltins.pyi%22%2C%22input()%22%5D \"../../../../.vscode/extensions/ms-python.vscode-pylance-2024.4.1/dist/typeshed-fallback/stdlib/builtins.pyi\") function to prompt the user to \"Choose a number: \". The user's input replaces the current value of `choice`.\n",
    "\n",
    "If the new value of `choice` is not a digit, the function clears the current output with [`clear_output()`](command:_github.copilot.openSymbolInFile?%5B%22..%2F..%2F..%2F..%2Fanaconda3%2Fenvs%2Fteslim_env%2Flib%2Fpython3.11%2Fsite-packages%2FIPython%2Fcore%2Fdisplay_functions.py%22%2C%22clear_output()%22%5D \"../../../../anaconda3/envs/teslim_env/lib/python3.11/site-packages/IPython/core/display_functions.py\") and prints a message to the user indicating that they did not enter an integer and should try again.\n",
    "\n",
    "Once a valid integer is entered, the loop ends. The function then converts `choice` to an integer using the [`int()`](command:_github.copilot.openSymbolInFile?%5B%22..%2F..%2F..%2F..%2F.vscode%2Fextensions%2Fms-python.vscode-pylance-2024.4.1%2Fdist%2Ftypeshed-fallback%2Fstdlib%2Fbuiltins.pyi%22%2C%22int()%22%5D \"../../../../.vscode/extensions/ms-python.vscode-pylance-2024.4.1/dist/typeshed-fallback/stdlib/builtins.pyi\") function and returns this integer.\n",
    "\n",
    "Finally, the function `user_choice()` is called to execute the code."
   ]
  },
  {
   "cell_type": "markdown",
   "metadata": {},
   "source": [
    "### Checking Against Multiple Possible Values\n",
    "___"
   ]
  },
  {
   "cell_type": "markdown",
   "metadata": {},
   "source": [
    "Recall thhe the following `in` function under string ..."
   ]
  },
  {
   "cell_type": "code",
   "execution_count": 2,
   "metadata": {},
   "outputs": [],
   "source": [
    "result = 'wrong value'\n",
    "acceptable_values = ['0','1','2']"
   ]
  },
  {
   "cell_type": "code",
   "execution_count": 3,
   "metadata": {},
   "outputs": [
    {
     "data": {
      "text/plain": [
       "False"
      ]
     },
     "execution_count": 3,
     "metadata": {},
     "output_type": "execute_result"
    }
   ],
   "source": [
    "result in acceptable_values"
   ]
  },
  {
   "cell_type": "code",
   "execution_count": 4,
   "metadata": {},
   "outputs": [
    {
     "data": {
      "text/plain": [
       "True"
      ]
     },
     "execution_count": 4,
     "metadata": {},
     "output_type": "execute_result"
    }
   ],
   "source": [
    "result not in acceptable_values"
   ]
  },
  {
   "cell_type": "markdown",
   "metadata": {},
   "source": [
    "Let us apply the knowledge of the `in` method to the input fucntion. "
   ]
  },
  {
   "cell_type": "code",
   "execution_count": 6,
   "metadata": {},
   "outputs": [
    {
     "name": "stdout",
     "output_type": "stream",
     "text": [
      "Sorry, but you did not choose a value in the correct range (0,1,2)\n"
     ]
    },
    {
     "data": {
      "text/plain": [
       "1"
      ]
     },
     "execution_count": 6,
     "metadata": {},
     "output_type": "execute_result"
    }
   ],
   "source": [
    "from IPython.display import clear_output\n",
    "clear_output()\n",
    "\n",
    "def user_choice():\n",
    "    \n",
    "    # This original choice value can be anything that isn't an integer\n",
    "    choice = 'wrong'\n",
    "    \n",
    "    # While the choice is not a digit, keep asking for input.\n",
    "    while choice not in ['0','1','2']:\n",
    "        \n",
    "        # we shouldn't convert here, otherwise we get an error on a wrong input\n",
    "        choice = input(\"Choose one of these numbers (0,1,2): \")\n",
    "        \n",
    "        if choice not in ['0','1','2']:\n",
    "            # THIS CLEARS THE CURRENT OUTPUT BELOW THE CELL\n",
    "            clear_output()\n",
    "            \n",
    "            print(\"Sorry, but you did not choose a value in the correct range (0,1,2)\")\n",
    "            \n",
    "    \n",
    "    # Optionally you can clear everything after running the function\n",
    "    # clear_output()\n",
    "    \n",
    "    # We can convert once the while loop above has confirmed we have a digit.\n",
    "    return int(choice)\n",
    "\n",
    "# calling function\n",
    "user_choice()"
   ]
  },
  {
   "cell_type": "markdown",
   "metadata": {},
   "source": [
    "The provided Python code defines a function named `user_choice()` that prompts the user to enter a number from a set of options (0, 1, 2). The function uses a while loop to keep asking for input until the user provides a valid choice.\n",
    "\n",
    "At the start of the function, a variable `choice` is initialized with the string 'wrong'. This is a sentinel value that ensures the while loop runs at least once.\n",
    "\n",
    "The while loop condition checks if `choice` is not in the list ['0', '1', '2']. If `choice` is not in this list, the loop continues to execute. Inside the loop, the [`input()`](command:_github.copilot.openSymbolInFile?%5B%22..%2F..%2F..%2F..%2F.vscode%2Fextensions%2Fms-python.vscode-pylance-2024.4.1%2Fdist%2Ftypeshed-fallback%2Fstdlib%2Fbuiltins.pyi%22%2C%22input()%22%5D \"../../../../.vscode/extensions/ms-python.vscode-pylance-2024.4.1/dist/typeshed-fallback/stdlib/builtins.pyi\") function is used to prompt the user to enter a number. The entered value is assigned to `choice`.\n",
    "\n",
    "If the entered value is not in the list ['0', '1', '2'], the [`clear_output()`](command:_github.copilot.openSymbolInFile?%5B%22..%2F..%2F..%2F..%2Fanaconda3%2Fenvs%2Fteslim_env%2Flib%2Fpython3.11%2Fsite-packages%2FIPython%2Fcore%2Fdisplay_functions.py%22%2C%22clear_output()%22%5D \"../../../../anaconda3/envs/teslim_env/lib/python3.11/site-packages/IPython/core/display_functions.py\") function from the `IPython.display` module is called to clear the output of the current cell in the Jupyter notebook. A message is then printed to inform the user that they did not choose a value in the correct range.\n",
    "\n",
    "The while loop continues to run until the user enters a valid choice (0, 1, or 2). Once a valid choice is entered, the loop condition becomes False and the loop exits.\n",
    "\n",
    "After the loop, the `choice` is converted to an integer using the [`int()`](command:_github.copilot.openSymbolInFile?%5B%22..%2F..%2F..%2F..%2F.vscode%2Fextensions%2Fms-python.vscode-pylance-2024.4.1%2Fdist%2Ftypeshed-fallback%2Fstdlib%2Fbuiltins.pyi%22%2C%22int()%22%5D \"../../../../.vscode/extensions/ms-python.vscode-pylance-2024.4.1/dist/typeshed-fallback/stdlib/builtins.pyi\") function and returned by the `user_choice()` function.\n",
    "\n",
    "Finally, the `user_choice()` function is called to execute it. The function will prompt the user to enter a number and return the entered number as an integer."
   ]
  },
  {
   "cell_type": "markdown",
   "metadata": {},
   "source": [
    "### More Flexible Example\n",
    "____"
   ]
  },
  {
   "cell_type": "code",
   "execution_count": 7,
   "metadata": {},
   "outputs": [
    {
     "data": {
      "text/plain": [
       "8"
      ]
     },
     "execution_count": 7,
     "metadata": {},
     "output_type": "execute_result"
    }
   ],
   "source": [
    "def user_choice():\n",
    "    \n",
    "    choice ='WRONG'\n",
    "    within_range = False\n",
    "    \n",
    "    while choice.isdigit() == False or within_range == False:\n",
    "        \n",
    "    \n",
    "    \n",
    "        choice = input(\"Please enter a number (0-10): \")\n",
    "        \n",
    "        if choice.isdigit() == False:\n",
    "            print(\"Sorry that is not a digit!\")\n",
    "            \n",
    "        if choice.isdigit() == True:\n",
    "            if int(choice) in range(0,10):\n",
    "                within_range = True\n",
    "            else:\n",
    "                within_range = False\n",
    "        \n",
    "    \n",
    "    return int(choice)\n",
    "\n",
    "# calling function\n",
    "user_choice()"
   ]
  },
  {
   "cell_type": "markdown",
   "metadata": {},
   "source": [
    "The provided Python code defines a function named `user_choice()`. This function is designed to interactively get a number input from the user, and it ensures that the input is a digit and within a specified range (0-10).\n",
    "\n",
    "The function starts by initializing two variables: `choice` with the string 'WRONG' and `within_range` with the boolean value `False`. \n",
    "\n",
    "The `while` loop continues as long as the user's input is not a digit (`choice.isdigit() == False`) or the input is not within the range 0-10 (`within_range == False`). \n",
    "\n",
    "Inside the loop, the [`input()`](command:_github.copilot.openSymbolInFile?%5B%22..%2F..%2F..%2F..%2F.vscode%2Fextensions%2Fms-python.vscode-pylance-2024.4.1%2Fdist%2Ftypeshed-fallback%2Fstdlib%2Fbuiltins.pyi%22%2C%22input()%22%5D \"../../../../.vscode/extensions/ms-python.vscode-pylance-2024.4.1/dist/typeshed-fallback/stdlib/builtins.pyi\") function is used to get the user's input with a prompt message \"Please enter a number (0-10): \". \n",
    "\n",
    "If the user's input is not a digit, the [`isdigit()`](command:_github.copilot.openSymbolInFile?%5B%22..%2F..%2F..%2F..%2F.vscode%2Fextensions%2Fms-python.vscode-pylance-2024.4.1%2Fdist%2Ftypeshed-fallback%2Fstdlib%2Fbuiltins.pyi%22%2C%22isdigit()%22%5D \"../../../../.vscode/extensions/ms-python.vscode-pylance-2024.4.1/dist/typeshed-fallback/stdlib/builtins.pyi\") method of the string class returns `False` and a message \"Sorry that is not a digit!\" is printed to the console. \n",
    "\n",
    "If the user's input is a digit, the code checks whether the integer value of the input is within the range 0-10. If it is, `within_range` is set to `True`, otherwise, it remains `False`. \n",
    "\n",
    "The loop continues until the user enters a digit that is within the range 0-10. At this point, the function returns the integer value of the user's input.\n",
    "\n",
    "Finally, the function `user_choice()` is called to execute the code."
   ]
  },
  {
   "cell_type": "markdown",
   "metadata": {},
   "source": [
    "### Simple User Interaction\n",
    "___"
   ]
  },
  {
   "cell_type": "code",
   "execution_count": 14,
   "metadata": {},
   "outputs": [],
   "source": [
    "player1 = input(\"Please pick a marker 'X' or 'O'\")"
   ]
  },
  {
   "cell_type": "code",
   "execution_count": 15,
   "metadata": {},
   "outputs": [],
   "source": [
    "position = int(input('Please enter a number'))"
   ]
  },
  {
   "cell_type": "markdown",
   "metadata": {},
   "source": [
    "## 2. Check user Input is a Number or String in Python"
   ]
  },
  {
   "cell_type": "markdown",
   "metadata": {},
   "source": [
    "### Understand user input\n",
    "____"
   ]
  },
  {
   "cell_type": "markdown",
   "metadata": {},
   "source": [
    "The manin challenge in python is that it converts whatever the user enters into a string. This is because the `input()` function always returns a string.\n",
    "\n",
    "For Example "
   ]
  },
  {
   "cell_type": "code",
   "execution_count": 1,
   "metadata": {},
   "outputs": [
    {
     "name": "stdout",
     "output_type": "stream",
     "text": [
      "Printing type of input value\n",
      "type of number  <class 'str'>\n"
     ]
    }
   ],
   "source": [
    "number1 = input(\"Enter number and hit enter \")\n",
    "print(\"Printing type of input value\")\n",
    "print(\"type of number \", type(number1))"
   ]
  },
  {
   "cell_type": "markdown",
   "metadata": {},
   "source": [
    "The output of the above cell is a string. If you want to perform any arithmetic operation on the number, you need to convert it into an integer or float."
   ]
  },
  {
   "cell_type": "markdown",
   "metadata": {},
   "source": [
    "### Convert string input to int or float to check if it is a number\n",
    "___"
   ]
  },
  {
   "cell_type": "markdown",
   "metadata": {},
   "source": [
    "Here is how you can convert a string to an integer or float:\n",
    "\n",
    "- Use the `int()` function to convert a string to an integer.\n",
    "- Use the `float()` function to convert a string to a float.\n",
    "\n",
    "\n",
    "How to check if the input is a number or string in Python\n",
    "1. **Accept input from a user**   \n",
    "Use the `input()` function to accept input from a user\n",
    "\n",
    "2. **Convert input to integer number**  \n",
    "To check if the input string is an integer number, convert the user input to the integer type using the `int()` constructor.\n",
    "\n",
    "3. **Convert input to float number**   \n",
    "To check if the input is a float number, convert the user input to the float type using the `float()` constructor.\n",
    "\n",
    "4. **Validate the result**  \n",
    "If an input is an integer or float number, it can successfully get converted to int or float type. Else, we can conclude it is a string"
   ]
  },
  {
   "cell_type": "code",
   "execution_count": 3,
   "metadata": {},
   "outputs": [
    {
     "name": "stdout",
     "output_type": "stream",
     "text": [
      "Input is an integer number. Number =  5\n",
      "Input is a float  number. Number =  8.5\n",
      "No.. input is not a number. It's a string\n"
     ]
    }
   ],
   "source": [
    "def check_user_input(input):\n",
    "    try:\n",
    "        # Convert it into integer\n",
    "        val = int(input)\n",
    "        print(\"Input is an integer number. Number = \", val)\n",
    "    except ValueError:\n",
    "        try:\n",
    "            # Convert it into float\n",
    "            val = float(input)\n",
    "            print(\"Input is a float  number. Number = \", val)\n",
    "        except ValueError:\n",
    "            print(\"No.. input is not a number. It's a string\")\n",
    "\n",
    "\n",
    "input1 = input(\"Enter your Age \")\n",
    "check_user_input(input1)\n",
    "\n",
    "input2 = input(\"Enter any number \")\n",
    "check_user_input(input2)\n",
    "\n",
    "input2 = input(\"Enter the last number \")\n",
    "check_user_input(input2)"
   ]
  },
  {
   "cell_type": "markdown",
   "metadata": {},
   "source": [
    "Note: If an input is an integer or float number, it can successfully get converted to int or float, and you can conclude that entered input is a number. Otherwise, You get a valueError exception, which means the entered user input is a string."
   ]
  },
  {
   "cell_type": "markdown",
   "metadata": {},
   "source": [
    "### Use string `isdigit()` method to check user input is number or string\n",
    "___"
   ]
  },
  {
   "cell_type": "markdown",
   "metadata": {},
   "source": [
    "The `isdigit()` function will work only for positive integer numbers. i.e., if you pass any float number, it will not work. So, It is better to use the first approach."
   ]
  },
  {
   "cell_type": "code",
   "execution_count": 4,
   "metadata": {},
   "outputs": [
    {
     "name": "stdout",
     "output_type": "stream",
     "text": [
      "User input is Number\n",
      "User input is string\n"
     ]
    }
   ],
   "source": [
    "def check_is_digit(input_str):\n",
    "    if input_str.strip().isdigit():\n",
    "        print(\"User input is Number\")\n",
    "    else:\n",
    "        print(\"User input is string\")\n",
    "\n",
    "\n",
    "num1 = input(\"Enter number and hit enter\")\n",
    "check_is_digit(num1)\n",
    "\n",
    "num2 = input(\"Enter number and hit enter\")\n",
    "check_is_digit(num2)\n"
   ]
  },
  {
   "cell_type": "markdown",
   "metadata": {},
   "source": [
    "Also, If you can check whether the Python variable is a number or string, use the `isinstance()` function."
   ]
  },
  {
   "cell_type": "code",
   "execution_count": 5,
   "metadata": {},
   "outputs": [
    {
     "name": "stdout",
     "output_type": "stream",
     "text": [
      "True\n",
      "False\n"
     ]
    }
   ],
   "source": [
    "num = 25.75\n",
    "print(isinstance(num, (int, float)))\n",
    "# Output True\n",
    "\n",
    "num = '28Jessa'\n",
    "print(isinstance(num, (int, float)))\n",
    "# Output False"
   ]
  },
  {
   "cell_type": "markdown",
   "metadata": {},
   "source": [
    "### Only accept a number as input\n",
    "___"
   ]
  },
  {
   "cell_type": "code",
   "execution_count": 6,
   "metadata": {},
   "outputs": [
    {
     "name": "stdout",
     "output_type": "stream",
     "text": [
      "Input is an integer number.\n",
      "Input number is:  56\n"
     ]
    }
   ],
   "source": [
    "while True:\n",
    "    num = input(\"Please enter a number \")\n",
    "    try:\n",
    "        val = int(num)\n",
    "        print(\"Input is an integer number.\")\n",
    "        print(\"Input number is: \", val)\n",
    "        break;\n",
    "    except ValueError:\n",
    "        try:\n",
    "            float(num)\n",
    "            print(\"Input is an float number.\")\n",
    "            print(\"Input number is: \", val)\n",
    "            break;\n",
    "        except ValueError:\n",
    "            print(\"This is not a number. Please enter a valid number\")\n"
   ]
  }
 ],
 "metadata": {
  "kernelspec": {
   "display_name": "python-tutorial-env",
   "language": "python",
   "name": "python3"
  },
  "language_info": {
   "codemirror_mode": {
    "name": "ipython",
    "version": 3
   },
   "file_extension": ".py",
   "mimetype": "text/x-python",
   "name": "python",
   "nbconvert_exporter": "python",
   "pygments_lexer": "ipython3",
   "version": "3.13.0"
  }
 },
 "nbformat": 4,
 "nbformat_minor": 2
}
