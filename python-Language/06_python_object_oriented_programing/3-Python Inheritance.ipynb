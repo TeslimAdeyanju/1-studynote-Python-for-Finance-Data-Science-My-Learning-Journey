{
 "cells": [
  {
   "cell_type": "markdown",
   "metadata": {},
   "source": [
    "# INHERITANCE in Python"
   ]
  },
  {
   "cell_type": "markdown",
   "metadata": {},
   "source": [
    "### Introduction \n",
    "___"
   ]
  },
  {
   "cell_type": "markdown",
   "metadata": {},
   "source": [
    "In Python, inheritance is like creating a family tree for your classes. It allows you to create new classes (child classes) that inherit properties and behaviors from existing classes (parent classes). Here's a breakdown in plain language and the syntax:\n",
    "\n",
    "**Imagine Classes as Blueprints:**\n",
    "\n",
    "* Think of a class as a blueprint for creating objects. It defines the attributes (properties) and methods (behaviors) that objects of that class will have.\n",
    "\n",
    "**Inheritance: Building Upon Existing Blueprints:**\n",
    "\n",
    "* Inheritance allows you to create a child class that inherits everything from its parent class, like a basic structure.\n",
    "\n",
    "* The child class can then add its own unique attributes and methods, specializing the blueprint further.\n",
    "\n",
    "**Benefits of Inheritance:**\n",
    "\n",
    "1. Code Reusability: You don't have to rewrite common code in every class. The child class inherits the parent's functionality.\n",
    "\n",
    "2. Code Organization: It helps organize code logically, grouping related classes in a hierarchy.\n",
    "\n",
    "3. Extensibility: You can easily create new classes with specialized behaviors by extending existing ones.\n",
    "\n",
    "Syntax:\n",
    "\n",
    "Here's how you define inheritance in Python:\n",
    "\n",
    "```python\n",
    "class ParentClass:\n",
    "    # Parent class attributes and methods\n",
    "\n",
    "class ChildClass(ParentClass):\n",
    "    # Child class attributes and methods\n",
    "```\n",
    "\n",
    "Explanation:\n",
    "\n",
    "1. We define the ParentClass with its attributes and methods.\n",
    "2. We define the ChildClass that inherits from ParentClass. Now, ChildClass has access to all the attributes and methods of ParentClass.\n",
    "3. The ChildClass can define its own additional attributes and methods, specific to its needs.\n",
    "\n",
    "\n"
   ]
  },
  {
   "cell_type": "markdown",
   "metadata": {},
   "source": [
    "### Types of inheritance \n"
   ]
  },
  {
   "cell_type": "markdown",
   "metadata": {},
   "source": [
    "In Python, based upon the number of child and parent classes involved, there are five types of inheritance. The type of inheritance are listed below:\n",
    "\n",
    "1. Single inheritance\n",
    "2. Multiple Inheritance\n",
    "3. Multilevel inheritance\n",
    "4. Hierarchical Inheritance\n",
    "5. Hybrid Inheritance"
   ]
  },
  {
   "cell_type": "markdown",
   "metadata": {},
   "source": [
    "##### 1. Single inheritance\n",
    "___"
   ]
  },
  {
   "cell_type": "markdown",
   "metadata": {},
   "source": [
    "In single inheritance, a child class inherits from a single-parent class. Here is one child class and one parent class."
   ]
  },
  {
   "cell_type": "markdown",
   "metadata": {},
   "source": [
    "![alt text](../../../Teslim_python_png/Class_object_5.png)"
   ]
  },
  {
   "cell_type": "code",
   "execution_count": 3,
   "metadata": {},
   "outputs": [
    {
     "name": "stdout",
     "output_type": "stream",
     "text": [
      "Inside Vehicle class\n",
      "Inside Car class\n"
     ]
    }
   ],
   "source": [
    "# Base class\n",
    "class Vehicle:\n",
    "    def Vehicle_info(self):\n",
    "        print('Inside Vehicle class')\n",
    "\n",
    "# Child class\n",
    "class Toyota(Vehicle):\n",
    "    def car_info(self):\n",
    "        print('Inside Car class')\n",
    "\n",
    "# Create object of Toyota class\n",
    "car = Toyota()\n",
    "\n",
    "# access Vehicle's info using car object\n",
    "car.Vehicle_info()\n",
    "car.car_info()\n"
   ]
  },
  {
   "cell_type": "markdown",
   "metadata": {},
   "source": [
    "##### 2. Multiple Inheritance\n",
    "___ "
   ]
  },
  {
   "cell_type": "markdown",
   "metadata": {},
   "source": [
    "Multiple inheritance is when a child class inherits from more than one parent class. Here is one child class and two parent classes.\n"
   ]
  },
  {
   "cell_type": "markdown",
   "metadata": {},
   "source": [
    "![alt text](../../../Teslim_python_cheat/Class_object_6.png)"
   ]
  },
  {
   "cell_type": "code",
   "execution_count": null,
   "metadata": {},
   "outputs": [],
   "source": [
    "# Parent class 1\n",
    "class Person:\n",
    "    def person_info(self, name, age):\n",
    "        print('Inside Person class')\n",
    "        print('Name:', name, 'Age:', age)\n",
    "\n",
    "# Parent class 2\n",
    "class Company:\n",
    "    def company_info(self, company_name, location):\n",
    "        print('Inside Company class')\n",
    "        print('Name:', company_name, 'location:', location)\n",
    "\n",
    "# Child class\n",
    "class Employee(Person, Company):\n",
    "    def Employee_info(self, salary, skill):\n",
    "        print('Inside Employee class')\n",
    "        print('Salary:', salary, 'Skill:', skill)\n",
    "\n",
    "# Create object of Employee\n",
    "emp = Employee()\n",
    "\n",
    "# access data\n",
    "emp.person_info('Jessa', 28)\n",
    "emp.company_info('Google', 'Atlanta')\n",
    "emp.Employee_info(12000, 'Machine Learning')\n"
   ]
  },
  {
   "cell_type": "code",
   "execution_count": 1,
   "metadata": {},
   "outputs": [
    {
     "name": "stdout",
     "output_type": "stream",
     "text": [
      "Inside Item class\n",
      "Name: Laptop Brand: Dell\n",
      "Inside Stock class\n",
      "Quantity: 10 Location: Warehouse\n",
      "Inside Product class\n",
      "Price: 1200 Category: Electronics\n"
     ]
    }
   ],
   "source": [
    "# Parent class 1\n",
    "class Item:\n",
    "    def item_info(self, name, brand):\n",
    "        print('Inside Item class')\n",
    "        print('Name:', name, 'Brand:', brand)\n",
    "\n",
    "# Parent class 2\n",
    "class Stock:\n",
    "    def stock_info(self, quantity, location):\n",
    "        print('Inside Stock class')\n",
    "        print('Quantity:', quantity, 'Location:', location)\n",
    "\n",
    "# Child class\n",
    "class Product(Item, Stock):\n",
    "    def product_info(self, price, category):\n",
    "        print('Inside Product class')\n",
    "        print('Price:', price, 'Category:', category)\n",
    "\n",
    "# Create object of Product\n",
    "product = Product()\n",
    "\n",
    "# access data\n",
    "product.item_info('Laptop', 'Dell')\n",
    "product.stock_info(10, 'Warehouse')\n",
    "product.product_info(1200, 'Electronics')\n"
   ]
  },
  {
   "cell_type": "markdown",
   "metadata": {},
   "source": [
    "##### 3. Multi-Level  Inheritance\n",
    "___ "
   ]
  },
  {
   "cell_type": "markdown",
   "metadata": {},
   "source": [
    "In multilevel inheritance, a class inherits from a child class or derived class. Suppose three classes A, B, C. A is the superclass, B is the child class of A, C is the child class of B. In other words, we can say a chain of classes is called multilevel inheritance."
   ]
  },
  {
   "cell_type": "markdown",
   "metadata": {},
   "source": [
    "![alt text](../../../Teslim_python_cheat/Class_Object_7.png)"
   ]
  },
  {
   "cell_type": "code",
   "execution_count": 1,
   "metadata": {},
   "outputs": [
    {
     "name": "stdout",
     "output_type": "stream",
     "text": [
      "Inside Animal class\n",
      "Name: Dog Color: Black\n",
      "Inside Breed class\n",
      "Breed: Labrador Age: 2\n",
      "Inside Dog class\n",
      "Weight: 30 Height: 2\n"
     ]
    }
   ],
   "source": [
    "# Parent class 1\n",
    "class Animal:\n",
    "    def animal_info(self, name, color):\n",
    "        print('Inside Animal class')\n",
    "        print('Name:', name, 'Color:', color)\n",
    "\n",
    "# Parent class 2\n",
    "class Breed:\n",
    "    def breed_info(self, breed, age):\n",
    "        print('Inside Breed class')\n",
    "        print('Breed:', breed, 'Age:', age)\n",
    "\n",
    "# Child class\n",
    "class Dog(Animal, Breed):\n",
    "    def dog_info(self, weight, height):\n",
    "        print('Inside Dog class')\n",
    "        print('Weight:', weight, 'Height:', height)\n",
    "\n",
    "# Create object of Dog\n",
    "dog = Dog()\n",
    "\n",
    "# access data\n",
    "dog.animal_info('Dog', 'Black') \n",
    "dog.breed_info('Labrador', 2)   \n",
    "dog.dog_info(30, 2)"
   ]
  },
  {
   "cell_type": "code",
   "execution_count": 2,
   "metadata": {},
   "outputs": [
    {
     "name": "stdout",
     "output_type": "stream",
     "text": [
      "Inside Vehicle class\n",
      "Inside Car class\n",
      "Inside SportsCar class\n"
     ]
    }
   ],
   "source": [
    "# Base class\n",
    "class Vehicle:\n",
    "    def Vehicle_info(self):\n",
    "        print('Inside Vehicle class')\n",
    "\n",
    "# Child class\n",
    "class Car(Vehicle):\n",
    "    def car_info(self):\n",
    "        print('Inside Car class')\n",
    "\n",
    "# Child class\n",
    "class SportsCar(Car):\n",
    "    def sports_car_info(self):\n",
    "        print('Inside SportsCar class')\n",
    "\n",
    "# Create object of SportsCar\n",
    "s_car = SportsCar()\n",
    "\n",
    "# access Vehicle's and Car info using SportsCar object\n",
    "s_car.Vehicle_info()\n",
    "s_car.car_info()\n",
    "s_car.sports_car_info()\n"
   ]
  },
  {
   "cell_type": "markdown",
   "metadata": {},
   "source": [
    "In the above example, we can see there are three classes named Vehicle, Car, SportsCar. Vehicle is the superclass, Car is a child of Vehicle, SportsCar is a child of Car. So we can see the chaining of classes."
   ]
  },
  {
   "cell_type": "markdown",
   "metadata": {},
   "source": [
    "##### 4. Hierarchical Inheritance\n",
    "___"
   ]
  },
  {
   "cell_type": "markdown",
   "metadata": {},
   "source": [
    "In Hierarchical inheritance, more than one child class is derived from a single parent class. In other words, we can say one parent class and multiple child classes."
   ]
  },
  {
   "cell_type": "markdown",
   "metadata": {},
   "source": [
    "![alt text](../../../Teslim_python_cheat/Class_object_8.png)"
   ]
  },
  {
   "cell_type": "markdown",
   "metadata": {},
   "source": [
    "Let’s create ‘Vehicle’ as a parent class and two child class ‘Car’ and ‘Truck’ as a parent class."
   ]
  },
  {
   "cell_type": "code",
   "execution_count": 3,
   "metadata": {},
   "outputs": [
    {
     "name": "stdout",
     "output_type": "stream",
     "text": [
      "This is Vehicle\n",
      "Car name is: BMW\n",
      "This is Vehicle\n",
      "Truck name is: Ford\n"
     ]
    }
   ],
   "source": [
    "class Vehicle:\n",
    "    def info(self):\n",
    "        print(\"This is Vehicle\")\n",
    "\n",
    "class Car(Vehicle):\n",
    "    def car_info(self, name):\n",
    "        print(\"Car name is:\", name)\n",
    "\n",
    "class Truck(Vehicle):\n",
    "    def truck_info(self, name):\n",
    "        print(\"Truck name is:\", name)\n",
    "\n",
    "obj1 = Car()\n",
    "obj1.info()\n",
    "obj1.car_info('BMW')\n",
    "\n",
    "obj2 = Truck()\n",
    "obj2.info()\n",
    "obj2.truck_info('Ford')"
   ]
  },
  {
   "cell_type": "markdown",
   "metadata": {},
   "source": [
    "This Python code demonstrates the concept of inheritance, a fundamental principle in object-oriented programming. Inheritance allows a class to inherit the properties and methods of another class.\n",
    "\n",
    "The [`Vehicle`](command:_github.copilot.openSymbolFromReferences?%5B%7B%22%24mid%22%3A1%2C%22fsPath%22%3A%22%2FUsers%2Fteslim%2FLibrary%2FCloudStorage%2FOneDrive-TeslimUthmanAdeyanju%2FTeSlim_Data_Scientist%2F03_Python%2FTeslim_python_study_note%2FTeslim_Python_BOOK%2F06-Object%20Oriented%20Programing%2F3-Inheritance.ipynb%22%2C%22path%22%3A%22%2FUsers%2Fteslim%2FLibrary%2FCloudStorage%2FOneDrive-TeslimUthmanAdeyanju%2FTeSlim_Data_Scientist%2F03_Python%2FTeslim_python_study_note%2FTeslim_Python_BOOK%2F06-Object%20Oriented%20Programing%2F3-Inheritance.ipynb%22%2C%22scheme%22%3A%22vscode-notebook-cell%22%2C%22fragment%22%3A%22X33sZmlsZQ%3D%3D%22%7D%2C%7B%22line%22%3A0%2C%22character%22%3A6%7D%5D \"/Users/teslim/Library/CloudStorage/OneDrive-TeslimUthmanAdeyanju/TeSlim_Data_Scientist/03_Python/Teslim_python_study_note/Teslim_Python_BOOK/06-Object Oriented Programing/3-Inheritance.ipynb\") class is the parent or base class. It has a method [`info()`](command:_github.copilot.openSymbolFromReferences?%5B%7B%22%24mid%22%3A1%2C%22fsPath%22%3A%22%2FUsers%2Fteslim%2FLibrary%2FCloudStorage%2FOneDrive-TeslimUthmanAdeyanju%2FTeSlim_Data_Scientist%2F03_Python%2FTeslim_python_study_note%2FTeslim_Python_BOOK%2F06-Object%20Oriented%20Programing%2F3-Inheritance.ipynb%22%2C%22path%22%3A%22%2FUsers%2Fteslim%2FLibrary%2FCloudStorage%2FOneDrive-TeslimUthmanAdeyanju%2FTeSlim_Data_Scientist%2F03_Python%2FTeslim_python_study_note%2FTeslim_Python_BOOK%2F06-Object%20Oriented%20Programing%2F3-Inheritance.ipynb%22%2C%22scheme%22%3A%22vscode-notebook-cell%22%2C%22fragment%22%3A%22X33sZmlsZQ%3D%3D%22%7D%2C%7B%22line%22%3A1%2C%22character%22%3A8%7D%5D \"/Users/teslim/Library/CloudStorage/OneDrive-TeslimUthmanAdeyanju/TeSlim_Data_Scientist/03_Python/Teslim_python_study_note/Teslim_Python_BOOK/06-Object Oriented Programing/3-Inheritance.ipynb\") that prints a string \"This is Vehicle\". \n",
    "\n",
    "The [`Car`](command:_github.copilot.openSymbolFromReferences?%5B%7B%22%24mid%22%3A1%2C%22fsPath%22%3A%22%2FUsers%2Fteslim%2FLibrary%2FCloudStorage%2FOneDrive-TeslimUthmanAdeyanju%2FTeSlim_Data_Scientist%2F03_Python%2FTeslim_python_study_note%2FTeslim_Python_BOOK%2F06-Object%20Oriented%20Programing%2F3-Inheritance.ipynb%22%2C%22path%22%3A%22%2FUsers%2Fteslim%2FLibrary%2FCloudStorage%2FOneDrive-TeslimUthmanAdeyanju%2FTeSlim_Data_Scientist%2F03_Python%2FTeslim_python_study_note%2FTeslim_Python_BOOK%2F06-Object%20Oriented%20Programing%2F3-Inheritance.ipynb%22%2C%22scheme%22%3A%22vscode-notebook-cell%22%2C%22fragment%22%3A%22X33sZmlsZQ%3D%3D%22%7D%2C%7B%22line%22%3A4%2C%22character%22%3A6%7D%5D \"/Users/teslim/Library/CloudStorage/OneDrive-TeslimUthmanAdeyanju/TeSlim_Data_Scientist/03_Python/Teslim_python_study_note/Teslim_Python_BOOK/06-Object Oriented Programing/3-Inheritance.ipynb\") and [`Truck`](command:_github.copilot.openSymbolFromReferences?%5B%7B%22%24mid%22%3A1%2C%22fsPath%22%3A%22%2FUsers%2Fteslim%2FLibrary%2FCloudStorage%2FOneDrive-TeslimUthmanAdeyanju%2FTeSlim_Data_Scientist%2F03_Python%2FTeslim_python_study_note%2FTeslim_Python_BOOK%2F06-Object%20Oriented%20Programing%2F3-Inheritance.ipynb%22%2C%22path%22%3A%22%2FUsers%2Fteslim%2FLibrary%2FCloudStorage%2FOneDrive-TeslimUthmanAdeyanju%2FTeSlim_Data_Scientist%2F03_Python%2FTeslim_python_study_note%2FTeslim_Python_BOOK%2F06-Object%20Oriented%20Programing%2F3-Inheritance.ipynb%22%2C%22scheme%22%3A%22vscode-notebook-cell%22%2C%22fragment%22%3A%22X33sZmlsZQ%3D%3D%22%7D%2C%7B%22line%22%3A8%2C%22character%22%3A6%7D%5D \"/Users/teslim/Library/CloudStorage/OneDrive-TeslimUthmanAdeyanju/TeSlim_Data_Scientist/03_Python/Teslim_python_study_note/Teslim_Python_BOOK/06-Object Oriented Programing/3-Inheritance.ipynb\") classes are child classes that inherit from the [`Vehicle`](command:_github.copilot.openSymbolFromReferences?%5B%7B%22%24mid%22%3A1%2C%22fsPath%22%3A%22%2FUsers%2Fteslim%2FLibrary%2FCloudStorage%2FOneDrive-TeslimUthmanAdeyanju%2FTeSlim_Data_Scientist%2F03_Python%2FTeslim_python_study_note%2FTeslim_Python_BOOK%2F06-Object%20Oriented%20Programing%2F3-Inheritance.ipynb%22%2C%22path%22%3A%22%2FUsers%2Fteslim%2FLibrary%2FCloudStorage%2FOneDrive-TeslimUthmanAdeyanju%2FTeSlim_Data_Scientist%2F03_Python%2FTeslim_python_study_note%2FTeslim_Python_BOOK%2F06-Object%20Oriented%20Programing%2F3-Inheritance.ipynb%22%2C%22scheme%22%3A%22vscode-notebook-cell%22%2C%22fragment%22%3A%22X33sZmlsZQ%3D%3D%22%7D%2C%7B%22line%22%3A0%2C%22character%22%3A6%7D%5D \"/Users/teslim/Library/CloudStorage/OneDrive-TeslimUthmanAdeyanju/TeSlim_Data_Scientist/03_Python/Teslim_python_study_note/Teslim_Python_BOOK/06-Object Oriented Programing/3-Inheritance.ipynb\") class. This is indicated by the parentheses after the class name, which contain the name of the parent class. Both [`Car`](command:_github.copilot.openSymbolFromReferences?%5B%7B%22%24mid%22%3A1%2C%22fsPath%22%3A%22%2FUsers%2Fteslim%2FLibrary%2FCloudStorage%2FOneDrive-TeslimUthmanAdeyanju%2FTeSlim_Data_Scientist%2F03_Python%2FTeslim_python_study_note%2FTeslim_Python_BOOK%2F06-Object%20Oriented%20Programing%2F3-Inheritance.ipynb%22%2C%22path%22%3A%22%2FUsers%2Fteslim%2FLibrary%2FCloudStorage%2FOneDrive-TeslimUthmanAdeyanju%2FTeSlim_Data_Scientist%2F03_Python%2FTeslim_python_study_note%2FTeslim_Python_BOOK%2F06-Object%20Oriented%20Programing%2F3-Inheritance.ipynb%22%2C%22scheme%22%3A%22vscode-notebook-cell%22%2C%22fragment%22%3A%22X33sZmlsZQ%3D%3D%22%7D%2C%7B%22line%22%3A4%2C%22character%22%3A6%7D%5D \"/Users/teslim/Library/CloudStorage/OneDrive-TeslimUthmanAdeyanju/TeSlim_Data_Scientist/03_Python/Teslim_python_study_note/Teslim_Python_BOOK/06-Object Oriented Programing/3-Inheritance.ipynb\") and [`Truck`](command:_github.copilot.openSymbolFromReferences?%5B%7B%22%24mid%22%3A1%2C%22fsPath%22%3A%22%2FUsers%2Fteslim%2FLibrary%2FCloudStorage%2FOneDrive-TeslimUthmanAdeyanju%2FTeSlim_Data_Scientist%2F03_Python%2FTeslim_python_study_note%2FTeslim_Python_BOOK%2F06-Object%20Oriented%20Programing%2F3-Inheritance.ipynb%22%2C%22path%22%3A%22%2FUsers%2Fteslim%2FLibrary%2FCloudStorage%2FOneDrive-TeslimUthmanAdeyanju%2FTeSlim_Data_Scientist%2F03_Python%2FTeslim_python_study_note%2FTeslim_Python_BOOK%2F06-Object%20Oriented%20Programing%2F3-Inheritance.ipynb%22%2C%22scheme%22%3A%22vscode-notebook-cell%22%2C%22fragment%22%3A%22X33sZmlsZQ%3D%3D%22%7D%2C%7B%22line%22%3A8%2C%22character%22%3A6%7D%5D \"/Users/teslim/Library/CloudStorage/OneDrive-TeslimUthmanAdeyanju/TeSlim_Data_Scientist/03_Python/Teslim_python_study_note/Teslim_Python_BOOK/06-Object Oriented Programing/3-Inheritance.ipynb\") classes have their own methods [`car_info(name)`](command:_github.copilot.openSymbolFromReferences?%5B%7B%22%24mid%22%3A1%2C%22fsPath%22%3A%22%2FUsers%2Fteslim%2FLibrary%2FCloudStorage%2FOneDrive-TeslimUthmanAdeyanju%2FTeSlim_Data_Scientist%2F03_Python%2FTeslim_python_study_note%2FTeslim_Python_BOOK%2F06-Object%20Oriented%20Programing%2F3-Inheritance.ipynb%22%2C%22path%22%3A%22%2FUsers%2Fteslim%2FLibrary%2FCloudStorage%2FOneDrive-TeslimUthmanAdeyanju%2FTeSlim_Data_Scientist%2F03_Python%2FTeslim_python_study_note%2FTeslim_Python_BOOK%2F06-Object%20Oriented%20Programing%2F3-Inheritance.ipynb%22%2C%22scheme%22%3A%22vscode-notebook-cell%22%2C%22fragment%22%3A%22X33sZmlsZQ%3D%3D%22%7D%2C%7B%22line%22%3A5%2C%22character%22%3A8%7D%5D \"/Users/teslim/Library/CloudStorage/OneDrive-TeslimUthmanAdeyanju/TeSlim_Data_Scientist/03_Python/Teslim_python_study_note/Teslim_Python_BOOK/06-Object Oriented Programing/3-Inheritance.ipynb\") and [`truck_info(name)`](command:_github.copilot.openSymbolFromReferences?%5B%7B%22%24mid%22%3A1%2C%22fsPath%22%3A%22%2FUsers%2Fteslim%2FLibrary%2FCloudStorage%2FOneDrive-TeslimUthmanAdeyanju%2FTeSlim_Data_Scientist%2F03_Python%2FTeslim_python_study_note%2FTeslim_Python_BOOK%2F06-Object%20Oriented%20Programing%2F3-Inheritance.ipynb%22%2C%22path%22%3A%22%2FUsers%2Fteslim%2FLibrary%2FCloudStorage%2FOneDrive-TeslimUthmanAdeyanju%2FTeSlim_Data_Scientist%2F03_Python%2FTeslim_python_study_note%2FTeslim_Python_BOOK%2F06-Object%20Oriented%20Programing%2F3-Inheritance.ipynb%22%2C%22scheme%22%3A%22vscode-notebook-cell%22%2C%22fragment%22%3A%22X33sZmlsZQ%3D%3D%22%7D%2C%7B%22line%22%3A9%2C%22character%22%3A8%7D%5D \"/Users/teslim/Library/CloudStorage/OneDrive-TeslimUthmanAdeyanju/TeSlim_Data_Scientist/03_Python/Teslim_python_study_note/Teslim_Python_BOOK/06-Object Oriented Programing/3-Inheritance.ipynb\") respectively, which print the name of the car or truck.\n",
    "\n",
    "The [`obj1`](command:_github.copilot.openSymbolFromReferences?%5B%7B%22%24mid%22%3A1%2C%22fsPath%22%3A%22%2FUsers%2Fteslim%2FLibrary%2FCloudStorage%2FOneDrive-TeslimUthmanAdeyanju%2FTeSlim_Data_Scientist%2F03_Python%2FTeslim_python_study_note%2FTeslim_Python_BOOK%2F06-Object%20Oriented%20Programing%2F3-Inheritance.ipynb%22%2C%22path%22%3A%22%2FUsers%2Fteslim%2FLibrary%2FCloudStorage%2FOneDrive-TeslimUthmanAdeyanju%2FTeSlim_Data_Scientist%2F03_Python%2FTeslim_python_study_note%2FTeslim_Python_BOOK%2F06-Object%20Oriented%20Programing%2F3-Inheritance.ipynb%22%2C%22scheme%22%3A%22vscode-notebook-cell%22%2C%22fragment%22%3A%22X33sZmlsZQ%3D%3D%22%7D%2C%7B%22line%22%3A12%2C%22character%22%3A0%7D%5D \"/Users/teslim/Library/CloudStorage/OneDrive-TeslimUthmanAdeyanju/TeSlim_Data_Scientist/03_Python/Teslim_python_study_note/Teslim_Python_BOOK/06-Object Oriented Programing/3-Inheritance.ipynb\") and [`obj2`](command:_github.copilot.openSymbolFromReferences?%5B%7B%22%24mid%22%3A1%2C%22fsPath%22%3A%22%2FUsers%2Fteslim%2FLibrary%2FCloudStorage%2FOneDrive-TeslimUthmanAdeyanju%2FTeSlim_Data_Scientist%2F03_Python%2FTeslim_python_study_note%2FTeslim_Python_BOOK%2F06-Object%20Oriented%20Programing%2F3-Inheritance.ipynb%22%2C%22path%22%3A%22%2FUsers%2Fteslim%2FLibrary%2FCloudStorage%2FOneDrive-TeslimUthmanAdeyanju%2FTeSlim_Data_Scientist%2F03_Python%2FTeslim_python_study_note%2FTeslim_Python_BOOK%2F06-Object%20Oriented%20Programing%2F3-Inheritance.ipynb%22%2C%22scheme%22%3A%22vscode-notebook-cell%22%2C%22fragment%22%3A%22X33sZmlsZQ%3D%3D%22%7D%2C%7B%22line%22%3A16%2C%22character%22%3A0%7D%5D \"/Users/teslim/Library/CloudStorage/OneDrive-TeslimUthmanAdeyanju/TeSlim_Data_Scientist/03_Python/Teslim_python_study_note/Teslim_Python_BOOK/06-Object Oriented Programing/3-Inheritance.ipynb\") are instances of the [`Car`](command:_github.copilot.openSymbolFromReferences?%5B%7B%22%24mid%22%3A1%2C%22fsPath%22%3A%22%2FUsers%2Fteslim%2FLibrary%2FCloudStorage%2FOneDrive-TeslimUthmanAdeyanju%2FTeSlim_Data_Scientist%2F03_Python%2FTeslim_python_study_note%2FTeslim_Python_BOOK%2F06-Object%20Oriented%20Programing%2F3-Inheritance.ipynb%22%2C%22path%22%3A%22%2FUsers%2Fteslim%2FLibrary%2FCloudStorage%2FOneDrive-TeslimUthmanAdeyanju%2FTeSlim_Data_Scientist%2F03_Python%2FTeslim_python_study_note%2FTeslim_Python_BOOK%2F06-Object%20Oriented%20Programing%2F3-Inheritance.ipynb%22%2C%22scheme%22%3A%22vscode-notebook-cell%22%2C%22fragment%22%3A%22X33sZmlsZQ%3D%3D%22%7D%2C%7B%22line%22%3A4%2C%22character%22%3A6%7D%5D \"/Users/teslim/Library/CloudStorage/OneDrive-TeslimUthmanAdeyanju/TeSlim_Data_Scientist/03_Python/Teslim_python_study_note/Teslim_Python_BOOK/06-Object Oriented Programing/3-Inheritance.ipynb\") and [`Truck`](command:_github.copilot.openSymbolFromReferences?%5B%7B%22%24mid%22%3A1%2C%22fsPath%22%3A%22%2FUsers%2Fteslim%2FLibrary%2FCloudStorage%2FOneDrive-TeslimUthmanAdeyanju%2FTeSlim_Data_Scientist%2F03_Python%2FTeslim_python_study_note%2FTeslim_Python_BOOK%2F06-Object%20Oriented%20Programing%2F3-Inheritance.ipynb%22%2C%22path%22%3A%22%2FUsers%2Fteslim%2FLibrary%2FCloudStorage%2FOneDrive-TeslimUthmanAdeyanju%2FTeSlim_Data_Scientist%2F03_Python%2FTeslim_python_study_note%2FTeslim_Python_BOOK%2F06-Object%20Oriented%20Programing%2F3-Inheritance.ipynb%22%2C%22scheme%22%3A%22vscode-notebook-cell%22%2C%22fragment%22%3A%22X33sZmlsZQ%3D%3D%22%7D%2C%7B%22line%22%3A8%2C%22character%22%3A6%7D%5D \"/Users/teslim/Library/CloudStorage/OneDrive-TeslimUthmanAdeyanju/TeSlim_Data_Scientist/03_Python/Teslim_python_study_note/Teslim_Python_BOOK/06-Object Oriented Programing/3-Inheritance.ipynb\") classes respectively. Because these classes inherit from [`Vehicle`](command:_github.copilot.openSymbolFromReferences?%5B%7B%22%24mid%22%3A1%2C%22fsPath%22%3A%22%2FUsers%2Fteslim%2FLibrary%2FCloudStorage%2FOneDrive-TeslimUthmanAdeyanju%2FTeSlim_Data_Scientist%2F03_Python%2FTeslim_python_study_note%2FTeslim_Python_BOOK%2F06-Object%20Oriented%20Programing%2F3-Inheritance.ipynb%22%2C%22path%22%3A%22%2FUsers%2Fteslim%2FLibrary%2FCloudStorage%2FOneDrive-TeslimUthmanAdeyanju%2FTeSlim_Data_Scientist%2F03_Python%2FTeslim_python_study_note%2FTeslim_Python_BOOK%2F06-Object%20Oriented%20Programing%2F3-Inheritance.ipynb%22%2C%22scheme%22%3A%22vscode-notebook-cell%22%2C%22fragment%22%3A%22X33sZmlsZQ%3D%3D%22%7D%2C%7B%22line%22%3A0%2C%22character%22%3A6%7D%5D \"/Users/teslim/Library/CloudStorage/OneDrive-TeslimUthmanAdeyanju/TeSlim_Data_Scientist/03_Python/Teslim_python_study_note/Teslim_Python_BOOK/06-Object Oriented Programing/3-Inheritance.ipynb\"), they can use the [`info()`](command:_github.copilot.openSymbolFromReferences?%5B%7B%22%24mid%22%3A1%2C%22fsPath%22%3A%22%2FUsers%2Fteslim%2FLibrary%2FCloudStorage%2FOneDrive-TeslimUthmanAdeyanju%2FTeSlim_Data_Scientist%2F03_Python%2FTeslim_python_study_note%2FTeslim_Python_BOOK%2F06-Object%20Oriented%20Programing%2F3-Inheritance.ipynb%22%2C%22path%22%3A%22%2FUsers%2Fteslim%2FLibrary%2FCloudStorage%2FOneDrive-TeslimUthmanAdeyanju%2FTeSlim_Data_Scientist%2F03_Python%2FTeslim_python_study_note%2FTeslim_Python_BOOK%2F06-Object%20Oriented%20Programing%2F3-Inheritance.ipynb%22%2C%22scheme%22%3A%22vscode-notebook-cell%22%2C%22fragment%22%3A%22X33sZmlsZQ%3D%3D%22%7D%2C%7B%22line%22%3A1%2C%22character%22%3A8%7D%5D \"/Users/teslim/Library/CloudStorage/OneDrive-TeslimUthmanAdeyanju/TeSlim_Data_Scientist/03_Python/Teslim_python_study_note/Teslim_Python_BOOK/06-Object Oriented Programing/3-Inheritance.ipynb\") method defined in the [`Vehicle`](command:_github.copilot.openSymbolFromReferences?%5B%7B%22%24mid%22%3A1%2C%22fsPath%22%3A%22%2FUsers%2Fteslim%2FLibrary%2FCloudStorage%2FOneDrive-TeslimUthmanAdeyanju%2FTeSlim_Data_Scientist%2F03_Python%2FTeslim_python_study_note%2FTeslim_Python_BOOK%2F06-Object%20Oriented%20Programing%2F3-Inheritance.ipynb%22%2C%22path%22%3A%22%2FUsers%2Fteslim%2FLibrary%2FCloudStorage%2FOneDrive-TeslimUthmanAdeyanju%2FTeSlim_Data_Scientist%2F03_Python%2FTeslim_python_study_note%2FTeslim_Python_BOOK%2F06-Object%20Oriented%20Programing%2F3-Inheritance.ipynb%22%2C%22scheme%22%3A%22vscode-notebook-cell%22%2C%22fragment%22%3A%22X33sZmlsZQ%3D%3D%22%7D%2C%7B%22line%22%3A0%2C%22character%22%3A6%7D%5D \"/Users/teslim/Library/CloudStorage/OneDrive-TeslimUthmanAdeyanju/TeSlim_Data_Scientist/03_Python/Teslim_python_study_note/Teslim_Python_BOOK/06-Object Oriented Programing/3-Inheritance.ipynb\") class. This is demonstrated when [`obj1.info()`](command:_github.copilot.openSymbolFromReferences?%5B%7B%22%24mid%22%3A1%2C%22fsPath%22%3A%22%2FUsers%2Fteslim%2FLibrary%2FCloudStorage%2FOneDrive-TeslimUthmanAdeyanju%2FTeSlim_Data_Scientist%2F03_Python%2FTeslim_python_study_note%2FTeslim_Python_BOOK%2F06-Object%20Oriented%20Programing%2F3-Inheritance.ipynb%22%2C%22path%22%3A%22%2FUsers%2Fteslim%2FLibrary%2FCloudStorage%2FOneDrive-TeslimUthmanAdeyanju%2FTeSlim_Data_Scientist%2F03_Python%2FTeslim_python_study_note%2FTeslim_Python_BOOK%2F06-Object%20Oriented%20Programing%2F3-Inheritance.ipynb%22%2C%22scheme%22%3A%22vscode-notebook-cell%22%2C%22fragment%22%3A%22X33sZmlsZQ%3D%3D%22%7D%2C%7B%22line%22%3A12%2C%22character%22%3A0%7D%5D \"/Users/teslim/Library/CloudStorage/OneDrive-TeslimUthmanAdeyanju/TeSlim_Data_Scientist/03_Python/Teslim_python_study_note/Teslim_Python_BOOK/06-Object Oriented Programing/3-Inheritance.ipynb\") and [`obj2.info()`](command:_github.copilot.openSymbolFromReferences?%5B%7B%22%24mid%22%3A1%2C%22fsPath%22%3A%22%2FUsers%2Fteslim%2FLibrary%2FCloudStorage%2FOneDrive-TeslimUthmanAdeyanju%2FTeSlim_Data_Scientist%2F03_Python%2FTeslim_python_study_note%2FTeslim_Python_BOOK%2F06-Object%20Oriented%20Programing%2F3-Inheritance.ipynb%22%2C%22path%22%3A%22%2FUsers%2Fteslim%2FLibrary%2FCloudStorage%2FOneDrive-TeslimUthmanAdeyanju%2FTeSlim_Data_Scientist%2F03_Python%2FTeslim_python_study_note%2FTeslim_Python_BOOK%2F06-Object%20Oriented%20Programing%2F3-Inheritance.ipynb%22%2C%22scheme%22%3A%22vscode-notebook-cell%22%2C%22fragment%22%3A%22X33sZmlsZQ%3D%3D%22%7D%2C%7B%22line%22%3A16%2C%22character%22%3A0%7D%5D \"/Users/teslim/Library/CloudStorage/OneDrive-TeslimUthmanAdeyanju/TeSlim_Data_Scientist/03_Python/Teslim_python_study_note/Teslim_Python_BOOK/06-Object Oriented Programing/3-Inheritance.ipynb\") are called. \n",
    "\n",
    "The [`car_info('BMW')`](command:_github.copilot.openSymbolFromReferences?%5B%7B%22%24mid%22%3A1%2C%22fsPath%22%3A%22%2FUsers%2Fteslim%2FLibrary%2FCloudStorage%2FOneDrive-TeslimUthmanAdeyanju%2FTeSlim_Data_Scientist%2F03_Python%2FTeslim_python_study_note%2FTeslim_Python_BOOK%2F06-Object%20Oriented%20Programing%2F3-Inheritance.ipynb%22%2C%22path%22%3A%22%2FUsers%2Fteslim%2FLibrary%2FCloudStorage%2FOneDrive-TeslimUthmanAdeyanju%2FTeSlim_Data_Scientist%2F03_Python%2FTeslim_python_study_note%2FTeslim_Python_BOOK%2F06-Object%20Oriented%20Programing%2F3-Inheritance.ipynb%22%2C%22scheme%22%3A%22vscode-notebook-cell%22%2C%22fragment%22%3A%22X33sZmlsZQ%3D%3D%22%7D%2C%7B%22line%22%3A5%2C%22character%22%3A8%7D%5D \"/Users/teslim/Library/CloudStorage/OneDrive-TeslimUthmanAdeyanju/TeSlim_Data_Scientist/03_Python/Teslim_python_study_note/Teslim_Python_BOOK/06-Object Oriented Programing/3-Inheritance.ipynb\") and [`truck_info('Ford')`](command:_github.copilot.openSymbolFromReferences?%5B%7B%22%24mid%22%3A1%2C%22fsPath%22%3A%22%2FUsers%2Fteslim%2FLibrary%2FCloudStorage%2FOneDrive-TeslimUthmanAdeyanju%2FTeSlim_Data_Scientist%2F03_Python%2FTeslim_python_study_note%2FTeslim_Python_BOOK%2F06-Object%20Oriented%20Programing%2F3-Inheritance.ipynb%22%2C%22path%22%3A%22%2FUsers%2Fteslim%2FLibrary%2FCloudStorage%2FOneDrive-TeslimUthmanAdeyanju%2FTeSlim_Data_Scientist%2F03_Python%2FTeslim_python_study_note%2FTeslim_Python_BOOK%2F06-Object%20Oriented%20Programing%2F3-Inheritance.ipynb%22%2C%22scheme%22%3A%22vscode-notebook-cell%22%2C%22fragment%22%3A%22X33sZmlsZQ%3D%3D%22%7D%2C%7B%22line%22%3A9%2C%22character%22%3A8%7D%5D \"/Users/teslim/Library/CloudStorage/OneDrive-TeslimUthmanAdeyanju/TeSlim_Data_Scientist/03_Python/Teslim_python_study_note/Teslim_Python_BOOK/06-Object Oriented Programing/3-Inheritance.ipynb\") methods are then called on [`obj1`](command:_github.copilot.openSymbolFromReferences?%5B%7B%22%24mid%22%3A1%2C%22fsPath%22%3A%22%2FUsers%2Fteslim%2FLibrary%2FCloudStorage%2FOneDrive-TeslimUthmanAdeyanju%2FTeSlim_Data_Scientist%2F03_Python%2FTeslim_python_study_note%2FTeslim_Python_BOOK%2F06-Object%20Oriented%20Programing%2F3-Inheritance.ipynb%22%2C%22path%22%3A%22%2FUsers%2Fteslim%2FLibrary%2FCloudStorage%2FOneDrive-TeslimUthmanAdeyanju%2FTeSlim_Data_Scientist%2F03_Python%2FTeslim_python_study_note%2FTeslim_Python_BOOK%2F06-Object%20Oriented%20Programing%2F3-Inheritance.ipynb%22%2C%22scheme%22%3A%22vscode-notebook-cell%22%2C%22fragment%22%3A%22X33sZmlsZQ%3D%3D%22%7D%2C%7B%22line%22%3A12%2C%22character%22%3A0%7D%5D \"/Users/teslim/Library/CloudStorage/OneDrive-TeslimUthmanAdeyanju/TeSlim_Data_Scientist/03_Python/Teslim_python_study_note/Teslim_Python_BOOK/06-Object Oriented Programing/3-Inheritance.ipynb\") and [`obj2`](command:_github.copilot.openSymbolFromReferences?%5B%7B%22%24mid%22%3A1%2C%22fsPath%22%3A%22%2FUsers%2Fteslim%2FLibrary%2FCloudStorage%2FOneDrive-TeslimUthmanAdeyanju%2FTeSlim_Data_Scientist%2F03_Python%2FTeslim_python_study_note%2FTeslim_Python_BOOK%2F06-Object%20Oriented%20Programing%2F3-Inheritance.ipynb%22%2C%22path%22%3A%22%2FUsers%2Fteslim%2FLibrary%2FCloudStorage%2FOneDrive-TeslimUthmanAdeyanju%2FTeSlim_Data_Scientist%2F03_Python%2FTeslim_python_study_note%2FTeslim_Python_BOOK%2F06-Object%20Oriented%20Programing%2F3-Inheritance.ipynb%22%2C%22scheme%22%3A%22vscode-notebook-cell%22%2C%22fragment%22%3A%22X33sZmlsZQ%3D%3D%22%7D%2C%7B%22line%22%3A16%2C%22character%22%3A0%7D%5D \"/Users/teslim/Library/CloudStorage/OneDrive-TeslimUthmanAdeyanju/TeSlim_Data_Scientist/03_Python/Teslim_python_study_note/Teslim_Python_BOOK/06-Object Oriented Programing/3-Inheritance.ipynb\") respectively, demonstrating that these methods are specific to their respective classes. \n",
    "\n",
    "In summary, this code shows how inheritance allows classes to share common functionality (the [`info()`](command:_github.copilot.openSymbolFromReferences?%5B%7B%22%24mid%22%3A1%2C%22fsPath%22%3A%22%2FUsers%2Fteslim%2FLibrary%2FCloudStorage%2FOneDrive-TeslimUthmanAdeyanju%2FTeSlim_Data_Scientist%2F03_Python%2FTeslim_python_study_note%2FTeslim_Python_BOOK%2F06-Object%20Oriented%20Programing%2F3-Inheritance.ipynb%22%2C%22path%22%3A%22%2FUsers%2Fteslim%2FLibrary%2FCloudStorage%2FOneDrive-TeslimUthmanAdeyanju%2FTeSlim_Data_Scientist%2F03_Python%2FTeslim_python_study_note%2FTeslim_Python_BOOK%2F06-Object%20Oriented%20Programing%2F3-Inheritance.ipynb%22%2C%22scheme%22%3A%22vscode-notebook-cell%22%2C%22fragment%22%3A%22X33sZmlsZQ%3D%3D%22%7D%2C%7B%22line%22%3A1%2C%22character%22%3A8%7D%5D \"/Users/teslim/Library/CloudStorage/OneDrive-TeslimUthmanAdeyanju/TeSlim_Data_Scientist/03_Python/Teslim_python_study_note/Teslim_Python_BOOK/06-Object Oriented Programing/3-Inheritance.ipynb\") method in the [`Vehicle`](command:_github.copilot.openSymbolFromReferences?%5B%7B%22%24mid%22%3A1%2C%22fsPath%22%3A%22%2FUsers%2Fteslim%2FLibrary%2FCloudStorage%2FOneDrive-TeslimUthmanAdeyanju%2FTeSlim_Data_Scientist%2F03_Python%2FTeslim_python_study_note%2FTeslim_Python_BOOK%2F06-Object%20Oriented%20Programing%2F3-Inheritance.ipynb%22%2C%22path%22%3A%22%2FUsers%2Fteslim%2FLibrary%2FCloudStorage%2FOneDrive-TeslimUthmanAdeyanju%2FTeSlim_Data_Scientist%2F03_Python%2FTeslim_python_study_note%2FTeslim_Python_BOOK%2F06-Object%20Oriented%20Programing%2F3-Inheritance.ipynb%22%2C%22scheme%22%3A%22vscode-notebook-cell%22%2C%22fragment%22%3A%22X33sZmlsZQ%3D%3D%22%7D%2C%7B%22line%22%3A0%2C%22character%22%3A6%7D%5D \"/Users/teslim/Library/CloudStorage/OneDrive-TeslimUthmanAdeyanju/TeSlim_Data_Scientist/03_Python/Teslim_python_study_note/Teslim_Python_BOOK/06-Object Oriented Programing/3-Inheritance.ipynb\") class), while also defining their own unique behaviors (the [`car_info(name)`](command:_github.copilot.openSymbolFromReferences?%5B%7B%22%24mid%22%3A1%2C%22fsPath%22%3A%22%2FUsers%2Fteslim%2FLibrary%2FCloudStorage%2FOneDrive-TeslimUthmanAdeyanju%2FTeSlim_Data_Scientist%2F03_Python%2FTeslim_python_study_note%2FTeslim_Python_BOOK%2F06-Object%20Oriented%20Programing%2F3-Inheritance.ipynb%22%2C%22path%22%3A%22%2FUsers%2Fteslim%2FLibrary%2FCloudStorage%2FOneDrive-TeslimUthmanAdeyanju%2FTeSlim_Data_Scientist%2F03_Python%2FTeslim_python_study_note%2FTeslim_Python_BOOK%2F06-Object%20Oriented%20Programing%2F3-Inheritance.ipynb%22%2C%22scheme%22%3A%22vscode-notebook-cell%22%2C%22fragment%22%3A%22X33sZmlsZQ%3D%3D%22%7D%2C%7B%22line%22%3A5%2C%22character%22%3A8%7D%5D \"/Users/teslim/Library/CloudStorage/OneDrive-TeslimUthmanAdeyanju/TeSlim_Data_Scientist/03_Python/Teslim_python_study_note/Teslim_Python_BOOK/06-Object Oriented Programing/3-Inheritance.ipynb\") and [`truck_info(name)`](command:_github.copilot.openSymbolFromReferences?%5B%7B%22%24mid%22%3A1%2C%22fsPath%22%3A%22%2FUsers%2Fteslim%2FLibrary%2FCloudStorage%2FOneDrive-TeslimUthmanAdeyanju%2FTeSlim_Data_Scientist%2F03_Python%2FTeslim_python_study_note%2FTeslim_Python_BOOK%2F06-Object%20Oriented%20Programing%2F3-Inheritance.ipynb%22%2C%22path%22%3A%22%2FUsers%2Fteslim%2FLibrary%2FCloudStorage%2FOneDrive-TeslimUthmanAdeyanju%2FTeSlim_Data_Scientist%2F03_Python%2FTeslim_python_study_note%2FTeslim_Python_BOOK%2F06-Object%20Oriented%20Programing%2F3-Inheritance.ipynb%22%2C%22scheme%22%3A%22vscode-notebook-cell%22%2C%22fragment%22%3A%22X33sZmlsZQ%3D%3D%22%7D%2C%7B%22line%22%3A9%2C%22character%22%3A8%7D%5D \"/Users/teslim/Library/CloudStorage/OneDrive-TeslimUthmanAdeyanju/TeSlim_Data_Scientist/03_Python/Teslim_python_study_note/Teslim_Python_BOOK/06-Object Oriented Programing/3-Inheritance.ipynb\") methods in the [`Car`](command:_github.copilot.openSymbolFromReferences?%5B%7B%22%24mid%22%3A1%2C%22fsPath%22%3A%22%2FUsers%2Fteslim%2FLibrary%2FCloudStorage%2FOneDrive-TeslimUthmanAdeyanju%2FTeSlim_Data_Scientist%2F03_Python%2FTeslim_python_study_note%2FTeslim_Python_BOOK%2F06-Object%20Oriented%20Programing%2F3-Inheritance.ipynb%22%2C%22path%22%3A%22%2FUsers%2Fteslim%2FLibrary%2FCloudStorage%2FOneDrive-TeslimUthmanAdeyanju%2FTeSlim_Data_Scientist%2F03_Python%2FTeslim_python_study_note%2FTeslim_Python_BOOK%2F06-Object%20Oriented%20Programing%2F3-Inheritance.ipynb%22%2C%22scheme%22%3A%22vscode-notebook-cell%22%2C%22fragment%22%3A%22X33sZmlsZQ%3D%3D%22%7D%2C%7B%22line%22%3A4%2C%22character%22%3A6%7D%5D \"/Users/teslim/Library/CloudStorage/OneDrive-TeslimUthmanAdeyanju/TeSlim_Data_Scientist/03_Python/Teslim_python_study_note/Teslim_Python_BOOK/06-Object Oriented Programing/3-Inheritance.ipynb\") and [`Truck`](command:_github.copilot.openSymbolFromReferences?%5B%7B%22%24mid%22%3A1%2C%22fsPath%22%3A%22%2FUsers%2Fteslim%2FLibrary%2FCloudStorage%2FOneDrive-TeslimUthmanAdeyanju%2FTeSlim_Data_Scientist%2F03_Python%2FTeslim_python_study_note%2FTeslim_Python_BOOK%2F06-Object%20Oriented%20Programing%2F3-Inheritance.ipynb%22%2C%22path%22%3A%22%2FUsers%2Fteslim%2FLibrary%2FCloudStorage%2FOneDrive-TeslimUthmanAdeyanju%2FTeSlim_Data_Scientist%2F03_Python%2FTeslim_python_study_note%2FTeslim_Python_BOOK%2F06-Object%20Oriented%20Programing%2F3-Inheritance.ipynb%22%2C%22scheme%22%3A%22vscode-notebook-cell%22%2C%22fragment%22%3A%22X33sZmlsZQ%3D%3D%22%7D%2C%7B%22line%22%3A8%2C%22character%22%3A6%7D%5D \"/Users/teslim/Library/CloudStorage/OneDrive-TeslimUthmanAdeyanju/TeSlim_Data_Scientist/03_Python/Teslim_python_study_note/Teslim_Python_BOOK/06-Object Oriented Programing/3-Inheritance.ipynb\") classes)."
   ]
  },
  {
   "cell_type": "markdown",
   "metadata": {},
   "source": [
    "##### 5. Hybrid Inheritance\n",
    "___"
   ]
  },
  {
   "cell_type": "markdown",
   "metadata": {},
   "source": [
    "Hybrid inheritance is a combination of multiple and multilevel inheritance. In this type of inheritance, a class is derived from two or more classes, and these derived classes are then used to create another class. This type of inheritance is also known as hybrid inheritance."
   ]
  },
  {
   "cell_type": "markdown",
   "metadata": {},
   "source": [
    "![alt text](../../../Teslim_python_cheat/Class_object_9.png)"
   ]
  },
  {
   "cell_type": "code",
   "execution_count": 12,
   "metadata": {},
   "outputs": [
    {
     "name": "stdout",
     "output_type": "stream",
     "text": [
      "This is a vehicle.\n",
      "Car name is: BMW\n",
      "Car color is: Red\n",
      "\n",
      "\n",
      "This is a vehicle.\n",
      "Truck name is: Ford\n",
      "Truck capacity is: 5000\n",
      "\n",
      "\n",
      "This is a vehicle.\n",
      "Car name is: Ferrari\n",
      "Car color is: Yellow\n",
      "Sports car name is: Ferrari\n",
      "Sports car color is: Yellow\n",
      "Sports car top speed is: 300\n"
     ]
    }
   ],
   "source": [
    "\n",
    "# Base class\n",
    "class Vehicle:\n",
    "    def __init__(self, name):\n",
    "        self.name = name\n",
    "\n",
    "    def info(self):\n",
    "        print(\"This is a vehicle.\")\n",
    "\n",
    "# Child class 1\n",
    "class Car(Vehicle):\n",
    "    def __init__(self, name, color):\n",
    "        super().__init__(name)\n",
    "        self.color = color\n",
    "\n",
    "    def car_info(self):\n",
    "        print(\"Car name is:\", self.name)\n",
    "        print(\"Car color is:\", self.color)\n",
    "\n",
    "# Child class 2\n",
    "class Truck(Vehicle):\n",
    "    def __init__(self, name, capacity):\n",
    "        super().__init__(name)\n",
    "        self.capacity = capacity\n",
    "\n",
    "    def truck_info(self):\n",
    "        print(\"Truck name is:\", self.name)\n",
    "        print(\"Truck capacity is:\", self.capacity)\n",
    "\n",
    "# Child class 3\n",
    "class SportsCar(Car):\n",
    "    def __init__(self, name, color, top_speed):\n",
    "        super().__init__(name, color)\n",
    "        self.top_speed = top_speed\n",
    "\n",
    "    def sports_car_info(self):\n",
    "        print(\"Sports car name is:\", self.name)\n",
    "        print(\"Sports car color is:\", self.color)\n",
    "        print(\"Sports car top speed is:\", self.top_speed)\n",
    "\n",
    "# Create objects\n",
    "obj1 = Car(\"BMW\", \"Red\")\n",
    "obj2 = Truck(\"Ford\", 5000)\n",
    "s_car = SportsCar(\"Ferrari\", \"Yellow\", 300)\n",
    "\n",
    "# Access methods and attributes\n",
    "obj1.info()\n",
    "obj1.car_info()\n",
    "print(\"\\n\")\n",
    "obj2.info()\n",
    "obj2.truck_info()\n",
    "print(\"\\n\")\n",
    "s_car.info()\n",
    "s_car.car_info()\n",
    "s_car.sports_car_info()"
   ]
  },
  {
   "cell_type": "markdown",
   "metadata": {},
   "source": [
    "The provided Python code demonstrates the concept of inheritance, which is a fundamental principle in object-oriented programming. Inheritance allows a class to inherit attributes and methods from another class, promoting code reusability and the creation of more complex objects.\n",
    "\n",
    "The base class in this code is [`Vehicle`](command:_github.copilot.openSymbolFromReferences?%5B%7B%22%24mid%22%3A1%2C%22fsPath%22%3A%22%2FUsers%2Fteslim%2FLibrary%2FCloudStorage%2FOneDrive-TeslimUthmanAdeyanju%2FTeSlim_Data_Scientist%2F03_Python%2FTeslim_python_study_note%2FTeslim_Python_BOOK%2F06-Object%20Oriented%20Programing%2F3-Inheritance.ipynb%22%2C%22path%22%3A%22%2FUsers%2Fteslim%2FLibrary%2FCloudStorage%2FOneDrive-TeslimUthmanAdeyanju%2FTeSlim_Data_Scientist%2F03_Python%2FTeslim_python_study_note%2FTeslim_Python_BOOK%2F06-Object%20Oriented%20Programing%2F3-Inheritance.ipynb%22%2C%22scheme%22%3A%22vscode-notebook-cell%22%2C%22fragment%22%3A%22X42sZmlsZQ%3D%3D%22%7D%2C%7B%22line%22%3A2%2C%22character%22%3A6%7D%5D \"/Users/teslim/Library/CloudStorage/OneDrive-TeslimUthmanAdeyanju/TeSlim_Data_Scientist/03_Python/Teslim_python_study_note/Teslim_Python_BOOK/06-Object Oriented Programing/3-Inheritance.ipynb\"), which has an attribute [`name`](command:_github.copilot.openSymbolFromReferences?%5B%7B%22%24mid%22%3A1%2C%22fsPath%22%3A%22%2FUsers%2Fteslim%2FLibrary%2FCloudStorage%2FOneDrive-TeslimUthmanAdeyanju%2FTeSlim_Data_Scientist%2F03_Python%2FTeslim_python_study_note%2FTeslim_Python_BOOK%2F06-Object%20Oriented%20Programing%2F3-Inheritance.ipynb%22%2C%22path%22%3A%22%2FUsers%2Fteslim%2FLibrary%2FCloudStorage%2FOneDrive-TeslimUthmanAdeyanju%2FTeSlim_Data_Scientist%2F03_Python%2FTeslim_python_study_note%2FTeslim_Python_BOOK%2F06-Object%20Oriented%20Programing%2F3-Inheritance.ipynb%22%2C%22scheme%22%3A%22vscode-notebook-cell%22%2C%22fragment%22%3A%22X42sZmlsZQ%3D%3D%22%7D%2C%7B%22line%22%3A3%2C%22character%22%3A23%7D%5D \"/Users/teslim/Library/CloudStorage/OneDrive-TeslimUthmanAdeyanju/TeSlim_Data_Scientist/03_Python/Teslim_python_study_note/Teslim_Python_BOOK/06-Object Oriented Programing/3-Inheritance.ipynb\") and a method [`info()`](command:_github.copilot.openSymbolFromReferences?%5B%7B%22%24mid%22%3A1%2C%22fsPath%22%3A%22%2FUsers%2Fteslim%2FLibrary%2FCloudStorage%2FOneDrive-TeslimUthmanAdeyanju%2FTeSlim_Data_Scientist%2F03_Python%2FTeslim_python_study_note%2FTeslim_Python_BOOK%2F06-Object%20Oriented%20Programing%2F3-Inheritance.ipynb%22%2C%22path%22%3A%22%2FUsers%2Fteslim%2FLibrary%2FCloudStorage%2FOneDrive-TeslimUthmanAdeyanju%2FTeSlim_Data_Scientist%2F03_Python%2FTeslim_python_study_note%2FTeslim_Python_BOOK%2F06-Object%20Oriented%20Programing%2F3-Inheritance.ipynb%22%2C%22scheme%22%3A%22vscode-notebook-cell%22%2C%22fragment%22%3A%22X42sZmlsZQ%3D%3D%22%7D%2C%7B%22line%22%3A6%2C%22character%22%3A8%7D%5D \"/Users/teslim/Library/CloudStorage/OneDrive-TeslimUthmanAdeyanju/TeSlim_Data_Scientist/03_Python/Teslim_python_study_note/Teslim_Python_BOOK/06-Object Oriented Programing/3-Inheritance.ipynb\"). The [`name`](command:_github.copilot.openSymbolFromReferences?%5B%7B%22%24mid%22%3A1%2C%22fsPath%22%3A%22%2FUsers%2Fteslim%2FLibrary%2FCloudStorage%2FOneDrive-TeslimUthmanAdeyanju%2FTeSlim_Data_Scientist%2F03_Python%2FTeslim_python_study_note%2FTeslim_Python_BOOK%2F06-Object%20Oriented%20Programing%2F3-Inheritance.ipynb%22%2C%22path%22%3A%22%2FUsers%2Fteslim%2FLibrary%2FCloudStorage%2FOneDrive-TeslimUthmanAdeyanju%2FTeSlim_Data_Scientist%2F03_Python%2FTeslim_python_study_note%2FTeslim_Python_BOOK%2F06-Object%20Oriented%20Programing%2F3-Inheritance.ipynb%22%2C%22scheme%22%3A%22vscode-notebook-cell%22%2C%22fragment%22%3A%22X42sZmlsZQ%3D%3D%22%7D%2C%7B%22line%22%3A3%2C%22character%22%3A23%7D%5D \"/Users/teslim/Library/CloudStorage/OneDrive-TeslimUthmanAdeyanju/TeSlim_Data_Scientist/03_Python/Teslim_python_study_note/Teslim_Python_BOOK/06-Object Oriented Programing/3-Inheritance.ipynb\") attribute is set through the [`__init__()`](command:_github.copilot.openSymbolFromReferences?%5B%7B%22%24mid%22%3A1%2C%22fsPath%22%3A%22%2FUsers%2Fteslim%2FLibrary%2FCloudStorage%2FOneDrive-TeslimUthmanAdeyanju%2FTeSlim_Data_Scientist%2F03_Python%2FTeslim_python_study_note%2FTeslim_Python_BOOK%2F06-Object%20Oriented%20Programing%2F3-Inheritance.ipynb%22%2C%22path%22%3A%22%2FUsers%2Fteslim%2FLibrary%2FCloudStorage%2FOneDrive-TeslimUthmanAdeyanju%2FTeSlim_Data_Scientist%2F03_Python%2FTeslim_python_study_note%2FTeslim_Python_BOOK%2F06-Object%20Oriented%20Programing%2F3-Inheritance.ipynb%22%2C%22scheme%22%3A%22vscode-notebook-cell%22%2C%22fragment%22%3A%22X42sZmlsZQ%3D%3D%22%7D%2C%7B%22line%22%3A3%2C%22character%22%3A8%7D%5D \"/Users/teslim/Library/CloudStorage/OneDrive-TeslimUthmanAdeyanju/TeSlim_Data_Scientist/03_Python/Teslim_python_study_note/Teslim_Python_BOOK/06-Object Oriented Programing/3-Inheritance.ipynb\") method, which is a special method in Python classes known as a constructor. This method is called when an object is created from a class and it allows the class to initialize the attributes of the class.\n",
    "\n",
    "Three child classes are defined: [`Car`](command:_github.copilot.openSymbolFromReferences?%5B%7B%22%24mid%22%3A1%2C%22fsPath%22%3A%22%2FUsers%2Fteslim%2FLibrary%2FCloudStorage%2FOneDrive-TeslimUthmanAdeyanju%2FTeSlim_Data_Scientist%2F03_Python%2FTeslim_python_study_note%2FTeslim_Python_BOOK%2F06-Object%20Oriented%20Programing%2F3-Inheritance.ipynb%22%2C%22path%22%3A%22%2FUsers%2Fteslim%2FLibrary%2FCloudStorage%2FOneDrive-TeslimUthmanAdeyanju%2FTeSlim_Data_Scientist%2F03_Python%2FTeslim_python_study_note%2FTeslim_Python_BOOK%2F06-Object%20Oriented%20Programing%2F3-Inheritance.ipynb%22%2C%22scheme%22%3A%22vscode-notebook-cell%22%2C%22fragment%22%3A%22X42sZmlsZQ%3D%3D%22%7D%2C%7B%22line%22%3A10%2C%22character%22%3A6%7D%5D \"/Users/teslim/Library/CloudStorage/OneDrive-TeslimUthmanAdeyanju/TeSlim_Data_Scientist/03_Python/Teslim_python_study_note/Teslim_Python_BOOK/06-Object Oriented Programing/3-Inheritance.ipynb\"), [`Truck`](command:_github.copilot.openSymbolFromReferences?%5B%7B%22%24mid%22%3A1%2C%22fsPath%22%3A%22%2FUsers%2Fteslim%2FLibrary%2FCloudStorage%2FOneDrive-TeslimUthmanAdeyanju%2FTeSlim_Data_Scientist%2F03_Python%2FTeslim_python_study_note%2FTeslim_Python_BOOK%2F06-Object%20Oriented%20Programing%2F3-Inheritance.ipynb%22%2C%22path%22%3A%22%2FUsers%2Fteslim%2FLibrary%2FCloudStorage%2FOneDrive-TeslimUthmanAdeyanju%2FTeSlim_Data_Scientist%2F03_Python%2FTeslim_python_study_note%2FTeslim_Python_BOOK%2F06-Object%20Oriented%20Programing%2F3-Inheritance.ipynb%22%2C%22scheme%22%3A%22vscode-notebook-cell%22%2C%22fragment%22%3A%22X42sZmlsZQ%3D%3D%22%7D%2C%7B%22line%22%3A20%2C%22character%22%3A6%7D%5D \"/Users/teslim/Library/CloudStorage/OneDrive-TeslimUthmanAdeyanju/TeSlim_Data_Scientist/03_Python/Teslim_python_study_note/Teslim_Python_BOOK/06-Object Oriented Programing/3-Inheritance.ipynb\"), and [`SportsCar`](command:_github.copilot.openSymbolFromReferences?%5B%7B%22%24mid%22%3A1%2C%22fsPath%22%3A%22%2FUsers%2Fteslim%2FLibrary%2FCloudStorage%2FOneDrive-TeslimUthmanAdeyanju%2FTeSlim_Data_Scientist%2F03_Python%2FTeslim_python_study_note%2FTeslim_Python_BOOK%2F06-Object%20Oriented%20Programing%2F3-Inheritance.ipynb%22%2C%22path%22%3A%22%2FUsers%2Fteslim%2FLibrary%2FCloudStorage%2FOneDrive-TeslimUthmanAdeyanju%2FTeSlim_Data_Scientist%2F03_Python%2FTeslim_python_study_note%2FTeslim_Python_BOOK%2F06-Object%20Oriented%20Programing%2F3-Inheritance.ipynb%22%2C%22scheme%22%3A%22vscode-notebook-cell%22%2C%22fragment%22%3A%22X42sZmlsZQ%3D%3D%22%7D%2C%7B%22line%22%3A30%2C%22character%22%3A6%7D%5D \"/Users/teslim/Library/CloudStorage/OneDrive-TeslimUthmanAdeyanju/TeSlim_Data_Scientist/03_Python/Teslim_python_study_note/Teslim_Python_BOOK/06-Object Oriented Programing/3-Inheritance.ipynb\"). These classes inherit from [`Vehicle`](command:_github.copilot.openSymbolFromReferences?%5B%7B%22%24mid%22%3A1%2C%22fsPath%22%3A%22%2FUsers%2Fteslim%2FLibrary%2FCloudStorage%2FOneDrive-TeslimUthmanAdeyanju%2FTeSlim_Data_Scientist%2F03_Python%2FTeslim_python_study_note%2FTeslim_Python_BOOK%2F06-Object%20Oriented%20Programing%2F3-Inheritance.ipynb%22%2C%22path%22%3A%22%2FUsers%2Fteslim%2FLibrary%2FCloudStorage%2FOneDrive-TeslimUthmanAdeyanju%2FTeSlim_Data_Scientist%2F03_Python%2FTeslim_python_study_note%2FTeslim_Python_BOOK%2F06-Object%20Oriented%20Programing%2F3-Inheritance.ipynb%22%2C%22scheme%22%3A%22vscode-notebook-cell%22%2C%22fragment%22%3A%22X42sZmlsZQ%3D%3D%22%7D%2C%7B%22line%22%3A2%2C%22character%22%3A6%7D%5D \"/Users/teslim/Library/CloudStorage/OneDrive-TeslimUthmanAdeyanju/TeSlim_Data_Scientist/03_Python/Teslim_python_study_note/Teslim_Python_BOOK/06-Object Oriented Programing/3-Inheritance.ipynb\") and [`Car`](command:_github.copilot.openSymbolFromReferences?%5B%7B%22%24mid%22%3A1%2C%22fsPath%22%3A%22%2FUsers%2Fteslim%2FLibrary%2FCloudStorage%2FOneDrive-TeslimUthmanAdeyanju%2FTeSlim_Data_Scientist%2F03_Python%2FTeslim_python_study_note%2FTeslim_Python_BOOK%2F06-Object%20Oriented%20Programing%2F3-Inheritance.ipynb%22%2C%22path%22%3A%22%2FUsers%2Fteslim%2FLibrary%2FCloudStorage%2FOneDrive-TeslimUthmanAdeyanju%2FTeSlim_Data_Scientist%2F03_Python%2FTeslim_python_study_note%2FTeslim_Python_BOOK%2F06-Object%20Oriented%20Programing%2F3-Inheritance.ipynb%22%2C%22scheme%22%3A%22vscode-notebook-cell%22%2C%22fragment%22%3A%22X42sZmlsZQ%3D%3D%22%7D%2C%7B%22line%22%3A10%2C%22character%22%3A6%7D%5D \"/Users/teslim/Library/CloudStorage/OneDrive-TeslimUthmanAdeyanju/TeSlim_Data_Scientist/03_Python/Teslim_python_study_note/Teslim_Python_BOOK/06-Object Oriented Programing/3-Inheritance.ipynb\") respectively, meaning they have access to the [`Vehicle`](command:_github.copilot.openSymbolFromReferences?%5B%7B%22%24mid%22%3A1%2C%22fsPath%22%3A%22%2FUsers%2Fteslim%2FLibrary%2FCloudStorage%2FOneDrive-TeslimUthmanAdeyanju%2FTeSlim_Data_Scientist%2F03_Python%2FTeslim_python_study_note%2FTeslim_Python_BOOK%2F06-Object%20Oriented%20Programing%2F3-Inheritance.ipynb%22%2C%22path%22%3A%22%2FUsers%2Fteslim%2FLibrary%2FCloudStorage%2FOneDrive-TeslimUthmanAdeyanju%2FTeSlim_Data_Scientist%2F03_Python%2FTeslim_python_study_note%2FTeslim_Python_BOOK%2F06-Object%20Oriented%20Programing%2F3-Inheritance.ipynb%22%2C%22scheme%22%3A%22vscode-notebook-cell%22%2C%22fragment%22%3A%22X42sZmlsZQ%3D%3D%22%7D%2C%7B%22line%22%3A2%2C%22character%22%3A6%7D%5D \"/Users/teslim/Library/CloudStorage/OneDrive-TeslimUthmanAdeyanju/TeSlim_Data_Scientist/03_Python/Teslim_python_study_note/Teslim_Python_BOOK/06-Object Oriented Programing/3-Inheritance.ipynb\")'s and [`Car`](command:_github.copilot.openSymbolFromReferences?%5B%7B%22%24mid%22%3A1%2C%22fsPath%22%3A%22%2FUsers%2Fteslim%2FLibrary%2FCloudStorage%2FOneDrive-TeslimUthmanAdeyanju%2FTeSlim_Data_Scientist%2F03_Python%2FTeslim_python_study_note%2FTeslim_Python_BOOK%2F06-Object%20Oriented%20Programing%2F3-Inheritance.ipynb%22%2C%22path%22%3A%22%2FUsers%2Fteslim%2FLibrary%2FCloudStorage%2FOneDrive-TeslimUthmanAdeyanju%2FTeSlim_Data_Scientist%2F03_Python%2FTeslim_python_study_note%2FTeslim_Python_BOOK%2F06-Object%20Oriented%20Programing%2F3-Inheritance.ipynb%22%2C%22scheme%22%3A%22vscode-notebook-cell%22%2C%22fragment%22%3A%22X42sZmlsZQ%3D%3D%22%7D%2C%7B%22line%22%3A10%2C%22character%22%3A6%7D%5D \"/Users/teslim/Library/CloudStorage/OneDrive-TeslimUthmanAdeyanju/TeSlim_Data_Scientist/03_Python/Teslim_python_study_note/Teslim_Python_BOOK/06-Object Oriented Programing/3-Inheritance.ipynb\")'s attributes and methods. Each child class has its own [`__init__()`](command:_github.copilot.openSymbolFromReferences?%5B%7B%22%24mid%22%3A1%2C%22fsPath%22%3A%22%2FUsers%2Fteslim%2FLibrary%2FCloudStorage%2FOneDrive-TeslimUthmanAdeyanju%2FTeSlim_Data_Scientist%2F03_Python%2FTeslim_python_study_note%2FTeslim_Python_BOOK%2F06-Object%20Oriented%20Programing%2F3-Inheritance.ipynb%22%2C%22path%22%3A%22%2FUsers%2Fteslim%2FLibrary%2FCloudStorage%2FOneDrive-TeslimUthmanAdeyanju%2FTeSlim_Data_Scientist%2F03_Python%2FTeslim_python_study_note%2FTeslim_Python_BOOK%2F06-Object%20Oriented%20Programing%2F3-Inheritance.ipynb%22%2C%22scheme%22%3A%22vscode-notebook-cell%22%2C%22fragment%22%3A%22X42sZmlsZQ%3D%3D%22%7D%2C%7B%22line%22%3A3%2C%22character%22%3A8%7D%5D \"/Users/teslim/Library/CloudStorage/OneDrive-TeslimUthmanAdeyanju/TeSlim_Data_Scientist/03_Python/Teslim_python_study_note/Teslim_Python_BOOK/06-Object Oriented Programing/3-Inheritance.ipynb\") method, which calls the [`__init__()`](command:_github.copilot.openSymbolFromReferences?%5B%7B%22%24mid%22%3A1%2C%22fsPath%22%3A%22%2FUsers%2Fteslim%2FLibrary%2FCloudStorage%2FOneDrive-TeslimUthmanAdeyanju%2FTeSlim_Data_Scientist%2F03_Python%2FTeslim_python_study_note%2FTeslim_Python_BOOK%2F06-Object%20Oriented%20Programing%2F3-Inheritance.ipynb%22%2C%22path%22%3A%22%2FUsers%2Fteslim%2FLibrary%2FCloudStorage%2FOneDrive-TeslimUthmanAdeyanju%2FTeSlim_Data_Scientist%2F03_Python%2FTeslim_python_study_note%2FTeslim_Python_BOOK%2F06-Object%20Oriented%20Programing%2F3-Inheritance.ipynb%22%2C%22scheme%22%3A%22vscode-notebook-cell%22%2C%22fragment%22%3A%22X42sZmlsZQ%3D%3D%22%7D%2C%7B%22line%22%3A3%2C%22character%22%3A8%7D%5D \"/Users/teslim/Library/CloudStorage/OneDrive-TeslimUthmanAdeyanju/TeSlim_Data_Scientist/03_Python/Teslim_python_study_note/Teslim_Python_BOOK/06-Object Oriented Programing/3-Inheritance.ipynb\") method of the parent class using the [`super()`](command:_github.copilot.openSymbolFromReferences?%5B%7B%22%24mid%22%3A1%2C%22path%22%3A%22%2FUsers%2Fteslim%2F.vscode%2Fextensions%2Fms-python.vscode-pylance-2024.5.1%2Fdist%2Ftypeshed-fallback%2Fstdlib%2Fbuiltins.pyi%22%2C%22scheme%22%3A%22file%22%7D%2C%7B%22line%22%3A210%2C%22character%22%3A6%7D%5D \"../../../../.vscode/extensions/ms-python.vscode-pylance-2024.5.1/dist/typeshed-fallback/stdlib/builtins.pyi\") function. This ensures that the initialization from the parent class is performed when an object of the child class is created.\n",
    "\n",
    "Each child class also defines additional attributes and methods. For example, the [`Car`](command:_github.copilot.openSymbolFromReferences?%5B%7B%22%24mid%22%3A1%2C%22fsPath%22%3A%22%2FUsers%2Fteslim%2FLibrary%2FCloudStorage%2FOneDrive-TeslimUthmanAdeyanju%2FTeSlim_Data_Scientist%2F03_Python%2FTeslim_python_study_note%2FTeslim_Python_BOOK%2F06-Object%20Oriented%20Programing%2F3-Inheritance.ipynb%22%2C%22path%22%3A%22%2FUsers%2Fteslim%2FLibrary%2FCloudStorage%2FOneDrive-TeslimUthmanAdeyanju%2FTeSlim_Data_Scientist%2F03_Python%2FTeslim_python_study_note%2FTeslim_Python_BOOK%2F06-Object%20Oriented%20Programing%2F3-Inheritance.ipynb%22%2C%22scheme%22%3A%22vscode-notebook-cell%22%2C%22fragment%22%3A%22X42sZmlsZQ%3D%3D%22%7D%2C%7B%22line%22%3A10%2C%22character%22%3A6%7D%5D \"/Users/teslim/Library/CloudStorage/OneDrive-TeslimUthmanAdeyanju/TeSlim_Data_Scientist/03_Python/Teslim_python_study_note/Teslim_Python_BOOK/06-Object Oriented Programing/3-Inheritance.ipynb\") class adds a [`color`](command:_github.copilot.openSymbolFromReferences?%5B%7B%22%24mid%22%3A1%2C%22fsPath%22%3A%22%2FUsers%2Fteslim%2FLibrary%2FCloudStorage%2FOneDrive-TeslimUthmanAdeyanju%2FTeSlim_Data_Scientist%2F03_Python%2FTeslim_python_study_note%2FTeslim_Python_BOOK%2F06-Object%20Oriented%20Programing%2F3-Inheritance.ipynb%22%2C%22path%22%3A%22%2FUsers%2Fteslim%2FLibrary%2FCloudStorage%2FOneDrive-TeslimUthmanAdeyanju%2FTeSlim_Data_Scientist%2F03_Python%2FTeslim_python_study_note%2FTeslim_Python_BOOK%2F06-Object%20Oriented%20Programing%2F3-Inheritance.ipynb%22%2C%22scheme%22%3A%22vscode-notebook-cell%22%2C%22fragment%22%3A%22X42sZmlsZQ%3D%3D%22%7D%2C%7B%22line%22%3A11%2C%22character%22%3A29%7D%5D \"/Users/teslim/Library/CloudStorage/OneDrive-TeslimUthmanAdeyanju/TeSlim_Data_Scientist/03_Python/Teslim_python_study_note/Teslim_Python_BOOK/06-Object Oriented Programing/3-Inheritance.ipynb\") attribute and a [`car_info()`](command:_github.copilot.openSymbolFromReferences?%5B%7B%22%24mid%22%3A1%2C%22fsPath%22%3A%22%2FUsers%2Fteslim%2FLibrary%2FCloudStorage%2FOneDrive-TeslimUthmanAdeyanju%2FTeSlim_Data_Scientist%2F03_Python%2FTeslim_python_study_note%2FTeslim_Python_BOOK%2F06-Object%20Oriented%20Programing%2F3-Inheritance.ipynb%22%2C%22path%22%3A%22%2FUsers%2Fteslim%2FLibrary%2FCloudStorage%2FOneDrive-TeslimUthmanAdeyanju%2FTeSlim_Data_Scientist%2F03_Python%2FTeslim_python_study_note%2FTeslim_Python_BOOK%2F06-Object%20Oriented%20Programing%2F3-Inheritance.ipynb%22%2C%22scheme%22%3A%22vscode-notebook-cell%22%2C%22fragment%22%3A%22X42sZmlsZQ%3D%3D%22%7D%2C%7B%22line%22%3A15%2C%22character%22%3A8%7D%5D \"/Users/teslim/Library/CloudStorage/OneDrive-TeslimUthmanAdeyanju/TeSlim_Data_Scientist/03_Python/Teslim_python_study_note/Teslim_Python_BOOK/06-Object Oriented Programing/3-Inheritance.ipynb\") method, which prints the name and color of the car. Similarly, the [`Truck`](command:_github.copilot.openSymbolFromReferences?%5B%7B%22%24mid%22%3A1%2C%22fsPath%22%3A%22%2FUsers%2Fteslim%2FLibrary%2FCloudStorage%2FOneDrive-TeslimUthmanAdeyanju%2FTeSlim_Data_Scientist%2F03_Python%2FTeslim_python_study_note%2FTeslim_Python_BOOK%2F06-Object%20Oriented%20Programing%2F3-Inheritance.ipynb%22%2C%22path%22%3A%22%2FUsers%2Fteslim%2FLibrary%2FCloudStorage%2FOneDrive-TeslimUthmanAdeyanju%2FTeSlim_Data_Scientist%2F03_Python%2FTeslim_python_study_note%2FTeslim_Python_BOOK%2F06-Object%20Oriented%20Programing%2F3-Inheritance.ipynb%22%2C%22scheme%22%3A%22vscode-notebook-cell%22%2C%22fragment%22%3A%22X42sZmlsZQ%3D%3D%22%7D%2C%7B%22line%22%3A20%2C%22character%22%3A6%7D%5D \"/Users/teslim/Library/CloudStorage/OneDrive-TeslimUthmanAdeyanju/TeSlim_Data_Scientist/03_Python/Teslim_python_study_note/Teslim_Python_BOOK/06-Object Oriented Programing/3-Inheritance.ipynb\") class adds a [`capacity`](command:_github.copilot.openSymbolFromReferences?%5B%7B%22%24mid%22%3A1%2C%22fsPath%22%3A%22%2FUsers%2Fteslim%2FLibrary%2FCloudStorage%2FOneDrive-TeslimUthmanAdeyanju%2FTeSlim_Data_Scientist%2F03_Python%2FTeslim_python_study_note%2FTeslim_Python_BOOK%2F06-Object%20Oriented%20Programing%2F3-Inheritance.ipynb%22%2C%22path%22%3A%22%2FUsers%2Fteslim%2FLibrary%2FCloudStorage%2FOneDrive-TeslimUthmanAdeyanju%2FTeSlim_Data_Scientist%2F03_Python%2FTeslim_python_study_note%2FTeslim_Python_BOOK%2F06-Object%20Oriented%20Programing%2F3-Inheritance.ipynb%22%2C%22scheme%22%3A%22vscode-notebook-cell%22%2C%22fragment%22%3A%22X42sZmlsZQ%3D%3D%22%7D%2C%7B%22line%22%3A21%2C%22character%22%3A29%7D%5D \"/Users/teslim/Library/CloudStorage/OneDrive-TeslimUthmanAdeyanju/TeSlim_Data_Scientist/03_Python/Teslim_python_study_note/Teslim_Python_BOOK/06-Object Oriented Programing/3-Inheritance.ipynb\") attribute and a [`truck_info()`](command:_github.copilot.openSymbolFromReferences?%5B%7B%22%24mid%22%3A1%2C%22fsPath%22%3A%22%2FUsers%2Fteslim%2FLibrary%2FCloudStorage%2FOneDrive-TeslimUthmanAdeyanju%2FTeSlim_Data_Scientist%2F03_Python%2FTeslim_python_study_note%2FTeslim_Python_BOOK%2F06-Object%20Oriented%20Programing%2F3-Inheritance.ipynb%22%2C%22path%22%3A%22%2FUsers%2Fteslim%2FLibrary%2FCloudStorage%2FOneDrive-TeslimUthmanAdeyanju%2FTeSlim_Data_Scientist%2F03_Python%2FTeslim_python_study_note%2FTeslim_Python_BOOK%2F06-Object%20Oriented%20Programing%2F3-Inheritance.ipynb%22%2C%22scheme%22%3A%22vscode-notebook-cell%22%2C%22fragment%22%3A%22X42sZmlsZQ%3D%3D%22%7D%2C%7B%22line%22%3A25%2C%22character%22%3A8%7D%5D \"/Users/teslim/Library/CloudStorage/OneDrive-TeslimUthmanAdeyanju/TeSlim_Data_Scientist/03_Python/Teslim_python_study_note/Teslim_Python_BOOK/06-Object Oriented Programing/3-Inheritance.ipynb\") method. The [`SportsCar`](command:_github.copilot.openSymbolFromReferences?%5B%7B%22%24mid%22%3A1%2C%22fsPath%22%3A%22%2FUsers%2Fteslim%2FLibrary%2FCloudStorage%2FOneDrive-TeslimUthmanAdeyanju%2FTeSlim_Data_Scientist%2F03_Python%2FTeslim_python_study_note%2FTeslim_Python_BOOK%2F06-Object%20Oriented%20Programing%2F3-Inheritance.ipynb%22%2C%22path%22%3A%22%2FUsers%2Fteslim%2FLibrary%2FCloudStorage%2FOneDrive-TeslimUthmanAdeyanju%2FTeSlim_Data_Scientist%2F03_Python%2FTeslim_python_study_note%2FTeslim_Python_BOOK%2F06-Object%20Oriented%20Programing%2F3-Inheritance.ipynb%22%2C%22scheme%22%3A%22vscode-notebook-cell%22%2C%22fragment%22%3A%22X42sZmlsZQ%3D%3D%22%7D%2C%7B%22line%22%3A30%2C%22character%22%3A6%7D%5D \"/Users/teslim/Library/CloudStorage/OneDrive-TeslimUthmanAdeyanju/TeSlim_Data_Scientist/03_Python/Teslim_python_study_note/Teslim_Python_BOOK/06-Object Oriented Programing/3-Inheritance.ipynb\") class, which inherits from [`Car`](command:_github.copilot.openSymbolFromReferences?%5B%7B%22%24mid%22%3A1%2C%22fsPath%22%3A%22%2FUsers%2Fteslim%2FLibrary%2FCloudStorage%2FOneDrive-TeslimUthmanAdeyanju%2FTeSlim_Data_Scientist%2F03_Python%2FTeslim_python_study_note%2FTeslim_Python_BOOK%2F06-Object%20Oriented%20Programing%2F3-Inheritance.ipynb%22%2C%22path%22%3A%22%2FUsers%2Fteslim%2FLibrary%2FCloudStorage%2FOneDrive-TeslimUthmanAdeyanju%2FTeSlim_Data_Scientist%2F03_Python%2FTeslim_python_study_note%2FTeslim_Python_BOOK%2F06-Object%20Oriented%20Programing%2F3-Inheritance.ipynb%22%2C%22scheme%22%3A%22vscode-notebook-cell%22%2C%22fragment%22%3A%22X42sZmlsZQ%3D%3D%22%7D%2C%7B%22line%22%3A10%2C%22character%22%3A6%7D%5D \"/Users/teslim/Library/CloudStorage/OneDrive-TeslimUthmanAdeyanju/TeSlim_Data_Scientist/03_Python/Teslim_python_study_note/Teslim_Python_BOOK/06-Object Oriented Programing/3-Inheritance.ipynb\"), adds a [`top_speed`](command:_github.copilot.openSymbolFromReferences?%5B%7B%22%24mid%22%3A1%2C%22fsPath%22%3A%22%2FUsers%2Fteslim%2FLibrary%2FCloudStorage%2FOneDrive-TeslimUthmanAdeyanju%2FTeSlim_Data_Scientist%2F03_Python%2FTeslim_python_study_note%2FTeslim_Python_BOOK%2F06-Object%20Oriented%20Programing%2F3-Inheritance.ipynb%22%2C%22path%22%3A%22%2FUsers%2Fteslim%2FLibrary%2FCloudStorage%2FOneDrive-TeslimUthmanAdeyanju%2FTeSlim_Data_Scientist%2F03_Python%2FTeslim_python_study_note%2FTeslim_Python_BOOK%2F06-Object%20Oriented%20Programing%2F3-Inheritance.ipynb%22%2C%22scheme%22%3A%22vscode-notebook-cell%22%2C%22fragment%22%3A%22X42sZmlsZQ%3D%3D%22%7D%2C%7B%22line%22%3A31%2C%22character%22%3A36%7D%5D \"/Users/teslim/Library/CloudStorage/OneDrive-TeslimUthmanAdeyanju/TeSlim_Data_Scientist/03_Python/Teslim_python_study_note/Teslim_Python_BOOK/06-Object Oriented Programing/3-Inheritance.ipynb\") attribute and a [`sports_car_info()`](command:_github.copilot.openSymbolFromReferences?%5B%7B%22%24mid%22%3A1%2C%22fsPath%22%3A%22%2FUsers%2Fteslim%2FLibrary%2FCloudStorage%2FOneDrive-TeslimUthmanAdeyanju%2FTeSlim_Data_Scientist%2F03_Python%2FTeslim_python_study_note%2FTeslim_Python_BOOK%2F06-Object%20Oriented%20Programing%2F3-Inheritance.ipynb%22%2C%22path%22%3A%22%2FUsers%2Fteslim%2FLibrary%2FCloudStorage%2FOneDrive-TeslimUthmanAdeyanju%2FTeSlim_Data_Scientist%2F03_Python%2FTeslim_python_study_note%2FTeslim_Python_BOOK%2F06-Object%20Oriented%20Programing%2F3-Inheritance.ipynb%22%2C%22scheme%22%3A%22vscode-notebook-cell%22%2C%22fragment%22%3A%22X42sZmlsZQ%3D%3D%22%7D%2C%7B%22line%22%3A35%2C%22character%22%3A8%7D%5D \"/Users/teslim/Library/CloudStorage/OneDrive-TeslimUthmanAdeyanju/TeSlim_Data_Scientist/03_Python/Teslim_python_study_note/Teslim_Python_BOOK/06-Object Oriented Programing/3-Inheritance.ipynb\") method.\n",
    "\n",
    "Finally, the code creates objects of each child class and calls their methods. The [`info()`](command:_github.copilot.openSymbolFromReferences?%5B%7B%22%24mid%22%3A1%2C%22fsPath%22%3A%22%2FUsers%2Fteslim%2FLibrary%2FCloudStorage%2FOneDrive-TeslimUthmanAdeyanju%2FTeSlim_Data_Scientist%2F03_Python%2FTeslim_python_study_note%2FTeslim_Python_BOOK%2F06-Object%20Oriented%20Programing%2F3-Inheritance.ipynb%22%2C%22path%22%3A%22%2FUsers%2Fteslim%2FLibrary%2FCloudStorage%2FOneDrive-TeslimUthmanAdeyanju%2FTeSlim_Data_Scientist%2F03_Python%2FTeslim_python_study_note%2FTeslim_Python_BOOK%2F06-Object%20Oriented%20Programing%2F3-Inheritance.ipynb%22%2C%22scheme%22%3A%22vscode-notebook-cell%22%2C%22fragment%22%3A%22X42sZmlsZQ%3D%3D%22%7D%2C%7B%22line%22%3A6%2C%22character%22%3A8%7D%5D \"/Users/teslim/Library/CloudStorage/OneDrive-TeslimUthmanAdeyanju/TeSlim_Data_Scientist/03_Python/Teslim_python_study_note/Teslim_Python_BOOK/06-Object Oriented Programing/3-Inheritance.ipynb\") method from the [`Vehicle`](command:_github.copilot.openSymbolFromReferences?%5B%7B%22%24mid%22%3A1%2C%22fsPath%22%3A%22%2FUsers%2Fteslim%2FLibrary%2FCloudStorage%2FOneDrive-TeslimUthmanAdeyanju%2FTeSlim_Data_Scientist%2F03_Python%2FTeslim_python_study_note%2FTeslim_Python_BOOK%2F06-Object%20Oriented%20Programing%2F3-Inheritance.ipynb%22%2C%22path%22%3A%22%2FUsers%2Fteslim%2FLibrary%2FCloudStorage%2FOneDrive-TeslimUthmanAdeyanju%2FTeSlim_Data_Scientist%2F03_Python%2FTeslim_python_study_note%2FTeslim_Python_BOOK%2F06-Object%20Oriented%20Programing%2F3-Inheritance.ipynb%22%2C%22scheme%22%3A%22vscode-notebook-cell%22%2C%22fragment%22%3A%22X42sZmlsZQ%3D%3D%22%7D%2C%7B%22line%22%3A2%2C%22character%22%3A6%7D%5D \"/Users/teslim/Library/CloudStorage/OneDrive-TeslimUthmanAdeyanju/TeSlim_Data_Scientist/03_Python/Teslim_python_study_note/Teslim_Python_BOOK/06-Object Oriented Programing/3-Inheritance.ipynb\") class can be called on any of these objects, demonstrating that they have inherited this method from the [`Vehicle`](command:_github.copilot.openSymbolFromReferences?%5B%7B%22%24mid%22%3A1%2C%22fsPath%22%3A%22%2FUsers%2Fteslim%2FLibrary%2FCloudStorage%2FOneDrive-TeslimUthmanAdeyanju%2FTeSlim_Data_Scientist%2F03_Python%2FTeslim_python_study_note%2FTeslim_Python_BOOK%2F06-Object%20Oriented%20Programing%2F3-Inheritance.ipynb%22%2C%22path%22%3A%22%2FUsers%2Fteslim%2FLibrary%2FCloudStorage%2FOneDrive-TeslimUthmanAdeyanju%2FTeSlim_Data_Scientist%2F03_Python%2FTeslim_python_study_note%2FTeslim_Python_BOOK%2F06-Object%20Oriented%20Programing%2F3-Inheritance.ipynb%22%2C%22scheme%22%3A%22vscode-notebook-cell%22%2C%22fragment%22%3A%22X42sZmlsZQ%3D%3D%22%7D%2C%7B%22line%22%3A2%2C%22character%22%3A6%7D%5D \"/Users/teslim/Library/CloudStorage/OneDrive-TeslimUthmanAdeyanju/TeSlim_Data_Scientist/03_Python/Teslim_python_study_note/Teslim_Python_BOOK/06-Object Oriented Programing/3-Inheritance.ipynb\") class. The [`car_info()`](command:_github.copilot.openSymbolFromReferences?%5B%7B%22%24mid%22%3A1%2C%22fsPath%22%3A%22%2FUsers%2Fteslim%2FLibrary%2FCloudStorage%2FOneDrive-TeslimUthmanAdeyanju%2FTeSlim_Data_Scientist%2F03_Python%2FTeslim_python_study_note%2FTeslim_Python_BOOK%2F06-Object%20Oriented%20Programing%2F3-Inheritance.ipynb%22%2C%22path%22%3A%22%2FUsers%2Fteslim%2FLibrary%2FCloudStorage%2FOneDrive-TeslimUthmanAdeyanju%2FTeSlim_Data_Scientist%2F03_Python%2FTeslim_python_study_note%2FTeslim_Python_BOOK%2F06-Object%20Oriented%20Programing%2F3-Inheritance.ipynb%22%2C%22scheme%22%3A%22vscode-notebook-cell%22%2C%22fragment%22%3A%22X42sZmlsZQ%3D%3D%22%7D%2C%7B%22line%22%3A15%2C%22character%22%3A8%7D%5D \"/Users/teslim/Library/CloudStorage/OneDrive-TeslimUthmanAdeyanju/TeSlim_Data_Scientist/03_Python/Teslim_python_study_note/Teslim_Python_BOOK/06-Object Oriented Programing/3-Inheritance.ipynb\") and [`truck_info()`](command:_github.copilot.openSymbolFromReferences?%5B%7B%22%24mid%22%3A1%2C%22fsPath%22%3A%22%2FUsers%2Fteslim%2FLibrary%2FCloudStorage%2FOneDrive-TeslimUthmanAdeyanju%2FTeSlim_Data_Scientist%2F03_Python%2FTeslim_python_study_note%2FTeslim_Python_BOOK%2F06-Object%20Oriented%20Programing%2F3-Inheritance.ipynb%22%2C%22path%22%3A%22%2FUsers%2Fteslim%2FLibrary%2FCloudStorage%2FOneDrive-TeslimUthmanAdeyanju%2FTeSlim_Data_Scientist%2F03_Python%2FTeslim_python_study_note%2FTeslim_Python_BOOK%2F06-Object%20Oriented%20Programing%2F3-Inheritance.ipynb%22%2C%22scheme%22%3A%22vscode-notebook-cell%22%2C%22fragment%22%3A%22X42sZmlsZQ%3D%3D%22%7D%2C%7B%22line%22%3A25%2C%22character%22%3A8%7D%5D \"/Users/teslim/Library/CloudStorage/OneDrive-TeslimUthmanAdeyanju/TeSlim_Data_Scientist/03_Python/Teslim_python_study_note/Teslim_Python_BOOK/06-Object Oriented Programing/3-Inheritance.ipynb\") methods can be called on [`Car`](command:_github.copilot.openSymbolFromReferences?%5B%7B%22%24mid%22%3A1%2C%22fsPath%22%3A%22%2FUsers%2Fteslim%2FLibrary%2FCloudStorage%2FOneDrive-TeslimUthmanAdeyanju%2FTeSlim_Data_Scientist%2F03_Python%2FTeslim_python_study_note%2FTeslim_Python_BOOK%2F06-Object%20Oriented%20Programing%2F3-Inheritance.ipynb%22%2C%22path%22%3A%22%2FUsers%2Fteslim%2FLibrary%2FCloudStorage%2FOneDrive-TeslimUthmanAdeyanju%2FTeSlim_Data_Scientist%2F03_Python%2FTeslim_python_study_note%2FTeslim_Python_BOOK%2F06-Object%20Oriented%20Programing%2F3-Inheritance.ipynb%22%2C%22scheme%22%3A%22vscode-notebook-cell%22%2C%22fragment%22%3A%22X42sZmlsZQ%3D%3D%22%7D%2C%7B%22line%22%3A10%2C%22character%22%3A6%7D%5D \"/Users/teslim/Library/CloudStorage/OneDrive-TeslimUthmanAdeyanju/TeSlim_Data_Scientist/03_Python/Teslim_python_study_note/Teslim_Python_BOOK/06-Object Oriented Programing/3-Inheritance.ipynb\") and [`Truck`](command:_github.copilot.openSymbolFromReferences?%5B%7B%22%24mid%22%3A1%2C%22fsPath%22%3A%22%2FUsers%2Fteslim%2FLibrary%2FCloudStorage%2FOneDrive-TeslimUthmanAdeyanju%2FTeSlim_Data_Scientist%2F03_Python%2FTeslim_python_study_note%2FTeslim_Python_BOOK%2F06-Object%20Oriented%20Programing%2F3-Inheritance.ipynb%22%2C%22path%22%3A%22%2FUsers%2Fteslim%2FLibrary%2FCloudStorage%2FOneDrive-TeslimUthmanAdeyanju%2FTeSlim_Data_Scientist%2F03_Python%2FTeslim_python_study_note%2FTeslim_Python_BOOK%2F06-Object%20Oriented%20Programing%2F3-Inheritance.ipynb%22%2C%22scheme%22%3A%22vscode-notebook-cell%22%2C%22fragment%22%3A%22X42sZmlsZQ%3D%3D%22%7D%2C%7B%22line%22%3A20%2C%22character%22%3A6%7D%5D \"/Users/teslim/Library/CloudStorage/OneDrive-TeslimUthmanAdeyanju/TeSlim_Data_Scientist/03_Python/Teslim_python_study_note/Teslim_Python_BOOK/06-Object Oriented Programing/3-Inheritance.ipynb\") objects respectively, and the [`sports_car_info()`](command:_github.copilot.openSymbolFromReferences?%5B%7B%22%24mid%22%3A1%2C%22fsPath%22%3A%22%2FUsers%2Fteslim%2FLibrary%2FCloudStorage%2FOneDrive-TeslimUthmanAdeyanju%2FTeSlim_Data_Scientist%2F03_Python%2FTeslim_python_study_note%2FTeslim_Python_BOOK%2F06-Object%20Oriented%20Programing%2F3-Inheritance.ipynb%22%2C%22path%22%3A%22%2FUsers%2Fteslim%2FLibrary%2FCloudStorage%2FOneDrive-TeslimUthmanAdeyanju%2FTeSlim_Data_Scientist%2F03_Python%2FTeslim_python_study_note%2FTeslim_Python_BOOK%2F06-Object%20Oriented%20Programing%2F3-Inheritance.ipynb%22%2C%22scheme%22%3A%22vscode-notebook-cell%22%2C%22fragment%22%3A%22X42sZmlsZQ%3D%3D%22%7D%2C%7B%22line%22%3A35%2C%22character%22%3A8%7D%5D \"/Users/teslim/Library/CloudStorage/OneDrive-TeslimUthmanAdeyanju/TeSlim_Data_Scientist/03_Python/Teslim_python_study_note/Teslim_Python_BOOK/06-Object Oriented Programing/3-Inheritance.ipynb\") method can be called on [`SportsCar`](command:_github.copilot.openSymbolFromReferences?%5B%7B%22%24mid%22%3A1%2C%22fsPath%22%3A%22%2FUsers%2Fteslim%2FLibrary%2FCloudStorage%2FOneDrive-TeslimUthmanAdeyanju%2FTeSlim_Data_Scientist%2F03_Python%2FTeslim_python_study_note%2FTeslim_Python_BOOK%2F06-Object%20Oriented%20Programing%2F3-Inheritance.ipynb%22%2C%22path%22%3A%22%2FUsers%2Fteslim%2FLibrary%2FCloudStorage%2FOneDrive-TeslimUthmanAdeyanju%2FTeSlim_Data_Scientist%2F03_Python%2FTeslim_python_study_note%2FTeslim_Python_BOOK%2F06-Object%20Oriented%20Programing%2F3-Inheritance.ipynb%22%2C%22scheme%22%3A%22vscode-notebook-cell%22%2C%22fragment%22%3A%22X42sZmlsZQ%3D%3D%22%7D%2C%7B%22line%22%3A30%2C%22character%22%3A6%7D%5D \"/Users/teslim/Library/CloudStorage/OneDrive-TeslimUthmanAdeyanju/TeSlim_Data_Scientist/03_Python/Teslim_python_study_note/Teslim_Python_BOOK/06-Object Oriented Programing/3-Inheritance.ipynb\") objects."
   ]
  },
  {
   "cell_type": "code",
   "execution_count": 7,
   "metadata": {},
   "outputs": [
    {
     "name": "stdout",
     "output_type": "stream",
     "text": [
      "Inside Vehicle class\n",
      "Inside Car class\n",
      "Inside SportsCar class\n"
     ]
    }
   ],
   "source": [
    "class Vehicle:\n",
    "    def vehicle_info(self):\n",
    "        print(\"Inside Vehicle class\")\n",
    "\n",
    "class Car(Vehicle):\n",
    "    def car_info(self):\n",
    "        print(\"Inside Car class\")\n",
    "\n",
    "class Truck(Vehicle):\n",
    "    def truck_info(self):\n",
    "        print(\"Inside Truck class\")\n",
    "\n",
    "# Sports Car can inherits properties of Vehicle and Car\n",
    "class SportsCar(Car, Vehicle):\n",
    "    def sports_car_info(self):\n",
    "        print(\"Inside SportsCar class\")\n",
    "\n",
    "# create object\n",
    "s_car = SportsCar()\n",
    "\n",
    "s_car.vehicle_info()\n",
    "s_car.car_info()\n",
    "s_car.sports_car_info()"
   ]
  },
  {
   "cell_type": "markdown",
   "metadata": {},
   "source": [
    "Note: In the above example, hierarchical and multiple inheritance exists. Here we created, parent class Vehicle and two child classes named Car and Truck this is hierarchical inheritance.\n",
    "\n",
    "Another is SportsCar inherit from two parent classes named Car and Vehicle. This is multiple inheritance"
   ]
  },
  {
   "cell_type": "markdown",
   "metadata": {},
   "source": [
    "### Python `super()` function\n",
    "___"
   ]
  },
  {
   "cell_type": "markdown",
   "metadata": {},
   "source": [
    "The `super()` function in Python is used to call a method from a parent class in a child class. This is particularly useful in the context of inheritance, where a child class inherits attributes and methods from a parent class.\n",
    "\n",
    "In child class, we can refer to parent class by using the `super()` function. The super function returns a temporary object of the parent class that allows us to call a parent class method inside a child class method.\n",
    "\n",
    "Benefits of using the `super()` function  \n",
    "\n",
    "1. We are not required to remember or specify the parent class name to access its methods.\n",
    "2. We can use the super() function in both single and multiple inheritances.\n",
    "3. The super() function support code reusability as there is no need to write the entire function\n",
    "\n",
    "The syntax for using the `super()` function is as follows:\n",
    "\n",
    "```python\n",
    "super().method_name()\n",
    "```"
   ]
  },
  {
   "cell_type": "code",
   "execution_count": 20,
   "metadata": {},
   "outputs": [
    {
     "name": "stdout",
     "output_type": "stream",
     "text": [
      "Hello, Alice!\n",
      "\n",
      "\n",
      "Hello, Alice!\n",
      "I am 10 years old.\n"
     ]
    }
   ],
   "source": [
    "class Parent:\n",
    "    def __init__(self, name):\n",
    "        self.name = name\n",
    "\n",
    "    def parent_greet(self):\n",
    "        print(f\"Hello, {self.name}!\")\n",
    "\n",
    "class Child(Parent):\n",
    "    def __init__(self, name, age):\n",
    "        super().__init__(name)\n",
    "        self.age = age\n",
    "\n",
    "    def child_info(self):\n",
    "        super().parent_greet()\n",
    "        print(f\"I am {self.age} years old.\")\n",
    "\n",
    "# Create an instance of the Child class\n",
    "child = Child(\"Alice\", 10)\n",
    "\n",
    "\n",
    "# Calling the Parent class only \n",
    "child.parent_greet()\n",
    "print(\"\\n\")\n",
    "\n",
    "# Calling  the Child class\n",
    "child.child_info()"
   ]
  },
  {
   "cell_type": "code",
   "execution_count": 21,
   "metadata": {},
   "outputs": [
    {
     "name": "stdout",
     "output_type": "stream",
     "text": [
      "Jessa works at Google\n"
     ]
    }
   ],
   "source": [
    "class Company:\n",
    "    def company_name(self):\n",
    "        return 'Google'\n",
    "\n",
    "class Employee(Company):\n",
    "    def info(self):\n",
    "        c_name = super().company_name()\n",
    "        print(\"Jessa works at\", c_name)\n",
    "\n",
    "# Creating object of child class\n",
    "emp = Employee()\n",
    "\n",
    "\n",
    "# Accessing method of child class\n",
    "emp.info()"
   ]
  },
  {
   "cell_type": "markdown",
   "metadata": {},
   "source": [
    "### Python `issubclass()` function\n",
    "___"
   ]
  },
  {
   "cell_type": "markdown",
   "metadata": {},
   "source": [
    "The issubclass() function in Python is used to check whether a class is a subclass of another class. The function returns `True` if the class is a subclass of the specified class, and `False` otherwise.\n",
    "\n",
    "The syntax for using the `issubclass()` function is as follows:\n",
    "\n",
    "```python\n",
    "issubclass(subclass, classinfo)\n",
    "```\n",
    "\n",
    "Where   \n",
    "- `subclass` is the class that you want to check if it is a subclass of another class.\n",
    "- `classinfo` is the class that you want to check if it is the parent class. This can be a tuple, list or a single class."
   ]
  },
  {
   "cell_type": "code",
   "execution_count": 22,
   "metadata": {},
   "outputs": [
    {
     "name": "stdout",
     "output_type": "stream",
     "text": [
      "True\n",
      "False\n",
      "False\n",
      "True\n",
      "True\n"
     ]
    }
   ],
   "source": [
    "class Company:\n",
    "    def fun1(self):\n",
    "        print(\"Inside parent class\")\n",
    "\n",
    "class Employee(Company):\n",
    "    def fun2(self):\n",
    "        print(\"Inside child class.\")\n",
    "\n",
    "class Player:\n",
    "    def fun3(self):\n",
    "        print(\"Inside Player class.\")\n",
    "\n",
    "# Result True\n",
    "print(issubclass(Employee, Company))\n",
    "\n",
    "# Result False\n",
    "print(issubclass(Employee, list))\n",
    "\n",
    "# Result False\n",
    "print(issubclass(Player, Company))\n",
    "\n",
    "# Result True\n",
    "print(issubclass(Employee, (list, Company)))\n",
    "\n",
    "# Result True\n",
    "print(issubclass(Company, (list, Company)))"
   ]
  },
  {
   "cell_type": "markdown",
   "metadata": {},
   "source": [
    "### Method Overriding\n",
    "___"
   ]
  },
  {
   "cell_type": "markdown",
   "metadata": {},
   "source": [
    "Method overriding in object-oriented programming (OOP) refers to a feature that allows a subclass (or child class) to provide a specific implementation of a method that is already defined in its superclass (or parent class). The overridden method in the child class must have the same name, return type, and parameters as the method in the parent class. This allows the child class to customize or completely replace the behavior of the method inherited from the parent class.\n",
    "\n",
    "Here is a step-by-step explanation with an example in Python:\n",
    "\n",
    "Explanation\n",
    "1. Parent Class Definition: A class that defines a method which can be overridden by its subclasses.\n",
    "2. Child Class Definition: A subclass that overrides the method of the parent class.\n",
    "3. Method Overriding: The child class provides its own implementation of the inherited method.\n"
   ]
  },
  {
   "cell_type": "code",
   "execution_count": 23,
   "metadata": {},
   "outputs": [
    {
     "name": "stdout",
     "output_type": "stream",
     "text": [
      "Some generic sound\n",
      "Bark\n",
      "Meow\n"
     ]
    }
   ],
   "source": [
    "# Parent class\n",
    "class Animal:\n",
    "    def make_sound(self):\n",
    "        return \"Some generic sound\"\n",
    "\n",
    "# Child class\n",
    "class Dog(Animal):\n",
    "    # Overriding the make_sound method\n",
    "    def make_sound(self):\n",
    "        return \"Bark\"\n",
    "\n",
    "# Another Child class\n",
    "class Cat(Animal):\n",
    "    # Overriding the make_sound method\n",
    "    def make_sound(self):\n",
    "        return \"Meow\"\n",
    "\n",
    "# Creating instances\n",
    "animal = Animal()\n",
    "dog = Dog()\n",
    "cat = Cat()\n",
    "\n",
    "# Calling the make_sound method on each instance\n",
    "print(animal.make_sound())  # Output: Some generic sound\n",
    "print(dog.make_sound())     # Output: Bark\n",
    "print(cat.make_sound())     # Output: Meow\n"
   ]
  },
  {
   "cell_type": "markdown",
   "metadata": {},
   "source": [
    "Key Points\n",
    "1. Same Method Signature: The overridden method in the child class must have the same method signature (name, return type, and parameters) as in the parent class.\n",
    "\n",
    "2. Run-Time Polymorphism: Method overriding is a key feature for achieving run-time polymorphism. This allows the program to dynamically decide which method implementation to call based on the object type at run-time.\n",
    "\n",
    "3. Using super(): The child class can call the method of the parent class using the super() function if it needs to extend the parent class's implementation rather than completely replacing it."
   ]
  },
  {
   "cell_type": "code",
   "execution_count": 24,
   "metadata": {},
   "outputs": [
    {
     "name": "stdout",
     "output_type": "stream",
     "text": [
      "Some generic sound and Bark\n"
     ]
    }
   ],
   "source": [
    "# Parent class\n",
    "class Animal:\n",
    "    def make_sound(self):\n",
    "        return \"Some generic sound\"\n",
    "\n",
    "# Child class\n",
    "class Dog(Animal):\n",
    "    def make_sound(self):\n",
    "        # Extending the behavior of the parent class method\n",
    "        parent_sound = super().make_sound()\n",
    "        return f\"{parent_sound} and Bark\"\n",
    "\n",
    "# Creating instance\n",
    "dog = Dog()\n",
    "\n",
    "# Calling the make_sound method\n",
    "print(dog.make_sound())  # Output: Some generic sound and Bark\n"
   ]
  },
  {
   "cell_type": "markdown",
   "metadata": {},
   "source": [
    "In this example, the Dog class's make_sound method first calls the make_sound method from the Animal class using super(), and then adds its own behavior to the result.\n",
    "\n",
    "Method overriding allows for flexibility and customization in subclass behavior, making it a powerful tool in object-oriented programming."
   ]
  },
  {
   "cell_type": "code",
   "execution_count": 1,
   "metadata": {},
   "outputs": [
    {
     "name": "stdout",
     "output_type": "stream",
     "text": [
      "Name: Bob, Age: 25\n",
      "Employee ID: E123\n"
     ]
    }
   ],
   "source": [
    "class Person:\n",
    "    def __init__(self, name, age):\n",
    "        self.name = name\n",
    "        self.age = age\n",
    "\n",
    "    def display_info(self):\n",
    "        print(f\"Name: {self.name}, Age: {self.age}\")\n",
    "\n",
    "class Employee(Person):\n",
    "    def __init__(self, name, age, employee_id):\n",
    "        # Call the constructor of the base class\n",
    "        super().__init__(name, age)\n",
    "        # Initialize additional attributes\n",
    "        self.employee_id = employee_id\n",
    "\n",
    "    def display_info(self):\n",
    "        # Call the display_info method of the base class\n",
    "        super().display_info()\n",
    "        print(f\"Employee ID: {self.employee_id}\")\n",
    "\n",
    "# Creating an instance of the Employee class\n",
    "employee1 = Employee(\"Bob\", 25, \"E123\")\n",
    "\n",
    "# Displaying the information of the employee\n",
    "employee1.display_info()\n"
   ]
  },
  {
   "cell_type": "markdown",
   "metadata": {},
   "source": [
    "### Method Resolution Order in Python\n",
    "___"
   ]
  },
  {
   "cell_type": "markdown",
   "metadata": {},
   "source": [
    "Method Resolution Order (MRO) in Python is the order in which Python looks for a method or attribute in a hierarchy of classes. This is particularly important when dealing with multiple inheritance, where a class can inherit from more than one parent class.\n",
    "\n",
    "Here's a plain language explanation of MRO with some examples:\n",
    "\n",
    "**Basics of MRO**  \n",
    "When you call a method on an instance of a class, Python needs to decide which class's method to execute. If there are multiple classes involved (due to inheritance), Python follows a specific order to find the method. This order is called the Method Resolution Order (MRO).\n",
    "\n",
    "This order is also called the Linearization of a class, and a set of rules is called MRO (Method Resolution Order). The MRO plays an essential role in multiple inheritances as a single method may found in multiple parent classes.\n",
    "\n",
    "In multiple inheritance, the following search order is followed.\n",
    "\n",
    "1. First, it searches in the current parent class if not available, then searches in the parents class specified while inheriting (that is left to right.).\n",
    "\n",
    "2. If the method is not found in the parent class, then it searches in the grandparent class, and so on.\n",
    "\n",
    "3. We can get the MRO of a class. For this purpose, we can use either the `mro` attribute or the `mro()` method.\n",
    "\n",
    "Example of Single Inheritance\n",
    "Let's start with a simple case of single inheritance:\n",
    "\n"
   ]
  },
  {
   "cell_type": "code",
   "execution_count": 25,
   "metadata": {},
   "outputs": [
    {
     "name": "stdout",
     "output_type": "stream",
     "text": [
      "Hello from A\n"
     ]
    }
   ],
   "source": [
    "class A:\n",
    "    def say_hello(self):\n",
    "        print(\"Hello from A\")\n",
    "\n",
    "class B(A):\n",
    "    pass\n",
    "\n",
    "b = B()\n",
    "b.say_hello()  # Output: Hello from A\n"
   ]
  },
  {
   "cell_type": "markdown",
   "metadata": {},
   "source": [
    "Here, class B inherits from class A. When we call b.say_hello(), Python first looks in class B for the say_hello method. Since it doesn't find it there, it moves up to class A and finds the method there."
   ]
  },
  {
   "cell_type": "markdown",
   "metadata": {},
   "source": [
    "Example of Multiple Inheritance  \n",
    "Now, let's see how it works with multiple inheritance:"
   ]
  },
  {
   "cell_type": "code",
   "execution_count": 26,
   "metadata": {},
   "outputs": [
    {
     "name": "stdout",
     "output_type": "stream",
     "text": [
      "Hello from A\n"
     ]
    }
   ],
   "source": [
    "class A:\n",
    "    def say_hello(self):\n",
    "        print(\"Hello from A\")\n",
    "\n",
    "class B:\n",
    "    def say_hello(self):\n",
    "        print(\"Hello from B\")\n",
    "\n",
    "class C(A, B):\n",
    "    pass\n",
    "\n",
    "c = C()\n",
    "c.say_hello()  # Output: Hello from A\n"
   ]
  },
  {
   "cell_type": "markdown",
   "metadata": {},
   "source": [
    "In this case, class C inherits from both A and B. When we call c.say_hello(), Python follows the MRO to decide which method to execute. The order Python follows is determined by the C(A, B) declaration. Here, Python looks in class C first, then class A, and then class B. Since it finds say_hello in class A, it stops there and executes that method.\n",
    "\n"
   ]
  },
  {
   "cell_type": "markdown",
   "metadata": {},
   "source": [
    "**Determining the MRO**\n",
    "\n",
    "You can see the MRO of a class using the `__mro__` attribute or the `mro()` method. For the example above:"
   ]
  },
  {
   "cell_type": "code",
   "execution_count": 31,
   "metadata": {},
   "outputs": [
    {
     "name": "stdout",
     "output_type": "stream",
     "text": [
      "(<class '__main__.C'>, <class '__main__.A'>, <class '__main__.B'>, <class 'object'>)\n",
      "\n",
      "[<class '__main__.C'>, <class '__main__.A'>, <class '__main__.B'>, <class 'object'>]\n"
     ]
    }
   ],
   "source": [
    "print(C.__mro__)\n",
    "\n",
    "print()\n",
    "\n",
    "print(C.mro())\n"
   ]
  },
  {
   "cell_type": "markdown",
   "metadata": {},
   "source": [
    "**Example of MRO with Product Classes**  \n",
    "\n",
    "Let's say we have a base class for a product and two mixin classes that add specific behavior. We'll see how Python determines which method to call when there are methods with the same name in different parent classes."
   ]
  },
  {
   "cell_type": "code",
   "execution_count": 32,
   "metadata": {},
   "outputs": [
    {
     "name": "stdout",
     "output_type": "stream",
     "text": [
      "This is a general product\n"
     ]
    }
   ],
   "source": [
    "class Product:\n",
    "    def description(self):\n",
    "        print(\"This is a general product\")\n",
    "\n",
    "class Electronics:\n",
    "    def description(self):\n",
    "        print(\"This is an electronic product\")\n",
    "\n",
    "class Phone(Product, Electronics):\n",
    "    pass\n",
    "\n",
    "phone = Phone()\n",
    "phone.description()  # Output: This is a general product\n"
   ]
  },
  {
   "cell_type": "markdown",
   "metadata": {},
   "source": [
    "In this example, Phone inherits from both Product and Electronics. When we call phone.description(), Python uses the MRO to determine which description method to execute. According to the MRO, Python will first look in Phone, then in Product, and finally in Electronics. Since it finds the description method in Product first, it calls that method"
   ]
  },
  {
   "cell_type": "markdown",
   "metadata": {},
   "source": [
    "**Viewing the MRO**  \n",
    "We can view the MRO for the Phone class to understand the search order:"
   ]
  },
  {
   "cell_type": "code",
   "execution_count": 33,
   "metadata": {},
   "outputs": [
    {
     "name": "stdout",
     "output_type": "stream",
     "text": [
      "(<class '__main__.Phone'>, <class '__main__.Product'>, <class '__main__.Electronics'>, <class 'object'>)\n",
      "[<class '__main__.Phone'>, <class '__main__.Product'>, <class '__main__.Electronics'>, <class 'object'>]\n"
     ]
    }
   ],
   "source": [
    "print(Phone.__mro__)\n",
    "# Output: (<class '__main__.Phone'>, <class '__main__.Product'>, <class '__main__.Electronics'>, <class 'object'>)\n",
    "\n",
    "print(Phone.mro())\n",
    "# Output: [<class '__main__.Phone'>, <class '__main__.Product'>, <class '__main__.Electronics'>, <class 'object'>]\n"
   ]
  },
  {
   "cell_type": "markdown",
   "metadata": {},
   "source": [
    "**Another Example with More Complex Inheritance**   \n",
    "Let's make the example a bit more complex by adding another class to the hierarchy:"
   ]
  },
  {
   "cell_type": "code",
   "execution_count": 34,
   "metadata": {},
   "outputs": [
    {
     "name": "stdout",
     "output_type": "stream",
     "text": [
      "This is an electronic product\n"
     ]
    }
   ],
   "source": [
    "class Product:\n",
    "    def description(self):\n",
    "        print(\"This is a general product\")\n",
    "\n",
    "class Electronics(Product):\n",
    "    def description(self):\n",
    "        print(\"This is an electronic product\")\n",
    "\n",
    "class Gadget:\n",
    "    def description(self):\n",
    "        print(\"This is a gadget\")\n",
    "\n",
    "class SmartPhone(Electronics, Gadget):\n",
    "    pass\n",
    "\n",
    "smartphone = SmartPhone()\n",
    "smartphone.description()  # Output: This is an electronic product\n"
   ]
  },
  {
   "cell_type": "markdown",
   "metadata": {},
   "source": [
    "Here, SmartPhone inherits from both Electronics and Gadget. When we call smartphone.description(), Python follows the MRO, which is determined by the class definition SmartPhone(Electronics, Gadget):\n",
    "\n",
    "1. Look in SmartPhone\n",
    "1. Look in Electronics\n",
    "1. Look in Product (because Electronics inherits from Product)\n",
    "1. Look in Gadget\n",
    "1. Look in the base object class"
   ]
  },
  {
   "cell_type": "markdown",
   "metadata": {},
   "source": [
    "Since Python finds the description method in Electronics, it calls that method.\n",
    "\n",
    "Viewing the MRO for SmartPhone"
   ]
  },
  {
   "cell_type": "code",
   "execution_count": 35,
   "metadata": {},
   "outputs": [
    {
     "name": "stdout",
     "output_type": "stream",
     "text": [
      "(<class '__main__.SmartPhone'>, <class '__main__.Electronics'>, <class '__main__.Product'>, <class '__main__.Gadget'>, <class 'object'>)\n",
      "[<class '__main__.SmartPhone'>, <class '__main__.Electronics'>, <class '__main__.Product'>, <class '__main__.Gadget'>, <class 'object'>]\n"
     ]
    }
   ],
   "source": [
    "print(SmartPhone.__mro__)\n",
    "# Output: (<class '__main__.SmartPhone'>, <class '__main__.Electronics'>, <class '__main__.Product'>, <class '__main__.Gadget'>, <class 'object'>)\n",
    "\n",
    "print(SmartPhone.mro())\n",
    "# Output: [<class '__main__.SmartPhone'>, <class '__main__.Electronics'>, <class '__main__.Product'>, <class '__main__.Gadget'>, <class 'object'>]\n"
   ]
  },
  {
   "cell_type": "markdown",
   "metadata": {},
   "source": [
    "Summary  \n",
    "1. MRO: The Method Resolution Order is the order in which Python looks for methods in a class hierarchy.\n",
    "\n",
    "1. Single Inheritance: Python looks for methods in the current class and then in its parent class.\n",
    "\n",
    "1. Multiple Inheritance: Python follows a specific order, based on the C3 linearization algorithm, to determine the method search order.\n",
    "\n",
    "1. `__mro__` and `mro()`: These can be used to view the MRO of a class to understand the order in which Python searches for methods.\n",
    "\n",
    "By understanding the MRO, you can predict which method will be called when multiple parent classes have methods with the same name."
   ]
  }
 ],
 "metadata": {
  "kernelspec": {
   "display_name": "teslim_env",
   "language": "python",
   "name": "python3"
  },
  "language_info": {
   "codemirror_mode": {
    "name": "ipython",
    "version": 3
   },
   "file_extension": ".py",
   "mimetype": "text/x-python",
   "name": "python",
   "nbconvert_exporter": "python",
   "pygments_lexer": "ipython3",
   "version": "3.11.5"
  }
 },
 "nbformat": 4,
 "nbformat_minor": 2
}
