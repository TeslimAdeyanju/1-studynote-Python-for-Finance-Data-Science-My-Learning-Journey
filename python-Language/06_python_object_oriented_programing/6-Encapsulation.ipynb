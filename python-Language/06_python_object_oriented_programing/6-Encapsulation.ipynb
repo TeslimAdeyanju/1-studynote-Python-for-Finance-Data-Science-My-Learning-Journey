{
 "cells": [
  {
   "cell_type": "markdown",
   "metadata": {},
   "source": [
    "\n",
    "# ENCAPSULATION in Python\n"
   ]
  },
  {
   "cell_type": "markdown",
   "metadata": {},
   "source": [
    "#### Introduction\n",
    "___"
   ]
  },
  {
   "cell_type": "markdown",
   "metadata": {},
   "source": [
    "Encapsulation is one of the fundamental concepts in object-oriented programming (OOP). It describes the idea of bundling data and methods that work on that data within one unit, e.g., a class in Java. This concept is also often used to hide the internal representation, or state, of an object from the outside. This is called information hiding.\n",
    "\n",
    "Encapsulation in Python is a fundamental concept in object-oriented programming that helps manage complexity by bundling data (attributes) and methods (functions) that operate on the data into a single unit called a class. This concept also involves restricting direct access to some of the object's components, which is a way of preventing accidental interference and misuse of the data.\n",
    "\n",
    "Here's a plain English explanation:\n",
    "\n",
    "1. Bundling Data and Methods: Imagine you have a capsule that contains medicine. The capsule itself represents a class in Python. Inside the capsule, you have the medicine (data) and instructions on how to take it (methods). When you create an object from the class, it's like taking the capsule with everything inside it.\n",
    "\n",
    "2. Protecting Data: Just like the capsule protects the medicine from being tampered with, encapsulation protects the data inside an object. You don’t access the medicine directly; you follow the instructions on the capsule. Similarly, in Python, you don’t directly access the data inside an object; you use methods provided by the class.\n",
    "\n",
    "3. Controlled Access: Encapsulation allows you to control how the data is accessed and modified. For instance, you might have a Car class with a private attribute _speed. You can’t directly change _speed, but you can use methods like set_speed(new_speed) and get_speed() to interact with it. These methods can include checks to ensure the new speed is within a valid range, thus protecting the integrity of the data.\n",
    "\n",
    "4. Preventing Accidental Changes: By restricting direct access to the data, encapsulation prevents other parts of your code from accidentally changing it. This makes your code more reliable and easier to debug. For example, if the speed of a car could be set to a negative value by mistake, it could cause errors. Encapsulation helps prevent such mistakes by ensuring all changes go through the controlled methods.\n",
    "\n",
    "In essence, encapsulation is about creating a protective barrier around the data and the methods that operate on the data, ensuring they are used in a controlled and safe manner. This makes your code more modular, easier to maintain, and more secure."
   ]
  },
  {
   "cell_type": "markdown",
   "metadata": {},
   "source": [
    "![alt text](../../../Teslim_python_cheat/Class_Object_13.png)"
   ]
  },
  {
   "cell_type": "markdown",
   "metadata": {},
   "source": [
    "Using encapsulation, we can hide an object’s internal representation from the outside. This is called information hiding.\n",
    "\n",
    "Also, encapsulation allows us to restrict accessing variables and methods directly and prevent accidental data modification by creating private data members and methods within a class.\n",
    "\n",
    "Encapsulation is a way to can restrict access to methods and variables from outside of class. Whenever we are working with the class and dealing with sensitive data, providing access to all variables used within the class is not a good choice.\n",
    "\n",
    "For example, Suppose you have an attribute that is not visible from the outside of an object and bundle it with methods that provide read or write access. In that case, you can hide specific information and control access to the object’s internal state. Encapsulation offers a way for us to access the required variable without providing the program full-fledged access to all variables of a class. This mechanism is used to protect the data of an object from other objects.\n",
    "\n"
   ]
  },
  {
   "cell_type": "markdown",
   "metadata": {},
   "source": [
    "#### Access Modifiers in Python\n",
    "___"
   ]
  },
  {
   "cell_type": "markdown",
   "metadata": {},
   "source": [
    "Encapsulation can be achieved by declaring the data members and methods of a class either as private or protected. But In Python, we don’t have direct access modifiers like public, private, and protected. We can achieve this by using `single underscore and double underscores`.\n",
    "\n",
    "Access modifiers limit access to the variables and methods of a class. Python provides three types of access modifiers private, public, and protected.\n",
    "\n",
    "1. Public Member: Accessible anywhere from otside oclass.\n",
    "\n",
    "1. Private Member: Accessible within the class\n",
    "\n",
    "1. Protected Member: Accessible within the class and its sub-classes"
   ]
  },
  {
   "cell_type": "markdown",
   "metadata": {},
   "source": [
    "![alt text](../../../Teslim_python_cheat/Class_object_14.png)"
   ]
  },
  {
   "cell_type": "markdown",
   "metadata": {},
   "source": [
    "##### 1.0 Public Members\n",
    "___\n",
    "\n",
    "In Python, all members are public by default. We can access them from outside the class. We can access public members using the dot operator with an object of the class."
   ]
  },
  {
   "cell_type": "code",
   "execution_count": 1,
   "metadata": {},
   "outputs": [
    {
     "name": "stdout",
     "output_type": "stream",
     "text": [
      "Name:  Jessa Salary: 10000\n",
      "Name:  Jessa Salary: 10000\n"
     ]
    }
   ],
   "source": [
    "class Employee:\n",
    "    # constructor\n",
    "    def __init__(self, name, salary):\n",
    "        # public data members\n",
    "        self.name = name\n",
    "        self.salary = salary\n",
    "\n",
    "    # public instance methods\n",
    "    def show(self):\n",
    "        # accessing public data member\n",
    "        print(\"Name: \", self.name, 'Salary:', self.salary)\n",
    "\n",
    "# creating object of a class\n",
    "emp = Employee('Jessa', 10000)\n",
    "\n",
    "# accessing public data members\n",
    "print(\"Name: \", emp.name, 'Salary:', emp.salary)\n",
    "\n",
    "# calling public method of the class\n",
    "emp.show()"
   ]
  },
  {
   "cell_type": "markdown",
   "metadata": {},
   "source": [
    "#### 2.0 Private Members\n",
    "___\n",
    "\n",
    "Private members are the members of a class that cannot be accessed outside the class. In Python, private members are declared by prefixing the name of the variable with double underscores. For example, `__name`.\n",
    "\n",
    "We can protect variables in the class by marking them private. To define a private variable add two underscores as a prefix at the start of a variable name.\n",
    "\n",
    "Private members are accessible only within the class, and we can’t access them directly from the class objects. However, we can access them using a workaround."
   ]
  },
  {
   "cell_type": "code",
   "execution_count": 3,
   "metadata": {},
   "outputs": [],
   "source": [
    "class Employee:\n",
    "    # constructor\n",
    "    def __init__(self, name, salary):\n",
    "        # public data member\n",
    "        self.name = name\n",
    "        # private member\n",
    "        self.__salary = salary\n",
    "\n",
    "# creating object of a class\n",
    "emp = Employee('Jessa', 10000)\n",
    "\n",
    "# accessing private data members\n",
    "# print('Salary:', emp.__salary): AttributeError: 'Employee' object has no attribute '__salary'"
   ]
  },
  {
   "cell_type": "markdown",
   "metadata": {},
   "source": [
    "As it can be seen above, the private variable `__salary` is not accessible from outside the class. If we try to access it, it will raise an error.\n",
    "\n",
    "In the above example, `the salary is a private variable`. As you know, we can’t access the private variable from the outside of that class.\n",
    "\n",
    "We can access private members from outside of a class using the following two approaches\n",
    "\n",
    "1. Create public method to access private members\n",
    "2. Use name mangling"
   ]
  },
  {
   "cell_type": "markdown",
   "metadata": {},
   "source": [
    "##### 2.1 Create public method to access private members\n",
    "___"
   ]
  },
  {
   "cell_type": "markdown",
   "metadata": {},
   "source": [
    "This is the recommended and most common approach. You define public methods within the class to get (retrieve) or set (modify) the value of private members. These methods are often called getters and setters.\n",
    "\n",
    "Getters and setters are methods used in object-oriented programming to access and modify private attributes of a class. They provide a controlled way to read and update the values of these attributes, ensuring that any necessary validation or processing is performed."
   ]
  },
  {
   "cell_type": "markdown",
   "metadata": {},
   "source": [
    "**Getters**\n",
    "\n",
    "Getters are methods that retrieve the value of a private attribute. They allow you to access the value without directly accessing the attribute itself, maintaining the encapsulation principle.\n",
    "\n",
    "The getter method is a public method that returns the value of a private attribute. It provides read-only access to the attribute, allowing you to retrieve its value without modifying it.\n",
    "\n",
    "\n",
    "The syntax for defining a getter method is as follows:\n",
    "\n",
    "```python\n",
    "def get_attribute(self):\n",
    "    return self._attribute\n",
    "```\n"
   ]
  },
  {
   "cell_type": "code",
   "execution_count": null,
   "metadata": {},
   "outputs": [],
   "source": [
    "class Car:\n",
    "    def __init__(self, make, model, year):\n",
    "        self.__make = make  # Private attribute\n",
    "        self.__model = model  # Private attribute\n",
    "        self.__year = year  # Private attribute\n",
    "\n",
    "    # Getter method for __make\n",
    "    def get_make(self):\n",
    "        return self.__make\n",
    "\n",
    "# Create an instance of Car\n",
    "my_car = Car(\"Toyota\", \"Corolla\", 2020)\n",
    "\n",
    "# Access private attribute via getter\n",
    "print(my_car.get_make())  # Output: Toyota\n"
   ]
  },
  {
   "cell_type": "markdown",
   "metadata": {},
   "source": [
    "**Setters**  \n",
    "\n",
    "Setters are methods that allow you to modify the value of a private attribute. They provide a way to update the attribute while potentially performing validation or other processing before the update.\n",
    "\n",
    "The syntax for defining a setter method is as follows:\n",
    "\n",
    "```python\n",
    "def set_attribute(self, value):\n",
    "    self._attribute = value\n",
    "```\n",
    "\n"
   ]
  },
  {
   "cell_type": "code",
   "execution_count": 10,
   "metadata": {},
   "outputs": [
    {
     "name": "stdout",
     "output_type": "stream",
     "text": [
      "Toyota\n",
      "Honda\n",
      "Invalid make\n"
     ]
    }
   ],
   "source": [
    "class Car:\n",
    "    def __init__(self, make, model, year):\n",
    "        self.__make = make  # Private attribute\n",
    "        self.__model = model  # Private attribute\n",
    "        self.__year = year  # Private attribute\n",
    "\n",
    "    # Getter method for __make\n",
    "    def get_make(self):\n",
    "        return self.__make\n",
    "\n",
    "    # Setter method for __make\n",
    "    def set_make(self, make):\n",
    "        if isinstance(make, str) and make:  # Basic validation\n",
    "            self.__make = make\n",
    "        else:\n",
    "            raise ValueError(\"Invalid make\")\n",
    "\n",
    "# Create an instance of Car\n",
    "my_car = Car(\"Toyota\", \"Corolla\", 2020)\n",
    "\n",
    "# Access private attribute via getter\n",
    "print(my_car.get_make())  # Output: Toyota\n",
    "\n",
    "# Modify private attribute via setter\n",
    "my_car.set_make(\"Honda\")\n",
    "print(my_car.get_make())  # Output: Honda\n",
    "\n",
    "# Attempting to set an invalid value\n",
    "try:\n",
    "    my_car.set_make(\"\")  # This should raise a ValueError\n",
    "except ValueError as e:\n",
    "    print(e)  # Output: Invalid make\n"
   ]
  },
  {
   "cell_type": "markdown",
   "metadata": {},
   "source": [
    "**Benefits of Getters and Setters**\n",
    "\n",
    "1. Encapsulation: They help keep the internal state of an object private and protected from direct access, adhering to the principles of encapsulation.\n",
    "\n",
    "1. Validation: Setters can validate data before updating an attribute, ensuring the object remains in a valid state.\n",
    "\n",
    "1. Read-Only Attributes: Getters can be used to create read-only attributes, where you can retrieve the value but not modify it.\n",
    "\n",
    "1. Consistency: They allow you to maintain consistent behavior when getting or setting values, which can be useful for debugging and maintaining code.\n",
    "\n",
    "In summary, getters and setters provide a safe and controlled way to access and modify the private attributes of a class, enhancing the robustness and maintainability of your code."
   ]
  },
  {
   "cell_type": "code",
   "execution_count": 17,
   "metadata": {},
   "outputs": [
    {
     "name": "stdout",
     "output_type": "stream",
     "text": [
      "Name: Jessa 14\n",
      "Name: Jessa 16\n"
     ]
    }
   ],
   "source": [
    "class Student:\n",
    "    def __init__(self, name, age):\n",
    "        # private member\n",
    "        self.name = name\n",
    "        self.__age = age\n",
    "\n",
    "    # getter method\n",
    "    def get_age(self):\n",
    "        return self.__age\n",
    "\n",
    "    # setter method\n",
    "    def set_age(self, age):\n",
    "        self.__age = age\n",
    "\n",
    "stud = Student('Jessa', 14)\n",
    "\n",
    "# retrieving age using getter\n",
    "print('Name:', stud.name, stud.get_age())\n",
    "\n",
    "# changing age using setter\n",
    "stud.set_age(16)\n",
    "\n",
    "# retrieving age using getter\n",
    "print('Name:', stud.name, stud.get_age())"
   ]
  },
  {
   "cell_type": "code",
   "execution_count": 18,
   "metadata": {},
   "outputs": [
    {
     "name": "stdout",
     "output_type": "stream",
     "text": [
      "Student Details: Jessa 10\n",
      "Invalid roll no. Please set correct roll number\n",
      "Student Details: Jessa 25\n"
     ]
    }
   ],
   "source": [
    "class Student:\n",
    "    def __init__(self, name, roll_no, age):\n",
    "        # private member\n",
    "        self.name = name\n",
    "        # private members to restrict access\n",
    "        # avoid direct data modification\n",
    "        self.__roll_no = roll_no\n",
    "        self.__age = age\n",
    "\n",
    "    def show(self):\n",
    "        print('Student Details:', self.name, self.__roll_no)\n",
    "\n",
    "    # getter methods\n",
    "    def get_roll_no(self):\n",
    "        return self.__roll_no\n",
    "\n",
    "    # setter method to modify data member\n",
    "    # condition to allow data modification with rules\n",
    "    def set_roll_no(self, number):\n",
    "        if number > 50:\n",
    "            print('Invalid roll no. Please set correct roll number')\n",
    "        else:\n",
    "            self.__roll_no = number\n",
    "\n",
    "jessa = Student('Jessa', 10, 15)\n",
    "\n",
    "# before Modify\n",
    "jessa.show()\n",
    "# changing roll number using setter\n",
    "jessa.set_roll_no(120)\n",
    "\n",
    "\n",
    "jessa.set_roll_no(25)\n",
    "jessa.show()"
   ]
  },
  {
   "cell_type": "code",
   "execution_count": 12,
   "metadata": {},
   "outputs": [],
   "source": [
    "# Comprehensive Example\n",
    "\n",
    "class Product:\n",
    "    def __init__(self, name, price, quantity):\n",
    "        self.__name = name  # Private attribute\n",
    "        self.__price = price  # Private attribute\n",
    "        self.__quantity = quantity  # Private attribute\n",
    "\n",
    "    # Getter method for __name\n",
    "    def get_name(self):\n",
    "        return self.__name\n",
    "\n",
    "    # Setter method for __name\n",
    "    def set_name(self, name):\n",
    "        if isinstance(name, str) and name:  # Basic validation for non-empty string\n",
    "            self.__name = name\n",
    "        else:\n",
    "            raise ValueError(\"Invalid name\")\n",
    "\n",
    "    # Getter method for __price\n",
    "    def get_price(self):\n",
    "        return self.__price\n",
    "\n",
    "    # Setter method for __price\n",
    "    def set_price(self, price):\n",
    "        if isinstance(price, (int, float)) and price >= 0:  # Ensure price is a non-negative number\n",
    "            self.__price = price\n",
    "        else:\n",
    "            raise ValueError(\"Invalid price\")\n",
    "\n",
    "    # Getter method for __quantity\n",
    "    def get_quantity(self):\n",
    "        return self.__quantity\n",
    "\n",
    "    # Setter method for __quantity\n",
    "    def set_quantity(self, quantity):\n",
    "        if isinstance(quantity, int) and quantity >= 0:  # Ensure quantity is a non-negative integer\n",
    "            self.__quantity = quantity\n",
    "        else:\n",
    "            raise ValueError(\"Invalid quantity\")\n"
   ]
  },
  {
   "cell_type": "code",
   "execution_count": 13,
   "metadata": {},
   "outputs": [
    {
     "name": "stdout",
     "output_type": "stream",
     "text": [
      "Product Name: Laptop\n",
      "Product Price: $999.99\n",
      "Product Quantity: 10 units\n",
      "Updated Product Name: Gaming Laptop\n",
      "Updated Product Price: $1299.99\n",
      "Updated Product Quantity: 5 units\n",
      "Invalid price\n",
      "Invalid quantity\n"
     ]
    }
   ],
   "source": [
    "\n",
    "# Create an instance of Product\n",
    "product = Product(\"Laptop\", 999.99, 10)\n",
    "\n",
    "# Access private attributes via getters\n",
    "print(f\"Product Name: {product.get_name()}\")  # Output: Product Name: Laptop\n",
    "print(f\"Product Price: ${product.get_price()}\")  # Output: Product Price: $999.99\n",
    "print(f\"Product Quantity: {product.get_quantity()} units\")  # Output: Product Quantity: 10 units\n",
    "\n",
    "# Modify private attributes via setters\n",
    "product.set_name(\"Gaming Laptop\")\n",
    "product.set_price(1299.99)\n",
    "product.set_quantity(5)\n",
    "\n",
    "# Access updated private attributes via getters\n",
    "print(f\"Updated Product Name: {product.get_name()}\")  # Output: Updated Product Name: Gaming Laptop\n",
    "print(f\"Updated Product Price: ${product.get_price()}\")  # Output: Updated Product Price: $1299.99\n",
    "print(f\"Updated Product Quantity: {product.get_quantity()} units\")  # Output: Updated Product Quantity: 5 units\n",
    "\n",
    "# Attempting to set invalid values\n",
    "try:\n",
    "    product.set_price(-100)  # This should raise a ValueError\n",
    "except ValueError as e:\n",
    "    print(e)  # Output: Invalid price\n",
    "\n",
    "try:\n",
    "    product.set_quantity(-5)  # This should raise a ValueError\n",
    "except ValueError as e:\n",
    "    print(e)  # Output: Invalid quantity\n"
   ]
  },
  {
   "cell_type": "markdown",
   "metadata": {},
   "source": [
    "##### 2.2 Use name mangling\n",
    "___"
   ]
  },
  {
   "cell_type": "markdown",
   "metadata": {},
   "source": [
    "We can directly access private and protected variables from outside of a class through name mangling. The name mangling is created on an identifier by adding two leading underscores and one trailing underscore, like this `_classname__dataMember`, where `classname` is the current class, and `data member` is the private variable name.\n",
    "\n",
    "Name mangling is a technique used in Python to make the name of a class attribute unique to avoid naming conflicts in subclasses. It is achieved by prefixing the attribute name with two underscores and suffixing it with the class name.\n",
    "\n",
    "The syntax for accessing private members using name mangling is as follows:\n",
    "\n",
    "```python\n",
    "object._classname__privateVariable\n",
    "```\n",
    "\n",
    "\n"
   ]
  },
  {
   "cell_type": "code",
   "execution_count": 14,
   "metadata": {},
   "outputs": [
    {
     "name": "stdout",
     "output_type": "stream",
     "text": [
      "Toyota\n",
      "Honda\n"
     ]
    }
   ],
   "source": [
    "class Car:\n",
    "    def __init__(self, make, model, year):\n",
    "        self.__make = make  # Private attribute\n",
    "        self.__model = model  # Private attribute\n",
    "        self.__year = year  # Private attribute\n",
    "\n",
    "# Create an instance of Car\n",
    "my_car = Car(\"Toyota\", \"Corolla\", 2020)\n",
    "\n",
    "# Access private member using name mangling\n",
    "print(my_car._Car__make)  # Output: Toyota\n",
    "\n",
    "# Modify private member using name mangling\n",
    "my_car._Car__make = \"Honda\"\n",
    "print(my_car._Car__make)  # Output: Honda\n"
   ]
  },
  {
   "cell_type": "code",
   "execution_count": null,
   "metadata": {},
   "outputs": [],
   "source": [
    "class Employee:\n",
    "    # constructor\n",
    "    def __init__(self, name, salary):\n",
    "        # public data member\n",
    "        self.name = name\n",
    "        # private member\n",
    "        self.__salary = salary\n",
    "\n",
    "# creating object of a class\n",
    "emp = Employee('Jessa', 10000)\n",
    "\n",
    "print('Name:', emp.name)\n",
    "# direct access to private member using name mangling\n",
    "print('Salary:', emp._Employee__salary)"
   ]
  },
  {
   "cell_type": "markdown",
   "metadata": {},
   "source": [
    "Summary\n",
    "\n",
    "* Public Methods (Getters and Setters): The preferred and clean approach. It allows controlled access and modification of private members.\n",
    "\n",
    "* Name Mangling: A workaround that lets you access private members directly, but it's generally discouraged because it bypasses the intended encapsulation mechanism.\n",
    "\n",
    "Using getters and setters is more in line with the principles of encapsulation and object-oriented programming, providing a clear and safe way to interact with private members. Name mangling, on the other hand, should be used sparingly and with caution."
   ]
  },
  {
   "cell_type": "markdown",
   "metadata": {},
   "source": [
    "#### 3.0 Protected Members\n",
    "___\n",
    "\n",
    "Protected members are the members of a class that cannot be accessed outside the class but can be accessed from within the class and its subclasses. In Python, protected members are declared by prefixing the name of the variable with a single underscore. For example, `_name`.\n",
    "\n",
    "Protected data members are used when you implement inheritance and want to allow data members access to only child classes.\n",
    "\n"
   ]
  },
  {
   "cell_type": "code",
   "execution_count": 15,
   "metadata": {},
   "outputs": [
    {
     "name": "stdout",
     "output_type": "stream",
     "text": [
      "Name: Alice, Age: 30\n",
      "Employee ID: E12345, Name: Alice, Age: 30\n",
      "Alice\n"
     ]
    }
   ],
   "source": [
    "class Person:\n",
    "    def __init__(self, name, age):\n",
    "        self._name = name  # Protected attribute\n",
    "        self.age = age\n",
    "\n",
    "    def get_details(self):\n",
    "        return f\"Name: {self._name}, Age: {self.age}\"\n",
    "\n",
    "class Employee(Person):\n",
    "    def __init__(self, name, age, employee_id):\n",
    "        super().__init__(name, age)\n",
    "        self.employee_id = employee_id\n",
    "\n",
    "    def get_employee_details(self):\n",
    "        # Accessing the protected attribute _name from the base class\n",
    "        return f\"Employee ID: {self.employee_id}, Name: {self._name}, Age: {self.age}\"\n",
    "\n",
    "# Create an instance of Employee\n",
    "employee = Employee(\"Alice\", 30, \"E12345\")\n",
    "\n",
    "# Accessing details through methods\n",
    "print(employee.get_details())  # Output: Name: Alice, Age: 30\n",
    "print(employee.get_employee_details())  # Output: Employee ID: E12345, Name: Alice, Age: 30\n",
    "\n",
    "# Accessing the protected attribute directly (not recommended)\n",
    "print(employee._name)  # Output: Alice\n"
   ]
  },
  {
   "cell_type": "markdown",
   "metadata": {},
   "source": [
    "Explanation   \n",
    "1. Base Class (Person):   \n",
    "\n",
    "* Contains a protected attribute _name.   \n",
    "* Provides a method `get_details()` to return details of the person.   \n",
    "\n",
    "2. Subclass (Employee):   \n",
    " \n",
    "* Inherits from Person.   \n",
    "* Adds a new attribute `employee_id`.   \n",
    "* Provides a method `get_employee_details(). that accesses the protected attribute `_name` from the base class.   \n",
    "\n",
    "3. Instance Creation: \n",
    "\n",
    "* An instance of `Employee` is created with name, age, and employee ID. \n",
    "* Methods `get_details()` and `get_employee_details()` are called to access and print details. \n",
    "\n",
    "4. Direct Access:\n",
    "* Although it's possible to access the protected attribute `_name` directly `(employee._name)`, it’s not recommended. Access should be done through methods provided by the class or subclass to maintain encapsulation and data integrity.\n",
    "\n",
    "Key Points\n",
    "1. Protected Attributes: Indicated by a single underscore _ and meant to be accessed within the class and its subclasses.\n",
    "\n",
    "1. Inheritance: Protected attributes are useful in inheritance scenarios where a base class wants to share data with its subclasses without making it public.\n",
    "\n",
    "1. Encapsulation: Even though protected attributes can be accessed directly, it's better to use methods to ensure controlled access and modification.\n",
    "\n",
    "This approach helps maintain a balance between data hiding and accessibility, especially in complex class hierarchies where certain data needs to be shared with derived classes but not exposed publicly."
   ]
  },
  {
   "cell_type": "code",
   "execution_count": 16,
   "metadata": {},
   "outputs": [
    {
     "name": "stdout",
     "output_type": "stream",
     "text": [
      "Employee name : Jessa\n",
      "Working on project : NLP\n",
      "Project: NLP\n"
     ]
    }
   ],
   "source": [
    "# base class\n",
    "class Company:\n",
    "    def __init__(self):\n",
    "        # Protected member\n",
    "        self._project = \"NLP\"\n",
    "\n",
    "# child class\n",
    "class Employee(Company):\n",
    "    def __init__(self, name):\n",
    "        self.name = name\n",
    "        Company.__init__(self)\n",
    "\n",
    "    def show(self):\n",
    "        print(\"Employee name :\", self.name)\n",
    "        # Accessing protected member in child class\n",
    "        print(\"Working on project :\", self._project)\n",
    "\n",
    "c = Employee(\"Jessa\")\n",
    "c.show()\n",
    "\n",
    "# Direct access protected data member\n",
    "print('Project:', c._project)"
   ]
  },
  {
   "cell_type": "markdown",
   "metadata": {},
   "source": [
    "#### Advantages of Encapsulation\n",
    "___\n",
    "\n",
    "1. Security: The main advantage of using encapsulation is the security of the data. Encapsulation protects an object from unauthorized access. It allows private and protected access levels to prevent accidental data modification.\n",
    "\n",
    "1. Data Hiding: The user would not be knowing what is going on behind the scene. They would only be knowing that to modify a data member, call the setter method. To read a data member, call the getter method. What these setter and getter methods are doing is hidden from them.\n",
    "\n",
    "3. Simplicity: It simplifies the maintenance of the application by keeping classes separated and preventing them from tightly coupling with each other.\n",
    "\n",
    "4. Aesthetics: Bundling data and methods within a class makes code more readable and maintainable"
   ]
  },
  {
   "cell_type": "markdown",
   "metadata": {},
   "source": [
    "#### Real Life Example"
   ]
  },
  {
   "cell_type": "code",
   "execution_count": 1,
   "metadata": {},
   "outputs": [
    {
     "name": "stdout",
     "output_type": "stream",
     "text": [
      "Account Number: 123456789\n",
      "Account Holder: John Doe\n",
      "Balance: $1000\n",
      "Balance after deposit: $1500\n",
      "Balance after withdrawal: $1200\n",
      "Invalid withdrawal amount\n"
     ]
    }
   ],
   "source": [
    "class BankAccount:\n",
    "    def __init__(self, account_number, account_holder, initial_balance=0):\n",
    "        self.__account_number = account_number  # Private attribute\n",
    "        self.__account_holder = account_holder  # Private attribute\n",
    "        self.__balance = initial_balance  # Private attribute\n",
    "\n",
    "    # Getter for account number\n",
    "    def get_account_number(self):\n",
    "        return self.__account_number\n",
    "\n",
    "    # Getter for account holder\n",
    "    def get_account_holder(self):\n",
    "        return self.__account_holder\n",
    "\n",
    "    # Getter for balance\n",
    "    def get_balance(self):\n",
    "        return self.__balance\n",
    "\n",
    "    # Method to deposit money\n",
    "    def deposit(self, amount):\n",
    "        if amount > 0:\n",
    "            self.__balance += amount\n",
    "        else:\n",
    "            raise ValueError(\"Deposit amount must be positive\")\n",
    "\n",
    "    # Method to withdraw money\n",
    "    def withdraw(self, amount):\n",
    "        if amount > 0 and amount <= self.__balance:\n",
    "            self.__balance -= amount\n",
    "        else:\n",
    "            raise ValueError(\"Invalid withdrawal amount\")\n",
    "\n",
    "# Creating a BankAccount instance\n",
    "account = BankAccount(\"123456789\", \"John Doe\", 1000)\n",
    "\n",
    "# Accessing private attributes via getters\n",
    "print(f\"Account Number: {account.get_account_number()}\")  # Output: Account Number: 123456789\n",
    "print(f\"Account Holder: {account.get_account_holder()}\")  # Output: Account Holder: John Doe\n",
    "print(f\"Balance: ${account.get_balance()}\")  # Output: Balance: $1000\n",
    "\n",
    "# Depositing money\n",
    "account.deposit(500)\n",
    "print(f\"Balance after deposit: ${account.get_balance()}\")  # Output: Balance after deposit: $1500\n",
    "\n",
    "# Withdrawing money\n",
    "account.withdraw(300)\n",
    "print(f\"Balance after withdrawal: ${account.get_balance()}\")  # Output: Balance after withdrawal: $1200\n",
    "\n",
    "# Attempting to withdraw an invalid amount\n",
    "try:\n",
    "    account.withdraw(2000)  # This should raise a ValueError\n",
    "except ValueError as e:\n",
    "    print(e)  # Output: Invalid withdrawal amount\n"
   ]
  }
 ],
 "metadata": {
  "kernelspec": {
   "display_name": "teslim_env",
   "language": "python",
   "name": "python3"
  },
  "language_info": {
   "codemirror_mode": {
    "name": "ipython",
    "version": 3
   },
   "file_extension": ".py",
   "mimetype": "text/x-python",
   "name": "python",
   "nbconvert_exporter": "python",
   "pygments_lexer": "ipython3",
   "version": "3.11.5"
  }
 },
 "nbformat": 4,
 "nbformat_minor": 2
}
