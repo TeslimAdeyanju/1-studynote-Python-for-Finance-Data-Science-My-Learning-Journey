{
 "cells": [
  {
   "cell_type": "code",
   "execution_count": 6,
   "metadata": {},
   "outputs": [
    {
     "name": "stdout",
     "output_type": "stream",
     "text": [
      "Hello world\n",
      "Teslim\n",
      "Hello world\n",
      "Teslim\n"
     ]
    }
   ],
   "source": [
    "x = 10\n",
    "y= 0\n",
    "\n",
    "if x > 5:\n",
    "    print(\"Hello world\")\n",
    "    if y == 0:\n",
    "        print(\"Teslim\")\n",
    "else:\n",
    "    print(\"not coorect\")\n"
   ]
  },
  {
   "cell_type": "code",
   "execution_count": 1,
   "metadata": {},
   "outputs": [
    {
     "name": "stdout",
     "output_type": "stream",
     "text": [
      "nothing\n",
      "nothing\n"
     ]
    }
   ],
   "source": [
    "x = 10\n",
    "y =  5\n",
    "m = 3\n",
    "\n",
    "if x > y and y < m:\n",
    "    print(\"Hello\")\n",
    "else:\n",
    "    print(\"nothing\")\n"
   ]
  },
  {
   "cell_type": "code",
   "execution_count": 3,
   "metadata": {},
   "outputs": [
    {
     "name": "stdout",
     "output_type": "stream",
     "text": [
      "Hello\n",
      "Hello\n"
     ]
    }
   ],
   "source": [
    "# either of the conditions needs to be true\n",
    "x = 10\n",
    "y =  5\n",
    "m = 3\n",
    "\n",
    "if x > y or y < m:\n",
    "    print(\"Hello\")\n",
    "else:\n",
    "    print(\"nothing\")"
   ]
  },
  {
   "cell_type": "code",
   "execution_count": 5,
   "metadata": {},
   "outputs": [
    {
     "name": "stdout",
     "output_type": "stream",
     "text": [
      "X is greater than y\n",
      "X is greater than y\n"
     ]
    }
   ],
   "source": [
    "x = 30\n",
    "y = 20\n",
    "\n",
    "if x > y or x ==10: print(\"X is greater than y\")"
   ]
  },
  {
   "cell_type": "code",
   "execution_count": 9,
   "metadata": {},
   "outputs": [
    {
     "name": "stdout",
     "output_type": "stream",
     "text": [
      "h\n",
      "h\n"
     ]
    }
   ],
   "source": [
    "y = 7\n",
    "\n",
    "if y < 8: print(\"h\")"
   ]
  },
  {
   "cell_type": "code",
   "execution_count": 10,
   "metadata": {},
   "outputs": [
    {
     "name": "stdout",
     "output_type": "stream",
     "text": [
      "You are qualified for a draw\n",
      "You are qualified for a draw\n"
     ]
    }
   ],
   "source": [
    "mobile = 9\n",
    "\n",
    "if mobile > 8:\n",
    "    print(\"You are qualified for a draw\")\n",
    "else:\n",
    "    print(\"Your number is below the standard\")"
   ]
  },
  {
   "cell_type": "code",
   "execution_count": 11,
   "metadata": {},
   "outputs": [
    {
     "name": "stdout",
     "output_type": "stream",
     "text": [
      "You are amazing baby\n",
      "You are amazing baby\n"
     ]
    }
   ],
   "source": [
    "age = 1977\n",
    "\n",
    "if age ==1977:\n",
    "    print(\"You are amazing baby\")\n",
    "else:\n",
    "    print(\"you are just an orders\")"
   ]
  },
  {
   "cell_type": "code",
   "execution_count": 15,
   "metadata": {},
   "outputs": [
    {
     "name": "stdout",
     "output_type": "stream",
     "text": [
      "You are a gen\n",
      "You are a gen\n"
     ]
    }
   ],
   "source": [
    "year = 1977\n",
    "month = 'oct'\n",
    "\n",
    "if month == 'oct' or year > 1977:\n",
    "    print(\"You are a gen\")\n",
    "else:\n",
    "    print(\"Welcome\")"
   ]
  },
  {
   "cell_type": "code",
   "execution_count": 16,
   "metadata": {},
   "outputs": [
    {
     "name": "stdout",
     "output_type": "stream",
     "text": [
      "Welcome\n",
      "Welcome\n"
     ]
    }
   ],
   "source": [
    "year = 1977\n",
    "month = 'oct'\n",
    "\n",
    "if month == 'oct' and year > 1977:\n",
    "    print(\"You are a gen\")\n",
    "else:\n",
    "    print(\"Welcome\")"
   ]
  },
  {
   "cell_type": "code",
   "execution_count": 19,
   "metadata": {},
   "outputs": [
    {
     "name": "stdout",
     "output_type": "stream",
     "text": [
      "Welcome\n",
      "Welcome\n"
     ]
    }
   ],
   "source": [
    "print(\"You are a gen\") if month == 'oct' and year > 1977 else print(\"Welcome\")"
   ]
  },
  {
   "cell_type": "code",
   "execution_count": 20,
   "metadata": {},
   "outputs": [
    {
     "name": "stdout",
     "output_type": "stream",
     "text": [
      "You are a gen\n",
      "You are a gen\n"
     ]
    }
   ],
   "source": [
    "year = 1977\n",
    "month = 'oct'\n",
    "\n",
    "if month == 'oct' or year > 1977:\n",
    "    print(\"You are a gen\")\n",
    "else:\n",
    "    print(\"Welcome\")"
   ]
  },
  {
   "cell_type": "code",
   "execution_count": 21,
   "metadata": {},
   "outputs": [
    {
     "name": "stdout",
     "output_type": "stream",
     "text": [
      "You are a gen\n",
      "You are a gen\n"
     ]
    }
   ],
   "source": [
    "print(\"You are a gen\") if month == 'oct' or year > 1977 else print(\"Welcome\")"
   ]
  },
  {
   "cell_type": "code",
   "execution_count": 24,
   "metadata": {},
   "outputs": [
    {
     "name": "stdout",
     "output_type": "stream",
     "text": [
      "Your name is Teslim, and you are 30 years old.\n",
      "You are less than 30 years old.\n",
      "Your name is Teslim, and you are 30 years old.\n",
      "You are less than 30 years old.\n"
     ]
    }
   ],
   "source": [
    "name = \"Teslim\"\n",
    "age = 30\n",
    "\n",
    "if name == \"Teslim\" and age == 30:\n",
    "    print(\"Your name is Teslim, and you are 30 years old.\")\n",
    "    if age > 24:\n",
    "        print(\"You are not less than 30 years old.\")\n",
    "    else:  \n",
    "        print(\"Re-apply\")\n",
    "else:\n",
    "    print(\"Kindly Reconfirm The Information.\")"
   ]
  },
  {
   "cell_type": "code",
   "execution_count": 31,
   "metadata": {},
   "outputs": [
    {
     "name": "stdout",
     "output_type": "stream",
     "text": [
      "X is still greater than this\n",
      "X is less than 200\n",
      "check this if there is no mistake\n",
      "X is still greater than this\n",
      "X is less than 200\n",
      "check this if there is no mistake\n"
     ]
    }
   ],
   "source": [
    "x = 100\n",
    "\n",
    "# first level \n",
    "if x > 80:\n",
    "    print(\"X is still greater than this\")\n",
    "    \n",
    "    # nested statement\n",
    "    if x > 200:\n",
    "        print(\"X is greater than 200\")\n",
    "    else:\n",
    "        print(\"X is less than 200\")\n",
    "\n",
    "        # Nested statement\n",
    "        if x != 100:\n",
    "            print(\"X is equals to 100\")\n",
    "        else:\n",
    "            print(\"check this if there is no mistake\")\n",
    "else:\n",
    "    print(\"none of the above is correct\")"
   ]
  },
  {
   "cell_type": "code",
   "execution_count": 32,
   "metadata": {},
   "outputs": [
    {
     "name": "stdout",
     "output_type": "stream",
     "text": [
      "none of the above is correct\n",
      "none of the above is correct\n"
     ]
    }
   ],
   "source": [
    "x = 100\n",
    "\n",
    "# first level \n",
    "if x < 80:\n",
    "    print(\"X is still greater than this\")\n",
    "    \n",
    "    # nested statement\n",
    "    if x > 200:\n",
    "        print(\"X is greater than 200\")\n",
    "    else:\n",
    "        print(\"X is less than 200\")\n",
    "\n",
    "        # Nested statement\n",
    "        if x != 100:\n",
    "            print(\"X is equals to 100\")\n",
    "        else:\n",
    "            print(\"check this if there is no mistake\")\n",
    "else:\n",
    "    print(\"none of the above is correct\")"
   ]
  },
  {
   "cell_type": "code",
   "execution_count": 44,
   "metadata": {},
   "outputs": [
    {
     "name": "stdout",
     "output_type": "stream",
     "text": [
      "fail\n",
      "fail\n"
     ]
    }
   ],
   "source": [
    "mark = 2\n",
    "\n",
    "if mark >= 90:\n",
    "    print(\"Excellence\")\n",
    "\n",
    "elif mark >= 50:\n",
    "    print(\"Average\")\n",
    "\n",
    "elif mark >= 30:\n",
    "    print(\"poor\")\n",
    "\n",
    "else:\n",
    "    print('fail')\n",
    "\n"
   ]
  },
  {
   "cell_type": "code",
   "execution_count": 49,
   "metadata": {},
   "outputs": [
    {
     "name": "stdout",
     "output_type": "stream",
     "text": [
      "You are living below average\n",
      "You are living below average\n"
     ]
    }
   ],
   "source": [
    "salary \n",
    "\n",
    "if salary > 100000:\n",
    "    print(\"You are above average income\")\n",
    "\n",
    "elif salary < 10000:\n",
    "    print('You are living below average')\n",
    "\n",
    "else:\n",
    "    print(\"No information about wages\")"
   ]
  },
  {
   "cell_type": "code",
   "execution_count": 51,
   "metadata": {},
   "outputs": [
    {
     "name": "stdout",
     "output_type": "stream",
     "text": [
      "y is equals m\n",
      "y is equals m\n"
     ]
    }
   ],
   "source": [
    "x = 30\n",
    "y = 10\n",
    "m = 10\n",
    "\n",
    "if x == y:\n",
    "    print(\"X is equals y\")\n",
    "elif y == m:\n",
    "    print(\"y is equals m\")\n",
    "\n",
    "elif x > y:\n",
    "    print(\"x is greater than y\")"
   ]
  },
  {
   "cell_type": "code",
   "execution_count": 53,
   "metadata": {},
   "outputs": [
    {
     "name": "stdout",
     "output_type": "stream",
     "text": [
      "This is the house \n",
      "This is the house \n"
     ]
    }
   ],
   "source": [
    "house = 57\n",
    "\n",
    "if house == 57:\n",
    "    print(\"This is the house \")\n",
    "else: \n",
    "    print(\"You are in a wrong plcae\")"
   ]
  },
  {
   "cell_type": "code",
   "execution_count": 57,
   "metadata": {},
   "outputs": [
    {
     "name": "stdout",
     "output_type": "stream",
     "text": [
      "Where are you?\n",
      "Where are you?\n"
     ]
    }
   ],
   "source": [
    "location = 57\n",
    "\n",
    "if location == 'Auto Shop':\n",
    "    print('Welcome to the Auto Shop!')\n",
    "elif location == 'Bank':\n",
    "    print('Welcome to the bank!')\n",
    "else:\n",
    "    print('Where are you?')\n",
    "\n"
   ]
  },
  {
   "cell_type": "code",
   "execution_count": 1,
   "metadata": {},
   "outputs": [],
   "source": [
    "x = 5\n",
    "y = 10\n",
    "\n",
    "\n",
    "if x > y and x > 0:\n",
    "    print(\"x is greater than y\")"
   ]
  },
  {
   "cell_type": "code",
   "execution_count": 6,
   "metadata": {},
   "outputs": [
    {
     "name": "stdout",
     "output_type": "stream",
     "text": [
      "a\n",
      "b\n",
      "c\n",
      "d\n",
      "5\n",
      "a\n",
      "b\n",
      "c\n",
      "d\n",
      "5\n"
     ]
    }
   ],
   "source": [
    "list = ['a', 'b','c', 'd' ,5]\n",
    "\n",
    "for i in list:\n",
    "    print(i)"
   ]
  },
  {
   "cell_type": "code",
   "execution_count": 16,
   "metadata": {},
   "outputs": [
    {
     "name": "stdout",
     "output_type": "stream",
     "text": [
      "The show of  2 is 11\n",
      "The show of  4 is 11\n",
      "The show of  5 is 11\n",
      "The show of  6 is 11\n",
      "The show of  2 is 11\n",
      "The show of  4 is 11\n",
      "The show of  5 is 11\n",
      "The show of  6 is 11\n"
     ]
    }
   ],
   "source": [
    "list = [2,4,5,6]\n",
    "\n",
    "for m in list:\n",
    "    output = 5 + i\n",
    "    print(\"The show of \", m , \"is\", output)"
   ]
  },
  {
   "cell_type": "code",
   "execution_count": 20,
   "metadata": {},
   "outputs": [
    {
     "name": "stdout",
     "output_type": "stream",
     "text": [
      "Teslim\n",
      "Faizah\n",
      "Iyabo\n",
      "Fahrid\n",
      "Teslim\n",
      "Faizah\n",
      "Iyabo\n",
      "Fahrid\n"
     ]
    }
   ],
   "source": [
    "Names = ['Teslim', 'Faizah', 'Iyabo', 'Fahrid']\n",
    "\n",
    "for name in Names:\n",
    "    print(name)"
   ]
  },
  {
   "cell_type": "code",
   "execution_count": 36,
   "metadata": {},
   "outputs": [
    {
     "name": "stdout",
     "output_type": "stream",
     "text": [
      "772\n",
      "776\n",
      "782\n",
      "790\n",
      "800\n",
      "812\n",
      "826\n",
      "842\n",
      "860\n",
      "880\n",
      "772\n",
      "776\n",
      "782\n",
      "790\n",
      "800\n",
      "812\n",
      "826\n",
      "842\n",
      "860\n",
      "880\n"
     ]
    }
   ],
   "source": [
    "\n",
    "\n",
    "for x in range(2, 22,2):\n",
    "    sum = sum + x\n",
    "    print(sum)"
   ]
  },
  {
   "cell_type": "code",
   "execution_count": 26,
   "metadata": {},
   "outputs": [
    {
     "name": "stdout",
     "output_type": "stream",
     "text": [
      "110\n",
      "110\n"
     ]
    }
   ],
   "source": [
    "# initiate a statement\n",
    "sum = 0\n",
    "\n",
    "# Iterative Statement\n",
    "for i in range(2, 22, 2):\n",
    "    sum = sum + i\n",
    "print(sum)"
   ]
  },
  {
   "cell_type": "code",
   "execution_count": 42,
   "metadata": {},
   "outputs": [
    {
     "name": "stdout",
     "output_type": "stream",
     "text": [
      "101\n",
      "102\n",
      "103\n",
      "104\n",
      "105\n",
      "106\n",
      "107\n",
      "108\n",
      "109\n",
      "101\n",
      "102\n",
      "103\n",
      "104\n",
      "105\n",
      "106\n",
      "107\n",
      "108\n",
      "109\n"
     ]
    }
   ],
   "source": [
    "result = 0\n",
    "\n",
    "for i in range(1, 10):\n",
    "    result = i + 100\n",
    "    print(result)"
   ]
  },
  {
   "cell_type": "code",
   "execution_count": 52,
   "metadata": {},
   "outputs": [
    {
     "name": "stdout",
     "output_type": "stream",
     "text": [
      "10\n",
      "9\n",
      "8\n",
      "7\n",
      "6\n",
      "5\n",
      "4\n",
      "3\n",
      "2\n",
      "1\n",
      "10\n",
      "9\n",
      "8\n",
      "7\n",
      "6\n",
      "5\n",
      "4\n",
      "3\n",
      "2\n",
      "1\n"
     ]
    }
   ],
   "source": [
    "for i in range(10, 0, -1):\n",
    "    print(i)"
   ]
  },
  {
   "cell_type": "code",
   "execution_count": 50,
   "metadata": {},
   "outputs": [
    {
     "name": "stdout",
     "output_type": "stream",
     "text": [
      "2\n",
      "3\n",
      "4\n",
      "5\n",
      "6\n",
      "7\n",
      "8\n",
      "9\n",
      "2\n",
      "3\n",
      "4\n",
      "5\n",
      "6\n",
      "7\n",
      "8\n",
      "9\n"
     ]
    }
   ],
   "source": [
    "for i in range(2, 10, 1):\n",
    "    print(i)"
   ]
  },
  {
   "cell_type": "code",
   "execution_count": 53,
   "metadata": {},
   "outputs": [
    {
     "name": "stdout",
     "output_type": "stream",
     "text": [
      "50\n",
      "45\n",
      "40\n",
      "35\n",
      "30\n",
      "25\n",
      "20\n",
      "15\n",
      "10\n",
      "50\n",
      "45\n",
      "40\n",
      "35\n",
      "30\n",
      "25\n",
      "20\n",
      "15\n",
      "10\n"
     ]
    }
   ],
   "source": [
    "for x in range(50, 5, -5):\n",
    "    print(x)"
   ]
  },
  {
   "cell_type": "code",
   "execution_count": 56,
   "metadata": {},
   "outputs": [
    {
     "name": "stdout",
     "output_type": "stream",
     "text": [
      "45\n",
      "40\n",
      "35\n",
      "30\n",
      "25\n",
      "20\n",
      "15\n",
      "10\n",
      "5\n",
      "45\n",
      "40\n",
      "35\n",
      "30\n",
      "25\n",
      "20\n",
      "15\n",
      "10\n",
      "5\n"
     ]
    }
   ],
   "source": [
    "for x in reversed(range(5,50, 5)):\n",
    "    print(x)"
   ]
  },
  {
   "cell_type": "code",
   "execution_count": 61,
   "metadata": {},
   "outputs": [
    {
     "name": "stdout",
     "output_type": "stream",
     "text": [
      "Check the -5\n",
      " The 2 is greater than 0\n",
      " The 3 is greater than 0\n",
      "Check the 0\n",
      "Check the -5\n",
      " The 2 is greater than 0\n",
      " The 3 is greater than 0\n",
      "Check the 0\n"
     ]
    }
   ],
   "source": [
    "x = [-5,2,3, 0]\n",
    "\n",
    "for i in x:\n",
    "    if i > 0:\n",
    "        print(\" The\", i, \"is greater than\", str(0))\n",
    "    else:\n",
    "        print(\"Check the\",i)"
   ]
  },
  {
   "cell_type": "markdown",
   "metadata": {},
   "source": [
    "### Accessing index with loop "
   ]
  },
  {
   "cell_type": "code",
   "execution_count": 5,
   "metadata": {},
   "outputs": [
    {
     "name": "stdout",
     "output_type": "stream",
     "text": [
      "Numbers 0 :  2\n",
      "Numbers 1 :  4\n",
      "Numbers 2 :  5\n",
      "Numbers 3 :  6\n"
     ]
    }
   ],
   "source": [
    "x = [2,4,5,6]\n",
    "\n",
    "for index, values in enumerate(x):\n",
    "    print(f'Numbers {index} : ', values)"
   ]
  },
  {
   "cell_type": "code",
   "execution_count": 6,
   "metadata": {},
   "outputs": [
    {
     "name": "stdout",
     "output_type": "stream",
     "text": [
      "Numbers 0 :  1\n",
      "Numbers 1 :  2\n",
      "Numbers 2 :  3\n",
      "Numbers 3 :  4\n",
      "Numbers 4 :  5\n"
     ]
    }
   ],
   "source": [
    "y = [1,2,3,4,5]\n",
    "\n",
    "for index, values in enumerate(y):\n",
    "    print(f'Numbers {index} : ', values)"
   ]
  },
  {
   "cell_type": "code",
   "execution_count": 7,
   "metadata": {},
   "outputs": [
    {
     "data": {
      "text/plain": [
       "9"
      ]
     },
     "execution_count": 7,
     "metadata": {},
     "output_type": "execute_result"
    }
   ],
   "source": [
    "details = [2,4,5,6,6,7,8,9,10]\n",
    "\n",
    "len(details)"
   ]
  },
  {
   "cell_type": "code",
   "execution_count": 8,
   "metadata": {},
   "outputs": [
    {
     "data": {
      "text/plain": [
       "range(0, 9)"
      ]
     },
     "execution_count": 8,
     "metadata": {},
     "output_type": "execute_result"
    }
   ],
   "source": [
    "range(len(details))"
   ]
  },
  {
   "cell_type": "code",
   "execution_count": 9,
   "metadata": {},
   "outputs": [
    {
     "name": "stdout",
     "output_type": "stream",
     "text": [
      "0\n",
      "1\n",
      "2\n",
      "3\n",
      "4\n",
      "5\n",
      "6\n",
      "7\n",
      "8\n"
     ]
    }
   ],
   "source": [
    "for i in range(len(details)):\n",
    "    print(i)"
   ]
  },
  {
   "cell_type": "code",
   "execution_count": 10,
   "metadata": {},
   "outputs": [
    {
     "name": "stdout",
     "output_type": "stream",
     "text": [
      "2\n",
      "3\n",
      "4\n",
      "5\n",
      "6\n",
      "7\n",
      "8\n",
      "9\n"
     ]
    }
   ],
   "source": [
    "a = [1,2,3,4,5,6,7,8,9,10]\n",
    "\n",
    "for i in range(2, len(a)):\n",
    "    print(i)"
   ]
  },
  {
   "cell_type": "code",
   "execution_count": null,
   "metadata": {},
   "outputs": [],
   "source": [
    "a = [1,2,3,4,5,6,7,8,9,10]\n",
    "\n"
   ]
  },
  {
   "cell_type": "code",
   "execution_count": 1,
   "metadata": {},
   "outputs": [
    {
     "name": "stdout",
     "output_type": "stream",
     "text": [
      "Hello World\n"
     ]
    }
   ],
   "source": [
    "def shout():\n",
    "    print(\"Hello World\")\n",
    "\n",
    "# call the function\n",
    "shout()"
   ]
  },
  {
   "cell_type": "code",
   "execution_count": 1,
   "metadata": {},
   "outputs": [
    {
     "name": "stdout",
     "output_type": "stream",
     "text": [
      "Happy New Year and More Blessing\n",
      "Happy New Year and More Blessing\n"
     ]
    }
   ],
   "source": [
    "def new_year_message():\n",
    "    wish = \"Happy New Year and More Blessing\"\n",
    "    print(wish)\n",
    "\n"
   ]
  },
  {
   "cell_type": "code",
   "execution_count": 3,
   "metadata": {},
   "outputs": [
    {
     "name": "stdout",
     "output_type": "stream",
     "text": [
      "Happy New Year and More Blessing\n",
      "Happy New Year and More Blessing\n"
     ]
    }
   ],
   "source": [
    "# call the function \n",
    "new_year_message()\n"
   ]
  },
  {
   "cell_type": "code",
   "execution_count": 11,
   "metadata": {},
   "outputs": [],
   "source": [
    "def message(president):\n",
    "    wish = president  + \"Happy New Year and More Blessing\"\n",
    "    return \"a\"\n",
    "\n",
    "\n",
    "a = "
   ]
  },
  {
   "cell_type": "code",
   "execution_count": 13,
   "metadata": {},
   "outputs": [
    {
     "name": "stdout",
     "output_type": "stream",
     "text": [
      "isolowelcome\n",
      "isolowelcome\n"
     ]
    }
   ],
   "source": [
    "def name_school(issi):\n",
    "    message = issi + \"welcome\"\n",
    "    return message\n",
    "\n",
    "a = name_school(\"isolo\")\n",
    "print(a)"
   ]
  },
  {
   "cell_type": "code",
   "execution_count": 1,
   "metadata": {},
   "outputs": [
    {
     "name": "stdout",
     "output_type": "stream",
     "text": [
      "index 0 number 1\n",
      "index 1 number 2\n",
      "index 2 number 3\n",
      "index 3 number 4\n",
      "index 0 number 1\n",
      "index 1 number 2\n",
      "index 2 number 3\n",
      "index 3 number 4\n"
     ]
    }
   ],
   "source": [
    "name = [1,2,3,4]\n",
    "\n",
    "for a, b in enumerate(name):\n",
    "    print(f\"index\",a, \"number\", b)\n"
   ]
  },
  {
   "cell_type": "code",
   "execution_count": 3,
   "metadata": {},
   "outputs": [
    {
     "name": "stdout",
     "output_type": "stream",
     "text": [
      "2\n",
      "4\n",
      "t\n",
      "2\n",
      "4\n",
      "t\n"
     ]
    }
   ],
   "source": [
    "tup = (2,4,\"t\")\n",
    "\n",
    "for item in tup:\n",
    "    print(item)"
   ]
  },
  {
   "cell_type": "code",
   "execution_count": 10,
   "metadata": {},
   "outputs": [
    {
     "name": "stdout",
     "output_type": "stream",
     "text": [
      "name1\n",
      "name2\n",
      "name3\n",
      "name1\n",
      "name2\n",
      "name3\n"
     ]
    }
   ],
   "source": [
    "members = {\"name1\": \"Teslim\", \"name2\": \"Olumide\", \"name3\": \"iyabo\"}\n",
    "\n",
    "for a, b in members.items():\n",
    "    print(a)"
   ]
  },
  {
   "cell_type": "code",
   "execution_count": null,
   "metadata": {},
   "outputs": [],
   "source": []
  },
  {
   "cell_type": "code",
   "execution_count": 5,
   "metadata": {},
   "outputs": [],
   "source": [
    "\n",
    "list = ['a', 'b','c', 'd' ,'e', 'f', 'g', 'h', 'm']"
   ]
  },
  {
   "cell_type": "code",
   "execution_count": 6,
   "metadata": {},
   "outputs": [
    {
     "data": {
      "text/plain": [
       "9"
      ]
     },
     "execution_count": 6,
     "metadata": {},
     "output_type": "execute_result"
    }
   ],
   "source": [
    "len(list)"
   ]
  },
  {
   "cell_type": "code",
   "execution_count": 18,
   "metadata": {},
   "outputs": [
    {
     "data": {
      "text/plain": [
       "['a', 'b', 'c', 'd', 'e', 'f', 'g', 'h', 'm']"
      ]
     },
     "execution_count": 18,
     "metadata": {},
     "output_type": "execute_result"
    }
   ],
   "source": [
    "list[:: 1]"
   ]
  },
  {
   "cell_type": "code",
   "execution_count": 19,
   "metadata": {},
   "outputs": [
    {
     "data": {
      "text/plain": [
       "['m', 'h', 'g', 'f', 'e', 'd', 'c', 'b', 'a']"
      ]
     },
     "execution_count": 19,
     "metadata": {},
     "output_type": "execute_result"
    }
   ],
   "source": [
    "list[ : : -1]"
   ]
  },
  {
   "cell_type": "code",
   "execution_count": 20,
   "metadata": {},
   "outputs": [
    {
     "data": {
      "text/plain": [
       "['m', 'c']"
      ]
     },
     "execution_count": 20,
     "metadata": {},
     "output_type": "execute_result"
    }
   ],
   "source": [
    "list[: : -6]"
   ]
  },
  {
   "cell_type": "code",
   "execution_count": 11,
   "metadata": {},
   "outputs": [
    {
     "data": {
      "text/plain": [
       "['c', 'd', 'e']"
      ]
     },
     "execution_count": 11,
     "metadata": {},
     "output_type": "execute_result"
    }
   ],
   "source": [
    "list[2:5]"
   ]
  },
  {
   "cell_type": "code",
   "execution_count": 13,
   "metadata": {},
   "outputs": [
    {
     "data": {
      "text/plain": [
       "['a', 'b', 'c', 'd', 'e']"
      ]
     },
     "execution_count": 13,
     "metadata": {},
     "output_type": "execute_result"
    }
   ],
   "source": [
    "list[:5]"
   ]
  },
  {
   "cell_type": "code",
   "execution_count": 14,
   "metadata": {},
   "outputs": [
    {
     "data": {
      "text/plain": [
       "['d', 'e', 'f', 'g', 'h', 'm']"
      ]
     },
     "execution_count": 14,
     "metadata": {},
     "output_type": "execute_result"
    }
   ],
   "source": [
    "list[3:]"
   ]
  },
  {
   "cell_type": "code",
   "execution_count": 15,
   "metadata": {},
   "outputs": [
    {
     "data": {
      "text/plain": [
       "'f'"
      ]
     },
     "execution_count": 15,
     "metadata": {},
     "output_type": "execute_result"
    }
   ],
   "source": [
    "list[5]"
   ]
  },
  {
   "cell_type": "code",
   "execution_count": 21,
   "metadata": {},
   "outputs": [
    {
     "name": "stdout",
     "output_type": "stream",
     "text": [
      "['a', 'b', 'c', 'd', 'e', 'f', 'g', 'h', 'm', 'Teslim']\n"
     ]
    }
   ],
   "source": [
    "list.append(\"Teslim\")\n",
    "print(list)"
   ]
  },
  {
   "cell_type": "code",
   "execution_count": 30,
   "metadata": {},
   "outputs": [],
   "source": [
    "my_list = [5, 8, 'Tom', 7.50]\n"
   ]
  },
  {
   "cell_type": "code",
   "execution_count": 32,
   "metadata": {},
   "outputs": [
    {
     "name": "stdout",
     "output_type": "stream",
     "text": [
      "[1, 2, 3, 4, 5]\n"
     ]
    }
   ],
   "source": [
    "new_list = [1, 2, 3, 4, 5]\n",
    "print(new_list)"
   ]
  },
  {
   "cell_type": "code",
   "execution_count": 7,
   "metadata": {},
   "outputs": [
    {
     "name": "stdout",
     "output_type": "stream",
     "text": [
      "[4, 5, 6]\n"
     ]
    }
   ],
   "source": [
    "my_list1 = list((1, 2, 3))  # [1, 2, 3]\n",
    "my_list2 = list([4, 5, 6])  # [4, 5, 6][1, 2, 3]\n",
    "\n",
    "print (my_list)"
   ]
  },
  {
   "cell_type": "code",
   "execution_count": 9,
   "metadata": {},
   "outputs": [
    {
     "name": "stdout",
     "output_type": "stream",
     "text": [
      "<class 'list'>\n",
      "<class 'list'>\n"
     ]
    }
   ],
   "source": [
    "print(type(my_list1))\n",
    "\n",
    "print(type(my_list2))\n"
   ]
  },
  {
   "cell_type": "code",
   "execution_count": 10,
   "metadata": {},
   "outputs": [
    {
     "name": "stdout",
     "output_type": "stream",
     "text": [
      "[5, 8, 25, 'Tom', 7.5]\n",
      "[5, 8, 25, [25, 50, 75], 'Tom', 7.5]\n"
     ]
    }
   ],
   "source": [
    "my_list = list([5, 8, 'Tom', 7.50])\n",
    "\n",
    "# Using insert()\n",
    "# insert 25 at position 2\n",
    "my_list.insert(2, 25)\n",
    "print(my_list)\n",
    "# Output [5, 8, 25, 'Tom', 7.5]\n",
    "\n",
    "# insert nested list at at position 3\n",
    "my_list.insert(3, [25, 50, 75])\n",
    "print(my_list)\n",
    "# Output [5, 8, 25, [25, 50, 75], 'Tom', 7.5]"
   ]
  },
  {
   "cell_type": "code",
   "execution_count": 12,
   "metadata": {},
   "outputs": [],
   "source": [
    "name = list(['Teslim', 'Faizah', 'Iyabo', 'Fahrid'])"
   ]
  },
  {
   "cell_type": "code",
   "execution_count": 16,
   "metadata": {},
   "outputs": [
    {
     "name": "stdout",
     "output_type": "stream",
     "text": [
      "['Teslim', 'Faizah', 'Iyabo', 'Fahrid', 'Funke', 'Funke', 'Funke', 'Funke']\n"
     ]
    }
   ],
   "source": [
    "name.append('Funke')\n",
    "print(name)"
   ]
  },
  {
   "cell_type": "code",
   "execution_count": 32,
   "metadata": {},
   "outputs": [],
   "source": [
    "address = list(['Isolo', 'Ikeja', 'Oshodi', 'Surulere'])"
   ]
  },
  {
   "cell_type": "code",
   "execution_count": 38,
   "metadata": {},
   "outputs": [],
   "source": [
    "A = address.append(['Lekki', 'Ajah'])"
   ]
  },
  {
   "cell_type": "code",
   "execution_count": 39,
   "metadata": {},
   "outputs": [
    {
     "name": "stdout",
     "output_type": "stream",
     "text": [
      "None\n"
     ]
    }
   ],
   "source": [
    "print(A)"
   ]
  },
  {
   "cell_type": "code",
   "execution_count": 42,
   "metadata": {},
   "outputs": [
    {
     "name": "stdout",
     "output_type": "stream",
     "text": [
      "['Isolo', 'Ikeja', 'Oshodi', 'Surulere', 'Lekki', 'Ajah', 'Lekki', 'Ajah', 'Lekki', 'Ajah']\n"
     ]
    }
   ],
   "source": [
    "address.extend(['Lekki', 'Ajah'])\n",
    "print(address)"
   ]
  },
  {
   "cell_type": "code",
   "execution_count": 48,
   "metadata": {},
   "outputs": [
    {
     "data": {
      "text/plain": [
       "['Ikeja', 'Surulere', 'Ajah', 'Ajah', 'Ajah']"
      ]
     },
     "execution_count": 48,
     "metadata": {},
     "output_type": "execute_result"
    }
   ],
   "source": [
    "address"
   ]
  },
  {
   "cell_type": "code",
   "execution_count": 49,
   "metadata": {},
   "outputs": [
    {
     "name": "stdout",
     "output_type": "stream",
     "text": [
      "['Ikeja', 'Surulere']\n"
     ]
    }
   ],
   "source": [
    "for i in address:\n",
    "    address.remove(\"Ajah\")\n",
    "    \n",
    "print(address)"
   ]
  },
  {
   "cell_type": "code",
   "execution_count": null,
   "metadata": {},
   "outputs": [],
   "source": [
    "address = list(['Isolo', 'Ikeja', 'Oshodi', 'Surulere'])"
   ]
  },
  {
   "cell_type": "code",
   "execution_count": 56,
   "metadata": {},
   "outputs": [
    {
     "name": "stdout",
     "output_type": "stream",
     "text": [
      "[4, 8, 12]\n"
     ]
    }
   ],
   "source": [
    "my_list = list([6, 4, 6, 6, 8, 12])\n",
    "\n",
    "for item in my_list:\n",
    "    my_list.remove(6)\n",
    "\n",
    "print(my_list)\n",
    "# Output [4, 8, 12]"
   ]
  },
  {
   "cell_type": "code",
   "execution_count": 57,
   "metadata": {},
   "outputs": [
    {
     "name": "stdout",
     "output_type": "stream",
     "text": [
      "6 is not in the list\n"
     ]
    }
   ],
   "source": [
    "if 6 in address:\n",
    "\tprint(address.index(6))\n",
    "else:\n",
    "\tprint(\"6 is not in the list\")"
   ]
  },
  {
   "cell_type": "code",
   "execution_count": 59,
   "metadata": {},
   "outputs": [
    {
     "data": {
      "text/plain": [
       "1"
      ]
     },
     "execution_count": 59,
     "metadata": {},
     "output_type": "execute_result"
    }
   ],
   "source": [
    "my_list.index(8)"
   ]
  },
  {
   "cell_type": "code",
   "execution_count": 65,
   "metadata": {},
   "outputs": [],
   "source": [
    "country = list(['Nigeria', 'Ghana', 'Togo', 'Benin'])\n",
    "\n",
    "new_country = country\n",
    "\n",
    "\n",
    "new_country.append('South Africa')\n"
   ]
  },
  {
   "cell_type": "code",
   "execution_count": 61,
   "metadata": {},
   "outputs": [
    {
     "name": "stdout",
     "output_type": "stream",
     "text": [
      "['Nigeria', 'Ghana', 'Togo', 'Benin', 'South Africa']\n"
     ]
    }
   ],
   "source": [
    "print(country)"
   ]
  },
  {
   "cell_type": "code",
   "execution_count": 62,
   "metadata": {},
   "outputs": [
    {
     "name": "stdout",
     "output_type": "stream",
     "text": [
      "['Nigeria', 'Ghana', 'Togo', 'Benin', 'South Africa']\n"
     ]
    }
   ],
   "source": [
    "print(new_country)"
   ]
  },
  {
   "cell_type": "code",
   "execution_count": 64,
   "metadata": {},
   "outputs": [
    {
     "name": "stdout",
     "output_type": "stream",
     "text": [
      "<class 'list'>\n"
     ]
    }
   ],
   "source": [
    "# Using list constructor\n",
    "my_list1 = list((1, 2, 3))\n",
    "\n",
    "print(type(my_list1))\n",
    "# Output [1, 2, 3]"
   ]
  },
  {
   "cell_type": "code",
   "execution_count": 3,
   "metadata": {},
   "outputs": [],
   "source": [
    "def raise_to_power(val1, val2):\n",
    "    value = val1*val2\n",
    "    return value\n",
    "\n",
    "# calling the function \n",
    "a = raise_to_power(3,5)"
   ]
  },
  {
   "cell_type": "code",
   "execution_count": 4,
   "metadata": {},
   "outputs": [
    {
     "name": "stdout",
     "output_type": "stream",
     "text": [
      "15\n",
      "15\n"
     ]
    }
   ],
   "source": [
    "print(a)"
   ]
  },
  {
   "cell_type": "code",
   "execution_count": null,
   "metadata": {},
   "outputs": [],
   "source": []
  }
 ],
 "metadata": {
  "kernelspec": {
   "display_name": "python-tutorial-env",
   "language": "python",
   "name": "python3"
  },
  "language_info": {
   "codemirror_mode": {
    "name": "ipython",
    "version": 3
   },
   "file_extension": ".py",
   "mimetype": "text/x-python",
   "name": "python",
   "nbconvert_exporter": "python",
   "pygments_lexer": "ipython3",
   "version": "3.13.0"
  }
 },
 "nbformat": 4,
 "nbformat_minor": 2
}
