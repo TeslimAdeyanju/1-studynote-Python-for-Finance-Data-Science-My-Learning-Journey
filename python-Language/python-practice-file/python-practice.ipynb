{
 "cells": [
  {
   "cell_type": "code",
   "execution_count": 6,
   "metadata": {},
   "outputs": [
    {
     "name": "stdout",
     "output_type": "stream",
     "text": [
      "Hello world\n",
      "Teslim\n",
      "Hello world\n",
      "Teslim\n"
     ]
    }
   ],
   "source": [
    "x = 10\n",
    "y= 0\n",
    "\n",
    "if x > 5:\n",
    "    print(\"Hello world\")\n",
    "    if y == 0:\n",
    "        print(\"Teslim\")\n",
    "else:\n",
    "    print(\"not coorect\")\n"
   ]
  },
  {
   "cell_type": "code",
   "execution_count": 1,
   "metadata": {},
   "outputs": [
    {
     "name": "stdout",
     "output_type": "stream",
     "text": [
      "nothing\n",
      "nothing\n"
     ]
    }
   ],
   "source": [
    "x = 10\n",
    "y =  5\n",
    "m = 3\n",
    "\n",
    "if x > y and y < m:\n",
    "    print(\"Hello\")\n",
    "else:\n",
    "    print(\"nothing\")\n"
   ]
  },
  {
   "cell_type": "code",
   "execution_count": 3,
   "metadata": {},
   "outputs": [
    {
     "name": "stdout",
     "output_type": "stream",
     "text": [
      "Hello\n",
      "Hello\n"
     ]
    }
   ],
   "source": [
    "# either of the conditions needs to be true\n",
    "x = 10\n",
    "y =  5\n",
    "m = 3\n",
    "\n",
    "if x > y or y < m:\n",
    "    print(\"Hello\")\n",
    "else:\n",
    "    print(\"nothing\")"
   ]
  },
  {
   "cell_type": "code",
   "execution_count": 5,
   "metadata": {},
   "outputs": [
    {
     "name": "stdout",
     "output_type": "stream",
     "text": [
      "X is greater than y\n",
      "X is greater than y\n"
     ]
    }
   ],
   "source": [
    "x = 30\n",
    "y = 20\n",
    "\n",
    "if x > y or x ==10: print(\"X is greater than y\")"
   ]
  },
  {
   "cell_type": "code",
   "execution_count": 9,
   "metadata": {},
   "outputs": [
    {
     "name": "stdout",
     "output_type": "stream",
     "text": [
      "h\n",
      "h\n"
     ]
    }
   ],
   "source": [
    "y = 7\n",
    "\n",
    "if y < 8: print(\"h\")"
   ]
  },
  {
   "cell_type": "code",
   "execution_count": 10,
   "metadata": {},
   "outputs": [
    {
     "name": "stdout",
     "output_type": "stream",
     "text": [
      "You are qualified for a draw\n",
      "You are qualified for a draw\n"
     ]
    }
   ],
   "source": [
    "mobile = 9\n",
    "\n",
    "if mobile > 8:\n",
    "    print(\"You are qualified for a draw\")\n",
    "else:\n",
    "    print(\"Your number is below the standard\")"
   ]
  },
  {
   "cell_type": "code",
   "execution_count": 11,
   "metadata": {},
   "outputs": [
    {
     "name": "stdout",
     "output_type": "stream",
     "text": [
      "You are amazing baby\n",
      "You are amazing baby\n"
     ]
    }
   ],
   "source": [
    "age = 1977\n",
    "\n",
    "if age ==1977:\n",
    "    print(\"You are amazing baby\")\n",
    "else:\n",
    "    print(\"you are just an orders\")"
   ]
  },
  {
   "cell_type": "code",
   "execution_count": 15,
   "metadata": {},
   "outputs": [
    {
     "name": "stdout",
     "output_type": "stream",
     "text": [
      "You are a gen\n",
      "You are a gen\n"
     ]
    }
   ],
   "source": [
    "year = 1977\n",
    "month = 'oct'\n",
    "\n",
    "if month == 'oct' or year > 1977:\n",
    "    print(\"You are a gen\")\n",
    "else:\n",
    "    print(\"Welcome\")"
   ]
  },
  {
   "cell_type": "code",
   "execution_count": 16,
   "metadata": {},
   "outputs": [
    {
     "name": "stdout",
     "output_type": "stream",
     "text": [
      "Welcome\n",
      "Welcome\n"
     ]
    }
   ],
   "source": [
    "year = 1977\n",
    "month = 'oct'\n",
    "\n",
    "if month == 'oct' and year > 1977:\n",
    "    print(\"You are a gen\")\n",
    "else:\n",
    "    print(\"Welcome\")"
   ]
  },
  {
   "cell_type": "code",
   "execution_count": 19,
   "metadata": {},
   "outputs": [
    {
     "name": "stdout",
     "output_type": "stream",
     "text": [
      "Welcome\n",
      "Welcome\n"
     ]
    }
   ],
   "source": [
    "print(\"You are a gen\") if month == 'oct' and year > 1977 else print(\"Welcome\")"
   ]
  },
  {
   "cell_type": "code",
   "execution_count": 20,
   "metadata": {},
   "outputs": [
    {
     "name": "stdout",
     "output_type": "stream",
     "text": [
      "You are a gen\n",
      "You are a gen\n"
     ]
    }
   ],
   "source": [
    "year = 1977\n",
    "month = 'oct'\n",
    "\n",
    "if month == 'oct' or year > 1977:\n",
    "    print(\"You are a gen\")\n",
    "else:\n",
    "    print(\"Welcome\")"
   ]
  },
  {
   "cell_type": "code",
   "execution_count": 21,
   "metadata": {},
   "outputs": [
    {
     "name": "stdout",
     "output_type": "stream",
     "text": [
      "You are a gen\n",
      "You are a gen\n"
     ]
    }
   ],
   "source": [
    "print(\"You are a gen\") if month == 'oct' or year > 1977 else print(\"Welcome\")"
   ]
  },
  {
   "cell_type": "code",
   "execution_count": 24,
   "metadata": {},
   "outputs": [
    {
     "name": "stdout",
     "output_type": "stream",
     "text": [
      "Your name is Teslim, and you are 30 years old.\n",
      "You are less than 30 years old.\n",
      "Your name is Teslim, and you are 30 years old.\n",
      "You are less than 30 years old.\n"
     ]
    }
   ],
   "source": [
    "name = \"Teslim\"\n",
    "age = 30\n",
    "\n",
    "if name == \"Teslim\" and age == 30:\n",
    "    print(\"Your name is Teslim, and you are 30 years old.\")\n",
    "    if age > 24:\n",
    "        print(\"You are not less than 30 years old.\")\n",
    "    else:  \n",
    "        print(\"Re-apply\")\n",
    "else:\n",
    "    print(\"Kindly Reconfirm The Information.\")"
   ]
  },
  {
   "cell_type": "code",
   "execution_count": 31,
   "metadata": {},
   "outputs": [
    {
     "name": "stdout",
     "output_type": "stream",
     "text": [
      "X is still greater than this\n",
      "X is less than 200\n",
      "check this if there is no mistake\n",
      "X is still greater than this\n",
      "X is less than 200\n",
      "check this if there is no mistake\n"
     ]
    }
   ],
   "source": [
    "x = 100\n",
    "\n",
    "# first level \n",
    "if x > 80:\n",
    "    print(\"X is still greater than this\")\n",
    "    \n",
    "    # nested statement\n",
    "    if x > 200:\n",
    "        print(\"X is greater than 200\")\n",
    "    else:\n",
    "        print(\"X is less than 200\")\n",
    "\n",
    "        # Nested statement\n",
    "        if x != 100:\n",
    "            print(\"X is equals to 100\")\n",
    "        else:\n",
    "            print(\"check this if there is no mistake\")\n",
    "else:\n",
    "    print(\"none of the above is correct\")"
   ]
  },
  {
   "cell_type": "code",
   "execution_count": 32,
   "metadata": {},
   "outputs": [
    {
     "name": "stdout",
     "output_type": "stream",
     "text": [
      "none of the above is correct\n",
      "none of the above is correct\n"
     ]
    }
   ],
   "source": [
    "x = 100\n",
    "\n",
    "# first level \n",
    "if x < 80:\n",
    "    print(\"X is still greater than this\")\n",
    "    \n",
    "    # nested statement\n",
    "    if x > 200:\n",
    "        print(\"X is greater than 200\")\n",
    "    else:\n",
    "        print(\"X is less than 200\")\n",
    "\n",
    "        # Nested statement\n",
    "        if x != 100:\n",
    "            print(\"X is equals to 100\")\n",
    "        else:\n",
    "            print(\"check this if there is no mistake\")\n",
    "else:\n",
    "    print(\"none of the above is correct\")"
   ]
  },
  {
   "cell_type": "code",
   "execution_count": 44,
   "metadata": {},
   "outputs": [
    {
     "name": "stdout",
     "output_type": "stream",
     "text": [
      "fail\n",
      "fail\n"
     ]
    }
   ],
   "source": [
    "mark = 2\n",
    "\n",
    "if mark >= 90:\n",
    "    print(\"Excellence\")\n",
    "\n",
    "elif mark >= 50:\n",
    "    print(\"Average\")\n",
    "\n",
    "elif mark >= 30:\n",
    "    print(\"poor\")\n",
    "\n",
    "else:\n",
    "    print('fail')\n",
    "\n"
   ]
  },
  {
   "cell_type": "code",
   "execution_count": 49,
   "metadata": {},
   "outputs": [
    {
     "name": "stdout",
     "output_type": "stream",
     "text": [
      "You are living below average\n",
      "You are living below average\n"
     ]
    }
   ],
   "source": [
    "salary \n",
    "\n",
    "if salary > 100000:\n",
    "    print(\"You are above average income\")\n",
    "\n",
    "elif salary < 10000:\n",
    "    print('You are living below average')\n",
    "\n",
    "else:\n",
    "    print(\"No information about wages\")"
   ]
  },
  {
   "cell_type": "code",
   "execution_count": 51,
   "metadata": {},
   "outputs": [
    {
     "name": "stdout",
     "output_type": "stream",
     "text": [
      "y is equals m\n",
      "y is equals m\n"
     ]
    }
   ],
   "source": [
    "x = 30\n",
    "y = 10\n",
    "m = 10\n",
    "\n",
    "if x == y:\n",
    "    print(\"X is equals y\")\n",
    "elif y == m:\n",
    "    print(\"y is equals m\")\n",
    "\n",
    "elif x > y:\n",
    "    print(\"x is greater than y\")"
   ]
  },
  {
   "cell_type": "code",
   "execution_count": 53,
   "metadata": {},
   "outputs": [
    {
     "name": "stdout",
     "output_type": "stream",
     "text": [
      "This is the house \n",
      "This is the house \n"
     ]
    }
   ],
   "source": [
    "house = 57\n",
    "\n",
    "if house == 57:\n",
    "    print(\"This is the house \")\n",
    "else: \n",
    "    print(\"You are in a wrong plcae\")"
   ]
  },
  {
   "cell_type": "code",
   "execution_count": 57,
   "metadata": {},
   "outputs": [
    {
     "name": "stdout",
     "output_type": "stream",
     "text": [
      "Where are you?\n",
      "Where are you?\n"
     ]
    }
   ],
   "source": [
    "location = 57\n",
    "\n",
    "if location == 'Auto Shop':\n",
    "    print('Welcome to the Auto Shop!')\n",
    "elif location == 'Bank':\n",
    "    print('Welcome to the bank!')\n",
    "else:\n",
    "    print('Where are you?')\n",
    "\n"
   ]
  }
 ],
 "metadata": {
  "language_info": {
   "name": "python"
  }
 },
 "nbformat": 4,
 "nbformat_minor": 2
}
