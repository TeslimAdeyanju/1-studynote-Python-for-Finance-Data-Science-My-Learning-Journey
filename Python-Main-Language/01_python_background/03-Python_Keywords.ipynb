{
 "cells": [
  {
   "cell_type": "markdown",
   "metadata": {},
   "source": [
    "# VARIABLES"
   ]
  },
  {
   "cell_type": "markdown",
   "metadata": {},
   "source": [
    "## Variables\n",
    "___"
   ]
  },
  {
   "cell_type": "markdown",
   "metadata": {},
   "source": [
    "\n",
    "- Python Variable is containers that store values. \n",
    "- We do not need to declare variables before using them or declare their type. \n",
    "- A variable is created the moment we first assign a value to it. \n",
    "- A Python variable is a name given to a memory location. \n",
    "- It is the basic unit of storage in a program.\n",
    "- The value stored in a variable can be changed during program execution."
   ]
  },
  {
   "cell_type": "markdown",
   "metadata": {},
   "source": [
    "#### Rules for Python Variables\n",
    "___"
   ]
  },
  {
   "cell_type": "markdown",
   "metadata": {},
   "source": [
    "\n",
    "A Python variable name must start with a letter or the underscore character.\n",
    "- A Python variable name cannot start with a number.\n",
    "- A Python variable name can only contain alpha-numeric characters and underscores (A-z, 0-9, and _ ).\n",
    "- Variable in Python names are case-sensitive (name, Name, and NAME are three different variables).\n",
    "- The reserved words(keywords) in Python cannot be used to name the variable in Python"
   ]
  },
  {
   "cell_type": "markdown",
   "metadata": {},
   "source": [
    "__List of Python Keywords__\n",
    "\n",
    "1. and: This is a logical operator which returns true if both the operands are true else returns false.\n",
    "   \n",
    "2. or:  This is also a logical operator which returns true if anyone operand is true else returns false.\n",
    "   \n",
    "3. not: This is again a logical operator it returns True if the operand is false else returns false.\n",
    "   \n",
    "4. if: \tThis is used to make a conditional statement.\n",
    "   \n",
    "5. elif: Elif is a condition statement used with an if statement. The elif statement is executed if the previous conditions were not true.\n",
    "   \n",
    "6. else: Else is used with if and elif conditional statements. The else block is executed if the given condition is not true.\n",
    "   \n",
    "7. for:  This is used to create a loop.\n",
    "\n",
    "8. while: This keyword is used to create a while loop.\n",
    "\n",
    "9. break: This is used to terminate the loop.\n",
    "\n",
    "10. as: This is used to create an alternative.\n",
    "\n",
    "11. def: It helps us to define functions.\n",
    "\n",
    "12. lambda: It is used to define the anonymous function.\n",
    "\n",
    "13. pass: This is a null statement which means it will do nothing.\n",
    "\n",
    "14. return: It will return a value and exit the function.\n",
    "\n",
    "15. True: This is a boolean value.\n",
    "\n",
    "16. False: This is also a boolean value.\n",
    "\n",
    "17. try: It makes a try-except statement.\n",
    "\n",
    "18. with: The with keyword is used to simplify exception handling.\n",
    "\n",
    "19. assert: This function is used for debugging purposes. Usually used to check the correctness of code\n",
    "    \n",
    "20. class: It helps us to define a class.\n",
    "\n",
    "21. continue\tIt continues to the next iteration of a loop\n",
    "\n",
    "22. del\tIt deletes a reference to an object.\n",
    "\n",
    "23. except\tUsed with exceptions, what to do when an exception occurs\n",
    "\n",
    "24. finally: Finally is used with exceptions, a block of code that will be executed no matter if there is an exception or not.\n",
    "\n",
    "25. from: It is used to import specific parts of any module.\n",
    "\n",
    "26. global: This declares a global variable.\n",
    "\n",
    "27. import: This is used to import a module.\n",
    "\n",
    "28. in: It’s used to check whether a value is present in a list, range, tuple, etc.\n",
    "    \n",
    "29. is\tThis is used to check if the two variables are equal or not.\n",
    "    \n",
    "30. none\tThis is a special constant used to denote a null value or avoid. It’s important to remember, 0, any empty container(e.g empty list) do not compute to None\n",
    "    \n",
    "31. nonlocal: It’s declared a non-local variable.\n",
    "    \n",
    "32. raise\tThis raises an exception.\n",
    "    \n",
    "33. yield\tIt ends a function and returns a generator.\n",
    "    \n",
    "34. async\tIt is used to create asynchronous coroutine.\n",
    "    \n",
    "35. await\tIt releases the flow of control back to the event loop.\n"
   ]
  },
  {
   "cell_type": "markdown",
   "metadata": {},
   "source": [
    "\n",
    "This code imports the “keyword” module in Python and then prints a list of all the keywords in Python using the “kwlist” attribute of the “keyword” module. The “kwlist” attribute is a list of strings, where each string represents a keyword in Python. By printing this list, we can see all the keywords that are reserved in Python and cannot be used as identifiers.\n"
   ]
  },
  {
   "cell_type": "code",
   "execution_count": 2,
   "metadata": {},
   "outputs": [
    {
     "name": "stdout",
     "output_type": "stream",
     "text": [
      "['False', 'None', 'True', 'and', 'as', 'assert', 'async', 'await', 'break', 'class', 'continue', 'def', 'del', 'elif', 'else', 'except', 'finally', 'for', 'from', 'global', 'if', 'import', 'in', 'is', 'lambda', 'nonlocal', 'not', 'or', 'pass', 'raise', 'return', 'try', 'while', 'with', 'yield']\n"
     ]
    }
   ],
   "source": [
    "import keyword\n",
    "print(keyword.kwlist)"
   ]
  },
  {
   "cell_type": "markdown",
   "metadata": {},
   "source": [
    "#### Python Identifiers\n",
    "___"
   ]
  },
  {
   "cell_type": "markdown",
   "metadata": {},
   "source": [
    "\n",
    "* identifiers identify is a user-defined name given to a variable, function, class, module, etc. \n",
    "* The identifier is a combination of character digits and an underscore. They are case-sensitive i.e., ‘num’ and ‘Num’ and ‘NUM’ are three different identifiers in python. \n",
    "* It is a good programming practice to give meaningful names to identifiers to make the code understandable.\n",
    "\n",
    "* Rules for Naming Python Identifiers\n",
    "1. It cannot be a reserved python keyword.\n",
    "2. It should not contain white space.\n",
    "3. It can be a combination of A-Z, a-z, 0-9, or underscore.\n",
    "4. It should start with an alphabet character or an underscore ( _ ).\n",
    "5. It should not contain any special character other than an underscore ( _ )."
   ]
  },
  {
   "cell_type": "markdown",
   "metadata": {},
   "source": [
    "#### Assigning values to Variables in Python\n",
    "___"
   ]
  },
  {
   "cell_type": "code",
   "execution_count": 8,
   "metadata": {},
   "outputs": [
    {
     "name": "stdout",
     "output_type": "stream",
     "text": [
      "Teslim Uthman Adeyanju\n"
     ]
    }
   ],
   "source": [
    "# Example: assign value to name variable\n",
    "name = 'Teslim Uthman Adeyanju'\n",
    "print(name)"
   ]
  },
  {
   "cell_type": "code",
   "execution_count": 6,
   "metadata": {},
   "outputs": [
    {
     "name": "stdout",
     "output_type": "stream",
     "text": [
      "5\n",
      "3.2\n",
      "Hello\n"
     ]
    }
   ],
   "source": [
    "# Example: Assigning multiple values to multiple variables\n",
    "a, b, c = 5, 3.2, 'Hello'\n",
    "print(a)  # prints 5\n",
    "print(b)  # prints 3.2\n",
    "print(c)  # prints Hello"
   ]
  },
  {
   "cell_type": "code",
   "execution_count": 4,
   "metadata": {},
   "outputs": [
    {
     "name": "stdout",
     "output_type": "stream",
     "text": [
      "Teslim\n",
      "Teslim\n"
     ]
    }
   ],
   "source": [
    "# If we want to assign the same value to multiple variables at once, we can do this as:\n",
    "name1 = name2  = 'Teslim'\n",
    "print(name1)  # prints name1\n",
    "print(name2)  # prints name2"
   ]
  },
  {
   "cell_type": "markdown",
   "metadata": {},
   "source": [
    "#### Variable Types \n",
    "___"
   ]
  },
  {
   "cell_type": "markdown",
   "metadata": {},
   "source": [
    "\n",
    "Data types are the classification or categorization of data items. It represents the kind of value that tells what operations can be performed on a particular data. Since everything is an object in Python programming, data types are actually classes and variables are instances (object) of these classes.\n",
    "\n",
    "Built-in Python Data types are:\n",
    "\n",
    "- int (for integer)\n",
    "- float\n",
    "- str (for string)\n",
    "- list\n",
    "- tuple\n",
    "- dict (for dictionary)\n",
    "- set\n",
    "- bool (for Boolean True/False)\n",
    "\n",
    "You can check what type of object is assigned to a variable using Python's built-in <code>type() function</code>"
   ]
  },
  {
   "cell_type": "code",
   "execution_count": 5,
   "metadata": {},
   "outputs": [
    {
     "name": "stdout",
     "output_type": "stream",
     "text": [
      "<class 'str'>\n"
     ]
    }
   ],
   "source": [
    "print(type(name2))\n"
   ]
  },
  {
   "cell_type": "markdown",
   "metadata": {},
   "source": [
    "## Python Keywords\n",
    "___"
   ]
  },
  {
   "cell_type": "markdown",
   "metadata": {},
   "source": [
    "Python keywords are reserved words that have a special meaning associated with them and can’t be used for anything but those specific purposes.\n",
    "\n",
    "**What is keyword in Python?**\n",
    "\n",
    "Python keywords are **reserved words that have a special meaning** associated with them and can’t be used for anything but those specific purposes. Each keyword is designed to achieve specific functionality.\n",
    "\n",
    "Python keywords are **case-sensitive**.\n",
    "\n",
    "1. All keywords contain only letters (no special symbols)\n",
    "2. Except for three keywords (`True`, `False`, `None`), all keywords have lower case letters\n",
    "\n",
    "**Get the List of Keywords**\n",
    "\n",
    "As of Python 3.9.6, there are **36 keywords** available. This number can vary slightly over time.\n",
    "\n",
    "We can use the following two ways to get the list of keywords in Python\n",
    "\n",
    "- **keyword module**: The keyword is the buil-in module to get the list of keywords. Also, this module allows a Python program to determine if a string is a keyword.\n",
    "- **`help()` function**: Apart from a keyword module, we can use the `help()` function to get the list of keywords\n",
    "\n",
    "**Example**: keyword module\n",
    "\n",
    "```python\n",
    "import keyword\n",
    "print(keyword.kwlist)\n",
    "```\n",
    "\n",
    "```\n",
    "['False', 'None', 'True', 'and', 'as', 'assert', 'async', 'await', 'break',\n",
    "'class', 'continue', 'def', 'del', 'elif', 'else', 'except', 'finally', 'for',\n",
    "'from', 'global', 'if', 'import', 'in', 'is', 'lambda', 'nonlocal',\n",
    "'not', 'or', 'pass', 'raise', 'return', 'try', 'while', 'with', 'yield']\n",
    "```\n",
    "\n",
    "All the keywords except, `True`, `False`, and `None`, must be written in a lowercase alphabet symbol.\n",
    "\n",
    "**Example 2**: The `help()` function\n",
    "\n",
    "```python\n",
    "help(\"keywords\")\n",
    "```\n",
    "\n",
    "```python\n",
    "Here is a list of the Python keywords.  Enter any keyword to get more help.\n",
    "\n",
    "False               break               for                 not\n",
    "None                class               from                or\n",
    "True                continue            global              pass\n",
    "__peg_parser__      def                 if                  raise\n",
    "and                 del                 import              return\n",
    "as                  elif                in                  try\n",
    "assert              else                is                  while\n",
    "async               except              lambda              with\n",
    "await               finally             nonlocal            yield\n",
    "```\n",
    "\n",
    "<aside>\n",
    "💡 You cannot use any of the above keywords as identifiers in your programs. If you try to do so, you will get an error. An identifier is a name given to an entity, For example, variables name, functions name, or class name.\n",
    "\n",
    "</aside>\n",
    "\n",
    "**Understand Any keyword**\n",
    "\n",
    "The python **`help()` function** is used to display the documentation of modules, functions, classes, keywords.\n",
    "\n",
    "Pass the keyword name to the `help()` function to get to know how to use it. The `help()`function returns the description of a keyword along with an example.\n",
    "\n",
    "Let’s understand how to use the `if` keyword.\n",
    "\n",
    "```python\n",
    "print(help('if'))\n",
    "```\n",
    "\n",
    "```python\n",
    "The \"if\" statement\n",
    "\n",
    "******************\n",
    "\n",
    "The \"if\" statement is used for conditional execution:\n",
    "\n",
    "   if_stmt ::= \"if\" assignment_expression \":\" suite\n",
    "               (\"elif\" assignment_expression \":\" suite)*\n",
    "               [\"else\" \":\" suite]\n",
    "\n",
    "It selects exactly one of the suites by evaluating the expressions one\n",
    "by one until one is found to be true (see section Boolean operations\n",
    "for the definition of true and false); then that suite is executed\n",
    "(and no other part of the \"if\" statement is executed or evaluated).\n",
    "If all expressions are false, the suite of the \"else\" clause, if\n",
    "present, is executed.\n",
    "```\n",
    "\n",
    "Usually, IDE should identify the keywords in a specific colour, and you should take note of that. In the example above, note how the keyword (if, elif, and else) were all identified with the same colour. \n",
    "\n",
    "**Keyword Module**\n",
    "\n",
    "Python [keyword module](https://docs.python.org/3/library/keyword.html) allows a Python program to determine if a string is a keyword.\n",
    "\n",
    "`iskeyword(x)`: Returns `True` if `x` is a keyword\n",
    "\n",
    "Example `if` is a keyword…\n",
    "\n",
    "```python\n",
    "import keyword\n",
    "print(keyword.iskeyword('if'))\n",
    "print(keyword.iskeyword('range'))\n",
    "```\n",
    "\n",
    "As you can see in the output, it returned True because ‘if’ is the keyword, and it returned False because the range is not a keyword (it is a built-in function).\n",
    "\n",
    "Also, keyword module provides following functions to identify keywords.\n",
    "\n",
    "- `keyword.kwlist:` It return a sequence containing all the keywords defined for the interpreter.\n",
    "- `keyword.issoftkeyword(s)`: Return `True` if *s* is a Python soft keyword. New in version 3.9\n",
    "- `keyword.softkwlist`: Sequence containing all the soft keywords defined for the interpreter. New in version 3.9\n",
    "\n",
    "**Types of Keywords**\n",
    "\n",
    "All 36 keywords can be divided into the following seven categories.\n",
    "\n",
    "1. **Value Keywords: `True`, `False`, `None`.**\n",
    "2. **Operator Keywords: `and`, `or`, `not`, `in`, `is`**\n",
    "3. **Conditional Keywords: `if,` `elif`, `else`**\n",
    "4. **Iterative and Transfer Keywords: `for`, `while`, `break`, `continue`, `else`**\n",
    "5. **Structure Keywords: `def`, `class`, `with`, `as`, `pass`, `lambda`**\n",
    "6. **Import Keywords: `import`, `from`, `as`**\n",
    "7. **Returning Keywords: `return`, `yield`**\n",
    "8. **Exception-Handling Keywords: `try`, `except`, `raise`, `finally`, `else`, `assert`**\n",
    "9. **Variable Handling Keywords: `del`, `global`, `nonlocal`**\n",
    "10. **Asynchronous Programming Keywords: `async`, `await`**"
   ]
  }
 ],
 "metadata": {
  "kernelspec": {
   "display_name": "base",
   "language": "python",
   "name": "python3"
  },
  "language_info": {
   "codemirror_mode": {
    "name": "ipython",
    "version": 3
   },
   "file_extension": ".py",
   "mimetype": "text/x-python",
   "name": "python",
   "nbconvert_exporter": "python",
   "pygments_lexer": "ipython3",
   "version": "3.10.13"
  }
 },
 "nbformat": 4,
 "nbformat_minor": 2
}
