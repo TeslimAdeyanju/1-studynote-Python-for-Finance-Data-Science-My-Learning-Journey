{
 "cells": [
  {
   "cell_type": "markdown",
   "metadata": {},
   "source": [
    "# MODULES and PACKAGES\n",
    "\n"
   ]
  },
  {
   "cell_type": "markdown",
   "metadata": {},
   "source": [
    "### Python MODULES\n",
    "___"
   ]
  },
  {
   "cell_type": "markdown",
   "metadata": {},
   "source": [
    "#### Introduction\n",
    "___"
   ]
  },
  {
   "cell_type": "markdown",
   "metadata": {},
   "source": [
    "One of the key features of Python is that the actual core language is fairly small. This is an intentional design feature to maintain simplicity. Much of the powerful functionality comes through external modules and packages. The main work of installation so far has been to supplement the core Python with useful modules for science analysis.\n",
    "\n",
    "**Module**:\n",
    "\n",
    "A module is a file that contains Python code. This code can define functions, classes, and variables that you can reuse in other programs.A file with Python code is defined with extension`.py`. For example, `module.py` is a module name.\n",
    "\n",
    "**Why use modules?**\n",
    "\n",
    "* Reusability: Instead of writing the same code over and over again, you can write it once in a module and use it whenever you need.\n",
    "\n",
    "* Organization: Modules help organize your code into manageable sections, making it easier to read and maintain.\n",
    "\n",
    "* Sharing: You can share your modules with others so they can use your code in their programs.\n",
    "\n",
    "\n",
    "In Python, there are two types of modules.\n",
    "\n",
    "1. Built-in Modules\n",
    "1. User-defined Modules\n",
    "\n"
   ]
  },
  {
   "cell_type": "markdown",
   "metadata": {},
   "source": [
    "##### Built-in Modules\n",
    "___"
   ]
  },
  {
   "cell_type": "markdown",
   "metadata": {},
   "source": [
    "Built-in modules come with default Python installation. One of Python’s most significant advantages is its rich library support that contains lots of built-in modules. Hence, it provides a lot of reusable code.\n",
    "\n",
    "Some commonly used Python built-in modules are `datetime`, `os`, `math`, `sys`, `random`, etc.\n",
    "\n",
    "Built-in modules are written in C and integrated with the Python interpreter. They provide access to system functionality such as file I/O that would otherwise be inaccessible to Python programmers, as well as modules written in Python that provide standardized solutions for many problems that occur in everyday programming.\n",
    "\n"
   ]
  },
  {
   "cell_type": "markdown",
   "metadata": {},
   "source": [
    "##### User-defined Modules\n",
    "___"
   ]
  },
  {
   "cell_type": "markdown",
   "metadata": {},
   "source": [
    "User defined modules are modules that you create yourself. A user-defined module is a Python file that contains Python code, including variables, functions, and classes. You can use any Python source file as a module by executing an import statement in some other Python source file."
   ]
  },
  {
   "cell_type": "markdown",
   "metadata": {},
   "source": [
    "#### How to import modules\n",
    "___   "
   ]
  },
  {
   "cell_type": "markdown",
   "metadata": {},
   "source": [
    "In Python, the `import` statement is used to import the whole module. Also, we can import specific classes and functions from a module. For example import math, import math.sqrt, etc.\n",
    "\n",
    "When the interpreter finds an `import` statement, it imports the module presented in a search path. The module is loaded only once, even we import multiple times.\n",
    "\n",
    "To import modules in Python, we use the Python `import` keyword. With the help of the import keyword, both the built-in and user-defined modules are imported. Let’s see an example of importing a math module.\n",
    "\n"
   ]
  },
  {
   "cell_type": "code",
   "execution_count": 1,
   "metadata": {},
   "outputs": [
    {
     "name": "stdout",
     "output_type": "stream",
     "text": [
      "2.23606797749979\n",
      "120\n"
     ]
    }
   ],
   "source": [
    "import math\n",
    "\n",
    "# use math module functions\n",
    "print(math.sqrt(5))\n",
    "print(math.factorial(5))"
   ]
  },
  {
   "cell_type": "markdown",
   "metadata": {},
   "source": [
    "##### Import multiple modules\n",
    "___"
   ]
  },
  {
   "cell_type": "markdown",
   "metadata": {},
   "source": [
    "If we want to use more than one module, then we can import multiple modules. This is the simplest form of `import` statement that we already used in the above example. The syntax is as follows:\n",
    "\n",
    "```python\n",
    "    import module1, module2, module3\n",
    "```"
   ]
  },
  {
   "cell_type": "code",
   "execution_count": 2,
   "metadata": {},
   "outputs": [
    {
     "name": "stdout",
     "output_type": "stream",
     "text": [
      "2.23606797749979\n",
      "1\n",
      "range(0, 10)\n"
     ]
    }
   ],
   "source": [
    "# Impoorting 3 module\n",
    "import math, random, sys\n",
    "\n",
    "print(math.sqrt(5))\n",
    "print(random.randint(1, 100))\n",
    "print(range(10))"
   ]
  },
  {
   "cell_type": "markdown",
   "metadata": {},
   "source": [
    "##### Import only specific classes or functions from a module\n",
    "___"
   ]
  },
  {
   "cell_type": "markdown",
   "metadata": {},
   "source": [
    "To import particular classes or functions, we can use the `from...import` statement. It is an alternate way to `import`. Using this way, we can `import` individual attributes and methods directly into the program.\n",
    "\n",
    "In this way, we are not required to use the module name. The syntax is as follows:\n",
    "\n",
    "```python\n",
    "    from module_name import class_name\n",
    "```\n",
    "\n",
    "\n"
   ]
  },
  {
   "cell_type": "code",
   "execution_count": 3,
   "metadata": {},
   "outputs": [
    {
     "name": "stdout",
     "output_type": "stream",
     "text": [
      "120\n"
     ]
    }
   ],
   "source": [
    "# import only factorial function from math module\n",
    "from math import factorial\n",
    "\n",
    "print(factorial(5))"
   ]
  },
  {
   "cell_type": "markdown",
   "metadata": {},
   "source": [
    "##### Import with renaming a module\n",
    "___"
   ]
  },
  {
   "cell_type": "markdown",
   "metadata": {},
   "source": [
    "If we want to use the module with a different name, we can use `from..import…as` statement.\n",
    "It is also possible to import a particular method and use that method with a different name. It is called aliasing. Afterward, we can use that name in the entire program. The syntax is as follows:\n",
    "\n",
    "```python\n",
    "    from module_name import class_name as alias_name\n",
    "```\n",
    "\n"
   ]
  },
  {
   "cell_type": "code",
   "execution_count": 4,
   "metadata": {},
   "outputs": [
    {
     "name": "stdout",
     "output_type": "stream",
     "text": [
      "5.0\n"
     ]
    }
   ],
   "source": [
    "# Example 1: Import a module by renaming it\n",
    "\n",
    "import math as m\n",
    "print(m.sqrt(25))"
   ]
  },
  {
   "cell_type": "code",
   "execution_count": 5,
   "metadata": {},
   "outputs": [
    {
     "name": "stdout",
     "output_type": "stream",
     "text": [
      "34\n"
     ]
    }
   ],
   "source": [
    "# Example 2: import a method by renaming it\n",
    "\n",
    "from random import randint as random_number\n",
    "print(random_number(10, 50))\n"
   ]
  },
  {
   "cell_type": "markdown",
   "metadata": {},
   "source": [
    "##### Import all names\n",
    "___"
   ]
  },
  {
   "cell_type": "markdown",
   "metadata": {},
   "source": [
    "If we need to import all functions and attributes of a specific module, then instead of writing all function names and attribute names, we can import all using an asterisk `*`. The syntax is as follows:\n",
    "\n",
    "```python\n",
    "    from module_name import *\n",
    "```"
   ]
  },
  {
   "cell_type": "code",
   "execution_count": 7,
   "metadata": {},
   "outputs": [
    {
     "name": "stdout",
     "output_type": "stream",
     "text": [
      "4.0\n",
      "16.0\n",
      "120\n",
      "9.42477796076938\n",
      "10.0\n"
     ]
    }
   ],
   "source": [
    "# Example 3: Import all methods from a module\n",
    "from math import *\n",
    "\n",
    "# printing some of the methods of math module\n",
    "print(sqrt(16))\n",
    "print(pow(4,2))\n",
    "print(factorial(5))\n",
    "print(pi*3)\n",
    "print(sqrt(100))"
   ]
  },
  {
   "cell_type": "markdown",
   "metadata": {},
   "source": [
    "##### Importing modules from different directories\n",
    "___"
   ]
  },
  {
   "cell_type": "markdown",
   "metadata": {},
   "source": [
    "To create a module, we need to write Python code in a file and save it with a `.py` extension. For example, we have created a module named `test_module.py` that contains the list of cities.\n",
    "\n",
    "```python\n",
    "cities_list = ['Mumbai', 'Delhi', 'Bangalore', 'Karnataka', 'Hyderabad']\n",
    "```\n",
    "\n",
    "Once we save the file with the `.py` extension, we can import it into another Python program using the `import` statement.\n",
    "\n",
    "if we open a new Python file, and save it as `practice_file`. \n",
    "\n",
    "Inside the `practice_file`, we import the `test_module.py` file, and access the cities list.\n",
    "\n",
    "```python\n",
    "import test_module\n",
    "\n",
    "# access first city\n",
    "city = test_module.cities_list[1]\n",
    "print(\"Accessing 1st city:\", city)\n",
    "\n",
    "# Get all cities\n",
    "cities = test_module.cities_list\n",
    "print(\"Accessing All cities :\", cities)\n",
    "\n",
    "```\n",
    "\n",
    "output:   \n",
    "\n",
    "Accessing 1st city: Delhi  \n",
    "Accessing All cities : ['Mumbai', 'Delhi', 'Bangalore', 'Karnataka', 'Hyderabad']"
   ]
  },
  {
   "cell_type": "markdown",
   "metadata": {},
   "source": [
    "#### Python Module Search Path\n",
    "___\n"
   ]
  },
  {
   "cell_type": "markdown",
   "metadata": {},
   "source": [
    "\n",
    "When we import a module, the Python interpreter searches for the module in the following sequences:\n",
    "\n",
    "1. The current directory.\n",
    "1. The directories listed in the PYTHONPATH environment variable.\n",
    "1. The installation-dependent default directory.\n",
    "\n",
    "The `sys.path` variable contains the current directory, PYTHONPATH, and the installation-dependent default directory. We can modify the `sys.path` variable to add a new directory. The `sys.path` variable is a list of strings that determines the interpreter’s search path for modules.\n",
    "\n",
    "\n",
    "When you import a module in Python, the interpreter follows a specific sequence to locate it:\n",
    "\n"
   ]
  },
  {
   "cell_type": "markdown",
   "metadata": {},
   "source": [
    "**1.Current Directory:**\n",
    "___\n",
    "\n",
    "The interpreter first checks the directory where your current Python script resides. This allows you to import modules you've created and placed within the same directory as your script for easy access.\n",
    "\n",
    "Example:  \n",
    "1. Let's say you have a script named `my_program.py` in a directory that also contains a module named `helper_functions.py.`\n",
    "\n",
    "2. Within the file `my_program.py`, you can import `helper_functions.py` directly using the following import statement:\n",
    "\n",
    "```python\n",
    "import helper_functions\n",
    "\n",
    "# Use functions from helper_functions.py\n",
    "result = helper_functions.add_numbers(5, 3)\n",
    "\n",
    "print(result) \n",
    "# Output: 8\n",
    "\n",
    "```"
   ]
  },
  {
   "cell_type": "markdown",
   "metadata": {},
   "source": [
    "**2.PYTHONPATH Environment Variable:**\n",
    "___\n",
    "PYTHONPATH is an environment variable that you can set to add additional directories where Python will search for modules before looking in the default directories.\n",
    "\n",
    "If the module isn't found in the current directory, the interpreter will search for it in the directories listed in the `PYTHONPATH` environment variable. This variable is a list of directories where the interpreter should look for modules. You can set this variable to point to custom directories where you store your frequently used or project-specific modules.\n",
    "\n",
    "PYTHONPATH environment variable is not the same as a virtual environment (often referred to as a \"work env\" in Python). They serve different purposes and are used in different contexts. PYTHONPATH is used to specify additional directories where Python should look for modules and packages before looking in the default locations.\n",
    "\n",
    "Purpose:  PYTHONPATH is used to specify additional directories where Python should look for modules and packages before looking in the default locations.\n",
    "\n",
    "Usage:  PYTHONPATH is set as an environment variable in your operating system. It can be used to point to directories containing custom modules or packages that you want to import in your Python scripts.\n",
    "\n",
    "Example \n",
    "1. Imagine you have a directory(file) named `custom_modules` that contains a module called `data_processing.py`.\n",
    "\n",
    "2. You want to import `data_processing.py` in your Python script, but it's not in the current directory.\n",
    "\n",
    "3. You can add the `custom_modules` directory to the PYTHONPATH environment variable to tell Python to look for modules there.\n",
    "\n",
    "4. Here's how you can set the PYTHONPATH environment variable in different operating systems:\n",
    "\n",
    "**Windows:**\n",
    "___\n",
    "\n",
    "To set the PYTHONPATH environment variable in Windows, follow these steps:\n",
    "1. Open the Control Panel.\n",
    "1. Go to System and Security > System.\n",
    "1. Click on Advanced system settings.\n",
    "1. Click on Environment Variables.\n",
    "1. In the System variables section, click New.\n",
    "1. Enter PYTHONPATH as the variable name and the path to your custom modules directory as the variable value.\n",
    "1. Click OK to save the changes.\n",
    "\n",
    "**macOS and Linux:**\n",
    "___\n",
    "\n",
    "1. Open a terminal window.\n",
    "1. Run the following command to set the PYTHONPATH environment variable:\n",
    "```bash\n",
    "export PYTHONPATH=/path/to/custom_modules\n",
    "```\n",
    "\n",
    "**Note:** Replace `/path/to/custom_modules` with the actual path to your custom modules directory.\n",
    "\n",
    "\n",
    "Then, you can import the `data_processing.py` module in your Python script using the following import statement:\n",
    "\n",
    "```python\n",
    "import data_processing\n",
    "\n",
    "# Use functions from data_processing.py\n",
    "result = data_processing.process_data(data)\n",
    "\n",
    "print(result)\n",
    "```\n",
    "\n",
    "\n"
   ]
  },
  {
   "cell_type": "code",
   "execution_count": null,
   "metadata": {},
   "outputs": [],
   "source": []
  },
  {
   "cell_type": "markdown",
   "metadata": {},
   "source": [
    "##### 3. Installation-Dependent Default Directory:\n",
    "___\n",
    "\n",
    "If the module isn't found in the current directory or the directories listed in the PYTHONPATH environment variable, the interpreter will search for it in the installation-dependent default directory. This directory is determined by the Python installation and contains the standard library modules that come with Python.\n",
    "\n",
    "The installation-dependent default directory is the last place the interpreter looks for modules. If the module isn't found in any of the previous locations, the interpreter will raise an ImportError.\n",
    "\n",
    "You shouldn't usually need to modify this path, as these modules are readily available. However, if you need to access or modify the standard library modules, you can find them in the installation-dependent default directory.\n",
    "\n",
    "**Note:** The installation-dependent default directory is different from the PYTHONPATH environment variable. The PYTHONPATH variable is used to specify additional directories where Python should look for modules, while the installation-dependent default directory contains the standard library modules that come with Python.\n",
    "\n",
    "The PYTHONPATH and installation-dependent default directory are two different concepts in Python.\n",
    "\n",
    "\n",
    "**NOTE**  \n",
    "\n",
    "The modules in the Installation-Dependent Default Directory are part of Python's standard library, which comes pre-installed with the Python interpreter. These modules are essential for various tasks and are readily available without needing any additional configuration. Here are some common examples of modules found in this directory:\n",
    "\n",
    "`math`: This module provides mathematical functions like calculating square root (`math.sqrt()`), sine (`math.sin()`), cosine (`math.cos()`), and many more.\n",
    "\n",
    "`os`: This module allows you to interact with the operating system, such as accessing file paths (`os.path.join()`), creating directories (`os.makedirs()`), and listing files in a directory (`os.listdir()`).\n",
    "\n",
    "`random`: This module generates random numbers for various purposes, like simulating dice rolls (`random.randint(1, 6)`) or shuffling a deck of cards (`random.shuffle()`).\n",
    "\n",
    "`string`: This module provides functions for manipulating strings, such as finding the index of a character (`string.find()`), replacing parts of a string (`string.replace()`), and converting a string to uppercase (`string.upper()`).\n",
    "\n",
    "\n",
    "These are just a few examples, and the standard library contains many more modules covering a wide range of functionalities. You can find a comprehensive list of standard library modules in the official Python documentation [https://docs.python.org/3/tutorial/modules.html#tut-standardmodules]\n",
    "\n",
    "\n",
    "Remember, you typically don't need to worry about the exact location of these standard library modules in the Installation-Dependent Default Directory. Python automatically searches for them and makes them available for import in your code."
   ]
  },
  {
   "cell_type": "markdown",
   "metadata": {},
   "source": [
    "#### Reloading a module\n",
    "___"
   ]
  },
  {
   "cell_type": "markdown",
   "metadata": {},
   "source": [
    "In Python, when you import a module using import, the module is loaded into memory. By default, this loaded module is cached, meaning subsequent import statements within the same program execution will reference the cached version. This behavior ensures efficiency, as Python avoids redundant loading of the same module code.\n",
    "\n",
    "Sometimes we update the loaded module with new changes, then an updated version of the module is not available to our program. In that case, we can use the `reload()` function to reload a module again.\n",
    "\n",
    "If you modify the module's source code `(.py file)` during program execution and want to use the updated functionality within the same run, you'll need to force a reload.\n",
    "\n",
    "The `importlib` module provides a `reload()` function that allows you to reload a module that has already been imported. This function is useful when you want to update a module's code and use the updated version in your program without restarting the interpreter.\n",
    "\n",
    "Here is how to reload a module using the `importlib.reload()` function:"
   ]
  },
  {
   "cell_type": "code",
   "execution_count": 4,
   "metadata": {},
   "outputs": [
    {
     "name": "stdout",
     "output_type": "stream",
     "text": [
      "4.0\n",
      "4.0\n",
      "4.0\n"
     ]
    }
   ],
   "source": [
    "# import the importlib module\n",
    "import time \n",
    "from importlib import reload\n",
    "\n",
    "# load the math module 1st time\n",
    "import math\n",
    "print(math.sqrt(16))\n",
    "time.sleep(2)\n",
    "\n",
    "\n",
    "# load the math module 2nd time using reload()\n",
    "reload(math)\n",
    "print(math.sqrt(16))\n",
    "time.sleep(2)\n",
    "\n",
    "# load the math module 3rd time using reload()\n",
    "reload(math)\n",
    "print(math.sqrt(16))\n"
   ]
  },
  {
   "cell_type": "markdown",
   "metadata": {},
   "source": [
    "The selected code is written in Python and demonstrates the use of the [`importlib.reload()`](command:_github.copilot.openSymbolFromReferences?%5B%7B%22%24mid%22%3A1%2C%22path%22%3A%22%2FUsers%2Fteslim%2Fanaconda3%2Fenvs%2Fteslim_env%2Flib%2Fpython3.11%2Fimportlib%2F__init__.py%22%2C%22scheme%22%3A%22file%22%7D%2C%7B%22line%22%3A0%2C%22character%22%3A0%7D%5D \"../../../../anaconda3/envs/teslim_env/lib/python3.11/importlib/__init__.py\") function to reload a previously imported module.\n",
    "\n",
    "The first few lines:\n",
    "\n"
   ]
  },
  {
   "cell_type": "code",
   "execution_count": null,
   "metadata": {},
   "outputs": [],
   "source": [
    "import time \n",
    "from importlib import reload"
   ]
  },
  {
   "cell_type": "markdown",
   "metadata": {},
   "source": [
    "\n",
    "\n",
    "Here, the [`time`](command:_github.copilot.openSymbolFromReferences?%5B%7B%22%24mid%22%3A1%2C%22path%22%3A%22%2FUsers%2Fteslim%2F.vscode%2Fextensions%2Fms-python.vscode-pylance-2024.5.1%2Fdist%2Ftypeshed-fallback%2Fstdlib%2Ftime.pyi%22%2C%22scheme%22%3A%22file%22%7D%2C%7B%22line%22%3A0%2C%22character%22%3A0%7D%5D \"../../../../.vscode/extensions/ms-python.vscode-pylance-2024.5.1/dist/typeshed-fallback/stdlib/time.pyi\") module and the [`reload`](command:_github.copilot.openSymbolFromReferences?%5B%7B%22%24mid%22%3A1%2C%22path%22%3A%22%2FUsers%2Fteslim%2Fanaconda3%2Fenvs%2Fteslim_env%2Flib%2Fpython3.11%2Fimportlib%2F__init__.py%22%2C%22scheme%22%3A%22file%22%7D%2C%7B%22line%22%3A131%2C%22character%22%3A4%7D%5D \"../../../../anaconda3/envs/teslim_env/lib/python3.11/importlib/__init__.py\") function from the [`importlib`](command:_github.copilot.openSymbolFromReferences?%5B%7B%22%24mid%22%3A1%2C%22path%22%3A%22%2FUsers%2Fteslim%2Fanaconda3%2Fenvs%2Fteslim_env%2Flib%2Fpython3.11%2Fimportlib%2F__init__.py%22%2C%22scheme%22%3A%22file%22%7D%2C%7B%22line%22%3A0%2C%22character%22%3A0%7D%5D \"../../../../anaconda3/envs/teslim_env/lib/python3.11/importlib/__init__.py\") module are imported. The [`time`](command:_github.copilot.openSymbolFromReferences?%5B%7B%22%24mid%22%3A1%2C%22path%22%3A%22%2FUsers%2Fteslim%2F.vscode%2Fextensions%2Fms-python.vscode-pylance-2024.5.1%2Fdist%2Ftypeshed-fallback%2Fstdlib%2Ftime.pyi%22%2C%22scheme%22%3A%22file%22%7D%2C%7B%22line%22%3A0%2C%22character%22%3A0%7D%5D \"../../../../.vscode/extensions/ms-python.vscode-pylance-2024.5.1/dist/typeshed-fallback/stdlib/time.pyi\") module provides various time-related functions, while [`reload`](command:_github.copilot.openSymbolFromReferences?%5B%7B%22%24mid%22%3A1%2C%22path%22%3A%22%2FUsers%2Fteslim%2Fanaconda3%2Fenvs%2Fteslim_env%2Flib%2Fpython3.11%2Fimportlib%2F__init__.py%22%2C%22scheme%22%3A%22file%22%7D%2C%7B%22line%22%3A131%2C%22character%22%3A4%7D%5D \"../../../../anaconda3/envs/teslim_env/lib/python3.11/importlib/__init__.py\") is a function that reloads a previously imported module.\n",
    "\n",
    "Next, the [`math`](command:_github.copilot.openSymbolFromReferences?%5B%7B%22%24mid%22%3A1%2C%22path%22%3A%22%2FUsers%2Fteslim%2Fanaconda3%2Fenvs%2Fteslim_env%2Flib%2Fpython3.11%2Fsite-packages%2Fnumpy%2Flib%2F__init__.py%22%2C%22scheme%22%3A%22file%22%7D%2C%7B%22line%22%3A0%2C%22character%22%3A0%7D%5D \"../../../../anaconda3/envs/teslim_env/lib/python3.11/site-packages/numpy/lib/__init__.py\") module is imported and used:\n",
    "\n"
   ]
  },
  {
   "cell_type": "code",
   "execution_count": null,
   "metadata": {},
   "outputs": [],
   "source": [
    "import math\n",
    "print(math.sqrt(16))\n",
    "time.sleep(2)"
   ]
  },
  {
   "cell_type": "markdown",
   "metadata": {},
   "source": [
    "\n",
    "\n",
    "The [`math`](command:_github.copilot.openSymbolFromReferences?%5B%7B%22%24mid%22%3A1%2C%22path%22%3A%22%2FUsers%2Fteslim%2Fanaconda3%2Fenvs%2Fteslim_env%2Flib%2Fpython3.11%2Fsite-packages%2Fnumpy%2Flib%2F__init__.py%22%2C%22scheme%22%3A%22file%22%7D%2C%7B%22line%22%3A0%2C%22character%22%3A0%7D%5D \"../../../../anaconda3/envs/teslim_env/lib/python3.11/site-packages/numpy/lib/__init__.py\") module provides mathematical functions. In this case, [`math.sqrt(16)`](command:_github.copilot.openSymbolFromReferences?%5B%7B%22%24mid%22%3A1%2C%22path%22%3A%22%2FUsers%2Fteslim%2Fanaconda3%2Fenvs%2Fteslim_env%2Flib%2Fpython3.11%2Fsite-packages%2Fnumpy%2Flib%2F__init__.py%22%2C%22scheme%22%3A%22file%22%7D%2C%7B%22line%22%3A0%2C%22character%22%3A0%7D%5D \"../../../../anaconda3/envs/teslim_env/lib/python3.11/site-packages/numpy/lib/__init__.py\") is used to calculate the square root of 16. The [`time.sleep(2)`](command:_github.copilot.openSymbolFromReferences?%5B%7B%22%24mid%22%3A1%2C%22path%22%3A%22%2FUsers%2Fteslim%2F.vscode%2Fextensions%2Fms-python.vscode-pylance-2024.5.1%2Fdist%2Ftypeshed-fallback%2Fstdlib%2Ftime.pyi%22%2C%22scheme%22%3A%22file%22%7D%2C%7B%22line%22%3A0%2C%22character%22%3A0%7D%5D \"../../../../.vscode/extensions/ms-python.vscode-pylance-2024.5.1/dist/typeshed-fallback/stdlib/time.pyi\") function is used to pause execution for 2 seconds.\n",
    "\n",
    "The [`math`](command:_github.copilot.openSymbolFromReferences?%5B%7B%22%24mid%22%3A1%2C%22path%22%3A%22%2FUsers%2Fteslim%2Fanaconda3%2Fenvs%2Fteslim_env%2Flib%2Fpython3.11%2Fsite-packages%2Fnumpy%2Flib%2F__init__.py%22%2C%22scheme%22%3A%22file%22%7D%2C%7B%22line%22%3A0%2C%22character%22%3A0%7D%5D \"../../../../anaconda3/envs/teslim_env/lib/python3.11/site-packages/numpy/lib/__init__.py\") module is then reloaded and used again:\n",
    "\n"
   ]
  },
  {
   "cell_type": "code",
   "execution_count": null,
   "metadata": {},
   "outputs": [],
   "source": [
    "reload(math)\n",
    "print(math.sqrt(16))\n",
    "time.sleep(2)"
   ]
  },
  {
   "cell_type": "markdown",
   "metadata": {},
   "source": [
    "\n",
    "\n",
    "The [`reload()`](command:_github.copilot.openSymbolFromReferences?%5B%7B%22%24mid%22%3A1%2C%22path%22%3A%22%2FUsers%2Fteslim%2Fanaconda3%2Fenvs%2Fteslim_env%2Flib%2Fpython3.11%2Fimportlib%2F__init__.py%22%2C%22scheme%22%3A%22file%22%7D%2C%7B%22line%22%3A131%2C%22character%22%3A4%7D%5D \"../../../../anaconda3/envs/teslim_env/lib/python3.11/importlib/__init__.py\") function is used to reload the [`math`](command:_github.copilot.openSymbolFromReferences?%5B%7B%22%24mid%22%3A1%2C%22path%22%3A%22%2FUsers%2Fteslim%2Fanaconda3%2Fenvs%2Fteslim_env%2Flib%2Fpython3.11%2Fsite-packages%2Fnumpy%2Flib%2F__init__.py%22%2C%22scheme%22%3A%22file%22%7D%2C%7B%22line%22%3A0%2C%22character%22%3A0%7D%5D \"../../../../anaconda3/envs/teslim_env/lib/python3.11/site-packages/numpy/lib/__init__.py\") module. This is useful if you've made changes to a module and want to test those changes without stopping your Python session. After reloading the module, the square root of 16 is calculated again and the execution is paused for 2 seconds.\n",
    "\n",
    "The process is repeated one more time:\n",
    "\n"
   ]
  },
  {
   "cell_type": "code",
   "execution_count": null,
   "metadata": {},
   "outputs": [],
   "source": [
    "reload(math)\n",
    "print(math.sqrt(16))"
   ]
  },
  {
   "cell_type": "markdown",
   "metadata": {},
   "source": [
    "\n",
    "\n",
    "Again, the [`math`](command:_github.copilot.openSymbolFromReferences?%5B%7B%22%24mid%22%3A1%2C%22path%22%3A%22%2FUsers%2Fteslim%2Fanaconda3%2Fenvs%2Fteslim_env%2Flib%2Fpython3.11%2Fsite-packages%2Fnumpy%2Flib%2F__init__.py%22%2C%22scheme%22%3A%22file%22%7D%2C%7B%22line%22%3A0%2C%22character%22%3A0%7D%5D \"../../../../anaconda3/envs/teslim_env/lib/python3.11/site-packages/numpy/lib/__init__.py\") module is reloaded, the square root of 16 is calculated, and the execution is paused for 2 seconds. This demonstrates that you can reload a module as many times as you want in a Python session."
   ]
  },
  {
   "cell_type": "code",
   "execution_count": 6,
   "metadata": {},
   "outputs": [
    {
     "ename": "ModuleNotFoundError",
     "evalue": "No module named 'test_module'",
     "output_type": "error",
     "traceback": [
      "\u001b[0;31m---------------------------------------------------------------------------\u001b[0m",
      "\u001b[0;31mModuleNotFoundError\u001b[0m                       Traceback (most recent call last)",
      "Cell \u001b[0;32mIn[6], line 6\u001b[0m\n\u001b[1;32m      3\u001b[0m     \u001b[38;5;28mprint\u001b[39m(\u001b[38;5;124m\"\u001b[39m\u001b[38;5;124mOriginal function output\u001b[39m\u001b[38;5;124m\"\u001b[39m)\n\u001b[1;32m      5\u001b[0m \u001b[38;5;66;03m# Initial import (optional)\u001b[39;00m\n\u001b[0;32m----> 6\u001b[0m \u001b[38;5;28;01mimport\u001b[39;00m \u001b[38;5;21;01mtest_module\u001b[39;00m\n\u001b[1;32m      7\u001b[0m \u001b[38;5;28mprint\u001b[39m(test_module\u001b[38;5;241m.\u001b[39msome_function())  \u001b[38;5;66;03m# Output: Original function output\u001b[39;00m\n\u001b[1;32m      9\u001b[0m \u001b[38;5;66;03m# Modify test_module.py (outside the program)\u001b[39;00m\n\u001b[1;32m     10\u001b[0m \u001b[38;5;66;03m# For example, change the function to print a different message\u001b[39;00m\n\u001b[1;32m     11\u001b[0m \n\u001b[1;32m     12\u001b[0m \u001b[38;5;66;03m# Reload the module\u001b[39;00m\n",
      "\u001b[0;31mModuleNotFoundError\u001b[0m: No module named 'test_module'"
     ]
    }
   ],
   "source": [
    "# test_module.py\n",
    "def some_function():\n",
    "    print(\"Original function output\")\n",
    "\n",
    "# Initial import (optional)\n",
    "import test_module\n",
    "print(test_module.some_function())  # Output: Original function output\n",
    "\n",
    "# Modify test_module.py (outside the program)\n",
    "# For example, change the function to print a different message\n",
    "\n",
    "# Reload the module\n",
    "import importlib\n",
    "importlib.reload(test_module)\n",
    "\n",
    "# Use the updated version\n",
    "# print(test_module.some_function())  # Output: The modified output from the updated code\n"
   ]
  },
  {
   "cell_type": "markdown",
   "metadata": {},
   "source": [
    "#### The `dir()` function\n",
    "___"
   ]
  },
  {
   "cell_type": "markdown",
   "metadata": {},
   "source": [
    "In Python, `dir( )` is a built-in function. This function is used to list all members of the current module. When we use this function with any object (an object can be sequence like list, tuple, set, dict or can be class, function, module, etc. ), it returns properties, attributes, and method.\n",
    "\n",
    "1. For Class Objects, it returns a list of names of all the valid attributes and base attributes.\n",
    "\n",
    "1. For Modules, it returns a sorted list of strings containing the names defined by the module.\n",
    "\n",
    "1. For Objects, it returns a list of valid attributes for that object.\n",
    "\n",
    "1. For Sequence, it returns a list of valid attributes for that sequence.\n",
    "\n",
    "1. For Dictionary, it returns a list of valid attributes for that dictionary.\n",
    "\n",
    "1. For Strings, it returns a list of valid attributes for that string.\n",
    "\n",
    "1. For Sets, it returns a list of valid attributes for that set.\n",
    "\n",
    "The `dir()` function is used to display the list of all the attributes, methods, and properties of the specified object. If no object is specified, it returns the list of names in the current local scope.\n",
    "\n",
    "The syntax of the `dir()` function is as follows:\n",
    "\n",
    "```python\n",
    "dir([object])\n",
    "```"
   ]
  },
  {
   "cell_type": "code",
   "execution_count": 3,
   "metadata": {},
   "outputs": [
    {
     "data": {
      "text/plain": [
       "['__doc__',\n",
       " '__file__',\n",
       " '__loader__',\n",
       " '__name__',\n",
       " '__package__',\n",
       " '__spec__',\n",
       " 'acos',\n",
       " 'acosh',\n",
       " 'asin',\n",
       " 'asinh',\n",
       " 'atan',\n",
       " 'atan2',\n",
       " 'atanh',\n",
       " 'cbrt',\n",
       " 'ceil',\n",
       " 'comb',\n",
       " 'copysign',\n",
       " 'cos',\n",
       " 'cosh',\n",
       " 'degrees',\n",
       " 'dist',\n",
       " 'e',\n",
       " 'erf',\n",
       " 'erfc',\n",
       " 'exp',\n",
       " 'exp2',\n",
       " 'expm1',\n",
       " 'fabs',\n",
       " 'factorial',\n",
       " 'floor',\n",
       " 'fmod',\n",
       " 'frexp',\n",
       " 'fsum',\n",
       " 'gamma',\n",
       " 'gcd',\n",
       " 'hypot',\n",
       " 'inf',\n",
       " 'isclose',\n",
       " 'isfinite',\n",
       " 'isinf',\n",
       " 'isnan',\n",
       " 'isqrt',\n",
       " 'lcm',\n",
       " 'ldexp',\n",
       " 'lgamma',\n",
       " 'log',\n",
       " 'log10',\n",
       " 'log1p',\n",
       " 'log2',\n",
       " 'modf',\n",
       " 'nan',\n",
       " 'nextafter',\n",
       " 'perm',\n",
       " 'pi',\n",
       " 'pow',\n",
       " 'prod',\n",
       " 'radians',\n",
       " 'remainder',\n",
       " 'sin',\n",
       " 'sinh',\n",
       " 'sqrt',\n",
       " 'tan',\n",
       " 'tanh',\n",
       " 'tau',\n",
       " 'trunc',\n",
       " 'ulp']"
      ]
     },
     "execution_count": 3,
     "metadata": {},
     "output_type": "execute_result"
    }
   ],
   "source": [
    "# Findind the attributes of module `math`:\n",
    "import math\n",
    "\n",
    "# List all the attributes of math module\n",
    "dir(math)"
   ]
  },
  {
   "cell_type": "markdown",
   "metadata": {},
   "source": [
    "Return value from dir()\n",
    "\n",
    "1. When we use dir() with an object, it returns the list of the object’s attributes.\n",
    "\n",
    "1. When we use the `__dir__()` The object’s method, if that object has this method, it returns all attributes of that object. And if that object does not has `__dir__()` method, it returns all information about that object.\n",
    "\n",
    "1. If we do not pass an object to dir() it returns a list of currently available functions, methods, properties, attributes, names in the local scope."
   ]
  },
  {
   "cell_type": "markdown",
   "metadata": {},
   "source": [
    "### Python PACKAGES\n",
    "___"
   ]
  },
  {
   "cell_type": "markdown",
   "metadata": {},
   "source": [
    "Python Packages are collections of modules that provide a set of related functionalities, and these modules are organized in a directory hierarchy. In simple terms, packages in Python are a way of organizing related modules in a single namespace.\n",
    "\n",
    "* Packages in Python are installed using a package manager like pip (a tool for installing and managing Python packages).  \n",
    "\n",
    "* Each Python package must contain a file named `_init_.py. `This file can be empty, and it indicates that the directory is a Python package.\n",
    "\n",
    "This file contains the initialization code for the corresponding package. Some popular Python packages are: NumPy, Pandas, and Matplotlib.\n",
    "\n",
    "\n",
    "Key Difference Between Python Module and Python Package  \n",
    "\n",
    "1. The module is a single Python file that can be imported into another module. In contrast, a package is a collection of modules organized into a directory hierarchy.\n",
    "\n",
    "2. A package can have multiple sub-packages and modules, and each module and sub-package has its own namespace, whereas when modules are imported, their content is placed inside a namespace.\n",
    "\n",
    "3. The module is initialized when first imported into a program, whereas the package is initialized when one of its modules is imported.Both package and module remain in the memory until the program exits.\n",
    "\n",
    "4. A package is installed using the import keyword followed by the package name, and you can access the module and sub-packages within the package name using `dot` notation. In contrast, the module can be directly installed using the import keyword followed by the module name.\n",
    "\n",
    "A package is just a way of collecting related modules together within a single tree-like hierarchy. Very complex packages like NumPy or SciPy have hundreds of individual modules so putting them into a directory-like structure keeps things organized and avoids name collisions. For example here is a partial list of sub-packages available within SciPy\n",
    "\n",
    "\n",
    "\n",
    "`scipy.fftpack`\tDiscrete Fourier Transform algorithms  \n",
    "`scipy.integrate`\tIntegration routines    \n",
    "`scipy.stats`\tStatistical Functions  \n",
    "`scipy.lib`\tPython wrappers to external libraries  \n",
    "`scipy.lib.blas`\tWrappers to BLAS library  \n",
    "`scipy.lib.lapack`\tWrappers to LAPACK library  \n",
    "`scipy.integrate`\tIntegration routines  \n",
    "`scipy.linalg`\tLinear algebra routines  \n",
    "`scipy.ndimage`\tN-dimensional image processing  \n"
   ]
  },
  {
   "cell_type": "markdown",
   "metadata": {},
   "source": [
    "![alt text](../../../Teslim_python_cheat/Module_17.png)"
   ]
  },
  {
   "cell_type": "markdown",
   "metadata": {},
   "source": [
    "#### Structure of Python Packages\n",
    "___"
   ]
  },
  {
   "cell_type": "markdown",
   "metadata": {},
   "source": [
    "A package in Python is a special type of directory that can contain other packages and modules. What makes a directory a package is the presence of a file named `__init__.py.` This file can be empty or contain code that runs when the package is imported. If a directory doesn't have an `__init__.py` file, it's just a normal folder with Python scripts and not recognized as a package. Usually, it's a good idea to keep the `__init__.py` file empty.\n",
    "\n",
    "Here's an example of a simple package structure:\n"
   ]
  },
  {
   "cell_type": "markdown",
   "metadata": {},
   "source": [
    "![alt text](../../../Teslim_python_cheat/Models_18.png)"
   ]
  },
  {
   "cell_type": "markdown",
   "metadata": {},
   "source": [
    "Here, the root package is `Game`. It has sub packages \n",
    "1. Sound, \n",
    "2. Image, \n",
    "3. Level, \n",
    "5. `__init__.py`. \n",
    "\n",
    "Each of the sub-packages has a further modules. Example, Sound further has modules `load`, `play`, and `pause`, apart from file `__init__.py.`"
   ]
  },
  {
   "cell_type": "markdown",
   "metadata": {},
   "source": [
    "#### How to Import Modules from Packages in Python?\n",
    "___\n"
   ]
  },
  {
   "cell_type": "markdown",
   "metadata": {},
   "source": [
    "A Python package may contain several modules. To import one of these into your program, you must use the dot operator (`.`). The dot operator is used to access members of a module or a package. Here's how you can import modules from packages in Python:\n",
    "\n",
    "```python\n",
    "import package_name.module_name\n",
    "```\n",
    "\n",
    "Here, `package_name` is the name of the package, and `module_name` is the name of the module you want to import. You can access the module's functions, classes, and variables using the dot operator.\n",
    "\n",
    "In the above example, if you want to import the `load` module from subpackage `sound`, we type the following at the top of our Python file:\n",
    "\n",
    "```python\n",
    "import Game.Sound.load\n",
    "```\n",
    "\n",
    "Note that we don’t type the extension, because that isn’t what we refer to the module as. The subpackage `Level` has a module named `load` too, but there is no clash here. We can import both modules and use them in the same file.\n",
    "\n",
    "```python\n",
    "import Game.Level.load\n",
    "```\n",
    "\n",
    "If you want to import multiple modules from a package, you can use the following syntax:\n",
    "\n",
    "```python\n",
    "import package_name.module1, package_name.module2\n",
    "```\n",
    "\n",
    "If you want to import all modules from a package, you can use the following syntax:\n",
    "\n",
    "```python\n",
    "from package_name import *\n",
    "```\n",
    "\n",
    "This will import all modules from the package into your program. However, it's generally not recommended to use this syntax, as it can lead to naming conflicts and make your code harder to read.\n",
    "\n",
    "To escape having to type so much every time we needed to use the module, we could also import it under an alias:\n",
    "\n",
    "`import Game.Sound.load as loadgame`"
   ]
  },
  {
   "cell_type": "markdown",
   "metadata": {},
   "source": [
    "> **Note:** When you import a module from a package, you must use the full path to the module, starting from the package name. This ensures that Python can locate the module correctly.\n",
    "\n",
    "When working in the Python interpreter, you can assign a function to a variable like this:\n",
    "\n",
    "\n",
    "`load = Game.Sound.load`\n",
    "\n",
    "This works well.\n",
    "\n",
    "Alternatively, you can import the function directly:\n",
    "\n",
    "`from Game.Sound import load`\n",
    "\n",
    "This way, you can call the function by using the variable name:\n",
    "\n",
    "`load()`    \n",
    "\n",
    "If the `Sound` subpackage has a function called `volume_up()`, you can call it like this:\n",
    "\n",
    "`Game.Sound.volume_up()`\n",
    "\n",
    "If you import `volume_up()` directly:\n",
    "\n",
    "`from Game.Sound.load import volume_up as volup`\n",
    "\n",
    "You can call it like this:\n",
    "\n",
    "`volup()`\n",
    "\n",
    "However, this is not recommended because it can cause conflicts with other names in your code.\n",
    "\n",
    "\n"
   ]
  },
  {
   "cell_type": "code",
   "execution_count": 5,
   "metadata": {},
   "outputs": [
    {
     "name": "stdout",
     "output_type": "stream",
     "text": [
      "Files and directories in the current directory: ['Teslim_Import_module.py', 'Modules_Packages.ipynb']\n"
     ]
    }
   ],
   "source": [
    "import os\n",
    "\n",
    "# List all files and directories in the current directory\n",
    "files = os.listdir('.')\n",
    "print(\"Files and directories in the current directory:\", files)\n",
    "\n",
    "\n"
   ]
  },
  {
   "cell_type": "markdown",
   "metadata": {},
   "source": [
    "### Python OS Module\n",
    "___"
   ]
  },
  {
   "cell_type": "markdown",
   "metadata": {},
   "source": [
    "The Python `os` module provides a way of using operating system-dependent functionality like reading or writing to the file system. It is part of the standard library, so you don't need to install it separately. Below is a list of functions available in the os module along with a brief explanation of each:\n",
    "\n",
    "**Python-OS-Module Functions**\n",
    "\n",
    "1. Handling the Current Working Directory\n",
    "1. Creating a Directory\n",
    "1. Listing out Files and Directories with Python\n",
    "1. Deleting Directory or Files using Python\n",
    "\n",
    "**1. Handling the Current Working Directory**\n",
    "___\n",
    "\n",
    "The `os.getcwd()` function returns the current working directory of a process. The current working directory is the directory from which the Python script is running. Here's an example:\n",
    "\n",
    "```python\n",
    "import os\n",
    "\n",
    "# Get the current working directory \n",
    "current_directory = os.getcwd()\n",
    "print(\"Current working directory:\", current_directory)\n",
    "```\n",
    "\n",
    "**2. Creating a Directory**\n",
    "___\n",
    "\n",
    "The `os.mkdir()` function is used to create a new directory. You can specify the name of the directory you want to create as an argument to the function. Here's an example:\n",
    "\n",
    "```python\n",
    "import os\n",
    "\n",
    "# Create a new directory\n",
    "os.mkdir(\"new_directory\")\n",
    "```\n",
    "\n",
    "**3. Listing out Files and Directories with Python**\n",
    "___\n",
    "\n",
    "The `os.listdir()` function returns a list of all files and directories in a specified directory. You can pass the path of the directory you want to list as an argument to the function. Here's an example:\n",
    "\n",
    "```python\n",
    "import os\n",
    "\n",
    "# List all files and directories in the current directory\n",
    "files = os.listdir(\".\")\n",
    "print(\"Files and directories in the current directory:\", files)\n",
    "```\n",
    "\n",
    "**4. Deleting Directory or Files using Python**\n",
    "___\n",
    "\n",
    "The `os.rmdir()` function is used to remove a directory. You can specify the name of the directory you want to remove as an argument to the function. Here's an example:\n",
    "\n",
    "```python\n",
    "import os\n",
    "\n",
    "# Remove a directory\n",
    "os.rmdir(\"new_directory\")\n",
    "```\n",
    "\n",
    "The `os.remove()` function is used to remove a file. You can specify the name of the file you want to remove as an argument to the function. Here's an example:\n",
    "\n",
    "```python\n",
    "import os\n",
    "\n",
    "# Remove a file\n",
    "os.remove(\"file.txt\")\n",
    "```\n",
    "\n"
   ]
  },
  {
   "cell_type": "markdown",
   "metadata": {},
   "source": [
    "For more information and reading, you can check the official Python documentation for the os module: https://docs.python.org/3/library/os.html\n",
    "\n",
    "Other useful webiste for Python modules and packages are:\n",
    "\n",
    "1. https://www.w3schools.com/python/python_modules.asp\n",
    "\n",
    "1. https://www.programiz.com/python-programming/modules\n",
    "\n",
    "1. https://www.geeksforgeeks.org/python-modules/\n",
    "\n",
    "1. https://realpython.com/python-modules-packages/\n",
    "\n",
    "1. https://www.learnpython.org/en/Modules_and_Packages"
   ]
  },
  {
   "cell_type": "markdown",
   "metadata": {},
   "source": [
    "### Python pprint Module \n",
    "___"
   ]
  },
  {
   "cell_type": "markdown",
   "metadata": {},
   "source": [
    "The pprint module in Python provides a way to pretty-print data structures in a more readable and formatted way. It is particularly useful when dealing with nested or complex data structures like lists, dictionaries, or objects.\n",
    "\n",
    "**Key Features of pprint**\n",
    "\n",
    "1. Readable Output: pprint formats the output in a more human-readable way, with proper indentation and line breaks, making it easier to understand and debug complex data structures.\n",
    "\n",
    "1. Handling Nested Structures: It can handle deeply nested data structures, such as nested lists or dictionaries, by controlling the depth and width of the output.\n",
    "\n",
    "1. Customizable Formatting: pprint allows you to customize the formatting of the output, such as the indentation level, maximum line width, and sorting of dictionary keys.\n",
    "\n",
    "**Common Use Cases**\n",
    "1. Debugging: pprint is commonly used for debugging purposes, as it provides a more readable representation of data structures, making it easier to identify issues or understand the structure of the data.\n",
    "\n",
    "1. Data Visualization: It is useful for visualizing complex data structures, such as JSON or XML data, in a more structured and organized way.\n",
    "\n",
    "1. Testing: pprint can be used to compare the output of functions or data structures, making it easier to identify differences or inconsistencies.\n",
    "\n",
    "**How to Use pprint**\n",
    "\n",
    "The pprint module is part of the Python standard library, so you don't need to install it separately. To use pprint in your Python code, you need to import it using the following statement:\n",
    "\n",
    "```python\n",
    "import pprint\n",
    "```\n"
   ]
  },
  {
   "cell_type": "markdown",
   "metadata": {},
   "source": [
    "The `pprint` module in Python provides two main functions to pretty-print data structures: \n",
    "\n",
    "1. `pprint()` \n",
    "2. `pformat()`"
   ]
  },
  {
   "cell_type": "markdown",
   "metadata": {},
   "source": [
    "* `pprint()` Syntax\n",
    "\n",
    "```python\n",
    "pprint.pprint(object, stream = None, indent = 1, width = 80, depth = None, compact = False, sort_dicts = True, underscore_numbers = False)\n",
    "```\n",
    "\n",
    "1. object: The Python object to pretty-print.\n",
    "1. stream: An optional output stream where the output will be written. By default, it is set to sys.stdout.\n",
    "1. indent: The number of spaces to indent for each level of nesting. Default is 1.\n",
    "1. width: The maximum number of characters per line. Default is 80.\n",
    "1. depth: The maximum depth to print nested objects. Default is None (no limit).\n",
    "1. compact: If True, compact mode is enabled, which omits line breaks between most items. Default is False.\n",
    "1. sort_dicts: If True, dictionaries are sorted by key. Default is True.\n",
    "1. underscore_numbers: If True, numbers are formatted with underscores for readability. Default is False.\n",
    "\n",
    "* `pformat()` Syntax\n",
    "\n",
    "```python\n",
    "pprint.pformat(object, indent = 1, width = 80, depth = None, compact = False, sort_dicts = True, underscore_numbers = False)\n",
    "```\n",
    "\n",
    "1. object: The Python object to pretty-print.\n",
    "1. indent: The number of spaces to indent for each level of nesting. Default is 1.\n",
    "1. width: The maximum number of characters per line. Default is 80.\n",
    "1. depth: The maximum depth to print nested objects. Default is None (no limit).\n",
    "1. compact: If True, compact mode is enabled, which omits line breaks between most items. Default is False.\n",
    "1. sort_dicts: If True, dictionaries are sorted by key. Default is True.\n",
    "1. underscore_numbers: If True, numbers are formatted with underscores for readability. Default is False.\n"
   ]
  },
  {
   "cell_type": "markdown",
   "metadata": {},
   "source": [
    "Now, let’s try an example without pprint. Let’s take a list to work with:"
   ]
  },
  {
   "cell_type": "code",
   "execution_count": 9,
   "metadata": {},
   "outputs": [
    {
     "name": "stdout",
     "output_type": "stream",
     "text": [
      "[(1, {'a': 'A', 'b': 'B', 'c': 'C', 'd': 'D'}), (2, {'e': 'E', 'f': 'F', 'g': 'G', 'h': 'H', 'i': 'I', 'j': 'J', 'k': 'K', 'l': 'L'}), (3, ['m', 'n']), (4, ['o', 'p', 'q', 'r', 's', 't', 'u', 'v', 'w']), (5, ['x', 'y', 'z'])]\n"
     ]
    }
   ],
   "source": [
    "data =[(1,{'a':'A','b':'B','c':'C','d':'D'}),(2,{'e':'E','f':'F','g':'G','h':'H','i':'I','j':'J','k':'K','l':'L'}),(3,['m','n']),(4,['o','p','q','r','s','t','u','v','w']),(5,['x','y','z']),]\n",
    "\n",
    "# print the data\n",
    "print(data)"
   ]
  },
  {
   "cell_type": "markdown",
   "metadata": {},
   "source": [
    "Using the `pprint` module, we can print the list in a more readable format:"
   ]
  },
  {
   "cell_type": "code",
   "execution_count": 10,
   "metadata": {},
   "outputs": [
    {
     "name": "stdout",
     "output_type": "stream",
     "text": [
      "[(1, {'a': 'A', 'b': 'B', 'c': 'C', 'd': 'D'}),\n",
      " (2,\n",
      "  {'e': 'E',\n",
      "   'f': 'F',\n",
      "   'g': 'G',\n",
      "   'h': 'H',\n",
      "   'i': 'I',\n",
      "   'j': 'J',\n",
      "   'k': 'K',\n",
      "   'l': 'L'}),\n",
      " (3, ['m', 'n']),\n",
      " (4, ['o', 'p', 'q', 'r', 's', 't', 'u', 'v', 'w']),\n",
      " (5, ['x', 'y', 'z'])]\n"
     ]
    }
   ],
   "source": [
    "import pprint\n",
    "\n",
    "# use pprint to print the data\n",
    "pprint.pprint(data)"
   ]
  },
  {
   "cell_type": "code",
   "execution_count": 12,
   "metadata": {},
   "outputs": [
    {
     "name": "stdout",
     "output_type": "stream",
     "text": [
      "{'age': 30, 'hobbies': ['reading', 'gardening', 'coding'], 'name': 'Alice'}\n"
     ]
    }
   ],
   "source": [
    "import pprint\n",
    "\n",
    "# Sample data\n",
    "data = {'name': 'Alice', 'age': 30, 'hobbies': ['reading', 'gardening', 'coding']}\n",
    "\n",
    "# Pretty-print to console (default behavior)\n",
    "pprint.pprint(data)"
   ]
  },
  {
   "cell_type": "code",
   "execution_count": 20,
   "metadata": {},
   "outputs": [
    {
     "name": "stdout",
     "output_type": "stream",
     "text": [
      "{'age': 30, 'hobbies': ['reading', 'gardening', 'coding'], 'name': 'Alice'}\n"
     ]
    }
   ],
   "source": [
    "import pprint\n",
    "\n",
    "data2 = {'name': 'Alice', 'age': 30, 'hobbies': ['reading', 'gardening', 'coding']}\n",
    "\n",
    "# Pretty-print with custom parameters\n",
    "pprint.pprint(data2, indent=6, width=80, depth=2, compact=True)\n"
   ]
  }
 ],
 "metadata": {
  "kernelspec": {
   "display_name": "data-science-env",
   "language": "python",
   "name": "python3"
  },
  "language_info": {
   "codemirror_mode": {
    "name": "ipython",
    "version": 3
   },
   "file_extension": ".py",
   "mimetype": "text/x-python",
   "name": "python",
   "nbconvert_exporter": "python",
   "pygments_lexer": "ipython3",
   "version": "3.12.6"
  }
 },
 "nbformat": 4,
 "nbformat_minor": 2
}
