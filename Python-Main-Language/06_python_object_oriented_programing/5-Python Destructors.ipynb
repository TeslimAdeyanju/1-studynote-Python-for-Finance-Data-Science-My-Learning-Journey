{
 "cells": [
  {
   "cell_type": "markdown",
   "metadata": {},
   "source": [
    "# DESTRUCTOR in Python"
   ]
  },
  {
   "cell_type": "markdown",
   "metadata": {},
   "source": [
    "#### Introduction\n",
    "___"
   ]
  },
  {
   "cell_type": "markdown",
   "metadata": {},
   "source": [
    "In Python, a destructor is a special method that is called when an object is destroyed. The destructor is called when the object is deleted or garbage collected. If a base class has a destructor, the derived class's destructor, if any, must be called explicitly.\n",
    "\n",
    "In object-oriented programming, A destructor is called when an object is deleted or destroyed. Destructor is used to perform the clean-up activity before destroying the object, such as closing database connections or filehandle.\n",
    "\n",
    "Python has a garbage collector that handles memory management automatically. For example, it cleans up the memory when an object goes out of scope.\n",
    "\n",
    "But it’s not just memory that has to be freed when an object is destroyed. We must release or close the other resources object were using, such as open files, database connections, cleaning up the buffer or cache. To perform all those cleanup tasks we use destructor in Python.\n",
    "\n",
    "The destructor is the reverse of the constructor. The constructor is used to initialize objects, while the destructor is used to delete or destroy the object that releases the resource occupied by the object.\n",
    "\n",
    "In Python, destructor is not called manually but completely automatic. destructor gets called in the following two cases\n",
    "\n",
    "1. When an object goes out of scope or\n",
    "2. The reference counter of the object reaches 0.\n",
    "\n",
    "In Python, The special method `__del__()` is used to define a destructor. For example, when we execute `del object_name` destructor gets called automatically and the object gets garbage collected."
   ]
  },
  {
   "cell_type": "markdown",
   "metadata": {},
   "source": [
    "![alt text](../../../Teslim_python_cheat/Class_Object_11.png)"
   ]
  },
  {
   "cell_type": "markdown",
   "metadata": {},
   "source": [
    "#### Create Destructor using the `__del__()` Method\n",
    "___"
   ]
  },
  {
   "cell_type": "markdown",
   "metadata": {},
   "source": [
    "The magic method __del__() is used as the destructor in Python. The __del__() method will be implicitly invoked when all references to the object have been deleted, i.e., is when an object is eligible for the garbage collector.\n",
    "\n",
    "This method is automatically called by Python when the instance is about to be destroyed. It is also called a finalizer or (improperly) a destructor.\n",
    "\n",
    "Syntax of destructor declaration\n",
    "    \n",
    "```python\n",
    "    def __del__(self):\n",
    "        # destructor definition\n",
    "```\n",
    "\n",
    "Where,\n",
    "\n",
    "`def`: The keyword is used to define a method.\n",
    "\n",
    "`__del__()` Method: It is a reserved method. This method gets called as soon as all references to the object have been deleted\n",
    "\n",
    "`self`: The first argument self refers to the current object.\n",
    "Note: The __del__() method arguments are optional. We can define a destructor with any number of arguments.\n",
    "\n",
    "\n",
    "    "
   ]
  },
  {
   "cell_type": "code",
   "execution_count": 1,
   "metadata": {},
   "outputs": [
    {
     "name": "stdout",
     "output_type": "stream",
     "text": [
      "Object A is created\n",
      "Object A is destroyed\n",
      "Object B is created\n"
     ]
    }
   ],
   "source": [
    "class MyClass:\n",
    "    def __init__(self, name):\n",
    "        self.name = name\n",
    "        print(f\"Object {self.name} is created\")\n",
    "\n",
    "    def __del__(self):\n",
    "        print(f\"Object {self.name} is destroyed\")\n",
    "\n",
    "# Creating an instance of MyClass\n",
    "obj1 = MyClass(\"A\")\n",
    "\n",
    "# Output:\n",
    "# Object A is created\n",
    "\n",
    "# Deleting the object explicitly\n",
    "del obj1\n",
    "\n",
    "# Output:\n",
    "# Object A is destroyed\n",
    "\n",
    "# Creating another instance of MyClass\n",
    "obj2 = MyClass(\"B\")\n",
    "\n",
    "# Output:\n",
    "# Object B is created\n",
    "\n",
    "# When the script ends, obj2 will be garbage collected if not deleted explicitly\n"
   ]
  },
  {
   "cell_type": "code",
   "execution_count": 2,
   "metadata": {},
   "outputs": [
    {
     "name": "stdout",
     "output_type": "stream",
     "text": [
      "Inside Constructor\n",
      "Object initialized\n",
      "Hello, my name is Emma\n",
      "Inside destructor\n",
      "Object destroyed\n"
     ]
    }
   ],
   "source": [
    "class Student:\n",
    "\n",
    "    # constructor\n",
    "    def __init__(self, name):\n",
    "        print('Inside Constructor')\n",
    "        self.name = name\n",
    "        print('Object initialized')\n",
    "\n",
    "    def show(self):\n",
    "        print('Hello, my name is', self.name)\n",
    "\n",
    "    # destructor\n",
    "    def __del__(self):\n",
    "        print('Inside destructor')\n",
    "        print('Object destroyed')\n",
    "\n",
    "# create object\n",
    "s1 = Student('Emma')\n",
    "s1.show()\n",
    "\n",
    "# delete object\n",
    "del s1\n"
   ]
  },
  {
   "cell_type": "markdown",
   "metadata": {},
   "source": [
    "Note:\n",
    "\n",
    "As you can see in the output, the __del__() method get called automatically is called when we deleted the object reference using del s1.\n",
    "\n",
    "In the above code, we created one object. The s1 is the reference variable that is pointing to the newly created object.\n",
    "\n",
    "The destructor has called when the reference to the object is deleted or the reference count for the object becomes zero"
   ]
  },
  {
   "cell_type": "markdown",
   "metadata": {},
   "source": [
    "#### Important Points to Remember about Destructor\n",
    "___"
   ]
  },
  {
   "cell_type": "markdown",
   "metadata": {},
   "source": [
    "* The __del__ method is called for any object when the reference count for that object becomes zero.\n",
    "\n",
    "* The reference count for that object becomes zero when the application ends, or we delete all references manually using the del keyword.\n",
    "\n",
    "* The destructor will not invoke when we delete object reference. It will only invoke when all references to the objects get deleted."
   ]
  },
  {
   "cell_type": "markdown",
   "metadata": {},
   "source": [
    "![alt text](../../../Teslim_python_cheat/Class_object_12.png)"
   ]
  },
  {
   "cell_type": "markdown",
   "metadata": {},
   "source": [
    "Example:\n",
    "\n",
    "Let’s understand the above points using the example.\n",
    "\n",
    "First create object of a student class using s1 = student('Emma')\n",
    "\n",
    "Next, create a new object reference s2 by assigning s1 to s2 using s2=s1\n",
    "\n",
    "Now, both reference variables s1 and s2 point to the same object.\n",
    "\n",
    "Next, we deleted reference s1\n",
    "\n",
    "Next, we have added 5 seconds of sleep to the main thread to understand that destructors only invoke when all references to the objects get deleted.\n"
   ]
  },
  {
   "cell_type": "code",
   "execution_count": 3,
   "metadata": {},
   "outputs": [
    {
     "name": "stdout",
     "output_type": "stream",
     "text": [
      "Inside Constructor\n",
      "Hello, my name is Emma\n",
      "After sleep\n",
      "Hello, my name is Emma\n"
     ]
    }
   ],
   "source": [
    "import time\n",
    "\n",
    "class Student:\n",
    "\n",
    "    # constructor\n",
    "    def __init__(self, name):\n",
    "        print('Inside Constructor')\n",
    "        self.name = name\n",
    "\n",
    "    def show(self):\n",
    "        print('Hello, my name is', self.name)\n",
    "\n",
    "    # destructor\n",
    "    def __del__(self):\n",
    "        print('Object destroyed')\n",
    "\n",
    "# create object\n",
    "s1 = Student('Emma')\n",
    "# create new reference\n",
    "# both reference points to the same object\n",
    "s2 = s1\n",
    "s1.show()\n",
    "\n",
    "# delete object reference s1\n",
    "del s1\n",
    "\n",
    "# add sleep and observe the output\n",
    "time.sleep(5)\n",
    "print('After sleep')\n",
    "s2.show()"
   ]
  },
  {
   "cell_type": "markdown",
   "metadata": {},
   "source": [
    "The line of code [`time.sleep(5)`](command:_github.copilot.openSymbolFromReferences?%5B%7B%22%24mid%22%3A1%2C%22path%22%3A%22%2FUsers%2Fteslim%2F.vscode%2Fextensions%2Fms-python.vscode-pylance-2024.5.1%2Fdist%2Ftypeshed-fallback%2Fstdlib%2Ftime.pyi%22%2C%22scheme%22%3A%22file%22%7D%2C%7B%22line%22%3A0%2C%22character%22%3A0%7D%5D \"../../../../.vscode/extensions/ms-python.vscode-pylance-2024.5.1/dist/typeshed-fallback/stdlib/time.pyi\") is a call to the [`sleep`](command:_github.copilot.openSymbolFromReferences?%5B%7B%22%24mid%22%3A1%2C%22path%22%3A%22%2FUsers%2Fteslim%2F.vscode%2Fextensions%2Fms-python.vscode-pylance-2024.5.1%2Fdist%2Ftypeshed-fallback%2Fstdlib%2Ftime.pyi%22%2C%22scheme%22%3A%22file%22%7D%2C%7B%22line%22%3A71%2C%22character%22%3A4%7D%5D \"../../../../.vscode/extensions/ms-python.vscode-pylance-2024.5.1/dist/typeshed-fallback/stdlib/time.pyi\") function from Python's built-in [`time`](command:_github.copilot.openSymbolFromReferences?%5B%7B%22%24mid%22%3A1%2C%22path%22%3A%22%2FUsers%2Fteslim%2F.vscode%2Fextensions%2Fms-python.vscode-pylance-2024.5.1%2Fdist%2Ftypeshed-fallback%2Fstdlib%2Ftime.pyi%22%2C%22scheme%22%3A%22file%22%7D%2C%7B%22line%22%3A0%2C%22character%22%3A0%7D%5D \"../../../../.vscode/extensions/ms-python.vscode-pylance-2024.5.1/dist/typeshed-fallback/stdlib/time.pyi\") module. This function causes your program to pause for the specified number of seconds. In this case, the program will pause for 5 seconds.\n",
    "\n",
    "The [`sleep`](command:_github.copilot.openSymbolFromReferences?%5B%7B%22%24mid%22%3A1%2C%22path%22%3A%22%2FUsers%2Fteslim%2F.vscode%2Fextensions%2Fms-python.vscode-pylance-2024.5.1%2Fdist%2Ftypeshed-fallback%2Fstdlib%2Ftime.pyi%22%2C%22scheme%22%3A%22file%22%7D%2C%7B%22line%22%3A71%2C%22character%22%3A4%7D%5D \"../../../../.vscode/extensions/ms-python.vscode-pylance-2024.5.1/dist/typeshed-fallback/stdlib/time.pyi\") function is often used to introduce a delay in the execution of a program. This can be useful in a variety of scenarios, such as preventing a program from consuming too much CPU time, or waiting for an external resource to become available.\n",
    "\n",
    "The argument to [`sleep`](command:_github.copilot.openSymbolFromReferences?%5B%7B%22%24mid%22%3A1%2C%22path%22%3A%22%2FUsers%2Fteslim%2F.vscode%2Fextensions%2Fms-python.vscode-pylance-2024.5.1%2Fdist%2Ftypeshed-fallback%2Fstdlib%2Ftime.pyi%22%2C%22scheme%22%3A%22file%22%7D%2C%7B%22line%22%3A71%2C%22character%22%3A4%7D%5D \"../../../../.vscode/extensions/ms-python.vscode-pylance-2024.5.1/dist/typeshed-fallback/stdlib/time.pyi\") is a floating point number that specifies the number of seconds to pause. This means you can pause for less than a second by providing a number less than 1. For example, [`time.sleep(0.5)`](command:_github.copilot.openSymbolFromReferences?%5B%7B%22%24mid%22%3A1%2C%22path%22%3A%22%2FUsers%2Fteslim%2F.vscode%2Fextensions%2Fms-python.vscode-pylance-2024.5.1%2Fdist%2Ftypeshed-fallback%2Fstdlib%2Ftime.pyi%22%2C%22scheme%22%3A%22file%22%7D%2C%7B%22line%22%3A0%2C%22character%22%3A0%7D%5D \"../../../../.vscode/extensions/ms-python.vscode-pylance-2024.5.1/dist/typeshed-fallback/stdlib/time.pyi\") would pause the program for half a second.\n",
    "\n",
    "It's important to note that [`time.sleep`](command:_github.copilot.openSymbolFromReferences?%5B%7B%22%24mid%22%3A1%2C%22path%22%3A%22%2FUsers%2Fteslim%2F.vscode%2Fextensions%2Fms-python.vscode-pylance-2024.5.1%2Fdist%2Ftypeshed-fallback%2Fstdlib%2Ftime.pyi%22%2C%22scheme%22%3A%22file%22%7D%2C%7B%22line%22%3A0%2C%22character%22%3A0%7D%5D \"../../../../.vscode/extensions/ms-python.vscode-pylance-2024.5.1/dist/typeshed-fallback/stdlib/time.pyi\") does not guarantee that the program will resume exactly after the specified delay, as it depends on the underlying operating system's scheduling of processes. The delay will be at least the specified number of seconds, but it could be longer."
   ]
  },
  {
   "cell_type": "markdown",
   "metadata": {},
   "source": [
    "#### Cases when Destructor doesn’t work Correctly\n",
    "___"
   ]
  },
  {
   "cell_type": "markdown",
   "metadata": {},
   "source": [
    "The __del__ is not a perfect solution to clean up a Python object when it is no longer required. In Python, the destructor behave behaves weirdly and doesn’t execute in the following two cases.\n",
    "\n",
    "1. Circular referencing when two objects refer to each other\n",
    "2. Exception occured in `__init__()` method.\n",
    "\n"
   ]
  },
  {
   "cell_type": "markdown",
   "metadata": {},
   "source": [
    "**Case 1: Circular referencing when two objects refer to each other**  \n",
    "\n",
    "circual referencing is a situation when two objects refer to each other. In this case, the destructor will not be called. The garbage collector will not destroy the objects that are involved in a circular reference.\n",
    "When both objects go out of scope, Python doesn’t know which object to destroy first. So, to avoid any errors, it doesn’t destroy any of them.\n",
    "\n",
    "In short, it means that the garbage collector does not know the order in which the object should be destroyed, so it doesn’t delete them from memory.\n",
    "\n",
    "Ideally, the destructor must execute when an object goes out of scope, or its reference count reaches zero.\n",
    "\n",
    "But the objects involved in this circular reference will remain stored in the memory as long as the application will run.\n",
    "\n",
    "In the below example, ideally, both Vehicle and Car objects must be destroyed by the garbage collector after they go out of scope. Still, because of the circular reference, they remain in memory.\n",
    "\n"
   ]
  },
  {
   "cell_type": "code",
   "execution_count": 4,
   "metadata": {},
   "outputs": [
    {
     "name": "stdout",
     "output_type": "stream",
     "text": [
      "Vehicle 12 created\n",
      "Car 12 created\n"
     ]
    }
   ],
   "source": [
    "import time\n",
    "\n",
    "\n",
    "class Vehicle():\n",
    "    def __init__(self, id, car):\n",
    "        self.id = id;\n",
    "        # saving reference of Car object\n",
    "        self.dealer = car;\n",
    "        print('Vehicle', self.id, 'created');\n",
    "\n",
    "    def __del__(self):\n",
    "        print('Vehicle', self.id, 'destroyed');\n",
    "\n",
    "\n",
    "class Car():\n",
    "    def __init__(self, id):\n",
    "        self.id = id;\n",
    "        # saving Vehicle class object in 'dealer' variable\n",
    "        # Sending reference of Car object ('self') for Vehicle object\n",
    "        self.dealer = Vehicle(id, self);\n",
    "        print('Car', self.id, 'created')\n",
    "\n",
    "    def __del__(self):\n",
    "        print('Car', self.id, 'destroyed')\n",
    "\n",
    "\n",
    "# create car object\n",
    "c = Car(12)\n",
    "# delete car object\n",
    "del c\n",
    "# ideally destructor must execute now\n",
    "\n",
    "# to observe the behavior\n",
    "time.sleep(8)"
   ]
  },
  {
   "cell_type": "markdown",
   "metadata": {},
   "source": [
    "This Python script demonstrates the creation and destruction of objects, specifically for the classes [`Vehicle`](command:_github.copilot.openSymbolFromReferences?%5B%7B%22%24mid%22%3A1%2C%22fsPath%22%3A%22%2FUsers%2Fteslim%2FLibrary%2FCloudStorage%2FOneDrive-TeslimUthmanAdeyanju%2FTeSlim_Data_Scientist%2F03_Python%2FTeslim_python_study_note%2FTeslim_Python_Bootcamp%2F06-Object%20Oriented%20Programing%2F5-Python%20Destructors.ipynb%22%2C%22path%22%3A%22%2FUsers%2Fteslim%2FLibrary%2FCloudStorage%2FOneDrive-TeslimUthmanAdeyanju%2FTeSlim_Data_Scientist%2F03_Python%2FTeslim_python_study_note%2FTeslim_Python_Bootcamp%2F06-Object%20Oriented%20Programing%2F5-Python%20Destructors.ipynb%22%2C%22scheme%22%3A%22vscode-notebook-cell%22%2C%22fragment%22%3A%22X31sZmlsZQ%3D%3D%22%7D%2C%7B%22line%22%3A3%2C%22character%22%3A6%7D%5D \"/Users/teslim/Library/CloudStorage/OneDrive-TeslimUthmanAdeyanju/TeSlim_Data_Scientist/03_Python/Teslim_python_study_note/Teslim_Python_Bootcamp/06-Object Oriented Programing/5-Python Destructors.ipynb\") and [`Car`](command:_github.copilot.openSymbolFromReferences?%5B%7B%22%24mid%22%3A1%2C%22fsPath%22%3A%22%2FUsers%2Fteslim%2FLibrary%2FCloudStorage%2FOneDrive-TeslimUthmanAdeyanju%2FTeSlim_Data_Scientist%2F03_Python%2FTeslim_python_study_note%2FTeslim_Python_Bootcamp%2F06-Object%20Oriented%20Programing%2F5-Python%20Destructors.ipynb%22%2C%22path%22%3A%22%2FUsers%2Fteslim%2FLibrary%2FCloudStorage%2FOneDrive-TeslimUthmanAdeyanju%2FTeSlim_Data_Scientist%2F03_Python%2FTeslim_python_study_note%2FTeslim_Python_Bootcamp%2F06-Object%20Oriented%20Programing%2F5-Python%20Destructors.ipynb%22%2C%22scheme%22%3A%22vscode-notebook-cell%22%2C%22fragment%22%3A%22X31sZmlsZQ%3D%3D%22%7D%2C%7B%22line%22%3A14%2C%22character%22%3A6%7D%5D \"/Users/teslim/Library/CloudStorage/OneDrive-TeslimUthmanAdeyanju/TeSlim_Data_Scientist/03_Python/Teslim_python_study_note/Teslim_Python_Bootcamp/06-Object Oriented Programing/5-Python Destructors.ipynb\"). It also illustrates the concept of destructors in Python and how they behave.\n",
    "\n",
    "The [`Vehicle`](command:_github.copilot.openSymbolFromReferences?%5B%7B%22%24mid%22%3A1%2C%22fsPath%22%3A%22%2FUsers%2Fteslim%2FLibrary%2FCloudStorage%2FOneDrive-TeslimUthmanAdeyanju%2FTeSlim_Data_Scientist%2F03_Python%2FTeslim_python_study_note%2FTeslim_Python_Bootcamp%2F06-Object%20Oriented%20Programing%2F5-Python%20Destructors.ipynb%22%2C%22path%22%3A%22%2FUsers%2Fteslim%2FLibrary%2FCloudStorage%2FOneDrive-TeslimUthmanAdeyanju%2FTeSlim_Data_Scientist%2F03_Python%2FTeslim_python_study_note%2FTeslim_Python_Bootcamp%2F06-Object%20Oriented%20Programing%2F5-Python%20Destructors.ipynb%22%2C%22scheme%22%3A%22vscode-notebook-cell%22%2C%22fragment%22%3A%22X31sZmlsZQ%3D%3D%22%7D%2C%7B%22line%22%3A3%2C%22character%22%3A6%7D%5D \"/Users/teslim/Library/CloudStorage/OneDrive-TeslimUthmanAdeyanju/TeSlim_Data_Scientist/03_Python/Teslim_python_study_note/Teslim_Python_Bootcamp/06-Object Oriented Programing/5-Python Destructors.ipynb\") class has an [`__init__`](command:_github.copilot.openSymbolFromReferences?%5B%7B%22%24mid%22%3A1%2C%22fsPath%22%3A%22%2FUsers%2Fteslim%2FLibrary%2FCloudStorage%2FOneDrive-TeslimUthmanAdeyanju%2FTeSlim_Data_Scientist%2F03_Python%2FTeslim_python_study_note%2FTeslim_Python_Bootcamp%2F06-Object%20Oriented%20Programing%2F5-Python%20Destructors.ipynb%22%2C%22path%22%3A%22%2FUsers%2Fteslim%2FLibrary%2FCloudStorage%2FOneDrive-TeslimUthmanAdeyanju%2FTeSlim_Data_Scientist%2F03_Python%2FTeslim_python_study_note%2FTeslim_Python_Bootcamp%2F06-Object%20Oriented%20Programing%2F5-Python%20Destructors.ipynb%22%2C%22scheme%22%3A%22vscode-notebook-cell%22%2C%22fragment%22%3A%22X31sZmlsZQ%3D%3D%22%7D%2C%7B%22line%22%3A4%2C%22character%22%3A8%7D%5D \"/Users/teslim/Library/CloudStorage/OneDrive-TeslimUthmanAdeyanju/TeSlim_Data_Scientist/03_Python/Teslim_python_study_note/Teslim_Python_Bootcamp/06-Object Oriented Programing/5-Python Destructors.ipynb\") method (constructor) that takes two parameters: [`id`](command:_github.copilot.openSymbolFromReferences?%5B%7B%22%24mid%22%3A1%2C%22fsPath%22%3A%22%2FUsers%2Fteslim%2FLibrary%2FCloudStorage%2FOneDrive-TeslimUthmanAdeyanju%2FTeSlim_Data_Scientist%2F03_Python%2FTeslim_python_study_note%2FTeslim_Python_Bootcamp%2F06-Object%20Oriented%20Programing%2F5-Python%20Destructors.ipynb%22%2C%22path%22%3A%22%2FUsers%2Fteslim%2FLibrary%2FCloudStorage%2FOneDrive-TeslimUthmanAdeyanju%2FTeSlim_Data_Scientist%2F03_Python%2FTeslim_python_study_note%2FTeslim_Python_Bootcamp%2F06-Object%20Oriented%20Programing%2F5-Python%20Destructors.ipynb%22%2C%22scheme%22%3A%22vscode-notebook-cell%22%2C%22fragment%22%3A%22X31sZmlsZQ%3D%3D%22%7D%2C%7B%22line%22%3A4%2C%22character%22%3A23%7D%5D \"/Users/teslim/Library/CloudStorage/OneDrive-TeslimUthmanAdeyanju/TeSlim_Data_Scientist/03_Python/Teslim_python_study_note/Teslim_Python_Bootcamp/06-Object Oriented Programing/5-Python Destructors.ipynb\") and [`car`](command:_github.copilot.openSymbolFromReferences?%5B%7B%22%24mid%22%3A1%2C%22fsPath%22%3A%22%2FUsers%2Fteslim%2FLibrary%2FCloudStorage%2FOneDrive-TeslimUthmanAdeyanju%2FTeSlim_Data_Scientist%2F03_Python%2FTeslim_python_study_note%2FTeslim_Python_Bootcamp%2F06-Object%20Oriented%20Programing%2F5-Python%20Destructors.ipynb%22%2C%22path%22%3A%22%2FUsers%2Fteslim%2FLibrary%2FCloudStorage%2FOneDrive-TeslimUthmanAdeyanju%2FTeSlim_Data_Scientist%2F03_Python%2FTeslim_python_study_note%2FTeslim_Python_Bootcamp%2F06-Object%20Oriented%20Programing%2F5-Python%20Destructors.ipynb%22%2C%22scheme%22%3A%22vscode-notebook-cell%22%2C%22fragment%22%3A%22X31sZmlsZQ%3D%3D%22%7D%2C%7B%22line%22%3A4%2C%22character%22%3A27%7D%5D \"/Users/teslim/Library/CloudStorage/OneDrive-TeslimUthmanAdeyanju/TeSlim_Data_Scientist/03_Python/Teslim_python_study_note/Teslim_Python_Bootcamp/06-Object Oriented Programing/5-Python Destructors.ipynb\"). The [`id`](command:_github.copilot.openSymbolFromReferences?%5B%7B%22%24mid%22%3A1%2C%22fsPath%22%3A%22%2FUsers%2Fteslim%2FLibrary%2FCloudStorage%2FOneDrive-TeslimUthmanAdeyanju%2FTeSlim_Data_Scientist%2F03_Python%2FTeslim_python_study_note%2FTeslim_Python_Bootcamp%2F06-Object%20Oriented%20Programing%2F5-Python%20Destructors.ipynb%22%2C%22path%22%3A%22%2FUsers%2Fteslim%2FLibrary%2FCloudStorage%2FOneDrive-TeslimUthmanAdeyanju%2FTeSlim_Data_Scientist%2F03_Python%2FTeslim_python_study_note%2FTeslim_Python_Bootcamp%2F06-Object%20Oriented%20Programing%2F5-Python%20Destructors.ipynb%22%2C%22scheme%22%3A%22vscode-notebook-cell%22%2C%22fragment%22%3A%22X31sZmlsZQ%3D%3D%22%7D%2C%7B%22line%22%3A4%2C%22character%22%3A23%7D%5D \"/Users/teslim/Library/CloudStorage/OneDrive-TeslimUthmanAdeyanju/TeSlim_Data_Scientist/03_Python/Teslim_python_study_note/Teslim_Python_Bootcamp/06-Object Oriented Programing/5-Python Destructors.ipynb\") is assigned to the [`self.id`](command:_github.copilot.openSymbolFromReferences?%5B%7B%22%24mid%22%3A1%2C%22fsPath%22%3A%22%2FUsers%2Fteslim%2FLibrary%2FCloudStorage%2FOneDrive-TeslimUthmanAdeyanju%2FTeSlim_Data_Scientist%2F03_Python%2FTeslim_python_study_note%2FTeslim_Python_Bootcamp%2F06-Object%20Oriented%20Programing%2F5-Python%20Destructors.ipynb%22%2C%22path%22%3A%22%2FUsers%2Fteslim%2FLibrary%2FCloudStorage%2FOneDrive-TeslimUthmanAdeyanju%2FTeSlim_Data_Scientist%2F03_Python%2FTeslim_python_study_note%2FTeslim_Python_Bootcamp%2F06-Object%20Oriented%20Programing%2F5-Python%20Destructors.ipynb%22%2C%22scheme%22%3A%22vscode-notebook-cell%22%2C%22fragment%22%3A%22X31sZmlsZQ%3D%3D%22%7D%2C%7B%22line%22%3A4%2C%22character%22%3A17%7D%5D \"/Users/teslim/Library/CloudStorage/OneDrive-TeslimUthmanAdeyanju/TeSlim_Data_Scientist/03_Python/Teslim_python_study_note/Teslim_Python_Bootcamp/06-Object Oriented Programing/5-Python Destructors.ipynb\") attribute and the [`car`](command:_github.copilot.openSymbolFromReferences?%5B%7B%22%24mid%22%3A1%2C%22fsPath%22%3A%22%2FUsers%2Fteslim%2FLibrary%2FCloudStorage%2FOneDrive-TeslimUthmanAdeyanju%2FTeSlim_Data_Scientist%2F03_Python%2FTeslim_python_study_note%2FTeslim_Python_Bootcamp%2F06-Object%20Oriented%20Programing%2F5-Python%20Destructors.ipynb%22%2C%22path%22%3A%22%2FUsers%2Fteslim%2FLibrary%2FCloudStorage%2FOneDrive-TeslimUthmanAdeyanju%2FTeSlim_Data_Scientist%2F03_Python%2FTeslim_python_study_note%2FTeslim_Python_Bootcamp%2F06-Object%20Oriented%20Programing%2F5-Python%20Destructors.ipynb%22%2C%22scheme%22%3A%22vscode-notebook-cell%22%2C%22fragment%22%3A%22X31sZmlsZQ%3D%3D%22%7D%2C%7B%22line%22%3A4%2C%22character%22%3A27%7D%5D \"/Users/teslim/Library/CloudStorage/OneDrive-TeslimUthmanAdeyanju/TeSlim_Data_Scientist/03_Python/Teslim_python_study_note/Teslim_Python_Bootcamp/06-Object Oriented Programing/5-Python Destructors.ipynb\") object is assigned to the [`self.dealer`](command:_github.copilot.openSymbolFromReferences?%5B%7B%22%24mid%22%3A1%2C%22fsPath%22%3A%22%2FUsers%2Fteslim%2FLibrary%2FCloudStorage%2FOneDrive-TeslimUthmanAdeyanju%2FTeSlim_Data_Scientist%2F03_Python%2FTeslim_python_study_note%2FTeslim_Python_Bootcamp%2F06-Object%20Oriented%20Programing%2F5-Python%20Destructors.ipynb%22%2C%22path%22%3A%22%2FUsers%2Fteslim%2FLibrary%2FCloudStorage%2FOneDrive-TeslimUthmanAdeyanju%2FTeSlim_Data_Scientist%2F03_Python%2FTeslim_python_study_note%2FTeslim_Python_Bootcamp%2F06-Object%20Oriented%20Programing%2F5-Python%20Destructors.ipynb%22%2C%22scheme%22%3A%22vscode-notebook-cell%22%2C%22fragment%22%3A%22X31sZmlsZQ%3D%3D%22%7D%2C%7B%22line%22%3A4%2C%22character%22%3A17%7D%5D \"/Users/teslim/Library/CloudStorage/OneDrive-TeslimUthmanAdeyanju/TeSlim_Data_Scientist/03_Python/Teslim_python_study_note/Teslim_Python_Bootcamp/06-Object Oriented Programing/5-Python Destructors.ipynb\") attribute. The [`__init__`](command:_github.copilot.openSymbolFromReferences?%5B%7B%22%24mid%22%3A1%2C%22fsPath%22%3A%22%2FUsers%2Fteslim%2FLibrary%2FCloudStorage%2FOneDrive-TeslimUthmanAdeyanju%2FTeSlim_Data_Scientist%2F03_Python%2FTeslim_python_study_note%2FTeslim_Python_Bootcamp%2F06-Object%20Oriented%20Programing%2F5-Python%20Destructors.ipynb%22%2C%22path%22%3A%22%2FUsers%2Fteslim%2FLibrary%2FCloudStorage%2FOneDrive-TeslimUthmanAdeyanju%2FTeSlim_Data_Scientist%2F03_Python%2FTeslim_python_study_note%2FTeslim_Python_Bootcamp%2F06-Object%20Oriented%20Programing%2F5-Python%20Destructors.ipynb%22%2C%22scheme%22%3A%22vscode-notebook-cell%22%2C%22fragment%22%3A%22X31sZmlsZQ%3D%3D%22%7D%2C%7B%22line%22%3A4%2C%22character%22%3A8%7D%5D \"/Users/teslim/Library/CloudStorage/OneDrive-TeslimUthmanAdeyanju/TeSlim_Data_Scientist/03_Python/Teslim_python_study_note/Teslim_Python_Bootcamp/06-Object Oriented Programing/5-Python Destructors.ipynb\") method also prints a message indicating that a [`Vehicle`](command:_github.copilot.openSymbolFromReferences?%5B%7B%22%24mid%22%3A1%2C%22fsPath%22%3A%22%2FUsers%2Fteslim%2FLibrary%2FCloudStorage%2FOneDrive-TeslimUthmanAdeyanju%2FTeSlim_Data_Scientist%2F03_Python%2FTeslim_python_study_note%2FTeslim_Python_Bootcamp%2F06-Object%20Oriented%20Programing%2F5-Python%20Destructors.ipynb%22%2C%22path%22%3A%22%2FUsers%2Fteslim%2FLibrary%2FCloudStorage%2FOneDrive-TeslimUthmanAdeyanju%2FTeSlim_Data_Scientist%2F03_Python%2FTeslim_python_study_note%2FTeslim_Python_Bootcamp%2F06-Object%20Oriented%20Programing%2F5-Python%20Destructors.ipynb%22%2C%22scheme%22%3A%22vscode-notebook-cell%22%2C%22fragment%22%3A%22X31sZmlsZQ%3D%3D%22%7D%2C%7B%22line%22%3A3%2C%22character%22%3A6%7D%5D \"/Users/teslim/Library/CloudStorage/OneDrive-TeslimUthmanAdeyanju/TeSlim_Data_Scientist/03_Python/Teslim_python_study_note/Teslim_Python_Bootcamp/06-Object Oriented Programing/5-Python Destructors.ipynb\") object has been created. The [`Vehicle`](command:_github.copilot.openSymbolFromReferences?%5B%7B%22%24mid%22%3A1%2C%22fsPath%22%3A%22%2FUsers%2Fteslim%2FLibrary%2FCloudStorage%2FOneDrive-TeslimUthmanAdeyanju%2FTeSlim_Data_Scientist%2F03_Python%2FTeslim_python_study_note%2FTeslim_Python_Bootcamp%2F06-Object%20Oriented%20Programing%2F5-Python%20Destructors.ipynb%22%2C%22path%22%3A%22%2FUsers%2Fteslim%2FLibrary%2FCloudStorage%2FOneDrive-TeslimUthmanAdeyanju%2FTeSlim_Data_Scientist%2F03_Python%2FTeslim_python_study_note%2FTeslim_Python_Bootcamp%2F06-Object%20Oriented%20Programing%2F5-Python%20Destructors.ipynb%22%2C%22scheme%22%3A%22vscode-notebook-cell%22%2C%22fragment%22%3A%22X31sZmlsZQ%3D%3D%22%7D%2C%7B%22line%22%3A3%2C%22character%22%3A6%7D%5D \"/Users/teslim/Library/CloudStorage/OneDrive-TeslimUthmanAdeyanju/TeSlim_Data_Scientist/03_Python/Teslim_python_study_note/Teslim_Python_Bootcamp/06-Object Oriented Programing/5-Python Destructors.ipynb\") class also has a [`__del__`](command:_github.copilot.openSymbolFromReferences?%5B%7B%22%24mid%22%3A1%2C%22fsPath%22%3A%22%2FUsers%2Fteslim%2FLibrary%2FCloudStorage%2FOneDrive-TeslimUthmanAdeyanju%2FTeSlim_Data_Scientist%2F03_Python%2FTeslim_python_study_note%2FTeslim_Python_Bootcamp%2F06-Object%20Oriented%20Programing%2F5-Python%20Destructors.ipynb%22%2C%22path%22%3A%22%2FUsers%2Fteslim%2FLibrary%2FCloudStorage%2FOneDrive-TeslimUthmanAdeyanju%2FTeSlim_Data_Scientist%2F03_Python%2FTeslim_python_study_note%2FTeslim_Python_Bootcamp%2F06-Object%20Oriented%20Programing%2F5-Python%20Destructors.ipynb%22%2C%22scheme%22%3A%22vscode-notebook-cell%22%2C%22fragment%22%3A%22X31sZmlsZQ%3D%3D%22%7D%2C%7B%22line%22%3A10%2C%22character%22%3A8%7D%5D \"/Users/teslim/Library/CloudStorage/OneDrive-TeslimUthmanAdeyanju/TeSlim_Data_Scientist/03_Python/Teslim_python_study_note/Teslim_Python_Bootcamp/06-Object Oriented Programing/5-Python Destructors.ipynb\") method (destructor) that prints a message when a [`Vehicle`](command:_github.copilot.openSymbolFromReferences?%5B%7B%22%24mid%22%3A1%2C%22fsPath%22%3A%22%2FUsers%2Fteslim%2FLibrary%2FCloudStorage%2FOneDrive-TeslimUthmanAdeyanju%2FTeSlim_Data_Scientist%2F03_Python%2FTeslim_python_study_note%2FTeslim_Python_Bootcamp%2F06-Object%20Oriented%20Programing%2F5-Python%20Destructors.ipynb%22%2C%22path%22%3A%22%2FUsers%2Fteslim%2FLibrary%2FCloudStorage%2FOneDrive-TeslimUthmanAdeyanju%2FTeSlim_Data_Scientist%2F03_Python%2FTeslim_python_study_note%2FTeslim_Python_Bootcamp%2F06-Object%20Oriented%20Programing%2F5-Python%20Destructors.ipynb%22%2C%22scheme%22%3A%22vscode-notebook-cell%22%2C%22fragment%22%3A%22X31sZmlsZQ%3D%3D%22%7D%2C%7B%22line%22%3A3%2C%22character%22%3A6%7D%5D \"/Users/teslim/Library/CloudStorage/OneDrive-TeslimUthmanAdeyanju/TeSlim_Data_Scientist/03_Python/Teslim_python_study_note/Teslim_Python_Bootcamp/06-Object Oriented Programing/5-Python Destructors.ipynb\") object is destroyed.\n",
    "\n",
    "The [`Car`](command:_github.copilot.openSymbolFromReferences?%5B%7B%22%24mid%22%3A1%2C%22fsPath%22%3A%22%2FUsers%2Fteslim%2FLibrary%2FCloudStorage%2FOneDrive-TeslimUthmanAdeyanju%2FTeSlim_Data_Scientist%2F03_Python%2FTeslim_python_study_note%2FTeslim_Python_Bootcamp%2F06-Object%20Oriented%20Programing%2F5-Python%20Destructors.ipynb%22%2C%22path%22%3A%22%2FUsers%2Fteslim%2FLibrary%2FCloudStorage%2FOneDrive-TeslimUthmanAdeyanju%2FTeSlim_Data_Scientist%2F03_Python%2FTeslim_python_study_note%2FTeslim_Python_Bootcamp%2F06-Object%20Oriented%20Programing%2F5-Python%20Destructors.ipynb%22%2C%22scheme%22%3A%22vscode-notebook-cell%22%2C%22fragment%22%3A%22X31sZmlsZQ%3D%3D%22%7D%2C%7B%22line%22%3A14%2C%22character%22%3A6%7D%5D \"/Users/teslim/Library/CloudStorage/OneDrive-TeslimUthmanAdeyanju/TeSlim_Data_Scientist/03_Python/Teslim_python_study_note/Teslim_Python_Bootcamp/06-Object Oriented Programing/5-Python Destructors.ipynb\") class is similar to the [`Vehicle`](command:_github.copilot.openSymbolFromReferences?%5B%7B%22%24mid%22%3A1%2C%22fsPath%22%3A%22%2FUsers%2Fteslim%2FLibrary%2FCloudStorage%2FOneDrive-TeslimUthmanAdeyanju%2FTeSlim_Data_Scientist%2F03_Python%2FTeslim_python_study_note%2FTeslim_Python_Bootcamp%2F06-Object%20Oriented%20Programing%2F5-Python%20Destructors.ipynb%22%2C%22path%22%3A%22%2FUsers%2Fteslim%2FLibrary%2FCloudStorage%2FOneDrive-TeslimUthmanAdeyanju%2FTeSlim_Data_Scientist%2F03_Python%2FTeslim_python_study_note%2FTeslim_Python_Bootcamp%2F06-Object%20Oriented%20Programing%2F5-Python%20Destructors.ipynb%22%2C%22scheme%22%3A%22vscode-notebook-cell%22%2C%22fragment%22%3A%22X31sZmlsZQ%3D%3D%22%7D%2C%7B%22line%22%3A3%2C%22character%22%3A6%7D%5D \"/Users/teslim/Library/CloudStorage/OneDrive-TeslimUthmanAdeyanju/TeSlim_Data_Scientist/03_Python/Teslim_python_study_note/Teslim_Python_Bootcamp/06-Object Oriented Programing/5-Python Destructors.ipynb\") class. Its [`__init__`](command:_github.copilot.openSymbolFromReferences?%5B%7B%22%24mid%22%3A1%2C%22fsPath%22%3A%22%2FUsers%2Fteslim%2FLibrary%2FCloudStorage%2FOneDrive-TeslimUthmanAdeyanju%2FTeSlim_Data_Scientist%2F03_Python%2FTeslim_python_study_note%2FTeslim_Python_Bootcamp%2F06-Object%20Oriented%20Programing%2F5-Python%20Destructors.ipynb%22%2C%22path%22%3A%22%2FUsers%2Fteslim%2FLibrary%2FCloudStorage%2FOneDrive-TeslimUthmanAdeyanju%2FTeSlim_Data_Scientist%2F03_Python%2FTeslim_python_study_note%2FTeslim_Python_Bootcamp%2F06-Object%20Oriented%20Programing%2F5-Python%20Destructors.ipynb%22%2C%22scheme%22%3A%22vscode-notebook-cell%22%2C%22fragment%22%3A%22X31sZmlsZQ%3D%3D%22%7D%2C%7B%22line%22%3A4%2C%22character%22%3A8%7D%5D \"/Users/teslim/Library/CloudStorage/OneDrive-TeslimUthmanAdeyanju/TeSlim_Data_Scientist/03_Python/Teslim_python_study_note/Teslim_Python_Bootcamp/06-Object Oriented Programing/5-Python Destructors.ipynb\") method takes an [`id`](command:_github.copilot.openSymbolFromReferences?%5B%7B%22%24mid%22%3A1%2C%22fsPath%22%3A%22%2FUsers%2Fteslim%2FLibrary%2FCloudStorage%2FOneDrive-TeslimUthmanAdeyanju%2FTeSlim_Data_Scientist%2F03_Python%2FTeslim_python_study_note%2FTeslim_Python_Bootcamp%2F06-Object%20Oriented%20Programing%2F5-Python%20Destructors.ipynb%22%2C%22path%22%3A%22%2FUsers%2Fteslim%2FLibrary%2FCloudStorage%2FOneDrive-TeslimUthmanAdeyanju%2FTeSlim_Data_Scientist%2F03_Python%2FTeslim_python_study_note%2FTeslim_Python_Bootcamp%2F06-Object%20Oriented%20Programing%2F5-Python%20Destructors.ipynb%22%2C%22scheme%22%3A%22vscode-notebook-cell%22%2C%22fragment%22%3A%22X31sZmlsZQ%3D%3D%22%7D%2C%7B%22line%22%3A4%2C%22character%22%3A23%7D%5D \"/Users/teslim/Library/CloudStorage/OneDrive-TeslimUthmanAdeyanju/TeSlim_Data_Scientist/03_Python/Teslim_python_study_note/Teslim_Python_Bootcamp/06-Object Oriented Programing/5-Python Destructors.ipynb\") parameter, assigns it to [`self.id`](command:_github.copilot.openSymbolFromReferences?%5B%7B%22%24mid%22%3A1%2C%22fsPath%22%3A%22%2FUsers%2Fteslim%2FLibrary%2FCloudStorage%2FOneDrive-TeslimUthmanAdeyanju%2FTeSlim_Data_Scientist%2F03_Python%2FTeslim_python_study_note%2FTeslim_Python_Bootcamp%2F06-Object%20Oriented%20Programing%2F5-Python%20Destructors.ipynb%22%2C%22path%22%3A%22%2FUsers%2Fteslim%2FLibrary%2FCloudStorage%2FOneDrive-TeslimUthmanAdeyanju%2FTeSlim_Data_Scientist%2F03_Python%2FTeslim_python_study_note%2FTeslim_Python_Bootcamp%2F06-Object%20Oriented%20Programing%2F5-Python%20Destructors.ipynb%22%2C%22scheme%22%3A%22vscode-notebook-cell%22%2C%22fragment%22%3A%22X31sZmlsZQ%3D%3D%22%7D%2C%7B%22line%22%3A4%2C%22character%22%3A17%7D%5D \"/Users/teslim/Library/CloudStorage/OneDrive-TeslimUthmanAdeyanju/TeSlim_Data_Scientist/03_Python/Teslim_python_study_note/Teslim_Python_Bootcamp/06-Object Oriented Programing/5-Python Destructors.ipynb\"), creates a [`Vehicle`](command:_github.copilot.openSymbolFromReferences?%5B%7B%22%24mid%22%3A1%2C%22fsPath%22%3A%22%2FUsers%2Fteslim%2FLibrary%2FCloudStorage%2FOneDrive-TeslimUthmanAdeyanju%2FTeSlim_Data_Scientist%2F03_Python%2FTeslim_python_study_note%2FTeslim_Python_Bootcamp%2F06-Object%20Oriented%20Programing%2F5-Python%20Destructors.ipynb%22%2C%22path%22%3A%22%2FUsers%2Fteslim%2FLibrary%2FCloudStorage%2FOneDrive-TeslimUthmanAdeyanju%2FTeSlim_Data_Scientist%2F03_Python%2FTeslim_python_study_note%2FTeslim_Python_Bootcamp%2F06-Object%20Oriented%20Programing%2F5-Python%20Destructors.ipynb%22%2C%22scheme%22%3A%22vscode-notebook-cell%22%2C%22fragment%22%3A%22X31sZmlsZQ%3D%3D%22%7D%2C%7B%22line%22%3A3%2C%22character%22%3A6%7D%5D \"/Users/teslim/Library/CloudStorage/OneDrive-TeslimUthmanAdeyanju/TeSlim_Data_Scientist/03_Python/Teslim_python_study_note/Teslim_Python_Bootcamp/06-Object Oriented Programing/5-Python Destructors.ipynb\") object, and assigns it to [`self.dealer`](command:_github.copilot.openSymbolFromReferences?%5B%7B%22%24mid%22%3A1%2C%22fsPath%22%3A%22%2FUsers%2Fteslim%2FLibrary%2FCloudStorage%2FOneDrive-TeslimUthmanAdeyanju%2FTeSlim_Data_Scientist%2F03_Python%2FTeslim_python_study_note%2FTeslim_Python_Bootcamp%2F06-Object%20Oriented%20Programing%2F5-Python%20Destructors.ipynb%22%2C%22path%22%3A%22%2FUsers%2Fteslim%2FLibrary%2FCloudStorage%2FOneDrive-TeslimUthmanAdeyanju%2FTeSlim_Data_Scientist%2F03_Python%2FTeslim_python_study_note%2FTeslim_Python_Bootcamp%2F06-Object%20Oriented%20Programing%2F5-Python%20Destructors.ipynb%22%2C%22scheme%22%3A%22vscode-notebook-cell%22%2C%22fragment%22%3A%22X31sZmlsZQ%3D%3D%22%7D%2C%7B%22line%22%3A4%2C%22character%22%3A17%7D%5D \"/Users/teslim/Library/CloudStorage/OneDrive-TeslimUthmanAdeyanju/TeSlim_Data_Scientist/03_Python/Teslim_python_study_note/Teslim_Python_Bootcamp/06-Object Oriented Programing/5-Python Destructors.ipynb\"). It also prints a message indicating that a [`Car`](command:_github.copilot.openSymbolFromReferences?%5B%7B%22%24mid%22%3A1%2C%22fsPath%22%3A%22%2FUsers%2Fteslim%2FLibrary%2FCloudStorage%2FOneDrive-TeslimUthmanAdeyanju%2FTeSlim_Data_Scientist%2F03_Python%2FTeslim_python_study_note%2FTeslim_Python_Bootcamp%2F06-Object%20Oriented%20Programing%2F5-Python%20Destructors.ipynb%22%2C%22path%22%3A%22%2FUsers%2Fteslim%2FLibrary%2FCloudStorage%2FOneDrive-TeslimUthmanAdeyanju%2FTeSlim_Data_Scientist%2F03_Python%2FTeslim_python_study_note%2FTeslim_Python_Bootcamp%2F06-Object%20Oriented%20Programing%2F5-Python%20Destructors.ipynb%22%2C%22scheme%22%3A%22vscode-notebook-cell%22%2C%22fragment%22%3A%22X31sZmlsZQ%3D%3D%22%7D%2C%7B%22line%22%3A14%2C%22character%22%3A6%7D%5D \"/Users/teslim/Library/CloudStorage/OneDrive-TeslimUthmanAdeyanju/TeSlim_Data_Scientist/03_Python/Teslim_python_study_note/Teslim_Python_Bootcamp/06-Object Oriented Programing/5-Python Destructors.ipynb\") object has been created. The [`__del__`](command:_github.copilot.openSymbolFromReferences?%5B%7B%22%24mid%22%3A1%2C%22fsPath%22%3A%22%2FUsers%2Fteslim%2FLibrary%2FCloudStorage%2FOneDrive-TeslimUthmanAdeyanju%2FTeSlim_Data_Scientist%2F03_Python%2FTeslim_python_study_note%2FTeslim_Python_Bootcamp%2F06-Object%20Oriented%20Programing%2F5-Python%20Destructors.ipynb%22%2C%22path%22%3A%22%2FUsers%2Fteslim%2FLibrary%2FCloudStorage%2FOneDrive-TeslimUthmanAdeyanju%2FTeSlim_Data_Scientist%2F03_Python%2FTeslim_python_study_note%2FTeslim_Python_Bootcamp%2F06-Object%20Oriented%20Programing%2F5-Python%20Destructors.ipynb%22%2C%22scheme%22%3A%22vscode-notebook-cell%22%2C%22fragment%22%3A%22X31sZmlsZQ%3D%3D%22%7D%2C%7B%22line%22%3A10%2C%22character%22%3A8%7D%5D \"/Users/teslim/Library/CloudStorage/OneDrive-TeslimUthmanAdeyanju/TeSlim_Data_Scientist/03_Python/Teslim_python_study_note/Teslim_Python_Bootcamp/06-Object Oriented Programing/5-Python Destructors.ipynb\") method of the [`Car`](command:_github.copilot.openSymbolFromReferences?%5B%7B%22%24mid%22%3A1%2C%22fsPath%22%3A%22%2FUsers%2Fteslim%2FLibrary%2FCloudStorage%2FOneDrive-TeslimUthmanAdeyanju%2FTeSlim_Data_Scientist%2F03_Python%2FTeslim_python_study_note%2FTeslim_Python_Bootcamp%2F06-Object%20Oriented%20Programing%2F5-Python%20Destructors.ipynb%22%2C%22path%22%3A%22%2FUsers%2Fteslim%2FLibrary%2FCloudStorage%2FOneDrive-TeslimUthmanAdeyanju%2FTeSlim_Data_Scientist%2F03_Python%2FTeslim_python_study_note%2FTeslim_Python_Bootcamp%2F06-Object%20Oriented%20Programing%2F5-Python%20Destructors.ipynb%22%2C%22scheme%22%3A%22vscode-notebook-cell%22%2C%22fragment%22%3A%22X31sZmlsZQ%3D%3D%22%7D%2C%7B%22line%22%3A14%2C%22character%22%3A6%7D%5D \"/Users/teslim/Library/CloudStorage/OneDrive-TeslimUthmanAdeyanju/TeSlim_Data_Scientist/03_Python/Teslim_python_study_note/Teslim_Python_Bootcamp/06-Object Oriented Programing/5-Python Destructors.ipynb\") class prints a message when a [`Car`](command:_github.copilot.openSymbolFromReferences?%5B%7B%22%24mid%22%3A1%2C%22fsPath%22%3A%22%2FUsers%2Fteslim%2FLibrary%2FCloudStorage%2FOneDrive-TeslimUthmanAdeyanju%2FTeSlim_Data_Scientist%2F03_Python%2FTeslim_python_study_note%2FTeslim_Python_Bootcamp%2F06-Object%20Oriented%20Programing%2F5-Python%20Destructors.ipynb%22%2C%22path%22%3A%22%2FUsers%2Fteslim%2FLibrary%2FCloudStorage%2FOneDrive-TeslimUthmanAdeyanju%2FTeSlim_Data_Scientist%2F03_Python%2FTeslim_python_study_note%2FTeslim_Python_Bootcamp%2F06-Object%20Oriented%20Programing%2F5-Python%20Destructors.ipynb%22%2C%22scheme%22%3A%22vscode-notebook-cell%22%2C%22fragment%22%3A%22X31sZmlsZQ%3D%3D%22%7D%2C%7B%22line%22%3A14%2C%22character%22%3A6%7D%5D \"/Users/teslim/Library/CloudStorage/OneDrive-TeslimUthmanAdeyanju/TeSlim_Data_Scientist/03_Python/Teslim_python_study_note/Teslim_Python_Bootcamp/06-Object Oriented Programing/5-Python Destructors.ipynb\") object is destroyed.\n",
    "\n",
    "In the main part of the script, a [`Car`](command:_github.copilot.openSymbolFromReferences?%5B%7B%22%24mid%22%3A1%2C%22fsPath%22%3A%22%2FUsers%2Fteslim%2FLibrary%2FCloudStorage%2FOneDrive-TeslimUthmanAdeyanju%2FTeSlim_Data_Scientist%2F03_Python%2FTeslim_python_study_note%2FTeslim_Python_Bootcamp%2F06-Object%20Oriented%20Programing%2F5-Python%20Destructors.ipynb%22%2C%22path%22%3A%22%2FUsers%2Fteslim%2FLibrary%2FCloudStorage%2FOneDrive-TeslimUthmanAdeyanju%2FTeSlim_Data_Scientist%2F03_Python%2FTeslim_python_study_note%2FTeslim_Python_Bootcamp%2F06-Object%20Oriented%20Programing%2F5-Python%20Destructors.ipynb%22%2C%22scheme%22%3A%22vscode-notebook-cell%22%2C%22fragment%22%3A%22X31sZmlsZQ%3D%3D%22%7D%2C%7B%22line%22%3A14%2C%22character%22%3A6%7D%5D \"/Users/teslim/Library/CloudStorage/OneDrive-TeslimUthmanAdeyanju/TeSlim_Data_Scientist/03_Python/Teslim_python_study_note/Teslim_Python_Bootcamp/06-Object Oriented Programing/5-Python Destructors.ipynb\") object is created with an [`id`](command:_github.copilot.openSymbolFromReferences?%5B%7B%22%24mid%22%3A1%2C%22fsPath%22%3A%22%2FUsers%2Fteslim%2FLibrary%2FCloudStorage%2FOneDrive-TeslimUthmanAdeyanju%2FTeSlim_Data_Scientist%2F03_Python%2FTeslim_python_study_note%2FTeslim_Python_Bootcamp%2F06-Object%20Oriented%20Programing%2F5-Python%20Destructors.ipynb%22%2C%22path%22%3A%22%2FUsers%2Fteslim%2FLibrary%2FCloudStorage%2FOneDrive-TeslimUthmanAdeyanju%2FTeSlim_Data_Scientist%2F03_Python%2FTeslim_python_study_note%2FTeslim_Python_Bootcamp%2F06-Object%20Oriented%20Programing%2F5-Python%20Destructors.ipynb%22%2C%22scheme%22%3A%22vscode-notebook-cell%22%2C%22fragment%22%3A%22X31sZmlsZQ%3D%3D%22%7D%2C%7B%22line%22%3A4%2C%22character%22%3A23%7D%5D \"/Users/teslim/Library/CloudStorage/OneDrive-TeslimUthmanAdeyanju/TeSlim_Data_Scientist/03_Python/Teslim_python_study_note/Teslim_Python_Bootcamp/06-Object Oriented Programing/5-Python Destructors.ipynb\") of 12. This also results in the creation of a [`Vehicle`](command:_github.copilot.openSymbolFromReferences?%5B%7B%22%24mid%22%3A1%2C%22fsPath%22%3A%22%2FUsers%2Fteslim%2FLibrary%2FCloudStorage%2FOneDrive-TeslimUthmanAdeyanju%2FTeSlim_Data_Scientist%2F03_Python%2FTeslim_python_study_note%2FTeslim_Python_Bootcamp%2F06-Object%20Oriented%20Programing%2F5-Python%20Destructors.ipynb%22%2C%22path%22%3A%22%2FUsers%2Fteslim%2FLibrary%2FCloudStorage%2FOneDrive-TeslimUthmanAdeyanju%2FTeSlim_Data_Scientist%2F03_Python%2FTeslim_python_study_note%2FTeslim_Python_Bootcamp%2F06-Object%20Oriented%20Programing%2F5-Python%20Destructors.ipynb%22%2C%22scheme%22%3A%22vscode-notebook-cell%22%2C%22fragment%22%3A%22X31sZmlsZQ%3D%3D%22%7D%2C%7B%22line%22%3A3%2C%22character%22%3A6%7D%5D \"/Users/teslim/Library/CloudStorage/OneDrive-TeslimUthmanAdeyanju/TeSlim_Data_Scientist/03_Python/Teslim_python_study_note/Teslim_Python_Bootcamp/06-Object Oriented Programing/5-Python Destructors.ipynb\") object because the [`__init__`](command:_github.copilot.openSymbolFromReferences?%5B%7B%22%24mid%22%3A1%2C%22fsPath%22%3A%22%2FUsers%2Fteslim%2FLibrary%2FCloudStorage%2FOneDrive-TeslimUthmanAdeyanju%2FTeSlim_Data_Scientist%2F03_Python%2FTeslim_python_study_note%2FTeslim_Python_Bootcamp%2F06-Object%20Oriented%20Programing%2F5-Python%20Destructors.ipynb%22%2C%22path%22%3A%22%2FUsers%2Fteslim%2FLibrary%2FCloudStorage%2FOneDrive-TeslimUthmanAdeyanju%2FTeSlim_Data_Scientist%2F03_Python%2FTeslim_python_study_note%2FTeslim_Python_Bootcamp%2F06-Object%20Oriented%20Programing%2F5-Python%20Destructors.ipynb%22%2C%22scheme%22%3A%22vscode-notebook-cell%22%2C%22fragment%22%3A%22X31sZmlsZQ%3D%3D%22%7D%2C%7B%22line%22%3A4%2C%22character%22%3A8%7D%5D \"/Users/teslim/Library/CloudStorage/OneDrive-TeslimUthmanAdeyanju/TeSlim_Data_Scientist/03_Python/Teslim_python_study_note/Teslim_Python_Bootcamp/06-Object Oriented Programing/5-Python Destructors.ipynb\") method of the [`Car`](command:_github.copilot.openSymbolFromReferences?%5B%7B%22%24mid%22%3A1%2C%22fsPath%22%3A%22%2FUsers%2Fteslim%2FLibrary%2FCloudStorage%2FOneDrive-TeslimUthmanAdeyanju%2FTeSlim_Data_Scientist%2F03_Python%2FTeslim_python_study_note%2FTeslim_Python_Bootcamp%2F06-Object%20Oriented%20Programing%2F5-Python%20Destructors.ipynb%22%2C%22path%22%3A%22%2FUsers%2Fteslim%2FLibrary%2FCloudStorage%2FOneDrive-TeslimUthmanAdeyanju%2FTeSlim_Data_Scientist%2F03_Python%2FTeslim_python_study_note%2FTeslim_Python_Bootcamp%2F06-Object%20Oriented%20Programing%2F5-Python%20Destructors.ipynb%22%2C%22scheme%22%3A%22vscode-notebook-cell%22%2C%22fragment%22%3A%22X31sZmlsZQ%3D%3D%22%7D%2C%7B%22line%22%3A14%2C%22character%22%3A6%7D%5D \"/Users/teslim/Library/CloudStorage/OneDrive-TeslimUthmanAdeyanju/TeSlim_Data_Scientist/03_Python/Teslim_python_study_note/Teslim_Python_Bootcamp/06-Object Oriented Programing/5-Python Destructors.ipynb\") class creates a [`Vehicle`](command:_github.copilot.openSymbolFromReferences?%5B%7B%22%24mid%22%3A1%2C%22fsPath%22%3A%22%2FUsers%2Fteslim%2FLibrary%2FCloudStorage%2FOneDrive-TeslimUthmanAdeyanju%2FTeSlim_Data_Scientist%2F03_Python%2FTeslim_python_study_note%2FTeslim_Python_Bootcamp%2F06-Object%20Oriented%20Programing%2F5-Python%20Destructors.ipynb%22%2C%22path%22%3A%22%2FUsers%2Fteslim%2FLibrary%2FCloudStorage%2FOneDrive-TeslimUthmanAdeyanju%2FTeSlim_Data_Scientist%2F03_Python%2FTeslim_python_study_note%2FTeslim_Python_Bootcamp%2F06-Object%20Oriented%20Programing%2F5-Python%20Destructors.ipynb%22%2C%22scheme%22%3A%22vscode-notebook-cell%22%2C%22fragment%22%3A%22X31sZmlsZQ%3D%3D%22%7D%2C%7B%22line%22%3A3%2C%22character%22%3A6%7D%5D \"/Users/teslim/Library/CloudStorage/OneDrive-TeslimUthmanAdeyanju/TeSlim_Data_Scientist/03_Python/Teslim_python_study_note/Teslim_Python_Bootcamp/06-Object Oriented Programing/5-Python Destructors.ipynb\") object. The [`Car`](command:_github.copilot.openSymbolFromReferences?%5B%7B%22%24mid%22%3A1%2C%22fsPath%22%3A%22%2FUsers%2Fteslim%2FLibrary%2FCloudStorage%2FOneDrive-TeslimUthmanAdeyanju%2FTeSlim_Data_Scientist%2F03_Python%2FTeslim_python_study_note%2FTeslim_Python_Bootcamp%2F06-Object%20Oriented%20Programing%2F5-Python%20Destructors.ipynb%22%2C%22path%22%3A%22%2FUsers%2Fteslim%2FLibrary%2FCloudStorage%2FOneDrive-TeslimUthmanAdeyanju%2FTeSlim_Data_Scientist%2F03_Python%2FTeslim_python_study_note%2FTeslim_Python_Bootcamp%2F06-Object%20Oriented%20Programing%2F5-Python%20Destructors.ipynb%22%2C%22scheme%22%3A%22vscode-notebook-cell%22%2C%22fragment%22%3A%22X31sZmlsZQ%3D%3D%22%7D%2C%7B%22line%22%3A14%2C%22character%22%3A6%7D%5D \"/Users/teslim/Library/CloudStorage/OneDrive-TeslimUthmanAdeyanju/TeSlim_Data_Scientist/03_Python/Teslim_python_study_note/Teslim_Python_Bootcamp/06-Object Oriented Programing/5-Python Destructors.ipynb\") object is then explicitly deleted using the `del` statement, which should trigger the [`__del__`](command:_github.copilot.openSymbolFromReferences?%5B%7B%22%24mid%22%3A1%2C%22fsPath%22%3A%22%2FUsers%2Fteslim%2FLibrary%2FCloudStorage%2FOneDrive-TeslimUthmanAdeyanju%2FTeSlim_Data_Scientist%2F03_Python%2FTeslim_python_study_note%2FTeslim_Python_Bootcamp%2F06-Object%20Oriented%20Programing%2F5-Python%20Destructors.ipynb%22%2C%22path%22%3A%22%2FUsers%2Fteslim%2FLibrary%2FCloudStorage%2FOneDrive-TeslimUthmanAdeyanju%2FTeSlim_Data_Scientist%2F03_Python%2FTeslim_python_study_note%2FTeslim_Python_Bootcamp%2F06-Object%20Oriented%20Programing%2F5-Python%20Destructors.ipynb%22%2C%22scheme%22%3A%22vscode-notebook-cell%22%2C%22fragment%22%3A%22X31sZmlsZQ%3D%3D%22%7D%2C%7B%22line%22%3A10%2C%22character%22%3A8%7D%5D \"/Users/teslim/Library/CloudStorage/OneDrive-TeslimUthmanAdeyanju/TeSlim_Data_Scientist/03_Python/Teslim_python_study_note/Teslim_Python_Bootcamp/06-Object Oriented Programing/5-Python Destructors.ipynb\") method and print a message indicating that the [`Car`](command:_github.copilot.openSymbolFromReferences?%5B%7B%22%24mid%22%3A1%2C%22fsPath%22%3A%22%2FUsers%2Fteslim%2FLibrary%2FCloudStorage%2FOneDrive-TeslimUthmanAdeyanju%2FTeSlim_Data_Scientist%2F03_Python%2FTeslim_python_study_note%2FTeslim_Python_Bootcamp%2F06-Object%20Oriented%20Programing%2F5-Python%20Destructors.ipynb%22%2C%22path%22%3A%22%2FUsers%2Fteslim%2FLibrary%2FCloudStorage%2FOneDrive-TeslimUthmanAdeyanju%2FTeSlim_Data_Scientist%2F03_Python%2FTeslim_python_study_note%2FTeslim_Python_Bootcamp%2F06-Object%20Oriented%20Programing%2F5-Python%20Destructors.ipynb%22%2C%22scheme%22%3A%22vscode-notebook-cell%22%2C%22fragment%22%3A%22X31sZmlsZQ%3D%3D%22%7D%2C%7B%22line%22%3A14%2C%22character%22%3A6%7D%5D \"/Users/teslim/Library/CloudStorage/OneDrive-TeslimUthmanAdeyanju/TeSlim_Data_Scientist/03_Python/Teslim_python_study_note/Teslim_Python_Bootcamp/06-Object Oriented Programing/5-Python Destructors.ipynb\") object has been destroyed.\n",
    "\n",
    "Finally, the script pauses for 8 seconds using the [`time.sleep`](command:_github.copilot.openSymbolFromReferences?%5B%7B%22%24mid%22%3A1%2C%22path%22%3A%22%2FUsers%2Fteslim%2F.vscode%2Fextensions%2Fms-python.vscode-pylance-2024.5.1%2Fdist%2Ftypeshed-fallback%2Fstdlib%2Ftime.pyi%22%2C%22scheme%22%3A%22file%22%7D%2C%7B%22line%22%3A0%2C%22character%22%3A0%7D%5D \"../../../../.vscode/extensions/ms-python.vscode-pylance-2024.5.1/dist/typeshed-fallback/stdlib/time.pyi\") function. This is likely done to allow time to observe the output messages indicating the creation and destruction of the [`Car`](command:_github.copilot.openSymbolFromReferences?%5B%7B%22%24mid%22%3A1%2C%22fsPath%22%3A%22%2FUsers%2Fteslim%2FLibrary%2FCloudStorage%2FOneDrive-TeslimUthmanAdeyanju%2FTeSlim_Data_Scientist%2F03_Python%2FTeslim_python_study_note%2FTeslim_Python_Bootcamp%2F06-Object%20Oriented%20Programing%2F5-Python%20Destructors.ipynb%22%2C%22path%22%3A%22%2FUsers%2Fteslim%2FLibrary%2FCloudStorage%2FOneDrive-TeslimUthmanAdeyanju%2FTeSlim_Data_Scientist%2F03_Python%2FTeslim_python_study_note%2FTeslim_Python_Bootcamp%2F06-Object%20Oriented%20Programing%2F5-Python%20Destructors.ipynb%22%2C%22scheme%22%3A%22vscode-notebook-cell%22%2C%22fragment%22%3A%22X31sZmlsZQ%3D%3D%22%7D%2C%7B%22line%22%3A14%2C%22character%22%3A6%7D%5D \"/Users/teslim/Library/CloudStorage/OneDrive-TeslimUthmanAdeyanju/TeSlim_Data_Scientist/03_Python/Teslim_python_study_note/Teslim_Python_Bootcamp/06-Object Oriented Programing/5-Python Destructors.ipynb\") and [`Vehicle`](command:_github.copilot.openSymbolFromReferences?%5B%7B%22%24mid%22%3A1%2C%22fsPath%22%3A%22%2FUsers%2Fteslim%2FLibrary%2FCloudStorage%2FOneDrive-TeslimUthmanAdeyanju%2FTeSlim_Data_Scientist%2F03_Python%2FTeslim_python_study_note%2FTeslim_Python_Bootcamp%2F06-Object%20Oriented%20Programing%2F5-Python%20Destructors.ipynb%22%2C%22path%22%3A%22%2FUsers%2Fteslim%2FLibrary%2FCloudStorage%2FOneDrive-TeslimUthmanAdeyanju%2FTeSlim_Data_Scientist%2F03_Python%2FTeslim_python_study_note%2FTeslim_Python_Bootcamp%2F06-Object%20Oriented%20Programing%2F5-Python%20Destructors.ipynb%22%2C%22scheme%22%3A%22vscode-notebook-cell%22%2C%22fragment%22%3A%22X31sZmlsZQ%3D%3D%22%7D%2C%7B%22line%22%3A3%2C%22character%22%3A6%7D%5D \"/Users/teslim/Library/CloudStorage/OneDrive-TeslimUthmanAdeyanju/TeSlim_Data_Scientist/03_Python/Teslim_python_study_note/Teslim_Python_Bootcamp/06-Object Oriented Programing/5-Python Destructors.ipynb\") objects.\n",
    "\n",
    "It's important to note that in Python, the [`__del__`](command:_github.copilot.openSymbolFromReferences?%5B%7B%22%24mid%22%3A1%2C%22fsPath%22%3A%22%2FUsers%2Fteslim%2FLibrary%2FCloudStorage%2FOneDrive-TeslimUthmanAdeyanju%2FTeSlim_Data_Scientist%2F03_Python%2FTeslim_python_study_note%2FTeslim_Python_Bootcamp%2F06-Object%20Oriented%20Programing%2F5-Python%20Destructors.ipynb%22%2C%22path%22%3A%22%2FUsers%2Fteslim%2FLibrary%2FCloudStorage%2FOneDrive-TeslimUthmanAdeyanju%2FTeSlim_Data_Scientist%2F03_Python%2FTeslim_python_study_note%2FTeslim_Python_Bootcamp%2F06-Object%20Oriented%20Programing%2F5-Python%20Destructors.ipynb%22%2C%22scheme%22%3A%22vscode-notebook-cell%22%2C%22fragment%22%3A%22X31sZmlsZQ%3D%3D%22%7D%2C%7B%22line%22%3A10%2C%22character%22%3A8%7D%5D \"/Users/teslim/Library/CloudStorage/OneDrive-TeslimUthmanAdeyanju/TeSlim_Data_Scientist/03_Python/Teslim_python_study_note/Teslim_Python_Bootcamp/06-Object Oriented Programing/5-Python Destructors.ipynb\") method is not guaranteed to be called for objects that still exist when the interpreter exits, especially in the case of circular references. In this script, the [`Vehicle`](command:_github.copilot.openSymbolFromReferences?%5B%7B%22%24mid%22%3A1%2C%22fsPath%22%3A%22%2FUsers%2Fteslim%2FLibrary%2FCloudStorage%2FOneDrive-TeslimUthmanAdeyanju%2FTeSlim_Data_Scientist%2F03_Python%2FTeslim_python_study_note%2FTeslim_Python_Bootcamp%2F06-Object%20Oriented%20Programing%2F5-Python%20Destructors.ipynb%22%2C%22path%22%3A%22%2FUsers%2Fteslim%2FLibrary%2FCloudStorage%2FOneDrive-TeslimUthmanAdeyanju%2FTeSlim_Data_Scientist%2F03_Python%2FTeslim_python_study_note%2FTeslim_Python_Bootcamp%2F06-Object%20Oriented%20Programing%2F5-Python%20Destructors.ipynb%22%2C%22scheme%22%3A%22vscode-notebook-cell%22%2C%22fragment%22%3A%22X31sZmlsZQ%3D%3D%22%7D%2C%7B%22line%22%3A3%2C%22character%22%3A6%7D%5D \"/Users/teslim/Library/CloudStorage/OneDrive-TeslimUthmanAdeyanju/TeSlim_Data_Scientist/03_Python/Teslim_python_study_note/Teslim_Python_Bootcamp/06-Object Oriented Programing/5-Python Destructors.ipynb\") object created in the [`Car`](command:_github.copilot.openSymbolFromReferences?%5B%7B%22%24mid%22%3A1%2C%22fsPath%22%3A%22%2FUsers%2Fteslim%2FLibrary%2FCloudStorage%2FOneDrive-TeslimUthmanAdeyanju%2FTeSlim_Data_Scientist%2F03_Python%2FTeslim_python_study_note%2FTeslim_Python_Bootcamp%2F06-Object%20Oriented%20Programing%2F5-Python%20Destructors.ipynb%22%2C%22path%22%3A%22%2FUsers%2Fteslim%2FLibrary%2FCloudStorage%2FOneDrive-TeslimUthmanAdeyanju%2FTeSlim_Data_Scientist%2F03_Python%2FTeslim_python_study_note%2FTeslim_Python_Bootcamp%2F06-Object%20Oriented%20Programing%2F5-Python%20Destructors.ipynb%22%2C%22scheme%22%3A%22vscode-notebook-cell%22%2C%22fragment%22%3A%22X31sZmlsZQ%3D%3D%22%7D%2C%7B%22line%22%3A14%2C%22character%22%3A6%7D%5D \"/Users/teslim/Library/CloudStorage/OneDrive-TeslimUthmanAdeyanju/TeSlim_Data_Scientist/03_Python/Teslim_python_study_note/Teslim_Python_Bootcamp/06-Object Oriented Programing/5-Python Destructors.ipynb\") class's [`__init__`](command:_github.copilot.openSymbolFromReferences?%5B%7B%22%24mid%22%3A1%2C%22fsPath%22%3A%22%2FUsers%2Fteslim%2FLibrary%2FCloudStorage%2FOneDrive-TeslimUthmanAdeyanju%2FTeSlim_Data_Scientist%2F03_Python%2FTeslim_python_study_note%2FTeslim_Python_Bootcamp%2F06-Object%20Oriented%20Programing%2F5-Python%20Destructors.ipynb%22%2C%22path%22%3A%22%2FUsers%2Fteslim%2FLibrary%2FCloudStorage%2FOneDrive-TeslimUthmanAdeyanju%2FTeSlim_Data_Scientist%2F03_Python%2FTeslim_python_study_note%2FTeslim_Python_Bootcamp%2F06-Object%20Oriented%20Programing%2F5-Python%20Destructors.ipynb%22%2C%22scheme%22%3A%22vscode-notebook-cell%22%2C%22fragment%22%3A%22X31sZmlsZQ%3D%3D%22%7D%2C%7B%22line%22%3A4%2C%22character%22%3A8%7D%5D \"/Users/teslim/Library/CloudStorage/OneDrive-TeslimUthmanAdeyanju/TeSlim_Data_Scientist/03_Python/Teslim_python_study_note/Teslim_Python_Bootcamp/06-Object Oriented Programing/5-Python Destructors.ipynb\") method holds a reference to the [`Car`](command:_github.copilot.openSymbolFromReferences?%5B%7B%22%24mid%22%3A1%2C%22fsPath%22%3A%22%2FUsers%2Fteslim%2FLibrary%2FCloudStorage%2FOneDrive-TeslimUthmanAdeyanju%2FTeSlim_Data_Scientist%2F03_Python%2FTeslim_python_study_note%2FTeslim_Python_Bootcamp%2F06-Object%20Oriented%20Programing%2F5-Python%20Destructors.ipynb%22%2C%22path%22%3A%22%2FUsers%2Fteslim%2FLibrary%2FCloudStorage%2FOneDrive-TeslimUthmanAdeyanju%2FTeSlim_Data_Scientist%2F03_Python%2FTeslim_python_study_note%2FTeslim_Python_Bootcamp%2F06-Object%20Oriented%20Programing%2F5-Python%20Destructors.ipynb%22%2C%22scheme%22%3A%22vscode-notebook-cell%22%2C%22fragment%22%3A%22X31sZmlsZQ%3D%3D%22%7D%2C%7B%22line%22%3A14%2C%22character%22%3A6%7D%5D \"/Users/teslim/Library/CloudStorage/OneDrive-TeslimUthmanAdeyanju/TeSlim_Data_Scientist/03_Python/Teslim_python_study_note/Teslim_Python_Bootcamp/06-Object Oriented Programing/5-Python Destructors.ipynb\") object ([`self`](command:_github.copilot.openSymbolFromReferences?%5B%7B%22%24mid%22%3A1%2C%22fsPath%22%3A%22%2FUsers%2Fteslim%2FLibrary%2FCloudStorage%2FOneDrive-TeslimUthmanAdeyanju%2FTeSlim_Data_Scientist%2F03_Python%2FTeslim_python_study_note%2FTeslim_Python_Bootcamp%2F06-Object%20Oriented%20Programing%2F5-Python%20Destructors.ipynb%22%2C%22path%22%3A%22%2FUsers%2Fteslim%2FLibrary%2FCloudStorage%2FOneDrive-TeslimUthmanAdeyanju%2FTeSlim_Data_Scientist%2F03_Python%2FTeslim_python_study_note%2FTeslim_Python_Bootcamp%2F06-Object%20Oriented%20Programing%2F5-Python%20Destructors.ipynb%22%2C%22scheme%22%3A%22vscode-notebook-cell%22%2C%22fragment%22%3A%22X31sZmlsZQ%3D%3D%22%7D%2C%7B%22line%22%3A4%2C%22character%22%3A17%7D%5D \"/Users/teslim/Library/CloudStorage/OneDrive-TeslimUthmanAdeyanju/TeSlim_Data_Scientist/03_Python/Teslim_python_study_note/Teslim_Python_Bootcamp/06-Object Oriented Programing/5-Python Destructors.ipynb\")), and the [`Car`](command:_github.copilot.openSymbolFromReferences?%5B%7B%22%24mid%22%3A1%2C%22fsPath%22%3A%22%2FUsers%2Fteslim%2FLibrary%2FCloudStorage%2FOneDrive-TeslimUthmanAdeyanju%2FTeSlim_Data_Scientist%2F03_Python%2FTeslim_python_study_note%2FTeslim_Python_Bootcamp%2F06-Object%20Oriented%20Programing%2F5-Python%20Destructors.ipynb%22%2C%22path%22%3A%22%2FUsers%2Fteslim%2FLibrary%2FCloudStorage%2FOneDrive-TeslimUthmanAdeyanju%2FTeSlim_Data_Scientist%2F03_Python%2FTeslim_python_study_note%2FTeslim_Python_Bootcamp%2F06-Object%20Oriented%20Programing%2F5-Python%20Destructors.ipynb%22%2C%22scheme%22%3A%22vscode-notebook-cell%22%2C%22fragment%22%3A%22X31sZmlsZQ%3D%3D%22%7D%2C%7B%22line%22%3A14%2C%22character%22%3A6%7D%5D \"/Users/teslim/Library/CloudStorage/OneDrive-TeslimUthmanAdeyanju/TeSlim_Data_Scientist/03_Python/Teslim_python_study_note/Teslim_Python_Bootcamp/06-Object Oriented Programing/5-Python Destructors.ipynb\") object holds a reference to the [`Vehicle`](command:_github.copilot.openSymbolFromReferences?%5B%7B%22%24mid%22%3A1%2C%22fsPath%22%3A%22%2FUsers%2Fteslim%2FLibrary%2FCloudStorage%2FOneDrive-TeslimUthmanAdeyanju%2FTeSlim_Data_Scientist%2F03_Python%2FTeslim_python_study_note%2FTeslim_Python_Bootcamp%2F06-Object%20Oriented%20Programing%2F5-Python%20Destructors.ipynb%22%2C%22path%22%3A%22%2FUsers%2Fteslim%2FLibrary%2FCloudStorage%2FOneDrive-TeslimUthmanAdeyanju%2FTeSlim_Data_Scientist%2F03_Python%2FTeslim_python_study_note%2FTeslim_Python_Bootcamp%2F06-Object%20Oriented%20Programing%2F5-Python%20Destructors.ipynb%22%2C%22scheme%22%3A%22vscode-notebook-cell%22%2C%22fragment%22%3A%22X31sZmlsZQ%3D%3D%22%7D%2C%7B%22line%22%3A3%2C%22character%22%3A6%7D%5D \"/Users/teslim/Library/CloudStorage/OneDrive-TeslimUthmanAdeyanju/TeSlim_Data_Scientist/03_Python/Teslim_python_study_note/Teslim_Python_Bootcamp/06-Object Oriented Programing/5-Python Destructors.ipynb\") object ([`self.dealer`](command:_github.copilot.openSymbolFromReferences?%5B%7B%22%24mid%22%3A1%2C%22fsPath%22%3A%22%2FUsers%2Fteslim%2FLibrary%2FCloudStorage%2FOneDrive-TeslimUthmanAdeyanju%2FTeSlim_Data_Scientist%2F03_Python%2FTeslim_python_study_note%2FTeslim_Python_Bootcamp%2F06-Object%20Oriented%20Programing%2F5-Python%20Destructors.ipynb%22%2C%22path%22%3A%22%2FUsers%2Fteslim%2FLibrary%2FCloudStorage%2FOneDrive-TeslimUthmanAdeyanju%2FTeSlim_Data_Scientist%2F03_Python%2FTeslim_python_study_note%2FTeslim_Python_Bootcamp%2F06-Object%20Oriented%20Programing%2F5-Python%20Destructors.ipynb%22%2C%22scheme%22%3A%22vscode-notebook-cell%22%2C%22fragment%22%3A%22X31sZmlsZQ%3D%3D%22%7D%2C%7B%22line%22%3A4%2C%22character%22%3A17%7D%5D \"/Users/teslim/Library/CloudStorage/OneDrive-TeslimUthmanAdeyanju/TeSlim_Data_Scientist/03_Python/Teslim_python_study_note/Teslim_Python_Bootcamp/06-Object Oriented Programing/5-Python Destructors.ipynb\")). This circular reference could prevent the [`__del__`](command:_github.copilot.openSymbolFromReferences?%5B%7B%22%24mid%22%3A1%2C%22fsPath%22%3A%22%2FUsers%2Fteslim%2FLibrary%2FCloudStorage%2FOneDrive-TeslimUthmanAdeyanju%2FTeSlim_Data_Scientist%2F03_Python%2FTeslim_python_study_note%2FTeslim_Python_Bootcamp%2F06-Object%20Oriented%20Programing%2F5-Python%20Destructors.ipynb%22%2C%22path%22%3A%22%2FUsers%2Fteslim%2FLibrary%2FCloudStorage%2FOneDrive-TeslimUthmanAdeyanju%2FTeSlim_Data_Scientist%2F03_Python%2FTeslim_python_study_note%2FTeslim_Python_Bootcamp%2F06-Object%20Oriented%20Programing%2F5-Python%20Destructors.ipynb%22%2C%22scheme%22%3A%22vscode-notebook-cell%22%2C%22fragment%22%3A%22X31sZmlsZQ%3D%3D%22%7D%2C%7B%22line%22%3A10%2C%22character%22%3A8%7D%5D \"/Users/teslim/Library/CloudStorage/OneDrive-TeslimUthmanAdeyanju/TeSlim_Data_Scientist/03_Python/Teslim_python_study_note/Teslim_Python_Bootcamp/06-Object Oriented Programing/5-Python Destructors.ipynb\") method from being called when the script ends."
   ]
  },
  {
   "cell_type": "markdown",
   "metadata": {},
   "source": [
    "**Case 2:Exception occured in `__init__()` method.**\n",
    "\n"
   ]
  },
  {
   "cell_type": "markdown",
   "metadata": {},
   "source": [
    "In object-oriented programming, constructors are special methods used to create and initialize objects of a class. In Python, the `__init__` method serves as the constructor. \n",
    "\n",
    "It's responsible for setting up the initial state of an object when it's created. However, if an exception occurs during the execution of the `__init__` method, the initialization process fails. In such cases, the destructor method `__del__` might get called, even though the object was not fully created or initialized.\n",
    "\n"
   ]
  },
  {
   "cell_type": "code",
   "execution_count": 7,
   "metadata": {},
   "outputs": [
    {
     "name": "stdout",
     "output_type": "stream",
     "text": [
      "Initializing instance (inside __init__)\n",
      "Object with value 10 is being destroyed\n",
      "Initializing instance (inside __init__)\n",
      "Exception occurred: Value must be non-negative\n",
      "Object with value unknown is being destroyed\n"
     ]
    }
   ],
   "source": [
    "class MyClass:\n",
    "\n",
    "    def __init__(self, value):\n",
    "        print(\"Initializing instance (inside __init__)\")\n",
    "        if value < 0:\n",
    "            raise ValueError(\"Value must be non-negative\")\n",
    "        self.value = value\n",
    "\n",
    "    def __del__(self):\n",
    "        print(f\"Object with value {getattr(self, 'value', 'unknown')} is being destroyed\")\n",
    "\n",
    "# Attempt to create an instance with a valid value\n",
    "try:\n",
    "    obj1 = MyClass(10)\n",
    "except Exception as e:\n",
    "    print(f\"Exception occurred: {e}\")\n",
    "\n",
    "# Attempt to create an instance with an invalid value\n",
    "try:\n",
    "    obj2 = MyClass(-5)\n",
    "except Exception as e:\n",
    "    print(f\"Exception occurred: {e}\")\n"
   ]
  },
  {
   "cell_type": "markdown",
   "metadata": {},
   "source": [
    "The active selection is a Python code snippet that demonstrates the use of exception handling while creating an instance of a class named [`MyClass`](command:_github.copilot.openSymbolFromReferences?%5B%7B%22%24mid%22%3A1%2C%22fsPath%22%3A%22%2FUsers%2Fteslim%2FLibrary%2FCloudStorage%2FOneDrive-TeslimUthmanAdeyanju%2FTeSlim_Data_Scientist%2F03_Python%2FTeslim_python_study_note%2FTeslim_Python_Bootcamp%2F06-Object%20Oriented%20Programing%2F5-Python%20Destructors.ipynb%22%2C%22path%22%3A%22%2FUsers%2Fteslim%2FLibrary%2FCloudStorage%2FOneDrive-TeslimUthmanAdeyanju%2FTeSlim_Data_Scientist%2F03_Python%2FTeslim_python_study_note%2FTeslim_Python_Bootcamp%2F06-Object%20Oriented%20Programing%2F5-Python%20Destructors.ipynb%22%2C%22scheme%22%3A%22vscode-notebook-cell%22%2C%22fragment%22%3A%22X36sZmlsZQ%3D%3D%22%7D%2C%7B%22line%22%3A0%2C%22character%22%3A6%7D%5D \"/Users/teslim/Library/CloudStorage/OneDrive-TeslimUthmanAdeyanju/TeSlim_Data_Scientist/03_Python/Teslim_python_study_note/Teslim_Python_Bootcamp/06-Object Oriented Programing/5-Python Destructors.ipynb\"). \n",
    "\n",
    "The `try` block is used to wrap the code that might throw an exception. In this case, it's the creation of an instance of [`MyClass`](command:_github.copilot.openSymbolFromReferences?%5B%7B%22%24mid%22%3A1%2C%22fsPath%22%3A%22%2FUsers%2Fteslim%2FLibrary%2FCloudStorage%2FOneDrive-TeslimUthmanAdeyanju%2FTeSlim_Data_Scientist%2F03_Python%2FTeslim_python_study_note%2FTeslim_Python_Bootcamp%2F06-Object%20Oriented%20Programing%2F5-Python%20Destructors.ipynb%22%2C%22path%22%3A%22%2FUsers%2Fteslim%2FLibrary%2FCloudStorage%2FOneDrive-TeslimUthmanAdeyanju%2FTeSlim_Data_Scientist%2F03_Python%2FTeslim_python_study_note%2FTeslim_Python_Bootcamp%2F06-Object%20Oriented%20Programing%2F5-Python%20Destructors.ipynb%22%2C%22scheme%22%3A%22vscode-notebook-cell%22%2C%22fragment%22%3A%22X36sZmlsZQ%3D%3D%22%7D%2C%7B%22line%22%3A0%2C%22character%22%3A6%7D%5D \"/Users/teslim/Library/CloudStorage/OneDrive-TeslimUthmanAdeyanju/TeSlim_Data_Scientist/03_Python/Teslim_python_study_note/Teslim_Python_Bootcamp/06-Object Oriented Programing/5-Python Destructors.ipynb\") with the value `10`. \n",
    "\n"
   ]
  },
  {
   "cell_type": "code",
   "execution_count": null,
   "metadata": {},
   "outputs": [],
   "source": [
    "obj1 = MyClass(10)"
   ]
  },
  {
   "cell_type": "markdown",
   "metadata": {},
   "source": [
    "\n",
    "\n",
    "This line of code is trying to create an instance of [`MyClass`](command:_github.copilot.openSymbolFromReferences?%5B%7B%22%24mid%22%3A1%2C%22fsPath%22%3A%22%2FUsers%2Fteslim%2FLibrary%2FCloudStorage%2FOneDrive-TeslimUthmanAdeyanju%2FTeSlim_Data_Scientist%2F03_Python%2FTeslim_python_study_note%2FTeslim_Python_Bootcamp%2F06-Object%20Oriented%20Programing%2F5-Python%20Destructors.ipynb%22%2C%22path%22%3A%22%2FUsers%2Fteslim%2FLibrary%2FCloudStorage%2FOneDrive-TeslimUthmanAdeyanju%2FTeSlim_Data_Scientist%2F03_Python%2FTeslim_python_study_note%2FTeslim_Python_Bootcamp%2F06-Object%20Oriented%20Programing%2F5-Python%20Destructors.ipynb%22%2C%22scheme%22%3A%22vscode-notebook-cell%22%2C%22fragment%22%3A%22X36sZmlsZQ%3D%3D%22%7D%2C%7B%22line%22%3A0%2C%22character%22%3A6%7D%5D \"/Users/teslim/Library/CloudStorage/OneDrive-TeslimUthmanAdeyanju/TeSlim_Data_Scientist/03_Python/Teslim_python_study_note/Teslim_Python_Bootcamp/06-Object Oriented Programing/5-Python Destructors.ipynb\") and pass `10` as an argument to the `__init__` method of the class. If the value passed is less than `0`, the `__init__` method of [`MyClass`](command:_github.copilot.openSymbolFromReferences?%5B%7B%22%24mid%22%3A1%2C%22fsPath%22%3A%22%2FUsers%2Fteslim%2FLibrary%2FCloudStorage%2FOneDrive-TeslimUthmanAdeyanju%2FTeSlim_Data_Scientist%2F03_Python%2FTeslim_python_study_note%2FTeslim_Python_Bootcamp%2F06-Object%20Oriented%20Programing%2F5-Python%20Destructors.ipynb%22%2C%22path%22%3A%22%2FUsers%2Fteslim%2FLibrary%2FCloudStorage%2FOneDrive-TeslimUthmanAdeyanju%2FTeSlim_Data_Scientist%2F03_Python%2FTeslim_python_study_note%2FTeslim_Python_Bootcamp%2F06-Object%20Oriented%20Programing%2F5-Python%20Destructors.ipynb%22%2C%22scheme%22%3A%22vscode-notebook-cell%22%2C%22fragment%22%3A%22X36sZmlsZQ%3D%3D%22%7D%2C%7B%22line%22%3A0%2C%22character%22%3A6%7D%5D \"/Users/teslim/Library/CloudStorage/OneDrive-TeslimUthmanAdeyanju/TeSlim_Data_Scientist/03_Python/Teslim_python_study_note/Teslim_Python_Bootcamp/06-Object Oriented Programing/5-Python Destructors.ipynb\") will raise a `ValueError` exception. However, since `10` is not less than `0`, no exception is expected to be raised here.\n",
    "\n",
    "If an exception does occur during the execution of the code within the `try` block, the code within the `except` block will be executed. The [`Exception`](command:_github.copilot.openSymbolFromReferences?%5B%7B%22%24mid%22%3A1%2C%22path%22%3A%22%2FUsers%2Fteslim%2F.vscode%2Fextensions%2Fms-python.vscode-pylance-2024.5.1%2Fdist%2Ftypeshed-fallback%2Fstdlib%2Fbuiltins.pyi%22%2C%22scheme%22%3A%22file%22%7D%2C%7B%22line%22%3A1823%2C%22character%22%3A6%7D%5D \"../../../../.vscode/extensions/ms-python.vscode-pylance-2024.5.1/dist/typeshed-fallback/stdlib/builtins.pyi\") keyword is a built-in Python exception type that catches all exceptions. The [`as e`](command:_github.copilot.openSymbolFromReferences?%5B%7B%22%24mid%22%3A1%2C%22fsPath%22%3A%22%2FUsers%2Fteslim%2FLibrary%2FCloudStorage%2FOneDrive-TeslimUthmanAdeyanju%2FTeSlim_Data_Scientist%2F03_Python%2FTeslim_python_study_note%2FTeslim_Python_Bootcamp%2F06-Object%20Oriented%20Programing%2F5-Python%20Destructors.ipynb%22%2C%22external%22%3A%22vscode-notebook-cell%3A%2FUsers%2Fteslim%2FLibrary%2FCloudStorage%2FOneDrive-TeslimUthmanAdeyanju%2FTeSlim_Data_Scientist%2F03_Python%2FTeslim_python_study_note%2FTeslim_Python_Bootcamp%2F06-Object%2520Oriented%2520Programing%2F5-Python%2520Destructors.ipynb%23X36sZmlsZQ%253D%253D%22%2C%22path%22%3A%22%2FUsers%2Fteslim%2FLibrary%2FCloudStorage%2FOneDrive-TeslimUthmanAdeyanju%2FTeSlim_Data_Scientist%2F03_Python%2FTeslim_python_study_note%2FTeslim_Python_Bootcamp%2F06-Object%20Oriented%20Programing%2F5-Python%20Destructors.ipynb%22%2C%22scheme%22%3A%22vscode-notebook-cell%22%2C%22fragment%22%3A%22X36sZmlsZQ%3D%3D%22%7D%2C%7B%22line%22%3A14%2C%22character%22%3A20%7D%5D \"/Users/teslim/Library/CloudStorage/OneDrive-TeslimUthmanAdeyanju/TeSlim_Data_Scientist/03_Python/Teslim_python_study_note/Teslim_Python_Bootcamp/06-Object Oriented Programing/5-Python Destructors.ipynb\") part assigns the exception object to the variable [`e`](command:_github.copilot.openSymbolFromReferences?%5B%7B%22%24mid%22%3A1%2C%22fsPath%22%3A%22%2FUsers%2Fteslim%2FLibrary%2FCloudStorage%2FOneDrive-TeslimUthmanAdeyanju%2FTeSlim_Data_Scientist%2F03_Python%2FTeslim_python_study_note%2FTeslim_Python_Bootcamp%2F06-Object%20Oriented%20Programing%2F5-Python%20Destructors.ipynb%22%2C%22external%22%3A%22vscode-notebook-cell%3A%2FUsers%2Fteslim%2FLibrary%2FCloudStorage%2FOneDrive-TeslimUthmanAdeyanju%2FTeSlim_Data_Scientist%2F03_Python%2FTeslim_python_study_note%2FTeslim_Python_Bootcamp%2F06-Object%2520Oriented%2520Programing%2F5-Python%2520Destructors.ipynb%23X36sZmlsZQ%253D%253D%22%2C%22path%22%3A%22%2FUsers%2Fteslim%2FLibrary%2FCloudStorage%2FOneDrive-TeslimUthmanAdeyanju%2FTeSlim_Data_Scientist%2F03_Python%2FTeslim_python_study_note%2FTeslim_Python_Bootcamp%2F06-Object%20Oriented%20Programing%2F5-Python%20Destructors.ipynb%22%2C%22scheme%22%3A%22vscode-notebook-cell%22%2C%22fragment%22%3A%22X36sZmlsZQ%3D%3D%22%7D%2C%7B%22line%22%3A14%2C%22character%22%3A20%7D%5D \"/Users/teslim/Library/CloudStorage/OneDrive-TeslimUthmanAdeyanju/TeSlim_Data_Scientist/03_Python/Teslim_python_study_note/Teslim_Python_Bootcamp/06-Object Oriented Programing/5-Python Destructors.ipynb\").\n",
    "\n"
   ]
  },
  {
   "cell_type": "code",
   "execution_count": null,
   "metadata": {},
   "outputs": [],
   "source": [
    "except Exception as e:\n",
    "    print(f\"Exception occurred: {e}\")"
   ]
  },
  {
   "cell_type": "markdown",
   "metadata": {},
   "source": [
    "\n",
    "\n",
    "This block of code will print a message to the console if an exception occurs. The message will include the string \"Exception occurred: \" followed by the string representation of the exception object. This can be useful for understanding what type of exception occurred and why it was raised.\n",
    "\n",
    "In summary, this code is demonstrating how to handle exceptions that might occur when creating an instance of a class in Python. It's a good practice to handle exceptions to prevent your program from crashing unexpectedly when an error occurs.\n",
    "___"
   ]
  },
  {
   "cell_type": "markdown",
   "metadata": {},
   "source": [
    "`__init__ Method:`\n",
    "\n",
    "1. The `__init__` method initializes the instance. If value is less than 0, it raises a ValueError.\n",
    "1. When obj1 is created with a value of 10, initialization completes successfully.\n",
    "1. When obj2 is created with a value of -5, a ValueError is raised, interrupting the initialization.\n",
    "\n",
    "\n",
    "`Exception Handling`:\n",
    "\n",
    "1. When the exception is raised in the `__init__` method, the constructor fails, and the partially created object is subject to cleanup.\n",
    "1. The `__del__` method is designed to be called when an object is being destroyed. However, in this example, it doesn't get explicitly called because the object wasn't fully created.\n",
    "\n",
    "`Important Considerations`\n",
    "1. Destructors and Exceptions: Although destructors `(__del__)` may be invoked to clean up resources, they are not guaranteed to be called if an exception occurs in `__init__.` Python’s garbage collector handles the cleanup, which may not always call `__del__` especially if the object wasn't fully initialized.\n",
    "\n",
    "1. Resource Management: To ensure proper cleanup, <font color = red > it's better to use context managers (with statement) or explicitly handle resource cleanup in the exception handling block. </font >\n",
    "\n"
   ]
  },
  {
   "cell_type": "markdown",
   "metadata": {},
   "source": [
    "#### Using Context Managers for Cleanup\n",
    "___"
   ]
  },
  {
   "cell_type": "markdown",
   "metadata": {},
   "source": [
    "To ensure deterministic cleanup of resources, using context managers is a best practice:\n"
   ]
  },
  {
   "cell_type": "code",
   "execution_count": 8,
   "metadata": {},
   "outputs": [
    {
     "name": "stdout",
     "output_type": "stream",
     "text": [
      "Acquiring resource\n",
      "Initializing instance\n",
      "Exception occurred: Value must be non-negative\n",
      "Releasing resource\n"
     ]
    }
   ],
   "source": [
    "class Resource:\n",
    "    def __init__(self):\n",
    "        print(\"Acquiring resource\")\n",
    "    \n",
    "    def __del__(self):\n",
    "        print(\"Releasing resource\")\n",
    "\n",
    "class MyClass:\n",
    "    def __init__(self, value):\n",
    "        self.resource = Resource()\n",
    "        print(\"Initializing instance\")\n",
    "        if value < 0:\n",
    "            raise ValueError(\"Value must be non-negative\")\n",
    "        self.value = value\n",
    "\n",
    "# Example usage with exception handling\n",
    "try:\n",
    "    obj = MyClass(-5)\n",
    "except Exception as e:\n",
    "    print(f\"Exception occurred: {e}\")\n",
    "\n",
    "# Output:\n",
    "# Acquiring resource\n",
    "# Initializing instance\n",
    "# Exception occurred: Value must be non-negative\n",
    "# Releasing resource\n"
   ]
  }
 ],
 "metadata": {
  "kernelspec": {
   "display_name": "teslim_env",
   "language": "python",
   "name": "python3"
  },
  "language_info": {
   "codemirror_mode": {
    "name": "ipython",
    "version": 3
   },
   "file_extension": ".py",
   "mimetype": "text/x-python",
   "name": "python",
   "nbconvert_exporter": "python",
   "pygments_lexer": "ipython3",
   "version": "3.11.5"
  }
 },
 "nbformat": 4,
 "nbformat_minor": 2
}
