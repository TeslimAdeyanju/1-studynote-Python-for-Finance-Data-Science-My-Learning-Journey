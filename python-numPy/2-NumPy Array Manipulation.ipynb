{
 "cells": [
  {
   "cell_type": "markdown",
   "metadata": {},
   "source": [
    "# Numpy Array Manipulation"
   ]
  },
  {
   "cell_type": "markdown",
   "metadata": {},
   "source": [
    "Numpy Array Manipulation is a very important concept in Python programming. It is used to change the shape of an array, to add or remove dimensions, and to split or combine arrays. In this notebook, we will discuss some of the most commonly used array manipulation functions in Numpy."
   ]
  },
  {
   "cell_type": "markdown",
   "metadata": {},
   "source": [
    "### 1.0 NumPy copy and view of Arrays\n",
    "____"
   ]
  },
  {
   "cell_type": "markdown",
   "metadata": {},
   "source": [
    "In NumPy, understanding the difference between a copy and a view is crucial because it affects memory usage and performance. Here's a detailed explanation with examples to illustrate the concepts:\n",
    "\n",
    "**Copy**:  \n",
    "\n",
    "1. A copy is a new array that is created by copying the content of the original array to a new memory location. Any changes made to the copy will not affect the original array, and vice versa.\n",
    "2. A copy of an array means creating a new array that has its own separate memory allocation. Modifying the copy does not affect the original array and vice versa.\n",
    "3. A copy is created using the `copy()` method, and it is also known as a deep copy.\n",
    "\n",
    "The syntax for creating a copy of an array is:\n",
    "```python\n",
    "new_array = np.copy(original_array)\n",
    "```"
   ]
  },
  {
   "cell_type": "code",
   "execution_count": 2,
   "metadata": {},
   "outputs": [
    {
     "name": "stdout",
     "output_type": "stream",
     "text": [
      "Original array: [10  2  3  4  5]\n",
      "Modified copy: [1 2 3 4 5]\n"
     ]
    }
   ],
   "source": [
    "# Example of copy \n",
    "\n",
    "import numpy as np\n",
    "\n",
    "# Original array\n",
    "original_array = np.array([1, 2, 3, 4, 5])\n",
    "\n",
    "# Create a copy of the array\n",
    "new_array = np.copy(original_array)\n",
    "\n",
    "# Modify the copy\n",
    "original_array[0] = 10\n",
    "\n",
    "print(\"Original array:\", original_array)  # Output: [1, 2, 3, 4, 5]\n",
    "print(\"Modified copy:\", new_array)   # Output: [10, 2, 3, 4, 5]\n"
   ]
  },
  {
   "cell_type": "markdown",
   "metadata": {},
   "source": [
    "**View**:  \n",
    "\n",
    "1. A view is an array that shares the same memory location as the original array. Any changes made to the view will affect the original array, and vice versa. \n",
    "2. A view of an array means creating a new array object that looks at the same data in memory as the original array. Modifying the view will affect the original array and vice versa.\n",
    "3. A view is created using the `view()` method, and it is also known as a shallow copy.\n",
    "\n",
    "The syntax for creating a view of an array is:\n",
    "```python\n",
    "new_array = original_array.view()\n",
    "```"
   ]
  },
  {
   "cell_type": "code",
   "execution_count": 2,
   "metadata": {},
   "outputs": [
    {
     "name": "stdout",
     "output_type": "stream",
     "text": [
      "Original array: [99  2  3  4  5]\n",
      "Modified view: [99  2  3  4  5]\n"
     ]
    }
   ],
   "source": [
    "import numpy as np\n",
    "\n",
    "# Original array\n",
    "info = np.array([1, 2, 3, 4, 5])\n",
    "\n",
    "# Create a view of the array\n",
    "b = info.view()\n",
    "\n",
    "# Modify the view\n",
    "b[0] = 99\n",
    "\n",
    "print(\"Original array:\", info)  # Output: [10, 2, 3, 4, 5]\n",
    "print(\"Modified view:\", b)   # Output: [10, 2, 3, 4, 5]\n"
   ]
  },
  {
   "cell_type": "markdown",
   "metadata": {},
   "source": [
    "**Key Differences**  \n",
    "* Memory Location:\n",
    "\n",
    "1. Copy: New memory location.\n",
    "1. View: Same memory location as the original array.\n",
    "\n",
    "* Independence:\n",
    "\n",
    "1. Copy: Changes to the copy do not affect the original array.\n",
    "1. View: Changes to the view do affect the original array."
   ]
  },
  {
   "cell_type": "markdown",
   "metadata": {},
   "source": [
    "**Assigning Array to Variable**\n",
    "____\n",
    "\n",
    "In Python, when you assign an array (or any mutable object) to a new variable, both variables point to the same memory location. This means that any changes made through one variable will be reflected in the other."
   ]
  },
  {
   "cell_type": "code",
   "execution_count": null,
   "metadata": {},
   "outputs": [],
   "source": [
    "import numpy as np\n",
    "\n",
    "# Create an original array\n",
    "a = np.array([1, 2, 3, 4, 5])\n",
    "\n",
    "# Assign the array to a new variable\n",
    "b = a\n",
    "\n",
    "# Modify the new variable\n",
    "b[0] = 100\n",
    "\n",
    "print(\"Original array:\", a)  # Output: [10, 2, 3, 4, 5]\n",
    "print(\"Assigned variable:\", b)  # Output: [10, 2, 3, 4, 5]\n"
   ]
  },
  {
   "cell_type": "markdown",
   "metadata": {},
   "source": [
    "Since b and a point to the same array, this modification is also reflected in a.\n",
    "\n",
    "**Verification**  \n",
    "\n",
    "To verify that a and b are indeed references to the same object, you can check their identities using the `id()` function:"
   ]
  },
  {
   "cell_type": "code",
   "execution_count": null,
   "metadata": {},
   "outputs": [],
   "source": [
    "print(id(a))\n",
    "print(id(b))"
   ]
  },
  {
   "cell_type": "markdown",
   "metadata": {},
   "source": [
    "Both id(a) and id(b) will return the same value, confirming that a and b reference the same object in memory.\n",
    "\n",
    "Implications  \n",
    "\n",
    "1. Efficiency: Assigning an array to another variable without copying is efficient because it does not involve duplicating the data.\n",
    "\n",
    "1. Side Effects: Any change made to the array via one variable will be reflected in all variables that reference the same array. This can lead to unintended side effects if not carefully managed.\n",
    "\n",
    "Best Practice  \n",
    "When you need a separate, independent copy of the array that does not affect the original array, you should explicitly make a copy using the .copy() method:"
   ]
  },
  {
   "cell_type": "code",
   "execution_count": null,
   "metadata": {},
   "outputs": [],
   "source": [
    "b = a.copy()\n",
    "\n",
    "b[0] = 10\n",
    "\n",
    "print(\"Original array:\", a)  # Output: [1, 2, 3, 4, 5]\n",
    "print(\"Copied array:\", b)    # Output: [10, 2, 3, 4, 5]\n"
   ]
  },
  {
   "cell_type": "markdown",
   "metadata": {},
   "source": [
    "In this example, b is an independent copy of a. Modifying b does not affect a."
   ]
  },
  {
   "cell_type": "markdown",
   "metadata": {},
   "source": [
    "**How to check if the Array is a View or a Copy?**\n",
    "___\n",
    "\n",
    "As we know, copy owns the data and view does not own the data. \n",
    "\n",
    "You can use the `base attribute` of ndarray to tell if the array is a copy or a view.  The base attribute returns None for a copy and returns the original array for a view.\n",
    "\n",
    "You can also use the base attribute to tell if the array owns the data. If the base attribute is None, the array owns the data; otherwise, it does not own the data."
   ]
  },
  {
   "cell_type": "code",
   "execution_count": null,
   "metadata": {},
   "outputs": [],
   "source": [
    "import numpy as np \n",
    "\n",
    "# creating array \n",
    "arr = np.array([2, 4, 6, 8, 10]) \n",
    "\n",
    "# creating copy of array \n",
    "c = arr.copy() \n",
    "\n",
    "# creating view of array \n",
    "v = arr.view() \n",
    "\n",
    "# printing base attribute of copy and view \n",
    "print(c.base)\n",
    "print() \n",
    "print(v.base) \n"
   ]
  },
  {
   "cell_type": "markdown",
   "metadata": {},
   "source": [
    "From the above code we can see that object ‘c’ returned None meaning it is a copy and owns the data.\n",
    "\n",
    "Object ‘v’ returns the original array meaning it is a view and does not own the data.\n",
    "\n",
    "Conclusion   \n",
    "View and copy are two different ways of working with NumPy ndarray in Python. View provides a window into existing data without duplicating it but copy creates an independent copy of the array.\n",
    "\n",
    "In this tutorial, we have covered view and copy in the NumPy array. We have also discussed the difference between copy and view. Both these methods are useful in different situations, carefully use either of them."
   ]
  },
  {
   "cell_type": "markdown",
   "metadata": {},
   "source": [
    "### 2.0 How to Copy NumPy array into another array?\n",
    "____"
   ]
  },
  {
   "cell_type": "markdown",
   "metadata": {},
   "source": [
    "Knowledge from the above indicates that there are basic 3 methods to generally copy a NumPy array into another array:\n",
    "1. Using np.copy() Function\n",
    "1. Copy Given 2-D Array to Another Array\n",
    "1. Using Assignment Operator"
   ]
  },
  {
   "cell_type": "code",
   "execution_count": null,
   "metadata": {},
   "outputs": [],
   "source": [
    "# Example using copy() function\n",
    "\n",
    "# importing Numpy package\n",
    "import numpy as np\n",
    "\n",
    "# Creating a numpy array using np.array()\n",
    "org_array = np.array([1.54, 2.99, 3.42, 4.87, 6.94,\n",
    "\t\t\t\t\t8.21, 7.65, 10.50, 77.5])\n",
    "\n",
    "print(\"Original array: \")\n",
    "\n",
    "# printing the Numpy array\n",
    "print(org_array)\n",
    "\n",
    "# Now copying the org_array to copy_array\n",
    "\n",
    "# using np.copy() function\n",
    "copy_array = np.copy(org_array)\n",
    "\n",
    "print(\"\\nCopied array: \")\n",
    "\n",
    "# printing the copied Numpy array\n",
    "print(copy_array)\n"
   ]
  },
  {
   "cell_type": "code",
   "execution_count": null,
   "metadata": {},
   "outputs": [],
   "source": [
    "# Copy Given 2-D Array to Another Array Using np.copy() Function\n",
    "\n",
    "# importing Numpy package\n",
    "import numpy as np\n",
    "\n",
    "# Creating a 2-D numpy array using np.array()\n",
    "org_array = np.array([[23, 46, 85],\n",
    "\t\t\t\t\t[43, 56, 99],\n",
    "\t\t\t\t\t[11, 34, 55]])\n",
    "\n",
    "print(\"Original array: \")\n",
    "\n",
    "# printing the Numpy array\n",
    "print(org_array)\n",
    "\n",
    "# Now copying the org_array to copy_array\n",
    "\n",
    "# using np.copy() function\n",
    "copy_array = np.copy(org_array)\n",
    "\n",
    "print(\"\\nCopied array: \")\n",
    "\n",
    "# printing the copied Numpy array\n",
    "print(copy_array)\n"
   ]
  },
  {
   "cell_type": "code",
   "execution_count": null,
   "metadata": {},
   "outputs": [],
   "source": [
    "# NumPy Array Copy Using Assignment Operator\n",
    "\n",
    "# importing Numpy package\n",
    "import numpy as np\n",
    "\n",
    "# Create a 2-D Numpy array using np.array()\n",
    "org_array = np.array([[99, 22, 33],\n",
    "\t\t\t\t\t[44, 77, 66]])\n",
    "\n",
    "# Copying org_array to copy_array\n",
    "\n",
    "# using Assignment operator\n",
    "copy_array = org_array\n",
    "\n",
    "# modifying org_array\n",
    "org_array[1, 2] = 13\n",
    "\n",
    "# checking if copy_array has remained the same\n",
    "\n",
    "# printing original array\n",
    "print('Original Array: \\n', org_array)\n",
    "\n",
    "# printing copied array\n",
    "print('\\nCopied Array: \\n', copy_array)\n"
   ]
  },
  {
   "cell_type": "markdown",
   "metadata": {},
   "source": [
    "### 3.0 Appending values at the end of an NumPy array\n",
    "____"
   ]
  },
  {
   "cell_type": "markdown",
   "metadata": {},
   "source": [
    "There is often a need to append a value to an existing NumPy array. This can be done using the \n",
    "1. `numpy.append()` \n",
    " \n",
    "2. `numpy.concatenate()`. \n",
    "\n"
   ]
  },
  {
   "cell_type": "markdown",
   "metadata": {},
   "source": [
    "#### Using numpy.append()\n",
    "___"
   ]
  },
  {
   "cell_type": "markdown",
   "metadata": {},
   "source": [
    "The `numpy.append()` function adds values to the end of an array and returns a new array. The syntax for the numpy.append() function is:\n",
    "\n",
    "```python\n",
    "numpy.append(array, values, axis=None)\n",
    "```\n",
    "\n",
    "Where:\n",
    "* array: The array to which values are appended.\n",
    "* values: The values to be appended to the array.\n",
    "* axis: The axis along which the values are appended. If not specified, the array is flattened before appending the values. While axis = 0 appends the values along the rows, axis = 1 appends the values along the columns.\n"
   ]
  },
  {
   "cell_type": "code",
   "execution_count": null,
   "metadata": {},
   "outputs": [],
   "source": [
    "#Example 1: Append a single value to a 1D array\n",
    "import numpy as np\n",
    "\n",
    "# Original array\n",
    "arr = np.array([1, 2, 3])\n",
    "\n",
    "# Append a single value\n",
    "new_arr = np.append(arr, 4)\n",
    "print(\"Original array:\\n\", arr)\n",
    "print()\n",
    "print(\"Array after appending:\\n\", new_arr)\n",
    "\n"
   ]
  },
  {
   "cell_type": "code",
   "execution_count": null,
   "metadata": {},
   "outputs": [],
   "source": [
    "# Example 2: Append multiple values to a 1D array\n",
    "\n",
    "# Append multiple values\n",
    "new_arr = np.append(arr, [4, 5, 6, 7,8,9,10])\n",
    "\n",
    "print(\"Array after appending multiple values:\\n\", new_arr)\n"
   ]
  },
  {
   "cell_type": "code",
   "execution_count": null,
   "metadata": {},
   "outputs": [],
   "source": [
    "# Example 3: Append values to a 2D array along a specified axis (Row)\n",
    "\n",
    "# Original 2D array\n",
    "arr_2d = np.array([[1, 2], [3, 4]])\n",
    "print(\"Original 2D array:\\n\", arr_2d)\n",
    "print()\n",
    "\n",
    "# Append values along axis 0 (rows)\n",
    "new_arr_2d = np.append(arr_2d, [[5, 6]], axis=0) # notice the two bracket for 5,6\n",
    "print(\"2D array after appending along axis 0:\\n\", new_arr_2d)\n",
    "\n"
   ]
  },
  {
   "cell_type": "code",
   "execution_count": null,
   "metadata": {},
   "outputs": [],
   "source": [
    "# Example 4: Append values to a 2D array along a specified axis (column)\n",
    "\n",
    "# Original 2D array\n",
    "arr_2d = np.array([[7, 9], [8, 4]])\n",
    "print(\"Original 2D array:\\n\", arr_2d)\n",
    "print()\n",
    "\n",
    "\n",
    "# Append values along axis 1 (columns)\n",
    "new_arr_2d = np.append(arr_2d, [[5], [6]], axis=1) # take note of the double square brackets, and its separation\n",
    "print(\"2D array after appending along axis 1:\\n\", new_arr_2d)\n"
   ]
  },
  {
   "cell_type": "code",
   "execution_count": null,
   "metadata": {},
   "outputs": [],
   "source": [
    "# Alternative approach \n",
    "info1 = np.array([1, 2, 3])\n",
    "info2 = np.array([4, 5, 6])\n",
    "\n",
    "\n",
    "total_info = np.append(info1, [[info2]])\n",
    "\n",
    "total_info"
   ]
  },
  {
   "cell_type": "markdown",
   "metadata": {},
   "source": [
    "#### Using numpy.concatenate()\n",
    "___"
   ]
  },
  {
   "cell_type": "markdown",
   "metadata": {},
   "source": [
    "The `numpy.concatenate` add values to the end of an array along a specified axis. The syntax for the numpy.concatenate() function is:\n",
    "\n",
    "```python\n",
    "numpy.concatenate((array, values), axis=0)\n",
    "```\n",
    "\n",
    "Where:\n",
    "* array: The array to which values are appended.\n",
    "* values: The values to be appended to the array.\n",
    "* axis: The axis along which the values are appended. If not specified, the array is flattened before appending the values. While axis = 0 appends the values along the rows, axis = 1 appends the values along the columns."
   ]
  },
  {
   "cell_type": "code",
   "execution_count": null,
   "metadata": {},
   "outputs": [],
   "source": [
    "# Example 1: Concatenate two 1D arrays\n",
    "\n",
    "# Original arrays\n",
    "arr1 = np.array([1, 2, 3])\n",
    "arr2 = np.array([4, 5, 6])\n",
    "print(\"Original arrays:\")\n",
    "print(\"Array 1:\", arr1)\n",
    "print(\"Array 2:\", arr2)\n",
    "print()\n",
    "\n",
    "# Concatenate arrays\n",
    "new_arr = np.concatenate((arr1, arr2))\n",
    "print(\"Concatenated 1D array:\", new_arr)\n"
   ]
  },
  {
   "cell_type": "code",
   "execution_count": null,
   "metadata": {},
   "outputs": [],
   "source": [
    "# Example 2: Concatenate two 2D arrays along a specified axis (Row)\n",
    "\n",
    "# Original 2D arrays\n",
    "arr1_2d = np.array([[1, 2], [3, 4]])\n",
    "arr2_2d = np.array([[5, 6]])\n",
    "\n",
    "\n",
    "# Concatenate along axis 0 (rows)\n",
    "new_arr_2d = np.concatenate((arr1_2d, arr2_2d), axis=0)\n",
    "print(\"2D array concatenated along axis 0:\\n\", new_arr_2d)\n",
    "\n"
   ]
  },
  {
   "cell_type": "code",
   "execution_count": null,
   "metadata": {},
   "outputs": [],
   "source": [
    "# Example 2: Concatenate two 2D arrays along a specified axis (column)\n",
    "\n",
    "# Original 2D arrays\n",
    "arr1_2d = np.array([[5, 6], [7, 0]])\n",
    "arr2_2d = np.array([[9, 6]])\n",
    "\n",
    "# Concatenate along axis 1 (columns)\n",
    "arr3_2d = np.array([[7], [8]])\n",
    "new_arr_2d = np.concatenate((arr1_2d, arr3_2d), axis=1)\n",
    "print(\"2D array concatenated along axis 1:\\n\", new_arr_2d)\n"
   ]
  },
  {
   "cell_type": "markdown",
   "metadata": {},
   "source": [
    "#### Different scenarios for appending values to an array\n",
    "___\n"
   ]
  },
  {
   "cell_type": "markdown",
   "metadata": {},
   "source": [
    "\n",
    "Below are the ways by which we can append values at the end of a NumPy Array in Python:\n",
    "\n",
    "1. Appending a Single Value to a 1D Array\n",
    "2. Appending Another Array at the End of a 1D Array\n",
    "3. Appending Values at the End Using Concatenation\n",
    "4. Appending with a Different Array Type\n",
    "5. Appending Using List Comprehension and numpy.concatenate\n",
    "6. Appending Values at the End of the N-Dimensional Array"
   ]
  },
  {
   "cell_type": "markdown",
   "metadata": {},
   "source": [
    "1. Appending a Single Value to a 1D Array  \n",
    "\n",
    "For a 1D array, using the axis argument is not necessary as the array is flattened by default."
   ]
  },
  {
   "cell_type": "code",
   "execution_count": null,
   "metadata": {},
   "outputs": [],
   "source": [
    "# importing the module\n",
    "import numpy as np\n",
    "\n",
    "# creating an array\n",
    "arr = np.array([1, 8, 3, 3, 5])\n",
    "print('Original Array : ', arr)\n",
    "\n",
    "# appending to the array\n",
    "arr = np.append(arr, [7])\n",
    "print('Array after appending : ', arr)\n"
   ]
  },
  {
   "cell_type": "markdown",
   "metadata": {},
   "source": [
    "2. Appending Another Array at the End of a 1D Array \n",
    " \n",
    "You can append another array at the end of a 1D array using the numpy.append() function. The axis argument is not required for 1D arrays."
   ]
  },
  {
   "cell_type": "code",
   "execution_count": null,
   "metadata": {},
   "outputs": [],
   "source": [
    "# importing the module\n",
    "import numpy as np\n",
    "\n",
    "# creating an array\n",
    "arr1 = np.array([1, 2, 3,9,0])\n",
    "print('First array is : ', arr1)\n",
    "\n",
    "# creating another array\n",
    "arr2 = np.array([4, 5, 6,9,7,8])\n",
    "print('Second array is : ', arr2)\n",
    "\n",
    "# appending arr2 to arr1\n",
    "arr = np.append(arr1, arr2)\n",
    "print('Array after appending : ', arr)\n"
   ]
  },
  {
   "cell_type": "markdown",
   "metadata": {},
   "source": [
    "3. Appending Values at the End Using Concatenation\n",
    "\n",
    "In this example, two 2D arrays, arr1 and arr2, are vertically stacked using np.concatenate() along the 0th axis, resulting in a combined 2D array."
   ]
  },
  {
   "cell_type": "code",
   "execution_count": null,
   "metadata": {},
   "outputs": [],
   "source": [
    "# importing the module\n",
    "import numpy as np\n",
    "\n",
    "arr1 = np.array([[1, 2], [3, 4]])\n",
    "arr2 = np.array([[5, 6]])\n",
    "\n",
    "combined = np.concatenate((arr1, arr2), axis=0)\n",
    "print(combined)\n"
   ]
  },
  {
   "cell_type": "markdown",
   "metadata": {},
   "source": [
    "4. Appending with a Different Array Type\n",
    "\n",
    "In this example, a 1D integer array arr and a 1D float array arr_float are appended together using np.append(), resulting in an upcasted float array as the output."
   ]
  },
  {
   "cell_type": "code",
   "execution_count": null,
   "metadata": {},
   "outputs": [],
   "source": [
    "# importing the module\n",
    "import numpy as np\n",
    "\n",
    "arr = np.array([1, 2, 3])\n",
    "arr_float = np.array([4.0, 5.0])\n",
    "\n",
    "combined = np.append(arr, arr_float)\n",
    "print(combined) # Output: [1. 2. 3. 4. 5.]\n"
   ]
  },
  {
   "cell_type": "markdown",
   "metadata": {},
   "source": [
    "5. Appending Using List Comprehension and numpy.concatenate\n",
    "\n",
    "In this example, multiple arrays, including arr and two arrays from values_to_append, are concatenated using list comprehension and np.concatenate(), producing a single combined array."
   ]
  },
  {
   "cell_type": "code",
   "execution_count": null,
   "metadata": {},
   "outputs": [],
   "source": [
    "# importing the module\n",
    "import numpy as np\n",
    "\n",
    "arr = np.array([1, 2, 3, 4, 5])\n",
    "values_to_append = [np.array([6, 7]), np.array([8, 9])]\n",
    "combined = np.concatenate([arr] + values_to_append)\n",
    "print(combined)\n"
   ]
  },
  {
   "cell_type": "markdown",
   "metadata": {},
   "source": [
    "6. Appending Values at the End of the N-Dimensional Array with reshape.\n",
    "\n",
    "Using the numpy with the reshape function, we can append values at the end of the N-Dimensional Array. This allows us to append at a specific axis with a specific shape. It is important that the dimensions of both the array matches otherwise it will give an error."
   ]
  },
  {
   "cell_type": "code",
   "execution_count": null,
   "metadata": {},
   "outputs": [],
   "source": [
    "# importing the module\n",
    "import numpy as np\n",
    "\n",
    "# Example 1\n",
    "# create an array\n",
    "arr = np.arange(1, 13).reshape(2, 6)\n",
    "print('Original Array')\n",
    "print(arr, '\\n')\n",
    "\n",
    "# create another array which is to be appended row-wise: \n",
    "col = np.arange(5, 11).reshape(1, 6)\n",
    "print('Array to be appended row wise')\n",
    "print(col, '\\n')\n",
    "\n",
    "# combiining the two above together\n",
    "arr_col = np.append(arr, col, axis=0)\n",
    "print('Array after appending the values row wise')\n",
    "print(arr_col, '\\n')\n",
    "\n",
    "# Example 2\n",
    "# create an array which is to be appended column wise\n",
    "\n",
    "row = np.array([1, 2]).reshape(2, 1)\n",
    "print('Array to be appended row wise')\n",
    "print(row, '\\n')\n",
    "\n",
    "arr_row = np.append(arr, row, axis=1)\n",
    "print('Array after appending the values row wise')\n",
    "print(arr_row)\n"
   ]
  },
  {
   "cell_type": "code",
   "execution_count": null,
   "metadata": {},
   "outputs": [],
   "source": [
    "# creating array without a shape \n",
    "arr = np.arange(1, 13)\n",
    "print(arr)"
   ]
  },
  {
   "cell_type": "code",
   "execution_count": null,
   "metadata": {},
   "outputs": [],
   "source": [
    "# create an array with a shape\n",
    "arr = np.arange(4, 16).reshape(2, 6)\n",
    "print('Original Array')\n",
    "print(arr, '\\n')\n",
    "\n",
    "\n",
    "# create another array which is to be appended column-wise\n",
    "col = np.arange(5, 11).reshape(1, 6)\n",
    "print('Array to be appended column wise')\n",
    "print(col, '\\n')\n",
    "\n",
    "# append the values column-wise\n",
    "arr_col = np.append(arr, col, axis=0)\n",
    "print('Array after appending the values column wise')\n",
    "print(arr_col, '\\n')"
   ]
  },
  {
   "cell_type": "code",
   "execution_count": null,
   "metadata": {},
   "outputs": [],
   "source": [
    "# create an array which is to be appended row wise\n",
    "\n",
    "row = np.array([88, 89]).reshape(2, 1)\n",
    "print('Array to be appended row wise')\n",
    "print(row, '\\n')\n",
    "\n",
    "arr_row = np.append(arr, row, axis=1)\n",
    "print('Array after appending the values row wise')\n",
    "print(arr_row)"
   ]
  },
  {
   "cell_type": "code",
   "execution_count": null,
   "metadata": {},
   "outputs": [],
   "source": [
    "\n",
    "# Create a 2D NumPy array\n",
    "array = np.array([[1, 2, 3],\n",
    "                  [4, 5, 6],\n",
    "                  [7, 8, 9]])\n",
    "\n",
    "print(\"Original array:\")\n",
    "print(array[:, [0, 2]])  # this select all the rows and column 0 and 2\n",
    "print()\n",
    "\n",
    "# Swap columns 0 and 2\n",
    "array[:, [0, 2]] = array[:, [2, 0]]\n",
    "\n",
    "print(\"Array after swapping columns 0 and 2:\")\n",
    "print(array)\n"
   ]
  },
  {
   "cell_type": "markdown",
   "metadata": {},
   "source": [
    "### 4.0 How to swap columns of a given NumPy array\n",
    "____"
   ]
  },
  {
   "cell_type": "markdown",
   "metadata": {},
   "source": [
    "Swapping columns in a NumPy array is a common operation that can be useful in various data manipulation tasks. This note will guide you through the process, starting from the basics and progressing to more complex examples.\n",
    "\n",
    "Basics of NumPy Arrays   \n",
    "A NumPy array is a powerful data structure for numerical computing in Python. It is similar to a list but provides more functionality and is more efficient for numerical operations.\n",
    "\n",
    "To swap columns in a NumPy array, you can use array slicing and indexing. The general approach is to use the column indices to select and reassign the columns.\n",
    "\n"
   ]
  },
  {
   "cell_type": "markdown",
   "metadata": {},
   "source": [
    "#### Simple Example: Swapping Two Columns\n",
    "___"
   ]
  },
  {
   "cell_type": "code",
   "execution_count": null,
   "metadata": {},
   "outputs": [],
   "source": [
    "# Creating a 2D NumPy array\n",
    "array = np.array([[1, 2, 3],\n",
    "                  [4, 5, 6],\n",
    "                  [7, 8, 9]])\n",
    "\n",
    "print(\"Original array:\")\n",
    "print(array)\n",
    "print()\n",
    "\n",
    "# selecting all the rows, first column, and second column. This is re-asiigned to index_array\n",
    "index_array = array[:, [0, 2]]\n",
    "print(\"Array Index and slice:\")\n",
    "print(index_array)\n",
    "print()\n",
    "\n",
    "\n",
    "# Swapping the first and the third columns\n",
    "array[:, [0, 2]] = array[:, [2, 0]]\n",
    "print(\"Array after swapping the first and the third columns:\")\n",
    "print(array)"
   ]
  },
  {
   "cell_type": "markdown",
   "metadata": {},
   "source": [
    "The provided Python code demonstrates several operations on a 2D NumPy array, including creation, indexing, slicing, and column swapping.\n",
    "\n",
    "1. **Creating a 2D NumPy Array**:\n",
    "   ```python\n",
    "   array = np.array([[1, 2, 3],\n",
    "                     [4, 5, 6],\n",
    "                     [7, 8, 9]])\n",
    "   ```\n",
    "   This line creates a 3x3 2D NumPy array named [`array`](command:_github.copilot.openSymbolFromReferences?%5B%7B%22%24mid%22%3A1%2C%22external%22%3A%22file%3A%2F%2F%2FUsers%2Fteslim%2Fanaconda3%2Fenvs%2Fml-zoomcamp%2Flib%2Fpython3.10%2Fsite-packages%2Fnumpy%2Fcore%2Fmultiarray.pyi%22%2C%22path%22%3A%22%2FUsers%2Fteslim%2Fanaconda3%2Fenvs%2Fml-zoomcamp%2Flib%2Fpython3.10%2Fsite-packages%2Fnumpy%2Fcore%2Fmultiarray.pyi%22%2C%22scheme%22%3A%22file%22%7D%2C%7B%22line%22%3A169%2C%22character%22%3A4%7D%5D \"../../../../anaconda3/envs/ml-zoomcamp/lib/python3.10/site-packages/numpy/core/multiarray.pyi\") with the specified elements. The array is structured as three rows and three columns, with values ranging from 1 to 9.\n",
    "\n",
    "2. **Printing the Original Array**:\n",
    "   ```python\n",
    "   print(\"Original array:\")\n",
    "   print(array)\n",
    "   print()\n",
    "   ```\n",
    "   These lines print the original array to the console. The [`print()`](command:_github.copilot.openSymbolFromReferences?%5B%7B%22%24mid%22%3A1%2C%22external%22%3A%22file%3A%2F%2F%2FUsers%2Fteslim%2F.vscode%2Fextensions%2Fms-python.vscode-pylance-2024.7.1%2Fdist%2Ftypeshed-fallback%2Fstdlib%2Fbuiltins.pyi%22%2C%22path%22%3A%22%2FUsers%2Fteslim%2F.vscode%2Fextensions%2Fms-python.vscode-pylance-2024.7.1%2Fdist%2Ftypeshed-fallback%2Fstdlib%2Fbuiltins.pyi%22%2C%22scheme%22%3A%22file%22%7D%2C%7B%22line%22%3A1617%2C%22character%22%3A4%7D%5D \"../../../../.vscode/extensions/ms-python.vscode-pylance-2024.7.1/dist/typeshed-fallback/stdlib/builtins.pyi\") function is used to display the array, and an additional [`print()`](command:_github.copilot.openSymbolFromReferences?%5B%7B%22%24mid%22%3A1%2C%22external%22%3A%22file%3A%2F%2F%2FUsers%2Fteslim%2F.vscode%2Fextensions%2Fms-python.vscode-pylance-2024.7.1%2Fdist%2Ftypeshed-fallback%2Fstdlib%2Fbuiltins.pyi%22%2C%22path%22%3A%22%2FUsers%2Fteslim%2F.vscode%2Fextensions%2Fms-python.vscode-pylance-2024.7.1%2Fdist%2Ftypeshed-fallback%2Fstdlib%2Fbuiltins.pyi%22%2C%22scheme%22%3A%22file%22%7D%2C%7B%22line%22%3A1617%2C%22character%22%3A4%7D%5D \"../../../../.vscode/extensions/ms-python.vscode-pylance-2024.7.1/dist/typeshed-fallback/stdlib/builtins.pyi\") is used to add a blank line for better readability.\n",
    "\n",
    "3. **Indexing and Slicing**:\n",
    "   ```python\n",
    "   index_array = array[:, [0, 2]]\n",
    "   print(\"Array Index and slice:\")\n",
    "   print(index_array)\n",
    "   print()\n",
    "   ```\n",
    "   Here, the code selects all rows (`:`) and the first and third columns (`[0, 2]`) from the original array. This selection is assigned to a new variable [`index_array`](command:_github.copilot.openSymbolFromReferences?%5B%7B%22%24mid%22%3A1%2C%22fsPath%22%3A%22%2FUsers%2Fteslim%2FLibrary%2FCloudStorage%2FOneDrive-TeslimUthmanAdeyanju%2FThe_Data_Scientist%2Fds_3_Python_language%2FTeslim_python_study_note%2FTeslim_python_numPy%2F2-NumPy%20Array%20Manipulation.ipynb%22%2C%22path%22%3A%22%2FUsers%2Fteslim%2FLibrary%2FCloudStorage%2FOneDrive-TeslimUthmanAdeyanju%2FThe_Data_Scientist%2Fds_3_Python_language%2FTeslim_python_study_note%2FTeslim_python_numPy%2F2-NumPy%20Array%20Manipulation.ipynb%22%2C%22scheme%22%3A%22vscode-notebook-cell%22%2C%22fragment%22%3A%22Y116sZmlsZQ%3D%3D%22%7D%2C%7B%22line%22%3A10%2C%22character%22%3A0%7D%5D \"/Users/teslim/Library/CloudStorage/OneDrive-TeslimUthmanAdeyanju/The_Data_Scientist/ds_3_Python_language/Teslim_python_study_note/Teslim_python_numPy/2-NumPy Array Manipulation.ipynb\"). The resulting array, which consists of the first and third columns of the original array, is then printed to the console.\n",
    "\n",
    "4. **Swapping Columns**:\n",
    "   ```python\n",
    "   array[:, [0, 2]] = array[:, [2, 0]]\n",
    "   print(\"Array after swapping the first and the third columns:\")\n",
    "   print(array)\n",
    "   ```\n",
    "   This part of the code swaps the first and third columns of the original array. The slicing operation [`array[:, [0, 2]]`](command:_github.copilot.openSymbolFromReferences?%5B%7B%22%24mid%22%3A1%2C%22external%22%3A%22file%3A%2F%2F%2FUsers%2Fteslim%2Fanaconda3%2Fenvs%2Fml-zoomcamp%2Flib%2Fpython3.10%2Fsite-packages%2Fnumpy%2Fcore%2Fmultiarray.pyi%22%2C%22path%22%3A%22%2FUsers%2Fteslim%2Fanaconda3%2Fenvs%2Fml-zoomcamp%2Flib%2Fpython3.10%2Fsite-packages%2Fnumpy%2Fcore%2Fmultiarray.pyi%22%2C%22scheme%22%3A%22file%22%7D%2C%7B%22line%22%3A169%2C%22character%22%3A4%7D%5D \"../../../../anaconda3/envs/ml-zoomcamp/lib/python3.10/site-packages/numpy/core/multiarray.pyi\") selects all rows and the first and third columns, and the assignment [`array[:, [2, 0]]`](command:_github.copilot.openSymbolFromReferences?%5B%7B%22%24mid%22%3A1%2C%22external%22%3A%22file%3A%2F%2F%2FUsers%2Fteslim%2Fanaconda3%2Fenvs%2Fml-zoomcamp%2Flib%2Fpython3.10%2Fsite-packages%2Fnumpy%2Fcore%2Fmultiarray.pyi%22%2C%22path%22%3A%22%2FUsers%2Fteslim%2Fanaconda3%2Fenvs%2Fml-zoomcamp%2Flib%2Fpython3.10%2Fsite-packages%2Fnumpy%2Fcore%2Fmultiarray.pyi%22%2C%22scheme%22%3A%22file%22%7D%2C%7B%22line%22%3A169%2C%22character%22%3A4%7D%5D \"../../../../anaconda3/envs/ml-zoomcamp/lib/python3.10/site-packages/numpy/core/multiarray.pyi\") reassigns these columns in swapped order. The modified array is then printed to the console, showing the effect of the column swap.\n",
    "\n",
    "In summary, the code demonstrates how to create a 2D NumPy array, perform indexing and slicing to extract specific columns, and swap columns within the array. These operations are fundamental for manipulating and analyzing data stored in NumPy arrays."
   ]
  },
  {
   "cell_type": "markdown",
   "metadata": {},
   "source": [
    "#### Advanced Example: Swapping Multiple Pairs of Columns\n",
    "___"
   ]
  },
  {
   "cell_type": "code",
   "execution_count": null,
   "metadata": {},
   "outputs": [],
   "source": [
    "# Reset the array to its original state\n",
    "array = np.array([[1, 2, 3],\n",
    "                  [4, 5, 6],\n",
    "                  [7, 8, 9]])\n",
    "\n",
    "# Swapping the first and the third columns\n",
    "array[:, [0, 2]] = array[:, [2, 0]]\n",
    "\n",
    "# Swapping the second and the third columns\n",
    "array[:, [1, 2]] = array[:, [2, 1]]\n",
    "\n",
    "print(\"Array after swapping the first and the third, then the second and the third columns:\")\n",
    "print(array)\n"
   ]
  },
  {
   "cell_type": "markdown",
   "metadata": {},
   "source": [
    "The provided code snippet demonstrates how to manipulate a NumPy array by swapping its columns. Initially, the array is reset to its original state using [`np.array()`](command:_github.copilot.openSymbolFromReferences?%5B%7B%22%24mid%22%3A1%2C%22path%22%3A%22%2FUsers%2Fteslim%2Fanaconda3%2Fenvs%2Fml-zoomcamp%2Flib%2Fpython3.10%2Fsite-packages%2Fnumpy%2F__init__.py%22%2C%22scheme%22%3A%22file%22%7D%2C%7B%22line%22%3A0%2C%22character%22%3A0%7D%5D \"../../../../anaconda3/envs/ml-zoomcamp/lib/python3.10/site-packages/numpy/__init__.py\"), which creates a 3x3 matrix with values ranging from 1 to 9. This matrix is structured as follows:\n",
    "\n"
   ]
  },
  {
   "cell_type": "code",
   "execution_count": null,
   "metadata": {},
   "outputs": [],
   "source": [
    "[[1, 2, 3],\n",
    " [4, 5, 6],\n",
    " [7, 8, 9]]"
   ]
  },
  {
   "cell_type": "markdown",
   "metadata": {},
   "source": [
    "\n",
    "\n",
    "The first operation swaps the first and third columns of the array. This is achieved using NumPy's advanced indexing. The expression [`array[:, [0, 2]]`](command:_github.copilot.openSymbolFromReferences?%5B%7B%22%24mid%22%3A1%2C%22external%22%3A%22file%3A%2F%2F%2FUsers%2Fteslim%2Fanaconda3%2Fenvs%2Fml-zoomcamp%2Flib%2Fpython3.10%2Fsite-packages%2Fnumpy%2Fcore%2Fmultiarray.pyi%22%2C%22path%22%3A%22%2FUsers%2Fteslim%2Fanaconda3%2Fenvs%2Fml-zoomcamp%2Flib%2Fpython3.10%2Fsite-packages%2Fnumpy%2Fcore%2Fmultiarray.pyi%22%2C%22scheme%22%3A%22file%22%7D%2C%7B%22line%22%3A169%2C%22character%22%3A4%7D%5D \"../../../../anaconda3/envs/ml-zoomcamp/lib/python3.10/site-packages/numpy/core/multiarray.pyi\") selects all rows (`:`) and the first and third columns (`[0, 2]`). By assigning this to [`array[:, [2, 0]]`](command:_github.copilot.openSymbolFromReferences?%5B%7B%22%24mid%22%3A1%2C%22external%22%3A%22file%3A%2F%2F%2FUsers%2Fteslim%2Fanaconda3%2Fenvs%2Fml-zoomcamp%2Flib%2Fpython3.10%2Fsite-packages%2Fnumpy%2Fcore%2Fmultiarray.pyi%22%2C%22path%22%3A%22%2FUsers%2Fteslim%2Fanaconda3%2Fenvs%2Fml-zoomcamp%2Flib%2Fpython3.10%2Fsite-packages%2Fnumpy%2Fcore%2Fmultiarray.pyi%22%2C%22scheme%22%3A%22file%22%7D%2C%7B%22line%22%3A169%2C%22character%22%3A4%7D%5D \"../../../../anaconda3/envs/ml-zoomcamp/lib/python3.10/site-packages/numpy/core/multiarray.pyi\"), the values in the first and third columns are swapped. After this operation, the array looks like this:\n",
    "\n"
   ]
  },
  {
   "cell_type": "code",
   "execution_count": null,
   "metadata": {},
   "outputs": [],
   "source": [
    "[[3, 2, 1],\n",
    " [6, 5, 4],\n",
    " [9, 8, 7]]"
   ]
  },
  {
   "cell_type": "markdown",
   "metadata": {},
   "source": [
    "\n",
    "\n",
    "Next, the code swaps the second and third columns. Again, using advanced indexing, [`array[:, [1, 2]]`](command:_github.copilot.openSymbolFromReferences?%5B%7B%22%24mid%22%3A1%2C%22external%22%3A%22file%3A%2F%2F%2FUsers%2Fteslim%2Fanaconda3%2Fenvs%2Fml-zoomcamp%2Flib%2Fpython3.10%2Fsite-packages%2Fnumpy%2Fcore%2Fmultiarray.pyi%22%2C%22path%22%3A%22%2FUsers%2Fteslim%2Fanaconda3%2Fenvs%2Fml-zoomcamp%2Flib%2Fpython3.10%2Fsite-packages%2Fnumpy%2Fcore%2Fmultiarray.pyi%22%2C%22scheme%22%3A%22file%22%7D%2C%7B%22line%22%3A169%2C%22character%22%3A4%7D%5D \"../../../../anaconda3/envs/ml-zoomcamp/lib/python3.10/site-packages/numpy/core/multiarray.pyi\") selects all rows and the second and third columns. By assigning this to [`array[:, [2, 1]]`](command:_github.copilot.openSymbolFromReferences?%5B%7B%22%24mid%22%3A1%2C%22external%22%3A%22file%3A%2F%2F%2FUsers%2Fteslim%2Fanaconda3%2Fenvs%2Fml-zoomcamp%2Flib%2Fpython3.10%2Fsite-packages%2Fnumpy%2Fcore%2Fmultiarray.pyi%22%2C%22path%22%3A%22%2FUsers%2Fteslim%2Fanaconda3%2Fenvs%2Fml-zoomcamp%2Flib%2Fpython3.10%2Fsite-packages%2Fnumpy%2Fcore%2Fmultiarray.pyi%22%2C%22scheme%22%3A%22file%22%7D%2C%7B%22line%22%3A169%2C%22character%22%3A4%7D%5D \"../../../../anaconda3/envs/ml-zoomcamp/lib/python3.10/site-packages/numpy/core/multiarray.pyi\"), the values in these columns are swapped. The final state of the array is:\n",
    "\n"
   ]
  },
  {
   "cell_type": "code",
   "execution_count": null,
   "metadata": {},
   "outputs": [],
   "source": [
    "[[3, 1, 2],\n",
    " [6, 4, 5],\n",
    " [9, 7, 8]]"
   ]
  },
  {
   "cell_type": "markdown",
   "metadata": {},
   "source": [
    "\n",
    "\n",
    "Finally, the [`print`](command:_github.copilot.openSymbolFromReferences?%5B%7B%22%24mid%22%3A1%2C%22external%22%3A%22file%3A%2F%2F%2FUsers%2Fteslim%2F.vscode%2Fextensions%2Fms-python.vscode-pylance-2024.7.1%2Fdist%2Ftypeshed-fallback%2Fstdlib%2Fbuiltins.pyi%22%2C%22path%22%3A%22%2FUsers%2Fteslim%2F.vscode%2Fextensions%2Fms-python.vscode-pylance-2024.7.1%2Fdist%2Ftypeshed-fallback%2Fstdlib%2Fbuiltins.pyi%22%2C%22scheme%22%3A%22file%22%7D%2C%7B%22line%22%3A1617%2C%22character%22%3A4%7D%5D \"../../../../.vscode/extensions/ms-python.vscode-pylance-2024.7.1/dist/typeshed-fallback/stdlib/builtins.pyi\") function is used to display the modified array. The output clearly shows the result of the column swaps, providing a visual confirmation of the transformations applied to the original array."
   ]
  },
  {
   "cell_type": "markdown",
   "metadata": {},
   "source": [
    "### 5.0 Insert a new axis within a NumPy array\n",
    "___"
   ]
  },
  {
   "cell_type": "markdown",
   "metadata": {},
   "source": [
    "NumPy provides several built-in methods to increase the dimensionality of an array. Here are some common approaches for adding a new axis to a NumPy array. These methods can transform a 1D array into a 2D array, a 2D array into a 3D array, and so on. Below, we discuss the generally used methods for adding new axes:\n",
    "\n",
    "- 1D array will become 2D array  \n",
    "- 2D array will become 3D array  \n",
    "- 3D array will become 4D array  \n",
    "- 4D array will become 5D array  \n",
    "\n",
    "There are various ways to add a new axis to a NumPy array, here we are discussing some generally used methods for adding a new axis to a numpy array those are following.\n",
    "\n",
    "1. Using `numpy.newaxis()`:  This method allows you to insert a new axis at any position in an array, transforming the array into higher dimensions.\n",
    "\n",
    "2. Using `numpy.expand_dims()`: This function adds a new axis at a specific position in the array's shape, offering explicit control over where the new axis is placed.\n",
    "\n",
    "3. Simultaneously Inserting Multiple Axes: You can add more than one axis at once by using multiple np.newaxis entries or calling expand_dims() multiple times, increasing the array's dimensionality significantly.\n",
    "\n",
    "4. Using `numpy.reshape()`: While primarily for reshaping arrays, reshape() can also be used to add new axes by adjusting the array's shape to the desired dimensions.\n"
   ]
  },
  {
   "cell_type": "markdown",
   "metadata": {},
   "source": [
    "#### 5.1 Using `numpy.newaxis`\n",
    "____"
   ]
  },
  {
   "cell_type": "markdown",
   "metadata": {},
   "source": [
    "The `numpy.newaxis` is a tool in the NumPy library that allows you to increase the dimensionality of an array by adding an additional axis. When you apply `np.newaxis` to an array, it introduces a new dimension, effectively reshaping the array. \n",
    "\n",
    "This is particularly useful in situations where you need to convert a 1-dimensional array (or list) into higher dimensions, such as turning a row into a column, or preparing data to fit the input requirements of certain algorithms in machine learning.   \n",
    "\n",
    "The `np.newaxis` can be used either as column or row vector. Whatever position that the `np.newaxis` is placed, it will add a new axis at that position which is represed by `one` in the shape of the array."
   ]
  },
  {
   "cell_type": "markdown",
   "metadata": {},
   "source": [
    "##### Example 1: Converting a 1D List to a Column Array"
   ]
  },
  {
   "cell_type": "markdown",
   "metadata": {},
   "source": [
    "In this example, we have a 1D list of numbers that we want to convert into a column array. We use the `np.newaxis` object to add a new axis to the array, turning it into a column. The syntax is as follows:\n",
    "\n",
    "```python\n",
    "array_with_new_axis_column = array[:, np.newaxis]\n",
    "```\n",
    "* The shape of the array will be (n, 1) \n",
    "* The `np.newaxis` adds a new axis at the end of the array, represented by 1, and effectively converting it into a column vector.\n"
   ]
  },
  {
   "cell_type": "code",
   "execution_count": 3,
   "metadata": {},
   "outputs": [
    {
     "name": "stdout",
     "output_type": "stream",
     "text": [
      "Original 1D array:\n",
      "[1 2 3 4 5 6 7 8 9]\n",
      "Shape of original array: (9,)\n",
      "\n",
      "New array as a 2D column vector:\n",
      "[[1]\n",
      " [2]\n",
      " [3]\n",
      " [4]\n",
      " [5]\n",
      " [6]\n",
      " [7]\n",
      " [8]\n",
      " [9]]\n",
      "Shape of new array: (9, 1)\n"
     ]
    }
   ],
   "source": [
    "# Original 1D array\n",
    "array_1d = np.array([1, 2, 3, 4, 5, 6, 7, 8, 9])\n",
    "\n",
    "# Add a new axis to convert it to a 2D column vector\n",
    "array_2d_column = array_1d[:, np.newaxis]\n",
    "\n",
    "print(\"Original 1D array:\")\n",
    "print(array_1d)\n",
    "print(\"Shape of original array:\", array_1d.shape)\n",
    "print()\n",
    "\n",
    "print(\"New array as a 2D column vector:\")\n",
    "print(array_2d_column)\n",
    "print(\"Shape of new array:\", array_2d_column.shape)\n"
   ]
  },
  {
   "cell_type": "markdown",
   "metadata": {},
   "source": [
    "The provided code demonstrates how to transform a one-dimensional NumPy array into a two-dimensional column vector by adding a new axis.\n",
    "\n",
    "First, a one-dimensional NumPy array named [`array_1d`](command:_github.copilot.openSymbolFromReferences?%5B%22array_1d%22%2C%5B%7B%22uri%22%3A%7B%22%24mid%22%3A1%2C%22fsPath%22%3A%22%2FUsers%2Fteslim%2FLibrary%2FCloudStorage%2FOneDrive-TeslimUthmanAdeyanju%2FTeslim_data_science_study%2Fnote_3_python_language%2FTeslim_python_study_note%2FTeslim_python_numPy%2F2-NumPy%20Array%20Manipulation.ipynb%22%2C%22external%22%3A%22vscode-notebook-cell%3A%2FUsers%2Fteslim%2FLibrary%2FCloudStorage%2FOneDrive-TeslimUthmanAdeyanju%2FTeslim_data_science_study%2Fnote_3_python_language%2FTeslim_python_study_note%2FTeslim_python_numPy%2F2-NumPy%2520Array%2520Manipulation.ipynb%23Y134sZmlsZQ%253D%253D%22%2C%22path%22%3A%22%2FUsers%2Fteslim%2FLibrary%2FCloudStorage%2FOneDrive-TeslimUthmanAdeyanju%2FTeslim_data_science_study%2Fnote_3_python_language%2FTeslim_python_study_note%2FTeslim_python_numPy%2F2-NumPy%20Array%20Manipulation.ipynb%22%2C%22scheme%22%3A%22vscode-notebook-cell%22%2C%22fragment%22%3A%22Y134sZmlsZQ%3D%3D%22%7D%2C%22pos%22%3A%7B%22line%22%3A1%2C%22character%22%3A0%7D%7D%5D%5D \"Go to definition\") is created using the [`np.array`](command:_github.copilot.openSymbolFromReferences?%5B%22np.array%22%2C%5B%7B%22uri%22%3A%7B%22%24mid%22%3A1%2C%22fsPath%22%3A%22%2FUsers%2Fteslim%2FLibrary%2FCloudStorage%2FOneDrive-TeslimUthmanAdeyanju%2FTeslim_data_science_study%2Fnote_3_python_language%2FTeslim_python_study_note%2FTeslim_python_numPy%2F2-NumPy%20Array%20Manipulation.ipynb%22%2C%22external%22%3A%22vscode-notebook-cell%3A%2FUsers%2Fteslim%2FLibrary%2FCloudStorage%2FOneDrive-TeslimUthmanAdeyanju%2FTeslim_data_science_study%2Fnote_3_python_language%2FTeslim_python_study_note%2FTeslim_python_numPy%2F2-NumPy%2520Array%2520Manipulation.ipynb%23Y134sZmlsZQ%253D%253D%22%2C%22path%22%3A%22%2FUsers%2Fteslim%2FLibrary%2FCloudStorage%2FOneDrive-TeslimUthmanAdeyanju%2FTeslim_data_science_study%2Fnote_3_python_language%2FTeslim_python_study_note%2FTeslim_python_numPy%2F2-NumPy%20Array%20Manipulation.ipynb%22%2C%22scheme%22%3A%22vscode-notebook-cell%22%2C%22fragment%22%3A%22Y134sZmlsZQ%3D%3D%22%7D%2C%22pos%22%3A%7B%22line%22%3A1%2C%22character%22%3A11%7D%7D%5D%5D \"Go to definition\") function. This array consists of nine elements, represented by the list `[1, 2, 3, 4, 5, 6, 7, 8, 9]`. The shape of this array is `(9,)`, indicating it has 9 elements in a single dimension.\n",
    "\n",
    "Next, the code uses `numpy.newaxis` to introduce a new axis into [`array_1d`](command:_github.copilot.openSymbolFromReferences?%5B%22array_1d%22%2C%5B%7B%22uri%22%3A%7B%22%24mid%22%3A1%2C%22fsPath%22%3A%22%2FUsers%2Fteslim%2FLibrary%2FCloudStorage%2FOneDrive-TeslimUthmanAdeyanju%2FTeslim_data_science_study%2Fnote_3_python_language%2FTeslim_python_study_note%2FTeslim_python_numPy%2F2-NumPy%20Array%20Manipulation.ipynb%22%2C%22external%22%3A%22vscode-notebook-cell%3A%2FUsers%2Fteslim%2FLibrary%2FCloudStorage%2FOneDrive-TeslimUthmanAdeyanju%2FTeslim_data_science_study%2Fnote_3_python_language%2FTeslim_python_study_note%2FTeslim_python_numPy%2F2-NumPy%2520Array%2520Manipulation.ipynb%23Y134sZmlsZQ%253D%253D%22%2C%22path%22%3A%22%2FUsers%2Fteslim%2FLibrary%2FCloudStorage%2FOneDrive-TeslimUthmanAdeyanju%2FTeslim_data_science_study%2Fnote_3_python_language%2FTeslim_python_study_note%2FTeslim_python_numPy%2F2-NumPy%20Array%20Manipulation.ipynb%22%2C%22scheme%22%3A%22vscode-notebook-cell%22%2C%22fragment%22%3A%22Y134sZmlsZQ%3D%3D%22%7D%2C%22pos%22%3A%7B%22line%22%3A1%2C%22character%22%3A0%7D%7D%5D%5D \"Go to definition\"). The expression [`array_1d[:, np.newaxis]`](command:_github.copilot.openSymbolFromReferences?%5B%22array_1d%5B%3A%2C%20np.newaxis%5D%22%2C%5B%7B%22uri%22%3A%7B%22%24mid%22%3A1%2C%22fsPath%22%3A%22%2FUsers%2Fteslim%2FLibrary%2FCloudStorage%2FOneDrive-TeslimUthmanAdeyanju%2FTeslim_data_science_study%2Fnote_3_python_language%2FTeslim_python_study_note%2FTeslim_python_numPy%2F2-NumPy%20Array%20Manipulation.ipynb%22%2C%22external%22%3A%22vscode-notebook-cell%3A%2FUsers%2Fteslim%2FLibrary%2FCloudStorage%2FOneDrive-TeslimUthmanAdeyanju%2FTeslim_data_science_study%2Fnote_3_python_language%2FTeslim_python_study_note%2FTeslim_python_numPy%2F2-NumPy%2520Array%2520Manipulation.ipynb%23Y134sZmlsZQ%253D%253D%22%2C%22path%22%3A%22%2FUsers%2Fteslim%2FLibrary%2FCloudStorage%2FOneDrive-TeslimUthmanAdeyanju%2FTeslim_data_science_study%2Fnote_3_python_language%2FTeslim_python_study_note%2FTeslim_python_numPy%2F2-NumPy%20Array%20Manipulation.ipynb%22%2C%22scheme%22%3A%22vscode-notebook-cell%22%2C%22fragment%22%3A%22Y134sZmlsZQ%3D%3D%22%7D%2C%22pos%22%3A%7B%22line%22%3A1%2C%22character%22%3A0%7D%7D%5D%5D \"Go to definition\") slices the original array and adds a new axis along the second dimension. This effectively transforms the one-dimensional array into a two-dimensional column vector. The new shape of the array, [`array_2d_column`](command:_github.copilot.openSymbolFromReferences?%5B%22array_2d_column%22%2C%5B%7B%22uri%22%3A%7B%22%24mid%22%3A1%2C%22fsPath%22%3A%22%2FUsers%2Fteslim%2FLibrary%2FCloudStorage%2FOneDrive-TeslimUthmanAdeyanju%2FTeslim_data_science_study%2Fnote_3_python_language%2FTeslim_python_study_note%2FTeslim_python_numPy%2F2-NumPy%20Array%20Manipulation.ipynb%22%2C%22external%22%3A%22vscode-notebook-cell%3A%2FUsers%2Fteslim%2FLibrary%2FCloudStorage%2FOneDrive-TeslimUthmanAdeyanju%2FTeslim_data_science_study%2Fnote_3_python_language%2FTeslim_python_study_note%2FTeslim_python_numPy%2F2-NumPy%2520Array%2520Manipulation.ipynb%23Y134sZmlsZQ%253D%253D%22%2C%22path%22%3A%22%2FUsers%2Fteslim%2FLibrary%2FCloudStorage%2FOneDrive-TeslimUthmanAdeyanju%2FTeslim_data_science_study%2Fnote_3_python_language%2FTeslim_python_study_note%2FTeslim_python_numPy%2F2-NumPy%20Array%20Manipulation.ipynb%22%2C%22scheme%22%3A%22vscode-notebook-cell%22%2C%22fragment%22%3A%22Y134sZmlsZQ%3D%3D%22%7D%2C%22pos%22%3A%7B%22line%22%3A4%2C%22character%22%3A0%7D%7D%5D%5D \"Go to definition\"), is `(9, 1)`, meaning it has 9 rows and 1 column.\n",
    "\n"
   ]
  },
  {
   "cell_type": "markdown",
   "metadata": {},
   "source": [
    "##### Example 2: Converting a 1D List to a Row Array"
   ]
  },
  {
   "cell_type": "markdown",
   "metadata": {},
   "source": [
    "To convert a 1D list to a row array, use the `np.newaxis` object to add a new axis at the beginning of the array. This effectively transforms the 1D list into a 2D row array. The syntax is as follows:\n",
    "\n",
    "```python\n",
    "array_with_new_axis_row = array[np.newaxis, :]\n",
    "```\n",
    "\n",
    "* The shape of the array will be (1, n).\n",
    "* The `np.newaxis` adds a new axis at the beginning of the array, represented by 1, and effectively converting it into a row vector.\n",
    "Now, let's convert a 1D array to a 2D row vector by adding a new axis."
   ]
  },
  {
   "cell_type": "code",
   "execution_count": 4,
   "metadata": {},
   "outputs": [
    {
     "name": "stdout",
     "output_type": "stream",
     "text": [
      "New array as a 2D row vector:\n",
      "[[1 2 3 4 5 6 7 8 9]]\n",
      "Shape of new array: (1, 9)\n"
     ]
    }
   ],
   "source": [
    "# Add a new axis to convert it to a 2D row vector\n",
    "array_2d_row = array_1d[np.newaxis, :]\n",
    "\n",
    "print(\"New array as a 2D row vector:\")\n",
    "print(array_2d_row)\n",
    "print(\"Shape of new array:\", array_2d_row.shape)"
   ]
  },
  {
   "cell_type": "markdown",
   "metadata": {},
   "source": [
    "The provided code snippet demonstrates how to convert a one-dimensional NumPy array into a two-dimensional row vector by adding a new axis.\n",
    "\n",
    "First, the code uses the [`np.newaxis`](command:_github.copilot.openSymbolFromReferences?%5B%22np.newaxis%22%2C%5B%7B%22uri%22%3A%7B%22%24mid%22%3A1%2C%22fsPath%22%3A%22%2FUsers%2Fteslim%2FLibrary%2FCloudStorage%2FOneDrive-TeslimUthmanAdeyanju%2FTeslim_data_science_study%2Fnote_3_python_language%2FTeslim_python_study_note%2FTeslim_python_numPy%2F2-NumPy%20Array%20Manipulation.ipynb%22%2C%22external%22%3A%22vscode-notebook-cell%3A%2FUsers%2Fteslim%2FLibrary%2FCloudStorage%2FOneDrive-TeslimUthmanAdeyanju%2FTeslim_data_science_study%2Fnote_3_python_language%2FTeslim_python_study_note%2FTeslim_python_numPy%2F2-NumPy%2520Array%2520Manipulation.ipynb%23Y140sZmlsZQ%253D%253D%22%2C%22path%22%3A%22%2FUsers%2Fteslim%2FLibrary%2FCloudStorage%2FOneDrive-TeslimUthmanAdeyanju%2FTeslim_data_science_study%2Fnote_3_python_language%2FTeslim_python_study_note%2FTeslim_python_numPy%2F2-NumPy%20Array%20Manipulation.ipynb%22%2C%22scheme%22%3A%22vscode-notebook-cell%22%2C%22fragment%22%3A%22Y140sZmlsZQ%3D%3D%22%7D%2C%22pos%22%3A%7B%22line%22%3A1%2C%22character%22%3A24%7D%7D%5D%5D \"Go to definition\") keyword to introduce a new axis into the existing one-dimensional array, [`array_1d`](command:_github.copilot.openSymbolFromReferences?%5B%22array_1d%22%2C%5B%7B%22uri%22%3A%7B%22%24mid%22%3A1%2C%22fsPath%22%3A%22%2FUsers%2Fteslim%2FLibrary%2FCloudStorage%2FOneDrive-TeslimUthmanAdeyanju%2FTeslim_data_science_study%2Fnote_3_python_language%2FTeslim_python_study_note%2FTeslim_python_numPy%2F2-NumPy%20Array%20Manipulation.ipynb%22%2C%22external%22%3A%22vscode-notebook-cell%3A%2FUsers%2Fteslim%2FLibrary%2FCloudStorage%2FOneDrive-TeslimUthmanAdeyanju%2FTeslim_data_science_study%2Fnote_3_python_language%2FTeslim_python_study_note%2FTeslim_python_numPy%2F2-NumPy%2520Array%2520Manipulation.ipynb%23Y140sZmlsZQ%253D%253D%22%2C%22path%22%3A%22%2FUsers%2Fteslim%2FLibrary%2FCloudStorage%2FOneDrive-TeslimUthmanAdeyanju%2FTeslim_data_science_study%2Fnote_3_python_language%2FTeslim_python_study_note%2FTeslim_python_numPy%2F2-NumPy%20Array%20Manipulation.ipynb%22%2C%22scheme%22%3A%22vscode-notebook-cell%22%2C%22fragment%22%3A%22Y140sZmlsZQ%3D%3D%22%7D%2C%22pos%22%3A%7B%22line%22%3A1%2C%22character%22%3A15%7D%7D%5D%5D \"Go to definition\"). The expression [`array_1d[np.newaxis, :]`](command:_github.copilot.openSymbolFromReferences?%5B%22array_1d%5Bnp.newaxis%2C%20%3A%5D%22%2C%5B%7B%22uri%22%3A%7B%22%24mid%22%3A1%2C%22fsPath%22%3A%22%2FUsers%2Fteslim%2FLibrary%2FCloudStorage%2FOneDrive-TeslimUthmanAdeyanju%2FTeslim_data_science_study%2Fnote_3_python_language%2FTeslim_python_study_note%2FTeslim_python_numPy%2F2-NumPy%20Array%20Manipulation.ipynb%22%2C%22external%22%3A%22vscode-notebook-cell%3A%2FUsers%2Fteslim%2FLibrary%2FCloudStorage%2FOneDrive-TeslimUthmanAdeyanju%2FTeslim_data_science_study%2Fnote_3_python_language%2FTeslim_python_study_note%2FTeslim_python_numPy%2F2-NumPy%2520Array%2520Manipulation.ipynb%23Y140sZmlsZQ%253D%253D%22%2C%22path%22%3A%22%2FUsers%2Fteslim%2FLibrary%2FCloudStorage%2FOneDrive-TeslimUthmanAdeyanju%2FTeslim_data_science_study%2Fnote_3_python_language%2FTeslim_python_study_note%2FTeslim_python_numPy%2F2-NumPy%20Array%20Manipulation.ipynb%22%2C%22scheme%22%3A%22vscode-notebook-cell%22%2C%22fragment%22%3A%22Y140sZmlsZQ%3D%3D%22%7D%2C%22pos%22%3A%7B%22line%22%3A1%2C%22character%22%3A15%7D%7D%5D%5D \"Go to definition\") adds a new axis along the first dimension. This effectively transforms the one-dimensional array into a two-dimensional row vector. The new shape of the array, [`array_2d_row`](command:_github.copilot.openSymbolFromReferences?%5B%22array_2d_row%22%2C%5B%7B%22uri%22%3A%7B%22%24mid%22%3A1%2C%22fsPath%22%3A%22%2FUsers%2Fteslim%2FLibrary%2FCloudStorage%2FOneDrive-TeslimUthmanAdeyanju%2FTeslim_data_science_study%2Fnote_3_python_language%2FTeslim_python_study_note%2FTeslim_python_numPy%2F2-NumPy%20Array%20Manipulation.ipynb%22%2C%22external%22%3A%22vscode-notebook-cell%3A%2FUsers%2Fteslim%2FLibrary%2FCloudStorage%2FOneDrive-TeslimUthmanAdeyanju%2FTeslim_data_science_study%2Fnote_3_python_language%2FTeslim_python_study_note%2FTeslim_python_numPy%2F2-NumPy%2520Array%2520Manipulation.ipynb%23Y140sZmlsZQ%253D%253D%22%2C%22path%22%3A%22%2FUsers%2Fteslim%2FLibrary%2FCloudStorage%2FOneDrive-TeslimUthmanAdeyanju%2FTeslim_data_science_study%2Fnote_3_python_language%2FTeslim_python_study_note%2FTeslim_python_numPy%2F2-NumPy%20Array%20Manipulation.ipynb%22%2C%22scheme%22%3A%22vscode-notebook-cell%22%2C%22fragment%22%3A%22Y140sZmlsZQ%3D%3D%22%7D%2C%22pos%22%3A%7B%22line%22%3A1%2C%22character%22%3A0%7D%7D%5D%5D \"Go to definition\"), is `(1, 9)`, meaning it has 1 row and 9 columns.\n",
    "\n",
    "The code then prints the newly created two-dimensional row vector using the [`print`](command:_github.copilot.openSymbolFromReferences?%5B%22print%22%2C%5B%7B%22uri%22%3A%7B%22%24mid%22%3A1%2C%22external%22%3A%22file%3A%2F%2F%2FUsers%2Fteslim%2F.vscode%2Fextensions%2Fms-python.vscode-pylance-2024.8.1%2Fdist%2Ftypeshed-fallback%2Fstdlib%2Fbuiltins.pyi%22%2C%22path%22%3A%22%2FUsers%2Fteslim%2F.vscode%2Fextensions%2Fms-python.vscode-pylance-2024.8.1%2Fdist%2Ftypeshed-fallback%2Fstdlib%2Fbuiltins.pyi%22%2C%22scheme%22%3A%22file%22%7D%2C%22pos%22%3A%7B%22line%22%3A1629%2C%22character%22%3A4%7D%7D%2C%7B%22uri%22%3A%7B%22%24mid%22%3A1%2C%22fsPath%22%3A%22%2FUsers%2Fteslim%2F.vscode%2Fextensions%2Fms-python.vscode-pylance-2024.8.1%2Fdist%2Ftypeshed-fallback%2Fstdlib%2Fbuiltins.pyi%22%2C%22external%22%3A%22file%3A%2F%2F%2FUsers%2Fteslim%2F.vscode%2Fextensions%2Fms-python.vscode-pylance-2024.8.1%2Fdist%2Ftypeshed-fallback%2Fstdlib%2Fbuiltins.pyi%22%2C%22path%22%3A%22%2FUsers%2Fteslim%2F.vscode%2Fextensions%2Fms-python.vscode-pylance-2024.8.1%2Fdist%2Ftypeshed-fallback%2Fstdlib%2Fbuiltins.pyi%22%2C%22scheme%22%3A%22file%22%7D%2C%22pos%22%3A%7B%22line%22%3A1637%2C%22character%22%3A4%7D%7D%2C%7B%22uri%22%3A%7B%22%24mid%22%3A1%2C%22fsPath%22%3A%22%2FUsers%2Fteslim%2FLibrary%2FCloudStorage%2FOneDrive-TeslimUthmanAdeyanju%2FTeslim_data_science_study%2Fnote_3_python_language%2FTeslim_python_study_note%2FTeslim_python_numPy%2F2-NumPy%20Array%20Manipulation.ipynb%22%2C%22external%22%3A%22vscode-notebook-cell%3A%2FUsers%2Fteslim%2FLibrary%2FCloudStorage%2FOneDrive-TeslimUthmanAdeyanju%2FTeslim_data_science_study%2Fnote_3_python_language%2FTeslim_python_study_note%2FTeslim_python_numPy%2F2-NumPy%2520Array%2520Manipulation.ipynb%23Y140sZmlsZQ%253D%253D%22%2C%22path%22%3A%22%2FUsers%2Fteslim%2FLibrary%2FCloudStorage%2FOneDrive-TeslimUthmanAdeyanju%2FTeslim_data_science_study%2Fnote_3_python_language%2FTeslim_python_study_note%2FTeslim_python_numPy%2F2-NumPy%20Array%20Manipulation.ipynb%22%2C%22scheme%22%3A%22vscode-notebook-cell%22%2C%22fragment%22%3A%22Y140sZmlsZQ%3D%3D%22%7D%2C%22pos%22%3A%7B%22line%22%3A3%2C%22character%22%3A0%7D%7D%5D%5D \"Go to definition\") function. The first [`print`](command:_github.copilot.openSymbolFromReferences?%5B%22print%22%2C%5B%7B%22uri%22%3A%7B%22%24mid%22%3A1%2C%22external%22%3A%22file%3A%2F%2F%2FUsers%2Fteslim%2F.vscode%2Fextensions%2Fms-python.vscode-pylance-2024.8.1%2Fdist%2Ftypeshed-fallback%2Fstdlib%2Fbuiltins.pyi%22%2C%22path%22%3A%22%2FUsers%2Fteslim%2F.vscode%2Fextensions%2Fms-python.vscode-pylance-2024.8.1%2Fdist%2Ftypeshed-fallback%2Fstdlib%2Fbuiltins.pyi%22%2C%22scheme%22%3A%22file%22%7D%2C%22pos%22%3A%7B%22line%22%3A1629%2C%22character%22%3A4%7D%7D%2C%7B%22uri%22%3A%7B%22%24mid%22%3A1%2C%22fsPath%22%3A%22%2FUsers%2Fteslim%2F.vscode%2Fextensions%2Fms-python.vscode-pylance-2024.8.1%2Fdist%2Ftypeshed-fallback%2Fstdlib%2Fbuiltins.pyi%22%2C%22external%22%3A%22file%3A%2F%2F%2FUsers%2Fteslim%2F.vscode%2Fextensions%2Fms-python.vscode-pylance-2024.8.1%2Fdist%2Ftypeshed-fallback%2Fstdlib%2Fbuiltins.pyi%22%2C%22path%22%3A%22%2FUsers%2Fteslim%2F.vscode%2Fextensions%2Fms-python.vscode-pylance-2024.8.1%2Fdist%2Ftypeshed-fallback%2Fstdlib%2Fbuiltins.pyi%22%2C%22scheme%22%3A%22file%22%7D%2C%22pos%22%3A%7B%22line%22%3A1637%2C%22character%22%3A4%7D%7D%2C%7B%22uri%22%3A%7B%22%24mid%22%3A1%2C%22fsPath%22%3A%22%2FUsers%2Fteslim%2FLibrary%2FCloudStorage%2FOneDrive-TeslimUthmanAdeyanju%2FTeslim_data_science_study%2Fnote_3_python_language%2FTeslim_python_study_note%2FTeslim_python_numPy%2F2-NumPy%20Array%20Manipulation.ipynb%22%2C%22external%22%3A%22vscode-notebook-cell%3A%2FUsers%2Fteslim%2FLibrary%2FCloudStorage%2FOneDrive-TeslimUthmanAdeyanju%2FTeslim_data_science_study%2Fnote_3_python_language%2FTeslim_python_study_note%2FTeslim_python_numPy%2F2-NumPy%2520Array%2520Manipulation.ipynb%23Y140sZmlsZQ%253D%253D%22%2C%22path%22%3A%22%2FUsers%2Fteslim%2FLibrary%2FCloudStorage%2FOneDrive-TeslimUthmanAdeyanju%2FTeslim_data_science_study%2Fnote_3_python_language%2FTeslim_python_study_note%2FTeslim_python_numPy%2F2-NumPy%20Array%20Manipulation.ipynb%22%2C%22scheme%22%3A%22vscode-notebook-cell%22%2C%22fragment%22%3A%22Y140sZmlsZQ%3D%3D%22%7D%2C%22pos%22%3A%7B%22line%22%3A3%2C%22character%22%3A0%7D%7D%5D%5D \"Go to definition\") statement outputs the message \"New array as a 2D row vector:\", followed by the actual contents of [`array_2d_row`](command:_github.copilot.openSymbolFromReferences?%5B%22array_2d_row%22%2C%5B%7B%22uri%22%3A%7B%22%24mid%22%3A1%2C%22fsPath%22%3A%22%2FUsers%2Fteslim%2FLibrary%2FCloudStorage%2FOneDrive-TeslimUthmanAdeyanju%2FTeslim_data_science_study%2Fnote_3_python_language%2FTeslim_python_study_note%2FTeslim_python_numPy%2F2-NumPy%20Array%20Manipulation.ipynb%22%2C%22external%22%3A%22vscode-notebook-cell%3A%2FUsers%2Fteslim%2FLibrary%2FCloudStorage%2FOneDrive-TeslimUthmanAdeyanju%2FTeslim_data_science_study%2Fnote_3_python_language%2FTeslim_python_study_note%2FTeslim_python_numPy%2F2-NumPy%2520Array%2520Manipulation.ipynb%23Y140sZmlsZQ%253D%253D%22%2C%22path%22%3A%22%2FUsers%2Fteslim%2FLibrary%2FCloudStorage%2FOneDrive-TeslimUthmanAdeyanju%2FTeslim_data_science_study%2Fnote_3_python_language%2FTeslim_python_study_note%2FTeslim_python_numPy%2F2-NumPy%20Array%20Manipulation.ipynb%22%2C%22scheme%22%3A%22vscode-notebook-cell%22%2C%22fragment%22%3A%22Y140sZmlsZQ%3D%3D%22%7D%2C%22pos%22%3A%7B%22line%22%3A1%2C%22character%22%3A0%7D%7D%5D%5D \"Go to definition\"). The second [`print`](command:_github.copilot.openSymbolFromReferences?%5B%22print%22%2C%5B%7B%22uri%22%3A%7B%22%24mid%22%3A1%2C%22external%22%3A%22file%3A%2F%2F%2FUsers%2Fteslim%2F.vscode%2Fextensions%2Fms-python.vscode-pylance-2024.8.1%2Fdist%2Ftypeshed-fallback%2Fstdlib%2Fbuiltins.pyi%22%2C%22path%22%3A%22%2FUsers%2Fteslim%2F.vscode%2Fextensions%2Fms-python.vscode-pylance-2024.8.1%2Fdist%2Ftypeshed-fallback%2Fstdlib%2Fbuiltins.pyi%22%2C%22scheme%22%3A%22file%22%7D%2C%22pos%22%3A%7B%22line%22%3A1629%2C%22character%22%3A4%7D%7D%2C%7B%22uri%22%3A%7B%22%24mid%22%3A1%2C%22fsPath%22%3A%22%2FUsers%2Fteslim%2F.vscode%2Fextensions%2Fms-python.vscode-pylance-2024.8.1%2Fdist%2Ftypeshed-fallback%2Fstdlib%2Fbuiltins.pyi%22%2C%22external%22%3A%22file%3A%2F%2F%2FUsers%2Fteslim%2F.vscode%2Fextensions%2Fms-python.vscode-pylance-2024.8.1%2Fdist%2Ftypeshed-fallback%2Fstdlib%2Fbuiltins.pyi%22%2C%22path%22%3A%22%2FUsers%2Fteslim%2F.vscode%2Fextensions%2Fms-python.vscode-pylance-2024.8.1%2Fdist%2Ftypeshed-fallback%2Fstdlib%2Fbuiltins.pyi%22%2C%22scheme%22%3A%22file%22%7D%2C%22pos%22%3A%7B%22line%22%3A1637%2C%22character%22%3A4%7D%7D%2C%7B%22uri%22%3A%7B%22%24mid%22%3A1%2C%22fsPath%22%3A%22%2FUsers%2Fteslim%2FLibrary%2FCloudStorage%2FOneDrive-TeslimUthmanAdeyanju%2FTeslim_data_science_study%2Fnote_3_python_language%2FTeslim_python_study_note%2FTeslim_python_numPy%2F2-NumPy%20Array%20Manipulation.ipynb%22%2C%22external%22%3A%22vscode-notebook-cell%3A%2FUsers%2Fteslim%2FLibrary%2FCloudStorage%2FOneDrive-TeslimUthmanAdeyanju%2FTeslim_data_science_study%2Fnote_3_python_language%2FTeslim_python_study_note%2FTeslim_python_numPy%2F2-NumPy%2520Array%2520Manipulation.ipynb%23Y140sZmlsZQ%253D%253D%22%2C%22path%22%3A%22%2FUsers%2Fteslim%2FLibrary%2FCloudStorage%2FOneDrive-TeslimUthmanAdeyanju%2FTeslim_data_science_study%2Fnote_3_python_language%2FTeslim_python_study_note%2FTeslim_python_numPy%2F2-NumPy%20Array%20Manipulation.ipynb%22%2C%22scheme%22%3A%22vscode-notebook-cell%22%2C%22fragment%22%3A%22Y140sZmlsZQ%3D%3D%22%7D%2C%22pos%22%3A%7B%22line%22%3A3%2C%22character%22%3A0%7D%7D%5D%5D \"Go to definition\") statement displays the shape of the new array, confirming the transformation by showing the shape as `(1, 9)`.\n",
    "\n",
    "This transformation is useful in various scenarios where a two-dimensional structure is required, such as in matrix operations or when interfacing with certain libraries that expect 2D inputs. By adding a new axis, the code ensures that the array conforms to the expected dimensionality without altering the original data."
   ]
  },
  {
   "cell_type": "markdown",
   "metadata": {},
   "source": [
    "##### Example 3: Converting a (Row  and Column Array) to 2 Dimensional Array"
   ]
  },
  {
   "cell_type": "markdown",
   "metadata": {},
   "source": [
    "To convert a 1D array into a 2D array with one row and one column, you can use the `np.newaxis` object to add a new axis at the beginning and end of the array. \n",
    "\n",
    "This effectively transforms the 1D array into a 2D array with one row and one column. The syntax is as follows:\n",
    "\n",
    "```python\n",
    "array_with_new_axis_both = array[np.newaxis, :, np.newaxis]\n",
    "```\n",
    "* The shape of the array will be (1, n, 1).\n",
    "* The `np.newaxis` adds a new axis at the beginning and end of the array, represented by 1, effectively converting it into a 2D array with one row and one column."
   ]
  },
  {
   "cell_type": "code",
   "execution_count": 6,
   "metadata": {},
   "outputs": [
    {
     "name": "stdout",
     "output_type": "stream",
     "text": [
      "Original 2D array:\n",
      "[[1 2 3]\n",
      " [4 5 6]]\n",
      "Shape of original array: (2, 3)\n",
      "\n",
      "New array as a 3D array:\n",
      "[[[1 2 3]]\n",
      "\n",
      " [[4 5 6]]]\n",
      "Shape of new array: (2, 1, 3)\n"
     ]
    }
   ],
   "source": [
    "# Original 2D array\n",
    "array_2d = np.array([[1, 2, 3],\n",
    "                     [4, 5, 6]])\n",
    "\n",
    "# Add a new axis to convert it to a 3D array\n",
    "array_3d = array_2d[:, np.newaxis, :]\n",
    "\n",
    "print(\"Original 2D array:\")\n",
    "print(array_2d)\n",
    "print(\"Shape of original array:\", array_2d.shape)\n",
    "print()\n",
    "\n",
    "print(\"New array as a 3D array:\")\n",
    "print(array_3d)\n",
    "print(\"Shape of new array:\", array_3d.shape)\n"
   ]
  },
  {
   "cell_type": "markdown",
   "metadata": {},
   "source": [
    "The provided code demonstrates how to manipulate a NumPy array by adding a new axis, effectively converting a 2D array into a 3D array. Initially, a 2D array named [`array_2d`](command:_github.copilot.openSymbolFromReferences?%5B%22array_2d%22%2C%5B%7B%22uri%22%3A%7B%22%24mid%22%3A1%2C%22fsPath%22%3A%22%2FUsers%2Fteslim%2FLibrary%2FCloudStorage%2FOneDrive-TeslimUthmanAdeyanju%2FTeslim_data_science_study%2Fnote_3_python_language%2FTeslim_python_study_note%2FTeslim_python_numPy%2F2-NumPy%20Array%20Manipulation.ipynb%22%2C%22external%22%3A%22vscode-notebook-cell%3A%2FUsers%2Fteslim%2FLibrary%2FCloudStorage%2FOneDrive-TeslimUthmanAdeyanju%2FTeslim_data_science_study%2Fnote_3_python_language%2FTeslim_python_study_note%2FTeslim_python_numPy%2F2-NumPy%2520Array%2520Manipulation.ipynb%23Y142sZmlsZQ%253D%253D%22%2C%22path%22%3A%22%2FUsers%2Fteslim%2FLibrary%2FCloudStorage%2FOneDrive-TeslimUthmanAdeyanju%2FTeslim_data_science_study%2Fnote_3_python_language%2FTeslim_python_study_note%2FTeslim_python_numPy%2F2-NumPy%20Array%20Manipulation.ipynb%22%2C%22scheme%22%3A%22vscode-notebook-cell%22%2C%22fragment%22%3A%22Y142sZmlsZQ%3D%3D%22%7D%2C%22pos%22%3A%7B%22line%22%3A1%2C%22character%22%3A0%7D%7D%5D%5D \"Go to definition\") is created using [`np.array()`](command:_github.copilot.openSymbolFromReferences?%5B%22np.array()%22%2C%5B%7B%22uri%22%3A%7B%22%24mid%22%3A1%2C%22fsPath%22%3A%22%2FUsers%2Fteslim%2FLibrary%2FCloudStorage%2FOneDrive-TeslimUthmanAdeyanju%2FTeslim_data_science_study%2Fnote_3_python_language%2FTeslim_python_study_note%2FTeslim_python_numPy%2F2-NumPy%20Array%20Manipulation.ipynb%22%2C%22external%22%3A%22vscode-notebook-cell%3A%2FUsers%2Fteslim%2FLibrary%2FCloudStorage%2FOneDrive-TeslimUthmanAdeyanju%2FTeslim_data_science_study%2Fnote_3_python_language%2FTeslim_python_study_note%2FTeslim_python_numPy%2F2-NumPy%2520Array%2520Manipulation.ipynb%23Y142sZmlsZQ%253D%253D%22%2C%22path%22%3A%22%2FUsers%2Fteslim%2FLibrary%2FCloudStorage%2FOneDrive-TeslimUthmanAdeyanju%2FTeslim_data_science_study%2Fnote_3_python_language%2FTeslim_python_study_note%2FTeslim_python_numPy%2F2-NumPy%20Array%20Manipulation.ipynb%22%2C%22scheme%22%3A%22vscode-notebook-cell%22%2C%22fragment%22%3A%22Y142sZmlsZQ%3D%3D%22%7D%2C%22pos%22%3A%7B%22line%22%3A1%2C%22character%22%3A11%7D%7D%5D%5D \"Go to definition\"), which contains two rows and three columns. This array is printed along with its shape, which is `(2, 3)`.\n",
    "\n",
    "Next, the code adds a new axis to [`array_2d`](command:_github.copilot.openSymbolFromReferences?%5B%22array_2d%22%2C%5B%7B%22uri%22%3A%7B%22%24mid%22%3A1%2C%22fsPath%22%3A%22%2FUsers%2Fteslim%2FLibrary%2FCloudStorage%2FOneDrive-TeslimUthmanAdeyanju%2FTeslim_data_science_study%2Fnote_3_python_language%2FTeslim_python_study_note%2FTeslim_python_numPy%2F2-NumPy%20Array%20Manipulation.ipynb%22%2C%22external%22%3A%22vscode-notebook-cell%3A%2FUsers%2Fteslim%2FLibrary%2FCloudStorage%2FOneDrive-TeslimUthmanAdeyanju%2FTeslim_data_science_study%2Fnote_3_python_language%2FTeslim_python_study_note%2FTeslim_python_numPy%2F2-NumPy%2520Array%2520Manipulation.ipynb%23Y142sZmlsZQ%253D%253D%22%2C%22path%22%3A%22%2FUsers%2Fteslim%2FLibrary%2FCloudStorage%2FOneDrive-TeslimUthmanAdeyanju%2FTeslim_data_science_study%2Fnote_3_python_language%2FTeslim_python_study_note%2FTeslim_python_numPy%2F2-NumPy%20Array%20Manipulation.ipynb%22%2C%22scheme%22%3A%22vscode-notebook-cell%22%2C%22fragment%22%3A%22Y142sZmlsZQ%3D%3D%22%7D%2C%22pos%22%3A%7B%22line%22%3A1%2C%22character%22%3A0%7D%7D%5D%5D \"Go to definition\") using [`np.newaxis`](command:_github.copilot.openSymbolFromReferences?%5B%22np.newaxis%22%2C%5B%7B%22uri%22%3A%7B%22%24mid%22%3A1%2C%22fsPath%22%3A%22%2FUsers%2Fteslim%2FLibrary%2FCloudStorage%2FOneDrive-TeslimUthmanAdeyanju%2FTeslim_data_science_study%2Fnote_3_python_language%2FTeslim_python_study_note%2FTeslim_python_numPy%2F2-NumPy%20Array%20Manipulation.ipynb%22%2C%22external%22%3A%22vscode-notebook-cell%3A%2FUsers%2Fteslim%2FLibrary%2FCloudStorage%2FOneDrive-TeslimUthmanAdeyanju%2FTeslim_data_science_study%2Fnote_3_python_language%2FTeslim_python_study_note%2FTeslim_python_numPy%2F2-NumPy%2520Array%2520Manipulation.ipynb%23Y142sZmlsZQ%253D%253D%22%2C%22path%22%3A%22%2FUsers%2Fteslim%2FLibrary%2FCloudStorage%2FOneDrive-TeslimUthmanAdeyanju%2FTeslim_data_science_study%2Fnote_3_python_language%2FTeslim_python_study_note%2FTeslim_python_numPy%2F2-NumPy%20Array%20Manipulation.ipynb%22%2C%22scheme%22%3A%22vscode-notebook-cell%22%2C%22fragment%22%3A%22Y142sZmlsZQ%3D%3D%22%7D%2C%22pos%22%3A%7B%22line%22%3A1%2C%22character%22%3A11%7D%7D%5D%5D \"Go to definition\"). This is done by indexing the array with `[:, np.newaxis, :]`, which inserts a new axis at the second position (index 1). The result is stored in [`array_3d`](command:_github.copilot.openSymbolFromReferences?%5B%22array_3d%22%2C%5B%7B%22uri%22%3A%7B%22%24mid%22%3A1%2C%22fsPath%22%3A%22%2FUsers%2Fteslim%2FLibrary%2FCloudStorage%2FOneDrive-TeslimUthmanAdeyanju%2FTeslim_data_science_study%2Fnote_3_python_language%2FTeslim_python_study_note%2FTeslim_python_numPy%2F2-NumPy%20Array%20Manipulation.ipynb%22%2C%22external%22%3A%22vscode-notebook-cell%3A%2FUsers%2Fteslim%2FLibrary%2FCloudStorage%2FOneDrive-TeslimUthmanAdeyanju%2FTeslim_data_science_study%2Fnote_3_python_language%2FTeslim_python_study_note%2FTeslim_python_numPy%2F2-NumPy%2520Array%2520Manipulation.ipynb%23Y142sZmlsZQ%253D%253D%22%2C%22path%22%3A%22%2FUsers%2Fteslim%2FLibrary%2FCloudStorage%2FOneDrive-TeslimUthmanAdeyanju%2FTeslim_data_science_study%2Fnote_3_python_language%2FTeslim_python_study_note%2FTeslim_python_numPy%2F2-NumPy%20Array%20Manipulation.ipynb%22%2C%22scheme%22%3A%22vscode-notebook-cell%22%2C%22fragment%22%3A%22Y142sZmlsZQ%3D%3D%22%7D%2C%22pos%22%3A%7B%22line%22%3A5%2C%22character%22%3A0%7D%7D%5D%5D \"Go to definition\"), transforming the original 2D array into a 3D array. The new shape of [`array_3d`](command:_github.copilot.openSymbolFromReferences?%5B%22array_3d%22%2C%5B%7B%22uri%22%3A%7B%22%24mid%22%3A1%2C%22fsPath%22%3A%22%2FUsers%2Fteslim%2FLibrary%2FCloudStorage%2FOneDrive-TeslimUthmanAdeyanju%2FTeslim_data_science_study%2Fnote_3_python_language%2FTeslim_python_study_note%2FTeslim_python_numPy%2F2-NumPy%20Array%20Manipulation.ipynb%22%2C%22external%22%3A%22vscode-notebook-cell%3A%2FUsers%2Fteslim%2FLibrary%2FCloudStorage%2FOneDrive-TeslimUthmanAdeyanju%2FTeslim_data_science_study%2Fnote_3_python_language%2FTeslim_python_study_note%2FTeslim_python_numPy%2F2-NumPy%2520Array%2520Manipulation.ipynb%23Y142sZmlsZQ%253D%253D%22%2C%22path%22%3A%22%2FUsers%2Fteslim%2FLibrary%2FCloudStorage%2FOneDrive-TeslimUthmanAdeyanju%2FTeslim_data_science_study%2Fnote_3_python_language%2FTeslim_python_study_note%2FTeslim_python_numPy%2F2-NumPy%20Array%20Manipulation.ipynb%22%2C%22scheme%22%3A%22vscode-notebook-cell%22%2C%22fragment%22%3A%22Y142sZmlsZQ%3D%3D%22%7D%2C%22pos%22%3A%7B%22line%22%3A5%2C%22character%22%3A0%7D%7D%5D%5D \"Go to definition\") is `(2, 1, 3)`, indicating that the array now has three dimensions: the first dimension has 2 elements, the second dimension has 1 element, and the third dimension has 3 elements.\n",
    "\n",
    "Finally, the code prints the new 3D array and its shape. This transformation is useful in various scenarios where higher-dimensional data structures are required, such as in machine learning or data preprocessing tasks. The use of [`np.newaxis`](command:_github.copilot.openSymbolFromReferences?%5B%22np.newaxis%22%2C%5B%7B%22uri%22%3A%7B%22%24mid%22%3A1%2C%22fsPath%22%3A%22%2FUsers%2Fteslim%2FLibrary%2FCloudStorage%2FOneDrive-TeslimUthmanAdeyanju%2FTeslim_data_science_study%2Fnote_3_python_language%2FTeslim_python_study_note%2FTeslim_python_numPy%2F2-NumPy%20Array%20Manipulation.ipynb%22%2C%22external%22%3A%22vscode-notebook-cell%3A%2FUsers%2Fteslim%2FLibrary%2FCloudStorage%2FOneDrive-TeslimUthmanAdeyanju%2FTeslim_data_science_study%2Fnote_3_python_language%2FTeslim_python_study_note%2FTeslim_python_numPy%2F2-NumPy%2520Array%2520Manipulation.ipynb%23Y142sZmlsZQ%253D%253D%22%2C%22path%22%3A%22%2FUsers%2Fteslim%2FLibrary%2FCloudStorage%2FOneDrive-TeslimUthmanAdeyanju%2FTeslim_data_science_study%2Fnote_3_python_language%2FTeslim_python_study_note%2FTeslim_python_numPy%2F2-NumPy%20Array%20Manipulation.ipynb%22%2C%22scheme%22%3A%22vscode-notebook-cell%22%2C%22fragment%22%3A%22Y142sZmlsZQ%3D%3D%22%7D%2C%22pos%22%3A%7B%22line%22%3A1%2C%22character%22%3A11%7D%7D%5D%5D \"Go to definition\") is a common technique in NumPy to alter the dimensions of arrays without changing their data."
   ]
  },
  {
   "cell_type": "markdown",
   "metadata": {},
   "source": [
    "##### Example 4: Converting a (Row  and Column Array) to 3 Dimensional Array"
   ]
  },
  {
   "cell_type": "markdown",
   "metadata": {},
   "source": [
    "To convert a 1D array into a 3D array with one row and one column, you can use the `np.newaxis` object to add a new axis at the beginning and end of the array. This effectively transforms the 1D array into a 3D array with one row and one column. The syntax is as follows:To convert a 1D array The shape of the array will be (1, n, 1, 1).):\n",
    "\n",
    "```python\n",
    "array_with_new_axis_both = array[np.newaxis, :, np.newaxis, np.newaxis]\n",
    "```\n",
    "* The shape of the array will be (1, n, 1, 1).\n",
    "* The `np.newaxis` adds a new axis at the beginning and end of the array, represented by 1, effectively converting it into a 3D array with one row and one column."
   ]
  },
  {
   "cell_type": "code",
   "execution_count": 7,
   "metadata": {},
   "outputs": [
    {
     "name": "stdout",
     "output_type": "stream",
     "text": [
      "Original 1D array:\n",
      "[1 2 3 4 5]\n",
      "Shape of original array: (5,)\n",
      "\n",
      "New array with multiple new axes:\n",
      "[[[[[1]]]\n",
      "\n",
      "\n",
      "  [[[2]]]\n",
      "\n",
      "\n",
      "  [[[3]]]\n",
      "\n",
      "\n",
      "  [[[4]]]\n",
      "\n",
      "\n",
      "  [[[5]]]]]\n",
      "Shape of new array: (1, 5, 1, 1, 1)\n"
     ]
    }
   ],
   "source": [
    "# Original 1D array\n",
    "array_1d = np.array([1, 2, 3, 4, 5])\n",
    "\n",
    "# print original array\n",
    "print(\"Original 1D array:\")\n",
    "print(array_1d)\n",
    "print(\"Shape of original array:\", array_1d.shape)\n",
    "print()\n",
    "\n",
    "# Adding multiple new axes\n",
    "array_multi_new_axis = array_1d[np.newaxis, :, np.newaxis, np.newaxis, np.newaxis]\n",
    "print(\"New array with multiple new axes:\")\n",
    "print(array_multi_new_axis)\n",
    "print(\"Shape of new array:\", array_multi_new_axis.shape)\n"
   ]
  },
  {
   "cell_type": "markdown",
   "metadata": {},
   "source": [
    "The provided code demonstrates how to manipulate the dimensions of a NumPy array by adding new axes. Initially, a one-dimensional array [`array_1d`](command:_github.copilot.openSymbolFromReferences?%5B%22array_1d%22%2C%5B%7B%22uri%22%3A%7B%22%24mid%22%3A1%2C%22fsPath%22%3A%22%2FUsers%2Fteslim%2FLibrary%2FCloudStorage%2FOneDrive-TeslimUthmanAdeyanju%2FTeslim_data_science_study%2Fnote_3_python_language%2FTeslim_python_study_note%2FTeslim_python_numPy%2F2-NumPy%20Array%20Manipulation.ipynb%22%2C%22external%22%3A%22vscode-notebook-cell%3A%2FUsers%2Fteslim%2FLibrary%2FCloudStorage%2FOneDrive-TeslimUthmanAdeyanju%2FTeslim_data_science_study%2Fnote_3_python_language%2FTeslim_python_study_note%2FTeslim_python_numPy%2F2-NumPy%2520Array%2520Manipulation.ipynb%23Y144sZmlsZQ%253D%253D%22%2C%22path%22%3A%22%2FUsers%2Fteslim%2FLibrary%2FCloudStorage%2FOneDrive-TeslimUthmanAdeyanju%2FTeslim_data_science_study%2Fnote_3_python_language%2FTeslim_python_study_note%2FTeslim_python_numPy%2F2-NumPy%20Array%20Manipulation.ipynb%22%2C%22scheme%22%3A%22vscode-notebook-cell%22%2C%22fragment%22%3A%22Y144sZmlsZQ%3D%3D%22%7D%2C%22pos%22%3A%7B%22line%22%3A1%2C%22character%22%3A0%7D%7D%5D%5D \"Go to definition\") is created using [`np.array([1, 2, 3, 4, 5])`](command:_github.copilot.openSymbolFromReferences?%5B%22np.array(%5B1%2C%202%2C%203%2C%204%2C%205%5D)%22%2C%5B%7B%22uri%22%3A%7B%22%24mid%22%3A1%2C%22fsPath%22%3A%22%2FUsers%2Fteslim%2FLibrary%2FCloudStorage%2FOneDrive-TeslimUthmanAdeyanju%2FTeslim_data_science_study%2Fnote_3_python_language%2FTeslim_python_study_note%2FTeslim_python_numPy%2F2-NumPy%20Array%20Manipulation.ipynb%22%2C%22external%22%3A%22vscode-notebook-cell%3A%2FUsers%2Fteslim%2FLibrary%2FCloudStorage%2FOneDrive-TeslimUthmanAdeyanju%2FTeslim_data_science_study%2Fnote_3_python_language%2FTeslim_python_study_note%2FTeslim_python_numPy%2F2-NumPy%2520Array%2520Manipulation.ipynb%23Y144sZmlsZQ%253D%253D%22%2C%22path%22%3A%22%2FUsers%2Fteslim%2FLibrary%2FCloudStorage%2FOneDrive-TeslimUthmanAdeyanju%2FTeslim_data_science_study%2Fnote_3_python_language%2FTeslim_python_study_note%2FTeslim_python_numPy%2F2-NumPy%20Array%20Manipulation.ipynb%22%2C%22scheme%22%3A%22vscode-notebook-cell%22%2C%22fragment%22%3A%22Y144sZmlsZQ%3D%3D%22%7D%2C%22pos%22%3A%7B%22line%22%3A1%2C%22character%22%3A11%7D%7D%5D%5D \"Go to definition\"). This array contains five elements and has a shape of `(5,)`, indicating it is a single-dimensional array with five elements.\n",
    "\n",
    "The code then prints the original array and its shape using the [`print`](command:_github.copilot.openSymbolFromReferences?%5B%22print%22%2C%5B%7B%22uri%22%3A%7B%22%24mid%22%3A1%2C%22external%22%3A%22file%3A%2F%2F%2FUsers%2Fteslim%2F.vscode%2Fextensions%2Fms-python.vscode-pylance-2024.8.1%2Fdist%2Ftypeshed-fallback%2Fstdlib%2Fbuiltins.pyi%22%2C%22path%22%3A%22%2FUsers%2Fteslim%2F.vscode%2Fextensions%2Fms-python.vscode-pylance-2024.8.1%2Fdist%2Ftypeshed-fallback%2Fstdlib%2Fbuiltins.pyi%22%2C%22scheme%22%3A%22file%22%7D%2C%22pos%22%3A%7B%22line%22%3A1629%2C%22character%22%3A4%7D%7D%2C%7B%22uri%22%3A%7B%22%24mid%22%3A1%2C%22fsPath%22%3A%22%2FUsers%2Fteslim%2F.vscode%2Fextensions%2Fms-python.vscode-pylance-2024.8.1%2Fdist%2Ftypeshed-fallback%2Fstdlib%2Fbuiltins.pyi%22%2C%22external%22%3A%22file%3A%2F%2F%2FUsers%2Fteslim%2F.vscode%2Fextensions%2Fms-python.vscode-pylance-2024.8.1%2Fdist%2Ftypeshed-fallback%2Fstdlib%2Fbuiltins.pyi%22%2C%22path%22%3A%22%2FUsers%2Fteslim%2F.vscode%2Fextensions%2Fms-python.vscode-pylance-2024.8.1%2Fdist%2Ftypeshed-fallback%2Fstdlib%2Fbuiltins.pyi%22%2C%22scheme%22%3A%22file%22%7D%2C%22pos%22%3A%7B%22line%22%3A1637%2C%22character%22%3A4%7D%7D%2C%7B%22uri%22%3A%7B%22%24mid%22%3A1%2C%22fsPath%22%3A%22%2FUsers%2Fteslim%2FLibrary%2FCloudStorage%2FOneDrive-TeslimUthmanAdeyanju%2FTeslim_data_science_study%2Fnote_3_python_language%2FTeslim_python_study_note%2FTeslim_python_numPy%2F2-NumPy%20Array%20Manipulation.ipynb%22%2C%22external%22%3A%22vscode-notebook-cell%3A%2FUsers%2Fteslim%2FLibrary%2FCloudStorage%2FOneDrive-TeslimUthmanAdeyanju%2FTeslim_data_science_study%2Fnote_3_python_language%2FTeslim_python_study_note%2FTeslim_python_numPy%2F2-NumPy%2520Array%2520Manipulation.ipynb%23Y144sZmlsZQ%253D%253D%22%2C%22path%22%3A%22%2FUsers%2Fteslim%2FLibrary%2FCloudStorage%2FOneDrive-TeslimUthmanAdeyanju%2FTeslim_data_science_study%2Fnote_3_python_language%2FTeslim_python_study_note%2FTeslim_python_numPy%2F2-NumPy%20Array%20Manipulation.ipynb%22%2C%22scheme%22%3A%22vscode-notebook-cell%22%2C%22fragment%22%3A%22Y144sZmlsZQ%3D%3D%22%7D%2C%22pos%22%3A%7B%22line%22%3A4%2C%22character%22%3A0%7D%7D%5D%5D \"Go to definition\") function. This helps to verify the initial state of the array before any manipulation is performed.\n",
    "\n",
    "Next, the code demonstrates how to add multiple new axes to the original array. This is achieved using the [`np.newaxis`](command:_github.copilot.openSymbolFromReferences?%5B%22np.newaxis%22%2C%5B%7B%22uri%22%3A%7B%22%24mid%22%3A1%2C%22fsPath%22%3A%22%2FUsers%2Fteslim%2FLibrary%2FCloudStorage%2FOneDrive-TeslimUthmanAdeyanju%2FTeslim_data_science_study%2Fnote_3_python_language%2FTeslim_python_study_note%2FTeslim_python_numPy%2F2-NumPy%20Array%20Manipulation.ipynb%22%2C%22external%22%3A%22vscode-notebook-cell%3A%2FUsers%2Fteslim%2FLibrary%2FCloudStorage%2FOneDrive-TeslimUthmanAdeyanju%2FTeslim_data_science_study%2Fnote_3_python_language%2FTeslim_python_study_note%2FTeslim_python_numPy%2F2-NumPy%2520Array%2520Manipulation.ipynb%23Y144sZmlsZQ%253D%253D%22%2C%22path%22%3A%22%2FUsers%2Fteslim%2FLibrary%2FCloudStorage%2FOneDrive-TeslimUthmanAdeyanju%2FTeslim_data_science_study%2Fnote_3_python_language%2FTeslim_python_study_note%2FTeslim_python_numPy%2F2-NumPy%20Array%20Manipulation.ipynb%22%2C%22scheme%22%3A%22vscode-notebook-cell%22%2C%22fragment%22%3A%22Y144sZmlsZQ%3D%3D%22%7D%2C%22pos%22%3A%7B%22line%22%3A1%2C%22character%22%3A11%7D%7D%5D%5D \"Go to definition\") keyword, which is used to increase the dimensions of the array. Specifically, [`array_1d[np.newaxis, :, np.newaxis, np.newaxis, np.newaxis]`](command:_github.copilot.openSymbolFromReferences?%5B%22array_1d%5Bnp.newaxis%2C%20%3A%2C%20np.newaxis%2C%20np.newaxis%2C%20np.newaxis%5D%22%2C%5B%7B%22uri%22%3A%7B%22%24mid%22%3A1%2C%22fsPath%22%3A%22%2FUsers%2Fteslim%2FLibrary%2FCloudStorage%2FOneDrive-TeslimUthmanAdeyanju%2FTeslim_data_science_study%2Fnote_3_python_language%2FTeslim_python_study_note%2FTeslim_python_numPy%2F2-NumPy%20Array%20Manipulation.ipynb%22%2C%22external%22%3A%22vscode-notebook-cell%3A%2FUsers%2Fteslim%2FLibrary%2FCloudStorage%2FOneDrive-TeslimUthmanAdeyanju%2FTeslim_data_science_study%2Fnote_3_python_language%2FTeslim_python_study_note%2FTeslim_python_numPy%2F2-NumPy%2520Array%2520Manipulation.ipynb%23Y144sZmlsZQ%253D%253D%22%2C%22path%22%3A%22%2FUsers%2Fteslim%2FLibrary%2FCloudStorage%2FOneDrive-TeslimUthmanAdeyanju%2FTeslim_data_science_study%2Fnote_3_python_language%2FTeslim_python_study_note%2FTeslim_python_numPy%2F2-NumPy%20Array%20Manipulation.ipynb%22%2C%22scheme%22%3A%22vscode-notebook-cell%22%2C%22fragment%22%3A%22Y144sZmlsZQ%3D%3D%22%7D%2C%22pos%22%3A%7B%22line%22%3A1%2C%22character%22%3A0%7D%7D%5D%5D \"Go to definition\") adds four new axes to the original array. The resulting array, [`array_multi_new_axis`](command:_github.copilot.openSymbolFromReferences?%5B%22array_multi_new_axis%22%2C%5B%7B%22uri%22%3A%7B%22%24mid%22%3A1%2C%22fsPath%22%3A%22%2FUsers%2Fteslim%2FLibrary%2FCloudStorage%2FOneDrive-TeslimUthmanAdeyanju%2FTeslim_data_science_study%2Fnote_3_python_language%2FTeslim_python_study_note%2FTeslim_python_numPy%2F2-NumPy%20Array%20Manipulation.ipynb%22%2C%22external%22%3A%22vscode-notebook-cell%3A%2FUsers%2Fteslim%2FLibrary%2FCloudStorage%2FOneDrive-TeslimUthmanAdeyanju%2FTeslim_data_science_study%2Fnote_3_python_language%2FTeslim_python_study_note%2FTeslim_python_numPy%2F2-NumPy%2520Array%2520Manipulation.ipynb%23Y144sZmlsZQ%253D%253D%22%2C%22path%22%3A%22%2FUsers%2Fteslim%2FLibrary%2FCloudStorage%2FOneDrive-TeslimUthmanAdeyanju%2FTeslim_data_science_study%2Fnote_3_python_language%2FTeslim_python_study_note%2FTeslim_python_numPy%2F2-NumPy%20Array%20Manipulation.ipynb%22%2C%22scheme%22%3A%22vscode-notebook-cell%22%2C%22fragment%22%3A%22Y144sZmlsZQ%3D%3D%22%7D%2C%22pos%22%3A%7B%22line%22%3A10%2C%22character%22%3A0%7D%7D%5D%5D \"Go to definition\"), now has a shape of `(1, 5, 1, 1, 1)`. This means the original array has been transformed into a five-dimensional array where the original elements are preserved, but additional singleton dimensions (dimensions of size 1) have been added.\n",
    "\n",
    "Finally, the code prints the new array with the added axes and its shape. This allows for verification of the transformation and provides a clear understanding of how the array's dimensions have been altered. This technique is useful in various scenarios where specific dimensional requirements are needed for operations such as broadcasting in NumPy."
   ]
  },
  {
   "cell_type": "markdown",
   "metadata": {},
   "source": [
    "##### Example 5: Another Complex Example: Converting a 2D Array to a 3D Array\n",
    "____\n",
    "\n",
    "If you have a higher-dimensional array, you can use np.newaxis to increase the number of dimensions further. This can be useful in certain applications like deep learning, where you might need to add batch or channel dimensions."
   ]
  },
  {
   "cell_type": "code",
   "execution_count": 8,
   "metadata": {},
   "outputs": [
    {
     "name": "stdout",
     "output_type": "stream",
     "text": [
      "Original 2D array:\n",
      "[[ 1  2  3  4  5  6]\n",
      " [10 11 12 13 14 15]]\n",
      "Shape of original array: (2, 6)\n",
      "\n",
      "[[[[ 1]\n",
      "   [ 2]\n",
      "   [ 3]\n",
      "   [ 4]\n",
      "   [ 5]\n",
      "   [ 6]]\n",
      "\n",
      "  [[10]\n",
      "   [11]\n",
      "   [12]\n",
      "   [13]\n",
      "   [14]\n",
      "   [15]]]]\n",
      "(1, 2, 6, 1)\n"
     ]
    }
   ],
   "source": [
    "array_2d = np.array([[1,2,3,4,5,6], [10,11,12,13,14,15]])\n",
    "\n",
    "# print original array\n",
    "print(\"Original 2D array:\")\n",
    "print(array_2d)\n",
    "print(\"Shape of original array:\", array_2d.shape)\n",
    "print()\n",
    "\n",
    "\n",
    "array_4d = array_2d[np.newaxis, :, :, np.newaxis]\n",
    "print(array_4d)\n",
    "print(array_4d.shape)\n"
   ]
  },
  {
   "cell_type": "markdown",
   "metadata": {},
   "source": [
    "The provided code snippet demonstrates the creation and manipulation of a NumPy array, specifically transforming a 2D array into a 4D array by adding new axes.\n",
    "\n",
    "First, a 2D array named [`array_2d`](command:_github.copilot.openSymbolFromReferences?%5B%22array_2d%22%2C%5B%7B%22uri%22%3A%7B%22%24mid%22%3A1%2C%22fsPath%22%3A%22%2FUsers%2Fteslim%2FLibrary%2FCloudStorage%2FOneDrive-TeslimUthmanAdeyanju%2FTeslim_data_science_study%2Fnote_3_python_language%2FTeslim_python_study_note%2FTeslim_python_numPy%2F2-NumPy%20Array%20Manipulation.ipynb%22%2C%22external%22%3A%22vscode-notebook-cell%3A%2FUsers%2Fteslim%2FLibrary%2FCloudStorage%2FOneDrive-TeslimUthmanAdeyanju%2FTeslim_data_science_study%2Fnote_3_python_language%2FTeslim_python_study_note%2FTeslim_python_numPy%2F2-NumPy%2520Array%2520Manipulation.ipynb%23Y200sZmlsZQ%253D%253D%22%2C%22path%22%3A%22%2FUsers%2Fteslim%2FLibrary%2FCloudStorage%2FOneDrive-TeslimUthmanAdeyanju%2FTeslim_data_science_study%2Fnote_3_python_language%2FTeslim_python_study_note%2FTeslim_python_numPy%2F2-NumPy%20Array%20Manipulation.ipynb%22%2C%22scheme%22%3A%22vscode-notebook-cell%22%2C%22fragment%22%3A%22Y200sZmlsZQ%3D%3D%22%7D%2C%22pos%22%3A%7B%22line%22%3A0%2C%22character%22%3A0%7D%7D%5D%5D \"Go to definition\") is created using [`np.array()`](command:_github.copilot.openSymbolFromReferences?%5B%22np.array()%22%2C%5B%7B%22uri%22%3A%7B%22%24mid%22%3A1%2C%22fsPath%22%3A%22%2FUsers%2Fteslim%2FLibrary%2FCloudStorage%2FOneDrive-TeslimUthmanAdeyanju%2FTeslim_data_science_study%2Fnote_3_python_language%2FTeslim_python_study_note%2FTeslim_python_numPy%2F2-NumPy%20Array%20Manipulation.ipynb%22%2C%22external%22%3A%22vscode-notebook-cell%3A%2FUsers%2Fteslim%2FLibrary%2FCloudStorage%2FOneDrive-TeslimUthmanAdeyanju%2FTeslim_data_science_study%2Fnote_3_python_language%2FTeslim_python_study_note%2FTeslim_python_numPy%2F2-NumPy%2520Array%2520Manipulation.ipynb%23Y200sZmlsZQ%253D%253D%22%2C%22path%22%3A%22%2FUsers%2Fteslim%2FLibrary%2FCloudStorage%2FOneDrive-TeslimUthmanAdeyanju%2FTeslim_data_science_study%2Fnote_3_python_language%2FTeslim_python_study_note%2FTeslim_python_numPy%2F2-NumPy%20Array%20Manipulation.ipynb%22%2C%22scheme%22%3A%22vscode-notebook-cell%22%2C%22fragment%22%3A%22Y200sZmlsZQ%3D%3D%22%7D%2C%22pos%22%3A%7B%22line%22%3A0%2C%22character%22%3A11%7D%7D%5D%5D \"Go to definition\"). This array contains two rows: `[1, 2, 3, 4, 5, 6]` and `[10, 11, 12, 13, 14, 15]`. The shape of this array is `(2, 6)`, indicating it has 2 rows and 6 columns.\n",
    "\n",
    "The code then prints the original 2D array along with its shape. This is done using the [`print()`](command:_github.copilot.openSymbolFromReferences?%5B%22print()%22%2C%5B%7B%22uri%22%3A%7B%22%24mid%22%3A1%2C%22external%22%3A%22file%3A%2F%2F%2FUsers%2Fteslim%2F.vscode%2Fextensions%2Fms-python.vscode-pylance-2024.8.1%2Fdist%2Ftypeshed-fallback%2Fstdlib%2Fbuiltins.pyi%22%2C%22path%22%3A%22%2FUsers%2Fteslim%2F.vscode%2Fextensions%2Fms-python.vscode-pylance-2024.8.1%2Fdist%2Ftypeshed-fallback%2Fstdlib%2Fbuiltins.pyi%22%2C%22scheme%22%3A%22file%22%7D%2C%22pos%22%3A%7B%22line%22%3A1629%2C%22character%22%3A4%7D%7D%2C%7B%22uri%22%3A%7B%22%24mid%22%3A1%2C%22fsPath%22%3A%22%2FUsers%2Fteslim%2F.vscode%2Fextensions%2Fms-python.vscode-pylance-2024.8.1%2Fdist%2Ftypeshed-fallback%2Fstdlib%2Fbuiltins.pyi%22%2C%22external%22%3A%22file%3A%2F%2F%2FUsers%2Fteslim%2F.vscode%2Fextensions%2Fms-python.vscode-pylance-2024.8.1%2Fdist%2Ftypeshed-fallback%2Fstdlib%2Fbuiltins.pyi%22%2C%22path%22%3A%22%2FUsers%2Fteslim%2F.vscode%2Fextensions%2Fms-python.vscode-pylance-2024.8.1%2Fdist%2Ftypeshed-fallback%2Fstdlib%2Fbuiltins.pyi%22%2C%22scheme%22%3A%22file%22%7D%2C%22pos%22%3A%7B%22line%22%3A1637%2C%22character%22%3A4%7D%7D%2C%7B%22uri%22%3A%7B%22%24mid%22%3A1%2C%22fsPath%22%3A%22%2FUsers%2Fteslim%2FLibrary%2FCloudStorage%2FOneDrive-TeslimUthmanAdeyanju%2FTeslim_data_science_study%2Fnote_3_python_language%2FTeslim_python_study_note%2FTeslim_python_numPy%2F2-NumPy%20Array%20Manipulation.ipynb%22%2C%22external%22%3A%22vscode-notebook-cell%3A%2FUsers%2Fteslim%2FLibrary%2FCloudStorage%2FOneDrive-TeslimUthmanAdeyanju%2FTeslim_data_science_study%2Fnote_3_python_language%2FTeslim_python_study_note%2FTeslim_python_numPy%2F2-NumPy%2520Array%2520Manipulation.ipynb%23Y200sZmlsZQ%253D%253D%22%2C%22path%22%3A%22%2FUsers%2Fteslim%2FLibrary%2FCloudStorage%2FOneDrive-TeslimUthmanAdeyanju%2FTeslim_data_science_study%2Fnote_3_python_language%2FTeslim_python_study_note%2FTeslim_python_numPy%2F2-NumPy%20Array%20Manipulation.ipynb%22%2C%22scheme%22%3A%22vscode-notebook-cell%22%2C%22fragment%22%3A%22Y200sZmlsZQ%3D%3D%22%7D%2C%22pos%22%3A%7B%22line%22%3A3%2C%22character%22%3A0%7D%7D%5D%5D \"Go to definition\") function, which outputs the array and its shape to the console. The [`print()`](command:_github.copilot.openSymbolFromReferences?%5B%22print()%22%2C%5B%7B%22uri%22%3A%7B%22%24mid%22%3A1%2C%22external%22%3A%22file%3A%2F%2F%2FUsers%2Fteslim%2F.vscode%2Fextensions%2Fms-python.vscode-pylance-2024.8.1%2Fdist%2Ftypeshed-fallback%2Fstdlib%2Fbuiltins.pyi%22%2C%22path%22%3A%22%2FUsers%2Fteslim%2F.vscode%2Fextensions%2Fms-python.vscode-pylance-2024.8.1%2Fdist%2Ftypeshed-fallback%2Fstdlib%2Fbuiltins.pyi%22%2C%22scheme%22%3A%22file%22%7D%2C%22pos%22%3A%7B%22line%22%3A1629%2C%22character%22%3A4%7D%7D%2C%7B%22uri%22%3A%7B%22%24mid%22%3A1%2C%22fsPath%22%3A%22%2FUsers%2Fteslim%2F.vscode%2Fextensions%2Fms-python.vscode-pylance-2024.8.1%2Fdist%2Ftypeshed-fallback%2Fstdlib%2Fbuiltins.pyi%22%2C%22external%22%3A%22file%3A%2F%2F%2FUsers%2Fteslim%2F.vscode%2Fextensions%2Fms-python.vscode-pylance-2024.8.1%2Fdist%2Ftypeshed-fallback%2Fstdlib%2Fbuiltins.pyi%22%2C%22path%22%3A%22%2FUsers%2Fteslim%2F.vscode%2Fextensions%2Fms-python.vscode-pylance-2024.8.1%2Fdist%2Ftypeshed-fallback%2Fstdlib%2Fbuiltins.pyi%22%2C%22scheme%22%3A%22file%22%7D%2C%22pos%22%3A%7B%22line%22%3A1637%2C%22character%22%3A4%7D%7D%2C%7B%22uri%22%3A%7B%22%24mid%22%3A1%2C%22fsPath%22%3A%22%2FUsers%2Fteslim%2FLibrary%2FCloudStorage%2FOneDrive-TeslimUthmanAdeyanju%2FTeslim_data_science_study%2Fnote_3_python_language%2FTeslim_python_study_note%2FTeslim_python_numPy%2F2-NumPy%20Array%20Manipulation.ipynb%22%2C%22external%22%3A%22vscode-notebook-cell%3A%2FUsers%2Fteslim%2FLibrary%2FCloudStorage%2FOneDrive-TeslimUthmanAdeyanju%2FTeslim_data_science_study%2Fnote_3_python_language%2FTeslim_python_study_note%2FTeslim_python_numPy%2F2-NumPy%2520Array%2520Manipulation.ipynb%23Y200sZmlsZQ%253D%253D%22%2C%22path%22%3A%22%2FUsers%2Fteslim%2FLibrary%2FCloudStorage%2FOneDrive-TeslimUthmanAdeyanju%2FTeslim_data_science_study%2Fnote_3_python_language%2FTeslim_python_study_note%2FTeslim_python_numPy%2F2-NumPy%20Array%20Manipulation.ipynb%22%2C%22scheme%22%3A%22vscode-notebook-cell%22%2C%22fragment%22%3A%22Y200sZmlsZQ%3D%3D%22%7D%2C%22pos%22%3A%7B%22line%22%3A3%2C%22character%22%3A0%7D%7D%5D%5D \"Go to definition\") function is called multiple times to format the output with appropriate labels and spacing.\n",
    "\n",
    "Next, the code transforms the 2D array into a 4D array by adding new axes. This is achieved using the indexing [`array_2d[np.newaxis, :, :, np.newaxis]`](command:_github.copilot.openSymbolFromReferences?%5B%22array_2d%5Bnp.newaxis%2C%20%3A%2C%20%3A%2C%20np.newaxis%5D%22%2C%5B%7B%22uri%22%3A%7B%22%24mid%22%3A1%2C%22fsPath%22%3A%22%2FUsers%2Fteslim%2FLibrary%2FCloudStorage%2FOneDrive-TeslimUthmanAdeyanju%2FTeslim_data_science_study%2Fnote_3_python_language%2FTeslim_python_study_note%2FTeslim_python_numPy%2F2-NumPy%20Array%20Manipulation.ipynb%22%2C%22external%22%3A%22vscode-notebook-cell%3A%2FUsers%2Fteslim%2FLibrary%2FCloudStorage%2FOneDrive-TeslimUthmanAdeyanju%2FTeslim_data_science_study%2Fnote_3_python_language%2FTeslim_python_study_note%2FTeslim_python_numPy%2F2-NumPy%2520Array%2520Manipulation.ipynb%23Y200sZmlsZQ%253D%253D%22%2C%22path%22%3A%22%2FUsers%2Fteslim%2FLibrary%2FCloudStorage%2FOneDrive-TeslimUthmanAdeyanju%2FTeslim_data_science_study%2Fnote_3_python_language%2FTeslim_python_study_note%2FTeslim_python_numPy%2F2-NumPy%20Array%20Manipulation.ipynb%22%2C%22scheme%22%3A%22vscode-notebook-cell%22%2C%22fragment%22%3A%22Y200sZmlsZQ%3D%3D%22%7D%2C%22pos%22%3A%7B%22line%22%3A0%2C%22character%22%3A0%7D%7D%5D%5D \"Go to definition\"). Here, [`np.newaxis`](command:_github.copilot.openSymbolFromReferences?%5B%22np.newaxis%22%2C%5B%7B%22uri%22%3A%7B%22%24mid%22%3A1%2C%22fsPath%22%3A%22%2FUsers%2Fteslim%2FLibrary%2FCloudStorage%2FOneDrive-TeslimUthmanAdeyanju%2FTeslim_data_science_study%2Fnote_3_python_language%2FTeslim_python_study_note%2FTeslim_python_numPy%2F2-NumPy%20Array%20Manipulation.ipynb%22%2C%22external%22%3A%22vscode-notebook-cell%3A%2FUsers%2Fteslim%2FLibrary%2FCloudStorage%2FOneDrive-TeslimUthmanAdeyanju%2FTeslim_data_science_study%2Fnote_3_python_language%2FTeslim_python_study_note%2FTeslim_python_numPy%2F2-NumPy%2520Array%2520Manipulation.ipynb%23Y200sZmlsZQ%253D%253D%22%2C%22path%22%3A%22%2FUsers%2Fteslim%2FLibrary%2FCloudStorage%2FOneDrive-TeslimUthmanAdeyanju%2FTeslim_data_science_study%2Fnote_3_python_language%2FTeslim_python_study_note%2FTeslim_python_numPy%2F2-NumPy%20Array%20Manipulation.ipynb%22%2C%22scheme%22%3A%22vscode-notebook-cell%22%2C%22fragment%22%3A%22Y200sZmlsZQ%3D%3D%22%7D%2C%22pos%22%3A%7B%22line%22%3A0%2C%22character%22%3A11%7D%7D%5D%5D \"Go to definition\") is used to insert new axes at the first and fourth positions (indices 0 and 3). The result is stored in [`array_4d`](command:_github.copilot.openSymbolFromReferences?%5B%22array_4d%22%2C%5B%7B%22uri%22%3A%7B%22%24mid%22%3A1%2C%22fsPath%22%3A%22%2FUsers%2Fteslim%2FLibrary%2FCloudStorage%2FOneDrive-TeslimUthmanAdeyanju%2FTeslim_data_science_study%2Fnote_3_python_language%2FTeslim_python_study_note%2FTeslim_python_numPy%2F2-NumPy%20Array%20Manipulation.ipynb%22%2C%22external%22%3A%22vscode-notebook-cell%3A%2FUsers%2Fteslim%2FLibrary%2FCloudStorage%2FOneDrive-TeslimUthmanAdeyanju%2FTeslim_data_science_study%2Fnote_3_python_language%2FTeslim_python_study_note%2FTeslim_python_numPy%2F2-NumPy%2520Array%2520Manipulation.ipynb%23Y200sZmlsZQ%253D%253D%22%2C%22path%22%3A%22%2FUsers%2Fteslim%2FLibrary%2FCloudStorage%2FOneDrive-TeslimUthmanAdeyanju%2FTeslim_data_science_study%2Fnote_3_python_language%2FTeslim_python_study_note%2FTeslim_python_numPy%2F2-NumPy%20Array%20Manipulation.ipynb%22%2C%22scheme%22%3A%22vscode-notebook-cell%22%2C%22fragment%22%3A%22Y200sZmlsZQ%3D%3D%22%7D%2C%22pos%22%3A%7B%22line%22%3A9%2C%22character%22%3A0%7D%7D%5D%5D \"Go to definition\"), which now has a shape of `(1, 2, 6, 1)`. This indicates that the array has four dimensions: the first dimension has 1 element, the second dimension has 2 elements, the third dimension has 6 elements, and the fourth dimension has 1 element.\n",
    "\n",
    "Finally, the code prints the new 4D array and its shape. This transformation is useful in various scenarios where higher-dimensional data structures are required, such as in machine learning, data preprocessing, or broadcasting operations. The use of [`np.newaxis`](command:_github.copilot.openSymbolFromReferences?%5B%22np.newaxis%22%2C%5B%7B%22uri%22%3A%7B%22%24mid%22%3A1%2C%22fsPath%22%3A%22%2FUsers%2Fteslim%2FLibrary%2FCloudStorage%2FOneDrive-TeslimUthmanAdeyanju%2FTeslim_data_science_study%2Fnote_3_python_language%2FTeslim_python_study_note%2FTeslim_python_numPy%2F2-NumPy%20Array%20Manipulation.ipynb%22%2C%22external%22%3A%22vscode-notebook-cell%3A%2FUsers%2Fteslim%2FLibrary%2FCloudStorage%2FOneDrive-TeslimUthmanAdeyanju%2FTeslim_data_science_study%2Fnote_3_python_language%2FTeslim_python_study_note%2FTeslim_python_numPy%2F2-NumPy%2520Array%2520Manipulation.ipynb%23Y200sZmlsZQ%253D%253D%22%2C%22path%22%3A%22%2FUsers%2Fteslim%2FLibrary%2FCloudStorage%2FOneDrive-TeslimUthmanAdeyanju%2FTeslim_data_science_study%2Fnote_3_python_language%2FTeslim_python_study_note%2FTeslim_python_numPy%2F2-NumPy%20Array%20Manipulation.ipynb%22%2C%22scheme%22%3A%22vscode-notebook-cell%22%2C%22fragment%22%3A%22Y200sZmlsZQ%3D%3D%22%7D%2C%22pos%22%3A%7B%22line%22%3A0%2C%22character%22%3A11%7D%7D%5D%5D \"Go to definition\") is a common technique in NumPy to alter the dimensions of arrays without changing their data, allowing for more flexible and powerful array manipulations."
   ]
  },
  {
   "cell_type": "markdown",
   "metadata": {},
   "source": [
    "#### 5.2 Using `numpy.expand_dims()`\n",
    "____"
   ]
  },
  {
   "cell_type": "markdown",
   "metadata": {},
   "source": [
    "The `numpy.expand_dims()` function is a convenient and intuitive method for adding a new axis to a NumPy array. It allows you to control exactly where the new axis is inserted using the axis parameter. The syntax for using the `numpy.expand_dims()` function is as follows:\n",
    "\n",
    "```python\n",
    "numpy.expand_dims(array, axis)\n",
    "```\n",
    "\n",
    "- where the `array` parameter is the input array to which the new axis will be added, and the `axis` parameter specifies the position of the new axis\n",
    "\n",
    "- if the `axis` = 0, the new axis will be added at the beginning of the array, increasing the number of dimensions by one\n",
    "\n",
    "- if the `axis` = 1, the new axis will be added after the first dimension, increasing the number of dimensions by one\n",
    "\n",
    "- if the `axis` = -1, the new axis will be added at the end of the array, increasing the number of dimensions by one\n",
    "\n",
    "- The `axis` parameter can also be a tuple of integers to add multiple new axes at specific positions\n"
   ]
  },
  {
   "cell_type": "markdown",
   "metadata": {},
   "source": [
    "##### Example 1: Adding a New Axis at axis = 0"
   ]
  },
  {
   "cell_type": "markdown",
   "metadata": {},
   "source": [
    "When `axis` = 0, the new axis is added at the beginning, increasing the number of dimensions by one."
   ]
  },
  {
   "cell_type": "code",
   "execution_count": 2,
   "metadata": {},
   "outputs": [
    {
     "name": "stdout",
     "output_type": "stream",
     "text": [
      "Original array shape: (3,)\n",
      "\n",
      "[[10 20 30]]\n",
      "(1, 3)\n"
     ]
    }
   ],
   "source": [
    "import numpy as np\n",
    "\n",
    "# Original 1D array\n",
    "array = np.array([10, 20, 30])\n",
    "print(\"Original array shape:\", array.shape)\n",
    "print()\n",
    "\n",
    "# Adding a new axis at the beginning (axis=0)\n",
    "expanded_array = np.expand_dims(array, axis=0)\n",
    "print(expanded_array)\n",
    "print(expanded_array.shape)\n",
    "\n",
    "\n",
    "# Here, the array shape changed from (3,) to (1, 3), effectively turning it into a row vector.\n"
   ]
  },
  {
   "cell_type": "markdown",
   "metadata": {},
   "source": [
    "##### Example 2: Adding a New Axis at axis = 1"
   ]
  },
  {
   "cell_type": "markdown",
   "metadata": {},
   "source": [
    "When the `axis` = 1, the new axis is added after the first dimension, increasing the number of dimensions by one."
   ]
  },
  {
   "cell_type": "code",
   "execution_count": 10,
   "metadata": {},
   "outputs": [
    {
     "name": "stdout",
     "output_type": "stream",
     "text": [
      "[[10]\n",
      " [20]\n",
      " [30]]\n",
      "(3, 1)\n"
     ]
    }
   ],
   "source": [
    "# Adding a new axis after the first dimension (axis=1)\n",
    "expanded_array = np.expand_dims(array, axis=1)\n",
    "print(expanded_array)\n",
    "print(expanded_array.shape)\n"
   ]
  },
  {
   "cell_type": "markdown",
   "metadata": {},
   "source": [
    "##### Example 3: Adding a New Axis at axis = -1"
   ]
  },
  {
   "cell_type": "markdown",
   "metadata": {},
   "source": [
    "When axis = -1, the new axis is added at the end of the array, increasing the number of dimensions by one."
   ]
  },
  {
   "cell_type": "code",
   "execution_count": 14,
   "metadata": {},
   "outputs": [
    {
     "name": "stdout",
     "output_type": "stream",
     "text": [
      "[[10]\n",
      " [20]\n",
      " [30]]\n",
      "(3, 1)\n"
     ]
    }
   ],
   "source": [
    "# Adding a new axis at the end (axis=-1)\n",
    "expanded_array = np.expand_dims(array, axis=-1)\n",
    "print(expanded_array)\n",
    "print(expanded_array.shape)\n",
    "\n",
    "# In this case, axis=-1 has the same effect as axis=1, \n",
    "# adding the new axis at the end, turning the shape (3,) into (3, 1).\n"
   ]
  },
  {
   "cell_type": "markdown",
   "metadata": {},
   "source": [
    "##### Example 4:Adding Multiple New Axes Using a Tuple"
   ]
  },
  {
   "cell_type": "markdown",
   "metadata": {},
   "source": [
    "The axis parameter can be a tuple of integers to add multiple new axes at specific positions."
   ]
  },
  {
   "cell_type": "code",
   "execution_count": 15,
   "metadata": {},
   "outputs": [
    {
     "name": "stdout",
     "output_type": "stream",
     "text": [
      "[[[[1]\n",
      "   [2]]\n",
      "\n",
      "  [[3]\n",
      "   [4]]]]\n",
      "(1, 2, 2, 1)\n"
     ]
    }
   ],
   "source": [
    "# Original 2D array\n",
    "array_2d = np.array([[1, 2], [3, 4]])\n",
    "\n",
    "# Adding multiple new axes at positions 0 and 3\n",
    "expanded_array_tuple = np.expand_dims(array_2d, axis=(0, 3))\n",
    "print(expanded_array_tuple)\n",
    "print(expanded_array_tuple.shape)\n"
   ]
  },
  {
   "cell_type": "markdown",
   "metadata": {},
   "source": [
    "* Here, the new axes are added at positions 0 and 3:\n",
    "* At axis=0, the shape goes from (2, 2) to (1, 2, 2).\n",
    "* At axis=3, the shape changes from (1, 2, 2) to (1, 2, 2, 1).\n"
   ]
  },
  {
   "cell_type": "markdown",
   "metadata": {},
   "source": [
    "##### Example 5: Possible value for axis parameter"
   ]
  },
  {
   "cell_type": "markdown",
   "metadata": {},
   "source": [
    "The `axis` parameter in `numpy.expand_dims()` determines where the new dimension (or axis) will be inserted in the array.\n",
    "\n",
    "There a multiple possible values of axis for arrays with different shapes and understand the constraints, especially with negative indexing. This study will example 1d, 2d, and 3d arrays to demonstrate the effect of the axis parameter on the shape of the resulting array."
   ]
  },
  {
   "cell_type": "markdown",
   "metadata": {},
   "source": [
    "\n",
    "***1D Array (Shape: (n,))***\n",
    "\n",
    "The Possible values of axis: -2, -1, 0, or 1\n",
    "\n",
    "When adding a new axis to a 1D array, the shape changes from (n, ) to (n, 1) or (1, n).\n",
    "\n",
    "- axis=0: Adds a new axis at the beginning, changing shape from (n,) to (1, n).  \n",
    "\n",
    "- axis=1 or axis=-1: Adds a new axis at the end, changing shape from (n,) to (n, 1).  \n",
    "\n",
    "- axis=-2: Equivalent to axis=0.  \n"
   ]
  },
  {
   "cell_type": "code",
   "execution_count": 20,
   "metadata": {},
   "outputs": [
    {
     "name": "stdout",
     "output_type": "stream",
     "text": [
      "[[1 2 3]]\n",
      "The shape of the array is: (1, 3)\n",
      "\n",
      "[[1]\n",
      " [2]\n",
      " [3]]\n",
      "The shape of the array is: (3, 1)\n"
     ]
    }
   ],
   "source": [
    "array = np.array([1, 2, 3])  # Shape: (3,)\n",
    "np.expand_dims(array, axis=0)  # Shape: (1, 3)\n",
    "np.expand_dims(array, axis=1)  # Shape: (3, 1)\n",
    "\n",
    "\n",
    "print(np.expand_dims(array, axis=0))\n",
    "print('The shape of the array is:', np.expand_dims(array, axis=0).shape)\n",
    "print()\n",
    "\n",
    "print(np.expand_dims(array, axis=1))\n",
    "print('The shape of the array is:', np.expand_dims(array, axis=1).shape)"
   ]
  },
  {
   "cell_type": "markdown",
   "metadata": {},
   "source": [
    "***2D Array (Shape: (m, n))***\n",
    "\n",
    "The possible values of [`axis`] when adding a new axis to a 2D array are: -3, -2, -1, 0, 1, 2. \n",
    "\n",
    "The relationship between the positive and negative indices is as follows:\n",
    "\n",
    "* 0 = -3, \n",
    "* 1 = -2,\n",
    "* 2 = -1\n",
    "\n",
    "When adding a new axis to a 2D array, the shape changes from (m, n) to one of the following:\n",
    "\n",
    "- (1, m, n)\n",
    "- (m, 1, n)\n",
    "- (m, n, 1)\n",
    "\n",
    "NOTE\n",
    "* axis=0 or axis=-3: Adds a new axis at the beginning, changing shape from (m, n) to (1, m, n).\n",
    "\n",
    "* axis=1 or axis=-2: Adds a new axis after the first dimension, changing shape from (m, n) to (m, 1, n).\n",
    "\n",
    "* axis=2 or axis=-1: Adds a new axis at the end, changing shape from (m, n) to (m, n, 1)."
   ]
  },
  {
   "cell_type": "code",
   "execution_count": 29,
   "metadata": {},
   "outputs": [
    {
     "name": "stdout",
     "output_type": "stream",
     "text": [
      "(1, 2, 2)\n"
     ]
    }
   ],
   "source": [
    "# axis=0 or axis=-3: Adds a new axis at the beginning, changing shape from (m, n) to (1, m, n).\n",
    "\n",
    "arr = np.array([[1, 2], [3, 4]])\n",
    "new_arr1 = arr[np.newaxis,: ]\n",
    "print(new_arr1.shape)  # Output: (1, 2, 2)"
   ]
  },
  {
   "cell_type": "code",
   "execution_count": 31,
   "metadata": {},
   "outputs": [
    {
     "name": "stdout",
     "output_type": "stream",
     "text": [
      "(1, 2, 2)\n",
      "(1, 2, 2)\n"
     ]
    }
   ],
   "source": [
    "# axis=0 or axis=-3: Adds a new axis at the beginning, changing shape from (m, n) to (1, m, n).\n",
    "\n",
    "arr = np.array([[1, 2], [3, 4]])\n",
    "new_arr2 = np.expand_dims(arr, axis=0)\n",
    "print(new_arr2.shape)  # Output: (1, 2, 2)\n",
    "\n",
    "# axis=0 or axis=-3: Adds a new axis at the beginning, changing shape from (m, n) to (1, m, n).\n",
    "arr = np.array([[1, 2], [3, 4]])\n",
    "new_arr3 = np.expand_dims(arr, axis=0-3)\n",
    "print(new_arr3.shape)  # Output: (1, 2, 2)"
   ]
  },
  {
   "cell_type": "code",
   "execution_count": 33,
   "metadata": {},
   "outputs": [
    {
     "name": "stdout",
     "output_type": "stream",
     "text": [
      "(2, 1, 2)\n",
      "(2, 1, 2)\n"
     ]
    }
   ],
   "source": [
    "# axis=1 or axis=-2: Adds a new axis in the middle, changing shape from (m, n) to (m, 1, n).\n",
    "\n",
    "arr = np.array([[1, 2], [3, 4]])\n",
    "new_arr4 = np.expand_dims(arr, axis=1)\n",
    "print(new_arr4.shape)  # Output: (2, 1, 2)\n",
    "\n",
    "\n",
    "# axis=1 or axis=-2: Adds a new axis in the middle, changing shape from (m, n) to (m, 1, n).\n",
    "\n",
    "arr = np.array([[1, 2], [3, 4]])\n",
    "new_arr4 = np.expand_dims(arr, axis=-2)\n",
    "print(new_arr4.shape)  # Output: (2, 1, 2)\n",
    "\n"
   ]
  },
  {
   "cell_type": "code",
   "execution_count": 35,
   "metadata": {},
   "outputs": [
    {
     "name": "stdout",
     "output_type": "stream",
     "text": [
      "(2, 2, 1)\n",
      "(2, 2, 1)\n"
     ]
    }
   ],
   "source": [
    "# axis=2 or axis=-1: Adds a new axis at the end, changing shape from (m, n) to (m, n, 1).\n",
    "arr = np.array([[1, 2], [3, 4]])\n",
    "new_arr = np.expand_dims(arr, axis=2)\n",
    "print(new_arr.shape)  # Output: (2, 2, 1)\n",
    "\n",
    "\n",
    "# axis=2 or axis=-1: Adds a new axis at the end, changing shape from (m, n) to (m, n, 1).\n",
    "arr = np.array([[1, 2], [3, 4]])\n",
    "new_arr = np.expand_dims(arr, axis=-1)\n",
    "print(new_arr.shape)  # Output: (2, 2, 1)"
   ]
  },
  {
   "cell_type": "markdown",
   "metadata": {},
   "source": [
    "***3D Array (Shape: (p, m, n))***\n",
    "\n",
    "The possible values of axis when adding a new axis to a 3D array are: -4, -3, -2, -1, 0, 1, 2, 3.\n",
    "\n",
    "The relationship between the positive and negative indices is as follows:\n",
    "\n",
    "* 0 = -4,\n",
    "* 1 = -3,\n",
    "* 2 = -2,\n",
    "* 3 = -1\n",
    "\n",
    "When adding a new axis to a 3D array, the shape changes from (p, m, n) to one of the following:\n",
    "\n",
    "- (1, p, m, n)\n",
    "- (p, 1, m, n)\n",
    "- (p, m, 1, n)\n",
    "- (p, m, n, 1)\n",
    "\n",
    "NOTE\n",
    "* axis=0 or axis=-4: Adds a new axis at the beginning, changing shape from (p, m, n) to (1, p, m, n).\n",
    "\n",
    "* axis=1 or axis=-3: Adds a new axis after the first dimension, changing shape from (p, m, n) to (p, 1, m, n).\n",
    "\n",
    "* axis=2 or axis=-2: Adds a new axis after the second dimension, changing shape from (p, m, n) to (p, m, 1, n).\n",
    "\n",
    "* axis=3 or axis=-1: Adds a new axis at the end, changing shape from (p, m, n) to (p, m, n, 1).\n",
    "\n"
   ]
  },
  {
   "cell_type": "code",
   "execution_count": 38,
   "metadata": {},
   "outputs": [
    {
     "name": "stdout",
     "output_type": "stream",
     "text": [
      "Shape with axis=0: (1, 2, 3, 4)\n",
      "Shape with axis=1: (2, 1, 3, 4)\n",
      "Shape with axis=2: (2, 3, 1, 4)\n",
      "Shape with axis=3: (2, 3, 4, 1)\n"
     ]
    }
   ],
   "source": [
    "import numpy as np\n",
    "\n",
    "# Original 3D array\n",
    "arr = np.random.rand(2, 3, 4)  # Shape: (p, m, n) -> (2, 3, 4)\n",
    "\n",
    "# Adding a new axis at the beginning (axis=0 or axis=-4)\n",
    "new_arr_0 = np.expand_dims(arr, axis=0)\n",
    "print(\"Shape with axis=0:\", new_arr_0.shape)  # Output: (1, 2, 3, 4)\n",
    "\n",
    "# Adding a new axis after the first dimension (axis=1 or axis=-3)\n",
    "new_arr_1 = np.expand_dims(arr, axis=1)\n",
    "print(\"Shape with axis=1:\", new_arr_1.shape)  # Output: (2, 1, 3, 4)\n",
    "\n",
    "# Adding a new axis after the second dimension (axis=2 or axis=-2)\n",
    "new_arr_2 = np.expand_dims(arr, axis=2)\n",
    "print(\"Shape with axis=2:\", new_arr_2.shape)  # Output: (2, 3, 1, 4)\n",
    "\n",
    "# Adding a new axis at the end (axis=3 or axis=-1)\n",
    "new_arr_3 = np.expand_dims(arr, axis=3)\n",
    "print(\"Shape with axis=3:\", new_arr_3.shape)  # Output: (2, 3, 4, 1)"
   ]
  },
  {
   "cell_type": "markdown",
   "metadata": {},
   "source": [
    "### 6.0 Using `numpy.hstack()` and `numpy.vstack()`\n",
    "____"
   ]
  },
  {
   "cell_type": "markdown",
   "metadata": {},
   "source": [
    "In NumPy, you can use functions like `hstack()` and `vstack()` to stack arrays along different axes. \n",
    "Both functions are helpful when you need to combine multiple arrays either horizontally or vertically.\n",
    "\n",
    "The `h` in the `hstack()` function stands for horizontal, while the `v` in the `vstack()` function stands for vertical.\n"
   ]
  },
  {
   "cell_type": "markdown",
   "metadata": {},
   "source": [
    "#### `numpy.hstack()` Function\n",
    "____"
   ]
  },
  {
   "cell_type": "markdown",
   "metadata": {},
   "source": [
    "The `numpy.hstack()` function stacks the input arrays horizontally, which means the arrays are concatenated along the second axis (i.e., column-wise).\n",
    "\n",
    "The syntax for using numpy.hstack() is as follows:\n",
    "\n",
    "```python\n",
    "numpy.hstack(tup)\n",
    "```\n",
    "\n",
    "- where `tup` is a sequence of arrays to be stacked horizontally. All arrays must have the same shape along all but the second axis (i.e., the number of rows must match).\n",
    "\n",
    "- it returns a single array that is the result of stacking the input arrays horizontally."
   ]
  },
  {
   "cell_type": "code",
   "execution_count": 14,
   "metadata": {},
   "outputs": [
    {
     "name": "stdout",
     "output_type": "stream",
     "text": [
      "(3,)\n",
      "(3,)\n",
      "\n",
      "Output horizontally stacked array:\n",
      " [1 2 3 4 5 6]\n",
      "\n",
      "(6,)\n"
     ]
    }
   ],
   "source": [
    "# Stacking 1D Arrays Horizontally\n",
    "\n",
    "# Input arrays\n",
    "arr1 = np.array([1, 2, 3])\n",
    "arr2 = np.array([4, 5, 6])\n",
    "print(arr1.shape)\n",
    "print(arr2.shape)\n",
    "print()\n",
    "\n",
    "# Horizontally stack arrays\n",
    "output_arr = np.hstack((arr1, arr2))\n",
    "print(\"Output horizontally stacked array:\\n\", output_arr)\n",
    "print()\n",
    "print(output_arr.shape)\n"
   ]
  },
  {
   "cell_type": "code",
   "execution_count": 6,
   "metadata": {},
   "outputs": [
    {
     "name": "stdout",
     "output_type": "stream",
     "text": [
      "Output horizontally stacked array:\n",
      " [[ 1  2  3  4  5  6]\n",
      " [-1 -2 -3 -4 -5 -6]]\n"
     ]
    },
    {
     "data": {
      "text/plain": [
       "(2, 6)"
      ]
     },
     "execution_count": 6,
     "metadata": {},
     "output_type": "execute_result"
    }
   ],
   "source": [
    "# Stacking 2D Arrays Horizontally\n",
    "\n",
    "# Input arrays\n",
    "arr1 = np.array([[1, 2, 3], [-1, -2, -3]])\n",
    "arr2 = np.array([[4, 5, 6], [-4, -5, -6]])\n",
    "\n",
    "# Horizontally stack arrays\n",
    "output_arr = np.hstack((arr1, arr2))\n",
    "\n",
    "print(\"Output horizontally stacked array:\\n\", output_arr)\n",
    "\n",
    "output_arr.shape"
   ]
  },
  {
   "cell_type": "markdown",
   "metadata": {},
   "source": [
    "#### `numpy.vstack()` Function\n",
    "____"
   ]
  },
  {
   "cell_type": "markdown",
   "metadata": {},
   "source": [
    "The numpy.vstack() function stacks the input arrays vertically, which means the arrays are concatenated along the first axis (i.e., row-wise).\n",
    "\n",
    "The syntax for using numpy.vstack() is as follows:\n",
    "\n",
    "```python\n",
    "numpy.vstack(tup)\n",
    "```\n",
    "\n",
    "- where `tup` is a sequence of arrays to be stacked vertically. All arrays must have the same shape along all but the first axis (i.e., the number of columns must match).\n",
    "\n",
    "- it returns a single array that is the result of stacking the input arrays vertically."
   ]
  },
  {
   "cell_type": "code",
   "execution_count": 3,
   "metadata": {},
   "outputs": [
    {
     "name": "stdout",
     "output_type": "stream",
     "text": [
      "Output vertically stacked array:\n",
      " [[1 2 3]\n",
      " [4 5 6]]\n"
     ]
    },
    {
     "data": {
      "text/plain": [
       "(2, 3)"
      ]
     },
     "execution_count": 3,
     "metadata": {},
     "output_type": "execute_result"
    }
   ],
   "source": [
    "# Stacking Arrays Vertically\n",
    "# Input arrays\n",
    "arr1 = np.array([1, 2, 3])\n",
    "arr2 = np.array([4, 5, 6])\n",
    "\n",
    "# Vertically stack arrays\n",
    "output_arr = np.vstack((arr1, arr2))\n",
    "\n",
    "print(\"Output vertically stacked array:\\n\", output_arr)\n",
    "output_arr.shape\n"
   ]
  },
  {
   "cell_type": "code",
   "execution_count": 10,
   "metadata": {},
   "outputs": [
    {
     "name": "stdout",
     "output_type": "stream",
     "text": [
      "Output vertically stacked array:\n",
      " [[ 1  2  3]\n",
      " [-1 -2 -3]\n",
      " [ 4  5  6]\n",
      " [-4 -5 -6]]\n"
     ]
    },
    {
     "data": {
      "text/plain": [
       "(4, 3)"
      ]
     },
     "execution_count": 10,
     "metadata": {},
     "output_type": "execute_result"
    }
   ],
   "source": [
    "\n",
    "# Input arrays\n",
    "arr1 = np.array([[1, 2, 3], [-1, -2, -3]])\n",
    "arr2 = np.array([[4, 5, 6], [-4, -5, -6]])\n",
    "\n",
    "# Vertically stack arrays\n",
    "output_arr = np.vstack((arr1, arr2))\n",
    "\n",
    "print(\"Output vertically stacked array:\\n\", output_arr)\n",
    "output_arr.shape"
   ]
  },
  {
   "cell_type": "markdown",
   "metadata": {},
   "source": [
    "### 7.0 Joining NumPy Arrays Horizontally and Vertically\n",
    "____"
   ]
  },
  {
   "cell_type": "markdown",
   "metadata": {},
   "source": [
    "NumPy provides various functions to combine arrays. In this article, we will discuss some of the major ones.\n",
    "\n",
    "- numpy.concatenate\n",
    "- numpy.stack\n",
    "- numpy.block"
   ]
  },
  {
   "cell_type": "markdown",
   "metadata": {},
   "source": [
    "#### Method 1: Using `numpy.concatenate()` Function"
   ]
  },
  {
   "cell_type": "markdown",
   "metadata": {},
   "source": [
    "The `numpy.concatenate()` function is used to concatenate arrays along a specified axis. It takes the following syntax:\n",
    "\n",
    "```python\n",
    "numpy.concatenate((array1, array2, ...), axis=0)\n",
    "```\n",
    "\n",
    "- where `array1`, `array2`, ... are the arrays to be concatenated, and `axis` specifies the axis along which the arrays will be concatenated.\n",
    "- The `axis` parameter is optional and defaults to 0, which concatenates the arrays along the first axis (row-wise).\n",
    "- To concatenate arrays along the second axis (column-wise), set `axis=1`.\n",
    "\n",
    "You can control where the array is stacked by changing the value of the `axis` parameter.\n",
    "\n",
    "if axis=0, the arrays are stacked along the first axis (row-wise), and if axis=1, the arrays are stacked along the second axis (column-wise)."
   ]
  },
  {
   "cell_type": "code",
   "execution_count": 35,
   "metadata": {},
   "outputs": [
    {
     "name": "stdout",
     "output_type": "stream",
     "text": [
      "[1 2 3 4]\n"
     ]
    },
    {
     "data": {
      "text/plain": [
       "(4,)"
      ]
     },
     "execution_count": 35,
     "metadata": {},
     "output_type": "execute_result"
    }
   ],
   "source": [
    "array_1 = np.array([1, 2]) \n",
    "array_2 = np.array([3, 4]) \n",
    "  \n",
    "array_new = np.concatenate((array_1, array_2), axis = None) \n",
    "print(array_new) \n",
    "array_new.shape"
   ]
  },
  {
   "cell_type": "markdown",
   "metadata": {},
   "source": [
    "This is the same with the `numpy.hstack()` as discussed above."
   ]
  },
  {
   "cell_type": "code",
   "execution_count": 24,
   "metadata": {},
   "outputs": [
    {
     "name": "stdout",
     "output_type": "stream",
     "text": [
      "[1 2 3 4]\n"
     ]
    },
    {
     "data": {
      "text/plain": [
       "(4,)"
      ]
     },
     "execution_count": 24,
     "metadata": {},
     "output_type": "execute_result"
    }
   ],
   "source": [
    "import numpy\n",
    "\n",
    "\n",
    "array_1 = np.array([1, 2]) \n",
    "array_2 = np.array([3, 4])\n",
    "\n",
    "b = numpy.hstack((array_1, array_2))\n",
    "\n",
    "\n",
    "print(b)\n",
    "b.shape\n"
   ]
  },
  {
   "cell_type": "code",
   "execution_count": 39,
   "metadata": {},
   "outputs": [
    {
     "name": "stdout",
     "output_type": "stream",
     "text": [
      "[1 2 3 4]\n"
     ]
    },
    {
     "data": {
      "text/plain": [
       "(4,)"
      ]
     },
     "execution_count": 39,
     "metadata": {},
     "output_type": "execute_result"
    }
   ],
   "source": [
    "array_1 = np.array([1, 2]) \n",
    "array_2 = np.array([3, 4]) \n",
    "  \n",
    "array_new = np.concatenate((array_1, array_2), axis = 0) \n",
    "print(array_new) \n",
    "array_new.shape"
   ]
  },
  {
   "cell_type": "markdown",
   "metadata": {},
   "source": [
    "#### Method 2: Using `numpy.stack()` Function"
   ]
  },
  {
   "cell_type": "markdown",
   "metadata": {},
   "source": [
    "The `numpy.stack()` function is used to stack arrays along a new axis. It takes the following syntax:\n",
    "\n",
    "```python\n",
    "numpy.stack((array1, array2, ...), axis=0)\n",
    "```\n",
    "\n",
    "- where `array1`, `array2`, ... are the arrays to be stacked, and `axis` specifies the new axis along which the arrays will be stacked.\n",
    "- The `axis` parameter is optional and defaults to 0, which stacks the arrays along a new axis (row-wise).\n",
    "- To stack the arrays along a new axis (column-wise), set `axis=1`.\n",
    "\n",
    "You can control where the array is stacked by changing the value of the `axis` parameter.\n",
    "\n",
    "if axis=0, the arrays are stacked along the first axis (row-wise), and if axis=1, the arrays are stacked along the second axis (column-wise)."
   ]
  },
  {
   "cell_type": "code",
   "execution_count": 29,
   "metadata": {},
   "outputs": [
    {
     "name": "stdout",
     "output_type": "stream",
     "text": [
      "[[1 5]\n",
      " [2 6]\n",
      " [3 7]\n",
      " [4 8]]\n"
     ]
    },
    {
     "data": {
      "text/plain": [
       "(4, 2)"
      ]
     },
     "execution_count": 29,
     "metadata": {},
     "output_type": "execute_result"
    }
   ],
   "source": [
    "import numpy as np \n",
    "  \n",
    "array_1 = np.array([1, 2, 3, 4]) \n",
    "array_2 = np.array([5, 6, 7, 8]) \n",
    "  \n",
    "array_new = np.stack((array_1, array_2), axis=1) \n",
    "print(array_new) \n",
    "array_new.shape"
   ]
  },
  {
   "cell_type": "code",
   "execution_count": 34,
   "metadata": {},
   "outputs": [
    {
     "name": "stdout",
     "output_type": "stream",
     "text": [
      "[[1 2 3 4]\n",
      " [5 6 7 8]]\n"
     ]
    },
    {
     "data": {
      "text/plain": [
       "(2, 4)"
      ]
     },
     "execution_count": 34,
     "metadata": {},
     "output_type": "execute_result"
    }
   ],
   "source": [
    "import numpy as np \n",
    "  \n",
    "array_1 = np.array([1, 2, 3, 4]) \n",
    "array_2 = np.array([5, 6, 7, 8]) \n",
    "  \n",
    "array_new = np.stack((array_1, array_2), axis=0) \n",
    "print(array_new) \n",
    "array_new.shape"
   ]
  },
  {
   "cell_type": "markdown",
   "metadata": {},
   "source": [
    "This is the same with the `numpy.vstack()` as discussed above."
   ]
  },
  {
   "cell_type": "code",
   "execution_count": 33,
   "metadata": {},
   "outputs": [
    {
     "name": "stdout",
     "output_type": "stream",
     "text": [
      "[[1 2 3 4]\n",
      " [5 6 7 8]]\n"
     ]
    },
    {
     "data": {
      "text/plain": [
       "(2, 4)"
      ]
     },
     "execution_count": 33,
     "metadata": {},
     "output_type": "execute_result"
    }
   ],
   "source": [
    "s = np.vstack((array_1, array_2))\n",
    "print(s)\n",
    "s.shape"
   ]
  },
  {
   "cell_type": "markdown",
   "metadata": {},
   "source": [
    "#### Method 3: Using `numpy.block()` Function"
   ]
  },
  {
   "cell_type": "markdown",
   "metadata": {},
   "source": [
    "The `numpy.block()` function is used to concatenate arrays along multiple axes. It takes the following syntax:\n",
    "\n",
    "```python\n",
    "numpy.block(array)\n",
    "```\n",
    "\n",
    "- where `array` is a nested sequence of arrays to be concatenated.\n",
    "- The arrays in the nested sequence can be of different shapes, and the `numpy.block()` function will concatenate them along multiple axes to create a single array.\n",
    "\n",
    "The `numpy.block()` function is more flexible than `numpy.concatenate()` and `numpy.stack()` because it can handle arrays of different shapes and concatenate them along multiple axes."
   ]
  },
  {
   "cell_type": "code",
   "execution_count": 5,
   "metadata": {},
   "outputs": [
    {
     "name": "stdout",
     "output_type": "stream",
     "text": [
      "[[1 1 2 2 2]\n",
      " [1 1 2 2 2]\n",
      " [3 3 4 4 4]\n",
      " [3 3 4 4 4]\n",
      " [3 3 4 4 4]]\n"
     ]
    },
    {
     "data": {
      "text/plain": [
       "(5, 5)"
      ]
     },
     "execution_count": 5,
     "metadata": {},
     "output_type": "execute_result"
    }
   ],
   "source": [
    "import numpy as np \n",
    "\n",
    "block_1 = np.array([[1, 1], [1, 1]]) \n",
    "block_2 = np.array([[2, 2, 2], [2, 2, 2]]) \n",
    "block_3 = np.array([[3, 3], [3, 3], [3, 3]]) \n",
    "block_4 = np.array([[4, 4, 4], [4, 4, 4], [4, 4, 4]]) \n",
    "\n",
    "block_new = np.block([ \n",
    "\t[block_1, block_2], \n",
    "\t[block_3, block_4] \n",
    "]) \n",
    "\n",
    "print(block_new) \n",
    "\n",
    "block_new.shape\n"
   ]
  }
 ],
 "metadata": {
  "kernelspec": {
   "display_name": "data-science-env",
   "language": "python",
   "name": "python3"
  },
  "language_info": {
   "codemirror_mode": {
    "name": "ipython",
    "version": 3
   },
   "file_extension": ".py",
   "mimetype": "text/x-python",
   "name": "python",
   "nbconvert_exporter": "python",
   "pygments_lexer": "ipython3",
   "version": "3.12.6"
  }
 },
 "nbformat": 4,
 "nbformat_minor": 2
}
