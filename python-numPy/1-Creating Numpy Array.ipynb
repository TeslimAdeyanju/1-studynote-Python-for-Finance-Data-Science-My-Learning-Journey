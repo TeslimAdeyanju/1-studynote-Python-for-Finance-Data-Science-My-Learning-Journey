{
 "cells": [
  {
   "cell_type": "markdown",
   "metadata": {},
   "source": [
    "# NumPy Creation "
   ]
  },
  {
   "cell_type": "markdown",
   "metadata": {},
   "source": [
    "### 1.0 Python NumPy\n",
    "____"
   ]
  },
  {
   "cell_type": "markdown",
   "metadata": {},
   "source": [
    "NumPy is a Python library used for working with arrays.\n",
    "\n",
    "It also has functions for working in domain of linear algebra, fourier transform, and matrices.\n",
    "\n",
    "NumPy was created in 2005 by Travis Oliphant. It is an open source project and you can use it freely.\n",
    "\n",
    "NumPy stands for Numerical Python.\n",
    "\n",
    "\n",
    "#### 1.1 Why Use NumPy?\n",
    "\n",
    "In Python we have lists that serve the purpose of arrays, but they are slow to process.\n",
    "\n",
    "NumPy aims to provide an array object that is up to 50x faster than traditional Python lists.\n",
    "\n",
    "The array object in NumPy is called `ndarray`, it provides a lot of supporting functions that make working with `ndarray` very easy.\n",
    "\n",
    "Arrays are very frequently used in data science, where speed and resources are very important.\n",
    "\n",
    "\n",
    "#### Numpy Arrays\n",
    "\n",
    "1. Homogeneous Data: NumPy arrays store elements of the same data type, making them more compact and memory-efficient than lists.\n",
    "\n",
    "1. Fixed Data Type: NumPy arrays have a fixed data type, reducing memory overhead by eliminating the need to store type information for each element.\n",
    "\n",
    "1. Contiguous Memory: NumPy arrays store elements in adjacent memory locations, reducing fragmentation and allowing for efficient access.\n",
    "\n",
    "1. Array Metadata: NumPy arrays have extra metadata like shape, strides, and data type. \n",
    "However, this overhead is usually smaller than the per-element overhead in lists.\n",
    "\n",
    "1. Performance: NumPy arrays are optimized for numerical computations, with efficient element-wise operations and mathematical functions. These operations are implemented in C, resulting in faster performance than equivalent operations on lists.\n",
    "\n",
    "\n",
    "#### 1.2 Why is NumPy Faster Than Lists?\n",
    "NumPy arrays are stored at one continuous place in memory unlike lists, so processes can access and manipulate them very efficiently. This behavior is called locality of reference in computer science. This is the main reason why NumPy is faster than lists. Also it is optimized to work with latest CPU architectures.\n",
    "\n",
    "#### 1.3 Which Language is NumPy written in?\n",
    "NumPy is a Python library and is written partially in Python, but most of the parts that require fast computation are written in C or C++.\n",
    "\n",
    "#### 1.4 Where is the NumPy Codebase?\n",
    "The source code for NumPy is located at this github repository [https://github.com/numpy/numpy]\n",
    "\n",
    "\n",
    "#### 1.5 Checking NumPy Version\n",
    "The version string is stored under `__version__` attribute.\n",
    "\n",
    "```python\n",
    "import numpy as np\n",
    "print(np.__version__)\n",
    "```\n",
    "\n",
    "**Numpy Vs Lists**\n",
    "\n",
    "1. Unlike lists, arrays are of fixed size, and changing the size of an array will lead to the creation of a new array while the original array will be deleted.\n",
    "\n",
    "1. All the elements in an array are of the same type.\n",
    "\n",
    "1. Arrays are faster, more efficient, and require less syntax than standard Python sequences.\n",
    "\n",
    "1. Arrays are stored in contiguous memory locations, making it easier to manipulate them.\n",
    "\n",
    "Note: Various scientific and mathematical Python-based packages use Numpy. They might take input as an inbuilt Python sequence but they are likely to convert the data into a NumPy array to attain faster processing. This explains the need to understand NumPy.\n",
    "\n",
    "**Why is the Numpy Array so Fast?** \n",
    "\n",
    "Numpy arrays are written mostly in C language. Being written in C, the arrays are stored in contiguous memory locations which makes them accessible and easier to manipulate. This means that you can get the performance level of a C code with the ease of writing a Python program.\n",
    "\n",
    "1. Homogeneous Data: Arrays store elements of the same data type, making them more compact and memory-efficient than lists.\n",
    "1. Fixed Data Type: Arrays have a fixed data type, reducing memory overhead by eliminating the need to store type information for each element.\n",
    "3. Contiguous Memory: Arrays store elements in adjacent memory locations, reducing fragmentation and allowing for efficient access"
   ]
  },
  {
   "cell_type": "code",
   "execution_count": 1,
   "metadata": {},
   "outputs": [
    {
     "name": "stdout",
     "output_type": "stream",
     "text": [
      "1.21.2\n"
     ]
    }
   ],
   "source": [
    "import numpy as np\n",
    "print(np.__version__)"
   ]
  },
  {
   "cell_type": "markdown",
   "metadata": {},
   "source": [
    "### 2.0 Basic NumPy Array in Python\n",
    "____"
   ]
  },
  {
   "cell_type": "markdown",
   "metadata": {},
   "source": [
    "##### 2.1.0 NumPy Dimension Array\n",
    "___"
   ]
  },
  {
   "cell_type": "markdown",
   "metadata": {},
   "source": [
    "NumPy stands for Numerical Python. It is a Python library used for working with an array. In Python, we use the `list` for the array but it’s slow to process. NumPy array is a powerful N-dimensional array object and is used in linear algebra, Fourier transform, and random number capabilities. It provides an array object much faster than traditional Python lists.\n",
    "\n",
    "Types of Array:\n",
    "1. One Dimensional Array\n",
    "1. Multi-Dimensional Array"
   ]
  },
  {
   "cell_type": "code",
   "execution_count": 1,
   "metadata": {},
   "outputs": [
    {
     "name": "stdout",
     "output_type": "stream",
     "text": [
      "List in python: [1, 2, 3, 4, 5]\n",
      "1-D array in numpy: [1 2 3 4 5]\n",
      "\n",
      "Data type of list: <class 'list'>\n",
      "Data type of array: <class 'numpy.ndarray'>\n"
     ]
    }
   ],
   "source": [
    "# One Dimensional Array\n",
    "\n",
    "import numpy as np\n",
    "list = [1, 2, 3, 4, 5]\n",
    "arr = np.array(list)\n",
    "\n",
    "# Printing the list and array\n",
    "print('List in python:', list)\n",
    "print('1-D array in numpy:', arr)\n",
    "print()\n",
    "\n",
    "# check data types for list and array\n",
    "print('Data type of list:', type(list))\n",
    "print('Data type of array:', type(arr))"
   ]
  },
  {
   "cell_type": "code",
   "execution_count": 2,
   "metadata": {},
   "outputs": [
    {
     "name": "stdout",
     "output_type": "stream",
     "text": [
      "Numpy multi dimensional array in python\n",
      " [[ 1  2  3  4]\n",
      " [ 5  6  7  8]\n",
      " [ 9 10 11 12]]\n"
     ]
    }
   ],
   "source": [
    "# Multi Dimensional Array\n",
    "\n",
    "# importing numpy module\n",
    "import numpy as np\n",
    "\n",
    "# creating list \n",
    "list_1 = [1, 2, 3, 4]\n",
    "list_2 = [5, 6, 7, 8]\n",
    "list_3 = [9, 10, 11, 12]\n",
    "\n",
    "# creating numpy array\n",
    "sample_array = np.array([list_1, list_2,list_3])\n",
    "\n",
    "print(\"Numpy multi dimensional array in python\\n\",sample_array)\n"
   ]
  },
  {
   "cell_type": "markdown",
   "metadata": {},
   "source": [
    "> Note: The use of `[ ]` operators inside `np.array()` for multi-dimensional. Thus, the syntax for creating a NumPy array is `np.array([ ])`.\n",
    "\n",
    "np.array ([a,b,c,d])\n",
    "\n",
    "Where a, b, c, d are the elements of the array."
   ]
  },
  {
   "cell_type": "markdown",
   "metadata": {},
   "source": [
    "##### 2.2.0 Anatomy of NumPy Array\n",
    "___"
   ]
  },
  {
   "cell_type": "markdown",
   "metadata": {},
   "source": [
    "The NumPy array is a powerful N-dimensional array object that is in the form of rows and columns. The ndarray object is the main object of NumPy. It is a table of elements (usually numbers), all of the same type, indexed by a tuple of positive integers. In NumPy, there are 6 basic anatomy elements:\n",
    "\n",
    "1.\tAxis: Axes are the different dimensions of an array. For a 2D array, the first axis is the rows and the second axis is the columns.  \n",
    "\t- Example: In a 2x3 array (2 rows, 3 columns), axis 0 refers to the rows, and axis 1 refers to the columns.\n",
    "\n",
    "2.\tRank: Also known as the number of dimensions. It indicates how many dimensions the array has.\n",
    "\t- Example: A 2D array like [[1, 2, 3], [4, 5, 6]] has a rank of 2 because it has two dimensions (rows and columns).  \n",
    "\n",
    "3.\tShape: This tells you how many elements are in each dimension of the array. It’s usually given as a tuple.\n",
    "\t- Example: The shape of a 2D array [[1, 2, 3], [4, 5, 6]] is (2, 3), meaning 2 rows and 3 columns.  \n",
    "\n",
    "4.\tData Type: The type of elements stored in the array. Common data types include integers, floats, and strings.\n",
    "\t- Example: In the array np.array([1, 2, 3], dtype=int), the data type is int.\n",
    "\n",
    "5.\tItem Size: The size, in bytes, of each element in the array.\n",
    "\t- Example: If an array contains integers (typically 4 bytes each), the item size would be 4 bytes.\n",
    "\t\n",
    "6.\tSize: The total number of elements in the array. This is the product of the elements in the shape tuple.\n",
    "\t- Example: For the array [[1, 2, 3], [4, 5, 6]], the size is 6 (2 rows * 3 columns).\n",
    "\t\n",
    "7.\tReshape: This operation changes the shape of an array without changing its data.\n",
    "\t- Example: If you have an array [1, 2, 3, 4] with shape (4,), you can reshape it to a 2x2 array [[1, 2], [3, 4]]."
   ]
  },
  {
   "cell_type": "markdown",
   "metadata": {},
   "source": [
    "**Axis**\n",
    "____\n",
    "\n",
    "Axis in a NumPy array is the direction along the rows and columns, and it is defined by the number of dimensions in the array. it is the direction along which the elements of the array are processed.it starts from 0.\n",
    "\n",
    "1. Axis 0 is the first axis and runs vertically downwards across the rows.\n",
    "1. axis 1 is the second axis and runs horizontally across the columns.\n",
    "1. axis 2 is the third axis and runs across the depth of the array.\n",
    "\n",
    "\n",
    "Further Reading [https://www.sharpsightlabs.com/blog/numpy-axes-explained/]"
   ]
  },
  {
   "cell_type": "markdown",
   "metadata": {},
   "source": [
    "![alt text](../../Teslim_python_png/axis.png)"
   ]
  },
  {
   "cell_type": "markdown",
   "metadata": {},
   "source": [
    "**Shape**\n",
    "___\n",
    "\n",
    "The shape of an array is the number of elements stored along each dimension of the array. It is a tuple of integers showing the size of the array in each dimension. The shape of an array is the number of elements in each dimension. The shape of an array is a tuple of non-negative integers that specify the sizes of each dimension.\n",
    "\n",
    "The sytax for shape is `array.shape`"
   ]
  },
  {
   "cell_type": "code",
   "execution_count": 3,
   "metadata": {},
   "outputs": [
    {
     "name": "stdout",
     "output_type": "stream",
     "text": [
      "[[ 1  2  3  4]\n",
      " [ 5  6  7  8]\n",
      " [ 9 10 11 12]]\n",
      "\n",
      "(3, 4)\n"
     ]
    }
   ],
   "source": [
    "# importing numpy module\n",
    "import numpy as np\n",
    "\n",
    "# creating list \n",
    "list_1 = [1, 2, 3, 4]\n",
    "list_2 = [5, 6, 7, 8]\n",
    "list_3 = [9, 10, 11, 12]\n",
    "\n",
    "# creating numpy array\n",
    "sample_array = np.array([list_1, list_2, list_3])\n",
    "\n",
    "print(sample_array)\n",
    "print()\n",
    "\n",
    "# print shape of the array\n",
    "print(sample_array.shape)"
   ]
  },
  {
   "cell_type": "code",
   "execution_count": 4,
   "metadata": {},
   "outputs": [
    {
     "name": "stdout",
     "output_type": "stream",
     "text": [
      "shape of the array : (5, 3)\n"
     ]
    }
   ],
   "source": [
    "import numpy as np\n",
    "\n",
    "sample_array = np.array(\n",
    "    [[0, 4, 2],\n",
    "     [3, 4, 5],\n",
    "     [23, 4, 5],\n",
    "     [2, 34, 5],\n",
    "     [5, 6, 7]]\n",
    ")\n",
    "\n",
    "print(\"shape of the array :\",\n",
    "      sample_array.shape)\n"
   ]
  },
  {
   "cell_type": "markdown",
   "metadata": {},
   "source": [
    "**Rank**\n",
    "___\n",
    "\n",
    "The rank of an array is the number of dimensions of the array. It is also called the number of axes. "
   ]
  },
  {
   "cell_type": "markdown",
   "metadata": {},
   "source": [
    "![alt text](../../Teslim_python_png/rank.png)"
   ]
  },
  {
   "cell_type": "markdown",
   "metadata": {},
   "source": [
    "**Data Type**\n",
    "___\n",
    "\n",
    "When you create a NumPy array, each element in the array has a specific type of data associated with it, known as the data type or dtype. The dtype (data type) object provides detailed information about how the data is stored in memory. This is crucial for efficient computation, memory management, and ensuring the correct interpretation of data.\n",
    "\n",
    "Definition: A `dtype` (short for data type) in NumPy is an object that defines the type of elements contained in a NumPy array. It specifies how the bytes in the memory block should be interpreted.\n",
    "\n",
    "Components of `dtype`:\n",
    "1. Type of the data (integer, float, Python object, etc.)\n",
    "1. Size of the data (how many bytes is in e.g., int32, float64)\n",
    "1. Byte order of the data (little-endian or big-endian)\n",
    "1. Additional details like whether the data type is structured or not (e.g., composite types with multiple fields).\n",
    "\n",
    "\n",
    "**Why is Data Type Important?**\n",
    "1. Memory Allocation: The data type determines how much memory is allocated for each element in the array.\n",
    "1. Data Interpretation: The data type specifies how the bytes in the memory block should be interpreted.\n",
    "1. Computation: The data type affects how the data is processed during mathematical operations.\n",
    "1. Data Integrity: Ensuring the correct data type helps maintain the integrity of the data by preventing operations that are not suitable for certain types (e.g., performing arithmetic on strings).\n",
    "\n",
    "The syntax for dtype is `array.dtype`\n",
    "\n",
    "\n",
    "Examples of dtype in NumPy\n",
    "\n",
    "1. Simple Types:\n",
    "\n",
    "    * `int32`: 32-bit integer\n",
    "    * `float64`: 64-bit floating-point number\n",
    "    * `bool`: Boolean value (True or False)\n",
    "\n",
    "\n",
    "\n",
    "1. Complex Types: \n",
    "  \n",
    "    * complex: Complex number with 64-bit floating-point real and imaginary parts\n",
    "    * object: Python object type\n",
    "    * string_: Fixed-length ASCII string type\n",
    "    * unicode_: Fixed-length Unicode string type\n",
    "\n",
    "1. Structured Types:\n",
    "    \n",
    "      * Structured data type with multiple fields\n",
    "      * Each field has a name, data type, and optional shape\n",
    "      * Allows for more complex data structures\n",
    "\n",
    "\n",
    "\n",
    "**Creating Arrays with Specific dtype**\n",
    " \n",
    " When creating a NumPy array, you can specify the dtype:"
   ]
  },
  {
   "cell_type": "code",
   "execution_count": 5,
   "metadata": {},
   "outputs": [
    {
     "name": "stdout",
     "output_type": "stream",
     "text": [
      "int32\n",
      "\n",
      "int8\n",
      "\n",
      "float64\n",
      "\n",
      "bool\n",
      "\n"
     ]
    }
   ],
   "source": [
    "import numpy as np\n",
    "\n",
    "# Integer array: 32 bytes\n",
    "int_array = np.array([1, 2, 3], dtype = np.int32)\n",
    "print(int_array.dtype)  # Output: int32\n",
    "print()\n",
    "\n",
    "# integer array: 8 bytes\n",
    "int_array = np.array([1, 2, 3], dtype = np.int8)\n",
    "print(int_array.dtype)  # Output: int32\n",
    "print()\n",
    "\n",
    "# Floating-point array: 64 bytes\n",
    "float_array = np.array([1.0, 2.0, 3.0], dtype = np.float64)\n",
    "print(float_array.dtype)  # Output: float64\n",
    "print()\n",
    "\n",
    "# Boolean array: 1 byte\n",
    "bool_array = np.array([True, False, True], dtype = np.bool_)\n",
    "print(bool_array.dtype)  # Output: bool\n",
    "print()"
   ]
  },
  {
   "cell_type": "markdown",
   "metadata": {},
   "source": [
    "Understanding the dtype Object  \n",
    "\n",
    "The dtype object contains all the information needed to interpret a block of memory:"
   ]
  },
  {
   "cell_type": "code",
   "execution_count": 6,
   "metadata": {},
   "outputs": [
    {
     "name": "stdout",
     "output_type": "stream",
     "text": [
      "int32\n",
      "int32\n",
      "<class 'numpy.int32'>\n",
      "4\n"
     ]
    }
   ],
   "source": [
    "dtype = np.dtype(np.int32)\n",
    "print(dtype)  # Output: int32\n",
    "\n",
    "# Properties of the dtype object\n",
    "print(dtype.name)      # Output: 'int32'\n",
    "print(dtype.type)      # Output: <class 'numpy.int32'>\n",
    "print(dtype.itemsize)  # Output: 4 (bytes)"
   ]
  },
  {
   "cell_type": "markdown",
   "metadata": {},
   "source": [
    "### 3.0 Create Array in Python\n",
    "____"
   ]
  },
  {
   "cell_type": "markdown",
   "metadata": {},
   "source": [
    "NumPy arrays can have multiple dimensions, allowing users to store data in multilayered structures. The following are the Dimensionalities of array in Numpy:\n",
    "\n",
    "* 0D (zero-dimensional): Scalar – A single element\n",
    "* 1D (one-dimensional): Vector- A list of integers.\n",
    "* 2D (two-dimensional): Matrix- A spreadsheet of data\n",
    "* 3D (three-dimensional): ensor- Storing a color image\n",
    "\n"
   ]
  },
  {
   "cell_type": "markdown",
   "metadata": {},
   "source": [
    "![alt text](../../Teslim_python_png/Numpy_ndarray.png)"
   ]
  },
  {
   "cell_type": "markdown",
   "metadata": {},
   "source": [
    "##### 3.1.0 Create Array Object\n",
    "___"
   ]
  },
  {
   "cell_type": "markdown",
   "metadata": {},
   "source": [
    "NumPy array’s objects allow us to work with arrays in Python. The array object is called `ndarray`. The `array()` function of the NumPy library creates a ndarray."
   ]
  },
  {
   "cell_type": "code",
   "execution_count": 42,
   "metadata": {},
   "outputs": [
    {
     "name": "stdout",
     "output_type": "stream",
     "text": [
      "[1 2 3 4 5 6]\n"
     ]
    }
   ],
   "source": [
    "import numpy as np \n",
    "arr = np.array([1,2,3,4,5,6])\n",
    "print(arr)\n"
   ]
  },
  {
   "cell_type": "markdown",
   "metadata": {},
   "source": [
    "##### 3.2.0 Create Numpy Array from a List\n",
    "___"
   ]
  },
  {
   "cell_type": "markdown",
   "metadata": {},
   "source": [
    "You can use the `np` alias to create ndarray of a list using the `array()` method."
   ]
  },
  {
   "cell_type": "code",
   "execution_count": 43,
   "metadata": {},
   "outputs": [
    {
     "name": "stdout",
     "output_type": "stream",
     "text": [
      "[1 2 3 4]\n"
     ]
    }
   ],
   "source": [
    "li = [1,2,3,4]\n",
    "numpyArr = np.array(li)\n",
    "print(numpyArr)"
   ]
  },
  {
   "cell_type": "markdown",
   "metadata": {},
   "source": [
    "The resulting array looks the same as a list but is a NumPy object. \n",
    "\n",
    "Example 2: Let’s take an example to check whether the numpyArr is a NumPy object or not. In this example, we are using the array() function to convert the list into a NumPy array and then check if it’s a NumPy object or not."
   ]
  },
  {
   "cell_type": "code",
   "execution_count": 44,
   "metadata": {},
   "outputs": [
    {
     "name": "stdout",
     "output_type": "stream",
     "text": [
      "li = [1, 2, 3, 4] and type(li) = <class 'list'>\n",
      "\n",
      "numpyArr = [1 2 3 4] and type(numpyArr) = <class 'numpy.ndarray'>\n"
     ]
    }
   ],
   "source": [
    "import numpy as np \n",
    "\n",
    "li = [1, 2, 3, 4] \n",
    "numpyArr = np.array(li) \n",
    "\n",
    "print(\"li =\", li, \"and type(li) =\", type(li)) \n",
    "print()\n",
    "print(\"numpyArr =\", numpyArr, \"and type(numpyArr) =\", type(numpyArr))\n"
   ]
  },
  {
   "cell_type": "markdown",
   "metadata": {},
   "source": [
    "##### 3.3.0 Create a Numpy Array from A Tuple\n",
    "___"
   ]
  },
  {
   "cell_type": "markdown",
   "metadata": {},
   "source": [
    "You can make ndarray from a tuple using a similar syntax."
   ]
  },
  {
   "cell_type": "code",
   "execution_count": 45,
   "metadata": {},
   "outputs": [
    {
     "name": "stdout",
     "output_type": "stream",
     "text": [
      "tup = (1, 2, 3, 4) and type(tup) = <class 'tuple'>\n",
      "numpyArr = [1 2 3 4] and type(numpyArr) = <class 'numpy.ndarray'>\n"
     ]
    }
   ],
   "source": [
    "import numpy as np \n",
    "\n",
    "tup = (1, 2, 3, 4) \n",
    "numpyArr = np.array(tup) \n",
    "\n",
    "print(\"tup =\", tup, \"and type(tup) =\", type(tup)) \n",
    "print(\"numpyArr =\", numpyArr, \"and type(numpyArr) =\", type(numpyArr)) \n"
   ]
  },
  {
   "cell_type": "markdown",
   "metadata": {},
   "source": [
    "##### 3.4.0 Create a Numpy Array using `fromitier()` function\n",
    "___"
   ]
  },
  {
   "cell_type": "markdown",
   "metadata": {},
   "source": [
    "The `numpy.fromiter()` function is used to create a new one-dimensional NumPy array from an iterable object, such as a list, tuple, or generator. It takes an iterable object as its first argument and an optional data type as its second argument.\n",
    "Here's an example to illustrate its usage:\n",
    "\n",
    "The sytax is as follows:\n",
    "\n",
    "```python\n",
    "numpy.fromiter(iterable, dtype, count=-1)\n",
    "```\n",
    "Where:\n",
    "* iterable: An iterable object\n",
    "* dtype: Data type of the returned array\n",
    "* count: The number of items to read from iterable. The default is -1, which means all items are read.\n",
    "\n"
   ]
  },
  {
   "cell_type": "code",
   "execution_count": 46,
   "metadata": {},
   "outputs": [
    {
     "name": "stdout",
     "output_type": "stream",
     "text": [
      "[1 2 3 4 5]\n"
     ]
    }
   ],
   "source": [
    "# Example 1: Creating an array from a list\n",
    "import numpy as np\n",
    "\n",
    "# An iterable object (in this case, a list)\n",
    "data = [1, 2, 3, 4, 5]\n",
    "\n",
    "# Create a NumPy array from the list\n",
    "array = np.fromiter(data, dtype=int)\n",
    "print(array) \n"
   ]
  },
  {
   "cell_type": "code",
   "execution_count": 1,
   "metadata": {},
   "outputs": [
    {
     "name": "stdout",
     "output_type": "stream",
     "text": [
      "[2 3 4 5 6]\n"
     ]
    },
    {
     "data": {
      "text/plain": [
       "dtype('int64')"
      ]
     },
     "execution_count": 1,
     "metadata": {},
     "output_type": "execute_result"
    }
   ],
   "source": [
    "# Example 2: Creating an array from a generator\n",
    "\n",
    "import numpy as np\n",
    "\n",
    "# A generator function\n",
    "def generator():\n",
    "    for i in range(5):\n",
    "        yield i + 2\n",
    "\n",
    "# Create a NumPy array from the generator\n",
    "array = np.fromiter(generator(), dtype=int)\n",
    "print(array) \n",
    "array.dtype \n",
    "\n"
   ]
  },
  {
   "cell_type": "code",
   "execution_count": 48,
   "metadata": {},
   "outputs": [
    {
     "name": "stdout",
     "output_type": "stream",
     "text": [
      "[10 20 30]\n"
     ]
    }
   ],
   "source": [
    "# Example 3: Using the count parameter\n",
    "\n",
    "import numpy as np\n",
    "\n",
    "# An iterable object (in this case, a list)\n",
    "data = [10, 20, 30, 40, 50]\n",
    "\n",
    "# Create a NumPy array from the list, but only read the first 3 items\n",
    "array = np.fromiter(data, dtype=int, count=3)\n",
    "print(array)  # Output: [10 20 30]\n"
   ]
  },
  {
   "cell_type": "markdown",
   "metadata": {},
   "source": [
    "**Advantages of Using `numpy.fromiter()`**\n",
    "1. Efficiency: numpy.fromiter() can be more memory-efficient than first converting an iterable to a list and then creating a NumPy array, especially for large datasets.\n",
    "\n",
    "2. Flexibility: It allows creating arrays directly from any iterable, including generators, which can save memory by not needing to store all elements in memory at once.\n",
    "\n",
    "This function is particularly useful when working with large datasets or when data is being generated on the fly, making it a powerful tool in the NumPy library."
   ]
  },
  {
   "cell_type": "markdown",
   "metadata": {},
   "source": [
    "##### 3.5.0 Create a Numpy Array using `arange( )`\n",
    "___"
   ]
  },
  {
   "cell_type": "markdown",
   "metadata": {},
   "source": [
    "The `numpy.arange()` function in NumPy is used to generate arrays of evenly spaced values within a specified interval. It's similar to the built-in Python `range()` function, but it returns a NumPy array instead of a list, and it supports floating-point numbers.\n",
    "\n",
    "The syntax for `numpy.arange()` is as follows:\n",
    "\n",
    "```python\n",
    "numpy.arange(start, stop, step, dtype=None)\n",
    "```\n",
    "\n",
    "Where:\n",
    "* start: The starting value of the interval (inclusive)\n",
    "* stop: The end value of the interval (exclusive)\n",
    "* step: The step size between values (default is 1)\n",
    "* dtype: The data type of the array (optional)\n"
   ]
  },
  {
   "cell_type": "code",
   "execution_count": 2,
   "metadata": {},
   "outputs": [
    {
     "name": "stdout",
     "output_type": "stream",
     "text": [
      "[0 1 2 3 4 5 6 7 8 9]\n"
     ]
    }
   ],
   "source": [
    "# Example 1: Basic Usage\n",
    "\n",
    "import numpy as np\n",
    "\n",
    "# Create an array of integers from 0 to 9\n",
    "array = np.arange(10)\n",
    "print(array)  \n"
   ]
  },
  {
   "cell_type": "code",
   "execution_count": 50,
   "metadata": {},
   "outputs": [
    {
     "name": "stdout",
     "output_type": "stream",
     "text": [
      "[5 6 7 8 9]\n"
     ]
    }
   ],
   "source": [
    "# Example 2: Specifying the start and stop parameters\n",
    "\n",
    "import numpy as np\n",
    "\n",
    "# Create an array of integers from 5 to 9\n",
    "array = np.arange(5, 10)\n",
    "print(array)  "
   ]
  },
  {
   "cell_type": "code",
   "execution_count": 3,
   "metadata": {},
   "outputs": [
    {
     "name": "stdout",
     "output_type": "stream",
     "text": [
      "[0 2 4 6 8]\n",
      "\n",
      "int64\n"
     ]
    }
   ],
   "source": [
    "# Example 3: Specifying the start, stop, and step parameters\n",
    "\n",
    "import numpy as np\n",
    "\n",
    "# Create an array of even integers from 0 to 9\n",
    "array2 = np.arange(0, 10, 2)\n",
    "print(array2)  \n",
    "print()\n",
    "print(array2.dtype)\n"
   ]
  },
  {
   "cell_type": "code",
   "execution_count": 6,
   "metadata": {},
   "outputs": [
    {
     "name": "stdout",
     "output_type": "stream",
     "text": [
      "[0.  0.1 0.2 0.3 0.4 0.5 0.6 0.7 0.8 0.9]\n",
      "\n",
      "float64\n"
     ]
    }
   ],
   "source": [
    "# Example 4: Using Floating Point Numbers\n",
    "\n",
    "import numpy as np\n",
    "\n",
    "# Create an array of floating point numbers from 0 to 1\n",
    "array1 = np.arange(0, 1, 0.1)\n",
    "print(array1)\n",
    "print()  \n",
    "print(array1.dtype)"
   ]
  },
  {
   "cell_type": "code",
   "execution_count": 5,
   "metadata": {},
   "outputs": [
    {
     "name": "stdout",
     "output_type": "stream",
     "text": [
      "[0. 1. 2. 3. 4. 5. 6. 7. 8. 9.]\n",
      "\n",
      "float64\n"
     ]
    }
   ],
   "source": [
    "# Example 5: Specifying Data Type\n",
    "\n",
    "import numpy as np\n",
    "\n",
    "# Create an array of integers from 0 to 9 with data type float\n",
    "array = np.arange(10, dtype=float)\n",
    "print(array) \n",
    "print()\n",
    "print(array.dtype)\n"
   ]
  },
  {
   "cell_type": "markdown",
   "metadata": {},
   "source": [
    "##### 3.6.0 Create a Numpy Array using `nump.linspace( )`\n",
    "___"
   ]
  },
  {
   "cell_type": "markdown",
   "metadata": {},
   "source": [
    "The `numpy.linspace()` function in NumPy is used to generate an array of evenly spaced numbers over a specified interval. Unlike `numpy.arange()`, which specifies the step size, `numpy.linspace()` allows you to specify the number of elements you want between the start and stop values.\n",
    "\n",
    "The syntax for `numpy.linspace()` is as follows:\n",
    "\n",
    "```python\n",
    "numpy.linspace(start, stop, num=50, endpoint=True, retstep=False, dtype=None, axis = 0)\n",
    "```\n",
    "\n",
    "Where:\n",
    "* start: The starting value of the sequence\n",
    "* stop: The end value of the sequence\n",
    "* num: The number of samples to generate (default is 50)\n",
    "* endpoint: Whether to include the stop value in the sequence (default is True)\n",
    "* retstep: Whether to return the step size (default is False)\n",
    "* dtype: The data type of the array (optional)\n",
    "* axis: The axis in the result to store the samples (default is 0)\n",
    "\n"
   ]
  },
  {
   "cell_type": "code",
   "execution_count": 54,
   "metadata": {},
   "outputs": [
    {
     "name": "stdout",
     "output_type": "stream",
     "text": [
      "[0.   0.25 0.5  0.75 1.  ]\n"
     ]
    }
   ],
   "source": [
    "# Example 1: Basic Usage\n",
    "\n",
    "import numpy as np\n",
    "\n",
    "# Create an array of 5 evenly spaced values from 0 to 1\n",
    "array = np.linspace(0, 1, num=5)\n",
    "print(array)  \n",
    "\n",
    "# In this example, it generates an array of 5 evenly spaced values from 0 to 1 (inclusive).\n"
   ]
  },
  {
   "cell_type": "code",
   "execution_count": 6,
   "metadata": {},
   "outputs": [
    {
     "name": "stdout",
     "output_type": "stream",
     "text": [
      "[ 0. 10. 20. 30. 40. 50. 60. 70. 80. 90.]\n"
     ]
    }
   ],
   "source": [
    "# Example 2: Specifying Endpoint\n",
    "\n",
    "import numpy as np\n",
    "\n",
    "# Create an array of 5 evenly spaced values from 0 to 1, excluding the endpoint\n",
    "array = np.linspace(0, 100, num=10, endpoint=False)\n",
    "print(array)  # Output: [0.  0.2 0.4 0.6 0.8]\n"
   ]
  },
  {
   "cell_type": "code",
   "execution_count": 56,
   "metadata": {},
   "outputs": [
    {
     "name": "stdout",
     "output_type": "stream",
     "text": [
      "[0.         0.66666667 1.33333333 2.        ]\n",
      "0.6666666666666666\n"
     ]
    }
   ],
   "source": [
    "# Example 3: Returning Step Size\n",
    "\n",
    "import numpy as np\n",
    "\n",
    "# Create an array of 4 evenly spaced values from 0 to 2, and return the step size\n",
    "array, step = np.linspace(0, 2, num=4, retstep=True)\n",
    "print(array)  \n",
    "print(step)   \n",
    "\n",
    "\n",
    "# In this case, np.linspace(0, 2, num=4, retstep=True) generates an array of 4 evenly spaced values from 0 to 2, \n",
    "# and also returns the step size between the values."
   ]
  },
  {
   "cell_type": "code",
   "execution_count": 57,
   "metadata": {},
   "outputs": [
    {
     "name": "stdout",
     "output_type": "stream",
     "text": [
      "[0.   0.25 0.5  0.75 1.  ]\n"
     ]
    }
   ],
   "source": [
    "# Example 5: Using Axis Parameter\n",
    "array = np.linspace(0, 1, num=5, axis=0)\n",
    "print(array)  # Output: [0.   0.25 0.5  0.75 1.  ]\n"
   ]
  },
  {
   "cell_type": "markdown",
   "metadata": {},
   "source": [
    "##### 3.7.0 Create a Numpy Array using `nump.empty( )`\n",
    "___"
   ]
  },
  {
   "cell_type": "markdown",
   "metadata": {},
   "source": [
    "The `numpy.empty()` function in NumPy is used to create a new array of a specified shape and data type, but it does not initialize the array elements with any particular values. This means the contents of the array are arbitrary and will consist of whatever values happen to be present at the allocated memory location.\n",
    "\n",
    "the syntax is as follows:\n",
    "\n",
    "```python\n",
    "numpy.empty(shape, dtype=float, order='C')\n",
    "```\n",
    "\n",
    "Where:\n",
    "* shape: The shape of the new array (e.g., (2, 3) for a 2x3 matrix)\n",
    "* dtype: The data type of the array elements (default is float)\n",
    "* order: The memory layout of the array (default is 'C' for row-major order)\n",
    "\n",
    "\n",
    "**Important Note**\n",
    "\n",
    "1. The `numpy.empty()` function is different from functions like `numpy.zeros()` or `numpy.ones()`, which initialize the array with zeros or ones, respectively.\n",
    "\n",
    "1. Since `numpy.empty()` does not initialize the array, the elements will contain whatever random data happens to be in memory at the time of allocation. Therefore, you should assign values to the elements before using the array in computations.\n",
    "\n",
    "\n"
   ]
  },
  {
   "cell_type": "code",
   "execution_count": 10,
   "metadata": {},
   "outputs": [
    {
     "data": {
      "text/plain": [
       "array([[0, 0, 0],\n",
       "       [0, 0, 0],\n",
       "       [0, 0, 0],\n",
       "       [0, 0, 0]], dtype=int32)"
      ]
     },
     "execution_count": 10,
     "metadata": {},
     "output_type": "execute_result"
    }
   ],
   "source": [
    "import numpy as np\n",
    "\n",
    "np.empty([4, 3], dtype = np.int32, order = 'f')"
   ]
  },
  {
   "cell_type": "code",
   "execution_count": 12,
   "metadata": {},
   "outputs": [
    {
     "name": "stdout",
     "output_type": "stream",
     "text": [
      "[[0. 0. 0.]\n",
      " [0. 0. 0.]]\n"
     ]
    }
   ],
   "source": [
    "# Example 1: Creating an Uninitialized Array\n",
    "\n",
    "import numpy as np\n",
    "\n",
    "# Create a 2x3 array of floats, with uninitialized values\n",
    "array = np.empty((2, 3))\n",
    "print(array)\n",
    "\n",
    "# In this example, np.empty((2, 3)) creates a 2x3 array with uninitialized values. \n",
    "# The values printed are whatever was in memory at the time.\n"
   ]
  },
  {
   "cell_type": "code",
   "execution_count": 15,
   "metadata": {},
   "outputs": [
    {
     "name": "stdout",
     "output_type": "stream",
     "text": [
      "[[4621819117588971520 4626322717216342016 4629137466983448576]\n",
      " [4630826316843712512 4632233691727265792 4633641066610819072]\n",
      " [4634626229029306368 4635329916471083008 4636033603912859648]]\n"
     ]
    }
   ],
   "source": [
    "# Example 2: Specifying Data Type\n",
    "\n",
    "import numpy as np\n",
    "\n",
    "# Create a 3x3 array of integers, with uninitialized values\n",
    "array = np.empty((3, 3), dtype=int)\n",
    "print(array)\n"
   ]
  },
  {
   "cell_type": "markdown",
   "metadata": {},
   "source": [
    "**Use Cases**\n",
    "\n",
    "1. Performance: np.empty() is faster than np.zeros() or np.ones() because it does not initialize the array elements.\n",
    "\n",
    "1. Temporary Arrays: Useful for creating temporary arrays that will be immediately overwritten with calculated values.\n",
    "\n",
    "1. Large Arrays: When creating large arrays where initialization is not needed, np.empty() can save time and resources.\n",
    "\n",
    "However, it's important to be cautious when using np.empty(), as the uninitialized values can lead to unexpected behavior if you don't properly initialize the array elements before using them.\n",
    "\n",
    "\n",
    "\n",
    "\n",
    "\n"
   ]
  },
  {
   "cell_type": "markdown",
   "metadata": {},
   "source": [
    "##### 3.8.0 Create a Numpy Array using `np.one( )`\n",
    "___"
   ]
  },
  {
   "cell_type": "markdown",
   "metadata": {},
   "source": [
    " The `numpy.ones()` function in NumPy is used to create a new array of a specified shape and data type, where all the elements are initialized to the value 1.\n",
    "\n",
    "The syntax for `numpy.ones()` is as follows:\n",
    "\n",
    "```python\n",
    "numpy.ones(shape, dtype=None, order='C')\n",
    "```\n",
    "\n",
    "Where:\n",
    "* shape: The shape of the new array (e.g., (2, 3) for a 2x3 matrix)\n",
    "* dtype: The data type of the array elements (default is None, which uses the default data type for the NumPy installation)\n",
    "* order: The memory layout of the array (default is 'C' for row-major order)\n",
    "\n",
    "**Use Cases**\n",
    "1. Initialization: np.ones() is commonly used for initializing arrays before performing operations that require a specific starting value.\n",
    "2. Placeholders: Useful for creating placeholder arrays for computations or data storage where the initial values are known to be 1.\n",
    "3. Matrix Operations: Creating identity matrices or matrices for certain linear algebra operations where ones are needed.\n",
    "\n",
    "\n",
    "\n"
   ]
  },
  {
   "cell_type": "code",
   "execution_count": 61,
   "metadata": {},
   "outputs": [
    {
     "name": "stdout",
     "output_type": "stream",
     "text": [
      "[[1. 1. 1.]\n",
      " [1. 1. 1.]]\n"
     ]
    }
   ],
   "source": [
    "# Example 1: Basic Usage\n",
    "\n",
    "import numpy as np\n",
    "\n",
    "# Create a 2x3 array of floats, filled with ones\n",
    "array = np.ones((2, 3))\n",
    "print(array)\n"
   ]
  },
  {
   "cell_type": "code",
   "execution_count": 62,
   "metadata": {},
   "outputs": [
    {
     "data": {
      "text/plain": [
       "array([[1, 1, 1],\n",
       "       [1, 1, 1],\n",
       "       [1, 1, 1],\n",
       "       [1, 1, 1]], dtype=int32)"
      ]
     },
     "execution_count": 62,
     "metadata": {},
     "output_type": "execute_result"
    }
   ],
   "source": [
    "import numpy as np\n",
    "\n",
    "np.ones([4, 3],\n",
    "        dtype = np.int32,\n",
    "        order = 'f')\n"
   ]
  },
  {
   "cell_type": "markdown",
   "metadata": {},
   "source": [
    "##### 3.9.0 Create a Numpy Array using `np.zero( )`\n",
    "___"
   ]
  },
  {
   "cell_type": "markdown",
   "metadata": {},
   "source": [
    "The `numpy.zeros()` function in NumPy is used to create a new array of a specified shape and data type, where all the elements are initialized to the value 0.\n",
    "\n",
    "The syntax for `numpy.zeros()` is as follows:\n",
    "\n",
    "```python\n",
    "\n",
    "numpy.zeros(shape, dtype=float, order='C')\n",
    "```\n",
    "\n",
    "Where:\n",
    "* shape: The shape of the new array (e.g., (2, 3) for a 2x3 matrix)\n",
    "* dtype: The data type of the array elements (default is float)\n",
    "* order: The memory layout of the array (default is 'C' for row-major order)\n",
    "\n",
    "**Use Cases**   \n",
    "\n",
    "1. Initialization: np.zeros() is commonly used for initializing arrays before performing operations that require a specific starting value.\n",
    "2. Placeholders: Useful for creating placeholder arrays for computations or data storage where the initial values are known to be 0.\n",
    "3. Sparse Data: Often used in the context of sparse data structures where the majority of elements are zero.\n",
    "4. Matrix Operations: Creating matrices for certain linear algebra operations where zeros are needed.\n",
    "Using numpy.zeros() is straightforward and very useful for creating arrays that need to be initialized with the value 0."
   ]
  },
  {
   "cell_type": "code",
   "execution_count": 63,
   "metadata": {},
   "outputs": [
    {
     "name": "stdout",
     "output_type": "stream",
     "text": [
      "[[0. 0. 0.]\n",
      " [0. 0. 0.]]\n"
     ]
    }
   ],
   "source": [
    "# Example 1: Basic Usage\n",
    "\n",
    "import numpy as np\n",
    "\n",
    "# Create a 2x3 array of floats, filled with zeros\n",
    "array = np.zeros((2, 3))\n",
    "print(array)\n"
   ]
  },
  {
   "cell_type": "code",
   "execution_count": 64,
   "metadata": {},
   "outputs": [
    {
     "name": "stdout",
     "output_type": "stream",
     "text": [
      "[[0 0 0]\n",
      " [0 0 0]\n",
      " [0 0 0]]\n"
     ]
    }
   ],
   "source": [
    "# Example 2: Specifying Data Type\n",
    "import numpy as np\n",
    "\n",
    "# Create a 3x3 array of integers, filled with zeros\n",
    "array = np.zeros((3, 3), dtype=int)\n",
    "print(array)\n"
   ]
  },
  {
   "cell_type": "code",
   "execution_count": 65,
   "metadata": {},
   "outputs": [
    {
     "name": "stdout",
     "output_type": "stream",
     "text": [
      "[[0. 0. 0.]\n",
      " [0. 0. 0.]]\n"
     ]
    }
   ],
   "source": [
    "# Example 4: Using Order Parameter\n",
    "\n",
    "import numpy as np\n",
    "\n",
    "# Create a 2x3 array with Fortran order (column-major order), filled with zeros\n",
    "array = np.zeros((2, 3), order='F')\n",
    "print(array)\n"
   ]
  },
  {
   "cell_type": "markdown",
   "metadata": {},
   "source": [
    "##### 3.10.0 Create a Numpy Array using `np.eye( )`\n",
    "___"
   ]
  },
  {
   "cell_type": "markdown",
   "metadata": {},
   "source": [
    "We can create a array using the `numpy.eye()` function in NumPy. The `numpy.eye()` function is used to create a 2D array with ones on the diagonal and zeros elsewhere. This function is commonly used to create identity matrices, which are square matrices with ones on the diagonal and zeros elsewhere. The sytax is as follows:\n",
    "\n",
    "```python\n",
    "numpy.eye(N, M=None, k=0, dtype=<class 'float'>, order='C')\n",
    "```\n",
    "\n",
    "Where:\n",
    "* N: The number of rows in the output array\n",
    "* M: The number of columns in the output array (default is N)\n",
    "* k: The index of the diagonal (default is 0, which refers to the main diagonal)\n",
    "* dtype: The data type of the array elements (default is float)\n",
    "* order: The memory layout of the array (default is 'C' for row-major order)\n",
    "\n",
    "**Use Cases**\n",
    "\n",
    "1. Identity Matrices: The primary use of np.eye() is to create identity matrices, which are square matrices with ones on the diagonal and zeros elsewhere.\n",
    "2. Linear Algebra: Identity matrices are commonly used in linear algebra for operations like matrix multiplication, inversion, and solving systems of equations.\n",
    "3. Placeholder Arrays: np.eye() can be used to create placeholder arrays for computations or data storage where the initial values are known to be an identity matrix.\n",
    "\n"
   ]
  },
  {
   "cell_type": "code",
   "execution_count": 66,
   "metadata": {},
   "outputs": [
    {
     "name": "stdout",
     "output_type": "stream",
     "text": [
      "[[1. 0. 0.]\n",
      " [0. 1. 0.]\n",
      " [0. 0. 1.]]\n"
     ]
    }
   ],
   "source": [
    "# Example 1: Creating a 3x3 identity matrix:\n",
    "import numpy as np\n",
    "\n",
    "identity_matrix = np.eye(3)\n",
    "print(identity_matrix)\n"
   ]
  },
  {
   "cell_type": "code",
   "execution_count": 25,
   "metadata": {},
   "outputs": [
    {
     "name": "stdout",
     "output_type": "stream",
     "text": [
      "[[0. 1. 0. 0.]\n",
      " [0. 0. 1. 0.]\n",
      " [0. 0. 0. 1.]\n",
      " [0. 0. 0. 0.]]\n"
     ]
    }
   ],
   "source": [
    "# Example 2: Creating a 4x4 identity matrix with a different diagonal offset:\n",
    "import numpy as np\n",
    "\n",
    "identity_matrix2 = np.eye(4, k=1)\n",
    "print(identity_matrix2)"
   ]
  },
  {
   "cell_type": "code",
   "execution_count": 68,
   "metadata": {},
   "outputs": [
    {
     "name": "stdout",
     "output_type": "stream",
     "text": [
      "[[1. 0. 0. 0.]\n",
      " [0. 1. 0. 0.]\n",
      " [0. 0. 1. 0.]]\n"
     ]
    }
   ],
   "source": [
    "# Creating a 3x4 matrix with ones on the diagonal:(non-square matrix)\n",
    "import numpy as np\n",
    "\n",
    "diagonal_matrix = np.eye(3, 4)\n",
    "print(diagonal_matrix)"
   ]
  },
  {
   "cell_type": "code",
   "execution_count": 69,
   "metadata": {},
   "outputs": [
    {
     "name": "stdout",
     "output_type": "stream",
     "text": [
      "[[0. 1. 0.]\n",
      " [0. 0. 1.]\n",
      " [0. 0. 0.]]\n"
     ]
    }
   ],
   "source": [
    "# Diagonal Above the Main Diagonal: \n",
    "# Creating a 3x3 matrix with ones on the diagonal above the main diagonal:\n",
    "\n",
    "import numpy as np\n",
    "upper_diagonal_matrix = np.eye(3, 3, k=1)\n",
    "print(upper_diagonal_matrix)\n"
   ]
  },
  {
   "cell_type": "markdown",
   "metadata": {},
   "source": [
    "##### 3.11.0 Create 1D NumPy Array using Random() Function\n",
    "___"
   ]
  },
  {
   "cell_type": "markdown",
   "metadata": {},
   "source": [
    "Wwe can use the `numpy.random.rand()` function to create a 1D NumPy array with random values. The `numpy.random.rand()` function generates random numbers from a uniform distribution over the range [0, 1). The syntax is as follows:\n",
    "\n",
    "```python\n",
    "numpy.random.rand(d0, d1, ..., dn)\n",
    "```\n",
    "\n",
    "Where:\n",
    "* d0, d1, ..., dn: The dimensions of the output array (optional)\n"
   ]
  },
  {
   "cell_type": "code",
   "execution_count": 70,
   "metadata": {},
   "outputs": [
    {
     "name": "stdout",
     "output_type": "stream",
     "text": [
      "[[0.55281858 0.35713377 0.0632484 ]\n",
      " [0.63578557 0.06997885 0.22252937]\n",
      " [0.99014729 0.57751571 0.47770637]]\n"
     ]
    }
   ],
   "source": [
    "# Example 1: Creating a 3x3 matrix with random values:\n",
    "import numpy as np\n",
    "\n",
    "random_matrix = np.random.rand(3, 3)\n",
    "print(random_matrix)"
   ]
  },
  {
   "cell_type": "markdown",
   "metadata": {},
   "source": [
    "Another example of random number generation is the `numpy.random.randn()` function, which generates random from a standard normal distribution. This distribution is also known as the Gaussian distribution or bell curve, which has a mean of 0 and a standard deviation of 1. The random numbere generated by this function are commonly used in statistical analysis and modeling, and refered as standard normal random numbers or z-score. The syntax is as follows:\n",
    "\n",
    "```python\n",
    "numpy.random.randn(d0, d1, ..., dn)\n",
    "```\n",
    "\n",
    "Where:\n",
    "* d0, d1, ..., dn: The dimensions of the output array (optional)"
   ]
  },
  {
   "cell_type": "code",
   "execution_count": 71,
   "metadata": {},
   "outputs": [
    {
     "name": "stdout",
     "output_type": "stream",
     "text": [
      "[[ 0.98711405  0.0662489  -1.34837151]\n",
      " [ 0.1064459  -0.02411029 -0.68385355]\n",
      " [ 0.41034377 -0.00821735  0.74280311]]\n"
     ]
    }
   ],
   "source": [
    "# Example of standard normal distribution:\n",
    "import numpy as np\n",
    "\n",
    "random_matrix = np.random.randn(3, 3)\n",
    "print(random_matrix)"
   ]
  },
  {
   "cell_type": "markdown",
   "metadata": {},
   "source": [
    "##### 3.12.0 Create a Full NumPy Array using `np.full()`\n",
    "___"
   ]
  },
  {
   "cell_type": "markdown",
   "metadata": {},
   "source": [
    "We can create a full NumPy array using the `numpy.full()` function. The `numpy.full()` function is used to create a new array of a specified shape and data type, where all the elements are initialized to the specified fill value. The syntax is as follows:\n",
    "\n",
    "```python\n",
    "numpy.full(shape, fill_value, dtype=None, order='C')\n",
    "```\n",
    "\n",
    "Where:\n",
    "* shape: The shape of the new array (e.g., (2, 3) for a 2x3 matrix)\n",
    "* fill_value: The value to fill the array with\n",
    "* dtype: The data type of the array elements (default is None, which uses the default data type for the NumPy installation)\n",
    "* order: The memory layout of the array (default is 'C' for row-major order)\n"
   ]
  },
  {
   "cell_type": "code",
   "execution_count": 72,
   "metadata": {},
   "outputs": [
    {
     "name": "stdout",
     "output_type": "stream",
     "text": [
      "[[7 7 7 7]\n",
      " [7 7 7 7]\n",
      " [7 7 7 7]]\n"
     ]
    }
   ],
   "source": [
    "# Example of numpy.full() function\n",
    "\n",
    "import numpy as np\n",
    "\n",
    "# Create a 2x3 array filled with 7\n",
    "array = np.full((3, 4), 7)\n",
    "print(array)"
   ]
  },
  {
   "cell_type": "markdown",
   "metadata": {},
   "source": [
    "**Create an Empty and a Full NumPy Array**\n",
    "\n",
    "Sometimes there is a need to create an empty and full array simultaneously for a particular question. In this situation, we have two functions named `numpy.empty()` and `numpy. full()` to create an empty and full array. Here we will see different examples:"
   ]
  },
  {
   "cell_type": "code",
   "execution_count": 73,
   "metadata": {},
   "outputs": [
    {
     "name": "stdout",
     "output_type": "stream",
     "text": [
      "Empty Array\n",
      "[[0 0 0 0]\n",
      " [0 0 0 0]\n",
      " [0 0 0 0]]\n",
      "\n",
      " Full Array\n",
      "[[55 55 55]\n",
      " [55 55 55]\n",
      " [55 55 55]]\n"
     ]
    }
   ],
   "source": [
    "# Example 1: we create an empty array of 3X4 \n",
    "# and a full array of 3X3 of INTEGER type.\n",
    "import numpy as np\n",
    "\n",
    "# Create an empty array\n",
    "empa = np.empty((3, 4), dtype=int)\n",
    "print(\"Empty Array\")\n",
    "print(empa)\n",
    "\n",
    "# Create a full array\n",
    "flla = np.full([3, 3], 55, dtype=int)\n",
    "print(\"\\n Full Array\")\n",
    "print(flla)\n"
   ]
  },
  {
   "cell_type": "code",
   "execution_count": 74,
   "metadata": {},
   "outputs": [
    {
     "name": "stdout",
     "output_type": "stream",
     "text": [
      "Empty Array\n",
      "[[0. 0.]\n",
      " [0. 0.]\n",
      " [0. 0.]\n",
      " [0. 0.]]\n",
      "\n",
      " Full Array\n",
      "[[95 95 95]\n",
      " [95 95 95]\n",
      " [95 95 95]\n",
      " [95 95 95]]\n"
     ]
    }
   ],
   "source": [
    "# Example 2: In the example, we create an empty array of 4X2 \n",
    "# and a full array of 4X3 of INTEGER and FLOAT type.\n",
    "\n",
    "import numpy as np\n",
    "\n",
    "\n",
    "# Create an empty array\n",
    "empa = np.empty([4, 2])\n",
    "print(\"Empty Array\")\n",
    "print(empa)\n",
    "\n",
    "# Create a full array\n",
    "flla = np.full([4, 3], 95)\n",
    "print(\"\\n Full Array\")\n",
    "print(flla)\n"
   ]
  },
  {
   "cell_type": "markdown",
   "metadata": {},
   "source": [
    "##### 3.13.0 NumPy Array Function Creation\n",
    "___"
   ]
  },
  {
   "cell_type": "markdown",
   "metadata": {},
   "source": [
    "\n",
    "Aside the usual step stated above, there are other possibility of creating an array, and one of the common one is the the creation ofarray using the in-built function `array` function itself. The sytax for the using the array function is as follows:\n",
    "\n",
    "```python\n",
    "array(data type, value list)\n",
    "```\n",
    "* where `data type` is the type of the data to be stored in the array and `value list` is the list of values to be stored in the array.\n",
    " \n",
    "* The array function can be used to create a NumPy array from a list or tuple. \n",
    "\n",
    "* The `data type` is represented by intial letter of the data type. \n",
    " For example, 'i' for integer, 'f' for float, 'S' for string, 'b' for boolean, 'c' for complex number, 'O' for object, 'U' for unicode string, 'V' for raw data (void).\n",
    "\n",
    "\n"
   ]
  },
  {
   "cell_type": "markdown",
   "metadata": {},
   "source": [
    "**Using Python's array Module**  \n",
    "\n",
    "The array module in Python provides a basic way to create arrays with a specified data type."
   ]
  },
  {
   "cell_type": "code",
   "execution_count": 75,
   "metadata": {},
   "outputs": [
    {
     "name": "stdout",
     "output_type": "stream",
     "text": [
      "Integer array: array('i', [1, 2, 3, 4, 5])\n",
      "Float array: array('f', [1.100000023841858, 2.200000047683716, 3.299999952316284, 4.400000095367432, 5.5])\n"
     ]
    }
   ],
   "source": [
    "import array\n",
    "\n",
    "# Creating an array of integers\n",
    "int_array = array.array('i', [1, 2, 3, 4, 5])\n",
    "print(\"Integer array:\", int_array)\n",
    "\n",
    "# Creating an array of floats\n",
    "float_array = array.array('f', [1.1, 2.2, 3.3, 4.4, 5.5])\n",
    "print(\"Float array:\", float_array)\n"
   ]
  },
  {
   "cell_type": "markdown",
   "metadata": {},
   "source": [
    "**Using NumPy for More Flexibility** \n",
    "\n",
    "While the array module is useful, NumPy is more powerful and flexible for numerical and scientific computing. You can achieve similar functionality using NumPy but with more capabilities."
   ]
  },
  {
   "cell_type": "code",
   "execution_count": 76,
   "metadata": {},
   "outputs": [
    {
     "name": "stdout",
     "output_type": "stream",
     "text": [
      "NumPy Integer array: [1 2 3 4 5]\n",
      "NumPy Float array: [1.1 2.2 3.3 4.4 5.5]\n",
      "NumPy Complex array: [1.+2.j 3.+4.j 5.+6.j]\n"
     ]
    }
   ],
   "source": [
    "import numpy as np\n",
    "\n",
    "# Creating an array of integers\n",
    "int_array = np.array([1, 2, 3, 4, 5], dtype=int)\n",
    "print(\"NumPy Integer array:\", int_array)\n",
    "\n",
    "# Creating an array of floats\n",
    "float_array = np.array([1.1, 2.2, 3.3, 4.4, 5.5], dtype=float)\n",
    "print(\"NumPy Float array:\", float_array)\n",
    "\n",
    "# Creating an array of complex numbers\n",
    "complex_array = np.array([1+2j, 3+4j, 5+6j], dtype=complex)\n",
    "print(\"NumPy Complex array:\", complex_array)\n"
   ]
  },
  {
   "cell_type": "markdown",
   "metadata": {},
   "source": [
    "**Detailed Example with NumPy**\n",
    "\n",
    "Here’s a more detailed example that demonstrates creating arrays with different data types using NumPy:"
   ]
  },
  {
   "cell_type": "code",
   "execution_count": 77,
   "metadata": {},
   "outputs": [
    {
     "name": "stdout",
     "output_type": "stream",
     "text": [
      "NumPy Integer array: [10 20 30 40 50]\n",
      "Data type of int_array: int64\n",
      "\n",
      "NumPy Float array: [1.1 2.2 3.3 4.4 5.5]\n",
      "Data type of float_array: float64\n",
      "\n",
      "NumPy Complex array: [1.+2.j 3.+4.j 5.+6.j]\n",
      "Data type of complex_array: complex128\n",
      "\n",
      "NumPy Boolean array: [ True False  True False]\n",
      "Data type of bool_array: bool\n"
     ]
    }
   ],
   "source": [
    "import numpy as np\n",
    "\n",
    "# Integer array\n",
    "int_array = np.array([10, 20, 30, 40, 50], dtype=int)\n",
    "print(\"NumPy Integer array:\", int_array)\n",
    "print(\"Data type of int_array:\", int_array.dtype)\n",
    "print()\n",
    "\n",
    "# Float array\n",
    "float_array = np.array([1.1, 2.2, 3.3, 4.4, 5.5], dtype=float)\n",
    "print(\"NumPy Float array:\", float_array)\n",
    "print(\"Data type of float_array:\", float_array.dtype)\n",
    "print()\n",
    "\n",
    "# Complex number array\n",
    "complex_array = np.array([1+2j, 3+4j, 5+6j], dtype=complex)\n",
    "print(\"NumPy Complex array:\", complex_array)\n",
    "print(\"Data type of complex_array:\", complex_array.dtype)\n",
    "print()\n",
    "\n",
    "# Boolean array\n",
    "bool_array = np.array([True, False, True, False], dtype=bool)\n",
    "print(\"NumPy Boolean array:\", bool_array)\n",
    "print(\"Data type of bool_array:\", bool_array.dtype)\n"
   ]
  },
  {
   "cell_type": "markdown",
   "metadata": {},
   "source": [
    "##### 3.15.0 Create a Numpy fromrecords() method\n",
    "___"
   ]
  },
  {
   "cell_type": "markdown",
   "metadata": {},
   "source": [
    "The `numpy.core.fromrecords()` function in NumPy is used to create a structured array from a list of tuples or a list of records. This function is particularly useful when you have tabular data and want to convert it into a NumPy structured array where each element can be accessed by a field name.\n",
    "\n",
    "The syntax for numpy.core.fromrecords() is as follows:\n",
    "\n",
    "```python\n",
    "numpy.core.fromrecords(records, dtype=None, shape=None, formats=None, names=None, titles=None, aligned=False, byteorder=None, copy=True)\n",
    "```\n",
    "\n",
    "Where:\n",
    "* recList: A list of tuples or a list of records from which to create the array. Each tuple should have the same length, corresponding to the number of fields in the record.\n",
    "\n",
    "* dtype: (Optional) Data type descriptor of the resulting array. This can be specified as a list of tuples, with each tuple describing a field (name, type).\n",
    "\n",
    "* shape: (Optional) The shape of the resulting array. If not specified, the shape is inferred from the length of the records.\n",
    "\n",
    "* formats: (Optional) A list of data types for each field in the record. If dtype is not specified, this can be used to specify the data types of the fields.\n",
    "\n",
    "* names: (Optional) A list of field names for the resulting array. If dtype is not specified, this can be used to specify the field names.\n",
    "\n",
    "* titles: (Optional) A list of titles for the fields in the resulting array.\n",
    "\n",
    "* aligned: (Optional) Whether the fields should be aligned in memory.\n",
    "\n",
    "* byteorder: (Optional) The byte order of the resulting array."
   ]
  },
  {
   "cell_type": "code",
   "execution_count": 78,
   "metadata": {},
   "outputs": [
    {
     "name": "stdout",
     "output_type": "stream",
     "text": [
      "[(1, 2.5, 'Alice') (2, 3.6, 'Bob') (3, 4.2, 'Charlie')]\n"
     ]
    }
   ],
   "source": [
    "import numpy as np\n",
    "\n",
    "# Define a list of records\n",
    "data = [(1, 2.5, 'Alice'), (2, 3.6, 'Bob'), (3, 4.2, 'Charlie')]\n",
    "\n",
    "# Define the data type\n",
    "dtype = [('id', 'i4'), ('score', 'f4'), ('name', 'U10')]\n",
    "\n",
    "# Create a structured array from the list of records\n",
    "structured_array = np.core.records.fromrecords(data, dtype=dtype)\n",
    "\n",
    "print(structured_array)\n"
   ]
  },
  {
   "cell_type": "markdown",
   "metadata": {},
   "source": [
    "**Accessing Fields**  \n",
    "Once you have the structured array, you can access its fields by name:"
   ]
  },
  {
   "cell_type": "code",
   "execution_count": 79,
   "metadata": {},
   "outputs": [
    {
     "name": "stdout",
     "output_type": "stream",
     "text": [
      "[1 2 3]\n",
      "[2.5 3.6 4.2]\n",
      "['Alice' 'Bob' 'Charlie']\n"
     ]
    }
   ],
   "source": [
    "print(structured_array['id'])    # Output: [1 2 3]\n",
    "print(structured_array['score']) # Output: [2.5 3.6 4.2]\n",
    "print(structured_array['name'])  # Output: ['Alice' 'Bob' 'Charlie']\n"
   ]
  },
  {
   "cell_type": "markdown",
   "metadata": {},
   "source": [
    "##### 3.14.0 NumPy Array Function Method \n",
    "___"
   ]
  },
  {
   "cell_type": "markdown",
   "metadata": {},
   "source": [
    "Numpy has alot of in-built functions that can be used to create an array. The following are some of the in-built functions that can be used to create an array:\n",
    "\n",
    "1. `np.zeros()`: This function is used to create an array of zeros. The syntax is `np.zeros(shape, dtype=float, order='C')`. The shape is the shape of the array, dtype is the data type, and order is the memory layout of the array.\n",
    "\n",
    "1. `np.ones()`: This function is used to create an array of ones. The syntax is `np.ones(shape, dtype=None, order='C')`. The shape is the shape of the array, dtype is the data type, and order is the memory layout of the array.\n",
    "\n",
    "Below is a table of all the in-built functions that can be used to create an array in NumPy:\n",
    "\n",
    "**Methods for Array Creation in NumPy**\n",
    "\n",
    "| Function        | Description                                                                                         |\n",
    "|-----------------|-----------------------------------------------------------------------------------------------------|\n",
    "| `empty()`       | Return a new array of given shape and type, without initializing entries                            |\n",
    "| `empty_like()`  | Return a new array with the same shape and type as a given array                                    |\n",
    "| `eye()`         | Return a 2-D array with ones on the diagonal and zeros elsewhere                                    |\n",
    "| `identity()`    | Return the identity array                                                                           |\n",
    "| `ones()`        | Return a new array of given shape and type, filled with ones                                        |\n",
    "| `ones_like()`   | Return an array of ones with the same shape and type as a given array                               |\n",
    "| `zeros()`       | Return a new array of given shape and type, filled with zeros                                       |\n",
    "| `zeros_like()`  | Return an array of zeros with the same shape and type as a given array                              |\n",
    "| `full_like()`   | Return a full array with the same shape and type as a given array                                   |\n",
    "| `array()`       | Create an array                                                                                     |\n",
    "| `asarray()`     | Convert the input to an array                                                                       |\n",
    "| `asanyarray()`  | Convert the input to an ndarray, but pass ndarray subclasses through                                |\n",
    "| `ascontiguousarray()` | Return a contiguous array in memory (C order)                                                 |\n",
    "| `asmatrix()`    | Interpret the input as a matrix                                                                     |\n",
    "| `copy()`        | Return an array copy of the given object                                                            |\n",
    "| `frombuffer()`  | Interpret a buffer as a 1-dimensional array                                                         |\n",
    "| `fromfile()`    | Construct an array from data in a text or binary file                                               |\n",
    "| `fromfunction()`| Construct an array by executing a function over each coordinate                                     |\n",
    "| `fromiter()`    | Create a new 1-dimensional array from an iterable object                                            |\n",
    "| `fromstring()`  | A new 1-D array initialized from text data in a string                                              |\n",
    "| `loadtxt()`     | Load data from a text file                                                                          |\n",
    "| `arange()`      | Return evenly spaced values within a given interval                                                 |\n",
    "| `linspace()`    | Return evenly spaced numbers over a specified interval                                              |\n",
    "| `logspace()`    | Return numbers spaced evenly on a log scale                                                         |\n",
    "| `geomspace()`   | Return numbers spaced evenly on a log scale (a geometric progression)                               |\n",
    "| `meshgrid()`    | Return coordinate matrices from coordinate vectors                                                  |\n",
    "| `mgrid()`       | nd_grid instance which returns a dense multi-dimensional “meshgrid”                                 |\n",
    "| `ogrid()`       | nd_grid instance which returns an open multi-dimensional “meshgrid”                                 |\n",
    "| `diag()`        | Extract a diagonal or construct a diagonal array                                                    |\n",
    "| `diagflat()`    | Create a two-dimensional array with the flattened input as a diagonal                               |\n",
    "| `tri()`         | An array with ones at and below the given diagonal and zeros elsewhere                              |\n",
    "| `tril()`        | Lower triangle of an array                                                                          |\n",
    "| `triu()`        | Upper triangle of an array                                                                          |\n",
    "| `vander()`      | Generate a Vandermonde matrix                                                                       |\n",
    "| `mat()`         | Interpret the input as a matrix                                                                     |\n",
    "| `bmat()`        | Build a matrix object from a string, nested sequence, or array                                      |\n"
   ]
  }
 ],
 "metadata": {
  "kernelspec": {
   "display_name": "Python 3",
   "language": "python",
   "name": "python3"
  },
  "language_info": {
   "codemirror_mode": {
    "name": "ipython",
    "version": 3
   },
   "file_extension": ".py",
   "mimetype": "text/x-python",
   "name": "python",
   "nbconvert_exporter": "python",
   "pygments_lexer": "ipython3",
   "version": "3.12.6"
  }
 },
 "nbformat": 4,
 "nbformat_minor": 2
}
