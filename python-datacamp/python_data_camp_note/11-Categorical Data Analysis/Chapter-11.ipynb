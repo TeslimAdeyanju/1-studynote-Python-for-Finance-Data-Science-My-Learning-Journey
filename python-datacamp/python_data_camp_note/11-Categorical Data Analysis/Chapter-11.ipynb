{
 "cells": [
  {
   "cell_type": "markdown",
   "id": "439f721a",
   "metadata": {},
   "source": [
    "# Categorical data in pandas"
   ]
  },
  {
   "cell_type": "code",
   "execution_count": 5,
   "id": "6db44a6c",
   "metadata": {},
   "outputs": [],
   "source": [
    "import pandas as pd "
   ]
  },
  {
   "cell_type": "code",
   "execution_count": 6,
   "id": "e497c08a",
   "metadata": {},
   "outputs": [],
   "source": [
    "adult = pd.read_csv('adult.csv')"
   ]
  },
  {
   "cell_type": "code",
   "execution_count": 7,
   "id": "975be079",
   "metadata": {},
   "outputs": [
    {
     "name": "stdout",
     "output_type": "stream",
     "text": [
      "Age                 int64\n",
      "Workclass          object\n",
      "fnlgwt              int64\n",
      "Education          object\n",
      "Education Num       int64\n",
      "Marital Status     object\n",
      "Occupation         object\n",
      "Relationship       object\n",
      "Race               object\n",
      "Sex                object\n",
      "Capital Gain        int64\n",
      "Capital Loss        int64\n",
      "Hours/Week          int64\n",
      "Country            object\n",
      "Above/Below 50k    object\n",
      "dtype: object\n",
      "Age                   int64\n",
      "Workclass          category\n",
      "fnlgwt                int64\n",
      "Education          category\n",
      "Education Num         int64\n",
      "Marital Status       object\n",
      "Occupation           object\n",
      "Relationship       category\n",
      "Race                 object\n",
      "Sex                  object\n",
      "Capital Gain          int64\n",
      "Capital Loss          int64\n",
      "Hours/Week            int64\n",
      "Country              object\n",
      "Above/Below 50k    category\n",
      "dtype: object\n"
     ]
    }
   ],
   "source": [
    "# Check the dtypes\n",
    "print(adult.dtypes)\n",
    "\n",
    "# Create a dictionary with column names as keys and \"category\" as values\n",
    "adult_dtypes = {\n",
    "   \"Workclass\": \"category\",\n",
    "   \"Education\": \"category\",\n",
    "   \"Relationship\": \"category\",\n",
    "   \"Above/Below 50k\": \"category\" \n",
    "}\n",
    "\n",
    "# Read in the CSV using the dtypes parameter\n",
    "adult2 = pd.read_csv(\n",
    "  \"adult.csv\",\n",
    "  dtype=adult_dtypes)\n",
    "\n",
    "print(adult2.dtypes)"
   ]
  },
  {
   "cell_type": "code",
   "execution_count": 8,
   "id": "e5e91ab1",
   "metadata": {},
   "outputs": [
    {
     "data": {
      "application/vnd.microsoft.datawrangler.viewer.v0+json": {
       "columns": [
        {
         "name": "index",
         "rawType": "int64",
         "type": "integer"
        },
        {
         "name": "Age",
         "rawType": "int64",
         "type": "integer"
        },
        {
         "name": "Workclass",
         "rawType": "object",
         "type": "string"
        },
        {
         "name": "fnlgwt",
         "rawType": "int64",
         "type": "integer"
        },
        {
         "name": "Education",
         "rawType": "object",
         "type": "string"
        },
        {
         "name": "Education Num",
         "rawType": "int64",
         "type": "integer"
        },
        {
         "name": "Marital Status",
         "rawType": "object",
         "type": "string"
        },
        {
         "name": "Occupation",
         "rawType": "object",
         "type": "string"
        },
        {
         "name": "Relationship",
         "rawType": "object",
         "type": "string"
        },
        {
         "name": "Race",
         "rawType": "object",
         "type": "string"
        },
        {
         "name": "Sex",
         "rawType": "object",
         "type": "string"
        },
        {
         "name": "Capital Gain",
         "rawType": "int64",
         "type": "integer"
        },
        {
         "name": "Capital Loss",
         "rawType": "int64",
         "type": "integer"
        },
        {
         "name": "Hours/Week",
         "rawType": "int64",
         "type": "integer"
        },
        {
         "name": "Country",
         "rawType": "object",
         "type": "string"
        },
        {
         "name": "Above/Below 50k",
         "rawType": "object",
         "type": "string"
        }
       ],
       "ref": "4a2240e0-e529-46cc-89be-0eef9077a6b4",
       "rows": [
        [
         "0",
         "39",
         " State-gov",
         "77516",
         " Bachelors",
         "13",
         " Never-married",
         " Adm-clerical",
         " Not-in-family",
         " White",
         " Male",
         "2174",
         "0",
         "40",
         " United-States",
         " <=50K"
        ],
        [
         "1",
         "50",
         " Self-emp-not-inc",
         "83311",
         " Bachelors",
         "13",
         " Married-civ-spouse",
         " Exec-managerial",
         " Husband",
         " White",
         " Male",
         "0",
         "0",
         "13",
         " United-States",
         " <=50K"
        ],
        [
         "2",
         "38",
         " Private",
         "215646",
         " HS-grad",
         "9",
         " Divorced",
         " Handlers-cleaners",
         " Not-in-family",
         " White",
         " Male",
         "0",
         "0",
         "40",
         " United-States",
         " <=50K"
        ],
        [
         "3",
         "53",
         " Private",
         "234721",
         " 11th",
         "7",
         " Married-civ-spouse",
         " Handlers-cleaners",
         " Husband",
         " Black",
         " Male",
         "0",
         "0",
         "40",
         " United-States",
         " <=50K"
        ],
        [
         "4",
         "28",
         " Private",
         "338409",
         " Bachelors",
         "13",
         " Married-civ-spouse",
         " Prof-specialty",
         " Wife",
         " Black",
         " Female",
         "0",
         "0",
         "40",
         " Cuba",
         " <=50K"
        ]
       ],
       "shape": {
        "columns": 15,
        "rows": 5
       }
      },
      "text/html": [
       "<div>\n",
       "<style scoped>\n",
       "    .dataframe tbody tr th:only-of-type {\n",
       "        vertical-align: middle;\n",
       "    }\n",
       "\n",
       "    .dataframe tbody tr th {\n",
       "        vertical-align: top;\n",
       "    }\n",
       "\n",
       "    .dataframe thead th {\n",
       "        text-align: right;\n",
       "    }\n",
       "</style>\n",
       "<table border=\"1\" class=\"dataframe\">\n",
       "  <thead>\n",
       "    <tr style=\"text-align: right;\">\n",
       "      <th></th>\n",
       "      <th>Age</th>\n",
       "      <th>Workclass</th>\n",
       "      <th>fnlgwt</th>\n",
       "      <th>Education</th>\n",
       "      <th>Education Num</th>\n",
       "      <th>Marital Status</th>\n",
       "      <th>Occupation</th>\n",
       "      <th>Relationship</th>\n",
       "      <th>Race</th>\n",
       "      <th>Sex</th>\n",
       "      <th>Capital Gain</th>\n",
       "      <th>Capital Loss</th>\n",
       "      <th>Hours/Week</th>\n",
       "      <th>Country</th>\n",
       "      <th>Above/Below 50k</th>\n",
       "    </tr>\n",
       "  </thead>\n",
       "  <tbody>\n",
       "    <tr>\n",
       "      <th>0</th>\n",
       "      <td>39</td>\n",
       "      <td>State-gov</td>\n",
       "      <td>77516</td>\n",
       "      <td>Bachelors</td>\n",
       "      <td>13</td>\n",
       "      <td>Never-married</td>\n",
       "      <td>Adm-clerical</td>\n",
       "      <td>Not-in-family</td>\n",
       "      <td>White</td>\n",
       "      <td>Male</td>\n",
       "      <td>2174</td>\n",
       "      <td>0</td>\n",
       "      <td>40</td>\n",
       "      <td>United-States</td>\n",
       "      <td>&lt;=50K</td>\n",
       "    </tr>\n",
       "    <tr>\n",
       "      <th>1</th>\n",
       "      <td>50</td>\n",
       "      <td>Self-emp-not-inc</td>\n",
       "      <td>83311</td>\n",
       "      <td>Bachelors</td>\n",
       "      <td>13</td>\n",
       "      <td>Married-civ-spouse</td>\n",
       "      <td>Exec-managerial</td>\n",
       "      <td>Husband</td>\n",
       "      <td>White</td>\n",
       "      <td>Male</td>\n",
       "      <td>0</td>\n",
       "      <td>0</td>\n",
       "      <td>13</td>\n",
       "      <td>United-States</td>\n",
       "      <td>&lt;=50K</td>\n",
       "    </tr>\n",
       "    <tr>\n",
       "      <th>2</th>\n",
       "      <td>38</td>\n",
       "      <td>Private</td>\n",
       "      <td>215646</td>\n",
       "      <td>HS-grad</td>\n",
       "      <td>9</td>\n",
       "      <td>Divorced</td>\n",
       "      <td>Handlers-cleaners</td>\n",
       "      <td>Not-in-family</td>\n",
       "      <td>White</td>\n",
       "      <td>Male</td>\n",
       "      <td>0</td>\n",
       "      <td>0</td>\n",
       "      <td>40</td>\n",
       "      <td>United-States</td>\n",
       "      <td>&lt;=50K</td>\n",
       "    </tr>\n",
       "    <tr>\n",
       "      <th>3</th>\n",
       "      <td>53</td>\n",
       "      <td>Private</td>\n",
       "      <td>234721</td>\n",
       "      <td>11th</td>\n",
       "      <td>7</td>\n",
       "      <td>Married-civ-spouse</td>\n",
       "      <td>Handlers-cleaners</td>\n",
       "      <td>Husband</td>\n",
       "      <td>Black</td>\n",
       "      <td>Male</td>\n",
       "      <td>0</td>\n",
       "      <td>0</td>\n",
       "      <td>40</td>\n",
       "      <td>United-States</td>\n",
       "      <td>&lt;=50K</td>\n",
       "    </tr>\n",
       "    <tr>\n",
       "      <th>4</th>\n",
       "      <td>28</td>\n",
       "      <td>Private</td>\n",
       "      <td>338409</td>\n",
       "      <td>Bachelors</td>\n",
       "      <td>13</td>\n",
       "      <td>Married-civ-spouse</td>\n",
       "      <td>Prof-specialty</td>\n",
       "      <td>Wife</td>\n",
       "      <td>Black</td>\n",
       "      <td>Female</td>\n",
       "      <td>0</td>\n",
       "      <td>0</td>\n",
       "      <td>40</td>\n",
       "      <td>Cuba</td>\n",
       "      <td>&lt;=50K</td>\n",
       "    </tr>\n",
       "  </tbody>\n",
       "</table>\n",
       "</div>"
      ],
      "text/plain": [
       "   Age          Workclass  fnlgwt   Education  Education Num  \\\n",
       "0   39          State-gov   77516   Bachelors             13   \n",
       "1   50   Self-emp-not-inc   83311   Bachelors             13   \n",
       "2   38            Private  215646     HS-grad              9   \n",
       "3   53            Private  234721        11th              7   \n",
       "4   28            Private  338409   Bachelors             13   \n",
       "\n",
       "        Marital Status          Occupation    Relationship    Race      Sex  \\\n",
       "0        Never-married        Adm-clerical   Not-in-family   White     Male   \n",
       "1   Married-civ-spouse     Exec-managerial         Husband   White     Male   \n",
       "2             Divorced   Handlers-cleaners   Not-in-family   White     Male   \n",
       "3   Married-civ-spouse   Handlers-cleaners         Husband   Black     Male   \n",
       "4   Married-civ-spouse      Prof-specialty            Wife   Black   Female   \n",
       "\n",
       "   Capital Gain  Capital Loss  Hours/Week         Country Above/Below 50k  \n",
       "0          2174             0          40   United-States           <=50K  \n",
       "1             0             0          13   United-States           <=50K  \n",
       "2             0             0          40   United-States           <=50K  \n",
       "3             0             0          40   United-States           <=50K  \n",
       "4             0             0          40            Cuba           <=50K  "
      ]
     },
     "execution_count": 8,
     "metadata": {},
     "output_type": "execute_result"
    }
   ],
   "source": [
    "adult.head()"
   ]
  },
  {
   "cell_type": "code",
   "execution_count": 9,
   "id": "a7532b17",
   "metadata": {},
   "outputs": [
    {
     "data": {
      "application/vnd.microsoft.datawrangler.viewer.v0+json": {
       "columns": [
        {
         "name": "index",
         "rawType": "object",
         "type": "string"
        },
        {
         "name": "0",
         "rawType": "int64",
         "type": "integer"
        }
       ],
       "ref": "4e27b38c-3395-4911-8719-876357caf373",
       "rows": [
        [
         "Age",
         "0"
        ],
        [
         "Workclass",
         "0"
        ],
        [
         "fnlgwt",
         "0"
        ],
        [
         "Education",
         "0"
        ],
        [
         "Education Num",
         "0"
        ],
        [
         "Marital Status",
         "0"
        ],
        [
         "Occupation",
         "0"
        ],
        [
         "Relationship",
         "0"
        ],
        [
         "Race",
         "0"
        ],
        [
         "Sex",
         "0"
        ],
        [
         "Capital Gain",
         "0"
        ],
        [
         "Capital Loss",
         "0"
        ],
        [
         "Hours/Week",
         "0"
        ],
        [
         "Country",
         "0"
        ],
        [
         "Above/Below 50k",
         "0"
        ]
       ],
       "shape": {
        "columns": 1,
        "rows": 15
       }
      },
      "text/plain": [
       "Age                0\n",
       "Workclass          0\n",
       "fnlgwt             0\n",
       "Education          0\n",
       "Education Num      0\n",
       "Marital Status     0\n",
       "Occupation         0\n",
       "Relationship       0\n",
       "Race               0\n",
       "Sex                0\n",
       "Capital Gain       0\n",
       "Capital Loss       0\n",
       "Hours/Week         0\n",
       "Country            0\n",
       "Above/Below 50k    0\n",
       "dtype: int64"
      ]
     },
     "execution_count": 9,
     "metadata": {},
     "output_type": "execute_result"
    }
   ],
   "source": [
    "adult.isna().sum()"
   ]
  },
  {
   "cell_type": "code",
   "execution_count": 10,
   "id": "70c0cb70",
   "metadata": {},
   "outputs": [
    {
     "data": {
      "text/plain": [
       "(32561, 15)"
      ]
     },
     "execution_count": 10,
     "metadata": {},
     "output_type": "execute_result"
    }
   ],
   "source": [
    "adult.shape"
   ]
  },
  {
   "cell_type": "code",
   "execution_count": 11,
   "id": "600bbb2e",
   "metadata": {},
   "outputs": [
    {
     "data": {
      "application/vnd.microsoft.datawrangler.viewer.v0+json": {
       "columns": [
        {
         "name": "Marital Status",
         "rawType": "object",
         "type": "string"
        },
        {
         "name": "count",
         "rawType": "int64",
         "type": "integer"
        }
       ],
       "ref": "55595603-377b-4835-9c45-65ffc1d8809d",
       "rows": [
        [
         " Married-civ-spouse",
         "14976"
        ],
        [
         " Never-married",
         "10683"
        ],
        [
         " Divorced",
         "4443"
        ],
        [
         " Separated",
         "1025"
        ],
        [
         " Widowed",
         "993"
        ],
        [
         " Married-spouse-absent",
         "418"
        ],
        [
         " Married-AF-spouse",
         "23"
        ]
       ],
       "shape": {
        "columns": 1,
        "rows": 7
       }
      },
      "text/plain": [
       "Marital Status\n",
       "Married-civ-spouse       14976\n",
       "Never-married            10683\n",
       "Divorced                  4443\n",
       "Separated                 1025\n",
       "Widowed                    993\n",
       "Married-spouse-absent      418\n",
       "Married-AF-spouse           23\n",
       "Name: count, dtype: int64"
      ]
     },
     "execution_count": 11,
     "metadata": {},
     "output_type": "execute_result"
    }
   ],
   "source": [
    "adult[\"Marital Status\"].value_counts(dropna=False)"
   ]
  },
  {
   "cell_type": "code",
   "execution_count": 12,
   "id": "acf2f641",
   "metadata": {},
   "outputs": [
    {
     "name": "stdout",
     "output_type": "stream",
     "text": [
      "count      32561\n",
      "unique         2\n",
      "top        <=50K\n",
      "freq       24720\n",
      "Name: Above/Below 50k, dtype: object\n"
     ]
    }
   ],
   "source": [
    "print(adult['Above/Below 50k'].describe())"
   ]
  },
  {
   "cell_type": "code",
   "execution_count": 13,
   "id": "678d2fce",
   "metadata": {},
   "outputs": [],
   "source": [
    "my_data = [\"A\", \"A\", \"C\", \"B\", \"C\", \"A\"]"
   ]
  },
  {
   "cell_type": "code",
   "execution_count": 14,
   "id": "f06599f0",
   "metadata": {},
   "outputs": [],
   "source": [
    "my_series2 = pd.Categorical(my_data, categories=[\"C\", \"B\", \"A\"], ordered=True)"
   ]
  },
  {
   "cell_type": "markdown",
   "id": "466ab3de",
   "metadata": {},
   "source": [
    "## Grouping data by category in pandas"
   ]
  },
  {
   "cell_type": "code",
   "execution_count": 15,
   "id": "983e2f98",
   "metadata": {},
   "outputs": [
    {
     "data": {
      "application/vnd.microsoft.datawrangler.viewer.v0+json": {
       "columns": [
        {
         "name": "index",
         "rawType": "int64",
         "type": "integer"
        },
        {
         "name": "Age",
         "rawType": "int64",
         "type": "integer"
        },
        {
         "name": "Workclass",
         "rawType": "object",
         "type": "string"
        },
        {
         "name": "fnlgwt",
         "rawType": "int64",
         "type": "integer"
        },
        {
         "name": "Education",
         "rawType": "object",
         "type": "string"
        },
        {
         "name": "Education Num",
         "rawType": "int64",
         "type": "integer"
        },
        {
         "name": "Marital Status",
         "rawType": "object",
         "type": "string"
        },
        {
         "name": "Occupation",
         "rawType": "object",
         "type": "string"
        },
        {
         "name": "Relationship",
         "rawType": "object",
         "type": "string"
        },
        {
         "name": "Race",
         "rawType": "object",
         "type": "string"
        },
        {
         "name": "Sex",
         "rawType": "object",
         "type": "string"
        },
        {
         "name": "Capital Gain",
         "rawType": "int64",
         "type": "integer"
        },
        {
         "name": "Capital Loss",
         "rawType": "int64",
         "type": "integer"
        },
        {
         "name": "Hours/Week",
         "rawType": "int64",
         "type": "integer"
        },
        {
         "name": "Country",
         "rawType": "object",
         "type": "string"
        },
        {
         "name": "Above/Below 50k",
         "rawType": "object",
         "type": "string"
        }
       ],
       "ref": "d55d6545-f1b6-4d67-8c76-2aae57c84f6e",
       "rows": [
        [
         "0",
         "39",
         " State-gov",
         "77516",
         " Bachelors",
         "13",
         " Never-married",
         " Adm-clerical",
         " Not-in-family",
         " White",
         " Male",
         "2174",
         "0",
         "40",
         " United-States",
         " <=50K"
        ],
        [
         "1",
         "50",
         " Self-emp-not-inc",
         "83311",
         " Bachelors",
         "13",
         " Married-civ-spouse",
         " Exec-managerial",
         " Husband",
         " White",
         " Male",
         "0",
         "0",
         "13",
         " United-States",
         " <=50K"
        ],
        [
         "2",
         "38",
         " Private",
         "215646",
         " HS-grad",
         "9",
         " Divorced",
         " Handlers-cleaners",
         " Not-in-family",
         " White",
         " Male",
         "0",
         "0",
         "40",
         " United-States",
         " <=50K"
        ],
        [
         "3",
         "53",
         " Private",
         "234721",
         " 11th",
         "7",
         " Married-civ-spouse",
         " Handlers-cleaners",
         " Husband",
         " Black",
         " Male",
         "0",
         "0",
         "40",
         " United-States",
         " <=50K"
        ],
        [
         "4",
         "28",
         " Private",
         "338409",
         " Bachelors",
         "13",
         " Married-civ-spouse",
         " Prof-specialty",
         " Wife",
         " Black",
         " Female",
         "0",
         "0",
         "40",
         " Cuba",
         " <=50K"
        ],
        [
         "5",
         "37",
         " Private",
         "284582",
         " Masters",
         "14",
         " Married-civ-spouse",
         " Exec-managerial",
         " Wife",
         " White",
         " Female",
         "0",
         "0",
         "40",
         " United-States",
         " <=50K"
        ],
        [
         "6",
         "49",
         " Private",
         "160187",
         " 9th",
         "5",
         " Married-spouse-absent",
         " Other-service",
         " Not-in-family",
         " Black",
         " Female",
         "0",
         "0",
         "16",
         " Jamaica",
         " <=50K"
        ],
        [
         "7",
         "52",
         " Self-emp-not-inc",
         "209642",
         " HS-grad",
         "9",
         " Married-civ-spouse",
         " Exec-managerial",
         " Husband",
         " White",
         " Male",
         "0",
         "0",
         "45",
         " United-States",
         " >50K"
        ],
        [
         "8",
         "31",
         " Private",
         "45781",
         " Masters",
         "14",
         " Never-married",
         " Prof-specialty",
         " Not-in-family",
         " White",
         " Female",
         "14084",
         "0",
         "50",
         " United-States",
         " >50K"
        ],
        [
         "9",
         "42",
         " Private",
         "159449",
         " Bachelors",
         "13",
         " Married-civ-spouse",
         " Exec-managerial",
         " Husband",
         " White",
         " Male",
         "5178",
         "0",
         "40",
         " United-States",
         " >50K"
        ],
        [
         "10",
         "37",
         " Private",
         "280464",
         " Some-college",
         "10",
         " Married-civ-spouse",
         " Exec-managerial",
         " Husband",
         " Black",
         " Male",
         "0",
         "0",
         "80",
         " United-States",
         " >50K"
        ],
        [
         "11",
         "30",
         " State-gov",
         "141297",
         " Bachelors",
         "13",
         " Married-civ-spouse",
         " Prof-specialty",
         " Husband",
         " Asian-Pac-Islander",
         " Male",
         "0",
         "0",
         "40",
         " India",
         " >50K"
        ],
        [
         "12",
         "23",
         " Private",
         "122272",
         " Bachelors",
         "13",
         " Never-married",
         " Adm-clerical",
         " Own-child",
         " White",
         " Female",
         "0",
         "0",
         "30",
         " United-States",
         " <=50K"
        ],
        [
         "13",
         "32",
         " Private",
         "205019",
         " Assoc-acdm",
         "12",
         " Never-married",
         " Sales",
         " Not-in-family",
         " Black",
         " Male",
         "0",
         "0",
         "50",
         " United-States",
         " <=50K"
        ],
        [
         "14",
         "40",
         " Private",
         "121772",
         " Assoc-voc",
         "11",
         " Married-civ-spouse",
         " Craft-repair",
         " Husband",
         " Asian-Pac-Islander",
         " Male",
         "0",
         "0",
         "40",
         " ?",
         " >50K"
        ],
        [
         "15",
         "34",
         " Private",
         "245487",
         " 7th-8th",
         "4",
         " Married-civ-spouse",
         " Transport-moving",
         " Husband",
         " Amer-Indian-Eskimo",
         " Male",
         "0",
         "0",
         "45",
         " Mexico",
         " <=50K"
        ],
        [
         "16",
         "25",
         " Self-emp-not-inc",
         "176756",
         " HS-grad",
         "9",
         " Never-married",
         " Farming-fishing",
         " Own-child",
         " White",
         " Male",
         "0",
         "0",
         "35",
         " United-States",
         " <=50K"
        ],
        [
         "17",
         "32",
         " Private",
         "186824",
         " HS-grad",
         "9",
         " Never-married",
         " Machine-op-inspct",
         " Unmarried",
         " White",
         " Male",
         "0",
         "0",
         "40",
         " United-States",
         " <=50K"
        ],
        [
         "18",
         "38",
         " Private",
         "28887",
         " 11th",
         "7",
         " Married-civ-spouse",
         " Sales",
         " Husband",
         " White",
         " Male",
         "0",
         "0",
         "50",
         " United-States",
         " <=50K"
        ],
        [
         "19",
         "43",
         " Self-emp-not-inc",
         "292175",
         " Masters",
         "14",
         " Divorced",
         " Exec-managerial",
         " Unmarried",
         " White",
         " Female",
         "0",
         "0",
         "45",
         " United-States",
         " >50K"
        ],
        [
         "20",
         "40",
         " Private",
         "193524",
         " Doctorate",
         "16",
         " Married-civ-spouse",
         " Prof-specialty",
         " Husband",
         " White",
         " Male",
         "0",
         "0",
         "60",
         " United-States",
         " >50K"
        ],
        [
         "21",
         "54",
         " Private",
         "302146",
         " HS-grad",
         "9",
         " Separated",
         " Other-service",
         " Unmarried",
         " Black",
         " Female",
         "0",
         "0",
         "20",
         " United-States",
         " <=50K"
        ],
        [
         "22",
         "35",
         " Federal-gov",
         "76845",
         " 9th",
         "5",
         " Married-civ-spouse",
         " Farming-fishing",
         " Husband",
         " Black",
         " Male",
         "0",
         "0",
         "40",
         " United-States",
         " <=50K"
        ],
        [
         "23",
         "43",
         " Private",
         "117037",
         " 11th",
         "7",
         " Married-civ-spouse",
         " Transport-moving",
         " Husband",
         " White",
         " Male",
         "0",
         "2042",
         "40",
         " United-States",
         " <=50K"
        ],
        [
         "24",
         "59",
         " Private",
         "109015",
         " HS-grad",
         "9",
         " Divorced",
         " Tech-support",
         " Unmarried",
         " White",
         " Female",
         "0",
         "0",
         "40",
         " United-States",
         " <=50K"
        ],
        [
         "25",
         "56",
         " Local-gov",
         "216851",
         " Bachelors",
         "13",
         " Married-civ-spouse",
         " Tech-support",
         " Husband",
         " White",
         " Male",
         "0",
         "0",
         "40",
         " United-States",
         " >50K"
        ],
        [
         "26",
         "19",
         " Private",
         "168294",
         " HS-grad",
         "9",
         " Never-married",
         " Craft-repair",
         " Own-child",
         " White",
         " Male",
         "0",
         "0",
         "40",
         " United-States",
         " <=50K"
        ],
        [
         "27",
         "54",
         " ?",
         "180211",
         " Some-college",
         "10",
         " Married-civ-spouse",
         " ?",
         " Husband",
         " Asian-Pac-Islander",
         " Male",
         "0",
         "0",
         "60",
         " South",
         " >50K"
        ],
        [
         "28",
         "39",
         " Private",
         "367260",
         " HS-grad",
         "9",
         " Divorced",
         " Exec-managerial",
         " Not-in-family",
         " White",
         " Male",
         "0",
         "0",
         "80",
         " United-States",
         " <=50K"
        ],
        [
         "29",
         "49",
         " Private",
         "193366",
         " HS-grad",
         "9",
         " Married-civ-spouse",
         " Craft-repair",
         " Husband",
         " White",
         " Male",
         "0",
         "0",
         "40",
         " United-States",
         " <=50K"
        ],
        [
         "30",
         "23",
         " Local-gov",
         "190709",
         " Assoc-acdm",
         "12",
         " Never-married",
         " Protective-serv",
         " Not-in-family",
         " White",
         " Male",
         "0",
         "0",
         "52",
         " United-States",
         " <=50K"
        ],
        [
         "31",
         "20",
         " Private",
         "266015",
         " Some-college",
         "10",
         " Never-married",
         " Sales",
         " Own-child",
         " Black",
         " Male",
         "0",
         "0",
         "44",
         " United-States",
         " <=50K"
        ],
        [
         "32",
         "45",
         " Private",
         "386940",
         " Bachelors",
         "13",
         " Divorced",
         " Exec-managerial",
         " Own-child",
         " White",
         " Male",
         "0",
         "1408",
         "40",
         " United-States",
         " <=50K"
        ],
        [
         "33",
         "30",
         " Federal-gov",
         "59951",
         " Some-college",
         "10",
         " Married-civ-spouse",
         " Adm-clerical",
         " Own-child",
         " White",
         " Male",
         "0",
         "0",
         "40",
         " United-States",
         " <=50K"
        ],
        [
         "34",
         "22",
         " State-gov",
         "311512",
         " Some-college",
         "10",
         " Married-civ-spouse",
         " Other-service",
         " Husband",
         " Black",
         " Male",
         "0",
         "0",
         "15",
         " United-States",
         " <=50K"
        ],
        [
         "35",
         "48",
         " Private",
         "242406",
         " 11th",
         "7",
         " Never-married",
         " Machine-op-inspct",
         " Unmarried",
         " White",
         " Male",
         "0",
         "0",
         "40",
         " Puerto-Rico",
         " <=50K"
        ],
        [
         "36",
         "21",
         " Private",
         "197200",
         " Some-college",
         "10",
         " Never-married",
         " Machine-op-inspct",
         " Own-child",
         " White",
         " Male",
         "0",
         "0",
         "40",
         " United-States",
         " <=50K"
        ],
        [
         "37",
         "19",
         " Private",
         "544091",
         " HS-grad",
         "9",
         " Married-AF-spouse",
         " Adm-clerical",
         " Wife",
         " White",
         " Female",
         "0",
         "0",
         "25",
         " United-States",
         " <=50K"
        ],
        [
         "38",
         "31",
         " Private",
         "84154",
         " Some-college",
         "10",
         " Married-civ-spouse",
         " Sales",
         " Husband",
         " White",
         " Male",
         "0",
         "0",
         "38",
         " ?",
         " >50K"
        ],
        [
         "39",
         "48",
         " Self-emp-not-inc",
         "265477",
         " Assoc-acdm",
         "12",
         " Married-civ-spouse",
         " Prof-specialty",
         " Husband",
         " White",
         " Male",
         "0",
         "0",
         "40",
         " United-States",
         " <=50K"
        ],
        [
         "40",
         "31",
         " Private",
         "507875",
         " 9th",
         "5",
         " Married-civ-spouse",
         " Machine-op-inspct",
         " Husband",
         " White",
         " Male",
         "0",
         "0",
         "43",
         " United-States",
         " <=50K"
        ],
        [
         "41",
         "53",
         " Self-emp-not-inc",
         "88506",
         " Bachelors",
         "13",
         " Married-civ-spouse",
         " Prof-specialty",
         " Husband",
         " White",
         " Male",
         "0",
         "0",
         "40",
         " United-States",
         " <=50K"
        ],
        [
         "42",
         "24",
         " Private",
         "172987",
         " Bachelors",
         "13",
         " Married-civ-spouse",
         " Tech-support",
         " Husband",
         " White",
         " Male",
         "0",
         "0",
         "50",
         " United-States",
         " <=50K"
        ],
        [
         "43",
         "49",
         " Private",
         "94638",
         " HS-grad",
         "9",
         " Separated",
         " Adm-clerical",
         " Unmarried",
         " White",
         " Female",
         "0",
         "0",
         "40",
         " United-States",
         " <=50K"
        ],
        [
         "44",
         "25",
         " Private",
         "289980",
         " HS-grad",
         "9",
         " Never-married",
         " Handlers-cleaners",
         " Not-in-family",
         " White",
         " Male",
         "0",
         "0",
         "35",
         " United-States",
         " <=50K"
        ],
        [
         "45",
         "57",
         " Federal-gov",
         "337895",
         " Bachelors",
         "13",
         " Married-civ-spouse",
         " Prof-specialty",
         " Husband",
         " Black",
         " Male",
         "0",
         "0",
         "40",
         " United-States",
         " >50K"
        ],
        [
         "46",
         "53",
         " Private",
         "144361",
         " HS-grad",
         "9",
         " Married-civ-spouse",
         " Machine-op-inspct",
         " Husband",
         " White",
         " Male",
         "0",
         "0",
         "38",
         " United-States",
         " <=50K"
        ],
        [
         "47",
         "44",
         " Private",
         "128354",
         " Masters",
         "14",
         " Divorced",
         " Exec-managerial",
         " Unmarried",
         " White",
         " Female",
         "0",
         "0",
         "40",
         " United-States",
         " <=50K"
        ],
        [
         "48",
         "41",
         " State-gov",
         "101603",
         " Assoc-voc",
         "11",
         " Married-civ-spouse",
         " Craft-repair",
         " Husband",
         " White",
         " Male",
         "0",
         "0",
         "40",
         " United-States",
         " <=50K"
        ],
        [
         "49",
         "29",
         " Private",
         "271466",
         " Assoc-voc",
         "11",
         " Never-married",
         " Prof-specialty",
         " Not-in-family",
         " White",
         " Male",
         "0",
         "0",
         "43",
         " United-States",
         " <=50K"
        ]
       ],
       "shape": {
        "columns": 15,
        "rows": 32561
       }
      },
      "text/html": [
       "<div>\n",
       "<style scoped>\n",
       "    .dataframe tbody tr th:only-of-type {\n",
       "        vertical-align: middle;\n",
       "    }\n",
       "\n",
       "    .dataframe tbody tr th {\n",
       "        vertical-align: top;\n",
       "    }\n",
       "\n",
       "    .dataframe thead th {\n",
       "        text-align: right;\n",
       "    }\n",
       "</style>\n",
       "<table border=\"1\" class=\"dataframe\">\n",
       "  <thead>\n",
       "    <tr style=\"text-align: right;\">\n",
       "      <th></th>\n",
       "      <th>Age</th>\n",
       "      <th>Workclass</th>\n",
       "      <th>fnlgwt</th>\n",
       "      <th>Education</th>\n",
       "      <th>Education Num</th>\n",
       "      <th>Marital Status</th>\n",
       "      <th>Occupation</th>\n",
       "      <th>Relationship</th>\n",
       "      <th>Race</th>\n",
       "      <th>Sex</th>\n",
       "      <th>Capital Gain</th>\n",
       "      <th>Capital Loss</th>\n",
       "      <th>Hours/Week</th>\n",
       "      <th>Country</th>\n",
       "      <th>Above/Below 50k</th>\n",
       "    </tr>\n",
       "  </thead>\n",
       "  <tbody>\n",
       "    <tr>\n",
       "      <th>0</th>\n",
       "      <td>39</td>\n",
       "      <td>State-gov</td>\n",
       "      <td>77516</td>\n",
       "      <td>Bachelors</td>\n",
       "      <td>13</td>\n",
       "      <td>Never-married</td>\n",
       "      <td>Adm-clerical</td>\n",
       "      <td>Not-in-family</td>\n",
       "      <td>White</td>\n",
       "      <td>Male</td>\n",
       "      <td>2174</td>\n",
       "      <td>0</td>\n",
       "      <td>40</td>\n",
       "      <td>United-States</td>\n",
       "      <td>&lt;=50K</td>\n",
       "    </tr>\n",
       "    <tr>\n",
       "      <th>1</th>\n",
       "      <td>50</td>\n",
       "      <td>Self-emp-not-inc</td>\n",
       "      <td>83311</td>\n",
       "      <td>Bachelors</td>\n",
       "      <td>13</td>\n",
       "      <td>Married-civ-spouse</td>\n",
       "      <td>Exec-managerial</td>\n",
       "      <td>Husband</td>\n",
       "      <td>White</td>\n",
       "      <td>Male</td>\n",
       "      <td>0</td>\n",
       "      <td>0</td>\n",
       "      <td>13</td>\n",
       "      <td>United-States</td>\n",
       "      <td>&lt;=50K</td>\n",
       "    </tr>\n",
       "    <tr>\n",
       "      <th>2</th>\n",
       "      <td>38</td>\n",
       "      <td>Private</td>\n",
       "      <td>215646</td>\n",
       "      <td>HS-grad</td>\n",
       "      <td>9</td>\n",
       "      <td>Divorced</td>\n",
       "      <td>Handlers-cleaners</td>\n",
       "      <td>Not-in-family</td>\n",
       "      <td>White</td>\n",
       "      <td>Male</td>\n",
       "      <td>0</td>\n",
       "      <td>0</td>\n",
       "      <td>40</td>\n",
       "      <td>United-States</td>\n",
       "      <td>&lt;=50K</td>\n",
       "    </tr>\n",
       "    <tr>\n",
       "      <th>3</th>\n",
       "      <td>53</td>\n",
       "      <td>Private</td>\n",
       "      <td>234721</td>\n",
       "      <td>11th</td>\n",
       "      <td>7</td>\n",
       "      <td>Married-civ-spouse</td>\n",
       "      <td>Handlers-cleaners</td>\n",
       "      <td>Husband</td>\n",
       "      <td>Black</td>\n",
       "      <td>Male</td>\n",
       "      <td>0</td>\n",
       "      <td>0</td>\n",
       "      <td>40</td>\n",
       "      <td>United-States</td>\n",
       "      <td>&lt;=50K</td>\n",
       "    </tr>\n",
       "    <tr>\n",
       "      <th>4</th>\n",
       "      <td>28</td>\n",
       "      <td>Private</td>\n",
       "      <td>338409</td>\n",
       "      <td>Bachelors</td>\n",
       "      <td>13</td>\n",
       "      <td>Married-civ-spouse</td>\n",
       "      <td>Prof-specialty</td>\n",
       "      <td>Wife</td>\n",
       "      <td>Black</td>\n",
       "      <td>Female</td>\n",
       "      <td>0</td>\n",
       "      <td>0</td>\n",
       "      <td>40</td>\n",
       "      <td>Cuba</td>\n",
       "      <td>&lt;=50K</td>\n",
       "    </tr>\n",
       "    <tr>\n",
       "      <th>...</th>\n",
       "      <td>...</td>\n",
       "      <td>...</td>\n",
       "      <td>...</td>\n",
       "      <td>...</td>\n",
       "      <td>...</td>\n",
       "      <td>...</td>\n",
       "      <td>...</td>\n",
       "      <td>...</td>\n",
       "      <td>...</td>\n",
       "      <td>...</td>\n",
       "      <td>...</td>\n",
       "      <td>...</td>\n",
       "      <td>...</td>\n",
       "      <td>...</td>\n",
       "      <td>...</td>\n",
       "    </tr>\n",
       "    <tr>\n",
       "      <th>32556</th>\n",
       "      <td>27</td>\n",
       "      <td>Private</td>\n",
       "      <td>257302</td>\n",
       "      <td>Assoc-acdm</td>\n",
       "      <td>12</td>\n",
       "      <td>Married-civ-spouse</td>\n",
       "      <td>Tech-support</td>\n",
       "      <td>Wife</td>\n",
       "      <td>White</td>\n",
       "      <td>Female</td>\n",
       "      <td>0</td>\n",
       "      <td>0</td>\n",
       "      <td>38</td>\n",
       "      <td>United-States</td>\n",
       "      <td>&lt;=50K</td>\n",
       "    </tr>\n",
       "    <tr>\n",
       "      <th>32557</th>\n",
       "      <td>40</td>\n",
       "      <td>Private</td>\n",
       "      <td>154374</td>\n",
       "      <td>HS-grad</td>\n",
       "      <td>9</td>\n",
       "      <td>Married-civ-spouse</td>\n",
       "      <td>Machine-op-inspct</td>\n",
       "      <td>Husband</td>\n",
       "      <td>White</td>\n",
       "      <td>Male</td>\n",
       "      <td>0</td>\n",
       "      <td>0</td>\n",
       "      <td>40</td>\n",
       "      <td>United-States</td>\n",
       "      <td>&gt;50K</td>\n",
       "    </tr>\n",
       "    <tr>\n",
       "      <th>32558</th>\n",
       "      <td>58</td>\n",
       "      <td>Private</td>\n",
       "      <td>151910</td>\n",
       "      <td>HS-grad</td>\n",
       "      <td>9</td>\n",
       "      <td>Widowed</td>\n",
       "      <td>Adm-clerical</td>\n",
       "      <td>Unmarried</td>\n",
       "      <td>White</td>\n",
       "      <td>Female</td>\n",
       "      <td>0</td>\n",
       "      <td>0</td>\n",
       "      <td>40</td>\n",
       "      <td>United-States</td>\n",
       "      <td>&lt;=50K</td>\n",
       "    </tr>\n",
       "    <tr>\n",
       "      <th>32559</th>\n",
       "      <td>22</td>\n",
       "      <td>Private</td>\n",
       "      <td>201490</td>\n",
       "      <td>HS-grad</td>\n",
       "      <td>9</td>\n",
       "      <td>Never-married</td>\n",
       "      <td>Adm-clerical</td>\n",
       "      <td>Own-child</td>\n",
       "      <td>White</td>\n",
       "      <td>Male</td>\n",
       "      <td>0</td>\n",
       "      <td>0</td>\n",
       "      <td>20</td>\n",
       "      <td>United-States</td>\n",
       "      <td>&lt;=50K</td>\n",
       "    </tr>\n",
       "    <tr>\n",
       "      <th>32560</th>\n",
       "      <td>52</td>\n",
       "      <td>Self-emp-inc</td>\n",
       "      <td>287927</td>\n",
       "      <td>HS-grad</td>\n",
       "      <td>9</td>\n",
       "      <td>Married-civ-spouse</td>\n",
       "      <td>Exec-managerial</td>\n",
       "      <td>Wife</td>\n",
       "      <td>White</td>\n",
       "      <td>Female</td>\n",
       "      <td>15024</td>\n",
       "      <td>0</td>\n",
       "      <td>40</td>\n",
       "      <td>United-States</td>\n",
       "      <td>&gt;50K</td>\n",
       "    </tr>\n",
       "  </tbody>\n",
       "</table>\n",
       "<p>32561 rows × 15 columns</p>\n",
       "</div>"
      ],
      "text/plain": [
       "       Age          Workclass  fnlgwt    Education  Education Num  \\\n",
       "0       39          State-gov   77516    Bachelors             13   \n",
       "1       50   Self-emp-not-inc   83311    Bachelors             13   \n",
       "2       38            Private  215646      HS-grad              9   \n",
       "3       53            Private  234721         11th              7   \n",
       "4       28            Private  338409    Bachelors             13   \n",
       "...    ...                ...     ...          ...            ...   \n",
       "32556   27            Private  257302   Assoc-acdm             12   \n",
       "32557   40            Private  154374      HS-grad              9   \n",
       "32558   58            Private  151910      HS-grad              9   \n",
       "32559   22            Private  201490      HS-grad              9   \n",
       "32560   52       Self-emp-inc  287927      HS-grad              9   \n",
       "\n",
       "            Marital Status          Occupation    Relationship    Race  \\\n",
       "0            Never-married        Adm-clerical   Not-in-family   White   \n",
       "1       Married-civ-spouse     Exec-managerial         Husband   White   \n",
       "2                 Divorced   Handlers-cleaners   Not-in-family   White   \n",
       "3       Married-civ-spouse   Handlers-cleaners         Husband   Black   \n",
       "4       Married-civ-spouse      Prof-specialty            Wife   Black   \n",
       "...                    ...                 ...             ...     ...   \n",
       "32556   Married-civ-spouse        Tech-support            Wife   White   \n",
       "32557   Married-civ-spouse   Machine-op-inspct         Husband   White   \n",
       "32558              Widowed        Adm-clerical       Unmarried   White   \n",
       "32559        Never-married        Adm-clerical       Own-child   White   \n",
       "32560   Married-civ-spouse     Exec-managerial            Wife   White   \n",
       "\n",
       "           Sex  Capital Gain  Capital Loss  Hours/Week         Country  \\\n",
       "0         Male          2174             0          40   United-States   \n",
       "1         Male             0             0          13   United-States   \n",
       "2         Male             0             0          40   United-States   \n",
       "3         Male             0             0          40   United-States   \n",
       "4       Female             0             0          40            Cuba   \n",
       "...        ...           ...           ...         ...             ...   \n",
       "32556   Female             0             0          38   United-States   \n",
       "32557     Male             0             0          40   United-States   \n",
       "32558   Female             0             0          40   United-States   \n",
       "32559     Male             0             0          20   United-States   \n",
       "32560   Female         15024             0          40   United-States   \n",
       "\n",
       "      Above/Below 50k  \n",
       "0               <=50K  \n",
       "1               <=50K  \n",
       "2               <=50K  \n",
       "3               <=50K  \n",
       "4               <=50K  \n",
       "...               ...  \n",
       "32556           <=50K  \n",
       "32557            >50K  \n",
       "32558           <=50K  \n",
       "32559           <=50K  \n",
       "32560            >50K  \n",
       "\n",
       "[32561 rows x 15 columns]"
      ]
     },
     "execution_count": 15,
     "metadata": {},
     "output_type": "execute_result"
    }
   ],
   "source": [
    "adult"
   ]
  },
  {
   "cell_type": "code",
   "execution_count": 16,
   "id": "01b000c7",
   "metadata": {},
   "outputs": [
    {
     "data": {
      "application/vnd.microsoft.datawrangler.viewer.v0+json": {
       "columns": [
        {
         "name": "Above/Below 50k",
         "rawType": "object",
         "type": "string"
        },
        {
         "name": "Age",
         "rawType": "float64",
         "type": "float"
        }
       ],
       "ref": "d0ef605b-4660-4615-96fc-2b6385450efd",
       "rows": [
        [
         " <=50K",
         "36.78373786407767"
        ],
        [
         " >50K",
         "44.24984058155847"
        ]
       ],
       "shape": {
        "columns": 1,
        "rows": 2
       }
      },
      "text/plain": [
       "Above/Below 50k\n",
       "<=50K    36.783738\n",
       ">50K     44.249841\n",
       "Name: Age, dtype: float64"
      ]
     },
     "execution_count": 16,
     "metadata": {},
     "output_type": "execute_result"
    }
   ],
   "source": [
    "adult.groupby(\"Above/Below 50k\")[\"Age\"].mean()"
   ]
  },
  {
   "cell_type": "code",
   "execution_count": 17,
   "id": "ed14d525",
   "metadata": {},
   "outputs": [
    {
     "data": {
      "application/vnd.microsoft.datawrangler.viewer.v0+json": {
       "columns": [
        {
         "name": "Above/Below 50k",
         "rawType": "object",
         "type": "string"
        },
        {
         "name": "Age",
         "rawType": "int64",
         "type": "integer"
        },
        {
         "name": "Education Num",
         "rawType": "int64",
         "type": "integer"
        }
       ],
       "ref": "305334f5-59c8-4d74-9634-b5314bf1b305",
       "rows": [
        [
         " <=50K",
         "909294",
         "237190"
        ],
        [
         " >50K",
         "346963",
         "91047"
        ]
       ],
       "shape": {
        "columns": 2,
        "rows": 2
       }
      },
      "text/html": [
       "<div>\n",
       "<style scoped>\n",
       "    .dataframe tbody tr th:only-of-type {\n",
       "        vertical-align: middle;\n",
       "    }\n",
       "\n",
       "    .dataframe tbody tr th {\n",
       "        vertical-align: top;\n",
       "    }\n",
       "\n",
       "    .dataframe thead th {\n",
       "        text-align: right;\n",
       "    }\n",
       "</style>\n",
       "<table border=\"1\" class=\"dataframe\">\n",
       "  <thead>\n",
       "    <tr style=\"text-align: right;\">\n",
       "      <th></th>\n",
       "      <th>Age</th>\n",
       "      <th>Education Num</th>\n",
       "    </tr>\n",
       "    <tr>\n",
       "      <th>Above/Below 50k</th>\n",
       "      <th></th>\n",
       "      <th></th>\n",
       "    </tr>\n",
       "  </thead>\n",
       "  <tbody>\n",
       "    <tr>\n",
       "      <th>&lt;=50K</th>\n",
       "      <td>909294</td>\n",
       "      <td>237190</td>\n",
       "    </tr>\n",
       "    <tr>\n",
       "      <th>&gt;50K</th>\n",
       "      <td>346963</td>\n",
       "      <td>91047</td>\n",
       "    </tr>\n",
       "  </tbody>\n",
       "</table>\n",
       "</div>"
      ],
      "text/plain": [
       "                    Age  Education Num\n",
       "Above/Below 50k                       \n",
       "<=50K            909294         237190\n",
       ">50K             346963          91047"
      ]
     },
     "execution_count": 17,
     "metadata": {},
     "output_type": "execute_result"
    }
   ],
   "source": [
    "adult.groupby(\"Above/Below 50k\")[['Age', 'Education Num']].sum()"
   ]
  },
  {
   "cell_type": "code",
   "execution_count": 18,
   "id": "b1d46283",
   "metadata": {},
   "outputs": [
    {
     "data": {
      "application/vnd.microsoft.datawrangler.viewer.v0+json": {
       "columns": [
        {
         "name": "('Above/Below 50k', 'Education')",
         "rawType": "object",
         "type": "unknown"
        },
        {
         "name": "0",
         "rawType": "int64",
         "type": "integer"
        }
       ],
       "ref": "bad412b1-2db3-4e00-a37b-7f6a1a14b26c",
       "rows": [
        [
         "(' <=50K', ' 10th')",
         "871"
        ],
        [
         "(' <=50K', ' 11th')",
         "1115"
        ],
        [
         "(' <=50K', ' 12th')",
         "400"
        ],
        [
         "(' <=50K', ' 1st-4th')",
         "162"
        ],
        [
         "(' <=50K', ' 5th-6th')",
         "317"
        ],
        [
         "(' <=50K', ' 7th-8th')",
         "606"
        ],
        [
         "(' <=50K', ' 9th')",
         "487"
        ],
        [
         "(' <=50K', ' Assoc-acdm')",
         "802"
        ],
        [
         "(' <=50K', ' Assoc-voc')",
         "1021"
        ],
        [
         "(' <=50K', ' Bachelors')",
         "3134"
        ],
        [
         "(' <=50K', ' Doctorate')",
         "107"
        ],
        [
         "(' <=50K', ' HS-grad')",
         "8826"
        ],
        [
         "(' <=50K', ' Masters')",
         "764"
        ],
        [
         "(' <=50K', ' Preschool')",
         "51"
        ],
        [
         "(' <=50K', ' Prof-school')",
         "153"
        ],
        [
         "(' <=50K', ' Some-college')",
         "5904"
        ],
        [
         "(' >50K', ' 10th')",
         "62"
        ],
        [
         "(' >50K', ' 11th')",
         "60"
        ],
        [
         "(' >50K', ' 12th')",
         "33"
        ],
        [
         "(' >50K', ' 1st-4th')",
         "6"
        ],
        [
         "(' >50K', ' 5th-6th')",
         "16"
        ],
        [
         "(' >50K', ' 7th-8th')",
         "40"
        ],
        [
         "(' >50K', ' 9th')",
         "27"
        ],
        [
         "(' >50K', ' Assoc-acdm')",
         "265"
        ],
        [
         "(' >50K', ' Assoc-voc')",
         "361"
        ],
        [
         "(' >50K', ' Bachelors')",
         "2221"
        ],
        [
         "(' >50K', ' Doctorate')",
         "306"
        ],
        [
         "(' >50K', ' HS-grad')",
         "1675"
        ],
        [
         "(' >50K', ' Masters')",
         "959"
        ],
        [
         "(' >50K', ' Prof-school')",
         "423"
        ],
        [
         "(' >50K', ' Some-college')",
         "1387"
        ]
       ],
       "shape": {
        "columns": 1,
        "rows": 31
       }
      },
      "text/plain": [
       "Above/Below 50k  Education   \n",
       "<=50K            10th             871\n",
       "                 11th            1115\n",
       "                 12th             400\n",
       "                 1st-4th          162\n",
       "                 5th-6th          317\n",
       "                 7th-8th          606\n",
       "                 9th              487\n",
       "                 Assoc-acdm       802\n",
       "                 Assoc-voc       1021\n",
       "                 Bachelors       3134\n",
       "                 Doctorate        107\n",
       "                 HS-grad         8826\n",
       "                 Masters          764\n",
       "                 Preschool         51\n",
       "                 Prof-school      153\n",
       "                 Some-college    5904\n",
       ">50K             10th              62\n",
       "                 11th              60\n",
       "                 12th              33\n",
       "                 1st-4th            6\n",
       "                 5th-6th           16\n",
       "                 7th-8th           40\n",
       "                 9th               27\n",
       "                 Assoc-acdm       265\n",
       "                 Assoc-voc        361\n",
       "                 Bachelors       2221\n",
       "                 Doctorate        306\n",
       "                 HS-grad         1675\n",
       "                 Masters          959\n",
       "                 Prof-school      423\n",
       "                 Some-college    1387\n",
       "dtype: int64"
      ]
     },
     "execution_count": 18,
     "metadata": {},
     "output_type": "execute_result"
    }
   ],
   "source": [
    "adult.groupby(by=['Above/Below 50k', 'Education']).size()"
   ]
  },
  {
   "cell_type": "code",
   "execution_count": 19,
   "id": "e1310a62",
   "metadata": {},
   "outputs": [
    {
     "data": {
      "application/vnd.microsoft.datawrangler.viewer.v0+json": {
       "columns": [
        {
         "name": "index",
         "rawType": "object",
         "type": "string"
        },
        {
         "name": "0",
         "rawType": "int64",
         "type": "integer"
        }
       ],
       "ref": "fcd25139-736d-4ea3-b120-a762dc3a0e74",
       "rows": [
        [
         "Age",
         "73"
        ],
        [
         "Workclass",
         "9"
        ],
        [
         "fnlgwt",
         "21648"
        ],
        [
         "Education",
         "16"
        ],
        [
         "Education Num",
         "16"
        ],
        [
         "Marital Status",
         "7"
        ],
        [
         "Occupation",
         "15"
        ],
        [
         "Relationship",
         "6"
        ],
        [
         "Race",
         "5"
        ],
        [
         "Sex",
         "2"
        ],
        [
         "Capital Gain",
         "119"
        ],
        [
         "Capital Loss",
         "92"
        ],
        [
         "Hours/Week",
         "94"
        ],
        [
         "Country",
         "42"
        ],
        [
         "Above/Below 50k",
         "2"
        ]
       ],
       "shape": {
        "columns": 1,
        "rows": 15
       }
      },
      "text/plain": [
       "Age                   73\n",
       "Workclass              9\n",
       "fnlgwt             21648\n",
       "Education             16\n",
       "Education Num         16\n",
       "Marital Status         7\n",
       "Occupation            15\n",
       "Relationship           6\n",
       "Race                   5\n",
       "Sex                    2\n",
       "Capital Gain         119\n",
       "Capital Loss          92\n",
       "Hours/Week            94\n",
       "Country               42\n",
       "Above/Below 50k        2\n",
       "dtype: int64"
      ]
     },
     "execution_count": 19,
     "metadata": {},
     "output_type": "execute_result"
    }
   ],
   "source": [
    "adult.nunique()"
   ]
  },
  {
   "cell_type": "code",
   "execution_count": 20,
   "id": "dcd02b40",
   "metadata": {},
   "outputs": [],
   "source": [
    "\n",
    "gb = adult.groupby(by=[ \"Workclass\",\n",
    "                        \"Above/Below 50k\", \n",
    "                        \"Education\"]).count()\n",
    "\n"
   ]
  },
  {
   "cell_type": "code",
   "execution_count": 21,
   "id": "408d2284",
   "metadata": {},
   "outputs": [
    {
     "data": {
      "application/vnd.microsoft.datawrangler.viewer.v0+json": {
       "columns": [
        {
         "name": "('Workclass', 'Above/Below 50k', 'Education')",
         "rawType": "object",
         "type": "unknown"
        },
        {
         "name": "Age",
         "rawType": "int64",
         "type": "integer"
        },
        {
         "name": "fnlgwt",
         "rawType": "int64",
         "type": "integer"
        },
        {
         "name": "Education Num",
         "rawType": "int64",
         "type": "integer"
        },
        {
         "name": "Marital Status",
         "rawType": "int64",
         "type": "integer"
        },
        {
         "name": "Occupation",
         "rawType": "int64",
         "type": "integer"
        },
        {
         "name": "Relationship",
         "rawType": "int64",
         "type": "integer"
        },
        {
         "name": "Race",
         "rawType": "int64",
         "type": "integer"
        },
        {
         "name": "Sex",
         "rawType": "int64",
         "type": "integer"
        },
        {
         "name": "Capital Gain",
         "rawType": "int64",
         "type": "integer"
        },
        {
         "name": "Capital Loss",
         "rawType": "int64",
         "type": "integer"
        },
        {
         "name": "Hours/Week",
         "rawType": "int64",
         "type": "integer"
        },
        {
         "name": "Country",
         "rawType": "int64",
         "type": "integer"
        }
       ],
       "ref": "d3e87218-f872-43f5-8966-86dd59a872ef",
       "rows": [
        [
         "(' ?', ' <=50K', ' 10th')",
         "98",
         "98",
         "98",
         "98",
         "98",
         "98",
         "98",
         "98",
         "98",
         "98",
         "98",
         "98"
        ],
        [
         "(' ?', ' <=50K', ' 11th')",
         "118",
         "118",
         "118",
         "118",
         "118",
         "118",
         "118",
         "118",
         "118",
         "118",
         "118",
         "118"
        ],
        [
         "(' ?', ' <=50K', ' 12th')",
         "38",
         "38",
         "38",
         "38",
         "38",
         "38",
         "38",
         "38",
         "38",
         "38",
         "38",
         "38"
        ],
        [
         "(' ?', ' <=50K', ' 1st-4th')",
         "12",
         "12",
         "12",
         "12",
         "12",
         "12",
         "12",
         "12",
         "12",
         "12",
         "12",
         "12"
        ],
        [
         "(' ?', ' <=50K', ' 5th-6th')",
         "28",
         "28",
         "28",
         "28",
         "28",
         "28",
         "28",
         "28",
         "28",
         "28",
         "28",
         "28"
        ],
        [
         "(' ?', ' <=50K', ' 7th-8th')",
         "70",
         "70",
         "70",
         "70",
         "70",
         "70",
         "70",
         "70",
         "70",
         "70",
         "70",
         "70"
        ],
        [
         "(' ?', ' <=50K', ' 9th')",
         "50",
         "50",
         "50",
         "50",
         "50",
         "50",
         "50",
         "50",
         "50",
         "50",
         "50",
         "50"
        ],
        [
         "(' ?', ' <=50K', ' Assoc-acdm')",
         "41",
         "41",
         "41",
         "41",
         "41",
         "41",
         "41",
         "41",
         "41",
         "41",
         "41",
         "41"
        ],
        [
         "(' ?', ' <=50K', ' Assoc-voc')",
         "48",
         "48",
         "48",
         "48",
         "48",
         "48",
         "48",
         "48",
         "48",
         "48",
         "48",
         "48"
        ],
        [
         "(' ?', ' <=50K', ' Bachelors')",
         "128",
         "128",
         "128",
         "128",
         "128",
         "128",
         "128",
         "128",
         "128",
         "128",
         "128",
         "128"
        ],
        [
         "(' ?', ' <=50K', ' Doctorate')",
         "4",
         "4",
         "4",
         "4",
         "4",
         "4",
         "4",
         "4",
         "4",
         "4",
         "4",
         "4"
        ],
        [
         "(' ?', ' <=50K', ' HS-grad')",
         "486",
         "486",
         "486",
         "486",
         "486",
         "486",
         "486",
         "486",
         "486",
         "486",
         "486",
         "486"
        ],
        [
         "(' ?', ' <=50K', ' Masters')",
         "30",
         "30",
         "30",
         "30",
         "30",
         "30",
         "30",
         "30",
         "30",
         "30",
         "30",
         "30"
        ],
        [
         "(' ?', ' <=50K', ' Preschool')",
         "5",
         "5",
         "5",
         "5",
         "5",
         "5",
         "5",
         "5",
         "5",
         "5",
         "5",
         "5"
        ],
        [
         "(' ?', ' <=50K', ' Prof-school')",
         "10",
         "10",
         "10",
         "10",
         "10",
         "10",
         "10",
         "10",
         "10",
         "10",
         "10",
         "10"
        ],
        [
         "(' ?', ' <=50K', ' Some-college')",
         "479",
         "479",
         "479",
         "479",
         "479",
         "479",
         "479",
         "479",
         "479",
         "479",
         "479",
         "479"
        ],
        [
         "(' ?', ' >50K', ' 10th')",
         "2",
         "2",
         "2",
         "2",
         "2",
         "2",
         "2",
         "2",
         "2",
         "2",
         "2",
         "2"
        ],
        [
         "(' ?', ' >50K', ' 12th')",
         "2",
         "2",
         "2",
         "2",
         "2",
         "2",
         "2",
         "2",
         "2",
         "2",
         "2",
         "2"
        ],
        [
         "(' ?', ' >50K', ' 5th-6th')",
         "2",
         "2",
         "2",
         "2",
         "2",
         "2",
         "2",
         "2",
         "2",
         "2",
         "2",
         "2"
        ],
        [
         "(' ?', ' >50K', ' 7th-8th')",
         "2",
         "2",
         "2",
         "2",
         "2",
         "2",
         "2",
         "2",
         "2",
         "2",
         "2",
         "2"
        ],
        [
         "(' ?', ' >50K', ' 9th')",
         "1",
         "1",
         "1",
         "1",
         "1",
         "1",
         "1",
         "1",
         "1",
         "1",
         "1",
         "1"
        ],
        [
         "(' ?', ' >50K', ' Assoc-acdm')",
         "6",
         "6",
         "6",
         "6",
         "6",
         "6",
         "6",
         "6",
         "6",
         "6",
         "6",
         "6"
        ],
        [
         "(' ?', ' >50K', ' Assoc-voc')",
         "13",
         "13",
         "13",
         "13",
         "13",
         "13",
         "13",
         "13",
         "13",
         "13",
         "13",
         "13"
        ],
        [
         "(' ?', ' >50K', ' Bachelors')",
         "45",
         "45",
         "45",
         "45",
         "45",
         "45",
         "45",
         "45",
         "45",
         "45",
         "45",
         "45"
        ],
        [
         "(' ?', ' >50K', ' Doctorate')",
         "11",
         "11",
         "11",
         "11",
         "11",
         "11",
         "11",
         "11",
         "11",
         "11",
         "11",
         "11"
        ],
        [
         "(' ?', ' >50K', ' HS-grad')",
         "46",
         "46",
         "46",
         "46",
         "46",
         "46",
         "46",
         "46",
         "46",
         "46",
         "46",
         "46"
        ],
        [
         "(' ?', ' >50K', ' Masters')",
         "18",
         "18",
         "18",
         "18",
         "18",
         "18",
         "18",
         "18",
         "18",
         "18",
         "18",
         "18"
        ],
        [
         "(' ?', ' >50K', ' Prof-school')",
         "8",
         "8",
         "8",
         "8",
         "8",
         "8",
         "8",
         "8",
         "8",
         "8",
         "8",
         "8"
        ],
        [
         "(' ?', ' >50K', ' Some-college')",
         "35",
         "35",
         "35",
         "35",
         "35",
         "35",
         "35",
         "35",
         "35",
         "35",
         "35",
         "35"
        ],
        [
         "(' Federal-gov', ' <=50K', ' 10th')",
         "6",
         "6",
         "6",
         "6",
         "6",
         "6",
         "6",
         "6",
         "6",
         "6",
         "6",
         "6"
        ],
        [
         "(' Federal-gov', ' <=50K', ' 11th')",
         "8",
         "8",
         "8",
         "8",
         "8",
         "8",
         "8",
         "8",
         "8",
         "8",
         "8",
         "8"
        ],
        [
         "(' Federal-gov', ' <=50K', ' 12th')",
         "5",
         "5",
         "5",
         "5",
         "5",
         "5",
         "5",
         "5",
         "5",
         "5",
         "5",
         "5"
        ],
        [
         "(' Federal-gov', ' <=50K', ' 5th-6th')",
         "1",
         "1",
         "1",
         "1",
         "1",
         "1",
         "1",
         "1",
         "1",
         "1",
         "1",
         "1"
        ],
        [
         "(' Federal-gov', ' <=50K', ' 7th-8th')",
         "2",
         "2",
         "2",
         "2",
         "2",
         "2",
         "2",
         "2",
         "2",
         "2",
         "2",
         "2"
        ],
        [
         "(' Federal-gov', ' <=50K', ' 9th')",
         "2",
         "2",
         "2",
         "2",
         "2",
         "2",
         "2",
         "2",
         "2",
         "2",
         "2",
         "2"
        ],
        [
         "(' Federal-gov', ' <=50K', ' Assoc-acdm')",
         "36",
         "36",
         "36",
         "36",
         "36",
         "36",
         "36",
         "36",
         "36",
         "36",
         "36",
         "36"
        ],
        [
         "(' Federal-gov', ' <=50K', ' Assoc-voc')",
         "23",
         "23",
         "23",
         "23",
         "23",
         "23",
         "23",
         "23",
         "23",
         "23",
         "23",
         "23"
        ],
        [
         "(' Federal-gov', ' <=50K', ' Bachelors')",
         "117",
         "117",
         "117",
         "117",
         "117",
         "117",
         "117",
         "117",
         "117",
         "117",
         "117",
         "117"
        ],
        [
         "(' Federal-gov', ' <=50K', ' Doctorate')",
         "1",
         "1",
         "1",
         "1",
         "1",
         "1",
         "1",
         "1",
         "1",
         "1",
         "1",
         "1"
        ],
        [
         "(' Federal-gov', ' <=50K', ' HS-grad')",
         "190",
         "190",
         "190",
         "190",
         "190",
         "190",
         "190",
         "190",
         "190",
         "190",
         "190",
         "190"
        ],
        [
         "(' Federal-gov', ' <=50K', ' Masters')",
         "20",
         "20",
         "20",
         "20",
         "20",
         "20",
         "20",
         "20",
         "20",
         "20",
         "20",
         "20"
        ],
        [
         "(' Federal-gov', ' <=50K', ' Prof-school')",
         "6",
         "6",
         "6",
         "6",
         "6",
         "6",
         "6",
         "6",
         "6",
         "6",
         "6",
         "6"
        ],
        [
         "(' Federal-gov', ' <=50K', ' Some-college')",
         "172",
         "172",
         "172",
         "172",
         "172",
         "172",
         "172",
         "172",
         "172",
         "172",
         "172",
         "172"
        ],
        [
         "(' Federal-gov', ' >50K', ' 11th')",
         "1",
         "1",
         "1",
         "1",
         "1",
         "1",
         "1",
         "1",
         "1",
         "1",
         "1",
         "1"
        ],
        [
         "(' Federal-gov', ' >50K', ' 9th')",
         "1",
         "1",
         "1",
         "1",
         "1",
         "1",
         "1",
         "1",
         "1",
         "1",
         "1",
         "1"
        ],
        [
         "(' Federal-gov', ' >50K', ' Assoc-acdm')",
         "19",
         "19",
         "19",
         "19",
         "19",
         "19",
         "19",
         "19",
         "19",
         "19",
         "19",
         "19"
        ],
        [
         "(' Federal-gov', ' >50K', ' Assoc-voc')",
         "15",
         "15",
         "15",
         "15",
         "15",
         "15",
         "15",
         "15",
         "15",
         "15",
         "15",
         "15"
        ],
        [
         "(' Federal-gov', ' >50K', ' Bachelors')",
         "95",
         "95",
         "95",
         "95",
         "95",
         "95",
         "95",
         "95",
         "95",
         "95",
         "95",
         "95"
        ],
        [
         "(' Federal-gov', ' >50K', ' Doctorate')",
         "15",
         "15",
         "15",
         "15",
         "15",
         "15",
         "15",
         "15",
         "15",
         "15",
         "15",
         "15"
        ],
        [
         "(' Federal-gov', ' >50K', ' HS-grad')",
         "73",
         "73",
         "73",
         "73",
         "73",
         "73",
         "73",
         "73",
         "73",
         "73",
         "73",
         "73"
        ]
       ],
       "shape": {
        "columns": 12,
        "rows": 208
       }
      },
      "text/html": [
       "<div>\n",
       "<style scoped>\n",
       "    .dataframe tbody tr th:only-of-type {\n",
       "        vertical-align: middle;\n",
       "    }\n",
       "\n",
       "    .dataframe tbody tr th {\n",
       "        vertical-align: top;\n",
       "    }\n",
       "\n",
       "    .dataframe thead th {\n",
       "        text-align: right;\n",
       "    }\n",
       "</style>\n",
       "<table border=\"1\" class=\"dataframe\">\n",
       "  <thead>\n",
       "    <tr style=\"text-align: right;\">\n",
       "      <th></th>\n",
       "      <th></th>\n",
       "      <th></th>\n",
       "      <th>Age</th>\n",
       "      <th>fnlgwt</th>\n",
       "      <th>Education Num</th>\n",
       "      <th>Marital Status</th>\n",
       "      <th>Occupation</th>\n",
       "      <th>Relationship</th>\n",
       "      <th>Race</th>\n",
       "      <th>Sex</th>\n",
       "      <th>Capital Gain</th>\n",
       "      <th>Capital Loss</th>\n",
       "      <th>Hours/Week</th>\n",
       "      <th>Country</th>\n",
       "    </tr>\n",
       "    <tr>\n",
       "      <th>Workclass</th>\n",
       "      <th>Above/Below 50k</th>\n",
       "      <th>Education</th>\n",
       "      <th></th>\n",
       "      <th></th>\n",
       "      <th></th>\n",
       "      <th></th>\n",
       "      <th></th>\n",
       "      <th></th>\n",
       "      <th></th>\n",
       "      <th></th>\n",
       "      <th></th>\n",
       "      <th></th>\n",
       "      <th></th>\n",
       "      <th></th>\n",
       "    </tr>\n",
       "  </thead>\n",
       "  <tbody>\n",
       "    <tr>\n",
       "      <th rowspan=\"5\" valign=\"top\">?</th>\n",
       "      <th rowspan=\"5\" valign=\"top\">&lt;=50K</th>\n",
       "      <th>10th</th>\n",
       "      <td>98</td>\n",
       "      <td>98</td>\n",
       "      <td>98</td>\n",
       "      <td>98</td>\n",
       "      <td>98</td>\n",
       "      <td>98</td>\n",
       "      <td>98</td>\n",
       "      <td>98</td>\n",
       "      <td>98</td>\n",
       "      <td>98</td>\n",
       "      <td>98</td>\n",
       "      <td>98</td>\n",
       "    </tr>\n",
       "    <tr>\n",
       "      <th>11th</th>\n",
       "      <td>118</td>\n",
       "      <td>118</td>\n",
       "      <td>118</td>\n",
       "      <td>118</td>\n",
       "      <td>118</td>\n",
       "      <td>118</td>\n",
       "      <td>118</td>\n",
       "      <td>118</td>\n",
       "      <td>118</td>\n",
       "      <td>118</td>\n",
       "      <td>118</td>\n",
       "      <td>118</td>\n",
       "    </tr>\n",
       "    <tr>\n",
       "      <th>12th</th>\n",
       "      <td>38</td>\n",
       "      <td>38</td>\n",
       "      <td>38</td>\n",
       "      <td>38</td>\n",
       "      <td>38</td>\n",
       "      <td>38</td>\n",
       "      <td>38</td>\n",
       "      <td>38</td>\n",
       "      <td>38</td>\n",
       "      <td>38</td>\n",
       "      <td>38</td>\n",
       "      <td>38</td>\n",
       "    </tr>\n",
       "    <tr>\n",
       "      <th>1st-4th</th>\n",
       "      <td>12</td>\n",
       "      <td>12</td>\n",
       "      <td>12</td>\n",
       "      <td>12</td>\n",
       "      <td>12</td>\n",
       "      <td>12</td>\n",
       "      <td>12</td>\n",
       "      <td>12</td>\n",
       "      <td>12</td>\n",
       "      <td>12</td>\n",
       "      <td>12</td>\n",
       "      <td>12</td>\n",
       "    </tr>\n",
       "    <tr>\n",
       "      <th>5th-6th</th>\n",
       "      <td>28</td>\n",
       "      <td>28</td>\n",
       "      <td>28</td>\n",
       "      <td>28</td>\n",
       "      <td>28</td>\n",
       "      <td>28</td>\n",
       "      <td>28</td>\n",
       "      <td>28</td>\n",
       "      <td>28</td>\n",
       "      <td>28</td>\n",
       "      <td>28</td>\n",
       "      <td>28</td>\n",
       "    </tr>\n",
       "    <tr>\n",
       "      <th>...</th>\n",
       "      <th>...</th>\n",
       "      <th>...</th>\n",
       "      <td>...</td>\n",
       "      <td>...</td>\n",
       "      <td>...</td>\n",
       "      <td>...</td>\n",
       "      <td>...</td>\n",
       "      <td>...</td>\n",
       "      <td>...</td>\n",
       "      <td>...</td>\n",
       "      <td>...</td>\n",
       "      <td>...</td>\n",
       "      <td>...</td>\n",
       "      <td>...</td>\n",
       "    </tr>\n",
       "    <tr>\n",
       "      <th>State-gov</th>\n",
       "      <th>&gt;50K</th>\n",
       "      <th>Some-college</th>\n",
       "      <td>31</td>\n",
       "      <td>31</td>\n",
       "      <td>31</td>\n",
       "      <td>31</td>\n",
       "      <td>31</td>\n",
       "      <td>31</td>\n",
       "      <td>31</td>\n",
       "      <td>31</td>\n",
       "      <td>31</td>\n",
       "      <td>31</td>\n",
       "      <td>31</td>\n",
       "      <td>31</td>\n",
       "    </tr>\n",
       "    <tr>\n",
       "      <th rowspan=\"4\" valign=\"top\">Without-pay</th>\n",
       "      <th rowspan=\"4\" valign=\"top\">&lt;=50K</th>\n",
       "      <th>7th-8th</th>\n",
       "      <td>1</td>\n",
       "      <td>1</td>\n",
       "      <td>1</td>\n",
       "      <td>1</td>\n",
       "      <td>1</td>\n",
       "      <td>1</td>\n",
       "      <td>1</td>\n",
       "      <td>1</td>\n",
       "      <td>1</td>\n",
       "      <td>1</td>\n",
       "      <td>1</td>\n",
       "      <td>1</td>\n",
       "    </tr>\n",
       "    <tr>\n",
       "      <th>Assoc-acdm</th>\n",
       "      <td>1</td>\n",
       "      <td>1</td>\n",
       "      <td>1</td>\n",
       "      <td>1</td>\n",
       "      <td>1</td>\n",
       "      <td>1</td>\n",
       "      <td>1</td>\n",
       "      <td>1</td>\n",
       "      <td>1</td>\n",
       "      <td>1</td>\n",
       "      <td>1</td>\n",
       "      <td>1</td>\n",
       "    </tr>\n",
       "    <tr>\n",
       "      <th>HS-grad</th>\n",
       "      <td>9</td>\n",
       "      <td>9</td>\n",
       "      <td>9</td>\n",
       "      <td>9</td>\n",
       "      <td>9</td>\n",
       "      <td>9</td>\n",
       "      <td>9</td>\n",
       "      <td>9</td>\n",
       "      <td>9</td>\n",
       "      <td>9</td>\n",
       "      <td>9</td>\n",
       "      <td>9</td>\n",
       "    </tr>\n",
       "    <tr>\n",
       "      <th>Some-college</th>\n",
       "      <td>3</td>\n",
       "      <td>3</td>\n",
       "      <td>3</td>\n",
       "      <td>3</td>\n",
       "      <td>3</td>\n",
       "      <td>3</td>\n",
       "      <td>3</td>\n",
       "      <td>3</td>\n",
       "      <td>3</td>\n",
       "      <td>3</td>\n",
       "      <td>3</td>\n",
       "      <td>3</td>\n",
       "    </tr>\n",
       "  </tbody>\n",
       "</table>\n",
       "<p>208 rows × 12 columns</p>\n",
       "</div>"
      ],
      "text/plain": [
       "                                          Age  fnlgwt  Education Num  \\\n",
       "Workclass   Above/Below 50k Education                                  \n",
       "?           <=50K           10th           98      98             98   \n",
       "                            11th          118     118            118   \n",
       "                            12th           38      38             38   \n",
       "                            1st-4th        12      12             12   \n",
       "                            5th-6th        28      28             28   \n",
       "...                                       ...     ...            ...   \n",
       "State-gov   >50K            Some-college   31      31             31   \n",
       "Without-pay <=50K           7th-8th         1       1              1   \n",
       "                            Assoc-acdm      1       1              1   \n",
       "                            HS-grad         9       9              9   \n",
       "                            Some-college    3       3              3   \n",
       "\n",
       "                                          Marital Status  Occupation  \\\n",
       "Workclass   Above/Below 50k Education                                  \n",
       "?           <=50K           10th                      98          98   \n",
       "                            11th                     118         118   \n",
       "                            12th                      38          38   \n",
       "                            1st-4th                   12          12   \n",
       "                            5th-6th                   28          28   \n",
       "...                                                  ...         ...   \n",
       "State-gov   >50K            Some-college              31          31   \n",
       "Without-pay <=50K           7th-8th                    1           1   \n",
       "                            Assoc-acdm                 1           1   \n",
       "                            HS-grad                    9           9   \n",
       "                            Some-college               3           3   \n",
       "\n",
       "                                          Relationship  Race  Sex  \\\n",
       "Workclass   Above/Below 50k Education                               \n",
       "?           <=50K           10th                    98    98   98   \n",
       "                            11th                   118   118  118   \n",
       "                            12th                    38    38   38   \n",
       "                            1st-4th                 12    12   12   \n",
       "                            5th-6th                 28    28   28   \n",
       "...                                                ...   ...  ...   \n",
       "State-gov   >50K            Some-college            31    31   31   \n",
       "Without-pay <=50K           7th-8th                  1     1    1   \n",
       "                            Assoc-acdm               1     1    1   \n",
       "                            HS-grad                  9     9    9   \n",
       "                            Some-college             3     3    3   \n",
       "\n",
       "                                          Capital Gain  Capital Loss  \\\n",
       "Workclass   Above/Below 50k Education                                  \n",
       "?           <=50K           10th                    98            98   \n",
       "                            11th                   118           118   \n",
       "                            12th                    38            38   \n",
       "                            1st-4th                 12            12   \n",
       "                            5th-6th                 28            28   \n",
       "...                                                ...           ...   \n",
       "State-gov   >50K            Some-college            31            31   \n",
       "Without-pay <=50K           7th-8th                  1             1   \n",
       "                            Assoc-acdm               1             1   \n",
       "                            HS-grad                  9             9   \n",
       "                            Some-college             3             3   \n",
       "\n",
       "                                          Hours/Week  Country  \n",
       "Workclass   Above/Below 50k Education                          \n",
       "?           <=50K           10th                  98       98  \n",
       "                            11th                 118      118  \n",
       "                            12th                  38       38  \n",
       "                            1st-4th               12       12  \n",
       "                            5th-6th               28       28  \n",
       "...                                              ...      ...  \n",
       "State-gov   >50K            Some-college          31       31  \n",
       "Without-pay <=50K           7th-8th                1        1  \n",
       "                            Assoc-acdm             1        1  \n",
       "                            HS-grad                9        9  \n",
       "                            Some-college           3        3  \n",
       "\n",
       "[208 rows x 12 columns]"
      ]
     },
     "execution_count": 21,
     "metadata": {},
     "output_type": "execute_result"
    }
   ],
   "source": [
    "gb"
   ]
  },
  {
   "cell_type": "code",
   "execution_count": 22,
   "id": "e4641125",
   "metadata": {},
   "outputs": [
    {
     "name": "stdout",
     "output_type": "stream",
     "text": [
      "Sex     Above/Below 50k\n",
      "Female  <=50K               9592\n",
      "        >50K                1179\n",
      "Male    <=50K              15128\n",
      "        >50K                6662\n",
      "dtype: int64\n"
     ]
    }
   ],
   "source": [
    "# Group the adult dataset by \"Sex\" and \"Above/Below 50k\"\n",
    "gb2= adult.groupby(by=[\"Sex\", \"Above/Below 50k\"])\n",
    "\n",
    "# Print out how many rows are in each created group\n",
    "print(gb2.size())\n",
    "\n"
   ]
  },
  {
   "cell_type": "code",
   "execution_count": 23,
   "id": "9065f5bb",
   "metadata": {},
   "outputs": [
    {
     "name": "stdout",
     "output_type": "stream",
     "text": [
      "                              Age         fnlgwt  Education Num  Capital Gain  \\\n",
      "Sex    Above/Below 50k                                                          \n",
      "Female <=50K            36.210801  185999.381359       9.820475    121.986134   \n",
      "       >50K             42.125530  183687.406277      11.787108   4200.389313   \n",
      "Male   <=50K            37.147012  193093.609268       9.452142    165.723823   \n",
      "       >50K             44.625788  188769.101321      11.580606   3971.765836   \n",
      "\n",
      "                        Capital Loss  Hours/Week  \n",
      "Sex    Above/Below 50k                            \n",
      "Female <=50K               47.364470   35.916701  \n",
      "       >50K               173.648855   40.426633  \n",
      "Male   <=50K               56.806782   40.693879  \n",
      "       >50K               198.780396   46.366106  \n"
     ]
    }
   ],
   "source": [
    "# Print out the mean of each group for numeric columns only\n",
    "print(gb2.mean(numeric_only=True))"
   ]
  },
  {
   "cell_type": "code",
   "execution_count": 24,
   "id": "51f4e9c7",
   "metadata": {},
   "outputs": [
    {
     "name": "stdout",
     "output_type": "stream",
     "text": [
      "Education     Above/Below 50k\n",
      "10th          <=50K              36.574053\n",
      "              >50K               43.774194\n",
      "11th          <=50K              33.322870\n",
      "              >50K               45.133333\n",
      "12th          <=50K              35.035000\n",
      "              >50K               44.818182\n",
      "1st-4th       <=50K              37.864198\n",
      "              >50K               48.833333\n",
      "5th-6th       <=50K              38.539432\n",
      "              >50K               46.000000\n",
      "7th-8th       <=50K              38.830033\n",
      "              >50K               47.500000\n",
      "9th           <=50K              37.667351\n",
      "              >50K               44.851852\n",
      "Assoc-acdm    <=50K              39.264339\n",
      "              >50K               44.256604\n",
      "Assoc-voc     <=50K              40.817826\n",
      "              >50K               43.853186\n",
      "Bachelors     <=50K              40.586152\n",
      "              >50K               45.475462\n",
      "Doctorate     <=50K              45.429907\n",
      "              >50K               47.513072\n",
      "HS-grad       <=50K              39.727510\n",
      "              >50K               45.042985\n",
      "Masters       <=50K              41.223822\n",
      "              >50K               45.917623\n",
      "Preschool     <=50K              36.647059\n",
      "Prof-school   <=50K              42.816993\n",
      "              >50K               49.092199\n",
      "Some-college  <=50K              37.450203\n",
      "              >50K               44.820476\n",
      "Name: Hours/Week, dtype: float64\n"
     ]
    }
   ],
   "source": [
    "# Create a list of user-selected variables\n",
    "user_list = [\"Education\", \"Above/Below 50k\"]\n",
    "\n",
    "# Create a GroupBy object using this list\n",
    "gb = adult.groupby(by=user_list)\n",
    "\n",
    "# Find the mean for the variable \"Hours/Week\" for each group - Be efficient!\n",
    "print(gb[\"Hours/Week\"].mean())"
   ]
  },
  {
   "cell_type": "code",
   "execution_count": 25,
   "id": "2a6a1b05",
   "metadata": {},
   "outputs": [
    {
     "name": "stdout",
     "output_type": "stream",
     "text": [
      "  Animal  Speed\n",
      "0    Dog     40\n",
      "1    Cat     30\n",
      "2    Dog     35\n",
      "3    Cat     25\n",
      "\n",
      "Animal: Cat\n",
      "\n",
      "  Animal  Speed\n",
      "1    Cat     30\n",
      "3    Cat     25\n",
      "Animal: Dog\n",
      "\n",
      "  Animal  Speed\n",
      "0    Dog     40\n",
      "2    Dog     35\n"
     ]
    }
   ],
   "source": [
    "df = pd.DataFrame({\n",
    "    'Animal': ['Dog', 'Cat', 'Dog', 'Cat'],\n",
    "    'Speed': [40, 30, 35, 25]\n",
    "})\n",
    "print(df)\n",
    "print()\n",
    "\n",
    "\n",
    "for animal, group in df.groupby('Animal'):\n",
    "    print(f\"Animal: {animal}\")\n",
    "    print()\n",
    "    print(group)"
   ]
  },
  {
   "cell_type": "markdown",
   "id": "ba39399e",
   "metadata": {},
   "source": [
    "## Setting category variables"
   ]
  },
  {
   "cell_type": "code",
   "execution_count": 26,
   "id": "4368088b",
   "metadata": {},
   "outputs": [],
   "source": [
    "dogs = pd.read_csv('ShelterDogs.csv')"
   ]
  },
  {
   "cell_type": "code",
   "execution_count": 27,
   "id": "b4b15831",
   "metadata": {},
   "outputs": [
    {
     "data": {
      "application/vnd.microsoft.datawrangler.viewer.v0+json": {
       "columns": [
        {
         "name": "index",
         "rawType": "int64",
         "type": "integer"
        },
        {
         "name": "ID",
         "rawType": "int64",
         "type": "integer"
        },
        {
         "name": "name",
         "rawType": "object",
         "type": "unknown"
        },
        {
         "name": "age",
         "rawType": "float64",
         "type": "float"
        },
        {
         "name": "sex",
         "rawType": "object",
         "type": "string"
        },
        {
         "name": "breed",
         "rawType": "object",
         "type": "string"
        },
        {
         "name": "date_found",
         "rawType": "object",
         "type": "string"
        },
        {
         "name": "adoptable_from",
         "rawType": "object",
         "type": "string"
        },
        {
         "name": "posted",
         "rawType": "object",
         "type": "string"
        },
        {
         "name": "color",
         "rawType": "object",
         "type": "string"
        },
        {
         "name": "coat",
         "rawType": "object",
         "type": "string"
        },
        {
         "name": "size",
         "rawType": "object",
         "type": "string"
        },
        {
         "name": "neutered",
         "rawType": "object",
         "type": "string"
        },
        {
         "name": "housebroken",
         "rawType": "object",
         "type": "unknown"
        },
        {
         "name": "likes_people",
         "rawType": "object",
         "type": "unknown"
        },
        {
         "name": "likes_children",
         "rawType": "object",
         "type": "unknown"
        },
        {
         "name": "get_along_males",
         "rawType": "object",
         "type": "unknown"
        },
        {
         "name": "get_along_females",
         "rawType": "object",
         "type": "unknown"
        },
        {
         "name": "get_along_cats",
         "rawType": "object",
         "type": "unknown"
        },
        {
         "name": "keep_in",
         "rawType": "object",
         "type": "unknown"
        }
       ],
       "ref": "a81470fa-de3a-48af-ae15-38ade320e982",
       "rows": [
        [
         "0",
         "23807",
         "Gida",
         "0.25",
         "female",
         "Unknown Mix",
         "12/10/19",
         "12/11/19",
         "12/11/19",
         "red",
         "short",
         "small",
         "no",
         null,
         null,
         null,
         null,
         null,
         null,
         null
        ],
        [
         "1",
         "533",
         "Frida És Ricsi",
         "0.17",
         "female",
         "Unknown Mix",
         "12/1/19",
         "12/1/19",
         "12/9/19",
         "black and white",
         "short",
         "small",
         "no",
         null,
         "yes",
         "yes",
         "yes",
         "yes",
         "yes",
         null
        ],
        [
         "2",
         "23793",
         null,
         "4.0",
         "male",
         "Unknown Mix",
         "12/8/19",
         "12/23/19",
         "12/8/19",
         "saddle back",
         "short",
         "medium",
         "no",
         null,
         null,
         null,
         null,
         null,
         null,
         null
        ],
        [
         "3",
         "23795",
         null,
         "1.0",
         "male",
         "Unknown Mix",
         "12/8/19",
         "12/23/19",
         "12/8/19",
         "yellow-brown",
         "medium",
         "medium",
         "no",
         null,
         null,
         null,
         null,
         null,
         null,
         null
        ],
        [
         "4",
         "23806",
         "Amy",
         "2.0",
         "female",
         "French Bulldog Mix",
         "12/10/19",
         "12/11/19",
         "12/11/19",
         "black",
         "short",
         "small",
         "no",
         null,
         null,
         null,
         null,
         null,
         null,
         null
        ]
       ],
       "shape": {
        "columns": 19,
        "rows": 5
       }
      },
      "text/html": [
       "<div>\n",
       "<style scoped>\n",
       "    .dataframe tbody tr th:only-of-type {\n",
       "        vertical-align: middle;\n",
       "    }\n",
       "\n",
       "    .dataframe tbody tr th {\n",
       "        vertical-align: top;\n",
       "    }\n",
       "\n",
       "    .dataframe thead th {\n",
       "        text-align: right;\n",
       "    }\n",
       "</style>\n",
       "<table border=\"1\" class=\"dataframe\">\n",
       "  <thead>\n",
       "    <tr style=\"text-align: right;\">\n",
       "      <th></th>\n",
       "      <th>ID</th>\n",
       "      <th>name</th>\n",
       "      <th>age</th>\n",
       "      <th>sex</th>\n",
       "      <th>breed</th>\n",
       "      <th>date_found</th>\n",
       "      <th>adoptable_from</th>\n",
       "      <th>posted</th>\n",
       "      <th>color</th>\n",
       "      <th>coat</th>\n",
       "      <th>size</th>\n",
       "      <th>neutered</th>\n",
       "      <th>housebroken</th>\n",
       "      <th>likes_people</th>\n",
       "      <th>likes_children</th>\n",
       "      <th>get_along_males</th>\n",
       "      <th>get_along_females</th>\n",
       "      <th>get_along_cats</th>\n",
       "      <th>keep_in</th>\n",
       "    </tr>\n",
       "  </thead>\n",
       "  <tbody>\n",
       "    <tr>\n",
       "      <th>0</th>\n",
       "      <td>23807</td>\n",
       "      <td>Gida</td>\n",
       "      <td>0.25</td>\n",
       "      <td>female</td>\n",
       "      <td>Unknown Mix</td>\n",
       "      <td>12/10/19</td>\n",
       "      <td>12/11/19</td>\n",
       "      <td>12/11/19</td>\n",
       "      <td>red</td>\n",
       "      <td>short</td>\n",
       "      <td>small</td>\n",
       "      <td>no</td>\n",
       "      <td>NaN</td>\n",
       "      <td>NaN</td>\n",
       "      <td>NaN</td>\n",
       "      <td>NaN</td>\n",
       "      <td>NaN</td>\n",
       "      <td>NaN</td>\n",
       "      <td>NaN</td>\n",
       "    </tr>\n",
       "    <tr>\n",
       "      <th>1</th>\n",
       "      <td>533</td>\n",
       "      <td>Frida És Ricsi</td>\n",
       "      <td>0.17</td>\n",
       "      <td>female</td>\n",
       "      <td>Unknown Mix</td>\n",
       "      <td>12/1/19</td>\n",
       "      <td>12/1/19</td>\n",
       "      <td>12/9/19</td>\n",
       "      <td>black and white</td>\n",
       "      <td>short</td>\n",
       "      <td>small</td>\n",
       "      <td>no</td>\n",
       "      <td>NaN</td>\n",
       "      <td>yes</td>\n",
       "      <td>yes</td>\n",
       "      <td>yes</td>\n",
       "      <td>yes</td>\n",
       "      <td>yes</td>\n",
       "      <td>NaN</td>\n",
       "    </tr>\n",
       "    <tr>\n",
       "      <th>2</th>\n",
       "      <td>23793</td>\n",
       "      <td>NaN</td>\n",
       "      <td>4.00</td>\n",
       "      <td>male</td>\n",
       "      <td>Unknown Mix</td>\n",
       "      <td>12/8/19</td>\n",
       "      <td>12/23/19</td>\n",
       "      <td>12/8/19</td>\n",
       "      <td>saddle back</td>\n",
       "      <td>short</td>\n",
       "      <td>medium</td>\n",
       "      <td>no</td>\n",
       "      <td>NaN</td>\n",
       "      <td>NaN</td>\n",
       "      <td>NaN</td>\n",
       "      <td>NaN</td>\n",
       "      <td>NaN</td>\n",
       "      <td>NaN</td>\n",
       "      <td>NaN</td>\n",
       "    </tr>\n",
       "    <tr>\n",
       "      <th>3</th>\n",
       "      <td>23795</td>\n",
       "      <td>NaN</td>\n",
       "      <td>1.00</td>\n",
       "      <td>male</td>\n",
       "      <td>Unknown Mix</td>\n",
       "      <td>12/8/19</td>\n",
       "      <td>12/23/19</td>\n",
       "      <td>12/8/19</td>\n",
       "      <td>yellow-brown</td>\n",
       "      <td>medium</td>\n",
       "      <td>medium</td>\n",
       "      <td>no</td>\n",
       "      <td>NaN</td>\n",
       "      <td>NaN</td>\n",
       "      <td>NaN</td>\n",
       "      <td>NaN</td>\n",
       "      <td>NaN</td>\n",
       "      <td>NaN</td>\n",
       "      <td>NaN</td>\n",
       "    </tr>\n",
       "    <tr>\n",
       "      <th>4</th>\n",
       "      <td>23806</td>\n",
       "      <td>Amy</td>\n",
       "      <td>2.00</td>\n",
       "      <td>female</td>\n",
       "      <td>French Bulldog Mix</td>\n",
       "      <td>12/10/19</td>\n",
       "      <td>12/11/19</td>\n",
       "      <td>12/11/19</td>\n",
       "      <td>black</td>\n",
       "      <td>short</td>\n",
       "      <td>small</td>\n",
       "      <td>no</td>\n",
       "      <td>NaN</td>\n",
       "      <td>NaN</td>\n",
       "      <td>NaN</td>\n",
       "      <td>NaN</td>\n",
       "      <td>NaN</td>\n",
       "      <td>NaN</td>\n",
       "      <td>NaN</td>\n",
       "    </tr>\n",
       "  </tbody>\n",
       "</table>\n",
       "</div>"
      ],
      "text/plain": [
       "      ID            name   age     sex               breed date_found  \\\n",
       "0  23807            Gida  0.25  female         Unknown Mix   12/10/19   \n",
       "1    533  Frida És Ricsi  0.17  female         Unknown Mix    12/1/19   \n",
       "2  23793             NaN  4.00    male         Unknown Mix    12/8/19   \n",
       "3  23795             NaN  1.00    male         Unknown Mix    12/8/19   \n",
       "4  23806             Amy  2.00  female  French Bulldog Mix   12/10/19   \n",
       "\n",
       "  adoptable_from    posted            color    coat    size neutered  \\\n",
       "0       12/11/19  12/11/19              red   short   small       no   \n",
       "1        12/1/19   12/9/19  black and white   short   small       no   \n",
       "2       12/23/19   12/8/19      saddle back   short  medium       no   \n",
       "3       12/23/19   12/8/19     yellow-brown  medium  medium       no   \n",
       "4       12/11/19  12/11/19            black   short   small       no   \n",
       "\n",
       "  housebroken likes_people likes_children get_along_males get_along_females  \\\n",
       "0         NaN          NaN            NaN             NaN               NaN   \n",
       "1         NaN          yes            yes             yes               yes   \n",
       "2         NaN          NaN            NaN             NaN               NaN   \n",
       "3         NaN          NaN            NaN             NaN               NaN   \n",
       "4         NaN          NaN            NaN             NaN               NaN   \n",
       "\n",
       "  get_along_cats keep_in  \n",
       "0            NaN     NaN  \n",
       "1            yes     NaN  \n",
       "2            NaN     NaN  \n",
       "3            NaN     NaN  \n",
       "4            NaN     NaN  "
      ]
     },
     "execution_count": 27,
     "metadata": {},
     "output_type": "execute_result"
    }
   ],
   "source": [
    "dogs.head()"
   ]
  },
  {
   "cell_type": "code",
   "execution_count": 28,
   "id": "1a320e81",
   "metadata": {},
   "outputs": [
    {
     "name": "stdout",
     "output_type": "stream",
     "text": [
      "<class 'pandas.core.frame.DataFrame'>\n",
      "RangeIndex: 2937 entries, 0 to 2936\n",
      "Data columns (total 19 columns):\n",
      " #   Column             Non-Null Count  Dtype  \n",
      "---  ------             --------------  -----  \n",
      " 0   ID                 2937 non-null   int64  \n",
      " 1   name               2845 non-null   object \n",
      " 2   age                2937 non-null   float64\n",
      " 3   sex                2937 non-null   object \n",
      " 4   breed              2937 non-null   object \n",
      " 5   date_found         2937 non-null   object \n",
      " 6   adoptable_from     2937 non-null   object \n",
      " 7   posted             2937 non-null   object \n",
      " 8   color              2937 non-null   object \n",
      " 9   coat               2937 non-null   object \n",
      " 10  size               2937 non-null   object \n",
      " 11  neutered           1852 non-null   object \n",
      " 12  housebroken        460 non-null    object \n",
      " 13  likes_people       1999 non-null   object \n",
      " 14  likes_children     1219 non-null   object \n",
      " 15  get_along_males    1633 non-null   object \n",
      " 16  get_along_females  1673 non-null   object \n",
      " 17  get_along_cats     431 non-null    object \n",
      " 18  keep_in            1916 non-null   object \n",
      "dtypes: float64(1), int64(1), object(17)\n",
      "memory usage: 436.1+ KB\n"
     ]
    }
   ],
   "source": [
    "dogs.info()"
   ]
  },
  {
   "cell_type": "code",
   "execution_count": 29,
   "id": "b8f0c418",
   "metadata": {},
   "outputs": [
    {
     "data": {
      "application/vnd.microsoft.datawrangler.viewer.v0+json": {
       "columns": [
        {
         "name": "index",
         "rawType": "object",
         "type": "string"
        },
        {
         "name": "0",
         "rawType": "int64",
         "type": "integer"
        }
       ],
       "ref": "e5877c00-9c9e-4ade-ab21-c35a0f12b4e0",
       "rows": [
        [
         "ID",
         "1694"
        ],
        [
         "name",
         "2016"
        ],
        [
         "age",
         "233"
        ],
        [
         "sex",
         "2"
        ],
        [
         "breed",
         "277"
        ],
        [
         "date_found",
         "1583"
        ],
        [
         "adoptable_from",
         "1578"
        ],
        [
         "posted",
         "1167"
        ],
        [
         "color",
         "23"
        ],
        [
         "coat",
         "4"
        ],
        [
         "size",
         "3"
        ],
        [
         "neutered",
         "2"
        ],
        [
         "housebroken",
         "2"
        ],
        [
         "likes_people",
         "2"
        ],
        [
         "likes_children",
         "2"
        ],
        [
         "get_along_males",
         "2"
        ],
        [
         "get_along_females",
         "2"
        ],
        [
         "get_along_cats",
         "2"
        ],
        [
         "keep_in",
         "3"
        ]
       ],
       "shape": {
        "columns": 1,
        "rows": 19
       }
      },
      "text/plain": [
       "ID                   1694\n",
       "name                 2016\n",
       "age                   233\n",
       "sex                     2\n",
       "breed                 277\n",
       "date_found           1583\n",
       "adoptable_from       1578\n",
       "posted               1167\n",
       "color                  23\n",
       "coat                    4\n",
       "size                    3\n",
       "neutered                2\n",
       "housebroken             2\n",
       "likes_people            2\n",
       "likes_children          2\n",
       "get_along_males         2\n",
       "get_along_females       2\n",
       "get_along_cats          2\n",
       "keep_in                 3\n",
       "dtype: int64"
      ]
     },
     "execution_count": 29,
     "metadata": {},
     "output_type": "execute_result"
    }
   ],
   "source": [
    "dogs.nunique()"
   ]
  },
  {
   "cell_type": "code",
   "execution_count": 30,
   "id": "f812a5c0",
   "metadata": {},
   "outputs": [
    {
     "data": {
      "application/vnd.microsoft.datawrangler.viewer.v0+json": {
       "columns": [
        {
         "name": "coat",
         "rawType": "category",
         "type": "unknown"
        },
        {
         "name": "count",
         "rawType": "int64",
         "type": "integer"
        }
       ],
       "ref": "4d1ced2a-93b6-4bb6-b53d-d0c3dbb75d67",
       "rows": [
        [
         "short",
         "1972"
        ],
        [
         "medium",
         "565"
        ],
        [
         "wirehaired",
         "220"
        ],
        [
         "long",
         "180"
        ]
       ],
       "shape": {
        "columns": 1,
        "rows": 4
       }
      },
      "text/plain": [
       "coat\n",
       "short         1972\n",
       "medium         565\n",
       "wirehaired     220\n",
       "long           180\n",
       "Name: count, dtype: int64"
      ]
     },
     "execution_count": 30,
     "metadata": {},
     "output_type": "execute_result"
    }
   ],
   "source": [
    "dogs[\"coat\"] = dogs[\"coat\"].astype(\"category\")\n",
    "dogs[\"coat\"].value_counts(dropna=False)"
   ]
  },
  {
   "cell_type": "code",
   "execution_count": 31,
   "id": "16b31c29",
   "metadata": {},
   "outputs": [
    {
     "data": {
      "text/plain": [
       "CategoricalDtype(categories=['long', 'medium', 'short', 'wirehaired'], ordered=False, categories_dtype=object)"
      ]
     },
     "execution_count": 31,
     "metadata": {},
     "output_type": "execute_result"
    }
   ],
   "source": [
    "dogs[\"coat\"].dtypes"
   ]
  },
  {
   "cell_type": "code",
   "execution_count": 32,
   "id": "18e7179e",
   "metadata": {},
   "outputs": [],
   "source": [
    "dogs[\"coat\"] = dogs[\"coat\"].cat.set_categories(\n",
    "new_categories=[\"short\", \"medium\", \"long\"]\n",
    ")"
   ]
  },
  {
   "cell_type": "code",
   "execution_count": 33,
   "id": "0339acad",
   "metadata": {},
   "outputs": [
    {
     "data": {
      "application/vnd.microsoft.datawrangler.viewer.v0+json": {
       "columns": [
        {
         "name": "coat",
         "rawType": "category",
         "type": "unknown"
        },
        {
         "name": "count",
         "rawType": "int64",
         "type": "integer"
        }
       ],
       "ref": "d8c6e077-81c9-4ae1-abee-5256b425c230",
       "rows": [
        [
         "short",
         "1972"
        ],
        [
         "medium",
         "565"
        ],
        [
         null,
         "220"
        ],
        [
         "long",
         "180"
        ]
       ],
       "shape": {
        "columns": 1,
        "rows": 4
       }
      },
      "text/plain": [
       "coat\n",
       "short     1972\n",
       "medium     565\n",
       "NaN        220\n",
       "long       180\n",
       "Name: count, dtype: int64"
      ]
     },
     "execution_count": 33,
     "metadata": {},
     "output_type": "execute_result"
    }
   ],
   "source": [
    "dogs[\"coat\"].value_counts(dropna=False)"
   ]
  },
  {
   "cell_type": "code",
   "execution_count": 34,
   "id": "d45768c1",
   "metadata": {},
   "outputs": [
    {
     "data": {
      "application/vnd.microsoft.datawrangler.viewer.v0+json": {
       "columns": [
        {
         "name": "index",
         "rawType": "int64",
         "type": "integer"
        },
        {
         "name": "coat",
         "rawType": "category",
         "type": "unknown"
        }
       ],
       "ref": "95b29f2f-9762-4e66-8120-98557d172259",
       "rows": [
        [
         "0",
         "short"
        ],
        [
         "1",
         "short"
        ],
        [
         "2",
         "short"
        ],
        [
         "3",
         "medium"
        ],
        [
         "4",
         "short"
        ],
        [
         "5",
         "short"
        ],
        [
         "6",
         "short"
        ],
        [
         "7",
         "short"
        ],
        [
         "8",
         "medium"
        ],
        [
         "9",
         "short"
        ]
       ],
       "shape": {
        "columns": 1,
        "rows": 10
       }
      },
      "text/plain": [
       "0     short\n",
       "1     short\n",
       "2     short\n",
       "3    medium\n",
       "4     short\n",
       "5     short\n",
       "6     short\n",
       "7     short\n",
       "8    medium\n",
       "9     short\n",
       "Name: coat, dtype: category\n",
       "Categories (3, object): ['short' < 'medium' < 'long']"
      ]
     },
     "execution_count": 34,
     "metadata": {},
     "output_type": "execute_result"
    }
   ],
   "source": [
    "dogs[\"coat\"] = dogs[\"coat\"].cat.set_categories(\n",
    "new_categories=[\"short\", \"medium\", \"long\"],\n",
    "ordered=True\n",
    ")\n",
    "dogs[\"coat\"].head(10)"
   ]
  },
  {
   "cell_type": "code",
   "execution_count": 35,
   "id": "4d01863c",
   "metadata": {},
   "outputs": [
    {
     "data": {
      "application/vnd.microsoft.datawrangler.viewer.v0+json": {
       "columns": [
        {
         "name": "likes_people",
         "rawType": "object",
         "type": "unknown"
        },
        {
         "name": "count",
         "rawType": "int64",
         "type": "integer"
        }
       ],
       "ref": "94738b66-0186-46d8-9dfe-2e8bb648f477",
       "rows": [
        [
         "yes",
         "1991"
        ],
        [
         null,
         "938"
        ],
        [
         "no",
         "8"
        ]
       ],
       "shape": {
        "columns": 1,
        "rows": 3
       }
      },
      "text/plain": [
       "likes_people\n",
       "yes    1991\n",
       "NaN     938\n",
       "no        8\n",
       "Name: count, dtype: int64"
      ]
     },
     "execution_count": 35,
     "metadata": {},
     "output_type": "execute_result"
    }
   ],
   "source": [
    "dogs['likes_people'].value_counts(dropna=False)"
   ]
  },
  {
   "cell_type": "code",
   "execution_count": 36,
   "id": "f6a79da4",
   "metadata": {},
   "outputs": [],
   "source": [
    "dogs['likes_people'] = dogs['likes_people'].astype(\"category\")"
   ]
  },
  {
   "cell_type": "code",
   "execution_count": 37,
   "id": "7f33a37a",
   "metadata": {},
   "outputs": [
    {
     "data": {
      "text/plain": [
       "CategoricalDtype(categories=['no', 'yes'], ordered=False, categories_dtype=object)"
      ]
     },
     "execution_count": 37,
     "metadata": {},
     "output_type": "execute_result"
    }
   ],
   "source": [
    "dogs['likes_people'].dtypes"
   ]
  },
  {
   "cell_type": "code",
   "execution_count": 38,
   "id": "7fa819ea",
   "metadata": {},
   "outputs": [],
   "source": [
    "dogs['likes_people'] = dogs['likes_people'].cat.add_categories(\n",
    "   new_categories = [\"Present\", \"Non_Present\"])"
   ]
  },
  {
   "cell_type": "code",
   "execution_count": 39,
   "id": "38e13ce9",
   "metadata": {},
   "outputs": [
    {
     "data": {
      "text/plain": [
       "Index(['no', 'yes', 'Present', 'Non_Present'], dtype='object')"
      ]
     },
     "execution_count": 39,
     "metadata": {},
     "output_type": "execute_result"
    }
   ],
   "source": [
    "dogs['likes_people'].cat.categories"
   ]
  },
  {
   "cell_type": "code",
   "execution_count": 40,
   "id": "0d4484fe",
   "metadata": {},
   "outputs": [
    {
     "data": {
      "application/vnd.microsoft.datawrangler.viewer.v0+json": {
       "columns": [
        {
         "name": "likes_people",
         "rawType": "category",
         "type": "unknown"
        },
        {
         "name": "count",
         "rawType": "int64",
         "type": "integer"
        }
       ],
       "ref": "3feaea65-6f76-4025-9bf6-dfcf12ba67ba",
       "rows": [
        [
         "yes",
         "1991"
        ],
        [
         "no",
         "8"
        ],
        [
         "Present",
         "0"
        ],
        [
         "Non_Present",
         "0"
        ]
       ],
       "shape": {
        "columns": 1,
        "rows": 4
       }
      },
      "text/plain": [
       "likes_people\n",
       "yes            1991\n",
       "no                8\n",
       "Present           0\n",
       "Non_Present       0\n",
       "Name: count, dtype: int64"
      ]
     },
     "execution_count": 40,
     "metadata": {},
     "output_type": "execute_result"
    }
   ],
   "source": [
    "dogs['likes_people'].value_counts()"
   ]
  },
  {
   "cell_type": "code",
   "execution_count": 41,
   "id": "3be6eeac",
   "metadata": {},
   "outputs": [
    {
     "data": {
      "text/plain": [
       "False"
      ]
     },
     "execution_count": 41,
     "metadata": {},
     "output_type": "execute_result"
    }
   ],
   "source": [
    "dogs['likes_people'].cat.ordered"
   ]
  },
  {
   "cell_type": "code",
   "execution_count": 42,
   "id": "b9b4a049",
   "metadata": {},
   "outputs": [],
   "source": [
    "import pandas as pd\n",
    "\n",
    "data = {\n",
    "    'product': ['Laptop', 'Tablet', 'Phone', 'Tablet', 'Laptop', 'Monitor', 'Phone', 'Laptop'],\n",
    "    'rating': ['High', 'Medium', 'Low', 'High', 'Low', 'Medium', 'Medium', 'High']\n",
    "}\n",
    "\n",
    "df = pd.DataFrame(data)\n",
    "\n",
    "# Convert 'rating' column to ordered categorical\n",
    "df['rating'] = pd.Categorical(df['rating'], categories=['Low', 'Medium', 'High'], ordered=True)\n",
    "\n"
   ]
  },
  {
   "cell_type": "code",
   "execution_count": 43,
   "id": "9708f7ab",
   "metadata": {},
   "outputs": [
    {
     "data": {
      "application/vnd.microsoft.datawrangler.viewer.v0+json": {
       "columns": [
        {
         "name": "index",
         "rawType": "int64",
         "type": "integer"
        },
        {
         "name": "product",
         "rawType": "object",
         "type": "string"
        },
        {
         "name": "rating",
         "rawType": "category",
         "type": "unknown"
        }
       ],
       "ref": "36c5b28d-9ffc-4185-a2cf-9d0bcc753353",
       "rows": [
        [
         "0",
         "Laptop",
         "High"
        ],
        [
         "1",
         "Tablet",
         "Medium"
        ],
        [
         "2",
         "Phone",
         "Low"
        ],
        [
         "3",
         "Tablet",
         "High"
        ],
        [
         "4",
         "Laptop",
         "Low"
        ],
        [
         "5",
         "Monitor",
         "Medium"
        ],
        [
         "6",
         "Phone",
         "Medium"
        ],
        [
         "7",
         "Laptop",
         "High"
        ]
       ],
       "shape": {
        "columns": 2,
        "rows": 8
       }
      },
      "text/html": [
       "<div>\n",
       "<style scoped>\n",
       "    .dataframe tbody tr th:only-of-type {\n",
       "        vertical-align: middle;\n",
       "    }\n",
       "\n",
       "    .dataframe tbody tr th {\n",
       "        vertical-align: top;\n",
       "    }\n",
       "\n",
       "    .dataframe thead th {\n",
       "        text-align: right;\n",
       "    }\n",
       "</style>\n",
       "<table border=\"1\" class=\"dataframe\">\n",
       "  <thead>\n",
       "    <tr style=\"text-align: right;\">\n",
       "      <th></th>\n",
       "      <th>product</th>\n",
       "      <th>rating</th>\n",
       "    </tr>\n",
       "  </thead>\n",
       "  <tbody>\n",
       "    <tr>\n",
       "      <th>0</th>\n",
       "      <td>Laptop</td>\n",
       "      <td>High</td>\n",
       "    </tr>\n",
       "    <tr>\n",
       "      <th>1</th>\n",
       "      <td>Tablet</td>\n",
       "      <td>Medium</td>\n",
       "    </tr>\n",
       "    <tr>\n",
       "      <th>2</th>\n",
       "      <td>Phone</td>\n",
       "      <td>Low</td>\n",
       "    </tr>\n",
       "    <tr>\n",
       "      <th>3</th>\n",
       "      <td>Tablet</td>\n",
       "      <td>High</td>\n",
       "    </tr>\n",
       "    <tr>\n",
       "      <th>4</th>\n",
       "      <td>Laptop</td>\n",
       "      <td>Low</td>\n",
       "    </tr>\n",
       "    <tr>\n",
       "      <th>5</th>\n",
       "      <td>Monitor</td>\n",
       "      <td>Medium</td>\n",
       "    </tr>\n",
       "    <tr>\n",
       "      <th>6</th>\n",
       "      <td>Phone</td>\n",
       "      <td>Medium</td>\n",
       "    </tr>\n",
       "    <tr>\n",
       "      <th>7</th>\n",
       "      <td>Laptop</td>\n",
       "      <td>High</td>\n",
       "    </tr>\n",
       "  </tbody>\n",
       "</table>\n",
       "</div>"
      ],
      "text/plain": [
       "   product  rating\n",
       "0   Laptop    High\n",
       "1   Tablet  Medium\n",
       "2    Phone     Low\n",
       "3   Tablet    High\n",
       "4   Laptop     Low\n",
       "5  Monitor  Medium\n",
       "6    Phone  Medium\n",
       "7   Laptop    High"
      ]
     },
     "execution_count": 43,
     "metadata": {},
     "output_type": "execute_result"
    }
   ],
   "source": [
    "df"
   ]
  },
  {
   "cell_type": "code",
   "execution_count": 44,
   "id": "8a1b25f7",
   "metadata": {},
   "outputs": [
    {
     "data": {
      "application/vnd.microsoft.datawrangler.viewer.v0+json": {
       "columns": [
        {
         "name": "index",
         "rawType": "int64",
         "type": "integer"
        },
        {
         "name": "ID",
         "rawType": "int64",
         "type": "integer"
        },
        {
         "name": "name",
         "rawType": "object",
         "type": "unknown"
        },
        {
         "name": "age",
         "rawType": "float64",
         "type": "float"
        },
        {
         "name": "sex",
         "rawType": "object",
         "type": "string"
        },
        {
         "name": "breed",
         "rawType": "object",
         "type": "string"
        },
        {
         "name": "date_found",
         "rawType": "object",
         "type": "string"
        },
        {
         "name": "adoptable_from",
         "rawType": "object",
         "type": "string"
        },
        {
         "name": "posted",
         "rawType": "object",
         "type": "string"
        },
        {
         "name": "color",
         "rawType": "object",
         "type": "string"
        },
        {
         "name": "coat",
         "rawType": "category",
         "type": "unknown"
        },
        {
         "name": "size",
         "rawType": "object",
         "type": "string"
        },
        {
         "name": "neutered",
         "rawType": "object",
         "type": "unknown"
        },
        {
         "name": "housebroken",
         "rawType": "object",
         "type": "unknown"
        },
        {
         "name": "likes_people",
         "rawType": "category",
         "type": "unknown"
        },
        {
         "name": "likes_children",
         "rawType": "object",
         "type": "unknown"
        },
        {
         "name": "get_along_males",
         "rawType": "object",
         "type": "unknown"
        },
        {
         "name": "get_along_females",
         "rawType": "object",
         "type": "unknown"
        },
        {
         "name": "get_along_cats",
         "rawType": "object",
         "type": "unknown"
        },
        {
         "name": "keep_in",
         "rawType": "object",
         "type": "unknown"
        }
       ],
       "ref": "7ae50404-c1ee-42bd-9c85-bdbb9652c435",
       "rows": [
        [
         "0",
         "23807",
         "Gida",
         "0.25",
         "female",
         "Unknown Mix",
         "12/10/19",
         "12/11/19",
         "12/11/19",
         "red",
         "short",
         "small",
         "no",
         null,
         null,
         null,
         null,
         null,
         null,
         null
        ],
        [
         "1",
         "533",
         "Frida És Ricsi",
         "0.17",
         "female",
         "Unknown Mix",
         "12/1/19",
         "12/1/19",
         "12/9/19",
         "black and white",
         "short",
         "small",
         "no",
         null,
         "yes",
         "yes",
         "yes",
         "yes",
         "yes",
         null
        ],
        [
         "2",
         "23793",
         null,
         "4.0",
         "male",
         "Unknown Mix",
         "12/8/19",
         "12/23/19",
         "12/8/19",
         "saddle back",
         "short",
         "medium",
         "no",
         null,
         null,
         null,
         null,
         null,
         null,
         null
        ],
        [
         "3",
         "23795",
         null,
         "1.0",
         "male",
         "Unknown Mix",
         "12/8/19",
         "12/23/19",
         "12/8/19",
         "yellow-brown",
         "medium",
         "medium",
         "no",
         null,
         null,
         null,
         null,
         null,
         null,
         null
        ],
        [
         "4",
         "23806",
         "Amy",
         "2.0",
         "female",
         "French Bulldog Mix",
         "12/10/19",
         "12/11/19",
         "12/11/19",
         "black",
         "short",
         "small",
         "no",
         null,
         null,
         null,
         null,
         null,
         null,
         null
        ],
        [
         "5",
         "23801",
         "Alex",
         "4.25",
         "male",
         "Unknown Mix",
         "12/9/19",
         "12/24/19",
         "12/9/19",
         "yellow-brown",
         "short",
         "small",
         "yes",
         null,
         null,
         null,
         null,
         null,
         null,
         null
        ],
        [
         "6",
         "534",
         "Ricsi És Frida",
         "0.17",
         "male",
         "Unknown Mix",
         "12/1/19",
         "12/1/19",
         "12/9/19",
         "brown",
         "short",
         "small",
         "no",
         null,
         "yes",
         "yes",
         "yes",
         "yes",
         "yes",
         null
        ],
        [
         "7",
         "23805",
         null,
         "0.17",
         "female",
         "Unknown Mix",
         "12/10/19",
         "12/25/19",
         "12/11/19",
         "gray and white",
         "short",
         "medium",
         "no",
         null,
         null,
         null,
         null,
         null,
         null,
         null
        ],
        [
         "8",
         "23809",
         null,
         "0.17",
         "female",
         "Unknown Mix",
         "12/11/19",
         "12/26/19",
         "12/12/19",
         "black",
         "medium",
         "medium",
         "no",
         null,
         null,
         null,
         null,
         null,
         null,
         null
        ],
        [
         "9",
         "1801",
         "Újhartyáni Mazsi",
         "0.17",
         "female",
         "Unknown Mix",
         "12/10/19",
         "12/10/19",
         "12/11/19",
         "brown and white",
         "short",
         "small",
         "no",
         null,
         "yes",
         "yes",
         "yes",
         "yes",
         "yes",
         "flat"
        ],
        [
         "10",
         "1222",
         "Vasi",
         "3.67",
         "male",
         "Vizsla Mix",
         "10/25/19",
         "10/25/19",
         "12/12/19",
         "red",
         "short",
         "medium",
         "yes",
         null,
         null,
         null,
         null,
         null,
         null,
         null
        ],
        [
         "11",
         "23792",
         null,
         "1.0",
         "male",
         "Unknown Mix",
         "12/8/19",
         "12/23/19",
         "12/8/19",
         "saddle back",
         "medium",
         "medium",
         "no",
         null,
         null,
         null,
         null,
         null,
         null,
         null
        ],
        [
         "12",
         "23797",
         null,
         "5.0",
         "female",
         "Unknown Mix",
         "12/8/19",
         "12/23/19",
         "12/8/19",
         "brown",
         "long",
         "small",
         "no",
         null,
         null,
         null,
         null,
         null,
         null,
         null
        ],
        [
         "13",
         "1800",
         "Újhartyáni Frenki",
         "0.17",
         "male",
         "Unknown Mix",
         "12/10/19",
         "12/10/19",
         "12/11/19",
         "tricolor",
         "short",
         "small",
         "no",
         null,
         "yes",
         "yes",
         "yes",
         "yes",
         "yes",
         "flat"
        ],
        [
         "14",
         "532",
         "Fickó",
         "1.5",
         "male",
         "Bull Terrier, Dachshund Mix",
         "12/1/19",
         "12/1/19",
         "12/9/19",
         "brown and white",
         "short",
         "medium",
         "yes",
         null,
         "yes",
         "yes",
         "no",
         "no",
         "no",
         null
        ],
        [
         "15",
         "23796",
         null,
         "8.0",
         "male",
         "Unknown Mix",
         "12/8/19",
         "12/23/19",
         "12/8/19",
         "black",
         "medium",
         "medium",
         "no",
         null,
         null,
         null,
         null,
         null,
         null,
         null
        ],
        [
         "16",
         "1802",
         "Újhartyáni Bori",
         "0.17",
         "female",
         "Unknown Mix",
         "12/10/19",
         "12/10/19",
         "12/11/19",
         "tricolor",
         "short",
         "small",
         "no",
         null,
         "yes",
         "yes",
         "yes",
         "yes",
         "yes",
         "flat"
        ],
        [
         "17",
         "1799",
         "Dabasi Ixorn",
         "0.83",
         "male",
         "Unknown Mix",
         "12/5/19",
         "12/5/19",
         "12/9/19",
         "black",
         null,
         "small",
         "yes",
         null,
         "yes",
         "yes",
         "yes",
         "yes",
         null,
         "both flat and garden"
        ],
        [
         "18",
         "23794",
         null,
         "1.0",
         "male",
         "Unknown Mix",
         "12/8/19",
         "12/23/19",
         "12/8/19",
         "yellow-brown",
         "medium",
         "medium",
         "no",
         null,
         null,
         null,
         null,
         null,
         null,
         null
        ],
        [
         "19",
         "1393",
         "Gizmo",
         "0.5",
         "male",
         "Unknown Mix",
         "12/8/19",
         "12/10/19",
         "12/10/19",
         "spotty",
         "medium",
         "small",
         "yes",
         null,
         null,
         null,
         null,
         null,
         null,
         null
        ],
        [
         "20",
         "23788",
         "Sába",
         "7.58",
         "female",
         "Kuvasz",
         "12/1/19",
         "12/16/19",
         "12/8/19",
         "white",
         "medium",
         "large",
         "yes",
         null,
         null,
         null,
         null,
         null,
         null,
         null
        ],
        [
         "21",
         "4492",
         "Döme",
         "1.0",
         "male",
         "Unknown Mix",
         "11/25/19",
         "11/25/19",
         "12/7/19",
         "black",
         "medium",
         "medium",
         null,
         null,
         "yes",
         null,
         null,
         null,
         "yes",
         "both flat and garden"
        ],
        [
         "22",
         "4484",
         "Jocelyn",
         "0.17",
         "female",
         "Unknown Mix",
         "11/27/19",
         "11/27/19",
         "12/7/19",
         "apricot",
         "short",
         "small",
         null,
         null,
         "yes",
         null,
         "yes",
         "yes",
         null,
         "both flat and garden"
        ],
        [
         "23",
         "23787",
         null,
         "0.67",
         "female",
         "Unknown Mix",
         "12/7/19",
         "12/22/19",
         "12/7/19",
         "yellow-brown",
         null,
         "medium",
         "no",
         null,
         null,
         null,
         null,
         null,
         null,
         null
        ],
        [
         "24",
         "4487",
         "Katica",
         "0.58",
         "female",
         "Unknown Mix",
         "12/3/19",
         "12/3/19",
         "12/7/19",
         "black",
         "short",
         "small",
         null,
         null,
         "yes",
         null,
         null,
         null,
         null,
         "both flat and garden"
        ],
        [
         "25",
         "4491",
         "Bethany",
         "5.0",
         "female",
         "Chinese Shar-Pei Mix",
         "11/28/19",
         "11/28/19",
         "12/7/19",
         "black and brown",
         "short",
         "medium",
         null,
         null,
         "yes",
         null,
         null,
         null,
         null,
         "both flat and garden"
        ],
        [
         "26",
         "4486",
         "Cotta",
         "0.15",
         "female",
         "Staffordshire Terrier Mix",
         "12/1/19",
         "12/1/19",
         "12/7/19",
         "brown and white",
         "short",
         "medium",
         null,
         null,
         "yes",
         null,
         "yes",
         "yes",
         null,
         "both flat and garden"
        ],
        [
         "27",
         "4488",
         "Kehlani",
         "0.42",
         "female",
         "German Shepherd Dog Mix",
         "12/1/19",
         "12/1/19",
         "12/7/19",
         "black and brown",
         "short",
         "medium",
         null,
         null,
         "yes",
         null,
         null,
         null,
         null,
         "both flat and garden"
        ],
        [
         "28",
         "23790",
         null,
         "6.0",
         "male",
         "Unknown Mix",
         "12/8/19",
         "12/23/19",
         "12/8/19",
         "saddle back",
         "medium",
         "medium",
         "no",
         null,
         null,
         null,
         null,
         null,
         null,
         null
        ],
        [
         "29",
         "1798",
         "Kakucsi Szikra",
         "2.42",
         "male",
         "Hungarian Vizsla",
         "12/7/19",
         "12/7/19",
         "12/7/19",
         "brown",
         "short",
         "medium",
         "no",
         null,
         "yes",
         "yes",
         "yes",
         "yes",
         "yes",
         "both flat and garden"
        ],
        [
         "30",
         "4489",
         "Crosby",
         "1.0",
         "male",
         "Komondor, Puli Mix",
         "11/27/19",
         "11/27/19",
         "12/7/19",
         "golden",
         "medium",
         "medium",
         null,
         null,
         "yes",
         null,
         null,
         null,
         null,
         "both flat and garden"
        ],
        [
         "31",
         "23784",
         null,
         "0.58",
         "male",
         "Bull Terrier, Staffordshire Terrier Mix",
         "12/6/19",
         "12/21/19",
         "12/7/19",
         "striped",
         "short",
         "medium",
         "no",
         null,
         null,
         null,
         null,
         null,
         null,
         null
        ],
        [
         "32",
         "23789",
         null,
         "0.33",
         "male",
         "Unknown Mix",
         "12/8/19",
         "12/23/19",
         "12/8/19",
         "black",
         "short",
         "small",
         "no",
         null,
         null,
         null,
         null,
         null,
         null,
         null
        ],
        [
         "33",
         "4490",
         "Bowen",
         "1.0",
         "male",
         "Unknown Mix",
         "11/22/19",
         "11/22/19",
         "12/7/19",
         "brown",
         "medium",
         "large",
         null,
         null,
         "yes",
         null,
         null,
         null,
         null,
         "both flat and garden"
        ],
        [
         "34",
         "4485",
         "Panna",
         "0.15",
         "female",
         "Staffordshire Terrier Mix",
         "12/1/19",
         "12/1/19",
         "12/7/19",
         "striped",
         "short",
         "medium",
         null,
         null,
         "yes",
         null,
         "yes",
         "yes",
         null,
         "both flat and garden"
        ],
        [
         "35",
         "1795",
         "Szolnoki Joker",
         "1.0",
         "male",
         "Fox Terrier Mix",
         "12/7/19",
         "12/7/19",
         "12/7/19",
         "black and white",
         null,
         "small",
         "yes",
         null,
         "yes",
         "yes",
         "yes",
         "yes",
         null,
         "both flat and garden"
        ],
        [
         "36",
         "1797",
         "Sátoraljaújhelyi Dingó",
         "2.0",
         "male",
         "Unknown Mix",
         "12/5/19",
         "12/5/19",
         "12/7/19",
         "yellow",
         "short",
         "medium",
         "no",
         null,
         "yes",
         "yes",
         "yes",
         "yes",
         null,
         "both flat and garden"
        ],
        [
         "37",
         "4483",
         "Valentin",
         "0.67",
         "male",
         "Unknown Mix",
         "12/3/19",
         "12/3/19",
         "12/7/19",
         "apricot",
         "short",
         "small",
         null,
         null,
         "yes",
         null,
         null,
         null,
         null,
         "both flat and garden"
        ],
        [
         "38",
         "1796",
         "Szolnoki Chris",
         "1.0",
         "male",
         "Fox Terrier Mix",
         "12/7/19",
         "12/7/19",
         "12/7/19",
         "brown and white",
         null,
         "small",
         "yes",
         null,
         "yes",
         "yes",
         "yes",
         "yes",
         null,
         "both flat and garden"
        ],
        [
         "39",
         "23791",
         null,
         "4.0",
         "male",
         "Unknown Mix",
         "12/8/19",
         "12/23/19",
         "12/8/19",
         "yellow-brown",
         "medium",
         "medium",
         "no",
         null,
         null,
         null,
         null,
         null,
         null,
         null
        ],
        [
         "40",
         "23778",
         "Pufi",
         "8.0",
         "male",
         "Unknown Mix",
         "12/2/19",
         "12/17/19",
         "12/2/19",
         "wild boar",
         "short",
         "small",
         "no",
         null,
         null,
         null,
         null,
         null,
         null,
         null
        ],
        [
         "41",
         "1048",
         "Velencei Fiffi",
         "9.25",
         "female",
         "Afghan Hound",
         "12/1/19",
         "12/4/19",
         "12/3/19",
         "brown",
         "long",
         "medium",
         "yes",
         "yes",
         "yes",
         null,
         null,
         null,
         null,
         "flat"
        ],
        [
         "42",
         "2138",
         "Szálkás Kan Kölyök",
         "0.5",
         "male",
         "Unknown Mix",
         "11/4/19",
         "11/4/19",
         "11/29/19",
         "brown",
         null,
         "medium",
         "yes",
         null,
         null,
         null,
         null,
         null,
         null,
         null
        ],
        [
         "43",
         "1793",
         "Szakáldi Báró",
         "1.42",
         "male",
         "Unknown Mix",
         "12/3/19",
         "12/3/19",
         "12/5/19",
         "brown and white",
         "short",
         "medium",
         "no",
         null,
         "yes",
         "yes",
         "no",
         "yes",
         null,
         "both flat and garden"
        ],
        [
         "44",
         "23777",
         null,
         "0.25",
         "male",
         "Unknown Mix",
         "12/2/19",
         "12/17/19",
         "12/2/19",
         "black and tan",
         null,
         "small",
         "no",
         null,
         null,
         null,
         null,
         null,
         null,
         null
        ],
        [
         "45",
         "2137",
         "Hónapos Keverék Kan",
         "0.5",
         "male",
         "Unknown Mix",
         "11/4/19",
         "11/4/19",
         "11/29/19",
         "tricolor",
         "medium",
         "medium",
         "yes",
         null,
         null,
         null,
         null,
         null,
         null,
         null
        ],
        [
         "46",
         "2154",
         "Kormi",
         "6.5",
         "male",
         "Unknown Mix",
         "10/7/19",
         "10/7/19",
         "12/5/19",
         "black",
         "short",
         "medium",
         "yes",
         null,
         null,
         null,
         null,
         null,
         null,
         null
        ],
        [
         "47",
         "23780",
         null,
         "0.25",
         "female",
         "Unknown Mix",
         "12/4/19",
         "12/19/19",
         "12/4/19",
         "saddle back",
         "medium",
         "medium",
         "no",
         null,
         null,
         null,
         null,
         null,
         null,
         null
        ],
        [
         "48",
         "1049",
         "Velencei Shyne On",
         "8.42",
         "female",
         "American Bulldog",
         "12/1/19",
         "12/4/19",
         "12/3/19",
         "striped",
         "short",
         "medium",
         "yes",
         "yes",
         "yes",
         null,
         null,
         null,
         null,
         "both flat and garden"
        ],
        [
         "49",
         "2153",
         "Lili",
         "3.5",
         "female",
         "Unknown Mix",
         "10/7/19",
         "10/7/19",
         "12/5/19",
         "brown",
         "short",
         "medium",
         "yes",
         null,
         null,
         null,
         null,
         null,
         null,
         null
        ]
       ],
       "shape": {
        "columns": 19,
        "rows": 2937
       }
      },
      "text/html": [
       "<div>\n",
       "<style scoped>\n",
       "    .dataframe tbody tr th:only-of-type {\n",
       "        vertical-align: middle;\n",
       "    }\n",
       "\n",
       "    .dataframe tbody tr th {\n",
       "        vertical-align: top;\n",
       "    }\n",
       "\n",
       "    .dataframe thead th {\n",
       "        text-align: right;\n",
       "    }\n",
       "</style>\n",
       "<table border=\"1\" class=\"dataframe\">\n",
       "  <thead>\n",
       "    <tr style=\"text-align: right;\">\n",
       "      <th></th>\n",
       "      <th>ID</th>\n",
       "      <th>name</th>\n",
       "      <th>age</th>\n",
       "      <th>sex</th>\n",
       "      <th>breed</th>\n",
       "      <th>date_found</th>\n",
       "      <th>adoptable_from</th>\n",
       "      <th>posted</th>\n",
       "      <th>color</th>\n",
       "      <th>coat</th>\n",
       "      <th>size</th>\n",
       "      <th>neutered</th>\n",
       "      <th>housebroken</th>\n",
       "      <th>likes_people</th>\n",
       "      <th>likes_children</th>\n",
       "      <th>get_along_males</th>\n",
       "      <th>get_along_females</th>\n",
       "      <th>get_along_cats</th>\n",
       "      <th>keep_in</th>\n",
       "    </tr>\n",
       "  </thead>\n",
       "  <tbody>\n",
       "    <tr>\n",
       "      <th>0</th>\n",
       "      <td>23807</td>\n",
       "      <td>Gida</td>\n",
       "      <td>0.25</td>\n",
       "      <td>female</td>\n",
       "      <td>Unknown Mix</td>\n",
       "      <td>12/10/19</td>\n",
       "      <td>12/11/19</td>\n",
       "      <td>12/11/19</td>\n",
       "      <td>red</td>\n",
       "      <td>short</td>\n",
       "      <td>small</td>\n",
       "      <td>no</td>\n",
       "      <td>NaN</td>\n",
       "      <td>NaN</td>\n",
       "      <td>NaN</td>\n",
       "      <td>NaN</td>\n",
       "      <td>NaN</td>\n",
       "      <td>NaN</td>\n",
       "      <td>NaN</td>\n",
       "    </tr>\n",
       "    <tr>\n",
       "      <th>1</th>\n",
       "      <td>533</td>\n",
       "      <td>Frida És Ricsi</td>\n",
       "      <td>0.17</td>\n",
       "      <td>female</td>\n",
       "      <td>Unknown Mix</td>\n",
       "      <td>12/1/19</td>\n",
       "      <td>12/1/19</td>\n",
       "      <td>12/9/19</td>\n",
       "      <td>black and white</td>\n",
       "      <td>short</td>\n",
       "      <td>small</td>\n",
       "      <td>no</td>\n",
       "      <td>NaN</td>\n",
       "      <td>yes</td>\n",
       "      <td>yes</td>\n",
       "      <td>yes</td>\n",
       "      <td>yes</td>\n",
       "      <td>yes</td>\n",
       "      <td>NaN</td>\n",
       "    </tr>\n",
       "    <tr>\n",
       "      <th>2</th>\n",
       "      <td>23793</td>\n",
       "      <td>NaN</td>\n",
       "      <td>4.00</td>\n",
       "      <td>male</td>\n",
       "      <td>Unknown Mix</td>\n",
       "      <td>12/8/19</td>\n",
       "      <td>12/23/19</td>\n",
       "      <td>12/8/19</td>\n",
       "      <td>saddle back</td>\n",
       "      <td>short</td>\n",
       "      <td>medium</td>\n",
       "      <td>no</td>\n",
       "      <td>NaN</td>\n",
       "      <td>NaN</td>\n",
       "      <td>NaN</td>\n",
       "      <td>NaN</td>\n",
       "      <td>NaN</td>\n",
       "      <td>NaN</td>\n",
       "      <td>NaN</td>\n",
       "    </tr>\n",
       "    <tr>\n",
       "      <th>3</th>\n",
       "      <td>23795</td>\n",
       "      <td>NaN</td>\n",
       "      <td>1.00</td>\n",
       "      <td>male</td>\n",
       "      <td>Unknown Mix</td>\n",
       "      <td>12/8/19</td>\n",
       "      <td>12/23/19</td>\n",
       "      <td>12/8/19</td>\n",
       "      <td>yellow-brown</td>\n",
       "      <td>medium</td>\n",
       "      <td>medium</td>\n",
       "      <td>no</td>\n",
       "      <td>NaN</td>\n",
       "      <td>NaN</td>\n",
       "      <td>NaN</td>\n",
       "      <td>NaN</td>\n",
       "      <td>NaN</td>\n",
       "      <td>NaN</td>\n",
       "      <td>NaN</td>\n",
       "    </tr>\n",
       "    <tr>\n",
       "      <th>4</th>\n",
       "      <td>23806</td>\n",
       "      <td>Amy</td>\n",
       "      <td>2.00</td>\n",
       "      <td>female</td>\n",
       "      <td>French Bulldog Mix</td>\n",
       "      <td>12/10/19</td>\n",
       "      <td>12/11/19</td>\n",
       "      <td>12/11/19</td>\n",
       "      <td>black</td>\n",
       "      <td>short</td>\n",
       "      <td>small</td>\n",
       "      <td>no</td>\n",
       "      <td>NaN</td>\n",
       "      <td>NaN</td>\n",
       "      <td>NaN</td>\n",
       "      <td>NaN</td>\n",
       "      <td>NaN</td>\n",
       "      <td>NaN</td>\n",
       "      <td>NaN</td>\n",
       "    </tr>\n",
       "    <tr>\n",
       "      <th>...</th>\n",
       "      <td>...</td>\n",
       "      <td>...</td>\n",
       "      <td>...</td>\n",
       "      <td>...</td>\n",
       "      <td>...</td>\n",
       "      <td>...</td>\n",
       "      <td>...</td>\n",
       "      <td>...</td>\n",
       "      <td>...</td>\n",
       "      <td>...</td>\n",
       "      <td>...</td>\n",
       "      <td>...</td>\n",
       "      <td>...</td>\n",
       "      <td>...</td>\n",
       "      <td>...</td>\n",
       "      <td>...</td>\n",
       "      <td>...</td>\n",
       "      <td>...</td>\n",
       "      <td>...</td>\n",
       "    </tr>\n",
       "    <tr>\n",
       "      <th>2932</th>\n",
       "      <td>118</td>\n",
       "      <td>Fodri</td>\n",
       "      <td>16.92</td>\n",
       "      <td>male</td>\n",
       "      <td>Unknown Mix</td>\n",
       "      <td>12/25/03</td>\n",
       "      <td>12/25/03</td>\n",
       "      <td>3/22/06</td>\n",
       "      <td>yellow-brown</td>\n",
       "      <td>short</td>\n",
       "      <td>medium</td>\n",
       "      <td>no</td>\n",
       "      <td>no</td>\n",
       "      <td>yes</td>\n",
       "      <td>yes</td>\n",
       "      <td>no</td>\n",
       "      <td>yes</td>\n",
       "      <td>no</td>\n",
       "      <td>garden</td>\n",
       "    </tr>\n",
       "    <tr>\n",
       "      <th>2933</th>\n",
       "      <td>262</td>\n",
       "      <td>Csibi</td>\n",
       "      <td>17.33</td>\n",
       "      <td>female</td>\n",
       "      <td>Staffordshire Terrier Mix</td>\n",
       "      <td>8/27/04</td>\n",
       "      <td>8/27/04</td>\n",
       "      <td>7/8/05</td>\n",
       "      <td>striped</td>\n",
       "      <td>short</td>\n",
       "      <td>large</td>\n",
       "      <td>yes</td>\n",
       "      <td>NaN</td>\n",
       "      <td>NaN</td>\n",
       "      <td>NaN</td>\n",
       "      <td>NaN</td>\n",
       "      <td>NaN</td>\n",
       "      <td>NaN</td>\n",
       "      <td>NaN</td>\n",
       "    </tr>\n",
       "    <tr>\n",
       "      <th>2934</th>\n",
       "      <td>4</td>\n",
       "      <td>Konrád</td>\n",
       "      <td>18.17</td>\n",
       "      <td>male</td>\n",
       "      <td>Unknown Mix</td>\n",
       "      <td>9/21/05</td>\n",
       "      <td>9/21/05</td>\n",
       "      <td>10/26/05</td>\n",
       "      <td>black</td>\n",
       "      <td>short</td>\n",
       "      <td>medium</td>\n",
       "      <td>no</td>\n",
       "      <td>NaN</td>\n",
       "      <td>NaN</td>\n",
       "      <td>NaN</td>\n",
       "      <td>NaN</td>\n",
       "      <td>NaN</td>\n",
       "      <td>NaN</td>\n",
       "      <td>NaN</td>\n",
       "    </tr>\n",
       "    <tr>\n",
       "      <th>2935</th>\n",
       "      <td>141</td>\n",
       "      <td>Kölni</td>\n",
       "      <td>17.17</td>\n",
       "      <td>male</td>\n",
       "      <td>Unknown Mix</td>\n",
       "      <td>11/27/04</td>\n",
       "      <td>11/27/04</td>\n",
       "      <td>5/2/05</td>\n",
       "      <td>black and brown</td>\n",
       "      <td>medium</td>\n",
       "      <td>medium</td>\n",
       "      <td>no</td>\n",
       "      <td>NaN</td>\n",
       "      <td>NaN</td>\n",
       "      <td>NaN</td>\n",
       "      <td>NaN</td>\n",
       "      <td>NaN</td>\n",
       "      <td>NaN</td>\n",
       "      <td>NaN</td>\n",
       "    </tr>\n",
       "    <tr>\n",
       "      <th>2936</th>\n",
       "      <td>248</td>\n",
       "      <td>Kedves</td>\n",
       "      <td>16.08</td>\n",
       "      <td>male</td>\n",
       "      <td>German Shepherd Dog, Hound Mix</td>\n",
       "      <td>4/2/05</td>\n",
       "      <td>4/2/05</td>\n",
       "      <td>6/30/05</td>\n",
       "      <td>sable</td>\n",
       "      <td>short</td>\n",
       "      <td>medium</td>\n",
       "      <td>yes</td>\n",
       "      <td>NaN</td>\n",
       "      <td>yes</td>\n",
       "      <td>NaN</td>\n",
       "      <td>yes</td>\n",
       "      <td>yes</td>\n",
       "      <td>NaN</td>\n",
       "      <td>both flat and garden</td>\n",
       "    </tr>\n",
       "  </tbody>\n",
       "</table>\n",
       "<p>2937 rows × 19 columns</p>\n",
       "</div>"
      ],
      "text/plain": [
       "         ID            name    age     sex                           breed  \\\n",
       "0     23807            Gida   0.25  female                     Unknown Mix   \n",
       "1       533  Frida És Ricsi   0.17  female                     Unknown Mix   \n",
       "2     23793             NaN   4.00    male                     Unknown Mix   \n",
       "3     23795             NaN   1.00    male                     Unknown Mix   \n",
       "4     23806             Amy   2.00  female              French Bulldog Mix   \n",
       "...     ...             ...    ...     ...                             ...   \n",
       "2932    118           Fodri  16.92    male                     Unknown Mix   \n",
       "2933    262           Csibi  17.33  female       Staffordshire Terrier Mix   \n",
       "2934      4          Konrád  18.17    male                     Unknown Mix   \n",
       "2935    141           Kölni  17.17    male                     Unknown Mix   \n",
       "2936    248          Kedves  16.08    male  German Shepherd Dog, Hound Mix   \n",
       "\n",
       "     date_found adoptable_from    posted            color    coat    size  \\\n",
       "0      12/10/19       12/11/19  12/11/19              red   short   small   \n",
       "1       12/1/19        12/1/19   12/9/19  black and white   short   small   \n",
       "2       12/8/19       12/23/19   12/8/19      saddle back   short  medium   \n",
       "3       12/8/19       12/23/19   12/8/19     yellow-brown  medium  medium   \n",
       "4      12/10/19       12/11/19  12/11/19            black   short   small   \n",
       "...         ...            ...       ...              ...     ...     ...   \n",
       "2932   12/25/03       12/25/03   3/22/06     yellow-brown   short  medium   \n",
       "2933    8/27/04        8/27/04    7/8/05          striped   short   large   \n",
       "2934    9/21/05        9/21/05  10/26/05            black   short  medium   \n",
       "2935   11/27/04       11/27/04    5/2/05  black and brown  medium  medium   \n",
       "2936     4/2/05         4/2/05   6/30/05            sable   short  medium   \n",
       "\n",
       "     neutered housebroken likes_people likes_children get_along_males  \\\n",
       "0          no         NaN          NaN            NaN             NaN   \n",
       "1          no         NaN          yes            yes             yes   \n",
       "2          no         NaN          NaN            NaN             NaN   \n",
       "3          no         NaN          NaN            NaN             NaN   \n",
       "4          no         NaN          NaN            NaN             NaN   \n",
       "...       ...         ...          ...            ...             ...   \n",
       "2932       no          no          yes            yes              no   \n",
       "2933      yes         NaN          NaN            NaN             NaN   \n",
       "2934       no         NaN          NaN            NaN             NaN   \n",
       "2935       no         NaN          NaN            NaN             NaN   \n",
       "2936      yes         NaN          yes            NaN             yes   \n",
       "\n",
       "     get_along_females get_along_cats               keep_in  \n",
       "0                  NaN            NaN                   NaN  \n",
       "1                  yes            yes                   NaN  \n",
       "2                  NaN            NaN                   NaN  \n",
       "3                  NaN            NaN                   NaN  \n",
       "4                  NaN            NaN                   NaN  \n",
       "...                ...            ...                   ...  \n",
       "2932               yes             no                garden  \n",
       "2933               NaN            NaN                   NaN  \n",
       "2934               NaN            NaN                   NaN  \n",
       "2935               NaN            NaN                   NaN  \n",
       "2936               yes            NaN  both flat and garden  \n",
       "\n",
       "[2937 rows x 19 columns]"
      ]
     },
     "execution_count": 44,
     "metadata": {},
     "output_type": "execute_result"
    }
   ],
   "source": [
    "dogs"
   ]
  },
  {
   "cell_type": "code",
   "execution_count": 45,
   "id": "ba173986",
   "metadata": {},
   "outputs": [
    {
     "name": "stdout",
     "output_type": "stream",
     "text": [
      "keep_in\n",
      "both flat and garden    0.416752\n",
      "NaN                     0.347634\n",
      "garden                  0.173647\n",
      "flat                    0.061968\n",
      "Name: proportion, dtype: float64\n"
     ]
    }
   ],
   "source": [
    "# Check frequency counts while also printing the NaN count\n",
    "from encodings.punycode import T\n",
    "\n",
    "\n",
    "print(dogs[\"keep_in\"].value_counts(dropna=False, normalize=True))"
   ]
  },
  {
   "cell_type": "markdown",
   "id": "ade2b6cf",
   "metadata": {},
   "source": [
    "## Renaming Categories "
   ]
  },
  {
   "cell_type": "code",
   "execution_count": 46,
   "id": "4e7a1bbe",
   "metadata": {},
   "outputs": [
    {
     "data": {
      "application/vnd.microsoft.datawrangler.viewer.v0+json": {
       "columns": [
        {
         "name": "breed",
         "rawType": "category",
         "type": "unknown"
        },
        {
         "name": "count",
         "rawType": "int64",
         "type": "integer"
        }
       ],
       "ref": "63bd6e2b-a524-4246-837f-75b5bae7eb90",
       "rows": [
        [
         "Unknown Mix",
         "1524"
        ],
        [
         "German Shepherd Dog Mix",
         "190"
        ],
        [
         "Dachshund Mix",
         "147"
        ],
        [
         "Labrador Retriever Mix",
         "83"
        ],
        [
         "Staffordshire Terrier Mix",
         "62"
        ],
        [
         "Puli Mix",
         "40"
        ],
        [
         "German Shepherd Dog",
         "37"
        ],
        [
         "Schnauzer Mix",
         "34"
        ],
        [
         "Greyhound Mix",
         "32"
        ],
        [
         "Fox Terrier Mix",
         "32"
        ],
        [
         "Terrier Mix",
         "29"
        ],
        [
         "Rottweiler Mix",
         "26"
        ],
        [
         "Vizsla Mix",
         "24"
        ],
        [
         "Hound Mix",
         "22"
        ],
        [
         "Labrador Retriever",
         "17"
        ],
        [
         "Puli",
         "17"
        ],
        [
         "German Pointer Mix",
         "13"
        ],
        [
         "English Cocker Spaniel",
         "13"
        ],
        [
         "Mudi Mix",
         "13"
        ],
        [
         "Staffordshire Terrier",
         "13"
        ],
        [
         "Chinese Shar-Pei Mix",
         "13"
        ],
        [
         "Siberian Husky Mix",
         "12"
        ],
        [
         "English Cocker Spaniel Mix",
         "11"
        ],
        [
         "Spaniel Mix",
         "11"
        ],
        [
         "Pumi Mix",
         "10"
        ],
        [
         "Bull Terrier Mix",
         "9"
        ],
        [
         "Jagd Terrier Mix",
         "9"
        ],
        [
         "Caucasian Ovtcharka Mix",
         "9"
        ],
        [
         "German Shepherd Dog, Labrador Retriever Mix",
         "9"
        ],
        [
         "Pekingese Mix",
         "8"
        ],
        [
         "Dogo Argentino",
         "8"
        ],
        [
         "Puli, Pumi Mix",
         "7"
        ],
        [
         "Fox Terrier",
         "7"
        ],
        [
         "Pinscher Mix",
         "7"
        ],
        [
         "Beagle Mix",
         "7"
        ],
        [
         "German Shepherd Dog, Siberian Husky Mix",
         "7"
        ],
        [
         "Beagle",
         "7"
        ],
        [
         "Belgian Sheepdog Mix",
         "6"
        ],
        [
         "Kuvasz",
         "6"
        ],
        [
         "Golden Retriever Mix",
         "6"
        ],
        [
         "Dachshund, German Shepherd Dog Mix",
         "5"
        ],
        [
         "Rottweiler",
         "5"
        ],
        [
         "Dachshund, Fox Terrier Mix",
         "5"
        ],
        [
         "Labrador Retriever, Vizsla Mix",
         "5"
        ],
        [
         "Golden Retriever",
         "5"
        ],
        [
         "Cane Corso Mix",
         "5"
        ],
        [
         "Komondor",
         "5"
        ],
        [
         "German Dog",
         "5"
        ],
        [
         "Akita Mix",
         "5"
        ],
        [
         "Kuvasz Mix",
         "5"
        ]
       ],
       "shape": {
        "columns": 1,
        "rows": 277
       }
      },
      "text/plain": [
       "breed\n",
       "Unknown Mix                                 1524\n",
       "German Shepherd Dog Mix                      190\n",
       "Dachshund Mix                                147\n",
       "Labrador Retriever Mix                        83\n",
       "Staffordshire Terrier Mix                     62\n",
       "                                            ... \n",
       "English Cocker Spaniel, Vizsla Mix             1\n",
       "English Greyhound Mix                          1\n",
       "English Greyhound, Spanish Greyhound Mix       1\n",
       "Fox Terrier, German Shepherd Dog Mix           1\n",
       "Yorkshire Terrier                              1\n",
       "Name: count, Length: 277, dtype: int64"
      ]
     },
     "execution_count": 46,
     "metadata": {},
     "output_type": "execute_result"
    }
   ],
   "source": [
    "dogs['breed'] = dogs['breed'].astype('category')\n",
    "\n",
    "dogs['breed'].value_counts()\n"
   ]
  },
  {
   "cell_type": "code",
   "execution_count": 47,
   "id": "8d1f352f",
   "metadata": {},
   "outputs": [
    {
     "data": {
      "text/plain": [
       "['Unknown Mix', 'Unknown Mix', 'Unknown Mix', 'Unknown Mix', 'French Bulldog Mix', ..., 'Unknown Mix', 'Staffordshire Terrier Mix', 'Unknown Mix', 'Unknown Mix', 'German Shepherd Dog, Hound Mix']\n",
       "Length: 2937\n",
       "Categories (277, object): ['Adoptable From:', 'Afghan Hound', 'Akita', 'Akita Mix', ..., 'Welsh Terrier Mix', 'West Highland White Terrier Mix', 'Whippet Mix', 'Yorkshire Terrier']"
      ]
     },
     "execution_count": 47,
     "metadata": {},
     "output_type": "execute_result"
    }
   ],
   "source": [
    "dogs['breed'].values"
   ]
  },
  {
   "cell_type": "code",
   "execution_count": 48,
   "id": "c86456c2",
   "metadata": {},
   "outputs": [],
   "source": [
    "# make a dictionary \n",
    "my_changes = {'Unknown Mix': 'not specify'}"
   ]
  },
  {
   "cell_type": "code",
   "execution_count": 49,
   "id": "5cb53520",
   "metadata": {},
   "outputs": [],
   "source": [
    "# rename the catego\n",
    "dogs['breed']= dogs['breed'].cat.rename_categories(my_changes)\n"
   ]
  },
  {
   "cell_type": "code",
   "execution_count": 50,
   "id": "2e0d549b",
   "metadata": {},
   "outputs": [
    {
     "data": {
      "application/vnd.microsoft.datawrangler.viewer.v0+json": {
       "columns": [
        {
         "name": "index",
         "rawType": "int64",
         "type": "integer"
        },
        {
         "name": "breed",
         "rawType": "category",
         "type": "unknown"
        }
       ],
       "ref": "b7739fe9-8c6b-4612-8c93-82f5deb4938d",
       "rows": [
        [
         "0",
         "not specify"
        ],
        [
         "1",
         "not specify"
        ],
        [
         "2",
         "not specify"
        ],
        [
         "3",
         "not specify"
        ],
        [
         "4",
         "French Bulldog Mix"
        ],
        [
         "5",
         "not specify"
        ],
        [
         "6",
         "not specify"
        ],
        [
         "7",
         "not specify"
        ],
        [
         "8",
         "not specify"
        ],
        [
         "9",
         "not specify"
        ],
        [
         "10",
         "Vizsla Mix"
        ],
        [
         "11",
         "not specify"
        ],
        [
         "12",
         "not specify"
        ],
        [
         "13",
         "not specify"
        ],
        [
         "14",
         "Bull Terrier, Dachshund Mix"
        ],
        [
         "15",
         "not specify"
        ],
        [
         "16",
         "not specify"
        ],
        [
         "17",
         "not specify"
        ],
        [
         "18",
         "not specify"
        ],
        [
         "19",
         "not specify"
        ],
        [
         "20",
         "Kuvasz"
        ],
        [
         "21",
         "not specify"
        ],
        [
         "22",
         "not specify"
        ],
        [
         "23",
         "not specify"
        ],
        [
         "24",
         "not specify"
        ],
        [
         "25",
         "Chinese Shar-Pei Mix"
        ],
        [
         "26",
         "Staffordshire Terrier Mix"
        ],
        [
         "27",
         "German Shepherd Dog Mix"
        ],
        [
         "28",
         "not specify"
        ],
        [
         "29",
         "Hungarian Vizsla"
        ],
        [
         "30",
         "Komondor, Puli Mix"
        ],
        [
         "31",
         "Bull Terrier, Staffordshire Terrier Mix"
        ],
        [
         "32",
         "not specify"
        ],
        [
         "33",
         "not specify"
        ],
        [
         "34",
         "Staffordshire Terrier Mix"
        ],
        [
         "35",
         "Fox Terrier Mix"
        ],
        [
         "36",
         "not specify"
        ],
        [
         "37",
         "not specify"
        ],
        [
         "38",
         "Fox Terrier Mix"
        ],
        [
         "39",
         "not specify"
        ],
        [
         "40",
         "not specify"
        ],
        [
         "41",
         "Afghan Hound"
        ],
        [
         "42",
         "not specify"
        ],
        [
         "43",
         "not specify"
        ],
        [
         "44",
         "not specify"
        ],
        [
         "45",
         "not specify"
        ],
        [
         "46",
         "not specify"
        ],
        [
         "47",
         "not specify"
        ],
        [
         "48",
         "American Bulldog"
        ],
        [
         "49",
         "not specify"
        ]
       ],
       "shape": {
        "columns": 1,
        "rows": 2937
       }
      },
      "text/plain": [
       "0                          not specify\n",
       "1                          not specify\n",
       "2                          not specify\n",
       "3                          not specify\n",
       "4                   French Bulldog Mix\n",
       "                     ...              \n",
       "2932                       not specify\n",
       "2933         Staffordshire Terrier Mix\n",
       "2934                       not specify\n",
       "2935                       not specify\n",
       "2936    German Shepherd Dog, Hound Mix\n",
       "Name: breed, Length: 2937, dtype: category\n",
       "Categories (277, object): ['Adoptable From:', 'Afghan Hound', 'Akita', 'Akita Mix', ..., 'Welsh Terrier Mix', 'West Highland White Terrier Mix', 'Whippet Mix', 'Yorkshire Terrier']"
      ]
     },
     "execution_count": 50,
     "metadata": {},
     "output_type": "execute_result"
    }
   ],
   "source": [
    "dogs['breed']"
   ]
  },
  {
   "cell_type": "code",
   "execution_count": 51,
   "id": "bc876f19",
   "metadata": {},
   "outputs": [
    {
     "data": {
      "application/vnd.microsoft.datawrangler.viewer.v0+json": {
       "columns": [
        {
         "name": "breed",
         "rawType": "category",
         "type": "unknown"
        },
        {
         "name": "count",
         "rawType": "int64",
         "type": "integer"
        }
       ],
       "ref": "3f530aed-1493-40ea-89e7-c87f4a39e546",
       "rows": [
        [
         "not specify",
         "1524"
        ],
        [
         "German Shepherd Dog Mix",
         "190"
        ],
        [
         "Dachshund Mix",
         "147"
        ],
        [
         "Labrador Retriever Mix",
         "83"
        ],
        [
         "Staffordshire Terrier Mix",
         "62"
        ],
        [
         "Puli Mix",
         "40"
        ],
        [
         "German Shepherd Dog",
         "37"
        ],
        [
         "Schnauzer Mix",
         "34"
        ],
        [
         "Greyhound Mix",
         "32"
        ],
        [
         "Fox Terrier Mix",
         "32"
        ],
        [
         "Terrier Mix",
         "29"
        ],
        [
         "Rottweiler Mix",
         "26"
        ],
        [
         "Vizsla Mix",
         "24"
        ],
        [
         "Hound Mix",
         "22"
        ],
        [
         "Labrador Retriever",
         "17"
        ],
        [
         "Puli",
         "17"
        ],
        [
         "German Pointer Mix",
         "13"
        ],
        [
         "English Cocker Spaniel",
         "13"
        ],
        [
         "Mudi Mix",
         "13"
        ],
        [
         "Staffordshire Terrier",
         "13"
        ],
        [
         "Chinese Shar-Pei Mix",
         "13"
        ],
        [
         "Siberian Husky Mix",
         "12"
        ],
        [
         "English Cocker Spaniel Mix",
         "11"
        ],
        [
         "Spaniel Mix",
         "11"
        ],
        [
         "Pumi Mix",
         "10"
        ],
        [
         "Bull Terrier Mix",
         "9"
        ],
        [
         "Jagd Terrier Mix",
         "9"
        ],
        [
         "Caucasian Ovtcharka Mix",
         "9"
        ],
        [
         "German Shepherd Dog, Labrador Retriever Mix",
         "9"
        ],
        [
         "Pekingese Mix",
         "8"
        ],
        [
         "Dogo Argentino",
         "8"
        ],
        [
         "Puli, Pumi Mix",
         "7"
        ],
        [
         "Fox Terrier",
         "7"
        ],
        [
         "Pinscher Mix",
         "7"
        ],
        [
         "Beagle Mix",
         "7"
        ],
        [
         "German Shepherd Dog, Siberian Husky Mix",
         "7"
        ],
        [
         "Beagle",
         "7"
        ],
        [
         "Belgian Sheepdog Mix",
         "6"
        ],
        [
         "Kuvasz",
         "6"
        ],
        [
         "Golden Retriever Mix",
         "6"
        ],
        [
         "Dachshund, German Shepherd Dog Mix",
         "5"
        ],
        [
         "Rottweiler",
         "5"
        ],
        [
         "Dachshund, Fox Terrier Mix",
         "5"
        ],
        [
         "Labrador Retriever, Vizsla Mix",
         "5"
        ],
        [
         "Golden Retriever",
         "5"
        ],
        [
         "Cane Corso Mix",
         "5"
        ],
        [
         "Komondor",
         "5"
        ],
        [
         "German Dog",
         "5"
        ],
        [
         "Akita Mix",
         "5"
        ],
        [
         "Kuvasz Mix",
         "5"
        ]
       ],
       "shape": {
        "columns": 1,
        "rows": 277
       }
      },
      "text/plain": [
       "breed\n",
       "not specify                                 1524\n",
       "German Shepherd Dog Mix                      190\n",
       "Dachshund Mix                                147\n",
       "Labrador Retriever Mix                        83\n",
       "Staffordshire Terrier Mix                     62\n",
       "                                            ... \n",
       "English Cocker Spaniel, Vizsla Mix             1\n",
       "English Greyhound Mix                          1\n",
       "English Greyhound, Spanish Greyhound Mix       1\n",
       "Fox Terrier, German Shepherd Dog Mix           1\n",
       "Yorkshire Terrier                              1\n",
       "Name: count, Length: 277, dtype: int64"
      ]
     },
     "execution_count": 51,
     "metadata": {},
     "output_type": "execute_result"
    }
   ],
   "source": [
    "from pandas import value_counts\n",
    "\n",
    "\n",
    "dogs['breed'].value_counts()"
   ]
  },
  {
   "cell_type": "markdown",
   "id": "110a6f5c",
   "metadata": {},
   "source": [
    "## Collapsing Caregories \n"
   ]
  },
  {
   "cell_type": "code",
   "execution_count": 52,
   "id": "b94fb03a",
   "metadata": {},
   "outputs": [],
   "source": [
    "dogs['color'] = dogs['color'].astype('category')\n"
   ]
  },
  {
   "cell_type": "code",
   "execution_count": 53,
   "id": "0c3a5102",
   "metadata": {},
   "outputs": [
    {
     "data": {
      "text/plain": [
       "CategoricalDtype(categories=['apricot', 'black', 'black and brown', 'black and tan',\n",
       "                  'black and white', 'brown', 'brown and white', 'dotted',\n",
       "                  'golden', 'gray', 'gray and black', 'gray and white', 'red',\n",
       "                  'red and white', 'sable', 'saddle back', 'spotty', 'striped',\n",
       "                  'tricolor', 'white', 'wild boar', 'yellow', 'yellow-brown'],\n",
       ", ordered=False, categories_dtype=object)"
      ]
     },
     "execution_count": 53,
     "metadata": {},
     "output_type": "execute_result"
    }
   ],
   "source": [
    "dogs['color'].dtype"
   ]
  },
  {
   "cell_type": "code",
   "execution_count": 54,
   "id": "0c29415b",
   "metadata": {},
   "outputs": [
    {
     "data": {
      "text/plain": [
       "Index(['apricot', 'black', 'black and brown', 'black and tan',\n",
       "       'black and white', 'brown', 'brown and white', 'dotted', 'golden',\n",
       "       'gray', 'gray and black', 'gray and white', 'red', 'red and white',\n",
       "       'sable', 'saddle back', 'spotty', 'striped', 'tricolor', 'white',\n",
       "       'wild boar', 'yellow', 'yellow-brown'],\n",
       "      dtype='object')"
      ]
     },
     "execution_count": 54,
     "metadata": {},
     "output_type": "execute_result"
    }
   ],
   "source": [
    "dogs['color'].cat.categories\n"
   ]
  },
  {
   "cell_type": "code",
   "execution_count": 55,
   "id": "8d27ad12",
   "metadata": {},
   "outputs": [],
   "source": [
    "update_colors = { \"black and brown\": \"black\", \"black and tan\": \"black\", \"black and white\": \"black\", }"
   ]
  },
  {
   "cell_type": "code",
   "execution_count": 56,
   "id": "00a96a83",
   "metadata": {},
   "outputs": [
    {
     "name": "stderr",
     "output_type": "stream",
     "text": [
      "/var/folders/v9/v9j8bf6j2r5cr97thvfgxxyh0000gn/T/ipykernel_84944/4239472900.py:1: FutureWarning: The behavior of Series.replace (and DataFrame.replace) with CategoricalDtype is deprecated. In a future version, replace will only be used for cases that preserve the categories. To change the categories, use ser.cat.rename_categories instead.\n",
      "  dogs[\"main_color\"] = dogs[\"color\"].replace(update_colors)\n"
     ]
    }
   ],
   "source": [
    "dogs[\"main_color\"] = dogs[\"color\"].replace(update_colors)"
   ]
  },
  {
   "cell_type": "code",
   "execution_count": 57,
   "id": "12885f3c",
   "metadata": {},
   "outputs": [
    {
     "data": {
      "text/plain": [
       "Index(['ID', 'name', 'age', 'sex', 'breed', 'date_found', 'adoptable_from',\n",
       "       'posted', 'color', 'coat', 'size', 'neutered', 'housebroken',\n",
       "       'likes_people', 'likes_children', 'get_along_males',\n",
       "       'get_along_females', 'get_along_cats', 'keep_in', 'main_color'],\n",
       "      dtype='object')"
      ]
     },
     "execution_count": 57,
     "metadata": {},
     "output_type": "execute_result"
    }
   ],
   "source": [
    "dogs.keys()"
   ]
  },
  {
   "cell_type": "code",
   "execution_count": 58,
   "id": "9fbb1361",
   "metadata": {},
   "outputs": [
    {
     "data": {
      "application/vnd.microsoft.datawrangler.viewer.v0+json": {
       "columns": [
        {
         "name": "coat",
         "rawType": "category",
         "type": "unknown"
        },
        {
         "name": "count",
         "rawType": "int64",
         "type": "integer"
        }
       ],
       "ref": "45fdcd5c-67e2-491d-94fe-5f418667e46b",
       "rows": [
        [
         "short",
         "1972"
        ],
        [
         "medium",
         "565"
        ],
        [
         "long",
         "180"
        ]
       ],
       "shape": {
        "columns": 1,
        "rows": 3
       }
      },
      "text/plain": [
       "coat\n",
       "short     1972\n",
       "medium     565\n",
       "long       180\n",
       "Name: count, dtype: int64"
      ]
     },
     "execution_count": 58,
     "metadata": {},
     "output_type": "execute_result"
    }
   ],
   "source": [
    "dogs['coat'].value_counts()"
   ]
  },
  {
   "cell_type": "code",
   "execution_count": 59,
   "id": "95c83ac3",
   "metadata": {},
   "outputs": [
    {
     "data": {
      "application/vnd.microsoft.datawrangler.viewer.v0+json": {
       "columns": [
        {
         "name": "index",
         "rawType": "int64",
         "type": "integer"
        },
        {
         "name": "ID",
         "rawType": "int64",
         "type": "integer"
        },
        {
         "name": "name",
         "rawType": "object",
         "type": "unknown"
        },
        {
         "name": "age",
         "rawType": "float64",
         "type": "float"
        },
        {
         "name": "sex",
         "rawType": "object",
         "type": "string"
        },
        {
         "name": "breed",
         "rawType": "category",
         "type": "unknown"
        },
        {
         "name": "date_found",
         "rawType": "object",
         "type": "string"
        },
        {
         "name": "adoptable_from",
         "rawType": "object",
         "type": "string"
        },
        {
         "name": "posted",
         "rawType": "object",
         "type": "string"
        },
        {
         "name": "color",
         "rawType": "category",
         "type": "unknown"
        },
        {
         "name": "coat",
         "rawType": "category",
         "type": "unknown"
        },
        {
         "name": "size",
         "rawType": "object",
         "type": "string"
        },
        {
         "name": "neutered",
         "rawType": "object",
         "type": "unknown"
        },
        {
         "name": "housebroken",
         "rawType": "object",
         "type": "unknown"
        },
        {
         "name": "likes_people",
         "rawType": "category",
         "type": "unknown"
        },
        {
         "name": "likes_children",
         "rawType": "object",
         "type": "unknown"
        },
        {
         "name": "get_along_males",
         "rawType": "object",
         "type": "unknown"
        },
        {
         "name": "get_along_females",
         "rawType": "object",
         "type": "unknown"
        },
        {
         "name": "get_along_cats",
         "rawType": "object",
         "type": "unknown"
        },
        {
         "name": "keep_in",
         "rawType": "object",
         "type": "unknown"
        },
        {
         "name": "main_color",
         "rawType": "category",
         "type": "unknown"
        }
       ],
       "ref": "4f78e1cd-fb01-453a-81b1-e59f3e4716a1",
       "rows": [
        [
         "0",
         "23807",
         "Gida",
         "0.25",
         "female",
         "not specify",
         "12/10/19",
         "12/11/19",
         "12/11/19",
         "red",
         "short",
         "small",
         "no",
         null,
         null,
         null,
         null,
         null,
         null,
         null,
         "red"
        ],
        [
         "1",
         "533",
         "Frida És Ricsi",
         "0.17",
         "female",
         "not specify",
         "12/1/19",
         "12/1/19",
         "12/9/19",
         "black and white",
         "short",
         "small",
         "no",
         null,
         "yes",
         "yes",
         "yes",
         "yes",
         "yes",
         null,
         "black"
        ],
        [
         "2",
         "23793",
         null,
         "4.0",
         "male",
         "not specify",
         "12/8/19",
         "12/23/19",
         "12/8/19",
         "saddle back",
         "short",
         "medium",
         "no",
         null,
         null,
         null,
         null,
         null,
         null,
         null,
         "saddle back"
        ],
        [
         "3",
         "23795",
         null,
         "1.0",
         "male",
         "not specify",
         "12/8/19",
         "12/23/19",
         "12/8/19",
         "yellow-brown",
         "medium",
         "medium",
         "no",
         null,
         null,
         null,
         null,
         null,
         null,
         null,
         "yellow-brown"
        ],
        [
         "4",
         "23806",
         "Amy",
         "2.0",
         "female",
         "French Bulldog Mix",
         "12/10/19",
         "12/11/19",
         "12/11/19",
         "black",
         "short",
         "small",
         "no",
         null,
         null,
         null,
         null,
         null,
         null,
         null,
         "black"
        ],
        [
         "5",
         "23801",
         "Alex",
         "4.25",
         "male",
         "not specify",
         "12/9/19",
         "12/24/19",
         "12/9/19",
         "yellow-brown",
         "short",
         "small",
         "yes",
         null,
         null,
         null,
         null,
         null,
         null,
         null,
         "yellow-brown"
        ],
        [
         "6",
         "534",
         "Ricsi És Frida",
         "0.17",
         "male",
         "not specify",
         "12/1/19",
         "12/1/19",
         "12/9/19",
         "brown",
         "short",
         "small",
         "no",
         null,
         "yes",
         "yes",
         "yes",
         "yes",
         "yes",
         null,
         "brown"
        ],
        [
         "7",
         "23805",
         null,
         "0.17",
         "female",
         "not specify",
         "12/10/19",
         "12/25/19",
         "12/11/19",
         "gray and white",
         "short",
         "medium",
         "no",
         null,
         null,
         null,
         null,
         null,
         null,
         null,
         "gray and white"
        ],
        [
         "8",
         "23809",
         null,
         "0.17",
         "female",
         "not specify",
         "12/11/19",
         "12/26/19",
         "12/12/19",
         "black",
         "medium",
         "medium",
         "no",
         null,
         null,
         null,
         null,
         null,
         null,
         null,
         "black"
        ],
        [
         "9",
         "1801",
         "Újhartyáni Mazsi",
         "0.17",
         "female",
         "not specify",
         "12/10/19",
         "12/10/19",
         "12/11/19",
         "brown and white",
         "short",
         "small",
         "no",
         null,
         "yes",
         "yes",
         "yes",
         "yes",
         "yes",
         "flat",
         "brown and white"
        ],
        [
         "10",
         "1222",
         "Vasi",
         "3.67",
         "male",
         "Vizsla Mix",
         "10/25/19",
         "10/25/19",
         "12/12/19",
         "red",
         "short",
         "medium",
         "yes",
         null,
         null,
         null,
         null,
         null,
         null,
         null,
         "red"
        ],
        [
         "11",
         "23792",
         null,
         "1.0",
         "male",
         "not specify",
         "12/8/19",
         "12/23/19",
         "12/8/19",
         "saddle back",
         "medium",
         "medium",
         "no",
         null,
         null,
         null,
         null,
         null,
         null,
         null,
         "saddle back"
        ],
        [
         "12",
         "23797",
         null,
         "5.0",
         "female",
         "not specify",
         "12/8/19",
         "12/23/19",
         "12/8/19",
         "brown",
         "long",
         "small",
         "no",
         null,
         null,
         null,
         null,
         null,
         null,
         null,
         "brown"
        ],
        [
         "13",
         "1800",
         "Újhartyáni Frenki",
         "0.17",
         "male",
         "not specify",
         "12/10/19",
         "12/10/19",
         "12/11/19",
         "tricolor",
         "short",
         "small",
         "no",
         null,
         "yes",
         "yes",
         "yes",
         "yes",
         "yes",
         "flat",
         "tricolor"
        ],
        [
         "14",
         "532",
         "Fickó",
         "1.5",
         "male",
         "Bull Terrier, Dachshund Mix",
         "12/1/19",
         "12/1/19",
         "12/9/19",
         "brown and white",
         "short",
         "medium",
         "yes",
         null,
         "yes",
         "yes",
         "no",
         "no",
         "no",
         null,
         "brown and white"
        ],
        [
         "15",
         "23796",
         null,
         "8.0",
         "male",
         "not specify",
         "12/8/19",
         "12/23/19",
         "12/8/19",
         "black",
         "medium",
         "medium",
         "no",
         null,
         null,
         null,
         null,
         null,
         null,
         null,
         "black"
        ],
        [
         "16",
         "1802",
         "Újhartyáni Bori",
         "0.17",
         "female",
         "not specify",
         "12/10/19",
         "12/10/19",
         "12/11/19",
         "tricolor",
         "short",
         "small",
         "no",
         null,
         "yes",
         "yes",
         "yes",
         "yes",
         "yes",
         "flat",
         "tricolor"
        ],
        [
         "17",
         "1799",
         "Dabasi Ixorn",
         "0.83",
         "male",
         "not specify",
         "12/5/19",
         "12/5/19",
         "12/9/19",
         "black",
         null,
         "small",
         "yes",
         null,
         "yes",
         "yes",
         "yes",
         "yes",
         null,
         "both flat and garden",
         "black"
        ],
        [
         "18",
         "23794",
         null,
         "1.0",
         "male",
         "not specify",
         "12/8/19",
         "12/23/19",
         "12/8/19",
         "yellow-brown",
         "medium",
         "medium",
         "no",
         null,
         null,
         null,
         null,
         null,
         null,
         null,
         "yellow-brown"
        ],
        [
         "19",
         "1393",
         "Gizmo",
         "0.5",
         "male",
         "not specify",
         "12/8/19",
         "12/10/19",
         "12/10/19",
         "spotty",
         "medium",
         "small",
         "yes",
         null,
         null,
         null,
         null,
         null,
         null,
         null,
         "spotty"
        ],
        [
         "20",
         "23788",
         "Sába",
         "7.58",
         "female",
         "Kuvasz",
         "12/1/19",
         "12/16/19",
         "12/8/19",
         "white",
         "medium",
         "large",
         "yes",
         null,
         null,
         null,
         null,
         null,
         null,
         null,
         "white"
        ],
        [
         "21",
         "4492",
         "Döme",
         "1.0",
         "male",
         "not specify",
         "11/25/19",
         "11/25/19",
         "12/7/19",
         "black",
         "medium",
         "medium",
         null,
         null,
         "yes",
         null,
         null,
         null,
         "yes",
         "both flat and garden",
         "black"
        ],
        [
         "22",
         "4484",
         "Jocelyn",
         "0.17",
         "female",
         "not specify",
         "11/27/19",
         "11/27/19",
         "12/7/19",
         "apricot",
         "short",
         "small",
         null,
         null,
         "yes",
         null,
         "yes",
         "yes",
         null,
         "both flat and garden",
         "apricot"
        ],
        [
         "23",
         "23787",
         null,
         "0.67",
         "female",
         "not specify",
         "12/7/19",
         "12/22/19",
         "12/7/19",
         "yellow-brown",
         null,
         "medium",
         "no",
         null,
         null,
         null,
         null,
         null,
         null,
         null,
         "yellow-brown"
        ],
        [
         "24",
         "4487",
         "Katica",
         "0.58",
         "female",
         "not specify",
         "12/3/19",
         "12/3/19",
         "12/7/19",
         "black",
         "short",
         "small",
         null,
         null,
         "yes",
         null,
         null,
         null,
         null,
         "both flat and garden",
         "black"
        ],
        [
         "25",
         "4491",
         "Bethany",
         "5.0",
         "female",
         "Chinese Shar-Pei Mix",
         "11/28/19",
         "11/28/19",
         "12/7/19",
         "black and brown",
         "short",
         "medium",
         null,
         null,
         "yes",
         null,
         null,
         null,
         null,
         "both flat and garden",
         "black"
        ],
        [
         "26",
         "4486",
         "Cotta",
         "0.15",
         "female",
         "Staffordshire Terrier Mix",
         "12/1/19",
         "12/1/19",
         "12/7/19",
         "brown and white",
         "short",
         "medium",
         null,
         null,
         "yes",
         null,
         "yes",
         "yes",
         null,
         "both flat and garden",
         "brown and white"
        ],
        [
         "27",
         "4488",
         "Kehlani",
         "0.42",
         "female",
         "German Shepherd Dog Mix",
         "12/1/19",
         "12/1/19",
         "12/7/19",
         "black and brown",
         "short",
         "medium",
         null,
         null,
         "yes",
         null,
         null,
         null,
         null,
         "both flat and garden",
         "black"
        ],
        [
         "28",
         "23790",
         null,
         "6.0",
         "male",
         "not specify",
         "12/8/19",
         "12/23/19",
         "12/8/19",
         "saddle back",
         "medium",
         "medium",
         "no",
         null,
         null,
         null,
         null,
         null,
         null,
         null,
         "saddle back"
        ],
        [
         "29",
         "1798",
         "Kakucsi Szikra",
         "2.42",
         "male",
         "Hungarian Vizsla",
         "12/7/19",
         "12/7/19",
         "12/7/19",
         "brown",
         "short",
         "medium",
         "no",
         null,
         "yes",
         "yes",
         "yes",
         "yes",
         "yes",
         "both flat and garden",
         "brown"
        ],
        [
         "30",
         "4489",
         "Crosby",
         "1.0",
         "male",
         "Komondor, Puli Mix",
         "11/27/19",
         "11/27/19",
         "12/7/19",
         "golden",
         "medium",
         "medium",
         null,
         null,
         "yes",
         null,
         null,
         null,
         null,
         "both flat and garden",
         "golden"
        ],
        [
         "31",
         "23784",
         null,
         "0.58",
         "male",
         "Bull Terrier, Staffordshire Terrier Mix",
         "12/6/19",
         "12/21/19",
         "12/7/19",
         "striped",
         "short",
         "medium",
         "no",
         null,
         null,
         null,
         null,
         null,
         null,
         null,
         "striped"
        ],
        [
         "32",
         "23789",
         null,
         "0.33",
         "male",
         "not specify",
         "12/8/19",
         "12/23/19",
         "12/8/19",
         "black",
         "short",
         "small",
         "no",
         null,
         null,
         null,
         null,
         null,
         null,
         null,
         "black"
        ],
        [
         "33",
         "4490",
         "Bowen",
         "1.0",
         "male",
         "not specify",
         "11/22/19",
         "11/22/19",
         "12/7/19",
         "brown",
         "medium",
         "large",
         null,
         null,
         "yes",
         null,
         null,
         null,
         null,
         "both flat and garden",
         "brown"
        ],
        [
         "34",
         "4485",
         "Panna",
         "0.15",
         "female",
         "Staffordshire Terrier Mix",
         "12/1/19",
         "12/1/19",
         "12/7/19",
         "striped",
         "short",
         "medium",
         null,
         null,
         "yes",
         null,
         "yes",
         "yes",
         null,
         "both flat and garden",
         "striped"
        ],
        [
         "35",
         "1795",
         "Szolnoki Joker",
         "1.0",
         "male",
         "Fox Terrier Mix",
         "12/7/19",
         "12/7/19",
         "12/7/19",
         "black and white",
         null,
         "small",
         "yes",
         null,
         "yes",
         "yes",
         "yes",
         "yes",
         null,
         "both flat and garden",
         "black"
        ],
        [
         "36",
         "1797",
         "Sátoraljaújhelyi Dingó",
         "2.0",
         "male",
         "not specify",
         "12/5/19",
         "12/5/19",
         "12/7/19",
         "yellow",
         "short",
         "medium",
         "no",
         null,
         "yes",
         "yes",
         "yes",
         "yes",
         null,
         "both flat and garden",
         "yellow"
        ],
        [
         "37",
         "4483",
         "Valentin",
         "0.67",
         "male",
         "not specify",
         "12/3/19",
         "12/3/19",
         "12/7/19",
         "apricot",
         "short",
         "small",
         null,
         null,
         "yes",
         null,
         null,
         null,
         null,
         "both flat and garden",
         "apricot"
        ],
        [
         "38",
         "1796",
         "Szolnoki Chris",
         "1.0",
         "male",
         "Fox Terrier Mix",
         "12/7/19",
         "12/7/19",
         "12/7/19",
         "brown and white",
         null,
         "small",
         "yes",
         null,
         "yes",
         "yes",
         "yes",
         "yes",
         null,
         "both flat and garden",
         "brown and white"
        ],
        [
         "39",
         "23791",
         null,
         "4.0",
         "male",
         "not specify",
         "12/8/19",
         "12/23/19",
         "12/8/19",
         "yellow-brown",
         "medium",
         "medium",
         "no",
         null,
         null,
         null,
         null,
         null,
         null,
         null,
         "yellow-brown"
        ],
        [
         "40",
         "23778",
         "Pufi",
         "8.0",
         "male",
         "not specify",
         "12/2/19",
         "12/17/19",
         "12/2/19",
         "wild boar",
         "short",
         "small",
         "no",
         null,
         null,
         null,
         null,
         null,
         null,
         null,
         "wild boar"
        ],
        [
         "41",
         "1048",
         "Velencei Fiffi",
         "9.25",
         "female",
         "Afghan Hound",
         "12/1/19",
         "12/4/19",
         "12/3/19",
         "brown",
         "long",
         "medium",
         "yes",
         "yes",
         "yes",
         null,
         null,
         null,
         null,
         "flat",
         "brown"
        ],
        [
         "42",
         "2138",
         "Szálkás Kan Kölyök",
         "0.5",
         "male",
         "not specify",
         "11/4/19",
         "11/4/19",
         "11/29/19",
         "brown",
         null,
         "medium",
         "yes",
         null,
         null,
         null,
         null,
         null,
         null,
         null,
         "brown"
        ],
        [
         "43",
         "1793",
         "Szakáldi Báró",
         "1.42",
         "male",
         "not specify",
         "12/3/19",
         "12/3/19",
         "12/5/19",
         "brown and white",
         "short",
         "medium",
         "no",
         null,
         "yes",
         "yes",
         "no",
         "yes",
         null,
         "both flat and garden",
         "brown and white"
        ],
        [
         "44",
         "23777",
         null,
         "0.25",
         "male",
         "not specify",
         "12/2/19",
         "12/17/19",
         "12/2/19",
         "black and tan",
         null,
         "small",
         "no",
         null,
         null,
         null,
         null,
         null,
         null,
         null,
         "black"
        ],
        [
         "45",
         "2137",
         "Hónapos Keverék Kan",
         "0.5",
         "male",
         "not specify",
         "11/4/19",
         "11/4/19",
         "11/29/19",
         "tricolor",
         "medium",
         "medium",
         "yes",
         null,
         null,
         null,
         null,
         null,
         null,
         null,
         "tricolor"
        ],
        [
         "46",
         "2154",
         "Kormi",
         "6.5",
         "male",
         "not specify",
         "10/7/19",
         "10/7/19",
         "12/5/19",
         "black",
         "short",
         "medium",
         "yes",
         null,
         null,
         null,
         null,
         null,
         null,
         null,
         "black"
        ],
        [
         "47",
         "23780",
         null,
         "0.25",
         "female",
         "not specify",
         "12/4/19",
         "12/19/19",
         "12/4/19",
         "saddle back",
         "medium",
         "medium",
         "no",
         null,
         null,
         null,
         null,
         null,
         null,
         null,
         "saddle back"
        ],
        [
         "48",
         "1049",
         "Velencei Shyne On",
         "8.42",
         "female",
         "American Bulldog",
         "12/1/19",
         "12/4/19",
         "12/3/19",
         "striped",
         "short",
         "medium",
         "yes",
         "yes",
         "yes",
         null,
         null,
         null,
         null,
         "both flat and garden",
         "striped"
        ],
        [
         "49",
         "2153",
         "Lili",
         "3.5",
         "female",
         "not specify",
         "10/7/19",
         "10/7/19",
         "12/5/19",
         "brown",
         "short",
         "medium",
         "yes",
         null,
         null,
         null,
         null,
         null,
         null,
         null,
         "brown"
        ]
       ],
       "shape": {
        "columns": 20,
        "rows": 2937
       }
      },
      "text/html": [
       "<div>\n",
       "<style scoped>\n",
       "    .dataframe tbody tr th:only-of-type {\n",
       "        vertical-align: middle;\n",
       "    }\n",
       "\n",
       "    .dataframe tbody tr th {\n",
       "        vertical-align: top;\n",
       "    }\n",
       "\n",
       "    .dataframe thead th {\n",
       "        text-align: right;\n",
       "    }\n",
       "</style>\n",
       "<table border=\"1\" class=\"dataframe\">\n",
       "  <thead>\n",
       "    <tr style=\"text-align: right;\">\n",
       "      <th></th>\n",
       "      <th>ID</th>\n",
       "      <th>name</th>\n",
       "      <th>age</th>\n",
       "      <th>sex</th>\n",
       "      <th>breed</th>\n",
       "      <th>date_found</th>\n",
       "      <th>adoptable_from</th>\n",
       "      <th>posted</th>\n",
       "      <th>color</th>\n",
       "      <th>coat</th>\n",
       "      <th>size</th>\n",
       "      <th>neutered</th>\n",
       "      <th>housebroken</th>\n",
       "      <th>likes_people</th>\n",
       "      <th>likes_children</th>\n",
       "      <th>get_along_males</th>\n",
       "      <th>get_along_females</th>\n",
       "      <th>get_along_cats</th>\n",
       "      <th>keep_in</th>\n",
       "      <th>main_color</th>\n",
       "    </tr>\n",
       "  </thead>\n",
       "  <tbody>\n",
       "    <tr>\n",
       "      <th>0</th>\n",
       "      <td>23807</td>\n",
       "      <td>Gida</td>\n",
       "      <td>0.25</td>\n",
       "      <td>female</td>\n",
       "      <td>not specify</td>\n",
       "      <td>12/10/19</td>\n",
       "      <td>12/11/19</td>\n",
       "      <td>12/11/19</td>\n",
       "      <td>red</td>\n",
       "      <td>short</td>\n",
       "      <td>small</td>\n",
       "      <td>no</td>\n",
       "      <td>NaN</td>\n",
       "      <td>NaN</td>\n",
       "      <td>NaN</td>\n",
       "      <td>NaN</td>\n",
       "      <td>NaN</td>\n",
       "      <td>NaN</td>\n",
       "      <td>NaN</td>\n",
       "      <td>red</td>\n",
       "    </tr>\n",
       "    <tr>\n",
       "      <th>1</th>\n",
       "      <td>533</td>\n",
       "      <td>Frida És Ricsi</td>\n",
       "      <td>0.17</td>\n",
       "      <td>female</td>\n",
       "      <td>not specify</td>\n",
       "      <td>12/1/19</td>\n",
       "      <td>12/1/19</td>\n",
       "      <td>12/9/19</td>\n",
       "      <td>black and white</td>\n",
       "      <td>short</td>\n",
       "      <td>small</td>\n",
       "      <td>no</td>\n",
       "      <td>NaN</td>\n",
       "      <td>yes</td>\n",
       "      <td>yes</td>\n",
       "      <td>yes</td>\n",
       "      <td>yes</td>\n",
       "      <td>yes</td>\n",
       "      <td>NaN</td>\n",
       "      <td>black</td>\n",
       "    </tr>\n",
       "    <tr>\n",
       "      <th>2</th>\n",
       "      <td>23793</td>\n",
       "      <td>NaN</td>\n",
       "      <td>4.00</td>\n",
       "      <td>male</td>\n",
       "      <td>not specify</td>\n",
       "      <td>12/8/19</td>\n",
       "      <td>12/23/19</td>\n",
       "      <td>12/8/19</td>\n",
       "      <td>saddle back</td>\n",
       "      <td>short</td>\n",
       "      <td>medium</td>\n",
       "      <td>no</td>\n",
       "      <td>NaN</td>\n",
       "      <td>NaN</td>\n",
       "      <td>NaN</td>\n",
       "      <td>NaN</td>\n",
       "      <td>NaN</td>\n",
       "      <td>NaN</td>\n",
       "      <td>NaN</td>\n",
       "      <td>saddle back</td>\n",
       "    </tr>\n",
       "    <tr>\n",
       "      <th>3</th>\n",
       "      <td>23795</td>\n",
       "      <td>NaN</td>\n",
       "      <td>1.00</td>\n",
       "      <td>male</td>\n",
       "      <td>not specify</td>\n",
       "      <td>12/8/19</td>\n",
       "      <td>12/23/19</td>\n",
       "      <td>12/8/19</td>\n",
       "      <td>yellow-brown</td>\n",
       "      <td>medium</td>\n",
       "      <td>medium</td>\n",
       "      <td>no</td>\n",
       "      <td>NaN</td>\n",
       "      <td>NaN</td>\n",
       "      <td>NaN</td>\n",
       "      <td>NaN</td>\n",
       "      <td>NaN</td>\n",
       "      <td>NaN</td>\n",
       "      <td>NaN</td>\n",
       "      <td>yellow-brown</td>\n",
       "    </tr>\n",
       "    <tr>\n",
       "      <th>4</th>\n",
       "      <td>23806</td>\n",
       "      <td>Amy</td>\n",
       "      <td>2.00</td>\n",
       "      <td>female</td>\n",
       "      <td>French Bulldog Mix</td>\n",
       "      <td>12/10/19</td>\n",
       "      <td>12/11/19</td>\n",
       "      <td>12/11/19</td>\n",
       "      <td>black</td>\n",
       "      <td>short</td>\n",
       "      <td>small</td>\n",
       "      <td>no</td>\n",
       "      <td>NaN</td>\n",
       "      <td>NaN</td>\n",
       "      <td>NaN</td>\n",
       "      <td>NaN</td>\n",
       "      <td>NaN</td>\n",
       "      <td>NaN</td>\n",
       "      <td>NaN</td>\n",
       "      <td>black</td>\n",
       "    </tr>\n",
       "    <tr>\n",
       "      <th>...</th>\n",
       "      <td>...</td>\n",
       "      <td>...</td>\n",
       "      <td>...</td>\n",
       "      <td>...</td>\n",
       "      <td>...</td>\n",
       "      <td>...</td>\n",
       "      <td>...</td>\n",
       "      <td>...</td>\n",
       "      <td>...</td>\n",
       "      <td>...</td>\n",
       "      <td>...</td>\n",
       "      <td>...</td>\n",
       "      <td>...</td>\n",
       "      <td>...</td>\n",
       "      <td>...</td>\n",
       "      <td>...</td>\n",
       "      <td>...</td>\n",
       "      <td>...</td>\n",
       "      <td>...</td>\n",
       "      <td>...</td>\n",
       "    </tr>\n",
       "    <tr>\n",
       "      <th>2932</th>\n",
       "      <td>118</td>\n",
       "      <td>Fodri</td>\n",
       "      <td>16.92</td>\n",
       "      <td>male</td>\n",
       "      <td>not specify</td>\n",
       "      <td>12/25/03</td>\n",
       "      <td>12/25/03</td>\n",
       "      <td>3/22/06</td>\n",
       "      <td>yellow-brown</td>\n",
       "      <td>short</td>\n",
       "      <td>medium</td>\n",
       "      <td>no</td>\n",
       "      <td>no</td>\n",
       "      <td>yes</td>\n",
       "      <td>yes</td>\n",
       "      <td>no</td>\n",
       "      <td>yes</td>\n",
       "      <td>no</td>\n",
       "      <td>garden</td>\n",
       "      <td>yellow-brown</td>\n",
       "    </tr>\n",
       "    <tr>\n",
       "      <th>2933</th>\n",
       "      <td>262</td>\n",
       "      <td>Csibi</td>\n",
       "      <td>17.33</td>\n",
       "      <td>female</td>\n",
       "      <td>Staffordshire Terrier Mix</td>\n",
       "      <td>8/27/04</td>\n",
       "      <td>8/27/04</td>\n",
       "      <td>7/8/05</td>\n",
       "      <td>striped</td>\n",
       "      <td>short</td>\n",
       "      <td>large</td>\n",
       "      <td>yes</td>\n",
       "      <td>NaN</td>\n",
       "      <td>NaN</td>\n",
       "      <td>NaN</td>\n",
       "      <td>NaN</td>\n",
       "      <td>NaN</td>\n",
       "      <td>NaN</td>\n",
       "      <td>NaN</td>\n",
       "      <td>striped</td>\n",
       "    </tr>\n",
       "    <tr>\n",
       "      <th>2934</th>\n",
       "      <td>4</td>\n",
       "      <td>Konrád</td>\n",
       "      <td>18.17</td>\n",
       "      <td>male</td>\n",
       "      <td>not specify</td>\n",
       "      <td>9/21/05</td>\n",
       "      <td>9/21/05</td>\n",
       "      <td>10/26/05</td>\n",
       "      <td>black</td>\n",
       "      <td>short</td>\n",
       "      <td>medium</td>\n",
       "      <td>no</td>\n",
       "      <td>NaN</td>\n",
       "      <td>NaN</td>\n",
       "      <td>NaN</td>\n",
       "      <td>NaN</td>\n",
       "      <td>NaN</td>\n",
       "      <td>NaN</td>\n",
       "      <td>NaN</td>\n",
       "      <td>black</td>\n",
       "    </tr>\n",
       "    <tr>\n",
       "      <th>2935</th>\n",
       "      <td>141</td>\n",
       "      <td>Kölni</td>\n",
       "      <td>17.17</td>\n",
       "      <td>male</td>\n",
       "      <td>not specify</td>\n",
       "      <td>11/27/04</td>\n",
       "      <td>11/27/04</td>\n",
       "      <td>5/2/05</td>\n",
       "      <td>black and brown</td>\n",
       "      <td>medium</td>\n",
       "      <td>medium</td>\n",
       "      <td>no</td>\n",
       "      <td>NaN</td>\n",
       "      <td>NaN</td>\n",
       "      <td>NaN</td>\n",
       "      <td>NaN</td>\n",
       "      <td>NaN</td>\n",
       "      <td>NaN</td>\n",
       "      <td>NaN</td>\n",
       "      <td>black</td>\n",
       "    </tr>\n",
       "    <tr>\n",
       "      <th>2936</th>\n",
       "      <td>248</td>\n",
       "      <td>Kedves</td>\n",
       "      <td>16.08</td>\n",
       "      <td>male</td>\n",
       "      <td>German Shepherd Dog, Hound Mix</td>\n",
       "      <td>4/2/05</td>\n",
       "      <td>4/2/05</td>\n",
       "      <td>6/30/05</td>\n",
       "      <td>sable</td>\n",
       "      <td>short</td>\n",
       "      <td>medium</td>\n",
       "      <td>yes</td>\n",
       "      <td>NaN</td>\n",
       "      <td>yes</td>\n",
       "      <td>NaN</td>\n",
       "      <td>yes</td>\n",
       "      <td>yes</td>\n",
       "      <td>NaN</td>\n",
       "      <td>both flat and garden</td>\n",
       "      <td>sable</td>\n",
       "    </tr>\n",
       "  </tbody>\n",
       "</table>\n",
       "<p>2937 rows × 20 columns</p>\n",
       "</div>"
      ],
      "text/plain": [
       "         ID            name    age     sex                           breed  \\\n",
       "0     23807            Gida   0.25  female                     not specify   \n",
       "1       533  Frida És Ricsi   0.17  female                     not specify   \n",
       "2     23793             NaN   4.00    male                     not specify   \n",
       "3     23795             NaN   1.00    male                     not specify   \n",
       "4     23806             Amy   2.00  female              French Bulldog Mix   \n",
       "...     ...             ...    ...     ...                             ...   \n",
       "2932    118           Fodri  16.92    male                     not specify   \n",
       "2933    262           Csibi  17.33  female       Staffordshire Terrier Mix   \n",
       "2934      4          Konrád  18.17    male                     not specify   \n",
       "2935    141           Kölni  17.17    male                     not specify   \n",
       "2936    248          Kedves  16.08    male  German Shepherd Dog, Hound Mix   \n",
       "\n",
       "     date_found adoptable_from    posted            color    coat    size  \\\n",
       "0      12/10/19       12/11/19  12/11/19              red   short   small   \n",
       "1       12/1/19        12/1/19   12/9/19  black and white   short   small   \n",
       "2       12/8/19       12/23/19   12/8/19      saddle back   short  medium   \n",
       "3       12/8/19       12/23/19   12/8/19     yellow-brown  medium  medium   \n",
       "4      12/10/19       12/11/19  12/11/19            black   short   small   \n",
       "...         ...            ...       ...              ...     ...     ...   \n",
       "2932   12/25/03       12/25/03   3/22/06     yellow-brown   short  medium   \n",
       "2933    8/27/04        8/27/04    7/8/05          striped   short   large   \n",
       "2934    9/21/05        9/21/05  10/26/05            black   short  medium   \n",
       "2935   11/27/04       11/27/04    5/2/05  black and brown  medium  medium   \n",
       "2936     4/2/05         4/2/05   6/30/05            sable   short  medium   \n",
       "\n",
       "     neutered housebroken likes_people likes_children get_along_males  \\\n",
       "0          no         NaN          NaN            NaN             NaN   \n",
       "1          no         NaN          yes            yes             yes   \n",
       "2          no         NaN          NaN            NaN             NaN   \n",
       "3          no         NaN          NaN            NaN             NaN   \n",
       "4          no         NaN          NaN            NaN             NaN   \n",
       "...       ...         ...          ...            ...             ...   \n",
       "2932       no          no          yes            yes              no   \n",
       "2933      yes         NaN          NaN            NaN             NaN   \n",
       "2934       no         NaN          NaN            NaN             NaN   \n",
       "2935       no         NaN          NaN            NaN             NaN   \n",
       "2936      yes         NaN          yes            NaN             yes   \n",
       "\n",
       "     get_along_females get_along_cats               keep_in    main_color  \n",
       "0                  NaN            NaN                   NaN           red  \n",
       "1                  yes            yes                   NaN         black  \n",
       "2                  NaN            NaN                   NaN   saddle back  \n",
       "3                  NaN            NaN                   NaN  yellow-brown  \n",
       "4                  NaN            NaN                   NaN         black  \n",
       "...                ...            ...                   ...           ...  \n",
       "2932               yes             no                garden  yellow-brown  \n",
       "2933               NaN            NaN                   NaN       striped  \n",
       "2934               NaN            NaN                   NaN         black  \n",
       "2935               NaN            NaN                   NaN         black  \n",
       "2936               yes            NaN  both flat and garden         sable  \n",
       "\n",
       "[2937 rows x 20 columns]"
      ]
     },
     "execution_count": 59,
     "metadata": {},
     "output_type": "execute_result"
    }
   ],
   "source": [
    "dogs"
   ]
  },
  {
   "cell_type": "code",
   "execution_count": 70,
   "id": "af611549",
   "metadata": {},
   "outputs": [
    {
     "name": "stdout",
     "output_type": "stream",
     "text": [
      "Index(['large', 'medium', 'small'], dtype='object')\n"
     ]
    }
   ],
   "source": [
    "# Print out the current categories of the size variable\n",
    "\n",
    "# Convert size to category type first, since it appears to be an object type\n",
    "dogs['size'] = dogs['size'].astype(\"category\")\n",
    "\n",
    "# Now print out the categories\n",
    "print(dogs['size'].cat.categories)\n"
   ]
  },
  {
   "cell_type": "code",
   "execution_count": 71,
   "id": "9d1b75a9",
   "metadata": {},
   "outputs": [
    {
     "name": "stdout",
     "output_type": "stream",
     "text": [
      "Index(['large', 'medium', 'small'], dtype='object')\n"
     ]
    }
   ],
   "source": [
    "print(dogs[\"size\"].cat.categories)"
   ]
  },
  {
   "cell_type": "code",
   "execution_count": 72,
   "id": "f73abbe5",
   "metadata": {},
   "outputs": [],
   "source": [
    "\n",
    "# Reorder the categories using the list provided\n",
    "dogs[\"size\"] = dogs[\"size\"].cat.reorder_categories(\n",
    "\n",
    "new_categories = ['small', 'medium', 'large'])"
   ]
  },
  {
   "cell_type": "code",
   "execution_count": 73,
   "id": "c1135abf",
   "metadata": {},
   "outputs": [
    {
     "data": {
      "text/plain": [
       "Index(['small', 'medium', 'large'], dtype='object')"
      ]
     },
     "execution_count": 73,
     "metadata": {},
     "output_type": "execute_result"
    }
   ],
   "source": [
    "dogs['size'].cat.categories"
   ]
  }
 ],
 "metadata": {
  "kernelspec": {
   "display_name": "data-science-env",
   "language": "python",
   "name": "python3"
  },
  "language_info": {
   "codemirror_mode": {
    "name": "ipython",
    "version": 3
   },
   "file_extension": ".py",
   "mimetype": "text/x-python",
   "name": "python",
   "nbconvert_exporter": "python",
   "pygments_lexer": "ipython3",
   "version": "3.12.6"
  }
 },
 "nbformat": 4,
 "nbformat_minor": 5
}
