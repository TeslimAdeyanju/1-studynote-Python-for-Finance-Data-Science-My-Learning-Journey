{
 "cells": [
  {
   "cell_type": "code",
   "execution_count": 5,
   "metadata": {},
   "outputs": [],
   "source": [
    "class ISSI:\n",
    "    # class attributes\n",
    "    school = \"Isolo Senior Secondary School\"\n",
    "    location = \"Isolo, Lagos\"\n",
    "    motto = \"Knowledge is Power\"\n",
    "\n",
    "    # constructor\n",
    "    def __init__(self, member_no, mobile, name, day, month, location, profession):\n",
    "        self.member_no = member_no\n",
    "        self.mobile = mobile\n",
    "        self.name = name\n",
    "        self.day = day\n",
    "        self.month = month\n",
    "        self.location = location\n",
    "        self.profession = profession\n",
    "\n",
    "    # instance method\n",
    "def get_member_no(self):\n",
    "        return self.member_no + 1000\n",
    "        # Create an instance of ISSI\n",
    "        issi_instance1 = ISSI(1, \"+2347067087878\", \"Teslim Adeyanju\", 26, 10, \"UK\", \"Accountant\")\n",
    "        issi_instance2 = ISSI(2, \"+2348037540757\", \"Teniola Oluwakemi Kafayat\", 26, 5, \"Lagos\", \"Accountant\")\n",
    "\n",
    "        # Accessing class attributes\n",
    "        print(ISSI.school)\n",
    "        print(ISSI.location)\n",
    "        print(ISSI.motto)\n",
    "        print(issi_instance1.name)\n",
    "        \n",
    "        # Accessing instance attributes\n",
    "\n",
    "\n",
    "\n"
   ]
  }
 ],
 "metadata": {
  "kernelspec": {
   "display_name": "teslim_env",
   "language": "python",
   "name": "python3"
  },
  "language_info": {
   "codemirror_mode": {
    "name": "ipython",
    "version": 3
   },
   "file_extension": ".py",
   "mimetype": "text/x-python",
   "name": "python",
   "nbconvert_exporter": "python",
   "pygments_lexer": "ipython3",
   "version": "3.11.5"
  }
 },
 "nbformat": 4,
 "nbformat_minor": 2
}
