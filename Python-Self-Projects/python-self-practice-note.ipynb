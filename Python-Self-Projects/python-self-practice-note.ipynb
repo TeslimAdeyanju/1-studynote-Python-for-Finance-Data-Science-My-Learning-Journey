{
 "cells": [
  {
   "cell_type": "markdown",
   "metadata": {},
   "source": [
    "# General Pratice "
   ]
  },
  {
   "cell_type": "code",
   "execution_count": 1,
   "metadata": {},
   "outputs": [
    {
     "name": "stdout",
     "output_type": "stream",
     "text": [
      "Hello world\n",
      "Teslim\n",
      "Hello world\n",
      "Teslim\n"
     ]
    }
   ],
   "source": [
    "x = 10\n",
    "y= 0\n",
    "\n",
    "if x > 5:\n",
    "    print(\"Hello world\")\n",
    "    if y == 0:\n",
    "        print(\"Teslim\")\n",
    "else:\n",
    "    print(\"not coorect\")\n"
   ]
  },
  {
   "cell_type": "code",
   "execution_count": 1,
   "metadata": {},
   "outputs": [
    {
     "name": "stdout",
     "output_type": "stream",
     "text": [
      "nothing\n",
      "nothing\n"
     ]
    }
   ],
   "source": [
    "x = 10\n",
    "y =  5\n",
    "m = 3\n",
    "\n",
    "if x > y and y < m:\n",
    "    print(\"Hello\")\n",
    "else:\n",
    "    print(\"nothing\")\n"
   ]
  },
  {
   "cell_type": "code",
   "execution_count": 3,
   "metadata": {},
   "outputs": [
    {
     "name": "stdout",
     "output_type": "stream",
     "text": [
      "Hello\n",
      "Hello\n"
     ]
    }
   ],
   "source": [
    "# either of the conditions needs to be true\n",
    "x = 10\n",
    "y =  5\n",
    "m = 3\n",
    "\n",
    "if x > y or y < m:\n",
    "    print(\"Hello\")\n",
    "else:\n",
    "    print(\"nothing\")"
   ]
  },
  {
   "cell_type": "code",
   "execution_count": 5,
   "metadata": {},
   "outputs": [
    {
     "name": "stdout",
     "output_type": "stream",
     "text": [
      "X is greater than y\n",
      "X is greater than y\n"
     ]
    }
   ],
   "source": [
    "x = 30\n",
    "y = 20\n",
    "\n",
    "if x > y or x ==10: print(\"X is greater than y\")"
   ]
  },
  {
   "cell_type": "code",
   "execution_count": 9,
   "metadata": {},
   "outputs": [
    {
     "name": "stdout",
     "output_type": "stream",
     "text": [
      "h\n",
      "h\n"
     ]
    }
   ],
   "source": [
    "y = 7\n",
    "\n",
    "if y < 8: print(\"h\")"
   ]
  },
  {
   "cell_type": "code",
   "execution_count": 10,
   "metadata": {},
   "outputs": [
    {
     "name": "stdout",
     "output_type": "stream",
     "text": [
      "You are qualified for a draw\n",
      "You are qualified for a draw\n"
     ]
    }
   ],
   "source": [
    "mobile = 9\n",
    "\n",
    "if mobile > 8:\n",
    "    print(\"You are qualified for a draw\")\n",
    "else:\n",
    "    print(\"Your number is below the standard\")"
   ]
  },
  {
   "cell_type": "code",
   "execution_count": 11,
   "metadata": {},
   "outputs": [
    {
     "name": "stdout",
     "output_type": "stream",
     "text": [
      "You are amazing baby\n",
      "You are amazing baby\n"
     ]
    }
   ],
   "source": [
    "age = 1977\n",
    "\n",
    "if age ==1977:\n",
    "    print(\"You are amazing baby\")\n",
    "else:\n",
    "    print(\"you are just an orders\")"
   ]
  },
  {
   "cell_type": "code",
   "execution_count": 15,
   "metadata": {},
   "outputs": [
    {
     "name": "stdout",
     "output_type": "stream",
     "text": [
      "You are a gen\n",
      "You are a gen\n"
     ]
    }
   ],
   "source": [
    "year = 1977\n",
    "month = 'oct'\n",
    "\n",
    "if month == 'oct' or year > 1977:\n",
    "    print(\"You are a gen\")\n",
    "else:\n",
    "    print(\"Welcome\")"
   ]
  },
  {
   "cell_type": "code",
   "execution_count": 16,
   "metadata": {},
   "outputs": [
    {
     "name": "stdout",
     "output_type": "stream",
     "text": [
      "Welcome\n",
      "Welcome\n"
     ]
    }
   ],
   "source": [
    "year = 1977\n",
    "month = 'oct'\n",
    "\n",
    "if month == 'oct' and year > 1977:\n",
    "    print(\"You are a gen\")\n",
    "else:\n",
    "    print(\"Welcome\")"
   ]
  },
  {
   "cell_type": "code",
   "execution_count": 19,
   "metadata": {},
   "outputs": [
    {
     "name": "stdout",
     "output_type": "stream",
     "text": [
      "Welcome\n",
      "Welcome\n"
     ]
    }
   ],
   "source": [
    "print(\"You are a gen\") if month == 'oct' and year > 1977 else print(\"Welcome\")"
   ]
  },
  {
   "cell_type": "code",
   "execution_count": 20,
   "metadata": {},
   "outputs": [
    {
     "name": "stdout",
     "output_type": "stream",
     "text": [
      "You are a gen\n",
      "You are a gen\n"
     ]
    }
   ],
   "source": [
    "year = 1977\n",
    "month = 'oct'\n",
    "\n",
    "if month == 'oct' or year > 1977:\n",
    "    print(\"You are a gen\")\n",
    "else:\n",
    "    print(\"Welcome\")"
   ]
  },
  {
   "cell_type": "code",
   "execution_count": 21,
   "metadata": {},
   "outputs": [
    {
     "name": "stdout",
     "output_type": "stream",
     "text": [
      "You are a gen\n",
      "You are a gen\n"
     ]
    }
   ],
   "source": [
    "print(\"You are a gen\") if month == 'oct' or year > 1977 else print(\"Welcome\")"
   ]
  },
  {
   "cell_type": "code",
   "execution_count": 24,
   "metadata": {},
   "outputs": [
    {
     "name": "stdout",
     "output_type": "stream",
     "text": [
      "Your name is Teslim, and you are 30 years old.\n",
      "You are less than 30 years old.\n",
      "Your name is Teslim, and you are 30 years old.\n",
      "You are less than 30 years old.\n"
     ]
    }
   ],
   "source": [
    "name = \"Teslim\"\n",
    "age = 30\n",
    "\n",
    "if name == \"Teslim\" and age == 30:\n",
    "    print(\"Your name is Teslim, and you are 30 years old.\")\n",
    "    if age > 24:\n",
    "        print(\"You are not less than 30 years old.\")\n",
    "    else:  \n",
    "        print(\"Re-apply\")\n",
    "else:\n",
    "    print(\"Kindly Reconfirm The Information.\")"
   ]
  },
  {
   "cell_type": "code",
   "execution_count": 31,
   "metadata": {},
   "outputs": [
    {
     "name": "stdout",
     "output_type": "stream",
     "text": [
      "X is still greater than this\n",
      "X is less than 200\n",
      "check this if there is no mistake\n",
      "X is still greater than this\n",
      "X is less than 200\n",
      "check this if there is no mistake\n"
     ]
    }
   ],
   "source": [
    "x = 100\n",
    "\n",
    "# first level \n",
    "if x > 80:\n",
    "    print(\"X is still greater than this\")\n",
    "    \n",
    "    # nested statement\n",
    "    if x > 200:\n",
    "        print(\"X is greater than 200\")\n",
    "    else:\n",
    "        print(\"X is less than 200\")\n",
    "\n",
    "        # Nested statement\n",
    "        if x != 100:\n",
    "            print(\"X is equals to 100\")\n",
    "        else:\n",
    "            print(\"check this if there is no mistake\")\n",
    "else:\n",
    "    print(\"none of the above is correct\")"
   ]
  },
  {
   "cell_type": "code",
   "execution_count": 32,
   "metadata": {},
   "outputs": [
    {
     "name": "stdout",
     "output_type": "stream",
     "text": [
      "none of the above is correct\n",
      "none of the above is correct\n"
     ]
    }
   ],
   "source": [
    "x = 100\n",
    "\n",
    "# first level \n",
    "if x < 80:\n",
    "    print(\"X is still greater than this\")\n",
    "    \n",
    "    # nested statement\n",
    "    if x > 200:\n",
    "        print(\"X is greater than 200\")\n",
    "    else:\n",
    "        print(\"X is less than 200\")\n",
    "\n",
    "        # Nested statement\n",
    "        if x != 100:\n",
    "            print(\"X is equals to 100\")\n",
    "        else:\n",
    "            print(\"check this if there is no mistake\")\n",
    "else:\n",
    "    print(\"none of the above is correct\")"
   ]
  },
  {
   "cell_type": "code",
   "execution_count": 44,
   "metadata": {},
   "outputs": [
    {
     "name": "stdout",
     "output_type": "stream",
     "text": [
      "fail\n",
      "fail\n"
     ]
    }
   ],
   "source": [
    "mark = 2\n",
    "\n",
    "if mark >= 90:\n",
    "    print(\"Excellence\")\n",
    "\n",
    "elif mark >= 50:\n",
    "    print(\"Average\")\n",
    "\n",
    "elif mark >= 30:\n",
    "    print(\"poor\")\n",
    "\n",
    "else:\n",
    "    print('fail')\n",
    "\n"
   ]
  },
  {
   "cell_type": "code",
   "execution_count": 49,
   "metadata": {},
   "outputs": [
    {
     "name": "stdout",
     "output_type": "stream",
     "text": [
      "You are living below average\n",
      "You are living below average\n"
     ]
    }
   ],
   "source": [
    "salary \n",
    "\n",
    "if salary > 100000:\n",
    "    print(\"You are above average income\")\n",
    "\n",
    "elif salary < 10000:\n",
    "    print('You are living below average')\n",
    "\n",
    "else:\n",
    "    print(\"No information about wages\")"
   ]
  },
  {
   "cell_type": "code",
   "execution_count": 51,
   "metadata": {},
   "outputs": [
    {
     "name": "stdout",
     "output_type": "stream",
     "text": [
      "y is equals m\n",
      "y is equals m\n"
     ]
    }
   ],
   "source": [
    "x = 30\n",
    "y = 10\n",
    "m = 10\n",
    "\n",
    "if x == y:\n",
    "    print(\"X is equals y\")\n",
    "elif y == m:\n",
    "    print(\"y is equals m\")\n",
    "\n",
    "elif x > y:\n",
    "    print(\"x is greater than y\")"
   ]
  },
  {
   "cell_type": "code",
   "execution_count": 53,
   "metadata": {},
   "outputs": [
    {
     "name": "stdout",
     "output_type": "stream",
     "text": [
      "This is the house \n",
      "This is the house \n"
     ]
    }
   ],
   "source": [
    "house = 57\n",
    "\n",
    "if house == 57:\n",
    "    print(\"This is the house \")\n",
    "else: \n",
    "    print(\"You are in a wrong plcae\")"
   ]
  },
  {
   "cell_type": "code",
   "execution_count": 57,
   "metadata": {},
   "outputs": [
    {
     "name": "stdout",
     "output_type": "stream",
     "text": [
      "Where are you?\n",
      "Where are you?\n"
     ]
    }
   ],
   "source": [
    "location = 57\n",
    "\n",
    "if location == 'Auto Shop':\n",
    "    print('Welcome to the Auto Shop!')\n",
    "elif location == 'Bank':\n",
    "    print('Welcome to the bank!')\n",
    "else:\n",
    "    print('Where are you?')\n",
    "\n"
   ]
  },
  {
   "cell_type": "code",
   "execution_count": 1,
   "metadata": {},
   "outputs": [],
   "source": [
    "x = 5\n",
    "y = 10\n",
    "\n",
    "\n",
    "if x > y and x > 0:\n",
    "    print(\"x is greater than y\")"
   ]
  },
  {
   "cell_type": "code",
   "execution_count": 6,
   "metadata": {},
   "outputs": [
    {
     "name": "stdout",
     "output_type": "stream",
     "text": [
      "a\n",
      "b\n",
      "c\n",
      "d\n",
      "5\n",
      "a\n",
      "b\n",
      "c\n",
      "d\n",
      "5\n"
     ]
    }
   ],
   "source": [
    "list = ['a', 'b','c', 'd' ,5]\n",
    "\n",
    "for i in list:\n",
    "    print(i)"
   ]
  },
  {
   "cell_type": "code",
   "execution_count": 16,
   "metadata": {},
   "outputs": [
    {
     "name": "stdout",
     "output_type": "stream",
     "text": [
      "The show of  2 is 11\n",
      "The show of  4 is 11\n",
      "The show of  5 is 11\n",
      "The show of  6 is 11\n",
      "The show of  2 is 11\n",
      "The show of  4 is 11\n",
      "The show of  5 is 11\n",
      "The show of  6 is 11\n"
     ]
    }
   ],
   "source": [
    "list = [2,4,5,6]\n",
    "\n",
    "for m in list:\n",
    "    output = 5 + i\n",
    "    print(\"The show of \", m , \"is\", output)"
   ]
  },
  {
   "cell_type": "code",
   "execution_count": 20,
   "metadata": {},
   "outputs": [
    {
     "name": "stdout",
     "output_type": "stream",
     "text": [
      "Teslim\n",
      "Faizah\n",
      "Iyabo\n",
      "Fahrid\n",
      "Teslim\n",
      "Faizah\n",
      "Iyabo\n",
      "Fahrid\n"
     ]
    }
   ],
   "source": [
    "Names = ['Teslim', 'Faizah', 'Iyabo', 'Fahrid']\n",
    "\n",
    "for name in Names:\n",
    "    print(name)"
   ]
  },
  {
   "cell_type": "code",
   "execution_count": 36,
   "metadata": {},
   "outputs": [
    {
     "name": "stdout",
     "output_type": "stream",
     "text": [
      "772\n",
      "776\n",
      "782\n",
      "790\n",
      "800\n",
      "812\n",
      "826\n",
      "842\n",
      "860\n",
      "880\n",
      "772\n",
      "776\n",
      "782\n",
      "790\n",
      "800\n",
      "812\n",
      "826\n",
      "842\n",
      "860\n",
      "880\n"
     ]
    }
   ],
   "source": [
    "\n",
    "\n",
    "for x in range(2, 22,2):\n",
    "    sum = sum + x\n",
    "    print(sum)"
   ]
  },
  {
   "cell_type": "code",
   "execution_count": 26,
   "metadata": {},
   "outputs": [
    {
     "name": "stdout",
     "output_type": "stream",
     "text": [
      "110\n",
      "110\n"
     ]
    }
   ],
   "source": [
    "# initiate a statement\n",
    "sum = 0\n",
    "\n",
    "# Iterative Statement\n",
    "for i in range(2, 22, 2):\n",
    "    sum = sum + i\n",
    "print(sum)"
   ]
  },
  {
   "cell_type": "code",
   "execution_count": 42,
   "metadata": {},
   "outputs": [
    {
     "name": "stdout",
     "output_type": "stream",
     "text": [
      "101\n",
      "102\n",
      "103\n",
      "104\n",
      "105\n",
      "106\n",
      "107\n",
      "108\n",
      "109\n",
      "101\n",
      "102\n",
      "103\n",
      "104\n",
      "105\n",
      "106\n",
      "107\n",
      "108\n",
      "109\n"
     ]
    }
   ],
   "source": [
    "result = 0\n",
    "\n",
    "for i in range(1, 10):\n",
    "    result = i + 100\n",
    "    print(result)"
   ]
  },
  {
   "cell_type": "code",
   "execution_count": 52,
   "metadata": {},
   "outputs": [
    {
     "name": "stdout",
     "output_type": "stream",
     "text": [
      "10\n",
      "9\n",
      "8\n",
      "7\n",
      "6\n",
      "5\n",
      "4\n",
      "3\n",
      "2\n",
      "1\n",
      "10\n",
      "9\n",
      "8\n",
      "7\n",
      "6\n",
      "5\n",
      "4\n",
      "3\n",
      "2\n",
      "1\n"
     ]
    }
   ],
   "source": [
    "for i in range(10, 0, -1):\n",
    "    print(i)"
   ]
  },
  {
   "cell_type": "code",
   "execution_count": 50,
   "metadata": {},
   "outputs": [
    {
     "name": "stdout",
     "output_type": "stream",
     "text": [
      "2\n",
      "3\n",
      "4\n",
      "5\n",
      "6\n",
      "7\n",
      "8\n",
      "9\n",
      "2\n",
      "3\n",
      "4\n",
      "5\n",
      "6\n",
      "7\n",
      "8\n",
      "9\n"
     ]
    }
   ],
   "source": [
    "for i in range(2, 10, 1):\n",
    "    print(i)"
   ]
  },
  {
   "cell_type": "code",
   "execution_count": 53,
   "metadata": {},
   "outputs": [
    {
     "name": "stdout",
     "output_type": "stream",
     "text": [
      "50\n",
      "45\n",
      "40\n",
      "35\n",
      "30\n",
      "25\n",
      "20\n",
      "15\n",
      "10\n",
      "50\n",
      "45\n",
      "40\n",
      "35\n",
      "30\n",
      "25\n",
      "20\n",
      "15\n",
      "10\n"
     ]
    }
   ],
   "source": [
    "for x in range(50, 5, -5):\n",
    "    print(x)"
   ]
  },
  {
   "cell_type": "code",
   "execution_count": 56,
   "metadata": {},
   "outputs": [
    {
     "name": "stdout",
     "output_type": "stream",
     "text": [
      "45\n",
      "40\n",
      "35\n",
      "30\n",
      "25\n",
      "20\n",
      "15\n",
      "10\n",
      "5\n",
      "45\n",
      "40\n",
      "35\n",
      "30\n",
      "25\n",
      "20\n",
      "15\n",
      "10\n",
      "5\n"
     ]
    }
   ],
   "source": [
    "for x in reversed(range(5,50, 5)):\n",
    "    print(x)"
   ]
  },
  {
   "cell_type": "code",
   "execution_count": 61,
   "metadata": {},
   "outputs": [
    {
     "name": "stdout",
     "output_type": "stream",
     "text": [
      "Check the -5\n",
      " The 2 is greater than 0\n",
      " The 3 is greater than 0\n",
      "Check the 0\n",
      "Check the -5\n",
      " The 2 is greater than 0\n",
      " The 3 is greater than 0\n",
      "Check the 0\n"
     ]
    }
   ],
   "source": [
    "x = [-5,2,3, 0]\n",
    "\n",
    "for i in x:\n",
    "    if i > 0:\n",
    "        print(\" The\", i, \"is greater than\", str(0))\n",
    "    else:\n",
    "        print(\"Check the\",i)"
   ]
  },
  {
   "cell_type": "markdown",
   "metadata": {},
   "source": [
    "### Accessing index with loop "
   ]
  },
  {
   "cell_type": "code",
   "execution_count": 5,
   "metadata": {},
   "outputs": [
    {
     "name": "stdout",
     "output_type": "stream",
     "text": [
      "Numbers 0 :  2\n",
      "Numbers 1 :  4\n",
      "Numbers 2 :  5\n",
      "Numbers 3 :  6\n"
     ]
    }
   ],
   "source": [
    "x = [2,4,5,6]\n",
    "\n",
    "for index, values in enumerate(x):\n",
    "    print(f'Numbers {index} : ', values)"
   ]
  },
  {
   "cell_type": "code",
   "execution_count": 6,
   "metadata": {},
   "outputs": [
    {
     "name": "stdout",
     "output_type": "stream",
     "text": [
      "Numbers 0 :  1\n",
      "Numbers 1 :  2\n",
      "Numbers 2 :  3\n",
      "Numbers 3 :  4\n",
      "Numbers 4 :  5\n"
     ]
    }
   ],
   "source": [
    "y = [1,2,3,4,5]\n",
    "\n",
    "for index, values in enumerate(y):\n",
    "    print(f'Numbers {index} : ', values)"
   ]
  },
  {
   "cell_type": "code",
   "execution_count": 7,
   "metadata": {},
   "outputs": [
    {
     "data": {
      "text/plain": [
       "9"
      ]
     },
     "execution_count": 7,
     "metadata": {},
     "output_type": "execute_result"
    }
   ],
   "source": [
    "details = [2,4,5,6,6,7,8,9,10]\n",
    "\n",
    "len(details)"
   ]
  },
  {
   "cell_type": "code",
   "execution_count": 8,
   "metadata": {},
   "outputs": [
    {
     "data": {
      "text/plain": [
       "range(0, 9)"
      ]
     },
     "execution_count": 8,
     "metadata": {},
     "output_type": "execute_result"
    }
   ],
   "source": [
    "range(len(details))"
   ]
  },
  {
   "cell_type": "code",
   "execution_count": 9,
   "metadata": {},
   "outputs": [
    {
     "name": "stdout",
     "output_type": "stream",
     "text": [
      "0\n",
      "1\n",
      "2\n",
      "3\n",
      "4\n",
      "5\n",
      "6\n",
      "7\n",
      "8\n"
     ]
    }
   ],
   "source": [
    "for i in range(len(details)):\n",
    "    print(i)"
   ]
  },
  {
   "cell_type": "code",
   "execution_count": 10,
   "metadata": {},
   "outputs": [
    {
     "name": "stdout",
     "output_type": "stream",
     "text": [
      "2\n",
      "3\n",
      "4\n",
      "5\n",
      "6\n",
      "7\n",
      "8\n",
      "9\n"
     ]
    }
   ],
   "source": [
    "a = [1,2,3,4,5,6,7,8,9,10]\n",
    "\n",
    "for i in range(2, len(a)):\n",
    "    print(i)"
   ]
  },
  {
   "cell_type": "code",
   "execution_count": null,
   "metadata": {},
   "outputs": [],
   "source": [
    "a = [1,2,3,4,5,6,7,8,9,10]\n",
    "\n"
   ]
  },
  {
   "cell_type": "code",
   "execution_count": 1,
   "metadata": {},
   "outputs": [
    {
     "name": "stdout",
     "output_type": "stream",
     "text": [
      "Hello World\n"
     ]
    }
   ],
   "source": [
    "def shout():\n",
    "    print(\"Hello World\")\n",
    "\n",
    "# call the function\n",
    "shout()"
   ]
  },
  {
   "cell_type": "code",
   "execution_count": 1,
   "metadata": {},
   "outputs": [
    {
     "name": "stdout",
     "output_type": "stream",
     "text": [
      "Happy New Year and More Blessing\n",
      "Happy New Year and More Blessing\n"
     ]
    }
   ],
   "source": [
    "def new_year_message():\n",
    "    wish = \"Happy New Year and More Blessing\"\n",
    "    print(wish)\n",
    "\n"
   ]
  },
  {
   "cell_type": "code",
   "execution_count": 3,
   "metadata": {},
   "outputs": [
    {
     "name": "stdout",
     "output_type": "stream",
     "text": [
      "Happy New Year and More Blessing\n",
      "Happy New Year and More Blessing\n"
     ]
    }
   ],
   "source": [
    "# call the function \n",
    "new_year_message()\n"
   ]
  },
  {
   "cell_type": "code",
   "execution_count": 11,
   "metadata": {},
   "outputs": [],
   "source": [
    "def message(president):\n",
    "    wish = president  + \"Happy New Year and More Blessing\"\n",
    "    return \"a\"\n",
    "\n",
    "\n",
    "a = "
   ]
  },
  {
   "cell_type": "code",
   "execution_count": 13,
   "metadata": {},
   "outputs": [
    {
     "name": "stdout",
     "output_type": "stream",
     "text": [
      "isolowelcome\n",
      "isolowelcome\n"
     ]
    }
   ],
   "source": [
    "def name_school(issi):\n",
    "    message = issi + \"welcome\"\n",
    "    return message\n",
    "\n",
    "a = name_school(\"isolo\")\n",
    "print(a)"
   ]
  },
  {
   "cell_type": "code",
   "execution_count": 1,
   "metadata": {},
   "outputs": [
    {
     "name": "stdout",
     "output_type": "stream",
     "text": [
      "index 0 number 1\n",
      "index 1 number 2\n",
      "index 2 number 3\n",
      "index 3 number 4\n",
      "index 0 number 1\n",
      "index 1 number 2\n",
      "index 2 number 3\n",
      "index 3 number 4\n"
     ]
    }
   ],
   "source": [
    "name = [1,2,3,4]\n",
    "\n",
    "for a, b in enumerate(name):\n",
    "    print(f\"index\",a, \"number\", b)\n"
   ]
  },
  {
   "cell_type": "code",
   "execution_count": 3,
   "metadata": {},
   "outputs": [
    {
     "name": "stdout",
     "output_type": "stream",
     "text": [
      "2\n",
      "4\n",
      "t\n",
      "2\n",
      "4\n",
      "t\n"
     ]
    }
   ],
   "source": [
    "tup = (2,4,\"t\")\n",
    "\n",
    "for item in tup:\n",
    "    print(item)"
   ]
  },
  {
   "cell_type": "code",
   "execution_count": 10,
   "metadata": {},
   "outputs": [
    {
     "name": "stdout",
     "output_type": "stream",
     "text": [
      "name1\n",
      "name2\n",
      "name3\n",
      "name1\n",
      "name2\n",
      "name3\n"
     ]
    }
   ],
   "source": [
    "members = {\"name1\": \"Teslim\", \"name2\": \"Olumide\", \"name3\": \"iyabo\"}\n",
    "\n",
    "for a, b in members.items():\n",
    "    print(a)"
   ]
  },
  {
   "cell_type": "code",
   "execution_count": null,
   "metadata": {},
   "outputs": [],
   "source": []
  },
  {
   "cell_type": "code",
   "execution_count": 5,
   "metadata": {},
   "outputs": [],
   "source": [
    "\n",
    "list = ['a', 'b','c', 'd' ,'e', 'f', 'g', 'h', 'm']"
   ]
  },
  {
   "cell_type": "code",
   "execution_count": 6,
   "metadata": {},
   "outputs": [
    {
     "data": {
      "text/plain": [
       "9"
      ]
     },
     "execution_count": 6,
     "metadata": {},
     "output_type": "execute_result"
    }
   ],
   "source": [
    "len(list)"
   ]
  },
  {
   "cell_type": "code",
   "execution_count": 18,
   "metadata": {},
   "outputs": [
    {
     "data": {
      "text/plain": [
       "['a', 'b', 'c', 'd', 'e', 'f', 'g', 'h', 'm']"
      ]
     },
     "execution_count": 18,
     "metadata": {},
     "output_type": "execute_result"
    }
   ],
   "source": [
    "list[:: 1]"
   ]
  },
  {
   "cell_type": "code",
   "execution_count": 19,
   "metadata": {},
   "outputs": [
    {
     "data": {
      "text/plain": [
       "['m', 'h', 'g', 'f', 'e', 'd', 'c', 'b', 'a']"
      ]
     },
     "execution_count": 19,
     "metadata": {},
     "output_type": "execute_result"
    }
   ],
   "source": [
    "list[ : : -1]"
   ]
  },
  {
   "cell_type": "code",
   "execution_count": 20,
   "metadata": {},
   "outputs": [
    {
     "data": {
      "text/plain": [
       "['m', 'c']"
      ]
     },
     "execution_count": 20,
     "metadata": {},
     "output_type": "execute_result"
    }
   ],
   "source": [
    "list[: : -6]"
   ]
  },
  {
   "cell_type": "code",
   "execution_count": 11,
   "metadata": {},
   "outputs": [
    {
     "data": {
      "text/plain": [
       "['c', 'd', 'e']"
      ]
     },
     "execution_count": 11,
     "metadata": {},
     "output_type": "execute_result"
    }
   ],
   "source": [
    "list[2:5]"
   ]
  },
  {
   "cell_type": "code",
   "execution_count": 13,
   "metadata": {},
   "outputs": [
    {
     "data": {
      "text/plain": [
       "['a', 'b', 'c', 'd', 'e']"
      ]
     },
     "execution_count": 13,
     "metadata": {},
     "output_type": "execute_result"
    }
   ],
   "source": [
    "list[:5]"
   ]
  },
  {
   "cell_type": "code",
   "execution_count": 14,
   "metadata": {},
   "outputs": [
    {
     "data": {
      "text/plain": [
       "['d', 'e', 'f', 'g', 'h', 'm']"
      ]
     },
     "execution_count": 14,
     "metadata": {},
     "output_type": "execute_result"
    }
   ],
   "source": [
    "list[3:]"
   ]
  },
  {
   "cell_type": "code",
   "execution_count": 15,
   "metadata": {},
   "outputs": [
    {
     "data": {
      "text/plain": [
       "'f'"
      ]
     },
     "execution_count": 15,
     "metadata": {},
     "output_type": "execute_result"
    }
   ],
   "source": [
    "list[5]"
   ]
  },
  {
   "cell_type": "code",
   "execution_count": 21,
   "metadata": {},
   "outputs": [
    {
     "name": "stdout",
     "output_type": "stream",
     "text": [
      "['a', 'b', 'c', 'd', 'e', 'f', 'g', 'h', 'm', 'Teslim']\n"
     ]
    }
   ],
   "source": [
    "list.append(\"Teslim\")\n",
    "print(list)"
   ]
  },
  {
   "cell_type": "code",
   "execution_count": 30,
   "metadata": {},
   "outputs": [],
   "source": [
    "my_list = [5, 8, 'Tom', 7.50]\n"
   ]
  },
  {
   "cell_type": "code",
   "execution_count": 32,
   "metadata": {},
   "outputs": [
    {
     "name": "stdout",
     "output_type": "stream",
     "text": [
      "[1, 2, 3, 4, 5]\n"
     ]
    }
   ],
   "source": [
    "new_list = [1, 2, 3, 4, 5]\n",
    "print(new_list)"
   ]
  },
  {
   "cell_type": "code",
   "execution_count": 7,
   "metadata": {},
   "outputs": [
    {
     "name": "stdout",
     "output_type": "stream",
     "text": [
      "[4, 5, 6]\n"
     ]
    }
   ],
   "source": [
    "my_list1 = list((1, 2, 3))  # [1, 2, 3]\n",
    "my_list2 = list([4, 5, 6])  # [4, 5, 6][1, 2, 3]\n",
    "\n",
    "print (my_list)"
   ]
  },
  {
   "cell_type": "code",
   "execution_count": 9,
   "metadata": {},
   "outputs": [
    {
     "name": "stdout",
     "output_type": "stream",
     "text": [
      "<class 'list'>\n",
      "<class 'list'>\n"
     ]
    }
   ],
   "source": [
    "print(type(my_list1))\n",
    "\n",
    "print(type(my_list2))\n"
   ]
  },
  {
   "cell_type": "code",
   "execution_count": 10,
   "metadata": {},
   "outputs": [
    {
     "name": "stdout",
     "output_type": "stream",
     "text": [
      "[5, 8, 25, 'Tom', 7.5]\n",
      "[5, 8, 25, [25, 50, 75], 'Tom', 7.5]\n"
     ]
    }
   ],
   "source": [
    "my_list = list([5, 8, 'Tom', 7.50])\n",
    "\n",
    "# Using insert()\n",
    "# insert 25 at position 2\n",
    "my_list.insert(2, 25)\n",
    "print(my_list)\n",
    "# Output [5, 8, 25, 'Tom', 7.5]\n",
    "\n",
    "# insert nested list at at position 3\n",
    "my_list.insert(3, [25, 50, 75])\n",
    "print(my_list)\n",
    "# Output [5, 8, 25, [25, 50, 75], 'Tom', 7.5]"
   ]
  },
  {
   "cell_type": "code",
   "execution_count": 12,
   "metadata": {},
   "outputs": [],
   "source": [
    "name = list(['Teslim', 'Faizah', 'Iyabo', 'Fahrid'])"
   ]
  },
  {
   "cell_type": "code",
   "execution_count": 16,
   "metadata": {},
   "outputs": [
    {
     "name": "stdout",
     "output_type": "stream",
     "text": [
      "['Teslim', 'Faizah', 'Iyabo', 'Fahrid', 'Funke', 'Funke', 'Funke', 'Funke']\n"
     ]
    }
   ],
   "source": [
    "name.append('Funke')\n",
    "print(name)"
   ]
  },
  {
   "cell_type": "code",
   "execution_count": 32,
   "metadata": {},
   "outputs": [],
   "source": [
    "address = list(['Isolo', 'Ikeja', 'Oshodi', 'Surulere'])"
   ]
  },
  {
   "cell_type": "code",
   "execution_count": 38,
   "metadata": {},
   "outputs": [],
   "source": [
    "A = address.append(['Lekki', 'Ajah'])"
   ]
  },
  {
   "cell_type": "code",
   "execution_count": 39,
   "metadata": {},
   "outputs": [
    {
     "name": "stdout",
     "output_type": "stream",
     "text": [
      "None\n"
     ]
    }
   ],
   "source": [
    "print(A)"
   ]
  },
  {
   "cell_type": "code",
   "execution_count": 42,
   "metadata": {},
   "outputs": [
    {
     "name": "stdout",
     "output_type": "stream",
     "text": [
      "['Isolo', 'Ikeja', 'Oshodi', 'Surulere', 'Lekki', 'Ajah', 'Lekki', 'Ajah', 'Lekki', 'Ajah']\n"
     ]
    }
   ],
   "source": [
    "address.extend(['Lekki', 'Ajah'])\n",
    "print(address)"
   ]
  },
  {
   "cell_type": "code",
   "execution_count": 48,
   "metadata": {},
   "outputs": [
    {
     "data": {
      "text/plain": [
       "['Ikeja', 'Surulere', 'Ajah', 'Ajah', 'Ajah']"
      ]
     },
     "execution_count": 48,
     "metadata": {},
     "output_type": "execute_result"
    }
   ],
   "source": [
    "address"
   ]
  },
  {
   "cell_type": "code",
   "execution_count": 49,
   "metadata": {},
   "outputs": [
    {
     "name": "stdout",
     "output_type": "stream",
     "text": [
      "['Ikeja', 'Surulere']\n"
     ]
    }
   ],
   "source": [
    "for i in address:\n",
    "    address.remove(\"Ajah\")\n",
    "    \n",
    "print(address)"
   ]
  },
  {
   "cell_type": "code",
   "execution_count": null,
   "metadata": {},
   "outputs": [],
   "source": [
    "address = list(['Isolo', 'Ikeja', 'Oshodi', 'Surulere'])"
   ]
  },
  {
   "cell_type": "code",
   "execution_count": 56,
   "metadata": {},
   "outputs": [
    {
     "name": "stdout",
     "output_type": "stream",
     "text": [
      "[4, 8, 12]\n"
     ]
    }
   ],
   "source": [
    "my_list = list([6, 4, 6, 6, 8, 12])\n",
    "\n",
    "for item in my_list:\n",
    "    my_list.remove(6)\n",
    "\n",
    "print(my_list)\n",
    "# Output [4, 8, 12]"
   ]
  },
  {
   "cell_type": "code",
   "execution_count": 57,
   "metadata": {},
   "outputs": [
    {
     "name": "stdout",
     "output_type": "stream",
     "text": [
      "6 is not in the list\n"
     ]
    }
   ],
   "source": [
    "if 6 in address:\n",
    "\tprint(address.index(6))\n",
    "else:\n",
    "\tprint(\"6 is not in the list\")"
   ]
  },
  {
   "cell_type": "code",
   "execution_count": 59,
   "metadata": {},
   "outputs": [
    {
     "data": {
      "text/plain": [
       "1"
      ]
     },
     "execution_count": 59,
     "metadata": {},
     "output_type": "execute_result"
    }
   ],
   "source": [
    "my_list.index(8)"
   ]
  },
  {
   "cell_type": "code",
   "execution_count": 65,
   "metadata": {},
   "outputs": [],
   "source": [
    "country = list(['Nigeria', 'Ghana', 'Togo', 'Benin'])\n",
    "\n",
    "new_country = country\n",
    "\n",
    "\n",
    "new_country.append('South Africa')\n"
   ]
  },
  {
   "cell_type": "code",
   "execution_count": 61,
   "metadata": {},
   "outputs": [
    {
     "name": "stdout",
     "output_type": "stream",
     "text": [
      "['Nigeria', 'Ghana', 'Togo', 'Benin', 'South Africa']\n"
     ]
    }
   ],
   "source": [
    "print(country)"
   ]
  },
  {
   "cell_type": "code",
   "execution_count": 62,
   "metadata": {},
   "outputs": [
    {
     "name": "stdout",
     "output_type": "stream",
     "text": [
      "['Nigeria', 'Ghana', 'Togo', 'Benin', 'South Africa']\n"
     ]
    }
   ],
   "source": [
    "print(new_country)"
   ]
  },
  {
   "cell_type": "code",
   "execution_count": 64,
   "metadata": {},
   "outputs": [
    {
     "name": "stdout",
     "output_type": "stream",
     "text": [
      "<class 'list'>\n"
     ]
    }
   ],
   "source": [
    "# Using list constructor\n",
    "my_list1 = list((1, 2, 3))\n",
    "\n",
    "print(type(my_list1))\n",
    "# Output [1, 2, 3]"
   ]
  },
  {
   "cell_type": "code",
   "execution_count": 3,
   "metadata": {},
   "outputs": [],
   "source": [
    "def raise_to_power(val1, val2):\n",
    "    value = val1*val2\n",
    "    return value\n",
    "\n",
    "# calling the function \n",
    "a = raise_to_power(3,5)"
   ]
  },
  {
   "cell_type": "code",
   "execution_count": 4,
   "metadata": {},
   "outputs": [
    {
     "name": "stdout",
     "output_type": "stream",
     "text": [
      "15\n",
      "15\n"
     ]
    }
   ],
   "source": [
    "print(a)"
   ]
  },
  {
   "cell_type": "code",
   "execution_count": 7,
   "metadata": {},
   "outputs": [],
   "source": [
    "# raise a function for a tuple \n",
    "def raise_both(value1, value2):\n",
    "    new_value1 = value1**value2\n",
    "    new_value2 = value2**value1\n",
    "\n",
    "    new_tuple = (new_value1, new_value2)\n",
    "\n",
    "    return new_tuple\n"
   ]
  },
  {
   "cell_type": "code",
   "execution_count": 8,
   "metadata": {},
   "outputs": [
    {
     "data": {
      "text/plain": [
       "(27, 27)"
      ]
     },
     "execution_count": null,
     "metadata": {},
     "output_type": "execute_result"
    }
   ],
   "source": [
    "raise_both(3,3)"
   ]
  },
  {
   "cell_type": "code",
   "execution_count": 10,
   "metadata": {},
   "outputs": [
    {
     "name": "stdout",
     "output_type": "stream",
     "text": [
      "('congratulations!!!', 'you!!!')\n",
      "('congratulations!!!', 'you!!!')\n"
     ]
    }
   ],
   "source": [
    "# Define shout with parameters word1 and word2\n",
    "def shout(word1, word2):\n",
    "    \"\"\"Concatenate strings with three exclamation marks\"\"\"\n",
    "    # Concatenate word1 with '!!!': shout1\n",
    "    shout1 = word1 + '!!!'\n",
    "    \n",
    "    # Concatenate word2 with '!!!': shout2\n",
    "    shout2 = word2 + '!!!'\n",
    "    \n",
    "    # Concatenate shout1 with shout2: new_shout\n",
    "    new_shout = (shout1, shout2)\n",
    "\n",
    "    # Return new_shout\n",
    "    return new_shout\n",
    "\n",
    "# Pass 'congratulations' and 'you' to shout(): yell\n",
    "yell= shout('congratulations','you' )\n",
    "\n",
    "# Print yell\n",
    "print(yell)"
   ]
  },
  {
   "cell_type": "code",
   "execution_count": 11,
   "metadata": {},
   "outputs": [
    {
     "name": "stdout",
     "output_type": "stream",
     "text": [
      "congratulations!!!you!!!\n",
      "congratulations!!!you!!!\n"
     ]
    }
   ],
   "source": [
    "# Define shout with parameters word1 and word2\n",
    "def shout(word1, word2):\n",
    "    \"\"\"Concatenate strings with three exclamation marks\"\"\"\n",
    "    # Concatenate word1 with '!!!': shout1\n",
    "    shout1 = word1 + '!!!'\n",
    "    \n",
    "    # Concatenate word2 with '!!!': shout2\n",
    "    shout2 = word2 + '!!!'\n",
    "    \n",
    "    # Concatenate shout1 with shout2: new_shout\n",
    "    new_shout = shout1 + shout2\n",
    "\n",
    "    # Return new_shout\n",
    "    return new_shout\n",
    "\n",
    "# Pass 'congratulations' and 'you' to shout(): yell\n",
    "yell= shout('congratulations','you' )\n",
    "\n",
    "# Print yell\n",
    "print(yell)"
   ]
  },
  {
   "cell_type": "code",
   "execution_count": 12,
   "metadata": {},
   "outputs": [],
   "source": [
    "num = (3,4,5)"
   ]
  },
  {
   "cell_type": "code",
   "execution_count": 13,
   "metadata": {},
   "outputs": [],
   "source": [
    "a, b, c = num"
   ]
  },
  {
   "cell_type": "code",
   "execution_count": 14,
   "metadata": {},
   "outputs": [
    {
     "name": "stdout",
     "output_type": "stream",
     "text": [
      "3\n",
      "3\n"
     ]
    }
   ],
   "source": [
    "print(a)"
   ]
  },
  {
   "cell_type": "code",
   "execution_count": 15,
   "metadata": {},
   "outputs": [],
   "source": [
    "a  = 6"
   ]
  },
  {
   "cell_type": "code",
   "execution_count": 16,
   "metadata": {},
   "outputs": [
    {
     "name": "stdout",
     "output_type": "stream",
     "text": [
      "(3, 4, 5)\n",
      "(3, 4, 5)\n"
     ]
    }
   ],
   "source": [
    "print(num)"
   ]
  },
  {
   "cell_type": "code",
   "execution_count": 27,
   "metadata": {},
   "outputs": [],
   "source": [
    "# Define shout_all with parameters word1 and word2\n",
    "def shout_all(word1, word2):\n",
    "    \n",
    "    # Concatenate word1 with '!!!': shout1\n",
    "    shout1 = word1 + '!!!'\n",
    "    \n",
    "    # Concatenate word2 with '!!!': shout2\n",
    "    shout2 = word2 + '!!!'\n",
    "    \n",
    "    # Construct a tuple with shout1 and shout2: shout_words\n",
    "    shout_words = (shout1, shout2)\n",
    "\n",
    "    # Return shout_words\n",
    "    return shout_words\n",
    "\n"
   ]
  },
  {
   "cell_type": "code",
   "execution_count": 28,
   "metadata": {},
   "outputs": [],
   "source": [
    "a = shout_all(\"a\", \"b\")"
   ]
  },
  {
   "cell_type": "code",
   "execution_count": 34,
   "metadata": {},
   "outputs": [
    {
     "name": "stdout",
     "output_type": "stream",
     "text": [
      "8\n",
      "16\n",
      "8\n",
      "16\n"
     ]
    }
   ],
   "source": [
    "def sum(a, b):\n",
    "    val1 = a**3\n",
    "    val2 = b**4\n",
    "    values = (val1, val2)\n",
    "    return values\n",
    "\n",
    "# call the function \n",
    "res1, res2 = sum(2,2)\n",
    "\n",
    "print(res1)\n",
    "print(res2)"
   ]
  },
  {
   "cell_type": "code",
   "execution_count": 5,
   "metadata": {},
   "outputs": [
    {
     "data": {
      "text/html": [
       "<div>\n",
       "<style scoped>\n",
       "    .dataframe tbody tr th:only-of-type {\n",
       "        vertical-align: middle;\n",
       "    }\n",
       "\n",
       "    .dataframe tbody tr th {\n",
       "        vertical-align: top;\n",
       "    }\n",
       "\n",
       "    .dataframe thead th {\n",
       "        text-align: right;\n",
       "    }\n",
       "</style>\n",
       "<table border=\"1\" class=\"dataframe\">\n",
       "  <thead>\n",
       "    <tr style=\"text-align: right;\">\n",
       "      <th></th>\n",
       "      <th>Season_End_Year</th>\n",
       "      <th>Wk</th>\n",
       "      <th>Date</th>\n",
       "      <th>Home</th>\n",
       "      <th>HomeGoals</th>\n",
       "      <th>AwayGoals</th>\n",
       "      <th>Away</th>\n",
       "      <th>FTR</th>\n",
       "    </tr>\n",
       "  </thead>\n",
       "  <tbody>\n",
       "    <tr>\n",
       "      <th>0</th>\n",
       "      <td>1993</td>\n",
       "      <td>1</td>\n",
       "      <td>1992-08-15</td>\n",
       "      <td>Coventry City</td>\n",
       "      <td>2</td>\n",
       "      <td>1</td>\n",
       "      <td>Middlesbrough</td>\n",
       "      <td>H</td>\n",
       "    </tr>\n",
       "    <tr>\n",
       "      <th>1</th>\n",
       "      <td>1993</td>\n",
       "      <td>1</td>\n",
       "      <td>1992-08-15</td>\n",
       "      <td>Leeds United</td>\n",
       "      <td>2</td>\n",
       "      <td>1</td>\n",
       "      <td>Wimbledon</td>\n",
       "      <td>H</td>\n",
       "    </tr>\n",
       "    <tr>\n",
       "      <th>2</th>\n",
       "      <td>1993</td>\n",
       "      <td>1</td>\n",
       "      <td>1992-08-15</td>\n",
       "      <td>Sheffield Utd</td>\n",
       "      <td>2</td>\n",
       "      <td>1</td>\n",
       "      <td>Manchester Utd</td>\n",
       "      <td>H</td>\n",
       "    </tr>\n",
       "    <tr>\n",
       "      <th>3</th>\n",
       "      <td>1993</td>\n",
       "      <td>1</td>\n",
       "      <td>1992-08-15</td>\n",
       "      <td>Crystal Palace</td>\n",
       "      <td>3</td>\n",
       "      <td>3</td>\n",
       "      <td>Blackburn</td>\n",
       "      <td>D</td>\n",
       "    </tr>\n",
       "    <tr>\n",
       "      <th>4</th>\n",
       "      <td>1993</td>\n",
       "      <td>1</td>\n",
       "      <td>1992-08-15</td>\n",
       "      <td>Arsenal</td>\n",
       "      <td>2</td>\n",
       "      <td>4</td>\n",
       "      <td>Norwich City</td>\n",
       "      <td>A</td>\n",
       "    </tr>\n",
       "  </tbody>\n",
       "</table>\n",
       "</div>"
      ],
      "text/plain": [
       "   Season_End_Year  Wk        Date            Home  HomeGoals  AwayGoals  \\\n",
       "0             1993   1  1992-08-15   Coventry City          2          1   \n",
       "1             1993   1  1992-08-15    Leeds United          2          1   \n",
       "2             1993   1  1992-08-15   Sheffield Utd          2          1   \n",
       "3             1993   1  1992-08-15  Crystal Palace          3          3   \n",
       "4             1993   1  1992-08-15         Arsenal          2          4   \n",
       "\n",
       "             Away FTR  \n",
       "0   Middlesbrough   H  \n",
       "1       Wimbledon   H  \n",
       "2  Manchester Utd   H  \n",
       "3       Blackburn   D  \n",
       "4    Norwich City   A  "
      ]
     },
     "execution_count": 5,
     "metadata": {},
     "output_type": "execute_result"
    }
   ],
   "source": [
    "import pandas as pd\n",
    "file = r'/Users/teslim/OneDrive/generaldata/17-premier-league-matches.csv'\n",
    "\n",
    "df = pd.read_csv(file)\n",
    "\n",
    "df.head()"
   ]
  },
  {
   "cell_type": "code",
   "execution_count": 16,
   "metadata": {},
   "outputs": [],
   "source": [
    "def count_entries(df, col_name):\n",
    "    home_count = {}\n",
    "    col = df[col_name]\n",
    "\n",
    "\n",
    "    for entry in col:\n",
    "        if entry in home_count.keys():\n",
    "            home_count[entry] += 1\n",
    "        else:\n",
    "            home_count[entry] = 1\n",
    "    return home_count\n"
   ]
  },
  {
   "cell_type": "code",
   "execution_count": 22,
   "metadata": {},
   "outputs": [
    {
     "name": "stdout",
     "output_type": "stream",
     "text": [
      "{'Coventry City': 177, 'Leeds United': 291, 'Sheffield Utd': 99, 'Crystal Palace': 270, 'Arsenal': 595, 'Ipswich Town': 101, 'Everton': 595, 'Southampton': 462, 'Chelsea': 595, \"Nott'ham Forest\": 118, 'Manchester City': 500, 'Blackburn': 348, 'Wimbledon': 158, 'Tottenham': 595, 'Liverpool': 595, 'Aston Villa': 538, 'Oldham Athletic': 42, 'Middlesbrough': 287, 'Norwich City': 196, 'QPR': 139, 'Manchester Utd': 595, 'Sheffield Weds': 158, 'Newcastle Utd': 536, 'West Ham': 517, 'Swindon Town': 21, 'Leicester City': 325, 'Bolton': 247, 'Sunderland': 304, 'Derby County': 133, 'Barnsley': 19, 'Charlton Ath': 152, 'Watford': 152, 'Bradford City': 38, 'Fulham': 304, 'Birmingham City': 133, 'West Brom': 247, 'Portsmouth': 133, 'Wolves': 171, 'Wigan Athletic': 152, 'Reading': 57, 'Hull City': 95, 'Stoke City': 190, 'Burnley': 152, 'Blackpool': 19, 'Swansea City': 133, 'Cardiff City': 38, 'Bournemouth': 114, 'Brighton': 114, 'Huddersfield': 38, 'Brentford': 38}\n"
     ]
    }
   ],
   "source": [
    "# calling the function\n",
    "result = count_entries(df, 'Home')\n",
    "\n",
    "print(result)"
   ]
  },
  {
   "cell_type": "code",
   "execution_count": 1,
   "metadata": {},
   "outputs": [
    {
     "data": {
      "text/plain": [
       "9"
      ]
     },
     "execution_count": 1,
     "metadata": {},
     "output_type": "execute_result"
    }
   ],
   "source": [
    "new_value = 5\n",
    "\n",
    "def square(value):\n",
    "    new_value = value**2\n",
    "    return new_value\n",
    "\n",
    "square(3)"
   ]
  },
  {
   "cell_type": "code",
   "execution_count": 2,
   "metadata": {},
   "outputs": [
    {
     "data": {
      "text/plain": [
       "5"
      ]
     },
     "execution_count": 2,
     "metadata": {},
     "output_type": "execute_result"
    }
   ],
   "source": [
    "new_value"
   ]
  },
  {
   "cell_type": "code",
   "execution_count": 4,
   "metadata": {},
   "outputs": [
    {
     "data": {
      "text/plain": [
       "9"
      ]
     },
     "execution_count": 4,
     "metadata": {},
     "output_type": "execute_result"
    }
   ],
   "source": [
    "new_value = 10\n",
    "\n",
    "def square(value):\n",
    "    global new_value\n",
    "    new_value = value**2\n",
    "    return new_value\n",
    "\n",
    "square(3)"
   ]
  },
  {
   "cell_type": "code",
   "execution_count": 1,
   "metadata": {},
   "outputs": [
    {
     "name": "stdout",
     "output_type": "stream",
     "text": [
      "('a!!!', 'b!!!', 'c!!!')\n"
     ]
    }
   ],
   "source": [
    "# Define three_shouts\n",
    "def three_shouts(word1, word2, word3):\n",
    "    \"\"\"Returns a tuple of strings\n",
    "    concatenated with '!!!'.\"\"\"\n",
    "\n",
    "    # Define inner\n",
    "    def inner(word):\n",
    "        \"\"\"Returns a string concatenated with '!!!'.\"\"\"\n",
    "        return word + '!!!'\n",
    "\n",
    "    # Return a tuple of strings\n",
    "    return (inner(word1), inner(word2), inner(word3))\n",
    "\n",
    "# Call three_shouts() and print\n",
    "print(three_shouts('a', 'b', 'c'))"
   ]
  },
  {
   "cell_type": "code",
   "execution_count": 4,
   "metadata": {},
   "outputs": [
    {
     "name": "stdout",
     "output_type": "stream",
     "text": [
      "hellohello hellohellohello\n"
     ]
    }
   ],
   "source": [
    "def echo(n):\n",
    "    \"\"\"Return the inner_echo function.\"\"\"\n",
    "\n",
    "    # Define inner_echo\n",
    "    def inner_echo(word1):\n",
    "        \"\"\"Concatenate n copies of word1.\"\"\"\n",
    "        echo_word = word1 * n\n",
    "        return echo_word\n",
    "\n",
    "    # Return inner_echo\n",
    "    return inner_echo\n",
    "\n",
    "# Call echo: twice\n",
    "twice = echo(2)\n",
    "\n",
    "# Call echo: thrice\n",
    "thrice = echo(3)\n",
    "\n",
    "# Call twice() and thrice() then print\n",
    "print(twice('hello'), thrice('hello'))"
   ]
  },
  {
   "cell_type": "code",
   "execution_count": 7,
   "metadata": {},
   "outputs": [
    {
     "name": "stdout",
     "output_type": "stream",
     "text": [
      "hellohello\n",
      "hellohello!!!\n"
     ]
    }
   ],
   "source": [
    "# Define echo_shout()\n",
    "def echo_shout(word):\n",
    "    \"\"\"Change the value of a nonlocal variable\"\"\"\n",
    "    \n",
    "    # Initialize echo_word\n",
    "    echo_word = word*2\n",
    "    \n",
    "    # Print echo_word\n",
    "    print(echo_word)\n",
    "    \n",
    "    # Define inner function shout()\n",
    "    def shout():\n",
    "        \"\"\"Alter a variable in the enclosing scope\"\"\"    \n",
    "        # Use echo_word in nonlocal scope\n",
    "        nonlocal echo_word\n",
    "        # Change echo_word to echo_word concatenated with '!!!'\n",
    "        echo_word = echo_word + '!!!'\n",
    "    \n",
    "    # Call function shout()\n",
    "    shout()\n",
    "    \n",
    "    # Print echo_word\n",
    "    print(echo_word)\n",
    "\n",
    "# Call function echo_shout() with argument 'hello'\n",
    "echo_shout('hello')"
   ]
  },
  {
   "cell_type": "code",
   "execution_count": 3,
   "metadata": {},
   "outputs": [
    {
     "name": "stdout",
     "output_type": "stream",
     "text": [
      "bye\n",
      "bye\n",
      "This 3 is included\n",
      "This 4 is included\n",
      "bye\n",
      "bye\n",
      "This 3 is included\n",
      "This 4 is included\n"
     ]
    }
   ],
   "source": [
    "number = [1,2,3,4]\n",
    "\n",
    "for c in number:\n",
    "    if c > 2:\n",
    "        print(f'This {c} is included')\n",
    "    else:\n",
    "        print('bye')"
   ]
  },
  {
   "cell_type": "code",
   "execution_count": 4,
   "metadata": {},
   "outputs": [
    {
     "name": "stdout",
     "output_type": "stream",
     "text": [
      "2 is even.\n",
      "4 is even.\n",
      "2 is even.\n",
      "4 is even.\n"
     ]
    }
   ],
   "source": [
    "numbers = [1, 2, 3, 4, 5]\n",
    "\n",
    "for num in numbers:\n",
    "    if num % 2 == 0:\n",
    "        print(f\"{num} is even.\")"
   ]
  },
  {
   "cell_type": "code",
   "execution_count": 6,
   "metadata": {},
   "outputs": [
    {
     "name": "stdout",
     "output_type": "stream",
     "text": [
      "The 1 is not divisible by 5\n",
      "The 20 is divisable by 5 in this first indtance\n",
      "The 20 is greater than 10\n",
      "The 3 is not divisible by 5\n",
      "The 7 is not divisible by 5\n",
      "The 60 is divisable by 5 in this first indtance\n",
      "The 60 is greater than 10\n",
      "The 1 is not divisible by 5\n",
      "The 20 is divisable by 5 in this first indtance\n",
      "The 20 is greater than 10\n",
      "The 3 is not divisible by 5\n",
      "The 7 is not divisible by 5\n",
      "The 60 is divisable by 5 in this first indtance\n",
      "The 60 is greater than 10\n"
     ]
    }
   ],
   "source": [
    "list = [1,20,3,7, 60]\n",
    "\n",
    "for n in list:\n",
    "    if n % 5 == 0:\n",
    "        print(f'The {n} is divisable by 5 in this first indtance')\n",
    "        if n > 10:\n",
    "            print(f'The {n} is greater than 10')\n",
    "        else:\n",
    "            print(f'The {n} is less than 10')\n",
    "    else:\n",
    "        print(f'The {n} is not divisible by 5')"
   ]
  },
  {
   "cell_type": "code",
   "execution_count": 2,
   "metadata": {},
   "outputs": [
    {
     "name": "stdout",
     "output_type": "stream",
     "text": [
      "The name Teslim, and this person lives in Family\n",
      "The name Teslim, and this person lives in Andover\n",
      "The name Faizah, and this person lives in Family\n",
      "The name Faizah, and this person lives in Andover\n",
      "The name Fahrid, and this person lives in Family\n",
      "The name Fahrid, and this person lives in Andover\n",
      "The name Teslim, and this person lives in Family\n",
      "The name Teslim, and this person lives in Andover\n",
      "The name Faizah, and this person lives in Family\n",
      "The name Faizah, and this person lives in Andover\n",
      "The name Fahrid, and this person lives in Family\n",
      "The name Fahrid, and this person lives in Andover\n"
     ]
    }
   ],
   "source": [
    "name = [\"Teslim\", \"Faizah\", \"Fahrid\"]\n",
    "\n",
    "status = [\"Family\", \"Andover\"]\n",
    "\n",
    "for x in name:\n",
    "    for m in status:\n",
    "        print(f\"The name {x}, and this person lives in {m}\")"
   ]
  },
  {
   "cell_type": "code",
   "execution_count": 4,
   "metadata": {},
   "outputs": [
    {
     "data": {
      "image/png": "[encoded data removed]"
     },
     "metadata": {
      "image/png": {
       "height": 480,
       "width": 640
      }
     },
     "output_type": "display_data"
    }
   ],
   "source": [
    "import pandas as pd\n",
    "from plotnine import ggplot, aes, geom_point, labs\n",
    "\n",
    "# Example DataFrame\n",
    "df = pd.DataFrame({\n",
    "    'x': [1, 2, 3, 4, 5],\n",
    "    'y': [10, 20, 25, 30, 35],\n",
    "    'category': ['A', 'B', 'A', 'B', 'A']\n",
    "})\n",
    "\n",
    "# Create a scatter plot\n",
    "plot = (\n",
    "    ggplot(df, aes(x='x', y='y', color='category')) +\n",
    "    geom_point() +\n",
    "    labs(title='Scatter Plot', x='X-axis', y='Y-axis')\n",
    ")\n",
    "\n",
    "# Show the plot\n",
    "plot\n"
   ]
  },
  {
   "cell_type": "code",
   "execution_count": 5,
   "metadata": {},
   "outputs": [
    {
     "data": {
      "image/png": "[encoded data removed]",
      "text/plain": [
       "<Figure size 640x480 with 1 Axes>"
      ]
     },
     "execution_count": 5,
     "metadata": {},
     "output_type": "execute_result"
    }
   ],
   "source": [
    "import pandas as pd\n",
    "from plotnine import ggplot, aes, geom_point, labs\n",
    "\n",
    "# Example DataFrame\n",
    "df = pd.DataFrame({\n",
    "    'x': [1, 2, 3, 4, 5],\n",
    "    'y': [10, 20, 25, 30, 35],\n",
    "    'category': ['A', 'B', 'A', 'B', 'A']\n",
    "})\n",
    "\n",
    "# Create a scatter plot\n",
    "plot = (\n",
    "    ggplot(df, aes(x='x', y='y', color='category')) \n",
    "    + geom_point() \n",
    "    + labs(title='Scatter Plot', x='X-axis', y='Y-axis')\n",
    ")\n",
    "\n",
    "# Show the plot\n",
    "plot.draw()"
   ]
  },
  {
   "cell_type": "code",
   "execution_count": 6,
   "metadata": {},
   "outputs": [
    {
     "data": {
      "image/png": "[encoded data removed]"
     },
     "metadata": {
      "image/png": {
       "height": 480,
       "width": 640
      }
     },
     "output_type": "display_data"
    }
   ],
   "source": [
    "import pandas as pd\n",
    "from plotnine import ggplot, aes, geom_line, labs, facet_wrap\n",
    "\n",
    "# Example returns data\n",
    "aapl_returns = pd.Series([0.01, 0.02, -0.01, 0.03, 0.04], name='AAPL')\n",
    "msft_returns = pd.Series([0.02, 0.01, 0.03, -0.02, 0.01], name='MSFT')\n",
    "googl_returns = pd.Series([0.03, 0.02, 0.01, 0.04, -0.01], name='GOOGL')\n",
    "\n",
    "# Calculate cumulative returns\n",
    "aapl_cum_returns = (1 + aapl_returns).cumprod() - 1\n",
    "msft_cum_returns = (1 + msft_returns).cumprod() - 1\n",
    "googl_cum_returns = (1 + googl_returns).cumprod() - 1\n",
    "\n",
    "# Create a DataFrame with cumulative returns\n",
    "cum_returns_df = pd.DataFrame({\n",
    "    'Date': pd.date_range(start='2023-01-01', periods=len(aapl_returns)),\n",
    "    'AAPL': aapl_cum_returns,\n",
    "    'MSFT': msft_cum_returns,\n",
    "    'GOOGL': googl_cum_returns\n",
    "})\n",
    "\n",
    "# Melt the DataFrame for plotting\n",
    "cum_returns_melted = cum_returns_df.melt(id_vars='Date', var_name='Stock', value_name='Cumulative Returns')\n",
    "\n",
    "# Create the plot\n",
    "plot = (\n",
    "    ggplot(cum_returns_melted, aes(x='Date', y='Cumulative Returns', color='Stock')) +\n",
    "    geom_line() +\n",
    "    labs(title='Cumulative Returns for Each Stock', x='Date', y='Cumulative Returns') +\n",
    "    facet_wrap('~Stock', scales='free_y')\n",
    ")\n",
    "\n",
    "# Show the plot\n",
    "plot"
   ]
  },
  {
   "cell_type": "code",
   "execution_count": 8,
   "metadata": {},
   "outputs": [
    {
     "data": {
      "text/html": [
       "<div style=\"text-align: center;\"><ggplot: (640 x 480)></div>"
      ],
      "text/plain": [
       "<IPython.core.display.HTML object>"
      ]
     },
     "metadata": {},
     "output_type": "display_data"
    }
   ],
   "source": [
    "import pandas as pd\n",
    "from plotnine import ggplot, aes, geom_line, labs, facet_wrap\n",
    "from IPython.display import display, HTML\n",
    "\n",
    "# Example returns data\n",
    "aapl_returns = pd.Series([0.01, 0.02, -0.01, 0.03, 0.04], name='AAPL')\n",
    "msft_returns = pd.Series([0.02, 0.01, 0.03, -0.02, 0.01], name='MSFT')\n",
    "googl_returns = pd.Series([0.03, 0.02, 0.01, 0.04, -0.01], name='GOOGL')\n",
    "\n",
    "# Calculate cumulative returns\n",
    "aapl_cum_returns = (1 + aapl_returns).cumprod() - 1\n",
    "msft_cum_returns = (1 + msft_returns).cumprod() - 1\n",
    "googl_cum_returns = (1 + googl_returns).cumprod() - 1\n",
    "\n",
    "# Create a DataFrame with cumulative returns\n",
    "cum_returns_df = pd.DataFrame({\n",
    "    'Date': pd.date_range(start='2023-01-01', periods=len(aapl_returns)),\n",
    "    'AAPL': aapl_cum_returns,\n",
    "    'MSFT': msft_cum_returns,\n",
    "    'GOOGL': googl_cum_returns\n",
    "})\n",
    "\n",
    "# Melt the DataFrame for plotting\n",
    "cum_returns_melted = cum_returns_df.melt(id_vars='Date', var_name='Stock', value_name='Cumulative Returns')\n",
    "\n",
    "# Create the plot\n",
    "plot = (\n",
    "    ggplot(cum_returns_melted, aes(x='Date', y='Cumulative Returns', color='Stock')) +\n",
    "    geom_line() +\n",
    "    labs(title='Cumulative Returns for Each Stock', x='Date', y='Cumulative Returns') +\n",
    "    facet_wrap('~Stock', scales='free_y')\n",
    ")\n",
    "\n",
    "# Center the plot display\n",
    "display(HTML('<div style=\"text-align: center;\">{}</div>'.format(plot)))"
   ]
  },
  {
   "cell_type": "code",
   "execution_count": 9,
   "metadata": {},
   "outputs": [
    {
     "ename": "ImportError",
     "evalue": "cannot import name 'element_text' from 'plotnine.themes' (/Users/teslim/anaconda3/envs/machine-learning-env/lib/python3.10/site-packages/plotnine/themes/__init__.py)",
     "output_type": "error",
     "traceback": [
      "\u001b[0;31m---------------------------------------------------------------------------\u001b[0m",
      "\u001b[0;31mImportError\u001b[0m                               Traceback (most recent call last)",
      "Cell \u001b[0;32mIn[9], line 3\u001b[0m\n\u001b[1;32m      1\u001b[0m \u001b[38;5;28;01mimport\u001b[39;00m \u001b[38;5;21;01mpandas\u001b[39;00m \u001b[38;5;28;01mas\u001b[39;00m \u001b[38;5;21;01mpd\u001b[39;00m\n\u001b[1;32m      2\u001b[0m \u001b[38;5;28;01mfrom\u001b[39;00m \u001b[38;5;21;01mplotnine\u001b[39;00m \u001b[38;5;28;01mimport\u001b[39;00m ggplot, aes, geom_line, labs, facet_wrap, theme_minimal, theme\n\u001b[0;32m----> 3\u001b[0m \u001b[38;5;28;01mfrom\u001b[39;00m \u001b[38;5;21;01mplotnine\u001b[39;00m\u001b[38;5;21;01m.\u001b[39;00m\u001b[38;5;21;01mthemes\u001b[39;00m \u001b[38;5;28;01mimport\u001b[39;00m element_text\n\u001b[1;32m      5\u001b[0m \u001b[38;5;66;03m# ...existing code for returns data and calculations...\u001b[39;00m\n\u001b[1;32m      6\u001b[0m \n\u001b[1;32m      7\u001b[0m \u001b[38;5;66;03m# Create the plot with improved styling\u001b[39;00m\n\u001b[1;32m      8\u001b[0m plot \u001b[38;5;241m=\u001b[39m (\n\u001b[1;32m      9\u001b[0m     ggplot(cum_returns_melted, aes(x\u001b[38;5;241m=\u001b[39m\u001b[38;5;124m'\u001b[39m\u001b[38;5;124mDate\u001b[39m\u001b[38;5;124m'\u001b[39m, y\u001b[38;5;241m=\u001b[39m\u001b[38;5;124m'\u001b[39m\u001b[38;5;124mCumulative Returns\u001b[39m\u001b[38;5;124m'\u001b[39m, color\u001b[38;5;241m=\u001b[39m\u001b[38;5;124m'\u001b[39m\u001b[38;5;124mStock\u001b[39m\u001b[38;5;124m'\u001b[39m)) \u001b[38;5;241m+\u001b[39m\n\u001b[1;32m     10\u001b[0m     geom_line(size\u001b[38;5;241m=\u001b[39m\u001b[38;5;241m1\u001b[39m) \u001b[38;5;241m+\u001b[39m\n\u001b[0;32m   (...)\u001b[0m\n\u001b[1;32m     25\u001b[0m     )\n\u001b[1;32m     26\u001b[0m )\n",
      "\u001b[0;31mImportError\u001b[0m: cannot import name 'element_text' from 'plotnine.themes' (/Users/teslim/anaconda3/envs/machine-learning-env/lib/python3.10/site-packages/plotnine/themes/__init__.py)"
     ]
    }
   ],
   "source": [
    "import pandas as pd\n",
    "from plotnine import ggplot, aes, geom_line, labs, facet_wrap, theme_minimal, theme\n",
    "from plotnine.themes import element_text\n",
    "\n",
    "# ...existing code for returns data and calculations...\n",
    "\n",
    "# Create the plot with improved styling\n",
    "plot = (\n",
    "    ggplot(cum_returns_melted, aes(x='Date', y='Cumulative Returns', color='Stock')) +\n",
    "    geom_line(size=1) +\n",
    "    labs(\n",
    "        title='Cumulative Returns for Each Stock',\n",
    "        x='Date',\n",
    "        y='Cumulative Returns'\n",
    "    ) +\n",
    "    facet_wrap('~Stock', scales='free_y') +\n",
    "    theme_minimal() +\n",
    "    theme(\n",
    "        figure_size=(12, 6),\n",
    "        plot_title=element_text(size=14, face=\"bold\", ha='center'),\n",
    "        axis_title=element_text(size=12),\n",
    "        legend_position='bottom',\n",
    "        subplots_adjust={'wspace': 0.25},\n",
    "        panel_spacing=0.5\n",
    "    )\n",
    ")\n",
    "\n",
    "# Display the plot\n",
    "print(plot)"
   ]
  },
  {
   "cell_type": "code",
   "execution_count": 2,
   "metadata": {},
   "outputs": [
    {
     "name": "stdout",
     "output_type": "stream",
     "text": [
      "all() All True values:: True\n",
      "all() with One false value:: False\n",
      "all() with all false values:: False\n",
      "all() Empty list:: True\n"
     ]
    }
   ],
   "source": [
    "# Case 1: All True values\n",
    "samplelist1 = [1, 1, True]\n",
    "print(\"all() All True values::\", all(samplelist1))  # Output: True\n",
    "\n",
    "# Case 2: One False value\n",
    "samplelist2 = [0, 1, True, 1]\n",
    "print(\"all() with One false value::\", all(samplelist2))  # Output: False\n",
    "\n",
    "# Case 3: All False values\n",
    "samplelist3 = [0, 0, False]\n",
    "print(\"all() with all false values::\", all(samplelist3))  # Output: False\n",
    "\n",
    "# Case 4: Empty List\n",
    "samplelist4 = []\n",
    "print(\"all() Empty list::\", all(samplelist4))  # Output: True\n"
   ]
  },
  {
   "cell_type": "code",
   "execution_count": 5,
   "metadata": {},
   "outputs": [
    {
     "name": "stdout",
     "output_type": "stream",
     "text": [
      "2\n",
      "3\n",
      "5\n",
      "6\n",
      "7\n",
      "8\n",
      "9\n",
      "10\n",
      "a\n",
      "b\n",
      "c\n",
      "e\n"
     ]
    }
   ],
   "source": [
    "list =  [[2,3,5,6,7,8,9,10], ['a', 'b', 'c', 'e']]\n",
    "\n",
    "\n",
    "for i in list:\n",
    "    for j in i:\n",
    "        print(j)"
   ]
  },
  {
   "cell_type": "code",
   "execution_count": 6,
   "metadata": {},
   "outputs": [
    {
     "name": "stdout",
     "output_type": "stream",
     "text": [
      "Accessing the third element of the second list 5\n",
      "list [2, 4, 6, 8, 10] elements\n",
      "2\n",
      "4\n",
      "6\n",
      "8\n",
      "10\n",
      "list [1, 3, 5, 7, 9] elements\n",
      "1\n",
      "3\n",
      "5\n",
      "7\n",
      "9\n"
     ]
    }
   ],
   "source": [
    "nestedlist = [[2,4,6,8,10],[1,3,5,7,9]]\n",
    "\n",
    "print(\"Accessing the third element of the second list\",nestedlist[1][2])\n",
    "for i in nestedlist:\n",
    "  print(\"list\",i,\"elements\")\n",
    "  for j in i:\n",
    "    print(j)"
   ]
  },
  {
   "cell_type": "code",
   "execution_count": 2,
   "metadata": {},
   "outputs": [
    {
     "name": "stdout",
     "output_type": "stream",
     "text": [
      "Teslim!!!\n",
      "HeyHeyHeyHeyHey!!!\n"
     ]
    }
   ],
   "source": [
    "# Define shout_echo\n",
    "def shout_echo(word1, echo = 1):\n",
    "    \"\"\"Concatenate echo copies of word1 and three\n",
    "     exclamation marks at the end of the string.\"\"\"\n",
    "\n",
    "    # Concatenate echo copies of word1 using *: echo_word\n",
    "    echo_word = echo * word1\n",
    "\n",
    "    # Concatenate '!!!' to echo_word: shout_word\n",
    "    shout_word = echo_word + '!!!'\n",
    "\n",
    "    # Return shout_word\n",
    "    return shout_word\n",
    "\n",
    "# Call shout_echo() with \"Hey\": no_echo\n",
    "no_echo = shout_echo(\"Teslim\")\n",
    "\n",
    "# Call shout_echo() with \"Hey\" and echo=5: with_echo\n",
    "with_echo = shout_echo(\"Hey\", 5)\n",
    "\n",
    "# Print no_echo and with_echo\n",
    "print(no_echo)\n",
    "print(with_echo)"
   ]
  },
  {
   "cell_type": "code",
   "execution_count": 6,
   "metadata": {},
   "outputs": [
    {
     "data": {
      "text/plain": [
       "'teslim!!!'"
      ]
     },
     "execution_count": 6,
     "metadata": {},
     "output_type": "execute_result"
    }
   ],
   "source": [
    "def student_register(*args):\n",
    "    \n",
    "    student = (\" \")\n",
    "    \n",
    "    for x in args:\n",
    "        student = x.upper()\n",
    "        student = x + \"!!!\"\n",
    "        \n",
    "    return student \n",
    "\n",
    "\n",
    "# call the function \n",
    "student_register('teslim')\n",
    "        \n",
    "\n"
   ]
  },
  {
   "cell_type": "code",
   "execution_count": 28,
   "metadata": {},
   "outputs": [
    {
     "data": {
      "text/html": [
       "<div>\n",
       "<style scoped>\n",
       "    .dataframe tbody tr th:only-of-type {\n",
       "        vertical-align: middle;\n",
       "    }\n",
       "\n",
       "    .dataframe tbody tr th {\n",
       "        vertical-align: top;\n",
       "    }\n",
       "\n",
       "    .dataframe thead th {\n",
       "        text-align: right;\n",
       "    }\n",
       "</style>\n",
       "<table border=\"1\" class=\"dataframe\">\n",
       "  <thead>\n",
       "    <tr style=\"text-align: right;\">\n",
       "      <th></th>\n",
       "      <th>color</th>\n",
       "      <th>value</th>\n",
       "    </tr>\n",
       "  </thead>\n",
       "  <tbody>\n",
       "    <tr>\n",
       "      <th>0</th>\n",
       "      <td>red</td>\n",
       "      <td>10</td>\n",
       "    </tr>\n",
       "    <tr>\n",
       "      <th>1</th>\n",
       "      <td>blue</td>\n",
       "      <td>15</td>\n",
       "    </tr>\n",
       "    <tr>\n",
       "      <th>2</th>\n",
       "      <td>green</td>\n",
       "      <td>10</td>\n",
       "    </tr>\n",
       "    <tr>\n",
       "      <th>3</th>\n",
       "      <td>blue</td>\n",
       "      <td>20</td>\n",
       "    </tr>\n",
       "  </tbody>\n",
       "</table>\n",
       "</div>"
      ],
      "text/plain": [
       "   color  value\n",
       "0    red     10\n",
       "1   blue     15\n",
       "2  green     10\n",
       "3   blue     20"
      ]
     },
     "execution_count": 28,
     "metadata": {},
     "output_type": "execute_result"
    }
   ],
   "source": [
    "\n",
    "import pandas as pd\n",
    "\n",
    "# Example DataFrame\n",
    "df = pd.DataFrame({\n",
    "    'color': ['red', 'blue', 'green', 'blue'],\n",
    "    'value': [10, 15, 10, 20]\n",
    "})\n",
    "\n",
    "df_one_hot = pd.get_dummies(df, columns=['color'],  dtype='int64')\n",
    "df\n"
   ]
  },
  {
   "cell_type": "code",
   "execution_count": 29,
   "metadata": {},
   "outputs": [
    {
     "data": {
      "text/html": [
       "<div>\n",
       "<style scoped>\n",
       "    .dataframe tbody tr th:only-of-type {\n",
       "        vertical-align: middle;\n",
       "    }\n",
       "\n",
       "    .dataframe tbody tr th {\n",
       "        vertical-align: top;\n",
       "    }\n",
       "\n",
       "    .dataframe thead th {\n",
       "        text-align: right;\n",
       "    }\n",
       "</style>\n",
       "<table border=\"1\" class=\"dataframe\">\n",
       "  <thead>\n",
       "    <tr style=\"text-align: right;\">\n",
       "      <th></th>\n",
       "      <th>value</th>\n",
       "      <th>color_blue</th>\n",
       "      <th>color_green</th>\n",
       "      <th>color_red</th>\n",
       "    </tr>\n",
       "  </thead>\n",
       "  <tbody>\n",
       "    <tr>\n",
       "      <th>0</th>\n",
       "      <td>10</td>\n",
       "      <td>0</td>\n",
       "      <td>0</td>\n",
       "      <td>1</td>\n",
       "    </tr>\n",
       "    <tr>\n",
       "      <th>1</th>\n",
       "      <td>15</td>\n",
       "      <td>1</td>\n",
       "      <td>0</td>\n",
       "      <td>0</td>\n",
       "    </tr>\n",
       "    <tr>\n",
       "      <th>2</th>\n",
       "      <td>10</td>\n",
       "      <td>0</td>\n",
       "      <td>1</td>\n",
       "      <td>0</td>\n",
       "    </tr>\n",
       "    <tr>\n",
       "      <th>3</th>\n",
       "      <td>20</td>\n",
       "      <td>1</td>\n",
       "      <td>0</td>\n",
       "      <td>0</td>\n",
       "    </tr>\n",
       "  </tbody>\n",
       "</table>\n",
       "</div>"
      ],
      "text/plain": [
       "   value  color_blue  color_green  color_red\n",
       "0     10           0            0          1\n",
       "1     15           1            0          0\n",
       "2     10           0            1          0\n",
       "3     20           1            0          0"
      ]
     },
     "execution_count": 29,
     "metadata": {},
     "output_type": "execute_result"
    }
   ],
   "source": [
    "df_one_hot"
   ]
  },
  {
   "cell_type": "code",
   "execution_count": 21,
   "metadata": {},
   "outputs": [],
   "source": [
    "import pandas as pd\n",
    "\n",
    "data = pd.DataFrame({'color': ['red', 'blue', 'green'], 'size': ['S', 'M', 'L']})\n",
    "encoded = pd.get_dummies(data, columns=['color'],  dtype='int64')\n"
   ]
  },
  {
   "cell_type": "code",
   "execution_count": 22,
   "metadata": {},
   "outputs": [
    {
     "data": {
      "text/html": [
       "<div>\n",
       "<style scoped>\n",
       "    .dataframe tbody tr th:only-of-type {\n",
       "        vertical-align: middle;\n",
       "    }\n",
       "\n",
       "    .dataframe tbody tr th {\n",
       "        vertical-align: top;\n",
       "    }\n",
       "\n",
       "    .dataframe thead th {\n",
       "        text-align: right;\n",
       "    }\n",
       "</style>\n",
       "<table border=\"1\" class=\"dataframe\">\n",
       "  <thead>\n",
       "    <tr style=\"text-align: right;\">\n",
       "      <th></th>\n",
       "      <th>color</th>\n",
       "      <th>size</th>\n",
       "    </tr>\n",
       "  </thead>\n",
       "  <tbody>\n",
       "    <tr>\n",
       "      <th>0</th>\n",
       "      <td>red</td>\n",
       "      <td>S</td>\n",
       "    </tr>\n",
       "    <tr>\n",
       "      <th>1</th>\n",
       "      <td>blue</td>\n",
       "      <td>M</td>\n",
       "    </tr>\n",
       "    <tr>\n",
       "      <th>2</th>\n",
       "      <td>green</td>\n",
       "      <td>L</td>\n",
       "    </tr>\n",
       "  </tbody>\n",
       "</table>\n",
       "</div>"
      ],
      "text/plain": [
       "   color size\n",
       "0    red    S\n",
       "1   blue    M\n",
       "2  green    L"
      ]
     },
     "execution_count": 22,
     "metadata": {},
     "output_type": "execute_result"
    }
   ],
   "source": [
    "data"
   ]
  },
  {
   "cell_type": "code",
   "execution_count": 23,
   "metadata": {},
   "outputs": [
    {
     "data": {
      "text/html": [
       "<div>\n",
       "<style scoped>\n",
       "    .dataframe tbody tr th:only-of-type {\n",
       "        vertical-align: middle;\n",
       "    }\n",
       "\n",
       "    .dataframe tbody tr th {\n",
       "        vertical-align: top;\n",
       "    }\n",
       "\n",
       "    .dataframe thead th {\n",
       "        text-align: right;\n",
       "    }\n",
       "</style>\n",
       "<table border=\"1\" class=\"dataframe\">\n",
       "  <thead>\n",
       "    <tr style=\"text-align: right;\">\n",
       "      <th></th>\n",
       "      <th>size</th>\n",
       "      <th>color_blue</th>\n",
       "      <th>color_green</th>\n",
       "      <th>color_red</th>\n",
       "    </tr>\n",
       "  </thead>\n",
       "  <tbody>\n",
       "    <tr>\n",
       "      <th>0</th>\n",
       "      <td>S</td>\n",
       "      <td>0</td>\n",
       "      <td>0</td>\n",
       "      <td>1</td>\n",
       "    </tr>\n",
       "    <tr>\n",
       "      <th>1</th>\n",
       "      <td>M</td>\n",
       "      <td>1</td>\n",
       "      <td>0</td>\n",
       "      <td>0</td>\n",
       "    </tr>\n",
       "    <tr>\n",
       "      <th>2</th>\n",
       "      <td>L</td>\n",
       "      <td>0</td>\n",
       "      <td>1</td>\n",
       "      <td>0</td>\n",
       "    </tr>\n",
       "  </tbody>\n",
       "</table>\n",
       "</div>"
      ],
      "text/plain": [
       "  size  color_blue  color_green  color_red\n",
       "0    S           0            0          1\n",
       "1    M           1            0          0\n",
       "2    L           0            1          0"
      ]
     },
     "execution_count": 23,
     "metadata": {},
     "output_type": "execute_result"
    }
   ],
   "source": [
    "encoded"
   ]
  },
  {
   "cell_type": "code",
   "execution_count": 30,
   "metadata": {},
   "outputs": [
    {
     "data": {
      "text/html": [
       "<div>\n",
       "<style scoped>\n",
       "    .dataframe tbody tr th:only-of-type {\n",
       "        vertical-align: middle;\n",
       "    }\n",
       "\n",
       "    .dataframe tbody tr th {\n",
       "        vertical-align: top;\n",
       "    }\n",
       "\n",
       "    .dataframe thead th {\n",
       "        text-align: right;\n",
       "    }\n",
       "</style>\n",
       "<table border=\"1\" class=\"dataframe\">\n",
       "  <thead>\n",
       "    <tr style=\"text-align: right;\">\n",
       "      <th></th>\n",
       "      <th>color</th>\n",
       "      <th>size</th>\n",
       "      <th>value</th>\n",
       "    </tr>\n",
       "  </thead>\n",
       "  <tbody>\n",
       "    <tr>\n",
       "      <th>0</th>\n",
       "      <td>red</td>\n",
       "      <td>S</td>\n",
       "      <td>10</td>\n",
       "    </tr>\n",
       "    <tr>\n",
       "      <th>1</th>\n",
       "      <td>blue</td>\n",
       "      <td>M</td>\n",
       "      <td>15</td>\n",
       "    </tr>\n",
       "    <tr>\n",
       "      <th>2</th>\n",
       "      <td>green</td>\n",
       "      <td>L</td>\n",
       "      <td>10</td>\n",
       "    </tr>\n",
       "    <tr>\n",
       "      <th>3</th>\n",
       "      <td>blue</td>\n",
       "      <td>S</td>\n",
       "      <td>20</td>\n",
       "    </tr>\n",
       "    <tr>\n",
       "      <th>4</th>\n",
       "      <td>None</td>\n",
       "      <td>M</td>\n",
       "      <td>25</td>\n",
       "    </tr>\n",
       "  </tbody>\n",
       "</table>\n",
       "</div>"
      ],
      "text/plain": [
       "   color size  value\n",
       "0    red    S     10\n",
       "1   blue    M     15\n",
       "2  green    L     10\n",
       "3   blue    S     20\n",
       "4   None    M     25"
      ]
     },
     "execution_count": 30,
     "metadata": {},
     "output_type": "execute_result"
    }
   ],
   "source": [
    "import pandas as pd\n",
    "\n",
    "# Example DataFrame\n",
    "df2 = pd.DataFrame({\n",
    "    'color': ['red', 'blue', 'green', 'blue', None],\n",
    "    'size': ['S', 'M', 'L', 'S', 'M'],\n",
    "    'value': [10, 15, 10, 20, 25]\n",
    "})\n",
    "\n",
    "df2"
   ]
  },
  {
   "cell_type": "code",
   "execution_count": 31,
   "metadata": {},
   "outputs": [
    {
     "data": {
      "text/html": [
       "<div>\n",
       "<style scoped>\n",
       "    .dataframe tbody tr th:only-of-type {\n",
       "        vertical-align: middle;\n",
       "    }\n",
       "\n",
       "    .dataframe tbody tr th {\n",
       "        vertical-align: top;\n",
       "    }\n",
       "\n",
       "    .dataframe thead th {\n",
       "        text-align: right;\n",
       "    }\n",
       "</style>\n",
       "<table border=\"1\" class=\"dataframe\">\n",
       "  <thead>\n",
       "    <tr style=\"text-align: right;\">\n",
       "      <th></th>\n",
       "      <th>value</th>\n",
       "      <th>col-green</th>\n",
       "      <th>col-red</th>\n",
       "      <th>col-nan</th>\n",
       "      <th>sz-M</th>\n",
       "      <th>sz-S</th>\n",
       "      <th>sz-nan</th>\n",
       "    </tr>\n",
       "  </thead>\n",
       "  <tbody>\n",
       "    <tr>\n",
       "      <th>0</th>\n",
       "      <td>10</td>\n",
       "      <td>0</td>\n",
       "      <td>1</td>\n",
       "      <td>0</td>\n",
       "      <td>0</td>\n",
       "      <td>1</td>\n",
       "      <td>0</td>\n",
       "    </tr>\n",
       "    <tr>\n",
       "      <th>1</th>\n",
       "      <td>15</td>\n",
       "      <td>0</td>\n",
       "      <td>0</td>\n",
       "      <td>0</td>\n",
       "      <td>1</td>\n",
       "      <td>0</td>\n",
       "      <td>0</td>\n",
       "    </tr>\n",
       "    <tr>\n",
       "      <th>2</th>\n",
       "      <td>10</td>\n",
       "      <td>1</td>\n",
       "      <td>0</td>\n",
       "      <td>0</td>\n",
       "      <td>0</td>\n",
       "      <td>0</td>\n",
       "      <td>0</td>\n",
       "    </tr>\n",
       "    <tr>\n",
       "      <th>3</th>\n",
       "      <td>20</td>\n",
       "      <td>0</td>\n",
       "      <td>0</td>\n",
       "      <td>0</td>\n",
       "      <td>0</td>\n",
       "      <td>1</td>\n",
       "      <td>0</td>\n",
       "    </tr>\n",
       "    <tr>\n",
       "      <th>4</th>\n",
       "      <td>25</td>\n",
       "      <td>0</td>\n",
       "      <td>0</td>\n",
       "      <td>1</td>\n",
       "      <td>1</td>\n",
       "      <td>0</td>\n",
       "      <td>0</td>\n",
       "    </tr>\n",
       "  </tbody>\n",
       "</table>\n",
       "</div>"
      ],
      "text/plain": [
       "   value  col-green  col-red  col-nan  sz-M  sz-S  sz-nan\n",
       "0     10          0        1        0     0     1       0\n",
       "1     15          0        0        0     1     0       0\n",
       "2     10          1        0        0     0     0       0\n",
       "3     20          0        0        0     0     1       0\n",
       "4     25          0        0        1     1     0       0"
      ]
     },
     "execution_count": 31,
     "metadata": {},
     "output_type": "execute_result"
    }
   ],
   "source": [
    "# Enhanced `pd.get_dummies` usage\n",
    "df_one_hot = pd.get_dummies(\n",
    "    df2, \n",
    "    columns=['color', 'size'],  # Specify columns to encode\n",
    "    prefix=['col', 'sz'],      # Custom prefixes for encoded columns\n",
    "    prefix_sep='-',            # Custom separator for prefixes\n",
    "    dummy_na=True,             # Add column for missing values\n",
    "    drop_first=True,           # Drop the first category to avoid multicollinearity\n",
    "    dtype='int64'              # Ensure encoded columns are integer type\n",
    ")\n",
    "\n",
    "df_one_hot"
   ]
  },
  {
   "cell_type": "code",
   "execution_count": 5,
   "metadata": {},
   "outputs": [
    {
     "data": {
      "text/html": [
       "<div>\n",
       "<style scoped>\n",
       "    .dataframe tbody tr th:only-of-type {\n",
       "        vertical-align: middle;\n",
       "    }\n",
       "\n",
       "    .dataframe tbody tr th {\n",
       "        vertical-align: top;\n",
       "    }\n",
       "\n",
       "    .dataframe thead th {\n",
       "        text-align: right;\n",
       "    }\n",
       "</style>\n",
       "<table border=\"1\" class=\"dataframe\">\n",
       "  <thead>\n",
       "    <tr style=\"text-align: right;\">\n",
       "      <th></th>\n",
       "      <th>color</th>\n",
       "      <th>size</th>\n",
       "      <th>price</th>\n",
       "      <th>quantity</th>\n",
       "    </tr>\n",
       "  </thead>\n",
       "  <tbody>\n",
       "    <tr>\n",
       "      <th>0</th>\n",
       "      <td>red</td>\n",
       "      <td>S</td>\n",
       "      <td>10.5</td>\n",
       "      <td>5</td>\n",
       "    </tr>\n",
       "    <tr>\n",
       "      <th>1</th>\n",
       "      <td>blue</td>\n",
       "      <td>M</td>\n",
       "      <td>20.0</td>\n",
       "      <td>3</td>\n",
       "    </tr>\n",
       "    <tr>\n",
       "      <th>2</th>\n",
       "      <td>green</td>\n",
       "      <td>L</td>\n",
       "      <td>15.0</td>\n",
       "      <td>8</td>\n",
       "    </tr>\n",
       "    <tr>\n",
       "      <th>3</th>\n",
       "      <td>blue</td>\n",
       "      <td>M</td>\n",
       "      <td>20.0</td>\n",
       "      <td>6</td>\n",
       "    </tr>\n",
       "    <tr>\n",
       "      <th>4</th>\n",
       "      <td>None</td>\n",
       "      <td>S</td>\n",
       "      <td>10.5</td>\n",
       "      <td>7</td>\n",
       "    </tr>\n",
       "  </tbody>\n",
       "</table>\n",
       "</div>"
      ],
      "text/plain": [
       "   color size  price  quantity\n",
       "0    red    S   10.5         5\n",
       "1   blue    M   20.0         3\n",
       "2  green    L   15.0         8\n",
       "3   blue    M   20.0         6\n",
       "4   None    S   10.5         7"
      ]
     },
     "execution_count": 5,
     "metadata": {},
     "output_type": "execute_result"
    }
   ],
   "source": [
    "# Sample DataFrame\n",
    "df = pd.DataFrame({\n",
    "    'color': ['red', 'blue', 'green', 'blue', None],\n",
    "    'size': ['S', 'M', 'L', 'M', 'S'],\n",
    "    'price': [10.5, 20.0, 15.0, 20.0, 10.5],\n",
    "    'quantity': [5, 3, 8, 6, 7]\n",
    "})\n",
    "\n",
    "df"
   ]
  },
  {
   "cell_type": "code",
   "execution_count": 6,
   "metadata": {},
   "outputs": [
    {
     "data": {
      "text/plain": [
       "[{'color': 'red', 'size': 'S', 'price': 10.5, 'quantity': 5},\n",
       " {'color': 'blue', 'size': 'M', 'price': 20.0, 'quantity': 3},\n",
       " {'color': 'green', 'size': 'L', 'price': 15.0, 'quantity': 8},\n",
       " {'color': 'blue', 'size': 'M', 'price': 20.0, 'quantity': 6},\n",
       " {'color': None, 'size': 'S', 'price': 10.5, 'quantity': 7}]"
      ]
     },
     "execution_count": 6,
     "metadata": {},
     "output_type": "execute_result"
    }
   ],
   "source": [
    "data_dict = df.to_dict(orient='records')\n",
    "data_dict"
   ]
  },
  {
   "cell_type": "code",
   "execution_count": 7,
   "metadata": {},
   "outputs": [],
   "source": [
    "import pandas as pd\n",
    "from sklearn.feature_extraction import DictVectorizer"
   ]
  },
  {
   "cell_type": "code",
   "execution_count": 8,
   "metadata": {},
   "outputs": [],
   "source": [
    "dv = DictVectorizer(sparse=False, dtype='float32', separator='_')"
   ]
  },
  {
   "cell_type": "code",
   "execution_count": 9,
   "metadata": {},
   "outputs": [
    {
     "ename": "TypeError",
     "evalue": "'str' object is not callable",
     "output_type": "error",
     "traceback": [
      "\u001b[0;31m---------------------------------------------------------------------------\u001b[0m",
      "\u001b[0;31mTypeError\u001b[0m                                 Traceback (most recent call last)",
      "Cell \u001b[0;32mIn[9], line 1\u001b[0m\n\u001b[0;32m----> 1\u001b[0m X \u001b[38;5;241m=\u001b[39m \u001b[43mdv\u001b[49m\u001b[38;5;241;43m.\u001b[39;49m\u001b[43mfit_transform\u001b[49m\u001b[43m(\u001b[49m\u001b[43mdata_dict\u001b[49m\u001b[43m)\u001b[49m\n",
      "File \u001b[0;32m~/anaconda3/envs/machine-learning-env/lib/python3.10/site-packages/sklearn/utils/_set_output.py:319\u001b[0m, in \u001b[0;36m_wrap_method_output.<locals>.wrapped\u001b[0;34m(self, X, *args, **kwargs)\u001b[0m\n\u001b[1;32m    317\u001b[0m \u001b[38;5;129m@wraps\u001b[39m(f)\n\u001b[1;32m    318\u001b[0m \u001b[38;5;28;01mdef\u001b[39;00m \u001b[38;5;21mwrapped\u001b[39m(\u001b[38;5;28mself\u001b[39m, X, \u001b[38;5;241m*\u001b[39margs, \u001b[38;5;241m*\u001b[39m\u001b[38;5;241m*\u001b[39mkwargs):\n\u001b[0;32m--> 319\u001b[0m     data_to_wrap \u001b[38;5;241m=\u001b[39m \u001b[43mf\u001b[49m\u001b[43m(\u001b[49m\u001b[38;5;28;43mself\u001b[39;49m\u001b[43m,\u001b[49m\u001b[43m \u001b[49m\u001b[43mX\u001b[49m\u001b[43m,\u001b[49m\u001b[43m \u001b[49m\u001b[38;5;241;43m*\u001b[39;49m\u001b[43margs\u001b[49m\u001b[43m,\u001b[49m\u001b[43m \u001b[49m\u001b[38;5;241;43m*\u001b[39;49m\u001b[38;5;241;43m*\u001b[39;49m\u001b[43mkwargs\u001b[49m\u001b[43m)\u001b[49m\n\u001b[1;32m    320\u001b[0m     \u001b[38;5;28;01mif\u001b[39;00m \u001b[38;5;28misinstance\u001b[39m(data_to_wrap, \u001b[38;5;28mtuple\u001b[39m):\n\u001b[1;32m    321\u001b[0m         \u001b[38;5;66;03m# only wrap the first output for cross decomposition\u001b[39;00m\n\u001b[1;32m    322\u001b[0m         return_tuple \u001b[38;5;241m=\u001b[39m (\n\u001b[1;32m    323\u001b[0m             _wrap_data_with_container(method, data_to_wrap[\u001b[38;5;241m0\u001b[39m], X, \u001b[38;5;28mself\u001b[39m),\n\u001b[1;32m    324\u001b[0m             \u001b[38;5;241m*\u001b[39mdata_to_wrap[\u001b[38;5;241m1\u001b[39m:],\n\u001b[1;32m    325\u001b[0m         )\n",
      "File \u001b[0;32m~/anaconda3/envs/machine-learning-env/lib/python3.10/site-packages/sklearn/base.py:1389\u001b[0m, in \u001b[0;36m_fit_context.<locals>.decorator.<locals>.wrapper\u001b[0;34m(estimator, *args, **kwargs)\u001b[0m\n\u001b[1;32m   1382\u001b[0m     estimator\u001b[38;5;241m.\u001b[39m_validate_params()\n\u001b[1;32m   1384\u001b[0m \u001b[38;5;28;01mwith\u001b[39;00m config_context(\n\u001b[1;32m   1385\u001b[0m     skip_parameter_validation\u001b[38;5;241m=\u001b[39m(\n\u001b[1;32m   1386\u001b[0m         prefer_skip_nested_validation \u001b[38;5;129;01mor\u001b[39;00m global_skip_validation\n\u001b[1;32m   1387\u001b[0m     )\n\u001b[1;32m   1388\u001b[0m ):\n\u001b[0;32m-> 1389\u001b[0m     \u001b[38;5;28;01mreturn\u001b[39;00m \u001b[43mfit_method\u001b[49m\u001b[43m(\u001b[49m\u001b[43mestimator\u001b[49m\u001b[43m,\u001b[49m\u001b[43m \u001b[49m\u001b[38;5;241;43m*\u001b[39;49m\u001b[43margs\u001b[49m\u001b[43m,\u001b[49m\u001b[43m \u001b[49m\u001b[38;5;241;43m*\u001b[39;49m\u001b[38;5;241;43m*\u001b[39;49m\u001b[43mkwargs\u001b[49m\u001b[43m)\u001b[49m\n",
      "File \u001b[0;32m~/anaconda3/envs/machine-learning-env/lib/python3.10/site-packages/sklearn/feature_extraction/_dict_vectorizer.py:320\u001b[0m, in \u001b[0;36mDictVectorizer.fit_transform\u001b[0;34m(self, X, y)\u001b[0m\n\u001b[1;32m    296\u001b[0m \u001b[38;5;129m@_fit_context\u001b[39m(prefer_skip_nested_validation\u001b[38;5;241m=\u001b[39m\u001b[38;5;28;01mTrue\u001b[39;00m)\n\u001b[1;32m    297\u001b[0m \u001b[38;5;28;01mdef\u001b[39;00m \u001b[38;5;21mfit_transform\u001b[39m(\u001b[38;5;28mself\u001b[39m, X, y\u001b[38;5;241m=\u001b[39m\u001b[38;5;28;01mNone\u001b[39;00m):\n\u001b[1;32m    298\u001b[0m \u001b[38;5;250m    \u001b[39m\u001b[38;5;124;03m\"\"\"Learn a list of feature name -> indices mappings and transform X.\u001b[39;00m\n\u001b[1;32m    299\u001b[0m \n\u001b[1;32m    300\u001b[0m \u001b[38;5;124;03m    Like fit(X) followed by transform(X), but does not require\u001b[39;00m\n\u001b[0;32m   (...)\u001b[0m\n\u001b[1;32m    318\u001b[0m \u001b[38;5;124;03m        Feature vectors; always 2-d.\u001b[39;00m\n\u001b[1;32m    319\u001b[0m \u001b[38;5;124;03m    \"\"\"\u001b[39;00m\n\u001b[0;32m--> 320\u001b[0m     \u001b[38;5;28;01mreturn\u001b[39;00m \u001b[38;5;28;43mself\u001b[39;49m\u001b[38;5;241;43m.\u001b[39;49m\u001b[43m_transform\u001b[49m\u001b[43m(\u001b[49m\u001b[43mX\u001b[49m\u001b[43m,\u001b[49m\u001b[43m \u001b[49m\u001b[43mfitting\u001b[49m\u001b[38;5;241;43m=\u001b[39;49m\u001b[38;5;28;43;01mTrue\u001b[39;49;00m\u001b[43m)\u001b[49m\n",
      "File \u001b[0;32m~/anaconda3/envs/machine-learning-env/lib/python3.10/site-packages/sklearn/feature_extraction/_dict_vectorizer.py:262\u001b[0m, in \u001b[0;36mDictVectorizer._transform\u001b[0;34m(self, X, fitting)\u001b[0m\n\u001b[1;32m    260\u001b[0m             \u001b[38;5;28;01mif\u001b[39;00m feature_name \u001b[38;5;129;01min\u001b[39;00m vocab:\n\u001b[1;32m    261\u001b[0m                 indices\u001b[38;5;241m.\u001b[39mappend(vocab[feature_name])\n\u001b[0;32m--> 262\u001b[0m                 values\u001b[38;5;241m.\u001b[39mappend(\u001b[38;5;28;43mself\u001b[39;49m\u001b[38;5;241;43m.\u001b[39;49m\u001b[43mdtype\u001b[49m\u001b[43m(\u001b[49m\u001b[43mv\u001b[49m\u001b[43m)\u001b[49m)\n\u001b[1;32m    264\u001b[0m     indptr\u001b[38;5;241m.\u001b[39mappend(\u001b[38;5;28mlen\u001b[39m(indices))\n\u001b[1;32m    266\u001b[0m \u001b[38;5;28;01mif\u001b[39;00m \u001b[38;5;28mlen\u001b[39m(indptr) \u001b[38;5;241m==\u001b[39m \u001b[38;5;241m1\u001b[39m:\n",
      "\u001b[0;31mTypeError\u001b[0m: 'str' object is not callable"
     ]
    }
   ],
   "source": [
    "X = dv.fit_transform(data_dict)"
   ]
  },
  {
   "cell_type": "raw",
   "metadata": {
    "vscode": {
     "languageId": "raw"
    }
   },
   "source": [
    "# Define count_entries()\n",
    "def count_entries(df, col_name='lang'):\n",
    "    \"\"\"Return a dictionary with counts of\n",
    "    occurrences as value for each key.\"\"\"\n",
    "\n",
    "    # Initialize an empty dictionary: cols_count\n",
    "    cols_count = {}\n",
    "\n",
    "    # Extract column from DataFrame: col\n",
    "    col = df[col_name]\n",
    "    \n",
    "    # Iterate over the column in DataFrame\n",
    "    for entry in col:\n",
    "\n",
    "        # If entry is in cols_count, add 1\n",
    "        if entry in cols_count.keys():\n",
    "            cols_count[entry] += 1\n",
    "\n",
    "        # Else add the entry to cols_count, set the value to 1\n",
    "        else:\n",
    "            cols_count[entry] = 1\n",
    "\n",
    "    # Return the cols_count dictionary\n",
    "    return cols_count\n",
    "\n",
    "# Call count_entries(): result1\n",
    "result1 = count_entries(tweets_df)\n",
    "\n",
    "# Call count_entries(): result2\n",
    "result2 = count_entries(tweets_df, 'source')\n",
    "\n",
    "# Print result1 and result2\n",
    "print(result1)\n",
    "print(result2)"
   ]
  },
  {
   "cell_type": "code",
   "execution_count": 1,
   "metadata": {},
   "outputs": [],
   "source": [
    "import pandas as pd"
   ]
  },
  {
   "cell_type": "code",
   "execution_count": 3,
   "metadata": {},
   "outputs": [
    {
     "data": {
      "text/html": [
       "<div>\n",
       "<style scoped>\n",
       "    .dataframe tbody tr th:only-of-type {\n",
       "        vertical-align: middle;\n",
       "    }\n",
       "\n",
       "    .dataframe tbody tr th {\n",
       "        vertical-align: top;\n",
       "    }\n",
       "\n",
       "    .dataframe thead th {\n",
       "        text-align: right;\n",
       "    }\n",
       "</style>\n",
       "<table border=\"1\" class=\"dataframe\">\n",
       "  <thead>\n",
       "    <tr style=\"text-align: right;\">\n",
       "      <th></th>\n",
       "      <th>color</th>\n",
       "      <th>name</th>\n",
       "    </tr>\n",
       "  </thead>\n",
       "  <tbody>\n",
       "    <tr>\n",
       "      <th>0</th>\n",
       "      <td>while</td>\n",
       "      <td>Olu</td>\n",
       "    </tr>\n",
       "    <tr>\n",
       "      <th>1</th>\n",
       "      <td>red</td>\n",
       "      <td>Jine</td>\n",
       "    </tr>\n",
       "  </tbody>\n",
       "</table>\n",
       "</div>"
      ],
      "text/plain": [
       "   color  name\n",
       "0  while   Olu\n",
       "1    red  Jine"
      ]
     },
     "execution_count": 3,
     "metadata": {},
     "output_type": "execute_result"
    }
   ],
   "source": [
    "df = pd.DataFrame({\"color\": ['while', 'red'],\n",
    "                   \"name\": ['Olu', 'Jine']})\n",
    "df"
   ]
  },
  {
   "cell_type": "code",
   "execution_count": 9,
   "metadata": {},
   "outputs": [
    {
     "name": "stdout",
     "output_type": "stream",
     "text": [
      "('TESLIM', 625)\n"
     ]
    }
   ],
   "source": [
    "named = lambda name, amount: (name.upper(), amount**4)\n",
    "\n",
    "attention = named(\"teslim\", 5)\n",
    "\n",
    "print(attention)\n",
    "\n"
   ]
  },
  {
   "cell_type": "code",
   "execution_count": 13,
   "metadata": {},
   "outputs": [
    {
     "data": {
      "text/plain": [
       "[4, 16, 36, 64, 100]"
      ]
     },
     "execution_count": 13,
     "metadata": {},
     "output_type": "execute_result"
    }
   ],
   "source": [
    "nums = [2, 4, 6, 8, 10]\n",
    "\n",
    "result = map(lambda a: a ** 2, nums)\n",
    "\n",
    "list(result)\n"
   ]
  },
  {
   "cell_type": "code",
   "execution_count": 14,
   "metadata": {},
   "outputs": [
    {
     "name": "stdout",
     "output_type": "stream",
     "text": [
      "['protego!!!', 'accio!!!', 'expecto patronum!!!', 'legilimens!!!']\n"
     ]
    }
   ],
   "source": [
    "# Create a list of strings: spells\n",
    "spells = ['protego', 'accio', 'expecto patronum', 'legilimens']\n",
    "\n",
    "# Use map() to apply a lambda function over spells: shout_spells\n",
    "shout_spells = map(lambda item: item + '!!!', spells)\n",
    "\n",
    "# Convert shout_spells to a list: shout_spells_list\n",
    "shout_spells_list = list(shout_spells)\n",
    "\n",
    "# Print the result\n",
    "print(shout_spells_list)"
   ]
  },
  {
   "cell_type": "code",
   "execution_count": 15,
   "metadata": {},
   "outputs": [
    {
     "name": "stdout",
     "output_type": "stream",
     "text": [
      "['samwise', 'aragorn', 'boromir', 'legolas', 'gandalf']\n"
     ]
    }
   ],
   "source": [
    "# Create a list of strings: fellowship\n",
    "fellowship = ['frodo', 'samwise', 'merry', 'pippin', 'aragorn', 'boromir', 'legolas', 'gimli', 'gandalf']\n",
    "\n",
    "# Use filter() to apply a lambda function over fellowship: result\n",
    "result = filter(lambda member: len(member)>6, fellowship)\n",
    "\n",
    "# Convert result to a list: result_list\n",
    "result_list = list(result)\n",
    "\n",
    "# Print result_list\n",
    "print(result_list)"
   ]
  },
  {
   "cell_type": "code",
   "execution_count": 2,
   "metadata": {},
   "outputs": [
    {
     "name": "stdout",
     "output_type": "stream",
     "text": [
      "You have passed 0\n",
      "You have passed 1\n",
      "You have passed 2\n",
      "You have passed 3\n",
      "You have passed 4\n",
      "You have passed 5\n",
      "You have passed 6\n",
      "You have passed 7\n",
      "You have passed 8\n",
      "You have passed 9\n"
     ]
    }
   ],
   "source": [
    "pass_marks = 0\n",
    "\n",
    "while pass_marks < 10:\n",
    "    print(f\"You have passed\", pass_marks)\n",
    "    pass_marks += 1"
   ]
  },
  {
   "cell_type": "code",
   "execution_count": 4,
   "metadata": {},
   "outputs": [
    {
     "name": "stdout",
     "output_type": "stream",
     "text": [
      "\n",
      "Starting Level 1\n",
      "Level 1 - Current score: 0. Keep playing!\n",
      "Level 1 - Current score: 1. Keep playing!\n",
      "Level 1 - Current score: 2. Keep playing!\n",
      "Level 1 - Current score: 3. Keep playing!\n",
      "Level 1 - Current score: 4. Keep playing!\n",
      "Level 1 - Current score: 5. Keep playing!\n",
      "Level 1 - Current score: 6. Keep playing!\n",
      "Level 1 - Current score: 7. Keep playing!\n",
      "Level 1 - Current score: 8. Keep playing!\n",
      "Level 1 - Current score: 9. Keep playing!\n",
      "Congratulations! You completed Level 1 with a score of 10!\n",
      "\n",
      "Starting Level 2\n",
      "Level 2 - Current score: 0. Keep playing!\n",
      "Level 2 - Current score: 1. Keep playing!\n",
      "Level 2 - Current score: 2. Keep playing!\n",
      "Level 2 - Current score: 3. Keep playing!\n",
      "Level 2 - Current score: 4. Keep playing!\n",
      "Level 2 - Current score: 5. Keep playing!\n",
      "Level 2 - Current score: 6. Keep playing!\n",
      "Level 2 - Current score: 7. Keep playing!\n",
      "Level 2 - Current score: 8. Keep playing!\n",
      "Level 2 - Current score: 9. Keep playing!\n",
      "Congratulations! You completed Level 2 with a score of 10!\n",
      "\n",
      "Great job! You completed all levels!\n"
     ]
    }
   ],
   "source": [
    "# Initialize the level and the score\n",
    "level = 1\n",
    "max_level = 3\n",
    "\n",
    "# Outer loop to manage levels\n",
    "while level < max_level:\n",
    "    print(f\"\\nStarting Level {level}\")\n",
    "    \n",
    "    # Initialize score for the level\n",
    "    score = 0\n",
    "    \n",
    "    # Inner loop to keep playing the game until the score reaches 10\n",
    "    while score < 10:\n",
    "        print(f\"Level {level} - Current score: {score}. Keep playing!\")\n",
    "        # Simulate earning a point\n",
    "        score += 1  # This adds 1 to the score each time the loop runs\n",
    "    \n",
    "    # Once the inner loop completes, the level is finished\n",
    "    print(f\"Congratulations! You completed Level {level} with a score of 10!\")\n",
    "    \n",
    "    # Move to the next level\n",
    "    level += 1\n",
    "\n",
    "# Outer loop completes after all levels are finished\n",
    "print(\"\\nGreat job! You completed all levels!\")"
   ]
  },
  {
   "cell_type": "code",
   "execution_count": 5,
   "metadata": {},
   "outputs": [
    {
     "name": "stdout",
     "output_type": "stream",
     "text": [
      "The price is $5.\n"
     ]
    }
   ],
   "source": [
    "age = 15\n",
    "\n",
    "if age < 4:\n",
    "    price = 0\n",
    "elif age < 18:\n",
    "    price = 5\n",
    "else:\n",
    "    price = 10\n",
    "\n",
    "print(f\"The price is ${price}.\")\n"
   ]
  },
  {
   "cell_type": "code",
   "execution_count": 6,
   "metadata": {},
   "outputs": [
    {
     "name": "stdout",
     "output_type": "stream",
     "text": [
      "Your admission cost is $25.\n"
     ]
    }
   ],
   "source": [
    "age = 12\n",
    "\n",
    "if age < 4:\n",
    "    price = 0 \n",
    "elif age < 18:\n",
    "    price = 25 \n",
    "elif age < 65:\n",
    "    price = 40 \n",
    "else:\n",
    "    price = 20\n",
    "\n",
    "print(f\"Your admission cost is ${price}.\")"
   ]
  },
  {
   "cell_type": "code",
   "execution_count": 8,
   "metadata": {},
   "outputs": [
    {
     "data": {
      "text/html": [
       "<div>\n",
       "<style scoped>\n",
       "    .dataframe tbody tr th:only-of-type {\n",
       "        vertical-align: middle;\n",
       "    }\n",
       "\n",
       "    .dataframe tbody tr th {\n",
       "        vertical-align: top;\n",
       "    }\n",
       "\n",
       "    .dataframe thead th {\n",
       "        text-align: right;\n",
       "    }\n",
       "</style>\n",
       "<table border=\"1\" class=\"dataframe\">\n",
       "  <thead>\n",
       "    <tr style=\"text-align: right;\">\n",
       "      <th></th>\n",
       "      <th>name</th>\n",
       "      <th>age</th>\n",
       "    </tr>\n",
       "  </thead>\n",
       "  <tbody>\n",
       "    <tr>\n",
       "      <th>0</th>\n",
       "      <td>Teslim</td>\n",
       "      <td>30</td>\n",
       "    </tr>\n",
       "  </tbody>\n",
       "</table>\n",
       "</div>"
      ],
      "text/plain": [
       "     name  age\n",
       "0  Teslim   30"
      ]
     },
     "execution_count": 8,
     "metadata": {},
     "output_type": "execute_result"
    }
   ],
   "source": [
    "detail = {\n",
    "    \"name\": \"Teslim\",\n",
    "    \"age\": 30\n",
    "}\n",
    "\n",
    "import pandas as pd\n",
    "\n",
    "df = pd.DataFrame(detail, index=[0])\n",
    "\n",
    "df"
   ]
  },
  {
   "cell_type": "code",
   "execution_count": 9,
   "metadata": {},
   "outputs": [
    {
     "data": {
      "text/html": [
       "<div>\n",
       "<style scoped>\n",
       "    .dataframe tbody tr th:only-of-type {\n",
       "        vertical-align: middle;\n",
       "    }\n",
       "\n",
       "    .dataframe tbody tr th {\n",
       "        vertical-align: top;\n",
       "    }\n",
       "\n",
       "    .dataframe thead th {\n",
       "        text-align: right;\n",
       "    }\n",
       "</style>\n",
       "<table border=\"1\" class=\"dataframe\">\n",
       "  <thead>\n",
       "    <tr style=\"text-align: right;\">\n",
       "      <th></th>\n",
       "      <th>color</th>\n",
       "      <th>size</th>\n",
       "      <th>value</th>\n",
       "    </tr>\n",
       "  </thead>\n",
       "  <tbody>\n",
       "    <tr>\n",
       "      <th>0</th>\n",
       "      <td>red</td>\n",
       "      <td>S</td>\n",
       "      <td>10</td>\n",
       "    </tr>\n",
       "    <tr>\n",
       "      <th>1</th>\n",
       "      <td>blue</td>\n",
       "      <td>M</td>\n",
       "      <td>15</td>\n",
       "    </tr>\n",
       "    <tr>\n",
       "      <th>2</th>\n",
       "      <td>green</td>\n",
       "      <td>L</td>\n",
       "      <td>10</td>\n",
       "    </tr>\n",
       "    <tr>\n",
       "      <th>3</th>\n",
       "      <td>blue</td>\n",
       "      <td>S</td>\n",
       "      <td>20</td>\n",
       "    </tr>\n",
       "    <tr>\n",
       "      <th>4</th>\n",
       "      <td>None</td>\n",
       "      <td>M</td>\n",
       "      <td>25</td>\n",
       "    </tr>\n",
       "  </tbody>\n",
       "</table>\n",
       "</div>"
      ],
      "text/plain": [
       "   color size  value\n",
       "0    red    S     10\n",
       "1   blue    M     15\n",
       "2  green    L     10\n",
       "3   blue    S     20\n",
       "4   None    M     25"
      ]
     },
     "execution_count": 9,
     "metadata": {},
     "output_type": "execute_result"
    }
   ],
   "source": [
    "import pandas as pd\n",
    "\n",
    "# Example DataFrame\n",
    "df2 = pd.DataFrame({\n",
    "    'color': ['red', 'blue', 'green', 'blue', None],\n",
    "    'size': ['S', 'M', 'L', 'S', 'M'],\n",
    "    'value': [10, 15, 10, 20, 25]\n",
    "})\n",
    "\n",
    "df2"
   ]
  },
  {
   "cell_type": "code",
   "execution_count": 10,
   "metadata": {},
   "outputs": [
    {
     "data": {
      "text/html": [
       "<div>\n",
       "<style scoped>\n",
       "    .dataframe tbody tr th:only-of-type {\n",
       "        vertical-align: middle;\n",
       "    }\n",
       "\n",
       "    .dataframe tbody tr th {\n",
       "        vertical-align: top;\n",
       "    }\n",
       "\n",
       "    .dataframe thead th {\n",
       "        text-align: right;\n",
       "    }\n",
       "</style>\n",
       "<table border=\"1\" class=\"dataframe\">\n",
       "  <thead>\n",
       "    <tr style=\"text-align: right;\">\n",
       "      <th></th>\n",
       "      <th>value</th>\n",
       "      <th>col-blue</th>\n",
       "      <th>col-green</th>\n",
       "      <th>col-red</th>\n",
       "      <th>col-nan</th>\n",
       "      <th>sz-L</th>\n",
       "      <th>sz-M</th>\n",
       "      <th>sz-S</th>\n",
       "      <th>sz-nan</th>\n",
       "    </tr>\n",
       "  </thead>\n",
       "  <tbody>\n",
       "    <tr>\n",
       "      <th>0</th>\n",
       "      <td>10</td>\n",
       "      <td>0</td>\n",
       "      <td>0</td>\n",
       "      <td>1</td>\n",
       "      <td>0</td>\n",
       "      <td>0</td>\n",
       "      <td>0</td>\n",
       "      <td>1</td>\n",
       "      <td>0</td>\n",
       "    </tr>\n",
       "    <tr>\n",
       "      <th>1</th>\n",
       "      <td>15</td>\n",
       "      <td>1</td>\n",
       "      <td>0</td>\n",
       "      <td>0</td>\n",
       "      <td>0</td>\n",
       "      <td>0</td>\n",
       "      <td>1</td>\n",
       "      <td>0</td>\n",
       "      <td>0</td>\n",
       "    </tr>\n",
       "    <tr>\n",
       "      <th>2</th>\n",
       "      <td>10</td>\n",
       "      <td>0</td>\n",
       "      <td>1</td>\n",
       "      <td>0</td>\n",
       "      <td>0</td>\n",
       "      <td>1</td>\n",
       "      <td>0</td>\n",
       "      <td>0</td>\n",
       "      <td>0</td>\n",
       "    </tr>\n",
       "    <tr>\n",
       "      <th>3</th>\n",
       "      <td>20</td>\n",
       "      <td>1</td>\n",
       "      <td>0</td>\n",
       "      <td>0</td>\n",
       "      <td>0</td>\n",
       "      <td>0</td>\n",
       "      <td>0</td>\n",
       "      <td>1</td>\n",
       "      <td>0</td>\n",
       "    </tr>\n",
       "    <tr>\n",
       "      <th>4</th>\n",
       "      <td>25</td>\n",
       "      <td>0</td>\n",
       "      <td>0</td>\n",
       "      <td>0</td>\n",
       "      <td>1</td>\n",
       "      <td>0</td>\n",
       "      <td>1</td>\n",
       "      <td>0</td>\n",
       "      <td>0</td>\n",
       "    </tr>\n",
       "  </tbody>\n",
       "</table>\n",
       "</div>"
      ],
      "text/plain": [
       "   value  col-blue  col-green  col-red  col-nan  sz-L  sz-M  sz-S  sz-nan\n",
       "0     10         0          0        1        0     0     0     1       0\n",
       "1     15         1          0        0        0     0     1     0       0\n",
       "2     10         0          1        0        0     1     0     0       0\n",
       "3     20         1          0        0        0     0     0     1       0\n",
       "4     25         0          0        0        1     0     1     0       0"
      ]
     },
     "execution_count": 10,
     "metadata": {},
     "output_type": "execute_result"
    }
   ],
   "source": [
    "# Enhanced `pd.get_dummies` usage\n",
    "df_one_hot = pd.get_dummies(\n",
    "    df2, \n",
    "    columns=['color', 'size'],  # Specify columns to encode\n",
    "    prefix=['col', 'sz'],      # Custom prefixes for encoded columns\n",
    "    prefix_sep='-',            # Custom separator for prefixes\n",
    "    dummy_na=True,             # Add column for missing values\n",
    "    drop_first=False,           # Drop the first category to avoid multicollinearity\n",
    "    dtype='int64'              # Ensure encoded columns are integer type\n",
    ")\n",
    "\n",
    "df_one_hot"
   ]
  },
  {
   "cell_type": "code",
   "execution_count": 11,
   "metadata": {},
   "outputs": [
    {
     "data": {
      "text/html": [
       "<div>\n",
       "<style scoped>\n",
       "    .dataframe tbody tr th:only-of-type {\n",
       "        vertical-align: middle;\n",
       "    }\n",
       "\n",
       "    .dataframe tbody tr th {\n",
       "        vertical-align: top;\n",
       "    }\n",
       "\n",
       "    .dataframe thead th {\n",
       "        text-align: right;\n",
       "    }\n",
       "</style>\n",
       "<table border=\"1\" class=\"dataframe\">\n",
       "  <thead>\n",
       "    <tr style=\"text-align: right;\">\n",
       "      <th></th>\n",
       "      <th>value</th>\n",
       "      <th>col-green</th>\n",
       "      <th>col-red</th>\n",
       "      <th>col-nan</th>\n",
       "      <th>sz-M</th>\n",
       "      <th>sz-S</th>\n",
       "      <th>sz-nan</th>\n",
       "    </tr>\n",
       "  </thead>\n",
       "  <tbody>\n",
       "    <tr>\n",
       "      <th>0</th>\n",
       "      <td>10</td>\n",
       "      <td>0</td>\n",
       "      <td>1</td>\n",
       "      <td>0</td>\n",
       "      <td>0</td>\n",
       "      <td>1</td>\n",
       "      <td>0</td>\n",
       "    </tr>\n",
       "    <tr>\n",
       "      <th>1</th>\n",
       "      <td>15</td>\n",
       "      <td>0</td>\n",
       "      <td>0</td>\n",
       "      <td>0</td>\n",
       "      <td>1</td>\n",
       "      <td>0</td>\n",
       "      <td>0</td>\n",
       "    </tr>\n",
       "    <tr>\n",
       "      <th>2</th>\n",
       "      <td>10</td>\n",
       "      <td>1</td>\n",
       "      <td>0</td>\n",
       "      <td>0</td>\n",
       "      <td>0</td>\n",
       "      <td>0</td>\n",
       "      <td>0</td>\n",
       "    </tr>\n",
       "    <tr>\n",
       "      <th>3</th>\n",
       "      <td>20</td>\n",
       "      <td>0</td>\n",
       "      <td>0</td>\n",
       "      <td>0</td>\n",
       "      <td>0</td>\n",
       "      <td>1</td>\n",
       "      <td>0</td>\n",
       "    </tr>\n",
       "    <tr>\n",
       "      <th>4</th>\n",
       "      <td>25</td>\n",
       "      <td>0</td>\n",
       "      <td>0</td>\n",
       "      <td>1</td>\n",
       "      <td>1</td>\n",
       "      <td>0</td>\n",
       "      <td>0</td>\n",
       "    </tr>\n",
       "  </tbody>\n",
       "</table>\n",
       "</div>"
      ],
      "text/plain": [
       "   value  col-green  col-red  col-nan  sz-M  sz-S  sz-nan\n",
       "0     10          0        1        0     0     1       0\n",
       "1     15          0        0        0     1     0       0\n",
       "2     10          1        0        0     0     0       0\n",
       "3     20          0        0        0     0     1       0\n",
       "4     25          0        0        1     1     0       0"
      ]
     },
     "execution_count": 11,
     "metadata": {},
     "output_type": "execute_result"
    }
   ],
   "source": [
    "# Enhanced `pd.get_dummies` usage\n",
    "df_one_hot_2 = pd.get_dummies(\n",
    "    df2, \n",
    "    columns=['color', 'size'],  # Specify columns to encode\n",
    "    prefix=['col', 'sz'],      # Custom prefixes for encoded columns\n",
    "    prefix_sep='-',            # Custom separator for prefixes\n",
    "    dummy_na=True,             # Add column for missing values\n",
    "    drop_first=True,           # Drop the first category to avoid multicollinearity\n",
    "    dtype='int64'              # Ensure encoded columns are integer type\n",
    ")\n",
    "\n",
    "df_one_hot_2"
   ]
  },
  {
   "cell_type": "code",
   "execution_count": 1,
   "metadata": {},
   "outputs": [
    {
     "name": "stdout",
     "output_type": "stream",
     "text": [
      "1\n",
      "2\n",
      "3\n",
      "4\n",
      "5\n",
      "6\n",
      "7\n",
      "8\n",
      "9\n"
     ]
    }
   ],
   "source": [
    "for i in range(1, 10):\n",
    "    print(i)"
   ]
  },
  {
   "cell_type": "code",
   "execution_count": 2,
   "metadata": {},
   "outputs": [
    {
     "name": "stdout",
     "output_type": "stream",
     "text": [
      "1\n",
      "2\n",
      "3\n",
      "4\n",
      "5\n",
      "6\n",
      "7\n",
      "8\n",
      "9\n"
     ]
    }
   ],
   "source": [
    "for i in range(1, 10):\n",
    "    print(i)"
   ]
  },
  {
   "cell_type": "code",
   "execution_count": 5,
   "metadata": {},
   "outputs": [
    {
     "name": "stdout",
     "output_type": "stream",
     "text": [
      "[1, 2, 3, 4, 5, 6, 7, 8, 9]\n"
     ]
    }
   ],
   "source": [
    "number  = []\n",
    "\n",
    "for i in range(1, 10):\n",
    "    number.append(i)\n",
    "print(number)"
   ]
  },
  {
   "cell_type": "code",
   "execution_count": 4,
   "metadata": {},
   "outputs": [
    {
     "name": "stdout",
     "output_type": "stream",
     "text": [
      "[1, 2, 3, 4, 5, 6, 7, 8, 9]\n"
     ]
    }
   ],
   "source": [
    "number1 = [x for x in range(1, 10)]\n",
    "print(number1)"
   ]
  },
  {
   "cell_type": "code",
   "execution_count": 7,
   "metadata": {},
   "outputs": [
    {
     "name": "stdout",
     "output_type": "stream",
     "text": [
      "<class 'str'>\n"
     ]
    }
   ],
   "source": [
    "a = ('gello')\n",
    "print(type(a))"
   ]
  },
  {
   "cell_type": "code",
   "execution_count": 9,
   "metadata": {},
   "outputs": [
    {
     "name": "stdout",
     "output_type": "stream",
     "text": [
      "<class 'tuple'>\n"
     ]
    }
   ],
   "source": [
    "a = ('gello',)\n",
    "print(type(a))"
   ]
  },
  {
   "cell_type": "code",
   "execution_count": 11,
   "metadata": {},
   "outputs": [
    {
     "name": "stdout",
     "output_type": "stream",
     "text": [
      "<class 'tuple'>\n"
     ]
    }
   ],
   "source": [
    "a = 1,2, \"hello\"\n",
    "\n",
    "print(type(a))"
   ]
  },
  {
   "cell_type": "markdown",
   "metadata": {},
   "source": [
    "# TRY IT YOURSELF "
   ]
  },
  {
   "cell_type": "code",
   "execution_count": 13,
   "metadata": {},
   "outputs": [
    {
     "name": "stdout",
     "output_type": "stream",
     "text": [
      "You have choosen the correct answer, so you earn 5 point\n",
      "You have choosen the correct answer, so you earn 5 point\n"
     ]
    }
   ],
   "source": [
    "# 5.8 \n",
    "alien_color = ['green', 'yellow', 'red']\n",
    "\n",
    "for x in alien_color:\n",
    "    if x == 'green':\n",
    "        print('You have choosen the correct answer, so you earn 5 point')\n"
   ]
  },
  {
   "cell_type": "code",
   "execution_count": 14,
   "metadata": {},
   "outputs": [],
   "source": [
    "# 5.8 \n",
    "alien_color = ['green', 'yellow', 'red']\n",
    "\n",
    "for x in alien_color:\n",
    "    if x == 'Black':\n",
    "        print('You have choosen the correct answer, so you earn 5 point')\n"
   ]
  },
  {
   "cell_type": "code",
   "execution_count": 19,
   "metadata": {},
   "outputs": [
    {
     "name": "stdout",
     "output_type": "stream",
     "text": [
      "The colour is not green, so you earn 10 point\n",
      "The colour is not green, so you earn 10 point\n",
      "The colour is not green, so you earn 10 point\n",
      "You have choosen the correct answer, so you earn 5 point\n",
      "The colour is not green, so you earn 10 point\n",
      "The colour is not green, so you earn 10 point\n",
      "The colour is not green, so you earn 10 point\n",
      "You have choosen the correct answer, so you earn 5 point\n"
     ]
    }
   ],
   "source": [
    "# 5.9 \n",
    "alien_color = ['green', 'yellow', 'red', 'white']\n",
    "\n",
    "for x in alien_color:\n",
    "    if x == 'white':\n",
    "        print('You have choosen the correct answer, so you earn 5 point')\n",
    "    else: print(\"The colour is not green, so you earn 10 point\")"
   ]
  },
  {
   "cell_type": "code",
   "execution_count": 1,
   "metadata": {},
   "outputs": [
    {
     "name": "stdout",
     "output_type": "stream",
     "text": [
      "      Value  Category_A  Category_B  Category_C\n",
      "0 -1.414214        True       False       False\n",
      "1  0.000000       False        True       False\n",
      "2  1.414214       False       False        True\n",
      "3 -0.707107        True       False       False\n",
      "4  0.707107       False        True       False\n",
      "      Value  Category_A  Category_B  Category_C\n",
      "0 -1.414214        True       False       False\n",
      "1  0.000000       False        True       False\n",
      "2  1.414214       False       False        True\n",
      "3 -0.707107        True       False       False\n",
      "4  0.707107       False        True       False\n"
     ]
    }
   ],
   "source": [
    "import pandas as pd\n",
    "from sklearn.preprocessing import StandardScaler\n",
    "\n",
    "# Sample categorical and numerical data\n",
    "df = pd.DataFrame({\n",
    "    'Category': ['A', 'B', 'C', 'A', 'B'],\n",
    "    'Value': [1000, 2000, 3000, 1500, 2500]\n",
    "})\n",
    "\n",
    "# One-hot encoding\n",
    "df_encoded = pd.get_dummies(df, columns=['Category'])\n",
    "\n",
    "# Standardizing numerical features\n",
    "scaler = StandardScaler()\n",
    "df_encoded[['Value']] = scaler.fit_transform(df_encoded[['Value']])\n",
    "\n",
    "print(df_encoded)\n"
   ]
  },
  {
   "cell_type": "code",
   "execution_count": 2,
   "metadata": {},
   "outputs": [
    {
     "data": {
      "text/html": [
       "<div>\n",
       "<style scoped>\n",
       "    .dataframe tbody tr th:only-of-type {\n",
       "        vertical-align: middle;\n",
       "    }\n",
       "\n",
       "    .dataframe tbody tr th {\n",
       "        vertical-align: top;\n",
       "    }\n",
       "\n",
       "    .dataframe thead th {\n",
       "        text-align: right;\n",
       "    }\n",
       "</style>\n",
       "<table border=\"1\" class=\"dataframe\">\n",
       "  <thead>\n",
       "    <tr style=\"text-align: right;\">\n",
       "      <th></th>\n",
       "      <th>Category</th>\n",
       "      <th>Value</th>\n",
       "    </tr>\n",
       "  </thead>\n",
       "  <tbody>\n",
       "    <tr>\n",
       "      <th>0</th>\n",
       "      <td>A</td>\n",
       "      <td>1000</td>\n",
       "    </tr>\n",
       "    <tr>\n",
       "      <th>1</th>\n",
       "      <td>B</td>\n",
       "      <td>2000</td>\n",
       "    </tr>\n",
       "    <tr>\n",
       "      <th>2</th>\n",
       "      <td>C</td>\n",
       "      <td>3000</td>\n",
       "    </tr>\n",
       "    <tr>\n",
       "      <th>3</th>\n",
       "      <td>A</td>\n",
       "      <td>1500</td>\n",
       "    </tr>\n",
       "    <tr>\n",
       "      <th>4</th>\n",
       "      <td>B</td>\n",
       "      <td>2500</td>\n",
       "    </tr>\n",
       "  </tbody>\n",
       "</table>\n",
       "</div>"
      ],
      "text/plain": [
       "  Category  Value\n",
       "0        A   1000\n",
       "1        B   2000\n",
       "2        C   3000\n",
       "3        A   1500\n",
       "4        B   2500"
      ]
     },
     "execution_count": null,
     "metadata": {},
     "output_type": "execute_result"
    }
   ],
   "source": [
    "df"
   ]
  },
  {
   "cell_type": "code",
   "execution_count": 7,
   "metadata": {},
   "outputs": [
    {
     "name": "stdout",
     "output_type": "stream",
     "text": [
      "Standard Scaled Training Data:\n",
      "       Value     Sales  Category_A  Category_B  Category_C  Region_East  Region_North  Region_South  Region_West\n",
      "5  1.420385  1.041118           0           0           1            0             0             1            0\n",
      "0 -1.634207 -1.435055           1           0           0            0             1             0            0\n",
      "7 -0.168003  0.140692           0           1           0            0             0             0            1\n",
      "2  0.809467  0.816012           0           0           1            1             0             0            0\n",
      "9  1.053834  1.266225           1           0           0            0             0             1            0\n",
      "4  0.198549  0.365798           0           1           0            0             1             0            0\n",
      "3 -1.023288 -0.984842           1           0           0            0             0             0            1\n",
      "6 -0.656737 -1.209948           1           0           0            1             0             0            0\n",
      "\n",
      "MinMax Scaled Training Data:\n",
      "    Value     Sales  Category_A  Category_B  Category_C  Region_East  Region_North  Region_South  Region_West\n",
      "5   1.00  0.916667           0           0           1            0             0             1            0\n",
      "0   0.00  0.000000           1           0           0            0             1             0            0\n",
      "7   0.48  0.583333           0           1           0            0             0             0            1\n",
      "2   0.80  0.833333           0           0           1            1             0             0            0\n",
      "9   0.88  1.000000           1           0           0            0             0             1            0\n",
      "4   0.60  0.666667           0           1           0            0             1             0            0\n",
      "3   0.20  0.166667           1           0           0            0             0             0            1\n",
      "6   0.32  0.083333           1           0           0            1             0             0            0\n",
      "Standard Scaled Training Data:\n",
      "       Value     Sales  Category_A  Category_B  Category_C  Region_East  Region_North  Region_South  Region_West\n",
      "5  1.420385  1.041118           0           0           1            0             0             1            0\n",
      "0 -1.634207 -1.435055           1           0           0            0             1             0            0\n",
      "7 -0.168003  0.140692           0           1           0            0             0             0            1\n",
      "2  0.809467  0.816012           0           0           1            1             0             0            0\n",
      "9  1.053834  1.266225           1           0           0            0             0             1            0\n",
      "4  0.198549  0.365798           0           1           0            0             1             0            0\n",
      "3 -1.023288 -0.984842           1           0           0            0             0             0            1\n",
      "6 -0.656737 -1.209948           1           0           0            1             0             0            0\n",
      "\n",
      "MinMax Scaled Training Data:\n",
      "    Value     Sales  Category_A  Category_B  Category_C  Region_East  Region_North  Region_South  Region_West\n",
      "5   1.00  0.916667           0           0           1            0             0             1            0\n",
      "0   0.00  0.000000           1           0           0            0             1             0            0\n",
      "7   0.48  0.583333           0           1           0            0             0             0            1\n",
      "2   0.80  0.833333           0           0           1            1             0             0            0\n",
      "9   0.88  1.000000           1           0           0            0             0             1            0\n",
      "4   0.60  0.666667           0           1           0            0             1             0            0\n",
      "3   0.20  0.166667           1           0           0            0             0             0            1\n",
      "6   0.32  0.083333           1           0           0            1             0             0            0\n"
     ]
    }
   ],
   "source": [
    "import pandas as pd\n",
    "from sklearn.preprocessing import StandardScaler, MinMaxScaler\n",
    "from sklearn.model_selection import train_test_split\n",
    "\n",
    "# Sample dataset with categorical and numerical features\n",
    "df = pd.DataFrame({\n",
    "    'Category': ['A', 'B', 'C', 'A', 'B', 'C', 'A', 'B', 'C', 'A'],\n",
    "    'Region': ['North', 'South', 'East', 'West', 'North', 'South', 'East', 'West', 'North', 'South'],\n",
    "    'Value': [1000, 2000, 3000, 1500, 2500, 3500, 1800, 2200, 2700, 3200],\n",
    "    'Revenue': [50000, 60000, 55000, 52000, 59000, 62000, 51000, 58000, 61000, 63000],\n",
    "    'Sales': [200, 250, 300, 220, 280, 310, 210, 270, 290, 320]\n",
    "})\n",
    "\n",
    "# One-hot encoding categorical features\n",
    "df_encoded = pd.get_dummies(df, columns=['Category', 'Region'], dtype=int)\n",
    "\n",
    "# Define feature matrix (X) and target variable (y)\n",
    "X = df_encoded.drop(columns=['Revenue'])  # Assume 'Revenue' is the target variable\n",
    "y = df_encoded['Revenue']\n",
    "\n",
    "# Split the data into training and testing sets (80% train, 20% test)\n",
    "X_train, X_test, y_train, y_test = train_test_split(X, y, test_size=0.2, random_state=42)\n",
    "\n",
    "# Initialize scalers\n",
    "standard_scaler = StandardScaler()\n",
    "minmax_scaler = MinMaxScaler()\n",
    "\n",
    "# Apply Standard Scaling to numerical features\n",
    "X_train_scaled_standard = X_train.copy()\n",
    "X_test_scaled_standard = X_test.copy()\n",
    "X_train_scaled_standard[['Value', 'Sales']] = standard_scaler.fit_transform(X_train[['Value', 'Sales']])\n",
    "X_test_scaled_standard[['Value', 'Sales']] = standard_scaler.transform(X_test[['Value', 'Sales']])\n",
    "\n",
    "# Apply MinMax Scaling to numerical features\n",
    "X_train_scaled_minmax = X_train.copy()\n",
    "X_test_scaled_minmax = X_test.copy()\n",
    "X_train_scaled_minmax[['Value', 'Sales']] = minmax_scaler.fit_transform(X_train[['Value', 'Sales']])\n",
    "X_test_scaled_minmax[['Value', 'Sales']] = minmax_scaler.transform(X_test[['Value', 'Sales']])\n",
    "\n",
    "# Display scaled datasets\n",
    "print(\"Standard Scaled Training Data:\\n\", X_train_scaled_standard)\n",
    "print(\"\\nMinMax Scaled Training Data:\\n\", X_train_scaled_minmax)\n"
   ]
  },
  {
   "cell_type": "code",
   "execution_count": 9,
   "metadata": {},
   "outputs": [
    {
     "data": {
      "text/html": [
       "<div>\n",
       "<style scoped>\n",
       "    .dataframe tbody tr th:only-of-type {\n",
       "        vertical-align: middle;\n",
       "    }\n",
       "\n",
       "    .dataframe tbody tr th {\n",
       "        vertical-align: top;\n",
       "    }\n",
       "\n",
       "    .dataframe thead th {\n",
       "        text-align: right;\n",
       "    }\n",
       "</style>\n",
       "<table border=\"1\" class=\"dataframe\">\n",
       "  <thead>\n",
       "    <tr style=\"text-align: right;\">\n",
       "      <th></th>\n",
       "      <th>Category</th>\n",
       "      <th>Region</th>\n",
       "      <th>Value</th>\n",
       "      <th>Revenue</th>\n",
       "      <th>Sales</th>\n",
       "    </tr>\n",
       "  </thead>\n",
       "  <tbody>\n",
       "    <tr>\n",
       "      <th>0</th>\n",
       "      <td>A</td>\n",
       "      <td>North</td>\n",
       "      <td>1000</td>\n",
       "      <td>50000</td>\n",
       "      <td>200</td>\n",
       "    </tr>\n",
       "    <tr>\n",
       "      <th>1</th>\n",
       "      <td>B</td>\n",
       "      <td>South</td>\n",
       "      <td>2000</td>\n",
       "      <td>60000</td>\n",
       "      <td>250</td>\n",
       "    </tr>\n",
       "    <tr>\n",
       "      <th>2</th>\n",
       "      <td>C</td>\n",
       "      <td>East</td>\n",
       "      <td>3000</td>\n",
       "      <td>55000</td>\n",
       "      <td>300</td>\n",
       "    </tr>\n",
       "    <tr>\n",
       "      <th>3</th>\n",
       "      <td>A</td>\n",
       "      <td>West</td>\n",
       "      <td>1500</td>\n",
       "      <td>52000</td>\n",
       "      <td>220</td>\n",
       "    </tr>\n",
       "    <tr>\n",
       "      <th>4</th>\n",
       "      <td>B</td>\n",
       "      <td>North</td>\n",
       "      <td>2500</td>\n",
       "      <td>59000</td>\n",
       "      <td>280</td>\n",
       "    </tr>\n",
       "    <tr>\n",
       "      <th>5</th>\n",
       "      <td>C</td>\n",
       "      <td>South</td>\n",
       "      <td>3500</td>\n",
       "      <td>62000</td>\n",
       "      <td>310</td>\n",
       "    </tr>\n",
       "    <tr>\n",
       "      <th>6</th>\n",
       "      <td>A</td>\n",
       "      <td>East</td>\n",
       "      <td>1800</td>\n",
       "      <td>51000</td>\n",
       "      <td>210</td>\n",
       "    </tr>\n",
       "    <tr>\n",
       "      <th>7</th>\n",
       "      <td>B</td>\n",
       "      <td>West</td>\n",
       "      <td>2200</td>\n",
       "      <td>58000</td>\n",
       "      <td>270</td>\n",
       "    </tr>\n",
       "    <tr>\n",
       "      <th>8</th>\n",
       "      <td>C</td>\n",
       "      <td>North</td>\n",
       "      <td>2700</td>\n",
       "      <td>61000</td>\n",
       "      <td>290</td>\n",
       "    </tr>\n",
       "    <tr>\n",
       "      <th>9</th>\n",
       "      <td>A</td>\n",
       "      <td>South</td>\n",
       "      <td>3200</td>\n",
       "      <td>63000</td>\n",
       "      <td>320</td>\n",
       "    </tr>\n",
       "  </tbody>\n",
       "</table>\n",
       "</div>"
      ],
      "text/plain": [
       "  Category Region  Value  Revenue  Sales\n",
       "0        A  North   1000    50000    200\n",
       "1        B  South   2000    60000    250\n",
       "2        C   East   3000    55000    300\n",
       "3        A   West   1500    52000    220\n",
       "4        B  North   2500    59000    280\n",
       "5        C  South   3500    62000    310\n",
       "6        A   East   1800    51000    210\n",
       "7        B   West   2200    58000    270\n",
       "8        C  North   2700    61000    290\n",
       "9        A  South   3200    63000    320"
      ]
     },
     "execution_count": null,
     "metadata": {},
     "output_type": "execute_result"
    }
   ],
   "source": [
    "df"
   ]
  },
  {
   "cell_type": "code",
   "execution_count": 8,
   "metadata": {},
   "outputs": [
    {
     "data": {
      "text/html": [
       "<div>\n",
       "<style scoped>\n",
       "    .dataframe tbody tr th:only-of-type {\n",
       "        vertical-align: middle;\n",
       "    }\n",
       "\n",
       "    .dataframe tbody tr th {\n",
       "        vertical-align: top;\n",
       "    }\n",
       "\n",
       "    .dataframe thead th {\n",
       "        text-align: right;\n",
       "    }\n",
       "</style>\n",
       "<table border=\"1\" class=\"dataframe\">\n",
       "  <thead>\n",
       "    <tr style=\"text-align: right;\">\n",
       "      <th></th>\n",
       "      <th>Value</th>\n",
       "      <th>Revenue</th>\n",
       "      <th>Sales</th>\n",
       "      <th>Category_A</th>\n",
       "      <th>Category_B</th>\n",
       "      <th>Category_C</th>\n",
       "      <th>Region_East</th>\n",
       "      <th>Region_North</th>\n",
       "      <th>Region_South</th>\n",
       "      <th>Region_West</th>\n",
       "    </tr>\n",
       "  </thead>\n",
       "  <tbody>\n",
       "    <tr>\n",
       "      <th>0</th>\n",
       "      <td>1000</td>\n",
       "      <td>50000</td>\n",
       "      <td>200</td>\n",
       "      <td>1</td>\n",
       "      <td>0</td>\n",
       "      <td>0</td>\n",
       "      <td>0</td>\n",
       "      <td>1</td>\n",
       "      <td>0</td>\n",
       "      <td>0</td>\n",
       "    </tr>\n",
       "    <tr>\n",
       "      <th>1</th>\n",
       "      <td>2000</td>\n",
       "      <td>60000</td>\n",
       "      <td>250</td>\n",
       "      <td>0</td>\n",
       "      <td>1</td>\n",
       "      <td>0</td>\n",
       "      <td>0</td>\n",
       "      <td>0</td>\n",
       "      <td>1</td>\n",
       "      <td>0</td>\n",
       "    </tr>\n",
       "    <tr>\n",
       "      <th>2</th>\n",
       "      <td>3000</td>\n",
       "      <td>55000</td>\n",
       "      <td>300</td>\n",
       "      <td>0</td>\n",
       "      <td>0</td>\n",
       "      <td>1</td>\n",
       "      <td>1</td>\n",
       "      <td>0</td>\n",
       "      <td>0</td>\n",
       "      <td>0</td>\n",
       "    </tr>\n",
       "    <tr>\n",
       "      <th>3</th>\n",
       "      <td>1500</td>\n",
       "      <td>52000</td>\n",
       "      <td>220</td>\n",
       "      <td>1</td>\n",
       "      <td>0</td>\n",
       "      <td>0</td>\n",
       "      <td>0</td>\n",
       "      <td>0</td>\n",
       "      <td>0</td>\n",
       "      <td>1</td>\n",
       "    </tr>\n",
       "    <tr>\n",
       "      <th>4</th>\n",
       "      <td>2500</td>\n",
       "      <td>59000</td>\n",
       "      <td>280</td>\n",
       "      <td>0</td>\n",
       "      <td>1</td>\n",
       "      <td>0</td>\n",
       "      <td>0</td>\n",
       "      <td>1</td>\n",
       "      <td>0</td>\n",
       "      <td>0</td>\n",
       "    </tr>\n",
       "    <tr>\n",
       "      <th>5</th>\n",
       "      <td>3500</td>\n",
       "      <td>62000</td>\n",
       "      <td>310</td>\n",
       "      <td>0</td>\n",
       "      <td>0</td>\n",
       "      <td>1</td>\n",
       "      <td>0</td>\n",
       "      <td>0</td>\n",
       "      <td>1</td>\n",
       "      <td>0</td>\n",
       "    </tr>\n",
       "    <tr>\n",
       "      <th>6</th>\n",
       "      <td>1800</td>\n",
       "      <td>51000</td>\n",
       "      <td>210</td>\n",
       "      <td>1</td>\n",
       "      <td>0</td>\n",
       "      <td>0</td>\n",
       "      <td>1</td>\n",
       "      <td>0</td>\n",
       "      <td>0</td>\n",
       "      <td>0</td>\n",
       "    </tr>\n",
       "    <tr>\n",
       "      <th>7</th>\n",
       "      <td>2200</td>\n",
       "      <td>58000</td>\n",
       "      <td>270</td>\n",
       "      <td>0</td>\n",
       "      <td>1</td>\n",
       "      <td>0</td>\n",
       "      <td>0</td>\n",
       "      <td>0</td>\n",
       "      <td>0</td>\n",
       "      <td>1</td>\n",
       "    </tr>\n",
       "    <tr>\n",
       "      <th>8</th>\n",
       "      <td>2700</td>\n",
       "      <td>61000</td>\n",
       "      <td>290</td>\n",
       "      <td>0</td>\n",
       "      <td>0</td>\n",
       "      <td>1</td>\n",
       "      <td>0</td>\n",
       "      <td>1</td>\n",
       "      <td>0</td>\n",
       "      <td>0</td>\n",
       "    </tr>\n",
       "    <tr>\n",
       "      <th>9</th>\n",
       "      <td>3200</td>\n",
       "      <td>63000</td>\n",
       "      <td>320</td>\n",
       "      <td>1</td>\n",
       "      <td>0</td>\n",
       "      <td>0</td>\n",
       "      <td>0</td>\n",
       "      <td>0</td>\n",
       "      <td>1</td>\n",
       "      <td>0</td>\n",
       "    </tr>\n",
       "  </tbody>\n",
       "</table>\n",
       "</div>"
      ],
      "text/plain": [
       "   Value  Revenue  Sales  Category_A  Category_B  Category_C  Region_East  Region_North  Region_South  Region_West\n",
       "0   1000    50000    200           1           0           0            0             1             0            0\n",
       "1   2000    60000    250           0           1           0            0             0             1            0\n",
       "2   3000    55000    300           0           0           1            1             0             0            0\n",
       "3   1500    52000    220           1           0           0            0             0             0            1\n",
       "4   2500    59000    280           0           1           0            0             1             0            0\n",
       "5   3500    62000    310           0           0           1            0             0             1            0\n",
       "6   1800    51000    210           1           0           0            1             0             0            0\n",
       "7   2200    58000    270           0           1           0            0             0             0            1\n",
       "8   2700    61000    290           0           0           1            0             1             0            0\n",
       "9   3200    63000    320           1           0           0            0             0             1            0"
      ]
     },
     "execution_count": null,
     "metadata": {},
     "output_type": "execute_result"
    }
   ],
   "source": [
    "df_encoded"
   ]
  },
  {
   "cell_type": "code",
   "execution_count": 1,
   "metadata": {},
   "outputs": [
    {
     "ename": "NameError",
     "evalue": "name 'm' is not defined",
     "output_type": "error",
     "traceback": [
      "\u001b[0;31m---------------------------------------------------------------------------\u001b[0m",
      "\u001b[0;31mNameError\u001b[0m                                 Traceback (most recent call last)",
      "Cell \u001b[0;32mIn[1], line 1\u001b[0m\n\u001b[0;32m----> 1\u001b[0m numbers \u001b[38;5;241m=\u001b[39m [m \u001b[38;5;28;01mfor\u001b[39;00m x \u001b[38;5;129;01min\u001b[39;00m \u001b[38;5;28mrange\u001b[39m(\u001b[38;5;241m5\u001b[39m)]\n\u001b[1;32m      2\u001b[0m \u001b[38;5;28mprint\u001b[39m(numbers)\n",
      "Cell \u001b[0;32mIn[1], line 1\u001b[0m, in \u001b[0;36m<listcomp>\u001b[0;34m(.0)\u001b[0m\n\u001b[0;32m----> 1\u001b[0m numbers \u001b[38;5;241m=\u001b[39m [\u001b[43mm\u001b[49m \u001b[38;5;28;01mfor\u001b[39;00m x \u001b[38;5;129;01min\u001b[39;00m \u001b[38;5;28mrange\u001b[39m(\u001b[38;5;241m5\u001b[39m)]\n\u001b[1;32m      2\u001b[0m \u001b[38;5;28mprint\u001b[39m(numbers)\n",
      "\u001b[0;31mNameError\u001b[0m: name 'm' is not defined"
     ]
    }
   ],
   "source": [
    "numbers = [m for x in range(5)]\n",
    "print(numbers)"
   ]
  },
  {
   "cell_type": "code",
   "execution_count": 6,
   "metadata": {},
   "outputs": [
    {
     "name": "stdout",
     "output_type": "stream",
     "text": [
      "['h', 'c', 'c', 't', 'w']\n"
     ]
    }
   ],
   "source": [
    "doctor = ['house', 'cuddy', 'chase', 'thirteen', 'wilson']\n",
    "\n",
    "first_letters = [doc[0] for doc in doctor]\n",
    "print(first_letters)"
   ]
  },
  {
   "cell_type": "code",
   "execution_count": 7,
   "metadata": {},
   "outputs": [
    {
     "name": "stdout",
     "output_type": "stream",
     "text": [
      "[0, 1, 4, 9, 16, 25, 36, 49, 64, 81]\n"
     ]
    }
   ],
   "source": [
    "square = [x**2 for x in range(0,10)]\n",
    "print(square)"
   ]
  },
  {
   "cell_type": "code",
   "execution_count": 3,
   "metadata": {},
   "outputs": [
    {
     "name": "stdout",
     "output_type": "stream",
     "text": [
      "(1, 2, 3, 4, 5, 3, 4, 5, 6, 7)\n"
     ]
    }
   ],
   "source": [
    "tuple1 = (1, 2, 3, 4, 5)\n",
    "tuple2 = (3, 4, 5, 6, 7)\n",
    "\n",
    "# concatenating tuples\n",
    "tuple3 = tuple1 + tuple2\n",
    "print(tuple3)\n",
    "# Output (1, 2, 3, 4, 5, 3, 4, 5, 6, 7)"
   ]
  },
  {
   "cell_type": "code",
   "execution_count": 4,
   "metadata": {},
   "outputs": [],
   "source": [
    "nested_tuple = ((20, 40, 60), (10, 30, 50), \"Python\")"
   ]
  },
  {
   "cell_type": "code",
   "execution_count": 5,
   "metadata": {},
   "outputs": [
    {
     "name": "stdout",
     "output_type": "stream",
     "text": [
      "tuple (20, 40, 60) elements\n",
      "20, 40, 60, \n",
      "\n",
      "tuple (10, 30, 50) elements\n",
      "10, 30, 50, \n",
      "\n",
      "tuple Python elements\n",
      "P, y, t, h, o, n, \n",
      "\n"
     ]
    }
   ],
   "source": [
    "# iterate a nested tuple\n",
    "for i in nested_tuple:\n",
    "    print(\"tuple\", i, \"elements\")\n",
    "    for j in i:\n",
    "        print(j, end=\", \")\n",
    "    print(\"\\n\")"
   ]
  },
  {
   "cell_type": "code",
   "execution_count": 4,
   "metadata": {},
   "outputs": [
    {
     "name": "stdout",
     "output_type": "stream",
     "text": [
      "0 1 2 3 4 5 6 7 8 9 "
     ]
    }
   ],
   "source": [
    "for  i in range(10):\n",
    "    print(i, end=\" \")"
   ]
  },
  {
   "cell_type": "code",
   "execution_count": 5,
   "metadata": {},
   "outputs": [
    {
     "name": "stdout",
     "output_type": "stream",
     "text": [
      "0\n",
      "1\n",
      "2\n",
      "3\n",
      "4\n",
      "5\n",
      "6\n",
      "7\n",
      "8\n",
      "9\n",
      "10\n",
      "11\n",
      "12\n",
      "13\n",
      "14\n",
      "15\n",
      "16\n",
      "17\n",
      "18\n",
      "19\n"
     ]
    }
   ],
   "source": [
    "for m in range(20):\n",
    "    print(m)"
   ]
  },
  {
   "cell_type": "code",
   "execution_count": 2,
   "metadata": {},
   "outputs": [
    {
     "name": "stdout",
     "output_type": "stream",
     "text": [
      "0\n"
     ]
    }
   ],
   "source": [
    "a = range(0,10)\n",
    "\n",
    "print(a.start)"
   ]
  },
  {
   "cell_type": "code",
   "execution_count": 3,
   "metadata": {},
   "outputs": [
    {
     "name": "stdout",
     "output_type": "stream",
     "text": [
      "10\n"
     ]
    }
   ],
   "source": [
    "print(a.stop)"
   ]
  },
  {
   "cell_type": "code",
   "execution_count": 5,
   "metadata": {},
   "outputs": [
    {
     "data": {
      "text/plain": [
       "4"
      ]
     },
     "execution_count": 5,
     "metadata": {},
     "output_type": "execute_result"
    }
   ],
   "source": [
    "range(10)[-6]"
   ]
  },
  {
   "cell_type": "code",
   "execution_count": null,
   "metadata": {},
   "outputs": [],
   "source": []
  },
  {
   "cell_type": "code",
   "execution_count": 1,
   "metadata": {},
   "outputs": [],
   "source": [
    "import pandas as pd "
   ]
  },
  {
   "cell_type": "code",
   "execution_count": 13,
   "metadata": {},
   "outputs": [],
   "source": [
    "student = {\n",
    "    \n",
    "    \"name\": [\"Teslim\",\"Seyi\", \"Femi\"],\n",
    "    \"age\": [30, 25, 20],\n",
    "    \"date\": [\"2023-01-01\", \"2023-02-01\", \"2023-03-01\"]\n",
    "}"
   ]
  },
  {
   "cell_type": "code",
   "execution_count": 21,
   "metadata": {},
   "outputs": [
    {
     "data": {
      "application/vnd.microsoft.datawrangler.viewer.v0+json": {
       "columns": [
        {
         "name": "index",
         "rawType": "int64",
         "type": "integer"
        },
        {
         "name": "name",
         "rawType": "object",
         "type": "string"
        },
        {
         "name": "age",
         "rawType": "int64",
         "type": "integer"
        },
        {
         "name": "date",
         "rawType": "datetime64[ns]",
         "type": "datetime"
        }
       ],
       "conversionMethod": "pd.DataFrame",
       "ref": "ece5e755-11ad-44bb-974e-95bd46d6faee",
       "rows": [
        [
         "0",
         "Teslim",
         "30",
         "2023-01-01 00:00:00"
        ],
        [
         "1",
         "Seyi",
         "25",
         "2023-02-01 00:00:00"
        ],
        [
         "2",
         "Femi",
         "20",
         "2023-03-01 00:00:00"
        ]
       ],
       "shape": {
        "columns": 3,
        "rows": 3
       }
      },
      "text/html": [
       "<div>\n",
       "<style scoped>\n",
       "    .dataframe tbody tr th:only-of-type {\n",
       "        vertical-align: middle;\n",
       "    }\n",
       "\n",
       "    .dataframe tbody tr th {\n",
       "        vertical-align: top;\n",
       "    }\n",
       "\n",
       "    .dataframe thead th {\n",
       "        text-align: right;\n",
       "    }\n",
       "</style>\n",
       "<table border=\"1\" class=\"dataframe\">\n",
       "  <thead>\n",
       "    <tr style=\"text-align: right;\">\n",
       "      <th></th>\n",
       "      <th>name</th>\n",
       "      <th>age</th>\n",
       "      <th>date</th>\n",
       "    </tr>\n",
       "  </thead>\n",
       "  <tbody>\n",
       "    <tr>\n",
       "      <th>0</th>\n",
       "      <td>Teslim</td>\n",
       "      <td>30</td>\n",
       "      <td>2023-01-01</td>\n",
       "    </tr>\n",
       "    <tr>\n",
       "      <th>1</th>\n",
       "      <td>Seyi</td>\n",
       "      <td>25</td>\n",
       "      <td>2023-02-01</td>\n",
       "    </tr>\n",
       "    <tr>\n",
       "      <th>2</th>\n",
       "      <td>Femi</td>\n",
       "      <td>20</td>\n",
       "      <td>2023-03-01</td>\n",
       "    </tr>\n",
       "  </tbody>\n",
       "</table>\n",
       "</div>"
      ],
      "text/plain": [
       "     name  age       date\n",
       "0  Teslim   30 2023-01-01\n",
       "1    Seyi   25 2023-02-01\n",
       "2    Femi   20 2023-03-01"
      ]
     },
     "execution_count": 21,
     "metadata": {},
     "output_type": "execute_result"
    }
   ],
   "source": [
    "df = pd.DataFrame(student)\n",
    "df['date'] = pd.to_datetime(df['date'])\n",
    "df"
   ]
  },
  {
   "cell_type": "code",
   "execution_count": 23,
   "metadata": {},
   "outputs": [
    {
     "name": "stdout",
     "output_type": "stream",
     "text": [
      "<class 'pandas.core.frame.DataFrame'>\n",
      "RangeIndex: 3 entries, 0 to 2\n",
      "Data columns (total 3 columns):\n",
      " #   Column  Non-Null Count  Dtype         \n",
      "---  ------  --------------  -----         \n",
      " 0   name    3 non-null      object        \n",
      " 1   age     3 non-null      int64         \n",
      " 2   date    3 non-null      datetime64[ns]\n",
      "dtypes: datetime64[ns](1), int64(1), object(1)\n",
      "memory usage: 204.0+ bytes\n"
     ]
    }
   ],
   "source": [
    "df.info()"
   ]
  },
  {
   "cell_type": "code",
   "execution_count": 26,
   "metadata": {},
   "outputs": [],
   "source": [
    "df['year'] = df['date'].dt.year\n"
   ]
  },
  {
   "cell_type": "code",
   "execution_count": 27,
   "metadata": {},
   "outputs": [
    {
     "data": {
      "application/vnd.microsoft.datawrangler.viewer.v0+json": {
       "columns": [
        {
         "name": "index",
         "rawType": "int64",
         "type": "integer"
        },
        {
         "name": "name",
         "rawType": "object",
         "type": "string"
        },
        {
         "name": "age",
         "rawType": "int64",
         "type": "integer"
        },
        {
         "name": "date",
         "rawType": "datetime64[ns]",
         "type": "datetime"
        },
        {
         "name": "year",
         "rawType": "int32",
         "type": "integer"
        }
       ],
       "conversionMethod": "pd.DataFrame",
       "ref": "7a0c3b0e-1af4-41dd-aa47-af1d1701ecc8",
       "rows": [
        [
         "0",
         "Teslim",
         "30",
         "2023-01-01 00:00:00",
         "2023"
        ],
        [
         "1",
         "Seyi",
         "25",
         "2023-02-01 00:00:00",
         "2023"
        ],
        [
         "2",
         "Femi",
         "20",
         "2023-03-01 00:00:00",
         "2023"
        ]
       ],
       "shape": {
        "columns": 4,
        "rows": 3
       }
      },
      "text/html": [
       "<div>\n",
       "<style scoped>\n",
       "    .dataframe tbody tr th:only-of-type {\n",
       "        vertical-align: middle;\n",
       "    }\n",
       "\n",
       "    .dataframe tbody tr th {\n",
       "        vertical-align: top;\n",
       "    }\n",
       "\n",
       "    .dataframe thead th {\n",
       "        text-align: right;\n",
       "    }\n",
       "</style>\n",
       "<table border=\"1\" class=\"dataframe\">\n",
       "  <thead>\n",
       "    <tr style=\"text-align: right;\">\n",
       "      <th></th>\n",
       "      <th>name</th>\n",
       "      <th>age</th>\n",
       "      <th>date</th>\n",
       "      <th>year</th>\n",
       "    </tr>\n",
       "  </thead>\n",
       "  <tbody>\n",
       "    <tr>\n",
       "      <th>0</th>\n",
       "      <td>Teslim</td>\n",
       "      <td>30</td>\n",
       "      <td>2023-01-01</td>\n",
       "      <td>2023</td>\n",
       "    </tr>\n",
       "    <tr>\n",
       "      <th>1</th>\n",
       "      <td>Seyi</td>\n",
       "      <td>25</td>\n",
       "      <td>2023-02-01</td>\n",
       "      <td>2023</td>\n",
       "    </tr>\n",
       "    <tr>\n",
       "      <th>2</th>\n",
       "      <td>Femi</td>\n",
       "      <td>20</td>\n",
       "      <td>2023-03-01</td>\n",
       "      <td>2023</td>\n",
       "    </tr>\n",
       "  </tbody>\n",
       "</table>\n",
       "</div>"
      ],
      "text/plain": [
       "     name  age       date  year\n",
       "0  Teslim   30 2023-01-01  2023\n",
       "1    Seyi   25 2023-02-01  2023\n",
       "2    Femi   20 2023-03-01  2023"
      ]
     },
     "execution_count": 27,
     "metadata": {},
     "output_type": "execute_result"
    }
   ],
   "source": [
    "df"
   ]
  },
  {
   "cell_type": "code",
   "execution_count": 3,
   "metadata": {},
   "outputs": [
    {
     "data": {
      "application/vnd.microsoft.datawrangler.viewer.v0+json": {
       "columns": [
        {
         "name": "index",
         "rawType": "int64",
         "type": "integer"
        },
        {
         "name": "A",
         "rawType": "int64",
         "type": "integer"
        },
        {
         "name": "B",
         "rawType": "int64",
         "type": "integer"
        },
        {
         "name": "C",
         "rawType": "int64",
         "type": "integer"
        }
       ],
       "conversionMethod": "pd.DataFrame",
       "ref": "28b3d0c2-e681-4327-ad92-c0471bc2e062",
       "rows": [
        [
         "0",
         "1",
         "3",
         "5"
        ],
        [
         "1",
         "2",
         "4",
         "6"
        ]
       ],
       "shape": {
        "columns": 3,
        "rows": 2
       }
      },
      "text/html": [
       "<div>\n",
       "<style scoped>\n",
       "    .dataframe tbody tr th:only-of-type {\n",
       "        vertical-align: middle;\n",
       "    }\n",
       "\n",
       "    .dataframe tbody tr th {\n",
       "        vertical-align: top;\n",
       "    }\n",
       "\n",
       "    .dataframe thead th {\n",
       "        text-align: right;\n",
       "    }\n",
       "</style>\n",
       "<table border=\"1\" class=\"dataframe\">\n",
       "  <thead>\n",
       "    <tr style=\"text-align: right;\">\n",
       "      <th></th>\n",
       "      <th>A</th>\n",
       "      <th>B</th>\n",
       "      <th>C</th>\n",
       "    </tr>\n",
       "  </thead>\n",
       "  <tbody>\n",
       "    <tr>\n",
       "      <th>0</th>\n",
       "      <td>1</td>\n",
       "      <td>3</td>\n",
       "      <td>5</td>\n",
       "    </tr>\n",
       "    <tr>\n",
       "      <th>1</th>\n",
       "      <td>2</td>\n",
       "      <td>4</td>\n",
       "      <td>6</td>\n",
       "    </tr>\n",
       "  </tbody>\n",
       "</table>\n",
       "</div>"
      ],
      "text/plain": [
       "   A  B  C\n",
       "0  1  3  5\n",
       "1  2  4  6"
      ]
     },
     "execution_count": 3,
     "metadata": {},
     "output_type": "execute_result"
    }
   ],
   "source": [
    "# Create a DataFrame\n",
    "df = pd.DataFrame({\n",
    "    \"A\": [1, 2],\n",
    "    \"B\": [3, 4],\n",
    "    \"C\": [5, 6]\n",
    "})\n",
    "\n",
    "df"
   ]
  },
  {
   "cell_type": "code",
   "execution_count": 4,
   "metadata": {},
   "outputs": [
    {
     "name": "stdout",
     "output_type": "stream",
     "text": [
      "   A variable  value\n",
      "0  1        B      3\n",
      "1  2        B      4\n",
      "2  1        C      5\n",
      "3  2        C      6\n"
     ]
    }
   ],
   "source": [
    "# Modern replacement using melt()\n",
    "long_df = pd.melt(df, id_vars=[\"A\"], value_vars=[\"B\", \"C\"], \n",
    "                var_name=\"variable\", value_name=\"value\")\n",
    "print(long_df)"
   ]
  },
  {
   "cell_type": "markdown",
   "metadata": {},
   "source": [
    "# Date: 30 March 2025."
   ]
  },
  {
   "cell_type": "code",
   "execution_count": 13,
   "metadata": {},
   "outputs": [
    {
     "name": "stdout",
     "output_type": "stream",
     "text": [
      "{'Mark', frozenset({35, 92, 78}), 'Jessa'}\n",
      "{'Mark', frozenset({35, 92, 78}), 'Jessa'}\n"
     ]
    }
   ],
   "source": [
    "sample_set = {'Mark', 'Jessa', frozenset([35, 78, 92])}\n",
    "print(sample_set)"
   ]
  },
  {
   "cell_type": "code",
   "execution_count": 14,
   "metadata": {},
   "outputs": [
    {
     "name": "stdout",
     "output_type": "stream",
     "text": [
      "Mark --frozenset({35, 92, 78}) --Jessa --Mark --frozenset({35, 92, 78}) --Jessa --"
     ]
    }
   ],
   "source": [
    "for x in sample_set:\n",
    "    print(x, end =' --')"
   ]
  },
  {
   "cell_type": "code",
   "execution_count": 18,
   "metadata": {},
   "outputs": [
    {
     "name": "stdout",
     "output_type": "stream",
     "text": [
      "Teslim ade Olu Shaki Teslim ade Olu Shaki "
     ]
    }
   ],
   "source": [
    "name = {'Teslim', 'Olu', 'Shaki', 'ade'}\n",
    "\n",
    "for i in name:\n",
    "    print(i, end=\" \")\n"
   ]
  },
  {
   "cell_type": "code",
   "execution_count": 19,
   "metadata": {},
   "outputs": [
    {
     "name": "stdout",
     "output_type": "stream",
     "text": [
      "0\n",
      "3\n",
      "6\n",
      "8\n",
      "9\n",
      "0\n",
      "3\n",
      "6\n",
      "8\n",
      "9\n"
     ]
    }
   ],
   "source": [
    "b = {3, 6,8,9,0,6}\n",
    "\n",
    "for m in b:\n",
    "    print(m)"
   ]
  },
  {
   "cell_type": "code",
   "execution_count": 20,
   "metadata": {},
   "outputs": [
    {
     "name": "stdout",
     "output_type": "stream",
     "text": [
      "0 3 6 8 9 0 3 6 8 9 "
     ]
    }
   ],
   "source": [
    "b = {3, 6,8,9,0,6}\n",
    "\n",
    "for m in b:\n",
    "    print(m, end=' ')"
   ]
  },
  {
   "cell_type": "code",
   "execution_count": 21,
   "metadata": {},
   "outputs": [
    {
     "name": "stdout",
     "output_type": "stream",
     "text": [
      "The values is available\n",
      "The values is available\n"
     ]
    }
   ],
   "source": [
    "if 3 in b:\n",
    "    print('The values is available')\n",
    "else:\n",
    "    print('The value is not included')"
   ]
  },
  {
   "cell_type": "code",
   "execution_count": 22,
   "metadata": {},
   "outputs": [
    {
     "name": "stdout",
     "output_type": "stream",
     "text": [
      "5\n",
      "5\n"
     ]
    }
   ],
   "source": [
    "print(len(b))"
   ]
  },
  {
   "cell_type": "code",
   "execution_count": 23,
   "metadata": {},
   "outputs": [
    {
     "name": "stdout",
     "output_type": "stream",
     "text": [
      "{0, 3, 5, 6, 8, 9}\n",
      "{0, 3, 5, 6, 8, 9}\n"
     ]
    }
   ],
   "source": [
    "b.add(5)\n",
    "print(b)"
   ]
  },
  {
   "cell_type": "code",
   "execution_count": 24,
   "metadata": {},
   "outputs": [],
   "source": [
    "b.update(['Ade', 6])"
   ]
  },
  {
   "cell_type": "code",
   "execution_count": 25,
   "metadata": {},
   "outputs": [
    {
     "name": "stdout",
     "output_type": "stream",
     "text": [
      "{0, 3, 5, 6, 'Ade', 8, 9}\n",
      "{0, 3, 5, 6, 'Ade', 8, 9}\n"
     ]
    }
   ],
   "source": [
    "print(b)"
   ]
  },
  {
   "cell_type": "code",
   "execution_count": 26,
   "metadata": {},
   "outputs": [
    {
     "data": {
      "text/plain": [
       "7"
      ]
     },
     "execution_count": null,
     "metadata": {},
     "output_type": "execute_result"
    }
   ],
   "source": [
    "len(b)"
   ]
  },
  {
   "cell_type": "code",
   "execution_count": 27,
   "metadata": {},
   "outputs": [],
   "source": [
    "b.remove(9)"
   ]
  },
  {
   "cell_type": "code",
   "execution_count": 28,
   "metadata": {},
   "outputs": [
    {
     "name": "stdout",
     "output_type": "stream",
     "text": [
      "{0, 3, 5, 6, 'Ade', 8}\n",
      "{0, 3, 5, 6, 'Ade', 8}\n"
     ]
    }
   ],
   "source": [
    "print(b)"
   ]
  },
  {
   "cell_type": "code",
   "execution_count": 45,
   "metadata": {},
   "outputs": [],
   "source": [
    "english = {1,2,3,4,5,6,7}\n",
    "math = {5,6,7,8,9,10,11,'Ade','Finke'}"
   ]
  },
  {
   "cell_type": "code",
   "execution_count": 38,
   "metadata": {},
   "outputs": [
    {
     "name": "stdout",
     "output_type": "stream",
     "text": [
      "1 2 3 4 5 6 7 1 2 3 4 5 6 7 "
     ]
    }
   ],
   "source": [
    "for x in english:\n",
    "    print(x, end= \" \")"
   ]
  },
  {
   "cell_type": "code",
   "execution_count": 39,
   "metadata": {},
   "outputs": [
    {
     "name": "stdout",
     "output_type": "stream",
     "text": [
      "{1, 2, 3, 4, 5, 6, 7, 8, 9, 10, 11, 'Finke', 'Ade'}\n",
      "{1, 2, 3, 4, 5, 6, 7, 8, 9, 10, 11, 'Finke', 'Ade'}\n"
     ]
    }
   ],
   "source": [
    "# union \n",
    "total_subject = english | math\n",
    "print(total_subject)"
   ]
  },
  {
   "cell_type": "code",
   "execution_count": 40,
   "metadata": {},
   "outputs": [
    {
     "name": "stdout",
     "output_type": "stream",
     "text": [
      "{5, 6, 7}\n",
      "{5, 6, 7}\n"
     ]
    }
   ],
   "source": [
    "# intersection \n",
    "common_subject = english & math\n",
    "print(common_subject)"
   ]
  },
  {
   "cell_type": "code",
   "execution_count": 46,
   "metadata": {},
   "outputs": [
    {
     "name": "stdout",
     "output_type": "stream",
     "text": [
      "{1, 2, 3, 4, 5, 6, 7}\n",
      "{1, 2, 3, 4, 5, 6, 7}\n"
     ]
    }
   ],
   "source": [
    "print(english)"
   ]
  },
  {
   "cell_type": "code",
   "execution_count": 47,
   "metadata": {},
   "outputs": [],
   "source": [
    "english.intersection_update(math)"
   ]
  },
  {
   "cell_type": "code",
   "execution_count": 48,
   "metadata": {},
   "outputs": [
    {
     "name": "stdout",
     "output_type": "stream",
     "text": [
      "{5, 6, 7}\n",
      "{5, 6, 7}\n"
     ]
    }
   ],
   "source": [
    "print(english)"
   ]
  },
  {
   "cell_type": "code",
   "execution_count": 50,
   "metadata": {},
   "outputs": [
    {
     "name": "stdout",
     "output_type": "stream",
     "text": [
      "set()\n",
      "set()\n"
     ]
    }
   ],
   "source": [
    "diff = english - math\n",
    "print(diff)"
   ]
  },
  {
   "cell_type": "code",
   "execution_count": 51,
   "metadata": {},
   "outputs": [
    {
     "name": "stdout",
     "output_type": "stream",
     "text": [
      "Original set: {'green', 'yellow', 'blue', 'violet'}\n",
      "Copy using copy(): {'green', 'yellow', 'blue', 'violet'}\n",
      "Copy using set():  {'green', 'yellow', 'blue', 'violet'}\n",
      "Copy using assignment {'green', 'yellow', 'blue', 'violet'}\n",
      "Original set: {'green', 'yellow', 'blue', 'violet'}\n",
      "Copy using copy(): {'green', 'yellow', 'blue', 'violet'}\n",
      "Copy using set():  {'green', 'yellow', 'blue', 'violet'}\n",
      "Copy using assignment {'green', 'yellow', 'blue', 'violet'}\n"
     ]
    }
   ],
   "source": [
    "color_set = {'violet', 'blue', 'green', 'yellow'}\n",
    "\n",
    "# creating a copy using copy()\n",
    "color_set2 = color_set.copy()\n",
    "\n",
    "# creating a copy using set()\n",
    "color_set3 = set(color_set)\n",
    "\n",
    "# creating a copy using = operator\n",
    "color_set4 = color_set\n",
    "\n",
    "# printing the original and new copies\n",
    "print('Original set:', color_set)\n",
    "# {'violet', 'green', 'yellow', 'blue'}\n",
    "\n",
    "print('Copy using copy():', color_set2)\n",
    "# {'green', 'yellow', 'blue', 'violet'}\n",
    "\n",
    "print('Copy using set(): ', color_set3)\n",
    "# {'green', 'yellow', 'blue', 'violet'}\n",
    "\n",
    "print('Copy using assignment', color_set4)\n",
    "# {'green', 'yellow', 'blue', 'violet'}"
   ]
  },
  {
   "cell_type": "code",
   "execution_count": 53,
   "metadata": {},
   "outputs": [
    {
     "name": "stdout",
     "output_type": "stream",
     "text": [
      "{'green', 'blue', 'violet', 'red', 'yellow'}\n",
      "{'green', 'blue', 'violet', 'red', 'yellow'}\n"
     ]
    }
   ],
   "source": [
    "color_set.add('red')\n",
    "print(color_set)"
   ]
  },
  {
   "cell_type": "code",
   "execution_count": 54,
   "metadata": {},
   "outputs": [
    {
     "name": "stdout",
     "output_type": "stream",
     "text": [
      "Original set: {'green', 'blue', 'violet', 'red', 'yellow'}\n",
      "Original set: {'green', 'blue', 'violet', 'red', 'yellow'}\n"
     ]
    }
   ],
   "source": [
    "# printing the original and new copies\n",
    "print('Original set:', color_set)"
   ]
  },
  {
   "cell_type": "code",
   "execution_count": 56,
   "metadata": {},
   "outputs": [
    {
     "name": "stdout",
     "output_type": "stream",
     "text": [
      "Copy using copy(): {'red', 'green', 'blue', 'yellow', 'violet'}\n",
      "Copy using copy(): {'red', 'green', 'blue', 'yellow', 'violet'}\n"
     ]
    }
   ],
   "source": [
    "# creating a copy using copy()\n",
    "color_set2 = color_set.copy()\n",
    "\n",
    "print('Copy using copy():', color_set2)\n",
    "# {'green', 'yellow', 'blue', 'violet'}"
   ]
  },
  {
   "cell_type": "code",
   "execution_count": 57,
   "metadata": {},
   "outputs": [
    {
     "name": "stdout",
     "output_type": "stream",
     "text": [
      "Copy using set():  {'red', 'green', 'blue', 'yellow', 'violet'}\n",
      "Copy using set():  {'red', 'green', 'blue', 'yellow', 'violet'}\n"
     ]
    }
   ],
   "source": [
    "# creating a copy using set()\n",
    "color_set3 = set(color_set)\n",
    "\n",
    "print('Copy using set(): ', color_set3)\n",
    "# {'green', 'yellow', 'blue', 'violet'}"
   ]
  },
  {
   "cell_type": "code",
   "execution_count": 58,
   "metadata": {},
   "outputs": [
    {
     "name": "stdout",
     "output_type": "stream",
     "text": [
      "Copy using assignment {'green', 'blue', 'violet', 'red', 'yellow'}\n",
      "Copy using assignment {'green', 'blue', 'violet', 'red', 'yellow'}\n"
     ]
    }
   ],
   "source": [
    "# creating a copy using = operator\n",
    "color_set4 = color_set\n",
    "\n",
    "print('Copy using assignment', color_set4)\n",
    "# {'green', 'yellow', 'blue', 'violet'}"
   ]
  },
  {
   "cell_type": "code",
   "execution_count": 1,
   "metadata": {},
   "outputs": [],
   "source": [
    "import numpy as np"
   ]
  },
  {
   "cell_type": "code",
   "execution_count": 2,
   "metadata": {},
   "outputs": [
    {
     "name": "stdout",
     "output_type": "stream",
     "text": [
      "0.00.51.01.52.02.53.03.54.00.00.51.01.52.02.53.03.54.0"
     ]
    }
   ],
   "source": [
    "for i in np.arange(0, 4.5, 0.5):\n",
    "    print(i, end= '')"
   ]
  },
  {
   "cell_type": "code",
   "execution_count": 4,
   "metadata": {},
   "outputs": [
    {
     "name": "stdout",
     "output_type": "stream",
     "text": [
      "1.0\n",
      "1.5\n",
      "2.0\n",
      "2.5\n",
      "3.0\n",
      "3.5\n",
      "4.0\n",
      "4.5\n",
      "1.0\n",
      "1.5\n",
      "2.0\n",
      "2.5\n",
      "3.0\n",
      "3.5\n",
      "4.0\n",
      "4.5\n"
     ]
    }
   ],
   "source": [
    "for x in np.arange(1,5,0.5):\n",
    "    print(x)\n"
   ]
  },
  {
   "cell_type": "markdown",
   "metadata": {},
   "source": [
    "### 8th April 202"
   ]
  },
  {
   "cell_type": "code",
   "execution_count": 2,
   "metadata": {},
   "outputs": [],
   "source": [
    "name = 'Teslim'\n",
    "school = 'UH'\n",
    "course = 'Finance and Accounting'\n"
   ]
  },
  {
   "cell_type": "code",
   "execution_count": 9,
   "metadata": {},
   "outputs": [
    {
     "name": "stdout",
     "output_type": "stream",
     "text": [
      "\n",
      "\n",
      "I am Teslim, I study at UH, and professionally, Finance and Accounting\n"
     ]
    }
   ],
   "source": [
    "print('\\n')\n",
    "print(\"I am {0}, I study at {1}, and professionally, {2}\".format(name, school, course))"
   ]
  },
  {
   "cell_type": "code",
   "execution_count": 11,
   "metadata": {},
   "outputs": [
    {
     "name": "stdout",
     "output_type": "stream",
     "text": [
      "The name of my school is Finance and Accounting, and I am UH, by name and I am professional a Teslim\n"
     ]
    }
   ],
   "source": [
    "print('The name of my school is {2}, and I am {1}, by name and I am professional a {0}'.format(name, school, course))"
   ]
  },
  {
   "cell_type": "code",
   "execution_count": 1,
   "metadata": {},
   "outputs": [],
   "source": [
    "list = ['Teslim', 'Olu', 'Shaki', 'Ade']"
   ]
  },
  {
   "cell_type": "code",
   "execution_count": 2,
   "metadata": {},
   "outputs": [],
   "source": [
    "list.append('iyabo')"
   ]
  },
  {
   "cell_type": "code",
   "execution_count": 3,
   "metadata": {},
   "outputs": [
    {
     "name": "stdout",
     "output_type": "stream",
     "text": [
      "['Teslim', 'Olu', 'Shaki', 'Ade', 'iyabo']\n"
     ]
    }
   ],
   "source": [
    "print(list)"
   ]
  },
  {
   "cell_type": "code",
   "execution_count": 4,
   "metadata": {},
   "outputs": [],
   "source": [
    "list.insert(3, 'Funke')"
   ]
  },
  {
   "cell_type": "code",
   "execution_count": 5,
   "metadata": {},
   "outputs": [
    {
     "data": {
      "text/plain": [
       "['Teslim', 'Olu', 'Shaki', 'Funke', 'Ade', 'iyabo']"
      ]
     },
     "execution_count": 5,
     "metadata": {},
     "output_type": "execute_result"
    }
   ],
   "source": [
    "list"
   ]
  },
  {
   "cell_type": "code",
   "execution_count": 10,
   "metadata": {},
   "outputs": [],
   "source": [
    "a = [1,2,3,4,5,6,7,8,9,10]"
   ]
  },
  {
   "cell_type": "code",
   "execution_count": 12,
   "metadata": {},
   "outputs": [],
   "source": [
    "combine = list.extend(a)\n"
   ]
  },
  {
   "cell_type": "code",
   "execution_count": 14,
   "metadata": {},
   "outputs": [
    {
     "name": "stdout",
     "output_type": "stream",
     "text": [
      "None\n"
     ]
    }
   ],
   "source": [
    "print(combine)"
   ]
  },
  {
   "cell_type": "code",
   "execution_count": 15,
   "metadata": {},
   "outputs": [
    {
     "name": "stdout",
     "output_type": "stream",
     "text": [
      "[1, 2, 3, 4, 5, 6, 7, 8, 9, 10]\n"
     ]
    }
   ],
   "source": [
    "print(a)"
   ]
  },
  {
   "cell_type": "code",
   "execution_count": 17,
   "metadata": {},
   "outputs": [],
   "source": [
    "b = ['Olu', 'Shaki', 'Ade']"
   ]
  },
  {
   "cell_type": "code",
   "execution_count": 21,
   "metadata": {},
   "outputs": [
    {
     "name": "stdout",
     "output_type": "stream",
     "text": [
      "[1, 2, 3, 4, 5, 6, 7, 8, 9, 10, 'Olu', 'Shaki', 'Ade', 'Olu', 'Shaki', 'Ade', 'Olu', 'Shaki', 'Ade', 'Olu', 'Shaki', 'Ade']\n"
     ]
    }
   ],
   "source": [
    "a.extend(b)\n",
    "print(a)"
   ]
  },
  {
   "cell_type": "markdown",
   "metadata": {},
   "source": [
    "# LIST"
   ]
  },
  {
   "cell_type": "code",
   "execution_count": 1,
   "metadata": {},
   "outputs": [],
   "source": [
    "import pandas as pd"
   ]
  },
  {
   "cell_type": "code",
   "execution_count": 47,
   "metadata": {},
   "outputs": [],
   "source": [
    "data = ['a', 'b', 'c', 'd', 'e', 'f', 'g', 'h', 'i', 'j', 'k', 'l']"
   ]
  },
  {
   "cell_type": "code",
   "execution_count": 48,
   "metadata": {},
   "outputs": [
    {
     "data": {
      "text/plain": [
       "'h'"
      ]
     },
     "execution_count": 48,
     "metadata": {},
     "output_type": "execute_result"
    }
   ],
   "source": [
    "data[7]"
   ]
  },
  {
   "cell_type": "code",
   "execution_count": 49,
   "metadata": {},
   "outputs": [
    {
     "data": {
      "text/plain": [
       "'a'"
      ]
     },
     "execution_count": 49,
     "metadata": {},
     "output_type": "execute_result"
    }
   ],
   "source": [
    "data[0]"
   ]
  },
  {
   "cell_type": "code",
   "execution_count": 50,
   "metadata": {},
   "outputs": [
    {
     "data": {
      "text/plain": [
       "'d'"
      ]
     },
     "execution_count": 50,
     "metadata": {},
     "output_type": "execute_result"
    }
   ],
   "source": [
    "data[-9]"
   ]
  },
  {
   "cell_type": "code",
   "execution_count": 9,
   "metadata": {},
   "outputs": [
    {
     "name": "stdout",
     "output_type": "stream",
     "text": [
      "[200, 300, 500, 600, 800, 200, 600, 100]\n"
     ]
    }
   ],
   "source": [
    "sales  = [2,3,5,6,8,2,6,1]\n",
    "inflation = 100\n",
    "\n",
    "output = []\n",
    "\n",
    "for x in range(len(sales)):\n",
    "    forecast = sales[x] * inflation \n",
    "    output.append(forecast)\n",
    "print(output)\n",
    "\n",
    "\n"
   ]
  },
  {
   "cell_type": "code",
   "execution_count": 2,
   "metadata": {},
   "outputs": [],
   "source": [
    "import pandas as pd\n"
   ]
  },
  {
   "cell_type": "code",
   "execution_count": 10,
   "metadata": {},
   "outputs": [
    {
     "name": "stdout",
     "output_type": "stream",
     "text": [
      "{'english': [23, 78, 56, 89, 90], 'math': [45, 67, 89, 90, 100], 'computer': [12, 67, 34, 56, 67]}\n"
     ]
    }
   ],
   "source": [
    "school = {'english': [23,78, 56, 89, 90],\n",
    "'math': [45, 67, 89, 90, 100],\n",
    "'computer': [12,67,34,56,67]}\n",
    "\n",
    "print(school)"
   ]
  },
  {
   "cell_type": "code",
   "execution_count": 6,
   "metadata": {},
   "outputs": [
    {
     "data": {
      "text/html": [
       "<div>\n",
       "<style scoped>\n",
       "    .dataframe tbody tr th:only-of-type {\n",
       "        vertical-align: middle;\n",
       "    }\n",
       "\n",
       "    .dataframe tbody tr th {\n",
       "        vertical-align: top;\n",
       "    }\n",
       "\n",
       "    .dataframe thead th {\n",
       "        text-align: right;\n",
       "    }\n",
       "</style>\n",
       "<table border=\"1\" class=\"dataframe\">\n",
       "  <thead>\n",
       "    <tr style=\"text-align: right;\">\n",
       "      <th></th>\n",
       "      <th>mark</th>\n",
       "      <th>jessa</th>\n",
       "      <th>Tes</th>\n",
       "    </tr>\n",
       "  </thead>\n",
       "  <tbody>\n",
       "    <tr>\n",
       "      <th>0</th>\n",
       "      <td>23</td>\n",
       "      <td>45</td>\n",
       "      <td>12</td>\n",
       "    </tr>\n",
       "    <tr>\n",
       "      <th>1</th>\n",
       "      <td>78</td>\n",
       "      <td>67</td>\n",
       "      <td>67</td>\n",
       "    </tr>\n",
       "    <tr>\n",
       "      <th>2</th>\n",
       "      <td>56</td>\n",
       "      <td>89</td>\n",
       "      <td>34</td>\n",
       "    </tr>\n",
       "    <tr>\n",
       "      <th>3</th>\n",
       "      <td>89</td>\n",
       "      <td>90</td>\n",
       "      <td>56</td>\n",
       "    </tr>\n",
       "    <tr>\n",
       "      <th>4</th>\n",
       "      <td>90</td>\n",
       "      <td>100</td>\n",
       "      <td>67</td>\n",
       "    </tr>\n",
       "  </tbody>\n",
       "</table>\n",
       "</div>"
      ],
      "text/plain": [
       "   mark  jessa  Tes\n",
       "0    23     45   12\n",
       "1    78     67   67\n",
       "2    56     89   34\n",
       "3    89     90   56\n",
       "4    90    100   67"
      ]
     },
     "execution_count": 6,
     "metadata": {},
     "output_type": "execute_result"
    }
   ],
   "source": [
    "sdf = pd.DataFrame(school)\n",
    "sdf"
   ]
  },
  {
   "cell_type": "code",
   "execution_count": 7,
   "metadata": {},
   "outputs": [
    {
     "data": {
      "text/plain": [
       "array([23, 78, 56, 89, 90])"
      ]
     },
     "execution_count": 7,
     "metadata": {},
     "output_type": "execute_result"
    }
   ],
   "source": [
    "sdf['mark'].values"
   ]
  },
  {
   "cell_type": "code",
   "execution_count": 9,
   "metadata": {},
   "outputs": [
    {
     "data": {
      "text/plain": [
       "Index(['mark', 'jessa', 'Tes'], dtype='object')"
      ]
     },
     "execution_count": 9,
     "metadata": {},
     "output_type": "execute_result"
    }
   ],
   "source": [
    "sdf.keys()"
   ]
  },
  {
   "cell_type": "code",
   "execution_count": 12,
   "metadata": {},
   "outputs": [
    {
     "name": "stdout",
     "output_type": "stream",
     "text": [
      "2300\n",
      "7800\n",
      "5600\n",
      "8900\n",
      "9000\n"
     ]
    },
    {
     "data": {
      "application/vnd.microsoft.datawrangler.viewer.v0+json": {
       "columns": [
        {
         "name": "index",
         "rawType": "int64",
         "type": "integer"
        },
        {
         "name": "mark",
         "rawType": "int64",
         "type": "integer"
        }
       ],
       "ref": "8d65624f-2b10-432c-b974-b2a318a44876",
       "rows": [
        [
         "0",
         "23"
        ],
        [
         "1",
         "78"
        ],
        [
         "2",
         "56"
        ],
        [
         "3",
         "89"
        ],
        [
         "4",
         "90"
        ]
       ],
       "shape": {
        "columns": 1,
        "rows": 5
       }
      },
      "text/plain": [
       "0    23\n",
       "1    78\n",
       "2    56\n",
       "3    89\n",
       "4    90\n",
       "Name: mark, dtype: int64"
      ]
     },
     "execution_count": 12,
     "metadata": {},
     "output_type": "execute_result"
    }
   ],
   "source": [
    "output = []\n",
    "\n",
    "for x in sdf['mark']:\n",
    "    output = x*inflation\n",
    "    print(output)\n",
    "   \n",
    "\n",
    "sdf['mark']"
   ]
  },
  {
   "cell_type": "code",
   "execution_count": null,
   "metadata": {},
   "outputs": [],
   "source": []
  },
  {
   "cell_type": "markdown",
   "metadata": {},
   "source": [
    "### Remove list "
   ]
  },
  {
   "cell_type": "code",
   "execution_count": 21,
   "metadata": {},
   "outputs": [
    {
     "name": "stdout",
     "output_type": "stream",
     "text": [
      "[3, 5, 6, 5]\n"
     ]
    }
   ],
   "source": [
    "mark = [3,5,6,2,5]\n",
    "\n",
    "mark.remove(2)\n",
    "\n",
    "print(mark)"
   ]
  },
  {
   "cell_type": "code",
   "execution_count": 40,
   "metadata": {},
   "outputs": [
    {
     "ename": "AttributeError",
     "evalue": "'int' object has no attribute 'remove'",
     "output_type": "error",
     "traceback": [
      "\u001b[0;31m---------------------------------------------------------------------------\u001b[0m",
      "\u001b[0;31mAttributeError\u001b[0m                            Traceback (most recent call last)",
      "Cell \u001b[0;32mIn[40], line 5\u001b[0m\n\u001b[1;32m      3\u001b[0m \u001b[38;5;28;01mfor\u001b[39;00m x \u001b[38;5;129;01min\u001b[39;00m a:\n\u001b[1;32m      4\u001b[0m     \u001b[38;5;28;01mif\u001b[39;00m x \u001b[38;5;241m==\u001b[39m \u001b[38;5;241m3\u001b[39m:\n\u001b[0;32m----> 5\u001b[0m         \u001b[43ma\u001b[49m\u001b[43m[\u001b[49m\u001b[43mx\u001b[49m\u001b[43m]\u001b[49m\u001b[38;5;241;43m.\u001b[39;49m\u001b[43mremove\u001b[49m(\u001b[38;5;241m3\u001b[39m)\n\u001b[1;32m      6\u001b[0m     \u001b[38;5;28mprint\u001b[39m(x)\n",
      "\u001b[0;31mAttributeError\u001b[0m: 'int' object has no attribute 'remove'"
     ]
    }
   ],
   "source": [
    "a = [3,6,3,6,3,3,5,3,5]\n",
    "\n",
    "for x in a:\n",
    "    if x == 3:\n",
    "        a[x].remove(3)\n",
    "    print(x)"
   ]
  },
  {
   "cell_type": "code",
   "execution_count": 1,
   "metadata": {},
   "outputs": [
    {
     "name": "stdout",
     "output_type": "stream",
     "text": [
      "{'name': 'Mark', 'country': 'USA', 'telephone': 1178}\n"
     ]
    }
   ],
   "source": [
    "# create a dictionary from sequence having each item as a pair\n",
    "person = dict([(\"name\", \"Mark\"), (\"country\", \"USA\"), (\"telephone\", 1178)])\n",
    "print(person)"
   ]
  },
  {
   "cell_type": "code",
   "execution_count": 12,
   "metadata": {},
   "outputs": [
    {
     "name": "stdout",
     "output_type": "stream",
     "text": [
      "{'english': [23, 78, 56, 89, 90], 'math': [45, 67, 89, 90, 100], 'computer': [12, 67, 34, 56, 67]}\n"
     ]
    }
   ],
   "source": [
    "subject = {\n",
    "         'english': [23,78, 56, 89, 90],\n",
    "         'math': [45, 67, 89, 90, 100],\n",
    "         'computer': [12,67,34,56,67]\n",
    "}\n",
    "\n",
    "print(subject)"
   ]
  },
  {
   "cell_type": "code",
   "execution_count": 13,
   "metadata": {},
   "outputs": [
    {
     "data": {
      "text/plain": [
       "[23, 78, 56, 89, 90]"
      ]
     },
     "execution_count": 13,
     "metadata": {},
     "output_type": "execute_result"
    }
   ],
   "source": [
    "subject['english']"
   ]
  },
  {
   "cell_type": "code",
   "execution_count": 14,
   "metadata": {},
   "outputs": [
    {
     "data": {
      "text/plain": [
       "[45, 67, 89, 90, 100]"
      ]
     },
     "execution_count": 14,
     "metadata": {},
     "output_type": "execute_result"
    }
   ],
   "source": [
    "subject.get('math')"
   ]
  },
  {
   "cell_type": "code",
   "execution_count": 15,
   "metadata": {},
   "outputs": [
    {
     "data": {
      "text/plain": [
       "dict_keys(['english', 'math', 'computer'])"
      ]
     },
     "execution_count": 15,
     "metadata": {},
     "output_type": "execute_result"
    }
   ],
   "source": [
    "subject.keys()"
   ]
  },
  {
   "cell_type": "code",
   "execution_count": 16,
   "metadata": {},
   "outputs": [
    {
     "data": {
      "text/plain": [
       "dict_values([[23, 78, 56, 89, 90], [45, 67, 89, 90, 100], [12, 67, 34, 56, 67]])"
      ]
     },
     "execution_count": 16,
     "metadata": {},
     "output_type": "execute_result"
    }
   ],
   "source": [
    "subject.values()"
   ]
  },
  {
   "cell_type": "code",
   "execution_count": 18,
   "metadata": {},
   "outputs": [
    {
     "data": {
      "text/plain": [
       "dict_items([('english', [23, 78, 56, 89, 90]), ('math', [45, 67, 89, 90, 100]), ('computer', [12, 67, 34, 56, 67])])"
      ]
     },
     "execution_count": 18,
     "metadata": {},
     "output_type": "execute_result"
    }
   ],
   "source": [
    "subject.items()"
   ]
  },
  {
   "cell_type": "code",
   "execution_count": null,
   "metadata": {},
   "outputs": [],
   "source": []
  },
  {
   "cell_type": "code",
   "execution_count": 2,
   "metadata": {},
   "outputs": [],
   "source": [
    "person = {\"name\": \"Jessa\", \"country\": \"USA\", \"telephone\": 1178}"
   ]
  },
  {
   "cell_type": "code",
   "execution_count": 3,
   "metadata": {},
   "outputs": [
    {
     "name": "stdout",
     "output_type": "stream",
     "text": [
      "name : Jessa\n",
      "country : USA\n",
      "telephone : 1178\n"
     ]
    }
   ],
   "source": [
    "# Iterating the dictionary using for-loop\n",
    "\n",
    "for key in person:\n",
    "    print(key, ':', person[key])"
   ]
  },
  {
   "cell_type": "code",
   "execution_count": 23,
   "metadata": {},
   "outputs": [
    {
     "name": "stdout",
     "output_type": "stream",
     "text": [
      "english -- [23, 78, 56, 89, 90]\n",
      "math -- [45, 67, 89, 90, 100]\n",
      "computer -- [12, 67, 34, 56, 67]\n"
     ]
    }
   ],
   "source": [
    "for x in subject:\n",
    "\t\tprint(x, '--', subject[x])"
   ]
  },
  {
   "cell_type": "code",
   "execution_count": 4,
   "metadata": {},
   "outputs": [
    {
     "name": "stdout",
     "output_type": "stream",
     "text": [
      "name Jessa\n",
      "country USA\n",
      "telephone 1178\n"
     ]
    }
   ],
   "source": [
    "for key_value in person.items():\n",
    "    # first is key, and second is value\n",
    "    print(key_value[0], key_value[1])"
   ]
  },
  {
   "cell_type": "code",
   "execution_count": 6,
   "metadata": {},
   "outputs": [
    {
     "data": {
      "text/plain": [
       "'Jessa'"
      ]
     },
     "execution_count": 6,
     "metadata": {},
     "output_type": "execute_result"
    }
   ],
   "source": [
    "person.get('name')"
   ]
  },
  {
   "cell_type": "code",
   "execution_count": 9,
   "metadata": {},
   "outputs": [
    {
     "data": {
      "application/vnd.microsoft.datawrangler.viewer.v0+json": {
       "columns": [
        {
         "name": "index",
         "rawType": "int64",
         "type": "integer"
        },
        {
         "name": "english",
         "rawType": "int64",
         "type": "integer"
        },
        {
         "name": "math",
         "rawType": "int64",
         "type": "integer"
        },
        {
         "name": "computer",
         "rawType": "int64",
         "type": "integer"
        }
       ],
       "ref": "4a2831dd-9818-427f-8a90-736601f7edd6",
       "rows": [
        [
         "0",
         "23",
         "45",
         "12"
        ],
        [
         "1",
         "78",
         "67",
         "67"
        ],
        [
         "2",
         "56",
         "89",
         "34"
        ],
        [
         "3",
         "89",
         "90",
         "56"
        ],
        [
         "4",
         "90",
         "100",
         "67"
        ]
       ],
       "shape": {
        "columns": 3,
        "rows": 5
       }
      },
      "text/html": [
       "<div>\n",
       "<style scoped>\n",
       "    .dataframe tbody tr th:only-of-type {\n",
       "        vertical-align: middle;\n",
       "    }\n",
       "\n",
       "    .dataframe tbody tr th {\n",
       "        vertical-align: top;\n",
       "    }\n",
       "\n",
       "    .dataframe thead th {\n",
       "        text-align: right;\n",
       "    }\n",
       "</style>\n",
       "<table border=\"1\" class=\"dataframe\">\n",
       "  <thead>\n",
       "    <tr style=\"text-align: right;\">\n",
       "      <th></th>\n",
       "      <th>english</th>\n",
       "      <th>math</th>\n",
       "      <th>computer</th>\n",
       "    </tr>\n",
       "  </thead>\n",
       "  <tbody>\n",
       "    <tr>\n",
       "      <th>0</th>\n",
       "      <td>23</td>\n",
       "      <td>45</td>\n",
       "      <td>12</td>\n",
       "    </tr>\n",
       "    <tr>\n",
       "      <th>1</th>\n",
       "      <td>78</td>\n",
       "      <td>67</td>\n",
       "      <td>67</td>\n",
       "    </tr>\n",
       "    <tr>\n",
       "      <th>2</th>\n",
       "      <td>56</td>\n",
       "      <td>89</td>\n",
       "      <td>34</td>\n",
       "    </tr>\n",
       "    <tr>\n",
       "      <th>3</th>\n",
       "      <td>89</td>\n",
       "      <td>90</td>\n",
       "      <td>56</td>\n",
       "    </tr>\n",
       "    <tr>\n",
       "      <th>4</th>\n",
       "      <td>90</td>\n",
       "      <td>100</td>\n",
       "      <td>67</td>\n",
       "    </tr>\n",
       "  </tbody>\n",
       "</table>\n",
       "</div>"
      ],
      "text/plain": [
       "   english  math  computer\n",
       "0       23    45        12\n",
       "1       78    67        67\n",
       "2       56    89        34\n",
       "3       89    90        56\n",
       "4       90   100        67"
      ]
     },
     "execution_count": 9,
     "metadata": {},
     "output_type": "execute_result"
    }
   ],
   "source": [
    "subject = {\n",
    "         'english': [23,78, 56, 89, 90],\n",
    "         'math': [45, 67, 89, 90, 100],\n",
    "         'computer': [12,67,34,56,67]\n",
    "                      \n",
    "                      }\n",
    "         \n",
    "         \n",
    "data = pd.DataFrame(subject)\n",
    "data"
   ]
  },
  {
   "cell_type": "code",
   "execution_count": 10,
   "metadata": {},
   "outputs": [
    {
     "data": {
      "application/vnd.microsoft.datawrangler.viewer.v0+json": {
       "columns": [
        {
         "name": "index",
         "rawType": "int64",
         "type": "integer"
        },
        {
         "name": "english",
         "rawType": "int64",
         "type": "integer"
        }
       ],
       "ref": "da3eba81-a15b-4c63-9ea9-1b145578170f",
       "rows": [
        [
         "0",
         "23"
        ],
        [
         "1",
         "78"
        ],
        [
         "2",
         "56"
        ],
        [
         "3",
         "89"
        ],
        [
         "4",
         "90"
        ]
       ],
       "shape": {
        "columns": 1,
        "rows": 5
       }
      },
      "text/plain": [
       "0    23\n",
       "1    78\n",
       "2    56\n",
       "3    89\n",
       "4    90\n",
       "Name: english, dtype: int64"
      ]
     },
     "execution_count": 10,
     "metadata": {},
     "output_type": "execute_result"
    }
   ],
   "source": [
    "data.get('english')"
   ]
  },
  {
   "cell_type": "code",
   "execution_count": 11,
   "metadata": {},
   "outputs": [
    {
     "data": {
      "application/vnd.microsoft.datawrangler.viewer.v0+json": {
       "columns": [
        {
         "name": "index",
         "rawType": "int64",
         "type": "integer"
        },
        {
         "name": "english",
         "rawType": "int64",
         "type": "integer"
        }
       ],
       "ref": "867cea61-d09c-43a4-bab0-12a7c74ebcea",
       "rows": [
        [
         "0",
         "23"
        ],
        [
         "1",
         "78"
        ],
        [
         "2",
         "56"
        ],
        [
         "3",
         "89"
        ],
        [
         "4",
         "90"
        ]
       ],
       "shape": {
        "columns": 1,
        "rows": 5
       }
      },
      "text/plain": [
       "0    23\n",
       "1    78\n",
       "2    56\n",
       "3    89\n",
       "4    90\n",
       "Name: english, dtype: int64"
      ]
     },
     "execution_count": 11,
     "metadata": {},
     "output_type": "execute_result"
    }
   ],
   "source": [
    "data['english']"
   ]
  },
  {
   "cell_type": "code",
   "execution_count": 13,
   "metadata": {},
   "outputs": [
    {
     "data": {
      "text/plain": [
       "Index(['english', 'math', 'computer'], dtype='object')"
      ]
     },
     "execution_count": 13,
     "metadata": {},
     "output_type": "execute_result"
    }
   ],
   "source": [
    "data.keys()"
   ]
  },
  {
   "cell_type": "code",
   "execution_count": 15,
   "metadata": {},
   "outputs": [
    {
     "data": {
      "application/vnd.microsoft.datawrangler.viewer.v0+json": {
       "columns": [
        {
         "name": "index",
         "rawType": "int64",
         "type": "integer"
        },
        {
         "name": "Rank",
         "rawType": "int64",
         "type": "integer"
        },
        {
         "name": "CCA3",
         "rawType": "object",
         "type": "string"
        },
        {
         "name": "Country/Territory",
         "rawType": "object",
         "type": "string"
        },
        {
         "name": "Capital",
         "rawType": "object",
         "type": "string"
        },
        {
         "name": "Continent",
         "rawType": "object",
         "type": "string"
        },
        {
         "name": "2022 Population",
         "rawType": "int64",
         "type": "integer"
        },
        {
         "name": "2020 Population",
         "rawType": "int64",
         "type": "integer"
        },
        {
         "name": "2015 Population",
         "rawType": "int64",
         "type": "integer"
        },
        {
         "name": "2010 Population",
         "rawType": "int64",
         "type": "integer"
        },
        {
         "name": "2000 Population",
         "rawType": "int64",
         "type": "integer"
        },
        {
         "name": "1990 Population",
         "rawType": "int64",
         "type": "integer"
        },
        {
         "name": "1980 Population",
         "rawType": "int64",
         "type": "integer"
        },
        {
         "name": "1970 Population",
         "rawType": "int64",
         "type": "integer"
        },
        {
         "name": "Area (km²)",
         "rawType": "int64",
         "type": "integer"
        },
        {
         "name": "Density (per km²)",
         "rawType": "float64",
         "type": "float"
        },
        {
         "name": "Growth Rate",
         "rawType": "float64",
         "type": "float"
        },
        {
         "name": "World Population Percentage",
         "rawType": "float64",
         "type": "float"
        }
       ],
       "ref": "f10d346f-9a57-4072-a2af-75f5d91c2a4e",
       "rows": [
        [
         "0",
         "36",
         "AFG",
         "Afghanistan",
         "Kabul",
         "Asia",
         "41128771",
         "38972230",
         "33753499",
         "28189672",
         "19542982",
         "10694796",
         "12486631",
         "10752971",
         "652230",
         "63.0587",
         "1.0257",
         "0.52"
        ],
        [
         "1",
         "138",
         "ALB",
         "Albania",
         "Tirana",
         "Europe",
         "2842321",
         "2866849",
         "2882481",
         "2913399",
         "3182021",
         "3295066",
         "2941651",
         "2324731",
         "28748",
         "98.8702",
         "0.9957",
         "0.04"
        ],
        [
         "2",
         "34",
         "DZA",
         "Algeria",
         "Algiers",
         "Africa",
         "44903225",
         "43451666",
         "39543154",
         "35856344",
         "30774621",
         "25518074",
         "18739378",
         "13795915",
         "2381741",
         "18.8531",
         "1.0164",
         "0.56"
        ],
        [
         "3",
         "213",
         "ASM",
         "American Samoa",
         "Pago Pago",
         "Oceania",
         "44273",
         "46189",
         "51368",
         "54849",
         "58230",
         "47818",
         "32886",
         "27075",
         "199",
         "222.4774",
         "0.9831",
         "0.0"
        ],
        [
         "4",
         "203",
         "AND",
         "Andorra",
         "Andorra la Vella",
         "Europe",
         "79824",
         "77700",
         "71746",
         "71519",
         "66097",
         "53569",
         "35611",
         "19860",
         "468",
         "170.5641",
         "1.01",
         "0.0"
        ],
        [
         "5",
         "42",
         "AGO",
         "Angola",
         "Luanda",
         "Africa",
         "35588987",
         "33428485",
         "28127721",
         "23364185",
         "16394062",
         "11828638",
         "8330047",
         "6029700",
         "1246700",
         "28.5466",
         "1.0315",
         "0.45"
        ],
        [
         "6",
         "224",
         "AIA",
         "Anguilla",
         "The Valley",
         "North America",
         "15857",
         "15585",
         "14525",
         "13172",
         "11047",
         "8316",
         "6560",
         "6283",
         "91",
         "174.2527",
         "1.0066",
         "0.0"
        ],
        [
         "7",
         "201",
         "ATG",
         "Antigua and Barbuda",
         "Saint John’s",
         "North America",
         "93763",
         "92664",
         "89941",
         "85695",
         "75055",
         "63328",
         "64888",
         "64516",
         "442",
         "212.1335",
         "1.0058",
         "0.0"
        ],
        [
         "8",
         "33",
         "ARG",
         "Argentina",
         "Buenos Aires",
         "South America",
         "45510318",
         "45036032",
         "43257065",
         "41100123",
         "37070774",
         "32637657",
         "28024803",
         "23842803",
         "2780400",
         "16.3683",
         "1.0052",
         "0.57"
        ],
        [
         "9",
         "140",
         "ARM",
         "Armenia",
         "Yerevan",
         "Asia",
         "2780469",
         "2805608",
         "2878595",
         "2946293",
         "3168523",
         "3556539",
         "3135123",
         "2534377",
         "29743",
         "93.4831",
         "0.9962",
         "0.03"
        ],
        [
         "10",
         "198",
         "ABW",
         "Aruba",
         "Oranjestad",
         "North America",
         "106445",
         "106585",
         "104257",
         "100341",
         "89101",
         "65712",
         "62267",
         "59106",
         "180",
         "591.3611",
         "0.9991",
         "0.0"
        ],
        [
         "11",
         "55",
         "AUS",
         "Australia",
         "Canberra",
         "Oceania",
         "26177413",
         "25670051",
         "23820236",
         "22019168",
         "19017963",
         "17048003",
         "14706322",
         "12595034",
         "7692024",
         "3.4032",
         "1.0099",
         "0.33"
        ],
        [
         "12",
         "99",
         "AUT",
         "Austria",
         "Vienna",
         "Europe",
         "8939617",
         "8907777",
         "8642421",
         "8362829",
         "8010428",
         "7678729",
         "7547561",
         "7465301",
         "83871",
         "106.5877",
         "1.002",
         "0.11"
        ],
        [
         "13",
         "91",
         "AZE",
         "Azerbaijan",
         "Baku",
         "Asia",
         "10358074",
         "10284951",
         "9863480",
         "9237202",
         "8190337",
         "7427836",
         "6383060",
         "5425317",
         "86600",
         "119.6082",
         "1.0044",
         "0.13"
        ],
        [
         "14",
         "176",
         "BHS",
         "Bahamas",
         "Nassau",
         "North America",
         "409984",
         "406471",
         "392697",
         "373272",
         "325014",
         "270679",
         "223752",
         "179129",
         "13943",
         "29.4043",
         "1.0051",
         "0.01"
        ],
        [
         "15",
         "154",
         "BHR",
         "Bahrain",
         "Manama",
         "Asia",
         "1472233",
         "1477469",
         "1362142",
         "1213645",
         "711442",
         "517418",
         "362595",
         "222555",
         "765",
         "1924.4876",
         "1.0061",
         "0.02"
        ],
        [
         "16",
         "8",
         "BGD",
         "Bangladesh",
         "Dhaka",
         "Asia",
         "171186372",
         "167420951",
         "157830000",
         "148391139",
         "129193327",
         "107147651",
         "83929765",
         "67541860",
         "147570",
         "1160.035",
         "1.0108",
         "2.15"
        ],
        [
         "17",
         "186",
         "BRB",
         "Barbados",
         "Bridgetown",
         "North America",
         "281635",
         "280693",
         "278083",
         "274711",
         "264657",
         "258868",
         "253575",
         "241397",
         "430",
         "654.9651",
         "1.0015",
         "0.0"
        ],
        [
         "18",
         "96",
         "BLR",
         "Belarus",
         "Minsk",
         "Europe",
         "9534954",
         "9633740",
         "9700609",
         "9731427",
         "10256483",
         "10428525",
         "9817257",
         "9170786",
         "207600",
         "45.9295",
         "0.9955",
         "0.12"
        ],
        [
         "19",
         "81",
         "BEL",
         "Belgium",
         "Brussels",
         "Europe",
         "11655930",
         "11561717",
         "11248303",
         "10877947",
         "10264343",
         "9959560",
         "9828986",
         "9629376",
         "30528",
         "381.8111",
         "2.2",
         "0.15"
        ],
        [
         "20",
         "177",
         "BLZ",
         "Belize",
         "Belmopan",
         "North America",
         "405272",
         "394921",
         "359871",
         "322106",
         "240406",
         "182589",
         "145133",
         "120905",
         "22966",
         "17.6466",
         "1.0131",
         "0.01"
        ],
        [
         "21",
         "77",
         "BEN",
         "Benin",
         "Porto-Novo",
         "Africa",
         "13352864",
         "12643123",
         "10932783",
         "9445710",
         "6998023",
         "5133419",
         "3833939",
         "3023443",
         "112622",
         "118.5635",
         "1.0274",
         "0.17"
        ],
        [
         "22",
         "206",
         "BMU",
         "Bermuda",
         "Hamilton",
         "North America",
         "64184",
         "64031",
         "63144",
         "63447",
         "61371",
         "57470",
         "53565",
         "52019",
         "54",
         "1188.5926",
         "1.0",
         "0.0"
        ],
        [
         "23",
         "165",
         "BTN",
         "Bhutan",
         "Thimphu",
         "Asia",
         "782455",
         "772506",
         "743274",
         "705516",
         "587207",
         "558442",
         "415257",
         "298894",
         "38394",
         "20.3796",
         "1.0064",
         "0.01"
        ],
        [
         "24",
         "80",
         "BOL",
         "Bolivia",
         "Sucre",
         "South America",
         "12224110",
         "11936162",
         "11090085",
         "10223270",
         "8592656",
         "7096194",
         "5736088",
         "4585693",
         "1098581",
         "11.1272",
         "1.012",
         "0.15"
        ],
        [
         "25",
         "137",
         "BIH",
         "Bosnia and Herzegovina",
         "Sarajevo",
         "Europe",
         "3233526",
         "3318407",
         "3524324",
         "3811088",
         "4179350",
         "4494310",
         "4199820",
         "3815561",
         "51209",
         "63.1437",
         "0.9886",
         "0.04"
        ],
        [
         "26",
         "144",
         "BWA",
         "Botswana",
         "Gaborone",
         "Africa",
         "2630296",
         "2546402",
         "2305171",
         "2091664",
         "1726985",
         "1341474",
         "938578",
         "592244",
         "582000",
         "4.5194",
         "1.0162",
         "0.03"
        ],
        [
         "27",
         "7",
         "BRA",
         "Brazil",
         "Brasilia",
         "South America",
         "215313498",
         "213196304",
         "205188205",
         "196353492",
         "175873720",
         "150706446",
         "122288383",
         "96369875",
         "8515767",
         "25.2841",
         "1.0046",
         "2.7"
        ],
        [
         "28",
         "221",
         "VGB",
         "British Virgin Islands",
         "Road Town",
         "North America",
         "31305",
         "30910",
         "29366",
         "27556",
         "20104",
         "15617",
         "11109",
         "9581",
         "151",
         "207.3179",
         "1.0059",
         "0.0"
        ],
        [
         "29",
         "175",
         "BRN",
         "Brunei",
         "Bandar Seri Begawan",
         "Asia",
         "449002",
         "441725",
         "421437",
         "396053",
         "333926",
         "261928",
         "187921",
         "133343",
         "5765",
         "77.8841",
         "1.0081",
         "0.01"
        ],
        [
         "30",
         "108",
         "BGR",
         "Bulgaria",
         "Sofia",
         "Europe",
         "6781953",
         "6979175",
         "7309253",
         "7592273",
         "8097691",
         "8767778",
         "8980606",
         "8582950",
         "110879",
         "61.1654",
         "0.9849",
         "0.09"
        ],
        [
         "31",
         "58",
         "BFA",
         "Burkina Faso",
         "Ouagadougou",
         "Africa",
         "22673762",
         "21522626",
         "18718019",
         "16116845",
         "11882888",
         "9131361",
         "6932967",
         "5611666",
         "272967",
         "83.0641",
         "1.0259",
         "0.28"
        ],
        [
         "32",
         "78",
         "BDI",
         "Burundi",
         "Bujumbura",
         "Africa",
         "12889576",
         "12220227",
         "10727148",
         "9126605",
         "6307659",
         "5483793",
         "4312834",
         "3497834",
         "27834",
         "463.0874",
         "1.027",
         "0.16"
        ],
        [
         "33",
         "73",
         "KHM",
         "Cambodia",
         "Phnom Penh",
         "Asia",
         "16767842",
         "16396860",
         "15417523",
         "14363532",
         "12118841",
         "8910808",
         "6198959",
         "6708525",
         "181035",
         "92.6221",
         "1.0108",
         "0.21"
        ],
        [
         "34",
         "53",
         "CMR",
         "Cameroon",
         "Yaounde",
         "Africa",
         "27914536",
         "26491087",
         "23012646",
         "19878036",
         "15091594",
         "11430520",
         "8519891",
         "6452787",
         "475442",
         "58.7128",
         "1.0263",
         "0.35"
        ],
        [
         "35",
         "39",
         "CAN",
         "Canada",
         "Ottawa",
         "North America",
         "38454327",
         "37888705",
         "35732126",
         "33963412",
         "30683313",
         "27657204",
         "24511510",
         "21434577",
         "9984670",
         "3.8513",
         "1.0078",
         "0.48"
        ],
        [
         "36",
         "171",
         "CPV",
         "Cape Verde",
         "Praia",
         "Africa",
         "593149",
         "582640",
         "552166",
         "521212",
         "458251",
         "364563",
         "317234",
         "287262",
         "4033",
         "147.0739",
         "1.0089",
         "0.01"
        ],
        [
         "37",
         "205",
         "CYM",
         "Cayman Islands",
         "George Town",
         "North America",
         "68706",
         "67311",
         "60911",
         "54074",
         "39658",
         "26027",
         "17100",
         "10533",
         "264",
         "260.25",
         "1.0084",
         "0.0"
        ],
        [
         "38",
         "117",
         "CAF",
         "Central African Republic",
         "Bangui",
         "Africa",
         "5579144",
         "5343020",
         "4819333",
         "4660067",
         "3759170",
         "2809221",
         "2415276",
         "2067356",
         "622984",
         "8.9555",
         "1.0224",
         "0.07"
        ],
        [
         "39",
         "69",
         "TCD",
         "Chad",
         "N'Djamena",
         "Africa",
         "17723315",
         "16644701",
         "14140274",
         "11894727",
         "8259137",
         "5827069",
         "4408230",
         "3667394",
         "1284000",
         "13.8032",
         "1.0316",
         "0.22"
        ],
        [
         "40",
         "65",
         "CHL",
         "Chile",
         "Santiago",
         "South America",
         "19603733",
         "19300315",
         "17870124",
         "17004162",
         "15351799",
         "13342868",
         "11469828",
         "9820481",
         "756102",
         "25.9274",
         "1.0057",
         "0.25"
        ],
        [
         "41",
         "1",
         "CHN",
         "China",
         "Beijing",
         "Asia",
         "1425887337",
         "1424929781",
         "1393715448",
         "1348191368",
         "1264099069",
         "1153704252",
         "982372466",
         "822534450",
         "9706961",
         "146.8933",
         "1.0",
         "17.88"
        ],
        [
         "42",
         "28",
         "COL",
         "Colombia",
         "Bogota",
         "South America",
         "51874024",
         "50930662",
         "47119728",
         "44816108",
         "39215135",
         "32601393",
         "26176195",
         "20905254",
         "1141748",
         "45.4339",
         "1.0069",
         "0.65"
        ],
        [
         "43",
         "163",
         "COM",
         "Comoros",
         "Moroni",
         "Africa",
         "836774",
         "806166",
         "730216",
         "656024",
         "536758",
         "431119",
         "328328",
         "242351",
         "1862",
         "449.3953",
         "1.0184",
         "0.01"
        ],
        [
         "44",
         "223",
         "COK",
         "Cook Islands",
         "Avarua",
         "Oceania",
         "17011",
         "17029",
         "17695",
         "17212",
         "15897",
         "17123",
         "17651",
         "20470",
         "236",
         "72.0805",
         "1.0005",
         "0.0"
        ],
        [
         "45",
         "124",
         "CRI",
         "Costa Rica",
         "San José",
         "North America",
         "5180829",
         "5123105",
         "4895242",
         "4622252",
         "3979193",
         "3158253",
         "2414303",
         "1855697",
         "51100",
         "101.3861",
         "1.0052",
         "0.06"
        ],
        [
         "46",
         "130",
         "HRV",
         "Croatia",
         "Zagreb",
         "Europe",
         "4030358",
         "4096868",
         "4254815",
         "4368682",
         "4548434",
         "4873707",
         "4680144",
         "4492638",
         "56594",
         "71.2153",
         "0.9927",
         "0.05"
        ],
        [
         "47",
         "85",
         "CUB",
         "Cuba",
         "Havana",
         "North America",
         "11212191",
         "11300698",
         "11339894",
         "11290417",
         "11105791",
         "10626680",
         "9809107",
         "8869636",
         "109884",
         "102.0366",
         "0.9961",
         "0.14"
        ],
        [
         "48",
         "189",
         "CUW",
         "Curacao",
         "Willemstad",
         "North America",
         "191163",
         "189288",
         "169572",
         "159380",
         "141424",
         "155446",
         "156851",
         "150385",
         "444",
         "430.5473",
         "1.0043",
         "0.0"
        ],
        [
         "49",
         "158",
         "CYP",
         "Cyprus",
         "Nicosia",
         "Europe",
         "1251488",
         "1237537",
         "1187280",
         "1129686",
         "948237",
         "788500",
         "679327",
         "640804",
         "9251",
         "135.2814",
         "1.0059",
         "0.02"
        ]
       ],
       "shape": {
        "columns": 17,
        "rows": 234
       }
      },
      "text/html": [
       "<div>\n",
       "<style scoped>\n",
       "    .dataframe tbody tr th:only-of-type {\n",
       "        vertical-align: middle;\n",
       "    }\n",
       "\n",
       "    .dataframe tbody tr th {\n",
       "        vertical-align: top;\n",
       "    }\n",
       "\n",
       "    .dataframe thead th {\n",
       "        text-align: right;\n",
       "    }\n",
       "</style>\n",
       "<table border=\"1\" class=\"dataframe\">\n",
       "  <thead>\n",
       "    <tr style=\"text-align: right;\">\n",
       "      <th></th>\n",
       "      <th>Rank</th>\n",
       "      <th>CCA3</th>\n",
       "      <th>Country/Territory</th>\n",
       "      <th>Capital</th>\n",
       "      <th>Continent</th>\n",
       "      <th>2022 Population</th>\n",
       "      <th>2020 Population</th>\n",
       "      <th>2015 Population</th>\n",
       "      <th>2010 Population</th>\n",
       "      <th>2000 Population</th>\n",
       "      <th>1990 Population</th>\n",
       "      <th>1980 Population</th>\n",
       "      <th>1970 Population</th>\n",
       "      <th>Area (km²)</th>\n",
       "      <th>Density (per km²)</th>\n",
       "      <th>Growth Rate</th>\n",
       "      <th>World Population Percentage</th>\n",
       "    </tr>\n",
       "  </thead>\n",
       "  <tbody>\n",
       "    <tr>\n",
       "      <th>0</th>\n",
       "      <td>36</td>\n",
       "      <td>AFG</td>\n",
       "      <td>Afghanistan</td>\n",
       "      <td>Kabul</td>\n",
       "      <td>Asia</td>\n",
       "      <td>41128771</td>\n",
       "      <td>38972230</td>\n",
       "      <td>33753499</td>\n",
       "      <td>28189672</td>\n",
       "      <td>19542982</td>\n",
       "      <td>10694796</td>\n",
       "      <td>12486631</td>\n",
       "      <td>10752971</td>\n",
       "      <td>652230</td>\n",
       "      <td>63.0587</td>\n",
       "      <td>1.0257</td>\n",
       "      <td>0.52</td>\n",
       "    </tr>\n",
       "    <tr>\n",
       "      <th>1</th>\n",
       "      <td>138</td>\n",
       "      <td>ALB</td>\n",
       "      <td>Albania</td>\n",
       "      <td>Tirana</td>\n",
       "      <td>Europe</td>\n",
       "      <td>2842321</td>\n",
       "      <td>2866849</td>\n",
       "      <td>2882481</td>\n",
       "      <td>2913399</td>\n",
       "      <td>3182021</td>\n",
       "      <td>3295066</td>\n",
       "      <td>2941651</td>\n",
       "      <td>2324731</td>\n",
       "      <td>28748</td>\n",
       "      <td>98.8702</td>\n",
       "      <td>0.9957</td>\n",
       "      <td>0.04</td>\n",
       "    </tr>\n",
       "    <tr>\n",
       "      <th>2</th>\n",
       "      <td>34</td>\n",
       "      <td>DZA</td>\n",
       "      <td>Algeria</td>\n",
       "      <td>Algiers</td>\n",
       "      <td>Africa</td>\n",
       "      <td>44903225</td>\n",
       "      <td>43451666</td>\n",
       "      <td>39543154</td>\n",
       "      <td>35856344</td>\n",
       "      <td>30774621</td>\n",
       "      <td>25518074</td>\n",
       "      <td>18739378</td>\n",
       "      <td>13795915</td>\n",
       "      <td>2381741</td>\n",
       "      <td>18.8531</td>\n",
       "      <td>1.0164</td>\n",
       "      <td>0.56</td>\n",
       "    </tr>\n",
       "    <tr>\n",
       "      <th>3</th>\n",
       "      <td>213</td>\n",
       "      <td>ASM</td>\n",
       "      <td>American Samoa</td>\n",
       "      <td>Pago Pago</td>\n",
       "      <td>Oceania</td>\n",
       "      <td>44273</td>\n",
       "      <td>46189</td>\n",
       "      <td>51368</td>\n",
       "      <td>54849</td>\n",
       "      <td>58230</td>\n",
       "      <td>47818</td>\n",
       "      <td>32886</td>\n",
       "      <td>27075</td>\n",
       "      <td>199</td>\n",
       "      <td>222.4774</td>\n",
       "      <td>0.9831</td>\n",
       "      <td>0.00</td>\n",
       "    </tr>\n",
       "    <tr>\n",
       "      <th>4</th>\n",
       "      <td>203</td>\n",
       "      <td>AND</td>\n",
       "      <td>Andorra</td>\n",
       "      <td>Andorra la Vella</td>\n",
       "      <td>Europe</td>\n",
       "      <td>79824</td>\n",
       "      <td>77700</td>\n",
       "      <td>71746</td>\n",
       "      <td>71519</td>\n",
       "      <td>66097</td>\n",
       "      <td>53569</td>\n",
       "      <td>35611</td>\n",
       "      <td>19860</td>\n",
       "      <td>468</td>\n",
       "      <td>170.5641</td>\n",
       "      <td>1.0100</td>\n",
       "      <td>0.00</td>\n",
       "    </tr>\n",
       "    <tr>\n",
       "      <th>...</th>\n",
       "      <td>...</td>\n",
       "      <td>...</td>\n",
       "      <td>...</td>\n",
       "      <td>...</td>\n",
       "      <td>...</td>\n",
       "      <td>...</td>\n",
       "      <td>...</td>\n",
       "      <td>...</td>\n",
       "      <td>...</td>\n",
       "      <td>...</td>\n",
       "      <td>...</td>\n",
       "      <td>...</td>\n",
       "      <td>...</td>\n",
       "      <td>...</td>\n",
       "      <td>...</td>\n",
       "      <td>...</td>\n",
       "      <td>...</td>\n",
       "    </tr>\n",
       "    <tr>\n",
       "      <th>229</th>\n",
       "      <td>226</td>\n",
       "      <td>WLF</td>\n",
       "      <td>Wallis and Futuna</td>\n",
       "      <td>Mata-Utu</td>\n",
       "      <td>Oceania</td>\n",
       "      <td>11572</td>\n",
       "      <td>11655</td>\n",
       "      <td>12182</td>\n",
       "      <td>13142</td>\n",
       "      <td>14723</td>\n",
       "      <td>13454</td>\n",
       "      <td>11315</td>\n",
       "      <td>9377</td>\n",
       "      <td>142</td>\n",
       "      <td>81.4930</td>\n",
       "      <td>0.9953</td>\n",
       "      <td>0.00</td>\n",
       "    </tr>\n",
       "    <tr>\n",
       "      <th>230</th>\n",
       "      <td>172</td>\n",
       "      <td>ESH</td>\n",
       "      <td>Western Sahara</td>\n",
       "      <td>El Aaiún</td>\n",
       "      <td>Africa</td>\n",
       "      <td>575986</td>\n",
       "      <td>556048</td>\n",
       "      <td>491824</td>\n",
       "      <td>413296</td>\n",
       "      <td>270375</td>\n",
       "      <td>178529</td>\n",
       "      <td>116775</td>\n",
       "      <td>76371</td>\n",
       "      <td>266000</td>\n",
       "      <td>2.1654</td>\n",
       "      <td>1.0184</td>\n",
       "      <td>0.01</td>\n",
       "    </tr>\n",
       "    <tr>\n",
       "      <th>231</th>\n",
       "      <td>46</td>\n",
       "      <td>YEM</td>\n",
       "      <td>Yemen</td>\n",
       "      <td>Sanaa</td>\n",
       "      <td>Asia</td>\n",
       "      <td>33696614</td>\n",
       "      <td>32284046</td>\n",
       "      <td>28516545</td>\n",
       "      <td>24743946</td>\n",
       "      <td>18628700</td>\n",
       "      <td>13375121</td>\n",
       "      <td>9204938</td>\n",
       "      <td>6843607</td>\n",
       "      <td>527968</td>\n",
       "      <td>63.8232</td>\n",
       "      <td>1.0217</td>\n",
       "      <td>0.42</td>\n",
       "    </tr>\n",
       "    <tr>\n",
       "      <th>232</th>\n",
       "      <td>63</td>\n",
       "      <td>ZMB</td>\n",
       "      <td>Zambia</td>\n",
       "      <td>Lusaka</td>\n",
       "      <td>Africa</td>\n",
       "      <td>20017675</td>\n",
       "      <td>18927715</td>\n",
       "      <td>16248230</td>\n",
       "      <td>13792086</td>\n",
       "      <td>9891136</td>\n",
       "      <td>7686401</td>\n",
       "      <td>5720438</td>\n",
       "      <td>4281671</td>\n",
       "      <td>752612</td>\n",
       "      <td>26.5976</td>\n",
       "      <td>1.0280</td>\n",
       "      <td>0.25</td>\n",
       "    </tr>\n",
       "    <tr>\n",
       "      <th>233</th>\n",
       "      <td>74</td>\n",
       "      <td>ZWE</td>\n",
       "      <td>Zimbabwe</td>\n",
       "      <td>Harare</td>\n",
       "      <td>Africa</td>\n",
       "      <td>16320537</td>\n",
       "      <td>15669666</td>\n",
       "      <td>14154937</td>\n",
       "      <td>12839771</td>\n",
       "      <td>11834676</td>\n",
       "      <td>10113893</td>\n",
       "      <td>7049926</td>\n",
       "      <td>5202918</td>\n",
       "      <td>390757</td>\n",
       "      <td>41.7665</td>\n",
       "      <td>1.0204</td>\n",
       "      <td>0.20</td>\n",
       "    </tr>\n",
       "  </tbody>\n",
       "</table>\n",
       "<p>234 rows × 17 columns</p>\n",
       "</div>"
      ],
      "text/plain": [
       "     Rank CCA3  Country/Territory           Capital Continent  \\\n",
       "0      36  AFG        Afghanistan             Kabul      Asia   \n",
       "1     138  ALB            Albania            Tirana    Europe   \n",
       "2      34  DZA            Algeria           Algiers    Africa   \n",
       "3     213  ASM     American Samoa         Pago Pago   Oceania   \n",
       "4     203  AND            Andorra  Andorra la Vella    Europe   \n",
       "..    ...  ...                ...               ...       ...   \n",
       "229   226  WLF  Wallis and Futuna          Mata-Utu   Oceania   \n",
       "230   172  ESH     Western Sahara          El Aaiún    Africa   \n",
       "231    46  YEM              Yemen             Sanaa      Asia   \n",
       "232    63  ZMB             Zambia            Lusaka    Africa   \n",
       "233    74  ZWE           Zimbabwe            Harare    Africa   \n",
       "\n",
       "     2022 Population  2020 Population  2015 Population  2010 Population  \\\n",
       "0           41128771         38972230         33753499         28189672   \n",
       "1            2842321          2866849          2882481          2913399   \n",
       "2           44903225         43451666         39543154         35856344   \n",
       "3              44273            46189            51368            54849   \n",
       "4              79824            77700            71746            71519   \n",
       "..               ...              ...              ...              ...   \n",
       "229            11572            11655            12182            13142   \n",
       "230           575986           556048           491824           413296   \n",
       "231         33696614         32284046         28516545         24743946   \n",
       "232         20017675         18927715         16248230         13792086   \n",
       "233         16320537         15669666         14154937         12839771   \n",
       "\n",
       "     2000 Population  1990 Population  1980 Population  1970 Population  \\\n",
       "0           19542982         10694796         12486631         10752971   \n",
       "1            3182021          3295066          2941651          2324731   \n",
       "2           30774621         25518074         18739378         13795915   \n",
       "3              58230            47818            32886            27075   \n",
       "4              66097            53569            35611            19860   \n",
       "..               ...              ...              ...              ...   \n",
       "229            14723            13454            11315             9377   \n",
       "230           270375           178529           116775            76371   \n",
       "231         18628700         13375121          9204938          6843607   \n",
       "232          9891136          7686401          5720438          4281671   \n",
       "233         11834676         10113893          7049926          5202918   \n",
       "\n",
       "     Area (km²)  Density (per km²)  Growth Rate  World Population Percentage  \n",
       "0        652230            63.0587       1.0257                         0.52  \n",
       "1         28748            98.8702       0.9957                         0.04  \n",
       "2       2381741            18.8531       1.0164                         0.56  \n",
       "3           199           222.4774       0.9831                         0.00  \n",
       "4           468           170.5641       1.0100                         0.00  \n",
       "..          ...                ...          ...                          ...  \n",
       "229         142            81.4930       0.9953                         0.00  \n",
       "230      266000             2.1654       1.0184                         0.01  \n",
       "231      527968            63.8232       1.0217                         0.42  \n",
       "232      752612            26.5976       1.0280                         0.25  \n",
       "233      390757            41.7665       1.0204                         0.20  \n",
       "\n",
       "[234 rows x 17 columns]"
      ]
     },
     "execution_count": 15,
     "metadata": {},
     "output_type": "execute_result"
    }
   ],
   "source": [
    "wd = pd.read_csv('word_population_data.csv')\n",
    "wd"
   ]
  },
  {
   "cell_type": "code",
   "execution_count": 16,
   "metadata": {},
   "outputs": [
    {
     "data": {
      "text/plain": [
       "Index(['Rank', 'CCA3', 'Country/Territory', 'Capital', 'Continent',\n",
       "       '2022 Population', '2020 Population', '2015 Population',\n",
       "       '2010 Population', '2000 Population', '1990 Population',\n",
       "       '1980 Population', '1970 Population', 'Area (km²)', 'Density (per km²)',\n",
       "       'Growth Rate', 'World Population Percentage'],\n",
       "      dtype='object')"
      ]
     },
     "execution_count": 16,
     "metadata": {},
     "output_type": "execute_result"
    }
   ],
   "source": [
    "wd.keys()"
   ]
  },
  {
   "cell_type": "code",
   "execution_count": 20,
   "metadata": {},
   "outputs": [
    {
     "data": {
      "text/plain": [
       "Index(['Rank', 'CCA3', 'Country/Territory', 'Capital', 'Continent',\n",
       "       '2022 Population', '2020 Population', '2015 Population',\n",
       "       '2010 Population', '2000 Population', '1990 Population',\n",
       "       '1980 Population', '1970 Population', 'Area (km²)', 'Density (per km²)',\n",
       "       'Growth Rate', 'World Population Percentage'],\n",
       "      dtype='object')"
      ]
     },
     "execution_count": 20,
     "metadata": {},
     "output_type": "execute_result"
    }
   ],
   "source": [
    "wd.columns\n"
   ]
  },
  {
   "cell_type": "code",
   "execution_count": 22,
   "metadata": {},
   "outputs": [
    {
     "data": {
      "text/plain": [
       "<generator object DataFrame.items at 0x1489d0b80>"
      ]
     },
     "execution_count": 22,
     "metadata": {},
     "output_type": "execute_result"
    }
   ],
   "source": [
    "wd.items()"
   ]
  },
  {
   "cell_type": "code",
   "execution_count": 24,
   "metadata": {},
   "outputs": [
    {
     "data": {
      "application/vnd.microsoft.datawrangler.viewer.v0+json": {
       "columns": [
        {
         "name": "index",
         "rawType": "int64",
         "type": "integer"
        },
        {
         "name": "english",
         "rawType": "int64",
         "type": "integer"
        },
        {
         "name": "math",
         "rawType": "int64",
         "type": "integer"
        },
        {
         "name": "computer",
         "rawType": "int64",
         "type": "integer"
        }
       ],
       "ref": "23becb37-d7e0-44b0-8f22-a13d17c60e48",
       "rows": [
        [
         "0",
         "23",
         "45",
         "12"
        ],
        [
         "1",
         "78",
         "67",
         "67"
        ],
        [
         "2",
         "56",
         "89",
         "34"
        ],
        [
         "3",
         "89",
         "90",
         "56"
        ],
        [
         "4",
         "90",
         "100",
         "67"
        ]
       ],
       "shape": {
        "columns": 3,
        "rows": 5
       }
      },
      "text/html": [
       "<div>\n",
       "<style scoped>\n",
       "    .dataframe tbody tr th:only-of-type {\n",
       "        vertical-align: middle;\n",
       "    }\n",
       "\n",
       "    .dataframe tbody tr th {\n",
       "        vertical-align: top;\n",
       "    }\n",
       "\n",
       "    .dataframe thead th {\n",
       "        text-align: right;\n",
       "    }\n",
       "</style>\n",
       "<table border=\"1\" class=\"dataframe\">\n",
       "  <thead>\n",
       "    <tr style=\"text-align: right;\">\n",
       "      <th></th>\n",
       "      <th>english</th>\n",
       "      <th>math</th>\n",
       "      <th>computer</th>\n",
       "    </tr>\n",
       "  </thead>\n",
       "  <tbody>\n",
       "    <tr>\n",
       "      <th>0</th>\n",
       "      <td>23</td>\n",
       "      <td>45</td>\n",
       "      <td>12</td>\n",
       "    </tr>\n",
       "    <tr>\n",
       "      <th>1</th>\n",
       "      <td>78</td>\n",
       "      <td>67</td>\n",
       "      <td>67</td>\n",
       "    </tr>\n",
       "    <tr>\n",
       "      <th>2</th>\n",
       "      <td>56</td>\n",
       "      <td>89</td>\n",
       "      <td>34</td>\n",
       "    </tr>\n",
       "    <tr>\n",
       "      <th>3</th>\n",
       "      <td>89</td>\n",
       "      <td>90</td>\n",
       "      <td>56</td>\n",
       "    </tr>\n",
       "    <tr>\n",
       "      <th>4</th>\n",
       "      <td>90</td>\n",
       "      <td>100</td>\n",
       "      <td>67</td>\n",
       "    </tr>\n",
       "  </tbody>\n",
       "</table>\n",
       "</div>"
      ],
      "text/plain": [
       "   english  math  computer\n",
       "0       23    45        12\n",
       "1       78    67        67\n",
       "2       56    89        34\n",
       "3       89    90        56\n",
       "4       90   100        67"
      ]
     },
     "execution_count": 24,
     "metadata": {},
     "output_type": "execute_result"
    }
   ],
   "source": [
    "data"
   ]
  },
  {
   "cell_type": "code",
   "execution_count": 31,
   "metadata": {},
   "outputs": [
    {
     "name": "stdout",
     "output_type": "stream",
     "text": [
      "english\n",
      "math\n",
      "computer\n"
     ]
    }
   ],
   "source": [
    "for x in data.items():\n",
    "    print(x[0])"
   ]
  },
  {
   "cell_type": "code",
   "execution_count": 33,
   "metadata": {},
   "outputs": [
    {
     "data": {
      "text/plain": [
       "3"
      ]
     },
     "execution_count": 33,
     "metadata": {},
     "output_type": "execute_result"
    }
   ],
   "source": [
    "len(subject)"
   ]
  },
  {
   "cell_type": "code",
   "execution_count": 34,
   "metadata": {},
   "outputs": [],
   "source": [
    "person = {\"name\": \"Jessa\", 'country': \"USA\", \"telephone\": 1178}"
   ]
  },
  {
   "cell_type": "code",
   "execution_count": 35,
   "metadata": {},
   "outputs": [],
   "source": [
    "person['Teslim'] = 8"
   ]
  },
  {
   "cell_type": "code",
   "execution_count": 36,
   "metadata": {},
   "outputs": [
    {
     "name": "stdout",
     "output_type": "stream",
     "text": [
      "{'name': 'Jessa', 'country': 'USA', 'telephone': 1178, 'Teslim': 8}\n"
     ]
    }
   ],
   "source": [
    "print(person)"
   ]
  },
  {
   "cell_type": "code",
   "execution_count": 37,
   "metadata": {},
   "outputs": [],
   "source": [
    "person.update({'Uthman': 'Great'})"
   ]
  },
  {
   "cell_type": "code",
   "execution_count": 38,
   "metadata": {},
   "outputs": [
    {
     "name": "stdout",
     "output_type": "stream",
     "text": [
      "{'name': 'Jessa', 'country': 'USA', 'telephone': 1178, 'Teslim': 8, 'Uthman': 'Great'}\n"
     ]
    }
   ],
   "source": [
    "print(person)"
   ]
  },
  {
   "cell_type": "code",
   "execution_count": 39,
   "metadata": {},
   "outputs": [
    {
     "data": {
      "application/vnd.microsoft.datawrangler.viewer.v0+json": {
       "columns": [
        {
         "name": "index",
         "rawType": "int64",
         "type": "integer"
        },
        {
         "name": "Rank",
         "rawType": "int64",
         "type": "integer"
        },
        {
         "name": "CCA3",
         "rawType": "object",
         "type": "string"
        },
        {
         "name": "Country/Territory",
         "rawType": "object",
         "type": "string"
        },
        {
         "name": "Capital",
         "rawType": "object",
         "type": "string"
        },
        {
         "name": "Continent",
         "rawType": "object",
         "type": "string"
        },
        {
         "name": "2022 Population",
         "rawType": "int64",
         "type": "integer"
        },
        {
         "name": "2020 Population",
         "rawType": "int64",
         "type": "integer"
        },
        {
         "name": "2015 Population",
         "rawType": "int64",
         "type": "integer"
        },
        {
         "name": "2010 Population",
         "rawType": "int64",
         "type": "integer"
        },
        {
         "name": "2000 Population",
         "rawType": "int64",
         "type": "integer"
        },
        {
         "name": "1990 Population",
         "rawType": "int64",
         "type": "integer"
        },
        {
         "name": "1980 Population",
         "rawType": "int64",
         "type": "integer"
        },
        {
         "name": "1970 Population",
         "rawType": "int64",
         "type": "integer"
        },
        {
         "name": "Area (km²)",
         "rawType": "int64",
         "type": "integer"
        },
        {
         "name": "Density (per km²)",
         "rawType": "float64",
         "type": "float"
        },
        {
         "name": "Growth Rate",
         "rawType": "float64",
         "type": "float"
        },
        {
         "name": "World Population Percentage",
         "rawType": "float64",
         "type": "float"
        }
       ],
       "ref": "0d3590b2-83f2-457c-bf60-7b0a90019f80",
       "rows": [
        [
         "0",
         "36",
         "AFG",
         "Afghanistan",
         "Kabul",
         "Asia",
         "41128771",
         "38972230",
         "33753499",
         "28189672",
         "19542982",
         "10694796",
         "12486631",
         "10752971",
         "652230",
         "63.0587",
         "1.0257",
         "0.52"
        ],
        [
         "1",
         "138",
         "ALB",
         "Albania",
         "Tirana",
         "Europe",
         "2842321",
         "2866849",
         "2882481",
         "2913399",
         "3182021",
         "3295066",
         "2941651",
         "2324731",
         "28748",
         "98.8702",
         "0.9957",
         "0.04"
        ],
        [
         "2",
         "34",
         "DZA",
         "Algeria",
         "Algiers",
         "Africa",
         "44903225",
         "43451666",
         "39543154",
         "35856344",
         "30774621",
         "25518074",
         "18739378",
         "13795915",
         "2381741",
         "18.8531",
         "1.0164",
         "0.56"
        ],
        [
         "3",
         "213",
         "ASM",
         "American Samoa",
         "Pago Pago",
         "Oceania",
         "44273",
         "46189",
         "51368",
         "54849",
         "58230",
         "47818",
         "32886",
         "27075",
         "199",
         "222.4774",
         "0.9831",
         "0.0"
        ],
        [
         "4",
         "203",
         "AND",
         "Andorra",
         "Andorra la Vella",
         "Europe",
         "79824",
         "77700",
         "71746",
         "71519",
         "66097",
         "53569",
         "35611",
         "19860",
         "468",
         "170.5641",
         "1.01",
         "0.0"
        ],
        [
         "5",
         "42",
         "AGO",
         "Angola",
         "Luanda",
         "Africa",
         "35588987",
         "33428485",
         "28127721",
         "23364185",
         "16394062",
         "11828638",
         "8330047",
         "6029700",
         "1246700",
         "28.5466",
         "1.0315",
         "0.45"
        ],
        [
         "6",
         "224",
         "AIA",
         "Anguilla",
         "The Valley",
         "North America",
         "15857",
         "15585",
         "14525",
         "13172",
         "11047",
         "8316",
         "6560",
         "6283",
         "91",
         "174.2527",
         "1.0066",
         "0.0"
        ],
        [
         "7",
         "201",
         "ATG",
         "Antigua and Barbuda",
         "Saint John’s",
         "North America",
         "93763",
         "92664",
         "89941",
         "85695",
         "75055",
         "63328",
         "64888",
         "64516",
         "442",
         "212.1335",
         "1.0058",
         "0.0"
        ],
        [
         "8",
         "33",
         "ARG",
         "Argentina",
         "Buenos Aires",
         "South America",
         "45510318",
         "45036032",
         "43257065",
         "41100123",
         "37070774",
         "32637657",
         "28024803",
         "23842803",
         "2780400",
         "16.3683",
         "1.0052",
         "0.57"
        ],
        [
         "9",
         "140",
         "ARM",
         "Armenia",
         "Yerevan",
         "Asia",
         "2780469",
         "2805608",
         "2878595",
         "2946293",
         "3168523",
         "3556539",
         "3135123",
         "2534377",
         "29743",
         "93.4831",
         "0.9962",
         "0.03"
        ],
        [
         "10",
         "198",
         "ABW",
         "Aruba",
         "Oranjestad",
         "North America",
         "106445",
         "106585",
         "104257",
         "100341",
         "89101",
         "65712",
         "62267",
         "59106",
         "180",
         "591.3611",
         "0.9991",
         "0.0"
        ],
        [
         "11",
         "55",
         "AUS",
         "Australia",
         "Canberra",
         "Oceania",
         "26177413",
         "25670051",
         "23820236",
         "22019168",
         "19017963",
         "17048003",
         "14706322",
         "12595034",
         "7692024",
         "3.4032",
         "1.0099",
         "0.33"
        ],
        [
         "12",
         "99",
         "AUT",
         "Austria",
         "Vienna",
         "Europe",
         "8939617",
         "8907777",
         "8642421",
         "8362829",
         "8010428",
         "7678729",
         "7547561",
         "7465301",
         "83871",
         "106.5877",
         "1.002",
         "0.11"
        ],
        [
         "13",
         "91",
         "AZE",
         "Azerbaijan",
         "Baku",
         "Asia",
         "10358074",
         "10284951",
         "9863480",
         "9237202",
         "8190337",
         "7427836",
         "6383060",
         "5425317",
         "86600",
         "119.6082",
         "1.0044",
         "0.13"
        ],
        [
         "14",
         "176",
         "BHS",
         "Bahamas",
         "Nassau",
         "North America",
         "409984",
         "406471",
         "392697",
         "373272",
         "325014",
         "270679",
         "223752",
         "179129",
         "13943",
         "29.4043",
         "1.0051",
         "0.01"
        ],
        [
         "15",
         "154",
         "BHR",
         "Bahrain",
         "Manama",
         "Asia",
         "1472233",
         "1477469",
         "1362142",
         "1213645",
         "711442",
         "517418",
         "362595",
         "222555",
         "765",
         "1924.4876",
         "1.0061",
         "0.02"
        ],
        [
         "16",
         "8",
         "BGD",
         "Bangladesh",
         "Dhaka",
         "Asia",
         "171186372",
         "167420951",
         "157830000",
         "148391139",
         "129193327",
         "107147651",
         "83929765",
         "67541860",
         "147570",
         "1160.035",
         "1.0108",
         "2.15"
        ],
        [
         "17",
         "186",
         "BRB",
         "Barbados",
         "Bridgetown",
         "North America",
         "281635",
         "280693",
         "278083",
         "274711",
         "264657",
         "258868",
         "253575",
         "241397",
         "430",
         "654.9651",
         "1.0015",
         "0.0"
        ],
        [
         "18",
         "96",
         "BLR",
         "Belarus",
         "Minsk",
         "Europe",
         "9534954",
         "9633740",
         "9700609",
         "9731427",
         "10256483",
         "10428525",
         "9817257",
         "9170786",
         "207600",
         "45.9295",
         "0.9955",
         "0.12"
        ],
        [
         "19",
         "81",
         "BEL",
         "Belgium",
         "Brussels",
         "Europe",
         "11655930",
         "11561717",
         "11248303",
         "10877947",
         "10264343",
         "9959560",
         "9828986",
         "9629376",
         "30528",
         "381.8111",
         "2.2",
         "0.15"
        ],
        [
         "20",
         "177",
         "BLZ",
         "Belize",
         "Belmopan",
         "North America",
         "405272",
         "394921",
         "359871",
         "322106",
         "240406",
         "182589",
         "145133",
         "120905",
         "22966",
         "17.6466",
         "1.0131",
         "0.01"
        ],
        [
         "21",
         "77",
         "BEN",
         "Benin",
         "Porto-Novo",
         "Africa",
         "13352864",
         "12643123",
         "10932783",
         "9445710",
         "6998023",
         "5133419",
         "3833939",
         "3023443",
         "112622",
         "118.5635",
         "1.0274",
         "0.17"
        ],
        [
         "22",
         "206",
         "BMU",
         "Bermuda",
         "Hamilton",
         "North America",
         "64184",
         "64031",
         "63144",
         "63447",
         "61371",
         "57470",
         "53565",
         "52019",
         "54",
         "1188.5926",
         "1.0",
         "0.0"
        ],
        [
         "23",
         "165",
         "BTN",
         "Bhutan",
         "Thimphu",
         "Asia",
         "782455",
         "772506",
         "743274",
         "705516",
         "587207",
         "558442",
         "415257",
         "298894",
         "38394",
         "20.3796",
         "1.0064",
         "0.01"
        ],
        [
         "24",
         "80",
         "BOL",
         "Bolivia",
         "Sucre",
         "South America",
         "12224110",
         "11936162",
         "11090085",
         "10223270",
         "8592656",
         "7096194",
         "5736088",
         "4585693",
         "1098581",
         "11.1272",
         "1.012",
         "0.15"
        ],
        [
         "25",
         "137",
         "BIH",
         "Bosnia and Herzegovina",
         "Sarajevo",
         "Europe",
         "3233526",
         "3318407",
         "3524324",
         "3811088",
         "4179350",
         "4494310",
         "4199820",
         "3815561",
         "51209",
         "63.1437",
         "0.9886",
         "0.04"
        ],
        [
         "26",
         "144",
         "BWA",
         "Botswana",
         "Gaborone",
         "Africa",
         "2630296",
         "2546402",
         "2305171",
         "2091664",
         "1726985",
         "1341474",
         "938578",
         "592244",
         "582000",
         "4.5194",
         "1.0162",
         "0.03"
        ],
        [
         "27",
         "7",
         "BRA",
         "Brazil",
         "Brasilia",
         "South America",
         "215313498",
         "213196304",
         "205188205",
         "196353492",
         "175873720",
         "150706446",
         "122288383",
         "96369875",
         "8515767",
         "25.2841",
         "1.0046",
         "2.7"
        ],
        [
         "28",
         "221",
         "VGB",
         "British Virgin Islands",
         "Road Town",
         "North America",
         "31305",
         "30910",
         "29366",
         "27556",
         "20104",
         "15617",
         "11109",
         "9581",
         "151",
         "207.3179",
         "1.0059",
         "0.0"
        ],
        [
         "29",
         "175",
         "BRN",
         "Brunei",
         "Bandar Seri Begawan",
         "Asia",
         "449002",
         "441725",
         "421437",
         "396053",
         "333926",
         "261928",
         "187921",
         "133343",
         "5765",
         "77.8841",
         "1.0081",
         "0.01"
        ],
        [
         "30",
         "108",
         "BGR",
         "Bulgaria",
         "Sofia",
         "Europe",
         "6781953",
         "6979175",
         "7309253",
         "7592273",
         "8097691",
         "8767778",
         "8980606",
         "8582950",
         "110879",
         "61.1654",
         "0.9849",
         "0.09"
        ],
        [
         "31",
         "58",
         "BFA",
         "Burkina Faso",
         "Ouagadougou",
         "Africa",
         "22673762",
         "21522626",
         "18718019",
         "16116845",
         "11882888",
         "9131361",
         "6932967",
         "5611666",
         "272967",
         "83.0641",
         "1.0259",
         "0.28"
        ],
        [
         "32",
         "78",
         "BDI",
         "Burundi",
         "Bujumbura",
         "Africa",
         "12889576",
         "12220227",
         "10727148",
         "9126605",
         "6307659",
         "5483793",
         "4312834",
         "3497834",
         "27834",
         "463.0874",
         "1.027",
         "0.16"
        ],
        [
         "33",
         "73",
         "KHM",
         "Cambodia",
         "Phnom Penh",
         "Asia",
         "16767842",
         "16396860",
         "15417523",
         "14363532",
         "12118841",
         "8910808",
         "6198959",
         "6708525",
         "181035",
         "92.6221",
         "1.0108",
         "0.21"
        ],
        [
         "34",
         "53",
         "CMR",
         "Cameroon",
         "Yaounde",
         "Africa",
         "27914536",
         "26491087",
         "23012646",
         "19878036",
         "15091594",
         "11430520",
         "8519891",
         "6452787",
         "475442",
         "58.7128",
         "1.0263",
         "0.35"
        ],
        [
         "35",
         "39",
         "CAN",
         "Canada",
         "Ottawa",
         "North America",
         "38454327",
         "37888705",
         "35732126",
         "33963412",
         "30683313",
         "27657204",
         "24511510",
         "21434577",
         "9984670",
         "3.8513",
         "1.0078",
         "0.48"
        ],
        [
         "36",
         "171",
         "CPV",
         "Cape Verde",
         "Praia",
         "Africa",
         "593149",
         "582640",
         "552166",
         "521212",
         "458251",
         "364563",
         "317234",
         "287262",
         "4033",
         "147.0739",
         "1.0089",
         "0.01"
        ],
        [
         "37",
         "205",
         "CYM",
         "Cayman Islands",
         "George Town",
         "North America",
         "68706",
         "67311",
         "60911",
         "54074",
         "39658",
         "26027",
         "17100",
         "10533",
         "264",
         "260.25",
         "1.0084",
         "0.0"
        ],
        [
         "38",
         "117",
         "CAF",
         "Central African Republic",
         "Bangui",
         "Africa",
         "5579144",
         "5343020",
         "4819333",
         "4660067",
         "3759170",
         "2809221",
         "2415276",
         "2067356",
         "622984",
         "8.9555",
         "1.0224",
         "0.07"
        ],
        [
         "39",
         "69",
         "TCD",
         "Chad",
         "N'Djamena",
         "Africa",
         "17723315",
         "16644701",
         "14140274",
         "11894727",
         "8259137",
         "5827069",
         "4408230",
         "3667394",
         "1284000",
         "13.8032",
         "1.0316",
         "0.22"
        ],
        [
         "40",
         "65",
         "CHL",
         "Chile",
         "Santiago",
         "South America",
         "19603733",
         "19300315",
         "17870124",
         "17004162",
         "15351799",
         "13342868",
         "11469828",
         "9820481",
         "756102",
         "25.9274",
         "1.0057",
         "0.25"
        ],
        [
         "41",
         "1",
         "CHN",
         "China",
         "Beijing",
         "Asia",
         "1425887337",
         "1424929781",
         "1393715448",
         "1348191368",
         "1264099069",
         "1153704252",
         "982372466",
         "822534450",
         "9706961",
         "146.8933",
         "1.0",
         "17.88"
        ],
        [
         "42",
         "28",
         "COL",
         "Colombia",
         "Bogota",
         "South America",
         "51874024",
         "50930662",
         "47119728",
         "44816108",
         "39215135",
         "32601393",
         "26176195",
         "20905254",
         "1141748",
         "45.4339",
         "1.0069",
         "0.65"
        ],
        [
         "43",
         "163",
         "COM",
         "Comoros",
         "Moroni",
         "Africa",
         "836774",
         "806166",
         "730216",
         "656024",
         "536758",
         "431119",
         "328328",
         "242351",
         "1862",
         "449.3953",
         "1.0184",
         "0.01"
        ],
        [
         "44",
         "223",
         "COK",
         "Cook Islands",
         "Avarua",
         "Oceania",
         "17011",
         "17029",
         "17695",
         "17212",
         "15897",
         "17123",
         "17651",
         "20470",
         "236",
         "72.0805",
         "1.0005",
         "0.0"
        ],
        [
         "45",
         "124",
         "CRI",
         "Costa Rica",
         "San José",
         "North America",
         "5180829",
         "5123105",
         "4895242",
         "4622252",
         "3979193",
         "3158253",
         "2414303",
         "1855697",
         "51100",
         "101.3861",
         "1.0052",
         "0.06"
        ],
        [
         "46",
         "130",
         "HRV",
         "Croatia",
         "Zagreb",
         "Europe",
         "4030358",
         "4096868",
         "4254815",
         "4368682",
         "4548434",
         "4873707",
         "4680144",
         "4492638",
         "56594",
         "71.2153",
         "0.9927",
         "0.05"
        ],
        [
         "47",
         "85",
         "CUB",
         "Cuba",
         "Havana",
         "North America",
         "11212191",
         "11300698",
         "11339894",
         "11290417",
         "11105791",
         "10626680",
         "9809107",
         "8869636",
         "109884",
         "102.0366",
         "0.9961",
         "0.14"
        ],
        [
         "48",
         "189",
         "CUW",
         "Curacao",
         "Willemstad",
         "North America",
         "191163",
         "189288",
         "169572",
         "159380",
         "141424",
         "155446",
         "156851",
         "150385",
         "444",
         "430.5473",
         "1.0043",
         "0.0"
        ],
        [
         "49",
         "158",
         "CYP",
         "Cyprus",
         "Nicosia",
         "Europe",
         "1251488",
         "1237537",
         "1187280",
         "1129686",
         "948237",
         "788500",
         "679327",
         "640804",
         "9251",
         "135.2814",
         "1.0059",
         "0.02"
        ]
       ],
       "shape": {
        "columns": 17,
        "rows": 234
       }
      },
      "text/html": [
       "<div>\n",
       "<style scoped>\n",
       "    .dataframe tbody tr th:only-of-type {\n",
       "        vertical-align: middle;\n",
       "    }\n",
       "\n",
       "    .dataframe tbody tr th {\n",
       "        vertical-align: top;\n",
       "    }\n",
       "\n",
       "    .dataframe thead th {\n",
       "        text-align: right;\n",
       "    }\n",
       "</style>\n",
       "<table border=\"1\" class=\"dataframe\">\n",
       "  <thead>\n",
       "    <tr style=\"text-align: right;\">\n",
       "      <th></th>\n",
       "      <th>Rank</th>\n",
       "      <th>CCA3</th>\n",
       "      <th>Country/Territory</th>\n",
       "      <th>Capital</th>\n",
       "      <th>Continent</th>\n",
       "      <th>2022 Population</th>\n",
       "      <th>2020 Population</th>\n",
       "      <th>2015 Population</th>\n",
       "      <th>2010 Population</th>\n",
       "      <th>2000 Population</th>\n",
       "      <th>1990 Population</th>\n",
       "      <th>1980 Population</th>\n",
       "      <th>1970 Population</th>\n",
       "      <th>Area (km²)</th>\n",
       "      <th>Density (per km²)</th>\n",
       "      <th>Growth Rate</th>\n",
       "      <th>World Population Percentage</th>\n",
       "    </tr>\n",
       "  </thead>\n",
       "  <tbody>\n",
       "    <tr>\n",
       "      <th>0</th>\n",
       "      <td>36</td>\n",
       "      <td>AFG</td>\n",
       "      <td>Afghanistan</td>\n",
       "      <td>Kabul</td>\n",
       "      <td>Asia</td>\n",
       "      <td>41128771</td>\n",
       "      <td>38972230</td>\n",
       "      <td>33753499</td>\n",
       "      <td>28189672</td>\n",
       "      <td>19542982</td>\n",
       "      <td>10694796</td>\n",
       "      <td>12486631</td>\n",
       "      <td>10752971</td>\n",
       "      <td>652230</td>\n",
       "      <td>63.0587</td>\n",
       "      <td>1.0257</td>\n",
       "      <td>0.52</td>\n",
       "    </tr>\n",
       "    <tr>\n",
       "      <th>1</th>\n",
       "      <td>138</td>\n",
       "      <td>ALB</td>\n",
       "      <td>Albania</td>\n",
       "      <td>Tirana</td>\n",
       "      <td>Europe</td>\n",
       "      <td>2842321</td>\n",
       "      <td>2866849</td>\n",
       "      <td>2882481</td>\n",
       "      <td>2913399</td>\n",
       "      <td>3182021</td>\n",
       "      <td>3295066</td>\n",
       "      <td>2941651</td>\n",
       "      <td>2324731</td>\n",
       "      <td>28748</td>\n",
       "      <td>98.8702</td>\n",
       "      <td>0.9957</td>\n",
       "      <td>0.04</td>\n",
       "    </tr>\n",
       "    <tr>\n",
       "      <th>2</th>\n",
       "      <td>34</td>\n",
       "      <td>DZA</td>\n",
       "      <td>Algeria</td>\n",
       "      <td>Algiers</td>\n",
       "      <td>Africa</td>\n",
       "      <td>44903225</td>\n",
       "      <td>43451666</td>\n",
       "      <td>39543154</td>\n",
       "      <td>35856344</td>\n",
       "      <td>30774621</td>\n",
       "      <td>25518074</td>\n",
       "      <td>18739378</td>\n",
       "      <td>13795915</td>\n",
       "      <td>2381741</td>\n",
       "      <td>18.8531</td>\n",
       "      <td>1.0164</td>\n",
       "      <td>0.56</td>\n",
       "    </tr>\n",
       "    <tr>\n",
       "      <th>3</th>\n",
       "      <td>213</td>\n",
       "      <td>ASM</td>\n",
       "      <td>American Samoa</td>\n",
       "      <td>Pago Pago</td>\n",
       "      <td>Oceania</td>\n",
       "      <td>44273</td>\n",
       "      <td>46189</td>\n",
       "      <td>51368</td>\n",
       "      <td>54849</td>\n",
       "      <td>58230</td>\n",
       "      <td>47818</td>\n",
       "      <td>32886</td>\n",
       "      <td>27075</td>\n",
       "      <td>199</td>\n",
       "      <td>222.4774</td>\n",
       "      <td>0.9831</td>\n",
       "      <td>0.00</td>\n",
       "    </tr>\n",
       "    <tr>\n",
       "      <th>4</th>\n",
       "      <td>203</td>\n",
       "      <td>AND</td>\n",
       "      <td>Andorra</td>\n",
       "      <td>Andorra la Vella</td>\n",
       "      <td>Europe</td>\n",
       "      <td>79824</td>\n",
       "      <td>77700</td>\n",
       "      <td>71746</td>\n",
       "      <td>71519</td>\n",
       "      <td>66097</td>\n",
       "      <td>53569</td>\n",
       "      <td>35611</td>\n",
       "      <td>19860</td>\n",
       "      <td>468</td>\n",
       "      <td>170.5641</td>\n",
       "      <td>1.0100</td>\n",
       "      <td>0.00</td>\n",
       "    </tr>\n",
       "    <tr>\n",
       "      <th>...</th>\n",
       "      <td>...</td>\n",
       "      <td>...</td>\n",
       "      <td>...</td>\n",
       "      <td>...</td>\n",
       "      <td>...</td>\n",
       "      <td>...</td>\n",
       "      <td>...</td>\n",
       "      <td>...</td>\n",
       "      <td>...</td>\n",
       "      <td>...</td>\n",
       "      <td>...</td>\n",
       "      <td>...</td>\n",
       "      <td>...</td>\n",
       "      <td>...</td>\n",
       "      <td>...</td>\n",
       "      <td>...</td>\n",
       "      <td>...</td>\n",
       "    </tr>\n",
       "    <tr>\n",
       "      <th>229</th>\n",
       "      <td>226</td>\n",
       "      <td>WLF</td>\n",
       "      <td>Wallis and Futuna</td>\n",
       "      <td>Mata-Utu</td>\n",
       "      <td>Oceania</td>\n",
       "      <td>11572</td>\n",
       "      <td>11655</td>\n",
       "      <td>12182</td>\n",
       "      <td>13142</td>\n",
       "      <td>14723</td>\n",
       "      <td>13454</td>\n",
       "      <td>11315</td>\n",
       "      <td>9377</td>\n",
       "      <td>142</td>\n",
       "      <td>81.4930</td>\n",
       "      <td>0.9953</td>\n",
       "      <td>0.00</td>\n",
       "    </tr>\n",
       "    <tr>\n",
       "      <th>230</th>\n",
       "      <td>172</td>\n",
       "      <td>ESH</td>\n",
       "      <td>Western Sahara</td>\n",
       "      <td>El Aaiún</td>\n",
       "      <td>Africa</td>\n",
       "      <td>575986</td>\n",
       "      <td>556048</td>\n",
       "      <td>491824</td>\n",
       "      <td>413296</td>\n",
       "      <td>270375</td>\n",
       "      <td>178529</td>\n",
       "      <td>116775</td>\n",
       "      <td>76371</td>\n",
       "      <td>266000</td>\n",
       "      <td>2.1654</td>\n",
       "      <td>1.0184</td>\n",
       "      <td>0.01</td>\n",
       "    </tr>\n",
       "    <tr>\n",
       "      <th>231</th>\n",
       "      <td>46</td>\n",
       "      <td>YEM</td>\n",
       "      <td>Yemen</td>\n",
       "      <td>Sanaa</td>\n",
       "      <td>Asia</td>\n",
       "      <td>33696614</td>\n",
       "      <td>32284046</td>\n",
       "      <td>28516545</td>\n",
       "      <td>24743946</td>\n",
       "      <td>18628700</td>\n",
       "      <td>13375121</td>\n",
       "      <td>9204938</td>\n",
       "      <td>6843607</td>\n",
       "      <td>527968</td>\n",
       "      <td>63.8232</td>\n",
       "      <td>1.0217</td>\n",
       "      <td>0.42</td>\n",
       "    </tr>\n",
       "    <tr>\n",
       "      <th>232</th>\n",
       "      <td>63</td>\n",
       "      <td>ZMB</td>\n",
       "      <td>Zambia</td>\n",
       "      <td>Lusaka</td>\n",
       "      <td>Africa</td>\n",
       "      <td>20017675</td>\n",
       "      <td>18927715</td>\n",
       "      <td>16248230</td>\n",
       "      <td>13792086</td>\n",
       "      <td>9891136</td>\n",
       "      <td>7686401</td>\n",
       "      <td>5720438</td>\n",
       "      <td>4281671</td>\n",
       "      <td>752612</td>\n",
       "      <td>26.5976</td>\n",
       "      <td>1.0280</td>\n",
       "      <td>0.25</td>\n",
       "    </tr>\n",
       "    <tr>\n",
       "      <th>233</th>\n",
       "      <td>74</td>\n",
       "      <td>ZWE</td>\n",
       "      <td>Zimbabwe</td>\n",
       "      <td>Harare</td>\n",
       "      <td>Africa</td>\n",
       "      <td>16320537</td>\n",
       "      <td>15669666</td>\n",
       "      <td>14154937</td>\n",
       "      <td>12839771</td>\n",
       "      <td>11834676</td>\n",
       "      <td>10113893</td>\n",
       "      <td>7049926</td>\n",
       "      <td>5202918</td>\n",
       "      <td>390757</td>\n",
       "      <td>41.7665</td>\n",
       "      <td>1.0204</td>\n",
       "      <td>0.20</td>\n",
       "    </tr>\n",
       "  </tbody>\n",
       "</table>\n",
       "<p>234 rows × 17 columns</p>\n",
       "</div>"
      ],
      "text/plain": [
       "     Rank CCA3  Country/Territory           Capital Continent  \\\n",
       "0      36  AFG        Afghanistan             Kabul      Asia   \n",
       "1     138  ALB            Albania            Tirana    Europe   \n",
       "2      34  DZA            Algeria           Algiers    Africa   \n",
       "3     213  ASM     American Samoa         Pago Pago   Oceania   \n",
       "4     203  AND            Andorra  Andorra la Vella    Europe   \n",
       "..    ...  ...                ...               ...       ...   \n",
       "229   226  WLF  Wallis and Futuna          Mata-Utu   Oceania   \n",
       "230   172  ESH     Western Sahara          El Aaiún    Africa   \n",
       "231    46  YEM              Yemen             Sanaa      Asia   \n",
       "232    63  ZMB             Zambia            Lusaka    Africa   \n",
       "233    74  ZWE           Zimbabwe            Harare    Africa   \n",
       "\n",
       "     2022 Population  2020 Population  2015 Population  2010 Population  \\\n",
       "0           41128771         38972230         33753499         28189672   \n",
       "1            2842321          2866849          2882481          2913399   \n",
       "2           44903225         43451666         39543154         35856344   \n",
       "3              44273            46189            51368            54849   \n",
       "4              79824            77700            71746            71519   \n",
       "..               ...              ...              ...              ...   \n",
       "229            11572            11655            12182            13142   \n",
       "230           575986           556048           491824           413296   \n",
       "231         33696614         32284046         28516545         24743946   \n",
       "232         20017675         18927715         16248230         13792086   \n",
       "233         16320537         15669666         14154937         12839771   \n",
       "\n",
       "     2000 Population  1990 Population  1980 Population  1970 Population  \\\n",
       "0           19542982         10694796         12486631         10752971   \n",
       "1            3182021          3295066          2941651          2324731   \n",
       "2           30774621         25518074         18739378         13795915   \n",
       "3              58230            47818            32886            27075   \n",
       "4              66097            53569            35611            19860   \n",
       "..               ...              ...              ...              ...   \n",
       "229            14723            13454            11315             9377   \n",
       "230           270375           178529           116775            76371   \n",
       "231         18628700         13375121          9204938          6843607   \n",
       "232          9891136          7686401          5720438          4281671   \n",
       "233         11834676         10113893          7049926          5202918   \n",
       "\n",
       "     Area (km²)  Density (per km²)  Growth Rate  World Population Percentage  \n",
       "0        652230            63.0587       1.0257                         0.52  \n",
       "1         28748            98.8702       0.9957                         0.04  \n",
       "2       2381741            18.8531       1.0164                         0.56  \n",
       "3           199           222.4774       0.9831                         0.00  \n",
       "4           468           170.5641       1.0100                         0.00  \n",
       "..          ...                ...          ...                          ...  \n",
       "229         142            81.4930       0.9953                         0.00  \n",
       "230      266000             2.1654       1.0184                         0.01  \n",
       "231      527968            63.8232       1.0217                         0.42  \n",
       "232      752612            26.5976       1.0280                         0.25  \n",
       "233      390757            41.7665       1.0204                         0.20  \n",
       "\n",
       "[234 rows x 17 columns]"
      ]
     },
     "execution_count": 39,
     "metadata": {},
     "output_type": "execute_result"
    }
   ],
   "source": [
    "wd"
   ]
  },
  {
   "cell_type": "code",
   "execution_count": 40,
   "metadata": {},
   "outputs": [],
   "source": [
    "wd['corruption'] = 50"
   ]
  },
  {
   "cell_type": "code",
   "execution_count": 41,
   "metadata": {},
   "outputs": [
    {
     "data": {
      "application/vnd.microsoft.datawrangler.viewer.v0+json": {
       "columns": [
        {
         "name": "index",
         "rawType": "int64",
         "type": "integer"
        },
        {
         "name": "Rank",
         "rawType": "int64",
         "type": "integer"
        },
        {
         "name": "CCA3",
         "rawType": "object",
         "type": "string"
        },
        {
         "name": "Country/Territory",
         "rawType": "object",
         "type": "string"
        },
        {
         "name": "Capital",
         "rawType": "object",
         "type": "string"
        },
        {
         "name": "Continent",
         "rawType": "object",
         "type": "string"
        },
        {
         "name": "2022 Population",
         "rawType": "int64",
         "type": "integer"
        },
        {
         "name": "2020 Population",
         "rawType": "int64",
         "type": "integer"
        },
        {
         "name": "2015 Population",
         "rawType": "int64",
         "type": "integer"
        },
        {
         "name": "2010 Population",
         "rawType": "int64",
         "type": "integer"
        },
        {
         "name": "2000 Population",
         "rawType": "int64",
         "type": "integer"
        },
        {
         "name": "1990 Population",
         "rawType": "int64",
         "type": "integer"
        },
        {
         "name": "1980 Population",
         "rawType": "int64",
         "type": "integer"
        },
        {
         "name": "1970 Population",
         "rawType": "int64",
         "type": "integer"
        },
        {
         "name": "Area (km²)",
         "rawType": "int64",
         "type": "integer"
        },
        {
         "name": "Density (per km²)",
         "rawType": "float64",
         "type": "float"
        },
        {
         "name": "Growth Rate",
         "rawType": "float64",
         "type": "float"
        },
        {
         "name": "World Population Percentage",
         "rawType": "float64",
         "type": "float"
        },
        {
         "name": "corruption",
         "rawType": "int64",
         "type": "integer"
        }
       ],
       "ref": "801a32c2-9c8c-4546-981f-22a807e31bd5",
       "rows": [
        [
         "0",
         "36",
         "AFG",
         "Afghanistan",
         "Kabul",
         "Asia",
         "41128771",
         "38972230",
         "33753499",
         "28189672",
         "19542982",
         "10694796",
         "12486631",
         "10752971",
         "652230",
         "63.0587",
         "1.0257",
         "0.52",
         "50"
        ],
        [
         "1",
         "138",
         "ALB",
         "Albania",
         "Tirana",
         "Europe",
         "2842321",
         "2866849",
         "2882481",
         "2913399",
         "3182021",
         "3295066",
         "2941651",
         "2324731",
         "28748",
         "98.8702",
         "0.9957",
         "0.04",
         "50"
        ],
        [
         "2",
         "34",
         "DZA",
         "Algeria",
         "Algiers",
         "Africa",
         "44903225",
         "43451666",
         "39543154",
         "35856344",
         "30774621",
         "25518074",
         "18739378",
         "13795915",
         "2381741",
         "18.8531",
         "1.0164",
         "0.56",
         "50"
        ],
        [
         "3",
         "213",
         "ASM",
         "American Samoa",
         "Pago Pago",
         "Oceania",
         "44273",
         "46189",
         "51368",
         "54849",
         "58230",
         "47818",
         "32886",
         "27075",
         "199",
         "222.4774",
         "0.9831",
         "0.0",
         "50"
        ],
        [
         "4",
         "203",
         "AND",
         "Andorra",
         "Andorra la Vella",
         "Europe",
         "79824",
         "77700",
         "71746",
         "71519",
         "66097",
         "53569",
         "35611",
         "19860",
         "468",
         "170.5641",
         "1.01",
         "0.0",
         "50"
        ],
        [
         "5",
         "42",
         "AGO",
         "Angola",
         "Luanda",
         "Africa",
         "35588987",
         "33428485",
         "28127721",
         "23364185",
         "16394062",
         "11828638",
         "8330047",
         "6029700",
         "1246700",
         "28.5466",
         "1.0315",
         "0.45",
         "50"
        ],
        [
         "6",
         "224",
         "AIA",
         "Anguilla",
         "The Valley",
         "North America",
         "15857",
         "15585",
         "14525",
         "13172",
         "11047",
         "8316",
         "6560",
         "6283",
         "91",
         "174.2527",
         "1.0066",
         "0.0",
         "50"
        ],
        [
         "7",
         "201",
         "ATG",
         "Antigua and Barbuda",
         "Saint John’s",
         "North America",
         "93763",
         "92664",
         "89941",
         "85695",
         "75055",
         "63328",
         "64888",
         "64516",
         "442",
         "212.1335",
         "1.0058",
         "0.0",
         "50"
        ],
        [
         "8",
         "33",
         "ARG",
         "Argentina",
         "Buenos Aires",
         "South America",
         "45510318",
         "45036032",
         "43257065",
         "41100123",
         "37070774",
         "32637657",
         "28024803",
         "23842803",
         "2780400",
         "16.3683",
         "1.0052",
         "0.57",
         "50"
        ],
        [
         "9",
         "140",
         "ARM",
         "Armenia",
         "Yerevan",
         "Asia",
         "2780469",
         "2805608",
         "2878595",
         "2946293",
         "3168523",
         "3556539",
         "3135123",
         "2534377",
         "29743",
         "93.4831",
         "0.9962",
         "0.03",
         "50"
        ],
        [
         "10",
         "198",
         "ABW",
         "Aruba",
         "Oranjestad",
         "North America",
         "106445",
         "106585",
         "104257",
         "100341",
         "89101",
         "65712",
         "62267",
         "59106",
         "180",
         "591.3611",
         "0.9991",
         "0.0",
         "50"
        ],
        [
         "11",
         "55",
         "AUS",
         "Australia",
         "Canberra",
         "Oceania",
         "26177413",
         "25670051",
         "23820236",
         "22019168",
         "19017963",
         "17048003",
         "14706322",
         "12595034",
         "7692024",
         "3.4032",
         "1.0099",
         "0.33",
         "50"
        ],
        [
         "12",
         "99",
         "AUT",
         "Austria",
         "Vienna",
         "Europe",
         "8939617",
         "8907777",
         "8642421",
         "8362829",
         "8010428",
         "7678729",
         "7547561",
         "7465301",
         "83871",
         "106.5877",
         "1.002",
         "0.11",
         "50"
        ],
        [
         "13",
         "91",
         "AZE",
         "Azerbaijan",
         "Baku",
         "Asia",
         "10358074",
         "10284951",
         "9863480",
         "9237202",
         "8190337",
         "7427836",
         "6383060",
         "5425317",
         "86600",
         "119.6082",
         "1.0044",
         "0.13",
         "50"
        ],
        [
         "14",
         "176",
         "BHS",
         "Bahamas",
         "Nassau",
         "North America",
         "409984",
         "406471",
         "392697",
         "373272",
         "325014",
         "270679",
         "223752",
         "179129",
         "13943",
         "29.4043",
         "1.0051",
         "0.01",
         "50"
        ],
        [
         "15",
         "154",
         "BHR",
         "Bahrain",
         "Manama",
         "Asia",
         "1472233",
         "1477469",
         "1362142",
         "1213645",
         "711442",
         "517418",
         "362595",
         "222555",
         "765",
         "1924.4876",
         "1.0061",
         "0.02",
         "50"
        ],
        [
         "16",
         "8",
         "BGD",
         "Bangladesh",
         "Dhaka",
         "Asia",
         "171186372",
         "167420951",
         "157830000",
         "148391139",
         "129193327",
         "107147651",
         "83929765",
         "67541860",
         "147570",
         "1160.035",
         "1.0108",
         "2.15",
         "50"
        ],
        [
         "17",
         "186",
         "BRB",
         "Barbados",
         "Bridgetown",
         "North America",
         "281635",
         "280693",
         "278083",
         "274711",
         "264657",
         "258868",
         "253575",
         "241397",
         "430",
         "654.9651",
         "1.0015",
         "0.0",
         "50"
        ],
        [
         "18",
         "96",
         "BLR",
         "Belarus",
         "Minsk",
         "Europe",
         "9534954",
         "9633740",
         "9700609",
         "9731427",
         "10256483",
         "10428525",
         "9817257",
         "9170786",
         "207600",
         "45.9295",
         "0.9955",
         "0.12",
         "50"
        ],
        [
         "19",
         "81",
         "BEL",
         "Belgium",
         "Brussels",
         "Europe",
         "11655930",
         "11561717",
         "11248303",
         "10877947",
         "10264343",
         "9959560",
         "9828986",
         "9629376",
         "30528",
         "381.8111",
         "2.2",
         "0.15",
         "50"
        ],
        [
         "20",
         "177",
         "BLZ",
         "Belize",
         "Belmopan",
         "North America",
         "405272",
         "394921",
         "359871",
         "322106",
         "240406",
         "182589",
         "145133",
         "120905",
         "22966",
         "17.6466",
         "1.0131",
         "0.01",
         "50"
        ],
        [
         "21",
         "77",
         "BEN",
         "Benin",
         "Porto-Novo",
         "Africa",
         "13352864",
         "12643123",
         "10932783",
         "9445710",
         "6998023",
         "5133419",
         "3833939",
         "3023443",
         "112622",
         "118.5635",
         "1.0274",
         "0.17",
         "50"
        ],
        [
         "22",
         "206",
         "BMU",
         "Bermuda",
         "Hamilton",
         "North America",
         "64184",
         "64031",
         "63144",
         "63447",
         "61371",
         "57470",
         "53565",
         "52019",
         "54",
         "1188.5926",
         "1.0",
         "0.0",
         "50"
        ],
        [
         "23",
         "165",
         "BTN",
         "Bhutan",
         "Thimphu",
         "Asia",
         "782455",
         "772506",
         "743274",
         "705516",
         "587207",
         "558442",
         "415257",
         "298894",
         "38394",
         "20.3796",
         "1.0064",
         "0.01",
         "50"
        ],
        [
         "24",
         "80",
         "BOL",
         "Bolivia",
         "Sucre",
         "South America",
         "12224110",
         "11936162",
         "11090085",
         "10223270",
         "8592656",
         "7096194",
         "5736088",
         "4585693",
         "1098581",
         "11.1272",
         "1.012",
         "0.15",
         "50"
        ],
        [
         "25",
         "137",
         "BIH",
         "Bosnia and Herzegovina",
         "Sarajevo",
         "Europe",
         "3233526",
         "3318407",
         "3524324",
         "3811088",
         "4179350",
         "4494310",
         "4199820",
         "3815561",
         "51209",
         "63.1437",
         "0.9886",
         "0.04",
         "50"
        ],
        [
         "26",
         "144",
         "BWA",
         "Botswana",
         "Gaborone",
         "Africa",
         "2630296",
         "2546402",
         "2305171",
         "2091664",
         "1726985",
         "1341474",
         "938578",
         "592244",
         "582000",
         "4.5194",
         "1.0162",
         "0.03",
         "50"
        ],
        [
         "27",
         "7",
         "BRA",
         "Brazil",
         "Brasilia",
         "South America",
         "215313498",
         "213196304",
         "205188205",
         "196353492",
         "175873720",
         "150706446",
         "122288383",
         "96369875",
         "8515767",
         "25.2841",
         "1.0046",
         "2.7",
         "50"
        ],
        [
         "28",
         "221",
         "VGB",
         "British Virgin Islands",
         "Road Town",
         "North America",
         "31305",
         "30910",
         "29366",
         "27556",
         "20104",
         "15617",
         "11109",
         "9581",
         "151",
         "207.3179",
         "1.0059",
         "0.0",
         "50"
        ],
        [
         "29",
         "175",
         "BRN",
         "Brunei",
         "Bandar Seri Begawan",
         "Asia",
         "449002",
         "441725",
         "421437",
         "396053",
         "333926",
         "261928",
         "187921",
         "133343",
         "5765",
         "77.8841",
         "1.0081",
         "0.01",
         "50"
        ],
        [
         "30",
         "108",
         "BGR",
         "Bulgaria",
         "Sofia",
         "Europe",
         "6781953",
         "6979175",
         "7309253",
         "7592273",
         "8097691",
         "8767778",
         "8980606",
         "8582950",
         "110879",
         "61.1654",
         "0.9849",
         "0.09",
         "50"
        ],
        [
         "31",
         "58",
         "BFA",
         "Burkina Faso",
         "Ouagadougou",
         "Africa",
         "22673762",
         "21522626",
         "18718019",
         "16116845",
         "11882888",
         "9131361",
         "6932967",
         "5611666",
         "272967",
         "83.0641",
         "1.0259",
         "0.28",
         "50"
        ],
        [
         "32",
         "78",
         "BDI",
         "Burundi",
         "Bujumbura",
         "Africa",
         "12889576",
         "12220227",
         "10727148",
         "9126605",
         "6307659",
         "5483793",
         "4312834",
         "3497834",
         "27834",
         "463.0874",
         "1.027",
         "0.16",
         "50"
        ],
        [
         "33",
         "73",
         "KHM",
         "Cambodia",
         "Phnom Penh",
         "Asia",
         "16767842",
         "16396860",
         "15417523",
         "14363532",
         "12118841",
         "8910808",
         "6198959",
         "6708525",
         "181035",
         "92.6221",
         "1.0108",
         "0.21",
         "50"
        ],
        [
         "34",
         "53",
         "CMR",
         "Cameroon",
         "Yaounde",
         "Africa",
         "27914536",
         "26491087",
         "23012646",
         "19878036",
         "15091594",
         "11430520",
         "8519891",
         "6452787",
         "475442",
         "58.7128",
         "1.0263",
         "0.35",
         "50"
        ],
        [
         "35",
         "39",
         "CAN",
         "Canada",
         "Ottawa",
         "North America",
         "38454327",
         "37888705",
         "35732126",
         "33963412",
         "30683313",
         "27657204",
         "24511510",
         "21434577",
         "9984670",
         "3.8513",
         "1.0078",
         "0.48",
         "50"
        ],
        [
         "36",
         "171",
         "CPV",
         "Cape Verde",
         "Praia",
         "Africa",
         "593149",
         "582640",
         "552166",
         "521212",
         "458251",
         "364563",
         "317234",
         "287262",
         "4033",
         "147.0739",
         "1.0089",
         "0.01",
         "50"
        ],
        [
         "37",
         "205",
         "CYM",
         "Cayman Islands",
         "George Town",
         "North America",
         "68706",
         "67311",
         "60911",
         "54074",
         "39658",
         "26027",
         "17100",
         "10533",
         "264",
         "260.25",
         "1.0084",
         "0.0",
         "50"
        ],
        [
         "38",
         "117",
         "CAF",
         "Central African Republic",
         "Bangui",
         "Africa",
         "5579144",
         "5343020",
         "4819333",
         "4660067",
         "3759170",
         "2809221",
         "2415276",
         "2067356",
         "622984",
         "8.9555",
         "1.0224",
         "0.07",
         "50"
        ],
        [
         "39",
         "69",
         "TCD",
         "Chad",
         "N'Djamena",
         "Africa",
         "17723315",
         "16644701",
         "14140274",
         "11894727",
         "8259137",
         "5827069",
         "4408230",
         "3667394",
         "1284000",
         "13.8032",
         "1.0316",
         "0.22",
         "50"
        ],
        [
         "40",
         "65",
         "CHL",
         "Chile",
         "Santiago",
         "South America",
         "19603733",
         "19300315",
         "17870124",
         "17004162",
         "15351799",
         "13342868",
         "11469828",
         "9820481",
         "756102",
         "25.9274",
         "1.0057",
         "0.25",
         "50"
        ],
        [
         "41",
         "1",
         "CHN",
         "China",
         "Beijing",
         "Asia",
         "1425887337",
         "1424929781",
         "1393715448",
         "1348191368",
         "1264099069",
         "1153704252",
         "982372466",
         "822534450",
         "9706961",
         "146.8933",
         "1.0",
         "17.88",
         "50"
        ],
        [
         "42",
         "28",
         "COL",
         "Colombia",
         "Bogota",
         "South America",
         "51874024",
         "50930662",
         "47119728",
         "44816108",
         "39215135",
         "32601393",
         "26176195",
         "20905254",
         "1141748",
         "45.4339",
         "1.0069",
         "0.65",
         "50"
        ],
        [
         "43",
         "163",
         "COM",
         "Comoros",
         "Moroni",
         "Africa",
         "836774",
         "806166",
         "730216",
         "656024",
         "536758",
         "431119",
         "328328",
         "242351",
         "1862",
         "449.3953",
         "1.0184",
         "0.01",
         "50"
        ],
        [
         "44",
         "223",
         "COK",
         "Cook Islands",
         "Avarua",
         "Oceania",
         "17011",
         "17029",
         "17695",
         "17212",
         "15897",
         "17123",
         "17651",
         "20470",
         "236",
         "72.0805",
         "1.0005",
         "0.0",
         "50"
        ],
        [
         "45",
         "124",
         "CRI",
         "Costa Rica",
         "San José",
         "North America",
         "5180829",
         "5123105",
         "4895242",
         "4622252",
         "3979193",
         "3158253",
         "2414303",
         "1855697",
         "51100",
         "101.3861",
         "1.0052",
         "0.06",
         "50"
        ],
        [
         "46",
         "130",
         "HRV",
         "Croatia",
         "Zagreb",
         "Europe",
         "4030358",
         "4096868",
         "4254815",
         "4368682",
         "4548434",
         "4873707",
         "4680144",
         "4492638",
         "56594",
         "71.2153",
         "0.9927",
         "0.05",
         "50"
        ],
        [
         "47",
         "85",
         "CUB",
         "Cuba",
         "Havana",
         "North America",
         "11212191",
         "11300698",
         "11339894",
         "11290417",
         "11105791",
         "10626680",
         "9809107",
         "8869636",
         "109884",
         "102.0366",
         "0.9961",
         "0.14",
         "50"
        ],
        [
         "48",
         "189",
         "CUW",
         "Curacao",
         "Willemstad",
         "North America",
         "191163",
         "189288",
         "169572",
         "159380",
         "141424",
         "155446",
         "156851",
         "150385",
         "444",
         "430.5473",
         "1.0043",
         "0.0",
         "50"
        ],
        [
         "49",
         "158",
         "CYP",
         "Cyprus",
         "Nicosia",
         "Europe",
         "1251488",
         "1237537",
         "1187280",
         "1129686",
         "948237",
         "788500",
         "679327",
         "640804",
         "9251",
         "135.2814",
         "1.0059",
         "0.02",
         "50"
        ]
       ],
       "shape": {
        "columns": 18,
        "rows": 234
       }
      },
      "text/html": [
       "<div>\n",
       "<style scoped>\n",
       "    .dataframe tbody tr th:only-of-type {\n",
       "        vertical-align: middle;\n",
       "    }\n",
       "\n",
       "    .dataframe tbody tr th {\n",
       "        vertical-align: top;\n",
       "    }\n",
       "\n",
       "    .dataframe thead th {\n",
       "        text-align: right;\n",
       "    }\n",
       "</style>\n",
       "<table border=\"1\" class=\"dataframe\">\n",
       "  <thead>\n",
       "    <tr style=\"text-align: right;\">\n",
       "      <th></th>\n",
       "      <th>Rank</th>\n",
       "      <th>CCA3</th>\n",
       "      <th>Country/Territory</th>\n",
       "      <th>Capital</th>\n",
       "      <th>Continent</th>\n",
       "      <th>2022 Population</th>\n",
       "      <th>2020 Population</th>\n",
       "      <th>2015 Population</th>\n",
       "      <th>2010 Population</th>\n",
       "      <th>2000 Population</th>\n",
       "      <th>1990 Population</th>\n",
       "      <th>1980 Population</th>\n",
       "      <th>1970 Population</th>\n",
       "      <th>Area (km²)</th>\n",
       "      <th>Density (per km²)</th>\n",
       "      <th>Growth Rate</th>\n",
       "      <th>World Population Percentage</th>\n",
       "      <th>corruption</th>\n",
       "    </tr>\n",
       "  </thead>\n",
       "  <tbody>\n",
       "    <tr>\n",
       "      <th>0</th>\n",
       "      <td>36</td>\n",
       "      <td>AFG</td>\n",
       "      <td>Afghanistan</td>\n",
       "      <td>Kabul</td>\n",
       "      <td>Asia</td>\n",
       "      <td>41128771</td>\n",
       "      <td>38972230</td>\n",
       "      <td>33753499</td>\n",
       "      <td>28189672</td>\n",
       "      <td>19542982</td>\n",
       "      <td>10694796</td>\n",
       "      <td>12486631</td>\n",
       "      <td>10752971</td>\n",
       "      <td>652230</td>\n",
       "      <td>63.0587</td>\n",
       "      <td>1.0257</td>\n",
       "      <td>0.52</td>\n",
       "      <td>50</td>\n",
       "    </tr>\n",
       "    <tr>\n",
       "      <th>1</th>\n",
       "      <td>138</td>\n",
       "      <td>ALB</td>\n",
       "      <td>Albania</td>\n",
       "      <td>Tirana</td>\n",
       "      <td>Europe</td>\n",
       "      <td>2842321</td>\n",
       "      <td>2866849</td>\n",
       "      <td>2882481</td>\n",
       "      <td>2913399</td>\n",
       "      <td>3182021</td>\n",
       "      <td>3295066</td>\n",
       "      <td>2941651</td>\n",
       "      <td>2324731</td>\n",
       "      <td>28748</td>\n",
       "      <td>98.8702</td>\n",
       "      <td>0.9957</td>\n",
       "      <td>0.04</td>\n",
       "      <td>50</td>\n",
       "    </tr>\n",
       "    <tr>\n",
       "      <th>2</th>\n",
       "      <td>34</td>\n",
       "      <td>DZA</td>\n",
       "      <td>Algeria</td>\n",
       "      <td>Algiers</td>\n",
       "      <td>Africa</td>\n",
       "      <td>44903225</td>\n",
       "      <td>43451666</td>\n",
       "      <td>39543154</td>\n",
       "      <td>35856344</td>\n",
       "      <td>30774621</td>\n",
       "      <td>25518074</td>\n",
       "      <td>18739378</td>\n",
       "      <td>13795915</td>\n",
       "      <td>2381741</td>\n",
       "      <td>18.8531</td>\n",
       "      <td>1.0164</td>\n",
       "      <td>0.56</td>\n",
       "      <td>50</td>\n",
       "    </tr>\n",
       "    <tr>\n",
       "      <th>3</th>\n",
       "      <td>213</td>\n",
       "      <td>ASM</td>\n",
       "      <td>American Samoa</td>\n",
       "      <td>Pago Pago</td>\n",
       "      <td>Oceania</td>\n",
       "      <td>44273</td>\n",
       "      <td>46189</td>\n",
       "      <td>51368</td>\n",
       "      <td>54849</td>\n",
       "      <td>58230</td>\n",
       "      <td>47818</td>\n",
       "      <td>32886</td>\n",
       "      <td>27075</td>\n",
       "      <td>199</td>\n",
       "      <td>222.4774</td>\n",
       "      <td>0.9831</td>\n",
       "      <td>0.00</td>\n",
       "      <td>50</td>\n",
       "    </tr>\n",
       "    <tr>\n",
       "      <th>4</th>\n",
       "      <td>203</td>\n",
       "      <td>AND</td>\n",
       "      <td>Andorra</td>\n",
       "      <td>Andorra la Vella</td>\n",
       "      <td>Europe</td>\n",
       "      <td>79824</td>\n",
       "      <td>77700</td>\n",
       "      <td>71746</td>\n",
       "      <td>71519</td>\n",
       "      <td>66097</td>\n",
       "      <td>53569</td>\n",
       "      <td>35611</td>\n",
       "      <td>19860</td>\n",
       "      <td>468</td>\n",
       "      <td>170.5641</td>\n",
       "      <td>1.0100</td>\n",
       "      <td>0.00</td>\n",
       "      <td>50</td>\n",
       "    </tr>\n",
       "    <tr>\n",
       "      <th>...</th>\n",
       "      <td>...</td>\n",
       "      <td>...</td>\n",
       "      <td>...</td>\n",
       "      <td>...</td>\n",
       "      <td>...</td>\n",
       "      <td>...</td>\n",
       "      <td>...</td>\n",
       "      <td>...</td>\n",
       "      <td>...</td>\n",
       "      <td>...</td>\n",
       "      <td>...</td>\n",
       "      <td>...</td>\n",
       "      <td>...</td>\n",
       "      <td>...</td>\n",
       "      <td>...</td>\n",
       "      <td>...</td>\n",
       "      <td>...</td>\n",
       "      <td>...</td>\n",
       "    </tr>\n",
       "    <tr>\n",
       "      <th>229</th>\n",
       "      <td>226</td>\n",
       "      <td>WLF</td>\n",
       "      <td>Wallis and Futuna</td>\n",
       "      <td>Mata-Utu</td>\n",
       "      <td>Oceania</td>\n",
       "      <td>11572</td>\n",
       "      <td>11655</td>\n",
       "      <td>12182</td>\n",
       "      <td>13142</td>\n",
       "      <td>14723</td>\n",
       "      <td>13454</td>\n",
       "      <td>11315</td>\n",
       "      <td>9377</td>\n",
       "      <td>142</td>\n",
       "      <td>81.4930</td>\n",
       "      <td>0.9953</td>\n",
       "      <td>0.00</td>\n",
       "      <td>50</td>\n",
       "    </tr>\n",
       "    <tr>\n",
       "      <th>230</th>\n",
       "      <td>172</td>\n",
       "      <td>ESH</td>\n",
       "      <td>Western Sahara</td>\n",
       "      <td>El Aaiún</td>\n",
       "      <td>Africa</td>\n",
       "      <td>575986</td>\n",
       "      <td>556048</td>\n",
       "      <td>491824</td>\n",
       "      <td>413296</td>\n",
       "      <td>270375</td>\n",
       "      <td>178529</td>\n",
       "      <td>116775</td>\n",
       "      <td>76371</td>\n",
       "      <td>266000</td>\n",
       "      <td>2.1654</td>\n",
       "      <td>1.0184</td>\n",
       "      <td>0.01</td>\n",
       "      <td>50</td>\n",
       "    </tr>\n",
       "    <tr>\n",
       "      <th>231</th>\n",
       "      <td>46</td>\n",
       "      <td>YEM</td>\n",
       "      <td>Yemen</td>\n",
       "      <td>Sanaa</td>\n",
       "      <td>Asia</td>\n",
       "      <td>33696614</td>\n",
       "      <td>32284046</td>\n",
       "      <td>28516545</td>\n",
       "      <td>24743946</td>\n",
       "      <td>18628700</td>\n",
       "      <td>13375121</td>\n",
       "      <td>9204938</td>\n",
       "      <td>6843607</td>\n",
       "      <td>527968</td>\n",
       "      <td>63.8232</td>\n",
       "      <td>1.0217</td>\n",
       "      <td>0.42</td>\n",
       "      <td>50</td>\n",
       "    </tr>\n",
       "    <tr>\n",
       "      <th>232</th>\n",
       "      <td>63</td>\n",
       "      <td>ZMB</td>\n",
       "      <td>Zambia</td>\n",
       "      <td>Lusaka</td>\n",
       "      <td>Africa</td>\n",
       "      <td>20017675</td>\n",
       "      <td>18927715</td>\n",
       "      <td>16248230</td>\n",
       "      <td>13792086</td>\n",
       "      <td>9891136</td>\n",
       "      <td>7686401</td>\n",
       "      <td>5720438</td>\n",
       "      <td>4281671</td>\n",
       "      <td>752612</td>\n",
       "      <td>26.5976</td>\n",
       "      <td>1.0280</td>\n",
       "      <td>0.25</td>\n",
       "      <td>50</td>\n",
       "    </tr>\n",
       "    <tr>\n",
       "      <th>233</th>\n",
       "      <td>74</td>\n",
       "      <td>ZWE</td>\n",
       "      <td>Zimbabwe</td>\n",
       "      <td>Harare</td>\n",
       "      <td>Africa</td>\n",
       "      <td>16320537</td>\n",
       "      <td>15669666</td>\n",
       "      <td>14154937</td>\n",
       "      <td>12839771</td>\n",
       "      <td>11834676</td>\n",
       "      <td>10113893</td>\n",
       "      <td>7049926</td>\n",
       "      <td>5202918</td>\n",
       "      <td>390757</td>\n",
       "      <td>41.7665</td>\n",
       "      <td>1.0204</td>\n",
       "      <td>0.20</td>\n",
       "      <td>50</td>\n",
       "    </tr>\n",
       "  </tbody>\n",
       "</table>\n",
       "<p>234 rows × 18 columns</p>\n",
       "</div>"
      ],
      "text/plain": [
       "     Rank CCA3  Country/Territory           Capital Continent  \\\n",
       "0      36  AFG        Afghanistan             Kabul      Asia   \n",
       "1     138  ALB            Albania            Tirana    Europe   \n",
       "2      34  DZA            Algeria           Algiers    Africa   \n",
       "3     213  ASM     American Samoa         Pago Pago   Oceania   \n",
       "4     203  AND            Andorra  Andorra la Vella    Europe   \n",
       "..    ...  ...                ...               ...       ...   \n",
       "229   226  WLF  Wallis and Futuna          Mata-Utu   Oceania   \n",
       "230   172  ESH     Western Sahara          El Aaiún    Africa   \n",
       "231    46  YEM              Yemen             Sanaa      Asia   \n",
       "232    63  ZMB             Zambia            Lusaka    Africa   \n",
       "233    74  ZWE           Zimbabwe            Harare    Africa   \n",
       "\n",
       "     2022 Population  2020 Population  2015 Population  2010 Population  \\\n",
       "0           41128771         38972230         33753499         28189672   \n",
       "1            2842321          2866849          2882481          2913399   \n",
       "2           44903225         43451666         39543154         35856344   \n",
       "3              44273            46189            51368            54849   \n",
       "4              79824            77700            71746            71519   \n",
       "..               ...              ...              ...              ...   \n",
       "229            11572            11655            12182            13142   \n",
       "230           575986           556048           491824           413296   \n",
       "231         33696614         32284046         28516545         24743946   \n",
       "232         20017675         18927715         16248230         13792086   \n",
       "233         16320537         15669666         14154937         12839771   \n",
       "\n",
       "     2000 Population  1990 Population  1980 Population  1970 Population  \\\n",
       "0           19542982         10694796         12486631         10752971   \n",
       "1            3182021          3295066          2941651          2324731   \n",
       "2           30774621         25518074         18739378         13795915   \n",
       "3              58230            47818            32886            27075   \n",
       "4              66097            53569            35611            19860   \n",
       "..               ...              ...              ...              ...   \n",
       "229            14723            13454            11315             9377   \n",
       "230           270375           178529           116775            76371   \n",
       "231         18628700         13375121          9204938          6843607   \n",
       "232          9891136          7686401          5720438          4281671   \n",
       "233         11834676         10113893          7049926          5202918   \n",
       "\n",
       "     Area (km²)  Density (per km²)  Growth Rate  World Population Percentage  \\\n",
       "0        652230            63.0587       1.0257                         0.52   \n",
       "1         28748            98.8702       0.9957                         0.04   \n",
       "2       2381741            18.8531       1.0164                         0.56   \n",
       "3           199           222.4774       0.9831                         0.00   \n",
       "4           468           170.5641       1.0100                         0.00   \n",
       "..          ...                ...          ...                          ...   \n",
       "229         142            81.4930       0.9953                         0.00   \n",
       "230      266000             2.1654       1.0184                         0.01   \n",
       "231      527968            63.8232       1.0217                         0.42   \n",
       "232      752612            26.5976       1.0280                         0.25   \n",
       "233      390757            41.7665       1.0204                         0.20   \n",
       "\n",
       "     corruption  \n",
       "0            50  \n",
       "1            50  \n",
       "2            50  \n",
       "3            50  \n",
       "4            50  \n",
       "..          ...  \n",
       "229          50  \n",
       "230          50  \n",
       "231          50  \n",
       "232          50  \n",
       "233          50  \n",
       "\n",
       "[234 rows x 18 columns]"
      ]
     },
     "execution_count": 41,
     "metadata": {},
     "output_type": "execute_result"
    }
   ],
   "source": [
    "wd"
   ]
  },
  {
   "cell_type": "code",
   "execution_count": 45,
   "metadata": {},
   "outputs": [],
   "source": [
    "# Add a new column to the DataFrame\n",
    "wd['Uthman'] = 'Great'\n",
    "\n",
    "# If you want to add the same value to all rows\n",
    "# Alternatively, if you want different values for each row:\n",
    "# wd['Uthman'] = ['Great', 'Good', 'Excellent', ...] # List should have same length as DataFrame"
   ]
  },
  {
   "cell_type": "code",
   "execution_count": 46,
   "metadata": {},
   "outputs": [
    {
     "data": {
      "application/vnd.microsoft.datawrangler.viewer.v0+json": {
       "columns": [
        {
         "name": "index",
         "rawType": "int64",
         "type": "integer"
        },
        {
         "name": "Rank",
         "rawType": "int64",
         "type": "integer"
        },
        {
         "name": "CCA3",
         "rawType": "object",
         "type": "string"
        },
        {
         "name": "Country/Territory",
         "rawType": "object",
         "type": "string"
        },
        {
         "name": "Capital",
         "rawType": "object",
         "type": "string"
        },
        {
         "name": "Continent",
         "rawType": "object",
         "type": "string"
        },
        {
         "name": "2022 Population",
         "rawType": "int64",
         "type": "integer"
        },
        {
         "name": "2020 Population",
         "rawType": "int64",
         "type": "integer"
        },
        {
         "name": "2015 Population",
         "rawType": "int64",
         "type": "integer"
        },
        {
         "name": "2010 Population",
         "rawType": "int64",
         "type": "integer"
        },
        {
         "name": "2000 Population",
         "rawType": "int64",
         "type": "integer"
        },
        {
         "name": "1990 Population",
         "rawType": "int64",
         "type": "integer"
        },
        {
         "name": "1980 Population",
         "rawType": "int64",
         "type": "integer"
        },
        {
         "name": "1970 Population",
         "rawType": "int64",
         "type": "integer"
        },
        {
         "name": "Area (km²)",
         "rawType": "int64",
         "type": "integer"
        },
        {
         "name": "Density (per km²)",
         "rawType": "float64",
         "type": "float"
        },
        {
         "name": "Growth Rate",
         "rawType": "float64",
         "type": "float"
        },
        {
         "name": "World Population Percentage",
         "rawType": "float64",
         "type": "float"
        },
        {
         "name": "corruption",
         "rawType": "int64",
         "type": "integer"
        },
        {
         "name": "Uthman",
         "rawType": "object",
         "type": "string"
        }
       ],
       "ref": "878d9196-7a0b-4d4e-9916-2b3e613b1c6b",
       "rows": [
        [
         "0",
         "36",
         "AFG",
         "Afghanistan",
         "Kabul",
         "Asia",
         "41128771",
         "38972230",
         "33753499",
         "28189672",
         "19542982",
         "10694796",
         "12486631",
         "10752971",
         "652230",
         "63.0587",
         "1.0257",
         "0.52",
         "50",
         "Great"
        ],
        [
         "1",
         "138",
         "ALB",
         "Albania",
         "Tirana",
         "Europe",
         "2842321",
         "2866849",
         "2882481",
         "2913399",
         "3182021",
         "3295066",
         "2941651",
         "2324731",
         "28748",
         "98.8702",
         "0.9957",
         "0.04",
         "50",
         "Great"
        ],
        [
         "2",
         "34",
         "DZA",
         "Algeria",
         "Algiers",
         "Africa",
         "44903225",
         "43451666",
         "39543154",
         "35856344",
         "30774621",
         "25518074",
         "18739378",
         "13795915",
         "2381741",
         "18.8531",
         "1.0164",
         "0.56",
         "50",
         "Great"
        ],
        [
         "3",
         "213",
         "ASM",
         "American Samoa",
         "Pago Pago",
         "Oceania",
         "44273",
         "46189",
         "51368",
         "54849",
         "58230",
         "47818",
         "32886",
         "27075",
         "199",
         "222.4774",
         "0.9831",
         "0.0",
         "50",
         "Great"
        ],
        [
         "4",
         "203",
         "AND",
         "Andorra",
         "Andorra la Vella",
         "Europe",
         "79824",
         "77700",
         "71746",
         "71519",
         "66097",
         "53569",
         "35611",
         "19860",
         "468",
         "170.5641",
         "1.01",
         "0.0",
         "50",
         "Great"
        ],
        [
         "5",
         "42",
         "AGO",
         "Angola",
         "Luanda",
         "Africa",
         "35588987",
         "33428485",
         "28127721",
         "23364185",
         "16394062",
         "11828638",
         "8330047",
         "6029700",
         "1246700",
         "28.5466",
         "1.0315",
         "0.45",
         "50",
         "Great"
        ],
        [
         "6",
         "224",
         "AIA",
         "Anguilla",
         "The Valley",
         "North America",
         "15857",
         "15585",
         "14525",
         "13172",
         "11047",
         "8316",
         "6560",
         "6283",
         "91",
         "174.2527",
         "1.0066",
         "0.0",
         "50",
         "Great"
        ],
        [
         "7",
         "201",
         "ATG",
         "Antigua and Barbuda",
         "Saint John’s",
         "North America",
         "93763",
         "92664",
         "89941",
         "85695",
         "75055",
         "63328",
         "64888",
         "64516",
         "442",
         "212.1335",
         "1.0058",
         "0.0",
         "50",
         "Great"
        ],
        [
         "8",
         "33",
         "ARG",
         "Argentina",
         "Buenos Aires",
         "South America",
         "45510318",
         "45036032",
         "43257065",
         "41100123",
         "37070774",
         "32637657",
         "28024803",
         "23842803",
         "2780400",
         "16.3683",
         "1.0052",
         "0.57",
         "50",
         "Great"
        ],
        [
         "9",
         "140",
         "ARM",
         "Armenia",
         "Yerevan",
         "Asia",
         "2780469",
         "2805608",
         "2878595",
         "2946293",
         "3168523",
         "3556539",
         "3135123",
         "2534377",
         "29743",
         "93.4831",
         "0.9962",
         "0.03",
         "50",
         "Great"
        ],
        [
         "10",
         "198",
         "ABW",
         "Aruba",
         "Oranjestad",
         "North America",
         "106445",
         "106585",
         "104257",
         "100341",
         "89101",
         "65712",
         "62267",
         "59106",
         "180",
         "591.3611",
         "0.9991",
         "0.0",
         "50",
         "Great"
        ],
        [
         "11",
         "55",
         "AUS",
         "Australia",
         "Canberra",
         "Oceania",
         "26177413",
         "25670051",
         "23820236",
         "22019168",
         "19017963",
         "17048003",
         "14706322",
         "12595034",
         "7692024",
         "3.4032",
         "1.0099",
         "0.33",
         "50",
         "Great"
        ],
        [
         "12",
         "99",
         "AUT",
         "Austria",
         "Vienna",
         "Europe",
         "8939617",
         "8907777",
         "8642421",
         "8362829",
         "8010428",
         "7678729",
         "7547561",
         "7465301",
         "83871",
         "106.5877",
         "1.002",
         "0.11",
         "50",
         "Great"
        ],
        [
         "13",
         "91",
         "AZE",
         "Azerbaijan",
         "Baku",
         "Asia",
         "10358074",
         "10284951",
         "9863480",
         "9237202",
         "8190337",
         "7427836",
         "6383060",
         "5425317",
         "86600",
         "119.6082",
         "1.0044",
         "0.13",
         "50",
         "Great"
        ],
        [
         "14",
         "176",
         "BHS",
         "Bahamas",
         "Nassau",
         "North America",
         "409984",
         "406471",
         "392697",
         "373272",
         "325014",
         "270679",
         "223752",
         "179129",
         "13943",
         "29.4043",
         "1.0051",
         "0.01",
         "50",
         "Great"
        ],
        [
         "15",
         "154",
         "BHR",
         "Bahrain",
         "Manama",
         "Asia",
         "1472233",
         "1477469",
         "1362142",
         "1213645",
         "711442",
         "517418",
         "362595",
         "222555",
         "765",
         "1924.4876",
         "1.0061",
         "0.02",
         "50",
         "Great"
        ],
        [
         "16",
         "8",
         "BGD",
         "Bangladesh",
         "Dhaka",
         "Asia",
         "171186372",
         "167420951",
         "157830000",
         "148391139",
         "129193327",
         "107147651",
         "83929765",
         "67541860",
         "147570",
         "1160.035",
         "1.0108",
         "2.15",
         "50",
         "Great"
        ],
        [
         "17",
         "186",
         "BRB",
         "Barbados",
         "Bridgetown",
         "North America",
         "281635",
         "280693",
         "278083",
         "274711",
         "264657",
         "258868",
         "253575",
         "241397",
         "430",
         "654.9651",
         "1.0015",
         "0.0",
         "50",
         "Great"
        ],
        [
         "18",
         "96",
         "BLR",
         "Belarus",
         "Minsk",
         "Europe",
         "9534954",
         "9633740",
         "9700609",
         "9731427",
         "10256483",
         "10428525",
         "9817257",
         "9170786",
         "207600",
         "45.9295",
         "0.9955",
         "0.12",
         "50",
         "Great"
        ],
        [
         "19",
         "81",
         "BEL",
         "Belgium",
         "Brussels",
         "Europe",
         "11655930",
         "11561717",
         "11248303",
         "10877947",
         "10264343",
         "9959560",
         "9828986",
         "9629376",
         "30528",
         "381.8111",
         "2.2",
         "0.15",
         "50",
         "Great"
        ],
        [
         "20",
         "177",
         "BLZ",
         "Belize",
         "Belmopan",
         "North America",
         "405272",
         "394921",
         "359871",
         "322106",
         "240406",
         "182589",
         "145133",
         "120905",
         "22966",
         "17.6466",
         "1.0131",
         "0.01",
         "50",
         "Great"
        ],
        [
         "21",
         "77",
         "BEN",
         "Benin",
         "Porto-Novo",
         "Africa",
         "13352864",
         "12643123",
         "10932783",
         "9445710",
         "6998023",
         "5133419",
         "3833939",
         "3023443",
         "112622",
         "118.5635",
         "1.0274",
         "0.17",
         "50",
         "Great"
        ],
        [
         "22",
         "206",
         "BMU",
         "Bermuda",
         "Hamilton",
         "North America",
         "64184",
         "64031",
         "63144",
         "63447",
         "61371",
         "57470",
         "53565",
         "52019",
         "54",
         "1188.5926",
         "1.0",
         "0.0",
         "50",
         "Great"
        ],
        [
         "23",
         "165",
         "BTN",
         "Bhutan",
         "Thimphu",
         "Asia",
         "782455",
         "772506",
         "743274",
         "705516",
         "587207",
         "558442",
         "415257",
         "298894",
         "38394",
         "20.3796",
         "1.0064",
         "0.01",
         "50",
         "Great"
        ],
        [
         "24",
         "80",
         "BOL",
         "Bolivia",
         "Sucre",
         "South America",
         "12224110",
         "11936162",
         "11090085",
         "10223270",
         "8592656",
         "7096194",
         "5736088",
         "4585693",
         "1098581",
         "11.1272",
         "1.012",
         "0.15",
         "50",
         "Great"
        ],
        [
         "25",
         "137",
         "BIH",
         "Bosnia and Herzegovina",
         "Sarajevo",
         "Europe",
         "3233526",
         "3318407",
         "3524324",
         "3811088",
         "4179350",
         "4494310",
         "4199820",
         "3815561",
         "51209",
         "63.1437",
         "0.9886",
         "0.04",
         "50",
         "Great"
        ],
        [
         "26",
         "144",
         "BWA",
         "Botswana",
         "Gaborone",
         "Africa",
         "2630296",
         "2546402",
         "2305171",
         "2091664",
         "1726985",
         "1341474",
         "938578",
         "592244",
         "582000",
         "4.5194",
         "1.0162",
         "0.03",
         "50",
         "Great"
        ],
        [
         "27",
         "7",
         "BRA",
         "Brazil",
         "Brasilia",
         "South America",
         "215313498",
         "213196304",
         "205188205",
         "196353492",
         "175873720",
         "150706446",
         "122288383",
         "96369875",
         "8515767",
         "25.2841",
         "1.0046",
         "2.7",
         "50",
         "Great"
        ],
        [
         "28",
         "221",
         "VGB",
         "British Virgin Islands",
         "Road Town",
         "North America",
         "31305",
         "30910",
         "29366",
         "27556",
         "20104",
         "15617",
         "11109",
         "9581",
         "151",
         "207.3179",
         "1.0059",
         "0.0",
         "50",
         "Great"
        ],
        [
         "29",
         "175",
         "BRN",
         "Brunei",
         "Bandar Seri Begawan",
         "Asia",
         "449002",
         "441725",
         "421437",
         "396053",
         "333926",
         "261928",
         "187921",
         "133343",
         "5765",
         "77.8841",
         "1.0081",
         "0.01",
         "50",
         "Great"
        ],
        [
         "30",
         "108",
         "BGR",
         "Bulgaria",
         "Sofia",
         "Europe",
         "6781953",
         "6979175",
         "7309253",
         "7592273",
         "8097691",
         "8767778",
         "8980606",
         "8582950",
         "110879",
         "61.1654",
         "0.9849",
         "0.09",
         "50",
         "Great"
        ],
        [
         "31",
         "58",
         "BFA",
         "Burkina Faso",
         "Ouagadougou",
         "Africa",
         "22673762",
         "21522626",
         "18718019",
         "16116845",
         "11882888",
         "9131361",
         "6932967",
         "5611666",
         "272967",
         "83.0641",
         "1.0259",
         "0.28",
         "50",
         "Great"
        ],
        [
         "32",
         "78",
         "BDI",
         "Burundi",
         "Bujumbura",
         "Africa",
         "12889576",
         "12220227",
         "10727148",
         "9126605",
         "6307659",
         "5483793",
         "4312834",
         "3497834",
         "27834",
         "463.0874",
         "1.027",
         "0.16",
         "50",
         "Great"
        ],
        [
         "33",
         "73",
         "KHM",
         "Cambodia",
         "Phnom Penh",
         "Asia",
         "16767842",
         "16396860",
         "15417523",
         "14363532",
         "12118841",
         "8910808",
         "6198959",
         "6708525",
         "181035",
         "92.6221",
         "1.0108",
         "0.21",
         "50",
         "Great"
        ],
        [
         "34",
         "53",
         "CMR",
         "Cameroon",
         "Yaounde",
         "Africa",
         "27914536",
         "26491087",
         "23012646",
         "19878036",
         "15091594",
         "11430520",
         "8519891",
         "6452787",
         "475442",
         "58.7128",
         "1.0263",
         "0.35",
         "50",
         "Great"
        ],
        [
         "35",
         "39",
         "CAN",
         "Canada",
         "Ottawa",
         "North America",
         "38454327",
         "37888705",
         "35732126",
         "33963412",
         "30683313",
         "27657204",
         "24511510",
         "21434577",
         "9984670",
         "3.8513",
         "1.0078",
         "0.48",
         "50",
         "Great"
        ],
        [
         "36",
         "171",
         "CPV",
         "Cape Verde",
         "Praia",
         "Africa",
         "593149",
         "582640",
         "552166",
         "521212",
         "458251",
         "364563",
         "317234",
         "287262",
         "4033",
         "147.0739",
         "1.0089",
         "0.01",
         "50",
         "Great"
        ],
        [
         "37",
         "205",
         "CYM",
         "Cayman Islands",
         "George Town",
         "North America",
         "68706",
         "67311",
         "60911",
         "54074",
         "39658",
         "26027",
         "17100",
         "10533",
         "264",
         "260.25",
         "1.0084",
         "0.0",
         "50",
         "Great"
        ],
        [
         "38",
         "117",
         "CAF",
         "Central African Republic",
         "Bangui",
         "Africa",
         "5579144",
         "5343020",
         "4819333",
         "4660067",
         "3759170",
         "2809221",
         "2415276",
         "2067356",
         "622984",
         "8.9555",
         "1.0224",
         "0.07",
         "50",
         "Great"
        ],
        [
         "39",
         "69",
         "TCD",
         "Chad",
         "N'Djamena",
         "Africa",
         "17723315",
         "16644701",
         "14140274",
         "11894727",
         "8259137",
         "5827069",
         "4408230",
         "3667394",
         "1284000",
         "13.8032",
         "1.0316",
         "0.22",
         "50",
         "Great"
        ],
        [
         "40",
         "65",
         "CHL",
         "Chile",
         "Santiago",
         "South America",
         "19603733",
         "19300315",
         "17870124",
         "17004162",
         "15351799",
         "13342868",
         "11469828",
         "9820481",
         "756102",
         "25.9274",
         "1.0057",
         "0.25",
         "50",
         "Great"
        ],
        [
         "41",
         "1",
         "CHN",
         "China",
         "Beijing",
         "Asia",
         "1425887337",
         "1424929781",
         "1393715448",
         "1348191368",
         "1264099069",
         "1153704252",
         "982372466",
         "822534450",
         "9706961",
         "146.8933",
         "1.0",
         "17.88",
         "50",
         "Great"
        ],
        [
         "42",
         "28",
         "COL",
         "Colombia",
         "Bogota",
         "South America",
         "51874024",
         "50930662",
         "47119728",
         "44816108",
         "39215135",
         "32601393",
         "26176195",
         "20905254",
         "1141748",
         "45.4339",
         "1.0069",
         "0.65",
         "50",
         "Great"
        ],
        [
         "43",
         "163",
         "COM",
         "Comoros",
         "Moroni",
         "Africa",
         "836774",
         "806166",
         "730216",
         "656024",
         "536758",
         "431119",
         "328328",
         "242351",
         "1862",
         "449.3953",
         "1.0184",
         "0.01",
         "50",
         "Great"
        ],
        [
         "44",
         "223",
         "COK",
         "Cook Islands",
         "Avarua",
         "Oceania",
         "17011",
         "17029",
         "17695",
         "17212",
         "15897",
         "17123",
         "17651",
         "20470",
         "236",
         "72.0805",
         "1.0005",
         "0.0",
         "50",
         "Great"
        ],
        [
         "45",
         "124",
         "CRI",
         "Costa Rica",
         "San José",
         "North America",
         "5180829",
         "5123105",
         "4895242",
         "4622252",
         "3979193",
         "3158253",
         "2414303",
         "1855697",
         "51100",
         "101.3861",
         "1.0052",
         "0.06",
         "50",
         "Great"
        ],
        [
         "46",
         "130",
         "HRV",
         "Croatia",
         "Zagreb",
         "Europe",
         "4030358",
         "4096868",
         "4254815",
         "4368682",
         "4548434",
         "4873707",
         "4680144",
         "4492638",
         "56594",
         "71.2153",
         "0.9927",
         "0.05",
         "50",
         "Great"
        ],
        [
         "47",
         "85",
         "CUB",
         "Cuba",
         "Havana",
         "North America",
         "11212191",
         "11300698",
         "11339894",
         "11290417",
         "11105791",
         "10626680",
         "9809107",
         "8869636",
         "109884",
         "102.0366",
         "0.9961",
         "0.14",
         "50",
         "Great"
        ],
        [
         "48",
         "189",
         "CUW",
         "Curacao",
         "Willemstad",
         "North America",
         "191163",
         "189288",
         "169572",
         "159380",
         "141424",
         "155446",
         "156851",
         "150385",
         "444",
         "430.5473",
         "1.0043",
         "0.0",
         "50",
         "Great"
        ],
        [
         "49",
         "158",
         "CYP",
         "Cyprus",
         "Nicosia",
         "Europe",
         "1251488",
         "1237537",
         "1187280",
         "1129686",
         "948237",
         "788500",
         "679327",
         "640804",
         "9251",
         "135.2814",
         "1.0059",
         "0.02",
         "50",
         "Great"
        ]
       ],
       "shape": {
        "columns": 19,
        "rows": 234
       }
      },
      "text/html": [
       "<div>\n",
       "<style scoped>\n",
       "    .dataframe tbody tr th:only-of-type {\n",
       "        vertical-align: middle;\n",
       "    }\n",
       "\n",
       "    .dataframe tbody tr th {\n",
       "        vertical-align: top;\n",
       "    }\n",
       "\n",
       "    .dataframe thead th {\n",
       "        text-align: right;\n",
       "    }\n",
       "</style>\n",
       "<table border=\"1\" class=\"dataframe\">\n",
       "  <thead>\n",
       "    <tr style=\"text-align: right;\">\n",
       "      <th></th>\n",
       "      <th>Rank</th>\n",
       "      <th>CCA3</th>\n",
       "      <th>Country/Territory</th>\n",
       "      <th>Capital</th>\n",
       "      <th>Continent</th>\n",
       "      <th>2022 Population</th>\n",
       "      <th>2020 Population</th>\n",
       "      <th>2015 Population</th>\n",
       "      <th>2010 Population</th>\n",
       "      <th>2000 Population</th>\n",
       "      <th>1990 Population</th>\n",
       "      <th>1980 Population</th>\n",
       "      <th>1970 Population</th>\n",
       "      <th>Area (km²)</th>\n",
       "      <th>Density (per km²)</th>\n",
       "      <th>Growth Rate</th>\n",
       "      <th>World Population Percentage</th>\n",
       "      <th>corruption</th>\n",
       "      <th>Uthman</th>\n",
       "    </tr>\n",
       "  </thead>\n",
       "  <tbody>\n",
       "    <tr>\n",
       "      <th>0</th>\n",
       "      <td>36</td>\n",
       "      <td>AFG</td>\n",
       "      <td>Afghanistan</td>\n",
       "      <td>Kabul</td>\n",
       "      <td>Asia</td>\n",
       "      <td>41128771</td>\n",
       "      <td>38972230</td>\n",
       "      <td>33753499</td>\n",
       "      <td>28189672</td>\n",
       "      <td>19542982</td>\n",
       "      <td>10694796</td>\n",
       "      <td>12486631</td>\n",
       "      <td>10752971</td>\n",
       "      <td>652230</td>\n",
       "      <td>63.0587</td>\n",
       "      <td>1.0257</td>\n",
       "      <td>0.52</td>\n",
       "      <td>50</td>\n",
       "      <td>Great</td>\n",
       "    </tr>\n",
       "    <tr>\n",
       "      <th>1</th>\n",
       "      <td>138</td>\n",
       "      <td>ALB</td>\n",
       "      <td>Albania</td>\n",
       "      <td>Tirana</td>\n",
       "      <td>Europe</td>\n",
       "      <td>2842321</td>\n",
       "      <td>2866849</td>\n",
       "      <td>2882481</td>\n",
       "      <td>2913399</td>\n",
       "      <td>3182021</td>\n",
       "      <td>3295066</td>\n",
       "      <td>2941651</td>\n",
       "      <td>2324731</td>\n",
       "      <td>28748</td>\n",
       "      <td>98.8702</td>\n",
       "      <td>0.9957</td>\n",
       "      <td>0.04</td>\n",
       "      <td>50</td>\n",
       "      <td>Great</td>\n",
       "    </tr>\n",
       "    <tr>\n",
       "      <th>2</th>\n",
       "      <td>34</td>\n",
       "      <td>DZA</td>\n",
       "      <td>Algeria</td>\n",
       "      <td>Algiers</td>\n",
       "      <td>Africa</td>\n",
       "      <td>44903225</td>\n",
       "      <td>43451666</td>\n",
       "      <td>39543154</td>\n",
       "      <td>35856344</td>\n",
       "      <td>30774621</td>\n",
       "      <td>25518074</td>\n",
       "      <td>18739378</td>\n",
       "      <td>13795915</td>\n",
       "      <td>2381741</td>\n",
       "      <td>18.8531</td>\n",
       "      <td>1.0164</td>\n",
       "      <td>0.56</td>\n",
       "      <td>50</td>\n",
       "      <td>Great</td>\n",
       "    </tr>\n",
       "    <tr>\n",
       "      <th>3</th>\n",
       "      <td>213</td>\n",
       "      <td>ASM</td>\n",
       "      <td>American Samoa</td>\n",
       "      <td>Pago Pago</td>\n",
       "      <td>Oceania</td>\n",
       "      <td>44273</td>\n",
       "      <td>46189</td>\n",
       "      <td>51368</td>\n",
       "      <td>54849</td>\n",
       "      <td>58230</td>\n",
       "      <td>47818</td>\n",
       "      <td>32886</td>\n",
       "      <td>27075</td>\n",
       "      <td>199</td>\n",
       "      <td>222.4774</td>\n",
       "      <td>0.9831</td>\n",
       "      <td>0.00</td>\n",
       "      <td>50</td>\n",
       "      <td>Great</td>\n",
       "    </tr>\n",
       "    <tr>\n",
       "      <th>4</th>\n",
       "      <td>203</td>\n",
       "      <td>AND</td>\n",
       "      <td>Andorra</td>\n",
       "      <td>Andorra la Vella</td>\n",
       "      <td>Europe</td>\n",
       "      <td>79824</td>\n",
       "      <td>77700</td>\n",
       "      <td>71746</td>\n",
       "      <td>71519</td>\n",
       "      <td>66097</td>\n",
       "      <td>53569</td>\n",
       "      <td>35611</td>\n",
       "      <td>19860</td>\n",
       "      <td>468</td>\n",
       "      <td>170.5641</td>\n",
       "      <td>1.0100</td>\n",
       "      <td>0.00</td>\n",
       "      <td>50</td>\n",
       "      <td>Great</td>\n",
       "    </tr>\n",
       "    <tr>\n",
       "      <th>...</th>\n",
       "      <td>...</td>\n",
       "      <td>...</td>\n",
       "      <td>...</td>\n",
       "      <td>...</td>\n",
       "      <td>...</td>\n",
       "      <td>...</td>\n",
       "      <td>...</td>\n",
       "      <td>...</td>\n",
       "      <td>...</td>\n",
       "      <td>...</td>\n",
       "      <td>...</td>\n",
       "      <td>...</td>\n",
       "      <td>...</td>\n",
       "      <td>...</td>\n",
       "      <td>...</td>\n",
       "      <td>...</td>\n",
       "      <td>...</td>\n",
       "      <td>...</td>\n",
       "      <td>...</td>\n",
       "    </tr>\n",
       "    <tr>\n",
       "      <th>229</th>\n",
       "      <td>226</td>\n",
       "      <td>WLF</td>\n",
       "      <td>Wallis and Futuna</td>\n",
       "      <td>Mata-Utu</td>\n",
       "      <td>Oceania</td>\n",
       "      <td>11572</td>\n",
       "      <td>11655</td>\n",
       "      <td>12182</td>\n",
       "      <td>13142</td>\n",
       "      <td>14723</td>\n",
       "      <td>13454</td>\n",
       "      <td>11315</td>\n",
       "      <td>9377</td>\n",
       "      <td>142</td>\n",
       "      <td>81.4930</td>\n",
       "      <td>0.9953</td>\n",
       "      <td>0.00</td>\n",
       "      <td>50</td>\n",
       "      <td>Great</td>\n",
       "    </tr>\n",
       "    <tr>\n",
       "      <th>230</th>\n",
       "      <td>172</td>\n",
       "      <td>ESH</td>\n",
       "      <td>Western Sahara</td>\n",
       "      <td>El Aaiún</td>\n",
       "      <td>Africa</td>\n",
       "      <td>575986</td>\n",
       "      <td>556048</td>\n",
       "      <td>491824</td>\n",
       "      <td>413296</td>\n",
       "      <td>270375</td>\n",
       "      <td>178529</td>\n",
       "      <td>116775</td>\n",
       "      <td>76371</td>\n",
       "      <td>266000</td>\n",
       "      <td>2.1654</td>\n",
       "      <td>1.0184</td>\n",
       "      <td>0.01</td>\n",
       "      <td>50</td>\n",
       "      <td>Great</td>\n",
       "    </tr>\n",
       "    <tr>\n",
       "      <th>231</th>\n",
       "      <td>46</td>\n",
       "      <td>YEM</td>\n",
       "      <td>Yemen</td>\n",
       "      <td>Sanaa</td>\n",
       "      <td>Asia</td>\n",
       "      <td>33696614</td>\n",
       "      <td>32284046</td>\n",
       "      <td>28516545</td>\n",
       "      <td>24743946</td>\n",
       "      <td>18628700</td>\n",
       "      <td>13375121</td>\n",
       "      <td>9204938</td>\n",
       "      <td>6843607</td>\n",
       "      <td>527968</td>\n",
       "      <td>63.8232</td>\n",
       "      <td>1.0217</td>\n",
       "      <td>0.42</td>\n",
       "      <td>50</td>\n",
       "      <td>Great</td>\n",
       "    </tr>\n",
       "    <tr>\n",
       "      <th>232</th>\n",
       "      <td>63</td>\n",
       "      <td>ZMB</td>\n",
       "      <td>Zambia</td>\n",
       "      <td>Lusaka</td>\n",
       "      <td>Africa</td>\n",
       "      <td>20017675</td>\n",
       "      <td>18927715</td>\n",
       "      <td>16248230</td>\n",
       "      <td>13792086</td>\n",
       "      <td>9891136</td>\n",
       "      <td>7686401</td>\n",
       "      <td>5720438</td>\n",
       "      <td>4281671</td>\n",
       "      <td>752612</td>\n",
       "      <td>26.5976</td>\n",
       "      <td>1.0280</td>\n",
       "      <td>0.25</td>\n",
       "      <td>50</td>\n",
       "      <td>Great</td>\n",
       "    </tr>\n",
       "    <tr>\n",
       "      <th>233</th>\n",
       "      <td>74</td>\n",
       "      <td>ZWE</td>\n",
       "      <td>Zimbabwe</td>\n",
       "      <td>Harare</td>\n",
       "      <td>Africa</td>\n",
       "      <td>16320537</td>\n",
       "      <td>15669666</td>\n",
       "      <td>14154937</td>\n",
       "      <td>12839771</td>\n",
       "      <td>11834676</td>\n",
       "      <td>10113893</td>\n",
       "      <td>7049926</td>\n",
       "      <td>5202918</td>\n",
       "      <td>390757</td>\n",
       "      <td>41.7665</td>\n",
       "      <td>1.0204</td>\n",
       "      <td>0.20</td>\n",
       "      <td>50</td>\n",
       "      <td>Great</td>\n",
       "    </tr>\n",
       "  </tbody>\n",
       "</table>\n",
       "<p>234 rows × 19 columns</p>\n",
       "</div>"
      ],
      "text/plain": [
       "     Rank CCA3  Country/Territory           Capital Continent  \\\n",
       "0      36  AFG        Afghanistan             Kabul      Asia   \n",
       "1     138  ALB            Albania            Tirana    Europe   \n",
       "2      34  DZA            Algeria           Algiers    Africa   \n",
       "3     213  ASM     American Samoa         Pago Pago   Oceania   \n",
       "4     203  AND            Andorra  Andorra la Vella    Europe   \n",
       "..    ...  ...                ...               ...       ...   \n",
       "229   226  WLF  Wallis and Futuna          Mata-Utu   Oceania   \n",
       "230   172  ESH     Western Sahara          El Aaiún    Africa   \n",
       "231    46  YEM              Yemen             Sanaa      Asia   \n",
       "232    63  ZMB             Zambia            Lusaka    Africa   \n",
       "233    74  ZWE           Zimbabwe            Harare    Africa   \n",
       "\n",
       "     2022 Population  2020 Population  2015 Population  2010 Population  \\\n",
       "0           41128771         38972230         33753499         28189672   \n",
       "1            2842321          2866849          2882481          2913399   \n",
       "2           44903225         43451666         39543154         35856344   \n",
       "3              44273            46189            51368            54849   \n",
       "4              79824            77700            71746            71519   \n",
       "..               ...              ...              ...              ...   \n",
       "229            11572            11655            12182            13142   \n",
       "230           575986           556048           491824           413296   \n",
       "231         33696614         32284046         28516545         24743946   \n",
       "232         20017675         18927715         16248230         13792086   \n",
       "233         16320537         15669666         14154937         12839771   \n",
       "\n",
       "     2000 Population  1990 Population  1980 Population  1970 Population  \\\n",
       "0           19542982         10694796         12486631         10752971   \n",
       "1            3182021          3295066          2941651          2324731   \n",
       "2           30774621         25518074         18739378         13795915   \n",
       "3              58230            47818            32886            27075   \n",
       "4              66097            53569            35611            19860   \n",
       "..               ...              ...              ...              ...   \n",
       "229            14723            13454            11315             9377   \n",
       "230           270375           178529           116775            76371   \n",
       "231         18628700         13375121          9204938          6843607   \n",
       "232          9891136          7686401          5720438          4281671   \n",
       "233         11834676         10113893          7049926          5202918   \n",
       "\n",
       "     Area (km²)  Density (per km²)  Growth Rate  World Population Percentage  \\\n",
       "0        652230            63.0587       1.0257                         0.52   \n",
       "1         28748            98.8702       0.9957                         0.04   \n",
       "2       2381741            18.8531       1.0164                         0.56   \n",
       "3           199           222.4774       0.9831                         0.00   \n",
       "4           468           170.5641       1.0100                         0.00   \n",
       "..          ...                ...          ...                          ...   \n",
       "229         142            81.4930       0.9953                         0.00   \n",
       "230      266000             2.1654       1.0184                         0.01   \n",
       "231      527968            63.8232       1.0217                         0.42   \n",
       "232      752612            26.5976       1.0280                         0.25   \n",
       "233      390757            41.7665       1.0204                         0.20   \n",
       "\n",
       "     corruption Uthman  \n",
       "0            50  Great  \n",
       "1            50  Great  \n",
       "2            50  Great  \n",
       "3            50  Great  \n",
       "4            50  Great  \n",
       "..          ...    ...  \n",
       "229          50  Great  \n",
       "230          50  Great  \n",
       "231          50  Great  \n",
       "232          50  Great  \n",
       "233          50  Great  \n",
       "\n",
       "[234 rows x 19 columns]"
      ]
     },
     "execution_count": 46,
     "metadata": {},
     "output_type": "execute_result"
    }
   ],
   "source": [
    "wd"
   ]
  }
 ],
 "metadata": {
  "kernelspec": {
   "display_name": "data-science-env",
   "language": "python",
   "name": "python3"
  },
  "language_info": {
   "codemirror_mode": {
    "name": "ipython",
    "version": 3
   },
   "file_extension": ".py",
   "mimetype": "text/x-python",
   "name": "python",
   "nbconvert_exporter": "python",
   "pygments_lexer": "ipython3",
   "version": "3.12.6"
  }
 },
 "nbformat": 4,
 "nbformat_minor": 2
}
